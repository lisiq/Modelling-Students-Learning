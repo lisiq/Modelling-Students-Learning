{
 "cells": [
  {
   "cell_type": "code",
   "execution_count": 1,
   "id": "02b1bbce",
   "metadata": {
    "tags": [
     "parameters"
    ]
   },
   "outputs": [],
   "source": [
    "TEST = True\n",
    "DROPNA = True\n",
    "NSUBS = 10000\n",
    "TESTSUBS = 10000\n",
    "MINSTUDENTS = 30\n",
    "MINITEMS = 30"
   ]
  },
  {
   "cell_type": "code",
   "execution_count": 2,
   "id": "5f844ff7",
   "metadata": {},
   "outputs": [],
   "source": [
    "import pyreadr\n",
    "import os\n",
    "import pandas as pd\n",
    "from datetime import datetime\n",
    "import numpy as np\n",
    "from utils import mymode\n",
    "from sklearn.preprocessing import LabelEncoder\n",
    "import matplotlib.pyplot as plt"
   ]
  },
  {
   "cell_type": "markdown",
   "id": "3ff5707e",
   "metadata": {},
   "source": [
    "Definitions"
   ]
  },
  {
   "cell_type": "markdown",
   "id": "3cd56593",
   "metadata": {},
   "source": [
    "COLS = [\n",
    "    'studentId',\n",
    "    'assessmentId',\n",
    "    'class',\n",
    "    'code',\n",
    "    'grade',\n",
    "    'Gender',\n",
    "    'candidateResponses',\n",
    "    'useCase',\n",
    "    'motherTongue',\n",
    "    'age',\n",
    "    'scale',\n",
    "    'timestamp',\n",
    "    'timestamp_2',\n",
    "    'timeOpened',\n",
    "    'timeClosed',\n",
    "    'viewingTime',\n",
    "    'matrix',\n",
    "    'IRT_difficulty',\n",
    "    'score'\n",
    "  ]\n"
   ]
  },
  {
   "cell_type": "code",
   "execution_count": 3,
   "id": "53e952e2",
   "metadata": {},
   "outputs": [],
   "source": [
    "STUDENT_COLS = ['studentId', 'motherTongue', 'Gender']\n",
    "ITEM_COLS = ['code', 'scale', 'matrix', 'IRT_difficulty', 'topic', 'responseformat', 'textlength']\n",
    "EDGE_COLS = ['score', 'age', 'grade', 'viewingTime', 'timestamp', 'useCase', 'assessmentId'] #, 'timestamp'\n",
    "\n",
    "MAINCOLS = ['studentId', 'motherTongue', 'Gender', 'code', 'scale', 'score', 'age', 'grade'] \n",
    "\n",
    "DATA_PATH = './data/dd_2023_Jan_valid_parameters.rds'\n",
    "TEST_PATH = './data/dd_2023_Jan_valid_test_%d.csv'%TESTSUBS\n",
    "#TEST_PATH = './data/dd_2023_Jan_valid_test_5000.csv'"
   ]
  },
  {
   "cell_type": "markdown",
   "id": "0d51b153",
   "metadata": {},
   "source": [
    "Load and prepare data"
   ]
  },
  {
   "cell_type": "code",
   "execution_count": 4,
   "id": "ebb18211",
   "metadata": {},
   "outputs": [
    {
     "name": "stdout",
     "output_type": "stream",
     "text": [
      "Index(['Unnamed: 0', 'code', 'grade', 'studentId', 'assessmentId', 'class',\n",
      "       'Gender', 'candidateResponses', 'useCase', 'motherTongue', 'age',\n",
      "       'scale', 'timestamp', 'timeOpened', 'timeClosed', 'viewingTime',\n",
      "       'itemOrder', 'score', 'ILZ_D', 'ILZ_E', 'ILZ_F', 'ILZ_MA', 'ILZ_N',\n",
      "       'date', 'year', 'IRT_difficulty', 'discrimination', 'matrix', 'topic',\n",
      "       'task_type', 'item_type', 'difficulty', 'responseformat',\n",
      "       'numberofchoices', 'audiolength', 'textlength', 'nchar', 'nwords',\n",
      "       'day'],\n",
      "      dtype='object')\n",
      "Index(['Unnamed: 0', 'code', 'grade', 'studentId', 'assessmentId', 'class',\n",
      "       'Gender', 'candidateResponses', 'useCase', 'motherTongue', 'age',\n",
      "       'scale', 'timestamp', 'timeOpened', 'timeClosed', 'viewingTime',\n",
      "       'itemOrder', 'score', 'ILZ_D', 'ILZ_E', 'ILZ_F', 'ILZ_MA', 'ILZ_N',\n",
      "       'date', 'year', 'IRT_difficulty', 'discrimination', 'matrix', 'topic',\n",
      "       'task_type', 'item_type', 'difficulty', 'responseformat',\n",
      "       'numberofchoices', 'audiolength', 'textlength', 'nchar', 'nwords',\n",
      "       'day'],\n",
      "      dtype='object')\n",
      "(3409454, 39)\n",
      "Unnamed: 0                  0\n",
      "code                        0\n",
      "grade                       0\n",
      "studentId                   0\n",
      "assessmentId                0\n",
      "class                       0\n",
      "Gender                  75714\n",
      "candidateResponses          0\n",
      "useCase                     0\n",
      "motherTongue            75714\n",
      "age                         0\n",
      "scale                       0\n",
      "timestamp                   0\n",
      "timeOpened            1163591\n",
      "timeClosed            1143540\n",
      "viewingTime            182359\n",
      "itemOrder              182341\n",
      "score                       0\n",
      "ILZ_D                   75714\n",
      "ILZ_E                   75714\n",
      "ILZ_F                   75714\n",
      "ILZ_MA                  75714\n",
      "ILZ_N                   75714\n",
      "date                        0\n",
      "year                        0\n",
      "IRT_difficulty        1187549\n",
      "discrimination        1187549\n",
      "matrix                1187549\n",
      "topic                 1187549\n",
      "task_type              771310\n",
      "item_type             3339987\n",
      "difficulty             805170\n",
      "responseformat         956611\n",
      "numberofchoices       2370029\n",
      "audiolength           3395274\n",
      "textlength            3402042\n",
      "nchar                  750199\n",
      "nwords                 750199\n",
      "day                         0\n",
      "dtype: int64\n"
     ]
    }
   ],
   "source": [
    "if not TEST:\n",
    "    rds = pyreadr.read_r(DATA_PATH)\n",
    "    df = rds[None] \n",
    "    print(df.shape)\n",
    "    studentIds = np.random.choice(df['studentId'].unique(), TESTSUBS, replace=False)\n",
    "    df_sel = df.loc[df.studentId.isin(studentIds)]\n",
    "    df_sel.to_csv(TEST_PATH)\n",
    "else:\n",
    "    df = pd.read_csv(TEST_PATH, low_memory=False)\n",
    "\n",
    "try:\n",
    "    df['day'] = df['date'].dt.strftime('%Y-%m-%d')        \n",
    "except:\n",
    "    df['day'] = df['date'].apply(lambda x: datetime.strptime(x, '%Y-%m-%d %H:%M:%S').strftime('%Y-%m-%d'))\n",
    "            \n",
    "print(df.columns)\n",
    "#df['day'] = df['date'].dt.strftime('%Y-%m-%d')\n",
    "\n",
    "#df['timestamp'] = df['timestamp_2'].apply(lambda x: datetime.strptime(x, '%d.%m.%Y %H:%M:%S').strftime('%Y-%m-%d %H:%M:%S'))\n",
    "#df = df.sort_values(by=['studentId', 'assessmentId', 'timestamp'])\n",
    "#df_grouped = df.groupby(by=['studentId', 'assessmentId'])['timestamp'].nunique()\n",
    "#print((df_grouped > 1).mean())\n",
    "#df['code_previous'] = df.groupby('studentId')['code'].transform(lambda x: x.shift(1))\n",
    "#print(df.head(20))\n",
    "print(df.columns)\n",
    "print(df.shape)\n",
    "print(df.isnull().sum())"
   ]
  },
  {
   "cell_type": "code",
   "execution_count": 5,
   "id": "3865d898",
   "metadata": {},
   "outputs": [
    {
     "data": {
      "image/png": "[encoded data removed]",
      "text/plain": [
       "<Figure size 640x480 with 1 Axes>"
      ]
     },
     "metadata": {},
     "output_type": "display_data"
    }
   ],
   "source": [
    "%matplotlib inline\n",
    "df.grade.plot.hist()\n",
    "plt.show()"
   ]
  },
  {
   "cell_type": "code",
   "execution_count": 6,
   "id": "ddf4cdfe",
   "metadata": {},
   "outputs": [
    {
     "name": "stdout",
     "output_type": "stream",
     "text": [
      "['studentId', 'motherTongue', 'Gender', 'code', 'scale', 'matrix', 'IRT_difficulty', 'topic', 'responseformat', 'textlength', 'score', 'age', 'grade', 'viewingTime', 'timestamp', 'useCase', 'assessmentId', 'ability']\n"
     ]
    }
   ],
   "source": [
    "# Add abilities\n",
    "MS_PATH = './data/abilities_2pl.rda'\n",
    "rds = pyreadr.read_r(MS_PATH)\n",
    "df_abilities = rds['abilities']\n",
    "df_abilities['studentId'] = df_abilities['studentId'].astype(int)\n",
    "df_abilities = df_abilities.rename(columns={'Ability': 'ability', 'Scale':'scale'})\n",
    "df_abilities = df_abilities.loc[df_abilities.model == 'all_2_studentId_personpreds_itempreds_excludeBadSessions_onlyClosed']\n",
    "df_abilities['day'] = df_abilities['timestamp'].dt.strftime('%Y-%m-%d')\n",
    "df_abilities = df_abilities[['studentId', 'day', 'scale', 'ability']]\n",
    "\n",
    "df.set_index(['studentId', 'scale', 'day'], inplace=True)\n",
    "df_abilities.set_index(['studentId', 'scale', 'day'], inplace=True)\n",
    "df = df.join(df_abilities, how='left').reset_index()\n",
    "#df = df.merge(df_abilities, on=['studentId', 'scale', 'day'], how='left').reset_index()\n",
    "EDGE_COLS = EDGE_COLS + ['ability']\n",
    "COLS = STUDENT_COLS + ITEM_COLS + EDGE_COLS\n",
    "\n",
    "print(COLS)"
   ]
  },
  {
   "cell_type": "code",
   "execution_count": null,
   "id": "0e156440",
   "metadata": {},
   "outputs": [],
   "source": [
    "# student attributes    \n",
    "df_student = df[STUDENT_COLS].groupby(by=['studentId']).agg(mymode).reset_index() \n",
    "\n",
    "# item attributes\n",
    "df_item = df[ITEM_COLS].groupby(by=['code']).agg(mymode).reset_index()\n",
    "\n",
    "#df = df.merge(df_student, on='studentId', suffixes = ('_x', ''))\n",
    "\n",
    "df.set_index('studentId', inplace=True)\n",
    "df_student.set_index('studentId', inplace=True)\n",
    "df = df.join(df_student, how='inner', lsuffix ='_x').reset_index()"
   ]
  },
  {
   "cell_type": "code",
   "execution_count": null,
   "id": "27e26e13",
   "metadata": {},
   "outputs": [],
   "source": [
    "df.columns"
   ]
  },
  {
   "cell_type": "code",
   "execution_count": null,
   "id": "5de8f2dc",
   "metadata": {},
   "outputs": [],
   "source": [
    "if DROPNA:\n",
    "    df = df[COLS].dropna(subset=MAINCOLS).reset_index()\n",
    "#print(df.shape)\n",
    "print(df.isnull().sum())"
   ]
  },
  {
   "cell_type": "code",
   "execution_count": null,
   "id": "d2536e61",
   "metadata": {},
   "outputs": [],
   "source": [
    "df_aux = df.drop(columns=['index']).drop_duplicates(['studentId', 'assessmentId']).sort_values(['studentId', 'timestamp'], ascending=True)\n",
    "#previous_timestamps = df_aux.groupby(['studentId']).cumcount().reset_index()\n",
    "df_aux['previous_sessions'] = df_aux.set_index(['studentId']).groupby(level=[0]).cumcount().values\n",
    "df_aux['years_from_start'] = df_aux.groupby('studentId', group_keys=False).age.apply(lambda x: x - x.min()).values\n",
    "df_aux['pace'] = df_aux['years_from_start']/(df_aux['previous_sessions'] + 1e-6)\n",
    "df_aux['frequency'] = 1/(df_aux['pace'] + 1e-6)"
   ]
  },
  {
   "cell_type": "code",
   "execution_count": null,
   "id": "f15a453d",
   "metadata": {},
   "outputs": [],
   "source": [
    "df.set_index(['studentId', 'assessmentId'], inplace=True)\n",
    "df_aux.set_index(['studentId', 'assessmentId'], inplace=True)\n",
    "df = df.join(df_aux[['frequency', 'previous_sessions', 'years_from_start']], how='left').reset_index()\n",
    "EDGE_COLS = EDGE_COLS + ['frequency', 'previous_sessions', 'years_from_start']\n",
    "COLS = STUDENT_COLS + ITEM_COLS + EDGE_COLS"
   ]
  },
  {
   "cell_type": "code",
   "execution_count": null,
   "id": "3bb56167",
   "metadata": {},
   "outputs": [],
   "source": [
    "df.head()"
   ]
  },
  {
   "cell_type": "code",
   "execution_count": null,
   "id": "425429d2",
   "metadata": {},
   "outputs": [],
   "source": [
    "# matrize or topics sampling \n",
    "# sample one case which has \n",
    "\n",
    "def sample_group(df, columns):\n",
    "    print(\"* Sampling group\")\n",
    "    if columns == []:\n",
    "        return df\n",
    "    columns = ['studentId','assessmentId'] + columns\n",
    "    df = df.groupby(by=columns).sample(1).reset_index()\n",
    "    print(df.shape)\n",
    "    return df\n",
    "\n",
    "def remove_min(df, MINSTUDENTS, MINITEMS, nsubs=0, balanced=True):\n",
    "    print(\"* Removing min\")\n",
    "    print(df.shape)\n",
    "    # remove items with too few students\n",
    "    df_student_item = df[['studentId', 'code']].drop_duplicates()\n",
    "\n",
    "    nstudents = df_student_item.groupby('code').count()\n",
    "    items_enough_students = nstudents.index[nstudents.studentId > MINSTUDENTS].tolist()\n",
    "\n",
    "    df = df.loc[df.code.isin(items_enough_students)]\n",
    "\n",
    "    # remove students with too few items\n",
    "    df_student_item = df[['studentId', 'code']].drop_duplicates()\n",
    "\n",
    "    nitems = df_student_item.groupby('studentId').count()\n",
    "    students_enough_items = nitems.index[nitems.code > MINITEMS].tolist()\n",
    "\n",
    "    df = df.loc[df.studentId.isin(students_enough_items)]\n",
    "    \n",
    "    if nsubs > 0:\n",
    "        if balanced:\n",
    "            n_grades = df['grade'].nunique()\n",
    "            df_list = []\n",
    "            for grade in df['grade'].unique():\n",
    "                df_grade = df.loc[df.grade == grade]['studentId'].unique()\n",
    "                n_subs_grade = np.minimum(nsubs//n_grades, len(df_grade))                 \n",
    "                studentIds = np.random.choice(df_grade, n_subs_grade, replace=False)    \n",
    "                df_list.append(df.loc[df.studentId.isin(studentIds)])\n",
    "                \n",
    "            df = pd.concat(df_list)\n",
    "        \n",
    "        else:\n",
    "            studentIds = np.random.choice(df['studentId'].unique(), nsubs, replace=False)\n",
    "            df = df.loc[df.studentId.isin(studentIds)]\n",
    "            \n",
    "    print(df.columns)\n",
    "    print(df.studentId.nunique())\n",
    "    print(df.matrix.nunique())\n",
    "    print(df.topic.nunique())    \n",
    "    print(df.shape)\n",
    "    return df\n",
    "        \n",
    "def get_attributes(df):\n",
    "    print(\"* Getting attributes\")\n",
    "    # edge attributes\n",
    "    df_edge = df[COLS].groupby(by=['studentId', 'code']).agg(mymode).reset_index() \n",
    "\n",
    "    # student attributes    \n",
    "    df_student = df[STUDENT_COLS].loc[df.studentId.isin(df_edge.studentId)].groupby(by=['studentId']).agg(mymode).reset_index() \n",
    "\n",
    "    # item attributes\n",
    "    df_item = df[ITEM_COLS].loc[df.code.isin(df_edge.code)].groupby(by=['code']).agg(mymode).reset_index()\n",
    "    \n",
    "    df_edge = df[COLS].groupby(by=['studentId', 'code']).agg(mymode).reset_index()\n",
    "    \n",
    "    # recode\n",
    "    le_student = LabelEncoder()\n",
    "    le_item = LabelEncoder()\n",
    "\n",
    "    le_student.fit(df_student['studentId'])\n",
    "    le_item.fit(df_item['code'])\n",
    "\n",
    "    df_edge['studentId'] = le_student.transform(df_edge['studentId'])\n",
    "    df_edge['code'] = le_item.transform(df_edge['code'])\n",
    "\n",
    "    df_student['studentId'] = le_student.transform(df_student['studentId'])\n",
    "    df_item['code'] = le_item.transform(df_item['code'])\n",
    "        \n",
    "    print(df_student)\n",
    "    print(df_item)\n",
    "    print(df_edge)\n",
    "    \n",
    "    return df_edge, df_item, df_student\n",
    "\n",
    "def process_data(df, columns, OUT_PATH, NSUBS=0):    \n",
    "    if columns == []:\n",
    "        suffix = 'full'\n",
    "    else:\n",
    "        suffix = '_'.join(columns)\n",
    "        \n",
    "    if NSUBS > 0:\n",
    "        suffix = suffix + f\"_{NSUBS}\"\n",
    "    \n",
    "    #print(df)\n",
    "    df = sample_group(df, columns)\n",
    "    df = remove_min(df, MINSTUDENTS, MINITEMS, NSUBS)\n",
    "    df_edge, df_item, df_student = get_attributes(df)\n",
    "    \n",
    "    plt.figure()\n",
    "    df_edge.grade.plot.hist()\n",
    "    plt.show()\n",
    "    \n",
    "    df_edge.to_csv(f\"{OUT_PATH}_{suffix}.csv\")\n",
    "    print(f\"Saving to {OUT_PATH}_{suffix}.csv\")\n",
    "    "
   ]
  },
  {
   "cell_type": "code",
   "execution_count": null,
   "id": "5de941ed",
   "metadata": {},
   "outputs": [],
   "source": [
    "%matplotlib inline\n",
    "    \n",
    "OUT_PATH = './data/mindsteps_set'\n",
    "\n",
    "process_data(df, [], OUT_PATH)\n",
    "process_data(df, ['topic'], OUT_PATH)\n",
    "process_data(df, ['matrix'], OUT_PATH)\n",
    "#process_data(df, ['matrix','topic'], OUT_PATH)\n",
    "\n",
    "#if TEST:\n",
    "#    OUT_PATH = OUT_PATH + '_test'\n",
    "#else:\n",
    "#    process_data(df, [], OUT_PATH, NSUBS)\n",
    "#    process_data(df, ['topic'], OUT_PATH, NSUBS)\n",
    "#    process_data(df, ['matrix'], OUT_PATH, NSUBS)\n",
    "#    process_data(df, ['matrix','topic'], OUT_PATH, NSUBS)"
   ]
  }
 ],
 "metadata": {
  "celltoolbar": "Tags",
  "kernelspec": {
   "display_name": "Python 3 (ipykernel)",
   "language": "python",
   "name": "python3"
  },
  "language_info": {
   "codemirror_mode": {
    "name": "ipython",
    "version": 3
   },
   "file_extension": ".py",
   "mimetype": "text/x-python",
   "name": "python",
   "nbconvert_exporter": "python",
   "pygments_lexer": "ipython3",
   "version": "3.8.13"
  }
 },
 "nbformat": 4,
 "nbformat_minor": 5
}
