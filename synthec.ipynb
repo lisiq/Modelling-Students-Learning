{
 "cells": [
  {
   "cell_type": "code",
   "execution_count": 4,
   "metadata": {},
   "outputs": [],
   "source": [
    "import torch\n",
    "import pandas as pd\n",
    "import numpy as np\n",
    "from tqdm.notebook import tqdm\n",
    "from manage_experiments import *\n",
    "\n",
    "from utils import generate_data_object_synthetic"
   ]
  },
  {
   "cell_type": "code",
   "execution_count": 5,
   "metadata": {},
   "outputs": [],
   "source": [
    "parameters = {\n",
    "    \"hidden_dims\": [16, 8],\n",
    "    'model_type': \"GNN\",\n",
    "    \"df_name\": \"synthetic.salamoia\",\n",
    "    \"method\": \"EdgeClassifier\",\n",
    "    \"epochs\": 10000,\n",
    "    \"learning_rate\": 0.005,\n",
    "    \"weight_decay\": 0,\n",
    "    \"dropout\": 0.4,\n",
    "    \"early_stopping\": 200,\n",
    "    \"n_splits\": 3,\n",
    "    \"device\": \"cuda\",\n",
    "    \"done\": False,\n",
    "    \"batch_size\":128,\n",
    "    'n_students' :720, # 72% of nodes were students\n",
    "    'n_tasks':280,\n",
    "    'max_n_tasks_per_student':280, \n",
    "    'min_n_tasks_per_student':5,\n",
    "    'step_n_tasks_per_student':10,\n",
    "    'error_proness_denom':3,\n",
    "    'probabilistic':1,\n",
    "    'number_of_tasks_per_students_is_max':0\n",
    "    #\n",
    "    }"
   ]
  },
  {
   "cell_type": "code",
   "execution_count": 6,
   "metadata": {},
   "outputs": [
    {
     "name": "stdout",
     "output_type": "stream",
     "text": [
      "WARNING: running with a fixed random state\n"
     ]
    },
    {
     "name": "stderr",
     "output_type": "stream",
     "text": [
      "0it [00:00, ?it/s]"
     ]
    },
    {
     "name": "stderr",
     "output_type": "stream",
     "text": [
      "\n",
      "\u001b[A\n",
      "100%|██████████| 6/6 [00:02<00:00,  2.11it/s]\n"
     ]
    },
    {
     "name": "stdout",
     "output_type": "stream",
     "text": [
      "\n",
      "Epoch: 001, Loss: 0.7044, Val: 0.5055, Test: 0.5025\n"
     ]
    },
    {
     "name": "stderr",
     "output_type": "stream",
     "text": [
      "\n",
      "100%|██████████| 6/6 [00:00<00:00, 80.88it/s]\n"
     ]
    },
    {
     "name": "stdout",
     "output_type": "stream",
     "text": [
      "\n",
      "Epoch: 002, Loss: 0.6698, Val: 0.5276, Test: 0.5030\n"
     ]
    },
    {
     "name": "stderr",
     "output_type": "stream",
     "text": [
      "\n",
      "100%|██████████| 6/6 [00:00<00:00, 65.36it/s]\n"
     ]
    },
    {
     "name": "stdout",
     "output_type": "stream",
     "text": [
      "\n",
      "Epoch: 003, Loss: 0.6520, Val: 0.5327, Test: 0.5360\n"
     ]
    },
    {
     "name": "stderr",
     "output_type": "stream",
     "text": [
      "\n",
      "100%|██████████| 6/6 [00:00<00:00, 85.45it/s]\n"
     ]
    },
    {
     "name": "stdout",
     "output_type": "stream",
     "text": [
      "\n",
      "Epoch: 004, Loss: 0.6300, Val: 0.5394, Test: 0.5362\n"
     ]
    },
    {
     "name": "stderr",
     "output_type": "stream",
     "text": [
      "\n",
      "100%|██████████| 6/6 [00:00<00:00, 72.16it/s]\n"
     ]
    },
    {
     "name": "stdout",
     "output_type": "stream",
     "text": [
      "\n",
      "Epoch: 005, Loss: 0.5792, Val: 0.5525, Test: 0.5657\n"
     ]
    },
    {
     "name": "stderr",
     "output_type": "stream",
     "text": [
      "\n",
      "100%|██████████| 6/6 [00:00<00:00, 75.33it/s]\n"
     ]
    },
    {
     "name": "stdout",
     "output_type": "stream",
     "text": [
      "\n",
      "Epoch: 006, Loss: 0.5215, Val: 0.5675, Test: 0.5732\n"
     ]
    },
    {
     "name": "stderr",
     "output_type": "stream",
     "text": [
      "\n",
      "100%|██████████| 6/6 [00:00<00:00, 84.13it/s]\n"
     ]
    },
    {
     "name": "stdout",
     "output_type": "stream",
     "text": [
      "\n",
      "Epoch: 007, Loss: 0.4793, Val: 0.5696, Test: 0.5528\n"
     ]
    },
    {
     "name": "stderr",
     "output_type": "stream",
     "text": [
      "\n",
      "100%|██████████| 6/6 [00:00<00:00, 81.41it/s]\n"
     ]
    },
    {
     "name": "stdout",
     "output_type": "stream",
     "text": [
      "\n",
      "Epoch: 008, Loss: 0.4196, Val: 0.5866, Test: 0.5659\n"
     ]
    },
    {
     "name": "stderr",
     "output_type": "stream",
     "text": [
      "\n",
      "100%|██████████| 6/6 [00:00<00:00, 78.74it/s]\n"
     ]
    },
    {
     "name": "stdout",
     "output_type": "stream",
     "text": [
      "\n",
      "Epoch: 009, Loss: 0.3616, Val: 0.5951, Test: 0.5804\n"
     ]
    },
    {
     "name": "stderr",
     "output_type": "stream",
     "text": [
      "\n",
      "100%|██████████| 6/6 [00:00<00:00, 86.76it/s]\n"
     ]
    },
    {
     "name": "stdout",
     "output_type": "stream",
     "text": [
      "\n",
      "Epoch: 010, Loss: 0.3268, Val: 0.6037, Test: 0.5767\n"
     ]
    },
    {
     "name": "stderr",
     "output_type": "stream",
     "text": [
      "\n",
      "100%|██████████| 6/6 [00:00<00:00, 84.86it/s]\n"
     ]
    },
    {
     "name": "stdout",
     "output_type": "stream",
     "text": [
      "\n",
      "Epoch: 011, Loss: 0.2973, Val: 0.6058, Test: 0.5650\n"
     ]
    },
    {
     "name": "stderr",
     "output_type": "stream",
     "text": [
      "\n",
      "100%|██████████| 6/6 [00:00<00:00, 79.73it/s]\n"
     ]
    },
    {
     "name": "stdout",
     "output_type": "stream",
     "text": [
      "\n",
      "Epoch: 012, Loss: 0.2985, Val: 0.6080, Test: 0.5650\n"
     ]
    },
    {
     "name": "stderr",
     "output_type": "stream",
     "text": [
      "\n",
      "100%|██████████| 6/6 [00:00<00:00, 76.22it/s]\n",
      "\n",
      "100%|██████████| 6/6 [00:00<00:00, 79.77it/s]\n",
      "\n",
      "100%|██████████| 6/6 [00:00<00:00, 82.44it/s]\n",
      "\n",
      "100%|██████████| 6/6 [00:00<00:00, 88.00it/s]\n",
      "\n",
      "100%|██████████| 6/6 [00:00<00:00, 90.65it/s]\n",
      "\n",
      "100%|██████████| 6/6 [00:00<00:00, 79.27it/s]\n",
      "\n",
      "100%|██████████| 6/6 [00:00<00:00, 101.38it/s]\n"
     ]
    },
    {
     "name": "stdout",
     "output_type": "stream",
     "text": [
      "\n",
      "Epoch: 019, Loss: 0.1771, Val: 0.6102, Test: 0.5804\n"
     ]
    },
    {
     "name": "stderr",
     "output_type": "stream",
     "text": [
      "\n",
      "100%|██████████| 6/6 [00:00<00:00, 89.57it/s]\n"
     ]
    },
    {
     "name": "stdout",
     "output_type": "stream",
     "text": [
      "\n",
      "Epoch: 020, Loss: 0.1864, Val: 0.6123, Test: 0.5822\n"
     ]
    },
    {
     "name": "stderr",
     "output_type": "stream",
     "text": [
      "\n",
      "100%|██████████| 6/6 [00:00<00:00, 85.38it/s]\n",
      "\n",
      "100%|██████████| 6/6 [00:00<00:00, 81.39it/s]\n",
      "\n",
      "100%|██████████| 6/6 [00:00<00:00, 101.40it/s]\n",
      "\n",
      "100%|██████████| 6/6 [00:00<00:00, 80.90it/s]\n",
      "\n",
      "100%|██████████| 6/6 [00:00<00:00, 87.99it/s]\n",
      "\n",
      "100%|██████████| 6/6 [00:00<00:00, 98.08it/s]\n"
     ]
    },
    {
     "name": "stdout",
     "output_type": "stream",
     "text": [
      "\n",
      "Epoch: 026, Loss: 0.1797, Val: 0.6145, Test: 0.5834\n"
     ]
    },
    {
     "name": "stderr",
     "output_type": "stream",
     "text": [
      "\n",
      "100%|██████████| 6/6 [00:00<00:00, 71.99it/s]\n",
      "\n",
      "100%|██████████| 6/6 [00:00<00:00, 86.09it/s]\n",
      "\n",
      "100%|██████████| 6/6 [00:00<00:00, 84.87it/s]\n"
     ]
    },
    {
     "name": "stdout",
     "output_type": "stream",
     "text": [
      "\n",
      "Epoch: 029, Loss: 0.1762, Val: 0.6146, Test: 0.5851\n"
     ]
    },
    {
     "name": "stderr",
     "output_type": "stream",
     "text": [
      "\n",
      "100%|██████████| 6/6 [00:00<00:00, 94.98it/s]\n",
      "\n",
      "100%|██████████| 6/6 [00:00<00:00, 95.52it/s]\n"
     ]
    },
    {
     "name": "stdout",
     "output_type": "stream",
     "text": [
      "\n",
      "Epoch: 031, Loss: 0.1651, Val: 0.6167, Test: 0.5880\n"
     ]
    },
    {
     "name": "stderr",
     "output_type": "stream",
     "text": [
      "\n",
      "100%|██████████| 6/6 [00:00<00:00, 88.53it/s]\n"
     ]
    },
    {
     "name": "stdout",
     "output_type": "stream",
     "text": [
      "\n",
      "Epoch: 032, Loss: 0.1767, Val: 0.6274, Test: 0.5831\n"
     ]
    },
    {
     "name": "stderr",
     "output_type": "stream",
     "text": [
      "\n",
      "100%|██████████| 6/6 [00:00<00:00, 108.38it/s]\n",
      "\n",
      "100%|██████████| 6/6 [00:00<00:00, 94.19it/s]\n",
      "\n",
      "100%|██████████| 6/6 [00:00<00:00, 101.42it/s]\n",
      "\n",
      "100%|██████████| 6/6 [00:00<00:00, 98.04it/s]\n",
      "\n",
      "100%|██████████| 6/6 [00:00<00:00, 95.70it/s]\n",
      "\n",
      "100%|██████████| 6/6 [00:00<00:00, 102.52it/s]\n",
      "\n",
      "100%|██████████| 6/6 [00:00<00:00, 97.98it/s]\n",
      "\n",
      "100%|██████████| 6/6 [00:00<00:00, 102.76it/s]\n",
      "\n",
      "100%|██████████| 6/6 [00:00<00:00, 85.99it/s]\n",
      "\n",
      "100%|██████████| 6/6 [00:00<00:00, 94.96it/s]\n",
      "\n",
      "100%|██████████| 6/6 [00:00<00:00, 117.16it/s]\n",
      "\n",
      "100%|██████████| 6/6 [00:00<00:00, 107.00it/s]\n",
      "\n",
      "100%|██████████| 6/6 [00:00<00:00, 95.46it/s]\n",
      "\n",
      "100%|██████████| 6/6 [00:00<00:00, 96.64it/s]\n",
      "\n",
      "100%|██████████| 6/6 [00:00<00:00, 107.62it/s]\n",
      "\n",
      "100%|██████████| 6/6 [00:00<00:00, 103.13it/s]\n",
      "\n",
      "100%|██████████| 6/6 [00:00<00:00, 106.20it/s]\n",
      "\n",
      "100%|██████████| 6/6 [00:00<00:00, 108.91it/s]\n",
      "\n",
      "100%|██████████| 6/6 [00:00<00:00, 111.06it/s]\n",
      "\n",
      "100%|██████████| 6/6 [00:00<00:00, 113.00it/s]\n",
      "\n",
      "100%|██████████| 6/6 [00:00<00:00, 106.80it/s]\n",
      "\n",
      "100%|██████████| 6/6 [00:00<00:00, 100.32it/s]\n",
      "\n",
      "100%|██████████| 6/6 [00:00<00:00, 82.57it/s]\n",
      "\n",
      "100%|██████████| 6/6 [00:00<00:00, 113.99it/s]\n",
      "\n",
      "100%|██████████| 6/6 [00:00<00:00, 85.45it/s]\n",
      "\n",
      "100%|██████████| 6/6 [00:00<00:00, 110.97it/s]\n",
      "\n",
      "100%|██████████| 6/6 [00:00<00:00, 101.53it/s]\n",
      "\n",
      "100%|██████████| 6/6 [00:00<00:00, 89.98it/s]\n",
      "\n",
      "100%|██████████| 6/6 [00:00<00:00, 84.30it/s]\n",
      "\n",
      "100%|██████████| 6/6 [00:00<00:00, 98.06it/s]\n",
      "\n",
      "100%|██████████| 6/6 [00:00<00:00, 103.98it/s]\n",
      "\n",
      "100%|██████████| 6/6 [00:00<00:00, 108.24it/s]\n",
      "\n",
      "100%|██████████| 6/6 [00:00<00:00, 100.62it/s]\n",
      "\n",
      "100%|██████████| 6/6 [00:00<00:00, 99.58it/s]\n",
      "\n",
      "100%|██████████| 6/6 [00:00<00:00, 113.06it/s]\n",
      "\n",
      "100%|██████████| 6/6 [00:00<00:00, 88.12it/s]\n",
      "\n",
      "100%|██████████| 6/6 [00:00<00:00, 84.19it/s]\n",
      "\n",
      "100%|██████████| 6/6 [00:00<00:00, 109.50it/s]\n",
      "\n",
      "100%|██████████| 6/6 [00:00<00:00, 110.11it/s]\n",
      "\n",
      "100%|██████████| 6/6 [00:00<00:00, 108.84it/s]\n",
      "\n",
      "100%|██████████| 6/6 [00:00<00:00, 104.95it/s]\n",
      "\n",
      "100%|██████████| 6/6 [00:00<00:00, 117.09it/s]\n",
      "\n",
      "100%|██████████| 6/6 [00:00<00:00, 104.99it/s]\n",
      "\n",
      "100%|██████████| 6/6 [00:00<00:00, 85.32it/s]\n",
      "\n",
      "100%|██████████| 6/6 [00:00<00:00, 103.41it/s]\n",
      "\n",
      "100%|██████████| 6/6 [00:00<00:00, 110.02it/s]\n",
      "\n",
      "100%|██████████| 6/6 [00:00<00:00, 108.89it/s]\n",
      "\n",
      "100%|██████████| 6/6 [00:00<00:00, 115.20it/s]\n",
      "\n",
      "100%|██████████| 6/6 [00:00<00:00, 110.77it/s]\n",
      "\n",
      "100%|██████████| 6/6 [00:00<00:00, 106.56it/s]\n",
      "\n",
      "100%|██████████| 6/6 [00:00<00:00, 83.04it/s]\n",
      "\n",
      "100%|██████████| 6/6 [00:00<00:00, 107.50it/s]\n",
      "\n",
      "100%|██████████| 6/6 [00:00<00:00, 107.72it/s]\n",
      "\n",
      "100%|██████████| 6/6 [00:00<00:00, 106.55it/s]\n",
      "\n",
      "100%|██████████| 6/6 [00:00<00:00, 87.32it/s]\n",
      "\n",
      "100%|██████████| 6/6 [00:00<00:00, 100.51it/s]\n",
      "\n",
      "100%|██████████| 6/6 [00:00<00:00, 99.77it/s]\n",
      "\n",
      "100%|██████████| 6/6 [00:00<00:00, 102.83it/s]\n",
      "\n",
      "100%|██████████| 6/6 [00:00<00:00, 106.70it/s]\n",
      "\n",
      "100%|██████████| 6/6 [00:00<00:00, 98.79it/s]\n",
      "\n",
      "100%|██████████| 6/6 [00:00<00:00, 94.87it/s]\n",
      "\n",
      "100%|██████████| 6/6 [00:00<00:00, 96.60it/s]\n",
      "\n",
      "100%|██████████| 6/6 [00:00<00:00, 93.28it/s]\n",
      "\n",
      "100%|██████████| 6/6 [00:00<00:00, 89.81it/s]\n",
      "\n",
      "100%|██████████| 6/6 [00:00<00:00, 78.16it/s]\n",
      "\n",
      "100%|██████████| 6/6 [00:00<00:00, 77.17it/s]\n"
     ]
    },
    {
     "name": "stdout",
     "output_type": "stream",
     "text": [
      "\n",
      "Epoch: 098, Loss: 0.1633, Val: 0.6316, Test: 0.5917\n"
     ]
    },
    {
     "name": "stderr",
     "output_type": "stream",
     "text": [
      "\n",
      "100%|██████████| 6/6 [00:00<00:00, 89.91it/s]\n",
      "\n",
      "100%|██████████| 6/6 [00:00<00:00, 95.09it/s]\n",
      "\n",
      "100%|██████████| 6/6 [00:00<00:00, 93.48it/s]\n",
      "\n",
      "100%|██████████| 6/6 [00:00<00:00, 92.10it/s]\n",
      "\n",
      "100%|██████████| 6/6 [00:00<00:00, 91.38it/s]\n",
      "\n",
      "100%|██████████| 6/6 [00:00<00:00, 101.39it/s]\n",
      "\n",
      "100%|██████████| 6/6 [00:00<00:00, 92.02it/s]\n",
      "\n",
      "100%|██████████| 6/6 [00:00<00:00, 94.90it/s]\n",
      "\n",
      "100%|██████████| 6/6 [00:00<00:00, 91.17it/s]\n",
      "\n",
      "100%|██████████| 6/6 [00:00<00:00, 91.18it/s]\n",
      "\n",
      "100%|██████████| 6/6 [00:00<00:00, 98.94it/s]\n",
      "\n",
      "100%|██████████| 6/6 [00:00<00:00, 85.49it/s]\n",
      "\n",
      "100%|██████████| 6/6 [00:00<00:00, 90.67it/s]\n",
      "\n",
      "100%|██████████| 6/6 [00:00<00:00, 100.35it/s]\n",
      "\n",
      "100%|██████████| 6/6 [00:00<00:00, 96.61it/s]\n",
      "\n",
      "100%|██████████| 6/6 [00:00<00:00, 103.18it/s]\n",
      "\n",
      "100%|██████████| 6/6 [00:00<00:00, 85.27it/s]\n",
      "\n",
      "100%|██████████| 6/6 [00:00<00:00, 93.48it/s]\n",
      "\n",
      "100%|██████████| 6/6 [00:00<00:00, 92.62it/s]\n",
      "\n",
      "100%|██████████| 6/6 [00:00<00:00, 101.43it/s]\n",
      "\n",
      "100%|██████████| 6/6 [00:00<00:00, 92.73it/s]\n",
      "\n",
      "100%|██████████| 6/6 [00:00<00:00, 89.84it/s]\n",
      "\n",
      "100%|██████████| 6/6 [00:00<00:00, 103.30it/s]\n",
      "\n",
      "100%|██████████| 6/6 [00:00<00:00, 82.43it/s]\n",
      "\n",
      "100%|██████████| 6/6 [00:00<00:00, 105.70it/s]\n",
      "\n",
      "100%|██████████| 6/6 [00:00<00:00, 86.49it/s]\n",
      "\n",
      "100%|██████████| 6/6 [00:00<00:00, 76.23it/s]\n",
      "\n",
      "100%|██████████| 6/6 [00:00<00:00, 91.98it/s]\n",
      "\n",
      "100%|██████████| 6/6 [00:00<00:00, 92.65it/s]\n",
      "\n",
      "100%|██████████| 6/6 [00:00<00:00, 83.54it/s]\n",
      "\n",
      "100%|██████████| 6/6 [00:00<00:00, 96.34it/s]\n",
      "\n",
      "100%|██████████| 6/6 [00:00<00:00, 90.60it/s]\n",
      "\n",
      "100%|██████████| 6/6 [00:00<00:00, 96.50it/s]\n",
      "\n",
      "100%|██████████| 6/6 [00:00<00:00, 87.89it/s]\n",
      "\n",
      "100%|██████████| 6/6 [00:00<00:00, 87.82it/s]\n",
      "\n",
      "100%|██████████| 6/6 [00:00<00:00, 95.60it/s]\n",
      "\n",
      "100%|██████████| 6/6 [00:00<00:00, 101.52it/s]\n",
      "\n",
      "100%|██████████| 6/6 [00:00<00:00, 96.51it/s]\n",
      "\n",
      "100%|██████████| 6/6 [00:00<00:00, 105.87it/s]\n",
      "\n",
      "100%|██████████| 6/6 [00:00<00:00, 106.78it/s]\n",
      "\n",
      "100%|██████████| 6/6 [00:00<00:00, 97.51it/s]\n",
      "\n",
      "100%|██████████| 6/6 [00:00<00:00, 89.32it/s]\n",
      "\n",
      "100%|██████████| 6/6 [00:00<00:00, 111.23it/s]\n",
      "\n",
      "100%|██████████| 6/6 [00:00<00:00, 103.76it/s]\n",
      "\n",
      "100%|██████████| 6/6 [00:00<00:00, 102.24it/s]\n",
      "\n",
      "100%|██████████| 6/6 [00:00<00:00, 104.88it/s]\n",
      "\n",
      "100%|██████████| 6/6 [00:00<00:00, 101.53it/s]\n",
      "\n",
      "100%|██████████| 6/6 [00:00<00:00, 104.95it/s]\n",
      "\n",
      "100%|██████████| 6/6 [00:00<00:00, 106.88it/s]\n",
      "\n",
      "100%|██████████| 6/6 [00:00<00:00, 113.96it/s]\n",
      "\n",
      "100%|██████████| 6/6 [00:00<00:00, 107.72it/s]\n",
      "\n",
      "100%|██████████| 6/6 [00:00<00:00, 97.38it/s]\n",
      "\n",
      "100%|██████████| 6/6 [00:00<00:00, 76.75it/s]\n",
      "\n",
      "100%|██████████| 6/6 [00:00<00:00, 105.65it/s]\n",
      "\n",
      "100%|██████████| 6/6 [00:00<00:00, 106.01it/s]\n",
      "\n",
      "100%|██████████| 6/6 [00:00<00:00, 85.49it/s]\n",
      "\n",
      "100%|██████████| 6/6 [00:00<00:00, 109.31it/s]\n",
      "\n",
      "100%|██████████| 6/6 [00:00<00:00, 104.02it/s]\n",
      "\n",
      "100%|██████████| 6/6 [00:00<00:00, 106.71it/s]\n",
      "\n",
      "100%|██████████| 6/6 [00:00<00:00, 106.27it/s]\n",
      "\n",
      "100%|██████████| 6/6 [00:00<00:00, 103.18it/s]\n",
      "\n",
      "100%|██████████| 6/6 [00:00<00:00, 115.16it/s]\n",
      "\n",
      "100%|██████████| 6/6 [00:00<00:00, 117.26it/s]\n",
      "\n",
      "100%|██████████| 6/6 [00:00<00:00, 102.25it/s]\n",
      "\n",
      "100%|██████████| 6/6 [00:00<00:00, 93.53it/s]\n",
      "\n",
      "100%|██████████| 6/6 [00:00<00:00, 108.75it/s]\n",
      "\n",
      "100%|██████████| 6/6 [00:00<00:00, 86.73it/s]\n",
      "\n",
      "100%|██████████| 6/6 [00:00<00:00, 96.46it/s]\n",
      "\n",
      "100%|██████████| 6/6 [00:00<00:00, 85.37it/s]\n",
      "\n",
      "100%|██████████| 6/6 [00:00<00:00, 97.11it/s]\n",
      "\n",
      "100%|██████████| 6/6 [00:00<00:00, 114.73it/s]\n",
      "\n",
      "100%|██████████| 6/6 [00:00<00:00, 97.87it/s]\n",
      "\n",
      "100%|██████████| 6/6 [00:00<00:00, 94.98it/s]\n",
      "\n",
      "100%|██████████| 6/6 [00:00<00:00, 101.56it/s]\n",
      "\n",
      "100%|██████████| 6/6 [00:00<00:00, 100.49it/s]\n",
      "\n",
      "100%|██████████| 6/6 [00:00<00:00, 113.84it/s]\n",
      "\n",
      "100%|██████████| 6/6 [00:00<00:00, 97.60it/s]\n",
      "\n",
      "100%|██████████| 6/6 [00:00<00:00, 92.42it/s]\n",
      "\n",
      "100%|██████████| 6/6 [00:00<00:00, 101.42it/s]\n",
      "\n",
      "100%|██████████| 6/6 [00:00<00:00, 99.71it/s]\n",
      "\n",
      "100%|██████████| 6/6 [00:00<00:00, 103.26it/s]\n",
      "\n",
      "100%|██████████| 6/6 [00:00<00:00, 88.03it/s]\n",
      "\n",
      "100%|██████████| 6/6 [00:00<00:00, 79.25it/s]\n",
      "\n",
      "100%|██████████| 6/6 [00:00<00:00, 89.20it/s]\n",
      "\n",
      "100%|██████████| 6/6 [00:00<00:00, 96.51it/s]\n",
      "\n",
      "100%|██████████| 6/6 [00:00<00:00, 97.24it/s]\n",
      "\n",
      "100%|██████████| 6/6 [00:00<00:00, 106.65it/s]\n",
      "\n",
      "100%|██████████| 6/6 [00:00<00:00, 83.06it/s]\n",
      "\n",
      "100%|██████████| 6/6 [00:00<00:00, 87.23it/s]\n",
      "\n",
      "100%|██████████| 6/6 [00:00<00:00, 92.09it/s]\n",
      "\n",
      "100%|██████████| 6/6 [00:00<00:00, 91.09it/s]\n",
      "\n",
      "100%|██████████| 6/6 [00:00<00:00, 81.88it/s]\n",
      "\n",
      "100%|██████████| 6/6 [00:00<00:00, 94.01it/s]\n",
      "\n",
      " 67%|██████▋   | 4/6 [00:00<00:00, 82.15it/s]\n",
      "  2%|▏         | 191/10000 [00:18<15:31, 10.53it/s]\n",
      "0it [00:18, ?it/s]\n"
     ]
    },
    {
     "ename": "KeyboardInterrupt",
     "evalue": "",
     "output_type": "error",
     "traceback": [
      "\u001b[1;31m---------------------------------------------------------------------------\u001b[0m",
      "\u001b[1;31mKeyboardInterrupt\u001b[0m                         Traceback (most recent call last)",
      "\u001b[1;32mc:\\Users\\liq02qc\\Desktop\\GitHub\\Modelling-Students-Learning\\synthec.ipynb Cell 3\u001b[0m line \u001b[0;36m9\n\u001b[0;32m      <a href='vscode-notebook-cell:/c%3A/Users/liq02qc/Desktop/GitHub/Modelling-Students-Learning/synthec.ipynb#W2sZmlsZQ%3D%3D?line=0'>1</a>\u001b[0m data \u001b[39m=\u001b[39m generate_data_object_synthetic(\n\u001b[0;32m      <a href='vscode-notebook-cell:/c%3A/Users/liq02qc/Desktop/GitHub/Modelling-Students-Learning/synthec.ipynb#W2sZmlsZQ%3D%3D?line=1'>2</a>\u001b[0m         n_students \u001b[39m=\u001b[39m parameters[\u001b[39m'\u001b[39m\u001b[39mn_students\u001b[39m\u001b[39m'\u001b[39m], \n\u001b[0;32m      <a href='vscode-notebook-cell:/c%3A/Users/liq02qc/Desktop/GitHub/Modelling-Students-Learning/synthec.ipynb#W2sZmlsZQ%3D%3D?line=2'>3</a>\u001b[0m         n_tasks \u001b[39m=\u001b[39m parameters[\u001b[39m'\u001b[39m\u001b[39mn_tasks\u001b[39m\u001b[39m'\u001b[39m],\n\u001b[1;32m   (...)\u001b[0m\n\u001b[0;32m      <a href='vscode-notebook-cell:/c%3A/Users/liq02qc/Desktop/GitHub/Modelling-Students-Learning/synthec.ipynb#W2sZmlsZQ%3D%3D?line=5'>6</a>\u001b[0m         probabilistic \u001b[39m=\u001b[39m parameters[\u001b[39m'\u001b[39m\u001b[39mprobabilistic\u001b[39m\u001b[39m'\u001b[39m],\n\u001b[0;32m      <a href='vscode-notebook-cell:/c%3A/Users/liq02qc/Desktop/GitHub/Modelling-Students-Learning/synthec.ipynb#W2sZmlsZQ%3D%3D?line=6'>7</a>\u001b[0m         number_of_tasks_per_students_is_max\u001b[39m=\u001b[39mparameters[\u001b[39m'\u001b[39m\u001b[39mnumber_of_tasks_per_students_is_max\u001b[39m\u001b[39m'\u001b[39m])\n\u001b[1;32m----> <a href='vscode-notebook-cell:/c%3A/Users/liq02qc/Desktop/GitHub/Modelling-Students-Learning/synthec.ipynb#W2sZmlsZQ%3D%3D?line=8'>9</a>\u001b[0m cv_out \u001b[39m=\u001b[39m perform_cross_validation(data, parameters)\n",
      "File \u001b[1;32mc:\\Users\\liq02qc\\Desktop\\GitHub\\Modelling-Students-Learning\\manage_experiments.py:176\u001b[0m, in \u001b[0;36mperform_cross_validation\u001b[1;34m(data, parameters, save_embeddings, save_subgraph, model, final_fit)\u001b[0m\n\u001b[0;32m    173\u001b[0m early_stopping \u001b[39m=\u001b[39m \u001b[39m0\u001b[39m\n\u001b[0;32m    175\u001b[0m \u001b[39mfor\u001b[39;00m epoch \u001b[39min\u001b[39;00m tqdm(\u001b[39mrange\u001b[39m(\u001b[39m1\u001b[39m, parameters[\u001b[39m'\u001b[39m\u001b[39mepochs\u001b[39m\u001b[39m'\u001b[39m]\u001b[39m+\u001b[39m\u001b[39m1\u001b[39m)):\n\u001b[1;32m--> 176\u001b[0m     \u001b[39mfor\u001b[39;00m batch \u001b[39min\u001b[39;00m tqdm(train_loader): \n\u001b[0;32m    177\u001b[0m         batch \u001b[39m=\u001b[39m batch\u001b[39m.\u001b[39mto(device)\n\u001b[0;32m    178\u001b[0m         loss \u001b[39m=\u001b[39m train_loop(\n\u001b[0;32m    179\u001b[0m             model,\n\u001b[0;32m    180\u001b[0m             batch, \n\u001b[0;32m    181\u001b[0m             optimizer,\n\u001b[0;32m    182\u001b[0m             class_weights\n\u001b[0;32m    183\u001b[0m             )\n",
      "File \u001b[1;32mc:\\Users\\liq02qc\\AppData\\Local\\anaconda3\\envs\\stud_net\\lib\\site-packages\\tqdm\\std.py:1182\u001b[0m, in \u001b[0;36mtqdm.__iter__\u001b[1;34m(self)\u001b[0m\n\u001b[0;32m   1179\u001b[0m time \u001b[39m=\u001b[39m \u001b[39mself\u001b[39m\u001b[39m.\u001b[39m_time\n\u001b[0;32m   1181\u001b[0m \u001b[39mtry\u001b[39;00m:\n\u001b[1;32m-> 1182\u001b[0m     \u001b[39mfor\u001b[39;00m obj \u001b[39min\u001b[39;00m iterable:\n\u001b[0;32m   1183\u001b[0m         \u001b[39myield\u001b[39;00m obj\n\u001b[0;32m   1184\u001b[0m         \u001b[39m# Update and possibly print the progressbar.\u001b[39;00m\n\u001b[0;32m   1185\u001b[0m         \u001b[39m# Note: does not call self.update(1) for speed optimisation.\u001b[39;00m\n",
      "File \u001b[1;32mc:\\Users\\liq02qc\\AppData\\Local\\anaconda3\\envs\\stud_net\\lib\\site-packages\\torch_geometric\\loader\\base.py:36\u001b[0m, in \u001b[0;36mDataLoaderIterator.__next__\u001b[1;34m(self)\u001b[0m\n\u001b[0;32m     35\u001b[0m \u001b[39mdef\u001b[39;00m \u001b[39m__next__\u001b[39m(\u001b[39mself\u001b[39m) \u001b[39m-\u001b[39m\u001b[39m>\u001b[39m Any:\n\u001b[1;32m---> 36\u001b[0m     \u001b[39mreturn\u001b[39;00m \u001b[39mself\u001b[39m\u001b[39m.\u001b[39mtransform_fn(\u001b[39mnext\u001b[39;49m(\u001b[39mself\u001b[39;49m\u001b[39m.\u001b[39;49miterator))\n",
      "File \u001b[1;32mc:\\Users\\liq02qc\\AppData\\Local\\anaconda3\\envs\\stud_net\\lib\\site-packages\\torch\\utils\\data\\dataloader.py:634\u001b[0m, in \u001b[0;36m_BaseDataLoaderIter.__next__\u001b[1;34m(self)\u001b[0m\n\u001b[0;32m    631\u001b[0m \u001b[39mif\u001b[39;00m \u001b[39mself\u001b[39m\u001b[39m.\u001b[39m_sampler_iter \u001b[39mis\u001b[39;00m \u001b[39mNone\u001b[39;00m:\n\u001b[0;32m    632\u001b[0m     \u001b[39m# TODO(https://github.com/pytorch/pytorch/issues/76750)\u001b[39;00m\n\u001b[0;32m    633\u001b[0m     \u001b[39mself\u001b[39m\u001b[39m.\u001b[39m_reset()  \u001b[39m# type: ignore[call-arg]\u001b[39;00m\n\u001b[1;32m--> 634\u001b[0m data \u001b[39m=\u001b[39m \u001b[39mself\u001b[39;49m\u001b[39m.\u001b[39;49m_next_data()\n\u001b[0;32m    635\u001b[0m \u001b[39mself\u001b[39m\u001b[39m.\u001b[39m_num_yielded \u001b[39m+\u001b[39m\u001b[39m=\u001b[39m \u001b[39m1\u001b[39m\n\u001b[0;32m    636\u001b[0m \u001b[39mif\u001b[39;00m \u001b[39mself\u001b[39m\u001b[39m.\u001b[39m_dataset_kind \u001b[39m==\u001b[39m _DatasetKind\u001b[39m.\u001b[39mIterable \u001b[39mand\u001b[39;00m \\\n\u001b[0;32m    637\u001b[0m         \u001b[39mself\u001b[39m\u001b[39m.\u001b[39m_IterableDataset_len_called \u001b[39mis\u001b[39;00m \u001b[39mnot\u001b[39;00m \u001b[39mNone\u001b[39;00m \u001b[39mand\u001b[39;00m \\\n\u001b[0;32m    638\u001b[0m         \u001b[39mself\u001b[39m\u001b[39m.\u001b[39m_num_yielded \u001b[39m>\u001b[39m \u001b[39mself\u001b[39m\u001b[39m.\u001b[39m_IterableDataset_len_called:\n",
      "File \u001b[1;32mc:\\Users\\liq02qc\\AppData\\Local\\anaconda3\\envs\\stud_net\\lib\\site-packages\\torch\\utils\\data\\dataloader.py:678\u001b[0m, in \u001b[0;36m_SingleProcessDataLoaderIter._next_data\u001b[1;34m(self)\u001b[0m\n\u001b[0;32m    676\u001b[0m \u001b[39mdef\u001b[39;00m \u001b[39m_next_data\u001b[39m(\u001b[39mself\u001b[39m):\n\u001b[0;32m    677\u001b[0m     index \u001b[39m=\u001b[39m \u001b[39mself\u001b[39m\u001b[39m.\u001b[39m_next_index()  \u001b[39m# may raise StopIteration\u001b[39;00m\n\u001b[1;32m--> 678\u001b[0m     data \u001b[39m=\u001b[39m \u001b[39mself\u001b[39;49m\u001b[39m.\u001b[39;49m_dataset_fetcher\u001b[39m.\u001b[39;49mfetch(index)  \u001b[39m# may raise StopIteration\u001b[39;00m\n\u001b[0;32m    679\u001b[0m     \u001b[39mif\u001b[39;00m \u001b[39mself\u001b[39m\u001b[39m.\u001b[39m_pin_memory:\n\u001b[0;32m    680\u001b[0m         data \u001b[39m=\u001b[39m _utils\u001b[39m.\u001b[39mpin_memory\u001b[39m.\u001b[39mpin_memory(data, \u001b[39mself\u001b[39m\u001b[39m.\u001b[39m_pin_memory_device)\n",
      "File \u001b[1;32mc:\\Users\\liq02qc\\AppData\\Local\\anaconda3\\envs\\stud_net\\lib\\site-packages\\torch\\utils\\data\\_utils\\fetch.py:54\u001b[0m, in \u001b[0;36m_MapDatasetFetcher.fetch\u001b[1;34m(self, possibly_batched_index)\u001b[0m\n\u001b[0;32m     52\u001b[0m \u001b[39melse\u001b[39;00m:\n\u001b[0;32m     53\u001b[0m     data \u001b[39m=\u001b[39m \u001b[39mself\u001b[39m\u001b[39m.\u001b[39mdataset[possibly_batched_index]\n\u001b[1;32m---> 54\u001b[0m \u001b[39mreturn\u001b[39;00m \u001b[39mself\u001b[39;49m\u001b[39m.\u001b[39;49mcollate_fn(data)\n",
      "File \u001b[1;32mc:\\Users\\liq02qc\\AppData\\Local\\anaconda3\\envs\\stud_net\\lib\\site-packages\\torch_geometric\\loader\\node_loader.py:117\u001b[0m, in \u001b[0;36mNodeLoader.collate_fn\u001b[1;34m(self, index)\u001b[0m\n\u001b[0;32m    114\u001b[0m \u001b[39mr\u001b[39m\u001b[39m\"\"\"Samples a subgraph from a batch of input nodes.\"\"\"\u001b[39;00m\n\u001b[0;32m    115\u001b[0m input_data: NodeSamplerInput \u001b[39m=\u001b[39m \u001b[39mself\u001b[39m\u001b[39m.\u001b[39minput_data[index]\n\u001b[1;32m--> 117\u001b[0m out \u001b[39m=\u001b[39m \u001b[39mself\u001b[39;49m\u001b[39m.\u001b[39;49mnode_sampler\u001b[39m.\u001b[39;49msample_from_nodes(input_data)\n\u001b[0;32m    119\u001b[0m \u001b[39mif\u001b[39;00m \u001b[39mself\u001b[39m\u001b[39m.\u001b[39mfilter_per_worker:  \u001b[39m# Execute `filter_fn` in the worker process\u001b[39;00m\n\u001b[0;32m    120\u001b[0m     out \u001b[39m=\u001b[39m \u001b[39mself\u001b[39m\u001b[39m.\u001b[39mfilter_fn(out)\n",
      "File \u001b[1;32mc:\\Users\\liq02qc\\AppData\\Local\\anaconda3\\envs\\stud_net\\lib\\site-packages\\torch_geometric\\sampler\\neighbor_sampler.py:174\u001b[0m, in \u001b[0;36mNeighborSampler.sample_from_nodes\u001b[1;34m(self, inputs)\u001b[0m\n\u001b[0;32m    170\u001b[0m \u001b[39mdef\u001b[39;00m \u001b[39msample_from_nodes\u001b[39m(\n\u001b[0;32m    171\u001b[0m     \u001b[39mself\u001b[39m,\n\u001b[0;32m    172\u001b[0m     inputs: NodeSamplerInput,\n\u001b[0;32m    173\u001b[0m ) \u001b[39m-\u001b[39m\u001b[39m>\u001b[39m Union[SamplerOutput, HeteroSamplerOutput]:\n\u001b[1;32m--> 174\u001b[0m     \u001b[39mreturn\u001b[39;00m node_sample(inputs, \u001b[39mself\u001b[39;49m\u001b[39m.\u001b[39;49m_sample)\n",
      "File \u001b[1;32mc:\\Users\\liq02qc\\AppData\\Local\\anaconda3\\envs\\stud_net\\lib\\site-packages\\torch_geometric\\sampler\\neighbor_sampler.py:358\u001b[0m, in \u001b[0;36mnode_sample\u001b[1;34m(inputs, sample_fn)\u001b[0m\n\u001b[0;32m    355\u001b[0m     seed \u001b[39m=\u001b[39m inputs\u001b[39m.\u001b[39mnode\n\u001b[0;32m    356\u001b[0m     seed_time \u001b[39m=\u001b[39m inputs\u001b[39m.\u001b[39mtime\n\u001b[1;32m--> 358\u001b[0m out \u001b[39m=\u001b[39m sample_fn(seed, seed_time)\n\u001b[0;32m    359\u001b[0m out\u001b[39m.\u001b[39mmetadata \u001b[39m=\u001b[39m (inputs\u001b[39m.\u001b[39minput_id, inputs\u001b[39m.\u001b[39mtime)\n\u001b[0;32m    361\u001b[0m \u001b[39mreturn\u001b[39;00m out\n",
      "File \u001b[1;32mc:\\Users\\liq02qc\\AppData\\Local\\anaconda3\\envs\\stud_net\\lib\\site-packages\\torch_geometric\\sampler\\neighbor_sampler.py:244\u001b[0m, in \u001b[0;36mNeighborSampler._sample\u001b[1;34m(self, seed, seed_time, **kwargs)\u001b[0m\n\u001b[0;32m    238\u001b[0m \u001b[39mif\u001b[39;00m \u001b[39mself\u001b[39m\u001b[39m.\u001b[39mdisjoint:\n\u001b[0;32m    239\u001b[0m     \u001b[39mraise\u001b[39;00m \u001b[39mValueError\u001b[39;00m(\u001b[39m\"\u001b[39m\u001b[39m'\u001b[39m\u001b[39mdisjoint\u001b[39m\u001b[39m'\u001b[39m\u001b[39m sampling not supported for \u001b[39m\u001b[39m\"\u001b[39m\n\u001b[0;32m    240\u001b[0m                      \u001b[39m\"\u001b[39m\u001b[39mneighbor sampling via \u001b[39m\u001b[39m'\u001b[39m\u001b[39mtorch-sparse\u001b[39m\u001b[39m'\u001b[39m\u001b[39m. \u001b[39m\u001b[39m\"\u001b[39m\n\u001b[0;32m    241\u001b[0m                      \u001b[39m\"\u001b[39m\u001b[39mPlease install \u001b[39m\u001b[39m'\u001b[39m\u001b[39mpyg-lib\u001b[39m\u001b[39m'\u001b[39m\u001b[39m for improved \u001b[39m\u001b[39m\"\u001b[39m\n\u001b[0;32m    242\u001b[0m                      \u001b[39m\"\u001b[39m\u001b[39mand optimized sampling routines.\u001b[39m\u001b[39m\"\u001b[39m)\n\u001b[1;32m--> 244\u001b[0m out \u001b[39m=\u001b[39m torch\u001b[39m.\u001b[39;49mops\u001b[39m.\u001b[39;49mtorch_sparse\u001b[39m.\u001b[39;49mhetero_neighbor_sample(\n\u001b[0;32m    245\u001b[0m     \u001b[39mself\u001b[39;49m\u001b[39m.\u001b[39;49mnode_types,\n\u001b[0;32m    246\u001b[0m     \u001b[39mself\u001b[39;49m\u001b[39m.\u001b[39;49medge_types,\n\u001b[0;32m    247\u001b[0m     \u001b[39mself\u001b[39;49m\u001b[39m.\u001b[39;49mcolptr_dict,\n\u001b[0;32m    248\u001b[0m     \u001b[39mself\u001b[39;49m\u001b[39m.\u001b[39;49mrow_dict,\n\u001b[0;32m    249\u001b[0m     seed,  \u001b[39m# seed_dict\u001b[39;49;00m\n\u001b[0;32m    250\u001b[0m     \u001b[39mself\u001b[39;49m\u001b[39m.\u001b[39;49mnum_neighbors\u001b[39m.\u001b[39;49mget_mapped_values(\u001b[39mself\u001b[39;49m\u001b[39m.\u001b[39;49medge_types),\n\u001b[0;32m    251\u001b[0m     \u001b[39mself\u001b[39;49m\u001b[39m.\u001b[39;49mnum_neighbors\u001b[39m.\u001b[39;49mnum_hops,\n\u001b[0;32m    252\u001b[0m     \u001b[39mself\u001b[39;49m\u001b[39m.\u001b[39;49mreplace,\n\u001b[0;32m    253\u001b[0m     \u001b[39mself\u001b[39;49m\u001b[39m.\u001b[39;49mdirected,\n\u001b[0;32m    254\u001b[0m )\n\u001b[0;32m    255\u001b[0m node, row, col, edge, batch \u001b[39m=\u001b[39m out \u001b[39m+\u001b[39m (\u001b[39mNone\u001b[39;00m, )\n\u001b[0;32m    256\u001b[0m num_sampled_nodes \u001b[39m=\u001b[39m num_sampled_edges \u001b[39m=\u001b[39m \u001b[39mNone\u001b[39;00m\n",
      "File \u001b[1;32mc:\\Users\\liq02qc\\AppData\\Local\\anaconda3\\envs\\stud_net\\lib\\site-packages\\torch\\_ops.py:502\u001b[0m, in \u001b[0;36mOpOverloadPacket.__call__\u001b[1;34m(self, *args, **kwargs)\u001b[0m\n\u001b[0;32m    497\u001b[0m \u001b[39mdef\u001b[39;00m \u001b[39m__call__\u001b[39m(\u001b[39mself\u001b[39m, \u001b[39m*\u001b[39margs, \u001b[39m*\u001b[39m\u001b[39m*\u001b[39mkwargs):\n\u001b[0;32m    498\u001b[0m     \u001b[39m# overloading __call__ to ensure torch.ops.foo.bar()\u001b[39;00m\n\u001b[0;32m    499\u001b[0m     \u001b[39m# is still callable from JIT\u001b[39;00m\n\u001b[0;32m    500\u001b[0m     \u001b[39m# We save the function ptr as the `op` attribute on\u001b[39;00m\n\u001b[0;32m    501\u001b[0m     \u001b[39m# OpOverloadPacket to access it here.\u001b[39;00m\n\u001b[1;32m--> 502\u001b[0m     \u001b[39mreturn\u001b[39;00m \u001b[39mself\u001b[39m\u001b[39m.\u001b[39m_op(\u001b[39m*\u001b[39margs, \u001b[39m*\u001b[39m\u001b[39m*\u001b[39mkwargs \u001b[39mor\u001b[39;00m {})\n",
      "\u001b[1;31mKeyboardInterrupt\u001b[0m: "
     ]
    }
   ],
   "source": [
    "data = generate_data_object_synthetic(\n",
    "        n_students = parameters['n_students'], \n",
    "        n_tasks = parameters['n_tasks'],\n",
    "        n_task_per_student = 10,\n",
    "        error_proness_denom = parameters['error_proness_denom'],\n",
    "        probabilistic = parameters['probabilistic'],\n",
    "        number_of_tasks_per_students_is_max=parameters['number_of_tasks_per_students_is_max'])\n",
    "\n",
    "cv_out = perform_cross_validation(data, parameters)"
   ]
  },
  {
   "cell_type": "code",
   "execution_count": null,
   "metadata": {},
   "outputs": [],
   "source": []
  }
 ],
 "metadata": {
  "kernelspec": {
   "display_name": "Python 3",
   "language": "python",
   "name": "python3"
  },
  "language_info": {
   "codemirror_mode": {
    "name": "ipython",
    "version": 3
   },
   "file_extension": ".py",
   "mimetype": "text/x-python",
   "name": "python",
   "nbconvert_exporter": "python",
   "pygments_lexer": "ipython3",
   "version": "3.9.16"
  }
 },
 "nbformat": 4,
 "nbformat_minor": 2
}
