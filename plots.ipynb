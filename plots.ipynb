{
 "cells": [
  {
   "cell_type": "code",
   "execution_count": 1,
   "metadata": {},
   "outputs": [],
   "source": [
    "import torch\n",
    "import pandas as pd\n",
    "import numpy as np\n",
    "from tqdm.notebook import tqdm\n",
    "from manage_experiments import *\n",
    "\n",
    "from utils import generate_data_object_synthetic"
   ]
  },
  {
   "cell_type": "code",
   "execution_count": 2,
   "metadata": {},
   "outputs": [],
   "source": [
    "# Import libraries\n",
    "import matplotlib.pyplot as plt\n",
    "import pandas as pd\n",
    "import numpy as np\n",
    "\n",
    "\n",
    "def line_plot_with_std(list_scores, fname):\n",
    "\n",
    "    # Convert the list of lists to a Pandas DataFrame\n",
    "    df = pd.DataFrame(list_scores)\n",
    "\n",
    "    # Calculate the mean and standard deviation of each row\n",
    "    mean = df.mean(axis=1)\n",
    "    std = df.std(axis=1)\n",
    "\n",
    "    # Create a figure and an axis\n",
    "    fig, ax = plt.subplots()\n",
    "\n",
    "    # Plot the mean line\n",
    "    ax.plot(mean, color='blue', label='Mean')\n",
    "\n",
    "    # Plot the shaded region around the mean line\n",
    "    ax.fill_between(df.index, mean-std, mean+std, color='lightblue', alpha=0.5, label='Standard deviation')\n",
    "\n",
    "    # Add some labels and a legend\n",
    "    ax.set_xlabel('Index')\n",
    "    ax.set_ylabel('Value')\n",
    "    ax.legend()\n",
    "\n",
    "    # Show and save the plot\n",
    "    plt.grid()\n",
    "    plt.xlabel('Number of tasks per student')\n",
    "    plt.ylabel('Balanced Accuracy')\n",
    "    fnameplot = fname.replace('results', 'pdf')\n",
    "    plt.savefig(fnameplot)\n",
    "    # plt.show()\n"
   ]
  },
  {
   "cell_type": "code",
   "execution_count": 3,
   "metadata": {},
   "outputs": [],
   "source": [
    "from IPython.utils import io\n",
    "import matplotlib.pyplot as plt\n",
    "\n",
    "import string\n",
    "def create_filename_results(parameters,fold):\n",
    "    file_name = ' '.join([f\"{str(key)}-{str(value)}\" for key, value in parameters.items() if key not in ['max_n_tasks_per_student','min_n_tasks_per_student']])\n",
    "    file_name += ''.join(random.choice(string.ascii_letters + string.digits) for _ in range(4))\n",
    "    file_name.replace(\".\",\"\")\n",
    "    file_name+=\".results\"\n",
    "    return os.path.join(fold, file_name)\n",
    "\n",
    "\n",
    "#n_students_per_task_list = [2**i for i in n_students_per_task_list]\n",
    "\n",
    "import json\n",
    "def synthetic_density_effect_runs(parameters,parameters_density, folder = 'synth_density_effect'):\n",
    "    parameters = {**parameters, **parameters_density}\n",
    "    n_tasks_per_student_list = list(range(\n",
    "        parameters['min_n_tasks_per_student'],\n",
    "        parameters['max_n_tasks_per_student'],\n",
    "        parameters['step_n_tasks_per_student']))\n",
    "    scores = []\n",
    "    list_scores = []\n",
    "    for n_task_per_student in tqdm(n_tasks_per_student_list):\n",
    "        with io.capture_output() as captured:\n",
    "            data = generate_data_object_synthetic(\n",
    "                n_students = parameters['n_students'], # 72% of nodes were students\n",
    "                n_tasks = parameters['n_tasks'],\n",
    "                n_task_per_student = n_task_per_student,\n",
    "                error_proness_denom = parameters['error_proness_denom'],\n",
    "                probabilistic = parameters['probabilistic'],\n",
    "                number_of_tasks_per_students_is_max=parameters['number_of_tasks_per_students_is_max'])\n",
    "\n",
    "            cv_out = perform_cross_validation(data, parameters)\n",
    "            score = 0\n",
    "            inner_list_scores = []\n",
    "            for fold_n in range(parameters[\"n_splits\"]):\n",
    "                score += cv_out[f\"Balanced Accuracy_{fold_n}_test\"]\n",
    "                inner_list_scores.extend([cv_out[f\"Balanced Accuracy_{fold_n}_test\"]])\n",
    "            score = score / parameters[\"n_splits\"]\n",
    "            scores.append(score)\n",
    "            list_scores.append(inner_list_scores)\n",
    "\n",
    "    res_dict = dict(zip(n_tasks_per_student_list,scores))\n",
    "    output_dict = {\n",
    "        **parameters,\n",
    "        \"res_dict\":res_dict,\n",
    "        \"list_scores\":dict(zip(n_tasks_per_student_list,list_scores))\n",
    "    }\n",
    "    fname = create_filename_results(parameters_density, folder)\n",
    "    with open(fname,'w') as f:\n",
    "        json.dump(output_dict, f, skipkeys=True)\n",
    "    \n",
    "    # save results\n",
    "    line_plot_with_std(list_scores=list_scores, fname=fname)\n"
   ]
  },
  {
   "cell_type": "code",
   "execution_count": 4,
   "metadata": {},
   "outputs": [
    {
     "data": {
      "text/plain": [
       "28"
      ]
     },
     "execution_count": 4,
     "metadata": {},
     "output_type": "execute_result"
    }
   ],
   "source": [
    "len(list(range(\n",
    "        5,\n",
    "        280,\n",
    "        10)))"
   ]
  },
  {
   "cell_type": "code",
   "execution_count": null,
   "metadata": {},
   "outputs": [],
   "source": [
    "parameters = {\n",
    "    \"hidden_dims\": [16, 8],\n",
    "    'model_type': \"GNN\",\n",
    "    \"df_name\": \"synthetic.salamoia\",\n",
    "    \"method\": \"EdgeClassifier\",\n",
    "    \"epochs\": 10000,\n",
    "    \"learning_rate\": 0.005,\n",
    "    \"weight_decay\": 0,\n",
    "    \"dropout\": 0.4,\n",
    "    \"early_stopping\": 200,\n",
    "    \"n_splits\": 3,\n",
    "    \"device\": \"cuda\",\n",
    "    \"done\": False,\n",
    "    \"batch_size\":128,\n",
    "    #\n",
    "    }\n",
    "\n",
    "parameters_density = {\n",
    "    'n_students' :720, # 72% of nodes were students\n",
    "    'n_tasks':280,\n",
    "    'max_n_tasks_per_student':280, \n",
    "    'min_n_tasks_per_student':5,\n",
    "    'step_n_tasks_per_student':10,\n",
    "    'error_proness_denom':None,\n",
    "    'probabilistic':None,\n",
    "    'number_of_tasks_per_students_is_max':None\n",
    "}\n"
   ]
  },
  {
   "cell_type": "code",
   "execution_count": 6,
   "metadata": {},
   "outputs": [
    {
     "name": "stderr",
     "output_type": "stream",
     "text": [
      "  0%|          | 0/28 [00:00<?, ?it/s]\n"
     ]
    },
    {
     "ename": "AttributeError",
     "evalue": "'EdgeStorage' object has no attribute 'edge_attr'",
     "output_type": "error",
     "traceback": [
      "\u001b[1;31m---------------------------------------------------------------------------\u001b[0m",
      "\u001b[1;31mKeyError\u001b[0m                                  Traceback (most recent call last)",
      "File \u001b[1;32mc:\\Users\\liq02qc\\AppData\\Local\\anaconda3\\envs\\stud_net\\lib\\site-packages\\torch_geometric\\data\\storage.py:78\u001b[0m, in \u001b[0;36mBaseStorage.__getattr__\u001b[1;34m(self, key)\u001b[0m\n\u001b[0;32m     77\u001b[0m \u001b[39mtry\u001b[39;00m:\n\u001b[1;32m---> 78\u001b[0m     \u001b[39mreturn\u001b[39;00m \u001b[39mself\u001b[39;49m[key]\n\u001b[0;32m     79\u001b[0m \u001b[39mexcept\u001b[39;00m \u001b[39mKeyError\u001b[39;00m:\n",
      "File \u001b[1;32mc:\\Users\\liq02qc\\AppData\\Local\\anaconda3\\envs\\stud_net\\lib\\site-packages\\torch_geometric\\data\\storage.py:103\u001b[0m, in \u001b[0;36mBaseStorage.__getitem__\u001b[1;34m(self, key)\u001b[0m\n\u001b[0;32m    102\u001b[0m \u001b[39mdef\u001b[39;00m \u001b[39m__getitem__\u001b[39m(\u001b[39mself\u001b[39m, key: \u001b[39mstr\u001b[39m) \u001b[39m-\u001b[39m\u001b[39m>\u001b[39m Any:\n\u001b[1;32m--> 103\u001b[0m     \u001b[39mreturn\u001b[39;00m \u001b[39mself\u001b[39;49m\u001b[39m.\u001b[39;49m_mapping[key]\n",
      "\u001b[1;31mKeyError\u001b[0m: 'edge_attr'",
      "\nDuring handling of the above exception, another exception occurred:\n",
      "\u001b[1;31mAttributeError\u001b[0m                            Traceback (most recent call last)",
      "\u001b[1;32mc:\\Users\\liq02qc\\Desktop\\GitHub\\Modelling-Students-Learning\\plots.ipynb Cell 6\u001b[0m line \u001b[0;36m7\n\u001b[0;32m      <a href='vscode-notebook-cell:/c%3A/Users/liq02qc/Desktop/GitHub/Modelling-Students-Learning/plots.ipynb#W5sZmlsZQ%3D%3D?line=4'>5</a>\u001b[0m parameters_density[\u001b[39m'\u001b[39m\u001b[39merror_proness_denom\u001b[39m\u001b[39m'\u001b[39m] \u001b[39m=\u001b[39m error_proness_denom\n\u001b[0;32m      <a href='vscode-notebook-cell:/c%3A/Users/liq02qc/Desktop/GitHub/Modelling-Students-Learning/plots.ipynb#W5sZmlsZQ%3D%3D?line=5'>6</a>\u001b[0m parameters_density[\u001b[39m'\u001b[39m\u001b[39mnumber_of_tasks_per_students_is_max\u001b[39m\u001b[39m'\u001b[39m] \u001b[39m=\u001b[39m number_of_tasks_per_students_is_max\n\u001b[1;32m----> <a href='vscode-notebook-cell:/c%3A/Users/liq02qc/Desktop/GitHub/Modelling-Students-Learning/plots.ipynb#W5sZmlsZQ%3D%3D?line=6'>7</a>\u001b[0m synthetic_density_effect_runs(parameters\u001b[39m=\u001b[39;49mparameters,\n\u001b[0;32m      <a href='vscode-notebook-cell:/c%3A/Users/liq02qc/Desktop/GitHub/Modelling-Students-Learning/plots.ipynb#W5sZmlsZQ%3D%3D?line=7'>8</a>\u001b[0m                               parameters_density\u001b[39m=\u001b[39;49mparameters_density,\n\u001b[0;32m      <a href='vscode-notebook-cell:/c%3A/Users/liq02qc/Desktop/GitHub/Modelling-Students-Learning/plots.ipynb#W5sZmlsZQ%3D%3D?line=8'>9</a>\u001b[0m                               )\n",
      "\u001b[1;32mc:\\Users\\liq02qc\\Desktop\\GitHub\\Modelling-Students-Learning\\plots.ipynb Cell 6\u001b[0m line \u001b[0;36m3\n\u001b[0;32m     <a href='vscode-notebook-cell:/c%3A/Users/liq02qc/Desktop/GitHub/Modelling-Students-Learning/plots.ipynb#W5sZmlsZQ%3D%3D?line=24'>25</a>\u001b[0m \u001b[39mwith\u001b[39;00m io\u001b[39m.\u001b[39mcapture_output() \u001b[39mas\u001b[39;00m captured:\n\u001b[0;32m     <a href='vscode-notebook-cell:/c%3A/Users/liq02qc/Desktop/GitHub/Modelling-Students-Learning/plots.ipynb#W5sZmlsZQ%3D%3D?line=25'>26</a>\u001b[0m     data \u001b[39m=\u001b[39m generate_data_object_synthetic(\n\u001b[0;32m     <a href='vscode-notebook-cell:/c%3A/Users/liq02qc/Desktop/GitHub/Modelling-Students-Learning/plots.ipynb#W5sZmlsZQ%3D%3D?line=26'>27</a>\u001b[0m         n_students \u001b[39m=\u001b[39m parameters[\u001b[39m'\u001b[39m\u001b[39mn_students\u001b[39m\u001b[39m'\u001b[39m], \u001b[39m# 72% of nodes were students\u001b[39;00m\n\u001b[0;32m     <a href='vscode-notebook-cell:/c%3A/Users/liq02qc/Desktop/GitHub/Modelling-Students-Learning/plots.ipynb#W5sZmlsZQ%3D%3D?line=27'>28</a>\u001b[0m         n_tasks \u001b[39m=\u001b[39m parameters[\u001b[39m'\u001b[39m\u001b[39mn_tasks\u001b[39m\u001b[39m'\u001b[39m],\n\u001b[1;32m   (...)\u001b[0m\n\u001b[0;32m     <a href='vscode-notebook-cell:/c%3A/Users/liq02qc/Desktop/GitHub/Modelling-Students-Learning/plots.ipynb#W5sZmlsZQ%3D%3D?line=30'>31</a>\u001b[0m         probabilistic \u001b[39m=\u001b[39m parameters[\u001b[39m'\u001b[39m\u001b[39mprobabilistic\u001b[39m\u001b[39m'\u001b[39m],\n\u001b[0;32m     <a href='vscode-notebook-cell:/c%3A/Users/liq02qc/Desktop/GitHub/Modelling-Students-Learning/plots.ipynb#W5sZmlsZQ%3D%3D?line=31'>32</a>\u001b[0m         number_of_tasks_per_students_is_max\u001b[39m=\u001b[39mparameters[\u001b[39m'\u001b[39m\u001b[39mnumber_of_tasks_per_students_is_max\u001b[39m\u001b[39m'\u001b[39m])\n\u001b[1;32m---> <a href='vscode-notebook-cell:/c%3A/Users/liq02qc/Desktop/GitHub/Modelling-Students-Learning/plots.ipynb#W5sZmlsZQ%3D%3D?line=33'>34</a>\u001b[0m     cv_out \u001b[39m=\u001b[39m perform_cross_validation(data, parameters)\n\u001b[0;32m     <a href='vscode-notebook-cell:/c%3A/Users/liq02qc/Desktop/GitHub/Modelling-Students-Learning/plots.ipynb#W5sZmlsZQ%3D%3D?line=34'>35</a>\u001b[0m     score \u001b[39m=\u001b[39m \u001b[39m0\u001b[39m\n\u001b[0;32m     <a href='vscode-notebook-cell:/c%3A/Users/liq02qc/Desktop/GitHub/Modelling-Students-Learning/plots.ipynb#W5sZmlsZQ%3D%3D?line=35'>36</a>\u001b[0m     inner_list_scores \u001b[39m=\u001b[39m []\n",
      "File \u001b[1;32mc:\\Users\\liq02qc\\Desktop\\GitHub\\Modelling-Students-Learning\\manage_experiments.py:127\u001b[0m, in \u001b[0;36mperform_cross_validation\u001b[1;34m(data, parameters, save_embeddings, save_subgraph, model, final_fit)\u001b[0m\n\u001b[0;32m    124\u001b[0m \u001b[39m# Initialise\u001b[39;00m\n\u001b[0;32m    126\u001b[0m \u001b[39mif\u001b[39;00m model \u001b[39mis\u001b[39;00m \u001b[39mNone\u001b[39;00m:\n\u001b[1;32m--> 127\u001b[0m     edge_dim \u001b[39m=\u001b[39m data[\u001b[39m'\u001b[39;49m\u001b[39mstudent\u001b[39;49m\u001b[39m'\u001b[39;49m, \u001b[39m'\u001b[39;49m\u001b[39mresponds\u001b[39;49m\u001b[39m'\u001b[39;49m, \u001b[39m'\u001b[39;49m\u001b[39mitem\u001b[39;49m\u001b[39m'\u001b[39;49m]\u001b[39m.\u001b[39;49medge_attr\u001b[39m.\u001b[39mshape[\u001b[39m1\u001b[39m]\n\u001b[0;32m    128\u001b[0m     \u001b[39mif\u001b[39;00m parameters[\u001b[39m'\u001b[39m\u001b[39mmodel_type\u001b[39m\u001b[39m'\u001b[39m] \u001b[39m==\u001b[39m \u001b[39m'\u001b[39m\u001b[39mGNN\u001b[39m\u001b[39m'\u001b[39m:\n\u001b[0;32m    129\u001b[0m         test_loop \u001b[39m=\u001b[39m test_embedder_heterogeneous\n",
      "File \u001b[1;32mc:\\Users\\liq02qc\\AppData\\Local\\anaconda3\\envs\\stud_net\\lib\\site-packages\\torch_geometric\\data\\storage.py:80\u001b[0m, in \u001b[0;36mBaseStorage.__getattr__\u001b[1;34m(self, key)\u001b[0m\n\u001b[0;32m     78\u001b[0m     \u001b[39mreturn\u001b[39;00m \u001b[39mself\u001b[39m[key]\n\u001b[0;32m     79\u001b[0m \u001b[39mexcept\u001b[39;00m \u001b[39mKeyError\u001b[39;00m:\n\u001b[1;32m---> 80\u001b[0m     \u001b[39mraise\u001b[39;00m \u001b[39mAttributeError\u001b[39;00m(\n\u001b[0;32m     81\u001b[0m         \u001b[39mf\u001b[39m\u001b[39m\"\u001b[39m\u001b[39m'\u001b[39m\u001b[39m{\u001b[39;00m\u001b[39mself\u001b[39m\u001b[39m.\u001b[39m\u001b[39m__class__\u001b[39m\u001b[39m.\u001b[39m\u001b[39m__name__\u001b[39m\u001b[39m}\u001b[39;00m\u001b[39m'\u001b[39m\u001b[39m object has no attribute \u001b[39m\u001b[39m'\u001b[39m\u001b[39m{\u001b[39;00mkey\u001b[39m}\u001b[39;00m\u001b[39m'\u001b[39m\u001b[39m\"\u001b[39m)\n",
      "\u001b[1;31mAttributeError\u001b[0m: 'EdgeStorage' object has no attribute 'edge_attr'"
     ]
    }
   ],
   "source": [
    "for probabilities in [0,1]:\n",
    "    for error_proness_denom in [1,2,3]:\n",
    "        for number_of_tasks_per_students_is_max in [0,1]:\n",
    "            parameters_density['probabilistic'] = probabilities\n",
    "            parameters_density['error_proness_denom'] = error_proness_denom\n",
    "            parameters_density['number_of_tasks_per_students_is_max'] = number_of_tasks_per_students_is_max\n",
    "            synthetic_density_effect_runs(parameters=parameters,\n",
    "                                          parameters_density=parameters_density,\n",
    "                                          )"
   ]
  },
  {
   "cell_type": "code",
   "execution_count": null,
   "metadata": {},
   "outputs": [],
   "source": [
    "import numpy as np"
   ]
  },
  {
   "cell_type": "code",
   "execution_count": null,
   "metadata": {},
   "outputs": [],
   "source": [
    "def sigmoid(x, alpha):\n",
    "    return 1/(1+np.exp(-x/alpha))"
   ]
  },
  {
   "cell_type": "code",
   "execution_count": null,
   "metadata": {},
   "outputs": [
    {
     "name": "stderr",
     "output_type": "stream",
     "text": [
      "C:\\Users\\liq02qc\\AppData\\Local\\Temp\\ipykernel_17080\\1727097957.py:2: RuntimeWarning: divide by zero encountered in long_scalars\n",
      "  return 1/(1+np.exp(-x/alpha))\n",
      "C:\\Users\\liq02qc\\AppData\\Local\\Temp\\ipykernel_17080\\1727097957.py:2: RuntimeWarning: invalid value encountered in long_scalars\n",
      "  return 1/(1+np.exp(-x/alpha))\n"
     ]
    },
    {
     "data": {
      "text/plain": [
       "<matplotlib.legend.Legend at 0x1cea6372490>"
      ]
     },
     "execution_count": 35,
     "metadata": {},
     "output_type": "execute_result"
    },
    {
     "data": {
      "image/png": "[encoded data removed]",
      "text/plain": [
       "<Figure size 640x480 with 1 Axes>"
      ]
     },
     "metadata": {},
     "output_type": "display_data"
    }
   ],
   "source": [
    "x = np.arange(-9,10)\n",
    "plt.plot(x, [sigmoid(xi,0) for xi in x], label=\"alpha = 0\")\n",
    "plt.plot(x, [sigmoid(xi,1) for xi in x], label=\"alpha = 1\")\n",
    "plt.plot(x, [sigmoid(xi,2) for xi in x], label=\"alpha = 2\")\n",
    "plt.plot(x, [sigmoid(xi,3) for xi in x], label=\"alpha = 3\")\n",
    "plt.legend()"
   ]
  },
  {
   "cell_type": "code",
   "execution_count": null,
   "metadata": {},
   "outputs": [],
   "source": []
  }
 ],
 "metadata": {
  "kernelspec": {
   "display_name": "base",
   "language": "python",
   "name": "python3"
  },
  "language_info": {
   "codemirror_mode": {
    "name": "ipython",
    "version": 3
   },
   "file_extension": ".py",
   "mimetype": "text/x-python",
   "name": "python",
   "nbconvert_exporter": "python",
   "pygments_lexer": "ipython3",
   "version": "3.9.16"
  },
  "orig_nbformat": 4
 },
 "nbformat": 4,
 "nbformat_minor": 2
}
