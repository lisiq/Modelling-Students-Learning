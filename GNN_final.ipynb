{
 "cells": [
  {
   "cell_type": "code",
   "execution_count": 1,
   "metadata": {
    "tags": [
     "parameters"
    ]
   },
   "outputs": [],
   "source": [
    "IRT_DIMS = 0\n",
    "DATASET = 'matrix'    \n",
    "ITEM_FEATURES = 'False'\n",
    "ITEM_FEATURES = False if ITEM_FEATURES == 'False' else True"
   ]
  },
  {
   "cell_type": "code",
   "execution_count": 2,
   "metadata": {},
   "outputs": [],
   "source": [
    "import sys, os, shutil\n",
    "import pickle\n",
    "import time\n",
    "import numpy as np\n",
    "from utils import (mymode, load_data_heterogeneous, create_data_object_heterogeneous)\n",
    "import seaborn as sns\n",
    "\n",
    "from IRT import MIRT_2PL\n",
    "from Heterogeneous_embedder import EmbedderHeterogeneous, train_embedder_heterogeneous, test_embedder_heterogeneous\n",
    "from manage_experiments import perform_cross_validation\n",
    "\n",
    "import torch\n",
    "import numpy as np\n",
    "import matplotlib.pyplot as plt\n",
    "\n",
    "from scipy.stats import pearsonr"
   ]
  },
  {
   "cell_type": "code",
   "execution_count": 3,
   "metadata": {},
   "outputs": [
    {
     "name": "stdout",
     "output_type": "stream",
     "text": [
      "cpu\n"
     ]
    }
   ],
   "source": [
    "torch.cuda.empty_cache()\n",
    "device = torch.device('cuda' if torch.cuda.is_available() else 'cpu')\n",
    "print(device)"
   ]
  },
  {
   "cell_type": "code",
   "execution_count": 4,
   "metadata": {},
   "outputs": [
    {
     "name": "stdout",
     "output_type": "stream",
     "text": [
      "{'df_name': None, 'epochs': 10000, 'learning_rate': 0.005, 'weight_decay': 0, 'early_stopping': 200, 'n_splits': 10, 'device': 'cuda:0', 'batch_size': 16384, 'neighbours': [-1, -1], 'model_type': 'GNN', 'hidden_dims': [16, 8]}\n",
      "matrix\n"
     ]
    }
   ],
   "source": [
    "# Initialise\n",
    "parameters = {\n",
    "    'df_name': None,\n",
    "    'epochs': 10000,\n",
    "    'learning_rate': 0.005,\n",
    "    'weight_decay': 0,\n",
    "    'early_stopping': 200,\n",
    "    'n_splits': 10,\n",
    "    'device': 'cuda:0',\n",
    "    'batch_size': 2**14,\n",
    "    'neighbours': [-1, -1]\n",
    "    }\n",
    "\n",
    "if IRT_DIMS > 0:\n",
    "    parameters['model_type'] = 'IRT'\n",
    "    parameters['hidden_dims'] = IRT_DIMS\n",
    "    parameters['lambda1'] = 0\n",
    "    parameters['lambda2'] = 0\n",
    "    OUTNAME = 'IRT'\n",
    "else:\n",
    "    parameters['model_type'] = 'GNN'\n",
    "    parameters['hidden_dims'] = [16,8]\n",
    "    OUTNAME = 'SAGE' \n",
    "\n",
    "if ITEM_FEATURES:\n",
    "    OUTNAME = OUTNAME + '_scales'\n",
    "    \n",
    "print(parameters)\n",
    "print(DATASET)"
   ]
  },
  {
   "cell_type": "code",
   "execution_count": 5,
   "metadata": {},
   "outputs": [
    {
     "name": "stdout",
     "output_type": "stream",
     "text": [
      "(5613692, 24)\n"
     ]
    }
   ],
   "source": [
    "DATA_FILE = 'data/mindsteps_set_' + DATASET\n",
    "df = load_data_heterogeneous(DATA_FILE)\n",
    "data, df_student, df_item, df_edge = create_data_object_heterogeneous(df, return_aux_data=True, item_features=ITEM_FEATURES)"
   ]
  },
  {
   "cell_type": "code",
   "execution_count": 6,
   "metadata": {},
   "outputs": [
    {
     "data": {
      "text/plain": [
       "Index(['studentId', 'code', 'motherTongue', 'Gender', 'scale', 'matrix',\n",
       "       'IRT_difficulty', 'topic', 'responseformat', 'textlength', 'score',\n",
       "       'age', 'grade', 'viewingTime', 'timestamp', 'useCase', 'assessmentId',\n",
       "       'ability', 'frequency', 'previous_sessions', 'years_from_start',\n",
       "       'matdiff', 'matcode', 'domain'],\n",
       "      dtype='object')"
      ]
     },
     "execution_count": 6,
     "metadata": {},
     "output_type": "execute_result"
    }
   ],
   "source": [
    "df.columns"
   ]
  },
  {
   "cell_type": "code",
   "execution_count": 7,
   "metadata": {},
   "outputs": [
    {
     "data": {
      "text/html": [
       "<div>\n",
       "<style scoped>\n",
       "    .dataframe tbody tr th:only-of-type {\n",
       "        vertical-align: middle;\n",
       "    }\n",
       "\n",
       "    .dataframe tbody tr th {\n",
       "        vertical-align: top;\n",
       "    }\n",
       "\n",
       "    .dataframe thead th {\n",
       "        text-align: right;\n",
       "    }\n",
       "</style>\n",
       "<table border=\"1\" class=\"dataframe\">\n",
       "  <thead>\n",
       "    <tr style=\"text-align: right;\">\n",
       "      <th></th>\n",
       "      <th>studentId</th>\n",
       "      <th>code</th>\n",
       "      <th>motherTongue</th>\n",
       "      <th>Gender</th>\n",
       "      <th>scale</th>\n",
       "      <th>matrix</th>\n",
       "      <th>IRT_difficulty</th>\n",
       "      <th>topic</th>\n",
       "      <th>responseformat</th>\n",
       "      <th>textlength</th>\n",
       "      <th>...</th>\n",
       "      <th>timestamp</th>\n",
       "      <th>useCase</th>\n",
       "      <th>assessmentId</th>\n",
       "      <th>ability</th>\n",
       "      <th>frequency</th>\n",
       "      <th>previous_sessions</th>\n",
       "      <th>years_from_start</th>\n",
       "      <th>matdiff</th>\n",
       "      <th>matcode</th>\n",
       "      <th>domain</th>\n",
       "    </tr>\n",
       "  </thead>\n",
       "  <tbody>\n",
       "    <tr>\n",
       "      <th>0</th>\n",
       "      <td>0</td>\n",
       "      <td>0</td>\n",
       "      <td>1.0</td>\n",
       "      <td>0.0</td>\n",
       "      <td>fhoe</td>\n",
       "      <td>F.1.A.1.c.1</td>\n",
       "      <td>-0.370330</td>\n",
       "      <td>Monologe und Dialoge</td>\n",
       "      <td>NaN</td>\n",
       "      <td>NaN</td>\n",
       "      <td>...</td>\n",
       "      <td>7.830814e-312</td>\n",
       "      <td>ms-kber</td>\n",
       "      <td>85007E334A2C9F19ECA408647E6F97139649B1465E15EB...</td>\n",
       "      <td>1.083005</td>\n",
       "      <td>1.851849</td>\n",
       "      <td>2</td>\n",
       "      <td>1.08</td>\n",
       "      <td></td>\n",
       "      <td></td>\n",
       "      <td>f</td>\n",
       "    </tr>\n",
       "    <tr>\n",
       "      <th>1</th>\n",
       "      <td>0</td>\n",
       "      <td>1</td>\n",
       "      <td>1.0</td>\n",
       "      <td>0.0</td>\n",
       "      <td>fles</td>\n",
       "      <td>F.2.A.1.b.3</td>\n",
       "      <td>-0.494880</td>\n",
       "      <td>Berichte</td>\n",
       "      <td>NaN</td>\n",
       "      <td>NaN</td>\n",
       "      <td>...</td>\n",
       "      <td>7.833807e-312</td>\n",
       "      <td>ms-thema-auto</td>\n",
       "      <td>0D59C4843FFC39195EDE1DD140506CF3DF8BC6F132AAF5...</td>\n",
       "      <td>0.657010</td>\n",
       "      <td>2.727266</td>\n",
       "      <td>3</td>\n",
       "      <td>1.10</td>\n",
       "      <td></td>\n",
       "      <td></td>\n",
       "      <td>f</td>\n",
       "    </tr>\n",
       "    <tr>\n",
       "      <th>2</th>\n",
       "      <td>0</td>\n",
       "      <td>2</td>\n",
       "      <td>1.0</td>\n",
       "      <td>0.0</td>\n",
       "      <td>mzuv</td>\n",
       "      <td>MA.1.A.3.f</td>\n",
       "      <td>0.368830</td>\n",
       "      <td>Gemischte Grundoperationen</td>\n",
       "      <td>single choice</td>\n",
       "      <td>NaN</td>\n",
       "      <td>...</td>\n",
       "      <td>7.661659e-312</td>\n",
       "      <td>ms-kber</td>\n",
       "      <td>2B0D3CD783DB6BE2341F8CF101395AC464874A993E8CCF...</td>\n",
       "      <td>0.751265</td>\n",
       "      <td>1000000.000000</td>\n",
       "      <td>0</td>\n",
       "      <td>0.00</td>\n",
       "      <td></td>\n",
       "      <td></td>\n",
       "      <td>m</td>\n",
       "    </tr>\n",
       "    <tr>\n",
       "      <th>3</th>\n",
       "      <td>0</td>\n",
       "      <td>3</td>\n",
       "      <td>1.0</td>\n",
       "      <td>0.0</td>\n",
       "      <td>fhoe</td>\n",
       "      <td>F.1.A.1.d.1</td>\n",
       "      <td>0.367442</td>\n",
       "      <td>Aus TV und Radio</td>\n",
       "      <td>NaN</td>\n",
       "      <td>NaN</td>\n",
       "      <td>...</td>\n",
       "      <td>7.830815e-312</td>\n",
       "      <td>ms-kber</td>\n",
       "      <td>85007E334A2C9F19ECA408647E6F97139649B1465E15EB...</td>\n",
       "      <td>1.083005</td>\n",
       "      <td>1.851849</td>\n",
       "      <td>2</td>\n",
       "      <td>1.08</td>\n",
       "      <td></td>\n",
       "      <td></td>\n",
       "      <td>f</td>\n",
       "    </tr>\n",
       "    <tr>\n",
       "      <th>4</th>\n",
       "      <td>0</td>\n",
       "      <td>4</td>\n",
       "      <td>1.0</td>\n",
       "      <td>0.0</td>\n",
       "      <td>fles</td>\n",
       "      <td>F.2.A.1.d.1</td>\n",
       "      <td>1.160150</td>\n",
       "      <td>Berichte</td>\n",
       "      <td>NaN</td>\n",
       "      <td>212.0</td>\n",
       "      <td>...</td>\n",
       "      <td>7.833807e-312</td>\n",
       "      <td>ms-thema-auto</td>\n",
       "      <td>0D59C4843FFC39195EDE1DD140506CF3DF8BC6F132AAF5...</td>\n",
       "      <td>0.657010</td>\n",
       "      <td>2.727266</td>\n",
       "      <td>3</td>\n",
       "      <td>1.10</td>\n",
       "      <td></td>\n",
       "      <td></td>\n",
       "      <td>f</td>\n",
       "    </tr>\n",
       "  </tbody>\n",
       "</table>\n",
       "<p>5 rows × 24 columns</p>\n",
       "</div>"
      ],
      "text/plain": [
       "   studentId  code  motherTongue  Gender scale       matrix  IRT_difficulty  \\\n",
       "0          0     0           1.0     0.0  fhoe  F.1.A.1.c.1       -0.370330   \n",
       "1          0     1           1.0     0.0  fles  F.2.A.1.b.3       -0.494880   \n",
       "2          0     2           1.0     0.0  mzuv   MA.1.A.3.f        0.368830   \n",
       "3          0     3           1.0     0.0  fhoe  F.1.A.1.d.1        0.367442   \n",
       "4          0     4           1.0     0.0  fles  F.2.A.1.d.1        1.160150   \n",
       "\n",
       "                        topic responseformat  textlength  ...      timestamp  \\\n",
       "0        Monologe und Dialoge            NaN         NaN  ...  7.830814e-312   \n",
       "1                    Berichte            NaN         NaN  ...  7.833807e-312   \n",
       "2  Gemischte Grundoperationen  single choice         NaN  ...  7.661659e-312   \n",
       "3            Aus TV und Radio            NaN         NaN  ...  7.830815e-312   \n",
       "4                    Berichte            NaN       212.0  ...  7.833807e-312   \n",
       "\n",
       "         useCase                                       assessmentId   ability  \\\n",
       "0        ms-kber  85007E334A2C9F19ECA408647E6F97139649B1465E15EB...  1.083005   \n",
       "1  ms-thema-auto  0D59C4843FFC39195EDE1DD140506CF3DF8BC6F132AAF5...  0.657010   \n",
       "2        ms-kber  2B0D3CD783DB6BE2341F8CF101395AC464874A993E8CCF...  0.751265   \n",
       "3        ms-kber  85007E334A2C9F19ECA408647E6F97139649B1465E15EB...  1.083005   \n",
       "4  ms-thema-auto  0D59C4843FFC39195EDE1DD140506CF3DF8BC6F132AAF5...  0.657010   \n",
       "\n",
       "        frequency previous_sessions years_from_start  matdiff  matcode  domain  \n",
       "0        1.851849                 2             1.08                         f  \n",
       "1        2.727266                 3             1.10                         f  \n",
       "2  1000000.000000                 0             0.00                         m  \n",
       "3        1.851849                 2             1.08                         f  \n",
       "4        2.727266                 3             1.10                         f  \n",
       "\n",
       "[5 rows x 24 columns]"
      ]
     },
     "execution_count": 7,
     "metadata": {},
     "output_type": "execute_result"
    }
   ],
   "source": [
    "df.head()"
   ]
  },
  {
   "cell_type": "markdown",
   "metadata": {},
   "source": [
    "edge_dim = data['student', 'responds', 'item'].edge_attr.shape[1]\n",
    "if IRT_DIMS > 0:\n",
    "    model = MIRT_2PL(IRT_DIMS, edge_dim, data)\n",
    "else:\n",
    "    model = EmbedderHeterogeneous( \n",
    "        n_students =  data['student'].x.size(0),\n",
    "        n_items = data['item'].x.size(0),\n",
    "        student_inchannel = data['student'].x.size(1),\n",
    "        item_inchannel = data['item'].x.size(1),\n",
    "        hidden_channels=parameters['hidden_dims'],\n",
    "        edge_channel=edge_dim,\n",
    "        metadata=data.metadata()\n",
    "        ).to(device)\n",
    "    \n",
    "model = model.to(device)"
   ]
  },
  {
   "cell_type": "code",
   "execution_count": 8,
   "metadata": {},
   "outputs": [
    {
     "name": "stdout",
     "output_type": "stream",
     "text": [
      "WARNING: running with a fixed random state\n"
     ]
    },
    {
     "name": "stderr",
     "output_type": "stream",
     "text": [
      "\r",
      "0it [00:00, ?it/s]"
     ]
    },
    {
     "name": "stdout",
     "output_type": "stream",
     "text": [
      "Parameters\n",
      "{'n_students': 51508, 'n_items': 17868, 'student_inchannel': 2, 'item_inchannel': None, 'hidden_channels': [16, 8], 'edge_channel': 2}\n"
     ]
    },
    {
     "name": "stderr",
     "output_type": "stream",
     "text": [
      "\n",
      "  0%|          | 0/10000 [00:00<?, ?it/s]\u001b[A\n",
      "\n",
      "  0%|          | 0/4 [00:00<?, ?it/s]\u001b[A\u001b[A\n",
      "\n",
      " 25%|██▌       | 1/4 [00:05<00:16,  5.37s/it]\u001b[A\u001b[A\n",
      "\n",
      " 50%|█████     | 2/4 [00:10<00:10,  5.39s/it]\u001b[A\u001b[A\n",
      "\n",
      " 75%|███████▌  | 3/4 [00:14<00:04,  4.76s/it]\u001b[A\u001b[A\n",
      "\n",
      "100%|██████████| 4/4 [00:18<00:00,  4.50s/it]\u001b[A\u001b[A\n"
     ]
    },
    {
     "name": "stdout",
     "output_type": "stream",
     "text": [
      "\n",
      "Epoch: 001, Loss: 0.6214, Val: 0.5000, Test: 0.4997\n"
     ]
    },
    {
     "name": "stderr",
     "output_type": "stream",
     "text": [
      "\n",
      "  0%|          | 1/10000 [00:19<54:51:56, 19.75s/it]\u001b[A\n",
      "\n",
      "  0%|          | 0/4 [00:00<?, ?it/s]\u001b[A\u001b[A\n",
      "\n",
      " 25%|██▌       | 1/4 [00:03<00:10,  3.53s/it]\u001b[A\u001b[A\n",
      "\n",
      " 50%|█████     | 2/4 [00:07<00:07,  3.68s/it]\u001b[A\u001b[A\n",
      "\n",
      " 75%|███████▌  | 3/4 [00:11<00:03,  3.72s/it]\u001b[A\u001b[A\n",
      "\n",
      "100%|██████████| 4/4 [00:13<00:00,  3.50s/it]\u001b[A\u001b[A\n"
     ]
    },
    {
     "name": "stdout",
     "output_type": "stream",
     "text": [
      "\n",
      "Epoch: 002, Loss: 0.5494, Val: 0.5020, Test: 0.5004\n"
     ]
    },
    {
     "name": "stderr",
     "output_type": "stream",
     "text": [
      "\n",
      "  0%|          | 2/10000 [00:35<47:46:24, 17.20s/it]\u001b[A\n",
      "\n",
      "  0%|          | 0/4 [00:00<?, ?it/s]\u001b[A\u001b[A\n",
      "\n",
      " 25%|██▌       | 1/4 [00:03<00:10,  3.40s/it]\u001b[A\u001b[A\n",
      "\n",
      " 50%|█████     | 2/4 [00:07<00:07,  3.85s/it]\u001b[A\u001b[A\n",
      "\n",
      " 75%|███████▌  | 3/4 [00:11<00:03,  3.82s/it]\u001b[A\u001b[A\n",
      "\n",
      "100%|██████████| 4/4 [00:14<00:00,  3.55s/it]\u001b[A\u001b[A\n"
     ]
    },
    {
     "name": "stdout",
     "output_type": "stream",
     "text": [
      "\n",
      "Epoch: 003, Loss: 0.5168, Val: 0.5147, Test: 0.5127\n"
     ]
    },
    {
     "name": "stderr",
     "output_type": "stream",
     "text": [
      "\n",
      "  0%|          | 3/10000 [00:50<45:49:06, 16.50s/it]\u001b[A\n",
      "\n",
      "  0%|          | 0/4 [00:00<?, ?it/s]\u001b[A\u001b[A\n",
      "\n",
      " 25%|██▌       | 1/4 [00:03<00:11,  3.83s/it]\u001b[A\u001b[A\n",
      "\n",
      " 50%|█████     | 2/4 [00:07<00:07,  3.90s/it]\u001b[A\u001b[A\n",
      "\n",
      " 75%|███████▌  | 3/4 [00:11<00:04,  4.00s/it]\u001b[A\u001b[A\n",
      "\n",
      "100%|██████████| 4/4 [00:15<00:00,  3.76s/it]\u001b[A\u001b[A\n",
      "\n",
      "  0%|          | 4/10000 [01:06<45:01:58, 16.22s/it]\u001b[A\n",
      "\n",
      "  0%|          | 0/4 [00:00<?, ?it/s]\u001b[A\u001b[A\n",
      "\n",
      " 25%|██▌       | 1/4 [00:03<00:10,  3.37s/it]\u001b[A\u001b[A\n",
      "\n",
      " 50%|█████     | 2/4 [00:06<00:06,  3.42s/it]\u001b[A\u001b[A\n",
      "\n",
      " 75%|███████▌  | 3/4 [00:10<00:03,  3.50s/it]\u001b[A\u001b[A\n",
      "\n",
      "100%|██████████| 4/4 [00:13<00:00,  3.36s/it]\u001b[A\u001b[A\n",
      "\n",
      "  0%|          | 5/10000 [01:20<42:51:39, 15.44s/it]\u001b[A\n",
      "\n",
      "  0%|          | 0/4 [00:00<?, ?it/s]\u001b[A\u001b[A\n",
      "\n",
      " 25%|██▌       | 1/4 [00:03<00:10,  3.39s/it]\u001b[A\u001b[A\n",
      "\n",
      " 50%|█████     | 2/4 [00:07<00:07,  3.89s/it]\u001b[A\u001b[A\n",
      "\n",
      " 75%|███████▌  | 3/4 [00:11<00:03,  3.69s/it]\u001b[A\u001b[A\n",
      "\n",
      "100%|██████████| 4/4 [00:14<00:00,  3.51s/it]\u001b[A\u001b[A\n",
      "\n",
      "  0%|          | 6/10000 [01:35<42:17:19, 15.23s/it]\u001b[A\n",
      "\n",
      "  0%|          | 0/4 [00:00<?, ?it/s]\u001b[A\u001b[A\n",
      "\n",
      " 25%|██▌       | 1/4 [00:03<00:10,  3.44s/it]\u001b[A\u001b[A\n",
      "\n",
      " 50%|█████     | 2/4 [00:07<00:07,  3.67s/it]\u001b[A\u001b[A\n",
      "\n",
      " 75%|███████▌  | 3/4 [00:10<00:03,  3.61s/it]\u001b[A\u001b[A\n",
      "\n",
      "100%|██████████| 4/4 [00:14<00:00,  3.52s/it]\u001b[A\u001b[A\n"
     ]
    },
    {
     "name": "stdout",
     "output_type": "stream",
     "text": [
      "\n",
      "Epoch: 007, Loss: 0.5040, Val: 0.5293, Test: 0.5303\n"
     ]
    },
    {
     "name": "stderr",
     "output_type": "stream",
     "text": [
      "\n",
      "  0%|          | 7/10000 [01:51<42:52:28, 15.45s/it]\u001b[A\n",
      "\n",
      "  0%|          | 0/4 [00:00<?, ?it/s]\u001b[A\u001b[A\n",
      "\n",
      " 25%|██▌       | 1/4 [00:04<00:13,  4.39s/it]\u001b[A\u001b[A\n",
      "\n",
      " 50%|█████     | 2/4 [00:08<00:08,  4.23s/it]\u001b[A\u001b[A\n",
      "\n",
      " 75%|███████▌  | 3/4 [00:12<00:03,  3.94s/it]\u001b[A\u001b[A\n",
      "\n",
      "100%|██████████| 4/4 [00:15<00:00,  3.89s/it]\u001b[A\u001b[A\n"
     ]
    },
    {
     "name": "stdout",
     "output_type": "stream",
     "text": [
      "\n",
      "Epoch: 008, Loss: 0.4929, Val: 0.5569, Test: 0.5577\n"
     ]
    },
    {
     "name": "stderr",
     "output_type": "stream",
     "text": [
      "\n",
      "  0%|          | 8/10000 [02:08<44:19:44, 15.97s/it]\u001b[A\n",
      "\n",
      "  0%|          | 0/4 [00:00<?, ?it/s]\u001b[A\u001b[A\n",
      "\n",
      " 25%|██▌       | 1/4 [00:04<00:13,  4.40s/it]\u001b[A\u001b[A\n",
      "\n",
      " 50%|█████     | 2/4 [00:08<00:08,  4.32s/it]\u001b[A\u001b[A\n",
      "\n",
      " 75%|███████▌  | 3/4 [00:12<00:04,  4.23s/it]\u001b[A\u001b[A\n",
      "\n",
      "100%|██████████| 4/4 [00:15<00:00,  3.95s/it]\u001b[A\u001b[A\n"
     ]
    },
    {
     "name": "stdout",
     "output_type": "stream",
     "text": [
      "\n",
      "Epoch: 009, Loss: 0.4847, Val: 0.5734, Test: 0.5727\n"
     ]
    },
    {
     "name": "stderr",
     "output_type": "stream",
     "text": [
      "\n",
      "  0%|          | 9/10000 [02:25<45:37:32, 16.44s/it]\u001b[A\n",
      "\n",
      "  0%|          | 0/4 [00:00<?, ?it/s]\u001b[A\u001b[A\n",
      "\n",
      " 25%|██▌       | 1/4 [00:03<00:10,  3.51s/it]\u001b[A\u001b[A\n",
      "\n",
      " 50%|█████     | 2/4 [00:06<00:06,  3.46s/it]\u001b[A\u001b[A\n",
      "\n",
      " 75%|███████▌  | 3/4 [00:10<00:03,  3.43s/it]\u001b[A\u001b[A\n",
      "\n",
      "100%|██████████| 4/4 [00:13<00:00,  3.32s/it]\u001b[A\u001b[A\n"
     ]
    },
    {
     "name": "stdout",
     "output_type": "stream",
     "text": [
      "\n",
      "Epoch: 010, Loss: 0.4804, Val: 0.5806, Test: 0.5788\n"
     ]
    },
    {
     "name": "stderr",
     "output_type": "stream",
     "text": [
      "\n",
      "  0%|          | 10/10000 [02:40<44:15:44, 15.95s/it]\u001b[A\n",
      "\n",
      "  0%|          | 0/4 [00:00<?, ?it/s]\u001b[A\u001b[A\n",
      "\n",
      " 25%|██▌       | 1/4 [00:03<00:09,  3.25s/it]\u001b[A\u001b[A\n",
      "\n",
      " 50%|█████     | 2/4 [00:07<00:07,  3.54s/it]\u001b[A\u001b[A\n",
      "\n",
      " 75%|███████▌  | 3/4 [00:10<00:03,  3.50s/it]\u001b[A\u001b[A\n",
      "\n",
      "100%|██████████| 4/4 [00:13<00:00,  3.29s/it]\u001b[A\u001b[A\n"
     ]
    },
    {
     "name": "stdout",
     "output_type": "stream",
     "text": [
      "\n",
      "Epoch: 011, Loss: 0.4766, Val: 0.5857, Test: 0.5843\n"
     ]
    },
    {
     "name": "stderr",
     "output_type": "stream",
     "text": [
      "\n",
      "  0%|          | 11/10000 [02:55<43:13:57, 15.58s/it]\u001b[A\n",
      "\n",
      "  0%|          | 0/4 [00:00<?, ?it/s]\u001b[A\u001b[A\n",
      "\n",
      " 25%|██▌       | 1/4 [00:03<00:09,  3.18s/it]\u001b[A\u001b[A\n",
      "\n",
      " 50%|█████     | 2/4 [00:06<00:06,  3.10s/it]\u001b[A\u001b[A\n",
      "\n",
      " 75%|███████▌  | 3/4 [00:09<00:03,  3.09s/it]\u001b[A\u001b[A\n",
      "\n",
      "100%|██████████| 4/4 [00:11<00:00,  2.98s/it]\u001b[A\u001b[A\n"
     ]
    },
    {
     "name": "stdout",
     "output_type": "stream",
     "text": [
      "\n",
      "Epoch: 012, Loss: 0.4712, Val: 0.5906, Test: 0.5896\n"
     ]
    },
    {
     "name": "stderr",
     "output_type": "stream",
     "text": [
      "\n",
      "  0%|          | 12/10000 [03:09<41:40:41, 15.02s/it]\u001b[A\n",
      "\n",
      "  0%|          | 0/4 [00:00<?, ?it/s]\u001b[A\u001b[A\n",
      "\n",
      " 25%|██▌       | 1/4 [00:03<00:10,  3.51s/it]\u001b[A\u001b[A\n",
      "\n",
      " 50%|█████     | 2/4 [00:06<00:06,  3.30s/it]\u001b[A\u001b[A\n",
      "\n",
      " 75%|███████▌  | 3/4 [00:10<00:03,  3.43s/it]\u001b[A\u001b[A\n",
      "\n",
      "100%|██████████| 4/4 [00:13<00:00,  3.26s/it]\u001b[A\u001b[A\n"
     ]
    },
    {
     "name": "stdout",
     "output_type": "stream",
     "text": [
      "\n",
      "Epoch: 013, Loss: 0.4659, Val: 0.5953, Test: 0.5946\n"
     ]
    },
    {
     "name": "stderr",
     "output_type": "stream",
     "text": [
      "\n",
      "  0%|          | 13/10000 [03:24<41:30:48, 14.96s/it]\u001b[A\n",
      "\n",
      "  0%|          | 0/4 [00:00<?, ?it/s]\u001b[A\u001b[A\n",
      "\n",
      " 25%|██▌       | 1/4 [00:03<00:10,  3.52s/it]\u001b[A\u001b[A\n",
      "\n",
      " 50%|█████     | 2/4 [00:07<00:08,  4.05s/it]\u001b[A\u001b[A\n",
      "\n",
      " 75%|███████▌  | 3/4 [00:11<00:03,  3.80s/it]\u001b[A\u001b[A\n",
      "\n",
      "100%|██████████| 4/4 [00:14<00:00,  3.59s/it]\u001b[A\u001b[A\n"
     ]
    },
    {
     "name": "stdout",
     "output_type": "stream",
     "text": [
      "\n",
      "Epoch: 014, Loss: 0.4612, Val: 0.5995, Test: 0.5986\n"
     ]
    },
    {
     "name": "stderr",
     "output_type": "stream",
     "text": [
      "\n",
      "  0%|          | 14/10000 [03:39<42:12:25, 15.22s/it]\u001b[A\n",
      "\n",
      "  0%|          | 0/4 [00:00<?, ?it/s]\u001b[A\u001b[A\n",
      "\n",
      " 25%|██▌       | 1/4 [00:03<00:10,  3.53s/it]\u001b[A\u001b[A\n",
      "\n",
      " 50%|█████     | 2/4 [00:06<00:06,  3.32s/it]\u001b[A\u001b[A\n",
      "\n",
      " 75%|███████▌  | 3/4 [00:10<00:03,  3.61s/it]\u001b[A\u001b[A\n",
      "\n",
      "100%|██████████| 4/4 [00:13<00:00,  3.40s/it]\u001b[A\u001b[A\n"
     ]
    },
    {
     "name": "stdout",
     "output_type": "stream",
     "text": [
      "\n",
      "Epoch: 015, Loss: 0.4568, Val: 0.6000, Test: 0.5998\n"
     ]
    },
    {
     "name": "stderr",
     "output_type": "stream",
     "text": [
      "\n",
      "  0%|          | 15/10000 [03:55<42:04:56, 15.17s/it]\u001b[A\n",
      "\n",
      "  0%|          | 0/4 [00:00<?, ?it/s]\u001b[A\u001b[A\n",
      "\n",
      " 25%|██▌       | 1/4 [00:03<00:10,  3.61s/it]\u001b[A\u001b[A\n",
      "\n",
      " 50%|█████     | 2/4 [00:07<00:07,  3.83s/it]\u001b[A\u001b[A\n",
      "\n",
      " 75%|███████▌  | 3/4 [00:11<00:03,  3.70s/it]\u001b[A\u001b[A\n",
      "\n",
      "100%|██████████| 4/4 [00:14<00:00,  3.51s/it]\u001b[A\u001b[A\n"
     ]
    },
    {
     "name": "stdout",
     "output_type": "stream",
     "text": [
      "\n",
      "Epoch: 016, Loss: 0.4522, Val: 0.6002, Test: 0.5999\n"
     ]
    },
    {
     "name": "stderr",
     "output_type": "stream",
     "text": [
      "\n",
      "  0%|          | 16/10000 [04:10<42:17:31, 15.25s/it]\u001b[A\n",
      "\n",
      "  0%|          | 0/4 [00:00<?, ?it/s]\u001b[A\u001b[A\n",
      "\n",
      " 25%|██▌       | 1/4 [00:04<00:12,  4.08s/it]\u001b[A\u001b[A\n",
      "\n",
      " 50%|█████     | 2/4 [00:07<00:07,  3.90s/it]\u001b[A\u001b[A\n",
      "\n",
      " 75%|███████▌  | 3/4 [00:11<00:03,  3.90s/it]\u001b[A\u001b[A\n",
      "\n",
      "100%|██████████| 4/4 [00:14<00:00,  3.67s/it]\u001b[A\u001b[A\n"
     ]
    },
    {
     "name": "stdout",
     "output_type": "stream",
     "text": [
      "\n",
      "Epoch: 017, Loss: 0.4477, Val: 0.6008, Test: 0.6000\n"
     ]
    },
    {
     "name": "stderr",
     "output_type": "stream",
     "text": [
      "\n",
      "  0%|          | 17/10000 [04:26<42:58:35, 15.50s/it]\u001b[A\n",
      "\n",
      "  0%|          | 0/4 [00:00<?, ?it/s]\u001b[A\u001b[A\n",
      "\n",
      " 25%|██▌       | 1/4 [00:04<00:12,  4.11s/it]\u001b[A\u001b[A\n",
      "\n",
      " 50%|█████     | 2/4 [00:07<00:07,  3.85s/it]\u001b[A\u001b[A\n",
      "\n",
      " 75%|███████▌  | 3/4 [00:11<00:03,  3.72s/it]\u001b[A\u001b[A\n",
      "\n",
      "100%|██████████| 4/4 [00:14<00:00,  3.56s/it]\u001b[A\u001b[A\n",
      "\n",
      "  0%|          | 18/10000 [04:41<42:37:13, 15.37s/it]\u001b[A\n",
      "\n",
      "  0%|          | 0/4 [00:00<?, ?it/s]\u001b[A\u001b[A\n",
      "\n",
      " 25%|██▌       | 1/4 [00:04<00:12,  4.24s/it]\u001b[A\u001b[A\n",
      "\n",
      " 50%|█████     | 2/4 [00:08<00:08,  4.10s/it]\u001b[A\u001b[A\n",
      "\n",
      " 75%|███████▌  | 3/4 [00:11<00:03,  3.92s/it]\u001b[A\u001b[A\n",
      "\n",
      "100%|██████████| 4/4 [00:15<00:00,  3.85s/it]\u001b[A\u001b[A\n",
      "\n",
      "  0%|          | 19/10000 [04:57<43:09:14, 15.57s/it]\u001b[A\n",
      "\n",
      "  0%|          | 0/4 [00:00<?, ?it/s]\u001b[A\u001b[A\n",
      "\n",
      " 25%|██▌       | 1/4 [00:03<00:10,  3.44s/it]\u001b[A\u001b[A\n",
      "\n",
      " 50%|█████     | 2/4 [00:06<00:06,  3.49s/it]\u001b[A\u001b[A\n",
      "\n",
      " 75%|███████▌  | 3/4 [00:10<00:03,  3.51s/it]\u001b[A\u001b[A\n",
      "\n",
      "100%|██████████| 4/4 [00:13<00:00,  3.43s/it]\u001b[A\u001b[A\n",
      "\n",
      "  0%|          | 20/10000 [05:12<42:15:29, 15.24s/it]\u001b[A\n",
      "\n",
      "  0%|          | 0/4 [00:00<?, ?it/s]\u001b[A\u001b[A\n",
      "\n",
      " 25%|██▌       | 1/4 [00:03<00:11,  3.91s/it]\u001b[A\u001b[A\n",
      "\n",
      " 50%|█████     | 2/4 [00:07<00:08,  4.01s/it]\u001b[A\u001b[A\n",
      "\n",
      " 75%|███████▌  | 3/4 [00:11<00:03,  3.83s/it]\u001b[A\u001b[A\n",
      "\n",
      "100%|██████████| 4/4 [00:14<00:00,  3.74s/it]\u001b[A\u001b[A\n",
      "\n",
      "  0%|          | 21/10000 [05:27<42:38:36, 15.38s/it]\u001b[A\n",
      "\n",
      "  0%|          | 0/4 [00:00<?, ?it/s]\u001b[A\u001b[A\n",
      "\n",
      " 25%|██▌       | 1/4 [00:03<00:11,  3.76s/it]\u001b[A\u001b[A\n",
      "\n",
      " 50%|█████     | 2/4 [00:07<00:07,  3.91s/it]\u001b[A\u001b[A\n",
      "\n",
      " 75%|███████▌  | 3/4 [00:11<00:03,  3.81s/it]\u001b[A\u001b[A\n",
      "\n",
      "100%|██████████| 4/4 [00:15<00:00,  3.85s/it]\u001b[A\u001b[A\n",
      "\n",
      "  0%|          | 22/10000 [05:43<43:14:16, 15.60s/it]\u001b[A\n",
      "\n",
      "  0%|          | 0/4 [00:00<?, ?it/s]\u001b[A\u001b[A\n",
      "\n",
      " 25%|██▌       | 1/4 [00:03<00:11,  3.94s/it]\u001b[A\u001b[A\n",
      "\n",
      " 50%|█████     | 2/4 [00:07<00:07,  3.82s/it]\u001b[A\u001b[A\n",
      "\n",
      " 75%|███████▌  | 3/4 [00:11<00:04,  4.04s/it]\u001b[A\u001b[A\n",
      "\n",
      "100%|██████████| 4/4 [00:15<00:00,  3.82s/it]\u001b[A\u001b[A\n",
      "\n",
      "  0%|          | 23/10000 [06:00<43:42:41, 15.77s/it]\u001b[A\n",
      "\n",
      "  0%|          | 0/4 [00:00<?, ?it/s]\u001b[A\u001b[A\n",
      "\n",
      " 25%|██▌       | 1/4 [00:03<00:11,  3.87s/it]\u001b[A\u001b[A\n",
      "\n",
      " 50%|█████     | 2/4 [00:07<00:07,  3.93s/it]\u001b[A\u001b[A\n",
      "\n",
      " 75%|███████▌  | 3/4 [00:11<00:03,  3.85s/it]\u001b[A\u001b[A\n",
      "\n",
      "100%|██████████| 4/4 [00:14<00:00,  3.72s/it]\u001b[A\u001b[A\n",
      "\n",
      "  0%|          | 24/10000 [06:15<43:35:21, 15.73s/it]\u001b[A\n",
      "\n",
      "  0%|          | 0/4 [00:00<?, ?it/s]\u001b[A\u001b[A\n",
      "\n",
      " 25%|██▌       | 1/4 [00:03<00:11,  3.72s/it]\u001b[A\u001b[A\n",
      "\n",
      " 50%|█████     | 2/4 [00:07<00:07,  3.73s/it]\u001b[A\u001b[A\n",
      "\n",
      " 75%|███████▌  | 3/4 [00:10<00:03,  3.52s/it]\u001b[A\u001b[A\n",
      "\n",
      "100%|██████████| 4/4 [00:13<00:00,  3.47s/it]\u001b[A\u001b[A\n",
      "\n",
      "  0%|          | 25/10000 [06:30<42:39:00, 15.39s/it]\u001b[A\n",
      "\n",
      "  0%|          | 0/4 [00:00<?, ?it/s]\u001b[A\u001b[A\n",
      "\n",
      " 25%|██▌       | 1/4 [00:03<00:10,  3.64s/it]\u001b[A\u001b[A\n",
      "\n",
      " 50%|█████     | 2/4 [00:07<00:07,  3.51s/it]\u001b[A\u001b[A\n",
      "\n",
      " 75%|███████▌  | 3/4 [00:10<00:03,  3.43s/it]\u001b[A\u001b[A\n",
      "\n",
      "100%|██████████| 4/4 [00:13<00:00,  3.30s/it]\u001b[A\u001b[A\n",
      "\n",
      "  0%|          | 26/10000 [06:44<41:23:44, 14.94s/it]\u001b[A\n",
      "\n",
      "  0%|          | 0/4 [00:00<?, ?it/s]\u001b[A\u001b[A\n",
      "\n",
      " 25%|██▌       | 1/4 [00:03<00:10,  3.65s/it]\u001b[A\u001b[A\n",
      "\n",
      " 50%|█████     | 2/4 [00:07<00:07,  3.58s/it]\u001b[A\u001b[A\n",
      "\n",
      " 75%|███████▌  | 3/4 [00:10<00:03,  3.59s/it]\u001b[A\u001b[A\n",
      "\n",
      "100%|██████████| 4/4 [00:13<00:00,  3.41s/it]\u001b[A\u001b[A\n",
      "\n",
      "  0%|          | 27/10000 [06:58<40:50:34, 14.74s/it]\u001b[A\n",
      "\n",
      "  0%|          | 0/4 [00:00<?, ?it/s]\u001b[A\u001b[A\n",
      "\n",
      " 25%|██▌       | 1/4 [00:03<00:09,  3.31s/it]\u001b[A\u001b[A\n",
      "\n",
      " 50%|█████     | 2/4 [00:06<00:06,  3.34s/it]\u001b[A\u001b[A\n",
      "\n",
      " 75%|███████▌  | 3/4 [00:09<00:03,  3.17s/it]\u001b[A\u001b[A\n",
      "\n",
      "100%|██████████| 4/4 [00:12<00:00,  3.16s/it]\u001b[A\u001b[A\n",
      "\n",
      "  0%|          | 28/10000 [07:11<39:31:25, 14.27s/it]\u001b[A\n",
      "\n",
      "  0%|          | 0/4 [00:00<?, ?it/s]\u001b[A\u001b[A\n",
      "\n",
      " 25%|██▌       | 1/4 [00:03<00:09,  3.21s/it]\u001b[A\u001b[A\n",
      "\n",
      " 50%|█████     | 2/4 [00:06<00:06,  3.11s/it]\u001b[A\u001b[A\n",
      "\n",
      " 75%|███████▌  | 3/4 [00:09<00:03,  3.16s/it]\u001b[A\u001b[A\n",
      "\n",
      "100%|██████████| 4/4 [00:12<00:00,  3.06s/it]\u001b[A\u001b[A\n",
      "\n",
      "  0%|          | 29/10000 [07:24<38:25:14, 13.87s/it]\u001b[A\n",
      "\n",
      "  0%|          | 0/4 [00:00<?, ?it/s]\u001b[A\u001b[A\n",
      "\n",
      " 25%|██▌       | 1/4 [00:03<00:09,  3.03s/it]\u001b[A\u001b[A\n",
      "\n",
      " 50%|█████     | 2/4 [00:06<00:06,  3.07s/it]\u001b[A\u001b[A\n",
      "\n",
      " 75%|███████▌  | 3/4 [00:09<00:03,  3.02s/it]\u001b[A\u001b[A\n",
      "\n",
      "100%|██████████| 4/4 [00:11<00:00,  2.92s/it]\u001b[A\u001b[A\n",
      "\n",
      "  0%|          | 30/10000 [07:36<37:09:35, 13.42s/it]\u001b[A\n",
      "\n",
      "  0%|          | 0/4 [00:00<?, ?it/s]\u001b[A\u001b[A\n",
      "\n",
      " 25%|██▌       | 1/4 [00:03<00:10,  3.33s/it]\u001b[A\u001b[A\n",
      "\n",
      " 50%|█████     | 2/4 [00:07<00:07,  3.55s/it]\u001b[A\u001b[A\n",
      "\n",
      " 75%|███████▌  | 3/4 [00:10<00:03,  3.42s/it]\u001b[A\u001b[A\n",
      "\n",
      "100%|██████████| 4/4 [00:12<00:00,  3.21s/it]\u001b[A\u001b[A\n",
      "\n",
      "  0%|          | 31/10000 [07:50<37:18:39, 13.47s/it]\u001b[A\n",
      "\n",
      "  0%|          | 0/4 [00:00<?, ?it/s]\u001b[A\u001b[A\n",
      "\n",
      " 25%|██▌       | 1/4 [00:04<00:12,  4.03s/it]\u001b[A\u001b[A\n",
      "\n",
      " 50%|█████     | 2/4 [00:07<00:07,  3.67s/it]\u001b[A\u001b[A\n",
      "\n",
      " 75%|███████▌  | 3/4 [00:11<00:03,  3.62s/it]\u001b[A\u001b[A\n",
      "\n",
      "100%|██████████| 4/4 [00:13<00:00,  3.45s/it]\u001b[A\u001b[A\n",
      "\n",
      "  0%|          | 32/10000 [08:05<38:14:53, 13.81s/it]\u001b[A\n",
      "\n",
      "  0%|          | 0/4 [00:00<?, ?it/s]\u001b[A\u001b[A\n",
      "\n",
      " 25%|██▌       | 1/4 [00:03<00:11,  3.87s/it]\u001b[A\u001b[A\n",
      "\n",
      " 50%|█████     | 2/4 [00:08<00:08,  4.05s/it]\u001b[A\u001b[A\n",
      "\n",
      " 75%|███████▌  | 3/4 [00:11<00:03,  3.91s/it]\u001b[A\u001b[A\n",
      "\n",
      "100%|██████████| 4/4 [00:14<00:00,  3.69s/it]\u001b[A\u001b[A\n",
      "\n",
      "  0%|          | 33/10000 [08:20<39:32:29, 14.28s/it]\u001b[A\n",
      "\n",
      "  0%|          | 0/4 [00:00<?, ?it/s]\u001b[A\u001b[A\n",
      "\n",
      " 25%|██▌       | 1/4 [00:03<00:09,  3.30s/it]\u001b[A\u001b[A\n",
      "\n",
      " 50%|█████     | 2/4 [00:06<00:07,  3.51s/it]\u001b[A\u001b[A\n",
      "\n",
      " 75%|███████▌  | 3/4 [00:10<00:03,  3.40s/it]\u001b[A\u001b[A\n",
      "\n",
      "100%|██████████| 4/4 [00:13<00:00,  3.32s/it]\u001b[A\u001b[A\n",
      "\n",
      "  0%|          | 34/10000 [08:34<39:20:36, 14.21s/it]\u001b[A\n",
      "\n",
      "  0%|          | 0/4 [00:00<?, ?it/s]\u001b[A\u001b[A\n",
      "\n",
      " 25%|██▌       | 1/4 [00:04<00:13,  4.42s/it]\u001b[A\u001b[A\n",
      "\n",
      " 50%|█████     | 2/4 [00:07<00:07,  3.76s/it]\u001b[A\u001b[A\n",
      "\n",
      " 75%|███████▌  | 3/4 [00:11<00:03,  3.59s/it]\u001b[A\u001b[A\n",
      "\n",
      "100%|██████████| 4/4 [00:14<00:00,  3.62s/it]\u001b[A\u001b[A\n",
      "\n",
      "  0%|          | 35/10000 [08:49<40:15:03, 14.54s/it]\u001b[A\n",
      "\n",
      "  0%|          | 0/4 [00:00<?, ?it/s]\u001b[A\u001b[A\n",
      "\n",
      " 25%|██▌       | 1/4 [00:04<00:12,  4.04s/it]\u001b[A\u001b[A\n",
      "\n",
      " 50%|█████     | 2/4 [00:07<00:07,  3.59s/it]\u001b[A\u001b[A\n",
      "\n",
      " 75%|███████▌  | 3/4 [00:11<00:03,  3.68s/it]\u001b[A\u001b[A\n",
      "\n",
      "100%|██████████| 4/4 [00:14<00:00,  3.54s/it]\u001b[A\u001b[A\n",
      "\n",
      "  0%|          | 36/10000 [09:04<40:27:49, 14.62s/it]\u001b[A\n",
      "\n",
      "  0%|          | 0/4 [00:00<?, ?it/s]\u001b[A\u001b[A\n",
      "\n",
      " 25%|██▌       | 1/4 [00:04<00:12,  4.25s/it]\u001b[A\u001b[A\n",
      "\n",
      " 50%|█████     | 2/4 [00:07<00:07,  3.83s/it]\u001b[A\u001b[A\n",
      "\n",
      " 75%|███████▌  | 3/4 [00:11<00:03,  3.91s/it]\u001b[A\u001b[A\n",
      "\n",
      "100%|██████████| 4/4 [00:14<00:00,  3.70s/it]\u001b[A\u001b[A\n",
      "\n",
      "  0%|          | 37/10000 [09:20<41:39:27, 15.05s/it]\u001b[A\n",
      "\n",
      "  0%|          | 0/4 [00:00<?, ?it/s]\u001b[A\u001b[A\n",
      "\n",
      " 25%|██▌       | 1/4 [00:04<00:12,  4.00s/it]\u001b[A\u001b[A\n",
      "\n",
      " 50%|█████     | 2/4 [00:08<00:08,  4.11s/it]\u001b[A\u001b[A\n",
      "\n",
      " 75%|███████▌  | 3/4 [00:12<00:04,  4.14s/it]\u001b[A\u001b[A\n",
      "\n",
      "100%|██████████| 4/4 [00:16<00:00,  4.18s/it]\u001b[A\u001b[A\n",
      "\n",
      "  0%|          | 38/10000 [09:38<43:42:43, 15.80s/it]\u001b[A\n",
      "\n",
      "  0%|          | 0/4 [00:00<?, ?it/s]\u001b[A\u001b[A\n",
      "\n",
      " 25%|██▌       | 1/4 [00:03<00:11,  4.00s/it]\u001b[A\u001b[A\n",
      "\n",
      " 50%|█████     | 2/4 [00:08<00:08,  4.00s/it]\u001b[A\u001b[A\n",
      "\n",
      " 75%|███████▌  | 3/4 [00:11<00:03,  3.97s/it]\u001b[A\u001b[A\n",
      "\n",
      "100%|██████████| 4/4 [00:15<00:00,  3.87s/it]\u001b[A\u001b[A\n"
     ]
    },
    {
     "name": "stdout",
     "output_type": "stream",
     "text": [
      "\n",
      "Epoch: 039, Loss: 0.4031, Val: 0.6020, Test: 0.6054\n"
     ]
    },
    {
     "name": "stderr",
     "output_type": "stream",
     "text": [
      "\n",
      "  0%|          | 39/10000 [09:55<44:56:51, 16.24s/it]\u001b[A\n",
      "\n",
      "  0%|          | 0/4 [00:00<?, ?it/s]\u001b[A\u001b[A\n",
      "\n",
      " 25%|██▌       | 1/4 [00:03<00:11,  3.90s/it]\u001b[A\u001b[A\n",
      "\n",
      " 50%|█████     | 2/4 [00:07<00:07,  3.99s/it]\u001b[A\u001b[A\n",
      "\n",
      " 75%|███████▌  | 3/4 [00:12<00:04,  4.22s/it]\u001b[A\u001b[A\n",
      "\n",
      "100%|██████████| 4/4 [00:15<00:00,  3.92s/it]\u001b[A\u001b[A\n"
     ]
    },
    {
     "name": "stdout",
     "output_type": "stream",
     "text": [
      "\n",
      "Epoch: 040, Loss: 0.4021, Val: 0.6033, Test: 0.6066\n"
     ]
    },
    {
     "name": "stderr",
     "output_type": "stream",
     "text": [
      "\n",
      "  0%|          | 40/10000 [10:12<45:35:38, 16.48s/it]\u001b[A\n",
      "\n",
      "  0%|          | 0/4 [00:00<?, ?it/s]\u001b[A\u001b[A\n",
      "\n",
      " 25%|██▌       | 1/4 [00:03<00:11,  3.71s/it]\u001b[A\u001b[A\n",
      "\n",
      " 50%|█████     | 2/4 [00:08<00:08,  4.07s/it]\u001b[A\u001b[A\n",
      "\n",
      " 75%|███████▌  | 3/4 [00:11<00:03,  3.93s/it]\u001b[A\u001b[A\n",
      "\n",
      "100%|██████████| 4/4 [00:14<00:00,  3.65s/it]\u001b[A\u001b[A\n"
     ]
    },
    {
     "name": "stdout",
     "output_type": "stream",
     "text": [
      "\n",
      "Epoch: 041, Loss: 0.4012, Val: 0.6038, Test: 0.6079\n"
     ]
    },
    {
     "name": "stderr",
     "output_type": "stream",
     "text": [
      "\n",
      "  0%|          | 41/10000 [10:28<45:14:29, 16.35s/it]\u001b[A\n",
      "\n",
      "  0%|          | 0/4 [00:00<?, ?it/s]\u001b[A\u001b[A\n",
      "\n",
      " 25%|██▌       | 1/4 [00:03<00:10,  3.46s/it]\u001b[A\u001b[A\n",
      "\n",
      " 50%|█████     | 2/4 [00:07<00:07,  3.60s/it]\u001b[A\u001b[A\n",
      "\n",
      " 75%|███████▌  | 3/4 [00:10<00:03,  3.68s/it]\u001b[A\u001b[A\n",
      "\n",
      "100%|██████████| 4/4 [00:14<00:00,  3.59s/it]\u001b[A\u001b[A\n"
     ]
    },
    {
     "name": "stdout",
     "output_type": "stream",
     "text": [
      "\n",
      "Epoch: 042, Loss: 0.4004, Val: 0.6046, Test: 0.6088\n"
     ]
    },
    {
     "name": "stderr",
     "output_type": "stream",
     "text": [
      "\n",
      "  0%|          | 42/10000 [10:44<44:31:42, 16.10s/it]\u001b[A\n",
      "\n",
      "  0%|          | 0/4 [00:00<?, ?it/s]\u001b[A\u001b[A\n",
      "\n",
      " 25%|██▌       | 1/4 [00:03<00:10,  3.55s/it]\u001b[A\u001b[A\n",
      "\n",
      " 50%|█████     | 2/4 [00:07<00:07,  3.55s/it]\u001b[A\u001b[A\n",
      "\n",
      " 75%|███████▌  | 3/4 [00:10<00:03,  3.45s/it]\u001b[A\u001b[A\n",
      "\n",
      "100%|██████████| 4/4 [00:14<00:00,  3.58s/it]\u001b[A\u001b[A\n"
     ]
    },
    {
     "name": "stdout",
     "output_type": "stream",
     "text": [
      "\n",
      "Epoch: 043, Loss: 0.3997, Val: 0.6055, Test: 0.6099\n"
     ]
    },
    {
     "name": "stderr",
     "output_type": "stream",
     "text": [
      "\n",
      "  0%|          | 43/10000 [11:00<44:49:51, 16.21s/it]\u001b[A\n",
      "\n",
      "  0%|          | 0/4 [00:00<?, ?it/s]\u001b[A\u001b[A\n",
      "\n",
      " 25%|██▌       | 1/4 [00:04<00:12,  4.07s/it]\u001b[A\u001b[A\n",
      "\n",
      " 50%|█████     | 2/4 [00:07<00:07,  3.86s/it]\u001b[A\u001b[A\n",
      "\n",
      " 75%|███████▌  | 3/4 [00:11<00:03,  3.81s/it]\u001b[A\u001b[A\n",
      "\n",
      "100%|██████████| 4/4 [00:14<00:00,  3.72s/it]\u001b[A\u001b[A\n"
     ]
    },
    {
     "name": "stdout",
     "output_type": "stream",
     "text": [
      "\n",
      "Epoch: 044, Loss: 0.3990, Val: 0.6060, Test: 0.6104\n"
     ]
    },
    {
     "name": "stderr",
     "output_type": "stream",
     "text": [
      "\n",
      "  0%|          | 44/10000 [11:17<45:20:21, 16.39s/it]\u001b[A\n",
      "\n",
      "  0%|          | 0/4 [00:00<?, ?it/s]\u001b[A\u001b[A\n",
      "\n",
      " 25%|██▌       | 1/4 [00:03<00:09,  3.27s/it]\u001b[A\u001b[A\n",
      "\n",
      " 50%|█████     | 2/4 [00:06<00:06,  3.35s/it]\u001b[A\u001b[A\n",
      "\n",
      " 75%|███████▌  | 3/4 [00:09<00:03,  3.24s/it]\u001b[A\u001b[A\n",
      "\n",
      "100%|██████████| 4/4 [00:12<00:00,  3.09s/it]\u001b[A\u001b[A\n"
     ]
    },
    {
     "name": "stdout",
     "output_type": "stream",
     "text": [
      "\n",
      "Epoch: 045, Loss: 0.3985, Val: 0.6065, Test: 0.6110\n"
     ]
    },
    {
     "name": "stderr",
     "output_type": "stream",
     "text": [
      "\n",
      "  0%|          | 45/10000 [11:31<43:21:11, 15.68s/it]\u001b[A\n",
      "\n",
      "  0%|          | 0/4 [00:00<?, ?it/s]\u001b[A\u001b[A\n",
      "\n",
      " 25%|██▌       | 1/4 [00:03<00:11,  3.71s/it]\u001b[A\u001b[A\n",
      "\n",
      " 50%|█████     | 2/4 [00:07<00:07,  3.59s/it]\u001b[A\u001b[A\n",
      "\n",
      " 75%|███████▌  | 3/4 [00:10<00:03,  3.50s/it]\u001b[A\u001b[A\n",
      "\n",
      "100%|██████████| 4/4 [00:13<00:00,  3.26s/it]\u001b[A\u001b[A\n"
     ]
    },
    {
     "name": "stdout",
     "output_type": "stream",
     "text": [
      "\n",
      "Epoch: 046, Loss: 0.3980, Val: 0.6073, Test: 0.6115\n"
     ]
    },
    {
     "name": "stderr",
     "output_type": "stream",
     "text": [
      "\n",
      "  0%|          | 46/10000 [11:45<42:22:49, 15.33s/it]\u001b[A\n",
      "\n",
      "  0%|          | 0/4 [00:00<?, ?it/s]\u001b[A\u001b[A\n",
      "\n",
      " 25%|██▌       | 1/4 [00:03<00:10,  3.35s/it]\u001b[A\u001b[A\n",
      "\n",
      " 50%|█████     | 2/4 [00:07<00:07,  3.53s/it]\u001b[A\u001b[A\n",
      "\n",
      " 75%|███████▌  | 3/4 [00:10<00:03,  3.47s/it]\u001b[A\u001b[A\n",
      "\n",
      "100%|██████████| 4/4 [00:13<00:00,  3.32s/it]\u001b[A\u001b[A\n"
     ]
    },
    {
     "name": "stdout",
     "output_type": "stream",
     "text": [
      "\n",
      "Epoch: 047, Loss: 0.3976, Val: 0.6076, Test: 0.6118\n"
     ]
    },
    {
     "name": "stderr",
     "output_type": "stream",
     "text": [
      "\n",
      "  0%|          | 47/10000 [12:00<41:58:06, 15.18s/it]\u001b[A\n",
      "\n",
      "  0%|          | 0/4 [00:00<?, ?it/s]\u001b[A\u001b[A\n",
      "\n",
      " 25%|██▌       | 1/4 [00:03<00:10,  3.36s/it]\u001b[A\u001b[A\n",
      "\n",
      " 50%|█████     | 2/4 [00:06<00:06,  3.25s/it]\u001b[A\u001b[A\n",
      "\n",
      " 75%|███████▌  | 3/4 [00:10<00:03,  3.66s/it]\u001b[A\u001b[A\n",
      "\n",
      "100%|██████████| 4/4 [00:13<00:00,  3.32s/it]\u001b[A\u001b[A\n"
     ]
    },
    {
     "name": "stdout",
     "output_type": "stream",
     "text": [
      "\n",
      "Epoch: 048, Loss: 0.3973, Val: 0.6079, Test: 0.6120\n"
     ]
    },
    {
     "name": "stderr",
     "output_type": "stream",
     "text": [
      "\n",
      "  0%|          | 48/10000 [12:15<41:30:13, 15.01s/it]\u001b[A\n",
      "\n",
      "  0%|          | 0/4 [00:00<?, ?it/s]\u001b[A\u001b[A\n",
      "\n",
      " 25%|██▌       | 1/4 [00:03<00:10,  3.58s/it]\u001b[A\u001b[A\n",
      "\n",
      " 50%|█████     | 2/4 [00:06<00:06,  3.43s/it]\u001b[A\u001b[A\n",
      "\n",
      " 75%|███████▌  | 3/4 [00:11<00:03,  3.83s/it]\u001b[A\u001b[A\n",
      "\n",
      "100%|██████████| 4/4 [00:15<00:00,  3.80s/it]\u001b[A\u001b[A\n"
     ]
    },
    {
     "name": "stdout",
     "output_type": "stream",
     "text": [
      "\n",
      "Epoch: 049, Loss: 0.3970, Val: 0.6081, Test: 0.6123\n"
     ]
    },
    {
     "name": "stderr",
     "output_type": "stream",
     "text": [
      "\n",
      "  0%|          | 49/10000 [12:32<43:10:14, 15.62s/it]\u001b[A\n",
      "\n",
      "  0%|          | 0/4 [00:00<?, ?it/s]\u001b[A\u001b[A\n",
      "\n",
      " 25%|██▌       | 1/4 [00:03<00:10,  3.50s/it]\u001b[A\u001b[A\n",
      "\n",
      " 50%|█████     | 2/4 [00:07<00:07,  3.70s/it]\u001b[A\u001b[A\n",
      "\n",
      " 75%|███████▌  | 3/4 [00:10<00:03,  3.52s/it]\u001b[A\u001b[A\n",
      "\n",
      "100%|██████████| 4/4 [00:13<00:00,  3.46s/it]\u001b[A\u001b[A\n"
     ]
    },
    {
     "name": "stdout",
     "output_type": "stream",
     "text": [
      "\n",
      "Epoch: 050, Loss: 0.3967, Val: 0.6083, Test: 0.6124\n"
     ]
    },
    {
     "name": "stderr",
     "output_type": "stream",
     "text": [
      "\n",
      "  0%|          | 50/10000 [12:48<43:09:13, 15.61s/it]\u001b[A\n",
      "\n",
      "  0%|          | 0/4 [00:00<?, ?it/s]\u001b[A\u001b[A\n",
      "\n",
      " 25%|██▌       | 1/4 [00:04<00:12,  4.16s/it]\u001b[A\u001b[A\n",
      "\n",
      " 50%|█████     | 2/4 [00:07<00:07,  3.88s/it]\u001b[A\u001b[A\n",
      "\n",
      " 75%|███████▌  | 3/4 [00:11<00:03,  3.79s/it]\u001b[A\u001b[A\n",
      "\n",
      "100%|██████████| 4/4 [00:15<00:00,  3.77s/it]\u001b[A\u001b[A\n"
     ]
    },
    {
     "name": "stdout",
     "output_type": "stream",
     "text": [
      "\n",
      "Epoch: 051, Loss: 0.3965, Val: 0.6086, Test: 0.6125\n"
     ]
    },
    {
     "name": "stderr",
     "output_type": "stream",
     "text": [
      "\n",
      "  1%|          | 51/10000 [13:05<44:36:05, 16.14s/it]\u001b[A\n",
      "\n",
      "  0%|          | 0/4 [00:00<?, ?it/s]\u001b[A\u001b[A\n",
      "\n",
      " 25%|██▌       | 1/4 [00:07<00:22,  7.60s/it]\u001b[A\u001b[A\n",
      "\n",
      " 50%|█████     | 2/4 [00:12<00:11,  5.76s/it]\u001b[A\u001b[A\n",
      "\n",
      " 75%|███████▌  | 3/4 [00:16<00:05,  5.04s/it]\u001b[A\u001b[A\n",
      "\n",
      "100%|██████████| 4/4 [00:21<00:00,  5.40s/it]\u001b[A\u001b[A\n"
     ]
    },
    {
     "name": "stdout",
     "output_type": "stream",
     "text": [
      "\n",
      "Epoch: 052, Loss: 0.3963, Val: 0.6088, Test: 0.6128\n"
     ]
    },
    {
     "name": "stderr",
     "output_type": "stream",
     "text": [
      "\n",
      "  1%|          | 52/10000 [13:29<51:12:21, 18.53s/it]\u001b[A\n",
      "\n",
      "  0%|          | 0/4 [00:00<?, ?it/s]\u001b[A\u001b[A\n",
      "\n",
      " 25%|██▌       | 1/4 [00:06<00:19,  6.50s/it]\u001b[A\u001b[A\n",
      "\n",
      " 50%|█████     | 2/4 [00:11<00:11,  5.75s/it]\u001b[A\u001b[A\n",
      "\n",
      " 75%|███████▌  | 3/4 [00:18<00:06,  6.21s/it]\u001b[A\u001b[A\n",
      "\n",
      "100%|██████████| 4/4 [00:23<00:00,  5.93s/it]\u001b[A\u001b[A\n",
      "\n",
      "  1%|          | 53/10000 [13:54<56:30:43, 20.45s/it]\u001b[A\n",
      "\n",
      "  0%|          | 0/4 [00:02<?, ?it/s]\u001b[A\u001b[A\n",
      "  1%|          | 53/10000 [13:56<43:36:54, 15.79s/it]\n",
      "0it [13:57, ?it/s]\n"
     ]
    },
    {
     "ename": "KeyboardInterrupt",
     "evalue": "",
     "output_type": "error",
     "traceback": [
      "\u001b[0;31m---------------------------------------------------------------------------\u001b[0m",
      "\u001b[0;31mKeyboardInterrupt\u001b[0m                         Traceback (most recent call last)",
      "Input \u001b[0;32mIn [8]\u001b[0m, in \u001b[0;36m<cell line: 1>\u001b[0;34m()\u001b[0m\n\u001b[0;32m----> 1\u001b[0m output_dict, model \u001b[38;5;241m=\u001b[39m \u001b[43mperform_cross_validation\u001b[49m\u001b[43m(\u001b[49m\u001b[43mdata\u001b[49m\u001b[43m,\u001b[49m\u001b[43m \u001b[49m\u001b[43mparameters\u001b[49m\u001b[43m,\u001b[49m\u001b[43m \u001b[49m\u001b[43msave_embeddings\u001b[49m\u001b[38;5;241;43m=\u001b[39;49m\u001b[38;5;28;43;01mTrue\u001b[39;49;00m\u001b[43m,\u001b[49m\u001b[43m \u001b[49m\u001b[43msave_subgraph\u001b[49m\u001b[38;5;241;43m=\u001b[39;49m\u001b[38;5;28;43;01mTrue\u001b[39;49;00m\u001b[43m,\u001b[49m\u001b[43m \u001b[49m\u001b[43mfinal_fit\u001b[49m\u001b[38;5;241;43m=\u001b[39;49m\u001b[38;5;28;43;01mTrue\u001b[39;49;00m\u001b[43m)\u001b[49m\n",
      "File \u001b[0;32m~/Modelling-Students-Learning/manage_experiments.py:194\u001b[0m, in \u001b[0;36mperform_cross_validation\u001b[0;34m(data, parameters, save_embeddings, save_subgraph, model, final_fit)\u001b[0m\n\u001b[1;32m    192\u001b[0m \u001b[38;5;28;01mfor\u001b[39;00m batch \u001b[38;5;129;01min\u001b[39;00m tqdm(train_loader): \n\u001b[1;32m    193\u001b[0m     batch \u001b[38;5;241m=\u001b[39m batch\u001b[38;5;241m.\u001b[39mto(device)\n\u001b[0;32m--> 194\u001b[0m     loss \u001b[38;5;241m=\u001b[39m \u001b[43mtrain_loop\u001b[49m\u001b[43m(\u001b[49m\n\u001b[1;32m    195\u001b[0m \u001b[43m        \u001b[49m\u001b[43mmodel\u001b[49m\u001b[43m,\u001b[49m\n\u001b[1;32m    196\u001b[0m \u001b[43m        \u001b[49m\u001b[43mbatch\u001b[49m\u001b[43m,\u001b[49m\u001b[43m \u001b[49m\n\u001b[1;32m    197\u001b[0m \u001b[43m        \u001b[49m\u001b[43moptimizer\u001b[49m\u001b[43m,\u001b[49m\n\u001b[1;32m    198\u001b[0m \u001b[43m        \u001b[49m\u001b[43mcriterion\u001b[49m\u001b[43m,\u001b[49m\n\u001b[1;32m    199\u001b[0m \u001b[43m        \u001b[49m\u001b[38;5;66;43;03m#class_weights\u001b[39;49;00m\n\u001b[1;32m    200\u001b[0m \u001b[43m        \u001b[49m\u001b[43m)\u001b[49m\n\u001b[1;32m    201\u001b[0m losses\u001b[38;5;241m.\u001b[39mappend(loss\u001b[38;5;241m.\u001b[39mdetach()\u001b[38;5;241m.\u001b[39mitem())\n\u001b[1;32m    203\u001b[0m val_b \u001b[38;5;241m=\u001b[39m test_loop(model, test_subgraph_data, fold, \u001b[38;5;124m'\u001b[39m\u001b[38;5;124mval\u001b[39m\u001b[38;5;124m'\u001b[39m)\n",
      "File \u001b[0;32m~/Modelling-Students-Learning/Heterogeneous_embedder.py:112\u001b[0m, in \u001b[0;36mtrain_embedder_heterogeneous\u001b[0;34m(model, data, optimizer, criterion)\u001b[0m\n\u001b[1;32m    109\u001b[0m optimizer\u001b[38;5;241m.\u001b[39mzero_grad()\n\u001b[1;32m    110\u001b[0m \u001b[38;5;66;03m# from torch import autograd\u001b[39;00m\n\u001b[1;32m    111\u001b[0m \u001b[38;5;66;03m# with autograd.detect_anomaly():\u001b[39;00m\n\u001b[0;32m--> 112\u001b[0m pred \u001b[38;5;241m=\u001b[39m \u001b[43mmodel\u001b[49m\u001b[43m(\u001b[49m\n\u001b[1;32m    113\u001b[0m \u001b[43m            \u001b[49m\u001b[43mdata\u001b[49m\u001b[38;5;241;43m=\u001b[39;49m\u001b[43mdata\u001b[49m\n\u001b[1;32m    114\u001b[0m \u001b[43m            \u001b[49m\u001b[43m)\u001b[49m\n\u001b[1;32m    115\u001b[0m \u001b[38;5;28;01massert\u001b[39;00m pred\u001b[38;5;241m.\u001b[39misnan()\u001b[38;5;241m.\u001b[39msum() \u001b[38;5;241m==\u001b[39m \u001b[38;5;241m0\u001b[39m, \u001b[38;5;124m'\u001b[39m\u001b[38;5;124mOutput\u001b[39m\u001b[38;5;124m'\u001b[39m\n\u001b[1;32m    116\u001b[0m target \u001b[38;5;241m=\u001b[39m data[\u001b[38;5;124m'\u001b[39m\u001b[38;5;124mstudent\u001b[39m\u001b[38;5;124m'\u001b[39m, \u001b[38;5;124m'\u001b[39m\u001b[38;5;124mitem\u001b[39m\u001b[38;5;124m'\u001b[39m]\u001b[38;5;241m.\u001b[39my\u001b[38;5;241m.\u001b[39mfloat()\n",
      "File \u001b[0;32m~/anaconda3/tempnets/lib/python3.8/site-packages/torch/nn/modules/module.py:1130\u001b[0m, in \u001b[0;36mModule._call_impl\u001b[0;34m(self, *input, **kwargs)\u001b[0m\n\u001b[1;32m   1126\u001b[0m \u001b[38;5;66;03m# If we don't have any hooks, we want to skip the rest of the logic in\u001b[39;00m\n\u001b[1;32m   1127\u001b[0m \u001b[38;5;66;03m# this function, and just call forward.\u001b[39;00m\n\u001b[1;32m   1128\u001b[0m \u001b[38;5;28;01mif\u001b[39;00m \u001b[38;5;129;01mnot\u001b[39;00m (\u001b[38;5;28mself\u001b[39m\u001b[38;5;241m.\u001b[39m_backward_hooks \u001b[38;5;129;01mor\u001b[39;00m \u001b[38;5;28mself\u001b[39m\u001b[38;5;241m.\u001b[39m_forward_hooks \u001b[38;5;129;01mor\u001b[39;00m \u001b[38;5;28mself\u001b[39m\u001b[38;5;241m.\u001b[39m_forward_pre_hooks \u001b[38;5;129;01mor\u001b[39;00m _global_backward_hooks\n\u001b[1;32m   1129\u001b[0m         \u001b[38;5;129;01mor\u001b[39;00m _global_forward_hooks \u001b[38;5;129;01mor\u001b[39;00m _global_forward_pre_hooks):\n\u001b[0;32m-> 1130\u001b[0m     \u001b[38;5;28;01mreturn\u001b[39;00m \u001b[43mforward_call\u001b[49m\u001b[43m(\u001b[49m\u001b[38;5;241;43m*\u001b[39;49m\u001b[38;5;28;43minput\u001b[39;49m\u001b[43m,\u001b[49m\u001b[43m \u001b[49m\u001b[38;5;241;43m*\u001b[39;49m\u001b[38;5;241;43m*\u001b[39;49m\u001b[43mkwargs\u001b[49m\u001b[43m)\u001b[49m\n\u001b[1;32m   1131\u001b[0m \u001b[38;5;66;03m# Do not call functions when jit is used\u001b[39;00m\n\u001b[1;32m   1132\u001b[0m full_backward_hooks, non_full_backward_hooks \u001b[38;5;241m=\u001b[39m [], []\n",
      "File \u001b[0;32m~/Modelling-Students-Learning/Heterogeneous_embedder.py:76\u001b[0m, in \u001b[0;36mEmbedderHeterogeneous.forward\u001b[0;34m(self, data)\u001b[0m\n\u001b[1;32m     69\u001b[0m     pred \u001b[38;5;241m=\u001b[39m \u001b[38;5;28mself\u001b[39m\u001b[38;5;241m.\u001b[39mclassifier(\n\u001b[1;32m     70\u001b[0m     x_dict[\u001b[38;5;124m'\u001b[39m\u001b[38;5;124mstudent\u001b[39m\u001b[38;5;124m'\u001b[39m],\n\u001b[1;32m     71\u001b[0m     x_dict[\u001b[38;5;124m'\u001b[39m\u001b[38;5;124mitem\u001b[39m\u001b[38;5;124m'\u001b[39m],\n\u001b[1;32m     72\u001b[0m     data[\u001b[38;5;124m'\u001b[39m\u001b[38;5;124mstudent\u001b[39m\u001b[38;5;124m'\u001b[39m, \u001b[38;5;124m'\u001b[39m\u001b[38;5;124mresponds\u001b[39m\u001b[38;5;124m'\u001b[39m, \u001b[38;5;124m'\u001b[39m\u001b[38;5;124mitem\u001b[39m\u001b[38;5;124m'\u001b[39m]\u001b[38;5;241m.\u001b[39medge_index,\n\u001b[1;32m     73\u001b[0m     \u001b[38;5;28;01mNone\u001b[39;00m\n\u001b[1;32m     74\u001b[0m     )   \n\u001b[1;32m     75\u001b[0m \u001b[38;5;28;01melse\u001b[39;00m:\n\u001b[0;32m---> 76\u001b[0m     pred \u001b[38;5;241m=\u001b[39m \u001b[38;5;28;43mself\u001b[39;49m\u001b[38;5;241;43m.\u001b[39;49m\u001b[43mclassifier\u001b[49m\u001b[43m(\u001b[49m\n\u001b[1;32m     77\u001b[0m \u001b[43m    \u001b[49m\u001b[43mx_dict\u001b[49m\u001b[43m[\u001b[49m\u001b[38;5;124;43m'\u001b[39;49m\u001b[38;5;124;43mstudent\u001b[39;49m\u001b[38;5;124;43m'\u001b[39;49m\u001b[43m]\u001b[49m\u001b[43m,\u001b[49m\n\u001b[1;32m     78\u001b[0m \u001b[43m    \u001b[49m\u001b[43mx_dict\u001b[49m\u001b[43m[\u001b[49m\u001b[38;5;124;43m'\u001b[39;49m\u001b[38;5;124;43mitem\u001b[39;49m\u001b[38;5;124;43m'\u001b[39;49m\u001b[43m]\u001b[49m\u001b[43m,\u001b[49m\n\u001b[1;32m     79\u001b[0m \u001b[43m    \u001b[49m\u001b[43mdata\u001b[49m\u001b[43m[\u001b[49m\u001b[38;5;124;43m'\u001b[39;49m\u001b[38;5;124;43mstudent\u001b[39;49m\u001b[38;5;124;43m'\u001b[39;49m\u001b[43m,\u001b[49m\u001b[43m \u001b[49m\u001b[38;5;124;43m'\u001b[39;49m\u001b[38;5;124;43mresponds\u001b[39;49m\u001b[38;5;124;43m'\u001b[39;49m\u001b[43m,\u001b[49m\u001b[43m \u001b[49m\u001b[38;5;124;43m'\u001b[39;49m\u001b[38;5;124;43mitem\u001b[39;49m\u001b[38;5;124;43m'\u001b[39;49m\u001b[43m]\u001b[49m\u001b[38;5;241;43m.\u001b[39;49m\u001b[43medge_index\u001b[49m\u001b[43m,\u001b[49m\n\u001b[1;32m     80\u001b[0m \u001b[43m    \u001b[49m\u001b[43mdata\u001b[49m\u001b[43m[\u001b[49m\u001b[38;5;124;43m'\u001b[39;49m\u001b[38;5;124;43mstudent\u001b[39;49m\u001b[38;5;124;43m'\u001b[39;49m\u001b[43m,\u001b[49m\u001b[43m \u001b[49m\u001b[38;5;124;43m'\u001b[39;49m\u001b[38;5;124;43mresponds\u001b[39;49m\u001b[38;5;124;43m'\u001b[39;49m\u001b[43m,\u001b[49m\u001b[43m \u001b[49m\u001b[38;5;124;43m'\u001b[39;49m\u001b[38;5;124;43mitem\u001b[39;49m\u001b[38;5;124;43m'\u001b[39;49m\u001b[43m]\u001b[49m\u001b[38;5;241;43m.\u001b[39;49m\u001b[43medge_attr\u001b[49m\n\u001b[1;32m     81\u001b[0m \u001b[43m    \u001b[49m\u001b[43m)\u001b[49m      \n\u001b[1;32m     83\u001b[0m \u001b[38;5;28;01mreturn\u001b[39;00m pred\n",
      "File \u001b[0;32m~/anaconda3/tempnets/lib/python3.8/site-packages/torch/nn/modules/module.py:1130\u001b[0m, in \u001b[0;36mModule._call_impl\u001b[0;34m(self, *input, **kwargs)\u001b[0m\n\u001b[1;32m   1126\u001b[0m \u001b[38;5;66;03m# If we don't have any hooks, we want to skip the rest of the logic in\u001b[39;00m\n\u001b[1;32m   1127\u001b[0m \u001b[38;5;66;03m# this function, and just call forward.\u001b[39;00m\n\u001b[1;32m   1128\u001b[0m \u001b[38;5;28;01mif\u001b[39;00m \u001b[38;5;129;01mnot\u001b[39;00m (\u001b[38;5;28mself\u001b[39m\u001b[38;5;241m.\u001b[39m_backward_hooks \u001b[38;5;129;01mor\u001b[39;00m \u001b[38;5;28mself\u001b[39m\u001b[38;5;241m.\u001b[39m_forward_hooks \u001b[38;5;129;01mor\u001b[39;00m \u001b[38;5;28mself\u001b[39m\u001b[38;5;241m.\u001b[39m_forward_pre_hooks \u001b[38;5;129;01mor\u001b[39;00m _global_backward_hooks\n\u001b[1;32m   1129\u001b[0m         \u001b[38;5;129;01mor\u001b[39;00m _global_forward_hooks \u001b[38;5;129;01mor\u001b[39;00m _global_forward_pre_hooks):\n\u001b[0;32m-> 1130\u001b[0m     \u001b[38;5;28;01mreturn\u001b[39;00m \u001b[43mforward_call\u001b[49m\u001b[43m(\u001b[49m\u001b[38;5;241;43m*\u001b[39;49m\u001b[38;5;28;43minput\u001b[39;49m\u001b[43m,\u001b[49m\u001b[43m \u001b[49m\u001b[38;5;241;43m*\u001b[39;49m\u001b[38;5;241;43m*\u001b[39;49m\u001b[43mkwargs\u001b[49m\u001b[43m)\u001b[49m\n\u001b[1;32m   1131\u001b[0m \u001b[38;5;66;03m# Do not call functions when jit is used\u001b[39;00m\n\u001b[1;32m   1132\u001b[0m full_backward_hooks, non_full_backward_hooks \u001b[38;5;241m=\u001b[39m [], []\n",
      "File \u001b[0;32m~/Modelling-Students-Learning/GNN.py:51\u001b[0m, in \u001b[0;36mClassifier_heterogeneous.forward\u001b[0;34m(self, x_student, x_item, edge_label_index, edge_feat)\u001b[0m\n\u001b[1;32m     49\u001b[0m     x \u001b[38;5;241m=\u001b[39m \u001b[38;5;28mself\u001b[39m\u001b[38;5;241m.\u001b[39mlinear(torch\u001b[38;5;241m.\u001b[39mcat([edge_feat_student, edge_feat_item], dim\u001b[38;5;241m=\u001b[39m\u001b[38;5;241m-\u001b[39m\u001b[38;5;241m1\u001b[39m))\n\u001b[1;32m     50\u001b[0m \u001b[38;5;28;01melse\u001b[39;00m:\n\u001b[0;32m---> 51\u001b[0m     x \u001b[38;5;241m=\u001b[39m \u001b[38;5;28mself\u001b[39m\u001b[38;5;241m.\u001b[39mlinear(\u001b[43mtorch\u001b[49m\u001b[38;5;241;43m.\u001b[39;49m\u001b[43mcat\u001b[49m\u001b[43m(\u001b[49m\u001b[43m[\u001b[49m\u001b[43medge_feat_student\u001b[49m\u001b[43m,\u001b[49m\u001b[43m \u001b[49m\u001b[43medge_feat\u001b[49m\u001b[43m,\u001b[49m\u001b[43m \u001b[49m\u001b[43medge_feat_item\u001b[49m\u001b[43m]\u001b[49m\u001b[43m,\u001b[49m\u001b[43m \u001b[49m\u001b[43mdim\u001b[49m\u001b[38;5;241;43m=\u001b[39;49m\u001b[38;5;241;43m-\u001b[39;49m\u001b[38;5;241;43m1\u001b[39;49m\u001b[43m)\u001b[49m)\n\u001b[1;32m     52\u001b[0m \u001b[38;5;28;01mreturn\u001b[39;00m x\n",
      "\u001b[0;31mKeyboardInterrupt\u001b[0m: "
     ]
    }
   ],
   "source": [
    "output_dict, model = perform_cross_validation(data, parameters, save_embeddings=True, save_subgraph=True, final_fit=True)"
   ]
  },
  {
   "cell_type": "code",
   "execution_count": null,
   "metadata": {},
   "outputs": [],
   "source": [
    "output_dict.keys()\n",
    "print('AUC:', output_dict['AUC_0_test'])\n",
    "print('Balanced Accuracy:', output_dict['Balanced Accuracy_0_test'])"
   ]
  },
  {
   "cell_type": "code",
   "execution_count": null,
   "metadata": {},
   "outputs": [],
   "source": [
    "unique_scales = df_item['scale'].unique()\n",
    "unique_domains = df_item['domain'].unique()\n",
    "unique_matdiff = df_item['matdiff'].sort_values().unique()\n",
    "#scale_colors = dict([(c, plt.cm.tab10(i)) for i, c in enumerate(unique_scales)])\n",
    "#domain_colors = dict([(c, plt.cm.tab10(i)) for i, c in enumerate(unique_domains)])"
   ]
  },
  {
   "cell_type": "code",
   "execution_count": null,
   "metadata": {},
   "outputs": [],
   "source": [
    "train_losses = output_dict['losses_0']\n",
    "train_edge_indices, val_edge_indices, test_edge_indices = output_dict['indices_0']\n",
    "\n",
    "train_data = output_dict['train_subgraph_data'] \n",
    "val_data = output_dict['val_subgraph_data'] \n",
    "test_data = output_dict['test_subgraph_data']\n",
    "\n",
    "aux_data = (df, df_student, df_item, df_edge, \n",
    "    #clustering_indices, \n",
    "    train_losses, #test_losses, test_aucs, \n",
    "    train_edge_indices, val_edge_indices, test_edge_indices, \n",
    "    data.cpu(), train_data.cpu(), val_data.cpu(), test_data.cpu(),\n",
    "    unique_scales, unique_domains, unique_matdiff, \n",
    "    DATA_FILE)\n",
    "\n",
    "with open(f'./results/{OUTNAME}_{DATASET}_aux_data.pkl', 'wb') as handle:\n",
    "    pickle.dump(aux_data, handle, protocol=pickle.HIGHEST_PROTOCOL)"
   ]
  },
  {
   "cell_type": "code",
   "execution_count": null,
   "metadata": {},
   "outputs": [],
   "source": [
    "# SAVE EVERYTHING\n",
    "torch.save(model, f'./results/{OUTNAME}_{DATASET}.pth.tar')"
   ]
  },
  {
   "cell_type": "code",
   "execution_count": null,
   "metadata": {},
   "outputs": [],
   "source": [
    "train_indices = np.arange(len(train_losses))\n",
    "fig = plt.figure()\n",
    "plt.plot(train_indices, train_losses, c='blue')\n",
    "plt.ylabel('Loss')\n",
    "plt.xlabel('Epoch')\n",
    "\n",
    "fig.tight_layout()"
   ]
  },
  {
   "cell_type": "code",
   "execution_count": null,
   "metadata": {},
   "outputs": [],
   "source": [
    "# save IRT parameters to matrix\n",
    "if OUTNAME == 'IRT' and IRT_DIMS == 1:    \n",
    "    #z_dict = model.get_embeddings(train_data.to(device))\n",
    "    z_dict = output_dict['embedding_0']\n",
    "    df_item['IRT1_difficulty'] = -z_dict['offset']\n",
    "    df_item['IRT1_discrimination'] = z_dict['discrimination']\n",
    "    df_item['IRT1_discrimination_transf'] = z_dict['item']\n",
    "    ability = z_dict['ability']\n",
    "    df_edge['IRT1_ability'] = ability.ravel()\n",
    "    \n",
    "    aux_data = (df, df_student, df_item, df_edge, \n",
    "    train_losses, \n",
    "    train_edge_indices, val_edge_indices, test_edge_indices,\n",
    "    data.cpu(), train_data.cpu(), val_data.cpu().cpu(), test_data.cpu(),\n",
    "    unique_scales, unique_domains, unique_matdiff, \n",
    "    DATA_FILE)\n",
    "\n",
    "    with open(f'./results/{OUTNAME}_{DATASET}_aux_data_IRT1.pkl', 'wb') as handle:\n",
    "        pickle.dump(aux_data, handle, protocol=pickle.HIGHEST_PROTOCOL)\n",
    "        \n",
    "    df_item_clean = df_item.dropna(subset=['IRT_difficulty', 'IRT1_difficulty'])    \n",
    "    \n",
    "    fig = plt.figure()\n",
    "    sns.scatterplot(x='IRT_difficulty', y='IRT1_difficulty', data=df_item, hue='scale')\n",
    "    plt.title('Difficulty')\n",
    "    print('Difficulty:', pearsonr(df_item_clean['IRT1_difficulty'], df_item_clean['IRT_difficulty']))\n",
    "    \n",
    "    edge_feat = train_data['student', 'responds', 'item'].edge_attr.detach().cpu().numpy()\n",
    "    df_edge_clean = df_edge.dropna(subset=['IRT1_ability', 'ability', 'age'])\n",
    "    fig = plt.figure()\n",
    "    sns.scatterplot(x='age', y='IRT1_ability', data=df_edge_clean, hue='grade')\n",
    "    plt.title('Age-Ability')\n",
    "    \n",
    "    fig = plt.figure()\n",
    "    sns.scatterplot(x='grade', y='IRT1_ability', data=df_edge_clean, hue='age')\n",
    "    plt.title('Grade-Ability')\n",
    "    print('Age-Ability:', pearsonr(df_edge_clean['age'], df_edge_clean['IRT1_ability']))\n",
    "\n",
    "    fig = plt.figure()\n",
    "    sns.scatterplot(x='ability', y='IRT1_ability', data=df_edge_clean, hue='grade')\n",
    "    plt.title('Ability')\n",
    "    print('Ability:', pearsonr(df_edge_clean['ability'], df_edge_clean['IRT1_ability']))\n",
    "    "
   ]
  }
 ],
 "metadata": {
  "celltoolbar": "Tags",
  "kernelspec": {
   "display_name": "Python 3 (ipykernel)",
   "language": "python",
   "name": "python3"
  },
  "language_info": {
   "codemirror_mode": {
    "name": "ipython",
    "version": 3
   },
   "file_extension": ".py",
   "mimetype": "text/x-python",
   "name": "python",
   "nbconvert_exporter": "python",
   "pygments_lexer": "ipython3",
   "version": "3.8.13"
  },
  "vscode": {
   "interpreter": {
    "hash": "88516cc94b965045253aac22be7e673e07faa374a8dfeab45aefc65ddf94d8b2"
   }
  }
 },
 "nbformat": 4,
 "nbformat_minor": 2
}
