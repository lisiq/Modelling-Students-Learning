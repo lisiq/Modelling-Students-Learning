{
 "cells": [
  {
   "cell_type": "code",
   "execution_count": 1,
   "metadata": {
    "tags": [
     "parameters"
    ]
   },
   "outputs": [],
   "source": [
    "IRT_DIMS = 1\n",
    "DATASET = 'full'    "
   ]
  },
  {
   "cell_type": "code",
   "execution_count": 2,
   "metadata": {},
   "outputs": [],
   "source": [
    "import sys, os, shutil\n",
    "import pickle\n",
    "import time\n",
    "import numpy as np\n",
    "from utils import (mymode, load_data_heterogeneous, create_data_object_heterogeneous)\n",
    "import seaborn as sns\n",
    "\n",
    "from IRT import MIRT_2PL\n",
    "from Heterogeneous_embedder import EmbedderHeterogeneous, train_embedder_heterogeneous, test_embedder_heterogeneous\n",
    "from manage_experiments import perform_cross_validation\n",
    "\n",
    "import torch\n",
    "import numpy as np\n",
    "import matplotlib.pyplot as plt\n",
    "\n",
    "from scipy.stats import pearsonr"
   ]
  },
  {
   "cell_type": "code",
   "execution_count": 3,
   "metadata": {},
   "outputs": [
    {
     "name": "stdout",
     "output_type": "stream",
     "text": [
      "cpu\n"
     ]
    }
   ],
   "source": [
    "torch.cuda.empty_cache()\n",
    "device = torch.device('cuda' if torch.cuda.is_available() else 'cpu')\n",
    "print(device)"
   ]
  },
  {
   "cell_type": "code",
   "execution_count": 4,
   "metadata": {},
   "outputs": [
    {
     "name": "stdout",
     "output_type": "stream",
     "text": [
      "{'df_name': None, 'epochs': 10000, 'learning_rate': 0.005, 'weight_decay': 0, 'early_stopping': 200, 'n_splits': 10, 'device': 'cuda:0', 'batch_size': 16384, 'neighbours': [50, 50], 'model_type': 'GNN', 'hidden_dims': [16, 8]}\n",
      "test_matrix\n"
     ]
    }
   ],
   "source": [
    "# Initialise\n",
    "parameters = {\n",
    "    'df_name': None,\n",
    "    'epochs': 10000,\n",
    "    'learning_rate': 0.005,\n",
    "    'weight_decay': 0,\n",
    "    'early_stopping': 200,\n",
    "    'n_splits': 10,\n",
    "    'device': 'cuda:0',\n",
    "    'batch_size': 2**14,\n",
    "    'neighbours': [50, 50]\n",
    "    }\n",
    "\n",
    "if IRT_DIMS > 0:\n",
    "    parameters['model_type'] = 'IRT'\n",
    "    parameters['hidden_dims'] = IRT_DIMS\n",
    "    parameters['lambda1'] = 0\n",
    "    parameters['lambda2'] = 0\n",
    "    OUTNAME = 'IRT'\n",
    "else:\n",
    "    parameters['model_type'] = 'GNN'\n",
    "    parameters['hidden_dims'] = [16,8]\n",
    "    OUTNAME = 'SAGE' \n",
    "    \n",
    "print(parameters)\n",
    "print(DATASET)"
   ]
  },
  {
   "cell_type": "code",
   "execution_count": 5,
   "metadata": {},
   "outputs": [
    {
     "name": "stdout",
     "output_type": "stream",
     "text": [
      "(327841, 24)\n"
     ]
    }
   ],
   "source": [
    "DATA_FILE = 'data/mindsteps_set_' + DATASET\n",
    "df = load_data_heterogeneous(DATA_FILE)\n",
    "data, df_student, df_item, df_edge = create_data_object_heterogeneous(df, return_aux_data=True, item_features=False)"
   ]
  },
  {
   "cell_type": "code",
   "execution_count": 6,
   "metadata": {},
   "outputs": [
    {
     "data": {
      "text/plain": [
       "Index(['studentId', 'code', 'motherTongue', 'Gender', 'scale', 'matrix',\n",
       "       'IRT_difficulty', 'topic', 'responseformat', 'textlength', 'score',\n",
       "       'age', 'grade', 'viewingTime', 'timestamp', 'useCase', 'assessmentId',\n",
       "       'ability', 'frequency', 'previous_sessions', 'years_from_start',\n",
       "       'matdiff', 'matcode', 'domain'],\n",
       "      dtype='object')"
      ]
     },
     "execution_count": 6,
     "metadata": {},
     "output_type": "execute_result"
    }
   ],
   "source": [
    "df.columns"
   ]
  },
  {
   "cell_type": "code",
   "execution_count": 7,
   "metadata": {},
   "outputs": [
    {
     "data": {
      "text/html": [
       "<div>\n",
       "<style scoped>\n",
       "    .dataframe tbody tr th:only-of-type {\n",
       "        vertical-align: middle;\n",
       "    }\n",
       "\n",
       "    .dataframe tbody tr th {\n",
       "        vertical-align: top;\n",
       "    }\n",
       "\n",
       "    .dataframe thead th {\n",
       "        text-align: right;\n",
       "    }\n",
       "</style>\n",
       "<table border=\"1\" class=\"dataframe\">\n",
       "  <thead>\n",
       "    <tr style=\"text-align: right;\">\n",
       "      <th></th>\n",
       "      <th>studentId</th>\n",
       "      <th>code</th>\n",
       "      <th>motherTongue</th>\n",
       "      <th>Gender</th>\n",
       "      <th>scale</th>\n",
       "      <th>matrix</th>\n",
       "      <th>IRT_difficulty</th>\n",
       "      <th>topic</th>\n",
       "      <th>responseformat</th>\n",
       "      <th>textlength</th>\n",
       "      <th>...</th>\n",
       "      <th>timestamp</th>\n",
       "      <th>useCase</th>\n",
       "      <th>assessmentId</th>\n",
       "      <th>ability</th>\n",
       "      <th>frequency</th>\n",
       "      <th>previous_sessions</th>\n",
       "      <th>years_from_start</th>\n",
       "      <th>matdiff</th>\n",
       "      <th>matcode</th>\n",
       "      <th>domain</th>\n",
       "    </tr>\n",
       "  </thead>\n",
       "  <tbody>\n",
       "    <tr>\n",
       "      <th>0</th>\n",
       "      <td>0</td>\n",
       "      <td>0</td>\n",
       "      <td>0.0</td>\n",
       "      <td>0.0</td>\n",
       "      <td>dles</td>\n",
       "      <td>D.2.B.1.f</td>\n",
       "      <td>0.268748</td>\n",
       "      <td>Zeitungsartikel</td>\n",
       "      <td>NaN</td>\n",
       "      <td>NaN</td>\n",
       "      <td>...</td>\n",
       "      <td>7.643058e-312</td>\n",
       "      <td>ms-kber</td>\n",
       "      <td>5E9436B294DBE2FB740ADDCF2B883ECB2254B5F0D37D8E...</td>\n",
       "      <td>2.667269</td>\n",
       "      <td>13.333162</td>\n",
       "      <td>2</td>\n",
       "      <td>0.15</td>\n",
       "      <td></td>\n",
       "      <td></td>\n",
       "      <td>d</td>\n",
       "    </tr>\n",
       "    <tr>\n",
       "      <th>1</th>\n",
       "      <td>0</td>\n",
       "      <td>1</td>\n",
       "      <td>0.0</td>\n",
       "      <td>0.0</td>\n",
       "      <td>dles</td>\n",
       "      <td>D.2.B.1.h</td>\n",
       "      <td>1.217388</td>\n",
       "      <td>Textsorten erkennen</td>\n",
       "      <td>single choice</td>\n",
       "      <td>NaN</td>\n",
       "      <td>...</td>\n",
       "      <td>7.643061e-312</td>\n",
       "      <td>ms-kber</td>\n",
       "      <td>5E9436B294DBE2FB740ADDCF2B883ECB2254B5F0D37D8E...</td>\n",
       "      <td>2.667269</td>\n",
       "      <td>13.333162</td>\n",
       "      <td>2</td>\n",
       "      <td>0.15</td>\n",
       "      <td></td>\n",
       "      <td></td>\n",
       "      <td>d</td>\n",
       "    </tr>\n",
       "    <tr>\n",
       "      <th>2</th>\n",
       "      <td>0</td>\n",
       "      <td>2</td>\n",
       "      <td>0.0</td>\n",
       "      <td>0.0</td>\n",
       "      <td>dles</td>\n",
       "      <td>D.2.B.1.h</td>\n",
       "      <td>1.584145</td>\n",
       "      <td>Wissenstexte: Mix</td>\n",
       "      <td>single choice</td>\n",
       "      <td>NaN</td>\n",
       "      <td>...</td>\n",
       "      <td>7.845624e-312</td>\n",
       "      <td>ms-kber</td>\n",
       "      <td>E109B3CDD31EDCFE7F48665587372C60A3FAEBB8571544...</td>\n",
       "      <td>2.421279</td>\n",
       "      <td>4.137915</td>\n",
       "      <td>6</td>\n",
       "      <td>1.45</td>\n",
       "      <td></td>\n",
       "      <td></td>\n",
       "      <td>d</td>\n",
       "    </tr>\n",
       "    <tr>\n",
       "      <th>3</th>\n",
       "      <td>0</td>\n",
       "      <td>3</td>\n",
       "      <td>0.0</td>\n",
       "      <td>0.0</td>\n",
       "      <td>dles</td>\n",
       "      <td>D.2.B.1.h</td>\n",
       "      <td>1.584145</td>\n",
       "      <td>Wissenstexte: Mix</td>\n",
       "      <td>single choice</td>\n",
       "      <td>NaN</td>\n",
       "      <td>...</td>\n",
       "      <td>7.851631e-312</td>\n",
       "      <td>ms-kber</td>\n",
       "      <td>319A0FE3AFDC0A30C4C1B26577B5B19FE66E918A181354...</td>\n",
       "      <td>2.174872</td>\n",
       "      <td>7.432378</td>\n",
       "      <td>11</td>\n",
       "      <td>1.48</td>\n",
       "      <td></td>\n",
       "      <td></td>\n",
       "      <td>d</td>\n",
       "    </tr>\n",
       "    <tr>\n",
       "      <th>4</th>\n",
       "      <td>0</td>\n",
       "      <td>4</td>\n",
       "      <td>0.0</td>\n",
       "      <td>0.0</td>\n",
       "      <td>dles</td>\n",
       "      <td>D.2.C.1.h</td>\n",
       "      <td>1.172410</td>\n",
       "      <td>Geschichten lang</td>\n",
       "      <td>single choice</td>\n",
       "      <td>NaN</td>\n",
       "      <td>...</td>\n",
       "      <td>7.643059e-312</td>\n",
       "      <td>ms-kber</td>\n",
       "      <td>5E9436B294DBE2FB740ADDCF2B883ECB2254B5F0D37D8E...</td>\n",
       "      <td>2.667269</td>\n",
       "      <td>13.333162</td>\n",
       "      <td>2</td>\n",
       "      <td>0.15</td>\n",
       "      <td></td>\n",
       "      <td></td>\n",
       "      <td>d</td>\n",
       "    </tr>\n",
       "  </tbody>\n",
       "</table>\n",
       "<p>5 rows × 24 columns</p>\n",
       "</div>"
      ],
      "text/plain": [
       "   studentId  code  motherTongue  Gender scale     matrix  IRT_difficulty  \\\n",
       "0          0     0           0.0     0.0  dles  D.2.B.1.f        0.268748   \n",
       "1          0     1           0.0     0.0  dles  D.2.B.1.h        1.217388   \n",
       "2          0     2           0.0     0.0  dles  D.2.B.1.h        1.584145   \n",
       "3          0     3           0.0     0.0  dles  D.2.B.1.h        1.584145   \n",
       "4          0     4           0.0     0.0  dles  D.2.C.1.h        1.172410   \n",
       "\n",
       "                 topic responseformat  textlength  ...      timestamp  \\\n",
       "0      Zeitungsartikel            NaN         NaN  ...  7.643058e-312   \n",
       "1  Textsorten erkennen  single choice         NaN  ...  7.643061e-312   \n",
       "2    Wissenstexte: Mix  single choice         NaN  ...  7.845624e-312   \n",
       "3    Wissenstexte: Mix  single choice         NaN  ...  7.851631e-312   \n",
       "4     Geschichten lang  single choice         NaN  ...  7.643059e-312   \n",
       "\n",
       "   useCase                                       assessmentId   ability  \\\n",
       "0  ms-kber  5E9436B294DBE2FB740ADDCF2B883ECB2254B5F0D37D8E...  2.667269   \n",
       "1  ms-kber  5E9436B294DBE2FB740ADDCF2B883ECB2254B5F0D37D8E...  2.667269   \n",
       "2  ms-kber  E109B3CDD31EDCFE7F48665587372C60A3FAEBB8571544...  2.421279   \n",
       "3  ms-kber  319A0FE3AFDC0A30C4C1B26577B5B19FE66E918A181354...  2.174872   \n",
       "4  ms-kber  5E9436B294DBE2FB740ADDCF2B883ECB2254B5F0D37D8E...  2.667269   \n",
       "\n",
       "   frequency previous_sessions years_from_start  matdiff  matcode  domain  \n",
       "0  13.333162                 2             0.15                         d  \n",
       "1  13.333162                 2             0.15                         d  \n",
       "2   4.137915                 6             1.45                         d  \n",
       "3   7.432378                11             1.48                         d  \n",
       "4  13.333162                 2             0.15                         d  \n",
       "\n",
       "[5 rows x 24 columns]"
      ]
     },
     "execution_count": 7,
     "metadata": {},
     "output_type": "execute_result"
    }
   ],
   "source": [
    "df.head()"
   ]
  },
  {
   "cell_type": "markdown",
   "metadata": {},
   "source": [
    "edge_dim = data['student', 'responds', 'item'].edge_attr.shape[1]\n",
    "if IRT_DIMS > 0:\n",
    "    model = MIRT_2PL(IRT_DIMS, edge_dim, data)\n",
    "else:\n",
    "    model = EmbedderHeterogeneous( \n",
    "        n_students =  data['student'].x.size(0),\n",
    "        n_items = data['item'].x.size(0),\n",
    "        student_inchannel = data['student'].x.size(1),\n",
    "        item_inchannel = data['item'].x.size(1),\n",
    "        hidden_channels=parameters['hidden_dims'],\n",
    "        edge_channel=edge_dim,\n",
    "        metadata=data.metadata()\n",
    "        ).to(device)\n",
    "    \n",
    "model = model.to(device)"
   ]
  },
  {
   "cell_type": "code",
   "execution_count": null,
   "metadata": {},
   "outputs": [
    {
     "name": "stdout",
     "output_type": "stream",
     "text": [
      "WARNING: running with a fixed random state\n"
     ]
    },
    {
     "name": "stderr",
     "output_type": "stream",
     "text": [
      "0it [00:00, ?it/s]\n",
      "  0%|          | 0/10000 [00:00<?, ?it/s]\u001b[A\n",
      "\n",
      "  0%|          | 0/1 [00:00<?, ?it/s]\u001b[A\u001b[A\n",
      "\n",
      "100%|██████████| 1/1 [00:01<00:00,  1.35s/it]\u001b[A\u001b[A\n",
      "\n",
      "  0%|          | 1/10000 [00:01<4:38:18,  1.67s/it]\u001b[A"
     ]
    },
    {
     "name": "stdout",
     "output_type": "stream",
     "text": [
      "\n",
      "Epoch: 001, Loss: 0.7256, Val: 0.5002, Test: 0.5000\n"
     ]
    },
    {
     "name": "stderr",
     "output_type": "stream",
     "text": [
      "\n",
      "\n",
      "  0%|          | 0/1 [00:00<?, ?it/s]\u001b[A\u001b[A\n",
      "\n",
      "100%|██████████| 1/1 [00:00<00:00,  1.37it/s]\u001b[A\u001b[A\n",
      "\n",
      "  0%|          | 2/10000 [00:02<3:23:34,  1.22s/it]\u001b[A\n",
      "\n",
      "  0%|          | 0/1 [00:00<?, ?it/s]\u001b[A\u001b[A\n",
      "\n",
      "100%|██████████| 1/1 [00:00<00:00,  1.52it/s]\u001b[A\u001b[A\n",
      "\n",
      "  0%|          | 3/10000 [00:03<2:47:29,  1.01s/it]\u001b[A"
     ]
    },
    {
     "name": "stdout",
     "output_type": "stream",
     "text": [
      "\n",
      "Epoch: 003, Loss: 0.6626, Val: 0.5002, Test: 0.5000\n"
     ]
    },
    {
     "name": "stderr",
     "output_type": "stream",
     "text": [
      "\n",
      "\n",
      "  0%|          | 0/1 [00:00<?, ?it/s]\u001b[A\u001b[A\n",
      "\n",
      "100%|██████████| 1/1 [00:00<00:00,  1.75it/s]\u001b[A\u001b[A\n",
      "\n",
      "  0%|          | 4/10000 [00:04<2:28:30,  1.12it/s]\u001b[A\n",
      "\n",
      "  0%|          | 0/1 [00:00<?, ?it/s]\u001b[A\u001b[A\n",
      "\n",
      "100%|██████████| 1/1 [00:00<00:00,  2.16it/s]\u001b[A\u001b[A\n",
      "\n",
      "  0%|          | 5/10000 [00:04<2:04:55,  1.33it/s]\u001b[A\n",
      "\n",
      "  0%|          | 0/1 [00:00<?, ?it/s]\u001b[A\u001b[A\n",
      "\n",
      "100%|██████████| 1/1 [00:00<00:00,  1.89it/s]\u001b[A\u001b[A\n",
      "\n",
      "  0%|          | 6/10000 [00:05<1:59:13,  1.40it/s]\u001b[A"
     ]
    },
    {
     "name": "stdout",
     "output_type": "stream",
     "text": [
      "\n",
      "Epoch: 006, Loss: 0.5905, Val: 0.5005, Test: 0.5005\n"
     ]
    },
    {
     "name": "stderr",
     "output_type": "stream",
     "text": [
      "\n",
      "\n",
      "  0%|          | 0/1 [00:00<?, ?it/s]\u001b[A\u001b[A\n",
      "\n",
      "100%|██████████| 1/1 [00:00<00:00,  1.98it/s]\u001b[A\u001b[A\n",
      "\n",
      "  0%|          | 7/10000 [00:05<1:50:00,  1.51it/s]\u001b[A\n",
      "\n",
      "  0%|          | 0/1 [00:00<?, ?it/s]\u001b[A\u001b[A\n",
      "\n",
      "100%|██████████| 1/1 [00:00<00:00,  1.45it/s]\u001b[A\u001b[A\n",
      "\n",
      "  0%|          | 8/10000 [00:06<1:58:14,  1.41it/s]\u001b[A\n",
      "\n",
      "  0%|          | 0/1 [00:00<?, ?it/s]\u001b[A\u001b[A\n",
      "\n",
      "100%|██████████| 1/1 [00:00<00:00,  2.22it/s]\u001b[A\u001b[A\n",
      "\n",
      "  0%|          | 9/10000 [00:07<1:47:52,  1.54it/s]\u001b[A\n",
      "\n",
      "  0%|          | 0/1 [00:00<?, ?it/s]\u001b[A\u001b[A\n",
      "\n",
      "100%|██████████| 1/1 [00:00<00:00,  1.47it/s]\u001b[A\u001b[A\n",
      "\n",
      "  0%|          | 10/10000 [00:07<1:59:47,  1.39it/s]\u001b[A"
     ]
    },
    {
     "name": "stdout",
     "output_type": "stream",
     "text": [
      "\n",
      "Epoch: 010, Loss: 0.5312, Val: 0.5021, Test: 0.5062\n"
     ]
    },
    {
     "name": "stderr",
     "output_type": "stream",
     "text": [
      "\n",
      "\n",
      "  0%|          | 0/1 [00:00<?, ?it/s]\u001b[A\u001b[A\n",
      "\n",
      "100%|██████████| 1/1 [00:00<00:00,  1.57it/s]\u001b[A\u001b[A\n",
      "\n",
      "  0%|          | 11/10000 [00:08<2:01:28,  1.37it/s]\u001b[A"
     ]
    },
    {
     "name": "stdout",
     "output_type": "stream",
     "text": [
      "\n",
      "Epoch: 011, Loss: 0.5233, Val: 0.5029, Test: 0.5091\n"
     ]
    },
    {
     "name": "stderr",
     "output_type": "stream",
     "text": [
      "\n",
      "\n",
      "  0%|          | 0/1 [00:00<?, ?it/s]\u001b[A\u001b[A\n",
      "\n",
      "100%|██████████| 1/1 [00:00<00:00,  2.18it/s]\u001b[A\u001b[A\n",
      "\n",
      "  0%|          | 12/10000 [00:09<1:54:10,  1.46it/s]\u001b[A"
     ]
    },
    {
     "name": "stdout",
     "output_type": "stream",
     "text": [
      "\n",
      "Epoch: 012, Loss: 0.5168, Val: 0.5117, Test: 0.5151\n"
     ]
    },
    {
     "name": "stderr",
     "output_type": "stream",
     "text": [
      "\n",
      "\n",
      "  0%|          | 0/1 [00:00<?, ?it/s]\u001b[A\u001b[A\n",
      "\n",
      "100%|██████████| 1/1 [00:00<00:00,  1.14it/s]\u001b[A\u001b[A\n",
      "\n",
      "  0%|          | 13/10000 [00:10<2:09:12,  1.29it/s]\u001b[A"
     ]
    },
    {
     "name": "stdout",
     "output_type": "stream",
     "text": [
      "\n",
      "Epoch: 013, Loss: 0.5129, Val: 0.5138, Test: 0.5152\n"
     ]
    },
    {
     "name": "stderr",
     "output_type": "stream",
     "text": [
      "\n",
      "\n",
      "  0%|          | 0/1 [00:00<?, ?it/s]\u001b[A\u001b[A\n",
      "\n",
      "100%|██████████| 1/1 [00:00<00:00,  2.36it/s]\u001b[A\u001b[A\n",
      "\n",
      "  0%|          | 14/10000 [00:10<1:58:40,  1.40it/s]\u001b[A"
     ]
    },
    {
     "name": "stdout",
     "output_type": "stream",
     "text": [
      "\n",
      "Epoch: 014, Loss: 0.5105, Val: 0.5172, Test: 0.5180\n"
     ]
    },
    {
     "name": "stderr",
     "output_type": "stream",
     "text": [
      "\n",
      "\n",
      "  0%|          | 0/1 [00:00<?, ?it/s]\u001b[A\u001b[A\n",
      "\n",
      "100%|██████████| 1/1 [00:00<00:00,  2.01it/s]\u001b[A\u001b[A\n",
      "\n",
      "  0%|          | 15/10000 [00:11<1:51:22,  1.49it/s]\u001b[A"
     ]
    },
    {
     "name": "stdout",
     "output_type": "stream",
     "text": [
      "\n",
      "Epoch: 015, Loss: 0.5094, Val: 0.5192, Test: 0.5155\n"
     ]
    },
    {
     "name": "stderr",
     "output_type": "stream",
     "text": [
      "\n",
      "\n",
      "  0%|          | 0/1 [00:00<?, ?it/s]\u001b[A\u001b[A\n",
      "\n",
      "100%|██████████| 1/1 [00:00<00:00,  1.96it/s]\u001b[A\u001b[A\n",
      "\n",
      "  0%|          | 16/10000 [00:11<1:47:21,  1.55it/s]\u001b[A"
     ]
    },
    {
     "name": "stdout",
     "output_type": "stream",
     "text": [
      "\n",
      "Epoch: 016, Loss: 0.5096, Val: 0.5220, Test: 0.5164\n"
     ]
    },
    {
     "name": "stderr",
     "output_type": "stream",
     "text": [
      "\n",
      "\n",
      "  0%|          | 0/1 [00:00<?, ?it/s]\u001b[A\u001b[A\n",
      "\n",
      "100%|██████████| 1/1 [00:00<00:00,  2.22it/s]\u001b[A\u001b[A\n",
      "\n",
      "  0%|          | 17/10000 [00:12<1:45:11,  1.58it/s]\u001b[A"
     ]
    },
    {
     "name": "stdout",
     "output_type": "stream",
     "text": [
      "\n",
      "Epoch: 017, Loss: 0.5100, Val: 0.5248, Test: 0.5148\n"
     ]
    },
    {
     "name": "stderr",
     "output_type": "stream",
     "text": [
      "\n",
      "\n",
      "  0%|          | 0/1 [00:00<?, ?it/s]\u001b[A\u001b[A\n",
      "\n",
      "100%|██████████| 1/1 [00:00<00:00,  1.65it/s]\u001b[A\u001b[A\n",
      "\n",
      "  0%|          | 18/10000 [00:13<1:50:33,  1.50it/s]\u001b[A"
     ]
    },
    {
     "name": "stdout",
     "output_type": "stream",
     "text": [
      "\n",
      "Epoch: 018, Loss: 0.5115, Val: 0.5264, Test: 0.5186\n"
     ]
    },
    {
     "name": "stderr",
     "output_type": "stream",
     "text": [
      "\n",
      "\n",
      "  0%|          | 0/1 [00:00<?, ?it/s]\u001b[A\u001b[A\n",
      "\n",
      "100%|██████████| 1/1 [00:00<00:00,  1.53it/s]\u001b[A\u001b[A\n",
      "\n",
      "  0%|          | 19/10000 [00:14<1:59:18,  1.39it/s]\u001b[A"
     ]
    },
    {
     "name": "stdout",
     "output_type": "stream",
     "text": [
      "\n",
      "Epoch: 019, Loss: 0.5120, Val: 0.5294, Test: 0.5186\n"
     ]
    },
    {
     "name": "stderr",
     "output_type": "stream",
     "text": [
      "\n",
      "\n",
      "  0%|          | 0/1 [00:00<?, ?it/s]\u001b[A\u001b[A\n",
      "\n",
      "100%|██████████| 1/1 [00:00<00:00,  2.01it/s]\u001b[A\u001b[A\n",
      "\n",
      "  0%|          | 20/10000 [00:14<1:50:55,  1.50it/s]\u001b[A\n",
      "\n",
      "  0%|          | 0/1 [00:00<?, ?it/s]\u001b[A\u001b[A\n",
      "\n",
      "100%|██████████| 1/1 [00:00<00:00,  1.52it/s]\u001b[A\u001b[A\n",
      "\n",
      "  0%|          | 21/10000 [00:15<1:53:47,  1.46it/s]\u001b[A\n",
      "\n",
      "  0%|          | 0/1 [00:00<?, ?it/s]\u001b[A\u001b[A\n",
      "\n",
      "100%|██████████| 1/1 [00:00<00:00,  2.37it/s]\u001b[A\u001b[A\n",
      "\n",
      "  0%|          | 22/10000 [00:15<1:44:50,  1.59it/s]\u001b[A"
     ]
    },
    {
     "name": "stdout",
     "output_type": "stream",
     "text": [
      "\n",
      "Epoch: 022, Loss: 0.5135, Val: 0.5311, Test: 0.5236\n"
     ]
    },
    {
     "name": "stderr",
     "output_type": "stream",
     "text": [
      "\n",
      "\n",
      "  0%|          | 0/1 [00:00<?, ?it/s]\u001b[A\u001b[A\n",
      "\n",
      "100%|██████████| 1/1 [00:00<00:00,  1.74it/s]\u001b[A\u001b[A\n",
      "\n",
      "  0%|          | 23/10000 [00:16<1:47:43,  1.54it/s]\u001b[A"
     ]
    },
    {
     "name": "stdout",
     "output_type": "stream",
     "text": [
      "\n",
      "Epoch: 023, Loss: 0.5131, Val: 0.5314, Test: 0.5250\n"
     ]
    },
    {
     "name": "stderr",
     "output_type": "stream",
     "text": [
      "\n",
      "\n",
      "  0%|          | 0/1 [00:00<?, ?it/s]\u001b[A\u001b[A\n",
      "\n",
      "100%|██████████| 1/1 [00:00<00:00,  2.47it/s]\u001b[A\u001b[A\n",
      "\n",
      "  0%|          | 24/10000 [00:17<1:39:04,  1.68it/s]\u001b[A"
     ]
    },
    {
     "name": "stdout",
     "output_type": "stream",
     "text": [
      "\n",
      "Epoch: 024, Loss: 0.5123, Val: 0.5327, Test: 0.5275\n"
     ]
    },
    {
     "name": "stderr",
     "output_type": "stream",
     "text": [
      "\n",
      "\n",
      "  0%|          | 0/1 [00:00<?, ?it/s]\u001b[A\u001b[A\n",
      "\n",
      "100%|██████████| 1/1 [00:00<00:00,  1.70it/s]\u001b[A\u001b[A\n",
      "\n",
      "  0%|          | 25/10000 [00:17<1:44:15,  1.59it/s]\u001b[A"
     ]
    },
    {
     "name": "stdout",
     "output_type": "stream",
     "text": [
      "\n",
      "Epoch: 025, Loss: 0.5110, Val: 0.5336, Test: 0.5306\n"
     ]
    },
    {
     "name": "stderr",
     "output_type": "stream",
     "text": [
      "\n",
      "\n",
      "  0%|          | 0/1 [00:00<?, ?it/s]\u001b[A\u001b[A\n",
      "\n",
      "100%|██████████| 1/1 [00:00<00:00,  2.23it/s]\u001b[A\u001b[A\n",
      "\n",
      "  0%|          | 26/10000 [00:18<1:39:56,  1.66it/s]\u001b[A"
     ]
    },
    {
     "name": "stdout",
     "output_type": "stream",
     "text": [
      "\n",
      "Epoch: 026, Loss: 0.5090, Val: 0.5337, Test: 0.5301\n"
     ]
    },
    {
     "name": "stderr",
     "output_type": "stream",
     "text": [
      "\n",
      "\n",
      "  0%|          | 0/1 [00:00<?, ?it/s]\u001b[A\u001b[A\n",
      "\n",
      "100%|██████████| 1/1 [00:00<00:00,  2.40it/s]\u001b[A\u001b[A\n",
      "\n",
      "  0%|          | 27/10000 [00:18<1:35:46,  1.74it/s]\u001b[A"
     ]
    },
    {
     "name": "stdout",
     "output_type": "stream",
     "text": [
      "\n",
      "Epoch: 027, Loss: 0.5071, Val: 0.5355, Test: 0.5308\n"
     ]
    },
    {
     "name": "stderr",
     "output_type": "stream",
     "text": [
      "\n",
      "\n",
      "  0%|          | 0/1 [00:00<?, ?it/s]\u001b[A\u001b[A\n",
      "\n",
      "100%|██████████| 1/1 [00:00<00:00,  2.18it/s]\u001b[A\u001b[A\n",
      "\n",
      "  0%|          | 28/10000 [00:19<1:36:30,  1.72it/s]\u001b[A"
     ]
    },
    {
     "name": "stdout",
     "output_type": "stream",
     "text": [
      "\n",
      "Epoch: 028, Loss: 0.5050, Val: 0.5373, Test: 0.5328\n"
     ]
    },
    {
     "name": "stderr",
     "output_type": "stream",
     "text": [
      "\n",
      "\n",
      "  0%|          | 0/1 [00:00<?, ?it/s]\u001b[A\u001b[A\n",
      "\n",
      "100%|██████████| 1/1 [00:00<00:00,  1.55it/s]\u001b[A\u001b[A\n",
      "\n",
      "  0%|          | 29/10000 [00:20<1:42:15,  1.63it/s]\u001b[A\n",
      "\n",
      "  0%|          | 0/1 [00:00<?, ?it/s]\u001b[A\u001b[A\n",
      "\n",
      "100%|██████████| 1/1 [00:00<00:00,  1.95it/s]\u001b[A\u001b[A\n",
      "\n",
      "  0%|          | 30/10000 [00:20<1:43:33,  1.60it/s]\u001b[A\n",
      "\n",
      "  0%|          | 0/1 [00:00<?, ?it/s]\u001b[A\u001b[A\n",
      "\n",
      "100%|██████████| 1/1 [00:00<00:00,  1.96it/s]\u001b[A\u001b[A\n",
      "\n",
      "  0%|          | 31/10000 [00:21<1:42:55,  1.61it/s]\u001b[A"
     ]
    },
    {
     "name": "stdout",
     "output_type": "stream",
     "text": [
      "\n",
      "Epoch: 031, Loss: 0.4987, Val: 0.5375, Test: 0.5374\n"
     ]
    },
    {
     "name": "stderr",
     "output_type": "stream",
     "text": [
      "\n",
      "\n",
      "  0%|          | 0/1 [00:00<?, ?it/s]\u001b[A\u001b[A\n",
      "\n",
      "100%|██████████| 1/1 [00:00<00:00,  1.95it/s]\u001b[A\u001b[A\n",
      "\n",
      "  0%|          | 32/10000 [00:22<1:45:33,  1.57it/s]\u001b[A"
     ]
    },
    {
     "name": "stdout",
     "output_type": "stream",
     "text": [
      "\n",
      "Epoch: 032, Loss: 0.4965, Val: 0.5382, Test: 0.5409\n"
     ]
    },
    {
     "name": "stderr",
     "output_type": "stream",
     "text": [
      "\n",
      "\n",
      "  0%|          | 0/1 [00:00<?, ?it/s]\u001b[A\u001b[A\n",
      "\n",
      "100%|██████████| 1/1 [00:00<00:00,  1.49it/s]\u001b[A\u001b[A\n",
      "\n",
      "  0%|          | 33/10000 [00:22<1:56:11,  1.43it/s]\u001b[A"
     ]
    },
    {
     "name": "stdout",
     "output_type": "stream",
     "text": [
      "\n",
      "Epoch: 033, Loss: 0.4946, Val: 0.5394, Test: 0.5425\n"
     ]
    },
    {
     "name": "stderr",
     "output_type": "stream",
     "text": [
      "\n",
      "\n",
      "  0%|          | 0/1 [00:00<?, ?it/s]\u001b[A\u001b[A\n",
      "\n",
      "100%|██████████| 1/1 [00:00<00:00,  1.98it/s]\u001b[A\u001b[A\n",
      "\n",
      "  0%|          | 34/10000 [00:23<1:59:50,  1.39it/s]\u001b[A"
     ]
    },
    {
     "name": "stdout",
     "output_type": "stream",
     "text": [
      "\n",
      "Epoch: 034, Loss: 0.4930, Val: 0.5411, Test: 0.5440\n"
     ]
    },
    {
     "name": "stderr",
     "output_type": "stream",
     "text": [
      "\n",
      "\n",
      "  0%|          | 0/1 [00:00<?, ?it/s]\u001b[A\u001b[A\n",
      "\n",
      "100%|██████████| 1/1 [00:00<00:00,  2.20it/s]\u001b[A\u001b[A\n",
      "\n",
      "  0%|          | 35/10000 [00:24<1:53:21,  1.47it/s]\u001b[A\n",
      "\n",
      "  0%|          | 0/1 [00:00<?, ?it/s]\u001b[A\u001b[A\n",
      "\n",
      "100%|██████████| 1/1 [00:00<00:00,  1.51it/s]\u001b[A\u001b[A\n",
      "\n",
      "  0%|          | 36/10000 [00:25<2:07:22,  1.30it/s]\u001b[A"
     ]
    },
    {
     "name": "stdout",
     "output_type": "stream",
     "text": [
      "\n",
      "Epoch: 036, Loss: 0.4899, Val: 0.5420, Test: 0.5453\n"
     ]
    },
    {
     "name": "stderr",
     "output_type": "stream",
     "text": [
      "\n",
      "\n",
      "  0%|          | 0/1 [00:00<?, ?it/s]\u001b[A\u001b[A\n",
      "\n",
      "100%|██████████| 1/1 [00:00<00:00,  1.06it/s]\u001b[A\u001b[A\n",
      "\n",
      "  0%|          | 37/10000 [00:26<2:32:09,  1.09it/s]\u001b[A"
     ]
    },
    {
     "name": "stdout",
     "output_type": "stream",
     "text": [
      "\n",
      "Epoch: 037, Loss: 0.4885, Val: 0.5446, Test: 0.5431\n"
     ]
    },
    {
     "name": "stderr",
     "output_type": "stream",
     "text": [
      "\n",
      "\n",
      "  0%|          | 0/1 [00:00<?, ?it/s]\u001b[A\u001b[A\n",
      "\n",
      "100%|██████████| 1/1 [00:00<00:00,  1.66it/s]\u001b[A\u001b[A\n",
      "\n",
      "  0%|          | 38/10000 [00:27<2:23:57,  1.15it/s]\u001b[A"
     ]
    },
    {
     "name": "stdout",
     "output_type": "stream",
     "text": [
      "\n",
      "Epoch: 038, Loss: 0.4879, Val: 0.5453, Test: 0.5448\n"
     ]
    },
    {
     "name": "stderr",
     "output_type": "stream",
     "text": [
      "\n",
      "\n",
      "  0%|          | 0/1 [00:00<?, ?it/s]\u001b[A\u001b[A\n",
      "\n",
      "100%|██████████| 1/1 [00:00<00:00,  1.78it/s]\u001b[A\u001b[A\n",
      "\n",
      "  0%|          | 39/10000 [00:27<2:11:35,  1.26it/s]\u001b[A\n",
      "\n",
      "  0%|          | 0/1 [00:00<?, ?it/s]\u001b[A\u001b[A\n",
      "\n",
      "100%|██████████| 1/1 [00:00<00:00,  1.46it/s]\u001b[A\u001b[A\n",
      "\n",
      "  0%|          | 40/10000 [00:28<2:12:29,  1.25it/s]\u001b[A"
     ]
    },
    {
     "name": "stdout",
     "output_type": "stream",
     "text": [
      "\n",
      "Epoch: 040, Loss: 0.4851, Val: 0.5470, Test: 0.5472\n"
     ]
    },
    {
     "name": "stderr",
     "output_type": "stream",
     "text": [
      "\n",
      "\n",
      "  0%|          | 0/1 [00:00<?, ?it/s]\u001b[A\u001b[A\n",
      "\n",
      "100%|██████████| 1/1 [00:00<00:00,  1.57it/s]\u001b[A\u001b[A\n",
      "\n",
      "  0%|          | 41/10000 [00:29<2:11:19,  1.26it/s]\u001b[A\n",
      "\n",
      "  0%|          | 0/1 [00:00<?, ?it/s]\u001b[A\u001b[A\n",
      "\n",
      "100%|██████████| 1/1 [00:00<00:00,  2.04it/s]\u001b[A\u001b[A\n",
      "\n",
      "  0%|          | 42/10000 [00:30<2:08:21,  1.29it/s]\u001b[A"
     ]
    },
    {
     "name": "stdout",
     "output_type": "stream",
     "text": [
      "\n",
      "Epoch: 042, Loss: 0.4827, Val: 0.5476, Test: 0.5486\n"
     ]
    },
    {
     "name": "stderr",
     "output_type": "stream",
     "text": [
      "\n",
      "\n",
      "  0%|          | 0/1 [00:00<?, ?it/s]\u001b[A\u001b[A\n",
      "\n",
      "100%|██████████| 1/1 [00:00<00:00,  1.46it/s]\u001b[A\u001b[A\n",
      "\n",
      "  0%|          | 43/10000 [00:31<2:09:12,  1.28it/s]\u001b[A"
     ]
    },
    {
     "name": "stdout",
     "output_type": "stream",
     "text": [
      "\n",
      "Epoch: 043, Loss: 0.4810, Val: 0.5481, Test: 0.5510\n"
     ]
    },
    {
     "name": "stderr",
     "output_type": "stream",
     "text": [
      "\n",
      "\n",
      "  0%|          | 0/1 [00:00<?, ?it/s]\u001b[A\u001b[A\n",
      "\n",
      "100%|██████████| 1/1 [00:00<00:00,  1.59it/s]\u001b[A\u001b[A\n",
      "\n",
      "  0%|          | 44/10000 [00:31<2:11:36,  1.26it/s]\u001b[A"
     ]
    },
    {
     "name": "stdout",
     "output_type": "stream",
     "text": [
      "\n",
      "Epoch: 044, Loss: 0.4798, Val: 0.5490, Test: 0.5523\n"
     ]
    },
    {
     "name": "stderr",
     "output_type": "stream",
     "text": [
      "\n",
      "\n",
      "  0%|          | 0/1 [00:00<?, ?it/s]\u001b[A\u001b[A\n",
      "\n",
      "100%|██████████| 1/1 [00:00<00:00,  1.92it/s]\u001b[A\u001b[A\n",
      "\n",
      "  0%|          | 45/10000 [00:32<2:03:30,  1.34it/s]\u001b[A"
     ]
    },
    {
     "name": "stdout",
     "output_type": "stream",
     "text": [
      "\n",
      "Epoch: 045, Loss: 0.4781, Val: 0.5508, Test: 0.5543\n"
     ]
    },
    {
     "name": "stderr",
     "output_type": "stream",
     "text": [
      "\n",
      "\n",
      "  0%|          | 0/1 [00:00<?, ?it/s]\u001b[A\u001b[A\n",
      "\n",
      "100%|██████████| 1/1 [00:00<00:00,  1.46it/s]\u001b[A\u001b[A\n",
      "\n",
      "  0%|          | 46/10000 [00:33<2:13:19,  1.24it/s]\u001b[A"
     ]
    },
    {
     "name": "stdout",
     "output_type": "stream",
     "text": [
      "\n",
      "Epoch: 046, Loss: 0.4772, Val: 0.5524, Test: 0.5550\n"
     ]
    },
    {
     "name": "stderr",
     "output_type": "stream",
     "text": [
      "\n",
      "\n",
      "  0%|          | 0/1 [00:00<?, ?it/s]\u001b[A\u001b[A\n",
      "\n",
      "100%|██████████| 1/1 [00:00<00:00,  1.90it/s]\u001b[A\u001b[A\n",
      "\n",
      "  0%|          | 47/10000 [00:34<2:11:35,  1.26it/s]\u001b[A"
     ]
    },
    {
     "name": "stdout",
     "output_type": "stream",
     "text": [
      "\n",
      "Epoch: 047, Loss: 0.4756, Val: 0.5549, Test: 0.5559\n"
     ]
    },
    {
     "name": "stderr",
     "output_type": "stream",
     "text": [
      "\n",
      "\n",
      "  0%|          | 0/1 [00:00<?, ?it/s]\u001b[A\u001b[A\n",
      "\n",
      "100%|██████████| 1/1 [00:00<00:00,  1.80it/s]\u001b[A\u001b[A\n",
      "\n",
      "  0%|          | 48/10000 [00:34<2:02:16,  1.36it/s]\u001b[A\n",
      "\n",
      "  0%|          | 0/1 [00:00<?, ?it/s]\u001b[A\u001b[A\n",
      "\n",
      "100%|██████████| 1/1 [00:00<00:00,  1.42it/s]\u001b[A\u001b[A\n",
      "\n",
      "  0%|          | 49/10000 [00:35<2:07:30,  1.30it/s]\u001b[A"
     ]
    },
    {
     "name": "stdout",
     "output_type": "stream",
     "text": [
      "\n",
      "Epoch: 049, Loss: 0.4723, Val: 0.5549, Test: 0.5584\n"
     ]
    },
    {
     "name": "stderr",
     "output_type": "stream",
     "text": [
      "\n",
      "\n",
      "  0%|          | 0/1 [00:00<?, ?it/s]\u001b[A\u001b[A\n",
      "\n",
      "100%|██████████| 1/1 [00:00<00:00,  2.30it/s]\u001b[A\u001b[A\n",
      "\n",
      "  0%|          | 50/10000 [00:36<2:01:49,  1.36it/s]\u001b[A"
     ]
    },
    {
     "name": "stdout",
     "output_type": "stream",
     "text": [
      "\n",
      "Epoch: 050, Loss: 0.4703, Val: 0.5578, Test: 0.5606\n"
     ]
    },
    {
     "name": "stderr",
     "output_type": "stream",
     "text": [
      "\n",
      "\n",
      "  0%|          | 0/1 [00:00<?, ?it/s]\u001b[A\u001b[A\n",
      "\n",
      "100%|██████████| 1/1 [00:00<00:00,  1.64it/s]\u001b[A\u001b[A\n",
      "\n",
      "  1%|          | 51/10000 [00:36<1:59:20,  1.39it/s]\u001b[A"
     ]
    },
    {
     "name": "stdout",
     "output_type": "stream",
     "text": [
      "\n",
      "Epoch: 051, Loss: 0.4684, Val: 0.5593, Test: 0.5610\n"
     ]
    },
    {
     "name": "stderr",
     "output_type": "stream",
     "text": [
      "\n",
      "\n",
      "  0%|          | 0/1 [00:00<?, ?it/s]\u001b[A\u001b[A\n",
      "\n",
      "100%|██████████| 1/1 [00:00<00:00,  1.61it/s]\u001b[A\u001b[A\n",
      "\n",
      "  1%|          | 52/10000 [00:37<2:04:00,  1.34it/s]\u001b[A"
     ]
    },
    {
     "name": "stdout",
     "output_type": "stream",
     "text": [
      "\n",
      "Epoch: 052, Loss: 0.4667, Val: 0.5614, Test: 0.5619\n"
     ]
    },
    {
     "name": "stderr",
     "output_type": "stream",
     "text": [
      "\n",
      "\n",
      "  0%|          | 0/1 [00:00<?, ?it/s]\u001b[A\u001b[A\n",
      "\n",
      "100%|██████████| 1/1 [00:00<00:00,  1.64it/s]\u001b[A\u001b[A\n",
      "\n",
      "  1%|          | 53/10000 [00:38<2:10:29,  1.27it/s]\u001b[A"
     ]
    },
    {
     "name": "stdout",
     "output_type": "stream",
     "text": [
      "\n",
      "Epoch: 053, Loss: 0.4648, Val: 0.5624, Test: 0.5629\n"
     ]
    },
    {
     "name": "stderr",
     "output_type": "stream",
     "text": [
      "\n",
      "\n",
      "  0%|          | 0/1 [00:00<?, ?it/s]\u001b[A\u001b[A\n",
      "\n",
      "100%|██████████| 1/1 [00:00<00:00,  1.45it/s]\u001b[A\u001b[A\n",
      "\n",
      "  1%|          | 54/10000 [00:39<2:11:04,  1.26it/s]\u001b[A"
     ]
    },
    {
     "name": "stdout",
     "output_type": "stream",
     "text": [
      "\n",
      "Epoch: 054, Loss: 0.4634, Val: 0.5634, Test: 0.5635\n"
     ]
    },
    {
     "name": "stderr",
     "output_type": "stream",
     "text": [
      "\n",
      "\n",
      "  0%|          | 0/1 [00:00<?, ?it/s]\u001b[A\u001b[A\n",
      "\n",
      "100%|██████████| 1/1 [00:00<00:00,  1.21it/s]\u001b[A\u001b[A\n",
      "\n",
      "  1%|          | 55/10000 [00:40<2:18:07,  1.20it/s]\u001b[A"
     ]
    },
    {
     "name": "stdout",
     "output_type": "stream",
     "text": [
      "\n",
      "Epoch: 055, Loss: 0.4622, Val: 0.5652, Test: 0.5643\n"
     ]
    },
    {
     "name": "stderr",
     "output_type": "stream",
     "text": [
      "\n",
      "\n",
      "  0%|          | 0/1 [00:00<?, ?it/s]\u001b[A\u001b[A\n",
      "\n",
      "100%|██████████| 1/1 [00:00<00:00,  1.85it/s]\u001b[A\u001b[A\n",
      "\n",
      "  1%|          | 56/10000 [00:41<2:09:32,  1.28it/s]\u001b[A"
     ]
    },
    {
     "name": "stdout",
     "output_type": "stream",
     "text": [
      "\n",
      "Epoch: 056, Loss: 0.4608, Val: 0.5655, Test: 0.5651\n"
     ]
    },
    {
     "name": "stderr",
     "output_type": "stream",
     "text": [
      "\n",
      "\n",
      "  0%|          | 0/1 [00:00<?, ?it/s]\u001b[A\u001b[A\n",
      "\n",
      "100%|██████████| 1/1 [00:00<00:00,  1.42it/s]\u001b[A\u001b[A\n",
      "\n",
      "  1%|          | 57/10000 [00:42<2:18:01,  1.20it/s]\u001b[A"
     ]
    },
    {
     "name": "stdout",
     "output_type": "stream",
     "text": [
      "\n",
      "Epoch: 057, Loss: 0.4589, Val: 0.5681, Test: 0.5667\n"
     ]
    },
    {
     "name": "stderr",
     "output_type": "stream",
     "text": [
      "\n",
      "\n",
      "  0%|          | 0/1 [00:00<?, ?it/s]\u001b[A\u001b[A\n",
      "\n",
      "100%|██████████| 1/1 [00:00<00:00,  1.44it/s]\u001b[A\u001b[A\n",
      "\n",
      "  1%|          | 58/10000 [00:42<2:23:18,  1.16it/s]\u001b[A"
     ]
    },
    {
     "name": "stdout",
     "output_type": "stream",
     "text": [
      "\n",
      "Epoch: 058, Loss: 0.4566, Val: 0.5688, Test: 0.5664\n"
     ]
    },
    {
     "name": "stderr",
     "output_type": "stream",
     "text": [
      "\n",
      "\n",
      "  0%|          | 0/1 [00:00<?, ?it/s]\u001b[A\u001b[A\n",
      "\n",
      "100%|██████████| 1/1 [00:00<00:00,  2.13it/s]\u001b[A\u001b[A\n",
      "\n",
      "  1%|          | 59/10000 [00:43<2:05:44,  1.32it/s]\u001b[A\n",
      "\n",
      "  0%|          | 0/1 [00:00<?, ?it/s]\u001b[A\u001b[A\n",
      "\n",
      "100%|██████████| 1/1 [00:00<00:00,  1.44it/s]\u001b[A\u001b[A\n",
      "\n",
      "  1%|          | 60/10000 [00:44<2:16:25,  1.21it/s]\u001b[A"
     ]
    },
    {
     "name": "stdout",
     "output_type": "stream",
     "text": [
      "\n",
      "Epoch: 060, Loss: 0.4542, Val: 0.5693, Test: 0.5674\n"
     ]
    },
    {
     "name": "stderr",
     "output_type": "stream",
     "text": [
      "\n",
      "\n",
      "  0%|          | 0/1 [00:00<?, ?it/s]\u001b[A\u001b[A\n",
      "\n",
      "100%|██████████| 1/1 [00:00<00:00,  1.77it/s]\u001b[A\u001b[A\n",
      "\n",
      "  1%|          | 61/10000 [00:45<2:10:19,  1.27it/s]\u001b[A\n",
      "\n",
      "  0%|          | 0/1 [00:00<?, ?it/s]\u001b[A\u001b[A\n",
      "\n",
      "100%|██████████| 1/1 [00:00<00:00,  2.05it/s]\u001b[A\u001b[A\n",
      "\n",
      "  1%|          | 62/10000 [00:45<1:57:36,  1.41it/s]\u001b[A\n",
      "\n",
      "  0%|          | 0/1 [00:00<?, ?it/s]\u001b[A\u001b[A\n",
      "\n",
      "100%|██████████| 1/1 [00:00<00:00,  1.90it/s]\u001b[A\u001b[A\n",
      "\n",
      "  1%|          | 63/10000 [00:46<1:51:54,  1.48it/s]\u001b[A\n",
      "\n",
      "  0%|          | 0/1 [00:00<?, ?it/s]\u001b[A\u001b[A\n",
      "\n",
      "100%|██████████| 1/1 [00:00<00:00,  1.86it/s]\u001b[A\u001b[A\n",
      "\n",
      "  1%|          | 64/10000 [00:46<1:50:44,  1.50it/s]\u001b[A"
     ]
    },
    {
     "name": "stdout",
     "output_type": "stream",
     "text": [
      "\n",
      "Epoch: 064, Loss: 0.4473, Val: 0.5693, Test: 0.5666\n"
     ]
    },
    {
     "name": "stderr",
     "output_type": "stream",
     "text": [
      "\n",
      "\n",
      "  0%|          | 0/1 [00:00<?, ?it/s]\u001b[A\u001b[A\n",
      "\n",
      "100%|██████████| 1/1 [00:00<00:00,  1.49it/s]\u001b[A\u001b[A\n",
      "\n",
      "  1%|          | 65/10000 [00:47<1:57:51,  1.41it/s]\u001b[A"
     ]
    },
    {
     "name": "stdout",
     "output_type": "stream",
     "text": [
      "\n",
      "Epoch: 065, Loss: 0.4457, Val: 0.5694, Test: 0.5680\n"
     ]
    },
    {
     "name": "stderr",
     "output_type": "stream",
     "text": [
      "\n",
      "\n",
      "  0%|          | 0/1 [00:00<?, ?it/s]\u001b[A\u001b[A\n",
      "\n",
      "100%|██████████| 1/1 [00:00<00:00,  1.67it/s]\u001b[A\u001b[A\n",
      "\n",
      "  1%|          | 66/10000 [00:48<1:57:55,  1.40it/s]\u001b[A"
     ]
    },
    {
     "name": "stdout",
     "output_type": "stream",
     "text": [
      "\n",
      "Epoch: 066, Loss: 0.4451, Val: 0.5704, Test: 0.5671\n"
     ]
    },
    {
     "name": "stderr",
     "output_type": "stream",
     "text": [
      "\n",
      "\n",
      "  0%|          | 0/1 [00:00<?, ?it/s]\u001b[A\u001b[A\n",
      "\n",
      "100%|██████████| 1/1 [00:00<00:00,  1.51it/s]\u001b[A\u001b[A\n",
      "\n",
      "  1%|          | 67/10000 [00:49<2:09:59,  1.27it/s]\u001b[A\n",
      "\n",
      "  0%|          | 0/1 [00:00<?, ?it/s]\u001b[A\u001b[A\n",
      "\n",
      "100%|██████████| 1/1 [00:00<00:00,  1.68it/s]\u001b[A\u001b[A\n",
      "\n",
      "  1%|          | 68/10000 [00:50<2:07:59,  1.29it/s]\u001b[A\n",
      "\n",
      "  0%|          | 0/1 [00:00<?, ?it/s]\u001b[A\u001b[A\n",
      "\n",
      "100%|██████████| 1/1 [00:00<00:00,  1.79it/s]\u001b[A\u001b[A\n",
      "\n",
      "  1%|          | 69/10000 [00:50<2:01:47,  1.36it/s]\u001b[A\n",
      "\n",
      "  0%|          | 0/1 [00:00<?, ?it/s]\u001b[A\u001b[A\n",
      "\n",
      "100%|██████████| 1/1 [00:00<00:00,  2.25it/s]\u001b[A\u001b[A\n",
      "\n",
      "  1%|          | 70/10000 [00:51<1:51:17,  1.49it/s]\u001b[A\n",
      "\n",
      "  0%|          | 0/1 [00:00<?, ?it/s]\u001b[A\u001b[A\n",
      "\n",
      "100%|██████████| 1/1 [00:00<00:00,  1.69it/s]\u001b[A\u001b[A\n",
      "\n",
      "  1%|          | 71/10000 [00:52<1:52:17,  1.47it/s]\u001b[A"
     ]
    },
    {
     "name": "stdout",
     "output_type": "stream",
     "text": [
      "\n",
      "Epoch: 071, Loss: 0.4377, Val: 0.5708, Test: 0.5681\n"
     ]
    },
    {
     "name": "stderr",
     "output_type": "stream",
     "text": [
      "\n",
      "\n",
      "  0%|          | 0/1 [00:00<?, ?it/s]\u001b[A\u001b[A\n",
      "\n",
      "100%|██████████| 1/1 [00:00<00:00,  1.37it/s]\u001b[A\u001b[A\n",
      "\n",
      "  1%|          | 72/10000 [00:52<2:01:44,  1.36it/s]\u001b[A\n",
      "\n",
      "  0%|          | 0/1 [00:00<?, ?it/s]\u001b[A\u001b[A\n",
      "\n",
      "100%|██████████| 1/1 [00:00<00:00,  1.67it/s]\u001b[A\u001b[A\n",
      "\n",
      "  1%|          | 73/10000 [00:53<2:10:15,  1.27it/s]\u001b[A"
     ]
    },
    {
     "name": "stdout",
     "output_type": "stream",
     "text": [
      "\n",
      "Epoch: 073, Loss: 0.4354, Val: 0.5711, Test: 0.5669\n"
     ]
    },
    {
     "name": "stderr",
     "output_type": "stream",
     "text": [
      "\n",
      "\n",
      "  0%|          | 0/1 [00:00<?, ?it/s]\u001b[A\u001b[A\n",
      "\n",
      "100%|██████████| 1/1 [00:00<00:00,  1.76it/s]\u001b[A\u001b[A\n",
      "\n",
      "  1%|          | 74/10000 [00:54<2:12:13,  1.25it/s]\u001b[A"
     ]
    },
    {
     "name": "stdout",
     "output_type": "stream",
     "text": [
      "\n",
      "Epoch: 074, Loss: 0.4343, Val: 0.5713, Test: 0.5677\n"
     ]
    },
    {
     "name": "stderr",
     "output_type": "stream",
     "text": [
      "\n",
      "\n",
      "  0%|          | 0/1 [00:00<?, ?it/s]\u001b[A\u001b[A\n",
      "\n",
      "100%|██████████| 1/1 [00:00<00:00,  1.75it/s]\u001b[A\u001b[A\n",
      "\n",
      "  1%|          | 75/10000 [00:55<2:03:23,  1.34it/s]\u001b[A\n",
      "\n",
      "  0%|          | 0/1 [00:00<?, ?it/s]\u001b[A\u001b[A\n",
      "\n",
      "100%|██████████| 1/1 [00:00<00:00,  1.83it/s]\u001b[A\u001b[A\n",
      "\n",
      "  1%|          | 76/10000 [00:55<2:02:08,  1.35it/s]\u001b[A"
     ]
    },
    {
     "name": "stdout",
     "output_type": "stream",
     "text": [
      "\n",
      "Epoch: 076, Loss: 0.4310, Val: 0.5720, Test: 0.5696\n"
     ]
    },
    {
     "name": "stderr",
     "output_type": "stream",
     "text": [
      "\n",
      "\n",
      "  0%|          | 0/1 [00:00<?, ?it/s]\u001b[A\u001b[A\n",
      "\n",
      "100%|██████████| 1/1 [00:00<00:00,  1.52it/s]\u001b[A\u001b[A\n",
      "\n",
      "  1%|          | 77/10000 [00:56<2:17:00,  1.21it/s]\u001b[A"
     ]
    },
    {
     "name": "stdout",
     "output_type": "stream",
     "text": [
      "\n",
      "Epoch: 077, Loss: 0.4307, Val: 0.5728, Test: 0.5697\n"
     ]
    },
    {
     "name": "stderr",
     "output_type": "stream",
     "text": [
      "\n",
      "\n",
      "  0%|          | 0/1 [00:00<?, ?it/s]\u001b[A\u001b[A\n",
      "\n",
      "100%|██████████| 1/1 [00:00<00:00,  1.53it/s]\u001b[A\u001b[A\n",
      "\n",
      "  1%|          | 78/10000 [00:57<2:22:34,  1.16it/s]\u001b[A"
     ]
    },
    {
     "name": "stdout",
     "output_type": "stream",
     "text": [
      "\n",
      "Epoch: 078, Loss: 0.4289, Val: 0.5739, Test: 0.5702\n"
     ]
    },
    {
     "name": "stderr",
     "output_type": "stream",
     "text": [
      "\n",
      "\n",
      "  0%|          | 0/1 [00:00<?, ?it/s]\u001b[A\u001b[A\n",
      "\n",
      "100%|██████████| 1/1 [00:00<00:00,  1.46it/s]\u001b[A\u001b[A\n",
      "\n",
      "  1%|          | 79/10000 [00:58<2:19:05,  1.19it/s]\u001b[A\n",
      "\n",
      "  0%|          | 0/1 [00:00<?, ?it/s]\u001b[A\u001b[A\n",
      "\n",
      "100%|██████████| 1/1 [00:00<00:00,  1.40it/s]\u001b[A\u001b[A\n",
      "\n",
      "  1%|          | 80/10000 [00:59<2:18:30,  1.19it/s]\u001b[A"
     ]
    },
    {
     "name": "stdout",
     "output_type": "stream",
     "text": [
      "\n",
      "Epoch: 080, Loss: 0.4273, Val: 0.5744, Test: 0.5714\n"
     ]
    },
    {
     "name": "stderr",
     "output_type": "stream",
     "text": [
      "\n",
      "\n",
      "  0%|          | 0/1 [00:00<?, ?it/s]\u001b[A\u001b[A\n",
      "\n",
      "100%|██████████| 1/1 [00:00<00:00,  1.22it/s]\u001b[A\u001b[A\n",
      "\n",
      "  1%|          | 81/10000 [01:00<2:22:36,  1.16it/s]\u001b[A"
     ]
    },
    {
     "name": "stdout",
     "output_type": "stream",
     "text": [
      "\n",
      "Epoch: 081, Loss: 0.4260, Val: 0.5748, Test: 0.5725\n"
     ]
    },
    {
     "name": "stderr",
     "output_type": "stream",
     "text": [
      "\n",
      "\n",
      "  0%|          | 0/1 [00:00<?, ?it/s]\u001b[A\u001b[A\n",
      "\n",
      "100%|██████████| 1/1 [00:00<00:00,  1.18it/s]\u001b[A\u001b[A\n",
      "\n",
      "  1%|          | 82/10000 [01:01<2:35:38,  1.06it/s]\u001b[A"
     ]
    },
    {
     "name": "stdout",
     "output_type": "stream",
     "text": [
      "\n",
      "Epoch: 082, Loss: 0.4250, Val: 0.5755, Test: 0.5727\n"
     ]
    },
    {
     "name": "stderr",
     "output_type": "stream",
     "text": [
      "\n",
      "\n",
      "  0%|          | 0/1 [00:00<?, ?it/s]\u001b[A\u001b[A\n",
      "\n",
      "100%|██████████| 1/1 [00:00<00:00,  1.46it/s]\u001b[A\u001b[A\n"
     ]
    },
    {
     "name": "stdout",
     "output_type": "stream",
     "text": [
      "\n",
      "Epoch: 083, Loss: 0.4239, Val: 0.5764, Test: 0.5735\n"
     ]
    },
    {
     "name": "stderr",
     "output_type": "stream",
     "text": [
      "\n",
      "  1%|          | 83/10000 [01:02<2:45:45,  1.00s/it]\u001b[A\n",
      "\n",
      "  0%|          | 0/1 [00:00<?, ?it/s]\u001b[A\u001b[A\n",
      "\n",
      "100%|██████████| 1/1 [00:00<00:00,  1.57it/s]\u001b[A\u001b[A\n",
      "\n",
      "  1%|          | 84/10000 [01:03<2:37:42,  1.05it/s]\u001b[A"
     ]
    },
    {
     "name": "stdout",
     "output_type": "stream",
     "text": [
      "\n",
      "Epoch: 084, Loss: 0.4230, Val: 0.5764, Test: 0.5745\n"
     ]
    },
    {
     "name": "stderr",
     "output_type": "stream",
     "text": [
      "\n",
      "\n",
      "  0%|          | 0/1 [00:00<?, ?it/s]\u001b[A\u001b[A\n",
      "\n",
      "100%|██████████| 1/1 [00:00<00:00,  1.79it/s]\u001b[A\u001b[A\n",
      "\n",
      "  1%|          | 85/10000 [01:04<2:23:12,  1.15it/s]\u001b[A"
     ]
    },
    {
     "name": "stdout",
     "output_type": "stream",
     "text": [
      "\n",
      "Epoch: 085, Loss: 0.4215, Val: 0.5767, Test: 0.5754\n"
     ]
    },
    {
     "name": "stderr",
     "output_type": "stream",
     "text": [
      "\n",
      "\n",
      "  0%|          | 0/1 [00:00<?, ?it/s]\u001b[A\u001b[A\n",
      "\n",
      "100%|██████████| 1/1 [00:00<00:00,  1.34it/s]\u001b[A\u001b[A\n",
      "\n",
      "  1%|          | 86/10000 [01:05<2:27:59,  1.12it/s]\u001b[A"
     ]
    },
    {
     "name": "stdout",
     "output_type": "stream",
     "text": [
      "\n",
      "Epoch: 086, Loss: 0.4214, Val: 0.5774, Test: 0.5759\n"
     ]
    },
    {
     "name": "stderr",
     "output_type": "stream",
     "text": [
      "\n",
      "\n",
      "  0%|          | 0/1 [00:00<?, ?it/s]\u001b[A\u001b[A\n",
      "\n",
      "100%|██████████| 1/1 [00:00<00:00,  1.69it/s]\u001b[A\u001b[A\n",
      "\n",
      "  1%|          | 87/10000 [01:05<2:21:20,  1.17it/s]\u001b[A"
     ]
    },
    {
     "name": "stdout",
     "output_type": "stream",
     "text": [
      "\n",
      "Epoch: 087, Loss: 0.4204, Val: 0.5787, Test: 0.5766\n"
     ]
    },
    {
     "name": "stderr",
     "output_type": "stream",
     "text": [
      "\n",
      "\n",
      "  0%|          | 0/1 [00:00<?, ?it/s]\u001b[A\u001b[A\n",
      "\n",
      "100%|██████████| 1/1 [00:01<00:00,  1.07s/it]\u001b[A\u001b[A\n",
      "\n",
      "  1%|          | 88/10000 [01:07<2:39:44,  1.03it/s]\u001b[A"
     ]
    },
    {
     "name": "stdout",
     "output_type": "stream",
     "text": [
      "\n",
      "Epoch: 088, Loss: 0.4195, Val: 0.5788, Test: 0.5782\n"
     ]
    },
    {
     "name": "stderr",
     "output_type": "stream",
     "text": [
      "\n",
      "\n",
      "  0%|          | 0/1 [00:00<?, ?it/s]\u001b[A\u001b[A\n",
      "\n",
      "100%|██████████| 1/1 [00:00<00:00,  1.94it/s]\u001b[A\u001b[A\n",
      "\n",
      "  1%|          | 89/10000 [01:07<2:22:57,  1.16it/s]\u001b[A"
     ]
    },
    {
     "name": "stdout",
     "output_type": "stream",
     "text": [
      "\n",
      "Epoch: 089, Loss: 0.4193, Val: 0.5795, Test: 0.5788\n"
     ]
    },
    {
     "name": "stderr",
     "output_type": "stream",
     "text": [
      "\n",
      "\n",
      "  0%|          | 0/1 [00:00<?, ?it/s]\u001b[A\u001b[A\n",
      "\n",
      "100%|██████████| 1/1 [00:00<00:00,  1.35it/s]\u001b[A\u001b[A\n",
      "\n",
      "  1%|          | 90/10000 [01:08<2:20:35,  1.17it/s]\u001b[A"
     ]
    },
    {
     "name": "stdout",
     "output_type": "stream",
     "text": [
      "\n",
      "Epoch: 090, Loss: 0.4180, Val: 0.5810, Test: 0.5792\n"
     ]
    },
    {
     "name": "stderr",
     "output_type": "stream",
     "text": [
      "\n",
      "\n",
      "  0%|          | 0/1 [00:00<?, ?it/s]\u001b[A\u001b[A\n",
      "\n",
      "100%|██████████| 1/1 [00:00<00:00,  1.63it/s]\u001b[A\u001b[A\n",
      "\n",
      "  1%|          | 91/10000 [01:09<2:18:05,  1.20it/s]\u001b[A"
     ]
    },
    {
     "name": "stdout",
     "output_type": "stream",
     "text": [
      "\n",
      "Epoch: 091, Loss: 0.4167, Val: 0.5814, Test: 0.5793\n"
     ]
    },
    {
     "name": "stderr",
     "output_type": "stream",
     "text": [
      "\n",
      "\n",
      "  0%|          | 0/1 [00:00<?, ?it/s]\u001b[A\u001b[A\n",
      "\n",
      "100%|██████████| 1/1 [00:00<00:00,  1.54it/s]\u001b[A\u001b[A\n",
      "\n",
      "  1%|          | 92/10000 [01:10<2:19:52,  1.18it/s]\u001b[A"
     ]
    },
    {
     "name": "stdout",
     "output_type": "stream",
     "text": [
      "\n",
      "Epoch: 092, Loss: 0.4163, Val: 0.5821, Test: 0.5807\n"
     ]
    },
    {
     "name": "stderr",
     "output_type": "stream",
     "text": [
      "\n",
      "\n",
      "  0%|          | 0/1 [00:00<?, ?it/s]\u001b[A\u001b[A\n",
      "\n",
      "100%|██████████| 1/1 [00:00<00:00,  1.54it/s]\u001b[A\u001b[A\n",
      "\n",
      "  1%|          | 93/10000 [01:11<2:29:45,  1.10it/s]\u001b[A"
     ]
    },
    {
     "name": "stdout",
     "output_type": "stream",
     "text": [
      "\n",
      "Epoch: 093, Loss: 0.4159, Val: 0.5833, Test: 0.5817\n"
     ]
    },
    {
     "name": "stderr",
     "output_type": "stream",
     "text": [
      "\n",
      "\n",
      "  0%|          | 0/1 [00:00<?, ?it/s]\u001b[A\u001b[A\n",
      "\n",
      "100%|██████████| 1/1 [00:00<00:00,  1.34it/s]\u001b[A\u001b[A\n",
      "\n",
      "  1%|          | 94/10000 [01:12<2:30:41,  1.10it/s]\u001b[A"
     ]
    },
    {
     "name": "stdout",
     "output_type": "stream",
     "text": [
      "\n",
      "Epoch: 094, Loss: 0.4149, Val: 0.5839, Test: 0.5831\n"
     ]
    },
    {
     "name": "stderr",
     "output_type": "stream",
     "text": [
      "\n",
      "\n",
      "  0%|          | 0/1 [00:00<?, ?it/s]\u001b[A\u001b[A\n",
      "\n",
      "100%|██████████| 1/1 [00:00<00:00,  1.56it/s]\u001b[A\u001b[A\n",
      "\n",
      "  1%|          | 95/10000 [01:13<2:22:55,  1.16it/s]\u001b[A"
     ]
    },
    {
     "name": "stdout",
     "output_type": "stream",
     "text": [
      "\n",
      "Epoch: 095, Loss: 0.4141, Val: 0.5847, Test: 0.5845\n"
     ]
    },
    {
     "name": "stderr",
     "output_type": "stream",
     "text": [
      "\n",
      "\n",
      "  0%|          | 0/1 [00:00<?, ?it/s]\u001b[A\u001b[A\n",
      "\n",
      "100%|██████████| 1/1 [00:00<00:00,  1.27it/s]\u001b[A\u001b[A\n",
      "\n",
      "  1%|          | 96/10000 [01:14<2:30:45,  1.09it/s]\u001b[A"
     ]
    },
    {
     "name": "stdout",
     "output_type": "stream",
     "text": [
      "\n",
      "Epoch: 096, Loss: 0.4133, Val: 0.5852, Test: 0.5849\n"
     ]
    },
    {
     "name": "stderr",
     "output_type": "stream",
     "text": [
      "\n",
      "\n",
      "  0%|          | 0/1 [00:00<?, ?it/s]\u001b[A\u001b[A\n",
      "\n",
      "100%|██████████| 1/1 [00:00<00:00,  1.83it/s]\u001b[A\u001b[A\n",
      "\n",
      "  1%|          | 97/10000 [01:14<2:20:15,  1.18it/s]\u001b[A"
     ]
    },
    {
     "name": "stdout",
     "output_type": "stream",
     "text": [
      "\n",
      "Epoch: 097, Loss: 0.4132, Val: 0.5855, Test: 0.5850\n"
     ]
    },
    {
     "name": "stderr",
     "output_type": "stream",
     "text": [
      "\n",
      "\n",
      "  0%|          | 0/1 [00:00<?, ?it/s]\u001b[A\u001b[A\n",
      "\n",
      "100%|██████████| 1/1 [00:00<00:00,  1.75it/s]\u001b[A\u001b[A\n",
      "\n",
      "  1%|          | 98/10000 [01:15<2:23:52,  1.15it/s]\u001b[A"
     ]
    },
    {
     "name": "stdout",
     "output_type": "stream",
     "text": [
      "\n",
      "Epoch: 098, Loss: 0.4124, Val: 0.5861, Test: 0.5858\n"
     ]
    },
    {
     "name": "stderr",
     "output_type": "stream",
     "text": [
      "\n",
      "\n",
      "  0%|          | 0/1 [00:00<?, ?it/s]\u001b[A\u001b[A\n",
      "\n",
      "100%|██████████| 1/1 [00:00<00:00,  1.64it/s]\u001b[A\u001b[A\n",
      "\n",
      "  1%|          | 99/10000 [01:16<2:14:55,  1.22it/s]\u001b[A"
     ]
    },
    {
     "name": "stdout",
     "output_type": "stream",
     "text": [
      "\n",
      "Epoch: 099, Loss: 0.4123, Val: 0.5864, Test: 0.5858\n"
     ]
    },
    {
     "name": "stderr",
     "output_type": "stream",
     "text": [
      "\n",
      "\n",
      "  0%|          | 0/1 [00:00<?, ?it/s]\u001b[A\u001b[A\n",
      "\n",
      "100%|██████████| 1/1 [00:00<00:00,  1.57it/s]\u001b[A\u001b[A\n",
      "\n",
      "  1%|          | 100/10000 [01:17<2:12:34,  1.24it/s]\u001b[A"
     ]
    },
    {
     "name": "stdout",
     "output_type": "stream",
     "text": [
      "\n",
      "Epoch: 100, Loss: 0.4114, Val: 0.5865, Test: 0.5864\n"
     ]
    },
    {
     "name": "stderr",
     "output_type": "stream",
     "text": [
      "\n",
      "\n",
      "  0%|          | 0/1 [00:00<?, ?it/s]\u001b[A\u001b[A\n",
      "\n",
      "100%|██████████| 1/1 [00:00<00:00,  2.16it/s]\u001b[A\u001b[A\n",
      "\n",
      "  1%|          | 101/10000 [01:17<2:05:57,  1.31it/s]\u001b[A"
     ]
    },
    {
     "name": "stdout",
     "output_type": "stream",
     "text": [
      "\n",
      "Epoch: 101, Loss: 0.4098, Val: 0.5869, Test: 0.5861\n"
     ]
    },
    {
     "name": "stderr",
     "output_type": "stream",
     "text": [
      "\n",
      "\n",
      "  0%|          | 0/1 [00:00<?, ?it/s]\u001b[A\u001b[A\n",
      "\n",
      "100%|██████████| 1/1 [00:00<00:00,  1.49it/s]\u001b[A\u001b[A\n",
      "\n",
      "  1%|          | 102/10000 [01:18<2:08:09,  1.29it/s]\u001b[A"
     ]
    },
    {
     "name": "stdout",
     "output_type": "stream",
     "text": [
      "\n",
      "Epoch: 102, Loss: 0.4100, Val: 0.5870, Test: 0.5868\n"
     ]
    },
    {
     "name": "stderr",
     "output_type": "stream",
     "text": [
      "\n",
      "\n",
      "  0%|          | 0/1 [00:00<?, ?it/s]\u001b[A\u001b[A\n",
      "\n",
      "100%|██████████| 1/1 [00:00<00:00,  1.60it/s]\u001b[A\u001b[A\n",
      "\n",
      "  1%|          | 103/10000 [01:19<2:04:27,  1.33it/s]\u001b[A"
     ]
    },
    {
     "name": "stdout",
     "output_type": "stream",
     "text": [
      "\n",
      "Epoch: 103, Loss: 0.4091, Val: 0.5873, Test: 0.5869\n"
     ]
    },
    {
     "name": "stderr",
     "output_type": "stream",
     "text": [
      "\n",
      "\n",
      "  0%|          | 0/1 [00:00<?, ?it/s]\u001b[A\u001b[A\n",
      "\n",
      "100%|██████████| 1/1 [00:00<00:00,  1.69it/s]\u001b[A\u001b[A\n",
      "\n",
      "  1%|          | 104/10000 [01:20<2:00:13,  1.37it/s]\u001b[A"
     ]
    },
    {
     "name": "stdout",
     "output_type": "stream",
     "text": [
      "\n",
      "Epoch: 104, Loss: 0.4086, Val: 0.5879, Test: 0.5879\n"
     ]
    },
    {
     "name": "stderr",
     "output_type": "stream",
     "text": [
      "\n",
      "\n",
      "  0%|          | 0/1 [00:00<?, ?it/s]\u001b[A\u001b[A\n",
      "\n",
      "100%|██████████| 1/1 [00:00<00:00,  2.22it/s]\u001b[A\u001b[A\n",
      "\n",
      "  1%|          | 105/10000 [01:20<1:51:30,  1.48it/s]\u001b[A"
     ]
    },
    {
     "name": "stdout",
     "output_type": "stream",
     "text": [
      "\n",
      "Epoch: 105, Loss: 0.4088, Val: 0.5884, Test: 0.5882\n"
     ]
    },
    {
     "name": "stderr",
     "output_type": "stream",
     "text": [
      "\n",
      "\n",
      "  0%|          | 0/1 [00:00<?, ?it/s]\u001b[A\u001b[A\n",
      "\n",
      "100%|██████████| 1/1 [00:00<00:00,  2.28it/s]\u001b[A\u001b[A\n",
      "\n",
      "  1%|          | 106/10000 [01:21<1:43:29,  1.59it/s]\u001b[A"
     ]
    },
    {
     "name": "stdout",
     "output_type": "stream",
     "text": [
      "\n",
      "Epoch: 106, Loss: 0.4081, Val: 0.5889, Test: 0.5878\n"
     ]
    },
    {
     "name": "stderr",
     "output_type": "stream",
     "text": [
      "\n",
      "\n",
      "  0%|          | 0/1 [00:00<?, ?it/s]\u001b[A\u001b[A\n",
      "\n",
      "100%|██████████| 1/1 [00:00<00:00,  1.36it/s]\u001b[A\u001b[A\n",
      "\n",
      "  1%|          | 107/10000 [01:21<1:52:48,  1.46it/s]\u001b[A"
     ]
    },
    {
     "name": "stdout",
     "output_type": "stream",
     "text": [
      "\n",
      "Epoch: 107, Loss: 0.4076, Val: 0.5896, Test: 0.5886\n"
     ]
    },
    {
     "name": "stderr",
     "output_type": "stream",
     "text": [
      "\n",
      "\n",
      "  0%|          | 0/1 [00:00<?, ?it/s]\u001b[A\u001b[A\n",
      "\n",
      "100%|██████████| 1/1 [00:00<00:00,  2.14it/s]\u001b[A\u001b[A\n",
      "\n",
      "  1%|          | 108/10000 [01:22<1:45:49,  1.56it/s]\u001b[A"
     ]
    },
    {
     "name": "stdout",
     "output_type": "stream",
     "text": [
      "\n",
      "Epoch: 108, Loss: 0.4077, Val: 0.5896, Test: 0.5887\n"
     ]
    },
    {
     "name": "stderr",
     "output_type": "stream",
     "text": [
      "\n",
      "\n",
      "  0%|          | 0/1 [00:00<?, ?it/s]\u001b[A\u001b[A\n",
      "\n",
      "100%|██████████| 1/1 [00:00<00:00,  2.81it/s]\u001b[A\u001b[A\n",
      "\n",
      "  1%|          | 109/10000 [01:22<1:35:27,  1.73it/s]\u001b[A"
     ]
    },
    {
     "name": "stdout",
     "output_type": "stream",
     "text": [
      "\n",
      "Epoch: 109, Loss: 0.4060, Val: 0.5902, Test: 0.5891\n"
     ]
    },
    {
     "name": "stderr",
     "output_type": "stream",
     "text": [
      "\n",
      "\n",
      "  0%|          | 0/1 [00:00<?, ?it/s]\u001b[A\u001b[A\n",
      "\n",
      "100%|██████████| 1/1 [00:00<00:00,  2.09it/s]\u001b[A\u001b[A\n",
      "\n",
      "  1%|          | 110/10000 [01:23<1:32:28,  1.78it/s]\u001b[A\n",
      "\n",
      "  0%|          | 0/1 [00:00<?, ?it/s]\u001b[A\u001b[A\n",
      "\n",
      "100%|██████████| 1/1 [00:00<00:00,  2.10it/s]\u001b[A\u001b[A\n",
      "\n",
      "  1%|          | 111/10000 [01:23<1:32:10,  1.79it/s]\u001b[A"
     ]
    },
    {
     "name": "stdout",
     "output_type": "stream",
     "text": [
      "\n",
      "Epoch: 111, Loss: 0.4056, Val: 0.5905, Test: 0.5899\n"
     ]
    },
    {
     "name": "stderr",
     "output_type": "stream",
     "text": [
      "\n",
      "\n",
      "  0%|          | 0/1 [00:00<?, ?it/s]\u001b[A\u001b[A\n",
      "\n",
      "100%|██████████| 1/1 [00:00<00:00,  2.29it/s]\u001b[A\u001b[A\n",
      "\n",
      "  1%|          | 112/10000 [01:24<1:28:17,  1.87it/s]\u001b[A\n",
      "\n",
      "  0%|          | 0/1 [00:00<?, ?it/s]\u001b[A\u001b[A\n",
      "\n",
      "100%|██████████| 1/1 [00:00<00:00,  2.28it/s]\u001b[A\u001b[A\n",
      "\n",
      "  1%|          | 113/10000 [01:24<1:25:19,  1.93it/s]\u001b[A\n",
      "\n",
      "  0%|          | 0/1 [00:00<?, ?it/s]\u001b[A\u001b[A\n",
      "\n",
      "100%|██████████| 1/1 [00:00<00:00,  2.71it/s]\u001b[A\u001b[A\n",
      "\n",
      "  1%|          | 114/10000 [01:25<1:21:03,  2.03it/s]\u001b[A"
     ]
    },
    {
     "name": "stdout",
     "output_type": "stream",
     "text": [
      "\n",
      "Epoch: 114, Loss: 0.4046, Val: 0.5906, Test: 0.5916\n"
     ]
    },
    {
     "name": "stderr",
     "output_type": "stream",
     "text": [
      "\n",
      "\n",
      "  0%|          | 0/1 [00:00<?, ?it/s]\u001b[A\u001b[A\n",
      "\n",
      "100%|██████████| 1/1 [00:00<00:00,  2.49it/s]\u001b[A\u001b[A\n",
      "\n",
      "  1%|          | 115/10000 [01:25<1:18:37,  2.10it/s]\u001b[A\n",
      "\n",
      "  0%|          | 0/1 [00:00<?, ?it/s]\u001b[A\u001b[A\n",
      "\n",
      "100%|██████████| 1/1 [00:00<00:00,  2.58it/s]\u001b[A\u001b[A\n",
      "\n",
      "  1%|          | 116/10000 [01:26<1:15:56,  2.17it/s]\u001b[A\n",
      "\n",
      "  0%|          | 0/1 [00:00<?, ?it/s]\u001b[A\u001b[A\n",
      "\n",
      "100%|██████████| 1/1 [00:00<00:00,  2.63it/s]\u001b[A\u001b[A\n",
      "\n",
      "  1%|          | 117/10000 [01:26<1:16:20,  2.16it/s]\u001b[A"
     ]
    },
    {
     "name": "stdout",
     "output_type": "stream",
     "text": [
      "\n",
      "Epoch: 117, Loss: 0.4031, Val: 0.5909, Test: 0.5943\n"
     ]
    },
    {
     "name": "stderr",
     "output_type": "stream",
     "text": [
      "\n",
      "\n",
      "  0%|          | 0/1 [00:00<?, ?it/s]\u001b[A\u001b[A\n",
      "\n",
      "100%|██████████| 1/1 [00:00<00:00,  1.75it/s]\u001b[A\u001b[A\n",
      "\n",
      "  1%|          | 118/10000 [01:27<1:25:05,  1.94it/s]\u001b[A"
     ]
    },
    {
     "name": "stdout",
     "output_type": "stream",
     "text": [
      "\n",
      "Epoch: 118, Loss: 0.4025, Val: 0.5916, Test: 0.5952\n"
     ]
    },
    {
     "name": "stderr",
     "output_type": "stream",
     "text": [
      "\n",
      "\n",
      "  0%|          | 0/1 [00:00<?, ?it/s]\u001b[A\u001b[A\n",
      "\n",
      "100%|██████████| 1/1 [00:00<00:00,  2.59it/s]\u001b[A\u001b[A\n",
      "\n",
      "  1%|          | 119/10000 [01:27<1:21:44,  2.01it/s]\u001b[A"
     ]
    },
    {
     "name": "stdout",
     "output_type": "stream",
     "text": [
      "\n",
      "Epoch: 119, Loss: 0.4027, Val: 0.5925, Test: 0.5957\n"
     ]
    },
    {
     "name": "stderr",
     "output_type": "stream",
     "text": [
      "\n",
      "\n",
      "  0%|          | 0/1 [00:00<?, ?it/s]\u001b[A\u001b[A\n",
      "\n",
      "100%|██████████| 1/1 [00:00<00:00,  2.90it/s]\u001b[A\u001b[A\n",
      "\n",
      "  1%|          | 120/10000 [01:28<1:17:26,  2.13it/s]\u001b[A"
     ]
    },
    {
     "name": "stdout",
     "output_type": "stream",
     "text": [
      "\n",
      "Epoch: 120, Loss: 0.4023, Val: 0.5931, Test: 0.5955\n"
     ]
    },
    {
     "name": "stderr",
     "output_type": "stream",
     "text": [
      "\n",
      "\n",
      "  0%|          | 0/1 [00:00<?, ?it/s]\u001b[A\u001b[A\n",
      "\n",
      "100%|██████████| 1/1 [00:00<00:00,  2.63it/s]\u001b[A\u001b[A\n",
      "\n",
      "  1%|          | 121/10000 [01:28<1:16:19,  2.16it/s]\u001b[A"
     ]
    },
    {
     "name": "stdout",
     "output_type": "stream",
     "text": [
      "\n",
      "Epoch: 121, Loss: 0.4019, Val: 0.5932, Test: 0.5955\n"
     ]
    },
    {
     "name": "stderr",
     "output_type": "stream",
     "text": [
      "\n",
      "\n",
      "  0%|          | 0/1 [00:00<?, ?it/s]\u001b[A\u001b[A\n",
      "\n",
      "100%|██████████| 1/1 [00:00<00:00,  2.93it/s]\u001b[A\u001b[A\n",
      "\n",
      "  1%|          | 122/10000 [01:29<1:13:36,  2.24it/s]\u001b[A"
     ]
    },
    {
     "name": "stdout",
     "output_type": "stream",
     "text": [
      "\n",
      "Epoch: 122, Loss: 0.4014, Val: 0.5937, Test: 0.5962\n"
     ]
    },
    {
     "name": "stderr",
     "output_type": "stream",
     "text": [
      "\n",
      "\n",
      "  0%|          | 0/1 [00:00<?, ?it/s]\u001b[A\u001b[A\n",
      "\n",
      "100%|██████████| 1/1 [00:00<00:00,  2.15it/s]\u001b[A\u001b[A\n",
      "\n",
      "  1%|          | 123/10000 [01:29<1:18:20,  2.10it/s]\u001b[A"
     ]
    },
    {
     "name": "stdout",
     "output_type": "stream",
     "text": [
      "\n",
      "Epoch: 123, Loss: 0.4014, Val: 0.5945, Test: 0.5974\n"
     ]
    },
    {
     "name": "stderr",
     "output_type": "stream",
     "text": [
      "\n",
      "\n",
      "  0%|          | 0/1 [00:00<?, ?it/s]\u001b[A\u001b[A\n",
      "\n",
      "100%|██████████| 1/1 [00:00<00:00,  2.34it/s]\u001b[A\u001b[A\n",
      "\n",
      "  1%|          | 124/10000 [01:30<1:20:13,  2.05it/s]\u001b[A"
     ]
    },
    {
     "name": "stdout",
     "output_type": "stream",
     "text": [
      "\n",
      "Epoch: 124, Loss: 0.4006, Val: 0.5954, Test: 0.5976\n"
     ]
    },
    {
     "name": "stderr",
     "output_type": "stream",
     "text": [
      "\n",
      "\n",
      "  0%|          | 0/1 [00:00<?, ?it/s]\u001b[A\u001b[A\n",
      "\n",
      "100%|██████████| 1/1 [00:00<00:00,  2.41it/s]\u001b[A\u001b[A\n",
      "\n",
      "  1%|▏         | 125/10000 [01:30<1:20:01,  2.06it/s]\u001b[A"
     ]
    },
    {
     "name": "stdout",
     "output_type": "stream",
     "text": [
      "\n",
      "Epoch: 125, Loss: 0.4002, Val: 0.5963, Test: 0.5975\n"
     ]
    },
    {
     "name": "stderr",
     "output_type": "stream",
     "text": [
      "\n",
      "\n",
      "  0%|          | 0/1 [00:00<?, ?it/s]\u001b[A\u001b[A\n",
      "\n",
      "100%|██████████| 1/1 [00:00<00:00,  2.63it/s]\u001b[A\u001b[A\n",
      "\n",
      "  1%|▏         | 126/10000 [01:31<1:18:44,  2.09it/s]\u001b[A"
     ]
    },
    {
     "name": "stdout",
     "output_type": "stream",
     "text": [
      "\n",
      "Epoch: 126, Loss: 0.4002, Val: 0.5967, Test: 0.5989\n"
     ]
    },
    {
     "name": "stderr",
     "output_type": "stream",
     "text": [
      "\n",
      "\n",
      "  0%|          | 0/1 [00:00<?, ?it/s]\u001b[A\u001b[A\n",
      "\n",
      "100%|██████████| 1/1 [00:00<00:00,  2.03it/s]\u001b[A\u001b[A\n",
      "\n",
      "  1%|▏         | 127/10000 [01:31<1:23:20,  1.97it/s]\u001b[A"
     ]
    },
    {
     "name": "stdout",
     "output_type": "stream",
     "text": [
      "\n",
      "Epoch: 127, Loss: 0.4004, Val: 0.5974, Test: 0.5993\n"
     ]
    },
    {
     "name": "stderr",
     "output_type": "stream",
     "text": [
      "\n",
      "\n",
      "  0%|          | 0/1 [00:00<?, ?it/s]\u001b[A\u001b[A\n",
      "\n",
      "100%|██████████| 1/1 [00:00<00:00,  2.34it/s]\u001b[A\u001b[A\n",
      "\n",
      "  1%|▏         | 128/10000 [01:32<1:22:50,  1.99it/s]\u001b[A"
     ]
    },
    {
     "name": "stdout",
     "output_type": "stream",
     "text": [
      "\n",
      "Epoch: 128, Loss: 0.4005, Val: 0.5981, Test: 0.5994\n"
     ]
    },
    {
     "name": "stderr",
     "output_type": "stream",
     "text": [
      "\n",
      "\n",
      "  0%|          | 0/1 [00:00<?, ?it/s]\u001b[A\u001b[A\n",
      "\n",
      "100%|██████████| 1/1 [00:00<00:00,  2.47it/s]\u001b[A\u001b[A\n",
      "\n",
      "  1%|▏         | 129/10000 [01:32<1:21:17,  2.02it/s]\u001b[A"
     ]
    },
    {
     "name": "stdout",
     "output_type": "stream",
     "text": [
      "\n",
      "Epoch: 129, Loss: 0.3990, Val: 0.5983, Test: 0.6001\n"
     ]
    },
    {
     "name": "stderr",
     "output_type": "stream",
     "text": [
      "\n",
      "\n",
      "  0%|          | 0/1 [00:00<?, ?it/s]\u001b[A\u001b[A\n",
      "\n",
      "100%|██████████| 1/1 [00:00<00:00,  2.43it/s]\u001b[A\u001b[A\n",
      "\n",
      "  1%|▏         | 130/10000 [01:33<1:22:19,  2.00it/s]\u001b[A"
     ]
    },
    {
     "name": "stdout",
     "output_type": "stream",
     "text": [
      "\n",
      "Epoch: 130, Loss: 0.3996, Val: 0.5991, Test: 0.6010\n"
     ]
    },
    {
     "name": "stderr",
     "output_type": "stream",
     "text": [
      "\n",
      "\n",
      "  0%|          | 0/1 [00:00<?, ?it/s]\u001b[A\u001b[A\n",
      "\n",
      "100%|██████████| 1/1 [00:00<00:00,  1.71it/s]\u001b[A\u001b[A\n",
      "\n",
      "  1%|▏         | 131/10000 [01:33<1:30:21,  1.82it/s]\u001b[A"
     ]
    },
    {
     "name": "stdout",
     "output_type": "stream",
     "text": [
      "\n",
      "Epoch: 131, Loss: 0.3981, Val: 0.5997, Test: 0.6006\n"
     ]
    },
    {
     "name": "stderr",
     "output_type": "stream",
     "text": [
      "\n",
      "\n",
      "  0%|          | 0/1 [00:00<?, ?it/s]\u001b[A\u001b[A\n",
      "\n",
      "100%|██████████| 1/1 [00:00<00:00,  1.85it/s]\u001b[A\u001b[A\n",
      "\n",
      "  1%|▏         | 132/10000 [01:34<1:37:47,  1.68it/s]\u001b[A"
     ]
    },
    {
     "name": "stdout",
     "output_type": "stream",
     "text": [
      "\n",
      "Epoch: 132, Loss: 0.3987, Val: 0.6000, Test: 0.6016\n"
     ]
    },
    {
     "name": "stderr",
     "output_type": "stream",
     "text": [
      "\n",
      "\n",
      "  0%|          | 0/1 [00:00<?, ?it/s]\u001b[A\u001b[A\n",
      "\n",
      "100%|██████████| 1/1 [00:00<00:00,  2.42it/s]\u001b[A\u001b[A\n",
      "\n",
      "  1%|▏         | 133/10000 [01:34<1:32:50,  1.77it/s]\u001b[A"
     ]
    },
    {
     "name": "stdout",
     "output_type": "stream",
     "text": [
      "\n",
      "Epoch: 133, Loss: 0.3980, Val: 0.6008, Test: 0.6019\n"
     ]
    },
    {
     "name": "stderr",
     "output_type": "stream",
     "text": [
      "\n",
      "\n",
      "  0%|          | 0/1 [00:00<?, ?it/s]\u001b[A\u001b[A\n",
      "\n",
      "100%|██████████| 1/1 [00:00<00:00,  2.00it/s]\u001b[A\u001b[A\n",
      "\n",
      "  1%|▏         | 134/10000 [01:35<1:32:47,  1.77it/s]\u001b[A\n",
      "\n",
      "  0%|          | 0/1 [00:00<?, ?it/s]\u001b[A\u001b[A\n",
      "\n",
      "100%|██████████| 1/1 [00:00<00:00,  1.89it/s]\u001b[A\u001b[A\n",
      "\n",
      "  1%|▏         | 135/10000 [01:36<1:35:54,  1.71it/s]\u001b[A"
     ]
    },
    {
     "name": "stdout",
     "output_type": "stream",
     "text": [
      "\n",
      "Epoch: 135, Loss: 0.3978, Val: 0.6008, Test: 0.6025\n"
     ]
    },
    {
     "name": "stderr",
     "output_type": "stream",
     "text": [
      "\n",
      "\n",
      "  0%|          | 0/1 [00:00<?, ?it/s]\u001b[A\u001b[A\n",
      "\n",
      "100%|██████████| 1/1 [00:00<00:00,  1.74it/s]\u001b[A\u001b[A\n",
      "\n",
      "  1%|▏         | 136/10000 [01:36<1:41:28,  1.62it/s]\u001b[A"
     ]
    },
    {
     "name": "stdout",
     "output_type": "stream",
     "text": [
      "\n",
      "Epoch: 136, Loss: 0.3973, Val: 0.6015, Test: 0.6035\n"
     ]
    },
    {
     "name": "stderr",
     "output_type": "stream",
     "text": [
      "\n",
      "\n",
      "  0%|          | 0/1 [00:00<?, ?it/s]\u001b[A\u001b[A\n",
      "\n",
      "100%|██████████| 1/1 [00:00<00:00,  2.13it/s]\u001b[A\u001b[A\n",
      "\n",
      "  1%|▏         | 137/10000 [01:37<1:37:53,  1.68it/s]\u001b[A"
     ]
    },
    {
     "name": "stdout",
     "output_type": "stream",
     "text": [
      "\n",
      "Epoch: 137, Loss: 0.3974, Val: 0.6024, Test: 0.6043\n"
     ]
    },
    {
     "name": "stderr",
     "output_type": "stream",
     "text": [
      "\n",
      "\n",
      "  0%|          | 0/1 [00:00<?, ?it/s]\u001b[A\u001b[A\n",
      "\n",
      "100%|██████████| 1/1 [00:00<00:00,  2.02it/s]\u001b[A\u001b[A\n",
      "\n",
      "  1%|▏         | 138/10000 [01:37<1:37:48,  1.68it/s]\u001b[A"
     ]
    },
    {
     "name": "stdout",
     "output_type": "stream",
     "text": [
      "\n",
      "Epoch: 138, Loss: 0.3975, Val: 0.6025, Test: 0.6046\n"
     ]
    },
    {
     "name": "stderr",
     "output_type": "stream",
     "text": [
      "\n",
      "\n",
      "  0%|          | 0/1 [00:00<?, ?it/s]\u001b[A\u001b[A\n",
      "\n",
      "100%|██████████| 1/1 [00:00<00:00,  2.50it/s]\u001b[A\u001b[A\n",
      "\n",
      "  1%|▏         | 139/10000 [01:38<1:32:19,  1.78it/s]\u001b[A"
     ]
    },
    {
     "name": "stdout",
     "output_type": "stream",
     "text": [
      "\n",
      "Epoch: 139, Loss: 0.3973, Val: 0.6028, Test: 0.6052\n"
     ]
    },
    {
     "name": "stderr",
     "output_type": "stream",
     "text": [
      "\n",
      "\n",
      "  0%|          | 0/1 [00:00<?, ?it/s]\u001b[A\u001b[A\n",
      "\n",
      "100%|██████████| 1/1 [00:00<00:00,  1.78it/s]\u001b[A\u001b[A\n",
      "\n",
      "  1%|▏         | 140/10000 [01:39<1:37:06,  1.69it/s]\u001b[A"
     ]
    },
    {
     "name": "stdout",
     "output_type": "stream",
     "text": [
      "\n",
      "Epoch: 140, Loss: 0.3973, Val: 0.6031, Test: 0.6059\n"
     ]
    },
    {
     "name": "stderr",
     "output_type": "stream",
     "text": [
      "\n",
      "\n",
      "  0%|          | 0/1 [00:00<?, ?it/s]\u001b[A\u001b[A\n",
      "\n",
      "100%|██████████| 1/1 [00:00<00:00,  1.79it/s]\u001b[A\u001b[A\n",
      "\n",
      "  1%|▏         | 141/10000 [01:39<1:41:12,  1.62it/s]\u001b[A"
     ]
    },
    {
     "name": "stdout",
     "output_type": "stream",
     "text": [
      "\n",
      "Epoch: 141, Loss: 0.3970, Val: 0.6031, Test: 0.6060\n"
     ]
    },
    {
     "name": "stderr",
     "output_type": "stream",
     "text": [
      "\n",
      "\n",
      "  0%|          | 0/1 [00:00<?, ?it/s]\u001b[A\u001b[A\n",
      "\n",
      "100%|██████████| 1/1 [00:00<00:00,  2.26it/s]\u001b[A\u001b[A\n",
      "\n",
      "  1%|▏         | 142/10000 [01:40<1:36:54,  1.70it/s]\u001b[A"
     ]
    },
    {
     "name": "stdout",
     "output_type": "stream",
     "text": [
      "\n",
      "Epoch: 142, Loss: 0.3966, Val: 0.6037, Test: 0.6058\n"
     ]
    },
    {
     "name": "stderr",
     "output_type": "stream",
     "text": [
      "\n",
      "\n",
      "  0%|          | 0/1 [00:00<?, ?it/s]\u001b[A\u001b[A\n",
      "\n",
      "100%|██████████| 1/1 [00:00<00:00,  1.70it/s]\u001b[A\u001b[A\n",
      "\n",
      "  1%|▏         | 143/10000 [01:40<1:41:33,  1.62it/s]\u001b[A"
     ]
    },
    {
     "name": "stdout",
     "output_type": "stream",
     "text": [
      "\n",
      "Epoch: 143, Loss: 0.3962, Val: 0.6042, Test: 0.6065\n"
     ]
    },
    {
     "name": "stderr",
     "output_type": "stream",
     "text": [
      "\n",
      "\n",
      "  0%|          | 0/1 [00:00<?, ?it/s]\u001b[A\u001b[A\n",
      "\n",
      "100%|██████████| 1/1 [00:00<00:00,  1.84it/s]\u001b[A\u001b[A\n",
      "\n",
      "  1%|▏         | 144/10000 [01:41<1:42:29,  1.60it/s]\u001b[A"
     ]
    },
    {
     "name": "stdout",
     "output_type": "stream",
     "text": [
      "\n",
      "Epoch: 144, Loss: 0.3968, Val: 0.6046, Test: 0.6069\n"
     ]
    },
    {
     "name": "stderr",
     "output_type": "stream",
     "text": [
      "\n",
      "\n",
      "  0%|          | 0/1 [00:00<?, ?it/s]\u001b[A\u001b[A\n",
      "\n",
      "100%|██████████| 1/1 [00:00<00:00,  1.78it/s]\u001b[A\u001b[A\n",
      "\n",
      "  1%|▏         | 145/10000 [01:42<1:42:59,  1.59it/s]\u001b[A"
     ]
    },
    {
     "name": "stdout",
     "output_type": "stream",
     "text": [
      "\n",
      "Epoch: 145, Loss: 0.3957, Val: 0.6048, Test: 0.6069\n"
     ]
    },
    {
     "name": "stderr",
     "output_type": "stream",
     "text": [
      "\n",
      "\n",
      "  0%|          | 0/1 [00:00<?, ?it/s]\u001b[A\u001b[A\n",
      "\n",
      "100%|██████████| 1/1 [00:00<00:00,  1.92it/s]\u001b[A\u001b[A\n",
      "\n",
      "  1%|▏         | 146/10000 [01:42<1:41:53,  1.61it/s]\u001b[A"
     ]
    },
    {
     "name": "stdout",
     "output_type": "stream",
     "text": [
      "\n",
      "Epoch: 146, Loss: 0.3962, Val: 0.6056, Test: 0.6065\n"
     ]
    },
    {
     "name": "stderr",
     "output_type": "stream",
     "text": [
      "\n",
      "\n",
      "  0%|          | 0/1 [00:00<?, ?it/s]\u001b[A\u001b[A\n",
      "\n",
      "100%|██████████| 1/1 [00:00<00:00,  1.97it/s]\u001b[A\u001b[A\n",
      "\n",
      "  1%|▏         | 147/10000 [01:43<1:39:14,  1.65it/s]\u001b[A\n",
      "\n",
      "  0%|          | 0/1 [00:00<?, ?it/s]\u001b[A\u001b[A\n",
      "\n",
      "100%|██████████| 1/1 [00:00<00:00,  2.14it/s]\u001b[A\u001b[A\n",
      "\n",
      "  1%|▏         | 148/10000 [01:43<1:35:54,  1.71it/s]\u001b[A"
     ]
    },
    {
     "name": "stdout",
     "output_type": "stream",
     "text": [
      "\n",
      "Epoch: 148, Loss: 0.3954, Val: 0.6060, Test: 0.6072\n"
     ]
    },
    {
     "name": "stderr",
     "output_type": "stream",
     "text": [
      "\n",
      "\n",
      "  0%|          | 0/1 [00:00<?, ?it/s]\u001b[A\u001b[A\n",
      "\n",
      "100%|██████████| 1/1 [00:00<00:00,  2.28it/s]\u001b[A\u001b[A\n",
      "\n",
      "  1%|▏         | 149/10000 [01:44<1:30:51,  1.81it/s]\u001b[A\n",
      "\n",
      "  0%|          | 0/1 [00:00<?, ?it/s]\u001b[A\u001b[A\n",
      "\n",
      "100%|██████████| 1/1 [00:00<00:00,  2.41it/s]\u001b[A\u001b[A\n",
      "\n",
      "  2%|▏         | 150/10000 [01:44<1:26:00,  1.91it/s]\u001b[A\n",
      "\n",
      "  0%|          | 0/1 [00:00<?, ?it/s]\u001b[A\u001b[A\n",
      "\n",
      "100%|██████████| 1/1 [00:00<00:00,  1.95it/s]\u001b[A\u001b[A\n",
      "\n",
      "  2%|▏         | 151/10000 [01:45<1:27:40,  1.87it/s]\u001b[A\n",
      "\n",
      "  0%|          | 0/1 [00:00<?, ?it/s]\u001b[A\u001b[A\n",
      "\n",
      "100%|██████████| 1/1 [00:00<00:00,  1.91it/s]\u001b[A\u001b[A\n",
      "\n",
      "  2%|▏         | 152/10000 [01:46<1:29:10,  1.84it/s]\u001b[A\n",
      "\n",
      "  0%|          | 0/1 [00:00<?, ?it/s]\u001b[A\u001b[A\n",
      "\n",
      "100%|██████████| 1/1 [00:00<00:00,  2.15it/s]\u001b[A\u001b[A\n",
      "\n",
      "  2%|▏         | 153/10000 [01:46<1:27:30,  1.88it/s]\u001b[A\n",
      "\n",
      "  0%|          | 0/1 [00:00<?, ?it/s]\u001b[A\u001b[A\n",
      "\n",
      "100%|██████████| 1/1 [00:00<00:00,  2.24it/s]\u001b[A\u001b[A\n",
      "\n",
      "  2%|▏         | 154/10000 [01:47<1:27:52,  1.87it/s]\u001b[A"
     ]
    },
    {
     "name": "stdout",
     "output_type": "stream",
     "text": [
      "\n",
      "Epoch: 154, Loss: 0.3954, Val: 0.6063, Test: 0.6095\n"
     ]
    },
    {
     "name": "stderr",
     "output_type": "stream",
     "text": [
      "\n",
      "\n",
      "  0%|          | 0/1 [00:00<?, ?it/s]\u001b[A\u001b[A\n",
      "\n",
      "100%|██████████| 1/1 [00:00<00:00,  1.94it/s]\u001b[A\u001b[A\n",
      "\n",
      "  2%|▏         | 155/10000 [01:47<1:31:28,  1.79it/s]\u001b[A"
     ]
    },
    {
     "name": "stdout",
     "output_type": "stream",
     "text": [
      "\n",
      "Epoch: 155, Loss: 0.3949, Val: 0.6071, Test: 0.6105\n"
     ]
    },
    {
     "name": "stderr",
     "output_type": "stream",
     "text": [
      "\n",
      "\n",
      "  0%|          | 0/1 [00:00<?, ?it/s]\u001b[A\u001b[A\n",
      "\n",
      "100%|██████████| 1/1 [00:00<00:00,  1.64it/s]\u001b[A\u001b[A\n",
      "\n",
      "  2%|▏         | 156/10000 [01:48<1:39:07,  1.66it/s]\u001b[A"
     ]
    },
    {
     "name": "stdout",
     "output_type": "stream",
     "text": [
      "\n",
      "Epoch: 156, Loss: 0.3945, Val: 0.6077, Test: 0.6114\n"
     ]
    },
    {
     "name": "stderr",
     "output_type": "stream",
     "text": [
      "\n",
      "\n",
      "  0%|          | 0/1 [00:00<?, ?it/s]\u001b[A\u001b[A\n",
      "\n",
      "100%|██████████| 1/1 [00:00<00:00,  2.08it/s]\u001b[A\u001b[A\n",
      "\n",
      "  2%|▏         | 157/10000 [01:48<1:36:16,  1.70it/s]\u001b[A"
     ]
    },
    {
     "name": "stdout",
     "output_type": "stream",
     "text": [
      "\n",
      "Epoch: 157, Loss: 0.3946, Val: 0.6081, Test: 0.6123\n"
     ]
    },
    {
     "name": "stderr",
     "output_type": "stream",
     "text": [
      "\n",
      "\n",
      "  0%|          | 0/1 [00:00<?, ?it/s]\u001b[A\u001b[A\n",
      "\n",
      "100%|██████████| 1/1 [00:00<00:00,  2.09it/s]\u001b[A\u001b[A\n",
      "\n",
      "  2%|▏         | 158/10000 [01:49<1:32:49,  1.77it/s]\u001b[A\n",
      "\n",
      "  0%|          | 0/1 [00:00<?, ?it/s]\u001b[A\u001b[A\n",
      "\n",
      "100%|██████████| 1/1 [00:00<00:00,  1.98it/s]\u001b[A\u001b[A\n",
      "\n",
      "  2%|▏         | 159/10000 [01:50<1:34:16,  1.74it/s]\u001b[A"
     ]
    },
    {
     "name": "stdout",
     "output_type": "stream",
     "text": [
      "\n",
      "Epoch: 159, Loss: 0.3943, Val: 0.6086, Test: 0.6134\n"
     ]
    },
    {
     "name": "stderr",
     "output_type": "stream",
     "text": [
      "\n",
      "\n",
      "  0%|          | 0/1 [00:00<?, ?it/s]\u001b[A\u001b[A\n",
      "\n",
      "100%|██████████| 1/1 [00:00<00:00,  2.53it/s]\u001b[A\u001b[A\n",
      "\n",
      "  2%|▏         | 160/10000 [01:50<1:29:01,  1.84it/s]\u001b[A"
     ]
    },
    {
     "name": "stdout",
     "output_type": "stream",
     "text": [
      "\n",
      "Epoch: 160, Loss: 0.3940, Val: 0.6089, Test: 0.6132\n"
     ]
    },
    {
     "name": "stderr",
     "output_type": "stream",
     "text": [
      "\n",
      "\n",
      "  0%|          | 0/1 [00:00<?, ?it/s]\u001b[A\u001b[A\n",
      "\n",
      "100%|██████████| 1/1 [00:00<00:00,  2.37it/s]\u001b[A\u001b[A\n",
      "\n",
      "  2%|▏         | 161/10000 [01:51<1:27:04,  1.88it/s]\u001b[A"
     ]
    },
    {
     "name": "stdout",
     "output_type": "stream",
     "text": [
      "\n",
      "Epoch: 161, Loss: 0.3941, Val: 0.6095, Test: 0.6135\n"
     ]
    },
    {
     "name": "stderr",
     "output_type": "stream",
     "text": [
      "\n",
      "\n",
      "  0%|          | 0/1 [00:00<?, ?it/s]\u001b[A\u001b[A\n",
      "\n",
      "100%|██████████| 1/1 [00:00<00:00,  2.46it/s]\u001b[A\u001b[A\n",
      "\n",
      "  2%|▏         | 162/10000 [01:51<1:26:14,  1.90it/s]\u001b[A"
     ]
    },
    {
     "name": "stdout",
     "output_type": "stream",
     "text": [
      "\n",
      "Epoch: 162, Loss: 0.3942, Val: 0.6109, Test: 0.6133\n"
     ]
    },
    {
     "name": "stderr",
     "output_type": "stream",
     "text": [
      "\n",
      "\n",
      "  0%|          | 0/1 [00:00<?, ?it/s]\u001b[A\u001b[A\n",
      "\n",
      "100%|██████████| 1/1 [00:00<00:00,  2.39it/s]\u001b[A\u001b[A\n",
      "\n",
      "  2%|▏         | 163/10000 [01:52<1:25:20,  1.92it/s]\u001b[A"
     ]
    },
    {
     "name": "stdout",
     "output_type": "stream",
     "text": [
      "\n",
      "Epoch: 163, Loss: 0.3935, Val: 0.6109, Test: 0.6136\n"
     ]
    },
    {
     "name": "stderr",
     "output_type": "stream",
     "text": [
      "\n",
      "\n",
      "  0%|          | 0/1 [00:00<?, ?it/s]\u001b[A\u001b[A\n",
      "\n",
      "100%|██████████| 1/1 [00:00<00:00,  2.29it/s]\u001b[A\u001b[A\n",
      "\n",
      "  2%|▏         | 164/10000 [01:52<1:25:09,  1.93it/s]\u001b[A"
     ]
    },
    {
     "name": "stdout",
     "output_type": "stream",
     "text": [
      "\n",
      "Epoch: 164, Loss: 0.3937, Val: 0.6116, Test: 0.6139\n"
     ]
    },
    {
     "name": "stderr",
     "output_type": "stream",
     "text": [
      "\n",
      "\n",
      "  0%|          | 0/1 [00:00<?, ?it/s]\u001b[A\u001b[A\n",
      "\n",
      "100%|██████████| 1/1 [00:00<00:00,  1.94it/s]\u001b[A\u001b[A\n",
      "\n",
      "  2%|▏         | 165/10000 [01:53<1:28:48,  1.85it/s]\u001b[A"
     ]
    },
    {
     "name": "stdout",
     "output_type": "stream",
     "text": [
      "\n",
      "Epoch: 165, Loss: 0.3938, Val: 0.6119, Test: 0.6143\n"
     ]
    },
    {
     "name": "stderr",
     "output_type": "stream",
     "text": [
      "\n",
      "\n",
      "  0%|          | 0/1 [00:00<?, ?it/s]\u001b[A\u001b[A\n",
      "\n",
      "100%|██████████| 1/1 [00:00<00:00,  2.01it/s]\u001b[A\u001b[A\n",
      "\n",
      "  2%|▏         | 166/10000 [01:53<1:31:10,  1.80it/s]\u001b[A"
     ]
    },
    {
     "name": "stdout",
     "output_type": "stream",
     "text": [
      "\n",
      "Epoch: 166, Loss: 0.3937, Val: 0.6126, Test: 0.6149\n"
     ]
    },
    {
     "name": "stderr",
     "output_type": "stream",
     "text": [
      "\n",
      "\n",
      "  0%|          | 0/1 [00:00<?, ?it/s]\u001b[A\u001b[A\n",
      "\n",
      "100%|██████████| 1/1 [00:00<00:00,  2.12it/s]\u001b[A\u001b[A\n",
      "\n",
      "  2%|▏         | 167/10000 [01:54<1:30:51,  1.80it/s]\u001b[A"
     ]
    },
    {
     "name": "stdout",
     "output_type": "stream",
     "text": [
      "\n",
      "Epoch: 167, Loss: 0.3936, Val: 0.6134, Test: 0.6151\n"
     ]
    },
    {
     "name": "stderr",
     "output_type": "stream",
     "text": [
      "\n",
      "\n",
      "  0%|          | 0/1 [00:00<?, ?it/s]\u001b[A\u001b[A\n",
      "\n",
      "100%|██████████| 1/1 [00:00<00:00,  2.08it/s]\u001b[A\u001b[A\n",
      "\n",
      "  2%|▏         | 168/10000 [01:54<1:31:53,  1.78it/s]\u001b[A"
     ]
    },
    {
     "name": "stdout",
     "output_type": "stream",
     "text": [
      "\n",
      "Epoch: 168, Loss: 0.3929, Val: 0.6144, Test: 0.6153\n"
     ]
    },
    {
     "name": "stderr",
     "output_type": "stream",
     "text": [
      "\n",
      "\n",
      "  0%|          | 0/1 [00:00<?, ?it/s]\u001b[A\u001b[A\n",
      "\n",
      "100%|██████████| 1/1 [00:00<00:00,  2.04it/s]\u001b[A\u001b[A\n",
      "\n",
      "  2%|▏         | 169/10000 [01:55<1:32:11,  1.78it/s]\u001b[A"
     ]
    },
    {
     "name": "stdout",
     "output_type": "stream",
     "text": [
      "\n",
      "Epoch: 169, Loss: 0.3933, Val: 0.6147, Test: 0.6164\n"
     ]
    },
    {
     "name": "stderr",
     "output_type": "stream",
     "text": [
      "\n",
      "\n",
      "  0%|          | 0/1 [00:00<?, ?it/s]\u001b[A\u001b[A\n",
      "\n",
      "100%|██████████| 1/1 [00:00<00:00,  1.94it/s]\u001b[A\u001b[A\n",
      "\n",
      "  2%|▏         | 170/10000 [01:56<1:32:30,  1.77it/s]\u001b[A\n",
      "\n",
      "  0%|          | 0/1 [00:00<?, ?it/s]\u001b[A\u001b[A\n",
      "\n",
      "100%|██████████| 1/1 [00:00<00:00,  1.98it/s]\u001b[A\u001b[A\n",
      "\n",
      "  2%|▏         | 171/10000 [01:56<1:33:37,  1.75it/s]\u001b[A"
     ]
    },
    {
     "name": "stdout",
     "output_type": "stream",
     "text": [
      "\n",
      "Epoch: 171, Loss: 0.3929, Val: 0.6149, Test: 0.6181\n"
     ]
    },
    {
     "name": "stderr",
     "output_type": "stream",
     "text": [
      "\n",
      "\n",
      "  0%|          | 0/1 [00:00<?, ?it/s]\u001b[A\u001b[A\n",
      "\n",
      "100%|██████████| 1/1 [00:00<00:00,  1.84it/s]\u001b[A\u001b[A\n",
      "\n",
      "  2%|▏         | 172/10000 [01:57<1:34:11,  1.74it/s]\u001b[A\n",
      "\n",
      "  0%|          | 0/1 [00:00<?, ?it/s]\u001b[A\u001b[A\n",
      "\n",
      "100%|██████████| 1/1 [00:00<00:00,  1.89it/s]\u001b[A\u001b[A\n",
      "\n",
      "  2%|▏         | 173/10000 [01:57<1:36:54,  1.69it/s]\u001b[A"
     ]
    },
    {
     "name": "stdout",
     "output_type": "stream",
     "text": [
      "\n",
      "Epoch: 173, Loss: 0.3929, Val: 0.6153, Test: 0.6188\n"
     ]
    },
    {
     "name": "stderr",
     "output_type": "stream",
     "text": [
      "\n",
      "\n",
      "  0%|          | 0/1 [00:00<?, ?it/s]\u001b[A\u001b[A\n",
      "\n",
      "100%|██████████| 1/1 [00:00<00:00,  1.99it/s]\u001b[A\u001b[A\n",
      "\n",
      "  2%|▏         | 174/10000 [01:58<1:36:29,  1.70it/s]\u001b[A"
     ]
    },
    {
     "name": "stdout",
     "output_type": "stream",
     "text": [
      "\n",
      "Epoch: 174, Loss: 0.3929, Val: 0.6158, Test: 0.6193\n"
     ]
    },
    {
     "name": "stderr",
     "output_type": "stream",
     "text": [
      "\n",
      "\n",
      "  0%|          | 0/1 [00:00<?, ?it/s]\u001b[A\u001b[A\n",
      "\n",
      "100%|██████████| 1/1 [00:00<00:00,  2.03it/s]\u001b[A\u001b[A\n",
      "\n",
      "  2%|▏         | 175/10000 [01:58<1:35:59,  1.71it/s]\u001b[A"
     ]
    },
    {
     "name": "stdout",
     "output_type": "stream",
     "text": [
      "\n",
      "Epoch: 175, Loss: 0.3929, Val: 0.6160, Test: 0.6198\n"
     ]
    },
    {
     "name": "stderr",
     "output_type": "stream",
     "text": [
      "\n",
      "\n",
      "  0%|          | 0/1 [00:00<?, ?it/s]\u001b[A\u001b[A\n",
      "\n",
      "100%|██████████| 1/1 [00:00<00:00,  2.05it/s]\u001b[A\u001b[A\n",
      "\n",
      "  2%|▏         | 176/10000 [01:59<1:34:51,  1.73it/s]\u001b[A"
     ]
    },
    {
     "name": "stdout",
     "output_type": "stream",
     "text": [
      "\n",
      "Epoch: 176, Loss: 0.3929, Val: 0.6166, Test: 0.6197\n"
     ]
    },
    {
     "name": "stderr",
     "output_type": "stream",
     "text": [
      "\n",
      "\n",
      "  0%|          | 0/1 [00:00<?, ?it/s]\u001b[A\u001b[A\n",
      "\n",
      "100%|██████████| 1/1 [00:00<00:00,  2.04it/s]\u001b[A\u001b[A\n",
      "\n",
      "  2%|▏         | 177/10000 [02:00<1:34:25,  1.73it/s]\u001b[A"
     ]
    },
    {
     "name": "stdout",
     "output_type": "stream",
     "text": [
      "\n",
      "Epoch: 177, Loss: 0.3929, Val: 0.6168, Test: 0.6205\n"
     ]
    },
    {
     "name": "stderr",
     "output_type": "stream",
     "text": [
      "\n",
      "\n",
      "  0%|          | 0/1 [00:00<?, ?it/s]\u001b[A\u001b[A\n",
      "\n",
      "100%|██████████| 1/1 [00:00<00:00,  1.98it/s]\u001b[A\u001b[A\n",
      "\n",
      "  2%|▏         | 178/10000 [02:00<1:35:01,  1.72it/s]\u001b[A"
     ]
    },
    {
     "name": "stdout",
     "output_type": "stream",
     "text": [
      "\n",
      "Epoch: 178, Loss: 0.3925, Val: 0.6175, Test: 0.6213\n"
     ]
    },
    {
     "name": "stderr",
     "output_type": "stream",
     "text": [
      "\n",
      "\n",
      "  0%|          | 0/1 [00:00<?, ?it/s]\u001b[A\u001b[A\n",
      "\n",
      "100%|██████████| 1/1 [00:00<00:00,  1.96it/s]\u001b[A\u001b[A\n",
      "\n",
      "  2%|▏         | 179/10000 [02:01<1:34:59,  1.72it/s]\u001b[A"
     ]
    },
    {
     "name": "stdout",
     "output_type": "stream",
     "text": [
      "\n",
      "Epoch: 179, Loss: 0.3926, Val: 0.6183, Test: 0.6219\n"
     ]
    },
    {
     "name": "stderr",
     "output_type": "stream",
     "text": [
      "\n",
      "\n",
      "  0%|          | 0/1 [00:00<?, ?it/s]\u001b[A\u001b[A\n",
      "\n",
      "100%|██████████| 1/1 [00:00<00:00,  1.93it/s]\u001b[A\u001b[A\n",
      "\n",
      "  2%|▏         | 180/10000 [02:01<1:33:41,  1.75it/s]\u001b[A\n",
      "\n",
      "  0%|          | 0/1 [00:00<?, ?it/s]\u001b[A\u001b[A\n",
      "\n",
      "100%|██████████| 1/1 [00:00<00:00,  1.95it/s]\u001b[A\u001b[A\n",
      "\n",
      "  2%|▏         | 181/10000 [02:02<1:33:13,  1.76it/s]\u001b[A\n",
      "\n",
      "  0%|          | 0/1 [00:00<?, ?it/s]\u001b[A\u001b[A\n",
      "\n",
      "100%|██████████| 1/1 [00:00<00:00,  1.90it/s]\u001b[A\u001b[A\n",
      "\n",
      "  2%|▏         | 182/10000 [02:03<1:34:56,  1.72it/s]\u001b[A"
     ]
    },
    {
     "name": "stdout",
     "output_type": "stream",
     "text": [
      "\n",
      "Epoch: 182, Loss: 0.3920, Val: 0.6189, Test: 0.6239\n"
     ]
    },
    {
     "name": "stderr",
     "output_type": "stream",
     "text": [
      "\n",
      "\n",
      "  0%|          | 0/1 [00:00<?, ?it/s]\u001b[A\u001b[A\n",
      "\n",
      "100%|██████████| 1/1 [00:00<00:00,  1.99it/s]\u001b[A\u001b[A\n",
      "\n",
      "  2%|▏         | 183/10000 [02:03<1:34:55,  1.72it/s]\u001b[A"
     ]
    },
    {
     "name": "stdout",
     "output_type": "stream",
     "text": [
      "\n",
      "Epoch: 183, Loss: 0.3921, Val: 0.6190, Test: 0.6233\n"
     ]
    },
    {
     "name": "stderr",
     "output_type": "stream",
     "text": [
      "\n",
      "\n",
      "  0%|          | 0/1 [00:00<?, ?it/s]\u001b[A\u001b[A\n",
      "\n",
      "100%|██████████| 1/1 [00:00<00:00,  1.90it/s]\u001b[A\u001b[A\n",
      "\n",
      "  2%|▏         | 184/10000 [02:04<1:36:29,  1.70it/s]\u001b[A"
     ]
    },
    {
     "name": "stdout",
     "output_type": "stream",
     "text": [
      "\n",
      "Epoch: 184, Loss: 0.3918, Val: 0.6201, Test: 0.6235\n"
     ]
    },
    {
     "name": "stderr",
     "output_type": "stream",
     "text": [
      "\n",
      "\n",
      "  0%|          | 0/1 [00:00<?, ?it/s]\u001b[A\u001b[A\n",
      "\n",
      "100%|██████████| 1/1 [00:00<00:00,  1.83it/s]\u001b[A\u001b[A\n",
      "\n",
      "  2%|▏         | 185/10000 [02:04<1:38:36,  1.66it/s]\u001b[A"
     ]
    },
    {
     "name": "stdout",
     "output_type": "stream",
     "text": [
      "\n",
      "Epoch: 185, Loss: 0.3919, Val: 0.6205, Test: 0.6241\n"
     ]
    },
    {
     "name": "stderr",
     "output_type": "stream",
     "text": [
      "\n",
      "\n",
      "  0%|          | 0/1 [00:00<?, ?it/s]\u001b[A\u001b[A\n",
      "\n",
      "100%|██████████| 1/1 [00:00<00:00,  1.92it/s]\u001b[A\u001b[A\n",
      "\n",
      "  2%|▏         | 186/10000 [02:05<1:39:14,  1.65it/s]\u001b[A"
     ]
    },
    {
     "name": "stdout",
     "output_type": "stream",
     "text": [
      "\n",
      "Epoch: 186, Loss: 0.3925, Val: 0.6208, Test: 0.6251\n"
     ]
    },
    {
     "name": "stderr",
     "output_type": "stream",
     "text": [
      "\n",
      "\n",
      "  0%|          | 0/1 [00:00<?, ?it/s]\u001b[A\u001b[A\n",
      "\n",
      "100%|██████████| 1/1 [00:00<00:00,  1.72it/s]\u001b[A\u001b[A\n",
      "\n",
      "  2%|▏         | 187/10000 [02:06<1:40:23,  1.63it/s]\u001b[A\n",
      "\n",
      "  0%|          | 0/1 [00:00<?, ?it/s]\u001b[A\u001b[A\n",
      "\n",
      "100%|██████████| 1/1 [00:00<00:00,  2.18it/s]\u001b[A\u001b[A\n",
      "\n",
      "  2%|▏         | 188/10000 [02:06<1:35:32,  1.71it/s]\u001b[A\n",
      "\n",
      "  0%|          | 0/1 [00:00<?, ?it/s]\u001b[A\u001b[A\n",
      "\n",
      "100%|██████████| 1/1 [00:00<00:00,  1.90it/s]\u001b[A\u001b[A\n",
      "\n",
      "  2%|▏         | 189/10000 [02:07<1:37:11,  1.68it/s]\u001b[A"
     ]
    },
    {
     "name": "stdout",
     "output_type": "stream",
     "text": [
      "\n",
      "Epoch: 189, Loss: 0.3918, Val: 0.6210, Test: 0.6268\n"
     ]
    },
    {
     "name": "stderr",
     "output_type": "stream",
     "text": [
      "\n",
      "\n",
      "  0%|          | 0/1 [00:00<?, ?it/s]\u001b[A\u001b[A\n",
      "\n",
      "100%|██████████| 1/1 [00:00<00:00,  1.91it/s]\u001b[A\u001b[A\n",
      "\n",
      "  2%|▏         | 190/10000 [02:07<1:37:35,  1.68it/s]\u001b[A"
     ]
    },
    {
     "name": "stdout",
     "output_type": "stream",
     "text": [
      "\n",
      "Epoch: 190, Loss: 0.3916, Val: 0.6211, Test: 0.6272\n"
     ]
    },
    {
     "name": "stderr",
     "output_type": "stream",
     "text": [
      "\n",
      "\n",
      "  0%|          | 0/1 [00:00<?, ?it/s]\u001b[A\u001b[A\n",
      "\n",
      "100%|██████████| 1/1 [00:00<00:00,  1.99it/s]\u001b[A\u001b[A\n",
      "\n",
      "  2%|▏         | 191/10000 [02:08<1:39:48,  1.64it/s]\u001b[A\n",
      "\n",
      "  0%|          | 0/1 [00:00<?, ?it/s]\u001b[A\u001b[A\n",
      "\n",
      "100%|██████████| 1/1 [00:00<00:00,  2.04it/s]\u001b[A\u001b[A\n",
      "\n",
      "  2%|▏         | 192/10000 [02:09<1:37:36,  1.67it/s]\u001b[A"
     ]
    },
    {
     "name": "stdout",
     "output_type": "stream",
     "text": [
      "\n",
      "Epoch: 192, Loss: 0.3912, Val: 0.6222, Test: 0.6277\n"
     ]
    },
    {
     "name": "stderr",
     "output_type": "stream",
     "text": [
      "\n",
      "\n",
      "  0%|          | 0/1 [00:00<?, ?it/s]\u001b[A\u001b[A\n",
      "\n",
      "100%|██████████| 1/1 [00:00<00:00,  2.00it/s]\u001b[A\u001b[A\n",
      "\n",
      "  2%|▏         | 193/10000 [02:09<1:39:53,  1.64it/s]\u001b[A"
     ]
    },
    {
     "name": "stdout",
     "output_type": "stream",
     "text": [
      "\n",
      "Epoch: 193, Loss: 0.3917, Val: 0.6223, Test: 0.6290\n"
     ]
    },
    {
     "name": "stderr",
     "output_type": "stream",
     "text": [
      "\n",
      "\n",
      "  0%|          | 0/1 [00:00<?, ?it/s]\u001b[A\u001b[A\n",
      "\n",
      "100%|██████████| 1/1 [00:00<00:00,  1.73it/s]\u001b[A\u001b[A\n",
      "\n",
      "  2%|▏         | 194/10000 [02:10<1:42:08,  1.60it/s]\u001b[A"
     ]
    },
    {
     "name": "stdout",
     "output_type": "stream",
     "text": [
      "\n",
      "Epoch: 194, Loss: 0.3914, Val: 0.6229, Test: 0.6287\n"
     ]
    },
    {
     "name": "stderr",
     "output_type": "stream",
     "text": [
      "\n",
      "\n",
      "  0%|          | 0/1 [00:00<?, ?it/s]\u001b[A\u001b[A\n",
      "\n",
      "100%|██████████| 1/1 [00:00<00:00,  1.98it/s]\u001b[A\u001b[A\n",
      "\n",
      "  2%|▏         | 195/10000 [02:10<1:40:51,  1.62it/s]\u001b[A"
     ]
    },
    {
     "name": "stdout",
     "output_type": "stream",
     "text": [
      "\n",
      "Epoch: 195, Loss: 0.3918, Val: 0.6234, Test: 0.6291\n"
     ]
    },
    {
     "name": "stderr",
     "output_type": "stream",
     "text": [
      "\n",
      "\n",
      "  0%|          | 0/1 [00:00<?, ?it/s]\u001b[A\u001b[A\n",
      "\n",
      "100%|██████████| 1/1 [00:00<00:00,  2.10it/s]\u001b[A\u001b[A\n",
      "\n",
      "  2%|▏         | 196/10000 [02:11<1:38:41,  1.66it/s]\u001b[A"
     ]
    },
    {
     "name": "stdout",
     "output_type": "stream",
     "text": [
      "\n",
      "Epoch: 196, Loss: 0.3917, Val: 0.6235, Test: 0.6292\n"
     ]
    },
    {
     "name": "stderr",
     "output_type": "stream",
     "text": [
      "\n",
      "\n",
      "  0%|          | 0/1 [00:00<?, ?it/s]\u001b[A\u001b[A\n",
      "\n",
      "100%|██████████| 1/1 [00:00<00:00,  2.07it/s]\u001b[A\u001b[A\n",
      "\n",
      "  2%|▏         | 197/10000 [02:12<1:37:15,  1.68it/s]\u001b[A"
     ]
    },
    {
     "name": "stdout",
     "output_type": "stream",
     "text": [
      "\n",
      "Epoch: 197, Loss: 0.3915, Val: 0.6237, Test: 0.6304\n"
     ]
    },
    {
     "name": "stderr",
     "output_type": "stream",
     "text": [
      "\n",
      "\n",
      "  0%|          | 0/1 [00:00<?, ?it/s]\u001b[A\u001b[A\n",
      "\n",
      "100%|██████████| 1/1 [00:00<00:00,  1.87it/s]\u001b[A\u001b[A\n",
      "\n",
      "  2%|▏         | 198/10000 [02:12<1:39:15,  1.65it/s]\u001b[A"
     ]
    },
    {
     "name": "stdout",
     "output_type": "stream",
     "text": [
      "\n",
      "Epoch: 198, Loss: 0.3911, Val: 0.6247, Test: 0.6304\n"
     ]
    },
    {
     "name": "stderr",
     "output_type": "stream",
     "text": [
      "\n",
      "\n",
      "  0%|          | 0/1 [00:00<?, ?it/s]\u001b[A\u001b[A\n",
      "\n",
      "100%|██████████| 1/1 [00:00<00:00,  1.87it/s]\u001b[A\u001b[A\n",
      "\n",
      "  2%|▏         | 199/10000 [02:13<1:38:17,  1.66it/s]\u001b[A\n",
      "\n",
      "  0%|          | 0/1 [00:00<?, ?it/s]\u001b[A\u001b[A\n",
      "\n",
      "100%|██████████| 1/1 [00:00<00:00,  2.19it/s]\u001b[A\u001b[A\n",
      "\n",
      "  2%|▏         | 200/10000 [02:13<1:33:12,  1.75it/s]\u001b[A\n",
      "\n",
      "  0%|          | 0/1 [00:00<?, ?it/s]\u001b[A\u001b[A\n",
      "\n",
      "100%|██████████| 1/1 [00:00<00:00,  2.18it/s]\u001b[A\u001b[A\n",
      "\n",
      "  2%|▏         | 201/10000 [02:14<1:29:50,  1.82it/s]\u001b[A\n",
      "\n",
      "  0%|          | 0/1 [00:00<?, ?it/s]\u001b[A\u001b[A\n",
      "\n",
      "100%|██████████| 1/1 [00:00<00:00,  2.32it/s]\u001b[A\u001b[A\n",
      "\n",
      "  2%|▏         | 202/10000 [02:14<1:25:54,  1.90it/s]\u001b[A\n",
      "\n",
      "  0%|          | 0/1 [00:00<?, ?it/s]\u001b[A\u001b[A\n",
      "\n",
      "100%|██████████| 1/1 [00:00<00:00,  2.35it/s]\u001b[A\u001b[A\n",
      "\n",
      "  2%|▏         | 203/10000 [02:15<1:25:19,  1.91it/s]\u001b[A"
     ]
    },
    {
     "name": "stdout",
     "output_type": "stream",
     "text": [
      "\n",
      "Epoch: 203, Loss: 0.3910, Val: 0.6256, Test: 0.6317\n"
     ]
    },
    {
     "name": "stderr",
     "output_type": "stream",
     "text": [
      "\n",
      "\n",
      "  0%|          | 0/1 [00:00<?, ?it/s]\u001b[A\u001b[A\n",
      "\n",
      "100%|██████████| 1/1 [00:00<00:00,  2.47it/s]\u001b[A\u001b[A\n",
      "\n",
      "  2%|▏         | 204/10000 [02:15<1:23:47,  1.95it/s]\u001b[A"
     ]
    },
    {
     "name": "stdout",
     "output_type": "stream",
     "text": [
      "\n",
      "Epoch: 204, Loss: 0.3912, Val: 0.6265, Test: 0.6317\n"
     ]
    },
    {
     "name": "stderr",
     "output_type": "stream",
     "text": [
      "\n",
      "\n",
      "  0%|          | 0/1 [00:00<?, ?it/s]\u001b[A\u001b[A\n",
      "\n",
      "100%|██████████| 1/1 [00:00<00:00,  2.08it/s]\u001b[A\u001b[A\n",
      "\n",
      "  2%|▏         | 205/10000 [02:16<1:26:40,  1.88it/s]\u001b[A"
     ]
    },
    {
     "name": "stdout",
     "output_type": "stream",
     "text": [
      "\n",
      "Epoch: 205, Loss: 0.3915, Val: 0.6280, Test: 0.6319\n"
     ]
    },
    {
     "name": "stderr",
     "output_type": "stream",
     "text": [
      "\n",
      "\n",
      "  0%|          | 0/1 [00:00<?, ?it/s]\u001b[A\u001b[A\n",
      "\n",
      "100%|██████████| 1/1 [00:00<00:00,  2.11it/s]\u001b[A\u001b[A\n",
      "\n",
      "  2%|▏         | 206/10000 [02:16<1:28:37,  1.84it/s]\u001b[A"
     ]
    },
    {
     "name": "stdout",
     "output_type": "stream",
     "text": [
      "\n",
      "Epoch: 206, Loss: 0.3912, Val: 0.6287, Test: 0.6331\n"
     ]
    },
    {
     "name": "stderr",
     "output_type": "stream",
     "text": [
      "\n",
      "\n",
      "  0%|          | 0/1 [00:00<?, ?it/s]\u001b[A\u001b[A\n",
      "\n",
      "100%|██████████| 1/1 [00:00<00:00,  2.08it/s]\u001b[A\u001b[A\n",
      "\n",
      "  2%|▏         | 207/10000 [02:17<1:30:56,  1.79it/s]\u001b[A"
     ]
    },
    {
     "name": "stdout",
     "output_type": "stream",
     "text": [
      "\n",
      "Epoch: 207, Loss: 0.3911, Val: 0.6298, Test: 0.6335\n"
     ]
    },
    {
     "name": "stderr",
     "output_type": "stream",
     "text": [
      "\n",
      "\n",
      "  0%|          | 0/1 [00:00<?, ?it/s]\u001b[A\u001b[A\n",
      "\n",
      "100%|██████████| 1/1 [00:00<00:00,  1.92it/s]\u001b[A\u001b[A\n",
      "\n",
      "  2%|▏         | 208/10000 [02:18<1:32:37,  1.76it/s]\u001b[A\n",
      "\n",
      "  0%|          | 0/1 [00:00<?, ?it/s]\u001b[A\u001b[A\n",
      "\n",
      "100%|██████████| 1/1 [00:00<00:00,  1.87it/s]\u001b[A\u001b[A\n",
      "\n",
      "  2%|▏         | 209/10000 [02:18<1:33:53,  1.74it/s]\u001b[A\n",
      "\n",
      "  0%|          | 0/1 [00:00<?, ?it/s]\u001b[A\u001b[A\n",
      "\n",
      "100%|██████████| 1/1 [00:00<00:00,  2.19it/s]\u001b[A\u001b[A\n",
      "\n",
      "  2%|▏         | 210/10000 [02:19<1:33:06,  1.75it/s]\u001b[A"
     ]
    },
    {
     "name": "stdout",
     "output_type": "stream",
     "text": [
      "\n",
      "Epoch: 210, Loss: 0.3912, Val: 0.6300, Test: 0.6349\n"
     ]
    },
    {
     "name": "stderr",
     "output_type": "stream",
     "text": [
      "\n",
      "\n",
      "  0%|          | 0/1 [00:00<?, ?it/s]\u001b[A\u001b[A\n",
      "\n",
      "100%|██████████| 1/1 [00:00<00:00,  2.21it/s]\u001b[A\u001b[A\n",
      "\n",
      "  2%|▏         | 211/10000 [02:19<1:33:37,  1.74it/s]\u001b[A"
     ]
    },
    {
     "name": "stdout",
     "output_type": "stream",
     "text": [
      "\n",
      "Epoch: 211, Loss: 0.3909, Val: 0.6308, Test: 0.6348\n"
     ]
    },
    {
     "name": "stderr",
     "output_type": "stream",
     "text": [
      "\n",
      "\n",
      "  0%|          | 0/1 [00:00<?, ?it/s]\u001b[A\u001b[A\n",
      "\n",
      "100%|██████████| 1/1 [00:00<00:00,  1.71it/s]\u001b[A\u001b[A\n",
      "\n",
      "  2%|▏         | 212/10000 [02:20<1:38:42,  1.65it/s]\u001b[A"
     ]
    },
    {
     "name": "stdout",
     "output_type": "stream",
     "text": [
      "\n",
      "Epoch: 212, Loss: 0.3913, Val: 0.6311, Test: 0.6354\n"
     ]
    },
    {
     "name": "stderr",
     "output_type": "stream",
     "text": [
      "\n",
      "\n",
      "  0%|          | 0/1 [00:00<?, ?it/s]\u001b[A\u001b[A\n",
      "\n",
      "100%|██████████| 1/1 [00:00<00:00,  1.74it/s]\u001b[A\u001b[A\n",
      "\n",
      "  2%|▏         | 213/10000 [02:21<1:42:46,  1.59it/s]\u001b[A"
     ]
    },
    {
     "name": "stdout",
     "output_type": "stream",
     "text": [
      "\n",
      "Epoch: 213, Loss: 0.3910, Val: 0.6323, Test: 0.6349\n"
     ]
    },
    {
     "name": "stderr",
     "output_type": "stream",
     "text": [
      "\n",
      "\n",
      "  0%|          | 0/1 [00:00<?, ?it/s]\u001b[A\u001b[A\n",
      "\n",
      "100%|██████████| 1/1 [00:00<00:00,  1.59it/s]\u001b[A\u001b[A\n",
      "\n",
      "  2%|▏         | 214/10000 [02:21<1:48:18,  1.51it/s]\u001b[A"
     ]
    },
    {
     "name": "stdout",
     "output_type": "stream",
     "text": [
      "\n",
      "Epoch: 214, Loss: 0.3909, Val: 0.6323, Test: 0.6360\n"
     ]
    },
    {
     "name": "stderr",
     "output_type": "stream",
     "text": [
      "\n",
      "\n",
      "  0%|          | 0/1 [00:00<?, ?it/s]\u001b[A\u001b[A\n",
      "\n",
      "100%|██████████| 1/1 [00:00<00:00,  1.86it/s]\u001b[A\u001b[A\n",
      "\n",
      "  2%|▏         | 215/10000 [02:22<1:46:51,  1.53it/s]\u001b[A"
     ]
    },
    {
     "name": "stdout",
     "output_type": "stream",
     "text": [
      "\n",
      "Epoch: 215, Loss: 0.3910, Val: 0.6332, Test: 0.6363\n"
     ]
    },
    {
     "name": "stderr",
     "output_type": "stream",
     "text": [
      "\n",
      "\n",
      "  0%|          | 0/1 [00:00<?, ?it/s]\u001b[A\u001b[A\n",
      "\n",
      "100%|██████████| 1/1 [00:00<00:00,  1.86it/s]\u001b[A\u001b[A\n",
      "\n",
      "  2%|▏         | 216/10000 [02:23<1:46:21,  1.53it/s]\u001b[A"
     ]
    },
    {
     "name": "stdout",
     "output_type": "stream",
     "text": [
      "\n",
      "Epoch: 216, Loss: 0.3906, Val: 0.6338, Test: 0.6370\n"
     ]
    },
    {
     "name": "stderr",
     "output_type": "stream",
     "text": [
      "\n",
      "\n",
      "  0%|          | 0/1 [00:00<?, ?it/s]\u001b[A\u001b[A\n",
      "\n",
      "100%|██████████| 1/1 [00:00<00:00,  1.76it/s]\u001b[A\u001b[A\n",
      "\n",
      "  2%|▏         | 217/10000 [02:23<1:45:03,  1.55it/s]\u001b[A\n",
      "\n",
      "  0%|          | 0/1 [00:00<?, ?it/s]\u001b[A\u001b[A\n",
      "\n",
      "100%|██████████| 1/1 [00:00<00:00,  1.90it/s]\u001b[A\u001b[A\n",
      "\n",
      "  2%|▏         | 218/10000 [02:24<1:41:59,  1.60it/s]\u001b[A\n",
      "\n",
      "  0%|          | 0/1 [00:00<?, ?it/s]\u001b[A\u001b[A\n",
      "\n",
      "100%|██████████| 1/1 [00:00<00:00,  1.77it/s]\u001b[A\u001b[A\n",
      "\n",
      "  2%|▏         | 219/10000 [02:25<1:41:23,  1.61it/s]\u001b[A\n",
      "\n",
      "  0%|          | 0/1 [00:00<?, ?it/s]\u001b[A\u001b[A\n",
      "\n",
      "100%|██████████| 1/1 [00:00<00:00,  2.02it/s]\u001b[A\u001b[A\n",
      "\n",
      "  2%|▏         | 220/10000 [02:25<1:39:59,  1.63it/s]\u001b[A"
     ]
    },
    {
     "name": "stdout",
     "output_type": "stream",
     "text": [
      "\n",
      "Epoch: 220, Loss: 0.3906, Val: 0.6344, Test: 0.6397\n"
     ]
    },
    {
     "name": "stderr",
     "output_type": "stream",
     "text": [
      "\n",
      "\n",
      "  0%|          | 0/1 [00:00<?, ?it/s]\u001b[A\u001b[A\n",
      "\n",
      "100%|██████████| 1/1 [00:00<00:00,  1.93it/s]\u001b[A\u001b[A\n",
      "\n",
      "  2%|▏         | 221/10000 [02:26<1:41:04,  1.61it/s]\u001b[A"
     ]
    },
    {
     "name": "stdout",
     "output_type": "stream",
     "text": [
      "\n",
      "Epoch: 221, Loss: 0.3898, Val: 0.6349, Test: 0.6395\n"
     ]
    },
    {
     "name": "stderr",
     "output_type": "stream",
     "text": [
      "\n",
      "\n",
      "  0%|          | 0/1 [00:00<?, ?it/s]\u001b[A\u001b[A\n",
      "\n",
      "100%|██████████| 1/1 [00:00<00:00,  1.30it/s]\u001b[A\u001b[A\n",
      "\n",
      "  2%|▏         | 222/10000 [02:27<1:52:45,  1.45it/s]\u001b[A"
     ]
    },
    {
     "name": "stdout",
     "output_type": "stream",
     "text": [
      "\n",
      "Epoch: 222, Loss: 0.3903, Val: 0.6362, Test: 0.6399\n"
     ]
    },
    {
     "name": "stderr",
     "output_type": "stream",
     "text": [
      "\n",
      "\n",
      "  0%|          | 0/1 [00:00<?, ?it/s]\u001b[A\u001b[A\n",
      "\n",
      "100%|██████████| 1/1 [00:00<00:00,  1.48it/s]\u001b[A\u001b[A\n",
      "\n",
      "  2%|▏         | 223/10000 [02:27<1:56:36,  1.40it/s]\u001b[A"
     ]
    },
    {
     "name": "stdout",
     "output_type": "stream",
     "text": [
      "\n",
      "Epoch: 223, Loss: 0.3902, Val: 0.6367, Test: 0.6400\n"
     ]
    },
    {
     "name": "stderr",
     "output_type": "stream",
     "text": [
      "\n",
      "\n",
      "  0%|          | 0/1 [00:00<?, ?it/s]\u001b[A\u001b[A\n",
      "\n",
      "100%|██████████| 1/1 [00:00<00:00,  1.94it/s]\u001b[A\u001b[A\n",
      "\n",
      "  2%|▏         | 224/10000 [02:28<1:53:27,  1.44it/s]\u001b[A"
     ]
    },
    {
     "name": "stdout",
     "output_type": "stream",
     "text": [
      "\n",
      "Epoch: 224, Loss: 0.3907, Val: 0.6369, Test: 0.6404\n"
     ]
    },
    {
     "name": "stderr",
     "output_type": "stream",
     "text": [
      "\n",
      "\n",
      "  0%|          | 0/1 [00:00<?, ?it/s]\u001b[A\u001b[A\n",
      "\n",
      "100%|██████████| 1/1 [00:00<00:00,  1.77it/s]\u001b[A\u001b[A\n",
      "\n",
      "  2%|▏         | 225/10000 [02:29<1:52:21,  1.45it/s]\u001b[A"
     ]
    },
    {
     "name": "stdout",
     "output_type": "stream",
     "text": [
      "\n",
      "Epoch: 225, Loss: 0.3900, Val: 0.6377, Test: 0.6406\n"
     ]
    },
    {
     "name": "stderr",
     "output_type": "stream",
     "text": [
      "\n",
      "\n",
      "  0%|          | 0/1 [00:00<?, ?it/s]\u001b[A\u001b[A\n",
      "\n",
      "100%|██████████| 1/1 [00:00<00:00,  1.89it/s]\u001b[A\u001b[A\n",
      "\n",
      "  2%|▏         | 226/10000 [02:29<1:50:14,  1.48it/s]\u001b[A"
     ]
    },
    {
     "name": "stdout",
     "output_type": "stream",
     "text": [
      "\n",
      "Epoch: 226, Loss: 0.3900, Val: 0.6382, Test: 0.6416\n"
     ]
    },
    {
     "name": "stderr",
     "output_type": "stream",
     "text": [
      "\n",
      "\n",
      "  0%|          | 0/1 [00:00<?, ?it/s]\u001b[A\u001b[A\n",
      "\n",
      "100%|██████████| 1/1 [00:00<00:00,  2.01it/s]\u001b[A\u001b[A\n",
      "\n",
      "  2%|▏         | 227/10000 [02:30<1:46:36,  1.53it/s]\u001b[A"
     ]
    },
    {
     "name": "stdout",
     "output_type": "stream",
     "text": [
      "\n",
      "Epoch: 227, Loss: 0.3907, Val: 0.6390, Test: 0.6417\n"
     ]
    },
    {
     "name": "stderr",
     "output_type": "stream",
     "text": [
      "\n",
      "\n",
      "  0%|          | 0/1 [00:00<?, ?it/s]\u001b[A\u001b[A\n",
      "\n",
      "100%|██████████| 1/1 [00:00<00:00,  1.83it/s]\u001b[A\u001b[A\n",
      "\n",
      "  2%|▏         | 228/10000 [02:31<1:45:58,  1.54it/s]\u001b[A\n",
      "\n",
      "  0%|          | 0/1 [00:00<?, ?it/s]\u001b[A\u001b[A\n",
      "\n",
      "100%|██████████| 1/1 [00:00<00:00,  1.42it/s]\u001b[A\u001b[A\n",
      "\n",
      "  2%|▏         | 229/10000 [02:32<1:57:46,  1.38it/s]\u001b[A"
     ]
    },
    {
     "name": "stdout",
     "output_type": "stream",
     "text": [
      "\n",
      "Epoch: 229, Loss: 0.3907, Val: 0.6395, Test: 0.6425\n"
     ]
    },
    {
     "name": "stderr",
     "output_type": "stream",
     "text": [
      "\n",
      "\n",
      "  0%|          | 0/1 [00:00<?, ?it/s]\u001b[A\u001b[A\n",
      "\n",
      "100%|██████████| 1/1 [00:00<00:00,  1.74it/s]\u001b[A\u001b[A\n",
      "\n",
      "  2%|▏         | 230/10000 [02:32<1:56:32,  1.40it/s]\u001b[A"
     ]
    },
    {
     "name": "stdout",
     "output_type": "stream",
     "text": [
      "\n",
      "Epoch: 230, Loss: 0.3904, Val: 0.6399, Test: 0.6432\n"
     ]
    },
    {
     "name": "stderr",
     "output_type": "stream",
     "text": [
      "\n",
      "\n",
      "  0%|          | 0/1 [00:00<?, ?it/s]\u001b[A\u001b[A\n",
      "\n",
      "100%|██████████| 1/1 [00:00<00:00,  2.00it/s]\u001b[A\u001b[A\n",
      "\n",
      "  2%|▏         | 231/10000 [02:33<1:52:05,  1.45it/s]\u001b[A"
     ]
    },
    {
     "name": "stdout",
     "output_type": "stream",
     "text": [
      "\n",
      "Epoch: 231, Loss: 0.3899, Val: 0.6400, Test: 0.6436\n"
     ]
    },
    {
     "name": "stderr",
     "output_type": "stream",
     "text": [
      "\n",
      "\n",
      "  0%|          | 0/1 [00:00<?, ?it/s]\u001b[A\u001b[A\n",
      "\n",
      "100%|██████████| 1/1 [00:00<00:00,  2.28it/s]\u001b[A\u001b[A\n",
      "\n",
      "  2%|▏         | 232/10000 [02:33<1:43:44,  1.57it/s]\u001b[A"
     ]
    },
    {
     "name": "stdout",
     "output_type": "stream",
     "text": [
      "\n",
      "Epoch: 232, Loss: 0.3909, Val: 0.6404, Test: 0.6443\n"
     ]
    },
    {
     "name": "stderr",
     "output_type": "stream",
     "text": [
      "\n",
      "\n",
      "  0%|          | 0/1 [00:00<?, ?it/s]\u001b[A\u001b[A\n",
      "\n",
      "100%|██████████| 1/1 [00:00<00:00,  2.41it/s]\u001b[A\u001b[A\n",
      "\n",
      "  2%|▏         | 233/10000 [02:34<1:36:47,  1.68it/s]\u001b[A"
     ]
    },
    {
     "name": "stdout",
     "output_type": "stream",
     "text": [
      "\n",
      "Epoch: 233, Loss: 0.3905, Val: 0.6404, Test: 0.6438\n"
     ]
    },
    {
     "name": "stderr",
     "output_type": "stream",
     "text": [
      "\n",
      "\n",
      "  0%|          | 0/1 [00:00<?, ?it/s]\u001b[A\u001b[A\n",
      "\n",
      "100%|██████████| 1/1 [00:00<00:00,  2.50it/s]\u001b[A\u001b[A\n",
      "\n",
      "  2%|▏         | 234/10000 [02:34<1:33:35,  1.74it/s]\u001b[A"
     ]
    },
    {
     "name": "stdout",
     "output_type": "stream",
     "text": [
      "\n",
      "Epoch: 234, Loss: 0.3906, Val: 0.6412, Test: 0.6444\n"
     ]
    },
    {
     "name": "stderr",
     "output_type": "stream",
     "text": [
      "\n",
      "\n",
      "  0%|          | 0/1 [00:00<?, ?it/s]\u001b[A\u001b[A\n",
      "\n",
      "100%|██████████| 1/1 [00:00<00:00,  1.73it/s]\u001b[A\u001b[A\n",
      "\n",
      "  2%|▏         | 235/10000 [02:35<1:41:32,  1.60it/s]\u001b[A"
     ]
    },
    {
     "name": "stdout",
     "output_type": "stream",
     "text": [
      "\n",
      "Epoch: 235, Loss: 0.3906, Val: 0.6415, Test: 0.6446\n"
     ]
    },
    {
     "name": "stderr",
     "output_type": "stream",
     "text": [
      "\n",
      "\n",
      "  0%|          | 0/1 [00:00<?, ?it/s]\u001b[A\u001b[A\n",
      "\n",
      "100%|██████████| 1/1 [00:00<00:00,  2.25it/s]\u001b[A\u001b[A\n",
      "\n",
      "  2%|▏         | 236/10000 [02:36<1:37:43,  1.67it/s]\u001b[A"
     ]
    },
    {
     "name": "stdout",
     "output_type": "stream",
     "text": [
      "\n",
      "Epoch: 236, Loss: 0.3902, Val: 0.6417, Test: 0.6448\n"
     ]
    },
    {
     "name": "stderr",
     "output_type": "stream",
     "text": [
      "\n",
      "\n",
      "  0%|          | 0/1 [00:00<?, ?it/s]\u001b[A\u001b[A\n",
      "\n",
      "100%|██████████| 1/1 [00:00<00:00,  2.03it/s]\u001b[A\u001b[A\n",
      "\n",
      "  2%|▏         | 237/10000 [02:36<1:38:35,  1.65it/s]\u001b[A"
     ]
    },
    {
     "name": "stdout",
     "output_type": "stream",
     "text": [
      "\n",
      "Epoch: 237, Loss: 0.3898, Val: 0.6425, Test: 0.6452\n"
     ]
    },
    {
     "name": "stderr",
     "output_type": "stream",
     "text": [
      "\n",
      "\n",
      "  0%|          | 0/1 [00:00<?, ?it/s]\u001b[A\u001b[A\n",
      "\n",
      "100%|██████████| 1/1 [00:00<00:00,  2.22it/s]\u001b[A\u001b[A\n",
      "\n",
      "  2%|▏         | 238/10000 [02:37<1:33:25,  1.74it/s]\u001b[A\n",
      "\n",
      "  0%|          | 0/1 [00:00<?, ?it/s]\u001b[A\u001b[A\n",
      "\n",
      "100%|██████████| 1/1 [00:00<00:00,  2.19it/s]\u001b[A\u001b[A\n",
      "\n",
      "  2%|▏         | 239/10000 [02:37<1:29:52,  1.81it/s]\u001b[A\n",
      "\n",
      "  0%|          | 0/1 [00:00<?, ?it/s]\u001b[A\u001b[A\n",
      "\n",
      "100%|██████████| 1/1 [00:00<00:00,  1.51it/s]\u001b[A\u001b[A\n",
      "\n",
      "  2%|▏         | 240/10000 [02:38<1:41:51,  1.60it/s]\u001b[A"
     ]
    },
    {
     "name": "stdout",
     "output_type": "stream",
     "text": [
      "\n",
      "Epoch: 240, Loss: 0.3902, Val: 0.6430, Test: 0.6452\n"
     ]
    },
    {
     "name": "stderr",
     "output_type": "stream",
     "text": [
      "\n",
      "\n",
      "  0%|          | 0/1 [00:00<?, ?it/s]\u001b[A\u001b[A\n",
      "\n",
      "100%|██████████| 1/1 [00:00<00:00,  1.82it/s]\u001b[A\u001b[A\n",
      "\n",
      "  2%|▏         | 241/10000 [02:39<1:45:54,  1.54it/s]\u001b[A"
     ]
    },
    {
     "name": "stdout",
     "output_type": "stream",
     "text": [
      "\n",
      "Epoch: 241, Loss: 0.3897, Val: 0.6435, Test: 0.6454\n"
     ]
    },
    {
     "name": "stderr",
     "output_type": "stream",
     "text": [
      "\n",
      "\n",
      "  0%|          | 0/1 [00:00<?, ?it/s]\u001b[A\u001b[A\n",
      "\n",
      "100%|██████████| 1/1 [00:00<00:00,  1.82it/s]\u001b[A\u001b[A\n",
      "\n",
      "  2%|▏         | 242/10000 [02:39<1:46:57,  1.52it/s]\u001b[A"
     ]
    },
    {
     "name": "stdout",
     "output_type": "stream",
     "text": [
      "\n",
      "Epoch: 242, Loss: 0.3901, Val: 0.6448, Test: 0.6459\n"
     ]
    },
    {
     "name": "stderr",
     "output_type": "stream",
     "text": [
      "\n",
      "\n",
      "  0%|          | 0/1 [00:00<?, ?it/s]\u001b[A\u001b[A\n",
      "\n",
      "100%|██████████| 1/1 [00:00<00:00,  1.85it/s]\u001b[A\u001b[A\n",
      "\n",
      "  2%|▏         | 243/10000 [02:40<1:44:58,  1.55it/s]\u001b[A\n",
      "\n",
      "  0%|          | 0/1 [00:00<?, ?it/s]\u001b[A\u001b[A\n",
      "\n",
      "100%|██████████| 1/1 [00:00<00:00,  2.31it/s]\u001b[A\u001b[A\n",
      "\n",
      "  2%|▏         | 244/10000 [02:41<1:39:50,  1.63it/s]\u001b[A"
     ]
    },
    {
     "name": "stdout",
     "output_type": "stream",
     "text": [
      "\n",
      "Epoch: 244, Loss: 0.3905, Val: 0.6450, Test: 0.6474\n"
     ]
    },
    {
     "name": "stderr",
     "output_type": "stream",
     "text": [
      "\n",
      "\n",
      "  0%|          | 0/1 [00:00<?, ?it/s]\u001b[A\u001b[A\n",
      "\n",
      "100%|██████████| 1/1 [00:00<00:00,  2.49it/s]\u001b[A\u001b[A\n",
      "\n",
      "  2%|▏         | 245/10000 [02:41<1:39:03,  1.64it/s]\u001b[A"
     ]
    },
    {
     "name": "stdout",
     "output_type": "stream",
     "text": [
      "\n",
      "Epoch: 245, Loss: 0.3895, Val: 0.6453, Test: 0.6485\n"
     ]
    },
    {
     "name": "stderr",
     "output_type": "stream",
     "text": [
      "\n",
      "\n",
      "  0%|          | 0/1 [00:00<?, ?it/s]\u001b[A\u001b[A\n",
      "\n",
      "100%|██████████| 1/1 [00:00<00:00,  1.76it/s]\u001b[A\u001b[A\n",
      "\n",
      "  2%|▏         | 246/10000 [02:42<1:41:41,  1.60it/s]\u001b[A"
     ]
    },
    {
     "name": "stdout",
     "output_type": "stream",
     "text": [
      "\n",
      "Epoch: 246, Loss: 0.3896, Val: 0.6456, Test: 0.6487\n"
     ]
    },
    {
     "name": "stderr",
     "output_type": "stream",
     "text": [
      "\n",
      "\n",
      "  0%|          | 0/1 [00:00<?, ?it/s]\u001b[A\u001b[A\n",
      "\n",
      "100%|██████████| 1/1 [00:00<00:00,  2.74it/s]\u001b[A\u001b[A\n",
      "\n",
      "  2%|▏         | 247/10000 [02:42<1:34:54,  1.71it/s]\u001b[A"
     ]
    },
    {
     "name": "stdout",
     "output_type": "stream",
     "text": [
      "\n",
      "Epoch: 247, Loss: 0.3904, Val: 0.6462, Test: 0.6484\n"
     ]
    },
    {
     "name": "stderr",
     "output_type": "stream",
     "text": [
      "\n",
      "\n",
      "  0%|          | 0/1 [00:00<?, ?it/s]\u001b[A\u001b[A\n",
      "\n",
      "100%|██████████| 1/1 [00:00<00:00,  2.09it/s]\u001b[A\u001b[A\n",
      "\n",
      "  2%|▏         | 248/10000 [02:43<1:34:47,  1.71it/s]\u001b[A"
     ]
    },
    {
     "name": "stdout",
     "output_type": "stream",
     "text": [
      "\n",
      "Epoch: 248, Loss: 0.3897, Val: 0.6468, Test: 0.6489\n"
     ]
    },
    {
     "name": "stderr",
     "output_type": "stream",
     "text": [
      "\n",
      "\n",
      "  0%|          | 0/1 [00:00<?, ?it/s]\u001b[A\u001b[A\n",
      "\n",
      "100%|██████████| 1/1 [00:00<00:00,  2.28it/s]\u001b[A\u001b[A\n",
      "\n",
      "  2%|▏         | 249/10000 [02:43<1:32:19,  1.76it/s]\u001b[A"
     ]
    },
    {
     "name": "stdout",
     "output_type": "stream",
     "text": [
      "\n",
      "Epoch: 249, Loss: 0.3897, Val: 0.6475, Test: 0.6490\n"
     ]
    },
    {
     "name": "stderr",
     "output_type": "stream",
     "text": [
      "\n",
      "\n",
      "  0%|          | 0/1 [00:00<?, ?it/s]\u001b[A\u001b[A\n",
      "\n",
      "100%|██████████| 1/1 [00:00<00:00,  1.90it/s]\u001b[A\u001b[A\n",
      "\n",
      "  2%|▎         | 250/10000 [02:44<1:34:19,  1.72it/s]\u001b[A\n",
      "\n",
      "  0%|          | 0/1 [00:00<?, ?it/s]\u001b[A\u001b[A\n",
      "\n",
      "100%|██████████| 1/1 [00:00<00:00,  2.22it/s]\u001b[A\u001b[A\n",
      "\n",
      "  3%|▎         | 251/10000 [02:45<1:32:08,  1.76it/s]\u001b[A"
     ]
    },
    {
     "name": "stdout",
     "output_type": "stream",
     "text": [
      "\n",
      "Epoch: 251, Loss: 0.3904, Val: 0.6476, Test: 0.6496\n"
     ]
    },
    {
     "name": "stderr",
     "output_type": "stream",
     "text": [
      "\n",
      "\n",
      "  0%|          | 0/1 [00:00<?, ?it/s]\u001b[A\u001b[A\n",
      "\n",
      "100%|██████████| 1/1 [00:00<00:00,  2.27it/s]\u001b[A\u001b[A\n",
      "\n",
      "  3%|▎         | 252/10000 [02:45<1:30:26,  1.80it/s]\u001b[A"
     ]
    },
    {
     "name": "stdout",
     "output_type": "stream",
     "text": [
      "\n",
      "Epoch: 252, Loss: 0.3903, Val: 0.6481, Test: 0.6500\n"
     ]
    },
    {
     "name": "stderr",
     "output_type": "stream",
     "text": [
      "\n",
      "\n",
      "  0%|          | 0/1 [00:00<?, ?it/s]\u001b[A\u001b[A\n",
      "\n",
      "100%|██████████| 1/1 [00:00<00:00,  1.66it/s]\u001b[A\u001b[A\n",
      "\n",
      "  3%|▎         | 253/10000 [02:46<1:39:15,  1.64it/s]\u001b[A"
     ]
    },
    {
     "name": "stdout",
     "output_type": "stream",
     "text": [
      "\n",
      "Epoch: 253, Loss: 0.3894, Val: 0.6488, Test: 0.6495\n"
     ]
    },
    {
     "name": "stderr",
     "output_type": "stream",
     "text": [
      "\n",
      "\n",
      "  0%|          | 0/1 [00:00<?, ?it/s]\u001b[A\u001b[A\n",
      "\n",
      "100%|██████████| 1/1 [00:00<00:00,  1.99it/s]\u001b[A\u001b[A\n",
      "\n",
      "  3%|▎         | 254/10000 [02:46<1:38:44,  1.65it/s]\u001b[A"
     ]
    },
    {
     "name": "stdout",
     "output_type": "stream",
     "text": [
      "\n",
      "Epoch: 254, Loss: 0.3895, Val: 0.6501, Test: 0.6506\n"
     ]
    },
    {
     "name": "stderr",
     "output_type": "stream",
     "text": [
      "\n",
      "\n",
      "  0%|          | 0/1 [00:00<?, ?it/s]\u001b[A\u001b[A\n",
      "\n",
      "100%|██████████| 1/1 [00:00<00:00,  2.56it/s]\u001b[A\u001b[A\n",
      "\n",
      "  3%|▎         | 255/10000 [02:47<1:31:52,  1.77it/s]\u001b[A"
     ]
    },
    {
     "name": "stdout",
     "output_type": "stream",
     "text": [
      "\n",
      "Epoch: 255, Loss: 0.3895, Val: 0.6503, Test: 0.6511\n"
     ]
    },
    {
     "name": "stderr",
     "output_type": "stream",
     "text": [
      "\n",
      "\n",
      "  0%|          | 0/1 [00:00<?, ?it/s]\u001b[A\u001b[A\n",
      "\n",
      "100%|██████████| 1/1 [00:00<00:00,  2.54it/s]\u001b[A\u001b[A\n",
      "\n",
      "  3%|▎         | 256/10000 [02:47<1:27:28,  1.86it/s]\u001b[A\n",
      "\n",
      "  0%|          | 0/1 [00:00<?, ?it/s]\u001b[A\u001b[A\n",
      "\n",
      "100%|██████████| 1/1 [00:00<00:00,  1.67it/s]\u001b[A\u001b[A\n",
      "\n",
      "  3%|▎         | 257/10000 [02:48<1:39:08,  1.64it/s]\u001b[A"
     ]
    },
    {
     "name": "stdout",
     "output_type": "stream",
     "text": [
      "\n",
      "Epoch: 257, Loss: 0.3896, Val: 0.6509, Test: 0.6510\n"
     ]
    },
    {
     "name": "stderr",
     "output_type": "stream",
     "text": [
      "\n",
      "\n",
      "  0%|          | 0/1 [00:00<?, ?it/s]\u001b[A\u001b[A\n",
      "\n",
      "100%|██████████| 1/1 [00:00<00:00,  1.84it/s]\u001b[A\u001b[A\n",
      "\n",
      "  3%|▎         | 258/10000 [02:49<1:38:12,  1.65it/s]\u001b[A\n",
      "\n",
      "  0%|          | 0/1 [00:00<?, ?it/s]\u001b[A\u001b[A\n",
      "\n",
      "100%|██████████| 1/1 [00:00<00:00,  2.06it/s]\u001b[A\u001b[A\n",
      "\n",
      "  3%|▎         | 259/10000 [02:49<1:35:58,  1.69it/s]\u001b[A\n",
      "\n",
      "  0%|          | 0/1 [00:00<?, ?it/s]\u001b[A\u001b[A\n",
      "\n",
      "100%|██████████| 1/1 [00:00<00:00,  1.75it/s]\u001b[A\u001b[A\n",
      "\n",
      "  3%|▎         | 260/10000 [02:50<1:37:45,  1.66it/s]\u001b[A\n",
      "\n",
      "  0%|          | 0/1 [00:00<?, ?it/s]\u001b[A\u001b[A\n",
      "\n",
      "100%|██████████| 1/1 [00:00<00:00,  2.14it/s]\u001b[A\u001b[A\n",
      "\n",
      "  3%|▎         | 261/10000 [02:51<1:35:43,  1.70it/s]\u001b[A"
     ]
    },
    {
     "name": "stdout",
     "output_type": "stream",
     "text": [
      "\n",
      "Epoch: 261, Loss: 0.3901, Val: 0.6511, Test: 0.6532\n"
     ]
    },
    {
     "name": "stderr",
     "output_type": "stream",
     "text": [
      "\n",
      "\n",
      "  0%|          | 0/1 [00:00<?, ?it/s]\u001b[A\u001b[A\n",
      "\n",
      "100%|██████████| 1/1 [00:00<00:00,  2.32it/s]\u001b[A\u001b[A\n",
      "\n",
      "  3%|▎         | 262/10000 [02:51<1:32:24,  1.76it/s]\u001b[A"
     ]
    },
    {
     "name": "stdout",
     "output_type": "stream",
     "text": [
      "\n",
      "Epoch: 262, Loss: 0.3901, Val: 0.6517, Test: 0.6532\n"
     ]
    },
    {
     "name": "stderr",
     "output_type": "stream",
     "text": [
      "\n",
      "\n",
      "  0%|          | 0/1 [00:00<?, ?it/s]\u001b[A\u001b[A\n",
      "\n",
      "100%|██████████| 1/1 [00:00<00:00,  2.10it/s]\u001b[A\u001b[A\n",
      "\n",
      "  3%|▎         | 263/10000 [02:52<1:30:49,  1.79it/s]\u001b[A\n",
      "\n",
      "  0%|          | 0/1 [00:00<?, ?it/s]\u001b[A\u001b[A\n",
      "\n",
      "100%|██████████| 1/1 [00:00<00:00,  1.68it/s]\u001b[A\u001b[A\n",
      "\n",
      "  3%|▎         | 264/10000 [02:52<1:40:11,  1.62it/s]\u001b[A"
     ]
    },
    {
     "name": "stdout",
     "output_type": "stream",
     "text": [
      "\n",
      "Epoch: 264, Loss: 0.3899, Val: 0.6519, Test: 0.6544\n"
     ]
    },
    {
     "name": "stderr",
     "output_type": "stream",
     "text": [
      "\n",
      "\n",
      "  0%|          | 0/1 [00:00<?, ?it/s]\u001b[A\u001b[A\n",
      "\n",
      "100%|██████████| 1/1 [00:00<00:00,  2.12it/s]\u001b[A\u001b[A\n",
      "\n",
      "  3%|▎         | 265/10000 [02:53<1:36:21,  1.68it/s]\u001b[A"
     ]
    },
    {
     "name": "stdout",
     "output_type": "stream",
     "text": [
      "\n",
      "Epoch: 265, Loss: 0.3901, Val: 0.6527, Test: 0.6544\n"
     ]
    },
    {
     "name": "stderr",
     "output_type": "stream",
     "text": [
      "\n",
      "\n",
      "  0%|          | 0/1 [00:00<?, ?it/s]\u001b[A\u001b[A\n",
      "\n",
      "100%|██████████| 1/1 [00:00<00:00,  1.80it/s]\u001b[A\u001b[A\n",
      "\n",
      "  3%|▎         | 266/10000 [02:54<1:38:50,  1.64it/s]\u001b[A"
     ]
    },
    {
     "name": "stdout",
     "output_type": "stream",
     "text": [
      "\n",
      "Epoch: 266, Loss: 0.3897, Val: 0.6528, Test: 0.6543\n"
     ]
    },
    {
     "name": "stderr",
     "output_type": "stream",
     "text": [
      "\n",
      "\n",
      "  0%|          | 0/1 [00:00<?, ?it/s]\u001b[A\u001b[A\n",
      "\n",
      "100%|██████████| 1/1 [00:00<00:00,  2.43it/s]\u001b[A\u001b[A\n",
      "\n",
      "  3%|▎         | 267/10000 [02:54<1:31:40,  1.77it/s]\u001b[A\n",
      "\n",
      "  0%|          | 0/1 [00:00<?, ?it/s]\u001b[A\u001b[A\n",
      "\n",
      "100%|██████████| 1/1 [00:00<00:00,  2.41it/s]\u001b[A\u001b[A\n",
      "\n",
      "  3%|▎         | 268/10000 [02:54<1:27:29,  1.85it/s]\u001b[A"
     ]
    },
    {
     "name": "stdout",
     "output_type": "stream",
     "text": [
      "\n",
      "Epoch: 268, Loss: 0.3897, Val: 0.6534, Test: 0.6558\n"
     ]
    },
    {
     "name": "stderr",
     "output_type": "stream",
     "text": [
      "\n",
      "\n",
      "  0%|          | 0/1 [00:00<?, ?it/s]\u001b[A\u001b[A\n",
      "\n",
      "100%|██████████| 1/1 [00:00<00:00,  1.53it/s]\u001b[A\u001b[A\n",
      "\n",
      "  3%|▎         | 269/10000 [02:55<1:38:58,  1.64it/s]\u001b[A"
     ]
    },
    {
     "name": "stdout",
     "output_type": "stream",
     "text": [
      "\n",
      "Epoch: 269, Loss: 0.3899, Val: 0.6539, Test: 0.6562\n"
     ]
    },
    {
     "name": "stderr",
     "output_type": "stream",
     "text": [
      "\n",
      "\n",
      "  0%|          | 0/1 [00:00<?, ?it/s]\u001b[A\u001b[A\n",
      "\n",
      "100%|██████████| 1/1 [00:00<00:00,  1.92it/s]\u001b[A\u001b[A\n",
      "\n",
      "  3%|▎         | 270/10000 [02:56<1:38:14,  1.65it/s]\u001b[A"
     ]
    },
    {
     "name": "stdout",
     "output_type": "stream",
     "text": [
      "\n",
      "Epoch: 270, Loss: 0.3898, Val: 0.6544, Test: 0.6562\n"
     ]
    },
    {
     "name": "stderr",
     "output_type": "stream",
     "text": [
      "\n",
      "\n",
      "  0%|          | 0/1 [00:00<?, ?it/s]\u001b[A\u001b[A\n",
      "\n",
      "100%|██████████| 1/1 [00:00<00:00,  2.44it/s]\u001b[A\u001b[A\n",
      "\n",
      "  3%|▎         | 271/10000 [02:56<1:32:52,  1.75it/s]\u001b[A"
     ]
    },
    {
     "name": "stdout",
     "output_type": "stream",
     "text": [
      "\n",
      "Epoch: 271, Loss: 0.3898, Val: 0.6545, Test: 0.6569\n"
     ]
    },
    {
     "name": "stderr",
     "output_type": "stream",
     "text": [
      "\n",
      "\n",
      "  0%|          | 0/1 [00:00<?, ?it/s]\u001b[A\u001b[A\n",
      "\n",
      "100%|██████████| 1/1 [00:00<00:00,  2.39it/s]\u001b[A\u001b[A\n",
      "\n",
      "  3%|▎         | 272/10000 [02:57<1:29:11,  1.82it/s]\u001b[A"
     ]
    },
    {
     "name": "stdout",
     "output_type": "stream",
     "text": [
      "\n",
      "Epoch: 272, Loss: 0.3898, Val: 0.6552, Test: 0.6563\n"
     ]
    },
    {
     "name": "stderr",
     "output_type": "stream",
     "text": [
      "\n",
      "\n",
      "  0%|          | 0/1 [00:00<?, ?it/s]\u001b[A\u001b[A\n",
      "\n",
      "100%|██████████| 1/1 [00:00<00:00,  2.39it/s]\u001b[A\u001b[A\n",
      "\n",
      "  3%|▎         | 273/10000 [02:57<1:26:58,  1.86it/s]\u001b[A"
     ]
    },
    {
     "name": "stdout",
     "output_type": "stream",
     "text": [
      "\n",
      "Epoch: 273, Loss: 0.3894, Val: 0.6555, Test: 0.6567\n"
     ]
    },
    {
     "name": "stderr",
     "output_type": "stream",
     "text": [
      "\n",
      "\n",
      "  0%|          | 0/1 [00:00<?, ?it/s]\u001b[A\u001b[A\n",
      "\n",
      "100%|██████████| 1/1 [00:00<00:00,  2.40it/s]\u001b[A\u001b[A\n",
      "\n",
      "  3%|▎         | 274/10000 [02:58<1:23:24,  1.94it/s]\u001b[A\n",
      "\n",
      "  0%|          | 0/1 [00:00<?, ?it/s]\u001b[A\u001b[A\n",
      "\n",
      "100%|██████████| 1/1 [00:00<00:00,  2.31it/s]\u001b[A\u001b[A\n",
      "\n",
      "  3%|▎         | 275/10000 [02:58<1:21:28,  1.99it/s]\u001b[A\n",
      "\n",
      "  0%|          | 0/1 [00:00<?, ?it/s]\u001b[A\u001b[A\n",
      "\n",
      "100%|██████████| 1/1 [00:00<00:00,  2.55it/s]\u001b[A\u001b[A\n",
      "\n",
      "  3%|▎         | 276/10000 [02:59<1:19:25,  2.04it/s]\u001b[A"
     ]
    },
    {
     "name": "stdout",
     "output_type": "stream",
     "text": [
      "\n",
      "Epoch: 276, Loss: 0.3899, Val: 0.6557, Test: 0.6570\n"
     ]
    },
    {
     "name": "stderr",
     "output_type": "stream",
     "text": [
      "\n",
      "\n",
      "  0%|          | 0/1 [00:00<?, ?it/s]\u001b[A\u001b[A\n",
      "\n",
      "100%|██████████| 1/1 [00:00<00:00,  2.40it/s]\u001b[A\u001b[A\n",
      "\n",
      "  3%|▎         | 277/10000 [02:59<1:19:29,  2.04it/s]\u001b[A"
     ]
    },
    {
     "name": "stdout",
     "output_type": "stream",
     "text": [
      "\n",
      "Epoch: 277, Loss: 0.3895, Val: 0.6559, Test: 0.6576\n"
     ]
    },
    {
     "name": "stderr",
     "output_type": "stream",
     "text": [
      "\n",
      "\n",
      "  0%|          | 0/1 [00:00<?, ?it/s]\u001b[A\u001b[A\n",
      "\n",
      "100%|██████████| 1/1 [00:00<00:00,  2.58it/s]\u001b[A\u001b[A\n",
      "\n",
      "  3%|▎         | 278/10000 [03:00<1:16:42,  2.11it/s]\u001b[A\n",
      "\n",
      "  0%|          | 0/1 [00:00<?, ?it/s]\u001b[A\u001b[A\n",
      "\n",
      "100%|██████████| 1/1 [00:00<00:00,  2.49it/s]\u001b[A\u001b[A\n",
      "\n",
      "  3%|▎         | 279/10000 [03:00<1:17:24,  2.09it/s]\u001b[A"
     ]
    },
    {
     "name": "stdout",
     "output_type": "stream",
     "text": [
      "\n",
      "Epoch: 279, Loss: 0.3893, Val: 0.6562, Test: 0.6588\n"
     ]
    },
    {
     "name": "stderr",
     "output_type": "stream",
     "text": [
      "\n",
      "\n",
      "  0%|          | 0/1 [00:00<?, ?it/s]\u001b[A\u001b[A\n",
      "\n",
      "100%|██████████| 1/1 [00:00<00:00,  2.54it/s]\u001b[A\u001b[A\n"
     ]
    },
    {
     "name": "stdout",
     "output_type": "stream",
     "text": [
      "\n",
      "Epoch: 280, Loss: 0.3896, Val: 0.6565, Test: 0.6597\n"
     ]
    },
    {
     "name": "stderr",
     "output_type": "stream",
     "text": [
      "\n",
      "  3%|▎         | 280/10000 [03:01<1:27:03,  1.86it/s]\u001b[A\n",
      "\n",
      "  0%|          | 0/1 [00:00<?, ?it/s]\u001b[A\u001b[A\n",
      "\n",
      "100%|██████████| 1/1 [00:00<00:00,  2.35it/s]\u001b[A\u001b[A\n",
      "\n",
      "  3%|▎         | 281/10000 [03:01<1:23:44,  1.93it/s]\u001b[A\n",
      "\n",
      "  0%|          | 0/1 [00:00<?, ?it/s]\u001b[A\u001b[A\n",
      "\n",
      "100%|██████████| 1/1 [00:00<00:00,  2.35it/s]\u001b[A\u001b[A\n",
      "\n",
      "  3%|▎         | 282/10000 [03:02<1:21:35,  1.99it/s]\u001b[A\n",
      "\n",
      "  0%|          | 0/1 [00:00<?, ?it/s]\u001b[A\u001b[A\n",
      "\n",
      "100%|██████████| 1/1 [00:00<00:00,  2.53it/s]\u001b[A\u001b[A\n",
      "\n",
      "  3%|▎         | 283/10000 [03:02<1:18:34,  2.06it/s]\u001b[A\n",
      "\n",
      "  0%|          | 0/1 [00:00<?, ?it/s]\u001b[A\u001b[A\n",
      "\n",
      "100%|██████████| 1/1 [00:00<00:00,  2.32it/s]\u001b[A\u001b[A\n",
      "\n",
      "  3%|▎         | 284/10000 [03:03<1:19:32,  2.04it/s]\u001b[A"
     ]
    },
    {
     "name": "stdout",
     "output_type": "stream",
     "text": [
      "\n",
      "Epoch: 284, Loss: 0.3892, Val: 0.6568, Test: 0.6605\n"
     ]
    },
    {
     "name": "stderr",
     "output_type": "stream",
     "text": [
      "\n",
      "\n",
      "  0%|          | 0/1 [00:00<?, ?it/s]\u001b[A\u001b[A\n",
      "\n",
      "100%|██████████| 1/1 [00:00<00:00,  2.28it/s]\u001b[A\u001b[A\n",
      "\n",
      "  3%|▎         | 285/10000 [03:03<1:21:16,  1.99it/s]\u001b[A"
     ]
    },
    {
     "name": "stdout",
     "output_type": "stream",
     "text": [
      "\n",
      "Epoch: 285, Loss: 0.3891, Val: 0.6575, Test: 0.6606\n"
     ]
    },
    {
     "name": "stderr",
     "output_type": "stream",
     "text": [
      "\n",
      "\n",
      "  0%|          | 0/1 [00:00<?, ?it/s]\u001b[A\u001b[A\n",
      "\n",
      "100%|██████████| 1/1 [00:00<00:00,  2.29it/s]\u001b[A\u001b[A\n",
      "\n",
      "  3%|▎         | 286/10000 [03:04<1:21:23,  1.99it/s]\u001b[A"
     ]
    },
    {
     "name": "stdout",
     "output_type": "stream",
     "text": [
      "\n",
      "Epoch: 286, Loss: 0.3895, Val: 0.6583, Test: 0.6604\n"
     ]
    },
    {
     "name": "stderr",
     "output_type": "stream",
     "text": [
      "\n",
      "\n",
      "  0%|          | 0/1 [00:00<?, ?it/s]\u001b[A\u001b[A\n",
      "\n",
      "100%|██████████| 1/1 [00:00<00:00,  2.05it/s]\u001b[A\u001b[A\n",
      "\n",
      "  3%|▎         | 287/10000 [03:04<1:23:16,  1.94it/s]\u001b[A\n",
      "\n",
      "  0%|          | 0/1 [00:00<?, ?it/s]\u001b[A\u001b[A\n",
      "\n",
      "100%|██████████| 1/1 [00:00<00:00,  2.32it/s]\u001b[A\u001b[A\n",
      "\n",
      "  3%|▎         | 288/10000 [03:05<1:22:51,  1.95it/s]\u001b[A"
     ]
    },
    {
     "name": "stdout",
     "output_type": "stream",
     "text": [
      "\n",
      "Epoch: 288, Loss: 0.3892, Val: 0.6589, Test: 0.6607\n"
     ]
    },
    {
     "name": "stderr",
     "output_type": "stream",
     "text": [
      "\n",
      "\n",
      "  0%|          | 0/1 [00:00<?, ?it/s]\u001b[A\u001b[A\n",
      "\n",
      "100%|██████████| 1/1 [00:00<00:00,  2.82it/s]\u001b[A\u001b[A\n",
      "\n",
      "  3%|▎         | 289/10000 [03:05<1:18:25,  2.06it/s]\u001b[A"
     ]
    },
    {
     "name": "stdout",
     "output_type": "stream",
     "text": [
      "\n",
      "Epoch: 289, Loss: 0.3888, Val: 0.6592, Test: 0.6606\n"
     ]
    },
    {
     "name": "stderr",
     "output_type": "stream",
     "text": [
      "\n",
      "\n",
      "  0%|          | 0/1 [00:00<?, ?it/s]\u001b[A\u001b[A\n",
      "\n",
      "100%|██████████| 1/1 [00:00<00:00,  3.07it/s]\u001b[A\u001b[A\n",
      "\n",
      "  3%|▎         | 290/10000 [03:06<1:13:14,  2.21it/s]\u001b[A\n",
      "\n",
      "  0%|          | 0/1 [00:00<?, ?it/s]\u001b[A\u001b[A\n",
      "\n",
      "100%|██████████| 1/1 [00:00<00:00,  2.33it/s]\u001b[A\u001b[A\n",
      "\n",
      "  3%|▎         | 291/10000 [03:06<1:13:48,  2.19it/s]\u001b[A\n",
      "\n",
      "  0%|          | 0/1 [00:00<?, ?it/s]\u001b[A\u001b[A\n",
      "\n",
      "100%|██████████| 1/1 [00:00<00:00,  2.58it/s]\u001b[A\u001b[A\n",
      "\n",
      "  3%|▎         | 292/10000 [03:07<1:12:35,  2.23it/s]\u001b[A\n",
      "\n",
      "  0%|          | 0/1 [00:00<?, ?it/s]\u001b[A\u001b[A\n",
      "\n",
      "100%|██████████| 1/1 [00:00<00:00,  2.22it/s]\u001b[A\u001b[A\n",
      "\n",
      "  3%|▎         | 293/10000 [03:07<1:16:11,  2.12it/s]\u001b[A"
     ]
    },
    {
     "name": "stdout",
     "output_type": "stream",
     "text": [
      "\n",
      "Epoch: 293, Loss: 0.3899, Val: 0.6594, Test: 0.6630\n"
     ]
    },
    {
     "name": "stderr",
     "output_type": "stream",
     "text": [
      "\n",
      "\n",
      "  0%|          | 0/1 [00:00<?, ?it/s]\u001b[A\u001b[A\n",
      "\n",
      "100%|██████████| 1/1 [00:00<00:00,  2.57it/s]\u001b[A\u001b[A\n",
      "\n",
      "  3%|▎         | 294/10000 [03:08<1:15:40,  2.14it/s]\u001b[A"
     ]
    },
    {
     "name": "stdout",
     "output_type": "stream",
     "text": [
      "\n",
      "Epoch: 294, Loss: 0.3891, Val: 0.6601, Test: 0.6629\n"
     ]
    },
    {
     "name": "stderr",
     "output_type": "stream",
     "text": [
      "\n",
      "\n",
      "  0%|          | 0/1 [00:00<?, ?it/s]\u001b[A\u001b[A\n",
      "\n",
      "100%|██████████| 1/1 [00:00<00:00,  1.95it/s]\u001b[A\u001b[A\n",
      "\n",
      "  3%|▎         | 295/10000 [03:08<1:24:53,  1.91it/s]\u001b[A"
     ]
    },
    {
     "name": "stdout",
     "output_type": "stream",
     "text": [
      "\n",
      "Epoch: 295, Loss: 0.3892, Val: 0.6606, Test: 0.6629\n"
     ]
    },
    {
     "name": "stderr",
     "output_type": "stream",
     "text": [
      "\n",
      "\n",
      "  0%|          | 0/1 [00:00<?, ?it/s]\u001b[A\u001b[A\n",
      "\n",
      "100%|██████████| 1/1 [00:00<00:00,  2.10it/s]\u001b[A\u001b[A\n",
      "\n",
      "  3%|▎         | 296/10000 [03:09<1:27:04,  1.86it/s]\u001b[A"
     ]
    },
    {
     "name": "stdout",
     "output_type": "stream",
     "text": [
      "\n",
      "Epoch: 296, Loss: 0.3898, Val: 0.6609, Test: 0.6626\n"
     ]
    },
    {
     "name": "stderr",
     "output_type": "stream",
     "text": [
      "\n",
      "\n",
      "  0%|          | 0/1 [00:00<?, ?it/s]\u001b[A\u001b[A\n",
      "\n",
      "100%|██████████| 1/1 [00:00<00:00,  2.42it/s]\u001b[A\u001b[A\n",
      "\n",
      "  3%|▎         | 297/10000 [03:09<1:24:41,  1.91it/s]\u001b[A"
     ]
    },
    {
     "name": "stdout",
     "output_type": "stream",
     "text": [
      "\n",
      "Epoch: 297, Loss: 0.3894, Val: 0.6613, Test: 0.6631\n"
     ]
    },
    {
     "name": "stderr",
     "output_type": "stream",
     "text": [
      "\n",
      "\n",
      "  0%|          | 0/1 [00:00<?, ?it/s]\u001b[A\u001b[A\n",
      "\n",
      "100%|██████████| 1/1 [00:00<00:00,  1.91it/s]\u001b[A\u001b[A\n",
      "\n",
      "  3%|▎         | 298/10000 [03:10<1:27:28,  1.85it/s]\u001b[A\n",
      "\n",
      "  0%|          | 0/1 [00:00<?, ?it/s]\u001b[A\u001b[A\n",
      "\n",
      "100%|██████████| 1/1 [00:00<00:00,  1.58it/s]\u001b[A\u001b[A\n",
      "\n",
      "  3%|▎         | 299/10000 [03:11<1:36:10,  1.68it/s]\u001b[A\n",
      "\n",
      "  0%|          | 0/1 [00:00<?, ?it/s]\u001b[A\u001b[A\n",
      "\n",
      "100%|██████████| 1/1 [00:00<00:00,  2.04it/s]\u001b[A\u001b[A\n",
      "\n",
      "  3%|▎         | 300/10000 [03:11<1:34:23,  1.71it/s]\u001b[A\n",
      "\n",
      "  0%|          | 0/1 [00:00<?, ?it/s]\u001b[A\u001b[A\n",
      "\n",
      "100%|██████████| 1/1 [00:00<00:00,  1.68it/s]\u001b[A\u001b[A\n",
      "\n",
      "  3%|▎         | 301/10000 [03:12<1:37:19,  1.66it/s]\u001b[A\n",
      "\n",
      "  0%|          | 0/1 [00:00<?, ?it/s]\u001b[A\u001b[A\n",
      "\n",
      "100%|██████████| 1/1 [00:00<00:00,  1.34it/s]\u001b[A\u001b[A\n",
      "\n",
      "  3%|▎         | 302/10000 [03:13<1:50:10,  1.47it/s]\u001b[A\n",
      "\n",
      "  0%|          | 0/1 [00:00<?, ?it/s]\u001b[A\u001b[A\n",
      "\n",
      "100%|██████████| 1/1 [00:00<00:00,  1.56it/s]\u001b[A\u001b[A\n",
      "\n",
      "  3%|▎         | 303/10000 [03:13<1:54:52,  1.41it/s]\u001b[A"
     ]
    },
    {
     "name": "stdout",
     "output_type": "stream",
     "text": [
      "\n",
      "Epoch: 303, Loss: 0.3886, Val: 0.6614, Test: 0.6652\n"
     ]
    },
    {
     "name": "stderr",
     "output_type": "stream",
     "text": [
      "\n",
      "\n",
      "  0%|          | 0/1 [00:00<?, ?it/s]\u001b[A\u001b[A\n",
      "\n",
      "100%|██████████| 1/1 [00:00<00:00,  1.52it/s]\u001b[A\u001b[A\n",
      "\n",
      "  3%|▎         | 304/10000 [03:14<1:56:03,  1.39it/s]\u001b[A"
     ]
    },
    {
     "name": "stdout",
     "output_type": "stream",
     "text": [
      "\n",
      "Epoch: 304, Loss: 0.3894, Val: 0.6621, Test: 0.6653\n"
     ]
    },
    {
     "name": "stderr",
     "output_type": "stream",
     "text": [
      "\n",
      "\n",
      "  0%|          | 0/1 [00:00<?, ?it/s]\u001b[A\u001b[A\n",
      "\n",
      "100%|██████████| 1/1 [00:00<00:00,  2.34it/s]\u001b[A\u001b[A\n",
      "\n",
      "  3%|▎         | 305/10000 [03:15<1:46:23,  1.52it/s]\u001b[A"
     ]
    },
    {
     "name": "stdout",
     "output_type": "stream",
     "text": [
      "\n",
      "Epoch: 305, Loss: 0.3890, Val: 0.6624, Test: 0.6659\n"
     ]
    },
    {
     "name": "stderr",
     "output_type": "stream",
     "text": [
      "\n",
      "\n",
      "  0%|          | 0/1 [00:00<?, ?it/s]\u001b[A\u001b[A\n",
      "\n",
      "100%|██████████| 1/1 [00:00<00:00,  1.53it/s]\u001b[A\u001b[A\n",
      "\n",
      "  3%|▎         | 306/10000 [03:15<1:51:20,  1.45it/s]\u001b[A"
     ]
    },
    {
     "name": "stdout",
     "output_type": "stream",
     "text": [
      "\n",
      "Epoch: 306, Loss: 0.3890, Val: 0.6628, Test: 0.6669\n"
     ]
    },
    {
     "name": "stderr",
     "output_type": "stream",
     "text": [
      "\n",
      "\n",
      "  0%|          | 0/1 [00:00<?, ?it/s]\u001b[A\u001b[A\n",
      "\n",
      "100%|██████████| 1/1 [00:00<00:00,  1.28it/s]\u001b[A\u001b[A\n",
      "\n",
      "  3%|▎         | 307/10000 [03:16<1:58:51,  1.36it/s]\u001b[A\n",
      "\n",
      "  0%|          | 0/1 [00:00<?, ?it/s]\u001b[A\u001b[A\n",
      "\n",
      "100%|██████████| 1/1 [00:00<00:00,  2.01it/s]\u001b[A\u001b[A\n",
      "\n",
      "  3%|▎         | 308/10000 [03:17<1:51:47,  1.44it/s]\u001b[A"
     ]
    },
    {
     "name": "stdout",
     "output_type": "stream",
     "text": [
      "\n",
      "Epoch: 308, Loss: 0.3887, Val: 0.6635, Test: 0.6670\n"
     ]
    },
    {
     "name": "stderr",
     "output_type": "stream",
     "text": [
      "\n",
      "\n",
      "  0%|          | 0/1 [00:00<?, ?it/s]\u001b[A\u001b[A\n",
      "\n",
      "100%|██████████| 1/1 [00:00<00:00,  1.66it/s]\u001b[A\u001b[A\n",
      "\n",
      "  3%|▎         | 309/10000 [03:18<1:52:46,  1.43it/s]\u001b[A"
     ]
    },
    {
     "name": "stdout",
     "output_type": "stream",
     "text": [
      "\n",
      "Epoch: 309, Loss: 0.3895, Val: 0.6639, Test: 0.6670\n"
     ]
    },
    {
     "name": "stderr",
     "output_type": "stream",
     "text": [
      "\n",
      "\n",
      "  0%|          | 0/1 [00:00<?, ?it/s]\u001b[A\u001b[A\n",
      "\n",
      "100%|██████████| 1/1 [00:00<00:00,  2.11it/s]\u001b[A\u001b[A\n",
      "\n",
      "  3%|▎         | 310/10000 [03:18<1:53:14,  1.43it/s]\u001b[A"
     ]
    },
    {
     "name": "stdout",
     "output_type": "stream",
     "text": [
      "\n",
      "Epoch: 310, Loss: 0.3894, Val: 0.6643, Test: 0.6672\n"
     ]
    },
    {
     "name": "stderr",
     "output_type": "stream",
     "text": [
      "\n",
      "\n",
      "  0%|          | 0/1 [00:00<?, ?it/s]\u001b[A\u001b[A\n",
      "\n",
      "100%|██████████| 1/1 [00:00<00:00,  1.49it/s]\u001b[A\u001b[A\n",
      "\n",
      "  3%|▎         | 311/10000 [03:19<1:54:01,  1.42it/s]\u001b[A\n",
      "\n",
      "  0%|          | 0/1 [00:00<?, ?it/s]\u001b[A\u001b[A\n",
      "\n",
      "100%|██████████| 1/1 [00:00<00:00,  1.60it/s]\u001b[A\u001b[A\n",
      "\n",
      "  3%|▎         | 312/10000 [03:20<1:59:20,  1.35it/s]\u001b[A"
     ]
    },
    {
     "name": "stdout",
     "output_type": "stream",
     "text": [
      "\n",
      "Epoch: 312, Loss: 0.3889, Val: 0.6644, Test: 0.6680\n"
     ]
    },
    {
     "name": "stderr",
     "output_type": "stream",
     "text": [
      "\n",
      "\n",
      "  0%|          | 0/1 [00:00<?, ?it/s]\u001b[A\u001b[A\n",
      "\n",
      "100%|██████████| 1/1 [00:00<00:00,  1.88it/s]\u001b[A\u001b[A\n",
      "\n",
      "  3%|▎         | 313/10000 [03:20<1:56:06,  1.39it/s]\u001b[A"
     ]
    },
    {
     "name": "stdout",
     "output_type": "stream",
     "text": [
      "\n",
      "Epoch: 313, Loss: 0.3887, Val: 0.6646, Test: 0.6671\n"
     ]
    },
    {
     "name": "stderr",
     "output_type": "stream",
     "text": [
      "\n",
      "\n",
      "  0%|          | 0/1 [00:00<?, ?it/s]\u001b[A\u001b[A\n",
      "\n",
      "100%|██████████| 1/1 [00:00<00:00,  1.93it/s]\u001b[A\u001b[A\n",
      "\n",
      "  3%|▎         | 314/10000 [03:21<1:53:34,  1.42it/s]\u001b[A"
     ]
    },
    {
     "name": "stdout",
     "output_type": "stream",
     "text": [
      "\n",
      "Epoch: 314, Loss: 0.3887, Val: 0.6653, Test: 0.6667\n"
     ]
    },
    {
     "name": "stderr",
     "output_type": "stream",
     "text": [
      "\n",
      "\n",
      "  0%|          | 0/1 [00:00<?, ?it/s]\u001b[A\u001b[A\n",
      "\n",
      "100%|██████████| 1/1 [00:00<00:00,  1.54it/s]\u001b[A\u001b[A\n",
      "\n",
      "  3%|▎         | 315/10000 [03:22<2:05:09,  1.29it/s]\u001b[A"
     ]
    },
    {
     "name": "stdout",
     "output_type": "stream",
     "text": [
      "\n",
      "Epoch: 315, Loss: 0.3887, Val: 0.6655, Test: 0.6670\n"
     ]
    },
    {
     "name": "stderr",
     "output_type": "stream",
     "text": [
      "\n",
      "\n",
      "  0%|          | 0/1 [00:00<?, ?it/s]\u001b[A\u001b[A\n",
      "\n",
      "100%|██████████| 1/1 [00:00<00:00,  1.68it/s]\u001b[A\u001b[A\n",
      "\n",
      "  3%|▎         | 316/10000 [03:23<2:00:29,  1.34it/s]\u001b[A"
     ]
    },
    {
     "name": "stdout",
     "output_type": "stream",
     "text": [
      "\n",
      "Epoch: 316, Loss: 0.3883, Val: 0.6659, Test: 0.6674\n"
     ]
    },
    {
     "name": "stderr",
     "output_type": "stream",
     "text": [
      "\n",
      "\n",
      "  0%|          | 0/1 [00:00<?, ?it/s]\u001b[A\u001b[A\n",
      "\n",
      "100%|██████████| 1/1 [00:00<00:00,  1.47it/s]\u001b[A\u001b[A\n",
      "\n",
      "  3%|▎         | 317/10000 [03:24<2:06:36,  1.27it/s]\u001b[A"
     ]
    },
    {
     "name": "stdout",
     "output_type": "stream",
     "text": [
      "\n",
      "Epoch: 317, Loss: 0.3892, Val: 0.6665, Test: 0.6683\n"
     ]
    },
    {
     "name": "stderr",
     "output_type": "stream",
     "text": [
      "\n",
      "\n",
      "  0%|          | 0/1 [00:00<?, ?it/s]\u001b[A\u001b[A\n",
      "\n",
      "100%|██████████| 1/1 [00:00<00:00,  1.31it/s]\u001b[A\u001b[A\n"
     ]
    },
    {
     "name": "stdout",
     "output_type": "stream",
     "text": [
      "\n",
      "Epoch: 318, Loss: 0.3892, Val: 0.6675, Test: 0.6685\n"
     ]
    },
    {
     "name": "stderr",
     "output_type": "stream",
     "text": [
      "\n",
      "  3%|▎         | 318/10000 [03:25<2:23:23,  1.13it/s]\u001b[A\n",
      "\n",
      "  0%|          | 0/1 [00:00<?, ?it/s]\u001b[A\u001b[A\n",
      "\n",
      "100%|██████████| 1/1 [00:00<00:00,  1.72it/s]\u001b[A\u001b[A\n",
      "\n",
      "  3%|▎         | 319/10000 [03:26<2:19:45,  1.15it/s]\u001b[A\n",
      "\n",
      "  0%|          | 0/1 [00:00<?, ?it/s]\u001b[A\u001b[A\n",
      "\n",
      "100%|██████████| 1/1 [00:00<00:00,  1.59it/s]\u001b[A\u001b[A\n",
      "\n",
      "  3%|▎         | 320/10000 [03:26<2:10:37,  1.24it/s]\u001b[A\n",
      "\n",
      "  0%|          | 0/1 [00:00<?, ?it/s]\u001b[A\u001b[A\n",
      "\n",
      "100%|██████████| 1/1 [00:00<00:00,  1.50it/s]\u001b[A\u001b[A\n",
      "\n",
      "  3%|▎         | 321/10000 [03:27<2:09:34,  1.24it/s]\u001b[A\n",
      "\n",
      "  0%|          | 0/1 [00:00<?, ?it/s]\u001b[A\u001b[A\n",
      "\n",
      "100%|██████████| 1/1 [00:00<00:00,  1.64it/s]\u001b[A\u001b[A\n",
      "\n",
      "  3%|▎         | 322/10000 [03:28<2:14:05,  1.20it/s]\u001b[A"
     ]
    },
    {
     "name": "stdout",
     "output_type": "stream",
     "text": [
      "\n",
      "Epoch: 322, Loss: 0.3893, Val: 0.6680, Test: 0.6709\n"
     ]
    },
    {
     "name": "stderr",
     "output_type": "stream",
     "text": [
      "\n",
      "\n",
      "  0%|          | 0/1 [00:00<?, ?it/s]\u001b[A\u001b[A\n",
      "\n",
      "100%|██████████| 1/1 [00:00<00:00,  1.71it/s]\u001b[A\u001b[A\n",
      "\n",
      "  3%|▎         | 323/10000 [03:29<2:04:55,  1.29it/s]\u001b[A\n",
      "\n",
      "  0%|          | 0/1 [00:00<?, ?it/s]\u001b[A\u001b[A\n",
      "\n",
      "100%|██████████| 1/1 [00:00<00:00,  1.57it/s]\u001b[A\u001b[A\n",
      "\n",
      "  3%|▎         | 324/10000 [03:29<2:08:53,  1.25it/s]\u001b[A"
     ]
    },
    {
     "name": "stdout",
     "output_type": "stream",
     "text": [
      "\n",
      "Epoch: 324, Loss: 0.3889, Val: 0.6681, Test: 0.6715\n"
     ]
    },
    {
     "name": "stderr",
     "output_type": "stream",
     "text": [
      "\n",
      "\n",
      "  0%|          | 0/1 [00:00<?, ?it/s]\u001b[A\u001b[A\n",
      "\n",
      "100%|██████████| 1/1 [00:00<00:00,  1.13it/s]\u001b[A\u001b[A\n",
      "\n",
      "  3%|▎         | 325/10000 [03:31<2:22:05,  1.13it/s]\u001b[A"
     ]
    },
    {
     "name": "stdout",
     "output_type": "stream",
     "text": [
      "\n",
      "Epoch: 325, Loss: 0.3893, Val: 0.6693, Test: 0.6730\n"
     ]
    },
    {
     "name": "stderr",
     "output_type": "stream",
     "text": [
      "\n",
      "\n",
      "  0%|          | 0/1 [00:00<?, ?it/s]\u001b[A\u001b[A\n",
      "\n",
      "100%|██████████| 1/1 [00:00<00:00,  1.32it/s]\u001b[A\u001b[A\n",
      "\n",
      "  3%|▎         | 326/10000 [03:31<2:21:40,  1.14it/s]\u001b[A\n",
      "\n",
      "  0%|          | 0/1 [00:00<?, ?it/s]\u001b[A\u001b[A\n",
      "\n",
      "100%|██████████| 1/1 [00:00<00:00,  1.44it/s]\u001b[A\u001b[A\n",
      "\n",
      "  3%|▎         | 327/10000 [03:32<2:25:08,  1.11it/s]\u001b[A"
     ]
    },
    {
     "name": "stdout",
     "output_type": "stream",
     "text": [
      "\n",
      "Epoch: 327, Loss: 0.3889, Val: 0.6694, Test: 0.6735\n"
     ]
    },
    {
     "name": "stderr",
     "output_type": "stream",
     "text": [
      "\n",
      "\n",
      "  0%|          | 0/1 [00:00<?, ?it/s]\u001b[A\u001b[A\n",
      "\n",
      "100%|██████████| 1/1 [00:00<00:00,  2.06it/s]\u001b[A\u001b[A\n",
      "\n",
      "  3%|▎         | 328/10000 [03:33<2:18:19,  1.17it/s]\u001b[A"
     ]
    },
    {
     "name": "stdout",
     "output_type": "stream",
     "text": [
      "\n",
      "Epoch: 328, Loss: 0.3889, Val: 0.6696, Test: 0.6734\n"
     ]
    },
    {
     "name": "stderr",
     "output_type": "stream",
     "text": [
      "\n",
      "\n",
      "  0%|          | 0/1 [00:00<?, ?it/s]\u001b[A\u001b[A\n",
      "\n",
      "100%|██████████| 1/1 [00:00<00:00,  1.71it/s]\u001b[A\u001b[A\n",
      "\n",
      "  3%|▎         | 329/10000 [03:34<2:12:13,  1.22it/s]\u001b[A\n",
      "\n",
      "  0%|          | 0/1 [00:00<?, ?it/s]\u001b[A\u001b[A\n",
      "\n",
      "100%|██████████| 1/1 [00:00<00:00,  1.72it/s]\u001b[A\u001b[A\n",
      "\n",
      "  3%|▎         | 330/10000 [03:34<2:04:01,  1.30it/s]\u001b[A\n",
      "\n",
      "  0%|          | 0/1 [00:00<?, ?it/s]\u001b[A\u001b[A\n",
      "\n",
      "100%|██████████| 1/1 [00:00<00:00,  1.97it/s]\u001b[A\u001b[A\n",
      "\n",
      "  3%|▎         | 331/10000 [03:35<1:56:29,  1.38it/s]\u001b[A\n",
      "\n",
      "  0%|          | 0/1 [00:00<?, ?it/s]\u001b[A\u001b[A\n",
      "\n",
      "100%|██████████| 1/1 [00:00<00:00,  1.72it/s]\u001b[A\u001b[A\n",
      "\n",
      "  3%|▎         | 332/10000 [03:36<1:54:14,  1.41it/s]\u001b[A\n",
      "\n",
      "  0%|          | 0/1 [00:00<?, ?it/s]\u001b[A\u001b[A\n",
      "\n",
      "100%|██████████| 1/1 [00:00<00:00,  1.68it/s]\u001b[A\u001b[A\n",
      "\n",
      "  3%|▎         | 333/10000 [03:37<2:02:48,  1.31it/s]\u001b[A"
     ]
    },
    {
     "name": "stdout",
     "output_type": "stream",
     "text": [
      "\n",
      "Epoch: 333, Loss: 0.3888, Val: 0.6697, Test: 0.6749\n"
     ]
    },
    {
     "name": "stderr",
     "output_type": "stream",
     "text": [
      "\n",
      "\n",
      "  0%|          | 0/1 [00:00<?, ?it/s]\u001b[A\u001b[A\n",
      "\n",
      "100%|██████████| 1/1 [00:00<00:00,  1.69it/s]\u001b[A\u001b[A\n",
      "\n",
      "  3%|▎         | 334/10000 [03:37<2:06:11,  1.28it/s]\u001b[A"
     ]
    },
    {
     "name": "stdout",
     "output_type": "stream",
     "text": [
      "\n",
      "Epoch: 334, Loss: 0.3887, Val: 0.6707, Test: 0.6757\n"
     ]
    },
    {
     "name": "stderr",
     "output_type": "stream",
     "text": [
      "\n",
      "\n",
      "  0%|          | 0/1 [00:00<?, ?it/s]\u001b[A\u001b[A\n",
      "\n",
      "100%|██████████| 1/1 [00:00<00:00,  1.37it/s]\u001b[A\u001b[A\n",
      "\n",
      "  3%|▎         | 335/10000 [03:38<2:08:33,  1.25it/s]\u001b[A"
     ]
    },
    {
     "name": "stdout",
     "output_type": "stream",
     "text": [
      "\n",
      "Epoch: 335, Loss: 0.3888, Val: 0.6710, Test: 0.6760\n"
     ]
    },
    {
     "name": "stderr",
     "output_type": "stream",
     "text": [
      "\n",
      "\n",
      "  0%|          | 0/1 [00:00<?, ?it/s]\u001b[A\u001b[A\n",
      "\n",
      "100%|██████████| 1/1 [00:00<00:00,  1.50it/s]\u001b[A\u001b[A\n",
      "\n",
      "  3%|▎         | 336/10000 [03:39<2:07:52,  1.26it/s]\u001b[A\n",
      "\n",
      "  0%|          | 0/1 [00:00<?, ?it/s]\u001b[A\u001b[A\n",
      "\n",
      "100%|██████████| 1/1 [00:00<00:00,  2.16it/s]\u001b[A\u001b[A\n",
      "\n",
      "  3%|▎         | 337/10000 [03:40<1:53:54,  1.41it/s]\u001b[A\n",
      "\n",
      "  0%|          | 0/1 [00:00<?, ?it/s]\u001b[A\u001b[A\n",
      "\n",
      "100%|██████████| 1/1 [00:00<00:00,  2.52it/s]\u001b[A\u001b[A\n",
      "\n",
      "  3%|▎         | 338/10000 [03:40<1:41:22,  1.59it/s]\u001b[A\n",
      "\n",
      "  0%|          | 0/1 [00:00<?, ?it/s]\u001b[A\u001b[A\n",
      "\n",
      "100%|██████████| 1/1 [00:00<00:00,  1.88it/s]\u001b[A\u001b[A\n",
      "\n",
      "  3%|▎         | 339/10000 [03:41<1:40:43,  1.60it/s]\u001b[A\n",
      "\n",
      "  0%|          | 0/1 [00:00<?, ?it/s]\u001b[A\u001b[A\n",
      "\n",
      "100%|██████████| 1/1 [00:00<00:00,  2.85it/s]\u001b[A\u001b[A\n",
      "\n",
      "  3%|▎         | 340/10000 [03:41<1:30:24,  1.78it/s]\u001b[A\n",
      "\n",
      "  0%|          | 0/1 [00:00<?, ?it/s]\u001b[A\u001b[A\n",
      "\n",
      "100%|██████████| 1/1 [00:00<00:00,  2.93it/s]\u001b[A\u001b[A\n",
      "\n",
      "  3%|▎         | 341/10000 [03:42<1:26:47,  1.85it/s]\u001b[A"
     ]
    },
    {
     "name": "stdout",
     "output_type": "stream",
     "text": [
      "\n",
      "Epoch: 341, Loss: 0.3886, Val: 0.6711, Test: 0.6780\n"
     ]
    },
    {
     "name": "stderr",
     "output_type": "stream",
     "text": [
      "\n",
      "\n",
      "  0%|          | 0/1 [00:00<?, ?it/s]\u001b[A\u001b[A\n",
      "\n",
      "100%|██████████| 1/1 [00:00<00:00,  1.90it/s]\u001b[A\u001b[A\n",
      "\n",
      "  3%|▎         | 342/10000 [03:42<1:29:40,  1.79it/s]\u001b[A"
     ]
    },
    {
     "name": "stdout",
     "output_type": "stream",
     "text": [
      "\n",
      "Epoch: 342, Loss: 0.3885, Val: 0.6715, Test: 0.6783\n"
     ]
    },
    {
     "name": "stderr",
     "output_type": "stream",
     "text": [
      "\n",
      "\n",
      "  0%|          | 0/1 [00:00<?, ?it/s]\u001b[A\u001b[A\n",
      "\n",
      "100%|██████████| 1/1 [00:00<00:00,  2.08it/s]\u001b[A\u001b[A\n",
      "\n",
      "  3%|▎         | 343/10000 [03:43<1:32:57,  1.73it/s]\u001b[A"
     ]
    },
    {
     "name": "stdout",
     "output_type": "stream",
     "text": [
      "\n",
      "Epoch: 343, Loss: 0.3887, Val: 0.6723, Test: 0.6784\n"
     ]
    },
    {
     "name": "stderr",
     "output_type": "stream",
     "text": [
      "\n",
      "\n",
      "  0%|          | 0/1 [00:00<?, ?it/s]\u001b[A\u001b[A\n",
      "\n",
      "100%|██████████| 1/1 [00:00<00:00,  1.87it/s]\u001b[A\u001b[A\n",
      "\n",
      "  3%|▎         | 344/10000 [03:43<1:33:32,  1.72it/s]\u001b[A\n",
      "\n",
      "  0%|          | 0/1 [00:00<?, ?it/s]\u001b[A\u001b[A\n",
      "\n",
      "100%|██████████| 1/1 [00:00<00:00,  1.88it/s]\u001b[A\u001b[A\n",
      "\n",
      "  3%|▎         | 345/10000 [03:44<1:35:01,  1.69it/s]\u001b[A\n",
      "\n",
      "  0%|          | 0/1 [00:00<?, ?it/s]\u001b[A\u001b[A\n",
      "\n",
      "100%|██████████| 1/1 [00:00<00:00,  2.39it/s]\u001b[A\u001b[A\n",
      "\n",
      "  3%|▎         | 346/10000 [03:44<1:28:44,  1.81it/s]\u001b[A\n",
      "\n",
      "  0%|          | 0/1 [00:00<?, ?it/s]\u001b[A\u001b[A\n",
      "\n",
      "100%|██████████| 1/1 [00:00<00:00,  2.23it/s]\u001b[A\u001b[A\n",
      "\n",
      "  3%|▎         | 347/10000 [03:45<1:27:21,  1.84it/s]\u001b[A\n",
      "\n",
      "  0%|          | 0/1 [00:00<?, ?it/s]\u001b[A\u001b[A\n",
      "\n",
      "100%|██████████| 1/1 [00:00<00:00,  1.76it/s]\u001b[A\u001b[A\n",
      "\n",
      "  3%|▎         | 348/10000 [03:46<1:31:12,  1.76it/s]\u001b[A\n",
      "\n",
      "  0%|          | 0/1 [00:00<?, ?it/s]\u001b[A\u001b[A\n",
      "\n",
      "100%|██████████| 1/1 [00:00<00:00,  2.18it/s]\u001b[A\u001b[A\n",
      "\n",
      "  3%|▎         | 349/10000 [03:46<1:28:05,  1.83it/s]\u001b[A\n",
      "\n",
      "  0%|          | 0/1 [00:00<?, ?it/s]\u001b[A\u001b[A\n",
      "\n",
      "100%|██████████| 1/1 [00:00<00:00,  1.59it/s]\u001b[A\u001b[A\n",
      "\n",
      "  4%|▎         | 350/10000 [03:47<1:34:18,  1.71it/s]\u001b[A\n",
      "\n",
      "  0%|          | 0/1 [00:00<?, ?it/s]\u001b[A\u001b[A\n",
      "\n",
      "100%|██████████| 1/1 [00:00<00:00,  1.99it/s]\u001b[A\u001b[A\n",
      "\n",
      "  4%|▎         | 351/10000 [03:47<1:38:10,  1.64it/s]\u001b[A"
     ]
    },
    {
     "name": "stdout",
     "output_type": "stream",
     "text": [
      "\n",
      "Epoch: 351, Loss: 0.3885, Val: 0.6727, Test: 0.6796\n"
     ]
    },
    {
     "name": "stderr",
     "output_type": "stream",
     "text": [
      "\n",
      "\n",
      "  0%|          | 0/1 [00:00<?, ?it/s]\u001b[A\u001b[A\n",
      "\n",
      "100%|██████████| 1/1 [00:00<00:00,  1.87it/s]\u001b[A\u001b[A\n"
     ]
    },
    {
     "name": "stdout",
     "output_type": "stream",
     "text": [
      "\n",
      "Epoch: 352, Loss: 0.3889, Val: 0.6739, Test: 0.6793\n"
     ]
    },
    {
     "name": "stderr",
     "output_type": "stream",
     "text": [
      "\n",
      "  4%|▎         | 352/10000 [03:48<1:49:01,  1.47it/s]\u001b[A\n",
      "\n",
      "  0%|          | 0/1 [00:00<?, ?it/s]\u001b[A\u001b[A\n",
      "\n",
      "100%|██████████| 1/1 [00:00<00:00,  1.66it/s]\u001b[A\u001b[A\n",
      "\n",
      "  4%|▎         | 353/10000 [03:49<1:52:58,  1.42it/s]\u001b[A"
     ]
    },
    {
     "name": "stdout",
     "output_type": "stream",
     "text": [
      "\n",
      "Epoch: 353, Loss: 0.3888, Val: 0.6739, Test: 0.6792\n"
     ]
    },
    {
     "name": "stderr",
     "output_type": "stream",
     "text": [
      "\n",
      "\n",
      "  0%|          | 0/1 [00:00<?, ?it/s]\u001b[A\u001b[A\n",
      "\n",
      "100%|██████████| 1/1 [00:00<00:00,  1.42it/s]\u001b[A\u001b[A\n",
      "\n",
      "  4%|▎         | 354/10000 [03:50<2:07:01,  1.27it/s]\u001b[A"
     ]
    },
    {
     "name": "stdout",
     "output_type": "stream",
     "text": [
      "\n",
      "Epoch: 354, Loss: 0.3889, Val: 0.6744, Test: 0.6798\n"
     ]
    },
    {
     "name": "stderr",
     "output_type": "stream",
     "text": [
      "\n",
      "\n",
      "  0%|          | 0/1 [00:00<?, ?it/s]\u001b[A\u001b[A\n",
      "\n",
      "100%|██████████| 1/1 [00:00<00:00,  1.89it/s]\u001b[A\u001b[A\n",
      "\n",
      "  4%|▎         | 355/10000 [03:51<1:57:22,  1.37it/s]\u001b[A\n",
      "\n",
      "  0%|          | 0/1 [00:00<?, ?it/s]\u001b[A\u001b[A\n",
      "\n",
      "100%|██████████| 1/1 [00:00<00:00,  1.68it/s]\u001b[A\u001b[A\n",
      "\n",
      "  4%|▎         | 356/10000 [03:51<1:56:34,  1.38it/s]\u001b[A\n",
      "\n",
      "  0%|          | 0/1 [00:00<?, ?it/s]\u001b[A\u001b[A\n",
      "\n",
      "100%|██████████| 1/1 [00:00<00:00,  1.73it/s]\u001b[A\u001b[A\n",
      "\n",
      "  4%|▎         | 357/10000 [03:52<1:59:27,  1.35it/s]\u001b[A"
     ]
    },
    {
     "name": "stdout",
     "output_type": "stream",
     "text": [
      "\n",
      "Epoch: 357, Loss: 0.3888, Val: 0.6748, Test: 0.6801\n"
     ]
    },
    {
     "name": "stderr",
     "output_type": "stream",
     "text": [
      "\n",
      "\n",
      "  0%|          | 0/1 [00:00<?, ?it/s]\u001b[A\u001b[A\n",
      "\n",
      "100%|██████████| 1/1 [00:00<00:00,  1.47it/s]\u001b[A\u001b[A\n",
      "\n",
      "  4%|▎         | 358/10000 [03:53<1:58:56,  1.35it/s]\u001b[A\n",
      "\n",
      "  0%|          | 0/1 [00:00<?, ?it/s]\u001b[A\u001b[A\n",
      "\n",
      "100%|██████████| 1/1 [00:00<00:00,  1.71it/s]\u001b[A\u001b[A\n",
      "\n",
      "  4%|▎         | 359/10000 [03:54<1:57:40,  1.37it/s]\u001b[A\n",
      "\n",
      "  0%|          | 0/1 [00:00<?, ?it/s]\u001b[A\u001b[A\n",
      "\n",
      "100%|██████████| 1/1 [00:00<00:00,  1.90it/s]\u001b[A\u001b[A\n",
      "\n",
      "  4%|▎         | 360/10000 [03:54<1:58:16,  1.36it/s]\u001b[A"
     ]
    },
    {
     "name": "stdout",
     "output_type": "stream",
     "text": [
      "\n",
      "Epoch: 360, Loss: 0.3886, Val: 0.6748, Test: 0.6817\n"
     ]
    },
    {
     "name": "stderr",
     "output_type": "stream",
     "text": [
      "\n",
      "\n",
      "  0%|          | 0/1 [00:00<?, ?it/s]\u001b[A\u001b[A\n",
      "\n",
      "100%|██████████| 1/1 [00:00<00:00,  1.73it/s]\u001b[A\u001b[A\n",
      "\n",
      "  4%|▎         | 361/10000 [03:55<1:57:44,  1.36it/s]\u001b[A"
     ]
    },
    {
     "name": "stdout",
     "output_type": "stream",
     "text": [
      "\n",
      "Epoch: 361, Loss: 0.3888, Val: 0.6757, Test: 0.6807\n"
     ]
    },
    {
     "name": "stderr",
     "output_type": "stream",
     "text": [
      "\n",
      "\n",
      "  0%|          | 0/1 [00:00<?, ?it/s]\u001b[A\u001b[A\n",
      "\n",
      "100%|██████████| 1/1 [00:00<00:00,  1.49it/s]\u001b[A\u001b[A\n",
      "\n",
      "  4%|▎         | 362/10000 [03:56<2:03:16,  1.30it/s]\u001b[A\n",
      "\n",
      "  0%|          | 0/1 [00:00<?, ?it/s]\u001b[A\u001b[A\n",
      "\n",
      "100%|██████████| 1/1 [00:00<00:00,  1.38it/s]\u001b[A\u001b[A\n",
      "\n",
      "  4%|▎         | 363/10000 [03:57<2:05:25,  1.28it/s]\u001b[A\n",
      "\n",
      "  0%|          | 0/1 [00:00<?, ?it/s]\u001b[A\u001b[A\n",
      "\n",
      "100%|██████████| 1/1 [00:00<00:00,  1.53it/s]\u001b[A\u001b[A\n",
      "\n",
      "  4%|▎         | 364/10000 [03:57<2:02:55,  1.31it/s]\u001b[A"
     ]
    },
    {
     "name": "stdout",
     "output_type": "stream",
     "text": [
      "\n",
      "Epoch: 364, Loss: 0.3882, Val: 0.6758, Test: 0.6810\n"
     ]
    },
    {
     "name": "stderr",
     "output_type": "stream",
     "text": [
      "\n",
      "\n",
      "  0%|          | 0/1 [00:00<?, ?it/s]\u001b[A\u001b[A\n",
      "\n",
      "100%|██████████| 1/1 [00:00<00:00,  1.68it/s]\u001b[A\u001b[A\n",
      "\n",
      "  4%|▎         | 365/10000 [03:58<2:01:33,  1.32it/s]\u001b[A"
     ]
    },
    {
     "name": "stdout",
     "output_type": "stream",
     "text": [
      "\n",
      "Epoch: 365, Loss: 0.3888, Val: 0.6766, Test: 0.6813\n"
     ]
    },
    {
     "name": "stderr",
     "output_type": "stream",
     "text": [
      "\n",
      "\n",
      "  0%|          | 0/1 [00:00<?, ?it/s]\u001b[A\u001b[A\n",
      "\n",
      "100%|██████████| 1/1 [00:00<00:00,  1.92it/s]\u001b[A\u001b[A\n",
      "\n",
      "  4%|▎         | 366/10000 [03:59<1:54:37,  1.40it/s]\u001b[A"
     ]
    },
    {
     "name": "stdout",
     "output_type": "stream",
     "text": [
      "\n",
      "Epoch: 366, Loss: 0.3883, Val: 0.6771, Test: 0.6819\n"
     ]
    },
    {
     "name": "stderr",
     "output_type": "stream",
     "text": [
      "\n",
      "\n",
      "  0%|          | 0/1 [00:00<?, ?it/s]\u001b[A\u001b[A\n",
      "\n",
      "100%|██████████| 1/1 [00:00<00:00,  1.71it/s]\u001b[A\u001b[A\n",
      "\n",
      "  4%|▎         | 367/10000 [03:59<1:55:33,  1.39it/s]\u001b[A"
     ]
    },
    {
     "name": "stdout",
     "output_type": "stream",
     "text": [
      "\n",
      "Epoch: 367, Loss: 0.3886, Val: 0.6773, Test: 0.6821\n"
     ]
    },
    {
     "name": "stderr",
     "output_type": "stream",
     "text": [
      "\n",
      "\n",
      "  0%|          | 0/1 [00:00<?, ?it/s]\u001b[A\u001b[A\n",
      "\n",
      "100%|██████████| 1/1 [00:00<00:00,  1.97it/s]\u001b[A\u001b[A\n",
      "\n",
      "  4%|▎         | 368/10000 [04:00<1:47:22,  1.50it/s]\u001b[A\n",
      "\n",
      "  0%|          | 0/1 [00:00<?, ?it/s]\u001b[A\u001b[A\n",
      "\n",
      "100%|██████████| 1/1 [00:00<00:00,  2.08it/s]\u001b[A\u001b[A\n",
      "\n",
      "  4%|▎         | 369/10000 [04:01<1:40:33,  1.60it/s]\u001b[A\n",
      "\n",
      "  0%|          | 0/1 [00:00<?, ?it/s]\u001b[A\u001b[A\n",
      "\n",
      "100%|██████████| 1/1 [00:00<00:00,  1.85it/s]\u001b[A\u001b[A\n",
      "\n",
      "  4%|▎         | 370/10000 [04:01<1:38:24,  1.63it/s]\u001b[A\n",
      "\n",
      "  0%|          | 0/1 [00:00<?, ?it/s]\u001b[A\u001b[A\n",
      "\n",
      "100%|██████████| 1/1 [00:00<00:00,  1.66it/s]\u001b[A\u001b[A\n",
      "\n",
      "  4%|▎         | 371/10000 [04:02<1:40:38,  1.59it/s]\u001b[A\n",
      "\n",
      "  0%|          | 0/1 [00:00<?, ?it/s]\u001b[A\u001b[A\n",
      "\n",
      "100%|██████████| 1/1 [00:00<00:00,  2.26it/s]\u001b[A\u001b[A\n",
      "\n",
      "  4%|▎         | 372/10000 [04:02<1:33:45,  1.71it/s]\u001b[A\n",
      "\n",
      "  0%|          | 0/1 [00:00<?, ?it/s]\u001b[A\u001b[A\n",
      "\n",
      "100%|██████████| 1/1 [00:00<00:00,  1.32it/s]\u001b[A\u001b[A\n",
      "\n",
      "  4%|▎         | 373/10000 [04:03<1:46:29,  1.51it/s]\u001b[A\n",
      "\n",
      "  0%|          | 0/1 [00:00<?, ?it/s]\u001b[A\u001b[A\n",
      "\n",
      "100%|██████████| 1/1 [00:00<00:00,  2.87it/s]\u001b[A\u001b[A\n",
      "\n",
      "  4%|▎         | 374/10000 [04:04<1:33:02,  1.72it/s]\u001b[A\n",
      "\n",
      "  0%|          | 0/1 [00:00<?, ?it/s]\u001b[A\u001b[A\n",
      "\n",
      "100%|██████████| 1/1 [00:00<00:00,  1.59it/s]\u001b[A\u001b[A\n",
      "\n",
      "  4%|▍         | 375/10000 [04:04<1:46:44,  1.50it/s]\u001b[A"
     ]
    },
    {
     "name": "stdout",
     "output_type": "stream",
     "text": [
      "\n",
      "Epoch: 375, Loss: 0.3888, Val: 0.6773, Test: 0.6836\n"
     ]
    },
    {
     "name": "stderr",
     "output_type": "stream",
     "text": [
      "\n",
      "\n",
      "  0%|          | 0/1 [00:00<?, ?it/s]\u001b[A\u001b[A\n",
      "\n",
      "100%|██████████| 1/1 [00:00<00:00,  2.29it/s]\u001b[A\u001b[A\n",
      "\n",
      "  4%|▍         | 376/10000 [04:05<1:44:47,  1.53it/s]\u001b[A"
     ]
    },
    {
     "name": "stdout",
     "output_type": "stream",
     "text": [
      "\n",
      "Epoch: 376, Loss: 0.3882, Val: 0.6781, Test: 0.6839\n"
     ]
    },
    {
     "name": "stderr",
     "output_type": "stream",
     "text": [
      "\n",
      "\n",
      "  0%|          | 0/1 [00:00<?, ?it/s]\u001b[A\u001b[A\n",
      "\n",
      "100%|██████████| 1/1 [00:00<00:00,  1.48it/s]\u001b[A\u001b[A\n",
      "\n",
      "  4%|▍         | 377/10000 [04:06<1:48:49,  1.47it/s]\u001b[A\n",
      "\n",
      "  0%|          | 0/1 [00:00<?, ?it/s]\u001b[A\u001b[A\n",
      "\n",
      "100%|██████████| 1/1 [00:00<00:00,  1.64it/s]\u001b[A\u001b[A\n",
      "\n",
      "  4%|▍         | 378/10000 [04:07<1:57:31,  1.36it/s]\u001b[A"
     ]
    },
    {
     "name": "stdout",
     "output_type": "stream",
     "text": [
      "\n",
      "Epoch: 378, Loss: 0.3882, Val: 0.6783, Test: 0.6846\n"
     ]
    },
    {
     "name": "stderr",
     "output_type": "stream",
     "text": [
      "\n",
      "\n",
      "  0%|          | 0/1 [00:00<?, ?it/s]\u001b[A\u001b[A\n",
      "\n",
      "100%|██████████| 1/1 [00:00<00:00,  1.62it/s]\u001b[A\u001b[A\n",
      "\n",
      "  4%|▍         | 379/10000 [04:07<1:55:57,  1.38it/s]\u001b[A"
     ]
    },
    {
     "name": "stdout",
     "output_type": "stream",
     "text": [
      "\n",
      "Epoch: 379, Loss: 0.3883, Val: 0.6789, Test: 0.6851\n"
     ]
    },
    {
     "name": "stderr",
     "output_type": "stream",
     "text": [
      "\n",
      "\n",
      "  0%|          | 0/1 [00:00<?, ?it/s]\u001b[A\u001b[A\n",
      "\n",
      "100%|██████████| 1/1 [00:00<00:00,  1.62it/s]\u001b[A\u001b[A\n",
      "\n",
      "  4%|▍         | 380/10000 [04:08<1:55:29,  1.39it/s]\u001b[A\n",
      "\n",
      "  0%|          | 0/1 [00:00<?, ?it/s]\u001b[A\u001b[A\n",
      "\n",
      "100%|██████████| 1/1 [00:00<00:00,  2.07it/s]\u001b[A\u001b[A\n",
      "\n",
      "  4%|▍         | 381/10000 [04:09<1:48:31,  1.48it/s]\u001b[A\n",
      "\n",
      "  0%|          | 0/1 [00:00<?, ?it/s]\u001b[A\u001b[A\n",
      "\n",
      "100%|██████████| 1/1 [00:00<00:00,  1.25it/s]\u001b[A\u001b[A\n",
      "\n",
      "  4%|▍         | 382/10000 [04:10<2:02:48,  1.31it/s]\u001b[A"
     ]
    },
    {
     "name": "stdout",
     "output_type": "stream",
     "text": [
      "\n",
      "Epoch: 382, Loss: 0.3889, Val: 0.6789, Test: 0.6858\n"
     ]
    },
    {
     "name": "stderr",
     "output_type": "stream",
     "text": [
      "\n",
      "\n",
      "  0%|          | 0/1 [00:00<?, ?it/s]\u001b[A\u001b[A\n",
      "\n",
      "100%|██████████| 1/1 [00:00<00:00,  2.10it/s]\u001b[A\u001b[A\n",
      "\n",
      "  4%|▍         | 383/10000 [04:10<1:59:53,  1.34it/s]\u001b[A"
     ]
    },
    {
     "name": "stdout",
     "output_type": "stream",
     "text": [
      "\n",
      "Epoch: 383, Loss: 0.3883, Val: 0.6794, Test: 0.6866\n"
     ]
    },
    {
     "name": "stderr",
     "output_type": "stream",
     "text": [
      "\n",
      "\n",
      "  0%|          | 0/1 [00:00<?, ?it/s]\u001b[A\u001b[A\n",
      "\n",
      "100%|██████████| 1/1 [00:00<00:00,  1.67it/s]\u001b[A\u001b[A\n",
      "\n",
      "  4%|▍         | 384/10000 [04:11<1:55:09,  1.39it/s]\u001b[A\n",
      "\n",
      "  0%|          | 0/1 [00:00<?, ?it/s]\u001b[A\u001b[A\n",
      "\n",
      "100%|██████████| 1/1 [00:00<00:00,  1.43it/s]\u001b[A\u001b[A\n",
      "\n",
      "  4%|▍         | 385/10000 [04:12<2:04:16,  1.29it/s]\u001b[A"
     ]
    },
    {
     "name": "stdout",
     "output_type": "stream",
     "text": [
      "\n",
      "Epoch: 385, Loss: 0.3882, Val: 0.6796, Test: 0.6866\n"
     ]
    },
    {
     "name": "stderr",
     "output_type": "stream",
     "text": [
      "\n",
      "\n",
      "  0%|          | 0/1 [00:00<?, ?it/s]\u001b[A\u001b[A\n",
      "\n",
      "100%|██████████| 1/1 [00:00<00:00,  1.70it/s]\u001b[A\u001b[A\n",
      "\n",
      "  4%|▍         | 386/10000 [04:13<2:02:50,  1.30it/s]\u001b[A"
     ]
    },
    {
     "name": "stdout",
     "output_type": "stream",
     "text": [
      "\n",
      "Epoch: 386, Loss: 0.3886, Val: 0.6798, Test: 0.6869\n"
     ]
    },
    {
     "name": "stderr",
     "output_type": "stream",
     "text": [
      "\n",
      "\n",
      "  0%|          | 0/1 [00:00<?, ?it/s]\u001b[A\u001b[A\n",
      "\n",
      "100%|██████████| 1/1 [00:00<00:00,  1.87it/s]\u001b[A\u001b[A\n",
      "\n",
      "  4%|▍         | 387/10000 [04:13<1:53:42,  1.41it/s]\u001b[A\n",
      "\n",
      "  0%|          | 0/1 [00:00<?, ?it/s]\u001b[A\u001b[A\n",
      "\n",
      "100%|██████████| 1/1 [00:00<00:00,  1.43it/s]\u001b[A\u001b[A\n",
      "\n",
      "  4%|▍         | 388/10000 [04:14<2:03:08,  1.30it/s]\u001b[A"
     ]
    },
    {
     "name": "stdout",
     "output_type": "stream",
     "text": [
      "\n",
      "Epoch: 388, Loss: 0.3887, Val: 0.6802, Test: 0.6867\n"
     ]
    },
    {
     "name": "stderr",
     "output_type": "stream",
     "text": [
      "\n",
      "\n",
      "  0%|          | 0/1 [00:00<?, ?it/s]\u001b[A\u001b[A\n",
      "\n",
      "100%|██████████| 1/1 [00:00<00:00,  1.50it/s]\u001b[A\u001b[A\n"
     ]
    },
    {
     "name": "stdout",
     "output_type": "stream",
     "text": [
      "\n",
      "Epoch: 389, Loss: 0.3890, Val: 0.6806, Test: 0.6872\n"
     ]
    },
    {
     "name": "stderr",
     "output_type": "stream",
     "text": [
      "\n",
      "  4%|▍         | 389/10000 [04:15<2:14:48,  1.19it/s]\u001b[A\n",
      "\n",
      "  0%|          | 0/1 [00:00<?, ?it/s]\u001b[A\u001b[A\n",
      "\n",
      "100%|██████████| 1/1 [00:00<00:00,  1.58it/s]\u001b[A\u001b[A\n",
      "\n",
      "  4%|▍         | 390/10000 [04:16<2:12:07,  1.21it/s]\u001b[A"
     ]
    },
    {
     "name": "stdout",
     "output_type": "stream",
     "text": [
      "\n",
      "Epoch: 390, Loss: 0.3888, Val: 0.6812, Test: 0.6882\n"
     ]
    },
    {
     "name": "stderr",
     "output_type": "stream",
     "text": [
      "\n",
      "\n",
      "  0%|          | 0/1 [00:00<?, ?it/s]\u001b[A\u001b[A\n",
      "\n",
      "100%|██████████| 1/1 [00:00<00:00,  1.43it/s]\u001b[A\u001b[A\n",
      "\n",
      "  4%|▍         | 391/10000 [04:17<2:10:10,  1.23it/s]\u001b[A"
     ]
    },
    {
     "name": "stdout",
     "output_type": "stream",
     "text": [
      "\n",
      "Epoch: 391, Loss: 0.3881, Val: 0.6813, Test: 0.6884\n"
     ]
    },
    {
     "name": "stderr",
     "output_type": "stream",
     "text": [
      "\n",
      "\n",
      "  0%|          | 0/1 [00:00<?, ?it/s]\u001b[A\u001b[A\n",
      "\n",
      "100%|██████████| 1/1 [00:00<00:00,  1.99it/s]\u001b[A\u001b[A\n",
      "\n",
      "  4%|▍         | 392/10000 [04:17<2:05:14,  1.28it/s]\u001b[A"
     ]
    },
    {
     "name": "stdout",
     "output_type": "stream",
     "text": [
      "\n",
      "Epoch: 392, Loss: 0.3881, Val: 0.6816, Test: 0.6887\n"
     ]
    },
    {
     "name": "stderr",
     "output_type": "stream",
     "text": [
      "\n",
      "\n",
      "  0%|          | 0/1 [00:00<?, ?it/s]\u001b[A\u001b[A\n",
      "\n",
      "100%|██████████| 1/1 [00:00<00:00,  1.43it/s]\u001b[A\u001b[A\n",
      "\n",
      "  4%|▍         | 393/10000 [04:18<2:20:24,  1.14it/s]\u001b[A"
     ]
    },
    {
     "name": "stdout",
     "output_type": "stream",
     "text": [
      "\n",
      "Epoch: 393, Loss: 0.3885, Val: 0.6818, Test: 0.6889\n"
     ]
    },
    {
     "name": "stderr",
     "output_type": "stream",
     "text": [
      "\n",
      "\n",
      "  0%|          | 0/1 [00:00<?, ?it/s]\u001b[A\u001b[A\n",
      "\n",
      "100%|██████████| 1/1 [00:00<00:00,  1.38it/s]\u001b[A\u001b[A\n",
      "\n",
      "  4%|▍         | 394/10000 [04:19<2:21:12,  1.13it/s]\u001b[A\n",
      "\n",
      "  0%|          | 0/1 [00:00<?, ?it/s]\u001b[A\u001b[A\n",
      "\n",
      "100%|██████████| 1/1 [00:00<00:00,  1.87it/s]\u001b[A\u001b[A\n",
      "\n",
      "  4%|▍         | 395/10000 [04:20<2:10:20,  1.23it/s]\u001b[A"
     ]
    },
    {
     "name": "stdout",
     "output_type": "stream",
     "text": [
      "\n",
      "Epoch: 395, Loss: 0.3883, Val: 0.6818, Test: 0.6890\n"
     ]
    },
    {
     "name": "stderr",
     "output_type": "stream",
     "text": [
      "\n",
      "\n",
      "  0%|          | 0/1 [00:00<?, ?it/s]\u001b[A\u001b[A\n",
      "\n",
      "100%|██████████| 1/1 [00:00<00:00,  1.20it/s]\u001b[A\u001b[A\n",
      "\n",
      "  4%|▍         | 396/10000 [04:21<2:15:07,  1.18it/s]\u001b[A"
     ]
    },
    {
     "name": "stdout",
     "output_type": "stream",
     "text": [
      "\n",
      "Epoch: 396, Loss: 0.3880, Val: 0.6819, Test: 0.6885\n"
     ]
    },
    {
     "name": "stderr",
     "output_type": "stream",
     "text": [
      "\n",
      "\n",
      "  0%|          | 0/1 [00:00<?, ?it/s]\u001b[A\u001b[A\n",
      "\n",
      "100%|██████████| 1/1 [00:00<00:00,  1.85it/s]\u001b[A\u001b[A\n",
      "\n",
      "  4%|▍         | 397/10000 [04:22<2:06:44,  1.26it/s]\u001b[A\n",
      "\n",
      "  0%|          | 0/1 [00:00<?, ?it/s]\u001b[A\u001b[A\n",
      "\n",
      "100%|██████████| 1/1 [00:00<00:00,  1.74it/s]\u001b[A\u001b[A\n",
      "\n",
      "  4%|▍         | 398/10000 [04:22<2:11:01,  1.22it/s]\u001b[A"
     ]
    },
    {
     "name": "stdout",
     "output_type": "stream",
     "text": [
      "\n",
      "Epoch: 398, Loss: 0.3882, Val: 0.6823, Test: 0.6901\n"
     ]
    },
    {
     "name": "stderr",
     "output_type": "stream",
     "text": [
      "\n",
      "\n",
      "  0%|          | 0/1 [00:00<?, ?it/s]\u001b[A\u001b[A\n",
      "\n",
      "100%|██████████| 1/1 [00:00<00:00,  1.75it/s]\u001b[A\u001b[A\n",
      "\n",
      "  4%|▍         | 399/10000 [04:23<2:13:31,  1.20it/s]\u001b[A"
     ]
    },
    {
     "name": "stdout",
     "output_type": "stream",
     "text": [
      "\n",
      "Epoch: 399, Loss: 0.3881, Val: 0.6823, Test: 0.6904\n"
     ]
    },
    {
     "name": "stderr",
     "output_type": "stream",
     "text": [
      "\n",
      "\n",
      "  0%|          | 0/1 [00:00<?, ?it/s]\u001b[A\u001b[A\n",
      "\n",
      "100%|██████████| 1/1 [00:00<00:00,  1.87it/s]\u001b[A\u001b[A\n",
      "\n",
      "  4%|▍         | 400/10000 [04:24<2:07:10,  1.26it/s]\u001b[A"
     ]
    },
    {
     "name": "stdout",
     "output_type": "stream",
     "text": [
      "\n",
      "Epoch: 400, Loss: 0.3886, Val: 0.6824, Test: 0.6908\n"
     ]
    },
    {
     "name": "stderr",
     "output_type": "stream",
     "text": [
      "\n",
      "\n",
      "  0%|          | 0/1 [00:00<?, ?it/s]\u001b[A\u001b[A\n",
      "\n",
      "100%|██████████| 1/1 [00:00<00:00,  1.31it/s]\u001b[A\u001b[A\n",
      "\n",
      "  4%|▍         | 401/10000 [04:25<2:15:22,  1.18it/s]\u001b[A"
     ]
    },
    {
     "name": "stdout",
     "output_type": "stream",
     "text": [
      "\n",
      "Epoch: 401, Loss: 0.3885, Val: 0.6830, Test: 0.6906\n"
     ]
    },
    {
     "name": "stderr",
     "output_type": "stream",
     "text": [
      "\n",
      "\n",
      "  0%|          | 0/1 [00:00<?, ?it/s]\u001b[A\u001b[A\n",
      "\n",
      "100%|██████████| 1/1 [00:00<00:00,  2.13it/s]\u001b[A\u001b[A\n",
      "\n",
      "  4%|▍         | 402/10000 [04:26<2:00:58,  1.32it/s]\u001b[A"
     ]
    },
    {
     "name": "stdout",
     "output_type": "stream",
     "text": [
      "\n",
      "Epoch: 402, Loss: 0.3879, Val: 0.6832, Test: 0.6905\n"
     ]
    },
    {
     "name": "stderr",
     "output_type": "stream",
     "text": [
      "\n",
      "\n",
      "  0%|          | 0/1 [00:00<?, ?it/s]\u001b[A\u001b[A\n",
      "\n",
      "100%|██████████| 1/1 [00:00<00:00,  1.55it/s]\u001b[A\u001b[A\n",
      "\n",
      "  4%|▍         | 403/10000 [04:26<2:03:28,  1.30it/s]\u001b[A\n",
      "\n",
      "  0%|          | 0/1 [00:00<?, ?it/s]\u001b[A\u001b[A\n",
      "\n",
      "100%|██████████| 1/1 [00:00<00:00,  1.75it/s]\u001b[A\u001b[A\n",
      "\n",
      "  4%|▍         | 404/10000 [04:27<1:58:44,  1.35it/s]\u001b[A"
     ]
    },
    {
     "name": "stdout",
     "output_type": "stream",
     "text": [
      "\n",
      "Epoch: 404, Loss: 0.3879, Val: 0.6837, Test: 0.6908\n"
     ]
    },
    {
     "name": "stderr",
     "output_type": "stream",
     "text": [
      "\n",
      "\n",
      "  0%|          | 0/1 [00:00<?, ?it/s]\u001b[A\u001b[A\n",
      "\n",
      "100%|██████████| 1/1 [00:00<00:00,  2.86it/s]\u001b[A\u001b[A\n",
      "\n",
      "  4%|▍         | 405/10000 [04:27<1:42:44,  1.56it/s]\u001b[A\n",
      "\n",
      "  0%|          | 0/1 [00:00<?, ?it/s]\u001b[A\u001b[A\n",
      "\n",
      "100%|██████████| 1/1 [00:00<00:00,  1.78it/s]\u001b[A\u001b[A\n",
      "\n",
      "  4%|▍         | 406/10000 [04:28<1:41:29,  1.58it/s]\u001b[A\n",
      "\n",
      "  0%|          | 0/1 [00:00<?, ?it/s]\u001b[A\u001b[A\n",
      "\n",
      "100%|██████████| 1/1 [00:00<00:00,  1.48it/s]\u001b[A\u001b[A\n",
      "\n",
      "  4%|▍         | 407/10000 [04:29<1:48:42,  1.47it/s]\u001b[A\n",
      "\n",
      "  0%|          | 0/1 [00:00<?, ?it/s]\u001b[A\u001b[A\n",
      "\n",
      "100%|██████████| 1/1 [00:00<00:00,  1.14it/s]\u001b[A\u001b[A\n",
      "\n",
      "  4%|▍         | 408/10000 [04:30<2:03:15,  1.30it/s]\u001b[A\n",
      "\n",
      "  0%|          | 0/1 [00:00<?, ?it/s]\u001b[A\u001b[A\n",
      "\n",
      "100%|██████████| 1/1 [00:00<00:00,  1.81it/s]\u001b[A\u001b[A\n",
      "\n",
      "  4%|▍         | 409/10000 [04:31<2:02:14,  1.31it/s]\u001b[A\n",
      "\n",
      "  0%|          | 0/1 [00:00<?, ?it/s]\u001b[A\u001b[A\n",
      "\n",
      "100%|██████████| 1/1 [00:00<00:00,  1.54it/s]\u001b[A\u001b[A\n",
      "\n",
      "  4%|▍         | 410/10000 [04:31<2:00:18,  1.33it/s]\u001b[A\n",
      "\n",
      "  0%|          | 0/1 [00:00<?, ?it/s]\u001b[A\u001b[A\n",
      "\n",
      "100%|██████████| 1/1 [00:00<00:00,  1.85it/s]\u001b[A\u001b[A\n",
      "\n",
      "  4%|▍         | 411/10000 [04:32<2:03:22,  1.30it/s]\u001b[A"
     ]
    },
    {
     "name": "stdout",
     "output_type": "stream",
     "text": [
      "\n",
      "Epoch: 411, Loss: 0.3886, Val: 0.6838, Test: 0.6909\n"
     ]
    },
    {
     "name": "stderr",
     "output_type": "stream",
     "text": [
      "\n",
      "\n",
      "  0%|          | 0/1 [00:00<?, ?it/s]\u001b[A\u001b[A\n",
      "\n",
      "100%|██████████| 1/1 [00:00<00:00,  1.56it/s]\u001b[A\u001b[A\n",
      "\n",
      "  4%|▍         | 412/10000 [04:33<2:04:42,  1.28it/s]\u001b[A\n",
      "\n",
      "  0%|          | 0/1 [00:00<?, ?it/s]\u001b[A\u001b[A\n",
      "\n",
      "100%|██████████| 1/1 [00:00<00:00,  1.52it/s]\u001b[A\u001b[A\n",
      "\n",
      "  4%|▍         | 413/10000 [04:34<2:00:35,  1.32it/s]\u001b[A\n",
      "\n",
      "  0%|          | 0/1 [00:00<?, ?it/s]\u001b[A\u001b[A\n",
      "\n",
      "100%|██████████| 1/1 [00:00<00:00,  1.99it/s]\u001b[A\u001b[A\n",
      "\n",
      "  4%|▍         | 414/10000 [04:34<1:50:43,  1.44it/s]\u001b[A\n",
      "\n",
      "  0%|          | 0/1 [00:00<?, ?it/s]\u001b[A\u001b[A\n",
      "\n",
      "100%|██████████| 1/1 [00:00<00:00,  1.55it/s]\u001b[A\u001b[A\n",
      "\n",
      "  4%|▍         | 415/10000 [04:35<1:53:35,  1.41it/s]\u001b[A\n",
      "\n",
      "  0%|          | 0/1 [00:00<?, ?it/s]\u001b[A\u001b[A\n",
      "\n",
      "100%|██████████| 1/1 [00:00<00:00,  1.49it/s]\u001b[A\u001b[A\n",
      "\n",
      "  4%|▍         | 416/10000 [04:36<1:55:59,  1.38it/s]\u001b[A\n",
      "\n",
      "  0%|          | 0/1 [00:00<?, ?it/s]\u001b[A\u001b[A\n",
      "\n",
      "100%|██████████| 1/1 [00:00<00:00,  2.03it/s]\u001b[A\u001b[A\n",
      "\n",
      "  4%|▍         | 417/10000 [04:36<1:50:23,  1.45it/s]\u001b[A\n",
      "\n",
      "  0%|          | 0/1 [00:00<?, ?it/s]\u001b[A\u001b[A\n",
      "\n",
      "100%|██████████| 1/1 [00:00<00:00,  1.96it/s]\u001b[A\u001b[A\n",
      "\n",
      "  4%|▍         | 418/10000 [04:37<1:46:09,  1.50it/s]\u001b[A\n",
      "\n",
      "  0%|          | 0/1 [00:00<?, ?it/s]\u001b[A\u001b[A\n",
      "\n",
      "100%|██████████| 1/1 [00:00<00:00,  1.29it/s]\u001b[A\u001b[A\n",
      "\n",
      "  4%|▍         | 419/10000 [04:38<1:58:23,  1.35it/s]\u001b[A"
     ]
    },
    {
     "name": "stdout",
     "output_type": "stream",
     "text": [
      "\n",
      "Epoch: 419, Loss: 0.3882, Val: 0.6839, Test: 0.6918\n"
     ]
    },
    {
     "name": "stderr",
     "output_type": "stream",
     "text": [
      "\n",
      "\n",
      "  0%|          | 0/1 [00:00<?, ?it/s]\u001b[A\u001b[A\n",
      "\n",
      "100%|██████████| 1/1 [00:00<00:00,  1.52it/s]\u001b[A\u001b[A\n",
      "\n",
      "  4%|▍         | 420/10000 [04:39<1:59:24,  1.34it/s]\u001b[A\n",
      "\n",
      "  0%|          | 0/1 [00:00<?, ?it/s]\u001b[A\u001b[A\n",
      "\n",
      "100%|██████████| 1/1 [00:00<00:00,  1.70it/s]\u001b[A\u001b[A\n",
      "\n",
      "  4%|▍         | 421/10000 [04:39<2:00:38,  1.32it/s]\u001b[A\n",
      "\n",
      "  0%|          | 0/1 [00:00<?, ?it/s]\u001b[A\u001b[A\n",
      "\n",
      "100%|██████████| 1/1 [00:00<00:00,  1.59it/s]\u001b[A\u001b[A\n",
      "\n",
      "  4%|▍         | 422/10000 [04:40<2:01:57,  1.31it/s]\u001b[A"
     ]
    },
    {
     "name": "stdout",
     "output_type": "stream",
     "text": [
      "\n",
      "Epoch: 422, Loss: 0.3884, Val: 0.6842, Test: 0.6914\n"
     ]
    },
    {
     "name": "stderr",
     "output_type": "stream",
     "text": [
      "\n",
      "\n",
      "  0%|          | 0/1 [00:00<?, ?it/s]\u001b[A\u001b[A\n",
      "\n",
      "100%|██████████| 1/1 [00:00<00:00,  1.58it/s]\u001b[A\u001b[A\n",
      "\n",
      "  4%|▍         | 423/10000 [04:41<1:59:04,  1.34it/s]\u001b[A\n",
      "\n",
      "  0%|          | 0/1 [00:00<?, ?it/s]\u001b[A\u001b[A\n",
      "\n",
      "100%|██████████| 1/1 [00:00<00:00,  1.71it/s]\u001b[A\u001b[A\n",
      "\n",
      "  4%|▍         | 424/10000 [04:41<1:53:28,  1.41it/s]\u001b[A\n",
      "\n",
      "  0%|          | 0/1 [00:00<?, ?it/s]\u001b[A\u001b[A\n",
      "\n",
      "100%|██████████| 1/1 [00:00<00:00,  2.21it/s]\u001b[A\u001b[A\n",
      "\n",
      "  4%|▍         | 425/10000 [04:42<1:47:24,  1.49it/s]\u001b[A"
     ]
    },
    {
     "name": "stdout",
     "output_type": "stream",
     "text": [
      "\n",
      "Epoch: 425, Loss: 0.3884, Val: 0.6847, Test: 0.6930\n"
     ]
    },
    {
     "name": "stderr",
     "output_type": "stream",
     "text": [
      "\n",
      "\n",
      "  0%|          | 0/1 [00:00<?, ?it/s]\u001b[A\u001b[A\n",
      "\n",
      "100%|██████████| 1/1 [00:00<00:00,  1.57it/s]\u001b[A\u001b[A\n",
      "\n",
      "  4%|▍         | 426/10000 [04:43<1:58:19,  1.35it/s]\u001b[A"
     ]
    },
    {
     "name": "stdout",
     "output_type": "stream",
     "text": [
      "\n",
      "Epoch: 426, Loss: 0.3881, Val: 0.6848, Test: 0.6929\n"
     ]
    },
    {
     "name": "stderr",
     "output_type": "stream",
     "text": [
      "\n",
      "\n",
      "  0%|          | 0/1 [00:00<?, ?it/s]\u001b[A\u001b[A\n",
      "\n",
      "100%|██████████| 1/1 [00:00<00:00,  1.51it/s]\u001b[A\u001b[A\n",
      "\n",
      "  4%|▍         | 427/10000 [04:44<2:14:56,  1.18it/s]\u001b[A"
     ]
    },
    {
     "name": "stdout",
     "output_type": "stream",
     "text": [
      "\n",
      "Epoch: 427, Loss: 0.3881, Val: 0.6852, Test: 0.6926\n"
     ]
    },
    {
     "name": "stderr",
     "output_type": "stream",
     "text": [
      "\n",
      "\n",
      "  0%|          | 0/1 [00:00<?, ?it/s]\u001b[A\u001b[A\n",
      "\n",
      "100%|██████████| 1/1 [00:00<00:00,  1.92it/s]\u001b[A\u001b[A\n",
      "\n",
      "  4%|▍         | 428/10000 [04:45<2:03:19,  1.29it/s]\u001b[A"
     ]
    },
    {
     "name": "stdout",
     "output_type": "stream",
     "text": [
      "\n",
      "Epoch: 428, Loss: 0.3883, Val: 0.6853, Test: 0.6931\n"
     ]
    },
    {
     "name": "stderr",
     "output_type": "stream",
     "text": [
      "\n",
      "\n",
      "  0%|          | 0/1 [00:00<?, ?it/s]\u001b[A\u001b[A\n",
      "\n",
      "100%|██████████| 1/1 [00:00<00:00,  1.77it/s]\u001b[A\u001b[A\n",
      "\n",
      "  4%|▍         | 429/10000 [04:45<1:58:57,  1.34it/s]\u001b[A"
     ]
    },
    {
     "name": "stdout",
     "output_type": "stream",
     "text": [
      "\n",
      "Epoch: 429, Loss: 0.3886, Val: 0.6856, Test: 0.6925\n"
     ]
    },
    {
     "name": "stderr",
     "output_type": "stream",
     "text": [
      "\n",
      "\n",
      "  0%|          | 0/1 [00:00<?, ?it/s]\u001b[A\u001b[A\n",
      "\n",
      "100%|██████████| 1/1 [00:00<00:00,  1.75it/s]\u001b[A\u001b[A\n",
      "\n",
      "  4%|▍         | 430/10000 [04:46<1:55:22,  1.38it/s]\u001b[A\n",
      "\n",
      "  0%|          | 0/1 [00:00<?, ?it/s]\u001b[A\u001b[A\n",
      "\n",
      "100%|██████████| 1/1 [00:00<00:00,  1.71it/s]\u001b[A\u001b[A\n",
      "\n",
      "  4%|▍         | 431/10000 [04:47<1:51:08,  1.44it/s]\u001b[A\n",
      "\n",
      "  0%|          | 0/1 [00:00<?, ?it/s]\u001b[A\u001b[A\n",
      "\n",
      "100%|██████████| 1/1 [00:00<00:00,  1.39it/s]\u001b[A\u001b[A\n",
      "\n",
      "  4%|▍         | 432/10000 [04:48<2:01:16,  1.31it/s]\u001b[A\n",
      "\n",
      "  0%|          | 0/1 [00:00<?, ?it/s]\u001b[A\u001b[A\n",
      "\n",
      "100%|██████████| 1/1 [00:00<00:00,  2.05it/s]\u001b[A\u001b[A\n",
      "\n",
      "  4%|▍         | 433/10000 [04:48<1:51:58,  1.42it/s]\u001b[A\n",
      "\n",
      "  0%|          | 0/1 [00:00<?, ?it/s]\u001b[A\u001b[A\n",
      "\n",
      "100%|██████████| 1/1 [00:00<00:00,  1.70it/s]\u001b[A\u001b[A\n",
      "\n",
      "  4%|▍         | 434/10000 [04:49<1:52:28,  1.42it/s]\u001b[A"
     ]
    },
    {
     "name": "stdout",
     "output_type": "stream",
     "text": [
      "\n",
      "Epoch: 434, Loss: 0.3879, Val: 0.6858, Test: 0.6937\n"
     ]
    },
    {
     "name": "stderr",
     "output_type": "stream",
     "text": [
      "\n",
      "\n",
      "  0%|          | 0/1 [00:00<?, ?it/s]\u001b[A\u001b[A\n",
      "\n",
      "100%|██████████| 1/1 [00:00<00:00,  2.04it/s]\u001b[A\u001b[A\n"
     ]
    },
    {
     "name": "stdout",
     "output_type": "stream",
     "text": [
      "\n",
      "Epoch: 435, Loss: 0.3882, Val: 0.6867, Test: 0.6936\n"
     ]
    },
    {
     "name": "stderr",
     "output_type": "stream",
     "text": [
      "\n",
      "  4%|▍         | 435/10000 [04:50<1:59:12,  1.34it/s]\u001b[A\n",
      "\n",
      "  0%|          | 0/1 [00:00<?, ?it/s]\u001b[A\u001b[A\n",
      "\n",
      "100%|██████████| 1/1 [00:00<00:00,  1.60it/s]\u001b[A\u001b[A\n",
      "\n",
      "  4%|▍         | 436/10000 [04:50<2:00:46,  1.32it/s]\u001b[A\n",
      "\n",
      "  0%|          | 0/1 [00:00<?, ?it/s]\u001b[A\u001b[A\n",
      "\n",
      "100%|██████████| 1/1 [00:00<00:00,  1.59it/s]\u001b[A\u001b[A\n",
      "\n",
      "  4%|▍         | 437/10000 [04:51<2:02:25,  1.30it/s]\u001b[A\n",
      "\n",
      "  0%|          | 0/1 [00:00<?, ?it/s]\u001b[A\u001b[A\n",
      "\n",
      "100%|██████████| 1/1 [00:00<00:00,  1.80it/s]\u001b[A\u001b[A\n",
      "\n",
      "  4%|▍         | 438/10000 [04:52<1:56:39,  1.37it/s]\u001b[A\n",
      "\n",
      "  0%|          | 0/1 [00:00<?, ?it/s]\u001b[A\u001b[A\n",
      "\n",
      "100%|██████████| 1/1 [00:00<00:00,  2.01it/s]\u001b[A\u001b[A\n",
      "\n",
      "  4%|▍         | 439/10000 [04:53<1:50:20,  1.44it/s]\u001b[A\n",
      "\n",
      "  0%|          | 0/1 [00:00<?, ?it/s]\u001b[A\u001b[A\n",
      "\n",
      "100%|██████████| 1/1 [00:00<00:00,  1.85it/s]\u001b[A\u001b[A\n",
      "\n",
      "  4%|▍         | 440/10000 [04:53<1:45:58,  1.50it/s]\u001b[A\n",
      "\n",
      "  0%|          | 0/1 [00:00<?, ?it/s]\u001b[A\u001b[A\n",
      "\n",
      "100%|██████████| 1/1 [00:00<00:00,  1.24it/s]\u001b[A\u001b[A\n",
      "\n",
      "  4%|▍         | 441/10000 [04:54<1:55:45,  1.38it/s]\u001b[A\n",
      "\n",
      "  0%|          | 0/1 [00:00<?, ?it/s]\u001b[A\u001b[A\n",
      "\n",
      "100%|██████████| 1/1 [00:00<00:00,  1.37it/s]\u001b[A\u001b[A\n",
      "\n",
      "  4%|▍         | 442/10000 [04:55<2:07:45,  1.25it/s]\u001b[A"
     ]
    },
    {
     "name": "stdout",
     "output_type": "stream",
     "text": [
      "\n",
      "Epoch: 442, Loss: 0.3882, Val: 0.6872, Test: 0.6947\n"
     ]
    },
    {
     "name": "stderr",
     "output_type": "stream",
     "text": [
      "\n",
      "\n",
      "  0%|          | 0/1 [00:00<?, ?it/s]\u001b[A\u001b[A\n",
      "\n",
      "100%|██████████| 1/1 [00:01<00:00,  1.05s/it]\u001b[A\u001b[A\n",
      "\n",
      "  4%|▍         | 443/10000 [04:56<2:30:41,  1.06it/s]\u001b[A\n",
      "\n",
      "  0%|          | 0/1 [00:00<?, ?it/s]\u001b[A\u001b[A\n",
      "\n",
      "100%|██████████| 1/1 [00:00<00:00,  1.46it/s]\u001b[A\u001b[A\n",
      "\n",
      "  4%|▍         | 444/10000 [04:57<2:21:16,  1.13it/s]\u001b[A\n",
      "\n",
      "  0%|          | 0/1 [00:00<?, ?it/s]\u001b[A\u001b[A\n",
      "\n",
      "100%|██████████| 1/1 [00:00<00:00,  2.32it/s]\u001b[A\u001b[A\n",
      "\n",
      "  4%|▍         | 445/10000 [04:57<2:01:56,  1.31it/s]\u001b[A\n",
      "\n",
      "  0%|          | 0/1 [00:00<?, ?it/s]\u001b[A\u001b[A\n",
      "\n",
      "100%|██████████| 1/1 [00:00<00:00,  2.42it/s]\u001b[A\u001b[A\n",
      "\n",
      "  4%|▍         | 446/10000 [04:58<1:48:27,  1.47it/s]\u001b[A\n",
      "\n",
      "  0%|          | 0/1 [00:00<?, ?it/s]\u001b[A\u001b[A\n",
      "\n",
      "100%|██████████| 1/1 [00:00<00:00,  2.59it/s]\u001b[A\u001b[A\n",
      "\n",
      "  4%|▍         | 447/10000 [04:58<1:37:00,  1.64it/s]\u001b[A\n",
      "\n",
      "  0%|          | 0/1 [00:00<?, ?it/s]\u001b[A\u001b[A\n",
      "\n",
      "100%|██████████| 1/1 [00:00<00:00,  2.61it/s]\u001b[A\u001b[A\n",
      "\n",
      "  4%|▍         | 448/10000 [04:59<1:28:19,  1.80it/s]\u001b[A\n",
      "\n",
      "  0%|          | 0/1 [00:00<?, ?it/s]\u001b[A\u001b[A\n",
      "\n",
      "100%|██████████| 1/1 [00:00<00:00,  2.79it/s]\u001b[A\u001b[A\n",
      "\n",
      "  4%|▍         | 449/10000 [04:59<1:21:01,  1.96it/s]\u001b[A\n",
      "\n",
      "  0%|          | 0/1 [00:00<?, ?it/s]\u001b[A\u001b[A\n",
      "\n",
      "100%|██████████| 1/1 [00:00<00:00,  2.59it/s]\u001b[A\u001b[A\n",
      "\n",
      "  4%|▍         | 450/10000 [05:00<1:18:49,  2.02it/s]\u001b[A"
     ]
    },
    {
     "name": "stdout",
     "output_type": "stream",
     "text": [
      "\n",
      "Epoch: 450, Loss: 0.3882, Val: 0.6876, Test: 0.6951\n"
     ]
    },
    {
     "name": "stderr",
     "output_type": "stream",
     "text": [
      "\n",
      "\n",
      "  0%|          | 0/1 [00:00<?, ?it/s]\u001b[A\u001b[A\n",
      "\n",
      "100%|██████████| 1/1 [00:00<00:00,  2.69it/s]\u001b[A\u001b[A\n",
      "\n",
      "  5%|▍         | 451/10000 [05:00<1:15:27,  2.11it/s]\u001b[A\n",
      "\n",
      "  0%|          | 0/1 [00:00<?, ?it/s]\u001b[A\u001b[A\n",
      "\n",
      "100%|██████████| 1/1 [00:00<00:00,  2.40it/s]\u001b[A\u001b[A\n",
      "\n",
      "  5%|▍         | 452/10000 [05:01<1:14:40,  2.13it/s]\u001b[A\n",
      "\n",
      "  0%|          | 0/1 [00:00<?, ?it/s]\u001b[A\u001b[A\n",
      "\n",
      "100%|██████████| 1/1 [00:00<00:00,  2.93it/s]\u001b[A\u001b[A\n",
      "\n",
      "  5%|▍         | 453/10000 [05:01<1:12:07,  2.21it/s]\u001b[A"
     ]
    },
    {
     "name": "stdout",
     "output_type": "stream",
     "text": [
      "\n",
      "Epoch: 453, Loss: 0.3879, Val: 0.6879, Test: 0.6958\n"
     ]
    },
    {
     "name": "stderr",
     "output_type": "stream",
     "text": [
      "\n",
      "\n",
      "  0%|          | 0/1 [00:00<?, ?it/s]\u001b[A\u001b[A\n",
      "\n",
      "100%|██████████| 1/1 [00:00<00:00,  2.95it/s]\u001b[A\u001b[A\n",
      "\n",
      "  5%|▍         | 454/10000 [05:01<1:11:25,  2.23it/s]\u001b[A"
     ]
    },
    {
     "name": "stdout",
     "output_type": "stream",
     "text": [
      "\n",
      "Epoch: 454, Loss: 0.3883, Val: 0.6884, Test: 0.6959\n"
     ]
    },
    {
     "name": "stderr",
     "output_type": "stream",
     "text": [
      "\n",
      "\n",
      "  0%|          | 0/1 [00:00<?, ?it/s]\u001b[A\u001b[A\n",
      "\n",
      "100%|██████████| 1/1 [00:00<00:00,  2.77it/s]\u001b[A\u001b[A\n",
      "\n",
      "  5%|▍         | 455/10000 [05:02<1:09:05,  2.30it/s]\u001b[A\n",
      "\n",
      "  0%|          | 0/1 [00:00<?, ?it/s]\u001b[A\u001b[A\n",
      "\n",
      "100%|██████████| 1/1 [00:00<00:00,  2.66it/s]\u001b[A\u001b[A\n",
      "\n",
      "  5%|▍         | 456/10000 [05:02<1:08:23,  2.33it/s]\u001b[A\n",
      "\n",
      "  0%|          | 0/1 [00:00<?, ?it/s]\u001b[A\u001b[A\n",
      "\n",
      "100%|██████████| 1/1 [00:00<00:00,  2.48it/s]\u001b[A\u001b[A\n",
      "\n",
      "  5%|▍         | 457/10000 [05:03<1:08:53,  2.31it/s]\u001b[A\n",
      "\n",
      "  0%|          | 0/1 [00:00<?, ?it/s]\u001b[A\u001b[A\n",
      "\n",
      "100%|██████████| 1/1 [00:00<00:00,  2.54it/s]\u001b[A\u001b[A\n",
      "\n",
      "  5%|▍         | 458/10000 [05:03<1:09:00,  2.30it/s]\u001b[A\n",
      "\n",
      "  0%|          | 0/1 [00:00<?, ?it/s]\u001b[A\u001b[A\n",
      "\n",
      "100%|██████████| 1/1 [00:00<00:00,  2.64it/s]\u001b[A\u001b[A\n",
      "\n",
      "  5%|▍         | 459/10000 [05:04<1:08:32,  2.32it/s]\u001b[A\n",
      "\n",
      "  0%|          | 0/1 [00:00<?, ?it/s]\u001b[A\u001b[A\n",
      "\n",
      "100%|██████████| 1/1 [00:00<00:00,  1.87it/s]\u001b[A\u001b[A\n",
      "\n",
      "  5%|▍         | 460/10000 [05:04<1:16:01,  2.09it/s]\u001b[A\n",
      "\n",
      "  0%|          | 0/1 [00:00<?, ?it/s]\u001b[A\u001b[A\n",
      "\n",
      "100%|██████████| 1/1 [00:00<00:00,  2.11it/s]\u001b[A\u001b[A\n",
      "\n",
      "  5%|▍         | 461/10000 [05:05<1:18:21,  2.03it/s]\u001b[A\n",
      "\n",
      "  0%|          | 0/1 [00:00<?, ?it/s]\u001b[A\u001b[A\n",
      "\n",
      "100%|██████████| 1/1 [00:00<00:00,  1.77it/s]\u001b[A\u001b[A\n",
      "\n",
      "  5%|▍         | 462/10000 [05:05<1:26:08,  1.85it/s]\u001b[A\n",
      "\n",
      "  0%|          | 0/1 [00:00<?, ?it/s]\u001b[A\u001b[A\n",
      "\n",
      "100%|██████████| 1/1 [00:00<00:00,  1.37it/s]\u001b[A\u001b[A\n",
      "\n",
      "  5%|▍         | 463/10000 [05:06<1:50:24,  1.44it/s]\u001b[A"
     ]
    },
    {
     "name": "stdout",
     "output_type": "stream",
     "text": [
      "\n",
      "Epoch: 463, Loss: 0.3877, Val: 0.6887, Test: 0.6973\n"
     ]
    },
    {
     "name": "stderr",
     "output_type": "stream",
     "text": [
      "\n",
      "\n",
      "  0%|          | 0/1 [00:00<?, ?it/s]\u001b[A\u001b[A\n",
      "\n",
      "100%|██████████| 1/1 [00:00<00:00,  1.99it/s]\u001b[A\u001b[A\n",
      "\n",
      "  5%|▍         | 464/10000 [05:07<1:44:37,  1.52it/s]\u001b[A\n",
      "\n",
      "  0%|          | 0/1 [00:00<?, ?it/s]\u001b[A\u001b[A\n",
      "\n",
      "100%|██████████| 1/1 [00:00<00:00,  2.18it/s]\u001b[A\u001b[A\n",
      "\n",
      "  5%|▍         | 465/10000 [05:07<1:37:25,  1.63it/s]\u001b[A\n",
      "\n",
      "  0%|          | 0/1 [00:00<?, ?it/s]\u001b[A\u001b[A\n",
      "\n",
      "100%|██████████| 1/1 [00:00<00:00,  2.49it/s]\u001b[A\u001b[A\n",
      "\n",
      "  5%|▍         | 466/10000 [05:08<1:29:23,  1.78it/s]\u001b[A\n",
      "\n",
      "  0%|          | 0/1 [00:00<?, ?it/s]\u001b[A\u001b[A\n",
      "\n",
      "100%|██████████| 1/1 [00:00<00:00,  2.38it/s]\u001b[A\u001b[A\n",
      "\n",
      "  5%|▍         | 467/10000 [05:08<1:24:46,  1.87it/s]\u001b[A\n",
      "\n",
      "  0%|          | 0/1 [00:00<?, ?it/s]\u001b[A\u001b[A\n",
      "\n",
      "100%|██████████| 1/1 [00:00<00:00,  2.30it/s]\u001b[A\u001b[A\n",
      "\n",
      "  5%|▍         | 468/10000 [05:09<1:22:08,  1.93it/s]\u001b[A\n",
      "\n",
      "  0%|          | 0/1 [00:00<?, ?it/s]\u001b[A\u001b[A\n",
      "\n",
      "100%|██████████| 1/1 [00:00<00:00,  2.74it/s]\u001b[A\u001b[A\n",
      "\n",
      "  5%|▍         | 469/10000 [05:09<1:16:43,  2.07it/s]\u001b[A\n",
      "\n",
      "  0%|          | 0/1 [00:00<?, ?it/s]\u001b[A\u001b[A\n",
      "\n",
      "100%|██████████| 1/1 [00:00<00:00,  2.72it/s]\u001b[A\u001b[A\n",
      "\n",
      "  5%|▍         | 470/10000 [05:10<1:13:11,  2.17it/s]\u001b[A\n",
      "\n",
      "  0%|          | 0/1 [00:00<?, ?it/s]\u001b[A\u001b[A\n",
      "\n",
      "100%|██████████| 1/1 [00:00<00:00,  2.82it/s]\u001b[A\u001b[A\n",
      "\n",
      "  5%|▍         | 471/10000 [05:10<1:09:52,  2.27it/s]\u001b[A\n",
      "\n",
      "  0%|          | 0/1 [00:00<?, ?it/s]\u001b[A\u001b[A\n",
      "\n",
      "100%|██████████| 1/1 [00:00<00:00,  2.67it/s]\u001b[A\u001b[A\n",
      "\n",
      "  5%|▍         | 472/10000 [05:10<1:09:52,  2.27it/s]\u001b[A"
     ]
    },
    {
     "name": "stdout",
     "output_type": "stream",
     "text": [
      "\n",
      "Epoch: 472, Loss: 0.3882, Val: 0.6891, Test: 0.6974\n"
     ]
    },
    {
     "name": "stderr",
     "output_type": "stream",
     "text": [
      "\n",
      "\n",
      "  0%|          | 0/1 [00:00<?, ?it/s]\u001b[A\u001b[A\n",
      "\n",
      "100%|██████████| 1/1 [00:00<00:00,  2.73it/s]\u001b[A\u001b[A\n",
      "\n",
      "  5%|▍         | 473/10000 [05:11<1:08:22,  2.32it/s]\u001b[A\n",
      "\n",
      "  0%|          | 0/1 [00:00<?, ?it/s]\u001b[A\u001b[A\n",
      "\n",
      "100%|██████████| 1/1 [00:00<00:00,  2.95it/s]\u001b[A\u001b[A\n",
      "\n",
      "  5%|▍         | 474/10000 [05:11<1:06:49,  2.38it/s]\u001b[A"
     ]
    },
    {
     "name": "stdout",
     "output_type": "stream",
     "text": [
      "\n",
      "Epoch: 474, Loss: 0.3877, Val: 0.6891, Test: 0.6975\n"
     ]
    },
    {
     "name": "stderr",
     "output_type": "stream",
     "text": [
      "\n",
      "\n",
      "  0%|          | 0/1 [00:00<?, ?it/s]\u001b[A\u001b[A\n",
      "\n",
      "100%|██████████| 1/1 [00:00<00:00,  2.96it/s]\u001b[A\u001b[A\n",
      "\n",
      "  5%|▍         | 475/10000 [05:12<1:04:35,  2.46it/s]\u001b[A\n",
      "\n",
      "  0%|          | 0/1 [00:00<?, ?it/s]\u001b[A\u001b[A\n",
      "\n",
      "100%|██████████| 1/1 [00:00<00:00,  2.75it/s]\u001b[A\u001b[A\n",
      "\n",
      "  5%|▍         | 476/10000 [05:12<1:05:31,  2.42it/s]\u001b[A"
     ]
    },
    {
     "name": "stdout",
     "output_type": "stream",
     "text": [
      "\n",
      "Epoch: 476, Loss: 0.3878, Val: 0.6897, Test: 0.6971\n"
     ]
    },
    {
     "name": "stderr",
     "output_type": "stream",
     "text": [
      "\n",
      "\n",
      "  0%|          | 0/1 [00:00<?, ?it/s]\u001b[A\u001b[A\n",
      "\n",
      "100%|██████████| 1/1 [00:00<00:00,  2.80it/s]\u001b[A\u001b[A\n",
      "\n",
      "  5%|▍         | 477/10000 [05:12<1:04:51,  2.45it/s]\u001b[A\n",
      "\n",
      "  0%|          | 0/1 [00:00<?, ?it/s]\u001b[A\u001b[A\n",
      "\n",
      "100%|██████████| 1/1 [00:00<00:00,  2.79it/s]\u001b[A\u001b[A\n",
      "\n",
      "  5%|▍         | 478/10000 [05:13<1:04:27,  2.46it/s]\u001b[A\n",
      "\n",
      "  0%|          | 0/1 [00:00<?, ?it/s]\u001b[A\u001b[A\n",
      "\n",
      "100%|██████████| 1/1 [00:00<00:00,  2.64it/s]\u001b[A\u001b[A\n",
      "\n",
      "  5%|▍         | 479/10000 [05:13<1:05:01,  2.44it/s]\u001b[A\n",
      "\n",
      "  0%|          | 0/1 [00:00<?, ?it/s]\u001b[A\u001b[A\n",
      "\n",
      "100%|██████████| 1/1 [00:00<00:00,  2.46it/s]\u001b[A\u001b[A\n",
      "\n",
      "  5%|▍         | 480/10000 [05:14<1:07:08,  2.36it/s]\u001b[A\n",
      "\n",
      "  0%|          | 0/1 [00:00<?, ?it/s]\u001b[A\u001b[A\n",
      "\n",
      "100%|██████████| 1/1 [00:00<00:00,  2.48it/s]\u001b[A\u001b[A\n",
      "\n",
      "  5%|▍         | 481/10000 [05:14<1:08:17,  2.32it/s]\u001b[A\n",
      "\n",
      "  0%|          | 0/1 [00:00<?, ?it/s]\u001b[A\u001b[A\n",
      "\n",
      "100%|██████████| 1/1 [00:00<00:00,  2.08it/s]\u001b[A\u001b[A\n",
      "\n",
      "  5%|▍         | 482/10000 [05:15<1:17:35,  2.04it/s]\u001b[A"
     ]
    },
    {
     "name": "stdout",
     "output_type": "stream",
     "text": [
      "\n",
      "Epoch: 482, Loss: 0.3882, Val: 0.6902, Test: 0.6980\n"
     ]
    },
    {
     "name": "stderr",
     "output_type": "stream",
     "text": [
      "\n",
      "\n",
      "  0%|          | 0/1 [00:00<?, ?it/s]\u001b[A\u001b[A\n",
      "\n",
      "100%|██████████| 1/1 [00:00<00:00,  1.83it/s]\u001b[A\u001b[A\n",
      "\n",
      "  5%|▍         | 483/10000 [05:16<1:28:29,  1.79it/s]\u001b[A"
     ]
    },
    {
     "name": "stdout",
     "output_type": "stream",
     "text": [
      "\n",
      "Epoch: 483, Loss: 0.3883, Val: 0.6903, Test: 0.6980\n"
     ]
    },
    {
     "name": "stderr",
     "output_type": "stream",
     "text": [
      "\n",
      "\n",
      "  0%|          | 0/1 [00:00<?, ?it/s]\u001b[A\u001b[A\n",
      "\n",
      "100%|██████████| 1/1 [00:00<00:00,  1.33it/s]\u001b[A\u001b[A\n",
      "\n",
      "  5%|▍         | 484/10000 [05:16<1:43:35,  1.53it/s]\u001b[A\n",
      "\n",
      "  0%|          | 0/1 [00:00<?, ?it/s]\u001b[A\u001b[A\n",
      "\n",
      "100%|██████████| 1/1 [00:00<00:00,  2.03it/s]\u001b[A\u001b[A\n",
      "\n",
      "  5%|▍         | 485/10000 [05:17<1:42:26,  1.55it/s]\u001b[A"
     ]
    },
    {
     "name": "stdout",
     "output_type": "stream",
     "text": [
      "\n",
      "Epoch: 485, Loss: 0.3886, Val: 0.6907, Test: 0.6976\n"
     ]
    },
    {
     "name": "stderr",
     "output_type": "stream",
     "text": [
      "\n",
      "\n",
      "  0%|          | 0/1 [00:00<?, ?it/s]\u001b[A\u001b[A\n",
      "\n",
      "100%|██████████| 1/1 [00:00<00:00,  1.89it/s]\u001b[A\u001b[A\n",
      "\n",
      "  5%|▍         | 486/10000 [05:18<1:41:19,  1.57it/s]\u001b[A"
     ]
    },
    {
     "name": "stdout",
     "output_type": "stream",
     "text": [
      "\n",
      "Epoch: 486, Loss: 0.3877, Val: 0.6908, Test: 0.6976\n"
     ]
    },
    {
     "name": "stderr",
     "output_type": "stream",
     "text": [
      "\n",
      "\n",
      "  0%|          | 0/1 [00:00<?, ?it/s]\u001b[A\u001b[A\n",
      "\n",
      "100%|██████████| 1/1 [00:00<00:00,  1.67it/s]\u001b[A\u001b[A\n",
      "\n",
      "  5%|▍         | 487/10000 [05:18<1:47:50,  1.47it/s]\u001b[A"
     ]
    },
    {
     "name": "stdout",
     "output_type": "stream",
     "text": [
      "\n",
      "Epoch: 487, Loss: 0.3878, Val: 0.6912, Test: 0.6982\n"
     ]
    },
    {
     "name": "stderr",
     "output_type": "stream",
     "text": [
      "\n",
      "\n",
      "  0%|          | 0/1 [00:00<?, ?it/s]\u001b[A\u001b[A\n",
      "\n",
      "100%|██████████| 1/1 [00:00<00:00,  1.55it/s]\u001b[A\u001b[A\n",
      "\n",
      "  5%|▍         | 488/10000 [05:19<1:50:05,  1.44it/s]\u001b[A\n",
      "\n",
      "  0%|          | 0/1 [00:00<?, ?it/s]\u001b[A\u001b[A\n",
      "\n",
      "100%|██████████| 1/1 [00:00<00:00,  2.12it/s]\u001b[A\u001b[A\n",
      "\n",
      "  5%|▍         | 489/10000 [05:20<1:46:00,  1.50it/s]\u001b[A\n",
      "\n",
      "  0%|          | 0/1 [00:00<?, ?it/s]\u001b[A\u001b[A\n",
      "\n",
      "100%|██████████| 1/1 [00:00<00:00,  1.74it/s]\u001b[A\u001b[A\n",
      "\n",
      "  5%|▍         | 490/10000 [05:20<1:44:17,  1.52it/s]\u001b[A\n",
      "\n",
      "  0%|          | 0/1 [00:00<?, ?it/s]\u001b[A\u001b[A\n",
      "\n",
      "100%|██████████| 1/1 [00:00<00:00,  1.38it/s]\u001b[A\u001b[A\n",
      "\n",
      "  5%|▍         | 491/10000 [05:21<1:50:34,  1.43it/s]\u001b[A\n",
      "\n",
      "  0%|          | 0/1 [00:00<?, ?it/s]\u001b[A\u001b[A\n",
      "\n",
      "100%|██████████| 1/1 [00:00<00:00,  1.38it/s]\u001b[A\u001b[A\n",
      "\n",
      "  5%|▍         | 492/10000 [05:22<1:58:23,  1.34it/s]\u001b[A\n",
      "\n",
      "  0%|          | 0/1 [00:00<?, ?it/s]\u001b[A\u001b[A\n",
      "\n",
      "100%|██████████| 1/1 [00:00<00:00,  2.00it/s]\u001b[A\u001b[A\n",
      "\n",
      "  5%|▍         | 493/10000 [05:23<1:49:23,  1.45it/s]\u001b[A\n",
      "\n",
      "  0%|          | 0/1 [00:00<?, ?it/s]\u001b[A\u001b[A\n",
      "\n",
      "100%|██████████| 1/1 [00:00<00:00,  1.31it/s]\u001b[A\u001b[A\n",
      "\n",
      "  5%|▍         | 494/10000 [05:24<2:01:26,  1.30it/s]\u001b[A\n",
      "\n",
      "  0%|          | 0/1 [00:00<?, ?it/s]\u001b[A\u001b[A\n",
      "\n",
      "100%|██████████| 1/1 [00:00<00:00,  1.71it/s]\u001b[A\u001b[A\n",
      "\n",
      "  5%|▍         | 495/10000 [05:24<1:58:00,  1.34it/s]\u001b[A\n",
      "\n",
      "  0%|          | 0/1 [00:00<?, ?it/s]\u001b[A\u001b[A\n",
      "\n",
      "100%|██████████| 1/1 [00:00<00:00,  1.90it/s]\u001b[A\u001b[A\n",
      "\n",
      "  5%|▍         | 496/10000 [05:25<1:50:13,  1.44it/s]\u001b[A\n",
      "\n",
      "  0%|          | 0/1 [00:00<?, ?it/s]\u001b[A\u001b[A\n",
      "\n",
      "100%|██████████| 1/1 [00:00<00:00,  2.19it/s]\u001b[A\u001b[A\n",
      "\n",
      "  5%|▍         | 497/10000 [05:25<1:44:17,  1.52it/s]\u001b[A"
     ]
    },
    {
     "name": "stdout",
     "output_type": "stream",
     "text": [
      "\n",
      "Epoch: 497, Loss: 0.3876, Val: 0.6913, Test: 0.6990\n"
     ]
    },
    {
     "name": "stderr",
     "output_type": "stream",
     "text": [
      "\n",
      "\n",
      "  0%|          | 0/1 [00:00<?, ?it/s]\u001b[A\u001b[A\n",
      "\n",
      "100%|██████████| 1/1 [00:00<00:00,  2.16it/s]\u001b[A\u001b[A\n",
      "\n",
      "  5%|▍         | 498/10000 [05:26<1:37:01,  1.63it/s]\u001b[A\n",
      "\n",
      "  0%|          | 0/1 [00:00<?, ?it/s]\u001b[A\u001b[A\n",
      "\n",
      "100%|██████████| 1/1 [00:00<00:00,  1.86it/s]\u001b[A\u001b[A\n",
      "\n",
      "  5%|▍         | 499/10000 [05:27<1:37:16,  1.63it/s]\u001b[A\n",
      "\n",
      "  0%|          | 0/1 [00:00<?, ?it/s]\u001b[A\u001b[A\n",
      "\n",
      "100%|██████████| 1/1 [00:00<00:00,  2.02it/s]\u001b[A\u001b[A\n",
      "\n",
      "  5%|▌         | 500/10000 [05:27<1:33:21,  1.70it/s]\u001b[A\n",
      "\n",
      "  0%|          | 0/1 [00:00<?, ?it/s]\u001b[A\u001b[A\n",
      "\n",
      "100%|██████████| 1/1 [00:00<00:00,  1.23it/s]\u001b[A\u001b[A\n",
      "\n",
      "  5%|▌         | 501/10000 [05:28<1:47:27,  1.47it/s]\u001b[A"
     ]
    },
    {
     "name": "stdout",
     "output_type": "stream",
     "text": [
      "\n",
      "Epoch: 501, Loss: 0.3881, Val: 0.6917, Test: 0.6996\n"
     ]
    },
    {
     "name": "stderr",
     "output_type": "stream",
     "text": [
      "\n",
      "\n",
      "  0%|          | 0/1 [00:00<?, ?it/s]\u001b[A\u001b[A\n",
      "\n",
      "100%|██████████| 1/1 [00:00<00:00,  1.82it/s]\u001b[A\u001b[A\n",
      "\n",
      "  5%|▌         | 502/10000 [05:29<1:49:04,  1.45it/s]\u001b[A"
     ]
    },
    {
     "name": "stdout",
     "output_type": "stream",
     "text": [
      "\n",
      "Epoch: 502, Loss: 0.3881, Val: 0.6922, Test: 0.6988\n"
     ]
    },
    {
     "name": "stderr",
     "output_type": "stream",
     "text": [
      "\n",
      "\n",
      "  0%|          | 0/1 [00:00<?, ?it/s]\u001b[A\u001b[A\n",
      "\n",
      "100%|██████████| 1/1 [00:00<00:00,  2.01it/s]\u001b[A\u001b[A\n",
      "\n",
      "  5%|▌         | 503/10000 [05:29<1:46:05,  1.49it/s]\u001b[A\n",
      "\n",
      "  0%|          | 0/1 [00:00<?, ?it/s]\u001b[A\u001b[A\n",
      "\n",
      "100%|██████████| 1/1 [00:00<00:00,  1.46it/s]\u001b[A\u001b[A\n",
      "\n",
      "  5%|▌         | 504/10000 [05:30<1:54:33,  1.38it/s]\u001b[A\n",
      "\n",
      "  0%|          | 0/1 [00:00<?, ?it/s]\u001b[A\u001b[A\n",
      "\n",
      "100%|██████████| 1/1 [00:00<00:00,  1.78it/s]\u001b[A\u001b[A\n",
      "\n",
      "  5%|▌         | 505/10000 [05:31<1:51:13,  1.42it/s]\u001b[A\n",
      "\n",
      "  0%|          | 0/1 [00:00<?, ?it/s]\u001b[A\u001b[A\n",
      "\n",
      "100%|██████████| 1/1 [00:00<00:00,  1.40it/s]\u001b[A\u001b[A\n",
      "\n",
      "  5%|▌         | 506/10000 [05:32<1:59:51,  1.32it/s]\u001b[A\n",
      "\n",
      "  0%|          | 0/1 [00:00<?, ?it/s]\u001b[A\u001b[A\n",
      "\n",
      "100%|██████████| 1/1 [00:00<00:00,  2.22it/s]\u001b[A\u001b[A\n",
      "\n",
      "  5%|▌         | 507/10000 [05:32<1:49:56,  1.44it/s]\u001b[A\n",
      "\n",
      "  0%|          | 0/1 [00:00<?, ?it/s]\u001b[A\u001b[A\n",
      "\n",
      "100%|██████████| 1/1 [00:00<00:00,  1.63it/s]\u001b[A\u001b[A\n",
      "\n",
      "  5%|▌         | 508/10000 [05:33<1:52:06,  1.41it/s]\u001b[A\n",
      "\n",
      "  0%|          | 0/1 [00:00<?, ?it/s]\u001b[A\u001b[A\n",
      "\n",
      "100%|██████████| 1/1 [00:00<00:00,  1.94it/s]\u001b[A\u001b[A\n",
      "\n",
      "  5%|▌         | 509/10000 [05:34<1:48:54,  1.45it/s]\u001b[A\n",
      "\n",
      "  0%|          | 0/1 [00:00<?, ?it/s]\u001b[A\u001b[A\n",
      "\n",
      "100%|██████████| 1/1 [00:00<00:00,  1.90it/s]\u001b[A\u001b[A\n",
      "\n",
      "  5%|▌         | 510/10000 [05:34<1:43:38,  1.53it/s]\u001b[A\n",
      "\n",
      "  0%|          | 0/1 [00:00<?, ?it/s]\u001b[A\u001b[A\n",
      "\n",
      "100%|██████████| 1/1 [00:00<00:00,  2.20it/s]\u001b[A\u001b[A\n",
      "\n",
      "  5%|▌         | 511/10000 [05:35<1:36:41,  1.64it/s]\u001b[A\n",
      "\n",
      "  0%|          | 0/1 [00:00<?, ?it/s]\u001b[A\u001b[A\n",
      "\n",
      "100%|██████████| 1/1 [00:00<00:00,  1.51it/s]\u001b[A\u001b[A\n",
      "\n",
      "  5%|▌         | 512/10000 [05:36<1:46:42,  1.48it/s]\u001b[A"
     ]
    },
    {
     "name": "stdout",
     "output_type": "stream",
     "text": [
      "\n",
      "Epoch: 512, Loss: 0.3876, Val: 0.6924, Test: 0.6997\n"
     ]
    },
    {
     "name": "stderr",
     "output_type": "stream",
     "text": [
      "\n",
      "\n",
      "  0%|          | 0/1 [00:00<?, ?it/s]\u001b[A\u001b[A\n",
      "\n",
      "100%|██████████| 1/1 [00:00<00:00,  1.46it/s]\u001b[A\u001b[A\n",
      "\n",
      "  5%|▌         | 513/10000 [05:37<2:01:50,  1.30it/s]\u001b[A"
     ]
    },
    {
     "name": "stdout",
     "output_type": "stream",
     "text": [
      "\n",
      "Epoch: 513, Loss: 0.3884, Val: 0.6929, Test: 0.7002\n"
     ]
    },
    {
     "name": "stderr",
     "output_type": "stream",
     "text": [
      "\n",
      "\n",
      "  0%|          | 0/1 [00:00<?, ?it/s]\u001b[A\u001b[A\n",
      "\n",
      "100%|██████████| 1/1 [00:00<00:00,  1.59it/s]\u001b[A\u001b[A\n",
      "\n",
      "  5%|▌         | 514/10000 [05:37<2:00:42,  1.31it/s]\u001b[A"
     ]
    },
    {
     "name": "stdout",
     "output_type": "stream",
     "text": [
      "\n",
      "Epoch: 514, Loss: 0.3876, Val: 0.6929, Test: 0.7000\n"
     ]
    },
    {
     "name": "stderr",
     "output_type": "stream",
     "text": [
      "\n",
      "\n",
      "  0%|          | 0/1 [00:00<?, ?it/s]\u001b[A\u001b[A\n",
      "\n",
      "100%|██████████| 1/1 [00:00<00:00,  1.47it/s]\u001b[A\u001b[A\n",
      "\n",
      "  5%|▌         | 515/10000 [05:38<2:00:23,  1.31it/s]\u001b[A\n",
      "\n",
      "  0%|          | 0/1 [00:00<?, ?it/s]\u001b[A\u001b[A\n",
      "\n",
      "100%|██████████| 1/1 [00:00<00:00,  1.54it/s]\u001b[A\u001b[A\n",
      "\n",
      "  5%|▌         | 516/10000 [05:39<1:58:30,  1.33it/s]\u001b[A\n",
      "\n",
      "  0%|          | 0/1 [00:00<?, ?it/s]\u001b[A\u001b[A\n",
      "\n",
      "100%|██████████| 1/1 [00:00<00:00,  2.09it/s]\u001b[A\u001b[A\n",
      "\n",
      "  5%|▌         | 517/10000 [05:39<1:47:30,  1.47it/s]\u001b[A\n",
      "\n",
      "  0%|          | 0/1 [00:00<?, ?it/s]\u001b[A\u001b[A\n",
      "\n",
      "100%|██████████| 1/1 [00:00<00:00,  2.01it/s]\u001b[A\u001b[A\n",
      "\n",
      "  5%|▌         | 518/10000 [05:40<1:43:03,  1.53it/s]\u001b[A\n",
      "\n",
      "  0%|          | 0/1 [00:00<?, ?it/s]\u001b[A\u001b[A\n",
      "\n",
      "100%|██████████| 1/1 [00:00<00:00,  1.95it/s]\u001b[A\u001b[A\n",
      "\n",
      "  5%|▌         | 519/10000 [05:40<1:38:12,  1.61it/s]\u001b[A\n",
      "\n",
      "  0%|          | 0/1 [00:00<?, ?it/s]\u001b[A\u001b[A\n",
      "\n",
      "100%|██████████| 1/1 [00:00<00:00,  1.41it/s]\u001b[A\u001b[A\n",
      "\n",
      "  5%|▌         | 520/10000 [05:41<1:47:01,  1.48it/s]\u001b[A\n",
      "\n",
      "  0%|          | 0/1 [00:00<?, ?it/s]\u001b[A\u001b[A\n",
      "\n",
      "100%|██████████| 1/1 [00:00<00:00,  1.88it/s]\u001b[A\u001b[A\n",
      "\n",
      "  5%|▌         | 521/10000 [05:42<1:48:47,  1.45it/s]\u001b[A\n",
      "\n",
      "  0%|          | 0/1 [00:00<?, ?it/s]\u001b[A\u001b[A\n",
      "\n",
      "100%|██████████| 1/1 [00:00<00:00,  1.52it/s]\u001b[A\u001b[A\n",
      "\n",
      "  5%|▌         | 522/10000 [05:43<1:49:40,  1.44it/s]\u001b[A\n",
      "\n",
      "  0%|          | 0/1 [00:00<?, ?it/s]\u001b[A\u001b[A\n",
      "\n",
      "100%|██████████| 1/1 [00:00<00:00,  1.41it/s]\u001b[A\u001b[A\n",
      "\n",
      "  5%|▌         | 523/10000 [05:43<1:54:28,  1.38it/s]\u001b[A\n",
      "\n",
      "  0%|          | 0/1 [00:00<?, ?it/s]\u001b[A\u001b[A\n",
      "\n",
      "100%|██████████| 1/1 [00:00<00:00,  2.72it/s]\u001b[A\u001b[A\n",
      "\n",
      "  5%|▌         | 524/10000 [05:44<1:46:53,  1.48it/s]\u001b[A\n",
      "\n",
      "  0%|          | 0/1 [00:00<?, ?it/s]\u001b[A\u001b[A\n",
      "\n",
      "100%|██████████| 1/1 [00:00<00:00,  1.84it/s]\u001b[A\u001b[A\n",
      "\n",
      "  5%|▌         | 525/10000 [05:45<1:42:17,  1.54it/s]\u001b[A\n",
      "\n",
      "  0%|          | 0/1 [00:00<?, ?it/s]\u001b[A\u001b[A\n",
      "\n",
      "100%|██████████| 1/1 [00:00<00:00,  1.45it/s]\u001b[A\u001b[A\n",
      "\n",
      "  5%|▌         | 526/10000 [05:45<1:49:27,  1.44it/s]\u001b[A\n",
      "\n",
      "  0%|          | 0/1 [00:00<?, ?it/s]\u001b[A\u001b[A\n",
      "\n",
      "100%|██████████| 1/1 [00:00<00:00,  1.69it/s]\u001b[A\u001b[A\n",
      "\n",
      "  5%|▌         | 527/10000 [05:46<1:48:58,  1.45it/s]\u001b[A\n",
      "\n",
      "  0%|          | 0/1 [00:00<?, ?it/s]\u001b[A\u001b[A\n",
      "\n",
      "100%|██████████| 1/1 [00:00<00:00,  1.46it/s]\u001b[A\u001b[A\n",
      "\n",
      "  5%|▌         | 528/10000 [05:47<1:50:48,  1.42it/s]\u001b[A\n",
      "\n",
      "  0%|          | 0/1 [00:00<?, ?it/s]\u001b[A\u001b[A\n",
      "\n",
      "100%|██████████| 1/1 [00:00<00:00,  1.99it/s]\u001b[A\u001b[A\n",
      "\n",
      "  5%|▌         | 529/10000 [05:47<1:46:43,  1.48it/s]\u001b[A\n",
      "\n",
      "  0%|          | 0/1 [00:00<?, ?it/s]\u001b[A\u001b[A\n",
      "\n",
      "100%|██████████| 1/1 [00:00<00:00,  1.93it/s]\u001b[A\u001b[A\n",
      "\n",
      "  5%|▌         | 530/10000 [05:48<1:42:09,  1.54it/s]\u001b[A\n",
      "\n",
      "  0%|          | 0/1 [00:00<?, ?it/s]\u001b[A\u001b[A\n",
      "\n",
      "100%|██████████| 1/1 [00:00<00:00,  2.22it/s]\u001b[A\u001b[A\n",
      "\n",
      "  5%|▌         | 531/10000 [05:49<1:35:34,  1.65it/s]\u001b[A\n",
      "\n",
      "  0%|          | 0/1 [00:00<?, ?it/s]\u001b[A\u001b[A\n",
      "\n",
      "100%|██████████| 1/1 [00:00<00:00,  1.61it/s]\u001b[A\u001b[A\n",
      "\n",
      "  5%|▌         | 532/10000 [05:49<1:38:44,  1.60it/s]\u001b[A\n",
      "\n",
      "  0%|          | 0/1 [00:00<?, ?it/s]\u001b[A\u001b[A\n",
      "\n",
      "100%|██████████| 1/1 [00:00<00:00,  1.19it/s]\u001b[A\u001b[A\n",
      "\n",
      "  5%|▌         | 533/10000 [05:50<1:56:26,  1.35it/s]\u001b[A\n",
      "\n",
      "  0%|          | 0/1 [00:00<?, ?it/s]\u001b[A\u001b[A\n",
      "\n",
      "100%|██████████| 1/1 [00:00<00:00,  1.72it/s]\u001b[A\u001b[A\n",
      "\n",
      "  5%|▌         | 534/10000 [05:51<1:57:22,  1.34it/s]\u001b[A\n",
      "\n",
      "  0%|          | 0/1 [00:00<?, ?it/s]\u001b[A\u001b[A\n",
      "\n",
      "100%|██████████| 1/1 [00:00<00:00,  1.79it/s]\u001b[A\u001b[A\n",
      "\n",
      "  5%|▌         | 535/10000 [05:52<1:52:40,  1.40it/s]\u001b[A\n",
      "\n",
      "  0%|          | 0/1 [00:00<?, ?it/s]\u001b[A\u001b[A\n",
      "\n",
      "100%|██████████| 1/1 [00:00<00:00,  1.28it/s]\u001b[A\u001b[A\n",
      "\n",
      "  5%|▌         | 536/10000 [05:53<2:04:41,  1.26it/s]\u001b[A\n",
      "\n",
      "  0%|          | 0/1 [00:00<?, ?it/s]\u001b[A\u001b[A\n",
      "\n",
      "100%|██████████| 1/1 [00:01<00:00,  1.05s/it]\u001b[A\u001b[A\n",
      "\n",
      "  5%|▌         | 537/10000 [05:54<2:22:03,  1.11it/s]\u001b[A\n",
      "\n",
      "  0%|          | 0/1 [00:00<?, ?it/s]\u001b[A\u001b[A\n",
      "\n",
      "100%|██████████| 1/1 [00:01<00:00,  1.16s/it]\u001b[A\u001b[A\n",
      "\n",
      "  5%|▌         | 538/10000 [05:55<2:40:45,  1.02s/it]\u001b[A\n",
      "\n",
      "  0%|          | 0/1 [00:00<?, ?it/s]\u001b[A\u001b[A\n",
      "\n",
      "100%|██████████| 1/1 [00:00<00:00,  1.41it/s]\u001b[A\u001b[A\n",
      "\n",
      "  5%|▌         | 539/10000 [05:56<2:30:07,  1.05it/s]\u001b[A"
     ]
    },
    {
     "name": "stdout",
     "output_type": "stream",
     "text": [
      "\n",
      "Epoch: 539, Loss: 0.3876, Val: 0.6929, Test: 0.7014\n"
     ]
    },
    {
     "name": "stderr",
     "output_type": "stream",
     "text": [
      "\n",
      "\n",
      "  0%|          | 0/1 [00:00<?, ?it/s]\u001b[A\u001b[A\n",
      "\n",
      "100%|██████████| 1/1 [00:00<00:00,  1.70it/s]\u001b[A\u001b[A\n",
      "\n",
      "  5%|▌         | 540/10000 [05:57<2:21:14,  1.12it/s]\u001b[A"
     ]
    },
    {
     "name": "stdout",
     "output_type": "stream",
     "text": [
      "\n",
      "Epoch: 540, Loss: 0.3885, Val: 0.6936, Test: 0.7017\n"
     ]
    },
    {
     "name": "stderr",
     "output_type": "stream",
     "text": [
      "\n",
      "\n",
      "  0%|          | 0/1 [00:00<?, ?it/s]\u001b[A\u001b[A\n",
      "\n",
      "100%|██████████| 1/1 [00:00<00:00,  1.40it/s]\u001b[A\u001b[A\n",
      "\n",
      "  5%|▌         | 541/10000 [05:57<2:14:35,  1.17it/s]\u001b[A\n",
      "\n",
      "  0%|          | 0/1 [00:00<?, ?it/s]\u001b[A\u001b[A\n",
      "\n",
      "100%|██████████| 1/1 [00:00<00:00,  1.34it/s]\u001b[A\u001b[A\n",
      "\n",
      "  5%|▌         | 542/10000 [05:58<2:12:32,  1.19it/s]\u001b[A\n",
      "\n",
      "  0%|          | 0/1 [00:00<?, ?it/s]\u001b[A\u001b[A\n",
      "\n",
      "100%|██████████| 1/1 [00:00<00:00,  1.87it/s]\u001b[A\u001b[A\n",
      "\n",
      "  5%|▌         | 543/10000 [05:59<2:04:21,  1.27it/s]\u001b[A\n",
      "\n",
      "  0%|          | 0/1 [00:00<?, ?it/s]\u001b[A\u001b[A\n",
      "\n",
      "100%|██████████| 1/1 [00:00<00:00,  2.06it/s]\u001b[A\u001b[A\n",
      "\n",
      "  5%|▌         | 544/10000 [05:59<1:52:10,  1.41it/s]\u001b[A\n",
      "\n",
      "  0%|          | 0/1 [00:00<?, ?it/s]\u001b[A\u001b[A\n",
      "\n",
      "100%|██████████| 1/1 [00:00<00:00,  1.83it/s]\u001b[A\u001b[A\n",
      "\n",
      "  5%|▌         | 545/10000 [06:00<1:47:05,  1.47it/s]\u001b[A\n",
      "\n",
      "  0%|          | 0/1 [00:00<?, ?it/s]\u001b[A\u001b[A\n",
      "\n",
      "100%|██████████| 1/1 [00:00<00:00,  1.95it/s]\u001b[A\u001b[A\n",
      "\n",
      "  5%|▌         | 546/10000 [06:01<1:42:36,  1.54it/s]\u001b[A"
     ]
    },
    {
     "name": "stdout",
     "output_type": "stream",
     "text": [
      "\n",
      "Epoch: 546, Loss: 0.3881, Val: 0.6939, Test: 0.7014\n"
     ]
    },
    {
     "name": "stderr",
     "output_type": "stream",
     "text": [
      "\n",
      "\n",
      "  0%|          | 0/1 [00:00<?, ?it/s]\u001b[A\u001b[A\n",
      "\n",
      "100%|██████████| 1/1 [00:00<00:00,  2.14it/s]\u001b[A\u001b[A\n",
      "\n",
      "  5%|▌         | 547/10000 [06:01<1:36:42,  1.63it/s]\u001b[A\n",
      "\n",
      "  0%|          | 0/1 [00:00<?, ?it/s]\u001b[A\u001b[A\n",
      "\n",
      "100%|██████████| 1/1 [00:00<00:00,  1.46it/s]\u001b[A\u001b[A\n",
      "\n",
      "  5%|▌         | 548/10000 [06:02<1:42:37,  1.54it/s]\u001b[A\n",
      "\n",
      "  0%|          | 0/1 [00:00<?, ?it/s]\u001b[A\u001b[A\n",
      "\n",
      "100%|██████████| 1/1 [00:00<00:00,  2.10it/s]\u001b[A\u001b[A\n",
      "\n",
      "  5%|▌         | 549/10000 [06:02<1:39:53,  1.58it/s]\u001b[A"
     ]
    },
    {
     "name": "stdout",
     "output_type": "stream",
     "text": [
      "\n",
      "Epoch: 549, Loss: 0.3883, Val: 0.6942, Test: 0.7013\n"
     ]
    },
    {
     "name": "stderr",
     "output_type": "stream",
     "text": [
      "\n",
      "\n",
      "  0%|          | 0/1 [00:00<?, ?it/s]\u001b[A\u001b[A\n",
      "\n",
      "100%|██████████| 1/1 [00:00<00:00,  1.97it/s]\u001b[A\u001b[A\n",
      "\n",
      "  6%|▌         | 550/10000 [06:03<1:38:25,  1.60it/s]\u001b[A\n",
      "\n",
      "  0%|          | 0/1 [00:00<?, ?it/s]\u001b[A\u001b[A\n",
      "\n",
      "100%|██████████| 1/1 [00:00<00:00,  2.81it/s]\u001b[A\u001b[A\n",
      "\n",
      "  6%|▌         | 551/10000 [06:03<1:29:43,  1.76it/s]\u001b[A\n",
      "\n",
      "  0%|          | 0/1 [00:00<?, ?it/s]\u001b[A\u001b[A\n",
      "\n",
      "100%|██████████| 1/1 [00:00<00:00,  1.56it/s]\u001b[A\u001b[A\n",
      "\n",
      "  6%|▌         | 552/10000 [06:04<1:38:14,  1.60it/s]\u001b[A\n",
      "\n",
      "  0%|          | 0/1 [00:00<?, ?it/s]\u001b[A\u001b[A\n",
      "\n",
      "100%|██████████| 1/1 [00:00<00:00,  2.14it/s]\u001b[A\u001b[A\n",
      "\n",
      "  6%|▌         | 553/10000 [06:05<1:37:06,  1.62it/s]\u001b[A\n",
      "\n",
      "  0%|          | 0/1 [00:00<?, ?it/s]\u001b[A\u001b[A\n",
      "\n",
      "100%|██████████| 1/1 [00:00<00:00,  1.54it/s]\u001b[A\u001b[A\n",
      "\n",
      "  6%|▌         | 554/10000 [06:06<1:46:48,  1.47it/s]\u001b[A"
     ]
    },
    {
     "name": "stdout",
     "output_type": "stream",
     "text": [
      "\n",
      "Epoch: 554, Loss: 0.3881, Val: 0.6944, Test: 0.7026\n"
     ]
    },
    {
     "name": "stderr",
     "output_type": "stream",
     "text": [
      "\n",
      "\n",
      "  0%|          | 0/1 [00:00<?, ?it/s]\u001b[A\u001b[A\n",
      "\n",
      "100%|██████████| 1/1 [00:00<00:00,  2.14it/s]\u001b[A\u001b[A\n",
      "\n",
      "  6%|▌         | 555/10000 [06:06<1:39:49,  1.58it/s]\u001b[A"
     ]
    },
    {
     "name": "stdout",
     "output_type": "stream",
     "text": [
      "\n",
      "Epoch: 555, Loss: 0.3876, Val: 0.6947, Test: 0.7021\n"
     ]
    },
    {
     "name": "stderr",
     "output_type": "stream",
     "text": [
      "\n",
      "\n",
      "  0%|          | 0/1 [00:00<?, ?it/s]\u001b[A\u001b[A\n",
      "\n",
      "100%|██████████| 1/1 [00:00<00:00,  1.65it/s]\u001b[A\u001b[A\n",
      "\n",
      "  6%|▌         | 556/10000 [06:07<1:46:15,  1.48it/s]\u001b[A\n",
      "\n",
      "  0%|          | 0/1 [00:00<?, ?it/s]\u001b[A\u001b[A\n",
      "\n",
      "100%|██████████| 1/1 [00:00<00:00,  1.99it/s]\u001b[A\u001b[A\n",
      "\n",
      "  6%|▌         | 557/10000 [06:08<1:44:02,  1.51it/s]\u001b[A\n",
      "\n",
      "  0%|          | 0/1 [00:00<?, ?it/s]\u001b[A\u001b[A\n",
      "\n",
      "100%|██████████| 1/1 [00:00<00:00,  1.31it/s]\u001b[A\u001b[A\n",
      "\n",
      "  6%|▌         | 558/10000 [06:08<1:51:56,  1.41it/s]\u001b[A\n",
      "\n",
      "  0%|          | 0/1 [00:00<?, ?it/s]\u001b[A\u001b[A\n",
      "\n",
      "100%|██████████| 1/1 [00:00<00:00,  1.58it/s]\u001b[A\u001b[A\n",
      "\n",
      "  6%|▌         | 559/10000 [06:09<1:51:36,  1.41it/s]\u001b[A\n",
      "\n",
      "  0%|          | 0/1 [00:00<?, ?it/s]\u001b[A\u001b[A\n",
      "\n",
      "100%|██████████| 1/1 [00:00<00:00,  2.42it/s]\u001b[A\u001b[A\n",
      "\n",
      "  6%|▌         | 560/10000 [06:10<1:40:08,  1.57it/s]\u001b[A\n",
      "\n",
      "  0%|          | 0/1 [00:00<?, ?it/s]\u001b[A\u001b[A\n",
      "\n",
      "100%|██████████| 1/1 [00:00<00:00,  1.93it/s]\u001b[A\u001b[A\n",
      "\n",
      "  6%|▌         | 561/10000 [06:10<1:38:22,  1.60it/s]\u001b[A"
     ]
    },
    {
     "name": "stdout",
     "output_type": "stream",
     "text": [
      "\n",
      "Epoch: 561, Loss: 0.3880, Val: 0.6950, Test: 0.7019\n"
     ]
    },
    {
     "name": "stderr",
     "output_type": "stream",
     "text": [
      "\n",
      "\n",
      "  0%|          | 0/1 [00:00<?, ?it/s]\u001b[A\u001b[A\n",
      "\n",
      "100%|██████████| 1/1 [00:00<00:00,  1.80it/s]\u001b[A\u001b[A\n",
      "\n",
      "  6%|▌         | 562/10000 [06:11<1:39:07,  1.59it/s]\u001b[A"
     ]
    },
    {
     "name": "stdout",
     "output_type": "stream",
     "text": [
      "\n",
      "Epoch: 562, Loss: 0.3877, Val: 0.6952, Test: 0.7020\n"
     ]
    },
    {
     "name": "stderr",
     "output_type": "stream",
     "text": [
      "\n",
      "\n",
      "  0%|          | 0/1 [00:00<?, ?it/s]\u001b[A\u001b[A\n",
      "\n",
      "100%|██████████| 1/1 [00:00<00:00,  1.44it/s]\u001b[A\u001b[A\n",
      "\n",
      "  6%|▌         | 563/10000 [06:12<1:47:58,  1.46it/s]\u001b[A\n",
      "\n",
      "  0%|          | 0/1 [00:00<?, ?it/s]\u001b[A\u001b[A\n",
      "\n",
      "100%|██████████| 1/1 [00:00<00:00,  1.49it/s]\u001b[A\u001b[A\n",
      "\n",
      "  6%|▌         | 564/10000 [06:12<1:56:22,  1.35it/s]\u001b[A\n",
      "\n",
      "  0%|          | 0/1 [00:00<?, ?it/s]\u001b[A\u001b[A\n",
      "\n",
      "100%|██████████| 1/1 [00:00<00:00,  1.38it/s]\u001b[A\u001b[A\n",
      "\n",
      "  6%|▌         | 565/10000 [06:13<2:02:11,  1.29it/s]\u001b[A"
     ]
    },
    {
     "name": "stdout",
     "output_type": "stream",
     "text": [
      "\n",
      "Epoch: 565, Loss: 0.3875, Val: 0.6952, Test: 0.7026\n"
     ]
    },
    {
     "name": "stderr",
     "output_type": "stream",
     "text": [
      "\n",
      "\n",
      "  0%|          | 0/1 [00:00<?, ?it/s]\u001b[A\u001b[A\n",
      "\n",
      "100%|██████████| 1/1 [00:00<00:00,  1.57it/s]\u001b[A\u001b[A\n",
      "\n",
      "  6%|▌         | 566/10000 [06:14<1:58:16,  1.33it/s]\u001b[A\n",
      "\n",
      "  0%|          | 0/1 [00:00<?, ?it/s]\u001b[A\u001b[A\n",
      "\n",
      "100%|██████████| 1/1 [00:00<00:00,  1.64it/s]\u001b[A\u001b[A\n",
      "\n",
      "  6%|▌         | 567/10000 [06:15<1:58:25,  1.33it/s]\u001b[A\n",
      "\n",
      "  0%|          | 0/1 [00:00<?, ?it/s]\u001b[A\u001b[A\n",
      "\n",
      "100%|██████████| 1/1 [00:00<00:00,  2.50it/s]\u001b[A\u001b[A\n",
      "\n",
      "  6%|▌         | 568/10000 [06:15<1:44:59,  1.50it/s]\u001b[A\n",
      "\n",
      "  0%|          | 0/1 [00:00<?, ?it/s]\u001b[A\u001b[A\n",
      "\n",
      "100%|██████████| 1/1 [00:00<00:00,  2.45it/s]\u001b[A\u001b[A\n",
      "\n",
      "  6%|▌         | 569/10000 [06:16<1:34:23,  1.67it/s]\u001b[A\n",
      "\n",
      "  0%|          | 0/1 [00:00<?, ?it/s]\u001b[A\u001b[A\n",
      "\n",
      "100%|██████████| 1/1 [00:00<00:00,  1.63it/s]\u001b[A\u001b[A\n",
      "\n",
      "  6%|▌         | 570/10000 [06:16<1:37:21,  1.61it/s]\u001b[A\n",
      "\n",
      "  0%|          | 0/1 [00:00<?, ?it/s]\u001b[A\u001b[A\n",
      "\n",
      "100%|██████████| 1/1 [00:00<00:00,  1.74it/s]\u001b[A\u001b[A\n",
      "\n",
      "  6%|▌         | 571/10000 [06:17<1:40:07,  1.57it/s]\u001b[A\n",
      "\n",
      "  0%|          | 0/1 [00:00<?, ?it/s]\u001b[A\u001b[A\n",
      "\n",
      "100%|██████████| 1/1 [00:00<00:00,  1.98it/s]\u001b[A\u001b[A\n",
      "\n",
      "  6%|▌         | 572/10000 [06:18<1:36:05,  1.64it/s]\u001b[A\n",
      "\n",
      "  0%|          | 0/1 [00:00<?, ?it/s]\u001b[A\u001b[A\n",
      "\n",
      "100%|██████████| 1/1 [00:00<00:00,  2.13it/s]\u001b[A\u001b[A\n",
      "\n",
      "  6%|▌         | 573/10000 [06:18<1:33:23,  1.68it/s]\u001b[A\n",
      "\n",
      "  0%|          | 0/1 [00:00<?, ?it/s]\u001b[A\u001b[A\n",
      "\n",
      "100%|██████████| 1/1 [00:00<00:00,  1.98it/s]\u001b[A\u001b[A\n",
      "\n",
      "  6%|▌         | 574/10000 [06:19<1:31:39,  1.71it/s]\u001b[A\n",
      "\n",
      "  0%|          | 0/1 [00:00<?, ?it/s]\u001b[A\u001b[A\n",
      "\n",
      "100%|██████████| 1/1 [00:00<00:00,  2.28it/s]\u001b[A\u001b[A\n",
      "\n",
      "  6%|▌         | 575/10000 [06:19<1:27:36,  1.79it/s]\u001b[A\n",
      "\n",
      "  0%|          | 0/1 [00:00<?, ?it/s]\u001b[A\u001b[A\n",
      "\n",
      "100%|██████████| 1/1 [00:00<00:00,  1.97it/s]\u001b[A\u001b[A\n",
      "\n",
      "  6%|▌         | 576/10000 [06:20<1:28:01,  1.78it/s]\u001b[A\n",
      "\n",
      "  0%|          | 0/1 [00:00<?, ?it/s]\u001b[A\u001b[A\n",
      "\n",
      "100%|██████████| 1/1 [00:00<00:00,  1.67it/s]\u001b[A\u001b[A\n",
      "\n",
      "  6%|▌         | 577/10000 [06:20<1:33:47,  1.67it/s]\u001b[A\n",
      "\n",
      "  0%|          | 0/1 [00:00<?, ?it/s]\u001b[A\u001b[A\n",
      "\n",
      "100%|██████████| 1/1 [00:00<00:00,  2.23it/s]\u001b[A\u001b[A\n",
      "\n",
      "  6%|▌         | 578/10000 [06:21<1:28:36,  1.77it/s]\u001b[A\n",
      "\n",
      "  0%|          | 0/1 [00:00<?, ?it/s]\u001b[A\u001b[A\n",
      "\n",
      "100%|██████████| 1/1 [00:00<00:00,  1.35it/s]\u001b[A\u001b[A\n",
      "\n",
      "  6%|▌         | 579/10000 [06:22<1:43:50,  1.51it/s]\u001b[A\n",
      "\n",
      "  0%|          | 0/1 [00:00<?, ?it/s]\u001b[A\u001b[A\n",
      "\n",
      "100%|██████████| 1/1 [00:00<00:00,  1.53it/s]\u001b[A\u001b[A\n",
      "\n",
      "  6%|▌         | 580/10000 [06:23<1:52:13,  1.40it/s]\u001b[A\n",
      "\n",
      "  0%|          | 0/1 [00:00<?, ?it/s]\u001b[A\u001b[A\n",
      "\n",
      "100%|██████████| 1/1 [00:00<00:00,  2.04it/s]\u001b[A\u001b[A\n",
      "\n",
      "  6%|▌         | 581/10000 [06:23<1:44:06,  1.51it/s]\u001b[A\n",
      "\n",
      "  0%|          | 0/1 [00:00<?, ?it/s]\u001b[A\u001b[A\n",
      "\n",
      "100%|██████████| 1/1 [00:00<00:00,  1.56it/s]\u001b[A\u001b[A\n",
      "\n",
      "  6%|▌         | 582/10000 [06:24<1:47:12,  1.46it/s]\u001b[A\n",
      "\n",
      "  0%|          | 0/1 [00:00<?, ?it/s]\u001b[A\u001b[A\n",
      "\n",
      "100%|██████████| 1/1 [00:00<00:00,  2.12it/s]\u001b[A\u001b[A\n",
      "\n",
      "  6%|▌         | 583/10000 [06:25<1:49:10,  1.44it/s]\u001b[A\n",
      "\n",
      "  0%|          | 0/1 [00:00<?, ?it/s]\u001b[A\u001b[A\n",
      "\n",
      "100%|██████████| 1/1 [00:01<00:00,  1.00s/it]\u001b[A\u001b[A\n",
      "\n",
      "  6%|▌         | 584/10000 [06:26<2:14:36,  1.17it/s]\u001b[A\n",
      "\n",
      "  0%|          | 0/1 [00:00<?, ?it/s]\u001b[A\u001b[A\n",
      "\n",
      "100%|██████████| 1/1 [00:00<00:00,  1.33it/s]\u001b[A\u001b[A\n",
      "\n",
      "  6%|▌         | 585/10000 [06:27<2:17:03,  1.14it/s]\u001b[A"
     ]
    },
    {
     "name": "stdout",
     "output_type": "stream",
     "text": [
      "\n",
      "Epoch: 585, Loss: 0.3878, Val: 0.6953, Test: 0.7030\n"
     ]
    },
    {
     "name": "stderr",
     "output_type": "stream",
     "text": [
      "\n",
      "\n",
      "  0%|          | 0/1 [00:00<?, ?it/s]\u001b[A\u001b[A\n",
      "\n",
      "100%|██████████| 1/1 [00:00<00:00,  1.53it/s]\u001b[A\u001b[A\n",
      "\n",
      "  6%|▌         | 586/10000 [06:28<2:13:02,  1.18it/s]\u001b[A"
     ]
    },
    {
     "name": "stdout",
     "output_type": "stream",
     "text": [
      "\n",
      "Epoch: 586, Loss: 0.3880, Val: 0.6957, Test: 0.7031\n"
     ]
    },
    {
     "name": "stderr",
     "output_type": "stream",
     "text": [
      "\n",
      "\n",
      "  0%|          | 0/1 [00:00<?, ?it/s]\u001b[A\u001b[A\n",
      "\n",
      "100%|██████████| 1/1 [00:00<00:00,  1.83it/s]\u001b[A\u001b[A\n",
      "\n",
      "  6%|▌         | 587/10000 [06:28<2:10:18,  1.20it/s]\u001b[A\n",
      "\n",
      "  0%|          | 0/1 [00:00<?, ?it/s]\u001b[A\u001b[A\n",
      "\n",
      "100%|██████████| 1/1 [00:00<00:00,  1.67it/s]\u001b[A\u001b[A\n",
      "\n",
      "  6%|▌         | 588/10000 [06:29<2:07:28,  1.23it/s]\u001b[A\n",
      "\n",
      "  0%|          | 0/1 [00:00<?, ?it/s]\u001b[A\u001b[A\n",
      "\n",
      "100%|██████████| 1/1 [00:00<00:00,  1.53it/s]\u001b[A\u001b[A\n",
      "\n",
      "  6%|▌         | 589/10000 [06:30<2:02:12,  1.28it/s]\u001b[A\n",
      "\n",
      "  0%|          | 0/1 [00:00<?, ?it/s]\u001b[A\u001b[A\n",
      "\n",
      "100%|██████████| 1/1 [00:00<00:00,  1.67it/s]\u001b[A\u001b[A\n",
      "\n",
      "  6%|▌         | 590/10000 [06:31<1:59:16,  1.31it/s]\u001b[A\n",
      "\n",
      "  0%|          | 0/1 [00:00<?, ?it/s]\u001b[A\u001b[A\n",
      "\n",
      "100%|██████████| 1/1 [00:00<00:00,  1.65it/s]\u001b[A\u001b[A\n",
      "\n",
      "  6%|▌         | 591/10000 [06:31<1:56:09,  1.35it/s]\u001b[A\n",
      "\n",
      "  0%|          | 0/1 [00:00<?, ?it/s]\u001b[A\u001b[A\n",
      "\n",
      "100%|██████████| 1/1 [00:00<00:00,  1.45it/s]\u001b[A\u001b[A\n",
      "\n",
      "  6%|▌         | 592/10000 [06:32<1:57:18,  1.34it/s]\u001b[A\n",
      "\n",
      "  0%|          | 0/1 [00:00<?, ?it/s]\u001b[A\u001b[A\n",
      "\n",
      "100%|██████████| 1/1 [00:00<00:00,  2.25it/s]\u001b[A\u001b[A\n",
      "\n",
      "  6%|▌         | 593/10000 [06:33<1:46:59,  1.47it/s]\u001b[A\n",
      "\n",
      "  0%|          | 0/1 [00:00<?, ?it/s]\u001b[A\u001b[A\n",
      "\n",
      "100%|██████████| 1/1 [00:00<00:00,  1.71it/s]\u001b[A\u001b[A\n",
      "\n",
      "  6%|▌         | 594/10000 [06:33<1:48:04,  1.45it/s]\u001b[A"
     ]
    },
    {
     "name": "stdout",
     "output_type": "stream",
     "text": [
      "\n",
      "Epoch: 594, Loss: 0.3877, Val: 0.6957, Test: 0.7026\n"
     ]
    },
    {
     "name": "stderr",
     "output_type": "stream",
     "text": [
      "\n",
      "\n",
      "  0%|          | 0/1 [00:00<?, ?it/s]\u001b[A\u001b[A\n",
      "\n",
      "100%|██████████| 1/1 [00:00<00:00,  1.46it/s]\u001b[A\u001b[A\n",
      "\n",
      "  6%|▌         | 595/10000 [06:34<2:05:24,  1.25it/s]\u001b[A"
     ]
    },
    {
     "name": "stdout",
     "output_type": "stream",
     "text": [
      "\n",
      "Epoch: 595, Loss: 0.3874, Val: 0.6959, Test: 0.7030\n"
     ]
    },
    {
     "name": "stderr",
     "output_type": "stream",
     "text": [
      "\n",
      "\n",
      "  0%|          | 0/1 [00:00<?, ?it/s]\u001b[A\u001b[A\n",
      "\n",
      "100%|██████████| 1/1 [00:00<00:00,  2.18it/s]\u001b[A\u001b[A\n",
      "\n",
      "  6%|▌         | 596/10000 [06:35<1:51:28,  1.41it/s]\u001b[A\n",
      "\n",
      "  0%|          | 0/1 [00:00<?, ?it/s]\u001b[A\u001b[A\n",
      "\n",
      "100%|██████████| 1/1 [00:00<00:00,  1.71it/s]\u001b[A\u001b[A\n",
      "\n",
      "  6%|▌         | 597/10000 [06:36<1:51:50,  1.40it/s]\u001b[A\n",
      "\n",
      "  0%|          | 0/1 [00:00<?, ?it/s]\u001b[A\u001b[A\n",
      "\n",
      "100%|██████████| 1/1 [00:00<00:00,  1.34it/s]\u001b[A\u001b[A\n",
      "\n",
      "  6%|▌         | 598/10000 [06:36<1:57:54,  1.33it/s]\u001b[A\n",
      "\n",
      "  0%|          | 0/1 [00:00<?, ?it/s]\u001b[A\u001b[A\n",
      "\n",
      "100%|██████████| 1/1 [00:00<00:00,  1.53it/s]\u001b[A\u001b[A\n",
      "\n",
      "  6%|▌         | 599/10000 [06:37<1:55:22,  1.36it/s]\u001b[A\n",
      "\n",
      "  0%|          | 0/1 [00:00<?, ?it/s]\u001b[A\u001b[A\n",
      "\n",
      "100%|██████████| 1/1 [00:00<00:00,  1.47it/s]\u001b[A\u001b[A\n",
      "\n",
      "  6%|▌         | 600/10000 [06:38<1:56:27,  1.35it/s]\u001b[A\n",
      "\n",
      "  0%|          | 0/1 [00:00<?, ?it/s]\u001b[A\u001b[A\n",
      "\n",
      "100%|██████████| 1/1 [00:00<00:00,  1.90it/s]\u001b[A\u001b[A\n",
      "\n",
      "  6%|▌         | 601/10000 [06:38<1:52:39,  1.39it/s]\u001b[A\n",
      "\n",
      "  0%|          | 0/1 [00:00<?, ?it/s]\u001b[A\u001b[A\n",
      "\n",
      "100%|██████████| 1/1 [00:00<00:00,  1.89it/s]\u001b[A\u001b[A\n",
      "\n",
      "  6%|▌         | 602/10000 [06:39<1:48:07,  1.45it/s]\u001b[A\n",
      "\n",
      "  0%|          | 0/1 [00:00<?, ?it/s]\u001b[A\u001b[A\n",
      "\n",
      "100%|██████████| 1/1 [00:00<00:00,  1.62it/s]\u001b[A\u001b[A\n",
      "\n",
      "  6%|▌         | 603/10000 [06:40<1:51:03,  1.41it/s]\u001b[A\n",
      "\n",
      "  0%|          | 0/1 [00:00<?, ?it/s]\u001b[A\u001b[A\n",
      "\n",
      "100%|██████████| 1/1 [00:00<00:00,  1.71it/s]\u001b[A\u001b[A\n",
      "\n",
      "  6%|▌         | 604/10000 [06:40<1:47:16,  1.46it/s]\u001b[A\n",
      "\n",
      "  0%|          | 0/1 [00:00<?, ?it/s]\u001b[A\u001b[A\n",
      "\n",
      "100%|██████████| 1/1 [00:00<00:00,  1.94it/s]\u001b[A\u001b[A\n",
      "\n",
      "  6%|▌         | 605/10000 [06:41<1:42:09,  1.53it/s]\u001b[A\n",
      "\n",
      "  0%|          | 0/1 [00:00<?, ?it/s]\u001b[A\u001b[A\n",
      "\n",
      "100%|██████████| 1/1 [00:00<00:00,  1.74it/s]\u001b[A\u001b[A\n",
      "\n",
      "  6%|▌         | 606/10000 [06:42<1:41:23,  1.54it/s]\u001b[A\n",
      "\n",
      "  0%|          | 0/1 [00:00<?, ?it/s]\u001b[A\u001b[A\n",
      "\n",
      "100%|██████████| 1/1 [00:00<00:00,  1.43it/s]\u001b[A\u001b[A\n",
      "\n",
      "  6%|▌         | 607/10000 [06:43<1:49:51,  1.43it/s]\u001b[A\n",
      "\n",
      "  0%|          | 0/1 [00:00<?, ?it/s]\u001b[A\u001b[A\n",
      "\n",
      "100%|██████████| 1/1 [00:00<00:00,  2.17it/s]\u001b[A\u001b[A\n",
      "\n",
      "  6%|▌         | 608/10000 [06:43<1:45:47,  1.48it/s]\u001b[A\n",
      "\n",
      "  0%|          | 0/1 [00:00<?, ?it/s]\u001b[A\u001b[A\n",
      "\n",
      "100%|██████████| 1/1 [00:00<00:00,  1.55it/s]\u001b[A\u001b[A\n",
      "\n",
      "  6%|▌         | 609/10000 [06:44<1:47:35,  1.45it/s]\u001b[A\n",
      "\n",
      "  0%|          | 0/1 [00:00<?, ?it/s]\u001b[A\u001b[A\n",
      "\n",
      "100%|██████████| 1/1 [00:00<00:00,  1.29it/s]\u001b[A\u001b[A\n",
      "\n",
      "  6%|▌         | 610/10000 [06:45<2:07:56,  1.22it/s]\u001b[A"
     ]
    },
    {
     "name": "stdout",
     "output_type": "stream",
     "text": [
      "\n",
      "Epoch: 610, Loss: 0.3880, Val: 0.6962, Test: 0.7028\n"
     ]
    },
    {
     "name": "stderr",
     "output_type": "stream",
     "text": [
      "\n",
      "\n",
      "  0%|          | 0/1 [00:00<?, ?it/s]\u001b[A\u001b[A\n",
      "\n",
      "100%|██████████| 1/1 [00:00<00:00,  2.05it/s]\u001b[A\u001b[A\n",
      "\n",
      "  6%|▌         | 611/10000 [06:46<1:54:43,  1.36it/s]\u001b[A\n",
      "\n",
      "  0%|          | 0/1 [00:00<?, ?it/s]\u001b[A\u001b[A\n",
      "\n",
      "100%|██████████| 1/1 [00:00<00:00,  1.89it/s]\u001b[A\u001b[A\n",
      "\n",
      "  6%|▌         | 612/10000 [06:46<1:48:57,  1.44it/s]\u001b[A"
     ]
    },
    {
     "name": "stdout",
     "output_type": "stream",
     "text": [
      "\n",
      "Epoch: 612, Loss: 0.3879, Val: 0.6964, Test: 0.7029\n"
     ]
    },
    {
     "name": "stderr",
     "output_type": "stream",
     "text": [
      "\n",
      "\n",
      "  0%|          | 0/1 [00:00<?, ?it/s]\u001b[A\u001b[A\n",
      "\n",
      "100%|██████████| 1/1 [00:00<00:00,  1.28it/s]\u001b[A\u001b[A\n",
      "\n",
      "  6%|▌         | 613/10000 [06:47<2:01:07,  1.29it/s]\u001b[A\n",
      "\n",
      "  0%|          | 0/1 [00:00<?, ?it/s]\u001b[A\u001b[A\n",
      "\n",
      "100%|██████████| 1/1 [00:00<00:00,  2.24it/s]\u001b[A\u001b[A\n",
      "\n",
      "  6%|▌         | 614/10000 [06:48<1:47:57,  1.45it/s]\u001b[A\n",
      "\n",
      "  0%|          | 0/1 [00:00<?, ?it/s]\u001b[A\u001b[A\n",
      "\n",
      "100%|██████████| 1/1 [00:00<00:00,  1.71it/s]\u001b[A\u001b[A\n",
      "\n",
      "  6%|▌         | 615/10000 [06:48<1:45:30,  1.48it/s]\u001b[A\n",
      "\n",
      "  0%|          | 0/1 [00:00<?, ?it/s]\u001b[A\u001b[A\n",
      "\n",
      "100%|██████████| 1/1 [00:00<00:00,  2.40it/s]\u001b[A\u001b[A\n",
      "\n",
      "  6%|▌         | 616/10000 [06:49<1:39:38,  1.57it/s]\u001b[A\n",
      "\n",
      "  0%|          | 0/1 [00:00<?, ?it/s]\u001b[A\u001b[A\n",
      "\n",
      "100%|██████████| 1/1 [00:00<00:00,  2.14it/s]\u001b[A\u001b[A\n",
      "\n",
      "  6%|▌         | 617/10000 [06:49<1:38:22,  1.59it/s]\u001b[A\n",
      "\n",
      "  0%|          | 0/1 [00:00<?, ?it/s]\u001b[A\u001b[A\n",
      "\n",
      "100%|██████████| 1/1 [00:00<00:00,  1.93it/s]\u001b[A\u001b[A\n",
      "\n",
      "  6%|▌         | 618/10000 [06:50<1:39:07,  1.58it/s]\u001b[A\n",
      "\n",
      "  0%|          | 0/1 [00:00<?, ?it/s]\u001b[A\u001b[A\n",
      "\n",
      "100%|██████████| 1/1 [00:00<00:00,  1.68it/s]\u001b[A\u001b[A\n",
      "\n",
      "  6%|▌         | 619/10000 [06:51<1:39:12,  1.58it/s]\u001b[A\n",
      "\n",
      "  0%|          | 0/1 [00:00<?, ?it/s]\u001b[A\u001b[A\n",
      "\n",
      "100%|██████████| 1/1 [00:00<00:00,  1.65it/s]\u001b[A\u001b[A\n",
      "\n",
      "  6%|▌         | 620/10000 [06:51<1:42:27,  1.53it/s]\u001b[A\n",
      "\n",
      "  0%|          | 0/1 [00:00<?, ?it/s]\u001b[A\u001b[A\n",
      "\n",
      "100%|██████████| 1/1 [00:00<00:00,  2.68it/s]\u001b[A\u001b[A\n",
      "\n",
      "  6%|▌         | 621/10000 [06:52<1:31:43,  1.70it/s]\u001b[A\n",
      "\n",
      "  0%|          | 0/1 [00:00<?, ?it/s]\u001b[A\u001b[A\n",
      "\n",
      "100%|██████████| 1/1 [00:00<00:00,  2.72it/s]\u001b[A\u001b[A\n",
      "\n",
      "  6%|▌         | 622/10000 [06:52<1:23:06,  1.88it/s]\u001b[A\n",
      "\n",
      "  0%|          | 0/1 [00:00<?, ?it/s]\u001b[A\u001b[A\n",
      "\n",
      "100%|██████████| 1/1 [00:00<00:00,  2.26it/s]\u001b[A\u001b[A\n",
      "\n",
      "  6%|▌         | 623/10000 [06:53<1:21:00,  1.93it/s]\u001b[A\n",
      "\n",
      "  0%|          | 0/1 [00:00<?, ?it/s]\u001b[A\u001b[A\n",
      "\n",
      "100%|██████████| 1/1 [00:00<00:00,  2.69it/s]\u001b[A\u001b[A\n",
      "\n",
      "  6%|▌         | 624/10000 [06:53<1:16:15,  2.05it/s]\u001b[A\n",
      "\n",
      "  0%|          | 0/1 [00:00<?, ?it/s]\u001b[A\u001b[A\n",
      "\n",
      "100%|██████████| 1/1 [00:00<00:00,  1.82it/s]\u001b[A\u001b[A\n",
      "\n",
      "  6%|▋         | 625/10000 [06:54<1:26:56,  1.80it/s]\u001b[A"
     ]
    },
    {
     "name": "stdout",
     "output_type": "stream",
     "text": [
      "\n",
      "Epoch: 625, Loss: 0.3877, Val: 0.6966, Test: 0.7050\n"
     ]
    },
    {
     "name": "stderr",
     "output_type": "stream",
     "text": [
      "\n",
      "\n",
      "  0%|          | 0/1 [00:00<?, ?it/s]\u001b[A\u001b[A\n",
      "\n",
      "100%|██████████| 1/1 [00:00<00:00,  1.86it/s]\u001b[A\u001b[A\n",
      "\n",
      "  6%|▋         | 626/10000 [06:54<1:30:49,  1.72it/s]\u001b[A\n",
      "\n",
      "  0%|          | 0/1 [00:00<?, ?it/s]\u001b[A\u001b[A\n",
      "\n",
      "100%|██████████| 1/1 [00:00<00:00,  1.74it/s]\u001b[A\u001b[A\n",
      "\n",
      "  6%|▋         | 627/10000 [06:55<1:32:44,  1.68it/s]\u001b[A\n",
      "\n",
      "  0%|          | 0/1 [00:00<?, ?it/s]\u001b[A\u001b[A\n",
      "\n",
      "100%|██████████| 1/1 [00:00<00:00,  1.30it/s]\u001b[A\u001b[A\n",
      "\n",
      "  6%|▋         | 628/10000 [06:56<1:46:32,  1.47it/s]\u001b[A\n",
      "\n",
      "  0%|          | 0/1 [00:00<?, ?it/s]\u001b[A\u001b[A\n",
      "\n",
      "100%|██████████| 1/1 [00:00<00:00,  2.21it/s]\u001b[A\u001b[A\n",
      "\n",
      "  6%|▋         | 629/10000 [06:56<1:38:01,  1.59it/s]\u001b[A\n",
      "\n",
      "  0%|          | 0/1 [00:00<?, ?it/s]\u001b[A\u001b[A\n",
      "\n",
      "100%|██████████| 1/1 [00:00<00:00,  1.29it/s]\u001b[A\u001b[A\n",
      "\n",
      "  6%|▋         | 630/10000 [06:57<1:47:44,  1.45it/s]\u001b[A\n",
      "\n",
      "  0%|          | 0/1 [00:00<?, ?it/s]\u001b[A\u001b[A\n",
      "\n",
      "100%|██████████| 1/1 [00:00<00:00,  1.94it/s]\u001b[A\u001b[A\n",
      "\n",
      "  6%|▋         | 631/10000 [06:58<1:45:53,  1.47it/s]\u001b[A"
     ]
    },
    {
     "name": "stdout",
     "output_type": "stream",
     "text": [
      "\n",
      "Epoch: 631, Loss: 0.3876, Val: 0.6974, Test: 0.7048\n"
     ]
    },
    {
     "name": "stderr",
     "output_type": "stream",
     "text": [
      "\n",
      "\n",
      "  0%|          | 0/1 [00:00<?, ?it/s]\u001b[A\u001b[A\n",
      "\n",
      "100%|██████████| 1/1 [00:00<00:00,  1.89it/s]\u001b[A\u001b[A\n",
      "\n",
      "  6%|▋         | 632/10000 [06:59<1:47:56,  1.45it/s]\u001b[A"
     ]
    },
    {
     "name": "stdout",
     "output_type": "stream",
     "text": [
      "\n",
      "Epoch: 632, Loss: 0.3877, Val: 0.6975, Test: 0.7048\n"
     ]
    },
    {
     "name": "stderr",
     "output_type": "stream",
     "text": [
      "\n",
      "\n",
      "  0%|          | 0/1 [00:00<?, ?it/s]\u001b[A\u001b[A\n",
      "\n",
      "100%|██████████| 1/1 [00:00<00:00,  1.35it/s]\u001b[A\u001b[A\n",
      "\n",
      "  6%|▋         | 633/10000 [07:00<1:59:05,  1.31it/s]\u001b[A\n",
      "\n",
      "  0%|          | 0/1 [00:00<?, ?it/s]\u001b[A\u001b[A\n",
      "\n",
      "100%|██████████| 1/1 [00:00<00:00,  1.61it/s]\u001b[A\u001b[A\n",
      "\n",
      "  6%|▋         | 634/10000 [07:00<1:54:39,  1.36it/s]\u001b[A\n",
      "\n",
      "  0%|          | 0/1 [00:00<?, ?it/s]\u001b[A\u001b[A\n",
      "\n",
      "100%|██████████| 1/1 [00:00<00:00,  2.54it/s]\u001b[A\u001b[A\n",
      "\n",
      "  6%|▋         | 635/10000 [07:01<1:41:23,  1.54it/s]\u001b[A\n",
      "\n",
      "  0%|          | 0/1 [00:00<?, ?it/s]\u001b[A\u001b[A\n",
      "\n",
      "100%|██████████| 1/1 [00:00<00:00,  3.07it/s]\u001b[A\u001b[A\n",
      "\n",
      "  6%|▋         | 636/10000 [07:01<1:27:53,  1.78it/s]\u001b[A\n",
      "\n",
      "  0%|          | 0/1 [00:00<?, ?it/s]\u001b[A\u001b[A\n",
      "\n",
      "100%|██████████| 1/1 [00:00<00:00,  2.98it/s]\u001b[A\u001b[A\n",
      "\n",
      "  6%|▋         | 637/10000 [07:01<1:18:56,  1.98it/s]\u001b[A\n",
      "\n",
      "  0%|          | 0/1 [00:00<?, ?it/s]\u001b[A\u001b[A\n",
      "\n",
      "100%|██████████| 1/1 [00:00<00:00,  3.16it/s]\u001b[A\u001b[A\n",
      "\n",
      "  6%|▋         | 638/10000 [07:02<1:11:38,  2.18it/s]\u001b[A\n",
      "\n",
      "  0%|          | 0/1 [00:00<?, ?it/s]\u001b[A\u001b[A\n",
      "\n",
      "100%|██████████| 1/1 [00:00<00:00,  3.12it/s]\u001b[A\u001b[A\n",
      "\n",
      "  6%|▋         | 639/10000 [07:02<1:07:05,  2.33it/s]\u001b[A\n",
      "\n",
      "  0%|          | 0/1 [00:00<?, ?it/s]\u001b[A\u001b[A\n",
      "\n",
      "100%|██████████| 1/1 [00:00<00:00,  2.74it/s]\u001b[A\u001b[A\n",
      "\n",
      "  6%|▋         | 640/10000 [07:03<1:06:19,  2.35it/s]\u001b[A\n",
      "\n",
      "  0%|          | 0/1 [00:00<?, ?it/s]\u001b[A\u001b[A\n",
      "\n",
      "100%|██████████| 1/1 [00:00<00:00,  3.21it/s]\u001b[A\u001b[A\n",
      "\n",
      "  6%|▋         | 641/10000 [07:03<1:02:43,  2.49it/s]\u001b[A\n",
      "\n",
      "  0%|          | 0/1 [00:00<?, ?it/s]\u001b[A\u001b[A\n",
      "\n",
      "100%|██████████| 1/1 [00:00<00:00,  3.00it/s]\u001b[A\u001b[A\n",
      "\n",
      "  6%|▋         | 642/10000 [07:03<1:01:14,  2.55it/s]\u001b[A\n",
      "\n",
      "  0%|          | 0/1 [00:00<?, ?it/s]\u001b[A\u001b[A\n",
      "\n",
      "100%|██████████| 1/1 [00:00<00:00,  3.08it/s]\u001b[A\u001b[A\n",
      "\n",
      "  6%|▋         | 643/10000 [07:04<1:00:57,  2.56it/s]\u001b[A\n",
      "\n",
      "  0%|          | 0/1 [00:00<?, ?it/s]\u001b[A\u001b[A\n",
      "\n",
      "100%|██████████| 1/1 [00:00<00:00,  3.18it/s]\u001b[A\u001b[A\n",
      "\n",
      "  6%|▋         | 644/10000 [07:04<59:27,  2.62it/s]  \u001b[A\n",
      "\n",
      "  0%|          | 0/1 [00:00<?, ?it/s]\u001b[A\u001b[A\n",
      "\n",
      "100%|██████████| 1/1 [00:00<00:00,  2.65it/s]\u001b[A\u001b[A\n",
      "\n",
      "  6%|▋         | 645/10000 [07:04<1:01:37,  2.53it/s]\u001b[A\n",
      "\n",
      "  0%|          | 0/1 [00:00<?, ?it/s]\u001b[A\u001b[A\n",
      "\n",
      "100%|██████████| 1/1 [00:00<00:00,  1.73it/s]\u001b[A\u001b[A\n",
      "\n",
      "  6%|▋         | 646/10000 [07:05<1:11:55,  2.17it/s]\u001b[A\n",
      "\n",
      "  0%|          | 0/1 [00:00<?, ?it/s]\u001b[A\u001b[A\n",
      "\n",
      "100%|██████████| 1/1 [00:00<00:00,  2.55it/s]\u001b[A\u001b[A\n",
      "\n",
      "  6%|▋         | 647/10000 [07:06<1:11:57,  2.17it/s]\u001b[A"
     ]
    },
    {
     "name": "stdout",
     "output_type": "stream",
     "text": [
      "\n",
      "Epoch: 647, Loss: 0.3881, Val: 0.6975, Test: 0.7042\n"
     ]
    },
    {
     "name": "stderr",
     "output_type": "stream",
     "text": [
      "\n",
      "\n",
      "  0%|          | 0/1 [00:00<?, ?it/s]\u001b[A\u001b[A\n",
      "\n",
      "100%|██████████| 1/1 [00:00<00:00,  2.63it/s]\u001b[A\u001b[A\n",
      "\n",
      "  6%|▋         | 648/10000 [07:06<1:10:08,  2.22it/s]\u001b[A\n",
      "\n",
      "  0%|          | 0/1 [00:00<?, ?it/s]\u001b[A\u001b[A\n",
      "\n",
      "100%|██████████| 1/1 [00:00<00:00,  2.47it/s]\u001b[A\u001b[A\n",
      "\n",
      "  6%|▋         | 649/10000 [07:06<1:09:51,  2.23it/s]\u001b[A\n",
      "\n",
      "  0%|          | 0/1 [00:00<?, ?it/s]\u001b[A\u001b[A\n",
      "\n",
      "100%|██████████| 1/1 [00:00<00:00,  2.35it/s]\u001b[A\u001b[A\n",
      "\n",
      "  6%|▋         | 650/10000 [07:07<1:11:00,  2.19it/s]\u001b[A\n",
      "\n",
      "  0%|          | 0/1 [00:00<?, ?it/s]\u001b[A\u001b[A\n",
      "\n",
      "100%|██████████| 1/1 [00:00<00:00,  2.34it/s]\u001b[A\u001b[A\n",
      "\n",
      "  7%|▋         | 651/10000 [07:07<1:12:08,  2.16it/s]\u001b[A\n",
      "\n",
      "  0%|          | 0/1 [00:00<?, ?it/s]\u001b[A\u001b[A\n",
      "\n",
      "100%|██████████| 1/1 [00:00<00:00,  1.53it/s]\u001b[A\u001b[A\n",
      "\n",
      "  7%|▋         | 652/10000 [07:08<1:25:58,  1.81it/s]\u001b[A\n",
      "\n",
      "  0%|          | 0/1 [00:00<?, ?it/s]\u001b[A\u001b[A\n",
      "\n",
      "100%|██████████| 1/1 [00:00<00:00,  1.83it/s]\u001b[A\u001b[A\n",
      "\n",
      "  7%|▋         | 653/10000 [07:09<1:28:14,  1.77it/s]\u001b[A\n",
      "\n",
      "  0%|          | 0/1 [00:00<?, ?it/s]\u001b[A\u001b[A\n",
      "\n",
      "100%|██████████| 1/1 [00:00<00:00,  2.47it/s]\u001b[A\u001b[A\n",
      "\n",
      "  7%|▋         | 654/10000 [07:09<1:23:53,  1.86it/s]\u001b[A\n",
      "\n",
      "  0%|          | 0/1 [00:00<?, ?it/s]\u001b[A\u001b[A\n",
      "\n",
      "100%|██████████| 1/1 [00:00<00:00,  2.15it/s]\u001b[A\u001b[A\n",
      "\n",
      "  7%|▋         | 655/10000 [07:10<1:23:42,  1.86it/s]\u001b[A\n",
      "\n",
      "  0%|          | 0/1 [00:00<?, ?it/s]\u001b[A\u001b[A\n",
      "\n",
      "100%|██████████| 1/1 [00:00<00:00,  2.15it/s]\u001b[A\u001b[A\n",
      "\n",
      "  7%|▋         | 656/10000 [07:10<1:31:03,  1.71it/s]\u001b[A"
     ]
    },
    {
     "name": "stdout",
     "output_type": "stream",
     "text": [
      "\n",
      "Epoch: 656, Loss: 0.3877, Val: 0.6975, Test: 0.7049\n"
     ]
    },
    {
     "name": "stderr",
     "output_type": "stream",
     "text": [
      "\n",
      "\n",
      "  0%|          | 0/1 [00:00<?, ?it/s]\u001b[A\u001b[A\n",
      "\n",
      "100%|██████████| 1/1 [00:00<00:00,  2.00it/s]\u001b[A\u001b[A\n",
      "\n",
      "  7%|▋         | 657/10000 [07:11<1:31:27,  1.70it/s]\u001b[A"
     ]
    },
    {
     "name": "stdout",
     "output_type": "stream",
     "text": [
      "\n",
      "Epoch: 657, Loss: 0.3873, Val: 0.6982, Test: 0.7046\n"
     ]
    },
    {
     "name": "stderr",
     "output_type": "stream",
     "text": [
      "\n",
      "\n",
      "  0%|          | 0/1 [00:00<?, ?it/s]\u001b[A\u001b[A\n",
      "\n",
      "100%|██████████| 1/1 [00:00<00:00,  2.04it/s]\u001b[A\u001b[A\n",
      "\n",
      "  7%|▋         | 658/10000 [07:12<1:28:49,  1.75it/s]\u001b[A\n",
      "\n",
      "  0%|          | 0/1 [00:00<?, ?it/s]\u001b[A\u001b[A\n",
      "\n",
      "100%|██████████| 1/1 [00:00<00:00,  2.57it/s]\u001b[A\u001b[A\n",
      "\n",
      "  7%|▋         | 659/10000 [07:12<1:22:13,  1.89it/s]\u001b[A\n",
      "\n",
      "  0%|          | 0/1 [00:00<?, ?it/s]\u001b[A\u001b[A\n",
      "\n",
      "100%|██████████| 1/1 [00:00<00:00,  2.47it/s]\u001b[A\u001b[A\n",
      "\n",
      "  7%|▋         | 660/10000 [07:12<1:18:19,  1.99it/s]\u001b[A\n",
      "\n",
      "  0%|          | 0/1 [00:00<?, ?it/s]\u001b[A\u001b[A\n",
      "\n",
      "100%|██████████| 1/1 [00:00<00:00,  2.57it/s]\u001b[A\u001b[A\n",
      "\n",
      "  7%|▋         | 661/10000 [07:13<1:15:04,  2.07it/s]\u001b[A\n",
      "\n",
      "  0%|          | 0/1 [00:00<?, ?it/s]\u001b[A\u001b[A\n",
      "\n",
      "100%|██████████| 1/1 [00:00<00:00,  3.23it/s]\u001b[A\u001b[A\n",
      "\n",
      "  7%|▋         | 662/10000 [07:13<1:08:58,  2.26it/s]\u001b[A\n",
      "\n",
      "  0%|          | 0/1 [00:00<?, ?it/s]\u001b[A\u001b[A\n",
      "\n",
      "100%|██████████| 1/1 [00:00<00:00,  2.39it/s]\u001b[A\u001b[A\n",
      "\n",
      "  7%|▋         | 663/10000 [07:14<1:09:28,  2.24it/s]\u001b[A\n",
      "\n",
      "  0%|          | 0/1 [00:00<?, ?it/s]\u001b[A\u001b[A\n",
      "\n",
      "100%|██████████| 1/1 [00:00<00:00,  2.38it/s]\u001b[A\u001b[A\n",
      "\n",
      "  7%|▋         | 664/10000 [07:14<1:11:01,  2.19it/s]\u001b[A\n",
      "\n",
      "  0%|          | 0/1 [00:00<?, ?it/s]\u001b[A\u001b[A\n",
      "\n",
      "100%|██████████| 1/1 [00:00<00:00,  2.37it/s]\u001b[A\u001b[A\n",
      "\n",
      "  7%|▋         | 665/10000 [07:15<1:11:11,  2.19it/s]\u001b[A\n",
      "\n",
      "  0%|          | 0/1 [00:00<?, ?it/s]\u001b[A\u001b[A\n",
      "\n",
      "100%|██████████| 1/1 [00:00<00:00,  2.92it/s]\u001b[A\u001b[A\n",
      "\n",
      "  7%|▋         | 666/10000 [07:15<1:07:35,  2.30it/s]\u001b[A\n",
      "\n",
      "  0%|          | 0/1 [00:00<?, ?it/s]\u001b[A\u001b[A\n",
      "\n",
      "100%|██████████| 1/1 [00:00<00:00,  2.51it/s]\u001b[A\u001b[A\n",
      "\n",
      "  7%|▋         | 667/10000 [07:15<1:07:42,  2.30it/s]\u001b[A\n",
      "\n",
      "  0%|          | 0/1 [00:00<?, ?it/s]\u001b[A\u001b[A\n",
      "\n",
      "100%|██████████| 1/1 [00:00<00:00,  2.78it/s]\u001b[A\u001b[A\n",
      "\n",
      "  7%|▋         | 668/10000 [07:16<1:05:46,  2.36it/s]\u001b[A\n",
      "\n",
      "  0%|          | 0/1 [00:00<?, ?it/s]\u001b[A\u001b[A\n",
      "\n",
      "100%|██████████| 1/1 [00:00<00:00,  2.70it/s]\u001b[A\u001b[A\n",
      "\n",
      "  7%|▋         | 669/10000 [07:16<1:05:10,  2.39it/s]\u001b[A\n",
      "\n",
      "  0%|          | 0/1 [00:00<?, ?it/s]\u001b[A\u001b[A\n",
      "\n",
      "100%|██████████| 1/1 [00:00<00:00,  2.43it/s]\u001b[A\u001b[A\n",
      "\n",
      "  7%|▋         | 670/10000 [07:17<1:06:27,  2.34it/s]\u001b[A\n",
      "\n",
      "  0%|          | 0/1 [00:00<?, ?it/s]\u001b[A\u001b[A\n",
      "\n",
      "100%|██████████| 1/1 [00:00<00:00,  2.72it/s]\u001b[A\u001b[A\n",
      "\n",
      "  7%|▋         | 671/10000 [07:17<1:05:40,  2.37it/s]\u001b[A\n",
      "\n",
      "  0%|          | 0/1 [00:00<?, ?it/s]\u001b[A\u001b[A\n",
      "\n",
      "100%|██████████| 1/1 [00:00<00:00,  2.59it/s]\u001b[A\u001b[A\n",
      "\n",
      "  7%|▋         | 672/10000 [07:18<1:05:43,  2.37it/s]\u001b[A\n",
      "\n",
      "  0%|          | 0/1 [00:00<?, ?it/s]\u001b[A\u001b[A\n",
      "\n",
      "100%|██████████| 1/1 [00:00<00:00,  2.35it/s]\u001b[A\u001b[A\n",
      "\n",
      "  7%|▋         | 673/10000 [07:18<1:09:23,  2.24it/s]\u001b[A\n",
      "\n",
      "  0%|          | 0/1 [00:00<?, ?it/s]\u001b[A\u001b[A\n",
      "\n",
      "100%|██████████| 1/1 [00:00<00:00,  1.68it/s]\u001b[A\u001b[A\n",
      "\n",
      "  7%|▋         | 674/10000 [07:19<1:18:21,  1.98it/s]\u001b[A\n",
      "\n",
      "  0%|          | 0/1 [00:00<?, ?it/s]\u001b[A\u001b[A\n",
      "\n",
      "100%|██████████| 1/1 [00:00<00:00,  2.58it/s]\u001b[A\u001b[A\n",
      "\n",
      "  7%|▋         | 675/10000 [07:19<1:14:56,  2.07it/s]\u001b[A\n",
      "\n",
      "  0%|          | 0/1 [00:00<?, ?it/s]\u001b[A\u001b[A\n",
      "\n",
      "100%|██████████| 1/1 [00:00<00:00,  2.02it/s]\u001b[A\u001b[A\n",
      "\n",
      "  7%|▋         | 676/10000 [07:20<1:18:13,  1.99it/s]\u001b[A\n",
      "\n",
      "  0%|          | 0/1 [00:00<?, ?it/s]\u001b[A\u001b[A\n",
      "\n",
      "100%|██████████| 1/1 [00:00<00:00,  2.28it/s]\u001b[A\u001b[A\n",
      "\n",
      "  7%|▋         | 677/10000 [07:20<1:17:13,  2.01it/s]\u001b[A\n",
      "\n",
      "  0%|          | 0/1 [00:00<?, ?it/s]\u001b[A\u001b[A\n",
      "\n",
      "100%|██████████| 1/1 [00:00<00:00,  1.50it/s]\u001b[A\u001b[A\n",
      "\n",
      "  7%|▋         | 678/10000 [07:21<1:35:24,  1.63it/s]\u001b[A\n",
      "\n",
      "  0%|          | 0/1 [00:00<?, ?it/s]\u001b[A\u001b[A\n",
      "\n",
      "100%|██████████| 1/1 [00:00<00:00,  2.29it/s]\u001b[A\u001b[A\n",
      "\n",
      "  7%|▋         | 679/10000 [07:22<1:29:36,  1.73it/s]\u001b[A\n",
      "\n",
      "  0%|          | 0/1 [00:00<?, ?it/s]\u001b[A\u001b[A\n",
      "\n",
      "100%|██████████| 1/1 [00:00<00:00,  1.59it/s]\u001b[A\u001b[A\n",
      "\n",
      "  7%|▋         | 680/10000 [07:22<1:37:57,  1.59it/s]\u001b[A\n",
      "\n",
      "  0%|          | 0/1 [00:00<?, ?it/s]\u001b[A\u001b[A\n",
      "\n",
      "100%|██████████| 1/1 [00:00<00:00,  2.19it/s]\u001b[A\u001b[A\n",
      "\n",
      "  7%|▋         | 681/10000 [07:23<1:34:28,  1.64it/s]\u001b[A\n",
      "\n",
      "  0%|          | 0/1 [00:00<?, ?it/s]\u001b[A\u001b[A\n",
      "\n",
      "100%|██████████| 1/1 [00:00<00:00,  1.85it/s]\u001b[A\u001b[A\n",
      "\n",
      "  7%|▋         | 682/10000 [07:23<1:36:35,  1.61it/s]\u001b[A\n",
      "\n",
      "  0%|          | 0/1 [00:00<?, ?it/s]\u001b[A\u001b[A\n",
      "\n",
      "100%|██████████| 1/1 [00:00<00:00,  1.36it/s]\u001b[A\u001b[A\n",
      "\n",
      "  7%|▋         | 683/10000 [07:24<1:45:32,  1.47it/s]\u001b[A\n",
      "\n",
      "  0%|          | 0/1 [00:00<?, ?it/s]\u001b[A\u001b[A\n",
      "\n",
      "100%|██████████| 1/1 [00:00<00:00,  1.58it/s]\u001b[A\u001b[A\n",
      "\n",
      "  7%|▋         | 684/10000 [07:25<1:45:05,  1.48it/s]\u001b[A\n",
      "\n",
      "  0%|          | 0/1 [00:00<?, ?it/s]\u001b[A\u001b[A\n",
      "\n",
      "100%|██████████| 1/1 [00:00<00:00,  2.37it/s]\u001b[A\u001b[A\n",
      "\n",
      "  7%|▋         | 685/10000 [07:25<1:36:20,  1.61it/s]\u001b[A\n",
      "\n",
      "  0%|          | 0/1 [00:00<?, ?it/s]\u001b[A\u001b[A\n",
      "\n",
      "100%|██████████| 1/1 [00:00<00:00,  1.42it/s]\u001b[A\u001b[A\n",
      "\n",
      "  7%|▋         | 686/10000 [07:26<1:45:14,  1.48it/s]\u001b[A"
     ]
    },
    {
     "name": "stdout",
     "output_type": "stream",
     "text": [
      "\n",
      "Epoch: 686, Loss: 0.3876, Val: 0.6989, Test: 0.7054\n"
     ]
    },
    {
     "name": "stderr",
     "output_type": "stream",
     "text": [
      "\n",
      "\n",
      "  0%|          | 0/1 [00:00<?, ?it/s]\u001b[A\u001b[A\n",
      "\n",
      "100%|██████████| 1/1 [00:00<00:00,  1.87it/s]\u001b[A\u001b[A\n",
      "\n",
      "  7%|▋         | 687/10000 [07:27<1:42:38,  1.51it/s]\u001b[A\n",
      "\n",
      "  0%|          | 0/1 [00:00<?, ?it/s]\u001b[A\u001b[A\n",
      "\n",
      "100%|██████████| 1/1 [00:00<00:00,  1.67it/s]\u001b[A\u001b[A\n",
      "\n",
      "  7%|▋         | 688/10000 [07:28<1:42:10,  1.52it/s]\u001b[A\n",
      "\n",
      "  0%|          | 0/1 [00:00<?, ?it/s]\u001b[A\u001b[A\n",
      "\n",
      "100%|██████████| 1/1 [00:00<00:00,  1.32it/s]\u001b[A\u001b[A\n",
      "\n",
      "  7%|▋         | 689/10000 [07:28<1:50:17,  1.41it/s]\u001b[A\n",
      "\n",
      "  0%|          | 0/1 [00:00<?, ?it/s]\u001b[A\u001b[A\n",
      "\n",
      "100%|██████████| 1/1 [00:00<00:00,  1.75it/s]\u001b[A\u001b[A\n",
      "\n",
      "  7%|▋         | 690/10000 [07:29<1:47:53,  1.44it/s]\u001b[A\n",
      "\n",
      "  0%|          | 0/1 [00:00<?, ?it/s]\u001b[A\u001b[A\n",
      "\n",
      "100%|██████████| 1/1 [00:00<00:00,  1.39it/s]\u001b[A\u001b[A\n",
      "\n",
      "  7%|▋         | 691/10000 [07:30<1:51:53,  1.39it/s]\u001b[A\n",
      "\n",
      "  0%|          | 0/1 [00:00<?, ?it/s]\u001b[A\u001b[A\n",
      "\n",
      "100%|██████████| 1/1 [00:00<00:00,  1.41it/s]\u001b[A\u001b[A\n",
      "\n",
      "  7%|▋         | 692/10000 [07:31<1:58:25,  1.31it/s]\u001b[A\n",
      "\n",
      "  0%|          | 0/1 [00:00<?, ?it/s]\u001b[A\u001b[A\n",
      "\n",
      "100%|██████████| 1/1 [00:00<00:00,  1.87it/s]\u001b[A\u001b[A\n",
      "\n",
      "  7%|▋         | 693/10000 [07:31<1:50:18,  1.41it/s]\u001b[A\n",
      "\n",
      "  0%|          | 0/1 [00:00<?, ?it/s]\u001b[A\u001b[A\n",
      "\n",
      "100%|██████████| 1/1 [00:00<00:00,  1.48it/s]\u001b[A\u001b[A\n",
      "\n",
      "  7%|▋         | 694/10000 [07:32<1:55:17,  1.35it/s]\u001b[A"
     ]
    },
    {
     "name": "stdout",
     "output_type": "stream",
     "text": [
      "\n",
      "Epoch: 694, Loss: 0.3874, Val: 0.6989, Test: 0.7068\n"
     ]
    },
    {
     "name": "stderr",
     "output_type": "stream",
     "text": [
      "\n",
      "\n",
      "  0%|          | 0/1 [00:00<?, ?it/s]\u001b[A\u001b[A\n",
      "\n",
      "100%|██████████| 1/1 [00:00<00:00,  1.93it/s]\u001b[A\u001b[A\n"
     ]
    },
    {
     "name": "stdout",
     "output_type": "stream",
     "text": [
      "\n",
      "Epoch: 695, Loss: 0.3874, Val: 0.6994, Test: 0.7065\n"
     ]
    },
    {
     "name": "stderr",
     "output_type": "stream",
     "text": [
      "\n",
      "  7%|▋         | 695/10000 [07:33<2:01:20,  1.28it/s]\u001b[A\n",
      "\n",
      "  0%|          | 0/1 [00:00<?, ?it/s]\u001b[A\u001b[A\n",
      "\n",
      "100%|██████████| 1/1 [00:00<00:00,  1.62it/s]\u001b[A\u001b[A\n",
      "\n",
      "  7%|▋         | 696/10000 [07:34<2:08:22,  1.21it/s]\u001b[A"
     ]
    },
    {
     "name": "stdout",
     "output_type": "stream",
     "text": [
      "\n",
      "Epoch: 696, Loss: 0.3877, Val: 0.6997, Test: 0.7063\n"
     ]
    },
    {
     "name": "stderr",
     "output_type": "stream",
     "text": [
      "\n",
      "\n",
      "  0%|          | 0/1 [00:00<?, ?it/s]\u001b[A\u001b[A\n",
      "\n",
      "100%|██████████| 1/1 [00:00<00:00,  1.37it/s]\u001b[A\u001b[A\n",
      "\n",
      "  7%|▋         | 697/10000 [07:35<2:05:54,  1.23it/s]\u001b[A\n",
      "\n",
      "  0%|          | 0/1 [00:00<?, ?it/s]\u001b[A\u001b[A\n",
      "\n",
      "100%|██████████| 1/1 [00:00<00:00,  1.55it/s]\u001b[A\u001b[A\n",
      "\n",
      "  7%|▋         | 698/10000 [07:35<2:04:56,  1.24it/s]\u001b[A\n",
      "\n",
      "  0%|          | 0/1 [00:00<?, ?it/s]\u001b[A\u001b[A\n",
      "\n",
      "100%|██████████| 1/1 [00:00<00:00,  1.69it/s]\u001b[A\u001b[A\n",
      "\n",
      "  7%|▋         | 699/10000 [07:36<1:58:24,  1.31it/s]\u001b[A\n",
      "\n",
      "  0%|          | 0/1 [00:00<?, ?it/s]\u001b[A\u001b[A\n",
      "\n",
      "100%|██████████| 1/1 [00:00<00:00,  1.59it/s]\u001b[A\u001b[A\n",
      "\n",
      "  7%|▋         | 700/10000 [07:37<1:56:08,  1.33it/s]\u001b[A\n",
      "\n",
      "  0%|          | 0/1 [00:00<?, ?it/s]\u001b[A\u001b[A\n",
      "\n",
      "100%|██████████| 1/1 [00:00<00:00,  2.00it/s]\u001b[A\u001b[A\n",
      "\n",
      "  7%|▋         | 701/10000 [07:37<1:49:31,  1.42it/s]\u001b[A\n",
      "\n",
      "  0%|          | 0/1 [00:00<?, ?it/s]\u001b[A\u001b[A\n",
      "\n",
      "100%|██████████| 1/1 [00:00<00:00,  1.73it/s]\u001b[A\u001b[A\n",
      "\n",
      "  7%|▋         | 702/10000 [07:38<1:46:18,  1.46it/s]\u001b[A\n",
      "\n",
      "  0%|          | 0/1 [00:00<?, ?it/s]\u001b[A\u001b[A\n",
      "\n",
      "100%|██████████| 1/1 [00:00<00:00,  1.35it/s]\u001b[A\u001b[A\n",
      "\n",
      "  7%|▋         | 703/10000 [07:39<1:52:05,  1.38it/s]\u001b[A\n",
      "\n",
      "  0%|          | 0/1 [00:00<?, ?it/s]\u001b[A\u001b[A\n",
      "\n",
      "100%|██████████| 1/1 [00:00<00:00,  2.15it/s]\u001b[A\u001b[A\n",
      "\n",
      "  7%|▋         | 704/10000 [07:40<1:48:49,  1.42it/s]\u001b[A\n",
      "\n",
      "  0%|          | 0/1 [00:00<?, ?it/s]\u001b[A\u001b[A\n",
      "\n",
      "100%|██████████| 1/1 [00:00<00:00,  1.48it/s]\u001b[A\u001b[A\n",
      "\n",
      "  7%|▋         | 705/10000 [07:40<1:50:24,  1.40it/s]\u001b[A\n",
      "\n",
      "  0%|          | 0/1 [00:00<?, ?it/s]\u001b[A\u001b[A\n",
      "\n",
      "100%|██████████| 1/1 [00:00<00:00,  1.77it/s]\u001b[A\u001b[A\n",
      "\n",
      "  7%|▋         | 706/10000 [07:41<1:53:33,  1.36it/s]\u001b[A\n",
      "\n",
      "  0%|          | 0/1 [00:00<?, ?it/s]\u001b[A\u001b[A\n",
      "\n",
      "100%|██████████| 1/1 [00:00<00:00,  1.32it/s]\u001b[A\u001b[A\n",
      "\n",
      "  7%|▋         | 707/10000 [07:42<2:01:42,  1.27it/s]\u001b[A\n",
      "\n",
      "  0%|          | 0/1 [00:00<?, ?it/s]\u001b[A\u001b[A\n",
      "\n",
      "100%|██████████| 1/1 [00:00<00:00,  1.62it/s]\u001b[A\u001b[A\n",
      "\n",
      "  7%|▋         | 708/10000 [07:43<1:57:14,  1.32it/s]\u001b[A\n",
      "\n",
      "  0%|          | 0/1 [00:00<?, ?it/s]\u001b[A\u001b[A\n",
      "\n",
      "100%|██████████| 1/1 [00:00<00:00,  2.31it/s]\u001b[A\u001b[A\n",
      "\n",
      "  7%|▋         | 709/10000 [07:43<1:50:58,  1.40it/s]\u001b[A\n",
      "\n",
      "  0%|          | 0/1 [00:00<?, ?it/s]\u001b[A\u001b[A\n",
      "\n",
      "100%|██████████| 1/1 [00:00<00:00,  1.97it/s]\u001b[A\u001b[A\n",
      "\n",
      "  7%|▋         | 710/10000 [07:44<1:44:07,  1.49it/s]\u001b[A\n",
      "\n",
      "  0%|          | 0/1 [00:00<?, ?it/s]\u001b[A\u001b[A\n",
      "\n",
      "100%|██████████| 1/1 [00:00<00:00,  1.45it/s]\u001b[A\u001b[A\n",
      "\n",
      "  7%|▋         | 711/10000 [07:45<1:48:19,  1.43it/s]\u001b[A\n",
      "\n",
      "  0%|          | 0/1 [00:00<?, ?it/s]\u001b[A\u001b[A\n",
      "\n",
      "100%|██████████| 1/1 [00:00<00:00,  1.94it/s]\u001b[A\u001b[A\n",
      "\n",
      "  7%|▋         | 712/10000 [07:45<1:42:16,  1.51it/s]\u001b[A\n",
      "\n",
      "  0%|          | 0/1 [00:00<?, ?it/s]\u001b[A\u001b[A\n",
      "\n",
      "100%|██████████| 1/1 [00:00<00:00,  2.21it/s]\u001b[A\u001b[A\n",
      "\n",
      "  7%|▋         | 713/10000 [07:46<1:34:30,  1.64it/s]\u001b[A\n",
      "\n",
      "  0%|          | 0/1 [00:00<?, ?it/s]\u001b[A\u001b[A\n",
      "\n",
      "100%|██████████| 1/1 [00:00<00:00,  2.06it/s]\u001b[A\u001b[A\n",
      "\n",
      "  7%|▋         | 714/10000 [07:46<1:31:52,  1.68it/s]\u001b[A\n",
      "\n",
      "  0%|          | 0/1 [00:00<?, ?it/s]\u001b[A\u001b[A\n",
      "\n",
      "100%|██████████| 1/1 [00:00<00:00,  2.11it/s]\u001b[A\u001b[A\n",
      "\n",
      "  7%|▋         | 715/10000 [07:47<1:28:58,  1.74it/s]\u001b[A\n",
      "\n",
      "  0%|          | 0/1 [00:00<?, ?it/s]\u001b[A\u001b[A\n",
      "\n",
      "100%|██████████| 1/1 [00:00<00:00,  1.98it/s]\u001b[A\u001b[A\n",
      "\n",
      "  7%|▋         | 716/10000 [07:47<1:29:58,  1.72it/s]\u001b[A\n",
      "\n",
      "  0%|          | 0/1 [00:00<?, ?it/s]\u001b[A\u001b[A\n",
      "\n",
      "100%|██████████| 1/1 [00:00<00:00,  1.56it/s]\u001b[A\u001b[A\n",
      "\n",
      "  7%|▋         | 717/10000 [07:48<1:39:51,  1.55it/s]\u001b[A\n",
      "\n",
      "  0%|          | 0/1 [00:00<?, ?it/s]\u001b[A\u001b[A\n",
      "\n",
      "100%|██████████| 1/1 [00:00<00:00,  2.28it/s]\u001b[A\u001b[A\n",
      "\n",
      "  7%|▋         | 718/10000 [07:49<1:35:53,  1.61it/s]\u001b[A\n",
      "\n",
      "  0%|          | 0/1 [00:00<?, ?it/s]\u001b[A\u001b[A\n",
      "\n",
      "100%|██████████| 1/1 [00:00<00:00,  1.48it/s]\u001b[A\u001b[A\n",
      "\n",
      "  7%|▋         | 719/10000 [07:49<1:40:51,  1.53it/s]\u001b[A\n",
      "\n",
      "  0%|          | 0/1 [00:00<?, ?it/s]\u001b[A\u001b[A\n",
      "\n",
      "100%|██████████| 1/1 [00:00<00:00,  1.70it/s]\u001b[A\u001b[A\n",
      "\n",
      "  7%|▋         | 720/10000 [07:50<1:40:35,  1.54it/s]\u001b[A\n",
      "\n",
      "  0%|          | 0/1 [00:00<?, ?it/s]\u001b[A\u001b[A\n",
      "\n",
      "100%|██████████| 1/1 [00:00<00:00,  2.80it/s]\u001b[A\u001b[A\n",
      "\n",
      "  7%|▋         | 721/10000 [07:51<1:30:20,  1.71it/s]\u001b[A\n",
      "\n",
      "  0%|          | 0/1 [00:00<?, ?it/s]\u001b[A\u001b[A\n",
      "\n",
      "100%|██████████| 1/1 [00:00<00:00,  1.65it/s]\u001b[A\u001b[A\n",
      "\n",
      "  7%|▋         | 722/10000 [07:51<1:34:24,  1.64it/s]\u001b[A\n",
      "\n",
      "  0%|          | 0/1 [00:00<?, ?it/s]\u001b[A\u001b[A\n",
      "\n",
      "100%|██████████| 1/1 [00:00<00:00,  1.56it/s]\u001b[A\u001b[A\n",
      "\n",
      "  7%|▋         | 723/10000 [07:52<1:45:59,  1.46it/s]\u001b[A\n",
      "\n",
      "  0%|          | 0/1 [00:00<?, ?it/s]\u001b[A\u001b[A\n",
      "\n",
      "100%|██████████| 1/1 [00:00<00:00,  1.70it/s]\u001b[A\u001b[A\n",
      "\n",
      "  7%|▋         | 724/10000 [07:53<1:43:30,  1.49it/s]\u001b[A\n",
      "\n",
      "  0%|          | 0/1 [00:00<?, ?it/s]\u001b[A\u001b[A\n",
      "\n",
      "100%|██████████| 1/1 [00:00<00:00,  1.45it/s]\u001b[A\u001b[A\n",
      "\n",
      "  7%|▋         | 725/10000 [07:54<1:50:50,  1.39it/s]\u001b[A\n",
      "\n",
      "  0%|          | 0/1 [00:00<?, ?it/s]\u001b[A\u001b[A\n",
      "\n",
      "100%|██████████| 1/1 [00:00<00:00,  1.91it/s]\u001b[A\u001b[A\n",
      "\n",
      "  7%|▋         | 726/10000 [07:54<1:45:56,  1.46it/s]\u001b[A\n",
      "\n",
      "  0%|          | 0/1 [00:00<?, ?it/s]\u001b[A\u001b[A\n",
      "\n",
      "100%|██████████| 1/1 [00:00<00:00,  1.58it/s]\u001b[A\u001b[A\n",
      "\n",
      "  7%|▋         | 727/10000 [07:55<1:49:40,  1.41it/s]\u001b[A\n",
      "\n",
      "  0%|          | 0/1 [00:00<?, ?it/s]\u001b[A\u001b[A\n",
      "\n",
      "100%|██████████| 1/1 [00:00<00:00,  1.74it/s]\u001b[A\u001b[A\n",
      "\n",
      "  7%|▋         | 728/10000 [07:56<1:51:05,  1.39it/s]\u001b[A\n",
      "\n",
      "  0%|          | 0/1 [00:00<?, ?it/s]\u001b[A\u001b[A\n",
      "\n",
      "100%|██████████| 1/1 [00:00<00:00,  1.72it/s]\u001b[A\u001b[A\n",
      "\n",
      "  7%|▋         | 729/10000 [07:56<1:47:02,  1.44it/s]\u001b[A\n",
      "\n",
      "  0%|          | 0/1 [00:00<?, ?it/s]\u001b[A\u001b[A\n",
      "\n",
      "100%|██████████| 1/1 [00:00<00:00,  2.59it/s]\u001b[A\u001b[A\n",
      "\n",
      "  7%|▋         | 730/10000 [07:57<1:34:33,  1.63it/s]\u001b[A\n",
      "\n",
      "  0%|          | 0/1 [00:00<?, ?it/s]\u001b[A\u001b[A\n",
      "\n",
      "100%|██████████| 1/1 [00:00<00:00,  1.38it/s]\u001b[A\u001b[A\n",
      "\n",
      "  7%|▋         | 731/10000 [07:57<1:42:48,  1.50it/s]\u001b[A\n",
      "\n",
      "  0%|          | 0/1 [00:00<?, ?it/s]\u001b[A\u001b[A\n",
      "\n",
      "100%|██████████| 1/1 [00:00<00:00,  1.74it/s]\u001b[A\u001b[A\n",
      "\n",
      "  7%|▋         | 732/10000 [07:58<1:46:30,  1.45it/s]\u001b[A\n",
      "\n",
      "  0%|          | 0/1 [00:00<?, ?it/s]\u001b[A\u001b[A\n",
      "\n",
      "100%|██████████| 1/1 [00:00<00:00,  1.74it/s]\u001b[A\u001b[A\n",
      "\n",
      "  7%|▋         | 733/10000 [07:59<1:43:39,  1.49it/s]\u001b[A\n",
      "\n",
      "  0%|          | 0/1 [00:00<?, ?it/s]\u001b[A\u001b[A\n",
      "\n",
      "100%|██████████| 1/1 [00:00<00:00,  1.93it/s]\u001b[A\u001b[A\n",
      "\n",
      "  7%|▋         | 734/10000 [07:59<1:41:28,  1.52it/s]\u001b[A\n",
      "\n",
      "  0%|          | 0/1 [00:00<?, ?it/s]\u001b[A\u001b[A\n",
      "\n",
      "100%|██████████| 1/1 [00:00<00:00,  2.13it/s]\u001b[A\u001b[A\n",
      "\n",
      "  7%|▋         | 735/10000 [08:00<1:35:27,  1.62it/s]\u001b[A\n",
      "\n",
      "  0%|          | 0/1 [00:00<?, ?it/s]\u001b[A\u001b[A\n",
      "\n",
      "100%|██████████| 1/1 [00:00<00:00,  1.82it/s]\u001b[A\u001b[A\n",
      "\n",
      "  7%|▋         | 736/10000 [08:01<1:35:53,  1.61it/s]\u001b[A\n",
      "\n",
      "  0%|          | 0/1 [00:00<?, ?it/s]\u001b[A\u001b[A\n",
      "\n",
      "100%|██████████| 1/1 [00:00<00:00,  1.67it/s]\u001b[A\u001b[A\n",
      "\n",
      "  7%|▋         | 737/10000 [08:01<1:43:02,  1.50it/s]\u001b[A\n",
      "\n",
      "  0%|          | 0/1 [00:00<?, ?it/s]\u001b[A\u001b[A\n",
      "\n",
      "100%|██████████| 1/1 [00:00<00:00,  1.64it/s]\u001b[A\u001b[A\n",
      "\n",
      "  7%|▋         | 738/10000 [08:02<1:44:44,  1.47it/s]\u001b[A\n",
      "\n",
      "  0%|          | 0/1 [00:00<?, ?it/s]\u001b[A\u001b[A\n",
      "\n",
      "100%|██████████| 1/1 [00:00<00:00,  1.30it/s]\u001b[A\u001b[A\n",
      "\n",
      "  7%|▋         | 739/10000 [08:03<1:55:56,  1.33it/s]\u001b[A\n",
      "\n",
      "  0%|          | 0/1 [00:00<?, ?it/s]\u001b[A\u001b[A\n",
      "\n",
      "100%|██████████| 1/1 [00:00<00:00,  1.53it/s]\u001b[A\u001b[A\n",
      "\n",
      "  7%|▋         | 740/10000 [08:04<1:59:05,  1.30it/s]\u001b[A\n",
      "\n",
      "  0%|          | 0/1 [00:00<?, ?it/s]\u001b[A\u001b[A\n",
      "\n",
      "100%|██████████| 1/1 [00:00<00:00,  1.52it/s]\u001b[A\u001b[A\n",
      "\n",
      "  7%|▋         | 741/10000 [08:05<2:00:25,  1.28it/s]\u001b[A\n",
      "\n",
      "  0%|          | 0/1 [00:00<?, ?it/s]\u001b[A\u001b[A\n",
      "\n",
      "100%|██████████| 1/1 [00:00<00:00,  1.59it/s]\u001b[A\u001b[A\n",
      "\n",
      "  7%|▋         | 742/10000 [08:05<2:00:00,  1.29it/s]\u001b[A\n",
      "\n",
      "  0%|          | 0/1 [00:00<?, ?it/s]\u001b[A\u001b[A\n",
      "\n",
      "100%|██████████| 1/1 [00:00<00:00,  1.76it/s]\u001b[A\u001b[A\n",
      "\n",
      "  7%|▋         | 743/10000 [08:06<1:52:23,  1.37it/s]\u001b[A\n",
      "\n",
      "  0%|          | 0/1 [00:00<?, ?it/s]\u001b[A\u001b[A\n",
      "\n",
      "100%|██████████| 1/1 [00:00<00:00,  1.77it/s]\u001b[A\u001b[A\n",
      "\n",
      "  7%|▋         | 744/10000 [08:07<1:48:25,  1.42it/s]\u001b[A\n",
      "\n",
      "  0%|          | 0/1 [00:00<?, ?it/s]\u001b[A\u001b[A\n",
      "\n",
      "100%|██████████| 1/1 [00:00<00:00,  2.12it/s]\u001b[A\u001b[A\n",
      "\n",
      "  7%|▋         | 745/10000 [08:07<1:39:54,  1.54it/s]\u001b[A\n",
      "\n",
      "  0%|          | 0/1 [00:00<?, ?it/s]\u001b[A\u001b[A\n",
      "\n",
      "100%|██████████| 1/1 [00:00<00:00,  1.76it/s]\u001b[A\u001b[A\n",
      "\n",
      "  7%|▋         | 746/10000 [08:08<1:39:24,  1.55it/s]\u001b[A\n",
      "\n",
      "  0%|          | 0/1 [00:00<?, ?it/s]\u001b[A\u001b[A\n",
      "\n",
      "100%|██████████| 1/1 [00:00<00:00,  2.23it/s]\u001b[A\u001b[A\n",
      "\n",
      "  7%|▋         | 747/10000 [08:08<1:35:50,  1.61it/s]\u001b[A\n",
      "\n",
      "  0%|          | 0/1 [00:00<?, ?it/s]\u001b[A\u001b[A\n",
      "\n",
      "100%|██████████| 1/1 [00:00<00:00,  1.40it/s]\u001b[A\u001b[A\n",
      "\n",
      "  7%|▋         | 748/10000 [08:09<1:46:05,  1.45it/s]\u001b[A"
     ]
    },
    {
     "name": "stdout",
     "output_type": "stream",
     "text": [
      "\n",
      "Epoch: 748, Loss: 0.3871, Val: 0.6999, Test: 0.7091\n"
     ]
    },
    {
     "name": "stderr",
     "output_type": "stream",
     "text": [
      "\n",
      "\n",
      "  0%|          | 0/1 [00:00<?, ?it/s]\u001b[A\u001b[A\n",
      "\n",
      "100%|██████████| 1/1 [00:00<00:00,  2.01it/s]\u001b[A\u001b[A\n",
      "\n",
      "  7%|▋         | 749/10000 [08:10<1:44:28,  1.48it/s]\u001b[A\n",
      "\n",
      "  0%|          | 0/1 [00:00<?, ?it/s]\u001b[A\u001b[A\n",
      "\n",
      "100%|██████████| 1/1 [00:00<00:00,  2.07it/s]\u001b[A\u001b[A\n",
      "\n",
      "  8%|▊         | 750/10000 [08:10<1:40:30,  1.53it/s]\u001b[A"
     ]
    },
    {
     "name": "stdout",
     "output_type": "stream",
     "text": [
      "\n",
      "Epoch: 750, Loss: 0.3875, Val: 0.7001, Test: 0.7091\n"
     ]
    },
    {
     "name": "stderr",
     "output_type": "stream",
     "text": [
      "\n",
      "\n",
      "  0%|          | 0/1 [00:00<?, ?it/s]\u001b[A\u001b[A\n",
      "\n",
      "100%|██████████| 1/1 [00:00<00:00,  1.43it/s]\u001b[A\u001b[A\n",
      "\n",
      "  8%|▊         | 751/10000 [08:11<1:46:15,  1.45it/s]\u001b[A\n",
      "\n",
      "  0%|          | 0/1 [00:00<?, ?it/s]\u001b[A\u001b[A\n",
      "\n",
      "100%|██████████| 1/1 [00:00<00:00,  2.08it/s]\u001b[A\u001b[A\n",
      "\n",
      "  8%|▊         | 752/10000 [08:12<1:43:30,  1.49it/s]\u001b[A\n",
      "\n",
      "  0%|          | 0/1 [00:00<?, ?it/s]\u001b[A\u001b[A\n",
      "\n",
      "100%|██████████| 1/1 [00:00<00:00,  1.75it/s]\u001b[A\u001b[A\n",
      "\n",
      "  8%|▊         | 753/10000 [08:13<1:42:43,  1.50it/s]\u001b[A\n",
      "\n",
      "  0%|          | 0/1 [00:00<?, ?it/s]\u001b[A\u001b[A\n",
      "\n",
      "100%|██████████| 1/1 [00:00<00:00,  2.37it/s]\u001b[A\u001b[A\n",
      "\n",
      "  8%|▊         | 754/10000 [08:13<1:40:12,  1.54it/s]\u001b[A\n",
      "\n",
      "  0%|          | 0/1 [00:00<?, ?it/s]\u001b[A\u001b[A\n",
      "\n",
      "100%|██████████| 1/1 [00:00<00:00,  1.69it/s]\u001b[A\u001b[A\n",
      "\n",
      "  8%|▊         | 755/10000 [08:14<1:47:17,  1.44it/s]\u001b[A\n",
      "\n",
      "  0%|          | 0/1 [00:00<?, ?it/s]\u001b[A\u001b[A\n",
      "\n",
      "100%|██████████| 1/1 [00:00<00:00,  2.61it/s]\u001b[A\u001b[A\n",
      "\n",
      "  8%|▊         | 756/10000 [08:14<1:37:57,  1.57it/s]\u001b[A\n",
      "\n",
      "  0%|          | 0/1 [00:00<?, ?it/s]\u001b[A\u001b[A\n",
      "\n",
      "100%|██████████| 1/1 [00:00<00:00,  1.62it/s]\u001b[A\u001b[A\n",
      "\n",
      "  8%|▊         | 757/10000 [08:15<1:41:18,  1.52it/s]\u001b[A\n",
      "\n",
      "  0%|          | 0/1 [00:00<?, ?it/s]\u001b[A\u001b[A\n",
      "\n",
      "100%|██████████| 1/1 [00:00<00:00,  2.50it/s]\u001b[A\u001b[A\n",
      "\n",
      "  8%|▊         | 758/10000 [08:16<1:32:10,  1.67it/s]\u001b[A"
     ]
    },
    {
     "name": "stdout",
     "output_type": "stream",
     "text": [
      "\n",
      "Epoch: 758, Loss: 0.3873, Val: 0.7006, Test: 0.7090\n"
     ]
    },
    {
     "name": "stderr",
     "output_type": "stream",
     "text": [
      "\n",
      "\n",
      "  0%|          | 0/1 [00:00<?, ?it/s]\u001b[A\u001b[A\n",
      "\n",
      "100%|██████████| 1/1 [00:00<00:00,  1.55it/s]\u001b[A\u001b[A\n",
      "\n",
      "  8%|▊         | 759/10000 [08:16<1:42:43,  1.50it/s]\u001b[A"
     ]
    },
    {
     "name": "stdout",
     "output_type": "stream",
     "text": [
      "\n",
      "Epoch: 759, Loss: 0.3874, Val: 0.7011, Test: 0.7085\n"
     ]
    },
    {
     "name": "stderr",
     "output_type": "stream",
     "text": [
      "\n",
      "\n",
      "  0%|          | 0/1 [00:00<?, ?it/s]\u001b[A\u001b[A\n",
      "\n",
      "100%|██████████| 1/1 [00:00<00:00,  2.12it/s]\u001b[A\u001b[A\n",
      "\n",
      "  8%|▊         | 760/10000 [08:17<1:36:46,  1.59it/s]\u001b[A"
     ]
    },
    {
     "name": "stdout",
     "output_type": "stream",
     "text": [
      "\n",
      "Epoch: 760, Loss: 0.3876, Val: 0.7013, Test: 0.7083\n"
     ]
    },
    {
     "name": "stderr",
     "output_type": "stream",
     "text": [
      "\n",
      "\n",
      "  0%|          | 0/1 [00:00<?, ?it/s]\u001b[A\u001b[A\n",
      "\n",
      "100%|██████████| 1/1 [00:00<00:00,  2.39it/s]\u001b[A\u001b[A\n",
      "\n",
      "  8%|▊         | 761/10000 [08:17<1:29:56,  1.71it/s]\u001b[A\n",
      "\n",
      "  0%|          | 0/1 [00:00<?, ?it/s]\u001b[A\u001b[A\n",
      "\n",
      "100%|██████████| 1/1 [00:00<00:00,  1.92it/s]\u001b[A\u001b[A\n",
      "\n",
      "  8%|▊         | 762/10000 [08:18<1:29:00,  1.73it/s]\u001b[A\n",
      "\n",
      "  0%|          | 0/1 [00:00<?, ?it/s]\u001b[A\u001b[A\n",
      "\n",
      "100%|██████████| 1/1 [00:00<00:00,  1.73it/s]\u001b[A\u001b[A\n",
      "\n",
      "  8%|▊         | 763/10000 [08:19<1:32:25,  1.67it/s]\u001b[A\n",
      "\n",
      "  0%|          | 0/1 [00:00<?, ?it/s]\u001b[A\u001b[A\n",
      "\n",
      "100%|██████████| 1/1 [00:00<00:00,  2.11it/s]\u001b[A\u001b[A\n",
      "\n",
      "  8%|▊         | 764/10000 [08:19<1:28:40,  1.74it/s]\u001b[A\n",
      "\n",
      "  0%|          | 0/1 [00:00<?, ?it/s]\u001b[A\u001b[A\n",
      "\n",
      "100%|██████████| 1/1 [00:00<00:00,  1.82it/s]\u001b[A\u001b[A\n",
      "\n",
      "  8%|▊         | 765/10000 [08:20<1:31:27,  1.68it/s]\u001b[A\n",
      "\n",
      "  0%|          | 0/1 [00:00<?, ?it/s]\u001b[A\u001b[A\n",
      "\n",
      "100%|██████████| 1/1 [00:00<00:00,  1.34it/s]\u001b[A\u001b[A\n",
      "\n",
      "  8%|▊         | 766/10000 [08:21<1:44:52,  1.47it/s]\u001b[A\n",
      "\n",
      "  0%|          | 0/1 [00:00<?, ?it/s]\u001b[A\u001b[A\n",
      "\n",
      "100%|██████████| 1/1 [00:00<00:00,  1.73it/s]\u001b[A\u001b[A\n",
      "\n",
      "  8%|▊         | 767/10000 [08:21<1:42:45,  1.50it/s]\u001b[A\n",
      "\n",
      "  0%|          | 0/1 [00:00<?, ?it/s]\u001b[A\u001b[A\n",
      "\n",
      "100%|██████████| 1/1 [00:00<00:00,  1.42it/s]\u001b[A\u001b[A\n",
      "\n",
      "  8%|▊         | 768/10000 [08:22<1:48:30,  1.42it/s]\u001b[A\n",
      "\n",
      "  0%|          | 0/1 [00:00<?, ?it/s]\u001b[A\u001b[A\n",
      "\n",
      "100%|██████████| 1/1 [00:00<00:00,  2.07it/s]\u001b[A\u001b[A\n",
      "\n",
      "  8%|▊         | 769/10000 [08:23<1:42:52,  1.50it/s]\u001b[A\n",
      "\n",
      "  0%|          | 0/1 [00:00<?, ?it/s]\u001b[A\u001b[A\n",
      "\n",
      "100%|██████████| 1/1 [00:00<00:00,  1.86it/s]\u001b[A\u001b[A\n",
      "\n",
      "  8%|▊         | 770/10000 [08:23<1:39:09,  1.55it/s]\u001b[A\n",
      "\n",
      "  0%|          | 0/1 [00:00<?, ?it/s]\u001b[A\u001b[A\n",
      "\n",
      "100%|██████████| 1/1 [00:00<00:00,  1.97it/s]\u001b[A\u001b[A\n",
      "\n",
      "  8%|▊         | 771/10000 [08:24<1:39:18,  1.55it/s]\u001b[A\n",
      "\n",
      "  0%|          | 0/1 [00:00<?, ?it/s]\u001b[A\u001b[A\n",
      "\n",
      "100%|██████████| 1/1 [00:00<00:00,  1.94it/s]\u001b[A\u001b[A\n",
      "\n",
      "  8%|▊         | 772/10000 [08:25<1:37:18,  1.58it/s]\u001b[A\n",
      "\n",
      "  0%|          | 0/1 [00:00<?, ?it/s]\u001b[A\u001b[A\n",
      "\n",
      "100%|██████████| 1/1 [00:00<00:00,  1.43it/s]\u001b[A\u001b[A\n",
      "\n",
      "  8%|▊         | 773/10000 [08:25<1:48:37,  1.42it/s]\u001b[A"
     ]
    },
    {
     "name": "stdout",
     "output_type": "stream",
     "text": [
      "\n",
      "Epoch: 773, Loss: 0.3874, Val: 0.7015, Test: 0.7076\n"
     ]
    },
    {
     "name": "stderr",
     "output_type": "stream",
     "text": [
      "\n",
      "\n",
      "  0%|          | 0/1 [00:00<?, ?it/s]\u001b[A\u001b[A\n",
      "\n",
      "100%|██████████| 1/1 [00:00<00:00,  2.03it/s]\u001b[A\u001b[A\n",
      "\n",
      "  8%|▊         | 774/10000 [08:26<1:41:00,  1.52it/s]\u001b[A\n",
      "\n",
      "  0%|          | 0/1 [00:00<?, ?it/s]\u001b[A\u001b[A\n",
      "\n",
      "100%|██████████| 1/1 [00:00<00:00,  1.61it/s]\u001b[A\u001b[A\n",
      "\n",
      "  8%|▊         | 775/10000 [08:27<1:41:40,  1.51it/s]\u001b[A\n",
      "\n",
      "  0%|          | 0/1 [00:00<?, ?it/s]\u001b[A\u001b[A\n",
      "\n",
      "100%|██████████| 1/1 [00:00<00:00,  1.91it/s]\u001b[A\u001b[A\n",
      "\n",
      "  8%|▊         | 776/10000 [08:27<1:45:20,  1.46it/s]\u001b[A\n",
      "\n",
      "  0%|          | 0/1 [00:00<?, ?it/s]\u001b[A\u001b[A\n",
      "\n",
      "100%|██████████| 1/1 [00:00<00:00,  1.68it/s]\u001b[A\u001b[A\n",
      "\n",
      "  8%|▊         | 777/10000 [08:28<1:44:16,  1.47it/s]\u001b[A\n",
      "\n",
      "  0%|          | 0/1 [00:00<?, ?it/s]\u001b[A\u001b[A\n",
      "\n",
      "100%|██████████| 1/1 [00:00<00:00,  1.82it/s]\u001b[A\u001b[A\n",
      "\n",
      "  8%|▊         | 778/10000 [08:29<1:42:51,  1.49it/s]\u001b[A\n",
      "\n",
      "  0%|          | 0/1 [00:00<?, ?it/s]\u001b[A\u001b[A\n",
      "\n",
      "100%|██████████| 1/1 [00:00<00:00,  2.10it/s]\u001b[A\u001b[A\n",
      "\n",
      "  8%|▊         | 779/10000 [08:29<1:36:07,  1.60it/s]\u001b[A\n",
      "\n",
      "  0%|          | 0/1 [00:00<?, ?it/s]\u001b[A\u001b[A\n",
      "\n",
      "100%|██████████| 1/1 [00:00<00:00,  1.35it/s]\u001b[A\u001b[A\n",
      "\n",
      "  8%|▊         | 780/10000 [08:30<1:44:35,  1.47it/s]\u001b[A\n",
      "\n",
      "  0%|          | 0/1 [00:00<?, ?it/s]\u001b[A\u001b[A\n",
      "\n",
      "100%|██████████| 1/1 [00:00<00:00,  1.40it/s]\u001b[A\u001b[A\n",
      "\n",
      "  8%|▊         | 781/10000 [08:31<1:50:07,  1.40it/s]\u001b[A\n",
      "\n",
      "  0%|          | 0/1 [00:00<?, ?it/s]\u001b[A\u001b[A\n",
      "\n",
      "100%|██████████| 1/1 [00:00<00:00,  1.89it/s]\u001b[A\u001b[A\n",
      "\n",
      "  8%|▊         | 782/10000 [08:32<1:46:38,  1.44it/s]\u001b[A\n",
      "\n",
      "  0%|          | 0/1 [00:00<?, ?it/s]\u001b[A\u001b[A\n",
      "\n",
      "100%|██████████| 1/1 [00:00<00:00,  1.65it/s]\u001b[A\u001b[A\n",
      "\n",
      "  8%|▊         | 783/10000 [08:32<1:48:43,  1.41it/s]\u001b[A\n",
      "\n",
      "  0%|          | 0/1 [00:00<?, ?it/s]\u001b[A\u001b[A\n",
      "\n",
      "100%|██████████| 1/1 [00:00<00:00,  1.87it/s]\u001b[A\u001b[A\n",
      "\n",
      "  8%|▊         | 784/10000 [08:33<1:48:59,  1.41it/s]\u001b[A\n",
      "\n",
      "  0%|          | 0/1 [00:00<?, ?it/s]\u001b[A\u001b[A\n",
      "\n",
      "100%|██████████| 1/1 [00:00<00:00,  1.73it/s]\u001b[A\u001b[A\n",
      "\n",
      "  8%|▊         | 785/10000 [08:34<1:44:56,  1.46it/s]\u001b[A\n",
      "\n",
      "  0%|          | 0/1 [00:00<?, ?it/s]\u001b[A\u001b[A\n",
      "\n",
      "100%|██████████| 1/1 [00:00<00:00,  1.84it/s]\u001b[A\u001b[A\n",
      "\n",
      "  8%|▊         | 786/10000 [08:34<1:41:13,  1.52it/s]\u001b[A\n",
      "\n",
      "  0%|          | 0/1 [00:00<?, ?it/s]\u001b[A\u001b[A\n",
      "\n",
      "100%|██████████| 1/1 [00:00<00:00,  1.52it/s]\u001b[A\u001b[A\n",
      "\n",
      "  8%|▊         | 787/10000 [08:35<1:43:11,  1.49it/s]\u001b[A\n",
      "\n",
      "  0%|          | 0/1 [00:00<?, ?it/s]\u001b[A\u001b[A\n",
      "\n",
      "100%|██████████| 1/1 [00:00<00:00,  1.52it/s]\u001b[A\u001b[A\n",
      "\n",
      "  8%|▊         | 788/10000 [08:36<1:44:39,  1.47it/s]\u001b[A\n",
      "\n",
      "  0%|          | 0/1 [00:00<?, ?it/s]\u001b[A\u001b[A\n",
      "\n",
      "100%|██████████| 1/1 [00:00<00:00,  1.80it/s]\u001b[A\u001b[A\n",
      "\n",
      "  8%|▊         | 789/10000 [08:36<1:42:30,  1.50it/s]\u001b[A\n",
      "\n",
      "  0%|          | 0/1 [00:00<?, ?it/s]\u001b[A\u001b[A\n",
      "\n",
      "100%|██████████| 1/1 [00:00<00:00,  1.96it/s]\u001b[A\u001b[A\n",
      "\n",
      "  8%|▊         | 790/10000 [08:37<1:39:17,  1.55it/s]\u001b[A\n",
      "\n",
      "  0%|          | 0/1 [00:00<?, ?it/s]\u001b[A\u001b[A\n",
      "\n",
      "100%|██████████| 1/1 [00:00<00:00,  1.83it/s]\u001b[A\u001b[A\n",
      "\n",
      "  8%|▊         | 791/10000 [08:37<1:39:51,  1.54it/s]\u001b[A\n",
      "\n",
      "  0%|          | 0/1 [00:00<?, ?it/s]\u001b[A\u001b[A\n",
      "\n",
      "100%|██████████| 1/1 [00:00<00:00,  2.16it/s]\u001b[A\u001b[A\n",
      "\n",
      "  8%|▊         | 792/10000 [08:38<1:33:43,  1.64it/s]\u001b[A\n",
      "\n",
      "  0%|          | 0/1 [00:00<?, ?it/s]\u001b[A\u001b[A\n",
      "\n",
      "100%|██████████| 1/1 [00:00<00:00,  1.73it/s]\u001b[A\u001b[A\n",
      "\n",
      "  8%|▊         | 793/10000 [08:39<1:37:05,  1.58it/s]\u001b[A\n",
      "\n",
      "  0%|          | 0/1 [00:00<?, ?it/s]\u001b[A\u001b[A\n",
      "\n",
      "100%|██████████| 1/1 [00:00<00:00,  1.55it/s]\u001b[A\u001b[A\n",
      "\n",
      "  8%|▊         | 794/10000 [08:39<1:42:31,  1.50it/s]\u001b[A\n",
      "\n",
      "  0%|          | 0/1 [00:00<?, ?it/s]\u001b[A\u001b[A\n",
      "\n",
      "100%|██████████| 1/1 [00:00<00:00,  1.70it/s]\u001b[A\u001b[A\n",
      "\n",
      "  8%|▊         | 795/10000 [08:40<1:40:53,  1.52it/s]\u001b[A\n",
      "\n",
      "  0%|          | 0/1 [00:00<?, ?it/s]\u001b[A\u001b[A\n",
      "\n",
      "100%|██████████| 1/1 [00:00<00:00,  1.14it/s]\u001b[A\u001b[A\n",
      "\n",
      "  8%|▊         | 796/10000 [08:41<1:53:18,  1.35it/s]\u001b[A\n",
      "\n",
      "  0%|          | 0/1 [00:00<?, ?it/s]\u001b[A\u001b[A\n",
      "\n",
      "100%|██████████| 1/1 [00:00<00:00,  2.24it/s]\u001b[A\u001b[A\n",
      "\n",
      "  8%|▊         | 797/10000 [08:41<1:42:26,  1.50it/s]\u001b[A\n",
      "\n",
      "  0%|          | 0/1 [00:00<?, ?it/s]\u001b[A\u001b[A\n",
      "\n",
      "100%|██████████| 1/1 [00:00<00:00,  1.59it/s]\u001b[A\u001b[A\n",
      "\n",
      "  8%|▊         | 798/10000 [08:42<1:43:00,  1.49it/s]\u001b[A\n",
      "\n",
      "  0%|          | 0/1 [00:00<?, ?it/s]\u001b[A\u001b[A\n",
      "\n",
      "100%|██████████| 1/1 [00:00<00:00,  1.44it/s]\u001b[A\u001b[A\n",
      "\n",
      "  8%|▊         | 799/10000 [08:43<1:52:04,  1.37it/s]\u001b[A\n",
      "\n",
      "  0%|          | 0/1 [00:00<?, ?it/s]\u001b[A\u001b[A\n",
      "\n",
      "100%|██████████| 1/1 [00:00<00:00,  1.91it/s]\u001b[A\u001b[A\n",
      "\n",
      "  8%|▊         | 800/10000 [08:44<1:45:23,  1.45it/s]\u001b[A\n",
      "\n",
      "  0%|          | 0/1 [00:00<?, ?it/s]\u001b[A\u001b[A\n",
      "\n",
      "100%|██████████| 1/1 [00:00<00:00,  1.36it/s]\u001b[A\u001b[A\n",
      "\n",
      "  8%|▊         | 801/10000 [08:44<1:52:42,  1.36it/s]\u001b[A\n",
      "\n",
      "  0%|          | 0/1 [00:00<?, ?it/s]\u001b[A\u001b[A\n",
      "\n",
      "100%|██████████| 1/1 [00:00<00:00,  2.02it/s]\u001b[A\u001b[A\n",
      "\n",
      "  8%|▊         | 802/10000 [08:45<1:46:29,  1.44it/s]\u001b[A\n",
      "\n",
      "  0%|          | 0/1 [00:00<?, ?it/s]\u001b[A\u001b[A\n",
      "\n",
      "100%|██████████| 1/1 [00:00<00:00,  1.85it/s]\u001b[A\u001b[A\n",
      "\n",
      "  8%|▊         | 803/10000 [08:46<1:42:25,  1.50it/s]\u001b[A\n",
      "\n",
      "  0%|          | 0/1 [00:00<?, ?it/s]\u001b[A\u001b[A\n",
      "\n",
      "100%|██████████| 1/1 [00:00<00:00,  1.90it/s]\u001b[A\u001b[A\n",
      "\n",
      "  8%|▊         | 804/10000 [08:46<1:41:08,  1.52it/s]\u001b[A\n",
      "\n",
      "  0%|          | 0/1 [00:00<?, ?it/s]\u001b[A\u001b[A\n",
      "\n",
      "100%|██████████| 1/1 [00:00<00:00,  2.13it/s]\u001b[A\u001b[A\n",
      "\n",
      "  8%|▊         | 805/10000 [08:47<1:34:30,  1.62it/s]\u001b[A\n",
      "\n",
      "  0%|          | 0/1 [00:00<?, ?it/s]\u001b[A\u001b[A\n",
      "\n",
      "100%|██████████| 1/1 [00:00<00:00,  1.47it/s]\u001b[A\u001b[A\n",
      "\n",
      "  8%|▊         | 806/10000 [08:48<1:40:22,  1.53it/s]\u001b[A\n",
      "\n",
      "  0%|          | 0/1 [00:00<?, ?it/s]\u001b[A\u001b[A\n",
      "\n",
      "100%|██████████| 1/1 [00:00<00:00,  1.93it/s]\u001b[A\u001b[A\n",
      "\n",
      "  8%|▊         | 807/10000 [08:48<1:43:09,  1.49it/s]\u001b[A\n",
      "\n",
      "  0%|          | 0/1 [00:00<?, ?it/s]\u001b[A\u001b[A\n",
      "\n",
      "100%|██████████| 1/1 [00:00<00:00,  1.58it/s]\u001b[A\u001b[A\n",
      "\n",
      "  8%|▊         | 808/10000 [08:49<1:43:59,  1.47it/s]\u001b[A\n",
      "\n",
      "  0%|          | 0/1 [00:00<?, ?it/s]\u001b[A\u001b[A\n",
      "\n",
      "100%|██████████| 1/1 [00:00<00:00,  1.70it/s]\u001b[A\u001b[A\n",
      "\n",
      "  8%|▊         | 809/10000 [08:50<1:45:03,  1.46it/s]\u001b[A\n",
      "\n",
      "  0%|          | 0/1 [00:00<?, ?it/s]\u001b[A\u001b[A\n",
      "\n",
      "100%|██████████| 1/1 [00:00<00:00,  1.96it/s]\u001b[A\u001b[A\n",
      "\n",
      "  8%|▊         | 810/10000 [08:50<1:38:56,  1.55it/s]\u001b[A\n",
      "\n",
      "  0%|          | 0/1 [00:00<?, ?it/s]\u001b[A\u001b[A\n",
      "\n",
      "100%|██████████| 1/1 [00:00<00:00,  1.55it/s]\u001b[A\u001b[A\n",
      "\n",
      "  8%|▊         | 811/10000 [08:51<1:45:19,  1.45it/s]\u001b[A\n",
      "\n",
      "  0%|          | 0/1 [00:00<?, ?it/s]\u001b[A\u001b[A\n",
      "\n",
      "100%|██████████| 1/1 [00:00<00:00,  1.81it/s]\u001b[A\u001b[A\n",
      "\n",
      "  8%|▊         | 812/10000 [08:52<1:45:24,  1.45it/s]\u001b[A\n",
      "\n",
      "  0%|          | 0/1 [00:00<?, ?it/s]\u001b[A\u001b[A\n",
      "\n",
      "100%|██████████| 1/1 [00:00<00:00,  1.56it/s]\u001b[A\u001b[A\n",
      "\n",
      "  8%|▊         | 813/10000 [08:52<1:45:44,  1.45it/s]\u001b[A\n",
      "\n",
      "  0%|          | 0/1 [00:00<?, ?it/s]\u001b[A\u001b[A\n",
      "\n",
      "100%|██████████| 1/1 [00:00<00:00,  1.70it/s]\u001b[A\u001b[A\n",
      "\n",
      "  8%|▊         | 814/10000 [08:53<1:45:20,  1.45it/s]\u001b[A\n",
      "\n",
      "  0%|          | 0/1 [00:00<?, ?it/s]\u001b[A\u001b[A\n",
      "\n",
      "100%|██████████| 1/1 [00:00<00:00,  2.34it/s]\u001b[A\u001b[A\n",
      "\n",
      "  8%|▊         | 815/10000 [08:54<1:35:28,  1.60it/s]\u001b[A\n",
      "\n",
      "  0%|          | 0/1 [00:00<?, ?it/s]\u001b[A\u001b[A\n",
      "\n",
      "100%|██████████| 1/1 [00:00<00:00,  1.41it/s]\u001b[A\u001b[A\n",
      "\n",
      "  8%|▊         | 816/10000 [08:54<1:47:48,  1.42it/s]\u001b[A\n",
      "\n",
      "  0%|          | 0/1 [00:00<?, ?it/s]\u001b[A\u001b[A\n",
      "\n",
      "100%|██████████| 1/1 [00:00<00:00,  1.15it/s]\u001b[A\u001b[A\n",
      "\n",
      "  8%|▊         | 817/10000 [08:56<2:06:26,  1.21it/s]\u001b[A\n",
      "\n",
      "  0%|          | 0/1 [00:00<?, ?it/s]\u001b[A\u001b[A\n",
      "\n",
      "100%|██████████| 1/1 [00:00<00:00,  1.80it/s]\u001b[A\u001b[A\n",
      "\n",
      "  8%|▊         | 818/10000 [08:56<2:00:38,  1.27it/s]\u001b[A"
     ]
    },
    {
     "name": "stdout",
     "output_type": "stream",
     "text": [
      "\n",
      "Epoch: 818, Loss: 0.3878, Val: 0.7020, Test: 0.7093\n"
     ]
    },
    {
     "name": "stderr",
     "output_type": "stream",
     "text": [
      "\n",
      "\n",
      "  0%|          | 0/1 [00:00<?, ?it/s]\u001b[A\u001b[A\n",
      "\n",
      "100%|██████████| 1/1 [00:00<00:00,  2.44it/s]\u001b[A\u001b[A\n",
      "\n",
      "  8%|▊         | 819/10000 [08:57<1:45:36,  1.45it/s]\u001b[A\n",
      "\n",
      "  0%|          | 0/1 [00:00<?, ?it/s]\u001b[A\u001b[A\n",
      "\n",
      "100%|██████████| 1/1 [00:00<00:00,  2.50it/s]\u001b[A\u001b[A\n",
      "\n",
      "  8%|▊         | 820/10000 [08:57<1:36:56,  1.58it/s]\u001b[A\n",
      "\n",
      "  0%|          | 0/1 [00:00<?, ?it/s]\u001b[A\u001b[A\n",
      "\n",
      "100%|██████████| 1/1 [00:00<00:00,  1.41it/s]\u001b[A\u001b[A\n",
      "\n",
      "  8%|▊         | 821/10000 [08:58<1:42:46,  1.49it/s]\u001b[A\n",
      "\n",
      "  0%|          | 0/1 [00:00<?, ?it/s]\u001b[A\u001b[A\n",
      "\n",
      "100%|██████████| 1/1 [00:00<00:00,  1.98it/s]\u001b[A\u001b[A\n",
      "\n",
      "  8%|▊         | 822/10000 [08:59<1:38:25,  1.55it/s]\u001b[A\n",
      "\n",
      "  0%|          | 0/1 [00:00<?, ?it/s]\u001b[A\u001b[A\n",
      "\n",
      "100%|██████████| 1/1 [00:00<00:00,  2.08it/s]\u001b[A\u001b[A\n",
      "\n",
      "  8%|▊         | 823/10000 [08:59<1:32:53,  1.65it/s]\u001b[A\n",
      "\n",
      "  0%|          | 0/1 [00:00<?, ?it/s]\u001b[A\u001b[A\n",
      "\n",
      "100%|██████████| 1/1 [00:00<00:00,  1.90it/s]\u001b[A\u001b[A\n",
      "\n",
      "  8%|▊         | 824/10000 [09:00<1:31:30,  1.67it/s]\u001b[A\n",
      "\n",
      "  0%|          | 0/1 [00:00<?, ?it/s]\u001b[A\u001b[A\n",
      "\n",
      "100%|██████████| 1/1 [00:00<00:00,  2.35it/s]\u001b[A\u001b[A\n",
      "\n",
      "  8%|▊         | 825/10000 [09:00<1:26:53,  1.76it/s]\u001b[A"
     ]
    },
    {
     "name": "stdout",
     "output_type": "stream",
     "text": [
      "\n",
      "Epoch: 825, Loss: 0.3881, Val: 0.7026, Test: 0.7097\n"
     ]
    },
    {
     "name": "stderr",
     "output_type": "stream",
     "text": [
      "\n",
      "\n",
      "  0%|          | 0/1 [00:00<?, ?it/s]\u001b[A\u001b[A\n",
      "\n",
      "100%|██████████| 1/1 [00:00<00:00,  1.32it/s]\u001b[A\u001b[A\n",
      "\n",
      "  8%|▊         | 826/10000 [09:01<1:39:10,  1.54it/s]\u001b[A\n",
      "\n",
      "  0%|          | 0/1 [00:00<?, ?it/s]\u001b[A\u001b[A\n",
      "\n",
      "100%|██████████| 1/1 [00:00<00:00,  1.44it/s]\u001b[A\u001b[A\n",
      "\n",
      "  8%|▊         | 827/10000 [09:02<1:51:27,  1.37it/s]\u001b[A\n",
      "\n",
      "  0%|          | 0/1 [00:00<?, ?it/s]\u001b[A\u001b[A\n",
      "\n",
      "100%|██████████| 1/1 [00:00<00:00,  1.75it/s]\u001b[A\u001b[A\n",
      "\n",
      "  8%|▊         | 828/10000 [09:03<1:47:05,  1.43it/s]\u001b[A\n",
      "\n",
      "  0%|          | 0/1 [00:00<?, ?it/s]\u001b[A\u001b[A\n",
      "\n",
      "100%|██████████| 1/1 [00:00<00:00,  1.73it/s]\u001b[A\u001b[A\n",
      "\n",
      "  8%|▊         | 829/10000 [09:03<1:43:57,  1.47it/s]\u001b[A\n",
      "\n",
      "  0%|          | 0/1 [00:00<?, ?it/s]\u001b[A\u001b[A\n",
      "\n",
      "100%|██████████| 1/1 [00:00<00:00,  2.11it/s]\u001b[A\u001b[A\n",
      "\n",
      "  8%|▊         | 830/10000 [09:04<1:36:42,  1.58it/s]\u001b[A\n",
      "\n",
      "  0%|          | 0/1 [00:00<?, ?it/s]\u001b[A\u001b[A\n",
      "\n",
      "100%|██████████| 1/1 [00:00<00:00,  1.46it/s]\u001b[A\u001b[A\n",
      "\n",
      "  8%|▊         | 831/10000 [09:04<1:42:23,  1.49it/s]\u001b[A\n",
      "\n",
      "  0%|          | 0/1 [00:00<?, ?it/s]\u001b[A\u001b[A\n",
      "\n",
      "100%|██████████| 1/1 [00:00<00:00,  1.87it/s]\u001b[A\u001b[A\n",
      "\n",
      "  8%|▊         | 832/10000 [09:05<1:40:17,  1.52it/s]\u001b[A\n",
      "\n",
      "  0%|          | 0/1 [00:00<?, ?it/s]\u001b[A\u001b[A\n",
      "\n",
      "100%|██████████| 1/1 [00:00<00:00,  1.15it/s]\u001b[A\u001b[A\n",
      "\n",
      "  8%|▊         | 833/10000 [09:06<1:55:01,  1.33it/s]\u001b[A\n",
      "\n",
      "  0%|          | 0/1 [00:00<?, ?it/s]\u001b[A\u001b[A\n",
      "\n",
      "100%|██████████| 1/1 [00:00<00:00,  1.70it/s]\u001b[A\u001b[A\n",
      "\n",
      "  8%|▊         | 834/10000 [09:07<1:49:26,  1.40it/s]\u001b[A\n",
      "\n",
      "  0%|          | 0/1 [00:00<?, ?it/s]\u001b[A\u001b[A\n",
      "\n",
      "100%|██████████| 1/1 [00:00<00:00,  1.49it/s]\u001b[A\u001b[A\n",
      "\n",
      "  8%|▊         | 835/10000 [09:07<1:49:20,  1.40it/s]\u001b[A\n",
      "\n",
      "  0%|          | 0/1 [00:00<?, ?it/s]\u001b[A\u001b[A\n",
      "\n",
      "100%|██████████| 1/1 [00:00<00:00,  2.21it/s]\u001b[A\u001b[A\n",
      "\n",
      "  8%|▊         | 836/10000 [09:08<1:39:29,  1.54it/s]\u001b[A\n",
      "\n",
      "  0%|          | 0/1 [00:00<?, ?it/s]\u001b[A\u001b[A\n",
      "\n",
      "100%|██████████| 1/1 [00:00<00:00,  1.78it/s]\u001b[A\u001b[A\n",
      "\n",
      "  8%|▊         | 837/10000 [09:09<1:37:24,  1.57it/s]\u001b[A\n",
      "\n",
      "  0%|          | 0/1 [00:00<?, ?it/s]\u001b[A\u001b[A\n",
      "\n",
      "100%|██████████| 1/1 [00:00<00:00,  1.95it/s]\u001b[A\u001b[A\n",
      "\n",
      "  8%|▊         | 838/10000 [09:09<1:33:43,  1.63it/s]\u001b[A\n",
      "\n",
      "  0%|          | 0/1 [00:00<?, ?it/s]\u001b[A\u001b[A\n",
      "\n",
      "100%|██████████| 1/1 [00:00<00:00,  2.30it/s]\u001b[A\u001b[A\n",
      "\n",
      "  8%|▊         | 839/10000 [09:10<1:27:44,  1.74it/s]\u001b[A\n",
      "\n",
      "  0%|          | 0/1 [00:00<?, ?it/s]\u001b[A\u001b[A\n",
      "\n",
      "100%|██████████| 1/1 [00:00<00:00,  2.08it/s]\u001b[A\u001b[A\n",
      "\n",
      "  8%|▊         | 840/10000 [09:10<1:25:30,  1.79it/s]\u001b[A\n",
      "\n",
      "  0%|          | 0/1 [00:00<?, ?it/s]\u001b[A\u001b[A\n",
      "\n",
      "100%|██████████| 1/1 [00:00<00:00,  2.28it/s]\u001b[A\u001b[A\n",
      "\n",
      "  8%|▊         | 841/10000 [09:11<1:21:59,  1.86it/s]\u001b[A\n",
      "\n",
      "  0%|          | 0/1 [00:00<?, ?it/s]\u001b[A\u001b[A\n",
      "\n",
      "100%|██████████| 1/1 [00:00<00:00,  2.06it/s]\u001b[A\u001b[A\n",
      "\n",
      "  8%|▊         | 842/10000 [09:11<1:21:41,  1.87it/s]\u001b[A\n",
      "\n",
      "  0%|          | 0/1 [00:00<?, ?it/s]\u001b[A\u001b[A\n",
      "\n",
      "100%|██████████| 1/1 [00:00<00:00,  1.86it/s]\u001b[A\u001b[A\n",
      "\n",
      "  8%|▊         | 843/10000 [09:12<1:23:59,  1.82it/s]\u001b[A\n",
      "\n",
      "  0%|          | 0/1 [00:00<?, ?it/s]\u001b[A\u001b[A\n",
      "\n",
      "100%|██████████| 1/1 [00:00<00:00,  2.19it/s]\u001b[A\u001b[A\n",
      "\n",
      "  8%|▊         | 844/10000 [09:12<1:22:01,  1.86it/s]\u001b[A\n",
      "\n",
      "  0%|          | 0/1 [00:00<?, ?it/s]\u001b[A\u001b[A\n",
      "\n",
      "100%|██████████| 1/1 [00:00<00:00,  2.08it/s]\u001b[A\u001b[A\n",
      "\n",
      "  8%|▊         | 845/10000 [09:13<1:21:46,  1.87it/s]\u001b[A\n",
      "\n",
      "  0%|          | 0/1 [00:00<?, ?it/s]\u001b[A\u001b[A\n",
      "\n",
      "100%|██████████| 1/1 [00:00<00:00,  2.02it/s]\u001b[A\u001b[A\n",
      "\n",
      "  8%|▊         | 846/10000 [09:13<1:21:57,  1.86it/s]\u001b[A\n",
      "\n",
      "  0%|          | 0/1 [00:00<?, ?it/s]\u001b[A\u001b[A\n",
      "\n",
      "100%|██████████| 1/1 [00:00<00:00,  2.07it/s]\u001b[A\u001b[A\n",
      "\n",
      "  8%|▊         | 847/10000 [09:14<1:21:57,  1.86it/s]\u001b[A\n",
      "\n",
      "  0%|          | 0/1 [00:00<?, ?it/s]\u001b[A\u001b[A\n",
      "\n",
      "100%|██████████| 1/1 [00:00<00:00,  2.03it/s]\u001b[A\u001b[A\n",
      "\n",
      "  8%|▊         | 848/10000 [09:14<1:22:50,  1.84it/s]\u001b[A\n",
      "\n",
      "  0%|          | 0/1 [00:00<?, ?it/s]\u001b[A\u001b[A\n",
      "\n",
      "100%|██████████| 1/1 [00:00<00:00,  2.46it/s]\u001b[A\u001b[A\n",
      "\n",
      "  8%|▊         | 849/10000 [09:15<1:18:48,  1.94it/s]\u001b[A\n",
      "\n",
      "  0%|          | 0/1 [00:00<?, ?it/s]\u001b[A\u001b[A\n",
      "\n",
      "100%|██████████| 1/1 [00:00<00:00,  1.97it/s]\u001b[A\u001b[A\n",
      "\n",
      "  8%|▊         | 850/10000 [09:15<1:20:34,  1.89it/s]\u001b[A\n",
      "\n",
      "  0%|          | 0/1 [00:00<?, ?it/s]\u001b[A\u001b[A\n",
      "\n",
      "100%|██████████| 1/1 [00:00<00:00,  1.64it/s]\u001b[A\u001b[A\n",
      "\n",
      "  9%|▊         | 851/10000 [09:16<1:27:32,  1.74it/s]\u001b[A\n",
      "\n",
      "  0%|          | 0/1 [00:00<?, ?it/s]\u001b[A\u001b[A\n",
      "\n",
      "100%|██████████| 1/1 [00:00<00:00,  1.79it/s]\u001b[A\u001b[A\n",
      "\n",
      "  9%|▊         | 852/10000 [09:17<1:29:30,  1.70it/s]\u001b[A\n",
      "\n",
      "  0%|          | 0/1 [00:00<?, ?it/s]\u001b[A\u001b[A\n",
      "\n",
      "100%|██████████| 1/1 [00:00<00:00,  2.50it/s]\u001b[A\u001b[A\n",
      "\n",
      "  9%|▊         | 853/10000 [09:17<1:23:50,  1.82it/s]\u001b[A\n",
      "\n",
      "  0%|          | 0/1 [00:00<?, ?it/s]\u001b[A\u001b[A\n",
      "\n",
      "100%|██████████| 1/1 [00:00<00:00,  2.01it/s]\u001b[A\u001b[A\n",
      "\n",
      "  9%|▊         | 854/10000 [09:18<1:23:55,  1.82it/s]\u001b[A\n",
      "\n",
      "  0%|          | 0/1 [00:00<?, ?it/s]\u001b[A\u001b[A\n",
      "\n",
      "100%|██████████| 1/1 [00:00<00:00,  1.54it/s]\u001b[A\u001b[A\n",
      "\n",
      "  9%|▊         | 855/10000 [09:18<1:30:47,  1.68it/s]\u001b[A\n",
      "\n",
      "  0%|          | 0/1 [00:00<?, ?it/s]\u001b[A\u001b[A\n",
      "\n",
      "100%|██████████| 1/1 [00:00<00:00,  2.23it/s]\u001b[A\u001b[A\n",
      "\n",
      "  9%|▊         | 856/10000 [09:19<1:26:11,  1.77it/s]\u001b[A\n",
      "\n",
      "  0%|          | 0/1 [00:00<?, ?it/s]\u001b[A\u001b[A\n",
      "\n",
      "100%|██████████| 1/1 [00:00<00:00,  1.57it/s]\u001b[A\u001b[A\n",
      "\n",
      "  9%|▊         | 857/10000 [09:20<1:31:58,  1.66it/s]\u001b[A\n",
      "\n",
      "  0%|          | 0/1 [00:00<?, ?it/s]\u001b[A\u001b[A\n",
      "\n",
      "100%|██████████| 1/1 [00:00<00:00,  2.34it/s]\u001b[A\u001b[A\n",
      "\n",
      "  9%|▊         | 858/10000 [09:20<1:25:57,  1.77it/s]\u001b[A\n",
      "\n",
      "  0%|          | 0/1 [00:00<?, ?it/s]\u001b[A\u001b[A\n",
      "\n",
      "100%|██████████| 1/1 [00:00<00:00,  2.28it/s]\u001b[A\u001b[A\n",
      "\n",
      "  9%|▊         | 859/10000 [09:21<1:22:36,  1.84it/s]\u001b[A\n",
      "\n",
      "  0%|          | 0/1 [00:00<?, ?it/s]\u001b[A\u001b[A\n",
      "\n",
      "100%|██████████| 1/1 [00:00<00:00,  2.03it/s]\u001b[A\u001b[A\n",
      "\n",
      "  9%|▊         | 860/10000 [09:21<1:22:28,  1.85it/s]\u001b[A\n",
      "\n",
      "  0%|          | 0/1 [00:00<?, ?it/s]\u001b[A\u001b[A\n",
      "\n",
      "100%|██████████| 1/1 [00:00<00:00,  2.34it/s]\u001b[A\u001b[A\n",
      "\n",
      "  9%|▊         | 861/10000 [09:22<1:19:03,  1.93it/s]\u001b[A\n",
      "\n",
      "  0%|          | 0/1 [00:00<?, ?it/s]\u001b[A\u001b[A\n",
      "\n",
      "100%|██████████| 1/1 [00:00<00:00,  2.06it/s]\u001b[A\u001b[A\n",
      "\n",
      "  9%|▊         | 862/10000 [09:22<1:19:33,  1.91it/s]\u001b[A\n",
      "\n",
      "  0%|          | 0/1 [00:00<?, ?it/s]\u001b[A\u001b[A\n",
      "\n",
      "100%|██████████| 1/1 [00:00<00:00,  2.14it/s]\u001b[A\u001b[A\n",
      "\n",
      "  9%|▊         | 863/10000 [09:23<1:19:37,  1.91it/s]\u001b[A\n",
      "\n",
      "  0%|          | 0/1 [00:00<?, ?it/s]\u001b[A\u001b[A\n",
      "\n",
      "100%|██████████| 1/1 [00:00<00:00,  2.31it/s]\u001b[A\u001b[A\n",
      "\n",
      "  9%|▊         | 864/10000 [09:23<1:17:23,  1.97it/s]\u001b[A\n",
      "\n",
      "  0%|          | 0/1 [00:00<?, ?it/s]\u001b[A\u001b[A\n",
      "\n",
      "100%|██████████| 1/1 [00:00<00:00,  2.40it/s]\u001b[A\u001b[A\n",
      "\n",
      "  9%|▊         | 865/10000 [09:24<1:15:12,  2.02it/s]\u001b[A\n",
      "\n",
      "  0%|          | 0/1 [00:00<?, ?it/s]\u001b[A\u001b[A\n",
      "\n",
      "100%|██████████| 1/1 [00:00<00:00,  2.50it/s]\u001b[A\u001b[A\n",
      "\n",
      "  9%|▊         | 866/10000 [09:24<1:12:51,  2.09it/s]\u001b[A\n",
      "\n",
      "  0%|          | 0/1 [00:00<?, ?it/s]\u001b[A\u001b[A\n",
      "\n",
      "100%|██████████| 1/1 [00:00<00:00,  2.53it/s]\u001b[A\u001b[A\n",
      "\n",
      "  9%|▊         | 867/10000 [09:24<1:10:53,  2.15it/s]\u001b[A\n",
      "\n",
      "  0%|          | 0/1 [00:00<?, ?it/s]\u001b[A\u001b[A\n",
      "\n",
      "100%|██████████| 1/1 [00:00<00:00,  2.21it/s]\u001b[A\u001b[A\n",
      "\n",
      "  9%|▊         | 868/10000 [09:25<1:13:02,  2.08it/s]\u001b[A\n",
      "\n",
      "  0%|          | 0/1 [00:00<?, ?it/s]\u001b[A\u001b[A\n",
      "\n",
      "100%|██████████| 1/1 [00:00<00:00,  2.16it/s]\u001b[A\u001b[A\n",
      "\n",
      "  9%|▊         | 869/10000 [09:25<1:14:13,  2.05it/s]\u001b[A\n",
      "\n",
      "  0%|          | 0/1 [00:00<?, ?it/s]\u001b[A\u001b[A\n",
      "\n",
      "100%|██████████| 1/1 [00:00<00:00,  2.11it/s]\u001b[A\u001b[A\n",
      "\n",
      "  9%|▊         | 870/10000 [09:26<1:15:23,  2.02it/s]\u001b[A\n",
      "\n",
      "  0%|          | 0/1 [00:00<?, ?it/s]\u001b[A\u001b[A\n",
      "\n",
      "100%|██████████| 1/1 [00:00<00:00,  2.36it/s]\u001b[A\u001b[A\n",
      "\n",
      "  9%|▊         | 871/10000 [09:26<1:14:08,  2.05it/s]\u001b[A\n",
      "\n",
      "  0%|          | 0/1 [00:00<?, ?it/s]\u001b[A\u001b[A\n",
      "\n",
      "100%|██████████| 1/1 [00:00<00:00,  1.72it/s]\u001b[A\u001b[A\n",
      "\n",
      "  9%|▊         | 872/10000 [09:27<1:21:46,  1.86it/s]\u001b[A\n",
      "\n",
      "  0%|          | 0/1 [00:00<?, ?it/s]\u001b[A\u001b[A\n",
      "\n",
      "100%|██████████| 1/1 [00:00<00:00,  2.16it/s]\u001b[A\u001b[A\n",
      "\n",
      "  9%|▊         | 873/10000 [09:28<1:22:54,  1.83it/s]\u001b[A\n",
      "\n",
      "  0%|          | 0/1 [00:00<?, ?it/s]\u001b[A\u001b[A\n",
      "\n",
      "100%|██████████| 1/1 [00:00<00:00,  1.63it/s]\u001b[A\u001b[A\n",
      "\n",
      "  9%|▊         | 874/10000 [09:28<1:29:57,  1.69it/s]\u001b[A\n",
      "\n",
      "  0%|          | 0/1 [00:00<?, ?it/s]\u001b[A\u001b[A\n",
      "\n",
      "100%|██████████| 1/1 [00:00<00:00,  1.74it/s]\u001b[A\u001b[A\n",
      "\n",
      "  9%|▉         | 875/10000 [09:29<1:34:40,  1.61it/s]\u001b[A\n",
      "\n",
      "  0%|          | 0/1 [00:00<?, ?it/s]\u001b[A\u001b[A\n",
      "\n",
      "100%|██████████| 1/1 [00:00<00:00,  1.46it/s]\u001b[A\u001b[A\n",
      "\n",
      "  9%|▉         | 876/10000 [09:30<1:42:35,  1.48it/s]\u001b[A\n",
      "\n",
      "  0%|          | 0/1 [00:00<?, ?it/s]\u001b[A\u001b[A\n",
      "\n",
      "100%|██████████| 1/1 [00:00<00:00,  1.58it/s]\u001b[A\u001b[A\n",
      "\n",
      "  9%|▉         | 877/10000 [09:31<1:44:29,  1.46it/s]\u001b[A\n",
      "\n",
      "  0%|          | 0/1 [00:00<?, ?it/s]\u001b[A\u001b[A\n",
      "\n"
     ]
    },
    {
     "name": "stderr",
     "output_type": "stream",
     "text": [
      "100%|██████████| 1/1 [00:00<00:00,  1.66it/s]\u001b[A\u001b[A\n",
      "\n",
      "  9%|▉         | 878/10000 [09:31<1:51:31,  1.36it/s]\u001b[A\n",
      "\n",
      "  0%|          | 0/1 [00:00<?, ?it/s]\u001b[A\u001b[A\n",
      "\n",
      "100%|██████████| 1/1 [00:00<00:00,  1.59it/s]\u001b[A\u001b[A\n",
      "\n",
      "  9%|▉         | 879/10000 [09:32<1:49:15,  1.39it/s]\u001b[A\n",
      "\n",
      "  0%|          | 0/1 [00:00<?, ?it/s]\u001b[A\u001b[A\n",
      "\n",
      "100%|██████████| 1/1 [00:00<00:00,  2.26it/s]\u001b[A\u001b[A\n",
      "\n",
      "  9%|▉         | 880/10000 [09:33<1:43:41,  1.47it/s]\u001b[A\n",
      "\n",
      "  0%|          | 0/1 [00:00<?, ?it/s]\u001b[A\u001b[A\n",
      "\n",
      "100%|██████████| 1/1 [00:00<00:00,  1.78it/s]\u001b[A\u001b[A\n",
      "\n",
      "  9%|▉         | 881/10000 [09:33<1:44:20,  1.46it/s]\u001b[A\n",
      "\n",
      "  0%|          | 0/1 [00:00<?, ?it/s]\u001b[A\u001b[A\n",
      "\n",
      "100%|██████████| 1/1 [00:00<00:00,  1.41it/s]\u001b[A\u001b[A\n",
      "\n",
      "  9%|▉         | 882/10000 [09:34<1:48:24,  1.40it/s]\u001b[A\n",
      "\n",
      "  0%|          | 0/1 [00:00<?, ?it/s]\u001b[A\u001b[A\n",
      "\n",
      "100%|██████████| 1/1 [00:00<00:00,  2.17it/s]\u001b[A\u001b[A\n",
      "\n",
      "  9%|▉         | 883/10000 [09:35<1:40:21,  1.51it/s]\u001b[A\n",
      "\n",
      "  0%|          | 0/1 [00:00<?, ?it/s]\u001b[A\u001b[A\n",
      "\n",
      "100%|██████████| 1/1 [00:00<00:00,  1.63it/s]\u001b[A\u001b[A\n",
      "\n",
      "  9%|▉         | 884/10000 [09:35<1:39:56,  1.52it/s]\u001b[A\n",
      "\n",
      "  0%|          | 0/1 [00:00<?, ?it/s]\u001b[A\u001b[A\n",
      "\n",
      "100%|██████████| 1/1 [00:00<00:00,  1.87it/s]\u001b[A\u001b[A\n",
      "\n",
      "  9%|▉         | 885/10000 [09:36<1:37:29,  1.56it/s]\u001b[A\n",
      "\n",
      "  0%|          | 0/1 [00:00<?, ?it/s]\u001b[A\u001b[A\n",
      "\n",
      "100%|██████████| 1/1 [00:00<00:00,  1.88it/s]\u001b[A\u001b[A\n",
      "\n",
      "  9%|▉         | 886/10000 [09:37<1:34:33,  1.61it/s]\u001b[A\n",
      "\n",
      "  0%|          | 0/1 [00:00<?, ?it/s]\u001b[A\u001b[A\n",
      "\n",
      "100%|██████████| 1/1 [00:00<00:00,  2.09it/s]\u001b[A\u001b[A\n",
      "\n",
      "  9%|▉         | 887/10000 [09:37<1:30:45,  1.67it/s]\u001b[A\n",
      "\n",
      "  0%|          | 0/1 [00:00<?, ?it/s]\u001b[A\u001b[A\n",
      "\n",
      "100%|██████████| 1/1 [00:00<00:00,  1.77it/s]\u001b[A\u001b[A\n",
      "\n",
      "  9%|▉         | 888/10000 [09:38<1:32:06,  1.65it/s]\u001b[A\n",
      "\n",
      "  0%|          | 0/1 [00:00<?, ?it/s]\u001b[A\u001b[A\n",
      "\n",
      "100%|██████████| 1/1 [00:00<00:00,  1.31it/s]\u001b[A\u001b[A\n",
      "\n",
      "  9%|▉         | 889/10000 [09:39<1:42:23,  1.48it/s]\u001b[A\n",
      "\n",
      "  0%|          | 0/1 [00:00<?, ?it/s]\u001b[A\u001b[A\n",
      "\n",
      "100%|██████████| 1/1 [00:00<00:00,  1.59it/s]\u001b[A\u001b[A\n",
      "\n",
      "  9%|▉         | 890/10000 [09:39<1:42:57,  1.47it/s]\u001b[A\n",
      "\n",
      "  0%|          | 0/1 [00:00<?, ?it/s]\u001b[A\u001b[A\n",
      "\n",
      "100%|██████████| 1/1 [00:00<00:00,  1.68it/s]\u001b[A\u001b[A\n",
      "\n",
      "  9%|▉         | 891/10000 [09:40<1:44:00,  1.46it/s]\u001b[A\n",
      "\n",
      "  0%|          | 0/1 [00:00<?, ?it/s]\u001b[A\u001b[A\n",
      "\n",
      "100%|██████████| 1/1 [00:00<00:00,  1.49it/s]\u001b[A\u001b[A\n",
      "\n",
      "  9%|▉         | 892/10000 [09:41<1:47:27,  1.41it/s]\u001b[A\n",
      "\n",
      "  0%|          | 0/1 [00:00<?, ?it/s]\u001b[A\u001b[A\n",
      "\n",
      "100%|██████████| 1/1 [00:00<00:00,  1.59it/s]\u001b[A\u001b[A\n",
      "\n",
      "  9%|▉         | 893/10000 [09:41<1:50:36,  1.37it/s]\u001b[A\n",
      "\n",
      "  0%|          | 0/1 [00:00<?, ?it/s]\u001b[A\u001b[A\n",
      "\n",
      "100%|██████████| 1/1 [00:00<00:00,  1.63it/s]\u001b[A\u001b[A\n",
      "\n",
      "  9%|▉         | 894/10000 [09:42<1:49:23,  1.39it/s]\u001b[A\n",
      "\n",
      "  0%|          | 0/1 [00:00<?, ?it/s]\u001b[A\u001b[A\n",
      "\n",
      "100%|██████████| 1/1 [00:00<00:00,  2.43it/s]\u001b[A\u001b[A\n",
      "\n",
      "  9%|▉         | 895/10000 [09:43<1:38:00,  1.55it/s]\u001b[A\n",
      "\n",
      "  0%|          | 0/1 [00:00<?, ?it/s]\u001b[A\u001b[A\n",
      "\n",
      "100%|██████████| 1/1 [00:00<00:00,  1.56it/s]\u001b[A\u001b[A\n",
      "\n",
      "  9%|▉         | 896/10000 [09:43<1:40:03,  1.52it/s]\u001b[A\n",
      "\n",
      "  0%|          | 0/1 [00:00<?, ?it/s]\u001b[A\u001b[A\n",
      "\n",
      "100%|██████████| 1/1 [00:00<00:00,  1.46it/s]\u001b[A\u001b[A\n",
      "\n",
      "  9%|▉         | 897/10000 [09:44<1:46:14,  1.43it/s]\u001b[A\n",
      "\n",
      "  0%|          | 0/1 [00:00<?, ?it/s]\u001b[A\u001b[A\n",
      "\n",
      "100%|██████████| 1/1 [00:00<00:00,  1.71it/s]\u001b[A\u001b[A\n",
      "\n",
      "  9%|▉         | 898/10000 [09:45<1:43:53,  1.46it/s]\u001b[A\n",
      "\n",
      "  0%|          | 0/1 [00:00<?, ?it/s]\u001b[A\u001b[A\n",
      "\n",
      "100%|██████████| 1/1 [00:00<00:00,  1.42it/s]\u001b[A\u001b[A\n",
      "\n",
      "  9%|▉         | 899/10000 [09:46<1:48:09,  1.40it/s]\u001b[A\n",
      "\n",
      "  0%|          | 0/1 [00:00<?, ?it/s]\u001b[A\u001b[A\n",
      "\n",
      "100%|██████████| 1/1 [00:00<00:00,  1.54it/s]\u001b[A\u001b[A\n",
      "\n",
      "  9%|▉         | 900/10000 [09:46<1:48:17,  1.40it/s]\u001b[A\n",
      "\n",
      "  0%|          | 0/1 [00:00<?, ?it/s]\u001b[A\u001b[A\n",
      "\n",
      "100%|██████████| 1/1 [00:00<00:00,  2.05it/s]\u001b[A\u001b[A\n",
      "\n",
      "  9%|▉         | 901/10000 [09:47<1:39:43,  1.52it/s]\u001b[A\n",
      "\n",
      "  0%|          | 0/1 [00:00<?, ?it/s]\u001b[A\u001b[A\n",
      "\n",
      "100%|██████████| 1/1 [00:00<00:00,  2.01it/s]\u001b[A\u001b[A\n",
      "\n",
      "  9%|▉         | 902/10000 [09:47<1:39:44,  1.52it/s]\u001b[A\n",
      "\n",
      "  0%|          | 0/1 [00:00<?, ?it/s]\u001b[A\u001b[A\n",
      "\n",
      "100%|██████████| 1/1 [00:00<00:00,  2.09it/s]\u001b[A\u001b[A\n",
      "\n",
      "  9%|▉         | 903/10000 [09:48<1:34:06,  1.61it/s]\u001b[A\n",
      "\n",
      "  0%|          | 0/1 [00:00<?, ?it/s]\u001b[A\u001b[A\n",
      "\n",
      "100%|██████████| 1/1 [00:00<00:00,  2.03it/s]\u001b[A\u001b[A\n",
      "\n",
      "  9%|▉         | 904/10000 [09:49<1:34:15,  1.61it/s]\u001b[A\n",
      "\n",
      "  0%|          | 0/1 [00:00<?, ?it/s]\u001b[A\u001b[A\n",
      "\n",
      "100%|██████████| 1/1 [00:00<00:00,  1.88it/s]\u001b[A\u001b[A\n",
      "\n",
      "  9%|▉         | 905/10000 [09:49<1:37:13,  1.56it/s]\u001b[A\n",
      "\n",
      "  0%|          | 0/1 [00:00<?, ?it/s]\u001b[A\u001b[A\n",
      "\n",
      "100%|██████████| 1/1 [00:00<00:00,  1.83it/s]\u001b[A\u001b[A\n",
      "\n",
      "  9%|▉         | 906/10000 [09:50<1:36:55,  1.56it/s]\u001b[A\n",
      "\n",
      "  0%|          | 0/1 [00:00<?, ?it/s]\u001b[A\u001b[A\n",
      "\n",
      "100%|██████████| 1/1 [00:00<00:00,  2.32it/s]\u001b[A\u001b[A\n",
      "\n",
      "  9%|▉         | 907/10000 [09:50<1:32:44,  1.63it/s]\u001b[A\n",
      "\n",
      "  0%|          | 0/1 [00:00<?, ?it/s]\u001b[A\u001b[A\n",
      "\n",
      "100%|██████████| 1/1 [00:00<00:00,  1.67it/s]\u001b[A\u001b[A\n",
      "\n",
      "  9%|▉         | 908/10000 [09:51<1:34:17,  1.61it/s]\u001b[A\n",
      "\n",
      "  0%|          | 0/1 [00:00<?, ?it/s]\u001b[A\u001b[A\n",
      "\n",
      "100%|██████████| 1/1 [00:00<00:00,  2.50it/s]\u001b[A\u001b[A\n",
      "\n",
      "  9%|▉         | 909/10000 [09:52<1:26:15,  1.76it/s]\u001b[A\n",
      "\n",
      "  0%|          | 0/1 [00:00<?, ?it/s]\u001b[A\u001b[A\n",
      "\n",
      "100%|██████████| 1/1 [00:00<00:00,  1.44it/s]\u001b[A\u001b[A\n",
      "\n",
      "  9%|▉         | 910/10000 [09:52<1:34:07,  1.61it/s]\u001b[A\n",
      "\n",
      "  0%|          | 0/1 [00:00<?, ?it/s]\u001b[A\u001b[A\n",
      "\n",
      "100%|██████████| 1/1 [00:00<00:00,  1.47it/s]\u001b[A\u001b[A\n",
      "\n",
      "  9%|▉         | 911/10000 [09:53<1:44:22,  1.45it/s]\u001b[A\n",
      "\n",
      "  0%|          | 0/1 [00:00<?, ?it/s]\u001b[A\u001b[A\n",
      "\n",
      "100%|██████████| 1/1 [00:00<00:00,  1.37it/s]\u001b[A\u001b[A\n",
      "\n",
      "  9%|▉         | 912/10000 [09:54<1:54:03,  1.33it/s]\u001b[A\n",
      "\n",
      "  0%|          | 0/1 [00:00<?, ?it/s]\u001b[A\u001b[A\n",
      "\n",
      "100%|██████████| 1/1 [00:00<00:00,  1.95it/s]\u001b[A\u001b[A\n",
      "\n",
      "  9%|▉         | 913/10000 [09:55<1:45:19,  1.44it/s]\u001b[A\n",
      "\n",
      "  0%|          | 0/1 [00:00<?, ?it/s]\u001b[A\u001b[A\n",
      "\n",
      "100%|██████████| 1/1 [00:00<00:00,  1.53it/s]\u001b[A\u001b[A\n",
      "\n",
      "  9%|▉         | 914/10000 [09:55<1:46:12,  1.43it/s]\u001b[A\n",
      "\n",
      "  0%|          | 0/1 [00:00<?, ?it/s]\u001b[A\u001b[A\n",
      "\n",
      "100%|██████████| 1/1 [00:00<00:00,  1.69it/s]\u001b[A\u001b[A\n",
      "\n",
      "  9%|▉         | 915/10000 [09:56<1:52:05,  1.35it/s]\u001b[A\n",
      "\n",
      "  0%|          | 0/1 [00:00<?, ?it/s]\u001b[A\u001b[A\n",
      "\n",
      "100%|██████████| 1/1 [00:00<00:00,  1.17it/s]\u001b[A\u001b[A\n",
      "\n",
      "  9%|▉         | 916/10000 [09:57<2:04:30,  1.22it/s]\u001b[A\n",
      "\n",
      "  0%|          | 0/1 [00:00<?, ?it/s]\u001b[A\u001b[A\n",
      "\n",
      "100%|██████████| 1/1 [00:00<00:00,  1.81it/s]\u001b[A\u001b[A\n",
      "\n",
      "  9%|▉         | 917/10000 [09:58<1:59:19,  1.27it/s]\u001b[A\n",
      "\n",
      "  0%|          | 0/1 [00:00<?, ?it/s]\u001b[A\u001b[A\n",
      "\n",
      "100%|██████████| 1/1 [00:00<00:00,  1.53it/s]\u001b[A\u001b[A\n",
      "\n",
      "  9%|▉         | 918/10000 [09:59<1:58:43,  1.27it/s]\u001b[A\n",
      "\n",
      "  0%|          | 0/1 [00:00<?, ?it/s]\u001b[A\u001b[A\n",
      "\n",
      "100%|██████████| 1/1 [00:00<00:00,  1.41it/s]\u001b[A\u001b[A\n",
      "\n",
      "  9%|▉         | 919/10000 [09:59<2:00:20,  1.26it/s]\u001b[A\n",
      "\n",
      "  0%|          | 0/1 [00:00<?, ?it/s]\u001b[A\u001b[A\n",
      "\n",
      "100%|██████████| 1/1 [00:00<00:00,  1.67it/s]\u001b[A\u001b[A\n",
      "\n",
      "  9%|▉         | 920/10000 [10:00<1:53:20,  1.34it/s]\u001b[A\n",
      "\n",
      "  0%|          | 0/1 [00:00<?, ?it/s]\u001b[A\u001b[A\n",
      "\n",
      "100%|██████████| 1/1 [00:00<00:00,  1.31it/s]\u001b[A\u001b[A\n",
      "\n",
      "  9%|▉         | 921/10000 [10:01<1:58:48,  1.27it/s]\u001b[A\n",
      "\n",
      "  0%|          | 0/1 [00:00<?, ?it/s]\u001b[A\u001b[A\n",
      "\n",
      "100%|██████████| 1/1 [00:00<00:00,  1.32it/s]\u001b[A\u001b[A\n",
      "\n",
      "  9%|▉         | 922/10000 [10:02<2:00:33,  1.25it/s]\u001b[A\n",
      "\n",
      "  0%|          | 0/1 [00:00<?, ?it/s]\u001b[A\u001b[A\n",
      "\n",
      "100%|██████████| 1/1 [00:00<00:00,  1.87it/s]\u001b[A\u001b[A\n",
      "\n",
      "  9%|▉         | 923/10000 [10:02<1:51:47,  1.35it/s]\u001b[A\n",
      "\n",
      "  0%|          | 0/1 [00:00<?, ?it/s]\u001b[A\u001b[A\n",
      "\n",
      "100%|██████████| 1/1 [00:00<00:00,  1.46it/s]\u001b[A\u001b[A\n",
      "\n",
      "  9%|▉         | 924/10000 [10:03<1:51:04,  1.36it/s]\u001b[A\n",
      "\n",
      "  0%|          | 0/1 [00:00<?, ?it/s]\u001b[A\u001b[A\n",
      "\n",
      "100%|██████████| 1/1 [00:00<00:00,  1.12it/s]\u001b[A\u001b[A\n",
      "\n",
      "  9%|▉         | 925/10000 [10:04<2:02:03,  1.24it/s]\u001b[A\n",
      "\n",
      "  0%|          | 0/1 [00:00<?, ?it/s]\u001b[A\u001b[A\n",
      "\n",
      "100%|██████████| 1/1 [00:00<00:00,  1.39it/s]\u001b[A\u001b[A\n",
      "\n",
      "  9%|▉         | 926/10000 [10:05<2:06:45,  1.19it/s]\u001b[A\n",
      "\n",
      "  0%|          | 0/1 [00:00<?, ?it/s]\u001b[A\u001b[A\n",
      "\n",
      "100%|██████████| 1/1 [00:00<00:00,  1.20it/s]\u001b[A\u001b[A\n",
      "\n",
      "  9%|▉         | 927/10000 [10:06<2:15:41,  1.11it/s]\u001b[A\n",
      "\n",
      "  0%|          | 0/1 [00:00<?, ?it/s]\u001b[A\u001b[A\n",
      "\n",
      "100%|██████████| 1/1 [00:00<00:00,  1.80it/s]\u001b[A\u001b[A\n",
      "\n",
      "  9%|▉         | 928/10000 [10:07<2:05:01,  1.21it/s]\u001b[A\n",
      "\n",
      "  0%|          | 0/1 [00:00<?, ?it/s]\u001b[A\u001b[A\n",
      "\n",
      "100%|██████████| 1/1 [00:00<00:00,  1.51it/s]\u001b[A\u001b[A\n",
      "\n",
      "  9%|▉         | 929/10000 [10:07<2:02:27,  1.23it/s]\u001b[A\n",
      "\n",
      "  0%|          | 0/1 [00:00<?, ?it/s]\u001b[A\u001b[A\n",
      "\n",
      "100%|██████████| 1/1 [00:00<00:00,  1.42it/s]\u001b[A\u001b[A\n",
      "\n"
     ]
    },
    {
     "name": "stderr",
     "output_type": "stream",
     "text": [
      "  9%|▉         | 930/10000 [10:08<2:04:18,  1.22it/s]\u001b[A\n",
      "\n",
      "  0%|          | 0/1 [00:00<?, ?it/s]\u001b[A\u001b[A\n",
      "\n",
      "100%|██████████| 1/1 [00:00<00:00,  1.56it/s]\u001b[A\u001b[A\n",
      "\n",
      "  9%|▉         | 931/10000 [10:09<1:58:48,  1.27it/s]\u001b[A\n",
      "\n",
      "  0%|          | 0/1 [00:00<?, ?it/s]\u001b[A\u001b[A\n",
      "\n",
      "100%|██████████| 1/1 [00:00<00:00,  1.59it/s]\u001b[A\u001b[A\n",
      "\n",
      "  9%|▉         | 932/10000 [10:10<1:57:15,  1.29it/s]\u001b[A\n",
      "\n",
      "  0%|          | 0/1 [00:00<?, ?it/s]\u001b[A\u001b[A\n",
      "\n",
      "100%|██████████| 1/1 [00:00<00:00,  1.96it/s]\u001b[A\u001b[A\n",
      "\n",
      "  9%|▉         | 933/10000 [10:10<1:48:31,  1.39it/s]\u001b[A\n",
      "\n",
      "  0%|          | 0/1 [00:00<?, ?it/s]\u001b[A\u001b[A\n",
      "\n",
      "100%|██████████| 1/1 [00:00<00:00,  1.45it/s]\u001b[A\u001b[A\n",
      "\n",
      "  9%|▉         | 934/10000 [10:11<1:50:37,  1.37it/s]\u001b[A\n",
      "\n",
      "  0%|          | 0/1 [00:00<?, ?it/s]\u001b[A\u001b[A\n",
      "\n",
      "100%|██████████| 1/1 [00:00<00:00,  1.20it/s]\u001b[A\u001b[A\n",
      "\n",
      "  9%|▉         | 935/10000 [10:12<1:58:05,  1.28it/s]\u001b[A\n",
      "\n",
      "  0%|          | 0/1 [00:00<?, ?it/s]\u001b[A\u001b[A\n",
      "\n",
      "100%|██████████| 1/1 [00:00<00:00,  1.46it/s]\u001b[A\u001b[A\n",
      "\n",
      "  9%|▉         | 936/10000 [10:13<1:57:12,  1.29it/s]\u001b[A\n",
      "\n",
      "  0%|          | 0/1 [00:00<?, ?it/s]\u001b[A\u001b[A\n",
      "\n",
      "100%|██████████| 1/1 [00:00<00:00,  1.48it/s]\u001b[A\u001b[A\n",
      "\n",
      "  9%|▉         | 937/10000 [10:14<1:55:09,  1.31it/s]\u001b[A\n",
      "\n",
      "  0%|          | 0/1 [00:00<?, ?it/s]\u001b[A\u001b[A\n",
      "\n",
      "100%|██████████| 1/1 [00:00<00:00,  1.45it/s]\u001b[A\u001b[A\n",
      "\n",
      "  9%|▉         | 938/10000 [10:14<1:56:35,  1.30it/s]\u001b[A\n",
      "\n",
      "  0%|          | 0/1 [00:00<?, ?it/s]\u001b[A\u001b[A\n",
      "\n",
      "100%|██████████| 1/1 [00:00<00:00,  1.38it/s]\u001b[A\u001b[A\n",
      "\n",
      "  9%|▉         | 939/10000 [10:15<2:00:33,  1.25it/s]\u001b[A\n",
      "\n",
      "  0%|          | 0/1 [00:00<?, ?it/s]\u001b[A\u001b[A\n",
      "\n",
      "100%|██████████| 1/1 [00:00<00:00,  1.65it/s]\u001b[A\u001b[A\n",
      "\n",
      "  9%|▉         | 940/10000 [10:16<1:55:15,  1.31it/s]\u001b[A\n",
      "\n",
      "  0%|          | 0/1 [00:00<?, ?it/s]\u001b[A\u001b[A\n",
      "\n",
      "100%|██████████| 1/1 [00:00<00:00,  1.70it/s]\u001b[A\u001b[A\n",
      "\n",
      "  9%|▉         | 941/10000 [10:17<1:58:55,  1.27it/s]\u001b[A"
     ]
    },
    {
     "name": "stdout",
     "output_type": "stream",
     "text": [
      "\n",
      "Epoch: 941, Loss: 0.3876, Val: 0.7026, Test: 0.7094\n"
     ]
    },
    {
     "name": "stderr",
     "output_type": "stream",
     "text": [
      "\n",
      "\n",
      "  0%|          | 0/1 [00:00<?, ?it/s]\u001b[A\u001b[A\n",
      "\n",
      "100%|██████████| 1/1 [00:00<00:00,  1.46it/s]\u001b[A\u001b[A\n",
      "\n",
      "  9%|▉         | 942/10000 [10:17<1:58:55,  1.27it/s]\u001b[A\n",
      "\n",
      "  0%|          | 0/1 [00:00<?, ?it/s]\u001b[A\u001b[A\n",
      "\n",
      "100%|██████████| 1/1 [00:00<00:00,  1.74it/s]\u001b[A\u001b[A\n",
      "\n",
      "  9%|▉         | 943/10000 [10:18<1:51:54,  1.35it/s]\u001b[A\n",
      "\n",
      "  0%|          | 0/1 [00:00<?, ?it/s]\u001b[A\u001b[A\n",
      "\n",
      "100%|██████████| 1/1 [00:00<00:00,  2.23it/s]\u001b[A\u001b[A\n",
      "\n",
      "  9%|▉         | 944/10000 [10:19<1:43:07,  1.46it/s]\u001b[A\n",
      "\n",
      "  0%|          | 0/1 [00:00<?, ?it/s]\u001b[A\u001b[A\n",
      "\n",
      "100%|██████████| 1/1 [00:00<00:00,  1.63it/s]\u001b[A\u001b[A\n",
      "\n",
      "  9%|▉         | 945/10000 [10:19<1:41:54,  1.48it/s]\u001b[A\n",
      "\n",
      "  0%|          | 0/1 [00:00<?, ?it/s]\u001b[A\u001b[A\n",
      "\n",
      "100%|██████████| 1/1 [00:00<00:00,  2.11it/s]\u001b[A\u001b[A\n",
      "\n",
      "  9%|▉         | 946/10000 [10:20<1:39:47,  1.51it/s]\u001b[A\n",
      "\n",
      "  0%|          | 0/1 [00:00<?, ?it/s]\u001b[A\u001b[A\n",
      "\n",
      "100%|██████████| 1/1 [00:00<00:00,  2.06it/s]\u001b[A\u001b[A\n",
      "\n",
      "  9%|▉         | 947/10000 [10:20<1:33:44,  1.61it/s]\u001b[A\n",
      "\n",
      "  0%|          | 0/1 [00:00<?, ?it/s]\u001b[A\u001b[A\n",
      "\n",
      "100%|██████████| 1/1 [00:00<00:00,  1.54it/s]\u001b[A\u001b[A\n",
      "\n",
      "  9%|▉         | 948/10000 [10:21<1:37:32,  1.55it/s]\u001b[A\n",
      "\n",
      "  0%|          | 0/1 [00:00<?, ?it/s]\u001b[A\u001b[A\n",
      "\n",
      "100%|██████████| 1/1 [00:00<00:00,  1.74it/s]\u001b[A\u001b[A\n",
      "\n",
      "  9%|▉         | 949/10000 [10:22<1:36:34,  1.56it/s]\u001b[A\n",
      "\n",
      "  0%|          | 0/1 [00:00<?, ?it/s]\u001b[A\u001b[A\n",
      "\n",
      "100%|██████████| 1/1 [00:00<00:00,  1.33it/s]\u001b[A\u001b[A\n",
      "\n",
      " 10%|▉         | 950/10000 [10:23<1:45:29,  1.43it/s]\u001b[A\n",
      "\n",
      "  0%|          | 0/1 [00:00<?, ?it/s]\u001b[A\u001b[A\n",
      "\n",
      "100%|██████████| 1/1 [00:00<00:00,  1.04it/s]\u001b[A\u001b[A\n",
      "\n",
      " 10%|▉         | 951/10000 [10:24<2:03:20,  1.22it/s]\u001b[A\n",
      "\n",
      "  0%|          | 0/1 [00:00<?, ?it/s]\u001b[A\u001b[A\n",
      "\n",
      "100%|██████████| 1/1 [00:00<00:00,  2.40it/s]\u001b[A\u001b[A\n",
      "\n",
      " 10%|▉         | 952/10000 [10:24<1:47:03,  1.41it/s]\u001b[A\n",
      "\n",
      "  0%|          | 0/1 [00:00<?, ?it/s]\u001b[A\u001b[A\n",
      "\n",
      "100%|██████████| 1/1 [00:00<00:00,  1.84it/s]\u001b[A\u001b[A\n",
      "\n",
      " 10%|▉         | 953/10000 [10:25<1:44:12,  1.45it/s]\u001b[A\n",
      "\n",
      "  0%|          | 0/1 [00:00<?, ?it/s]\u001b[A\u001b[A\n",
      "\n",
      "100%|██████████| 1/1 [00:00<00:00,  2.29it/s]\u001b[A\u001b[A\n",
      "\n",
      " 10%|▉         | 954/10000 [10:25<1:34:57,  1.59it/s]\u001b[A\n",
      "\n",
      "  0%|          | 0/1 [00:00<?, ?it/s]\u001b[A\u001b[A\n",
      "\n",
      "100%|██████████| 1/1 [00:00<00:00,  1.86it/s]\u001b[A\u001b[A\n",
      "\n",
      " 10%|▉         | 955/10000 [10:26<1:32:57,  1.62it/s]\u001b[A\n",
      "\n",
      "  0%|          | 0/1 [00:00<?, ?it/s]\u001b[A\u001b[A\n",
      "\n",
      "100%|██████████| 1/1 [00:00<00:00,  1.70it/s]\u001b[A\u001b[A\n",
      "\n",
      " 10%|▉         | 956/10000 [10:27<1:33:41,  1.61it/s]\u001b[A\n",
      "\n",
      "  0%|          | 0/1 [00:00<?, ?it/s]\u001b[A\u001b[A\n",
      "\n",
      "100%|██████████| 1/1 [00:00<00:00,  2.02it/s]\u001b[A\u001b[A\n",
      "\n",
      " 10%|▉         | 957/10000 [10:27<1:29:57,  1.68it/s]\u001b[A\n",
      "\n",
      "  0%|          | 0/1 [00:00<?, ?it/s]\u001b[A\u001b[A\n",
      "\n",
      "100%|██████████| 1/1 [00:00<00:00,  1.77it/s]\u001b[A\u001b[A\n",
      "\n",
      " 10%|▉         | 958/10000 [10:28<1:30:39,  1.66it/s]\u001b[A\n",
      "\n",
      "  0%|          | 0/1 [00:00<?, ?it/s]\u001b[A\u001b[A\n",
      "\n",
      "100%|██████████| 1/1 [00:00<00:00,  1.72it/s]\u001b[A\u001b[A\n",
      "\n",
      " 10%|▉         | 959/10000 [10:28<1:35:09,  1.58it/s]\u001b[A\n",
      "\n",
      "  0%|          | 0/1 [00:00<?, ?it/s]\u001b[A\u001b[A\n",
      "\n",
      "100%|██████████| 1/1 [00:00<00:00,  1.93it/s]\u001b[A\u001b[A\n",
      "\n",
      " 10%|▉         | 960/10000 [10:29<1:33:04,  1.62it/s]\u001b[A\n",
      "\n",
      "  0%|          | 0/1 [00:00<?, ?it/s]\u001b[A\u001b[A\n",
      "\n",
      "100%|██████████| 1/1 [00:00<00:00,  1.34it/s]\u001b[A\u001b[A\n",
      "\n",
      " 10%|▉         | 961/10000 [10:30<1:44:03,  1.45it/s]\u001b[A\n",
      "\n",
      "  0%|          | 0/1 [00:00<?, ?it/s]\u001b[A\u001b[A\n",
      "\n",
      "100%|██████████| 1/1 [00:00<00:00,  1.27it/s]\u001b[A\u001b[A\n",
      "\n",
      " 10%|▉         | 962/10000 [10:31<1:56:02,  1.30it/s]\u001b[A\n",
      "\n",
      "  0%|          | 0/1 [00:00<?, ?it/s]\u001b[A\u001b[A\n",
      "\n",
      "100%|██████████| 1/1 [00:00<00:00,  1.86it/s]\u001b[A\u001b[A\n",
      "\n",
      " 10%|▉         | 963/10000 [10:31<1:51:46,  1.35it/s]\u001b[A\n",
      "\n",
      "  0%|          | 0/1 [00:00<?, ?it/s]\u001b[A\u001b[A\n",
      "\n",
      "100%|██████████| 1/1 [00:00<00:00,  1.51it/s]\u001b[A\u001b[A\n",
      "\n",
      " 10%|▉         | 964/10000 [10:32<1:50:04,  1.37it/s]\u001b[A\n",
      "\n",
      "  0%|          | 0/1 [00:00<?, ?it/s]\u001b[A\u001b[A\n",
      "\n",
      "100%|██████████| 1/1 [00:00<00:00,  1.40it/s]\u001b[A\u001b[A\n",
      "\n",
      " 10%|▉         | 965/10000 [10:33<1:53:12,  1.33it/s]\u001b[A\n",
      "\n",
      "  0%|          | 0/1 [00:00<?, ?it/s]\u001b[A\u001b[A\n",
      "\n",
      "100%|██████████| 1/1 [00:00<00:00,  2.16it/s]\u001b[A\u001b[A\n",
      "\n",
      " 10%|▉         | 966/10000 [10:34<1:42:18,  1.47it/s]\u001b[A\n",
      "\n",
      "  0%|          | 0/1 [00:00<?, ?it/s]\u001b[A\u001b[A\n",
      "\n",
      "100%|██████████| 1/1 [00:00<00:00,  1.72it/s]\u001b[A\u001b[A\n",
      "\n",
      " 10%|▉         | 967/10000 [10:34<1:40:29,  1.50it/s]\u001b[A\n",
      "\n",
      "  0%|          | 0/1 [00:00<?, ?it/s]\u001b[A\u001b[A\n",
      "\n",
      "100%|██████████| 1/1 [00:00<00:00,  1.58it/s]\u001b[A\u001b[A\n",
      "\n",
      " 10%|▉         | 968/10000 [10:35<1:41:24,  1.48it/s]\u001b[A\n",
      "\n",
      "  0%|          | 0/1 [00:00<?, ?it/s]\u001b[A\u001b[A\n",
      "\n",
      "100%|██████████| 1/1 [00:00<00:00,  1.62it/s]\u001b[A\u001b[A\n",
      "\n",
      " 10%|▉         | 969/10000 [10:36<1:41:59,  1.48it/s]\u001b[A\n",
      "\n",
      "  0%|          | 0/1 [00:00<?, ?it/s]\u001b[A\u001b[A\n",
      "\n",
      "100%|██████████| 1/1 [00:00<00:00,  1.71it/s]\u001b[A\u001b[A\n",
      "\n",
      " 10%|▉         | 970/10000 [10:36<1:48:27,  1.39it/s]\u001b[A\n",
      "\n",
      "  0%|          | 0/1 [00:00<?, ?it/s]\u001b[A\u001b[A\n",
      "\n",
      "100%|██████████| 1/1 [00:00<00:00,  1.37it/s]\u001b[A\u001b[A\n",
      "\n",
      " 10%|▉         | 971/10000 [10:37<1:51:42,  1.35it/s]\u001b[A\n",
      "\n",
      "  0%|          | 0/1 [00:00<?, ?it/s]\u001b[A\u001b[A\n",
      "\n",
      "100%|██████████| 1/1 [00:00<00:00,  1.68it/s]\u001b[A\u001b[A\n",
      "\n",
      " 10%|▉         | 972/10000 [10:38<1:52:21,  1.34it/s]\u001b[A\n",
      "\n",
      "  0%|          | 0/1 [00:00<?, ?it/s]\u001b[A\u001b[A\n",
      "\n",
      "100%|██████████| 1/1 [00:00<00:00,  1.45it/s]\u001b[A\u001b[A\n",
      "\n",
      " 10%|▉         | 973/10000 [10:39<1:53:53,  1.32it/s]\u001b[A\n",
      "\n",
      "  0%|          | 0/1 [00:00<?, ?it/s]\u001b[A\u001b[A\n",
      "\n",
      "100%|██████████| 1/1 [00:00<00:00,  1.32it/s]\u001b[A\u001b[A\n",
      "\n",
      " 10%|▉         | 974/10000 [10:40<1:58:33,  1.27it/s]\u001b[A\n",
      "\n",
      "  0%|          | 0/1 [00:00<?, ?it/s]\u001b[A\u001b[A\n",
      "\n",
      "100%|██████████| 1/1 [00:00<00:00,  1.38it/s]\u001b[A\u001b[A\n",
      "\n",
      " 10%|▉         | 975/10000 [10:40<2:02:04,  1.23it/s]\u001b[A\n",
      "\n",
      "  0%|          | 0/1 [00:00<?, ?it/s]\u001b[A\u001b[A\n",
      "\n",
      "100%|██████████| 1/1 [00:00<00:00,  2.10it/s]\u001b[A\u001b[A\n",
      "\n",
      " 10%|▉         | 976/10000 [10:41<1:54:28,  1.31it/s]\u001b[A\n",
      "\n",
      "  0%|          | 0/1 [00:00<?, ?it/s]\u001b[A\u001b[A\n",
      "\n",
      "100%|██████████| 1/1 [00:00<00:00,  1.58it/s]\u001b[A\u001b[A\n",
      "\n",
      " 10%|▉         | 977/10000 [10:42<1:51:45,  1.35it/s]\u001b[A\n",
      "\n",
      "  0%|          | 0/1 [00:00<?, ?it/s]\u001b[A\u001b[A\n",
      "\n",
      "100%|██████████| 1/1 [00:00<00:00,  1.27it/s]\u001b[A\u001b[A\n",
      "\n",
      " 10%|▉         | 978/10000 [10:43<1:57:50,  1.28it/s]\u001b[A\n",
      "\n",
      "  0%|          | 0/1 [00:00<?, ?it/s]\u001b[A\u001b[A\n",
      "\n",
      "100%|██████████| 1/1 [00:00<00:00,  2.04it/s]\u001b[A\u001b[A\n",
      "\n",
      " 10%|▉         | 979/10000 [10:43<1:46:57,  1.41it/s]\u001b[A\n",
      "\n",
      "  0%|          | 0/1 [00:00<?, ?it/s]\u001b[A\u001b[A\n",
      "\n",
      "100%|██████████| 1/1 [00:00<00:00,  1.40it/s]\u001b[A\u001b[A\n",
      "\n",
      " 10%|▉         | 980/10000 [10:44<1:52:18,  1.34it/s]\u001b[A\n",
      "\n",
      "  0%|          | 0/1 [00:00<?, ?it/s]\u001b[A\u001b[A\n",
      "\n",
      "100%|██████████| 1/1 [00:00<00:00,  1.94it/s]\u001b[A\u001b[A\n",
      "\n",
      " 10%|▉         | 981/10000 [10:45<1:47:06,  1.40it/s]\u001b[A\n",
      "\n",
      "  0%|          | 0/1 [00:00<?, ?it/s]\u001b[A\u001b[A\n",
      "\n",
      "100%|██████████| 1/1 [00:00<00:00,  1.70it/s]\u001b[A\u001b[A\n",
      "\n",
      " 10%|▉         | 982/10000 [10:45<1:43:27,  1.45it/s]\u001b[A\n",
      "\n",
      "  0%|          | 0/1 [00:00<?, ?it/s]\u001b[A\u001b[A\n",
      "\n",
      "100%|██████████| 1/1 [00:00<00:00,  1.24it/s]\u001b[A\u001b[A\n",
      "\n",
      " 10%|▉         | 983/10000 [10:46<1:51:31,  1.35it/s]\u001b[A\n",
      "\n",
      "  0%|          | 0/1 [00:00<?, ?it/s]\u001b[A\u001b[A\n",
      "\n",
      "100%|██████████| 1/1 [00:00<00:00,  1.52it/s]\u001b[A\u001b[A\n",
      "\n",
      " 10%|▉         | 984/10000 [10:47<1:54:36,  1.31it/s]\u001b[A\n",
      "\n",
      "  0%|          | 0/1 [00:00<?, ?it/s]\u001b[A\u001b[A\n",
      "\n",
      "100%|██████████| 1/1 [00:00<00:00,  1.85it/s]\u001b[A\u001b[A\n",
      "\n",
      " 10%|▉         | 985/10000 [10:48<1:48:17,  1.39it/s]\u001b[A\n",
      "\n",
      "  0%|          | 0/1 [00:00<?, ?it/s]\u001b[A\u001b[A\n",
      "\n",
      "100%|██████████| 1/1 [00:00<00:00,  1.45it/s]\u001b[A\u001b[A\n",
      "\n",
      " 10%|▉         | 986/10000 [10:48<1:48:33,  1.38it/s]\u001b[A\n",
      "\n",
      "  0%|          | 0/1 [00:00<?, ?it/s]\u001b[A\u001b[A\n",
      "\n",
      "100%|██████████| 1/1 [00:00<00:00,  2.36it/s]\u001b[A\u001b[A\n",
      "\n",
      " 10%|▉         | 987/10000 [10:49<1:37:53,  1.53it/s]\u001b[A\n",
      "\n",
      "  0%|          | 0/1 [00:00<?, ?it/s]\u001b[A\u001b[A\n",
      "\n",
      "100%|██████████| 1/1 [00:00<00:00,  1.96it/s]\u001b[A\u001b[A\n",
      "\n",
      " 10%|▉         | 988/10000 [10:49<1:35:27,  1.57it/s]\u001b[A"
     ]
    },
    {
     "name": "stdout",
     "output_type": "stream",
     "text": [
      "\n",
      "Epoch: 988, Loss: 0.3875, Val: 0.7027, Test: 0.7103\n"
     ]
    },
    {
     "name": "stderr",
     "output_type": "stream",
     "text": [
      "\n",
      "\n",
      "  0%|          | 0/1 [00:00<?, ?it/s]\u001b[A\u001b[A\n",
      "\n",
      "100%|██████████| 1/1 [00:00<00:00,  1.07it/s]\u001b[A\u001b[A\n",
      "\n",
      " 10%|▉         | 989/10000 [10:50<1:51:44,  1.34it/s]\u001b[A\n",
      "\n",
      "  0%|          | 0/1 [00:00<?, ?it/s]\u001b[A\u001b[A\n",
      "\n",
      "100%|██████████| 1/1 [00:00<00:00,  1.44it/s]\u001b[A\u001b[A\n",
      "\n",
      " 10%|▉         | 990/10000 [10:51<1:53:19,  1.33it/s]\u001b[A\n",
      "\n",
      "  0%|          | 0/1 [00:00<?, ?it/s]\u001b[A\u001b[A\n",
      "\n",
      "100%|██████████| 1/1 [00:00<00:00,  1.56it/s]\u001b[A\u001b[A\n",
      "\n",
      " 10%|▉         | 991/10000 [10:52<1:54:28,  1.31it/s]\u001b[A\n",
      "\n",
      "  0%|          | 0/1 [00:00<?, ?it/s]\u001b[A\u001b[A\n",
      "\n",
      "100%|██████████| 1/1 [00:00<00:00,  1.35it/s]\u001b[A\u001b[A\n",
      "\n",
      " 10%|▉         | 992/10000 [10:53<1:55:28,  1.30it/s]\u001b[A\n",
      "\n",
      "  0%|          | 0/1 [00:00<?, ?it/s]\u001b[A\u001b[A\n",
      "\n",
      "100%|██████████| 1/1 [00:00<00:00,  1.25it/s]\u001b[A\u001b[A\n",
      "\n",
      " 10%|▉         | 993/10000 [10:54<2:04:24,  1.21it/s]\u001b[A\n",
      "\n",
      "  0%|          | 0/1 [00:00<?, ?it/s]\u001b[A\u001b[A\n",
      "\n",
      "100%|██████████| 1/1 [00:00<00:00,  1.70it/s]\u001b[A\u001b[A\n",
      "\n",
      " 10%|▉         | 994/10000 [10:54<1:59:15,  1.26it/s]\u001b[A\n",
      "\n",
      "  0%|          | 0/1 [00:00<?, ?it/s]\u001b[A\u001b[A\n",
      "\n",
      "100%|██████████| 1/1 [00:00<00:00,  1.59it/s]\u001b[A\u001b[A\n",
      "\n",
      " 10%|▉         | 995/10000 [10:55<1:54:05,  1.32it/s]\u001b[A\n",
      "\n",
      "  0%|          | 0/1 [00:00<?, ?it/s]\u001b[A\u001b[A\n",
      "\n",
      "100%|██████████| 1/1 [00:00<00:00,  1.20it/s]\u001b[A\u001b[A\n",
      "\n",
      " 10%|▉         | 996/10000 [10:56<1:59:54,  1.25it/s]\u001b[A\n",
      "\n",
      "  0%|          | 0/1 [00:00<?, ?it/s]\u001b[A\u001b[A\n",
      "\n",
      "100%|██████████| 1/1 [00:01<00:00,  1.22s/it]\u001b[A\u001b[A\n",
      "\n",
      " 10%|▉         | 997/10000 [10:57<2:20:27,  1.07it/s]\u001b[A\n",
      "\n",
      "  0%|          | 0/1 [00:00<?, ?it/s]\u001b[A\u001b[A\n",
      "\n",
      "100%|██████████| 1/1 [00:00<00:00,  1.84it/s]\u001b[A\u001b[A\n",
      "\n",
      " 10%|▉         | 998/10000 [10:58<2:08:06,  1.17it/s]\u001b[A\n",
      "\n",
      "  0%|          | 0/1 [00:00<?, ?it/s]\u001b[A\u001b[A\n",
      "\n",
      "100%|██████████| 1/1 [00:00<00:00,  2.13it/s]\u001b[A\u001b[A\n",
      "\n",
      " 10%|▉         | 999/10000 [10:58<1:52:56,  1.33it/s]\u001b[A\n",
      "\n",
      "  0%|          | 0/1 [00:00<?, ?it/s]\u001b[A\u001b[A\n",
      "\n",
      "100%|██████████| 1/1 [00:00<00:00,  1.45it/s]\u001b[A\u001b[A\n",
      "\n",
      " 10%|█         | 1000/10000 [10:59<1:57:17,  1.28it/s]\u001b[A\n",
      "\n",
      "  0%|          | 0/1 [00:00<?, ?it/s]\u001b[A\u001b[A\n",
      "\n",
      "100%|██████████| 1/1 [00:00<00:00,  2.24it/s]\u001b[A\u001b[A\n",
      "\n",
      " 10%|█         | 1001/10000 [11:00<1:49:37,  1.37it/s]\u001b[A\n",
      "\n",
      "  0%|          | 0/1 [00:00<?, ?it/s]\u001b[A\u001b[A\n",
      "\n",
      "100%|██████████| 1/1 [00:00<00:00,  1.51it/s]\u001b[A\u001b[A\n",
      "\n",
      " 10%|█         | 1002/10000 [11:01<1:48:48,  1.38it/s]\u001b[A\n",
      "\n",
      "  0%|          | 0/1 [00:00<?, ?it/s]\u001b[A\u001b[A\n",
      "\n",
      "100%|██████████| 1/1 [00:00<00:00,  1.50it/s]\u001b[A\u001b[A\n",
      "\n",
      " 10%|█         | 1003/10000 [11:01<1:50:13,  1.36it/s]\u001b[A\n",
      "\n",
      "  0%|          | 0/1 [00:00<?, ?it/s]\u001b[A\u001b[A\n",
      "\n",
      "100%|██████████| 1/1 [00:00<00:00,  1.97it/s]\u001b[A\u001b[A\n",
      "\n",
      " 10%|█         | 1004/10000 [11:02<1:46:37,  1.41it/s]\u001b[A"
     ]
    },
    {
     "name": "stdout",
     "output_type": "stream",
     "text": [
      "\n",
      "Epoch: 1004, Loss: 0.3878, Val: 0.7028, Test: 0.7102\n"
     ]
    },
    {
     "name": "stderr",
     "output_type": "stream",
     "text": [
      "\n",
      "\n",
      "  0%|          | 0/1 [00:00<?, ?it/s]\u001b[A\u001b[A\n",
      "\n",
      "100%|██████████| 1/1 [00:00<00:00,  1.39it/s]\u001b[A\u001b[A\n",
      "\n",
      " 10%|█         | 1005/10000 [11:03<1:53:38,  1.32it/s]\u001b[A\n",
      "\n",
      "  0%|          | 0/1 [00:00<?, ?it/s]\u001b[A\u001b[A\n",
      "\n",
      "100%|██████████| 1/1 [00:00<00:00,  1.38it/s]\u001b[A\u001b[A\n",
      "\n",
      " 10%|█         | 1006/10000 [11:04<1:54:04,  1.31it/s]\u001b[A\n",
      "\n",
      "  0%|          | 0/1 [00:00<?, ?it/s]\u001b[A\u001b[A\n",
      "\n",
      "100%|██████████| 1/1 [00:00<00:00,  1.59it/s]\u001b[A\u001b[A\n",
      "\n",
      " 10%|█         | 1007/10000 [11:04<1:50:49,  1.35it/s]\u001b[A\n",
      "\n",
      "  0%|          | 0/1 [00:00<?, ?it/s]\u001b[A\u001b[A\n",
      "\n",
      "100%|██████████| 1/1 [00:00<00:00,  1.68it/s]\u001b[A\u001b[A\n",
      "\n",
      " 10%|█         | 1008/10000 [11:05<1:50:14,  1.36it/s]\u001b[A\n",
      "\n",
      "  0%|          | 0/1 [00:00<?, ?it/s]\u001b[A\u001b[A\n",
      "\n",
      "100%|██████████| 1/1 [00:00<00:00,  1.79it/s]\u001b[A\u001b[A\n",
      "\n",
      " 10%|█         | 1009/10000 [11:06<1:44:45,  1.43it/s]\u001b[A\n",
      "\n",
      "  0%|          | 0/1 [00:00<?, ?it/s]\u001b[A\u001b[A\n",
      "\n",
      "100%|██████████| 1/1 [00:00<00:00,  2.18it/s]\u001b[A\u001b[A\n",
      "\n",
      " 10%|█         | 1010/10000 [11:06<1:36:20,  1.56it/s]\u001b[A\n",
      "\n",
      "  0%|          | 0/1 [00:00<?, ?it/s]\u001b[A\u001b[A\n",
      "\n",
      "100%|██████████| 1/1 [00:00<00:00,  1.37it/s]\u001b[A\u001b[A\n",
      "\n",
      " 10%|█         | 1011/10000 [11:07<1:43:59,  1.44it/s]\u001b[A\n",
      "\n",
      "  0%|          | 0/1 [00:00<?, ?it/s]\u001b[A\u001b[A\n",
      "\n",
      "100%|██████████| 1/1 [00:00<00:00,  1.59it/s]\u001b[A\u001b[A\n",
      "\n",
      " 10%|█         | 1012/10000 [11:08<1:45:23,  1.42it/s]\u001b[A"
     ]
    },
    {
     "name": "stdout",
     "output_type": "stream",
     "text": [
      "\n",
      "Epoch: 1012, Loss: 0.3876, Val: 0.7030, Test: 0.7095\n"
     ]
    },
    {
     "name": "stderr",
     "output_type": "stream",
     "text": [
      "\n",
      "\n",
      "  0%|          | 0/1 [00:00<?, ?it/s]\u001b[A\u001b[A\n",
      "\n",
      "100%|██████████| 1/1 [00:00<00:00,  1.26it/s]\u001b[A\u001b[A\n",
      "\n",
      " 10%|█         | 1013/10000 [11:09<1:51:45,  1.34it/s]\u001b[A\n",
      "\n",
      "  0%|          | 0/1 [00:00<?, ?it/s]\u001b[A\u001b[A\n",
      "\n",
      "100%|██████████| 1/1 [00:00<00:00,  1.53it/s]\u001b[A\u001b[A\n",
      "\n",
      " 10%|█         | 1014/10000 [11:09<1:49:22,  1.37it/s]\u001b[A\n",
      "\n",
      "  0%|          | 0/1 [00:00<?, ?it/s]\u001b[A\u001b[A\n",
      "\n",
      "100%|██████████| 1/1 [00:00<00:00,  1.98it/s]\u001b[A\u001b[A\n",
      "\n",
      " 10%|█         | 1015/10000 [11:10<1:41:22,  1.48it/s]\u001b[A\n",
      "\n",
      "  0%|          | 0/1 [00:00<?, ?it/s]\u001b[A\u001b[A\n",
      "\n",
      "100%|██████████| 1/1 [00:00<00:00,  1.87it/s]\u001b[A\u001b[A\n",
      "\n",
      " 10%|█         | 1016/10000 [11:10<1:37:21,  1.54it/s]\u001b[A\n",
      "\n",
      "  0%|          | 0/1 [00:00<?, ?it/s]\u001b[A\u001b[A\n",
      "\n",
      "100%|██████████| 1/1 [00:00<00:00,  1.16it/s]\u001b[A\u001b[A\n",
      "\n",
      " 10%|█         | 1017/10000 [11:11<1:49:06,  1.37it/s]\u001b[A\n",
      "\n",
      "  0%|          | 0/1 [00:00<?, ?it/s]\u001b[A\u001b[A\n",
      "\n",
      "100%|██████████| 1/1 [00:00<00:00,  2.01it/s]\u001b[A\u001b[A\n",
      "\n",
      " 10%|█         | 1018/10000 [11:12<1:40:58,  1.48it/s]\u001b[A\n",
      "\n",
      "  0%|          | 0/1 [00:00<?, ?it/s]\u001b[A\u001b[A\n",
      "\n",
      "100%|██████████| 1/1 [00:00<00:00,  2.04it/s]\u001b[A\u001b[A\n",
      "\n",
      " 10%|█         | 1019/10000 [11:12<1:34:51,  1.58it/s]\u001b[A\n",
      "\n",
      "  0%|          | 0/1 [00:00<?, ?it/s]\u001b[A\u001b[A\n",
      "\n",
      "100%|██████████| 1/1 [00:00<00:00,  1.11it/s]\u001b[A\u001b[A\n",
      "\n",
      " 10%|█         | 1020/10000 [11:13<1:50:11,  1.36it/s]\u001b[A\n",
      "\n",
      "  0%|          | 0/1 [00:00<?, ?it/s]\u001b[A\u001b[A\n",
      "\n",
      "100%|██████████| 1/1 [00:00<00:00,  1.80it/s]\u001b[A\u001b[A\n",
      "\n",
      " 10%|█         | 1021/10000 [11:14<1:44:28,  1.43it/s]\u001b[A\n",
      "\n",
      "  0%|          | 0/1 [00:00<?, ?it/s]\u001b[A\u001b[A\n",
      "\n",
      "100%|██████████| 1/1 [00:00<00:00,  2.14it/s]\u001b[A\u001b[A\n",
      "\n",
      " 10%|█         | 1022/10000 [11:14<1:36:15,  1.55it/s]\u001b[A\n",
      "\n",
      "  0%|          | 0/1 [00:00<?, ?it/s]\u001b[A\u001b[A\n",
      "\n",
      "100%|██████████| 1/1 [00:00<00:00,  1.78it/s]\u001b[A\u001b[A\n",
      "\n",
      " 10%|█         | 1023/10000 [11:15<1:34:31,  1.58it/s]\u001b[A\n",
      "\n",
      "  0%|          | 0/1 [00:00<?, ?it/s]\u001b[A\u001b[A\n",
      "\n",
      "100%|██████████| 1/1 [00:00<00:00,  1.92it/s]\u001b[A\u001b[A\n",
      "\n",
      " 10%|█         | 1024/10000 [11:16<1:32:27,  1.62it/s]\u001b[A\n",
      "\n",
      "  0%|          | 0/1 [00:00<?, ?it/s]\u001b[A\u001b[A\n",
      "\n",
      "100%|██████████| 1/1 [00:00<00:00,  1.66it/s]\u001b[A\u001b[A\n",
      "\n",
      " 10%|█         | 1025/10000 [11:16<1:33:32,  1.60it/s]\u001b[A\n",
      "\n",
      "  0%|          | 0/1 [00:00<?, ?it/s]\u001b[A\u001b[A\n",
      "\n",
      "100%|██████████| 1/1 [00:00<00:00,  2.30it/s]\u001b[A\u001b[A\n",
      "\n",
      " 10%|█         | 1026/10000 [11:17<1:27:38,  1.71it/s]\u001b[A\n",
      "\n",
      "  0%|          | 0/1 [00:00<?, ?it/s]\u001b[A\u001b[A\n",
      "\n",
      "100%|██████████| 1/1 [00:00<00:00,  1.73it/s]\u001b[A\u001b[A\n",
      "\n",
      " 10%|█         | 1027/10000 [11:17<1:29:56,  1.66it/s]\u001b[A\n",
      "\n",
      "  0%|          | 0/1 [00:00<?, ?it/s]\u001b[A\u001b[A\n",
      "\n",
      "100%|██████████| 1/1 [00:00<00:00,  1.98it/s]\u001b[A\u001b[A\n",
      "\n",
      " 10%|█         | 1028/10000 [11:18<1:27:23,  1.71it/s]\u001b[A\n",
      "\n",
      "  0%|          | 0/1 [00:00<?, ?it/s]\u001b[A\u001b[A\n",
      "\n",
      "100%|██████████| 1/1 [00:00<00:00,  2.20it/s]\u001b[A\u001b[A\n",
      "\n",
      " 10%|█         | 1029/10000 [11:18<1:23:28,  1.79it/s]\u001b[A\n",
      "\n",
      "  0%|          | 0/1 [00:00<?, ?it/s]\u001b[A\u001b[A\n",
      "\n",
      "100%|██████████| 1/1 [00:00<00:00,  2.16it/s]\u001b[A\u001b[A\n",
      "\n",
      " 10%|█         | 1030/10000 [11:19<1:21:17,  1.84it/s]\u001b[A\n",
      "\n",
      "  0%|          | 0/1 [00:00<?, ?it/s]\u001b[A\u001b[A\n",
      "\n",
      "100%|██████████| 1/1 [00:00<00:00,  2.36it/s]\u001b[A\u001b[A\n",
      "\n",
      " 10%|█         | 1031/10000 [11:19<1:17:54,  1.92it/s]\u001b[A\n",
      "\n",
      "  0%|          | 0/1 [00:00<?, ?it/s]\u001b[A\u001b[A\n",
      "\n",
      "100%|██████████| 1/1 [00:00<00:00,  2.26it/s]\u001b[A\u001b[A\n",
      "\n",
      " 10%|█         | 1032/10000 [11:20<1:16:38,  1.95it/s]\u001b[A\n",
      "\n",
      "  0%|          | 0/1 [00:00<?, ?it/s]\u001b[A\u001b[A\n",
      "\n",
      "100%|██████████| 1/1 [00:00<00:00,  2.50it/s]\u001b[A\u001b[A\n",
      "\n",
      " 10%|█         | 1033/10000 [11:20<1:13:14,  2.04it/s]\u001b[A\n",
      "\n",
      "  0%|          | 0/1 [00:00<?, ?it/s]\u001b[A\u001b[A\n",
      "\n",
      "100%|██████████| 1/1 [00:00<00:00,  2.64it/s]\u001b[A\u001b[A\n",
      "\n",
      " 10%|█         | 1034/10000 [11:21<1:09:54,  2.14it/s]\u001b[A\n",
      "\n",
      "  0%|          | 0/1 [00:00<?, ?it/s]\u001b[A\u001b[A\n",
      "\n",
      "100%|██████████| 1/1 [00:00<00:00,  2.58it/s]\u001b[A\u001b[A\n",
      "\n",
      " 10%|█         | 1035/10000 [11:21<1:08:13,  2.19it/s]\u001b[A\n",
      "\n",
      "  0%|          | 0/1 [00:00<?, ?it/s]\u001b[A\u001b[A\n",
      "\n",
      "100%|██████████| 1/1 [00:00<00:00,  2.62it/s]\u001b[A\u001b[A\n",
      "\n",
      " 10%|█         | 1036/10000 [11:22<1:06:58,  2.23it/s]\u001b[A\n",
      "\n",
      "  0%|          | 0/1 [00:00<?, ?it/s]\u001b[A\u001b[A\n",
      "\n",
      "100%|██████████| 1/1 [00:00<00:00,  2.40it/s]\u001b[A\u001b[A\n",
      "\n",
      " 10%|█         | 1037/10000 [11:22<1:07:31,  2.21it/s]\u001b[A\n",
      "\n",
      "  0%|          | 0/1 [00:00<?, ?it/s]\u001b[A\u001b[A\n",
      "\n",
      "100%|██████████| 1/1 [00:00<00:00,  2.31it/s]\u001b[A\u001b[A\n",
      "\n",
      " 10%|█         | 1038/10000 [11:23<1:08:27,  2.18it/s]\u001b[A\n",
      "\n",
      "  0%|          | 0/1 [00:00<?, ?it/s]\u001b[A\u001b[A\n",
      "\n",
      "100%|██████████| 1/1 [00:00<00:00,  2.52it/s]\u001b[A\u001b[A\n",
      "\n",
      " 10%|█         | 1039/10000 [11:23<1:07:29,  2.21it/s]\u001b[A\n",
      "\n",
      "  0%|          | 0/1 [00:00<?, ?it/s]\u001b[A\u001b[A\n",
      "\n",
      "100%|██████████| 1/1 [00:00<00:00,  2.87it/s]\u001b[A\u001b[A\n",
      "\n",
      " 10%|█         | 1040/10000 [11:23<1:04:32,  2.31it/s]\u001b[A\n",
      "\n",
      "  0%|          | 0/1 [00:00<?, ?it/s]\u001b[A\u001b[A\n",
      "\n",
      "100%|██████████| 1/1 [00:00<00:00,  3.06it/s]\u001b[A\u001b[A\n",
      "\n",
      " 10%|█         | 1041/10000 [11:24<1:02:14,  2.40it/s]\u001b[A\n",
      "\n",
      "  0%|          | 0/1 [00:00<?, ?it/s]\u001b[A\u001b[A\n",
      "\n",
      "100%|██████████| 1/1 [00:00<00:00,  1.56it/s]\u001b[A\u001b[A\n",
      "\n",
      " 10%|█         | 1042/10000 [11:25<1:14:35,  2.00it/s]\u001b[A\n",
      "\n",
      "  0%|          | 0/1 [00:00<?, ?it/s]\u001b[A\u001b[A\n",
      "\n",
      "100%|██████████| 1/1 [00:00<00:00,  2.12it/s]\u001b[A\u001b[A\n",
      "\n",
      " 10%|█         | 1043/10000 [11:25<1:15:37,  1.97it/s]\u001b[A\n",
      "\n",
      "  0%|          | 0/1 [00:00<?, ?it/s]\u001b[A\u001b[A\n",
      "\n",
      "100%|██████████| 1/1 [00:00<00:00,  2.35it/s]\u001b[A\u001b[A\n",
      "\n",
      " 10%|█         | 1044/10000 [11:26<1:14:14,  2.01it/s]\u001b[A\n",
      "\n",
      "  0%|          | 0/1 [00:00<?, ?it/s]\u001b[A\u001b[A\n",
      "\n",
      "100%|██████████| 1/1 [00:00<00:00,  2.01it/s]\u001b[A\u001b[A\n",
      "\n",
      " 10%|█         | 1045/10000 [11:26<1:16:23,  1.95it/s]\u001b[A\n",
      "\n",
      "  0%|          | 0/1 [00:00<?, ?it/s]\u001b[A\u001b[A\n",
      "\n",
      "100%|██████████| 1/1 [00:00<00:00,  1.59it/s]\u001b[A\u001b[A\n",
      "\n",
      " 10%|█         | 1046/10000 [11:27<1:30:12,  1.65it/s]\u001b[A"
     ]
    },
    {
     "name": "stdout",
     "output_type": "stream",
     "text": [
      "\n",
      "Epoch: 1046, Loss: 0.3875, Val: 0.7030, Test: 0.7106\n"
     ]
    },
    {
     "name": "stderr",
     "output_type": "stream",
     "text": [
      "\n",
      "\n",
      "  0%|          | 0/1 [00:00<?, ?it/s]\u001b[A\u001b[A\n",
      "\n",
      "100%|██████████| 1/1 [00:00<00:00,  1.39it/s]\u001b[A\u001b[A\n",
      "\n",
      " 10%|█         | 1047/10000 [11:28<1:40:07,  1.49it/s]\u001b[A"
     ]
    },
    {
     "name": "stdout",
     "output_type": "stream",
     "text": [
      "\n",
      "Epoch: 1047, Loss: 0.3875, Val: 0.7037, Test: 0.7106\n"
     ]
    },
    {
     "name": "stderr",
     "output_type": "stream",
     "text": [
      "\n",
      "\n",
      "  0%|          | 0/1 [00:00<?, ?it/s]\u001b[A\u001b[A\n",
      "\n",
      "100%|██████████| 1/1 [00:00<00:00,  1.91it/s]\u001b[A\u001b[A\n",
      "\n",
      " 10%|█         | 1048/10000 [11:28<1:37:25,  1.53it/s]\u001b[A\n",
      "\n",
      "  0%|          | 0/1 [00:00<?, ?it/s]\u001b[A\u001b[A\n",
      "\n",
      "100%|██████████| 1/1 [00:00<00:00,  2.17it/s]\u001b[A\u001b[A\n",
      "\n",
      " 10%|█         | 1049/10000 [11:29<1:32:57,  1.60it/s]\u001b[A\n",
      "\n",
      "  0%|          | 0/1 [00:00<?, ?it/s]\u001b[A\u001b[A\n",
      "\n",
      "100%|██████████| 1/1 [00:00<00:00,  1.68it/s]\u001b[A\u001b[A\n",
      "\n",
      " 10%|█         | 1050/10000 [11:30<1:34:13,  1.58it/s]\u001b[A\n",
      "\n",
      "  0%|          | 0/1 [00:00<?, ?it/s]\u001b[A\u001b[A\n",
      "\n",
      "100%|██████████| 1/1 [00:00<00:00,  1.64it/s]\u001b[A\u001b[A\n",
      "\n",
      " 11%|█         | 1051/10000 [11:30<1:36:04,  1.55it/s]\u001b[A\n",
      "\n",
      "  0%|          | 0/1 [00:00<?, ?it/s]\u001b[A\u001b[A\n",
      "\n",
      "100%|██████████| 1/1 [00:00<00:00,  1.74it/s]\u001b[A\u001b[A\n",
      "\n",
      " 11%|█         | 1052/10000 [11:31<1:34:48,  1.57it/s]\u001b[A\n",
      "\n",
      "  0%|          | 0/1 [00:00<?, ?it/s]\u001b[A\u001b[A\n",
      "\n",
      "100%|██████████| 1/1 [00:00<00:00,  1.40it/s]\u001b[A\u001b[A\n",
      "\n",
      " 11%|█         | 1053/10000 [11:32<1:44:43,  1.42it/s]\u001b[A\n",
      "\n",
      "  0%|          | 0/1 [00:00<?, ?it/s]\u001b[A\u001b[A\n",
      "\n",
      "100%|██████████| 1/1 [00:00<00:00,  2.33it/s]\u001b[A\u001b[A\n",
      "\n",
      " 11%|█         | 1054/10000 [11:32<1:34:39,  1.58it/s]\u001b[A\n",
      "\n",
      "  0%|          | 0/1 [00:00<?, ?it/s]\u001b[A\u001b[A\n",
      "\n",
      "100%|██████████| 1/1 [00:00<00:00,  1.77it/s]\u001b[A\u001b[A\n",
      "\n",
      " 11%|█         | 1055/10000 [11:33<1:35:06,  1.57it/s]\u001b[A\n",
      "\n",
      "  0%|          | 0/1 [00:00<?, ?it/s]\u001b[A\u001b[A\n",
      "\n",
      "100%|██████████| 1/1 [00:00<00:00,  2.01it/s]\u001b[A\u001b[A\n",
      "\n",
      " 11%|█         | 1056/10000 [11:33<1:36:01,  1.55it/s]\u001b[A\n",
      "\n",
      "  0%|          | 0/1 [00:00<?, ?it/s]\u001b[A\u001b[A\n",
      "\n",
      "100%|██████████| 1/1 [00:00<00:00,  1.86it/s]\u001b[A\u001b[A\n",
      "\n",
      " 11%|█         | 1057/10000 [11:34<1:35:30,  1.56it/s]\u001b[A\n",
      "\n",
      "  0%|          | 0/1 [00:00<?, ?it/s]\u001b[A\u001b[A\n",
      "\n",
      "100%|██████████| 1/1 [00:00<00:00,  1.69it/s]\u001b[A\u001b[A\n",
      "\n",
      " 11%|█         | 1058/10000 [11:35<1:45:12,  1.42it/s]\u001b[A\n",
      "\n",
      "  0%|          | 0/1 [00:00<?, ?it/s]\u001b[A\u001b[A\n",
      "\n",
      "100%|██████████| 1/1 [00:00<00:00,  1.56it/s]\u001b[A\u001b[A\n",
      "\n",
      " 11%|█         | 1059/10000 [11:36<1:45:12,  1.42it/s]\u001b[A\n",
      "\n",
      "  0%|          | 0/1 [00:00<?, ?it/s]\u001b[A\u001b[A\n",
      "\n",
      "100%|██████████| 1/1 [00:00<00:00,  2.06it/s]\u001b[A\u001b[A\n",
      "\n",
      " 11%|█         | 1060/10000 [11:36<1:43:59,  1.43it/s]\u001b[A\n",
      "\n",
      "  0%|          | 0/1 [00:00<?, ?it/s]\u001b[A\u001b[A\n",
      "\n",
      "100%|██████████| 1/1 [00:00<00:00,  2.07it/s]\u001b[A\u001b[A\n",
      "\n",
      " 11%|█         | 1061/10000 [11:37<1:36:19,  1.55it/s]\u001b[A\n",
      "\n",
      "  0%|          | 0/1 [00:00<?, ?it/s]\u001b[A\u001b[A\n",
      "\n",
      "100%|██████████| 1/1 [00:00<00:00,  2.38it/s]\u001b[A\u001b[A\n",
      "\n",
      " 11%|█         | 1062/10000 [11:37<1:28:13,  1.69it/s]\u001b[A\n",
      "\n",
      "  0%|          | 0/1 [00:00<?, ?it/s]\u001b[A\u001b[A\n",
      "\n",
      "100%|██████████| 1/1 [00:00<00:00,  1.80it/s]\u001b[A\u001b[A\n",
      "\n",
      " 11%|█         | 1063/10000 [11:38<1:30:46,  1.64it/s]\u001b[A\n",
      "\n",
      "  0%|          | 0/1 [00:00<?, ?it/s]\u001b[A\u001b[A\n",
      "\n",
      "100%|██████████| 1/1 [00:00<00:00,  1.65it/s]\u001b[A\u001b[A\n",
      "\n",
      " 11%|█         | 1064/10000 [11:39<1:35:57,  1.55it/s]\u001b[A\n",
      "\n",
      "  0%|          | 0/1 [00:00<?, ?it/s]\u001b[A\u001b[A\n",
      "\n",
      "100%|██████████| 1/1 [00:01<00:00,  1.15s/it]\u001b[A\u001b[A\n",
      "\n",
      " 11%|█         | 1065/10000 [11:40<2:04:37,  1.19it/s]\u001b[A\n",
      "\n",
      "  0%|          | 0/1 [00:00<?, ?it/s]\u001b[A\u001b[A\n",
      "\n",
      "100%|██████████| 1/1 [00:00<00:00,  1.72it/s]\u001b[A\u001b[A\n",
      "\n",
      " 11%|█         | 1066/10000 [11:41<1:55:16,  1.29it/s]\u001b[A\n",
      "\n",
      "  0%|          | 0/1 [00:00<?, ?it/s]\u001b[A\u001b[A\n",
      "\n",
      "100%|██████████| 1/1 [00:00<00:00,  1.92it/s]\u001b[A\u001b[A\n",
      "\n",
      " 11%|█         | 1067/10000 [11:41<1:48:01,  1.38it/s]\u001b[A\n",
      "\n",
      "  0%|          | 0/1 [00:00<?, ?it/s]\u001b[A\u001b[A\n",
      "\n",
      "100%|██████████| 1/1 [00:00<00:00,  1.91it/s]\u001b[A\u001b[A\n",
      "\n",
      " 11%|█         | 1068/10000 [11:42<1:43:18,  1.44it/s]\u001b[A"
     ]
    },
    {
     "name": "stdout",
     "output_type": "stream",
     "text": [
      "\n",
      "Epoch: 1068, Loss: 0.3876, Val: 0.7039, Test: 0.7104\n"
     ]
    },
    {
     "name": "stderr",
     "output_type": "stream",
     "text": [
      "\n",
      "\n",
      "  0%|          | 0/1 [00:00<?, ?it/s]\u001b[A\u001b[A\n",
      "\n",
      "100%|██████████| 1/1 [00:00<00:00,  1.60it/s]\u001b[A\u001b[A\n",
      "\n",
      " 11%|█         | 1069/10000 [11:43<1:42:41,  1.45it/s]\u001b[A\n",
      "\n",
      "  0%|          | 0/1 [00:00<?, ?it/s]\u001b[A\u001b[A\n",
      "\n",
      "100%|██████████| 1/1 [00:00<00:00,  1.10it/s]\u001b[A\u001b[A\n",
      "\n",
      " 11%|█         | 1070/10000 [11:44<2:00:24,  1.24it/s]\u001b[A\n",
      "\n",
      "  0%|          | 0/1 [00:00<?, ?it/s]\u001b[A\u001b[A\n",
      "\n",
      "100%|██████████| 1/1 [00:00<00:00,  2.00it/s]\u001b[A\u001b[A\n",
      "\n",
      " 11%|█         | 1071/10000 [11:44<1:55:43,  1.29it/s]\u001b[A\n",
      "\n",
      "  0%|          | 0/1 [00:00<?, ?it/s]\u001b[A\u001b[A\n",
      "\n",
      "100%|██████████| 1/1 [00:00<00:00,  1.68it/s]\u001b[A\u001b[A\n",
      "\n",
      " 11%|█         | 1072/10000 [11:45<1:50:25,  1.35it/s]\u001b[A\n",
      "\n",
      "  0%|          | 0/1 [00:00<?, ?it/s]\u001b[A\u001b[A\n",
      "\n",
      "100%|██████████| 1/1 [00:00<00:00,  1.97it/s]\u001b[A\u001b[A\n",
      "\n",
      " 11%|█         | 1073/10000 [11:46<1:42:40,  1.45it/s]\u001b[A\n",
      "\n",
      "  0%|          | 0/1 [00:00<?, ?it/s]\u001b[A\u001b[A\n",
      "\n",
      "100%|██████████| 1/1 [00:00<00:00,  1.48it/s]\u001b[A\u001b[A\n",
      "\n",
      " 11%|█         | 1074/10000 [11:46<1:48:10,  1.38it/s]\u001b[A"
     ]
    },
    {
     "name": "stdout",
     "output_type": "stream",
     "text": [
      "\n",
      "Epoch: 1074, Loss: 0.3872, Val: 0.7039, Test: 0.7101\n"
     ]
    },
    {
     "name": "stderr",
     "output_type": "stream",
     "text": [
      "\n",
      "\n",
      "  0%|          | 0/1 [00:00<?, ?it/s]\u001b[A\u001b[A\n",
      "\n",
      "100%|██████████| 1/1 [00:00<00:00,  1.80it/s]\u001b[A\u001b[A\n",
      "\n",
      " 11%|█         | 1075/10000 [11:47<1:44:37,  1.42it/s]\u001b[A\n",
      "\n",
      "  0%|          | 0/1 [00:00<?, ?it/s]\u001b[A\u001b[A\n",
      "\n",
      "100%|██████████| 1/1 [00:00<00:00,  1.56it/s]\u001b[A\u001b[A\n",
      "\n",
      " 11%|█         | 1076/10000 [11:48<1:44:10,  1.43it/s]\u001b[A\n",
      "\n",
      "  0%|          | 0/1 [00:00<?, ?it/s]\u001b[A\u001b[A\n",
      "\n",
      "100%|██████████| 1/1 [00:00<00:00,  1.38it/s]\u001b[A\u001b[A\n",
      "\n",
      " 11%|█         | 1077/10000 [11:49<1:50:41,  1.34it/s]\u001b[A\n",
      "\n",
      "  0%|          | 0/1 [00:00<?, ?it/s]\u001b[A\u001b[A\n",
      "\n",
      "100%|██████████| 1/1 [00:00<00:00,  1.02it/s]\u001b[A\u001b[A\n",
      "\n",
      " 11%|█         | 1078/10000 [11:50<2:06:56,  1.17it/s]\u001b[A\n",
      "\n",
      "  0%|          | 0/1 [00:00<?, ?it/s]\u001b[A\u001b[A\n",
      "\n",
      "100%|██████████| 1/1 [00:00<00:00,  1.75it/s]\u001b[A\u001b[A\n",
      "\n",
      " 11%|█         | 1079/10000 [11:50<1:56:14,  1.28it/s]\u001b[A\n",
      "\n",
      "  0%|          | 0/1 [00:00<?, ?it/s]\u001b[A\u001b[A\n",
      "\n",
      "100%|██████████| 1/1 [00:00<00:00,  1.46it/s]\u001b[A\u001b[A\n",
      "\n",
      " 11%|█         | 1080/10000 [11:51<1:56:16,  1.28it/s]\u001b[A\n",
      "\n",
      "  0%|          | 0/1 [00:00<?, ?it/s]\u001b[A\u001b[A\n",
      "\n",
      "100%|██████████| 1/1 [00:00<00:00,  1.59it/s]\u001b[A\u001b[A\n",
      "\n",
      " 11%|█         | 1081/10000 [11:52<1:53:14,  1.31it/s]\u001b[A\n",
      "\n",
      "  0%|          | 0/1 [00:00<?, ?it/s]\u001b[A\u001b[A\n",
      "\n",
      "100%|██████████| 1/1 [00:00<00:00,  1.76it/s]\u001b[A\u001b[A\n",
      "\n",
      " 11%|█         | 1082/10000 [11:52<1:47:17,  1.39it/s]\u001b[A\n",
      "\n",
      "  0%|          | 0/1 [00:00<?, ?it/s]\u001b[A\u001b[A\n",
      "\n",
      "100%|██████████| 1/1 [00:00<00:00,  1.46it/s]\u001b[A\u001b[A\n",
      "\n",
      " 11%|█         | 1083/10000 [11:53<1:48:32,  1.37it/s]\u001b[A\n",
      "\n",
      "  0%|          | 0/1 [00:00<?, ?it/s]\u001b[A\u001b[A\n",
      "\n",
      "100%|██████████| 1/1 [00:00<00:00,  1.65it/s]\u001b[A\u001b[A\n",
      "\n",
      " 11%|█         | 1084/10000 [11:54<1:45:03,  1.41it/s]\u001b[A\n",
      "\n",
      "  0%|          | 0/1 [00:00<?, ?it/s]\u001b[A\u001b[A\n",
      "\n",
      "100%|██████████| 1/1 [00:00<00:00,  1.61it/s]\u001b[A\u001b[A\n",
      "\n",
      " 11%|█         | 1085/10000 [11:55<1:46:01,  1.40it/s]\u001b[A\n",
      "\n",
      "  0%|          | 0/1 [00:00<?, ?it/s]\u001b[A\u001b[A\n",
      "\n",
      "100%|██████████| 1/1 [00:00<00:00,  1.99it/s]\u001b[A\u001b[A\n",
      "\n",
      " 11%|█         | 1086/10000 [11:55<1:45:31,  1.41it/s]\u001b[A\n",
      "\n",
      "  0%|          | 0/1 [00:00<?, ?it/s]\u001b[A\u001b[A\n",
      "\n",
      "100%|██████████| 1/1 [00:00<00:00,  1.82it/s]\u001b[A\u001b[A\n",
      "\n",
      " 11%|█         | 1087/10000 [11:56<1:40:03,  1.48it/s]\u001b[A\n",
      "\n",
      "  0%|          | 0/1 [00:00<?, ?it/s]\u001b[A\u001b[A\n",
      "\n",
      "100%|██████████| 1/1 [00:00<00:00,  2.14it/s]\u001b[A\u001b[A\n",
      "\n",
      " 11%|█         | 1088/10000 [11:56<1:33:49,  1.58it/s]\u001b[A\n",
      "\n",
      "  0%|          | 0/1 [00:00<?, ?it/s]\u001b[A\u001b[A\n",
      "\n",
      "100%|██████████| 1/1 [00:00<00:00,  1.77it/s]\u001b[A\u001b[A\n",
      "\n",
      " 11%|█         | 1089/10000 [11:57<1:32:32,  1.60it/s]\u001b[A\n",
      "\n",
      "  0%|          | 0/1 [00:00<?, ?it/s]\u001b[A\u001b[A\n",
      "\n",
      "100%|██████████| 1/1 [00:00<00:00,  2.07it/s]\u001b[A\u001b[A\n",
      "\n",
      " 11%|█         | 1090/10000 [11:58<1:30:06,  1.65it/s]\u001b[A\n",
      "\n",
      "  0%|          | 0/1 [00:00<?, ?it/s]\u001b[A\u001b[A\n",
      "\n",
      "100%|██████████| 1/1 [00:00<00:00,  1.87it/s]\u001b[A\u001b[A\n",
      "\n",
      " 11%|█         | 1091/10000 [11:58<1:28:47,  1.67it/s]\u001b[A\n",
      "\n",
      "  0%|          | 0/1 [00:00<?, ?it/s]\u001b[A\u001b[A\n",
      "\n",
      "100%|██████████| 1/1 [00:00<00:00,  1.82it/s]\u001b[A\u001b[A\n",
      "\n",
      " 11%|█         | 1092/10000 [11:59<1:28:29,  1.68it/s]\u001b[A\n",
      "\n",
      "  0%|          | 0/1 [00:00<?, ?it/s]\u001b[A\u001b[A\n",
      "\n",
      "100%|██████████| 1/1 [00:00<00:00,  1.66it/s]\u001b[A\u001b[A\n",
      "\n",
      " 11%|█         | 1093/10000 [11:59<1:30:49,  1.63it/s]\u001b[A\n",
      "\n",
      "  0%|          | 0/1 [00:00<?, ?it/s]\u001b[A\u001b[A\n",
      "\n",
      "100%|██████████| 1/1 [00:00<00:00,  1.37it/s]\u001b[A\u001b[A\n",
      "\n",
      " 11%|█         | 1094/10000 [12:00<1:41:04,  1.47it/s]\u001b[A\n",
      "\n",
      "  0%|          | 0/1 [00:00<?, ?it/s]\u001b[A\u001b[A\n",
      "\n",
      "100%|██████████| 1/1 [00:00<00:00,  1.89it/s]\u001b[A\u001b[A\n",
      "\n",
      " 11%|█         | 1095/10000 [12:01<1:43:58,  1.43it/s]\u001b[A\n",
      "\n",
      "  0%|          | 0/1 [00:00<?, ?it/s]\u001b[A\u001b[A\n",
      "\n",
      "100%|██████████| 1/1 [00:00<00:00,  1.75it/s]\u001b[A\u001b[A\n",
      "\n",
      " 11%|█         | 1096/10000 [12:02<1:42:34,  1.45it/s]\u001b[A\n",
      "\n",
      "  0%|          | 0/1 [00:00<?, ?it/s]\u001b[A\u001b[A\n",
      "\n",
      "100%|██████████| 1/1 [00:00<00:00,  1.77it/s]\u001b[A\u001b[A\n",
      "\n",
      " 11%|█         | 1097/10000 [12:02<1:39:21,  1.49it/s]\u001b[A\n",
      "\n",
      "  0%|          | 0/1 [00:00<?, ?it/s]\u001b[A\u001b[A\n",
      "\n",
      "100%|██████████| 1/1 [00:00<00:00,  2.15it/s]\u001b[A\u001b[A\n",
      "\n",
      " 11%|█         | 1098/10000 [12:03<1:31:46,  1.62it/s]\u001b[A\n",
      "\n",
      "  0%|          | 0/1 [00:00<?, ?it/s]\u001b[A\u001b[A\n",
      "\n",
      "100%|██████████| 1/1 [00:00<00:00,  1.92it/s]\u001b[A\u001b[A\n",
      "\n",
      " 11%|█         | 1099/10000 [12:03<1:34:34,  1.57it/s]\u001b[A\n",
      "\n",
      "  0%|          | 0/1 [00:00<?, ?it/s]\u001b[A\u001b[A\n",
      "\n",
      "100%|██████████| 1/1 [00:00<00:00,  1.95it/s]\u001b[A\u001b[A\n",
      "\n",
      " 11%|█         | 1100/10000 [12:04<1:30:49,  1.63it/s]\u001b[A\n",
      "\n",
      "  0%|          | 0/1 [00:00<?, ?it/s]\u001b[A\u001b[A\n",
      "\n",
      "100%|██████████| 1/1 [00:00<00:00,  1.68it/s]\u001b[A\u001b[A\n",
      "\n",
      " 11%|█         | 1101/10000 [12:05<1:36:34,  1.54it/s]\u001b[A\n",
      "\n",
      "  0%|          | 0/1 [00:00<?, ?it/s]\u001b[A\u001b[A\n",
      "\n",
      "100%|██████████| 1/1 [00:00<00:00,  1.90it/s]\u001b[A\u001b[A\n",
      "\n",
      " 11%|█         | 1102/10000 [12:05<1:35:30,  1.55it/s]\u001b[A\n",
      "\n",
      "  0%|          | 0/1 [00:00<?, ?it/s]\u001b[A\u001b[A\n",
      "\n",
      "100%|██████████| 1/1 [00:00<00:00,  1.55it/s]\u001b[A\u001b[A\n",
      "\n",
      " 11%|█         | 1103/10000 [12:06<1:37:29,  1.52it/s]\u001b[A\n",
      "\n",
      "  0%|          | 0/1 [00:00<?, ?it/s]\u001b[A\u001b[A\n",
      "\n",
      "100%|██████████| 1/1 [00:00<00:00,  1.62it/s]\u001b[A\u001b[A\n",
      "\n",
      " 11%|█         | 1104/10000 [12:07<1:42:33,  1.45it/s]\u001b[A\n",
      "\n",
      "  0%|          | 0/1 [00:00<?, ?it/s]\u001b[A\u001b[A\n",
      "\n",
      "100%|██████████| 1/1 [00:00<00:00,  2.07it/s]\u001b[A\u001b[A\n",
      "\n",
      " 11%|█         | 1105/10000 [12:07<1:38:51,  1.50it/s]\u001b[A\n",
      "\n",
      "  0%|          | 0/1 [00:00<?, ?it/s]\u001b[A\u001b[A\n",
      "\n",
      "100%|██████████| 1/1 [00:00<00:00,  2.15it/s]\u001b[A\u001b[A\n",
      "\n",
      " 11%|█         | 1106/10000 [12:08<1:32:38,  1.60it/s]\u001b[A\n",
      "\n",
      "  0%|          | 0/1 [00:00<?, ?it/s]\u001b[A\u001b[A\n",
      "\n",
      "100%|██████████| 1/1 [00:00<00:00,  2.63it/s]\u001b[A\u001b[A\n",
      "\n",
      " 11%|█         | 1107/10000 [12:08<1:23:35,  1.77it/s]\u001b[A\n",
      "\n",
      "  0%|          | 0/1 [00:00<?, ?it/s]\u001b[A\u001b[A\n",
      "\n",
      "100%|██████████| 1/1 [00:00<00:00,  1.58it/s]\u001b[A\u001b[A\n",
      "\n",
      " 11%|█         | 1108/10000 [12:09<1:32:02,  1.61it/s]\u001b[A\n",
      "\n",
      "  0%|          | 0/1 [00:00<?, ?it/s]\u001b[A\u001b[A\n",
      "\n",
      "100%|██████████| 1/1 [00:00<00:00,  2.04it/s]\u001b[A\u001b[A\n",
      "\n",
      " 11%|█         | 1109/10000 [12:10<1:33:12,  1.59it/s]\u001b[A\n",
      "\n",
      "  0%|          | 0/1 [00:00<?, ?it/s]\u001b[A\u001b[A\n",
      "\n",
      "100%|██████████| 1/1 [00:00<00:00,  1.58it/s]\u001b[A\u001b[A\n",
      "\n",
      " 11%|█         | 1110/10000 [12:10<1:35:42,  1.55it/s]\u001b[A\n",
      "\n",
      "  0%|          | 0/1 [00:00<?, ?it/s]\u001b[A\u001b[A\n",
      "\n",
      "100%|██████████| 1/1 [00:00<00:00,  2.18it/s]\u001b[A\u001b[A\n",
      "\n",
      " 11%|█         | 1111/10000 [12:11<1:37:06,  1.53it/s]\u001b[A\n",
      "\n",
      "  0%|          | 0/1 [00:00<?, ?it/s]\u001b[A\u001b[A\n",
      "\n",
      "100%|██████████| 1/1 [00:00<00:00,  1.83it/s]\u001b[A\u001b[A\n",
      "\n",
      " 11%|█         | 1112/10000 [12:12<1:34:09,  1.57it/s]\u001b[A\n",
      "\n",
      "  0%|          | 0/1 [00:00<?, ?it/s]\u001b[A\u001b[A\n",
      "\n",
      "100%|██████████| 1/1 [00:00<00:00,  1.86it/s]\u001b[A\u001b[A\n",
      "\n",
      " 11%|█         | 1113/10000 [12:12<1:39:19,  1.49it/s]\u001b[A\n",
      "\n",
      "  0%|          | 0/1 [00:00<?, ?it/s]\u001b[A\u001b[A\n",
      "\n",
      "100%|██████████| 1/1 [00:00<00:00,  1.82it/s]\u001b[A\u001b[A\n",
      "\n",
      " 11%|█         | 1114/10000 [12:13<1:45:00,  1.41it/s]\u001b[A\n",
      "\n",
      "  0%|          | 0/1 [00:00<?, ?it/s]\u001b[A\u001b[A\n",
      "\n",
      "100%|██████████| 1/1 [00:00<00:00,  1.59it/s]\u001b[A\u001b[A\n",
      "\n",
      " 11%|█         | 1115/10000 [12:14<1:44:47,  1.41it/s]\u001b[A\n",
      "\n",
      "  0%|          | 0/1 [00:00<?, ?it/s]\u001b[A\u001b[A\n",
      "\n",
      "100%|██████████| 1/1 [00:00<00:00,  2.14it/s]\u001b[A\u001b[A\n",
      "\n",
      " 11%|█         | 1116/10000 [12:14<1:36:17,  1.54it/s]\u001b[A\n",
      "\n",
      "  0%|          | 0/1 [00:00<?, ?it/s]\u001b[A\u001b[A\n",
      "\n",
      "100%|██████████| 1/1 [00:00<00:00,  1.76it/s]\u001b[A\u001b[A\n",
      "\n",
      " 11%|█         | 1117/10000 [12:15<1:35:56,  1.54it/s]\u001b[A\n",
      "\n",
      "  0%|          | 0/1 [00:00<?, ?it/s]\u001b[A\u001b[A\n",
      "\n",
      "100%|██████████| 1/1 [00:00<00:00,  1.77it/s]\u001b[A\u001b[A\n",
      "\n",
      " 11%|█         | 1118/10000 [12:16<1:35:18,  1.55it/s]\u001b[A\n",
      "\n",
      "  0%|          | 0/1 [00:00<?, ?it/s]\u001b[A\u001b[A\n",
      "\n",
      "100%|██████████| 1/1 [00:00<00:00,  2.03it/s]\u001b[A\u001b[A\n",
      "\n",
      " 11%|█         | 1119/10000 [12:16<1:33:01,  1.59it/s]\u001b[A\n",
      "\n",
      "  0%|          | 0/1 [00:00<?, ?it/s]\u001b[A\u001b[A\n",
      "\n",
      "100%|██████████| 1/1 [00:00<00:00,  1.71it/s]\u001b[A\u001b[A\n",
      "\n",
      " 11%|█         | 1120/10000 [12:17<1:34:36,  1.56it/s]\u001b[A\n",
      "\n",
      "  0%|          | 0/1 [00:00<?, ?it/s]\u001b[A\u001b[A\n",
      "\n",
      "100%|██████████| 1/1 [00:00<00:00,  1.53it/s]\u001b[A\u001b[A\n",
      "\n",
      " 11%|█         | 1121/10000 [12:18<1:37:57,  1.51it/s]\u001b[A\n",
      "\n",
      "  0%|          | 0/1 [00:00<?, ?it/s]\u001b[A\u001b[A\n",
      "\n",
      "100%|██████████| 1/1 [00:00<00:00,  1.99it/s]\u001b[A\u001b[A\n",
      "\n",
      " 11%|█         | 1122/10000 [12:18<1:36:00,  1.54it/s]\u001b[A\n",
      "\n",
      "  0%|          | 0/1 [00:00<?, ?it/s]\u001b[A\u001b[A\n",
      "\n",
      "100%|██████████| 1/1 [00:00<00:00,  1.47it/s]\u001b[A\u001b[A\n",
      "\n",
      " 11%|█         | 1123/10000 [12:19<1:39:58,  1.48it/s]\u001b[A\n",
      "\n",
      "  0%|          | 0/1 [00:00<?, ?it/s]\u001b[A\u001b[A\n",
      "\n",
      "100%|██████████| 1/1 [00:00<00:00,  1.83it/s]\u001b[A\u001b[A\n",
      "\n",
      " 11%|█         | 1124/10000 [12:20<1:40:52,  1.47it/s]\u001b[A\n",
      "\n",
      "  0%|          | 0/1 [00:00<?, ?it/s]\u001b[A\u001b[A\n",
      "\n",
      "100%|██████████| 1/1 [00:00<00:00,  1.53it/s]\u001b[A\u001b[A\n",
      "\n",
      " 11%|█▏        | 1125/10000 [12:20<1:43:01,  1.44it/s]\u001b[A\n",
      "\n",
      "  0%|          | 0/1 [00:00<?, ?it/s]\u001b[A\u001b[A\n",
      "\n",
      "100%|██████████| 1/1 [00:00<00:00,  1.51it/s]\u001b[A\u001b[A\n",
      "\n",
      " 11%|█▏        | 1126/10000 [12:21<1:44:38,  1.41it/s]\u001b[A\n",
      "\n"
     ]
    },
    {
     "name": "stderr",
     "output_type": "stream",
     "text": [
      "  0%|          | 0/1 [00:00<?, ?it/s]\u001b[A\u001b[A\n",
      "\n",
      "100%|██████████| 1/1 [00:00<00:00,  2.17it/s]\u001b[A\u001b[A\n",
      "\n",
      " 11%|█▏        | 1127/10000 [12:22<1:36:53,  1.53it/s]\u001b[A\n",
      "\n",
      "  0%|          | 0/1 [00:00<?, ?it/s]\u001b[A\u001b[A\n",
      "\n",
      "100%|██████████| 1/1 [00:00<00:00,  1.36it/s]\u001b[A\u001b[A\n",
      "\n",
      " 11%|█▏        | 1128/10000 [12:23<1:43:32,  1.43it/s]\u001b[A\n",
      "\n",
      "  0%|          | 0/1 [00:00<?, ?it/s]\u001b[A\u001b[A\n",
      "\n",
      "100%|██████████| 1/1 [00:00<00:00,  1.53it/s]\u001b[A\u001b[A\n",
      "\n",
      " 11%|█▏        | 1129/10000 [12:23<1:46:31,  1.39it/s]\u001b[A\n",
      "\n",
      "  0%|          | 0/1 [00:00<?, ?it/s]\u001b[A\u001b[A\n",
      "\n",
      "100%|██████████| 1/1 [00:00<00:00,  1.98it/s]\u001b[A\u001b[A\n",
      "\n",
      " 11%|█▏        | 1130/10000 [12:24<1:38:52,  1.50it/s]\u001b[A\n",
      "\n",
      "  0%|          | 0/1 [00:00<?, ?it/s]\u001b[A\u001b[A\n",
      "\n",
      "100%|██████████| 1/1 [00:00<00:00,  2.03it/s]\u001b[A\u001b[A\n",
      "\n",
      " 11%|█▏        | 1131/10000 [12:24<1:33:09,  1.59it/s]\u001b[A\n",
      "\n",
      "  0%|          | 0/1 [00:00<?, ?it/s]\u001b[A\u001b[A\n",
      "\n",
      "100%|██████████| 1/1 [00:00<00:00,  2.06it/s]\u001b[A\u001b[A\n",
      "\n",
      " 11%|█▏        | 1132/10000 [12:25<1:29:08,  1.66it/s]\u001b[A\n",
      "\n",
      "  0%|          | 0/1 [00:00<?, ?it/s]\u001b[A\u001b[A\n",
      "\n",
      "100%|██████████| 1/1 [00:00<00:00,  1.96it/s]\u001b[A\u001b[A\n",
      "\n",
      " 11%|█▏        | 1133/10000 [12:26<1:27:05,  1.70it/s]\u001b[A\n",
      "\n",
      "  0%|          | 0/1 [00:00<?, ?it/s]\u001b[A\u001b[A\n",
      "\n",
      "100%|██████████| 1/1 [00:00<00:00,  2.16it/s]\u001b[A\u001b[A\n",
      "\n",
      " 11%|█▏        | 1134/10000 [12:26<1:23:38,  1.77it/s]\u001b[A\n",
      "\n",
      "  0%|          | 0/1 [00:00<?, ?it/s]\u001b[A\u001b[A\n",
      "\n",
      "100%|██████████| 1/1 [00:00<00:00,  1.88it/s]\u001b[A\u001b[A\n",
      "\n",
      " 11%|█▏        | 1135/10000 [12:27<1:24:24,  1.75it/s]\u001b[A\n",
      "\n",
      "  0%|          | 0/1 [00:00<?, ?it/s]\u001b[A\u001b[A\n",
      "\n",
      "100%|██████████| 1/1 [00:00<00:00,  1.31it/s]\u001b[A\u001b[A\n",
      "\n",
      " 11%|█▏        | 1136/10000 [12:27<1:36:54,  1.52it/s]\u001b[A\n",
      "\n",
      "  0%|          | 0/1 [00:00<?, ?it/s]\u001b[A\u001b[A\n",
      "\n",
      "100%|██████████| 1/1 [00:00<00:00,  1.44it/s]\u001b[A\u001b[A\n",
      "\n",
      " 11%|█▏        | 1137/10000 [12:28<1:45:17,  1.40it/s]\u001b[A\n",
      "\n",
      "  0%|          | 0/1 [00:00<?, ?it/s]\u001b[A\u001b[A\n",
      "\n",
      "100%|██████████| 1/1 [00:00<00:00,  1.65it/s]\u001b[A\u001b[A\n",
      "\n",
      " 11%|█▏        | 1138/10000 [12:29<1:52:35,  1.31it/s]\u001b[A\n",
      "\n",
      "  0%|          | 0/1 [00:00<?, ?it/s]\u001b[A\u001b[A\n",
      "\n",
      "100%|██████████| 1/1 [00:00<00:00,  1.86it/s]\u001b[A\u001b[A\n",
      "\n",
      " 11%|█▏        | 1139/10000 [12:30<1:44:26,  1.41it/s]\u001b[A\n",
      "\n",
      "  0%|          | 0/1 [00:00<?, ?it/s]\u001b[A\u001b[A\n",
      "\n",
      "100%|██████████| 1/1 [00:00<00:00,  1.65it/s]\u001b[A\u001b[A\n",
      "\n",
      " 11%|█▏        | 1140/10000 [12:30<1:45:11,  1.40it/s]\u001b[A\n",
      "\n",
      "  0%|          | 0/1 [00:00<?, ?it/s]\u001b[A\u001b[A\n",
      "\n",
      "100%|██████████| 1/1 [00:00<00:00,  1.92it/s]\u001b[A\u001b[A\n",
      "\n",
      " 11%|█▏        | 1141/10000 [12:31<1:45:25,  1.40it/s]\u001b[A\n",
      "\n",
      "  0%|          | 0/1 [00:00<?, ?it/s]\u001b[A\u001b[A\n",
      "\n",
      "100%|██████████| 1/1 [00:00<00:00,  1.32it/s]\u001b[A\u001b[A\n",
      "\n",
      " 11%|█▏        | 1142/10000 [12:32<1:49:49,  1.34it/s]\u001b[A\n",
      "\n",
      "  0%|          | 0/1 [00:00<?, ?it/s]\u001b[A\u001b[A\n",
      "\n",
      "100%|██████████| 1/1 [00:00<00:00,  1.56it/s]\u001b[A\u001b[A\n",
      "\n",
      " 11%|█▏        | 1143/10000 [12:33<1:50:20,  1.34it/s]\u001b[A\n",
      "\n",
      "  0%|          | 0/1 [00:00<?, ?it/s]\u001b[A\u001b[A\n",
      "\n",
      "100%|██████████| 1/1 [00:00<00:00,  1.31it/s]\u001b[A\u001b[A\n",
      "\n",
      " 11%|█▏        | 1144/10000 [12:34<1:56:44,  1.26it/s]\u001b[A\n",
      "\n",
      "  0%|          | 0/1 [00:00<?, ?it/s]\u001b[A\u001b[A\n",
      "\n",
      "100%|██████████| 1/1 [00:00<00:00,  1.38it/s]\u001b[A\u001b[A\n",
      "\n",
      " 11%|█▏        | 1145/10000 [12:35<1:58:40,  1.24it/s]\u001b[A\n",
      "\n",
      "  0%|          | 0/1 [00:00<?, ?it/s]\u001b[A\u001b[A\n",
      "\n",
      "100%|██████████| 1/1 [00:00<00:00,  1.58it/s]\u001b[A\u001b[A\n",
      "\n",
      " 11%|█▏        | 1146/10000 [12:35<1:55:17,  1.28it/s]\u001b[A\n",
      "\n",
      "  0%|          | 0/1 [00:00<?, ?it/s]\u001b[A\u001b[A\n",
      "\n",
      "100%|██████████| 1/1 [00:00<00:00,  2.17it/s]\u001b[A\u001b[A\n",
      "\n",
      " 11%|█▏        | 1147/10000 [12:36<1:44:58,  1.41it/s]\u001b[A\n",
      "\n",
      "  0%|          | 0/1 [00:00<?, ?it/s]\u001b[A\u001b[A\n",
      "\n",
      "100%|██████████| 1/1 [00:00<00:00,  1.71it/s]\u001b[A\u001b[A\n",
      "\n",
      " 11%|█▏        | 1148/10000 [12:36<1:45:25,  1.40it/s]\u001b[A\n",
      "\n",
      "  0%|          | 0/1 [00:00<?, ?it/s]\u001b[A\u001b[A\n",
      "\n",
      "100%|██████████| 1/1 [00:00<00:00,  1.41it/s]\u001b[A\u001b[A\n",
      "\n",
      " 11%|█▏        | 1149/10000 [12:37<1:51:12,  1.33it/s]\u001b[A\n",
      "\n",
      "  0%|          | 0/1 [00:00<?, ?it/s]\u001b[A\u001b[A\n",
      "\n",
      "100%|██████████| 1/1 [00:00<00:00,  1.44it/s]\u001b[A\u001b[A\n",
      "\n",
      " 12%|█▏        | 1150/10000 [12:38<1:52:02,  1.32it/s]\u001b[A\n",
      "\n",
      "  0%|          | 0/1 [00:00<?, ?it/s]\u001b[A\u001b[A\n",
      "\n",
      "100%|██████████| 1/1 [00:00<00:00,  2.00it/s]\u001b[A\u001b[A\n",
      "\n",
      " 12%|█▏        | 1151/10000 [12:39<1:42:59,  1.43it/s]\u001b[A\n",
      "\n",
      "  0%|          | 0/1 [00:00<?, ?it/s]\u001b[A\u001b[A\n",
      "\n",
      "100%|██████████| 1/1 [00:00<00:00,  1.43it/s]\u001b[A\u001b[A\n",
      "\n",
      " 12%|█▏        | 1152/10000 [12:39<1:46:07,  1.39it/s]\u001b[A\n",
      "\n",
      "  0%|          | 0/1 [00:00<?, ?it/s]\u001b[A\u001b[A\n",
      "\n",
      "100%|██████████| 1/1 [00:00<00:00,  1.71it/s]\u001b[A\u001b[A\n",
      "\n",
      " 12%|█▏        | 1153/10000 [12:40<1:47:37,  1.37it/s]\u001b[A\n",
      "\n",
      "  0%|          | 0/1 [00:00<?, ?it/s]\u001b[A\u001b[A\n",
      "\n",
      "100%|██████████| 1/1 [00:00<00:00,  1.59it/s]\u001b[A\u001b[A\n",
      "\n",
      " 12%|█▏        | 1154/10000 [12:41<1:48:14,  1.36it/s]\u001b[A\n",
      "\n",
      "  0%|          | 0/1 [00:00<?, ?it/s]\u001b[A\u001b[A\n",
      "\n",
      "100%|██████████| 1/1 [00:00<00:00,  1.59it/s]\u001b[A\u001b[A\n",
      "\n",
      " 12%|█▏        | 1155/10000 [12:42<1:46:44,  1.38it/s]\u001b[A\n",
      "\n",
      "  0%|          | 0/1 [00:00<?, ?it/s]\u001b[A\u001b[A\n",
      "\n",
      "100%|██████████| 1/1 [00:00<00:00,  1.64it/s]\u001b[A\u001b[A\n",
      "\n",
      " 12%|█▏        | 1156/10000 [12:42<1:44:40,  1.41it/s]\u001b[A\n",
      "\n",
      "  0%|          | 0/1 [00:00<?, ?it/s]\u001b[A\u001b[A\n",
      "\n",
      "100%|██████████| 1/1 [00:00<00:00,  1.99it/s]\u001b[A\u001b[A\n",
      "\n",
      " 12%|█▏        | 1157/10000 [12:43<1:38:17,  1.50it/s]\u001b[A\n",
      "\n",
      "  0%|          | 0/1 [00:00<?, ?it/s]\u001b[A\u001b[A\n",
      "\n",
      "100%|██████████| 1/1 [00:00<00:00,  2.14it/s]\u001b[A\u001b[A\n",
      "\n",
      " 12%|█▏        | 1158/10000 [12:43<1:32:55,  1.59it/s]\u001b[A\n",
      "\n",
      "  0%|          | 0/1 [00:00<?, ?it/s]\u001b[A\u001b[A\n",
      "\n",
      "100%|██████████| 1/1 [00:00<00:00,  1.87it/s]\u001b[A\u001b[A\n",
      "\n",
      " 12%|█▏        | 1159/10000 [12:44<1:31:06,  1.62it/s]\u001b[A\n",
      "\n",
      "  0%|          | 0/1 [00:00<?, ?it/s]\u001b[A\u001b[A\n",
      "\n",
      "100%|██████████| 1/1 [00:00<00:00,  1.75it/s]\u001b[A\u001b[A\n",
      "\n",
      " 12%|█▏        | 1160/10000 [12:45<1:36:48,  1.52it/s]\u001b[A\n",
      "\n",
      "  0%|          | 0/1 [00:00<?, ?it/s]\u001b[A\u001b[A\n",
      "\n",
      "100%|██████████| 1/1 [00:00<00:00,  2.73it/s]\u001b[A\u001b[A\n",
      "\n",
      " 12%|█▏        | 1161/10000 [12:45<1:26:16,  1.71it/s]\u001b[A\n",
      "\n",
      "  0%|          | 0/1 [00:00<?, ?it/s]\u001b[A\u001b[A\n",
      "\n",
      "100%|██████████| 1/1 [00:00<00:00,  1.88it/s]\u001b[A\u001b[A\n",
      "\n",
      " 12%|█▏        | 1162/10000 [12:46<1:27:10,  1.69it/s]\u001b[A\n",
      "\n",
      "  0%|          | 0/1 [00:00<?, ?it/s]\u001b[A\u001b[A\n",
      "\n",
      "100%|██████████| 1/1 [00:00<00:00,  1.93it/s]\u001b[A\u001b[A\n",
      "\n",
      " 12%|█▏        | 1163/10000 [12:46<1:25:38,  1.72it/s]\u001b[A\n",
      "\n",
      "  0%|          | 0/1 [00:00<?, ?it/s]\u001b[A\u001b[A\n",
      "\n",
      "100%|██████████| 1/1 [00:00<00:00,  1.74it/s]\u001b[A\u001b[A\n",
      "\n",
      " 12%|█▏        | 1164/10000 [12:47<1:33:37,  1.57it/s]\u001b[A\n",
      "\n",
      "  0%|          | 0/1 [00:00<?, ?it/s]\u001b[A\u001b[A\n",
      "\n",
      "100%|██████████| 1/1 [00:00<00:00,  1.59it/s]\u001b[A\u001b[A\n",
      "\n",
      " 12%|█▏        | 1165/10000 [12:48<1:38:18,  1.50it/s]\u001b[A\n",
      "\n",
      "  0%|          | 0/1 [00:00<?, ?it/s]\u001b[A\u001b[A\n",
      "\n",
      "100%|██████████| 1/1 [00:00<00:00,  2.36it/s]\u001b[A\u001b[A\n",
      "\n",
      " 12%|█▏        | 1166/10000 [12:48<1:30:52,  1.62it/s]\u001b[A\n",
      "\n",
      "  0%|          | 0/1 [00:00<?, ?it/s]\u001b[A\u001b[A\n",
      "\n",
      "100%|██████████| 1/1 [00:00<00:00,  2.50it/s]\u001b[A\u001b[A\n",
      "\n",
      " 12%|█▏        | 1167/10000 [12:49<1:23:04,  1.77it/s]\u001b[A\n",
      "\n",
      "  0%|          | 0/1 [00:00<?, ?it/s]\u001b[A\u001b[A\n",
      "\n",
      "100%|██████████| 1/1 [00:00<00:00,  2.28it/s]\u001b[A\u001b[A\n",
      "\n",
      " 12%|█▏        | 1168/10000 [12:49<1:24:19,  1.75it/s]\u001b[A\n",
      "\n",
      "  0%|          | 0/1 [00:00<?, ?it/s]\u001b[A\u001b[A\n",
      "\n",
      "100%|██████████| 1/1 [00:00<00:00,  2.04it/s]\u001b[A\u001b[A\n",
      "\n",
      " 12%|█▏        | 1169/10000 [12:50<1:23:13,  1.77it/s]\u001b[A\n",
      "\n",
      "  0%|          | 0/1 [00:00<?, ?it/s]\u001b[A\u001b[A\n",
      "\n",
      "100%|██████████| 1/1 [00:00<00:00,  2.53it/s]\u001b[A\u001b[A\n",
      "\n",
      " 12%|█▏        | 1170/10000 [12:50<1:19:03,  1.86it/s]\u001b[A\n",
      "\n",
      "  0%|          | 0/1 [00:00<?, ?it/s]\u001b[A\u001b[A\n",
      "\n",
      "100%|██████████| 1/1 [00:00<00:00,  1.76it/s]\u001b[A\u001b[A\n",
      "\n",
      " 12%|█▏        | 1171/10000 [12:51<1:22:18,  1.79it/s]\u001b[A\n",
      "\n",
      "  0%|          | 0/1 [00:00<?, ?it/s]\u001b[A\u001b[A\n",
      "\n",
      "100%|██████████| 1/1 [00:00<00:00,  1.42it/s]\u001b[A\u001b[A\n",
      "\n",
      " 12%|█▏        | 1172/10000 [12:52<1:35:33,  1.54it/s]\u001b[A\n",
      "\n",
      "  0%|          | 0/1 [00:00<?, ?it/s]\u001b[A\u001b[A\n",
      "\n",
      "100%|██████████| 1/1 [00:00<00:00,  1.99it/s]\u001b[A\u001b[A\n",
      "\n",
      " 12%|█▏        | 1173/10000 [12:53<1:40:23,  1.47it/s]\u001b[A\n",
      "\n",
      "  0%|          | 0/1 [00:00<?, ?it/s]\u001b[A\u001b[A\n",
      "\n",
      "100%|██████████| 1/1 [00:00<00:00,  1.77it/s]\u001b[A\u001b[A\n",
      "\n",
      " 12%|█▏        | 1174/10000 [12:53<1:37:02,  1.52it/s]\u001b[A\n",
      "\n",
      "  0%|          | 0/1 [00:00<?, ?it/s]\u001b[A\u001b[A\n",
      "\n",
      "100%|██████████| 1/1 [00:00<00:00,  1.84it/s]\u001b[A\u001b[A\n",
      "\n",
      " 12%|█▏        | 1175/10000 [12:54<1:35:11,  1.55it/s]\u001b[A\n",
      "\n",
      "  0%|          | 0/1 [00:00<?, ?it/s]\u001b[A\u001b[A\n",
      "\n",
      "100%|██████████| 1/1 [00:00<00:00,  1.99it/s]\u001b[A\u001b[A\n",
      "\n",
      " 12%|█▏        | 1176/10000 [12:54<1:31:09,  1.61it/s]\u001b[A\n",
      "\n",
      "  0%|          | 0/1 [00:00<?, ?it/s]\u001b[A\u001b[A\n",
      "\n",
      "100%|██████████| 1/1 [00:00<00:00,  1.69it/s]\u001b[A\u001b[A\n",
      "\n",
      " 12%|█▏        | 1177/10000 [12:55<1:32:13,  1.59it/s]\u001b[A\n",
      "\n",
      "  0%|          | 0/1 [00:00<?, ?it/s]\u001b[A\u001b[A\n",
      "\n",
      "100%|██████████| 1/1 [00:00<00:00,  2.09it/s]\u001b[A\u001b[A\n",
      "\n",
      " 12%|█▏        | 1178/10000 [12:56<1:27:43,  1.68it/s]\u001b[A\n",
      "\n"
     ]
    },
    {
     "name": "stderr",
     "output_type": "stream",
     "text": [
      "  0%|          | 0/1 [00:00<?, ?it/s]\u001b[A\u001b[A\n",
      "\n",
      "100%|██████████| 1/1 [00:00<00:00,  2.05it/s]\u001b[A\u001b[A\n",
      "\n",
      " 12%|█▏        | 1179/10000 [12:56<1:30:25,  1.63it/s]\u001b[A\n",
      "\n",
      "  0%|          | 0/1 [00:00<?, ?it/s]\u001b[A\u001b[A\n",
      "\n",
      "100%|██████████| 1/1 [00:00<00:00,  1.35it/s]\u001b[A\u001b[A\n",
      "\n",
      " 12%|█▏        | 1180/10000 [12:57<1:43:08,  1.43it/s]\u001b[A\n",
      "\n",
      "  0%|          | 0/1 [00:00<?, ?it/s]\u001b[A\u001b[A\n",
      "\n",
      "100%|██████████| 1/1 [00:00<00:00,  1.41it/s]\u001b[A\u001b[A\n",
      "\n",
      " 12%|█▏        | 1181/10000 [12:58<1:50:47,  1.33it/s]\u001b[A\n",
      "\n",
      "  0%|          | 0/1 [00:00<?, ?it/s]\u001b[A\u001b[A\n",
      "\n",
      "100%|██████████| 1/1 [00:00<00:00,  1.62it/s]\u001b[A\u001b[A\n",
      "\n",
      " 12%|█▏        | 1182/10000 [12:59<1:48:13,  1.36it/s]\u001b[A\n",
      "\n",
      "  0%|          | 0/1 [00:00<?, ?it/s]\u001b[A\u001b[A\n",
      "\n",
      "100%|██████████| 1/1 [00:00<00:00,  2.15it/s]\u001b[A\u001b[A\n",
      "\n",
      " 12%|█▏        | 1183/10000 [12:59<1:40:45,  1.46it/s]\u001b[A\n",
      "\n",
      "  0%|          | 0/1 [00:00<?, ?it/s]\u001b[A\u001b[A\n",
      "\n",
      "100%|██████████| 1/1 [00:00<00:00,  1.48it/s]\u001b[A\u001b[A\n",
      "\n",
      " 12%|█▏        | 1184/10000 [13:00<1:42:41,  1.43it/s]\u001b[A\n",
      "\n",
      "  0%|          | 0/1 [00:00<?, ?it/s]\u001b[A\u001b[A\n",
      "\n",
      "100%|██████████| 1/1 [00:00<00:00,  1.69it/s]\u001b[A\u001b[A\n",
      "\n",
      " 12%|█▏        | 1185/10000 [13:01<1:42:23,  1.43it/s]\u001b[A\n",
      "\n",
      "  0%|          | 0/1 [00:00<?, ?it/s]\u001b[A\u001b[A\n",
      "\n",
      "100%|██████████| 1/1 [00:00<00:00,  1.50it/s]\u001b[A\u001b[A\n",
      "\n",
      " 12%|█▏        | 1186/10000 [13:02<1:51:19,  1.32it/s]\u001b[A\n",
      "\n",
      "  0%|          | 0/1 [00:00<?, ?it/s]\u001b[A\u001b[A\n",
      "\n",
      "100%|██████████| 1/1 [00:00<00:00,  2.01it/s]\u001b[A\u001b[A\n",
      "\n",
      " 12%|█▏        | 1187/10000 [13:02<1:43:05,  1.42it/s]\u001b[A\n",
      "\n",
      "  0%|          | 0/1 [00:00<?, ?it/s]\u001b[A\u001b[A\n",
      "\n",
      "100%|██████████| 1/1 [00:00<00:00,  1.36it/s]\u001b[A\u001b[A\n",
      "\n",
      " 12%|█▏        | 1188/10000 [13:03<1:49:24,  1.34it/s]\u001b[A\n",
      "\n",
      "  0%|          | 0/1 [00:00<?, ?it/s]\u001b[A\u001b[A\n",
      "\n",
      "100%|██████████| 1/1 [00:00<00:00,  1.59it/s]\u001b[A\u001b[A\n",
      "\n",
      " 12%|█▏        | 1189/10000 [13:04<1:46:09,  1.38it/s]\u001b[A\n",
      "\n",
      "  0%|          | 0/1 [00:00<?, ?it/s]\u001b[A\u001b[A\n",
      "\n",
      "100%|██████████| 1/1 [00:00<00:00,  1.92it/s]\u001b[A\u001b[A\n",
      "\n",
      " 12%|█▏        | 1190/10000 [13:04<1:42:25,  1.43it/s]\u001b[A\n",
      "\n",
      "  0%|          | 0/1 [00:00<?, ?it/s]\u001b[A\u001b[A\n",
      "\n",
      "100%|██████████| 1/1 [00:00<00:00,  1.57it/s]\u001b[A\u001b[A\n",
      "\n",
      " 12%|█▏        | 1191/10000 [13:05<1:41:31,  1.45it/s]\u001b[A\n",
      "\n",
      "  0%|          | 0/1 [00:00<?, ?it/s]\u001b[A\u001b[A\n",
      "\n",
      "100%|██████████| 1/1 [00:00<00:00,  1.44it/s]\u001b[A\u001b[A\n",
      "\n",
      " 12%|█▏        | 1192/10000 [13:06<1:50:05,  1.33it/s]\u001b[A\n",
      "\n",
      "  0%|          | 0/1 [00:00<?, ?it/s]\u001b[A\u001b[A\n",
      "\n",
      "100%|██████████| 1/1 [00:00<00:00,  1.50it/s]\u001b[A\u001b[A\n",
      "\n",
      " 12%|█▏        | 1193/10000 [13:07<1:52:23,  1.31it/s]\u001b[A\n",
      "\n",
      "  0%|          | 0/1 [00:00<?, ?it/s]\u001b[A\u001b[A\n",
      "\n",
      "100%|██████████| 1/1 [00:00<00:00,  1.68it/s]\u001b[A\u001b[A\n",
      "\n",
      " 12%|█▏        | 1194/10000 [13:07<1:47:04,  1.37it/s]\u001b[A\n",
      "\n",
      "  0%|          | 0/1 [00:00<?, ?it/s]\u001b[A\u001b[A\n",
      "\n",
      "100%|██████████| 1/1 [00:00<00:00,  1.74it/s]\u001b[A\u001b[A\n",
      "\n",
      " 12%|█▏        | 1195/10000 [13:08<1:47:57,  1.36it/s]\u001b[A"
     ]
    },
    {
     "name": "stdout",
     "output_type": "stream",
     "text": [
      "\n",
      "Epoch: 1195, Loss: 0.3872, Val: 0.7041, Test: 0.7111\n"
     ]
    },
    {
     "name": "stderr",
     "output_type": "stream",
     "text": [
      "\n",
      "\n",
      "  0%|          | 0/1 [00:00<?, ?it/s]\u001b[A\u001b[A\n",
      "\n",
      "100%|██████████| 1/1 [00:00<00:00,  1.88it/s]\u001b[A\u001b[A\n",
      "\n",
      " 12%|█▏        | 1196/10000 [13:09<1:43:19,  1.42it/s]\u001b[A\n",
      "\n",
      "  0%|          | 0/1 [00:00<?, ?it/s]\u001b[A\u001b[A\n",
      "\n",
      "100%|██████████| 1/1 [00:00<00:00,  1.42it/s]\u001b[A\u001b[A\n",
      "\n",
      " 12%|█▏        | 1197/10000 [13:10<1:51:03,  1.32it/s]\u001b[A"
     ]
    },
    {
     "name": "stdout",
     "output_type": "stream",
     "text": [
      "\n",
      "Epoch: 1197, Loss: 0.3874, Val: 0.7042, Test: 0.7109\n"
     ]
    },
    {
     "name": "stderr",
     "output_type": "stream",
     "text": [
      "\n",
      "\n",
      "  0%|          | 0/1 [00:00<?, ?it/s]\u001b[A\u001b[A\n",
      "\n",
      "100%|██████████| 1/1 [00:00<00:00,  1.65it/s]\u001b[A\u001b[A\n",
      "\n",
      " 12%|█▏        | 1198/10000 [13:10<1:47:44,  1.36it/s]\u001b[A\n",
      "\n",
      "  0%|          | 0/1 [00:00<?, ?it/s]\u001b[A\u001b[A\n",
      "\n",
      "100%|██████████| 1/1 [00:00<00:00,  1.19it/s]\u001b[A\u001b[A\n",
      "\n",
      " 12%|█▏        | 1199/10000 [13:11<1:56:27,  1.26it/s]\u001b[A\n",
      "\n",
      "  0%|          | 0/1 [00:00<?, ?it/s]\u001b[A\u001b[A\n",
      "\n",
      "100%|██████████| 1/1 [00:00<00:00,  1.69it/s]\u001b[A\u001b[A\n",
      "\n",
      " 12%|█▏        | 1200/10000 [13:12<1:51:45,  1.31it/s]\u001b[A\n",
      "\n",
      "  0%|          | 0/1 [00:00<?, ?it/s]\u001b[A\u001b[A\n",
      "\n",
      "100%|██████████| 1/1 [00:00<00:00,  1.53it/s]\u001b[A\u001b[A\n",
      "\n",
      " 12%|█▏        | 1201/10000 [13:13<1:48:57,  1.35it/s]\u001b[A\n",
      "\n",
      "  0%|          | 0/1 [00:00<?, ?it/s]\u001b[A\u001b[A\n",
      "\n",
      "100%|██████████| 1/1 [00:00<00:00,  1.83it/s]\u001b[A\u001b[A\n",
      "\n",
      " 12%|█▏        | 1202/10000 [13:13<1:42:34,  1.43it/s]\u001b[A\n",
      "\n",
      "  0%|          | 0/1 [00:00<?, ?it/s]\u001b[A\u001b[A\n",
      "\n",
      "100%|██████████| 1/1 [00:00<00:00,  2.37it/s]\u001b[A\u001b[A\n",
      "\n",
      " 12%|█▏        | 1203/10000 [13:14<1:32:11,  1.59it/s]\u001b[A\n",
      "\n",
      "  0%|          | 0/1 [00:00<?, ?it/s]\u001b[A\u001b[A\n",
      "\n",
      "100%|██████████| 1/1 [00:00<00:00,  1.84it/s]\u001b[A\u001b[A\n",
      "\n",
      " 12%|█▏        | 1204/10000 [13:14<1:30:35,  1.62it/s]\u001b[A\n",
      "\n",
      "  0%|          | 0/1 [00:00<?, ?it/s]\u001b[A\u001b[A\n",
      "\n",
      "100%|██████████| 1/1 [00:00<00:00,  2.97it/s]\u001b[A\u001b[A\n",
      "\n",
      " 12%|█▏        | 1205/10000 [13:15<1:20:22,  1.82it/s]\u001b[A\n",
      "\n",
      "  0%|          | 0/1 [00:00<?, ?it/s]\u001b[A\u001b[A\n",
      "\n",
      "100%|██████████| 1/1 [00:00<00:00,  1.35it/s]\u001b[A\u001b[A\n",
      "\n",
      " 12%|█▏        | 1206/10000 [13:15<1:31:04,  1.61it/s]\u001b[A\n",
      "\n",
      "  0%|          | 0/1 [00:00<?, ?it/s]\u001b[A\u001b[A\n",
      "\n",
      "100%|██████████| 1/1 [00:00<00:00,  2.04it/s]\u001b[A\u001b[A\n",
      "\n",
      " 12%|█▏        | 1207/10000 [13:16<1:28:15,  1.66it/s]\u001b[A\n",
      "\n",
      "  0%|          | 0/1 [00:00<?, ?it/s]\u001b[A\u001b[A\n",
      "\n",
      "100%|██████████| 1/1 [00:00<00:00,  2.11it/s]\u001b[A\u001b[A\n",
      "\n",
      " 12%|█▏        | 1208/10000 [13:17<1:24:43,  1.73it/s]\u001b[A\n",
      "\n",
      "  0%|          | 0/1 [00:00<?, ?it/s]\u001b[A\u001b[A\n",
      "\n",
      "100%|██████████| 1/1 [00:00<00:00,  2.26it/s]\u001b[A\u001b[A\n",
      "\n",
      " 12%|█▏        | 1209/10000 [13:17<1:22:41,  1.77it/s]\u001b[A"
     ]
    },
    {
     "name": "stdout",
     "output_type": "stream",
     "text": [
      "\n",
      "Epoch: 1209, Loss: 0.3871, Val: 0.7043, Test: 0.7128\n"
     ]
    },
    {
     "name": "stderr",
     "output_type": "stream",
     "text": [
      "\n",
      "\n",
      "  0%|          | 0/1 [00:00<?, ?it/s]\u001b[A\u001b[A\n",
      "\n",
      "100%|██████████| 1/1 [00:00<00:00,  2.58it/s]\u001b[A\u001b[A\n",
      "\n",
      " 12%|█▏        | 1210/10000 [13:17<1:17:23,  1.89it/s]\u001b[A\n",
      "\n",
      "  0%|          | 0/1 [00:00<?, ?it/s]\u001b[A\u001b[A\n",
      "\n",
      "100%|██████████| 1/1 [00:00<00:00,  1.86it/s]\u001b[A\u001b[A\n",
      "\n",
      " 12%|█▏        | 1211/10000 [13:18<1:20:04,  1.83it/s]\u001b[A\n",
      "\n",
      "  0%|          | 0/1 [00:00<?, ?it/s]\u001b[A\u001b[A\n",
      "\n",
      "100%|██████████| 1/1 [00:00<00:00,  1.89it/s]\u001b[A\u001b[A\n",
      "\n",
      " 12%|█▏        | 1212/10000 [13:19<1:21:55,  1.79it/s]\u001b[A\n",
      "\n",
      "  0%|          | 0/1 [00:00<?, ?it/s]\u001b[A\u001b[A\n",
      "\n",
      "100%|██████████| 1/1 [00:00<00:00,  2.10it/s]\u001b[A\u001b[A\n",
      "\n",
      " 12%|█▏        | 1213/10000 [13:19<1:21:23,  1.80it/s]\u001b[A\n",
      "\n",
      "  0%|          | 0/1 [00:00<?, ?it/s]\u001b[A\u001b[A\n",
      "\n",
      "100%|██████████| 1/1 [00:00<00:00,  2.53it/s]\u001b[A\u001b[A\n",
      "\n",
      " 12%|█▏        | 1214/10000 [13:20<1:17:06,  1.90it/s]\u001b[A\n",
      "\n",
      "  0%|          | 0/1 [00:00<?, ?it/s]\u001b[A\u001b[A\n",
      "\n",
      "100%|██████████| 1/1 [00:00<00:00,  1.94it/s]\u001b[A\u001b[A\n",
      "\n",
      " 12%|█▏        | 1215/10000 [13:20<1:19:39,  1.84it/s]\u001b[A\n",
      "\n",
      "  0%|          | 0/1 [00:00<?, ?it/s]\u001b[A\u001b[A\n",
      "\n",
      "100%|██████████| 1/1 [00:00<00:00,  2.05it/s]\u001b[A\u001b[A\n",
      "\n",
      " 12%|█▏        | 1216/10000 [13:21<1:20:39,  1.82it/s]\u001b[A\n",
      "\n",
      "  0%|          | 0/1 [00:00<?, ?it/s]\u001b[A\u001b[A\n",
      "\n",
      "100%|██████████| 1/1 [00:00<00:00,  2.24it/s]\u001b[A\u001b[A\n",
      "\n",
      " 12%|█▏        | 1217/10000 [13:21<1:19:05,  1.85it/s]\u001b[A\n",
      "\n",
      "  0%|          | 0/1 [00:00<?, ?it/s]\u001b[A\u001b[A\n",
      "\n",
      "100%|██████████| 1/1 [00:00<00:00,  1.50it/s]\u001b[A\u001b[A\n",
      "\n",
      " 12%|█▏        | 1218/10000 [13:22<1:28:18,  1.66it/s]\u001b[A\n",
      "\n",
      "  0%|          | 0/1 [00:00<?, ?it/s]\u001b[A\u001b[A\n",
      "\n",
      "100%|██████████| 1/1 [00:00<00:00,  1.78it/s]\u001b[A\u001b[A\n",
      "\n",
      " 12%|█▏        | 1219/10000 [13:23<1:28:51,  1.65it/s]\u001b[A\n",
      "\n",
      "  0%|          | 0/1 [00:00<?, ?it/s]\u001b[A\u001b[A\n",
      "\n",
      "100%|██████████| 1/1 [00:00<00:00,  2.38it/s]\u001b[A\u001b[A\n",
      "\n",
      " 12%|█▏        | 1220/10000 [13:23<1:23:25,  1.75it/s]\u001b[A\n",
      "\n",
      "  0%|          | 0/1 [00:00<?, ?it/s]\u001b[A\u001b[A\n",
      "\n",
      "100%|██████████| 1/1 [00:00<00:00,  2.49it/s]\u001b[A\u001b[A\n",
      "\n",
      " 12%|█▏        | 1221/10000 [13:24<1:17:58,  1.88it/s]\u001b[A\n",
      "\n",
      "  0%|          | 0/1 [00:00<?, ?it/s]\u001b[A\u001b[A\n",
      "\n",
      "100%|██████████| 1/1 [00:00<00:00,  2.37it/s]\u001b[A\u001b[A\n",
      "\n",
      " 12%|█▏        | 1222/10000 [13:24<1:14:57,  1.95it/s]\u001b[A\n",
      "\n",
      "  0%|          | 0/1 [00:00<?, ?it/s]\u001b[A\u001b[A\n",
      "\n",
      "100%|██████████| 1/1 [00:00<00:00,  2.28it/s]\u001b[A\u001b[A\n",
      "\n",
      " 12%|█▏        | 1223/10000 [13:25<1:13:39,  1.99it/s]\u001b[A\n",
      "\n",
      "  0%|          | 0/1 [00:00<?, ?it/s]\u001b[A\u001b[A\n",
      "\n",
      "100%|██████████| 1/1 [00:00<00:00,  2.21it/s]\u001b[A\u001b[A\n",
      "\n",
      " 12%|█▏        | 1224/10000 [13:25<1:13:17,  2.00it/s]\u001b[A\n",
      "\n",
      "  0%|          | 0/1 [00:00<?, ?it/s]\u001b[A\u001b[A\n",
      "\n",
      "100%|██████████| 1/1 [00:00<00:00,  2.29it/s]\u001b[A\u001b[A\n",
      "\n",
      " 12%|█▏        | 1225/10000 [13:26<1:12:20,  2.02it/s]\u001b[A\n",
      "\n",
      "  0%|          | 0/1 [00:00<?, ?it/s]\u001b[A\u001b[A\n",
      "\n",
      "100%|██████████| 1/1 [00:00<00:00,  2.22it/s]\u001b[A\u001b[A\n",
      "\n",
      " 12%|█▏        | 1226/10000 [13:26<1:12:18,  2.02it/s]\u001b[A\n",
      "\n",
      "  0%|          | 0/1 [00:00<?, ?it/s]\u001b[A\u001b[A\n",
      "\n",
      "100%|██████████| 1/1 [00:00<00:00,  2.12it/s]\u001b[A\u001b[A\n",
      "\n",
      " 12%|█▏        | 1227/10000 [13:27<1:13:21,  1.99it/s]\u001b[A\n",
      "\n",
      "  0%|          | 0/1 [00:00<?, ?it/s]\u001b[A\u001b[A\n",
      "\n",
      "100%|██████████| 1/1 [00:00<00:00,  2.07it/s]\u001b[A\u001b[A\n",
      "\n",
      " 12%|█▏        | 1228/10000 [13:27<1:14:17,  1.97it/s]\u001b[A\n",
      "\n",
      "  0%|          | 0/1 [00:00<?, ?it/s]\u001b[A\u001b[A\n",
      "\n",
      "100%|██████████| 1/1 [00:00<00:00,  2.14it/s]\u001b[A\u001b[A\n",
      "\n",
      " 12%|█▏        | 1229/10000 [13:28<1:14:48,  1.95it/s]\u001b[A\n",
      "\n",
      "  0%|          | 0/1 [00:00<?, ?it/s]\u001b[A\u001b[A\n",
      "\n",
      "100%|██████████| 1/1 [00:00<00:00,  2.17it/s]\u001b[A\u001b[A\n",
      "\n",
      " 12%|█▏        | 1230/10000 [13:28<1:14:54,  1.95it/s]\u001b[A\n",
      "\n",
      "  0%|          | 0/1 [00:00<?, ?it/s]\u001b[A\u001b[A\n",
      "\n",
      "100%|██████████| 1/1 [00:00<00:00,  2.40it/s]\u001b[A\u001b[A\n",
      "\n",
      " 12%|█▏        | 1231/10000 [13:29<1:12:31,  2.02it/s]\u001b[A\n",
      "\n",
      "  0%|          | 0/1 [00:00<?, ?it/s]\u001b[A\u001b[A\n",
      "\n",
      "100%|██████████| 1/1 [00:00<00:00,  2.55it/s]\u001b[A\u001b[A\n",
      "\n",
      " 12%|█▏        | 1232/10000 [13:29<1:10:26,  2.07it/s]\u001b[A\n",
      "\n",
      "  0%|          | 0/1 [00:00<?, ?it/s]\u001b[A\u001b[A\n",
      "\n",
      "100%|██████████| 1/1 [00:00<00:00,  1.99it/s]\u001b[A\u001b[A\n",
      "\n",
      " 12%|█▏        | 1233/10000 [13:30<1:13:35,  1.99it/s]\u001b[A\n",
      "\n",
      "  0%|          | 0/1 [00:00<?, ?it/s]\u001b[A\u001b[A\n",
      "\n",
      "100%|██████████| 1/1 [00:00<00:00,  2.01it/s]\u001b[A\u001b[A\n",
      "\n",
      " 12%|█▏        | 1234/10000 [13:30<1:15:29,  1.94it/s]\u001b[A\n",
      "\n",
      "  0%|          | 0/1 [00:00<?, ?it/s]\u001b[A\u001b[A\n",
      "\n",
      "100%|██████████| 1/1 [00:01<00:00,  1.27s/it]\u001b[A\u001b[A\n",
      "\n",
      " 12%|█▏        | 1235/10000 [13:32<1:53:03,  1.29it/s]\u001b[A\n",
      "\n",
      "  0%|          | 0/1 [00:00<?, ?it/s]\u001b[A\u001b[A\n",
      "\n",
      "100%|██████████| 1/1 [00:01<00:00,  1.21s/it]\u001b[A\u001b[A\n",
      "\n",
      " 12%|█▏        | 1236/10000 [13:34<3:03:07,  1.25s/it]\u001b[A\n",
      "\n",
      "  0%|          | 0/1 [00:00<?, ?it/s]\u001b[A\u001b[A\n",
      "\n",
      "100%|██████████| 1/1 [00:01<00:00,  1.07s/it]\u001b[A\u001b[A\n",
      "\n",
      " 12%|█▏        | 1237/10000 [13:35<3:00:47,  1.24s/it]\u001b[A\n",
      "\n",
      "  0%|          | 0/1 [00:00<?, ?it/s]\u001b[A\u001b[A\n",
      "\n",
      "100%|██████████| 1/1 [00:00<00:00,  1.95it/s]\u001b[A\u001b[A\n",
      "\n",
      " 12%|█▏        | 1238/10000 [13:36<2:31:34,  1.04s/it]\u001b[A\n",
      "\n",
      "  0%|          | 0/1 [00:00<?, ?it/s]\u001b[A\u001b[A\n",
      "\n",
      "100%|██████████| 1/1 [00:00<00:00,  2.78it/s]\u001b[A\u001b[A\n",
      "\n",
      " 12%|█▏        | 1239/10000 [13:36<2:03:49,  1.18it/s]\u001b[A\n",
      "\n",
      "  0%|          | 0/1 [00:00<?, ?it/s]\u001b[A\u001b[A\n",
      "\n",
      "100%|██████████| 1/1 [00:00<00:00,  3.04it/s]\u001b[A\u001b[A\n",
      "\n",
      " 12%|█▏        | 1240/10000 [13:36<1:42:50,  1.42it/s]\u001b[A\n",
      "\n",
      "  0%|          | 0/1 [00:00<?, ?it/s]\u001b[A\u001b[A\n",
      "\n",
      "100%|██████████| 1/1 [00:00<00:00,  2.95it/s]\u001b[A\u001b[A\n",
      "\n",
      " 12%|█▏        | 1241/10000 [13:37<1:28:47,  1.64it/s]\u001b[A\n",
      "\n",
      "  0%|          | 0/1 [00:00<?, ?it/s]\u001b[A\u001b[A\n",
      "\n",
      "100%|██████████| 1/1 [00:00<00:00,  2.91it/s]\u001b[A\u001b[A\n",
      "\n",
      " 12%|█▏        | 1242/10000 [13:37<1:18:57,  1.85it/s]\u001b[A\n",
      "\n",
      "  0%|          | 0/1 [00:00<?, ?it/s]\u001b[A\u001b[A\n",
      "\n",
      "100%|██████████| 1/1 [00:00<00:00,  3.22it/s]\u001b[A\u001b[A\n",
      "\n",
      " 12%|█▏        | 1243/10000 [13:38<1:10:52,  2.06it/s]\u001b[A\n",
      "\n",
      "  0%|          | 0/1 [00:00<?, ?it/s]\u001b[A\u001b[A\n",
      "\n",
      "100%|██████████| 1/1 [00:00<00:00,  3.13it/s]\u001b[A\u001b[A\n",
      "\n",
      " 12%|█▏        | 1244/10000 [13:38<1:05:13,  2.24it/s]\u001b[A\n",
      "\n",
      "  0%|          | 0/1 [00:00<?, ?it/s]\u001b[A\u001b[A\n",
      "\n",
      "100%|██████████| 1/1 [00:00<00:00,  2.70it/s]\u001b[A\u001b[A\n",
      "\n",
      " 12%|█▏        | 1245/10000 [13:38<1:05:02,  2.24it/s]\u001b[A\n",
      "\n",
      "  0%|          | 0/1 [00:00<?, ?it/s]\u001b[A\u001b[A\n",
      "\n",
      "100%|██████████| 1/1 [00:00<00:00,  2.58it/s]\u001b[A\u001b[A\n",
      "\n",
      " 12%|█▏        | 1246/10000 [13:39<1:05:05,  2.24it/s]\u001b[A\n",
      "\n",
      "  0%|          | 0/1 [00:00<?, ?it/s]\u001b[A\u001b[A\n",
      "\n",
      "100%|██████████| 1/1 [00:00<00:00,  2.54it/s]\u001b[A\u001b[A\n",
      "\n",
      " 12%|█▏        | 1247/10000 [13:39<1:05:15,  2.24it/s]\u001b[A\n",
      "\n",
      "  0%|          | 0/1 [00:00<?, ?it/s]\u001b[A\u001b[A\n",
      "\n",
      "100%|██████████| 1/1 [00:00<00:00,  2.60it/s]\u001b[A\u001b[A\n",
      "\n",
      " 12%|█▏        | 1248/10000 [13:40<1:04:32,  2.26it/s]\u001b[A\n",
      "\n",
      "  0%|          | 0/1 [00:00<?, ?it/s]\u001b[A\u001b[A\n",
      "\n",
      "100%|██████████| 1/1 [00:00<00:00,  2.57it/s]\u001b[A\u001b[A\n",
      "\n",
      " 12%|█▏        | 1249/10000 [13:40<1:04:58,  2.24it/s]\u001b[A\n",
      "\n",
      "  0%|          | 0/1 [00:00<?, ?it/s]\u001b[A\u001b[A\n",
      "\n",
      "100%|██████████| 1/1 [00:00<00:00,  1.58it/s]\u001b[A\u001b[A\n",
      "\n",
      " 12%|█▎        | 1250/10000 [13:41<1:18:25,  1.86it/s]\u001b[A\n",
      "\n",
      "  0%|          | 0/1 [00:00<?, ?it/s]\u001b[A\u001b[A\n",
      "\n",
      "100%|██████████| 1/1 [00:00<00:00,  1.50it/s]\u001b[A\u001b[A\n",
      "\n",
      " 13%|█▎        | 1251/10000 [13:42<1:28:21,  1.65it/s]\u001b[A\n",
      "\n",
      "  0%|          | 0/1 [00:00<?, ?it/s]\u001b[A\u001b[A\n",
      "\n",
      "100%|██████████| 1/1 [00:00<00:00,  1.68it/s]\u001b[A\u001b[A\n",
      "\n",
      " 13%|█▎        | 1252/10000 [13:42<1:29:31,  1.63it/s]\u001b[A\n",
      "\n",
      "  0%|          | 0/1 [00:00<?, ?it/s]\u001b[A\u001b[A\n",
      "\n",
      "100%|██████████| 1/1 [00:00<00:00,  2.04it/s]\u001b[A\u001b[A\n",
      "\n",
      " 13%|█▎        | 1253/10000 [13:43<1:27:08,  1.67it/s]\u001b[A\n",
      "\n",
      "  0%|          | 0/1 [00:00<?, ?it/s]\u001b[A\u001b[A\n",
      "\n",
      "100%|██████████| 1/1 [00:00<00:00,  1.76it/s]\u001b[A\u001b[A\n",
      "\n",
      " 13%|█▎        | 1254/10000 [13:43<1:27:58,  1.66it/s]\u001b[A\n",
      "\n",
      "  0%|          | 0/1 [00:00<?, ?it/s]\u001b[A\u001b[A\n",
      "\n",
      "100%|██████████| 1/1 [00:00<00:00,  2.06it/s]\u001b[A\u001b[A\n",
      "\n",
      " 13%|█▎        | 1255/10000 [13:44<1:24:59,  1.71it/s]\u001b[A\n",
      "\n",
      "  0%|          | 0/1 [00:00<?, ?it/s]\u001b[A\u001b[A\n",
      "\n",
      "100%|██████████| 1/1 [00:00<00:00,  1.91it/s]\u001b[A\u001b[A\n",
      "\n",
      " 13%|█▎        | 1256/10000 [13:45<1:24:09,  1.73it/s]\u001b[A\n",
      "\n",
      "  0%|          | 0/1 [00:00<?, ?it/s]\u001b[A\u001b[A\n",
      "\n",
      "100%|██████████| 1/1 [00:00<00:00,  2.51it/s]\u001b[A\u001b[A\n",
      "\n",
      " 13%|█▎        | 1257/10000 [13:45<1:18:40,  1.85it/s]\u001b[A\n",
      "\n",
      "  0%|          | 0/1 [00:00<?, ?it/s]\u001b[A\u001b[A\n",
      "\n",
      "100%|██████████| 1/1 [00:00<00:00,  2.26it/s]\u001b[A\u001b[A\n",
      "\n",
      " 13%|█▎        | 1258/10000 [13:46<1:16:32,  1.90it/s]\u001b[A\n",
      "\n",
      "  0%|          | 0/1 [00:00<?, ?it/s]\u001b[A\u001b[A\n",
      "\n",
      "100%|██████████| 1/1 [00:00<00:00,  1.85it/s]\u001b[A\u001b[A\n",
      "\n",
      " 13%|█▎        | 1259/10000 [13:46<1:18:56,  1.85it/s]\u001b[A\n",
      "\n",
      "  0%|          | 0/1 [00:00<?, ?it/s]\u001b[A\u001b[A\n",
      "\n",
      "100%|██████████| 1/1 [00:00<00:00,  2.75it/s]\u001b[A\u001b[A\n",
      "\n",
      " 13%|█▎        | 1260/10000 [13:47<1:13:03,  1.99it/s]\u001b[A\n",
      "\n",
      "  0%|          | 0/1 [00:00<?, ?it/s]\u001b[A\u001b[A\n",
      "\n",
      "100%|██████████| 1/1 [00:00<00:00,  2.60it/s]\u001b[A\u001b[A\n",
      "\n",
      " 13%|█▎        | 1261/10000 [13:47<1:09:56,  2.08it/s]\u001b[A\n",
      "\n"
     ]
    },
    {
     "name": "stderr",
     "output_type": "stream",
     "text": [
      "  0%|          | 0/1 [00:00<?, ?it/s]\u001b[A\u001b[A\n",
      "\n",
      "100%|██████████| 1/1 [00:00<00:00,  2.66it/s]\u001b[A\u001b[A\n",
      "\n",
      " 13%|█▎        | 1262/10000 [13:47<1:07:27,  2.16it/s]\u001b[A\n",
      "\n",
      "  0%|          | 0/1 [00:00<?, ?it/s]\u001b[A\u001b[A\n",
      "\n",
      "100%|██████████| 1/1 [00:00<00:00,  2.66it/s]\u001b[A\u001b[A\n",
      "\n",
      " 13%|█▎        | 1263/10000 [13:48<1:05:35,  2.22it/s]\u001b[A\n",
      "\n",
      "  0%|          | 0/1 [00:00<?, ?it/s]\u001b[A\u001b[A\n",
      "\n",
      "100%|██████████| 1/1 [00:00<00:00,  2.87it/s]\u001b[A\u001b[A\n",
      "\n",
      " 13%|█▎        | 1264/10000 [13:48<1:03:22,  2.30it/s]\u001b[A\n",
      "\n",
      "  0%|          | 0/1 [00:00<?, ?it/s]\u001b[A\u001b[A\n",
      "\n",
      "100%|██████████| 1/1 [00:00<00:00,  3.02it/s]\u001b[A\u001b[A\n",
      "\n",
      " 13%|█▎        | 1265/10000 [13:49<1:00:43,  2.40it/s]\u001b[A\n",
      "\n",
      "  0%|          | 0/1 [00:00<?, ?it/s]\u001b[A\u001b[A\n",
      "\n",
      "100%|██████████| 1/1 [00:00<00:00,  2.30it/s]\u001b[A\u001b[A\n",
      "\n",
      " 13%|█▎        | 1266/10000 [13:49<1:02:50,  2.32it/s]\u001b[A\n",
      "\n",
      "  0%|          | 0/1 [00:00<?, ?it/s]\u001b[A\u001b[A\n",
      "\n",
      "100%|██████████| 1/1 [00:00<00:00,  2.83it/s]\u001b[A\u001b[A\n",
      "\n",
      " 13%|█▎        | 1267/10000 [13:49<1:01:02,  2.38it/s]\u001b[A\n",
      "\n",
      "  0%|          | 0/1 [00:00<?, ?it/s]\u001b[A\u001b[A\n",
      "\n",
      "100%|██████████| 1/1 [00:00<00:00,  2.96it/s]\u001b[A\u001b[A\n",
      "\n",
      " 13%|█▎        | 1268/10000 [13:50<59:50,  2.43it/s]  \u001b[A\n",
      "\n",
      "  0%|          | 0/1 [00:00<?, ?it/s]\u001b[A\u001b[A\n",
      "\n",
      "100%|██████████| 1/1 [00:00<00:00,  1.80it/s]\u001b[A\u001b[A\n",
      "\n",
      " 13%|█▎        | 1269/10000 [13:50<1:08:38,  2.12it/s]\u001b[A\n",
      "\n",
      "  0%|          | 0/1 [00:00<?, ?it/s]\u001b[A\u001b[A\n",
      "\n",
      "100%|██████████| 1/1 [00:00<00:00,  1.99it/s]\u001b[A\u001b[A\n",
      "\n",
      " 13%|█▎        | 1270/10000 [13:51<1:12:11,  2.02it/s]\u001b[A\n",
      "\n",
      "  0%|          | 0/1 [00:00<?, ?it/s]\u001b[A\u001b[A\n",
      "\n",
      "100%|██████████| 1/1 [00:00<00:00,  2.10it/s]\u001b[A\u001b[A\n",
      "\n",
      " 13%|█▎        | 1271/10000 [13:51<1:13:45,  1.97it/s]\u001b[A\n",
      "\n",
      "  0%|          | 0/1 [00:00<?, ?it/s]\u001b[A\u001b[A\n",
      "\n",
      "100%|██████████| 1/1 [00:00<00:00,  2.11it/s]\u001b[A\u001b[A\n",
      "\n",
      " 13%|█▎        | 1272/10000 [13:52<1:14:10,  1.96it/s]\u001b[A\n",
      "\n",
      "  0%|          | 0/1 [00:00<?, ?it/s]\u001b[A\u001b[A\n",
      "\n",
      "100%|██████████| 1/1 [00:00<00:00,  2.41it/s]\u001b[A\u001b[A\n",
      "\n",
      " 13%|█▎        | 1273/10000 [13:52<1:12:13,  2.01it/s]\u001b[A\n",
      "\n",
      "  0%|          | 0/1 [00:00<?, ?it/s]\u001b[A\u001b[A\n",
      "\n",
      "100%|██████████| 1/1 [00:00<00:00,  2.23it/s]\u001b[A\u001b[A\n",
      "\n",
      " 13%|█▎        | 1274/10000 [13:53<1:14:33,  1.95it/s]\u001b[A\n",
      "\n",
      "  0%|          | 0/1 [00:00<?, ?it/s]\u001b[A\u001b[A\n",
      "\n",
      "100%|██████████| 1/1 [00:00<00:00,  1.81it/s]\u001b[A\u001b[A\n",
      "\n",
      " 13%|█▎        | 1275/10000 [13:54<1:19:23,  1.83it/s]\u001b[A\n",
      "\n",
      "  0%|          | 0/1 [00:00<?, ?it/s]\u001b[A\u001b[A\n",
      "\n",
      "100%|██████████| 1/1 [00:00<00:00,  2.40it/s]\u001b[A\u001b[A\n",
      "\n",
      " 13%|█▎        | 1276/10000 [13:54<1:15:27,  1.93it/s]\u001b[A\n",
      "\n",
      "  0%|          | 0/1 [00:00<?, ?it/s]\u001b[A\u001b[A\n",
      "\n",
      "100%|██████████| 1/1 [00:00<00:00,  2.88it/s]\u001b[A\u001b[A\n",
      "\n",
      " 13%|█▎        | 1277/10000 [13:55<1:10:00,  2.08it/s]\u001b[A\n",
      "\n",
      "  0%|          | 0/1 [00:00<?, ?it/s]\u001b[A\u001b[A\n",
      "\n",
      "100%|██████████| 1/1 [00:00<00:00,  2.49it/s]\u001b[A\u001b[A\n",
      "\n",
      " 13%|█▎        | 1278/10000 [13:55<1:08:09,  2.13it/s]\u001b[A\n",
      "\n",
      "  0%|          | 0/1 [00:00<?, ?it/s]\u001b[A\u001b[A\n",
      "\n",
      "100%|██████████| 1/1 [00:00<00:00,  2.50it/s]\u001b[A\u001b[A\n",
      "\n",
      " 13%|█▎        | 1279/10000 [13:55<1:07:23,  2.16it/s]\u001b[A\n",
      "\n",
      "  0%|          | 0/1 [00:00<?, ?it/s]\u001b[A\u001b[A\n",
      "\n",
      "100%|██████████| 1/1 [00:00<00:00,  2.35it/s]\u001b[A\u001b[A\n",
      "\n",
      " 13%|█▎        | 1280/10000 [13:56<1:07:41,  2.15it/s]\u001b[A\n",
      "\n",
      "  0%|          | 0/1 [00:00<?, ?it/s]\u001b[A\u001b[A\n",
      "\n",
      "100%|██████████| 1/1 [00:00<00:00,  2.40it/s]\u001b[A\u001b[A\n",
      "\n",
      " 13%|█▎        | 1281/10000 [13:56<1:07:13,  2.16it/s]\u001b[A\n",
      "\n",
      "  0%|          | 0/1 [00:00<?, ?it/s]\u001b[A\u001b[A\n",
      "\n",
      "100%|██████████| 1/1 [00:00<00:00,  2.50it/s]\u001b[A\u001b[A\n",
      "\n",
      " 13%|█▎        | 1282/10000 [13:57<1:06:35,  2.18it/s]\u001b[A\n",
      "\n",
      "  0%|          | 0/1 [00:00<?, ?it/s]\u001b[A\u001b[A\n",
      "\n",
      "100%|██████████| 1/1 [00:00<00:00,  2.29it/s]\u001b[A\u001b[A\n",
      "\n",
      " 13%|█▎        | 1283/10000 [13:57<1:07:40,  2.15it/s]\u001b[A\n",
      "\n",
      "  0%|          | 0/1 [00:00<?, ?it/s]\u001b[A\u001b[A\n",
      "\n",
      "100%|██████████| 1/1 [00:00<00:00,  2.43it/s]\u001b[A\u001b[A\n",
      "\n",
      " 13%|█▎        | 1284/10000 [13:58<1:07:08,  2.16it/s]\u001b[A\n",
      "\n",
      "  0%|          | 0/1 [00:00<?, ?it/s]\u001b[A\u001b[A\n",
      "\n",
      "100%|██████████| 1/1 [00:00<00:00,  2.35it/s]\u001b[A\u001b[A\n",
      "\n",
      " 13%|█▎        | 1285/10000 [13:58<1:07:18,  2.16it/s]\u001b[A\n",
      "\n",
      "  0%|          | 0/1 [00:00<?, ?it/s]\u001b[A\u001b[A\n",
      "\n",
      "100%|██████████| 1/1 [00:00<00:00,  2.50it/s]\u001b[A\u001b[A\n",
      "\n",
      " 13%|█▎        | 1286/10000 [13:59<1:06:14,  2.19it/s]\u001b[A\n",
      "\n",
      "  0%|          | 0/1 [00:00<?, ?it/s]\u001b[A\u001b[A\n",
      "\n",
      "100%|██████████| 1/1 [00:00<00:00,  2.41it/s]\u001b[A\u001b[A\n",
      "\n",
      " 13%|█▎        | 1287/10000 [13:59<1:06:09,  2.19it/s]\u001b[A\n",
      "\n",
      "  0%|          | 0/1 [00:00<?, ?it/s]\u001b[A\u001b[A\n",
      "\n",
      "100%|██████████| 1/1 [00:00<00:00,  2.66it/s]\u001b[A\u001b[A\n",
      "\n",
      " 13%|█▎        | 1288/10000 [13:59<1:04:41,  2.24it/s]\u001b[A\n",
      "\n",
      "  0%|          | 0/1 [00:00<?, ?it/s]\u001b[A\u001b[A\n",
      "\n",
      "100%|██████████| 1/1 [00:00<00:00,  2.90it/s]\u001b[A\u001b[A\n",
      "\n",
      " 13%|█▎        | 1289/10000 [14:00<1:02:25,  2.33it/s]\u001b[A\n",
      "\n",
      "  0%|          | 0/1 [00:00<?, ?it/s]\u001b[A\u001b[A\n",
      "\n",
      "100%|██████████| 1/1 [00:00<00:00,  2.54it/s]\u001b[A\u001b[A\n",
      "\n",
      " 13%|█▎        | 1290/10000 [14:00<1:02:56,  2.31it/s]\u001b[A\n",
      "\n",
      "  0%|          | 0/1 [00:00<?, ?it/s]\u001b[A\u001b[A\n",
      "\n",
      "100%|██████████| 1/1 [00:00<00:00,  1.64it/s]\u001b[A\u001b[A\n",
      "\n",
      " 13%|█▎        | 1291/10000 [14:01<1:12:49,  1.99it/s]\u001b[A\n",
      "\n",
      "  0%|          | 0/1 [00:00<?, ?it/s]\u001b[A\u001b[A\n",
      "\n",
      "100%|██████████| 1/1 [00:00<00:00,  1.92it/s]\u001b[A\u001b[A\n",
      "\n",
      " 13%|█▎        | 1292/10000 [14:02<1:15:38,  1.92it/s]\u001b[A\n",
      "\n",
      "  0%|          | 0/1 [00:00<?, ?it/s]\u001b[A\u001b[A\n",
      "\n",
      "100%|██████████| 1/1 [00:00<00:00,  2.22it/s]\u001b[A\u001b[A\n",
      "\n",
      " 13%|█▎        | 1293/10000 [14:02<1:14:26,  1.95it/s]\u001b[A\n",
      "\n",
      "  0%|          | 0/1 [00:00<?, ?it/s]\u001b[A\u001b[A\n",
      "\n",
      "100%|██████████| 1/1 [00:00<00:00,  2.31it/s]\u001b[A\u001b[A\n",
      "\n",
      " 13%|█▎        | 1294/10000 [14:03<1:12:54,  1.99it/s]\u001b[A\n",
      "\n",
      "  0%|          | 0/1 [00:00<?, ?it/s]\u001b[A\u001b[A\n",
      "\n",
      "100%|██████████| 1/1 [00:00<00:00,  2.43it/s]\u001b[A\u001b[A\n",
      "\n",
      " 13%|█▎        | 1295/10000 [14:03<1:10:49,  2.05it/s]\u001b[A\n",
      "\n",
      "  0%|          | 0/1 [00:00<?, ?it/s]\u001b[A\u001b[A\n",
      "\n",
      "100%|██████████| 1/1 [00:00<00:00,  2.39it/s]\u001b[A\u001b[A\n",
      "\n",
      " 13%|█▎        | 1296/10000 [14:03<1:11:09,  2.04it/s]\u001b[A\n",
      "\n",
      "  0%|          | 0/1 [00:00<?, ?it/s]\u001b[A\u001b[A\n",
      "\n",
      "100%|██████████| 1/1 [00:00<00:00,  1.78it/s]\u001b[A\u001b[A\n",
      "\n",
      " 13%|█▎        | 1297/10000 [14:04<1:17:56,  1.86it/s]\u001b[A\n",
      "\n",
      "  0%|          | 0/1 [00:00<?, ?it/s]\u001b[A\u001b[A\n",
      "\n",
      "100%|██████████| 1/1 [00:00<00:00,  1.82it/s]\u001b[A\u001b[A\n",
      "\n",
      " 13%|█▎        | 1298/10000 [14:05<1:21:15,  1.78it/s]\u001b[A\n",
      "\n",
      "  0%|          | 0/1 [00:00<?, ?it/s]\u001b[A\u001b[A\n",
      "\n",
      "100%|██████████| 1/1 [00:00<00:00,  1.98it/s]\u001b[A\u001b[A\n",
      "\n",
      " 13%|█▎        | 1299/10000 [14:05<1:21:03,  1.79it/s]\u001b[A\n",
      "\n",
      "  0%|          | 0/1 [00:00<?, ?it/s]\u001b[A\u001b[A\n",
      "\n",
      "100%|██████████| 1/1 [00:00<00:00,  2.01it/s]\u001b[A\u001b[A\n",
      "\n",
      " 13%|█▎        | 1300/10000 [14:06<1:20:56,  1.79it/s]\u001b[A\n",
      "\n",
      "  0%|          | 0/1 [00:00<?, ?it/s]\u001b[A\u001b[A\n",
      "\n",
      "100%|██████████| 1/1 [00:00<00:00,  2.12it/s]\u001b[A\u001b[A\n",
      "\n",
      " 13%|█▎        | 1301/10000 [14:06<1:19:18,  1.83it/s]\u001b[A\n",
      "\n",
      "  0%|          | 0/1 [00:00<?, ?it/s]\u001b[A\u001b[A\n",
      "\n",
      "100%|██████████| 1/1 [00:00<00:00,  2.12it/s]\u001b[A\u001b[A\n",
      "\n",
      " 13%|█▎        | 1302/10000 [14:07<1:18:04,  1.86it/s]\u001b[A\n",
      "\n",
      "  0%|          | 0/1 [00:00<?, ?it/s]\u001b[A\u001b[A\n",
      "\n",
      "100%|██████████| 1/1 [00:00<00:00,  2.39it/s]\u001b[A\u001b[A\n",
      "\n",
      " 13%|█▎        | 1303/10000 [14:07<1:15:02,  1.93it/s]\u001b[A\n",
      "\n",
      "  0%|          | 0/1 [00:00<?, ?it/s]\u001b[A\u001b[A\n",
      "\n",
      "100%|██████████| 1/1 [00:00<00:00,  2.38it/s]\u001b[A\u001b[A\n",
      "\n",
      " 13%|█▎        | 1304/10000 [14:08<1:13:18,  1.98it/s]\u001b[A\n",
      "\n",
      "  0%|          | 0/1 [00:00<?, ?it/s]\u001b[A\u001b[A\n",
      "\n",
      "100%|██████████| 1/1 [00:00<00:00,  2.14it/s]\u001b[A\u001b[A\n",
      "\n",
      " 13%|█▎        | 1305/10000 [14:08<1:14:01,  1.96it/s]\u001b[A\n",
      "\n",
      "  0%|          | 0/1 [00:00<?, ?it/s]\u001b[A\u001b[A\n",
      "\n",
      "100%|██████████| 1/1 [00:00<00:00,  2.07it/s]\u001b[A\u001b[A\n",
      "\n",
      " 13%|█▎        | 1306/10000 [14:09<1:14:30,  1.94it/s]\u001b[A\n",
      "\n",
      "  0%|          | 0/1 [00:00<?, ?it/s]\u001b[A\u001b[A\n",
      "\n",
      "100%|██████████| 1/1 [00:00<00:00,  2.52it/s]\u001b[A\u001b[A\n",
      "\n",
      " 13%|█▎        | 1307/10000 [14:09<1:11:27,  2.03it/s]\u001b[A\n",
      "\n",
      "  0%|          | 0/1 [00:00<?, ?it/s]\u001b[A\u001b[A\n",
      "\n",
      "100%|██████████| 1/1 [00:00<00:00,  2.13it/s]\u001b[A\u001b[A\n",
      "\n",
      " 13%|█▎        | 1308/10000 [14:10<1:12:11,  2.01it/s]\u001b[A\n",
      "\n",
      "  0%|          | 0/1 [00:00<?, ?it/s]\u001b[A\u001b[A\n",
      "\n",
      "100%|██████████| 1/1 [00:00<00:00,  2.15it/s]\u001b[A\u001b[A\n",
      "\n",
      " 13%|█▎        | 1309/10000 [14:10<1:12:54,  1.99it/s]\u001b[A\n",
      "\n",
      "  0%|          | 0/1 [00:00<?, ?it/s]\u001b[A\u001b[A\n",
      "\n",
      "100%|██████████| 1/1 [00:00<00:00,  2.01it/s]\u001b[A\u001b[A\n",
      "\n",
      " 13%|█▎        | 1310/10000 [14:11<1:15:27,  1.92it/s]\u001b[A\n",
      "\n",
      "  0%|          | 0/1 [00:00<?, ?it/s]\u001b[A\u001b[A\n",
      "\n",
      "100%|██████████| 1/1 [00:00<00:00,  2.35it/s]\u001b[A\u001b[A\n",
      "\n",
      " 13%|█▎        | 1311/10000 [14:11<1:13:55,  1.96it/s]\u001b[A\n",
      "\n",
      "  0%|          | 0/1 [00:00<?, ?it/s]\u001b[A\u001b[A\n",
      "\n",
      "100%|██████████| 1/1 [00:00<00:00,  2.40it/s]\u001b[A\u001b[A\n",
      "\n",
      " 13%|█▎        | 1312/10000 [14:12<1:11:49,  2.02it/s]\u001b[A\n",
      "\n",
      "  0%|          | 0/1 [00:00<?, ?it/s]\u001b[A\u001b[A\n",
      "\n",
      "100%|██████████| 1/1 [00:00<00:00,  2.83it/s]\u001b[A\u001b[A\n",
      "\n",
      " 13%|█▎        | 1313/10000 [14:12<1:07:34,  2.14it/s]\u001b[A\n",
      "\n"
     ]
    },
    {
     "name": "stderr",
     "output_type": "stream",
     "text": [
      "  0%|          | 0/1 [00:00<?, ?it/s]\u001b[A\u001b[A\n",
      "\n",
      "100%|██████████| 1/1 [00:00<00:00,  2.72it/s]\u001b[A\u001b[A\n",
      "\n",
      " 13%|█▎        | 1314/10000 [14:13<1:06:38,  2.17it/s]\u001b[A"
     ]
    },
    {
     "name": "stdout",
     "output_type": "stream",
     "text": [
      "\n",
      "Epoch: 1314, Loss: 0.3873, Val: 0.7043, Test: 0.7094\n"
     ]
    },
    {
     "name": "stderr",
     "output_type": "stream",
     "text": [
      "\n",
      "\n",
      "  0%|          | 0/1 [00:00<?, ?it/s]\u001b[A\u001b[A\n",
      "\n",
      "100%|██████████| 1/1 [00:00<00:00,  2.64it/s]\u001b[A\u001b[A\n",
      "\n",
      " 13%|█▎        | 1315/10000 [14:13<1:05:01,  2.23it/s]\u001b[A\n",
      "\n",
      "  0%|          | 0/1 [00:00<?, ?it/s]\u001b[A\u001b[A\n",
      "\n",
      "100%|██████████| 1/1 [00:00<00:00,  2.57it/s]\u001b[A\u001b[A\n",
      "\n",
      " 13%|█▎        | 1316/10000 [14:14<1:04:03,  2.26it/s]\u001b[A\n",
      "\n",
      "  0%|          | 0/1 [00:00<?, ?it/s]\u001b[A\u001b[A\n",
      "\n",
      "100%|██████████| 1/1 [00:00<00:00,  2.46it/s]\u001b[A\u001b[A\n",
      "\n",
      " 13%|█▎        | 1317/10000 [14:14<1:04:44,  2.24it/s]\u001b[A\n",
      "\n",
      "  0%|          | 0/1 [00:00<?, ?it/s]\u001b[A\u001b[A\n",
      "\n",
      "100%|██████████| 1/1 [00:00<00:00,  2.33it/s]\u001b[A\u001b[A\n",
      "\n",
      " 13%|█▎        | 1318/10000 [14:14<1:05:36,  2.21it/s]\u001b[A\n",
      "\n",
      "  0%|          | 0/1 [00:00<?, ?it/s]\u001b[A\u001b[A\n",
      "\n",
      "100%|██████████| 1/1 [00:00<00:00,  2.77it/s]\u001b[A\u001b[A\n",
      "\n",
      " 13%|█▎        | 1319/10000 [14:15<1:03:05,  2.29it/s]\u001b[A\n",
      "\n",
      "  0%|          | 0/1 [00:00<?, ?it/s]\u001b[A\u001b[A\n",
      "\n",
      "100%|██████████| 1/1 [00:00<00:00,  2.66it/s]\u001b[A\u001b[A\n",
      "\n",
      " 13%|█▎        | 1320/10000 [14:15<1:02:01,  2.33it/s]\u001b[A\n",
      "\n",
      "  0%|          | 0/1 [00:00<?, ?it/s]\u001b[A\u001b[A\n",
      "\n",
      "100%|██████████| 1/1 [00:00<00:00,  2.57it/s]\u001b[A\u001b[A\n",
      "\n",
      " 13%|█▎        | 1321/10000 [14:16<1:01:58,  2.33it/s]\u001b[A\n",
      "\n",
      "  0%|          | 0/1 [00:00<?, ?it/s]\u001b[A\u001b[A\n",
      "\n",
      "100%|██████████| 1/1 [00:00<00:00,  2.65it/s]\u001b[A\u001b[A\n",
      "\n",
      " 13%|█▎        | 1322/10000 [14:16<1:01:25,  2.35it/s]\u001b[A\n",
      "\n",
      "  0%|          | 0/1 [00:00<?, ?it/s]\u001b[A\u001b[A\n",
      "\n",
      "100%|██████████| 1/1 [00:00<00:00,  2.62it/s]\u001b[A\u001b[A\n",
      "\n",
      " 13%|█▎        | 1323/10000 [14:17<1:01:06,  2.37it/s]\u001b[A\n",
      "\n",
      "  0%|          | 0/1 [00:00<?, ?it/s]\u001b[A\u001b[A\n",
      "\n",
      "100%|██████████| 1/1 [00:00<00:00,  2.72it/s]\u001b[A\u001b[A\n",
      "\n",
      " 13%|█▎        | 1324/10000 [14:17<1:00:15,  2.40it/s]\u001b[A\n",
      "\n",
      "  0%|          | 0/1 [00:00<?, ?it/s]\u001b[A\u001b[A\n",
      "\n",
      "100%|██████████| 1/1 [00:00<00:00,  2.62it/s]\u001b[A\u001b[A\n",
      "\n",
      " 13%|█▎        | 1325/10000 [14:17<1:00:15,  2.40it/s]\u001b[A\n",
      "\n",
      "  0%|          | 0/1 [00:00<?, ?it/s]\u001b[A\u001b[A\n",
      "\n",
      "100%|██████████| 1/1 [00:00<00:00,  2.70it/s]\u001b[A\u001b[A\n",
      "\n",
      " 13%|█▎        | 1326/10000 [14:18<1:01:00,  2.37it/s]\u001b[A"
     ]
    },
    {
     "name": "stdout",
     "output_type": "stream",
     "text": [
      "\n",
      "Epoch: 1326, Loss: 0.3874, Val: 0.7045, Test: 0.7112\n"
     ]
    },
    {
     "name": "stderr",
     "output_type": "stream",
     "text": [
      "\n",
      "\n",
      "  0%|          | 0/1 [00:00<?, ?it/s]\u001b[A\u001b[A\n",
      "\n",
      "100%|██████████| 1/1 [00:00<00:00,  2.75it/s]\u001b[A\u001b[A\n",
      "\n",
      " 13%|█▎        | 1327/10000 [14:18<1:01:50,  2.34it/s]\u001b[A"
     ]
    },
    {
     "name": "stdout",
     "output_type": "stream",
     "text": [
      "\n",
      "Epoch: 1327, Loss: 0.3874, Val: 0.7050, Test: 0.7108\n"
     ]
    },
    {
     "name": "stderr",
     "output_type": "stream",
     "text": [
      "\n",
      "\n",
      "  0%|          | 0/1 [00:00<?, ?it/s]\u001b[A\u001b[A\n",
      "\n",
      "100%|██████████| 1/1 [00:00<00:00,  2.74it/s]\u001b[A\u001b[A\n",
      "\n",
      " 13%|█▎        | 1328/10000 [14:19<1:00:48,  2.38it/s]\u001b[A\n",
      "\n",
      "  0%|          | 0/1 [00:00<?, ?it/s]\u001b[A\u001b[A\n",
      "\n",
      "100%|██████████| 1/1 [00:00<00:00,  2.83it/s]\u001b[A\u001b[A\n",
      "\n",
      " 13%|█▎        | 1329/10000 [14:19<59:27,  2.43it/s]  \u001b[A\n",
      "\n",
      "  0%|          | 0/1 [00:00<?, ?it/s]\u001b[A\u001b[A\n",
      "\n",
      "100%|██████████| 1/1 [00:00<00:00,  2.58it/s]\u001b[A\u001b[A\n",
      "\n",
      " 13%|█▎        | 1330/10000 [14:19<1:00:19,  2.40it/s]\u001b[A\n",
      "\n",
      "  0%|          | 0/1 [00:00<?, ?it/s]\u001b[A\u001b[A\n",
      "\n",
      "100%|██████████| 1/1 [00:00<00:00,  2.81it/s]\u001b[A\u001b[A\n",
      "\n",
      " 13%|█▎        | 1331/10000 [14:20<59:12,  2.44it/s]  \u001b[A\n",
      "\n",
      "  0%|          | 0/1 [00:00<?, ?it/s]\u001b[A\u001b[A\n",
      "\n",
      "100%|██████████| 1/1 [00:00<00:00,  2.63it/s]\u001b[A\u001b[A\n",
      "\n",
      " 13%|█▎        | 1332/10000 [14:20<59:31,  2.43it/s]\u001b[A\n",
      "\n",
      "  0%|          | 0/1 [00:00<?, ?it/s]\u001b[A\u001b[A\n",
      "\n",
      "100%|██████████| 1/1 [00:00<00:00,  2.68it/s]\u001b[A\u001b[A\n",
      "\n",
      " 13%|█▎        | 1333/10000 [14:21<59:31,  2.43it/s]\u001b[A\n",
      "\n",
      "  0%|          | 0/1 [00:00<?, ?it/s]\u001b[A\u001b[A\n",
      "\n",
      "100%|██████████| 1/1 [00:00<00:00,  2.60it/s]\u001b[A\u001b[A\n",
      "\n",
      " 13%|█▎        | 1334/10000 [14:21<1:00:50,  2.37it/s]\u001b[A\n",
      "\n",
      "  0%|          | 0/1 [00:00<?, ?it/s]\u001b[A\u001b[A\n",
      "\n",
      "100%|██████████| 1/1 [00:00<00:00,  2.61it/s]\u001b[A\u001b[A\n",
      "\n",
      " 13%|█▎        | 1335/10000 [14:22<1:00:48,  2.38it/s]\u001b[A\n",
      "\n",
      "  0%|          | 0/1 [00:00<?, ?it/s]\u001b[A\u001b[A\n",
      "\n",
      "100%|██████████| 1/1 [00:00<00:00,  2.69it/s]\u001b[A\u001b[A\n",
      "\n",
      " 13%|█▎        | 1336/10000 [14:22<1:00:30,  2.39it/s]\u001b[A\n",
      "\n",
      "  0%|          | 0/1 [00:00<?, ?it/s]\u001b[A\u001b[A\n",
      "\n",
      "100%|██████████| 1/1 [00:00<00:00,  2.67it/s]\u001b[A\u001b[A\n",
      "\n",
      " 13%|█▎        | 1337/10000 [14:22<1:00:09,  2.40it/s]\u001b[A\n",
      "\n",
      "  0%|          | 0/1 [00:00<?, ?it/s]\u001b[A\u001b[A\n",
      "\n",
      "100%|██████████| 1/1 [00:00<00:00,  2.62it/s]\u001b[A\u001b[A\n",
      "\n",
      " 13%|█▎        | 1338/10000 [14:23<1:00:08,  2.40it/s]\u001b[A\n",
      "\n",
      "  0%|          | 0/1 [00:00<?, ?it/s]\u001b[A\u001b[A\n",
      "\n",
      "100%|██████████| 1/1 [00:00<00:00,  2.29it/s]\u001b[A\u001b[A\n",
      "\n",
      " 13%|█▎        | 1339/10000 [14:23<1:02:48,  2.30it/s]\u001b[A\n",
      "\n",
      "  0%|          | 0/1 [00:00<?, ?it/s]\u001b[A\u001b[A\n",
      "\n",
      "100%|██████████| 1/1 [00:00<00:00,  2.62it/s]\u001b[A\u001b[A\n",
      "\n",
      " 13%|█▎        | 1340/10000 [14:24<1:02:50,  2.30it/s]\u001b[A\n",
      "\n",
      "  0%|          | 0/1 [00:00<?, ?it/s]\u001b[A\u001b[A\n",
      "\n",
      "100%|██████████| 1/1 [00:00<00:00,  1.87it/s]\u001b[A\u001b[A\n",
      "\n",
      " 13%|█▎        | 1341/10000 [14:24<1:08:54,  2.09it/s]\u001b[A\n",
      "\n",
      "  0%|          | 0/1 [00:00<?, ?it/s]\u001b[A\u001b[A\n",
      "\n",
      "100%|██████████| 1/1 [00:00<00:00,  2.67it/s]\u001b[A\u001b[A\n",
      "\n",
      " 13%|█▎        | 1342/10000 [14:25<1:09:25,  2.08it/s]\u001b[A\n",
      "\n",
      "  0%|          | 0/1 [00:00<?, ?it/s]\u001b[A\u001b[A\n",
      "\n",
      "100%|██████████| 1/1 [00:00<00:00,  2.66it/s]\u001b[A\u001b[A\n",
      "\n",
      " 13%|█▎        | 1343/10000 [14:25<1:06:45,  2.16it/s]\u001b[A\n",
      "\n",
      "  0%|          | 0/1 [00:00<?, ?it/s]\u001b[A\u001b[A\n",
      "\n",
      "100%|██████████| 1/1 [00:00<00:00,  2.69it/s]\u001b[A\u001b[A\n",
      "\n",
      " 13%|█▎        | 1344/10000 [14:26<1:04:24,  2.24it/s]\u001b[A\n",
      "\n",
      "  0%|          | 0/1 [00:00<?, ?it/s]\u001b[A\u001b[A\n",
      "\n",
      "100%|██████████| 1/1 [00:00<00:00,  2.79it/s]\u001b[A\u001b[A\n",
      "\n",
      " 13%|█▎        | 1345/10000 [14:26<1:02:07,  2.32it/s]\u001b[A\n",
      "\n",
      "  0%|          | 0/1 [00:00<?, ?it/s]\u001b[A\u001b[A\n",
      "\n",
      "100%|██████████| 1/1 [00:00<00:00,  2.36it/s]\u001b[A\u001b[A\n",
      "\n",
      " 13%|█▎        | 1346/10000 [14:26<1:03:33,  2.27it/s]\u001b[A\n",
      "\n",
      "  0%|          | 0/1 [00:00<?, ?it/s]\u001b[A\u001b[A\n",
      "\n",
      "100%|██████████| 1/1 [00:00<00:00,  2.07it/s]\u001b[A\u001b[A\n",
      "\n",
      " 13%|█▎        | 1347/10000 [14:27<1:07:06,  2.15it/s]\u001b[A\n",
      "\n",
      "  0%|          | 0/1 [00:00<?, ?it/s]\u001b[A\u001b[A\n",
      "\n",
      "100%|██████████| 1/1 [00:00<00:00,  2.78it/s]\u001b[A\u001b[A\n",
      "\n",
      " 13%|█▎        | 1348/10000 [14:27<1:05:29,  2.20it/s]\u001b[A\n",
      "\n",
      "  0%|          | 0/1 [00:00<?, ?it/s]\u001b[A\u001b[A\n",
      "\n",
      "100%|██████████| 1/1 [00:00<00:00,  2.53it/s]\u001b[A\u001b[A\n",
      "\n",
      " 13%|█▎        | 1349/10000 [14:28<1:04:41,  2.23it/s]\u001b[A\n",
      "\n",
      "  0%|          | 0/1 [00:00<?, ?it/s]\u001b[A\u001b[A\n",
      "\n",
      "100%|██████████| 1/1 [00:00<00:00,  2.49it/s]\u001b[A\u001b[A\n",
      "\n",
      " 14%|█▎        | 1350/10000 [14:28<1:04:21,  2.24it/s]\u001b[A\n",
      "\n",
      "  0%|          | 0/1 [00:00<?, ?it/s]\u001b[A\u001b[A\n",
      "\n",
      "100%|██████████| 1/1 [00:00<00:00,  2.69it/s]\u001b[A\u001b[A\n",
      "\n",
      " 14%|█▎        | 1351/10000 [14:29<1:02:58,  2.29it/s]\u001b[A\n",
      "\n",
      "  0%|          | 0/1 [00:00<?, ?it/s]\u001b[A\u001b[A\n",
      "\n",
      "100%|██████████| 1/1 [00:00<00:00,  2.78it/s]\u001b[A\u001b[A\n",
      "\n",
      " 14%|█▎        | 1352/10000 [14:29<1:01:37,  2.34it/s]\u001b[A\n",
      "\n",
      "  0%|          | 0/1 [00:00<?, ?it/s]\u001b[A\u001b[A\n",
      "\n",
      "100%|██████████| 1/1 [00:00<00:00,  2.45it/s]\u001b[A\u001b[A\n",
      "\n",
      " 14%|█▎        | 1353/10000 [14:30<1:02:26,  2.31it/s]\u001b[A\n",
      "\n",
      "  0%|          | 0/1 [00:00<?, ?it/s]\u001b[A\u001b[A\n",
      "\n",
      "100%|██████████| 1/1 [00:00<00:00,  2.64it/s]\u001b[A\u001b[A\n",
      "\n",
      " 14%|█▎        | 1354/10000 [14:30<1:01:49,  2.33it/s]\u001b[A\n",
      "\n",
      "  0%|          | 0/1 [00:00<?, ?it/s]\u001b[A\u001b[A\n",
      "\n",
      "100%|██████████| 1/1 [00:00<00:00,  2.59it/s]\u001b[A\u001b[A\n",
      "\n",
      " 14%|█▎        | 1355/10000 [14:30<1:01:35,  2.34it/s]\u001b[A\n",
      "\n",
      "  0%|          | 0/1 [00:00<?, ?it/s]\u001b[A\u001b[A\n",
      "\n",
      "100%|██████████| 1/1 [00:00<00:00,  2.52it/s]\u001b[A\u001b[A\n",
      "\n",
      " 14%|█▎        | 1356/10000 [14:31<1:02:10,  2.32it/s]\u001b[A\n",
      "\n",
      "  0%|          | 0/1 [00:00<?, ?it/s]\u001b[A\u001b[A\n",
      "\n",
      "100%|██████████| 1/1 [00:00<00:00,  2.31it/s]\u001b[A\u001b[A\n",
      "\n",
      " 14%|█▎        | 1357/10000 [14:31<1:04:04,  2.25it/s]\u001b[A\n",
      "\n",
      "  0%|          | 0/1 [00:00<?, ?it/s]\u001b[A\u001b[A\n",
      "\n",
      "100%|██████████| 1/1 [00:00<00:00,  2.40it/s]\u001b[A\u001b[A\n",
      "\n",
      " 14%|█▎        | 1358/10000 [14:32<1:04:33,  2.23it/s]\u001b[A\n",
      "\n",
      "  0%|          | 0/1 [00:00<?, ?it/s]\u001b[A\u001b[A\n",
      "\n",
      "100%|██████████| 1/1 [00:00<00:00,  2.96it/s]\u001b[A\u001b[A\n",
      "\n",
      " 14%|█▎        | 1359/10000 [14:32<1:01:19,  2.35it/s]\u001b[A\n",
      "\n",
      "  0%|          | 0/1 [00:00<?, ?it/s]\u001b[A\u001b[A\n",
      "\n",
      "100%|██████████| 1/1 [00:00<00:00,  2.92it/s]\u001b[A\u001b[A\n",
      "\n",
      " 14%|█▎        | 1360/10000 [14:33<59:14,  2.43it/s]  \u001b[A\n",
      "\n",
      "  0%|          | 0/1 [00:00<?, ?it/s]\u001b[A\u001b[A\n",
      "\n",
      "100%|██████████| 1/1 [00:00<00:00,  2.87it/s]\u001b[A\u001b[A\n",
      "\n",
      " 14%|█▎        | 1361/10000 [14:33<57:56,  2.48it/s]\u001b[A\n",
      "\n",
      "  0%|          | 0/1 [00:00<?, ?it/s]\u001b[A\u001b[A\n",
      "\n",
      "100%|██████████| 1/1 [00:00<00:00,  2.83it/s]\u001b[A\u001b[A\n",
      "\n",
      " 14%|█▎        | 1362/10000 [14:33<57:29,  2.50it/s]\u001b[A\n",
      "\n",
      "  0%|          | 0/1 [00:00<?, ?it/s]\u001b[A\u001b[A\n",
      "\n",
      "100%|██████████| 1/1 [00:00<00:00,  2.87it/s]\u001b[A\u001b[A\n",
      "\n",
      " 14%|█▎        | 1363/10000 [14:34<56:45,  2.54it/s]\u001b[A\n",
      "\n",
      "  0%|          | 0/1 [00:00<?, ?it/s]\u001b[A\u001b[A\n",
      "\n",
      "100%|██████████| 1/1 [00:00<00:00,  2.79it/s]\u001b[A\u001b[A\n",
      "\n",
      " 14%|█▎        | 1364/10000 [14:34<56:49,  2.53it/s]\u001b[A\n",
      "\n",
      "  0%|          | 0/1 [00:00<?, ?it/s]\u001b[A\u001b[A\n",
      "\n",
      "100%|██████████| 1/1 [00:00<00:00,  2.85it/s]\u001b[A\u001b[A\n",
      "\n",
      " 14%|█▎        | 1365/10000 [14:34<56:33,  2.54it/s]\u001b[A\n",
      "\n",
      "  0%|          | 0/1 [00:00<?, ?it/s]\u001b[A\u001b[A\n",
      "\n",
      "100%|██████████| 1/1 [00:00<00:00,  2.54it/s]\u001b[A\u001b[A\n",
      "\n",
      " 14%|█▎        | 1366/10000 [14:35<58:13,  2.47it/s]\u001b[A\n",
      "\n",
      "  0%|          | 0/1 [00:00<?, ?it/s]\u001b[A\u001b[A\n",
      "\n",
      "100%|██████████| 1/1 [00:00<00:00,  3.01it/s]\u001b[A\u001b[A\n",
      "\n",
      " 14%|█▎        | 1367/10000 [14:35<56:41,  2.54it/s]\u001b[A\n",
      "\n",
      "  0%|          | 0/1 [00:00<?, ?it/s]\u001b[A\u001b[A\n",
      "\n",
      "100%|██████████| 1/1 [00:00<00:00,  2.50it/s]\u001b[A\u001b[A\n",
      "\n",
      " 14%|█▎        | 1368/10000 [14:36<58:27,  2.46it/s]\u001b[A\n",
      "\n",
      "  0%|          | 0/1 [00:00<?, ?it/s]\u001b[A\u001b[A\n",
      "\n",
      "100%|██████████| 1/1 [00:00<00:00,  2.81it/s]\u001b[A\u001b[A\n",
      "\n",
      " 14%|█▎        | 1369/10000 [14:36<57:56,  2.48it/s]\u001b[A\n",
      "\n",
      "  0%|          | 0/1 [00:00<?, ?it/s]\u001b[A\u001b[A\n",
      "\n",
      "100%|██████████| 1/1 [00:00<00:00,  2.08it/s]\u001b[A\u001b[A\n",
      "\n",
      " 14%|█▎        | 1370/10000 [14:37<1:03:27,  2.27it/s]\u001b[A\n",
      "\n",
      "  0%|          | 0/1 [00:00<?, ?it/s]\u001b[A\u001b[A\n",
      "\n",
      "100%|██████████| 1/1 [00:00<00:00,  2.49it/s]\u001b[A\u001b[A\n",
      "\n",
      " 14%|█▎        | 1371/10000 [14:37<1:03:18,  2.27it/s]\u001b[A\n",
      "\n",
      "  0%|          | 0/1 [00:00<?, ?it/s]\u001b[A\u001b[A\n",
      "\n",
      "100%|██████████| 1/1 [00:00<00:00,  2.07it/s]\u001b[A\u001b[A\n",
      "\n",
      " 14%|█▎        | 1372/10000 [14:38<1:07:13,  2.14it/s]\u001b[A\n",
      "\n",
      "  0%|          | 0/1 [00:00<?, ?it/s]\u001b[A\u001b[A\n",
      "\n",
      "100%|██████████| 1/1 [00:00<00:00,  2.05it/s]\u001b[A\u001b[A\n",
      "\n",
      " 14%|█▎        | 1373/10000 [14:38<1:09:46,  2.06it/s]\u001b[A\n",
      "\n",
      "  0%|          | 0/1 [00:00<?, ?it/s]\u001b[A\u001b[A\n",
      "\n",
      "100%|██████████| 1/1 [00:00<00:00,  2.17it/s]\u001b[A\u001b[A\n",
      "\n",
      " 14%|█▎        | 1374/10000 [14:39<1:10:24,  2.04it/s]\u001b[A\n",
      "\n",
      "  0%|          | 0/1 [00:00<?, ?it/s]\u001b[A\u001b[A\n",
      "\n",
      "100%|██████████| 1/1 [00:00<00:00,  2.25it/s]\u001b[A\u001b[A\n",
      "\n",
      " 14%|█▍        | 1375/10000 [14:39<1:10:21,  2.04it/s]\u001b[A\n",
      "\n",
      "  0%|          | 0/1 [00:00<?, ?it/s]\u001b[A\u001b[A\n",
      "\n",
      "100%|██████████| 1/1 [00:00<00:00,  1.74it/s]\u001b[A\u001b[A\n",
      "\n",
      " 14%|█▍        | 1376/10000 [14:40<1:16:00,  1.89it/s]\u001b[A\n",
      "\n",
      "  0%|          | 0/1 [00:00<?, ?it/s]\u001b[A\u001b[A\n",
      "\n",
      "100%|██████████| 1/1 [00:00<00:00,  1.51it/s]\u001b[A\u001b[A\n",
      "\n",
      " 14%|█▍        | 1377/10000 [14:40<1:23:47,  1.72it/s]\u001b[A\n",
      "\n",
      "  0%|          | 0/1 [00:00<?, ?it/s]\u001b[A\u001b[A\n",
      "\n",
      "100%|██████████| 1/1 [00:00<00:00,  2.12it/s]\u001b[A\u001b[A\n",
      "\n",
      " 14%|█▍        | 1378/10000 [14:41<1:20:42,  1.78it/s]\u001b[A\n",
      "\n",
      "  0%|          | 0/1 [00:00<?, ?it/s]\u001b[A\u001b[A\n",
      "\n",
      "100%|██████████| 1/1 [00:00<00:00,  2.10it/s]\u001b[A\u001b[A\n",
      "\n",
      " 14%|█▍        | 1379/10000 [14:41<1:19:01,  1.82it/s]\u001b[A\n",
      "\n",
      "  0%|          | 0/1 [00:00<?, ?it/s]\u001b[A\u001b[A\n",
      "\n"
     ]
    },
    {
     "name": "stderr",
     "output_type": "stream",
     "text": [
      "100%|██████████| 1/1 [00:00<00:00,  1.94it/s]\u001b[A\u001b[A\n",
      "\n",
      " 14%|█▍        | 1380/10000 [14:42<1:19:13,  1.81it/s]\u001b[A\n",
      "\n",
      "  0%|          | 0/1 [00:00<?, ?it/s]\u001b[A\u001b[A\n",
      "\n",
      "100%|██████████| 1/1 [00:00<00:00,  2.19it/s]\u001b[A\u001b[A\n",
      "\n",
      " 14%|█▍        | 1381/10000 [14:43<1:17:10,  1.86it/s]\u001b[A\n",
      "\n",
      "  0%|          | 0/1 [00:00<?, ?it/s]\u001b[A\u001b[A\n",
      "\n",
      "100%|██████████| 1/1 [00:00<00:00,  1.49it/s]\u001b[A\u001b[A\n",
      "\n",
      " 14%|█▍        | 1382/10000 [14:43<1:24:49,  1.69it/s]\u001b[A\n",
      "\n",
      "  0%|          | 0/1 [00:00<?, ?it/s]\u001b[A\u001b[A\n",
      "\n",
      "100%|██████████| 1/1 [00:00<00:00,  2.12it/s]\u001b[A\u001b[A\n",
      "\n",
      " 14%|█▍        | 1383/10000 [14:44<1:21:17,  1.77it/s]\u001b[A\n",
      "\n",
      "  0%|          | 0/1 [00:00<?, ?it/s]\u001b[A\u001b[A\n",
      "\n",
      "100%|██████████| 1/1 [00:00<00:00,  2.22it/s]\u001b[A\u001b[A\n",
      "\n",
      " 14%|█▍        | 1384/10000 [14:44<1:17:56,  1.84it/s]\u001b[A\n",
      "\n",
      "  0%|          | 0/1 [00:00<?, ?it/s]\u001b[A\u001b[A\n",
      "\n",
      "100%|██████████| 1/1 [00:00<00:00,  2.76it/s]\u001b[A\u001b[A\n",
      "\n",
      " 14%|█▍        | 1385/10000 [14:45<1:11:43,  2.00it/s]\u001b[A\n",
      "\n",
      "  0%|          | 0/1 [00:00<?, ?it/s]\u001b[A\u001b[A\n",
      "\n",
      "100%|██████████| 1/1 [00:00<00:00,  2.95it/s]\u001b[A\u001b[A\n",
      "\n",
      " 14%|█▍        | 1386/10000 [14:45<1:07:33,  2.13it/s]\u001b[A\n",
      "\n",
      "  0%|          | 0/1 [00:00<?, ?it/s]\u001b[A\u001b[A\n",
      "\n",
      "100%|██████████| 1/1 [00:00<00:00,  2.25it/s]\u001b[A\u001b[A\n",
      "\n",
      " 14%|█▍        | 1387/10000 [14:46<1:09:09,  2.08it/s]\u001b[A\n",
      "\n",
      "  0%|          | 0/1 [00:00<?, ?it/s]\u001b[A\u001b[A\n",
      "\n",
      "100%|██████████| 1/1 [00:00<00:00,  2.34it/s]\u001b[A\u001b[A\n",
      "\n",
      " 14%|█▍        | 1388/10000 [14:46<1:08:32,  2.09it/s]\u001b[A\n",
      "\n",
      "  0%|          | 0/1 [00:00<?, ?it/s]\u001b[A\u001b[A\n",
      "\n",
      "100%|██████████| 1/1 [00:00<00:00,  2.58it/s]\u001b[A\u001b[A\n",
      "\n",
      " 14%|█▍        | 1389/10000 [14:46<1:06:34,  2.16it/s]\u001b[A\n",
      "\n",
      "  0%|          | 0/1 [00:00<?, ?it/s]\u001b[A\u001b[A\n",
      "\n",
      "100%|██████████| 1/1 [00:00<00:00,  2.03it/s]\u001b[A\u001b[A\n",
      "\n",
      " 14%|█▍        | 1390/10000 [14:47<1:10:40,  2.03it/s]\u001b[A\n",
      "\n",
      "  0%|          | 0/1 [00:00<?, ?it/s]\u001b[A\u001b[A\n",
      "\n",
      "100%|██████████| 1/1 [00:00<00:00,  1.64it/s]\u001b[A\u001b[A\n",
      "\n",
      " 14%|█▍        | 1391/10000 [14:48<1:18:24,  1.83it/s]\u001b[A\n",
      "\n",
      "  0%|          | 0/1 [00:00<?, ?it/s]\u001b[A\u001b[A\n",
      "\n",
      "100%|██████████| 1/1 [00:00<00:00,  2.14it/s]\u001b[A\u001b[A\n",
      "\n",
      " 14%|█▍        | 1392/10000 [14:48<1:17:30,  1.85it/s]\u001b[A\n",
      "\n",
      "  0%|          | 0/1 [00:00<?, ?it/s]\u001b[A\u001b[A\n",
      "\n",
      "100%|██████████| 1/1 [00:00<00:00,  1.65it/s]\u001b[A\u001b[A\n",
      "\n",
      " 14%|█▍        | 1393/10000 [14:49<1:22:49,  1.73it/s]\u001b[A\n",
      "\n",
      "  0%|          | 0/1 [00:00<?, ?it/s]\u001b[A\u001b[A\n",
      "\n",
      "100%|██████████| 1/1 [00:00<00:00,  2.20it/s]\u001b[A\u001b[A\n",
      "\n",
      " 14%|█▍        | 1394/10000 [14:49<1:20:42,  1.78it/s]\u001b[A\n",
      "\n",
      "  0%|          | 0/1 [00:00<?, ?it/s]\u001b[A\u001b[A\n",
      "\n",
      "100%|██████████| 1/1 [00:00<00:00,  1.48it/s]\u001b[A\u001b[A\n",
      "\n",
      " 14%|█▍        | 1395/10000 [14:50<1:28:26,  1.62it/s]\u001b[A\n",
      "\n",
      "  0%|          | 0/1 [00:00<?, ?it/s]\u001b[A\u001b[A\n",
      "\n",
      "100%|██████████| 1/1 [00:00<00:00,  1.77it/s]\u001b[A\u001b[A\n",
      "\n",
      " 14%|█▍        | 1396/10000 [14:51<1:30:04,  1.59it/s]\u001b[A\n",
      "\n",
      "  0%|          | 0/1 [00:00<?, ?it/s]\u001b[A\u001b[A\n",
      "\n",
      "100%|██████████| 1/1 [00:00<00:00,  2.12it/s]\u001b[A\u001b[A\n",
      "\n",
      " 14%|█▍        | 1397/10000 [14:51<1:25:09,  1.68it/s]\u001b[A\n",
      "\n",
      "  0%|          | 0/1 [00:00<?, ?it/s]\u001b[A\u001b[A\n",
      "\n",
      "100%|██████████| 1/1 [00:00<00:00,  2.36it/s]\u001b[A\u001b[A\n",
      "\n",
      " 14%|█▍        | 1398/10000 [14:52<1:19:26,  1.80it/s]\u001b[A\n",
      "\n",
      "  0%|          | 0/1 [00:00<?, ?it/s]\u001b[A\u001b[A\n",
      "\n",
      "100%|██████████| 1/1 [00:00<00:00,  2.10it/s]\u001b[A\u001b[A\n",
      "\n",
      " 14%|█▍        | 1399/10000 [14:52<1:18:35,  1.82it/s]\u001b[A\n",
      "\n",
      "  0%|          | 0/1 [00:00<?, ?it/s]\u001b[A\u001b[A\n",
      "\n",
      "100%|██████████| 1/1 [00:00<00:00,  2.03it/s]\u001b[A\u001b[A\n",
      "\n",
      " 14%|█▍        | 1400/10000 [14:53<1:18:51,  1.82it/s]\u001b[A\n",
      "\n",
      "  0%|          | 0/1 [00:00<?, ?it/s]\u001b[A\u001b[A\n",
      "\n",
      "100%|██████████| 1/1 [00:00<00:00,  2.21it/s]\u001b[A\u001b[A\n",
      "\n",
      " 14%|█▍        | 1401/10000 [14:53<1:16:31,  1.87it/s]\u001b[A\n",
      "\n",
      "  0%|          | 0/1 [00:00<?, ?it/s]\u001b[A\u001b[A\n",
      "\n",
      "100%|██████████| 1/1 [00:00<00:00,  1.71it/s]\u001b[A\u001b[A\n",
      "\n",
      " 14%|█▍        | 1402/10000 [14:54<1:22:14,  1.74it/s]\u001b[A\n",
      "\n",
      "  0%|          | 0/1 [00:00<?, ?it/s]\u001b[A\u001b[A\n",
      "\n",
      "100%|██████████| 1/1 [00:00<00:00,  1.83it/s]\u001b[A\u001b[A\n",
      "\n",
      " 14%|█▍        | 1403/10000 [14:55<1:23:31,  1.72it/s]\u001b[A\n",
      "\n",
      "  0%|          | 0/1 [00:00<?, ?it/s]\u001b[A\u001b[A\n",
      "\n",
      "100%|██████████| 1/1 [00:00<00:00,  2.17it/s]\u001b[A\u001b[A\n",
      "\n",
      " 14%|█▍        | 1404/10000 [14:55<1:19:51,  1.79it/s]\u001b[A\n",
      "\n",
      "  0%|          | 0/1 [00:00<?, ?it/s]\u001b[A\u001b[A\n",
      "\n",
      "100%|██████████| 1/1 [00:00<00:00,  2.27it/s]\u001b[A\u001b[A\n",
      "\n",
      " 14%|█▍        | 1405/10000 [14:56<1:16:58,  1.86it/s]\u001b[A\n",
      "\n",
      "  0%|          | 0/1 [00:00<?, ?it/s]\u001b[A\u001b[A\n",
      "\n",
      "100%|██████████| 1/1 [00:00<00:00,  2.33it/s]\u001b[A\u001b[A\n",
      "\n",
      " 14%|█▍        | 1406/10000 [14:56<1:15:06,  1.91it/s]\u001b[A\n",
      "\n",
      "  0%|          | 0/1 [00:00<?, ?it/s]\u001b[A\u001b[A\n",
      "\n",
      "100%|██████████| 1/1 [00:00<00:00,  2.62it/s]\u001b[A\u001b[A\n",
      "\n",
      " 14%|█▍        | 1407/10000 [14:57<1:11:08,  2.01it/s]\u001b[A\n",
      "\n",
      "  0%|          | 0/1 [00:00<?, ?it/s]\u001b[A\u001b[A\n",
      "\n",
      "100%|██████████| 1/1 [00:00<00:00,  1.70it/s]\u001b[A\u001b[A\n",
      "\n",
      " 14%|█▍        | 1408/10000 [14:57<1:17:58,  1.84it/s]\u001b[A\n",
      "\n",
      "  0%|          | 0/1 [00:00<?, ?it/s]\u001b[A\u001b[A\n",
      "\n",
      "100%|██████████| 1/1 [00:00<00:00,  1.78it/s]\u001b[A\u001b[A\n",
      "\n",
      " 14%|█▍        | 1409/10000 [14:58<1:21:10,  1.76it/s]\u001b[A\n",
      "\n",
      "  0%|          | 0/1 [00:00<?, ?it/s]\u001b[A\u001b[A\n",
      "\n",
      "100%|██████████| 1/1 [00:00<00:00,  2.41it/s]\u001b[A\u001b[A\n",
      "\n",
      " 14%|█▍        | 1410/10000 [14:58<1:16:29,  1.87it/s]\u001b[A\n",
      "\n",
      "  0%|          | 0/1 [00:00<?, ?it/s]\u001b[A\u001b[A\n",
      "\n",
      "100%|██████████| 1/1 [00:00<00:00,  1.80it/s]\u001b[A\u001b[A\n",
      "\n",
      " 14%|█▍        | 1411/10000 [14:59<1:22:07,  1.74it/s]\u001b[A\n",
      "\n",
      "  0%|          | 0/1 [00:00<?, ?it/s]\u001b[A\u001b[A\n",
      "\n",
      "100%|██████████| 1/1 [00:00<00:00,  1.80it/s]\u001b[A\u001b[A\n",
      "\n",
      " 14%|█▍        | 1412/10000 [15:00<1:23:56,  1.71it/s]\u001b[A\n",
      "\n",
      "  0%|          | 0/1 [00:00<?, ?it/s]\u001b[A\u001b[A\n",
      "\n",
      "100%|██████████| 1/1 [00:00<00:00,  2.11it/s]\u001b[A\u001b[A\n",
      "\n",
      " 14%|█▍        | 1413/10000 [15:00<1:21:37,  1.75it/s]\u001b[A\n",
      "\n",
      "  0%|          | 0/1 [00:00<?, ?it/s]\u001b[A\u001b[A\n",
      "\n",
      "100%|██████████| 1/1 [00:00<00:00,  1.75it/s]\u001b[A\u001b[A\n",
      "\n",
      " 14%|█▍        | 1414/10000 [15:01<1:23:50,  1.71it/s]\u001b[A\n",
      "\n",
      "  0%|          | 0/1 [00:00<?, ?it/s]\u001b[A\u001b[A\n",
      "\n",
      "100%|██████████| 1/1 [00:00<00:00,  1.71it/s]\u001b[A\u001b[A\n",
      "\n",
      " 14%|█▍        | 1415/10000 [15:01<1:26:16,  1.66it/s]\u001b[A\n",
      "\n",
      "  0%|          | 0/1 [00:00<?, ?it/s]\u001b[A\u001b[A\n",
      "\n",
      "100%|██████████| 1/1 [00:00<00:00,  2.02it/s]\u001b[A\u001b[A\n",
      "\n",
      " 14%|█▍        | 1416/10000 [15:02<1:24:29,  1.69it/s]\u001b[A\n",
      "\n",
      "  0%|          | 0/1 [00:00<?, ?it/s]\u001b[A\u001b[A\n",
      "\n",
      "100%|██████████| 1/1 [00:00<00:00,  1.81it/s]\u001b[A\u001b[A\n",
      "\n",
      " 14%|█▍        | 1417/10000 [15:03<1:24:59,  1.68it/s]\u001b[A\n",
      "\n",
      "  0%|          | 0/1 [00:00<?, ?it/s]\u001b[A\u001b[A\n",
      "\n",
      "100%|██████████| 1/1 [00:00<00:00,  2.01it/s]\u001b[A\u001b[A\n",
      "\n",
      " 14%|█▍        | 1418/10000 [15:03<1:22:55,  1.72it/s]\u001b[A\n",
      "\n",
      "  0%|          | 0/1 [00:00<?, ?it/s]\u001b[A\u001b[A\n",
      "\n",
      "100%|██████████| 1/1 [00:00<00:00,  2.36it/s]\u001b[A\u001b[A\n",
      "\n",
      " 14%|█▍        | 1419/10000 [15:04<1:19:15,  1.80it/s]\u001b[A\n",
      "\n",
      "  0%|          | 0/1 [00:00<?, ?it/s]\u001b[A\u001b[A\n",
      "\n",
      "100%|██████████| 1/1 [00:00<00:00,  2.03it/s]\u001b[A\u001b[A\n",
      "\n",
      " 14%|█▍        | 1420/10000 [15:04<1:20:24,  1.78it/s]\u001b[A\n",
      "\n",
      "  0%|          | 0/1 [00:00<?, ?it/s]\u001b[A\u001b[A\n",
      "\n",
      "100%|██████████| 1/1 [00:00<00:00,  1.42it/s]\u001b[A\u001b[A\n",
      "\n",
      " 14%|█▍        | 1421/10000 [15:05<1:29:47,  1.59it/s]\u001b[A\n",
      "\n",
      "  0%|          | 0/1 [00:00<?, ?it/s]\u001b[A\u001b[A\n",
      "\n",
      "100%|██████████| 1/1 [00:00<00:00,  1.75it/s]\u001b[A\u001b[A\n",
      "\n",
      " 14%|█▍        | 1422/10000 [15:06<1:30:31,  1.58it/s]\u001b[A\n",
      "\n",
      "  0%|          | 0/1 [00:00<?, ?it/s]\u001b[A\u001b[A\n",
      "\n",
      "100%|██████████| 1/1 [00:00<00:00,  1.08it/s]\u001b[A\u001b[A\n",
      "\n",
      " 14%|█▍        | 1423/10000 [15:07<1:48:30,  1.32it/s]\u001b[A\n",
      "\n",
      "  0%|          | 0/1 [00:00<?, ?it/s]\u001b[A\u001b[A\n",
      "\n",
      "100%|██████████| 1/1 [00:00<00:00,  1.14it/s]\u001b[A\u001b[A\n",
      "\n",
      " 14%|█▍        | 1424/10000 [15:08<1:58:04,  1.21it/s]\u001b[A\n",
      "\n",
      "  0%|          | 0/1 [00:00<?, ?it/s]\u001b[A\u001b[A\n",
      "\n",
      "100%|██████████| 1/1 [00:00<00:00,  1.80it/s]\u001b[A\u001b[A\n",
      "\n",
      " 14%|█▍        | 1425/10000 [15:08<1:49:00,  1.31it/s]\u001b[A\n",
      "\n",
      "  0%|          | 0/1 [00:00<?, ?it/s]\u001b[A\u001b[A\n",
      "\n",
      "100%|██████████| 1/1 [00:00<00:00,  2.61it/s]\u001b[A\u001b[A\n",
      "\n",
      " 14%|█▍        | 1426/10000 [15:09<1:34:37,  1.51it/s]\u001b[A\n",
      "\n",
      "  0%|          | 0/1 [00:00<?, ?it/s]\u001b[A\u001b[A\n",
      "\n",
      "100%|██████████| 1/1 [00:00<00:00,  2.94it/s]\u001b[A\u001b[A\n",
      "\n",
      " 14%|█▍        | 1427/10000 [15:09<1:22:26,  1.73it/s]\u001b[A\n",
      "\n",
      "  0%|          | 0/1 [00:00<?, ?it/s]\u001b[A\u001b[A\n",
      "\n",
      "100%|██████████| 1/1 [00:00<00:00,  1.85it/s]\u001b[A\u001b[A\n",
      "\n",
      " 14%|█▍        | 1428/10000 [15:10<1:23:35,  1.71it/s]\u001b[A\n",
      "\n",
      "  0%|          | 0/1 [00:00<?, ?it/s]\u001b[A\u001b[A\n",
      "\n",
      "100%|██████████| 1/1 [00:00<00:00,  1.87it/s]\u001b[A\u001b[A\n",
      "\n",
      " 14%|█▍        | 1429/10000 [15:10<1:24:04,  1.70it/s]\u001b[A\n",
      "\n",
      "  0%|          | 0/1 [00:00<?, ?it/s]\u001b[A\u001b[A\n",
      "\n",
      "100%|██████████| 1/1 [00:00<00:00,  1.67it/s]\u001b[A\u001b[A\n",
      "\n",
      " 14%|█▍        | 1430/10000 [15:11<1:28:29,  1.61it/s]\u001b[A\n",
      "\n",
      "  0%|          | 0/1 [00:00<?, ?it/s]\u001b[A\u001b[A\n",
      "\n",
      "100%|██████████| 1/1 [00:00<00:00,  2.32it/s]\u001b[A\u001b[A\n",
      "\n",
      " 14%|█▍        | 1431/10000 [15:11<1:23:34,  1.71it/s]\u001b[A\n",
      "\n",
      "  0%|          | 0/1 [00:00<?, ?it/s]\u001b[A\u001b[A\n",
      "\n"
     ]
    },
    {
     "name": "stderr",
     "output_type": "stream",
     "text": [
      "100%|██████████| 1/1 [00:00<00:00,  2.21it/s]\u001b[A\u001b[A\n",
      "\n",
      " 14%|█▍        | 1432/10000 [15:12<1:19:39,  1.79it/s]\u001b[A\n",
      "\n",
      "  0%|          | 0/1 [00:00<?, ?it/s]\u001b[A\u001b[A\n",
      "\n",
      "100%|██████████| 1/1 [00:00<00:00,  2.14it/s]\u001b[A\u001b[A\n",
      "\n",
      " 14%|█▍        | 1433/10000 [15:12<1:18:53,  1.81it/s]\u001b[A\n",
      "\n",
      "  0%|          | 0/1 [00:00<?, ?it/s]\u001b[A\u001b[A\n",
      "\n",
      "100%|██████████| 1/1 [00:00<00:00,  2.04it/s]\u001b[A\u001b[A\n",
      "\n",
      " 14%|█▍        | 1434/10000 [15:13<1:19:39,  1.79it/s]\u001b[A\n",
      "\n",
      "  0%|          | 0/1 [00:00<?, ?it/s]\u001b[A\u001b[A\n",
      "\n",
      "100%|██████████| 1/1 [00:00<00:00,  1.65it/s]\u001b[A\u001b[A\n",
      "\n",
      " 14%|█▍        | 1435/10000 [15:14<1:30:52,  1.57it/s]\u001b[A"
     ]
    },
    {
     "name": "stdout",
     "output_type": "stream",
     "text": [
      "\n",
      "Epoch: 1435, Loss: 0.3874, Val: 0.7052, Test: 0.7113\n"
     ]
    },
    {
     "name": "stderr",
     "output_type": "stream",
     "text": [
      "\n",
      "\n",
      "  0%|          | 0/1 [00:00<?, ?it/s]\u001b[A\u001b[A\n",
      "\n",
      "100%|██████████| 1/1 [00:00<00:00,  1.59it/s]\u001b[A\u001b[A\n",
      "\n",
      " 14%|█▍        | 1436/10000 [15:15<1:37:12,  1.47it/s]\u001b[A"
     ]
    },
    {
     "name": "stdout",
     "output_type": "stream",
     "text": [
      "\n",
      "Epoch: 1436, Loss: 0.3872, Val: 0.7052, Test: 0.7109\n"
     ]
    },
    {
     "name": "stderr",
     "output_type": "stream",
     "text": [
      "\n",
      "\n",
      "  0%|          | 0/1 [00:00<?, ?it/s]\u001b[A\u001b[A\n",
      "\n",
      "100%|██████████| 1/1 [00:00<00:00,  1.58it/s]\u001b[A\u001b[A\n",
      "\n",
      " 14%|█▍        | 1437/10000 [15:15<1:40:40,  1.42it/s]\u001b[A"
     ]
    },
    {
     "name": "stdout",
     "output_type": "stream",
     "text": [
      "\n",
      "Epoch: 1437, Loss: 0.3878, Val: 0.7052, Test: 0.7104\n"
     ]
    },
    {
     "name": "stderr",
     "output_type": "stream",
     "text": [
      "\n",
      "\n",
      "  0%|          | 0/1 [00:00<?, ?it/s]\u001b[A\u001b[A\n",
      "\n",
      "100%|██████████| 1/1 [00:00<00:00,  1.60it/s]\u001b[A\u001b[A\n",
      "\n",
      " 14%|█▍        | 1438/10000 [15:16<1:40:13,  1.42it/s]\u001b[A\n",
      "\n",
      "  0%|          | 0/1 [00:00<?, ?it/s]\u001b[A\u001b[A\n",
      "\n",
      "100%|██████████| 1/1 [00:01<00:00,  1.10s/it]\u001b[A\u001b[A\n",
      "\n",
      " 14%|█▍        | 1439/10000 [15:17<1:59:32,  1.19it/s]\u001b[A\n",
      "\n",
      "  0%|          | 0/1 [00:00<?, ?it/s]\u001b[A\u001b[A\n",
      "\n",
      "100%|██████████| 1/1 [00:00<00:00,  1.53it/s]\u001b[A\u001b[A\n",
      "\n",
      " 14%|█▍        | 1440/10000 [15:18<1:54:06,  1.25it/s]\u001b[A\n",
      "\n",
      "  0%|          | 0/1 [00:00<?, ?it/s]\u001b[A\u001b[A\n",
      "\n",
      "100%|██████████| 1/1 [00:00<00:00,  2.31it/s]\u001b[A\u001b[A\n",
      "\n",
      " 14%|█▍        | 1441/10000 [15:18<1:40:35,  1.42it/s]\u001b[A\n",
      "\n",
      "  0%|          | 0/1 [00:00<?, ?it/s]\u001b[A\u001b[A\n",
      "\n",
      "100%|██████████| 1/1 [00:00<00:00,  2.02it/s]\u001b[A\u001b[A\n",
      "\n",
      " 14%|█▍        | 1442/10000 [15:19<1:34:28,  1.51it/s]\u001b[A\n",
      "\n",
      "  0%|          | 0/1 [00:00<?, ?it/s]\u001b[A\u001b[A\n",
      "\n",
      "100%|██████████| 1/1 [00:00<00:00,  1.70it/s]\u001b[A\u001b[A\n",
      "\n",
      " 14%|█▍        | 1443/10000 [15:20<1:33:33,  1.52it/s]\u001b[A\n",
      "\n",
      "  0%|          | 0/1 [00:00<?, ?it/s]\u001b[A\u001b[A\n",
      "\n",
      "100%|██████████| 1/1 [00:00<00:00,  1.65it/s]\u001b[A\u001b[A\n",
      "\n",
      " 14%|█▍        | 1444/10000 [15:20<1:35:00,  1.50it/s]\u001b[A\n",
      "\n",
      "  0%|          | 0/1 [00:00<?, ?it/s]\u001b[A\u001b[A\n",
      "\n",
      "100%|██████████| 1/1 [00:00<00:00,  1.59it/s]\u001b[A\u001b[A\n",
      "\n",
      " 14%|█▍        | 1445/10000 [15:21<1:37:05,  1.47it/s]\u001b[A\n",
      "\n",
      "  0%|          | 0/1 [00:00<?, ?it/s]\u001b[A\u001b[A\n",
      "\n",
      "100%|██████████| 1/1 [00:00<00:00,  1.89it/s]\u001b[A\u001b[A\n",
      "\n",
      " 14%|█▍        | 1446/10000 [15:22<1:34:19,  1.51it/s]\u001b[A\n",
      "\n",
      "  0%|          | 0/1 [00:00<?, ?it/s]\u001b[A\u001b[A\n",
      "\n",
      "100%|██████████| 1/1 [00:00<00:00,  1.58it/s]\u001b[A\u001b[A\n",
      "\n",
      " 14%|█▍        | 1447/10000 [15:22<1:37:47,  1.46it/s]\u001b[A\n",
      "\n",
      "  0%|          | 0/1 [00:00<?, ?it/s]\u001b[A\u001b[A\n",
      "\n",
      "100%|██████████| 1/1 [00:00<00:00,  1.73it/s]\u001b[A\u001b[A\n",
      "\n",
      " 14%|█▍        | 1448/10000 [15:23<1:36:21,  1.48it/s]\u001b[A\n",
      "\n",
      "  0%|          | 0/1 [00:00<?, ?it/s]\u001b[A\u001b[A\n",
      "\n",
      "100%|██████████| 1/1 [00:00<00:00,  1.97it/s]\u001b[A\u001b[A\n",
      "\n",
      " 14%|█▍        | 1449/10000 [15:24<1:31:16,  1.56it/s]\u001b[A\n",
      "\n",
      "  0%|          | 0/1 [00:00<?, ?it/s]\u001b[A\u001b[A\n",
      "\n",
      "100%|██████████| 1/1 [00:00<00:00,  1.84it/s]\u001b[A\u001b[A\n",
      "\n",
      " 14%|█▍        | 1450/10000 [15:24<1:29:42,  1.59it/s]\u001b[A\n",
      "\n",
      "  0%|          | 0/1 [00:00<?, ?it/s]\u001b[A\u001b[A\n",
      "\n",
      "100%|██████████| 1/1 [00:00<00:00,  1.89it/s]\u001b[A\u001b[A\n",
      "\n",
      " 15%|█▍        | 1451/10000 [15:25<1:27:14,  1.63it/s]\u001b[A\n",
      "\n",
      "  0%|          | 0/1 [00:00<?, ?it/s]\u001b[A\u001b[A\n",
      "\n",
      "100%|██████████| 1/1 [00:00<00:00,  1.77it/s]\u001b[A\u001b[A\n",
      "\n",
      " 15%|█▍        | 1452/10000 [15:25<1:27:48,  1.62it/s]\u001b[A\n",
      "\n",
      "  0%|          | 0/1 [00:00<?, ?it/s]\u001b[A\u001b[A"
     ]
    }
   ],
   "source": [
    "output_dict, model = perform_cross_validation(data, parameters, save_embeddings=True, save_subgraph=True, final_fit=True)"
   ]
  },
  {
   "cell_type": "code",
   "execution_count": null,
   "metadata": {},
   "outputs": [],
   "source": [
    "output_dict.keys()\n",
    "print('AUC:', output_dict['AUC_0_test'])\n",
    "print('Balanced Accuracy:', output_dict['Balanced Accuracy_0_test'])"
   ]
  },
  {
   "cell_type": "code",
   "execution_count": null,
   "metadata": {},
   "outputs": [],
   "source": [
    "unique_scales = df_item['scale'].unique()\n",
    "unique_domains = df_item['domain'].unique()\n",
    "unique_matdiff = df_item['matdiff'].sort_values().unique()\n",
    "#scale_colors = dict([(c, plt.cm.tab10(i)) for i, c in enumerate(unique_scales)])\n",
    "#domain_colors = dict([(c, plt.cm.tab10(i)) for i, c in enumerate(unique_domains)])"
   ]
  },
  {
   "cell_type": "code",
   "execution_count": null,
   "metadata": {},
   "outputs": [],
   "source": [
    "train_losses = output_dict['losses_0']\n",
    "train_edge_indices, val_edge_indices, test_edge_indices = output_dict['indices_0']\n",
    "\n",
    "train_data = output_dict['train_subgraph_data'] \n",
    "val_data = output_dict['val_subgraph_data'] \n",
    "test_data = output_dict['test_subgraph_data']\n",
    "\n",
    "aux_data = (df, df_student, df_item, df_edge, \n",
    "    #clustering_indices, \n",
    "    train_losses, #test_losses, test_aucs, \n",
    "    train_edge_indices, val_edge_indices, test_edge_indices, \n",
    "    data.cpu(), train_data.cpu(), val_data.cpu(), test_data.cpu(),\n",
    "    unique_scales, unique_domains, unique_matdiff, \n",
    "    DATA_FILE)\n",
    "\n",
    "with open(f'./results/{OUTNAME}_{DATASET}_aux_data.pkl', 'wb') as handle:\n",
    "    pickle.dump(aux_data, handle, protocol=pickle.HIGHEST_PROTOCOL)"
   ]
  },
  {
   "cell_type": "code",
   "execution_count": null,
   "metadata": {},
   "outputs": [],
   "source": [
    "# SAVE EVERYTHING\n",
    "torch.save(model, f'./results/{OUTNAME}_{DATASET}.pth.tar')"
   ]
  },
  {
   "cell_type": "code",
   "execution_count": null,
   "metadata": {},
   "outputs": [],
   "source": [
    "train_indices = np.arange(len(train_losses))\n",
    "fig = plt.figure()\n",
    "plt.plot(train_indices, train_losses, c='blue')\n",
    "plt.ylabel('Loss')\n",
    "plt.xlabel('Epoch')\n",
    "\n",
    "fig.tight_layout()"
   ]
  },
  {
   "cell_type": "code",
   "execution_count": null,
   "metadata": {},
   "outputs": [],
   "source": [
    "# save IRT parameters to matrix\n",
    "if OUTNAME == 'IRT' and IRT_DIMS == 1:    \n",
    "    #z_dict = model.get_embeddings(train_data.to(device))\n",
    "    z_dict = output_dict['embedding_0']\n",
    "    df_item['IRT1_difficulty'] = -z_dict['item']\n",
    "    df_item['IRT1_discrimination'] = z_dict['offset']\n",
    "    ability = z_dict['ability']\n",
    "    df_edge['IRT1_ability'] = ability.ravel()\n",
    "    \n",
    "    aux_data = (df, df_student, df_item, df_edge, \n",
    "    train_losses, \n",
    "    train_edge_indices, val_edge_indices, test_edge_indices,\n",
    "    data.cpu(), train_data.cpu(), val_data.cpu().cpu(), test_data.cpu(),\n",
    "    unique_scales, unique_domains, unique_matdiff, \n",
    "    DATA_FILE)\n",
    "\n",
    "    with open(f'./results/{OUTNAME}_{DATASET}_aux_data_IRT1.pkl', 'wb') as handle:\n",
    "        pickle.dump(aux_data, handle, protocol=pickle.HIGHEST_PROTOCOL)\n",
    "        \n",
    "    df_item_clean = df_item.dropna(subset=['IRT_difficulty', 'IRT1_difficulty'])    \n",
    "    \n",
    "    fig = plt.figure()\n",
    "    sns.scatterplot(x='IRT_difficulty', y='IRT1_difficulty', data=df_item, hue='scale')\n",
    "    plt.title('Difficulty')\n",
    "    print('Difficulty:', pearsonr(df_item_clean['IRT1_difficulty'], df_item_clean['IRT_difficulty']))\n",
    "    \n",
    "    edge_feat = train_data['student', 'responds', 'item'].edge_attr.detach().cpu().numpy()\n",
    "    df_edge_clean = df_edge.dropna(subset=['IRT1_ability', 'ability', 'age'])\n",
    "    fig = plt.figure()\n",
    "    sns.scatterplot(x='age', y='IRT1_ability', data=df_edge_clean, hue='grade')\n",
    "    plt.title('Age-Ability')\n",
    "    \n",
    "    fig = plt.figure()\n",
    "    sns.scatterplot(x='grade', y='IRT1_ability', data=df_edge_clean, hue='age')\n",
    "    plt.title('Grade-Ability')\n",
    "    print('Age-Ability:', pearsonr(df_edge_clean['age'], df_edge_clean['IRT1_ability']))\n",
    "\n",
    "    fig = plt.figure()\n",
    "    sns.scatterplot(x='ability', y='IRT1_ability', data=df_edge_clean, hue='grade')\n",
    "    plt.title('Ability')\n",
    "    print('Ability:', pearsonr(df_edge_clean['ability'], df_edge_clean['IRT1_ability']))\n",
    "    "
   ]
  }
 ],
 "metadata": {
  "celltoolbar": "Tags",
  "kernelspec": {
   "display_name": "Python 3 (ipykernel)",
   "language": "python",
   "name": "python3"
  },
  "language_info": {
   "codemirror_mode": {
    "name": "ipython",
    "version": 3
   },
   "file_extension": ".py",
   "mimetype": "text/x-python",
   "name": "python",
   "nbconvert_exporter": "python",
   "pygments_lexer": "ipython3",
   "version": "3.8.13"
  },
  "vscode": {
   "interpreter": {
    "hash": "88516cc94b965045253aac22be7e673e07faa374a8dfeab45aefc65ddf94d8b2"
   }
  }
 },
 "nbformat": 4,
 "nbformat_minor": 2
}
