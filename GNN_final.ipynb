{
 "cells": [
  {
   "cell_type": "code",
   "execution_count": 1,
   "metadata": {
    "tags": [
     "parameters"
    ]
   },
   "outputs": [],
   "source": [
    "IRT_DIMS = 0\n",
    "DATASET = 'matrix'    \n",
    "ITEM_FEATURES = 'False'\n",
    "ITEM_FEATURES = False if ITEM_FEATURES == 'False' else True"
   ]
  },
  {
   "cell_type": "code",
   "execution_count": 2,
   "metadata": {},
   "outputs": [],
   "source": [
    "import sys, os, shutil\n",
    "import pickle\n",
    "import time\n",
    "import numpy as np\n",
    "from utils import (mymode, load_data_heterogeneous, create_data_object_heterogeneous)\n",
    "import seaborn as sns\n",
    "\n",
    "from IRT import MIRT_2PL\n",
    "from Heterogeneous_embedder import EmbedderHeterogeneous, train_embedder_heterogeneous, test_embedder_heterogeneous\n",
    "from manage_experiments import perform_cross_validation\n",
    "\n",
    "import torch\n",
    "import numpy as np\n",
    "import matplotlib.pyplot as plt\n",
    "\n",
    "from scipy.stats import pearsonr"
   ]
  },
  {
   "cell_type": "code",
   "execution_count": 3,
   "metadata": {},
   "outputs": [
    {
     "name": "stdout",
     "output_type": "stream",
     "text": [
      "cpu\n"
     ]
    }
   ],
   "source": [
    "torch.cuda.empty_cache()\n",
    "device = torch.device('cuda' if torch.cuda.is_available() else 'cpu')\n",
    "print(device)"
   ]
  },
  {
   "cell_type": "code",
   "execution_count": 4,
   "metadata": {},
   "outputs": [
    {
     "name": "stdout",
     "output_type": "stream",
     "text": [
      "{'df_name': None, 'epochs': 10000, 'learning_rate': 0.005, 'weight_decay': 0, 'early_stopping': 200, 'n_splits': 10, 'device': 'cuda:0', 'batch_size': 16384, 'neighbours': [-1, -1], 'model_type': 'GNN', 'hidden_dims': [16, 8]}\n",
      "matrix\n"
     ]
    }
   ],
   "source": [
    "# Initialise\n",
    "parameters = {\n",
    "    'df_name': None,\n",
    "    'epochs': 10000,\n",
    "    'learning_rate': 0.005,\n",
    "    'weight_decay': 0,\n",
    "    'early_stopping': 200,\n",
    "    'n_splits': 10,\n",
    "    'device': 'cuda:0',\n",
    "    'batch_size': 2**14,\n",
    "    'neighbours': [-1, -1]\n",
    "    }\n",
    "\n",
    "if IRT_DIMS > 0:\n",
    "    parameters['model_type'] = 'IRT'\n",
    "    parameters['hidden_dims'] = IRT_DIMS\n",
    "    parameters['lambda1'] = 0\n",
    "    parameters['lambda2'] = 0\n",
    "    OUTNAME = 'IRT'\n",
    "else:\n",
    "    parameters['model_type'] = 'GNN'\n",
    "    parameters['hidden_dims'] = [16,8]\n",
    "    OUTNAME = 'SAGE' \n",
    "\n",
    "if ITEM_FEATURES:\n",
    "    OUTNAME = OUTNAME + '_scales'\n",
    "    \n",
    "print(parameters)\n",
    "print(DATASET)"
   ]
  },
  {
   "cell_type": "code",
   "execution_count": 5,
   "metadata": {},
   "outputs": [],
   "source": [
    "DATA_FILE = 'data/mindsteps_set_' + DATASET\n",
    "df = load_data_heterogeneous(DATA_FILE)\n",
    "data, df_student, df_item, df_edge = create_data_object_heterogeneous(df, return_aux_data=True, item_features=ITEM_FEATURES)"
   ]
  },
  {
   "cell_type": "code",
   "execution_count": 6,
   "metadata": {},
   "outputs": [
    {
     "data": {
      "text/plain": [
       "Index(['studentId', 'code', 'motherTongue', 'Gender', 'scale', 'matrix',\n",
       "       'IRT_difficulty', 'topic', 'responseformat', 'textlength', 'score',\n",
       "       'age', 'grade', 'viewingTime', 'timestamp', 'useCase', 'assessmentId',\n",
       "       'ability', 'frequency', 'previous_sessions', 'years_from_start',\n",
       "       'matdiff', 'matcode', 'domain'],\n",
       "      dtype='object')"
      ]
     },
     "execution_count": 6,
     "metadata": {},
     "output_type": "execute_result"
    }
   ],
   "source": [
    "df.columns"
   ]
  },
  {
   "cell_type": "code",
   "execution_count": 7,
   "metadata": {},
   "outputs": [
    {
     "data": {
      "text/html": [
       "<div>\n",
       "<style scoped>\n",
       "    .dataframe tbody tr th:only-of-type {\n",
       "        vertical-align: middle;\n",
       "    }\n",
       "\n",
       "    .dataframe tbody tr th {\n",
       "        vertical-align: top;\n",
       "    }\n",
       "\n",
       "    .dataframe thead th {\n",
       "        text-align: right;\n",
       "    }\n",
       "</style>\n",
       "<table border=\"1\" class=\"dataframe\">\n",
       "  <thead>\n",
       "    <tr style=\"text-align: right;\">\n",
       "      <th></th>\n",
       "      <th>studentId</th>\n",
       "      <th>code</th>\n",
       "      <th>motherTongue</th>\n",
       "      <th>Gender</th>\n",
       "      <th>scale</th>\n",
       "      <th>matrix</th>\n",
       "      <th>IRT_difficulty</th>\n",
       "      <th>topic</th>\n",
       "      <th>responseformat</th>\n",
       "      <th>textlength</th>\n",
       "      <th>...</th>\n",
       "      <th>timestamp</th>\n",
       "      <th>useCase</th>\n",
       "      <th>assessmentId</th>\n",
       "      <th>ability</th>\n",
       "      <th>frequency</th>\n",
       "      <th>previous_sessions</th>\n",
       "      <th>years_from_start</th>\n",
       "      <th>matdiff</th>\n",
       "      <th>matcode</th>\n",
       "      <th>domain</th>\n",
       "    </tr>\n",
       "  </thead>\n",
       "  <tbody>\n",
       "    <tr>\n",
       "      <th>0</th>\n",
       "      <td>0</td>\n",
       "      <td>0</td>\n",
       "      <td>1.0</td>\n",
       "      <td>0.0</td>\n",
       "      <td>fhoe</td>\n",
       "      <td>F.1.A.1.c.1</td>\n",
       "      <td>-0.370330</td>\n",
       "      <td>Monologe und Dialoge</td>\n",
       "      <td>NaN</td>\n",
       "      <td>NaN</td>\n",
       "      <td>...</td>\n",
       "      <td>7.830814e-312</td>\n",
       "      <td>ms-kber</td>\n",
       "      <td>85007E334A2C9F19ECA408647E6F97139649B1465E15EB...</td>\n",
       "      <td>1.083005</td>\n",
       "      <td>1.851849</td>\n",
       "      <td>2</td>\n",
       "      <td>1.08</td>\n",
       "      <td></td>\n",
       "      <td></td>\n",
       "      <td>f</td>\n",
       "    </tr>\n",
       "    <tr>\n",
       "      <th>1</th>\n",
       "      <td>0</td>\n",
       "      <td>1</td>\n",
       "      <td>1.0</td>\n",
       "      <td>0.0</td>\n",
       "      <td>fles</td>\n",
       "      <td>F.2.A.1.b.3</td>\n",
       "      <td>-0.494880</td>\n",
       "      <td>Berichte</td>\n",
       "      <td>NaN</td>\n",
       "      <td>NaN</td>\n",
       "      <td>...</td>\n",
       "      <td>7.833807e-312</td>\n",
       "      <td>ms-thema-auto</td>\n",
       "      <td>0D59C4843FFC39195EDE1DD140506CF3DF8BC6F132AAF5...</td>\n",
       "      <td>0.657010</td>\n",
       "      <td>2.727266</td>\n",
       "      <td>3</td>\n",
       "      <td>1.10</td>\n",
       "      <td></td>\n",
       "      <td></td>\n",
       "      <td>f</td>\n",
       "    </tr>\n",
       "    <tr>\n",
       "      <th>2</th>\n",
       "      <td>0</td>\n",
       "      <td>2</td>\n",
       "      <td>1.0</td>\n",
       "      <td>0.0</td>\n",
       "      <td>mzuv</td>\n",
       "      <td>MA.1.A.3.f</td>\n",
       "      <td>0.368830</td>\n",
       "      <td>Gemischte Grundoperationen</td>\n",
       "      <td>single choice</td>\n",
       "      <td>NaN</td>\n",
       "      <td>...</td>\n",
       "      <td>7.661659e-312</td>\n",
       "      <td>ms-kber</td>\n",
       "      <td>2B0D3CD783DB6BE2341F8CF101395AC464874A993E8CCF...</td>\n",
       "      <td>0.751265</td>\n",
       "      <td>1000000.000000</td>\n",
       "      <td>0</td>\n",
       "      <td>0.00</td>\n",
       "      <td></td>\n",
       "      <td></td>\n",
       "      <td>m</td>\n",
       "    </tr>\n",
       "    <tr>\n",
       "      <th>3</th>\n",
       "      <td>0</td>\n",
       "      <td>3</td>\n",
       "      <td>1.0</td>\n",
       "      <td>0.0</td>\n",
       "      <td>fhoe</td>\n",
       "      <td>F.1.A.1.d.1</td>\n",
       "      <td>0.367442</td>\n",
       "      <td>Aus TV und Radio</td>\n",
       "      <td>NaN</td>\n",
       "      <td>NaN</td>\n",
       "      <td>...</td>\n",
       "      <td>7.830815e-312</td>\n",
       "      <td>ms-kber</td>\n",
       "      <td>85007E334A2C9F19ECA408647E6F97139649B1465E15EB...</td>\n",
       "      <td>1.083005</td>\n",
       "      <td>1.851849</td>\n",
       "      <td>2</td>\n",
       "      <td>1.08</td>\n",
       "      <td></td>\n",
       "      <td></td>\n",
       "      <td>f</td>\n",
       "    </tr>\n",
       "    <tr>\n",
       "      <th>4</th>\n",
       "      <td>0</td>\n",
       "      <td>4</td>\n",
       "      <td>1.0</td>\n",
       "      <td>0.0</td>\n",
       "      <td>fles</td>\n",
       "      <td>F.2.A.1.d.1</td>\n",
       "      <td>1.160150</td>\n",
       "      <td>Berichte</td>\n",
       "      <td>NaN</td>\n",
       "      <td>212.0</td>\n",
       "      <td>...</td>\n",
       "      <td>7.833807e-312</td>\n",
       "      <td>ms-thema-auto</td>\n",
       "      <td>0D59C4843FFC39195EDE1DD140506CF3DF8BC6F132AAF5...</td>\n",
       "      <td>0.657010</td>\n",
       "      <td>2.727266</td>\n",
       "      <td>3</td>\n",
       "      <td>1.10</td>\n",
       "      <td></td>\n",
       "      <td></td>\n",
       "      <td>f</td>\n",
       "    </tr>\n",
       "  </tbody>\n",
       "</table>\n",
       "<p>5 rows × 24 columns</p>\n",
       "</div>"
      ],
      "text/plain": [
       "   studentId  code  motherTongue  Gender scale       matrix  IRT_difficulty  \\\n",
       "0          0     0           1.0     0.0  fhoe  F.1.A.1.c.1       -0.370330   \n",
       "1          0     1           1.0     0.0  fles  F.2.A.1.b.3       -0.494880   \n",
       "2          0     2           1.0     0.0  mzuv   MA.1.A.3.f        0.368830   \n",
       "3          0     3           1.0     0.0  fhoe  F.1.A.1.d.1        0.367442   \n",
       "4          0     4           1.0     0.0  fles  F.2.A.1.d.1        1.160150   \n",
       "\n",
       "                        topic responseformat  textlength  ...      timestamp  \\\n",
       "0        Monologe und Dialoge            NaN         NaN  ...  7.830814e-312   \n",
       "1                    Berichte            NaN         NaN  ...  7.833807e-312   \n",
       "2  Gemischte Grundoperationen  single choice         NaN  ...  7.661659e-312   \n",
       "3            Aus TV und Radio            NaN         NaN  ...  7.830815e-312   \n",
       "4                    Berichte            NaN       212.0  ...  7.833807e-312   \n",
       "\n",
       "         useCase                                       assessmentId   ability  \\\n",
       "0        ms-kber  85007E334A2C9F19ECA408647E6F97139649B1465E15EB...  1.083005   \n",
       "1  ms-thema-auto  0D59C4843FFC39195EDE1DD140506CF3DF8BC6F132AAF5...  0.657010   \n",
       "2        ms-kber  2B0D3CD783DB6BE2341F8CF101395AC464874A993E8CCF...  0.751265   \n",
       "3        ms-kber  85007E334A2C9F19ECA408647E6F97139649B1465E15EB...  1.083005   \n",
       "4  ms-thema-auto  0D59C4843FFC39195EDE1DD140506CF3DF8BC6F132AAF5...  0.657010   \n",
       "\n",
       "        frequency previous_sessions years_from_start  matdiff  matcode  domain  \n",
       "0        1.851849                 2             1.08                         f  \n",
       "1        2.727266                 3             1.10                         f  \n",
       "2  1000000.000000                 0             0.00                         m  \n",
       "3        1.851849                 2             1.08                         f  \n",
       "4        2.727266                 3             1.10                         f  \n",
       "\n",
       "[5 rows x 24 columns]"
      ]
     },
     "execution_count": 7,
     "metadata": {},
     "output_type": "execute_result"
    }
   ],
   "source": [
    "df.head()"
   ]
  },
  {
   "cell_type": "markdown",
   "metadata": {},
   "source": [
    "edge_dim = data['student', 'responds', 'item'].edge_attr.shape[1]\n",
    "if IRT_DIMS > 0:\n",
    "    model = MIRT_2PL(IRT_DIMS, edge_dim, data)\n",
    "else:\n",
    "    model = EmbedderHeterogeneous( \n",
    "        n_students =  data['student'].x.size(0),\n",
    "        n_items = data['item'].x.size(0),\n",
    "        student_inchannel = data['student'].x.size(1),\n",
    "        item_inchannel = data['item'].x.size(1),\n",
    "        hidden_channels=parameters['hidden_dims'],\n",
    "        edge_channel=edge_dim,\n",
    "        metadata=data.metadata()\n",
    "        ).to(device)\n",
    "    \n",
    "model = model.to(device)"
   ]
  },
  {
   "cell_type": "code",
   "execution_count": null,
   "metadata": {},
   "outputs": [
    {
     "name": "stdout",
     "output_type": "stream",
     "text": [
      "WARNING: running with a fixed random state\n"
     ]
    },
    {
     "name": "stderr",
     "output_type": "stream",
     "text": [
      "\r",
      "0it [00:00, ?it/s]"
     ]
    },
    {
     "name": "stdout",
     "output_type": "stream",
     "text": [
      "Parameters\n",
      "{'n_students': 51508, 'n_items': 17868, 'student_inchannel': 2, 'item_inchannel': None, 'hidden_channels': [16, 8], 'edge_channel': 2}\n"
     ]
    },
    {
     "name": "stderr",
     "output_type": "stream",
     "text": [
      "\n",
      "  0%|          | 0/10000 [00:00<?, ?it/s]\u001b[A\n",
      "\n",
      "  0%|          | 0/4 [00:00<?, ?it/s]\u001b[A\u001b[A\n",
      "\n",
      " 25%|██▌       | 1/4 [00:12<00:36, 12.05s/it]\u001b[A\u001b[A\n",
      "\n",
      " 50%|█████     | 2/4 [00:16<00:14,  7.45s/it]\u001b[A\u001b[A\n",
      "\n",
      " 75%|███████▌  | 3/4 [00:20<00:05,  5.92s/it]\u001b[A\u001b[A\n",
      "\n",
      "100%|██████████| 4/4 [00:23<00:00,  5.84s/it]\u001b[A\u001b[A\n"
     ]
    },
    {
     "name": "stdout",
     "output_type": "stream",
     "text": [
      "\n",
      "Epoch: 001, Loss: 0.5498, Val: 0.5000, Test: 0.5000\n"
     ]
    },
    {
     "name": "stderr",
     "output_type": "stream",
     "text": [
      "\n",
      "  0%|          | 1/10000 [00:24<67:42:14, 24.38s/it]\u001b[A\n",
      "\n",
      "  0%|          | 0/4 [00:00<?, ?it/s]\u001b[A\u001b[A\n",
      "\n",
      " 25%|██▌       | 1/4 [00:03<00:10,  3.44s/it]\u001b[A\u001b[A\n",
      "\n",
      " 50%|█████     | 2/4 [00:07<00:07,  3.52s/it]\u001b[A\u001b[A\n",
      "\n",
      " 75%|███████▌  | 3/4 [00:10<00:03,  3.52s/it]\u001b[A\u001b[A\n",
      "\n",
      "100%|██████████| 4/4 [00:13<00:00,  3.37s/it]\u001b[A\u001b[A\n"
     ]
    },
    {
     "name": "stdout",
     "output_type": "stream",
     "text": [
      "\n",
      "Epoch: 002, Loss: 0.5765, Val: 0.5000, Test: 0.5000\n"
     ]
    },
    {
     "name": "stderr",
     "output_type": "stream",
     "text": [
      "\n",
      "  0%|          | 2/10000 [00:38<51:33:58, 18.57s/it]\u001b[A\n",
      "\n",
      "  0%|          | 0/4 [00:00<?, ?it/s]\u001b[A\u001b[A\n",
      "\n",
      " 25%|██▌       | 1/4 [00:03<00:10,  3.45s/it]\u001b[A\u001b[A\n",
      "\n",
      " 50%|█████     | 2/4 [00:06<00:06,  3.41s/it]\u001b[A\u001b[A\n",
      "\n",
      " 75%|███████▌  | 3/4 [00:10<00:03,  3.32s/it]\u001b[A\u001b[A\n",
      "\n",
      "100%|██████████| 4/4 [00:12<00:00,  3.23s/it]\u001b[A\u001b[A\n"
     ]
    },
    {
     "name": "stdout",
     "output_type": "stream",
     "text": [
      "\n",
      "Epoch: 003, Loss: 0.5415, Val: 0.5003, Test: 0.5000\n"
     ]
    },
    {
     "name": "stderr",
     "output_type": "stream",
     "text": [
      "\n",
      "  0%|          | 3/10000 [00:52<45:39:58, 16.44s/it]\u001b[A\n",
      "\n",
      "  0%|          | 0/4 [00:00<?, ?it/s]\u001b[A\u001b[A\n",
      "\n",
      " 25%|██▌       | 1/4 [00:03<00:09,  3.17s/it]\u001b[A\u001b[A\n",
      "\n",
      " 50%|█████     | 2/4 [00:06<00:06,  3.21s/it]\u001b[A\u001b[A\n",
      "\n",
      " 75%|███████▌  | 3/4 [00:09<00:03,  3.33s/it]\u001b[A\u001b[A\n",
      "\n",
      "100%|██████████| 4/4 [00:12<00:00,  3.13s/it]\u001b[A\u001b[A\n",
      "\n",
      "  0%|          | 4/10000 [01:05<41:54:45, 15.09s/it]\u001b[A\n",
      "\n",
      "  0%|          | 0/4 [00:00<?, ?it/s]\u001b[A\u001b[A\n",
      "\n",
      " 25%|██▌       | 1/4 [00:03<00:11,  3.75s/it]\u001b[A\u001b[A\n",
      "\n",
      " 50%|█████     | 2/4 [00:07<00:06,  3.49s/it]\u001b[A\u001b[A\n",
      "\n",
      " 75%|███████▌  | 3/4 [00:10<00:03,  3.35s/it]\u001b[A\u001b[A\n",
      "\n",
      "100%|██████████| 4/4 [00:13<00:00,  3.25s/it]\u001b[A\u001b[A\n"
     ]
    },
    {
     "name": "stdout",
     "output_type": "stream",
     "text": [
      "\n",
      "Epoch: 005, Loss: 0.5345, Val: 0.5230, Test: 0.5220\n"
     ]
    },
    {
     "name": "stderr",
     "output_type": "stream",
     "text": [
      "\n",
      "  0%|          | 5/10000 [01:19<40:56:42, 14.75s/it]\u001b[A\n",
      "\n",
      "  0%|          | 0/4 [00:00<?, ?it/s]\u001b[A\u001b[A\n",
      "\n",
      " 25%|██▌       | 1/4 [00:03<00:10,  3.62s/it]\u001b[A\u001b[A\n",
      "\n",
      " 50%|█████     | 2/4 [00:06<00:06,  3.40s/it]\u001b[A\u001b[A\n",
      "\n",
      " 75%|███████▌  | 3/4 [00:10<00:03,  3.28s/it]\u001b[A\u001b[A\n",
      "\n",
      "100%|██████████| 4/4 [00:12<00:00,  3.23s/it]\u001b[A\u001b[A\n",
      "\n",
      "  0%|          | 6/10000 [01:33<39:43:11, 14.31s/it]\u001b[A\n",
      "\n",
      "  0%|          | 0/4 [00:00<?, ?it/s]\u001b[A\u001b[A\n",
      "\n",
      " 25%|██▌       | 1/4 [00:03<00:10,  3.57s/it]\u001b[A\u001b[A\n",
      "\n",
      " 50%|█████     | 2/4 [00:07<00:07,  3.58s/it]\u001b[A\u001b[A\n",
      "\n",
      " 75%|███████▌  | 3/4 [00:10<00:03,  3.46s/it]\u001b[A\u001b[A\n",
      "\n",
      "100%|██████████| 4/4 [00:13<00:00,  3.30s/it]\u001b[A\u001b[A\n"
     ]
    },
    {
     "name": "stdout",
     "output_type": "stream",
     "text": [
      "\n",
      "Epoch: 007, Loss: 0.5268, Val: 0.5385, Test: 0.5385\n"
     ]
    },
    {
     "name": "stderr",
     "output_type": "stream",
     "text": [
      "\n",
      "  0%|          | 7/10000 [01:47<39:39:18, 14.29s/it]\u001b[A\n",
      "\n",
      "  0%|          | 0/4 [00:00<?, ?it/s]\u001b[A\u001b[A\n",
      "\n",
      " 25%|██▌       | 1/4 [00:03<00:09,  3.23s/it]\u001b[A\u001b[A\n",
      "\n",
      " 50%|█████     | 2/4 [00:06<00:06,  3.19s/it]\u001b[A\u001b[A\n",
      "\n",
      " 75%|███████▌  | 3/4 [00:10<00:03,  3.59s/it]\u001b[A\u001b[A\n",
      "\n",
      "100%|██████████| 4/4 [00:15<00:00,  3.82s/it]\u001b[A\u001b[A\n"
     ]
    },
    {
     "name": "stdout",
     "output_type": "stream",
     "text": [
      "\n",
      "Epoch: 008, Loss: 0.5201, Val: 0.5572, Test: 0.5560\n"
     ]
    },
    {
     "name": "stderr",
     "output_type": "stream",
     "text": [
      "\n",
      "  0%|          | 8/10000 [02:04<41:36:19, 14.99s/it]\u001b[A\n",
      "\n",
      "  0%|          | 0/4 [00:00<?, ?it/s]\u001b[A\u001b[A\n",
      "\n",
      " 25%|██▌       | 1/4 [00:05<00:16,  5.37s/it]\u001b[A\u001b[A\n",
      "\n",
      " 50%|█████     | 2/4 [00:08<00:08,  4.30s/it]\u001b[A\u001b[A\n",
      "\n",
      " 75%|███████▌  | 3/4 [00:12<00:03,  3.85s/it]\u001b[A\u001b[A\n",
      "\n",
      "100%|██████████| 4/4 [00:15<00:00,  3.78s/it]\u001b[A\u001b[A\n"
     ]
    },
    {
     "name": "stdout",
     "output_type": "stream",
     "text": [
      "\n",
      "Epoch: 009, Loss: 0.5149, Val: 0.5704, Test: 0.5688\n"
     ]
    },
    {
     "name": "stderr",
     "output_type": "stream",
     "text": [
      "\n",
      "  0%|          | 9/10000 [02:20<42:37:10, 15.36s/it]\u001b[A\n",
      "\n",
      "  0%|          | 0/4 [00:00<?, ?it/s]\u001b[A\u001b[A\n",
      "\n",
      " 25%|██▌       | 1/4 [00:03<00:10,  3.51s/it]\u001b[A\u001b[A\n",
      "\n",
      " 50%|█████     | 2/4 [00:06<00:06,  3.41s/it]\u001b[A\u001b[A\n",
      "\n",
      " 75%|███████▌  | 3/4 [00:10<00:03,  3.37s/it]\u001b[A\u001b[A\n",
      "\n",
      "100%|██████████| 4/4 [00:13<00:00,  3.26s/it]\u001b[A\u001b[A\n"
     ]
    },
    {
     "name": "stdout",
     "output_type": "stream",
     "text": [
      "\n",
      "Epoch: 010, Loss: 0.5054, Val: 0.5792, Test: 0.5788\n"
     ]
    },
    {
     "name": "stderr",
     "output_type": "stream",
     "text": [
      "\n",
      "  0%|          | 10/10000 [02:34<41:31:35, 14.96s/it]\u001b[A\n",
      "\n",
      "  0%|          | 0/4 [00:00<?, ?it/s]\u001b[A\u001b[A\n",
      "\n",
      " 25%|██▌       | 1/4 [00:03<00:11,  3.72s/it]\u001b[A\u001b[A\n",
      "\n",
      " 50%|█████     | 2/4 [00:07<00:06,  3.50s/it]\u001b[A\u001b[A\n",
      "\n",
      " 75%|███████▌  | 3/4 [00:11<00:03,  3.71s/it]\u001b[A\u001b[A\n",
      "\n",
      "100%|██████████| 4/4 [00:14<00:00,  3.54s/it]\u001b[A\u001b[A\n"
     ]
    },
    {
     "name": "stdout",
     "output_type": "stream",
     "text": [
      "\n",
      "Epoch: 011, Loss: 0.4971, Val: 0.5844, Test: 0.5830\n"
     ]
    },
    {
     "name": "stderr",
     "output_type": "stream",
     "text": [
      "\n",
      "  0%|          | 11/10000 [02:49<41:42:00, 15.03s/it]\u001b[A\n",
      "\n",
      "  0%|          | 0/4 [00:00<?, ?it/s]\u001b[A\u001b[A\n",
      "\n",
      " 25%|██▌       | 1/4 [00:03<00:11,  3.80s/it]\u001b[A\u001b[A\n",
      "\n",
      " 50%|█████     | 2/4 [00:07<00:07,  3.72s/it]\u001b[A\u001b[A\n",
      "\n",
      " 75%|███████▌  | 3/4 [00:10<00:03,  3.62s/it]\u001b[A\u001b[A\n",
      "\n",
      "100%|██████████| 4/4 [00:14<00:00,  3.52s/it]\u001b[A\u001b[A\n"
     ]
    },
    {
     "name": "stdout",
     "output_type": "stream",
     "text": [
      "\n",
      "Epoch: 012, Loss: 0.4896, Val: 0.5910, Test: 0.5896\n"
     ]
    },
    {
     "name": "stderr",
     "output_type": "stream",
     "text": [
      "\n",
      "  0%|          | 12/10000 [03:04<41:44:28, 15.04s/it]\u001b[A\n",
      "\n",
      "  0%|          | 0/4 [00:00<?, ?it/s]\u001b[A\u001b[A\n",
      "\n",
      " 25%|██▌       | 1/4 [00:03<00:11,  3.77s/it]\u001b[A\u001b[A\n",
      "\n",
      " 50%|█████     | 2/4 [00:07<00:07,  3.66s/it]\u001b[A\u001b[A\n",
      "\n",
      " 75%|███████▌  | 3/4 [00:10<00:03,  3.51s/it]\u001b[A\u001b[A\n",
      "\n",
      "100%|██████████| 4/4 [00:13<00:00,  3.38s/it]\u001b[A\u001b[A\n"
     ]
    },
    {
     "name": "stdout",
     "output_type": "stream",
     "text": [
      "\n",
      "Epoch: 013, Loss: 0.4837, Val: 0.5982, Test: 0.5956\n"
     ]
    },
    {
     "name": "stderr",
     "output_type": "stream",
     "text": [
      "\n",
      "  0%|          | 13/10000 [03:19<41:18:36, 14.89s/it]\u001b[A\n",
      "\n",
      "  0%|          | 0/4 [00:00<?, ?it/s]\u001b[A\u001b[A\n",
      "\n",
      " 25%|██▌       | 1/4 [00:04<00:12,  4.08s/it]\u001b[A\u001b[A\n",
      "\n",
      " 50%|█████     | 2/4 [00:07<00:07,  3.80s/it]\u001b[A\u001b[A\n",
      "\n",
      " 75%|███████▌  | 3/4 [00:11<00:03,  3.61s/it]\u001b[A\u001b[A\n",
      "\n",
      "100%|██████████| 4/4 [00:14<00:00,  3.51s/it]\u001b[A\u001b[A\n"
     ]
    },
    {
     "name": "stdout",
     "output_type": "stream",
     "text": [
      "\n",
      "Epoch: 014, Loss: 0.4769, Val: 0.6065, Test: 0.6040\n"
     ]
    },
    {
     "name": "stderr",
     "output_type": "stream",
     "text": [
      "\n",
      "  0%|          | 14/10000 [03:34<41:24:30, 14.93s/it]\u001b[A\n",
      "\n",
      "  0%|          | 0/4 [00:00<?, ?it/s]\u001b[A\u001b[A\n",
      "\n",
      " 25%|██▌       | 1/4 [00:03<00:11,  3.89s/it]\u001b[A\u001b[A\n",
      "\n",
      " 50%|█████     | 2/4 [00:07<00:07,  3.68s/it]\u001b[A\u001b[A\n",
      "\n",
      " 75%|███████▌  | 3/4 [00:10<00:03,  3.59s/it]\u001b[A\u001b[A\n",
      "\n",
      "100%|██████████| 4/4 [00:13<00:00,  3.48s/it]\u001b[A\u001b[A\n"
     ]
    },
    {
     "name": "stdout",
     "output_type": "stream",
     "text": [
      "\n",
      "Epoch: 015, Loss: 0.4703, Val: 0.6149, Test: 0.6128\n"
     ]
    },
    {
     "name": "stderr",
     "output_type": "stream",
     "text": [
      "\n",
      "  0%|          | 15/10000 [03:49<41:26:36, 14.94s/it]\u001b[A\n",
      "\n",
      "  0%|          | 0/4 [00:00<?, ?it/s]\u001b[A\u001b[A\n",
      "\n",
      " 25%|██▌       | 1/4 [00:03<00:10,  3.64s/it]\u001b[A\u001b[A\n",
      "\n",
      " 50%|█████     | 2/4 [00:07<00:07,  3.65s/it]\u001b[A\u001b[A\n",
      "\n",
      " 75%|███████▌  | 3/4 [00:10<00:03,  3.54s/it]\u001b[A\u001b[A\n",
      "\n",
      "100%|██████████| 4/4 [00:13<00:00,  3.41s/it]\u001b[A\u001b[A\n"
     ]
    },
    {
     "name": "stdout",
     "output_type": "stream",
     "text": [
      "\n",
      "Epoch: 016, Loss: 0.4644, Val: 0.6192, Test: 0.6166\n"
     ]
    },
    {
     "name": "stderr",
     "output_type": "stream",
     "text": [
      "\n",
      "  0%|          | 16/10000 [04:03<41:13:51, 14.87s/it]\u001b[A\n",
      "\n",
      "  0%|          | 0/4 [00:00<?, ?it/s]\u001b[A\u001b[A\n",
      "\n",
      " 25%|██▌       | 1/4 [00:03<00:10,  3.51s/it]\u001b[A\u001b[A\n",
      "\n",
      " 50%|█████     | 2/4 [00:07<00:07,  3.56s/it]\u001b[A\u001b[A\n",
      "\n",
      " 75%|███████▌  | 3/4 [00:10<00:03,  3.35s/it]\u001b[A\u001b[A\n",
      "\n",
      "100%|██████████| 4/4 [00:12<00:00,  3.25s/it]\u001b[A\u001b[A\n"
     ]
    },
    {
     "name": "stdout",
     "output_type": "stream",
     "text": [
      "\n",
      "Epoch: 017, Loss: 0.4583, Val: 0.6215, Test: 0.6185\n"
     ]
    },
    {
     "name": "stderr",
     "output_type": "stream",
     "text": [
      "\n",
      "  0%|          | 17/10000 [04:17<40:29:27, 14.60s/it]\u001b[A\n",
      "\n",
      "  0%|          | 0/4 [00:00<?, ?it/s]\u001b[A\u001b[A\n",
      "\n",
      " 25%|██▌       | 1/4 [00:03<00:10,  3.54s/it]\u001b[A\u001b[A\n",
      "\n",
      " 50%|█████     | 2/4 [00:07<00:07,  3.79s/it]\u001b[A\u001b[A\n",
      "\n",
      " 75%|███████▌  | 3/4 [00:10<00:03,  3.54s/it]\u001b[A\u001b[A\n",
      "\n",
      "100%|██████████| 4/4 [00:13<00:00,  3.49s/it]\u001b[A\u001b[A\n",
      "\n",
      "  0%|          | 18/10000 [04:32<40:23:18, 14.57s/it]\u001b[A\n",
      "\n",
      "  0%|          | 0/4 [00:00<?, ?it/s]\u001b[A\u001b[A\n",
      "\n",
      " 25%|██▌       | 1/4 [00:03<00:11,  3.73s/it]\u001b[A\u001b[A\n",
      "\n",
      " 50%|█████     | 2/4 [00:07<00:07,  3.61s/it]\u001b[A\u001b[A\n",
      "\n",
      " 75%|███████▌  | 3/4 [00:10<00:03,  3.53s/it]\u001b[A\u001b[A\n",
      "\n",
      "100%|██████████| 4/4 [00:13<00:00,  3.39s/it]\u001b[A\u001b[A\n",
      "\n",
      "  0%|          | 19/10000 [04:46<40:02:18, 14.44s/it]\u001b[A\n",
      "\n",
      "  0%|          | 0/4 [00:00<?, ?it/s]\u001b[A\u001b[A\n",
      "\n",
      " 25%|██▌       | 1/4 [00:03<00:10,  3.62s/it]\u001b[A\u001b[A\n",
      "\n",
      " 50%|█████     | 2/4 [00:07<00:06,  3.50s/it]\u001b[A\u001b[A\n",
      "\n",
      " 75%|███████▌  | 3/4 [00:10<00:03,  3.45s/it]\u001b[A\u001b[A\n",
      "\n",
      "100%|██████████| 4/4 [00:13<00:00,  3.29s/it]\u001b[A\u001b[A\n",
      "\n",
      "  0%|          | 20/10000 [05:00<39:25:06, 14.22s/it]\u001b[A\n",
      "\n",
      "  0%|          | 0/4 [00:00<?, ?it/s]\u001b[A\u001b[A\n",
      "\n",
      " 25%|██▌       | 1/4 [00:03<00:10,  3.59s/it]\u001b[A\u001b[A\n",
      "\n",
      " 50%|█████     | 2/4 [00:07<00:07,  3.56s/it]\u001b[A\u001b[A\n",
      "\n",
      " 75%|███████▌  | 3/4 [00:10<00:03,  3.45s/it]\u001b[A\u001b[A\n",
      "\n",
      "100%|██████████| 4/4 [00:13<00:00,  3.45s/it]\u001b[A\u001b[A\n",
      "\n",
      "  0%|          | 21/10000 [05:14<39:26:44, 14.23s/it]\u001b[A\n",
      "\n",
      "  0%|          | 0/4 [00:00<?, ?it/s]\u001b[A\u001b[A\n",
      "\n",
      " 25%|██▌       | 1/4 [00:03<00:11,  3.89s/it]\u001b[A\u001b[A\n",
      "\n",
      " 50%|█████     | 2/4 [00:07<00:07,  3.60s/it]\u001b[A\u001b[A\n",
      "\n",
      " 75%|███████▌  | 3/4 [00:10<00:03,  3.57s/it]\u001b[A\u001b[A\n",
      "\n",
      "100%|██████████| 4/4 [00:13<00:00,  3.43s/it]\u001b[A\u001b[A\n",
      "\n",
      "  0%|          | 22/10000 [05:28<39:25:30, 14.22s/it]\u001b[A\n",
      "\n",
      "  0%|          | 0/4 [00:00<?, ?it/s]\u001b[A\u001b[A\n",
      "\n",
      " 25%|██▌       | 1/4 [00:03<00:09,  3.13s/it]\u001b[A\u001b[A\n",
      "\n",
      " 50%|█████     | 2/4 [00:06<00:06,  3.41s/it]\u001b[A\u001b[A\n",
      "\n",
      " 75%|███████▌  | 3/4 [00:09<00:03,  3.32s/it]\u001b[A\u001b[A\n",
      "\n",
      "100%|██████████| 4/4 [00:12<00:00,  3.23s/it]\u001b[A\u001b[A\n",
      "\n",
      "  0%|          | 23/10000 [05:42<38:42:24, 13.97s/it]\u001b[A\n",
      "\n",
      "  0%|          | 0/4 [00:00<?, ?it/s]\u001b[A\u001b[A\n",
      "\n",
      " 25%|██▌       | 1/4 [00:03<00:10,  3.53s/it]\u001b[A\u001b[A\n",
      "\n",
      " 50%|█████     | 2/4 [00:07<00:07,  3.66s/it]\u001b[A\u001b[A\n",
      "\n",
      " 75%|███████▌  | 3/4 [00:10<00:03,  3.39s/it]\u001b[A\u001b[A\n",
      "\n",
      "100%|██████████| 4/4 [00:13<00:00,  3.27s/it]\u001b[A\u001b[A\n",
      "\n",
      "  0%|          | 24/10000 [05:55<38:23:12, 13.85s/it]\u001b[A\n",
      "\n",
      "  0%|          | 0/4 [00:00<?, ?it/s]\u001b[A\u001b[A\n",
      "\n",
      " 25%|██▌       | 1/4 [00:03<00:10,  3.60s/it]\u001b[A\u001b[A\n",
      "\n",
      " 50%|█████     | 2/4 [00:07<00:07,  3.59s/it]\u001b[A\u001b[A\n",
      "\n",
      " 75%|███████▌  | 3/4 [00:10<00:03,  3.55s/it]\u001b[A\u001b[A\n",
      "\n",
      "100%|██████████| 4/4 [00:13<00:00,  3.42s/it]\u001b[A\u001b[A\n",
      "\n",
      "  0%|          | 25/10000 [06:09<38:41:29, 13.96s/it]\u001b[A\n",
      "\n",
      "  0%|          | 0/4 [00:00<?, ?it/s]\u001b[A\u001b[A\n",
      "\n",
      " 25%|██▌       | 1/4 [00:03<00:10,  3.33s/it]\u001b[A\u001b[A\n",
      "\n",
      " 50%|█████     | 2/4 [00:06<00:06,  3.29s/it]\u001b[A\u001b[A\n",
      "\n",
      " 75%|███████▌  | 3/4 [00:09<00:03,  3.18s/it]\u001b[A\u001b[A\n",
      "\n",
      "100%|██████████| 4/4 [00:12<00:00,  3.09s/it]\u001b[A\u001b[A\n",
      "\n",
      "  0%|          | 26/10000 [06:22<37:45:08, 13.63s/it]\u001b[A\n",
      "\n",
      "  0%|          | 0/4 [00:00<?, ?it/s]\u001b[A\u001b[A\n",
      "\n",
      " 25%|██▌       | 1/4 [00:03<00:09,  3.09s/it]\u001b[A\u001b[A\n",
      "\n",
      " 50%|█████     | 2/4 [00:06<00:06,  3.14s/it]\u001b[A\u001b[A\n",
      "\n",
      " 75%|███████▌  | 3/4 [00:09<00:03,  3.23s/it]\u001b[A\u001b[A\n",
      "\n",
      "100%|██████████| 4/4 [00:12<00:00,  3.08s/it]\u001b[A\u001b[A\n",
      "\n",
      "  0%|          | 27/10000 [06:35<37:03:43, 13.38s/it]\u001b[A\n",
      "\n",
      "  0%|          | 0/4 [00:00<?, ?it/s]\u001b[A\u001b[A\n",
      "\n",
      " 25%|██▌       | 1/4 [00:04<00:12,  4.19s/it]\u001b[A\u001b[A\n",
      "\n",
      " 50%|█████     | 2/4 [00:09<00:10,  5.10s/it]\u001b[A\u001b[A\n",
      "\n",
      " 75%|███████▌  | 3/4 [00:13<00:04,  4.28s/it]\u001b[A\u001b[A\n",
      "\n",
      "100%|██████████| 4/4 [00:16<00:00,  4.13s/it]\u001b[A\u001b[A\n",
      "\n",
      "  0%|          | 28/10000 [06:52<40:05:34, 14.47s/it]\u001b[A\n",
      "\n",
      "  0%|          | 0/4 [00:00<?, ?it/s]\u001b[A\u001b[A\n",
      "\n",
      " 25%|██▌       | 1/4 [00:03<00:10,  3.38s/it]\u001b[A\u001b[A\n",
      "\n",
      " 50%|█████     | 2/4 [00:06<00:07,  3.50s/it]\u001b[A\u001b[A\n",
      "\n",
      " 75%|███████▌  | 3/4 [00:10<00:03,  3.50s/it]\u001b[A\u001b[A\n",
      "\n",
      "100%|██████████| 4/4 [00:13<00:00,  3.32s/it]\u001b[A\u001b[A\n",
      "\n",
      "  0%|          | 29/10000 [07:06<39:33:51, 14.28s/it]\u001b[A\n",
      "\n",
      "  0%|          | 0/4 [00:00<?, ?it/s]\u001b[A\u001b[A\n",
      "\n",
      " 25%|██▌       | 1/4 [00:03<00:10,  3.58s/it]\u001b[A\u001b[A\n",
      "\n",
      " 50%|█████     | 2/4 [00:07<00:06,  3.50s/it]\u001b[A\u001b[A\n",
      "\n",
      " 75%|███████▌  | 3/4 [00:10<00:03,  3.48s/it]\u001b[A\u001b[A\n",
      "\n",
      "100%|██████████| 4/4 [00:13<00:00,  3.33s/it]\u001b[A\u001b[A\n",
      "\n",
      "  0%|          | 30/10000 [07:20<39:10:57, 14.15s/it]\u001b[A\n",
      "\n",
      "  0%|          | 0/4 [00:00<?, ?it/s]\u001b[A\u001b[A\n",
      "\n",
      " 25%|██▌       | 1/4 [00:03<00:10,  3.55s/it]\u001b[A\u001b[A\n",
      "\n",
      " 50%|█████     | 2/4 [00:07<00:07,  3.51s/it]\u001b[A\u001b[A\n",
      "\n",
      " 75%|███████▌  | 3/4 [00:10<00:03,  3.45s/it]\u001b[A\u001b[A\n",
      "\n",
      "100%|██████████| 4/4 [00:13<00:00,  3.34s/it]\u001b[A\u001b[A\n",
      "\n",
      "  0%|          | 31/10000 [07:34<38:58:22, 14.07s/it]\u001b[A\n",
      "\n",
      "  0%|          | 0/4 [00:00<?, ?it/s]\u001b[A\u001b[A\n",
      "\n",
      " 25%|██▌       | 1/4 [00:03<00:11,  3.99s/it]\u001b[A\u001b[A\n",
      "\n",
      " 50%|█████     | 2/4 [00:07<00:07,  3.70s/it]\u001b[A\u001b[A\n",
      "\n",
      " 75%|███████▌  | 3/4 [00:11<00:03,  3.67s/it]\u001b[A\u001b[A\n",
      "\n",
      "100%|██████████| 4/4 [00:13<00:00,  3.49s/it]\u001b[A\u001b[A\n",
      "\n",
      "  0%|          | 32/10000 [07:48<39:20:28, 14.21s/it]\u001b[A\n",
      "\n",
      "  0%|          | 0/4 [00:00<?, ?it/s]\u001b[A\u001b[A\n",
      "\n",
      " 25%|██▌       | 1/4 [00:03<00:09,  3.29s/it]\u001b[A\u001b[A\n",
      "\n",
      " 50%|█████     | 2/4 [00:07<00:07,  3.56s/it]\u001b[A\u001b[A\n",
      "\n",
      " 75%|███████▌  | 3/4 [00:10<00:03,  3.48s/it]\u001b[A\u001b[A\n",
      "\n",
      "100%|██████████| 4/4 [00:13<00:00,  3.31s/it]\u001b[A\u001b[A\n",
      "\n",
      "  0%|          | 33/10000 [08:02<38:57:43, 14.07s/it]\u001b[A\n",
      "\n",
      "  0%|          | 0/4 [00:00<?, ?it/s]\u001b[A\u001b[A\n",
      "\n",
      " 25%|██▌       | 1/4 [00:03<00:09,  3.30s/it]\u001b[A\u001b[A\n",
      "\n",
      " 50%|█████     | 2/4 [00:06<00:06,  3.43s/it]\u001b[A\u001b[A"
     ]
    }
   ],
   "source": [
    "output_dict, model = perform_cross_validation(data, parameters, save_embeddings=True, save_subgraph=True, final_fit=True)"
   ]
  },
  {
   "cell_type": "code",
   "execution_count": null,
   "metadata": {},
   "outputs": [],
   "source": [
    "output_dict.keys()\n",
    "print('AUC:', output_dict['AUC_0_test'])\n",
    "print('Balanced Accuracy:', output_dict['Balanced Accuracy_0_test'])"
   ]
  },
  {
   "cell_type": "code",
   "execution_count": null,
   "metadata": {},
   "outputs": [],
   "source": [
    "unique_scales = df_item['scale'].unique()\n",
    "unique_domains = df_item['domain'].unique()\n",
    "unique_matdiff = df_item['matdiff'].sort_values().unique()\n",
    "#scale_colors = dict([(c, plt.cm.tab10(i)) for i, c in enumerate(unique_scales)])\n",
    "#domain_colors = dict([(c, plt.cm.tab10(i)) for i, c in enumerate(unique_domains)])"
   ]
  },
  {
   "cell_type": "code",
   "execution_count": null,
   "metadata": {},
   "outputs": [],
   "source": [
    "train_losses = output_dict['losses_0']\n",
    "train_edge_indices, val_edge_indices, test_edge_indices = output_dict['indices_0']\n",
    "\n",
    "train_data = output_dict['train_subgraph_data'] \n",
    "val_data = output_dict['val_subgraph_data'] \n",
    "test_data = output_dict['test_subgraph_data']\n",
    "\n",
    "aux_data = (df, df_student, df_item, df_edge, \n",
    "    #clustering_indices, \n",
    "    train_losses, #test_losses, test_aucs, \n",
    "    train_edge_indices, val_edge_indices, test_edge_indices, \n",
    "    data.cpu(), train_data.cpu(), val_data.cpu(), test_data.cpu(),\n",
    "    unique_scales, unique_domains, unique_matdiff, \n",
    "    DATA_FILE)\n",
    "\n",
    "with open(f'./results/{OUTNAME}_{DATASET}_aux_data.pkl', 'wb') as handle:\n",
    "    pickle.dump(aux_data, handle, protocol=pickle.HIGHEST_PROTOCOL)"
   ]
  },
  {
   "cell_type": "code",
   "execution_count": null,
   "metadata": {},
   "outputs": [],
   "source": [
    "# SAVE EVERYTHING\n",
    "torch.save(model, f'./results/{OUTNAME}_{DATASET}.pth.tar')"
   ]
  },
  {
   "cell_type": "code",
   "execution_count": null,
   "metadata": {},
   "outputs": [],
   "source": [
    "train_indices = np.arange(len(train_losses))\n",
    "fig = plt.figure()\n",
    "plt.plot(train_indices, train_losses, c='blue')\n",
    "plt.ylabel('Loss')\n",
    "plt.xlabel('Epoch')\n",
    "\n",
    "fig.tight_layout()"
   ]
  },
  {
   "cell_type": "code",
   "execution_count": null,
   "metadata": {},
   "outputs": [],
   "source": [
    "# save IRT parameters to matrix\n",
    "if OUTNAME == 'IRT' and IRT_DIMS == 1:    \n",
    "    #z_dict = model.get_embeddings(train_data.to(device))\n",
    "    z_dict = output_dict['embedding_0']\n",
    "    df_item['IRT1_difficulty'] = -z_dict['offset']\n",
    "    df_item['IRT1_discrimination'] = z_dict['discrimination']\n",
    "    df_item['IRT1_discrimination_transf'] = z_dict['item']\n",
    "    ability = z_dict['ability']\n",
    "    df_edge['IRT1_ability'] = ability.ravel()\n",
    "    \n",
    "    aux_data = (df, df_student, df_item, df_edge, \n",
    "    train_losses, \n",
    "    train_edge_indices, val_edge_indices, test_edge_indices,\n",
    "    data.cpu(), train_data.cpu(), val_data.cpu().cpu(), test_data.cpu(),\n",
    "    unique_scales, unique_domains, unique_matdiff, \n",
    "    DATA_FILE)\n",
    "\n",
    "    with open(f'./results/{OUTNAME}_{DATASET}_aux_data_IRT1.pkl', 'wb') as handle:\n",
    "        pickle.dump(aux_data, handle, protocol=pickle.HIGHEST_PROTOCOL)\n",
    "        \n",
    "    df_item_clean = df_item.dropna(subset=['IRT_difficulty', 'IRT1_difficulty'])    \n",
    "    \n",
    "    fig = plt.figure()\n",
    "    sns.scatterplot(x='IRT_difficulty', y='IRT1_difficulty', data=df_item, hue='scale')\n",
    "    plt.title('Difficulty')\n",
    "    print('Difficulty:', pearsonr(df_item_clean['IRT1_difficulty'], df_item_clean['IRT_difficulty']))\n",
    "    \n",
    "    edge_feat = train_data['student', 'responds', 'item'].edge_attr.detach().cpu().numpy()\n",
    "    df_edge_clean = df_edge.dropna(subset=['IRT1_ability', 'ability', 'age'])\n",
    "    fig = plt.figure()\n",
    "    sns.scatterplot(x='age', y='IRT1_ability', data=df_edge_clean, hue='grade')\n",
    "    plt.title('Age-Ability')\n",
    "    \n",
    "    fig = plt.figure()\n",
    "    sns.scatterplot(x='grade', y='IRT1_ability', data=df_edge_clean, hue='age')\n",
    "    plt.title('Grade-Ability')\n",
    "    print('Age-Ability:', pearsonr(df_edge_clean['age'], df_edge_clean['IRT1_ability']))\n",
    "\n",
    "    fig = plt.figure()\n",
    "    sns.scatterplot(x='ability', y='IRT1_ability', data=df_edge_clean, hue='grade')\n",
    "    plt.title('Ability')\n",
    "    print('Ability:', pearsonr(df_edge_clean['ability'], df_edge_clean['IRT1_ability']))\n",
    "    "
   ]
  }
 ],
 "metadata": {
  "celltoolbar": "Tags",
  "kernelspec": {
   "display_name": "Python 3 (ipykernel)",
   "language": "python",
   "name": "python3"
  },
  "language_info": {
   "codemirror_mode": {
    "name": "ipython",
    "version": 3
   },
   "file_extension": ".py",
   "mimetype": "text/x-python",
   "name": "python",
   "nbconvert_exporter": "python",
   "pygments_lexer": "ipython3",
   "version": "3.8.13"
  },
  "vscode": {
   "interpreter": {
    "hash": "88516cc94b965045253aac22be7e673e07faa374a8dfeab45aefc65ddf94d8b2"
   }
  }
 },
 "nbformat": 4,
 "nbformat_minor": 2
}
