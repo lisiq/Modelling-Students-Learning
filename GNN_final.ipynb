{
 "cells": [
  {
   "cell_type": "code",
   "execution_count": 1,
   "metadata": {
    "tags": [
     "parameters"
    ]
   },
   "outputs": [],
   "source": [
    "IRT_DIMS = 1\n",
    "TEST = True"
   ]
  },
  {
   "cell_type": "code",
   "execution_count": 2,
   "metadata": {},
   "outputs": [],
   "source": [
    "import sys, os, shutil\n",
    "import pickle\n",
    "import time\n",
    "import numpy as np\n",
    "from utils import (mymode, load_data_heterogeneous, create_data_object_heterogeneous)\n",
    "\n",
    "from IRT import MIRT_2PL\n",
    "from Heterogeneous_embedder import EmbedderHeterogeneous, train_embedder_heterogeneous, test_embedder_heterogeneous\n",
    "from manage_experiments import perform_cross_validation\n",
    "\n",
    "import torch\n",
    "import numpy as np\n",
    "import matplotlib.pyplot as plt\n",
    "\n",
    "from scipy.stats import pearsonr\n",
    "\n",
    "MAXES = 10\n",
    "MINEPOCHS = 5"
   ]
  },
  {
   "cell_type": "code",
   "execution_count": 3,
   "metadata": {},
   "outputs": [
    {
     "name": "stdout",
     "output_type": "stream",
     "text": [
      "cpu\n"
     ]
    }
   ],
   "source": [
    "torch.cuda.empty_cache()\n",
    "device = torch.device('cuda' if torch.cuda.is_available() else 'cpu')\n",
    "print(device)"
   ]
  },
  {
   "cell_type": "code",
   "execution_count": 4,
   "metadata": {},
   "outputs": [],
   "source": [
    "# Initialise\n",
    "parameters = {\n",
    "    'df_name': None,\n",
    "    'epochs': 10000,\n",
    "    'learning_rate': 0.005,\n",
    "    'weight_decay': 0,\n",
    "    'early_stopping': 200,\n",
    "    'n_splits': 10,\n",
    "    'device': 'cuda:0',\n",
    "    'batch_size': 1024\n",
    "    }\n",
    "\n",
    "if IRT_DIMS > 0:\n",
    "    parameters['model_type'] = 'IRT'\n",
    "    parameters['hidden_dims'] = IRT_DIMS\n",
    "    parameters['lambda1'] = 0.01\n",
    "    parameters['lambda2'] = 0.02\n",
    "    OUTNAME = 'IRT'\n",
    "else:\n",
    "    parameters['model_type'] = 'GNN'\n",
    "    parameters['hidden_dims'] = [16,8]\n",
    "    OUTNAME = 'SAGE' "
   ]
  },
  {
   "cell_type": "code",
   "execution_count": 5,
   "metadata": {},
   "outputs": [],
   "source": [
    "if TEST: \n",
    "    #DATA_FILE = 'data/mindsteps_set_matrix_20000'    \n",
    "    DATA_FILE = 'data/mindsteps_set_test_matrix'    \n",
    "else:\n",
    "    DATA_FILE = 'data/mindsteps_set_full' "
   ]
  },
  {
   "cell_type": "code",
   "execution_count": 6,
   "metadata": {},
   "outputs": [
    {
     "name": "stdout",
     "output_type": "stream",
     "text": [
      "(327841, 24)\n"
     ]
    }
   ],
   "source": [
    "df = load_data_heterogeneous(DATA_FILE)\n",
    "data, df_student, df_item, df_edge = create_data_object_heterogeneous(df, return_aux_data=True)"
   ]
  },
  {
   "cell_type": "code",
   "execution_count": 7,
   "metadata": {},
   "outputs": [
    {
     "data": {
      "text/plain": [
       "Index(['studentId', 'code', 'motherTongue', 'Gender', 'scale', 'matrix',\n",
       "       'IRT_difficulty', 'topic', 'responseformat', 'textlength', 'score',\n",
       "       'age', 'grade', 'viewingTime', 'timestamp', 'useCase', 'assessmentId',\n",
       "       'ability', 'frequency', 'previous_sessions', 'years_from_start',\n",
       "       'matdiff', 'matcode', 'domain'],\n",
       "      dtype='object')"
      ]
     },
     "execution_count": 7,
     "metadata": {},
     "output_type": "execute_result"
    }
   ],
   "source": [
    "df.columns"
   ]
  },
  {
   "cell_type": "code",
   "execution_count": 8,
   "metadata": {},
   "outputs": [
    {
     "data": {
      "text/html": [
       "<div>\n",
       "<style scoped>\n",
       "    .dataframe tbody tr th:only-of-type {\n",
       "        vertical-align: middle;\n",
       "    }\n",
       "\n",
       "    .dataframe tbody tr th {\n",
       "        vertical-align: top;\n",
       "    }\n",
       "\n",
       "    .dataframe thead th {\n",
       "        text-align: right;\n",
       "    }\n",
       "</style>\n",
       "<table border=\"1\" class=\"dataframe\">\n",
       "  <thead>\n",
       "    <tr style=\"text-align: right;\">\n",
       "      <th></th>\n",
       "      <th>studentId</th>\n",
       "      <th>code</th>\n",
       "      <th>motherTongue</th>\n",
       "      <th>Gender</th>\n",
       "      <th>scale</th>\n",
       "      <th>matrix</th>\n",
       "      <th>IRT_difficulty</th>\n",
       "      <th>topic</th>\n",
       "      <th>responseformat</th>\n",
       "      <th>textlength</th>\n",
       "      <th>...</th>\n",
       "      <th>timestamp</th>\n",
       "      <th>useCase</th>\n",
       "      <th>assessmentId</th>\n",
       "      <th>ability</th>\n",
       "      <th>frequency</th>\n",
       "      <th>previous_sessions</th>\n",
       "      <th>years_from_start</th>\n",
       "      <th>matdiff</th>\n",
       "      <th>matcode</th>\n",
       "      <th>domain</th>\n",
       "    </tr>\n",
       "  </thead>\n",
       "  <tbody>\n",
       "    <tr>\n",
       "      <th>0</th>\n",
       "      <td>0</td>\n",
       "      <td>0</td>\n",
       "      <td>0.0</td>\n",
       "      <td>0.0</td>\n",
       "      <td>dles</td>\n",
       "      <td>D.2.B.1.f</td>\n",
       "      <td>0.268748</td>\n",
       "      <td>Zeitungsartikel</td>\n",
       "      <td>NaN</td>\n",
       "      <td>NaN</td>\n",
       "      <td>...</td>\n",
       "      <td>7.643058e-312</td>\n",
       "      <td>ms-kber</td>\n",
       "      <td>5E9436B294DBE2FB740ADDCF2B883ECB2254B5F0D37D8E...</td>\n",
       "      <td>2.667269</td>\n",
       "      <td>13.333162</td>\n",
       "      <td>2</td>\n",
       "      <td>0.15</td>\n",
       "      <td></td>\n",
       "      <td></td>\n",
       "      <td>d</td>\n",
       "    </tr>\n",
       "    <tr>\n",
       "      <th>1</th>\n",
       "      <td>0</td>\n",
       "      <td>1</td>\n",
       "      <td>0.0</td>\n",
       "      <td>0.0</td>\n",
       "      <td>dles</td>\n",
       "      <td>D.2.B.1.h</td>\n",
       "      <td>1.217388</td>\n",
       "      <td>Textsorten erkennen</td>\n",
       "      <td>single choice</td>\n",
       "      <td>NaN</td>\n",
       "      <td>...</td>\n",
       "      <td>7.643061e-312</td>\n",
       "      <td>ms-kber</td>\n",
       "      <td>5E9436B294DBE2FB740ADDCF2B883ECB2254B5F0D37D8E...</td>\n",
       "      <td>2.667269</td>\n",
       "      <td>13.333162</td>\n",
       "      <td>2</td>\n",
       "      <td>0.15</td>\n",
       "      <td></td>\n",
       "      <td></td>\n",
       "      <td>d</td>\n",
       "    </tr>\n",
       "    <tr>\n",
       "      <th>2</th>\n",
       "      <td>0</td>\n",
       "      <td>2</td>\n",
       "      <td>0.0</td>\n",
       "      <td>0.0</td>\n",
       "      <td>dles</td>\n",
       "      <td>D.2.B.1.h</td>\n",
       "      <td>1.584145</td>\n",
       "      <td>Wissenstexte: Mix</td>\n",
       "      <td>single choice</td>\n",
       "      <td>NaN</td>\n",
       "      <td>...</td>\n",
       "      <td>7.845624e-312</td>\n",
       "      <td>ms-kber</td>\n",
       "      <td>E109B3CDD31EDCFE7F48665587372C60A3FAEBB8571544...</td>\n",
       "      <td>2.421279</td>\n",
       "      <td>4.137915</td>\n",
       "      <td>6</td>\n",
       "      <td>1.45</td>\n",
       "      <td></td>\n",
       "      <td></td>\n",
       "      <td>d</td>\n",
       "    </tr>\n",
       "    <tr>\n",
       "      <th>3</th>\n",
       "      <td>0</td>\n",
       "      <td>3</td>\n",
       "      <td>0.0</td>\n",
       "      <td>0.0</td>\n",
       "      <td>dles</td>\n",
       "      <td>D.2.B.1.h</td>\n",
       "      <td>1.584145</td>\n",
       "      <td>Wissenstexte: Mix</td>\n",
       "      <td>single choice</td>\n",
       "      <td>NaN</td>\n",
       "      <td>...</td>\n",
       "      <td>7.851631e-312</td>\n",
       "      <td>ms-kber</td>\n",
       "      <td>319A0FE3AFDC0A30C4C1B26577B5B19FE66E918A181354...</td>\n",
       "      <td>2.174872</td>\n",
       "      <td>7.432378</td>\n",
       "      <td>11</td>\n",
       "      <td>1.48</td>\n",
       "      <td></td>\n",
       "      <td></td>\n",
       "      <td>d</td>\n",
       "    </tr>\n",
       "    <tr>\n",
       "      <th>4</th>\n",
       "      <td>0</td>\n",
       "      <td>4</td>\n",
       "      <td>0.0</td>\n",
       "      <td>0.0</td>\n",
       "      <td>dles</td>\n",
       "      <td>D.2.C.1.h</td>\n",
       "      <td>1.172410</td>\n",
       "      <td>Geschichten lang</td>\n",
       "      <td>single choice</td>\n",
       "      <td>NaN</td>\n",
       "      <td>...</td>\n",
       "      <td>7.643059e-312</td>\n",
       "      <td>ms-kber</td>\n",
       "      <td>5E9436B294DBE2FB740ADDCF2B883ECB2254B5F0D37D8E...</td>\n",
       "      <td>2.667269</td>\n",
       "      <td>13.333162</td>\n",
       "      <td>2</td>\n",
       "      <td>0.15</td>\n",
       "      <td></td>\n",
       "      <td></td>\n",
       "      <td>d</td>\n",
       "    </tr>\n",
       "  </tbody>\n",
       "</table>\n",
       "<p>5 rows × 24 columns</p>\n",
       "</div>"
      ],
      "text/plain": [
       "   studentId  code  motherTongue  Gender scale     matrix  IRT_difficulty  \\\n",
       "0          0     0           0.0     0.0  dles  D.2.B.1.f        0.268748   \n",
       "1          0     1           0.0     0.0  dles  D.2.B.1.h        1.217388   \n",
       "2          0     2           0.0     0.0  dles  D.2.B.1.h        1.584145   \n",
       "3          0     3           0.0     0.0  dles  D.2.B.1.h        1.584145   \n",
       "4          0     4           0.0     0.0  dles  D.2.C.1.h        1.172410   \n",
       "\n",
       "                 topic responseformat  textlength  ...      timestamp  \\\n",
       "0      Zeitungsartikel            NaN         NaN  ...  7.643058e-312   \n",
       "1  Textsorten erkennen  single choice         NaN  ...  7.643061e-312   \n",
       "2    Wissenstexte: Mix  single choice         NaN  ...  7.845624e-312   \n",
       "3    Wissenstexte: Mix  single choice         NaN  ...  7.851631e-312   \n",
       "4     Geschichten lang  single choice         NaN  ...  7.643059e-312   \n",
       "\n",
       "   useCase                                       assessmentId   ability  \\\n",
       "0  ms-kber  5E9436B294DBE2FB740ADDCF2B883ECB2254B5F0D37D8E...  2.667269   \n",
       "1  ms-kber  5E9436B294DBE2FB740ADDCF2B883ECB2254B5F0D37D8E...  2.667269   \n",
       "2  ms-kber  E109B3CDD31EDCFE7F48665587372C60A3FAEBB8571544...  2.421279   \n",
       "3  ms-kber  319A0FE3AFDC0A30C4C1B26577B5B19FE66E918A181354...  2.174872   \n",
       "4  ms-kber  5E9436B294DBE2FB740ADDCF2B883ECB2254B5F0D37D8E...  2.667269   \n",
       "\n",
       "   frequency previous_sessions years_from_start  matdiff  matcode  domain  \n",
       "0  13.333162                 2             0.15                         d  \n",
       "1  13.333162                 2             0.15                         d  \n",
       "2   4.137915                 6             1.45                         d  \n",
       "3   7.432378                11             1.48                         d  \n",
       "4  13.333162                 2             0.15                         d  \n",
       "\n",
       "[5 rows x 24 columns]"
      ]
     },
     "execution_count": 8,
     "metadata": {},
     "output_type": "execute_result"
    }
   ],
   "source": [
    "df.head()"
   ]
  },
  {
   "cell_type": "markdown",
   "metadata": {},
   "source": [
    "edge_dim = data['student', 'responds', 'item'].edge_attr.shape[1]\n",
    "if IRT_DIMS > 0:\n",
    "    model = MIRT_2PL(IRT_DIMS, edge_dim, data)\n",
    "else:\n",
    "    model = EmbedderHeterogeneous( \n",
    "        n_students =  data['student'].x.size(0),\n",
    "        n_items = data['item'].x.size(0),\n",
    "        student_inchannel = data['student'].x.size(1),\n",
    "        item_inchannel = data['item'].x.size(1),\n",
    "        hidden_channels=parameters['hidden_dims'],\n",
    "        edge_channel=edge_dim,\n",
    "        metadata=data.metadata()\n",
    "        ).to(device)\n",
    "    \n",
    "model = model.to(device)"
   ]
  },
  {
   "cell_type": "code",
   "execution_count": 9,
   "metadata": {},
   "outputs": [
    {
     "name": "stdout",
     "output_type": "stream",
     "text": [
      "WARNING: running with a fixed random state\n"
     ]
    },
    {
     "name": "stderr",
     "output_type": "stream",
     "text": [
      "0it [00:00, ?it/s]\n",
      "  0%|          | 0/10000 [00:00<?, ?it/s]\u001b[A\n",
      "\n",
      "  0%|          | 0/4 [00:00<?, ?it/s]\u001b[A\u001b[A\n",
      "\n",
      " 25%|██▌       | 1/4 [00:00<00:00,  7.10it/s]\u001b[A\u001b[A\n",
      "\n",
      " 50%|█████     | 2/4 [00:00<00:00,  7.01it/s]\u001b[A\u001b[A"
     ]
    },
    {
     "name": "stdout",
     "output_type": "stream",
     "text": [
      "tensor([[ 2.7158],\n",
      "        [ 0.7591],\n",
      "        [ 1.5490],\n",
      "        ...,\n",
      "        [-1.6551],\n",
      "        [-1.6920],\n",
      "        [-1.6109]], grad_fn=<AddBackward0>)\n",
      "tensor([[-0.6175],\n",
      "        [-0.0837],\n",
      "        [-0.8989],\n",
      "        ...,\n",
      "        [ 1.1734],\n",
      "        [-2.7174],\n",
      "        [-3.6456]], grad_fn=<AddBackward0>)\n"
     ]
    },
    {
     "name": "stderr",
     "output_type": "stream",
     "text": [
      "\n",
      "\n",
      " 75%|███████▌  | 3/4 [00:00<00:00,  7.07it/s]\u001b[A\u001b[A\n",
      "\n",
      "100%|██████████| 4/4 [00:00<00:00,  7.52it/s]\u001b[A\u001b[A"
     ]
    },
    {
     "name": "stdout",
     "output_type": "stream",
     "text": [
      "tensor([[ 0.4209],\n",
      "        [ 2.0413],\n",
      "        [-6.6112],\n",
      "        ...,\n",
      "        [-0.6056],\n",
      "        [-1.9882],\n",
      "        [-1.4344]], grad_fn=<AddBackward0>)\n",
      "tensor([[-1.8504],\n",
      "        [-1.0298],\n",
      "        [ 1.8273],\n",
      "        ...,\n",
      "        [-0.5636],\n",
      "        [-0.4838],\n",
      "        [ 0.1397]], grad_fn=<AddBackward0>)\n",
      "[0 0 0 ... 0 1 0]\n",
      "[1 0 1 ... 1 0 0]\n",
      "[1 0 1 ... 0 0 1]\n",
      "[1 1 1 ... 1 1 0]\n",
      "\n",
      "Epoch: 001, Loss: 31264.0137, Val: 0.4870, Test: 0.4957\n",
      "[1 0 1 ... 0 0 1]\n",
      "[1 1 1 ... 1 1 0]\n"
     ]
    },
    {
     "name": "stderr",
     "output_type": "stream",
     "text": [
      "\n"
     ]
    },
    {
     "name": "stdout",
     "output_type": "stream",
     "text": [
      "[0 0 0 ... 0 1 0]\n",
      "[1 0 1 ... 1 0 0]\n"
     ]
    },
    {
     "name": "stderr",
     "output_type": "stream",
     "text": [
      "\n",
      "  0%|          | 1/10000 [00:00<2:27:06,  1.13it/s]\u001b[A\n",
      "\n",
      "  0%|          | 0/4 [00:00<?, ?it/s]\u001b[A\u001b[A\n",
      "\n",
      " 25%|██▌       | 1/4 [00:00<00:00,  7.38it/s]\u001b[A\u001b[A\n",
      "\n",
      " 50%|█████     | 2/4 [00:00<00:00,  6.99it/s]\u001b[A\u001b[A"
     ]
    },
    {
     "name": "stdout",
     "output_type": "stream",
     "text": [
      "tensor([[ 1.6512],\n",
      "        [ 0.6737],\n",
      "        [ 0.7848],\n",
      "        ...,\n",
      "        [-2.2106],\n",
      "        [-2.1055],\n",
      "        [-2.5196]], grad_fn=<AddBackward0>)\n",
      "tensor([[-0.1887],\n",
      "        [-0.5185],\n",
      "        [ 0.0046],\n",
      "        ...,\n",
      "        [-0.4473],\n",
      "        [-0.3142],\n",
      "        [ 0.5620]], grad_fn=<AddBackward0>)\n"
     ]
    },
    {
     "name": "stderr",
     "output_type": "stream",
     "text": [
      "\n",
      "\n",
      " 75%|███████▌  | 3/4 [00:00<00:00,  6.73it/s]\u001b[A\u001b[A\n",
      "\n",
      "100%|██████████| 4/4 [00:00<00:00,  7.21it/s]\u001b[A\u001b[A"
     ]
    },
    {
     "name": "stdout",
     "output_type": "stream",
     "text": [
      "tensor([[ 0.6269],\n",
      "        [ 0.2789],\n",
      "        [ 2.4691],\n",
      "        ...,\n",
      "        [ 2.2206],\n",
      "        [-1.2444],\n",
      "        [ 1.0341]], grad_fn=<AddBackward0>)\n",
      "tensor([[ 0.0052],\n",
      "        [-0.6999],\n",
      "        [-0.1451],\n",
      "        ...,\n",
      "        [ 0.8828],\n",
      "        [ 0.8652],\n",
      "        [-0.4553]], grad_fn=<AddBackward0>)\n",
      "[0 0 0 ... 0 1 0]\n",
      "[1 0 1 ... 1 0 0]\n",
      "[1 0 1 ... 1 0 1]\n",
      "[1 1 1 ... 1 1 0]\n"
     ]
    },
    {
     "name": "stderr",
     "output_type": "stream",
     "text": [
      "\n",
      "\n",
      "  0%|          | 2/10000 [00:01<2:13:06,  1.25it/s]\u001b[A"
     ]
    },
    {
     "name": "stdout",
     "output_type": "stream",
     "text": [
      "\n",
      "Epoch: 002, Loss: 30352.4004, Val: 0.4890, Test: 0.4959\n",
      "[1 0 1 ... 1 0 1]\n",
      "[1 1 1 ... 1 1 0]\n",
      "[0 0 0 ... 0 1 0]\n",
      "[1 0 1 ... 1 0 0]\n"
     ]
    },
    {
     "name": "stderr",
     "output_type": "stream",
     "text": [
      "\n",
      "\n",
      "  0%|          | 0/4 [00:00<?, ?it/s]\u001b[A\u001b[A\n",
      "\n",
      " 25%|██▌       | 1/4 [00:00<00:00,  7.00it/s]\u001b[A\u001b[A\n",
      "\n",
      " 50%|█████     | 2/4 [00:00<00:00,  6.78it/s]\u001b[A\u001b[A"
     ]
    },
    {
     "name": "stdout",
     "output_type": "stream",
     "text": [
      "tensor([[ 0.9913],\n",
      "        [ 1.0051],\n",
      "        [ 1.2402],\n",
      "        ...,\n",
      "        [-0.0238],\n",
      "        [-0.6289],\n",
      "        [ 0.1403]], grad_fn=<AddBackward0>)\n",
      "tensor([[ 0.1808],\n",
      "        [ 2.8418],\n",
      "        [ 1.4909],\n",
      "        ...,\n",
      "        [-4.0135],\n",
      "        [ 0.9367],\n",
      "        [ 1.3539]], grad_fn=<AddBackward0>)\n"
     ]
    },
    {
     "name": "stderr",
     "output_type": "stream",
     "text": [
      "\n",
      "\n",
      " 75%|███████▌  | 3/4 [00:00<00:00,  6.66it/s]\u001b[A\u001b[A\n",
      "\n",
      "100%|██████████| 4/4 [00:00<00:00,  7.06it/s]\u001b[A\u001b[A"
     ]
    },
    {
     "name": "stdout",
     "output_type": "stream",
     "text": [
      "tensor([[ 3.1581],\n",
      "        [ 1.2141],\n",
      "        [ 0.6982],\n",
      "        ...,\n",
      "        [-3.9637],\n",
      "        [-1.2184],\n",
      "        [-5.5634]], grad_fn=<AddBackward0>)\n",
      "tensor([[-4.8485],\n",
      "        [ 0.6027],\n",
      "        [ 1.9059],\n",
      "        ...,\n",
      "        [ 1.2060],\n",
      "        [ 0.5964],\n",
      "        [ 2.1196]], grad_fn=<AddBackward0>)\n",
      "[0 0 0 ... 0 1 0]\n",
      "[1 0 1 ... 1 0 0]\n",
      "[1 0 1 ... 1 0 1]\n",
      "[1 1 1 ... 1 1 0]\n"
     ]
    },
    {
     "name": "stderr",
     "output_type": "stream",
     "text": [
      "\n",
      "\n",
      "  0%|          | 3/10000 [00:02<2:21:20,  1.18it/s]\u001b[A"
     ]
    },
    {
     "name": "stdout",
     "output_type": "stream",
     "text": [
      "\n",
      "Epoch: 003, Loss: 29741.8750, Val: 0.4920, Test: 0.4975\n",
      "[1 0 1 ... 1 0 1]\n",
      "[1 1 1 ... 1 1 0]\n",
      "[0 0 0 ... 0 1 0]\n",
      "[1 0 1 ... 1 0 0]\n"
     ]
    },
    {
     "name": "stderr",
     "output_type": "stream",
     "text": [
      "\n",
      "\n",
      "  0%|          | 0/4 [00:00<?, ?it/s]\u001b[A\u001b[A\n",
      "\n",
      " 25%|██▌       | 1/4 [00:00<00:00,  8.99it/s]\u001b[A\u001b[A"
     ]
    },
    {
     "name": "stdout",
     "output_type": "stream",
     "text": [
      "tensor([[0.3084],\n",
      "        [2.5656],\n",
      "        [1.7868],\n",
      "        ...,\n",
      "        [0.3783],\n",
      "        [0.5380],\n",
      "        [0.1500]], grad_fn=<AddBackward0>)\n"
     ]
    },
    {
     "name": "stderr",
     "output_type": "stream",
     "text": [
      "\n",
      "\n",
      " 50%|█████     | 2/4 [00:00<00:00,  7.53it/s]\u001b[A\u001b[A"
     ]
    },
    {
     "name": "stdout",
     "output_type": "stream",
     "text": [
      "tensor([[-0.0563],\n",
      "        [-0.3313],\n",
      "        [-0.2457],\n",
      "        ...,\n",
      "        [-0.8912],\n",
      "        [ 0.7752],\n",
      "        [ 0.2836]], grad_fn=<AddBackward0>)\n"
     ]
    },
    {
     "name": "stderr",
     "output_type": "stream",
     "text": [
      "\n",
      "\n",
      " 75%|███████▌  | 3/4 [00:00<00:00,  6.82it/s]\u001b[A\u001b[A"
     ]
    },
    {
     "name": "stdout",
     "output_type": "stream",
     "text": [
      "tensor([[-1.0561],\n",
      "        [-1.0402],\n",
      "        [-0.3194],\n",
      "        ...,\n",
      "        [ 0.5906],\n",
      "        [ 0.6770],\n",
      "        [ 1.3268]], grad_fn=<AddBackward0>)\n"
     ]
    },
    {
     "name": "stderr",
     "output_type": "stream",
     "text": [
      "\n",
      "\n",
      "100%|██████████| 4/4 [00:00<00:00,  7.39it/s]\u001b[A\u001b[A"
     ]
    },
    {
     "name": "stdout",
     "output_type": "stream",
     "text": [
      "tensor([[ 0.4150],\n",
      "        [-1.1812],\n",
      "        [ 0.8331],\n",
      "        ...,\n",
      "        [-0.0130],\n",
      "        [ 0.4206],\n",
      "        [ 0.5349]], grad_fn=<AddBackward0>)\n",
      "[0 0 0 ... 0 1 0]\n",
      "[1 0 1 ... 1 0 0]\n",
      "[1 0 1 ... 1 0 1]\n",
      "[1 1 1 ... 1 1 0]\n"
     ]
    },
    {
     "name": "stderr",
     "output_type": "stream",
     "text": [
      "\n"
     ]
    },
    {
     "name": "stdout",
     "output_type": "stream",
     "text": [
      "\n",
      "Epoch: 004, Loss: 28537.5059, Val: 0.4944, Test: 0.5006\n",
      "[1 0 1 ... 1 0 1]\n",
      "[1 1 1 ... 1 1 0]\n",
      "[0 0 0 ... 0 1 0]\n",
      "[1 0 1 ... 1 0 0]\n"
     ]
    },
    {
     "name": "stderr",
     "output_type": "stream",
     "text": [
      "\n",
      "  0%|          | 4/10000 [00:03<2:24:03,  1.16it/s]\u001b[A\n",
      "\n",
      "  0%|          | 0/4 [00:00<?, ?it/s]\u001b[A\u001b[A\n",
      "\n",
      " 25%|██▌       | 1/4 [00:00<00:00,  7.53it/s]\u001b[A\u001b[A\n",
      "\n",
      " 75%|███████▌  | 3/4 [00:00<00:00,  9.57it/s]\u001b[A\u001b[A"
     ]
    },
    {
     "name": "stdout",
     "output_type": "stream",
     "text": [
      "tensor([[ 0.2705],\n",
      "        [ 0.1013],\n",
      "        [-1.1945],\n",
      "        ...,\n",
      "        [-5.6266],\n",
      "        [-2.2855],\n",
      "        [-2.0256]], grad_fn=<AddBackward0>)\n",
      "tensor([[-0.7635],\n",
      "        [-0.8076],\n",
      "        [-0.8585],\n",
      "        ...,\n",
      "        [-0.7527],\n",
      "        [-0.9594],\n",
      "        [-0.9263]], grad_fn=<AddBackward0>)\n",
      "tensor([[ 0.6981],\n",
      "        [ 1.1580],\n",
      "        [ 1.4007],\n",
      "        ...,\n",
      "        [-2.0674],\n",
      "        [-2.4424],\n",
      "        [-2.9696]], grad_fn=<AddBackward0>)\n"
     ]
    },
    {
     "name": "stderr",
     "output_type": "stream",
     "text": [
      "\n",
      "\n",
      "100%|██████████| 4/4 [00:00<00:00,  9.10it/s]\u001b[A\u001b[A\n",
      "\n",
      "  0%|          | 5/10000 [00:04<2:06:59,  1.31it/s]\u001b[A"
     ]
    },
    {
     "name": "stdout",
     "output_type": "stream",
     "text": [
      "tensor([[ 4.2294e-01],\n",
      "        [ 8.9482e-01],\n",
      "        [ 7.4536e-01],\n",
      "        ...,\n",
      "        [ 2.0552e-04],\n",
      "        [-1.5349e+00],\n",
      "        [ 1.4954e+00]], grad_fn=<AddBackward0>)\n",
      "[0 0 0 ... 0 1 1]\n",
      "[1 0 1 ... 1 0 0]\n",
      "[1 0 1 ... 1 0 1]\n",
      "[1 1 1 ... 1 1 0]\n",
      "\n",
      "Epoch: 005, Loss: 27798.0742, Val: 0.4963, Test: 0.5034\n",
      "[1 0 1 ... 1 0 1]\n",
      "[1 1 1 ... 1 1 0]\n",
      "[0 0 0 ... 0 1 1]\n",
      "[1 0 1 ... 1 0 0]\n"
     ]
    },
    {
     "name": "stderr",
     "output_type": "stream",
     "text": [
      "\n",
      "\n",
      "  0%|          | 0/4 [00:00<?, ?it/s]\u001b[A\u001b[A\n",
      "\n",
      " 25%|██▌       | 1/4 [00:00<00:00,  7.39it/s]\u001b[A\u001b[A\n",
      "\n",
      " 50%|█████     | 2/4 [00:00<00:00,  8.33it/s]\u001b[A\u001b[A"
     ]
    },
    {
     "name": "stdout",
     "output_type": "stream",
     "text": [
      "tensor([[-0.9079],\n",
      "        [-0.7864],\n",
      "        [-0.1180],\n",
      "        ...,\n",
      "        [-1.5733],\n",
      "        [-2.0918],\n",
      "        [-2.1916]], grad_fn=<AddBackward0>)\n",
      "tensor([[1.6269],\n",
      "        [1.4983],\n",
      "        [2.2192],\n",
      "        ...,\n",
      "        [0.3335],\n",
      "        [0.8002],\n",
      "        [0.2241]], grad_fn=<AddBackward0>)\n"
     ]
    },
    {
     "name": "stderr",
     "output_type": "stream",
     "text": [
      "\n",
      "\n",
      "100%|██████████| 4/4 [00:00<00:00,  9.58it/s]\u001b[A\u001b[A\n"
     ]
    },
    {
     "name": "stdout",
     "output_type": "stream",
     "text": [
      "tensor([[-0.1674],\n",
      "        [-1.4562],\n",
      "        [-2.1679],\n",
      "        ...,\n",
      "        [ 0.7083],\n",
      "        [ 0.1255],\n",
      "        [ 0.1225]], grad_fn=<AddBackward0>)\n",
      "tensor([[ 1.2215],\n",
      "        [ 0.9964],\n",
      "        [ 1.4781],\n",
      "        ...,\n",
      "        [ 0.9951],\n",
      "        [-0.0376],\n",
      "        [ 0.2127]], grad_fn=<AddBackward0>)\n",
      "[0 0 0 ... 0 1 1]\n",
      "[1 0 1 ... 1 0 0]\n"
     ]
    },
    {
     "name": "stderr",
     "output_type": "stream",
     "text": [
      "\n",
      "  0%|          | 6/10000 [00:04<2:02:39,  1.36it/s]\u001b[A"
     ]
    },
    {
     "name": "stdout",
     "output_type": "stream",
     "text": [
      "[1 0 1 ... 1 0 1]\n",
      "[1 1 1 ... 1 1 0]\n",
      "\n",
      "Epoch: 006, Loss: 27442.2285, Val: 0.4981, Test: 0.5078\n",
      "[1 0 1 ... 1 0 1]\n",
      "[1 1 1 ... 1 1 0]\n",
      "[0 0 0 ... 0 1 1]\n",
      "[1 0 1 ... 1 0 0]\n"
     ]
    },
    {
     "name": "stderr",
     "output_type": "stream",
     "text": [
      "\n",
      "\n",
      "  0%|          | 0/4 [00:00<?, ?it/s]\u001b[A\u001b[A\n",
      "\n",
      " 25%|██▌       | 1/4 [00:00<00:00,  9.12it/s]\u001b[A\u001b[A\n",
      "\n",
      " 50%|█████     | 2/4 [00:00<00:00,  8.68it/s]\u001b[A\u001b[A"
     ]
    },
    {
     "name": "stdout",
     "output_type": "stream",
     "text": [
      "tensor([[-0.1477],\n",
      "        [ 0.4468],\n",
      "        [ 0.4401],\n",
      "        ...,\n",
      "        [ 1.3663],\n",
      "        [ 1.3449],\n",
      "        [ 1.2995]], grad_fn=<AddBackward0>)\n",
      "tensor([[ 0.7901],\n",
      "        [ 1.3512],\n",
      "        [ 1.5826],\n",
      "        ...,\n",
      "        [-0.2540],\n",
      "        [ 1.4827],\n",
      "        [ 1.7733]], grad_fn=<AddBackward0>)\n"
     ]
    },
    {
     "name": "stderr",
     "output_type": "stream",
     "text": [
      "\n",
      "\n",
      "100%|██████████| 4/4 [00:00<00:00, 10.13it/s]\u001b[A\u001b[A\n"
     ]
    },
    {
     "name": "stdout",
     "output_type": "stream",
     "text": [
      "tensor([[-1.9328],\n",
      "        [-1.8332],\n",
      "        [-2.1237],\n",
      "        ...,\n",
      "        [ 1.7597],\n",
      "        [ 2.1887],\n",
      "        [ 0.2583]], grad_fn=<AddBackward0>)\n",
      "tensor([[ 1.3720],\n",
      "        [ 1.1164],\n",
      "        [ 1.4117],\n",
      "        ...,\n",
      "        [-0.2993],\n",
      "        [-0.4117],\n",
      "        [ 0.3676]], grad_fn=<AddBackward0>)\n",
      "[0 0 0 ... 0 1 1]\n",
      "[1 0 1 ... 1 0 0]\n",
      "[1 0 1 ... 1 0 1]\n",
      "[1 1 1 ... 1 1 0]\n",
      "\n",
      "Epoch: 007, Loss: 26905.9355, Val: 0.5002, Test: 0.5101\n",
      "[1 0 1 ... 1 0 1]\n",
      "[1 1 1 ... 1 1 0]\n"
     ]
    },
    {
     "name": "stderr",
     "output_type": "stream",
     "text": [
      "\n",
      "  0%|          | 7/10000 [00:05<1:58:42,  1.40it/s]\u001b[A"
     ]
    },
    {
     "name": "stdout",
     "output_type": "stream",
     "text": [
      "[0 0 0 ... 0 1 1]\n",
      "[1 0 1 ... 1 0 0]\n"
     ]
    },
    {
     "name": "stderr",
     "output_type": "stream",
     "text": [
      "\n",
      "\n",
      "  0%|          | 0/4 [00:00<?, ?it/s]\u001b[A\u001b[A\n",
      "\n",
      " 25%|██▌       | 1/4 [00:00<00:00,  8.76it/s]\u001b[A\u001b[A"
     ]
    },
    {
     "name": "stdout",
     "output_type": "stream",
     "text": [
      "tensor([[-0.4363],\n",
      "        [-0.3157],\n",
      "        [-0.3634],\n",
      "        ...,\n",
      "        [ 0.5930],\n",
      "        [ 0.4670],\n",
      "        [-0.6915]], grad_fn=<AddBackward0>)\n"
     ]
    },
    {
     "name": "stderr",
     "output_type": "stream",
     "text": [
      "\n",
      "\n",
      " 50%|█████     | 2/4 [00:00<00:00,  8.96it/s]\u001b[A\u001b[A"
     ]
    },
    {
     "name": "stdout",
     "output_type": "stream",
     "text": [
      "tensor([[-0.4283],\n",
      "        [-1.1089],\n",
      "        [ 0.3707],\n",
      "        ...,\n",
      "        [-1.5502],\n",
      "        [ 0.0716],\n",
      "        [-0.6523]], grad_fn=<AddBackward0>)\n"
     ]
    },
    {
     "name": "stderr",
     "output_type": "stream",
     "text": [
      "\n",
      "\n",
      "100%|██████████| 4/4 [00:00<00:00,  9.59it/s]\u001b[A\u001b[A"
     ]
    },
    {
     "name": "stdout",
     "output_type": "stream",
     "text": [
      "tensor([[-2.7285],\n",
      "        [-0.6131],\n",
      "        [-0.7290],\n",
      "        ...,\n",
      "        [ 1.4004],\n",
      "        [ 0.6455],\n",
      "        [-0.3211]], grad_fn=<AddBackward0>)\n",
      "tensor([[-0.9177],\n",
      "        [-0.1705],\n",
      "        [-0.3705],\n",
      "        ...,\n",
      "        [ 0.1752],\n",
      "        [-1.1737],\n",
      "        [-2.5289]], grad_fn=<AddBackward0>)\n"
     ]
    },
    {
     "name": "stderr",
     "output_type": "stream",
     "text": [
      "\n"
     ]
    },
    {
     "name": "stdout",
     "output_type": "stream",
     "text": [
      "[0 0 0 ... 0 1 1]\n",
      "[1 0 1 ... 1 0 0]\n",
      "[1 0 1 ... 1 0 1]\n",
      "[1 1 1 ... 1 1 0]\n",
      "\n",
      "Epoch: 008, Loss: 26197.3574, Val: 0.5037, Test: 0.5122\n",
      "[1 0 1 ... 1 0 1]\n",
      "[1 1 1 ... 1 1 0]\n",
      "[0 0 0 ... 0 1 1]\n",
      "[1 0 1 ... 1 0 0]\n"
     ]
    },
    {
     "name": "stderr",
     "output_type": "stream",
     "text": [
      "\n",
      "  0%|          | 8/10000 [00:05<1:51:09,  1.50it/s]\u001b[A\n",
      "\n",
      "  0%|          | 0/4 [00:00<?, ?it/s]\u001b[A\u001b[A\n",
      "\n",
      " 50%|█████     | 2/4 [00:00<00:00,  9.52it/s]\u001b[A\u001b[A"
     ]
    },
    {
     "name": "stdout",
     "output_type": "stream",
     "text": [
      "tensor([[ 1.2396],\n",
      "        [ 0.8546],\n",
      "        [ 0.2961],\n",
      "        ...,\n",
      "        [-1.0983],\n",
      "        [ 0.2495],\n",
      "        [ 0.3989]], grad_fn=<AddBackward0>)\n",
      "tensor([[-0.3555],\n",
      "        [ 0.8275],\n",
      "        [-0.9155],\n",
      "        ...,\n",
      "        [ 1.1764],\n",
      "        [ 1.6444],\n",
      "        [ 2.1579]], grad_fn=<AddBackward0>)\n"
     ]
    },
    {
     "name": "stderr",
     "output_type": "stream",
     "text": [
      "\n",
      "\n",
      "100%|██████████| 4/4 [00:00<00:00,  9.82it/s]\u001b[A\u001b[A\n"
     ]
    },
    {
     "name": "stdout",
     "output_type": "stream",
     "text": [
      "tensor([[-0.7303],\n",
      "        [-1.0093],\n",
      "        [ 0.0562],\n",
      "        ...,\n",
      "        [-0.0724],\n",
      "        [-0.0370],\n",
      "        [ 0.1112]], grad_fn=<AddBackward0>)\n",
      "tensor([[ 0.5905],\n",
      "        [-2.8995],\n",
      "        [-4.8487],\n",
      "        ...,\n",
      "        [-0.1423],\n",
      "        [-0.0488],\n",
      "        [ 0.2700]], grad_fn=<AddBackward0>)\n",
      "[0 0 0 ... 0 1 1]\n",
      "[1 0 1 ... 1 0 0]\n"
     ]
    },
    {
     "name": "stderr",
     "output_type": "stream",
     "text": [
      "\n",
      "  0%|          | 9/10000 [00:06<1:53:05,  1.47it/s]\u001b[A"
     ]
    },
    {
     "name": "stdout",
     "output_type": "stream",
     "text": [
      "[1 0 1 ... 1 0 1]\n",
      "[1 1 1 ... 1 1 0]\n",
      "\n",
      "Epoch: 009, Loss: 25121.3262, Val: 0.5067, Test: 0.5142\n",
      "[1 0 1 ... 1 0 1]\n",
      "[1 1 1 ... 1 1 0]\n",
      "[0 0 0 ... 0 1 1]\n",
      "[1 0 1 ... 1 0 0]\n"
     ]
    },
    {
     "name": "stderr",
     "output_type": "stream",
     "text": [
      "\n",
      "\n",
      "  0%|          | 0/4 [00:00<?, ?it/s]\u001b[A\u001b[A\n",
      "\n",
      " 25%|██▌       | 1/4 [00:00<00:00,  9.08it/s]\u001b[A\u001b[A\n",
      "\n",
      " 50%|█████     | 2/4 [00:00<00:00,  9.17it/s]\u001b[A\u001b[A"
     ]
    },
    {
     "name": "stdout",
     "output_type": "stream",
     "text": [
      "tensor([[-2.1651],\n",
      "        [-3.6632],\n",
      "        [-1.4367],\n",
      "        ...,\n",
      "        [ 0.1347],\n",
      "        [-0.2309],\n",
      "        [ 0.0225]], grad_fn=<AddBackward0>)\n",
      "tensor([[-0.1196],\n",
      "        [-0.3991],\n",
      "        [-0.4797],\n",
      "        ...,\n",
      "        [-1.3812],\n",
      "        [-0.4273],\n",
      "        [-0.3268]], grad_fn=<AddBackward0>)\n"
     ]
    },
    {
     "name": "stderr",
     "output_type": "stream",
     "text": [
      "\n",
      "\n",
      "100%|██████████| 4/4 [00:00<00:00,  9.83it/s]\u001b[A\u001b[A\n"
     ]
    },
    {
     "name": "stdout",
     "output_type": "stream",
     "text": [
      "tensor([[ 3.1044],\n",
      "        [ 5.8189],\n",
      "        [ 2.6350],\n",
      "        ...,\n",
      "        [-0.1998],\n",
      "        [ 2.0086],\n",
      "        [ 0.5085]], grad_fn=<AddBackward0>)\n",
      "tensor([[0.3398],\n",
      "        [0.3276],\n",
      "        [0.2575],\n",
      "        ...,\n",
      "        [0.2179],\n",
      "        [0.4124],\n",
      "        [0.0015]], grad_fn=<AddBackward0>)\n",
      "[0 0 0 ... 0 1 1]\n",
      "[1 0 1 ... 1 0 0]\n",
      "[1 0 1 ... 1 0 1]\n",
      "[1 1 1 ... 1 1 0]\n",
      "\n",
      "Epoch: 010, Loss: 24911.0137, Val: 0.5096, Test: 0.5157\n",
      "[1 0 1 ... 1 0 1]\n",
      "[1 1 1 ... 1 1 0]\n"
     ]
    },
    {
     "name": "stderr",
     "output_type": "stream",
     "text": [
      "\n",
      "  0%|          | 10/10000 [00:07<1:53:33,  1.47it/s]\u001b[A"
     ]
    },
    {
     "name": "stdout",
     "output_type": "stream",
     "text": [
      "[0 0 0 ... 0 1 1]\n",
      "[1 0 1 ... 1 0 0]\n"
     ]
    },
    {
     "name": "stderr",
     "output_type": "stream",
     "text": [
      "\n",
      "\n",
      "  0%|          | 0/4 [00:00<?, ?it/s]\u001b[A\u001b[A\n",
      "\n",
      " 25%|██▌       | 1/4 [00:00<00:00,  8.95it/s]\u001b[A\u001b[A"
     ]
    },
    {
     "name": "stdout",
     "output_type": "stream",
     "text": [
      "tensor([[-1.4889],\n",
      "        [-0.1450],\n",
      "        [ 0.2923],\n",
      "        ...,\n",
      "        [ 3.4427],\n",
      "        [-1.1488],\n",
      "        [ 1.6130]], grad_fn=<AddBackward0>)\n"
     ]
    },
    {
     "name": "stderr",
     "output_type": "stream",
     "text": [
      "\n",
      "\n",
      " 50%|█████     | 2/4 [00:00<00:00,  8.72it/s]\u001b[A\u001b[A"
     ]
    },
    {
     "name": "stdout",
     "output_type": "stream",
     "text": [
      "tensor([[-0.2117],\n",
      "        [-0.0871],\n",
      "        [ 0.2826],\n",
      "        ...,\n",
      "        [-0.6657],\n",
      "        [ 0.7646],\n",
      "        [ 0.1094]], grad_fn=<AddBackward0>)\n"
     ]
    },
    {
     "name": "stderr",
     "output_type": "stream",
     "text": [
      "\n",
      "\n",
      "100%|██████████| 4/4 [00:00<00:00, 10.26it/s]\u001b[A\u001b[A"
     ]
    },
    {
     "name": "stdout",
     "output_type": "stream",
     "text": [
      "tensor([[ 0.5724],\n",
      "        [ 0.1348],\n",
      "        [ 0.6770],\n",
      "        ...,\n",
      "        [ 0.1492],\n",
      "        [-0.1277],\n",
      "        [-0.2393]], grad_fn=<AddBackward0>)\n",
      "tensor([[-7.7454e-01],\n",
      "        [-3.1478e+00],\n",
      "        [-1.1021e+00],\n",
      "        ...,\n",
      "        [ 2.9464e-01],\n",
      "        [ 2.7491e-01],\n",
      "        [-2.0135e-04]], grad_fn=<AddBackward0>)\n",
      "[0 0 0 ... 0 1 1]\n",
      "[1 0 1 ... 1 0 0]\n",
      "[1 0 1 ... 1 0 1]\n",
      "[1 1 1 ... 1 1 0]\n"
     ]
    },
    {
     "name": "stderr",
     "output_type": "stream",
     "text": [
      "\n",
      "\n",
      "  0%|          | 11/10000 [00:07<1:44:39,  1.59it/s]\u001b[A"
     ]
    },
    {
     "name": "stdout",
     "output_type": "stream",
     "text": [
      "\n",
      "Epoch: 011, Loss: 24091.5137, Val: 0.5113, Test: 0.5192\n",
      "[1 0 1 ... 1 0 1]\n",
      "[1 1 1 ... 1 1 0]\n",
      "[0 0 0 ... 0 1 1]\n",
      "[1 0 1 ... 1 0 0]\n"
     ]
    },
    {
     "name": "stderr",
     "output_type": "stream",
     "text": [
      "\n",
      "\n",
      "  0%|          | 0/4 [00:00<?, ?it/s]\u001b[A\u001b[A\n",
      "\n",
      " 25%|██▌       | 1/4 [00:00<00:00,  9.55it/s]\u001b[A\u001b[A"
     ]
    },
    {
     "name": "stdout",
     "output_type": "stream",
     "text": [
      "tensor([[4.3028],\n",
      "        [2.5400],\n",
      "        [1.9428],\n",
      "        ...,\n",
      "        [0.1281],\n",
      "        [0.1264],\n",
      "        [0.1746]], grad_fn=<AddBackward0>)\n"
     ]
    },
    {
     "name": "stderr",
     "output_type": "stream",
     "text": [
      "\n",
      "\n",
      " 50%|█████     | 2/4 [00:00<00:00,  9.25it/s]\u001b[A\u001b[A"
     ]
    },
    {
     "name": "stdout",
     "output_type": "stream",
     "text": [
      "tensor([[ 0.9723],\n",
      "        [ 0.5775],\n",
      "        [ 1.0616],\n",
      "        ...,\n",
      "        [-0.4331],\n",
      "        [-0.0019],\n",
      "        [-0.2057]], grad_fn=<AddBackward0>)\n"
     ]
    },
    {
     "name": "stderr",
     "output_type": "stream",
     "text": [
      "\n",
      "\n",
      "100%|██████████| 4/4 [00:00<00:00, 10.06it/s]\u001b[A\u001b[A"
     ]
    },
    {
     "name": "stdout",
     "output_type": "stream",
     "text": [
      "tensor([[-0.4353],\n",
      "        [ 0.0037],\n",
      "        [-0.9673],\n",
      "        ...,\n",
      "        [ 0.8436],\n",
      "        [ 0.6431],\n",
      "        [ 0.7784]], grad_fn=<AddBackward0>)\n",
      "tensor([[ 2.4698],\n",
      "        [ 2.4999],\n",
      "        [ 0.9444],\n",
      "        ...,\n",
      "        [-0.9655],\n",
      "        [-0.8061],\n",
      "        [-1.0605]], grad_fn=<AddBackward0>)\n",
      "[0 0 0 ... 0 1 1]\n",
      "[1 0 1 ... 1 0 0]\n"
     ]
    },
    {
     "name": "stderr",
     "output_type": "stream",
     "text": [
      "\n",
      "\n",
      "  0%|          | 12/10000 [00:08<1:49:29,  1.52it/s]\u001b[A"
     ]
    },
    {
     "name": "stdout",
     "output_type": "stream",
     "text": [
      "[1 0 1 ... 1 0 1]\n",
      "[1 1 1 ... 1 1 0]\n",
      "\n",
      "Epoch: 012, Loss: 23798.8848, Val: 0.5142, Test: 0.5196\n",
      "[1 0 1 ... 1 0 1]\n",
      "[1 1 1 ... 1 1 0]\n",
      "[0 0 0 ... 0 1 1]\n",
      "[1 0 1 ... 1 0 0]\n"
     ]
    },
    {
     "name": "stderr",
     "output_type": "stream",
     "text": [
      "\n",
      "\n",
      "  0%|          | 0/4 [00:00<?, ?it/s]\u001b[A\u001b[A\n",
      "\n",
      " 25%|██▌       | 1/4 [00:00<00:00,  9.59it/s]\u001b[A\u001b[A\n",
      "\n",
      " 50%|█████     | 2/4 [00:00<00:00,  9.10it/s]\u001b[A\u001b[A"
     ]
    },
    {
     "name": "stdout",
     "output_type": "stream",
     "text": [
      "tensor([[ 0.1499],\n",
      "        [ 0.2366],\n",
      "        [-0.0559],\n",
      "        ...,\n",
      "        [ 0.0403],\n",
      "        [-0.0260],\n",
      "        [ 0.1086]], grad_fn=<AddBackward0>)\n",
      "tensor([[ 0.0393],\n",
      "        [ 0.0346],\n",
      "        [-0.3288],\n",
      "        ...,\n",
      "        [-0.4573],\n",
      "        [-0.2178],\n",
      "        [-0.7835]], grad_fn=<AddBackward0>)\n"
     ]
    },
    {
     "name": "stderr",
     "output_type": "stream",
     "text": [
      "\n",
      "\n",
      "100%|██████████| 4/4 [00:00<00:00,  9.81it/s]\u001b[A\u001b[A\n"
     ]
    },
    {
     "name": "stdout",
     "output_type": "stream",
     "text": [
      "tensor([[1.0732],\n",
      "        [1.0020],\n",
      "        [1.0432],\n",
      "        ...,\n",
      "        [1.8735],\n",
      "        [0.2474],\n",
      "        [0.5447]], grad_fn=<AddBackward0>)\n",
      "tensor([[ 1.0501],\n",
      "        [-0.1767],\n",
      "        [-0.6754],\n",
      "        ...,\n",
      "        [-1.0360],\n",
      "        [-0.0148],\n",
      "        [ 0.2841]], grad_fn=<AddBackward0>)\n",
      "[0 0 0 ... 0 1 1]\n",
      "[1 0 1 ... 1 0 0]\n",
      "[1 0 1 ... 1 0 1]\n",
      "[1 1 1 ... 1 1 0]\n"
     ]
    },
    {
     "name": "stderr",
     "output_type": "stream",
     "text": [
      "\n",
      "  0%|          | 13/10000 [00:09<1:50:11,  1.51it/s]\u001b[A"
     ]
    },
    {
     "name": "stdout",
     "output_type": "stream",
     "text": [
      "\n",
      "Epoch: 013, Loss: 23177.0605, Val: 0.5163, Test: 0.5215\n",
      "[1 0 1 ... 1 0 1]\n",
      "[1 1 1 ... 1 1 0]\n",
      "[0 0 0 ... 0 1 1]\n",
      "[1 0 1 ... 1 0 0]\n"
     ]
    },
    {
     "name": "stderr",
     "output_type": "stream",
     "text": [
      "\n",
      "\n",
      "  0%|          | 0/4 [00:00<?, ?it/s]\u001b[A\u001b[A"
     ]
    },
    {
     "name": "stdout",
     "output_type": "stream",
     "text": [
      "tensor([[ 0.2122],\n",
      "        [-0.1270],\n",
      "        [ 0.3459],\n",
      "        ...,\n",
      "        [-0.3241],\n",
      "        [-4.6763],\n",
      "        [-2.5790]], grad_fn=<AddBackward0>)\n"
     ]
    },
    {
     "name": "stderr",
     "output_type": "stream",
     "text": [
      "\n",
      "\n",
      " 50%|█████     | 2/4 [00:00<00:00, 12.14it/s]\u001b[A\u001b[A"
     ]
    },
    {
     "name": "stdout",
     "output_type": "stream",
     "text": [
      "tensor([[ 0.7133],\n",
      "        [ 1.9894],\n",
      "        [ 1.7189],\n",
      "        ...,\n",
      "        [ 0.2107],\n",
      "        [-0.7271],\n",
      "        [ 0.0765]], grad_fn=<AddBackward0>)\n",
      "tensor([[ 0.0156],\n",
      "        [ 0.2212],\n",
      "        [ 0.4530],\n",
      "        ...,\n",
      "        [ 0.3545],\n",
      "        [ 0.5911],\n",
      "        [-0.6374]], grad_fn=<AddBackward0>)\n"
     ]
    },
    {
     "name": "stderr",
     "output_type": "stream",
     "text": [
      "\n",
      "\n",
      "100%|██████████| 4/4 [00:00<00:00, 11.56it/s]\u001b[A\u001b[A"
     ]
    },
    {
     "name": "stdout",
     "output_type": "stream",
     "text": [
      "tensor([[-0.5914],\n",
      "        [-0.6969],\n",
      "        [-0.6290],\n",
      "        ...,\n",
      "        [-1.6208],\n",
      "        [-1.3829],\n",
      "        [ 1.2284]], grad_fn=<AddBackward0>)\n",
      "[0 0 0 ... 0 1 1]\n",
      "[1 0 1 ... 1 0 0]\n"
     ]
    },
    {
     "name": "stderr",
     "output_type": "stream",
     "text": [
      "\n"
     ]
    },
    {
     "name": "stdout",
     "output_type": "stream",
     "text": [
      "[1 0 1 ... 1 0 1]\n",
      "[1 1 1 ... 1 1 0]\n",
      "\n",
      "Epoch: 014, Loss: 22827.5391, Val: 0.5175, Test: 0.5219\n",
      "[1 0 1 ... 1 0 1]\n",
      "[1 1 1 ... 1 1 0]\n",
      "[0 0 0 ... 0 1 1]\n",
      "[1 0 1 ... 1 0 0]\n"
     ]
    },
    {
     "name": "stderr",
     "output_type": "stream",
     "text": [
      "\n",
      "  0%|          | 14/10000 [00:09<1:49:30,  1.52it/s]\u001b[A\n",
      "\n",
      "  0%|          | 0/4 [00:00<?, ?it/s]\u001b[A\u001b[A\n",
      "\n",
      " 25%|██▌       | 1/4 [00:00<00:00,  6.84it/s]\u001b[A\u001b[A\n",
      "\n",
      " 50%|█████     | 2/4 [00:00<00:00,  8.11it/s]\u001b[A\u001b[A"
     ]
    },
    {
     "name": "stdout",
     "output_type": "stream",
     "text": [
      "tensor([[ 0.0306],\n",
      "        [ 0.3766],\n",
      "        [ 0.5186],\n",
      "        ...,\n",
      "        [-0.2414],\n",
      "        [-0.0373],\n",
      "        [ 0.0126]], grad_fn=<AddBackward0>)\n",
      "tensor([[1.5958],\n",
      "        [0.6815],\n",
      "        [1.0424],\n",
      "        ...,\n",
      "        [0.3354],\n",
      "        [1.7506],\n",
      "        [1.3185]], grad_fn=<AddBackward0>)\n"
     ]
    },
    {
     "name": "stderr",
     "output_type": "stream",
     "text": [
      "\n",
      "\n",
      "100%|██████████| 4/4 [00:00<00:00,  9.40it/s]\u001b[A\u001b[A\n"
     ]
    },
    {
     "name": "stdout",
     "output_type": "stream",
     "text": [
      "tensor([[-0.5581],\n",
      "        [ 0.5856],\n",
      "        [-0.2357],\n",
      "        ...,\n",
      "        [ 1.2291],\n",
      "        [ 1.9894],\n",
      "        [ 0.0848]], grad_fn=<AddBackward0>)\n",
      "tensor([[1.4604],\n",
      "        [0.6594],\n",
      "        [0.5787],\n",
      "        ...,\n",
      "        [1.1136],\n",
      "        [0.1543],\n",
      "        [0.2588]], grad_fn=<AddBackward0>)\n",
      "[0 0 0 ... 0 1 1]\n",
      "[1 0 1 ... 1 0 0]\n",
      "[1 0 1 ... 1 0 1]\n",
      "[1 1 1 ... 1 1 0]\n",
      "\n",
      "Epoch: 015, Loss: 21820.9219, Val: 0.5186, Test: 0.5236\n",
      "[1 0 1 ... 1 0 1]\n",
      "[1 1 1 ... 1 1 0]\n"
     ]
    },
    {
     "name": "stderr",
     "output_type": "stream",
     "text": [
      "\n",
      "  0%|          | 15/10000 [00:10<1:45:03,  1.58it/s]\u001b[A"
     ]
    },
    {
     "name": "stdout",
     "output_type": "stream",
     "text": [
      "[0 0 0 ... 0 1 1]\n",
      "[1 0 1 ... 1 0 0]\n"
     ]
    },
    {
     "name": "stderr",
     "output_type": "stream",
     "text": [
      "\n",
      "\n",
      "  0%|          | 0/4 [00:00<?, ?it/s]\u001b[A\u001b[A"
     ]
    },
    {
     "name": "stdout",
     "output_type": "stream",
     "text": [
      "tensor([[-1.6151],\n",
      "        [-1.8938],\n",
      "        [-1.1019],\n",
      "        ...,\n",
      "        [ 0.2297],\n",
      "        [ 0.3161],\n",
      "        [-0.1939]], grad_fn=<AddBackward0>)\n"
     ]
    },
    {
     "name": "stderr",
     "output_type": "stream",
     "text": [
      "\n",
      "\n",
      " 50%|█████     | 2/4 [00:00<00:00, 10.17it/s]\u001b[A\u001b[A"
     ]
    },
    {
     "name": "stdout",
     "output_type": "stream",
     "text": [
      "tensor([[ 1.7353],\n",
      "        [ 0.6512],\n",
      "        [ 2.5434],\n",
      "        ...,\n",
      "        [-0.2073],\n",
      "        [-0.2839],\n",
      "        [-0.4995]], grad_fn=<AddBackward0>)\n"
     ]
    },
    {
     "name": "stderr",
     "output_type": "stream",
     "text": [
      "\n",
      "\n"
     ]
    },
    {
     "name": "stdout",
     "output_type": "stream",
     "text": [
      "tensor([[ 0.8483],\n",
      "        [ 0.9475],\n",
      "        [ 0.3532],\n",
      "        ...,\n",
      "        [-0.2789],\n",
      "        [-0.5136],\n",
      "        [-0.9951]], grad_fn=<AddBackward0>)\n",
      "tensor([[ 0.0877],\n",
      "        [ 0.9085],\n",
      "        [ 1.0973],\n",
      "        ...,\n",
      "        [-0.6243],\n",
      "        [ 0.5936],\n",
      "        [-2.2501]], grad_fn=<AddBackward0>)\n"
     ]
    },
    {
     "name": "stderr",
     "output_type": "stream",
     "text": [
      "100%|██████████| 4/4 [00:00<00:00, 10.04it/s]\u001b[A\u001b[A\n"
     ]
    },
    {
     "name": "stdout",
     "output_type": "stream",
     "text": [
      "[0 0 0 ... 0 1 1]\n",
      "[1 0 1 ... 1 0 0]\n",
      "[1 0 1 ... 1 0 1]\n",
      "[1 1 1 ... 1 1 0]\n"
     ]
    },
    {
     "name": "stderr",
     "output_type": "stream",
     "text": [
      "\n",
      "  0%|          | 16/10000 [00:11<1:47:29,  1.55it/s]\u001b[A"
     ]
    },
    {
     "name": "stdout",
     "output_type": "stream",
     "text": [
      "\n",
      "Epoch: 016, Loss: 21265.2793, Val: 0.5221, Test: 0.5259\n",
      "[1 0 1 ... 1 0 1]\n",
      "[1 1 1 ... 1 1 0]\n",
      "[0 0 0 ... 0 1 1]\n",
      "[1 0 1 ... 1 0 0]\n"
     ]
    },
    {
     "name": "stderr",
     "output_type": "stream",
     "text": [
      "\n",
      "\n",
      "  0%|          | 0/4 [00:00<?, ?it/s]\u001b[A\u001b[A\n",
      "\n",
      " 25%|██▌       | 1/4 [00:00<00:00,  9.24it/s]\u001b[A\u001b[A"
     ]
    },
    {
     "name": "stdout",
     "output_type": "stream",
     "text": [
      "tensor([[-0.4039],\n",
      "        [-0.9643],\n",
      "        [-0.8796],\n",
      "        ...,\n",
      "        [ 1.8072],\n",
      "        [ 1.9640],\n",
      "        [ 1.4692]], grad_fn=<AddBackward0>)\n"
     ]
    },
    {
     "name": "stderr",
     "output_type": "stream",
     "text": [
      "\n",
      "\n",
      " 50%|█████     | 2/4 [00:00<00:00,  8.97it/s]\u001b[A\u001b[A"
     ]
    },
    {
     "name": "stdout",
     "output_type": "stream",
     "text": [
      "tensor([[ 0.2927],\n",
      "        [-0.2969],\n",
      "        [-0.0758],\n",
      "        ...,\n",
      "        [ 1.2812],\n",
      "        [ 1.0900],\n",
      "        [ 1.3532]], grad_fn=<AddBackward0>)\n"
     ]
    },
    {
     "name": "stderr",
     "output_type": "stream",
     "text": [
      "\n",
      "\n",
      " 75%|███████▌  | 3/4 [00:00<00:00,  8.83it/s]\u001b[A\u001b[A"
     ]
    },
    {
     "name": "stdout",
     "output_type": "stream",
     "text": [
      "tensor([[-0.3108],\n",
      "        [ 2.3429],\n",
      "        [ 0.9799],\n",
      "        ...,\n",
      "        [ 2.6159],\n",
      "        [ 2.0528],\n",
      "        [ 1.4789]], grad_fn=<AddBackward0>)\n"
     ]
    },
    {
     "name": "stderr",
     "output_type": "stream",
     "text": [
      "\r",
      "100%|██████████| 4/4 [00:00<00:00,  9.28it/s]"
     ]
    },
    {
     "name": "stdout",
     "output_type": "stream",
     "text": [
      "tensor([[ 0.2798],\n",
      "        [-0.2451],\n",
      "        [-0.5880],\n",
      "        ...,\n",
      "        [-0.3651],\n",
      "        [-0.2538],\n",
      "        [-0.4105]], grad_fn=<AddBackward0>)\n",
      "[0 0 0 ... 0 1 1]\n",
      "[1 0 1 ... 1 0 0]\n",
      "[1 0 1 ... 1 0 1]\n",
      "[1 1 1 ... 1 1 0]\n",
      "\n",
      "Epoch: 017, Loss: 20582.6621, Val: 0.5242, Test: 0.5267\n",
      "[1 0 1 ... 1 0 1]\n",
      "[1 1 1 ... 1 1 0]\n"
     ]
    },
    {
     "name": "stderr",
     "output_type": "stream",
     "text": [
      "\n"
     ]
    },
    {
     "name": "stdout",
     "output_type": "stream",
     "text": [
      "[0 0 0 ... 0 1 1]\n",
      "[1 0 1 ... 1 0 0]\n"
     ]
    },
    {
     "name": "stderr",
     "output_type": "stream",
     "text": [
      "\n",
      "  0%|          | 17/10000 [00:11<1:51:02,  1.50it/s]\u001b[A\n",
      "\n",
      "  0%|          | 0/4 [00:00<?, ?it/s]\u001b[A\u001b[A\n",
      "\n",
      " 25%|██▌       | 1/4 [00:00<00:00,  9.01it/s]\u001b[A\u001b[A\n",
      "\n",
      " 50%|█████     | 2/4 [00:00<00:00,  9.54it/s]\u001b[A\u001b[A"
     ]
    },
    {
     "name": "stdout",
     "output_type": "stream",
     "text": [
      "tensor([[-1.1332],\n",
      "        [-1.1407],\n",
      "        [-1.1475],\n",
      "        ...,\n",
      "        [ 0.5009],\n",
      "        [ 0.1664],\n",
      "        [-0.0345]], grad_fn=<AddBackward0>)\n",
      "tensor([[-0.8816],\n",
      "        [-0.6181],\n",
      "        [-0.3923],\n",
      "        ...,\n",
      "        [ 0.0174],\n",
      "        [-0.5681],\n",
      "        [-0.2833]], grad_fn=<AddBackward0>)\n"
     ]
    },
    {
     "name": "stderr",
     "output_type": "stream",
     "text": [
      "\n",
      "\n",
      "100%|██████████| 4/4 [00:00<00:00, 10.29it/s]\u001b[A\u001b[A\n"
     ]
    },
    {
     "name": "stdout",
     "output_type": "stream",
     "text": [
      "tensor([[-0.8231],\n",
      "        [ 1.5121],\n",
      "        [ 0.8240],\n",
      "        ...,\n",
      "        [-2.2201],\n",
      "        [ 0.4942],\n",
      "        [ 2.2811]], grad_fn=<AddBackward0>)\n",
      "tensor([[-0.6025],\n",
      "        [-0.2161],\n",
      "        [-1.7008],\n",
      "        ...,\n",
      "        [ 0.5364],\n",
      "        [ 0.0640],\n",
      "        [-0.9770]], grad_fn=<AddBackward0>)\n",
      "[0 0 0 ... 0 1 1]\n",
      "[1 0 1 ... 1 0 0]\n",
      "[1 0 1 ... 1 0 1]\n",
      "[1 1 1 ... 1 1 0]\n",
      "\n",
      "Epoch: 018, Loss: 20738.1094, Val: 0.5256, Test: 0.5283\n",
      "[1 0 1 ... 1 0 1]\n",
      "[1 1 1 ... 1 1 0]\n",
      "[0 0 0 ... 0 1 1]\n",
      "[1 0 1 ... 1 0 0]\n"
     ]
    },
    {
     "name": "stderr",
     "output_type": "stream",
     "text": [
      "\n",
      "  0%|          | 18/10000 [00:12<1:45:25,  1.58it/s]\u001b[A\n",
      "\n",
      "  0%|          | 0/4 [00:00<?, ?it/s]\u001b[A\u001b[A\n",
      "\n",
      " 25%|██▌       | 1/4 [00:00<00:00,  8.83it/s]\u001b[A\u001b[A\n",
      "\n",
      " 75%|███████▌  | 3/4 [00:00<00:00,  9.89it/s]"
     ]
    },
    {
     "name": "stdout",
     "output_type": "stream",
     "text": [
      "tensor([[ 1.4208],\n",
      "        [ 1.0934],\n",
      "        [ 0.6495],\n",
      "        ...,\n",
      "        [-0.8108],\n",
      "        [-0.7463],\n",
      "        [-1.3614]], grad_fn=<AddBackward0>)\n",
      "tensor([[ 0.3652],\n",
      "        [-0.0817],\n",
      "        [ 0.2024],\n",
      "        ...,\n",
      "        [ 1.3169],\n",
      "        [ 0.1778],\n",
      "        [-0.3962]], grad_fn=<AddBackward0>)\n",
      "tensor([[0.4290],\n",
      "        [0.2312],\n",
      "        [0.6763],\n",
      "        ...,\n",
      "        [1.0032],\n",
      "        [1.2969],\n",
      "        [1.4317]], grad_fn=<AddBackward0>)\n"
     ]
    },
    {
     "name": "stderr",
     "output_type": "stream",
     "text": [
      "100%|██████████| 4/4 [00:00<00:00, 10.36it/s]\n"
     ]
    },
    {
     "name": "stdout",
     "output_type": "stream",
     "text": [
      "tensor([[-1.3935],\n",
      "        [-1.1046],\n",
      "        [-0.3748],\n",
      "        ...,\n",
      "        [-0.2240],\n",
      "        [-1.1292],\n",
      "        [ 0.0489]], grad_fn=<AddBackward0>)\n",
      "[0 0 0 ... 0 1 1]\n",
      "[1 0 1 ... 1 0 0]\n"
     ]
    },
    {
     "name": "stderr",
     "output_type": "stream",
     "text": [
      "\n",
      "  0%|          | 19/10000 [00:13<1:50:53,  1.50it/s]\u001b[A"
     ]
    },
    {
     "name": "stdout",
     "output_type": "stream",
     "text": [
      "[1 0 1 ... 1 0 1]\n",
      "[1 1 1 ... 1 1 0]\n",
      "\n",
      "Epoch: 019, Loss: 20279.0879, Val: 0.5275, Test: 0.5295\n",
      "[1 0 1 ... 1 0 1]\n",
      "[1 1 1 ... 1 1 0]\n",
      "[0 0 0 ... 0 1 1]\n",
      "[1 0 1 ... 1 0 0]\n"
     ]
    },
    {
     "name": "stderr",
     "output_type": "stream",
     "text": [
      "\n",
      "\n",
      "  0%|          | 0/4 [00:00<?, ?it/s]\u001b[A\u001b[A\n",
      "\n",
      " 50%|█████     | 2/4 [00:00<00:00,  8.68it/s]\u001b[A\u001b[A"
     ]
    },
    {
     "name": "stdout",
     "output_type": "stream",
     "text": [
      "tensor([[ 0.6937],\n",
      "        [ 0.7906],\n",
      "        [ 0.1263],\n",
      "        ...,\n",
      "        [-0.5708],\n",
      "        [-0.1763],\n",
      "        [-0.8909]], grad_fn=<AddBackward0>)\n",
      "tensor([[ 0.0138],\n",
      "        [ 0.0252],\n",
      "        [-0.0994],\n",
      "        ...,\n",
      "        [ 0.1670],\n",
      "        [ 0.7431],\n",
      "        [ 0.2613]], grad_fn=<AddBackward0>)\n"
     ]
    },
    {
     "name": "stderr",
     "output_type": "stream",
     "text": [
      "\n",
      "\n",
      " 75%|███████▌  | 3/4 [00:00<00:00,  7.77it/s]\u001b[A\u001b[A\n",
      "\n",
      "100%|██████████| 4/4 [00:00<00:00,  8.08it/s]\u001b[A\u001b[A"
     ]
    },
    {
     "name": "stdout",
     "output_type": "stream",
     "text": [
      "tensor([[-0.5324],\n",
      "        [-0.3675],\n",
      "        [ 0.1368],\n",
      "        ...,\n",
      "        [ 0.1021],\n",
      "        [ 0.4525],\n",
      "        [ 0.4598]], grad_fn=<AddBackward0>)\n",
      "tensor([[ 0.2987],\n",
      "        [ 1.0339],\n",
      "        [ 4.1166],\n",
      "        ...,\n",
      "        [-0.1385],\n",
      "        [-0.0133],\n",
      "        [-0.1150]], grad_fn=<AddBackward0>)\n",
      "[0 0 0 ... 0 1 1]\n",
      "[1 0 1 ... 1 0 0]\n",
      "[1 0 1 ... 1 0 1]\n",
      "[1 1 1 ... 1 1 0]\n"
     ]
    },
    {
     "name": "stderr",
     "output_type": "stream",
     "text": [
      "\n"
     ]
    },
    {
     "name": "stdout",
     "output_type": "stream",
     "text": [
      "\n",
      "Epoch: 020, Loss: 19550.0664, Val: 0.5294, Test: 0.5307\n",
      "[1 0 1 ... 1 0 1]\n",
      "[1 1 1 ... 1 1 0]\n"
     ]
    },
    {
     "name": "stderr",
     "output_type": "stream",
     "text": [
      "\n",
      "  0%|          | 20/10000 [00:13<1:59:30,  1.39it/s]\u001b[A"
     ]
    },
    {
     "name": "stdout",
     "output_type": "stream",
     "text": [
      "[0 0 0 ... 0 1 1]\n",
      "[1 0 1 ... 1 0 0]\n"
     ]
    },
    {
     "name": "stderr",
     "output_type": "stream",
     "text": [
      "\n",
      "\n",
      "  0%|          | 0/4 [00:00<?, ?it/s]\u001b[A\u001b[A\n",
      "\n",
      " 50%|█████     | 2/4 [00:00<00:00, 12.62it/s]\u001b[A\u001b[A"
     ]
    },
    {
     "name": "stdout",
     "output_type": "stream",
     "text": [
      "tensor([[-0.8371],\n",
      "        [-1.3128],\n",
      "        [-1.1143],\n",
      "        ...,\n",
      "        [ 0.2373],\n",
      "        [ 0.5088],\n",
      "        [ 0.5762]], grad_fn=<AddBackward0>)\n",
      "tensor([[-1.7178],\n",
      "        [-0.7518],\n",
      "        [-1.1101],\n",
      "        ...,\n",
      "        [ 0.8300],\n",
      "        [ 0.1618],\n",
      "        [ 0.5508]], grad_fn=<AddBackward0>)\n",
      "tensor([[-0.9610],\n",
      "        [ 0.3892],\n",
      "        [ 0.7837],\n",
      "        ...,\n",
      "        [-0.2234],\n",
      "        [-0.2479],\n",
      "        [-0.0737]], grad_fn=<AddBackward0>)\n"
     ]
    },
    {
     "name": "stderr",
     "output_type": "stream",
     "text": [
      "\n",
      "\n",
      "100%|██████████| 4/4 [00:00<00:00, 12.09it/s]\u001b[A\u001b[A\n",
      "\n",
      "  0%|          | 21/10000 [00:14<1:46:33,  1.56it/s]\u001b[A"
     ]
    },
    {
     "name": "stdout",
     "output_type": "stream",
     "text": [
      "tensor([[ 0.7504],\n",
      "        [ 0.7579],\n",
      "        [-1.9013],\n",
      "        ...,\n",
      "        [-2.9243],\n",
      "        [-0.7581],\n",
      "        [-0.6854]], grad_fn=<AddBackward0>)\n",
      "[0 0 0 ... 0 1 1]\n",
      "[1 0 1 ... 1 0 0]\n",
      "[1 0 1 ... 1 0 1]\n",
      "[1 1 1 ... 1 1 0]\n",
      "\n",
      "Epoch: 021, Loss: 19101.5234, Val: 0.5318, Test: 0.5320\n",
      "[1 0 1 ... 1 0 1]\n",
      "[1 1 1 ... 1 1 0]\n",
      "[0 0 0 ... 0 1 1]\n",
      "[1 0 1 ... 1 0 0]\n"
     ]
    },
    {
     "name": "stderr",
     "output_type": "stream",
     "text": [
      "\n",
      "\n",
      "  0%|          | 0/4 [00:00<?, ?it/s]\u001b[A\u001b[A\n",
      "\n",
      " 25%|██▌       | 1/4 [00:00<00:00,  9.06it/s]\u001b[A\u001b[A\n",
      "\n",
      " 50%|█████     | 2/4 [00:00<00:00,  9.17it/s]\u001b[A\u001b[A"
     ]
    },
    {
     "name": "stdout",
     "output_type": "stream",
     "text": [
      "tensor([[-0.2757],\n",
      "        [ 0.0358],\n",
      "        [-0.6024],\n",
      "        ...,\n",
      "        [-1.0813],\n",
      "        [-0.8742],\n",
      "        [-0.5992]], grad_fn=<AddBackward0>)\n",
      "tensor([[ 0.2462],\n",
      "        [ 1.1240],\n",
      "        [-0.0918],\n",
      "        ...,\n",
      "        [-0.5722],\n",
      "        [-0.8107],\n",
      "        [-1.1866]], grad_fn=<AddBackward0>)\n"
     ]
    },
    {
     "name": "stderr",
     "output_type": "stream",
     "text": [
      "\n",
      "\n",
      "100%|██████████| 4/4 [00:00<00:00,  9.28it/s]\u001b[A\u001b[A"
     ]
    },
    {
     "name": "stdout",
     "output_type": "stream",
     "text": [
      "tensor([[2.3170],\n",
      "        [2.6640],\n",
      "        [2.6269],\n",
      "        ...,\n",
      "        [2.1063],\n",
      "        [1.9306],\n",
      "        [1.8603]], grad_fn=<AddBackward0>)\n",
      "tensor([[ 1.7790],\n",
      "        [ 2.6986],\n",
      "        [ 0.9529],\n",
      "        ...,\n",
      "        [-0.3076],\n",
      "        [-0.4486],\n",
      "        [-0.3761]], grad_fn=<AddBackward0>)\n",
      "[0 0 0 ... 0 1 1]\n",
      "[1 0 1 ... 1 0 0]\n"
     ]
    },
    {
     "name": "stderr",
     "output_type": "stream",
     "text": [
      "\n",
      "\n",
      "  0%|          | 22/10000 [00:15<1:50:44,  1.50it/s]\u001b[A"
     ]
    },
    {
     "name": "stdout",
     "output_type": "stream",
     "text": [
      "[1 0 1 ... 1 0 1]\n",
      "[1 1 1 ... 1 1 0]\n",
      "\n",
      "Epoch: 022, Loss: 19023.1270, Val: 0.5340, Test: 0.5332\n",
      "[1 0 1 ... 1 0 1]\n",
      "[1 1 1 ... 1 1 0]\n",
      "[0 0 0 ... 0 1 1]\n",
      "[1 0 1 ... 1 0 0]\n"
     ]
    },
    {
     "name": "stderr",
     "output_type": "stream",
     "text": [
      "\n",
      "\n",
      "  0%|          | 0/4 [00:00<?, ?it/s]\u001b[A\u001b[A\n",
      "\n",
      " 25%|██▌       | 1/4 [00:00<00:00,  7.26it/s]\u001b[A\u001b[A\n",
      "\n",
      " 50%|█████     | 2/4 [00:00<00:00,  6.81it/s]\u001b[A\u001b[A"
     ]
    },
    {
     "name": "stdout",
     "output_type": "stream",
     "text": [
      "tensor([[-0.0390],\n",
      "        [ 0.4778],\n",
      "        [ 0.3848],\n",
      "        ...,\n",
      "        [-2.3293],\n",
      "        [-1.1197],\n",
      "        [-4.9553]], grad_fn=<AddBackward0>)\n",
      "tensor([[-0.5230],\n",
      "        [-0.6505],\n",
      "        [-0.5052],\n",
      "        ...,\n",
      "        [-2.6058],\n",
      "        [-1.1046],\n",
      "        [ 0.0601]], grad_fn=<AddBackward0>)\n"
     ]
    },
    {
     "name": "stderr",
     "output_type": "stream",
     "text": [
      "\n",
      "\n",
      " 75%|███████▌  | 3/4 [00:00<00:00,  6.56it/s]\u001b[A\u001b[A\n",
      "\n",
      "100%|██████████| 4/4 [00:00<00:00,  7.11it/s]\u001b[A\u001b[A"
     ]
    },
    {
     "name": "stdout",
     "output_type": "stream",
     "text": [
      "tensor([[-0.1817],\n",
      "        [ 0.0082],\n",
      "        [ 0.1723],\n",
      "        ...,\n",
      "        [-1.9271],\n",
      "        [-0.4948],\n",
      "        [ 3.1039]], grad_fn=<AddBackward0>)\n",
      "tensor([[-0.9932],\n",
      "        [-1.6704],\n",
      "        [-1.2225],\n",
      "        ...,\n",
      "        [-0.1632],\n",
      "        [ 0.2175],\n",
      "        [-0.1423]], grad_fn=<AddBackward0>)\n",
      "[0 0 0 ... 0 1 1]\n",
      "[1 0 1 ... 1 0 0]\n",
      "[1 0 1 ... 0 0 1]\n",
      "[1 1 1 ... 1 1 0]\n"
     ]
    },
    {
     "name": "stderr",
     "output_type": "stream",
     "text": [
      "\n"
     ]
    },
    {
     "name": "stdout",
     "output_type": "stream",
     "text": [
      "\n",
      "Epoch: 023, Loss: 18139.6133, Val: 0.5361, Test: 0.5355\n",
      "[1 0 1 ... 0 0 1]\n",
      "[1 1 1 ... 1 1 0]\n"
     ]
    },
    {
     "name": "stderr",
     "output_type": "stream",
     "text": [
      "\n",
      "  0%|          | 23/10000 [00:16<2:04:23,  1.34it/s]\u001b[A"
     ]
    },
    {
     "name": "stdout",
     "output_type": "stream",
     "text": [
      "[0 0 0 ... 0 1 1]\n",
      "[1 0 1 ... 1 0 0]\n"
     ]
    },
    {
     "name": "stderr",
     "output_type": "stream",
     "text": [
      "\n",
      "\n",
      "  0%|          | 0/4 [00:00<?, ?it/s]\u001b[A\u001b[A"
     ]
    },
    {
     "name": "stdout",
     "output_type": "stream",
     "text": [
      "tensor([[ 1.1974],\n",
      "        [-0.2530],\n",
      "        [ 0.1884],\n",
      "        ...,\n",
      "        [ 0.8898],\n",
      "        [ 1.2026],\n",
      "        [ 0.9326]], grad_fn=<AddBackward0>)\n"
     ]
    },
    {
     "name": "stderr",
     "output_type": "stream",
     "text": [
      "\n",
      "\n",
      " 50%|█████     | 2/4 [00:00<00:00, 11.38it/s]\u001b[A\u001b[A"
     ]
    },
    {
     "name": "stdout",
     "output_type": "stream",
     "text": [
      "tensor([[-0.9976],\n",
      "        [ 0.8551],\n",
      "        [-1.0608],\n",
      "        ...,\n",
      "        [-0.1704],\n",
      "        [-0.0278],\n",
      "        [-0.1090]], grad_fn=<AddBackward0>)\n",
      "tensor([[3.0665],\n",
      "        [0.9394],\n",
      "        [2.7408],\n",
      "        ...,\n",
      "        [0.1791],\n",
      "        [0.1528],\n",
      "        [0.1686]], grad_fn=<AddBackward0>)\n"
     ]
    },
    {
     "name": "stderr",
     "output_type": "stream",
     "text": [
      "\n",
      "\n",
      "100%|██████████| 4/4 [00:00<00:00, 10.04it/s]\u001b[A\u001b[A"
     ]
    },
    {
     "name": "stdout",
     "output_type": "stream",
     "text": [
      "tensor([[ 0.7446],\n",
      "        [ 0.4476],\n",
      "        [ 4.1971],\n",
      "        ...,\n",
      "        [-0.5657],\n",
      "        [ 1.5029],\n",
      "        [ 4.3706]], grad_fn=<AddBackward0>)\n",
      "[0 0 0 ... 0 1 1]\n",
      "[1 0 1 ... 1 0 0]\n",
      "[1 0 1 ... 0 0 1]\n",
      "[1 1 1 ... 1 1 0]\n",
      "\n",
      "Epoch: 024, Loss: 17617.5059, Val: 0.5382, Test: 0.5373\n",
      "[1 0 1 ... 0 0 1]\n",
      "[1 1 1 ... 1 1 0]\n"
     ]
    },
    {
     "name": "stderr",
     "output_type": "stream",
     "text": [
      "\n",
      "\n",
      "  0%|          | 24/10000 [00:16<1:54:03,  1.46it/s]\u001b[A"
     ]
    },
    {
     "name": "stdout",
     "output_type": "stream",
     "text": [
      "[0 0 0 ... 0 1 1]\n",
      "[1 0 1 ... 1 0 0]\n"
     ]
    },
    {
     "name": "stderr",
     "output_type": "stream",
     "text": [
      "\n",
      "\n",
      "  0%|          | 0/4 [00:00<?, ?it/s]\u001b[A\u001b[A"
     ]
    },
    {
     "name": "stdout",
     "output_type": "stream",
     "text": [
      "tensor([[ 2.0764],\n",
      "        [ 1.4341],\n",
      "        [ 4.0922],\n",
      "        ...,\n",
      "        [-1.5212],\n",
      "        [-1.4200],\n",
      "        [-1.7230]], grad_fn=<AddBackward0>)\n"
     ]
    },
    {
     "name": "stderr",
     "output_type": "stream",
     "text": [
      "\n",
      "\n",
      " 50%|█████     | 2/4 [00:00<00:00, 10.45it/s]\u001b[A\u001b[A"
     ]
    },
    {
     "name": "stdout",
     "output_type": "stream",
     "text": [
      "tensor([[1.4656],\n",
      "        [0.8033],\n",
      "        [2.0035],\n",
      "        ...,\n",
      "        [0.3085],\n",
      "        [0.0092],\n",
      "        [0.7383]], grad_fn=<AddBackward0>)\n",
      "tensor([[2.2734],\n",
      "        [1.2187],\n",
      "        [0.9224],\n",
      "        ...,\n",
      "        [1.1290],\n",
      "        [1.1870],\n",
      "        [1.1360]], grad_fn=<AddBackward0>)\n"
     ]
    },
    {
     "name": "stderr",
     "output_type": "stream",
     "text": [
      "\n",
      "\n",
      "100%|██████████| 4/4 [00:00<00:00, 11.66it/s]\u001b[A\u001b[A"
     ]
    },
    {
     "name": "stdout",
     "output_type": "stream",
     "text": [
      "tensor([[-0.3142],\n",
      "        [-0.6878],\n",
      "        [-0.0932],\n",
      "        ...,\n",
      "        [ 0.7330],\n",
      "        [ 0.5898],\n",
      "        [ 0.6240]], grad_fn=<AddBackward0>)\n",
      "[0 0 0 ... 0 1 1]\n",
      "[1 0 1 ... 1 0 0]\n"
     ]
    },
    {
     "name": "stderr",
     "output_type": "stream",
     "text": [
      "\n",
      "\n",
      "  0%|          | 25/10000 [00:17<1:52:32,  1.48it/s]\u001b[A"
     ]
    },
    {
     "name": "stdout",
     "output_type": "stream",
     "text": [
      "[1 0 1 ... 0 0 1]\n",
      "[1 1 1 ... 1 1 0]\n",
      "\n",
      "Epoch: 025, Loss: 17440.8789, Val: 0.5401, Test: 0.5390\n",
      "[1 0 1 ... 0 0 1]\n",
      "[1 1 1 ... 1 1 0]\n",
      "[0 0 0 ... 0 1 1]\n",
      "[1 0 1 ... 1 0 0]\n"
     ]
    },
    {
     "name": "stderr",
     "output_type": "stream",
     "text": [
      "\n",
      "\n",
      "  0%|          | 0/4 [00:00<?, ?it/s]\u001b[A\u001b[A"
     ]
    },
    {
     "name": "stdout",
     "output_type": "stream",
     "text": [
      "tensor([[0.4266],\n",
      "        [0.3892],\n",
      "        [0.4585],\n",
      "        ...,\n",
      "        [0.4088],\n",
      "        [0.6976],\n",
      "        [1.3677]], grad_fn=<AddBackward0>)\n"
     ]
    },
    {
     "name": "stderr",
     "output_type": "stream",
     "text": [
      "\n",
      "\n",
      " 50%|█████     | 2/4 [00:00<00:00, 10.91it/s]\u001b[A\u001b[A"
     ]
    },
    {
     "name": "stdout",
     "output_type": "stream",
     "text": [
      "tensor([[-0.1269],\n",
      "        [-0.1743],\n",
      "        [ 0.0193],\n",
      "        ...,\n",
      "        [-1.0736],\n",
      "        [-0.9342],\n",
      "        [-0.8756]], grad_fn=<AddBackward0>)\n",
      "tensor([[1.8786],\n",
      "        [1.4559],\n",
      "        [1.3285],\n",
      "        ...,\n",
      "        [0.3046],\n",
      "        [0.7414],\n",
      "        [0.7325]], grad_fn=<AddBackward0>)\n"
     ]
    },
    {
     "name": "stderr",
     "output_type": "stream",
     "text": [
      "\n",
      "\n",
      "100%|██████████| 4/4 [00:00<00:00, 11.35it/s]\u001b[A\u001b[A"
     ]
    },
    {
     "name": "stdout",
     "output_type": "stream",
     "text": [
      "tensor([[ 0.1715],\n",
      "        [ 0.3752],\n",
      "        [ 0.1877],\n",
      "        ...,\n",
      "        [-0.1615],\n",
      "        [-0.1836],\n",
      "        [-0.6177]], grad_fn=<AddBackward0>)\n",
      "[0 0 0 ... 0 1 1]\n",
      "[1 0 1 ... 1 0 0]\n"
     ]
    },
    {
     "name": "stderr",
     "output_type": "stream",
     "text": [
      "\n"
     ]
    },
    {
     "name": "stdout",
     "output_type": "stream",
     "text": [
      "[1 0 1 ... 0 0 1]\n",
      "[1 1 1 ... 1 1 0]\n"
     ]
    },
    {
     "name": "stderr",
     "output_type": "stream",
     "text": [
      "\n",
      "  0%|          | 26/10000 [00:17<1:53:30,  1.46it/s]\u001b[A"
     ]
    },
    {
     "name": "stdout",
     "output_type": "stream",
     "text": [
      "\n",
      "Epoch: 026, Loss: 17158.5879, Val: 0.5406, Test: 0.5403\n",
      "[1 0 1 ... 0 0 1]\n",
      "[1 1 1 ... 1 1 0]\n",
      "[0 0 0 ... 0 1 1]\n",
      "[1 0 1 ... 1 0 0]\n"
     ]
    },
    {
     "name": "stderr",
     "output_type": "stream",
     "text": [
      "\n",
      "\n",
      "  0%|          | 0/4 [00:00<?, ?it/s]\u001b[A\u001b[A\n",
      "\n",
      " 25%|██▌       | 1/4 [00:00<00:00,  6.97it/s]\u001b[A\u001b[A\n",
      "\n",
      " 50%|█████     | 2/4 [00:00<00:00,  6.93it/s]\u001b[A\u001b[A"
     ]
    },
    {
     "name": "stdout",
     "output_type": "stream",
     "text": [
      "tensor([[-0.6853],\n",
      "        [ 0.5451],\n",
      "        [-0.0377],\n",
      "        ...,\n",
      "        [-0.5870],\n",
      "        [-0.7078],\n",
      "        [-0.7531]], grad_fn=<AddBackward0>)\n",
      "tensor([[ 0.1113],\n",
      "        [ 0.4873],\n",
      "        [-0.3091],\n",
      "        ...,\n",
      "        [ 0.3727],\n",
      "        [ 0.1098],\n",
      "        [-0.3765]], grad_fn=<AddBackward0>)\n"
     ]
    },
    {
     "name": "stderr",
     "output_type": "stream",
     "text": [
      "\n",
      "\n",
      " 75%|███████▌  | 3/4 [00:00<00:00,  6.21it/s]\u001b[A\u001b[A\n",
      "\n",
      "100%|██████████| 4/4 [00:00<00:00,  6.24it/s]\u001b[A\u001b[A"
     ]
    },
    {
     "name": "stdout",
     "output_type": "stream",
     "text": [
      "tensor([[0.6895],\n",
      "        [0.4868],\n",
      "        [1.0885],\n",
      "        ...,\n",
      "        [1.1063],\n",
      "        [2.3087],\n",
      "        [1.1522]], grad_fn=<AddBackward0>)\n",
      "tensor([[ 2.5392],\n",
      "        [ 1.9689],\n",
      "        [ 2.2953],\n",
      "        ...,\n",
      "        [ 0.5598],\n",
      "        [-0.1011],\n",
      "        [-0.5571]], grad_fn=<AddBackward0>)\n",
      "[0 0 0 ... 0 1 1]\n",
      "[1 0 1 ... 1 0 0]\n"
     ]
    },
    {
     "name": "stderr",
     "output_type": "stream",
     "text": [
      "\n"
     ]
    },
    {
     "name": "stdout",
     "output_type": "stream",
     "text": [
      "[1 0 1 ... 0 0 1]\n",
      "[1 1 1 ... 1 1 0]\n",
      "\n",
      "Epoch: 027, Loss: 16770.6934, Val: 0.5425, Test: 0.5419\n",
      "[1 0 1 ... 0 0 1]\n",
      "[1 1 1 ... 1 1 0]\n",
      "[0 0 0 ... 0 1 1]\n",
      "[1 0 1 ... 1 0 0]\n"
     ]
    },
    {
     "name": "stderr",
     "output_type": "stream",
     "text": [
      "\n",
      "  0%|          | 27/10000 [00:18<2:08:40,  1.29it/s]\u001b[A\n",
      "\n",
      "  0%|          | 0/4 [00:00<?, ?it/s]\u001b[A\u001b[A\n",
      "\n",
      " 50%|█████     | 2/4 [00:00<00:00, 11.03it/s]\u001b[A\u001b[A"
     ]
    },
    {
     "name": "stdout",
     "output_type": "stream",
     "text": [
      "tensor([[-0.1585],\n",
      "        [ 0.0152],\n",
      "        [-0.7301],\n",
      "        ...,\n",
      "        [ 0.2427],\n",
      "        [ 0.1793],\n",
      "        [ 0.2111]], grad_fn=<AddBackward0>)\n",
      "tensor([[-0.0336],\n",
      "        [ 0.1101],\n",
      "        [ 0.2090],\n",
      "        ...,\n",
      "        [-0.9475],\n",
      "        [-1.2212],\n",
      "        [-1.2445]], grad_fn=<AddBackward0>)\n"
     ]
    },
    {
     "name": "stderr",
     "output_type": "stream",
     "text": [
      "\n",
      "\n",
      "100%|██████████| 4/4 [00:00<00:00, 10.51it/s]\u001b[A\u001b[A\n"
     ]
    },
    {
     "name": "stdout",
     "output_type": "stream",
     "text": [
      "tensor([[-1.3645],\n",
      "        [-1.2585],\n",
      "        [ 0.7833],\n",
      "        ...,\n",
      "        [-0.4674],\n",
      "        [-0.3164],\n",
      "        [-0.0132]], grad_fn=<AddBackward0>)\n",
      "tensor([[ 0.0824],\n",
      "        [ 0.1625],\n",
      "        [ 0.4700],\n",
      "        ...,\n",
      "        [-0.1012],\n",
      "        [-0.1751],\n",
      "        [ 0.0103]], grad_fn=<AddBackward0>)\n",
      "[0 0 0 ... 0 1 1]\n",
      "[1 0 1 ... 1 0 0]\n",
      "[1 0 1 ... 0 0 1]\n",
      "[1 1 1 ... 1 1 0]\n",
      "\n",
      "Epoch: 028, Loss: 16367.4561, Val: 0.5434, Test: 0.5432\n",
      "[1 0 1 ... 0 0 1]\n",
      "[1 1 1 ... 1 1 0]\n",
      "[0 0 0 ... 0 1 1]\n",
      "[1 0 1 ... 1 0 0]\n"
     ]
    },
    {
     "name": "stderr",
     "output_type": "stream",
     "text": [
      "\n",
      "  0%|          | 28/10000 [00:19<1:56:07,  1.43it/s]\u001b[A\n",
      "\n",
      "  0%|          | 0/4 [00:00<?, ?it/s]\u001b[A\u001b[A\n",
      "\n",
      " 25%|██▌       | 1/4 [00:00<00:00,  8.54it/s]\u001b[A\u001b[A\n",
      "\n",
      " 50%|█████     | 2/4 [00:00<00:00,  9.16it/s]\u001b[A\u001b[A"
     ]
    },
    {
     "name": "stdout",
     "output_type": "stream",
     "text": [
      "tensor([[ 1.7922],\n",
      "        [ 2.0195],\n",
      "        [ 1.9910],\n",
      "        ...,\n",
      "        [-3.0610],\n",
      "        [-1.7506],\n",
      "        [ 0.3948]], grad_fn=<AddBackward0>)\n",
      "tensor([[0.9059],\n",
      "        [0.6199],\n",
      "        [0.5588],\n",
      "        ...,\n",
      "        [0.6740],\n",
      "        [1.1379],\n",
      "        [1.3699]], grad_fn=<AddBackward0>)\n"
     ]
    },
    {
     "name": "stderr",
     "output_type": "stream",
     "text": [
      "\n",
      "\n",
      "100%|██████████| 4/4 [00:00<00:00, 10.22it/s]\u001b[A\u001b[A\n"
     ]
    },
    {
     "name": "stdout",
     "output_type": "stream",
     "text": [
      "tensor([[ 0.3705],\n",
      "        [-0.3037],\n",
      "        [-0.6480],\n",
      "        ...,\n",
      "        [-0.0453],\n",
      "        [ 0.2703],\n",
      "        [ 0.0579]], grad_fn=<AddBackward0>)\n",
      "tensor([[ 1.0387],\n",
      "        [ 0.6355],\n",
      "        [ 0.0498],\n",
      "        ...,\n",
      "        [-0.7849],\n",
      "        [-0.7670],\n",
      "        [-0.8157]], grad_fn=<AddBackward0>)\n",
      "[0 0 0 ... 0 1 1]\n",
      "[1 0 1 ... 1 0 0]\n",
      "[1 0 1 ... 0 0 0]\n",
      "[1 1 1 ... 1 1 0]\n"
     ]
    },
    {
     "name": "stderr",
     "output_type": "stream",
     "text": [
      "\n",
      "  0%|          | 29/10000 [00:20<1:54:31,  1.45it/s]\u001b[A"
     ]
    },
    {
     "name": "stdout",
     "output_type": "stream",
     "text": [
      "\n",
      "Epoch: 029, Loss: 15872.6631, Val: 0.5446, Test: 0.5453\n",
      "[1 0 1 ... 0 0 0]\n",
      "[1 1 1 ... 1 1 0]\n",
      "[0 0 0 ... 0 1 1]\n",
      "[1 0 1 ... 1 0 0]\n"
     ]
    },
    {
     "name": "stderr",
     "output_type": "stream",
     "text": [
      "\n",
      "\n",
      "  0%|          | 0/4 [00:00<?, ?it/s]\u001b[A\u001b[A\n",
      "\n",
      " 25%|██▌       | 1/4 [00:00<00:00,  9.62it/s]\u001b[A\u001b[A"
     ]
    },
    {
     "name": "stdout",
     "output_type": "stream",
     "text": [
      "tensor([[0.0114],\n",
      "        [0.0971],\n",
      "        [0.0090],\n",
      "        ...,\n",
      "        [0.4871],\n",
      "        [1.0329],\n",
      "        [0.0683]], grad_fn=<AddBackward0>)\n"
     ]
    },
    {
     "name": "stderr",
     "output_type": "stream",
     "text": [
      "\n",
      "\n",
      " 50%|█████     | 2/4 [00:00<00:00,  9.64it/s]\u001b[A\u001b[A"
     ]
    },
    {
     "name": "stdout",
     "output_type": "stream",
     "text": [
      "tensor([[-0.1308],\n",
      "        [ 0.6081],\n",
      "        [-0.9263],\n",
      "        ...,\n",
      "        [ 0.7786],\n",
      "        [ 0.6145],\n",
      "        [ 0.7258]], grad_fn=<AddBackward0>)\n",
      "tensor([[0.3257],\n",
      "        [0.8430],\n",
      "        [0.5807],\n",
      "        ...,\n",
      "        [0.7126],\n",
      "        [0.4101],\n",
      "        [0.5943]], grad_fn=<AddBackward0>)\n"
     ]
    },
    {
     "name": "stderr",
     "output_type": "stream",
     "text": [
      "\n",
      "\n",
      "100%|██████████| 4/4 [00:00<00:00, 10.26it/s]\u001b[A\u001b[A"
     ]
    },
    {
     "name": "stdout",
     "output_type": "stream",
     "text": [
      "tensor([[ 1.2346],\n",
      "        [ 0.8725],\n",
      "        [ 0.7606],\n",
      "        ...,\n",
      "        [-0.2000],\n",
      "        [-0.2252],\n",
      "        [-0.0742]], grad_fn=<AddBackward0>)\n",
      "[0 0 0 ... 0 1 1]\n",
      "[1 0 1 ... 1 0 0]\n"
     ]
    },
    {
     "name": "stderr",
     "output_type": "stream",
     "text": [
      "\n"
     ]
    },
    {
     "name": "stdout",
     "output_type": "stream",
     "text": [
      "[1 0 1 ... 0 0 0]\n",
      "[1 1 1 ... 1 1 0]\n",
      "\n",
      "Epoch: 030, Loss: 15675.2607, Val: 0.5464, Test: 0.5479\n",
      "[1 0 1 ... 0 0 0]\n",
      "[1 1 1 ... 1 1 0]\n",
      "[0 0 0 ... 0 1 1]\n",
      "[1 0 1 ... 1 0 0]\n"
     ]
    },
    {
     "name": "stderr",
     "output_type": "stream",
     "text": [
      "\n",
      "  0%|          | 30/10000 [00:20<1:56:11,  1.43it/s]\u001b[A\n",
      "\n",
      "  0%|          | 0/4 [00:00<?, ?it/s]\u001b[A\u001b[A\n",
      "\n",
      " 50%|█████     | 2/4 [00:00<00:00, 11.09it/s]\u001b[A\u001b[A"
     ]
    },
    {
     "name": "stdout",
     "output_type": "stream",
     "text": [
      "tensor([[2.2943],\n",
      "        [1.7982],\n",
      "        [2.0650],\n",
      "        ...,\n",
      "        [0.6850],\n",
      "        [1.6559],\n",
      "        [1.3591]], grad_fn=<AddBackward0>)\n",
      "tensor([[0.6112],\n",
      "        [0.8494],\n",
      "        [0.5566],\n",
      "        ...,\n",
      "        [1.2229],\n",
      "        [1.3127],\n",
      "        [1.3587]], grad_fn=<AddBackward0>)\n"
     ]
    },
    {
     "name": "stderr",
     "output_type": "stream",
     "text": [
      "\n",
      "\n",
      "100%|██████████| 4/4 [00:00<00:00, 10.89it/s]\u001b[A\u001b[A\n"
     ]
    },
    {
     "name": "stdout",
     "output_type": "stream",
     "text": [
      "tensor([[-2.0398],\n",
      "        [-1.8418],\n",
      "        [ 1.7746],\n",
      "        ...,\n",
      "        [ 0.8628],\n",
      "        [ 0.5272],\n",
      "        [ 0.8474]], grad_fn=<AddBackward0>)\n",
      "tensor([[-0.4398],\n",
      "        [-0.0760],\n",
      "        [-0.2994],\n",
      "        ...,\n",
      "        [-0.2079],\n",
      "        [-0.0136],\n",
      "        [-0.0246]], grad_fn=<AddBackward0>)\n",
      "[0 0 0 ... 0 1 1]\n",
      "[1 0 1 ... 1 0 0]\n",
      "[1 0 1 ... 0 0 0]\n",
      "[1 1 1 ... 1 1 0]\n",
      "\n",
      "Epoch: 031, Loss: 15244.4717, Val: 0.5482, Test: 0.5506\n",
      "[1 0 1 ... 0 0 0]\n",
      "[1 1 1 ... 1 1 0]\n",
      "[0 0 0 ... 0 1 1]\n",
      "[1 0 1 ... 1 0 0]\n"
     ]
    },
    {
     "name": "stderr",
     "output_type": "stream",
     "text": [
      "\n",
      "  0%|          | 31/10000 [00:21<1:47:52,  1.54it/s]\u001b[A\n",
      "\n",
      "  0%|          | 0/4 [00:00<?, ?it/s]\u001b[A\u001b[A\n",
      "\n",
      " 25%|██▌       | 1/4 [00:00<00:00,  9.58it/s]\u001b[A\u001b[A\n",
      "\n",
      " 50%|█████     | 2/4 [00:00<00:00,  7.89it/s]\u001b[A\u001b[A"
     ]
    },
    {
     "name": "stdout",
     "output_type": "stream",
     "text": [
      "tensor([[-0.9379],\n",
      "        [ 0.1914],\n",
      "        [ 0.2599],\n",
      "        ...,\n",
      "        [-2.3178],\n",
      "        [-0.9738],\n",
      "        [-1.0549]], grad_fn=<AddBackward0>)\n",
      "tensor([[-1.9662],\n",
      "        [-1.0029],\n",
      "        [-0.4170],\n",
      "        ...,\n",
      "        [ 0.7819],\n",
      "        [ 0.8863],\n",
      "        [ 0.2346]], grad_fn=<AddBackward0>)\n"
     ]
    },
    {
     "name": "stderr",
     "output_type": "stream",
     "text": [
      "\n",
      "\n",
      " 75%|███████▌  | 3/4 [00:00<00:00,  7.33it/s]\u001b[A\u001b[A\n",
      "\n",
      "100%|██████████| 4/4 [00:00<00:00,  7.87it/s]\u001b[A\u001b[A"
     ]
    },
    {
     "name": "stdout",
     "output_type": "stream",
     "text": [
      "tensor([[-0.4433],\n",
      "        [ 0.2399],\n",
      "        [ 0.2329],\n",
      "        ...,\n",
      "        [ 2.6287],\n",
      "        [ 1.6463],\n",
      "        [ 0.5644]], grad_fn=<AddBackward0>)\n",
      "tensor([[-1.2194],\n",
      "        [-0.9804],\n",
      "        [-2.1956],\n",
      "        ...,\n",
      "        [-0.1561],\n",
      "        [-0.0241],\n",
      "        [-0.2171]], grad_fn=<AddBackward0>)\n",
      "[0 0 0 ... 0 1 1]\n",
      "[1 0 1 ... 1 0 0]\n"
     ]
    },
    {
     "name": "stderr",
     "output_type": "stream",
     "text": [
      "\n",
      "\n",
      "  0%|          | 32/10000 [00:22<1:55:35,  1.44it/s]\u001b[A"
     ]
    },
    {
     "name": "stdout",
     "output_type": "stream",
     "text": [
      "[1 0 1 ... 0 0 0]\n",
      "[1 1 1 ... 1 1 0]\n",
      "\n",
      "Epoch: 032, Loss: 14971.8311, Val: 0.5498, Test: 0.5529\n",
      "[1 0 1 ... 0 0 0]\n",
      "[1 1 1 ... 1 1 0]\n",
      "[0 0 0 ... 0 1 1]\n",
      "[1 0 1 ... 1 0 0]\n"
     ]
    },
    {
     "name": "stderr",
     "output_type": "stream",
     "text": [
      "\n",
      "\n",
      "  0%|          | 0/4 [00:00<?, ?it/s]\u001b[A\u001b[A\n",
      "\n",
      " 25%|██▌       | 1/4 [00:00<00:00,  9.76it/s]\u001b[A\u001b[A"
     ]
    },
    {
     "name": "stdout",
     "output_type": "stream",
     "text": [
      "tensor([[-0.5319],\n",
      "        [-0.5415],\n",
      "        [-0.5330],\n",
      "        ...,\n",
      "        [-0.0656],\n",
      "        [-0.2759],\n",
      "        [-0.1158]], grad_fn=<AddBackward0>)\n"
     ]
    },
    {
     "name": "stderr",
     "output_type": "stream",
     "text": [
      "\n",
      "\n",
      " 50%|█████     | 2/4 [00:00<00:00,  7.79it/s]\u001b[A\u001b[A"
     ]
    },
    {
     "name": "stdout",
     "output_type": "stream",
     "text": [
      "tensor([[0.4464],\n",
      "        [0.3841],\n",
      "        [0.4639],\n",
      "        ...,\n",
      "        [0.8777],\n",
      "        [1.2198],\n",
      "        [0.9302]], grad_fn=<AddBackward0>)\n"
     ]
    },
    {
     "name": "stderr",
     "output_type": "stream",
     "text": [
      "\n",
      "\n",
      " 75%|███████▌  | 3/4 [00:00<00:00,  7.08it/s]\u001b[A\u001b[A"
     ]
    },
    {
     "name": "stdout",
     "output_type": "stream",
     "text": [
      "tensor([[-1.7716],\n",
      "        [-1.9003],\n",
      "        [-1.6839],\n",
      "        ...,\n",
      "        [ 0.2781],\n",
      "        [-0.0413],\n",
      "        [-0.0966]], grad_fn=<AddBackward0>)\n"
     ]
    },
    {
     "name": "stderr",
     "output_type": "stream",
     "text": [
      "\n",
      "\n",
      "100%|██████████| 4/4 [00:00<00:00,  7.41it/s]\u001b[A\u001b[A"
     ]
    },
    {
     "name": "stdout",
     "output_type": "stream",
     "text": [
      "tensor([[ 0.7007],\n",
      "        [ 0.7719],\n",
      "        [ 0.7263],\n",
      "        ...,\n",
      "        [-0.3231],\n",
      "        [-0.9191],\n",
      "        [-0.6210]], grad_fn=<AddBackward0>)\n",
      "[0 0 0 ... 0 1 1]\n",
      "[1 0 1 ... 1 0 0]\n",
      "[1 0 1 ... 0 0 0]\n",
      "[1 1 1 ... 1 1 0]\n"
     ]
    },
    {
     "name": "stderr",
     "output_type": "stream",
     "text": [
      "\n"
     ]
    },
    {
     "name": "stdout",
     "output_type": "stream",
     "text": [
      "\n",
      "Epoch: 033, Loss: 14637.5166, Val: 0.5505, Test: 0.5550\n",
      "[1 0 1 ... 0 0 0]\n",
      "[1 1 1 ... 1 1 0]\n"
     ]
    },
    {
     "name": "stderr",
     "output_type": "stream",
     "text": [
      "\n",
      "  0%|          | 33/10000 [00:23<2:04:42,  1.33it/s]\u001b[A"
     ]
    },
    {
     "name": "stdout",
     "output_type": "stream",
     "text": [
      "[0 0 0 ... 0 1 1]\n",
      "[1 0 1 ... 1 0 0]\n"
     ]
    },
    {
     "name": "stderr",
     "output_type": "stream",
     "text": [
      "\n",
      "\n",
      "  0%|          | 0/4 [00:00<?, ?it/s]\u001b[A\u001b[A"
     ]
    },
    {
     "name": "stdout",
     "output_type": "stream",
     "text": [
      "tensor([[-2.0980],\n",
      "        [-1.5168],\n",
      "        [-2.4093],\n",
      "        ...,\n",
      "        [-1.8545],\n",
      "        [-1.7167],\n",
      "        [-1.7854]], grad_fn=<AddBackward0>)\n"
     ]
    },
    {
     "name": "stderr",
     "output_type": "stream",
     "text": [
      "\n",
      "\n",
      " 50%|█████     | 2/4 [00:00<00:00, 10.36it/s]\u001b[A\u001b[A"
     ]
    },
    {
     "name": "stdout",
     "output_type": "stream",
     "text": [
      "tensor([[ 0.0249],\n",
      "        [ 0.0152],\n",
      "        [-0.0025],\n",
      "        ...,\n",
      "        [-0.1378],\n",
      "        [ 0.1180],\n",
      "        [ 0.0165]], grad_fn=<AddBackward0>)\n"
     ]
    },
    {
     "name": "stderr",
     "output_type": "stream",
     "text": [
      "\n",
      "\n",
      "100%|██████████| 4/4 [00:00<00:00, 10.47it/s]\u001b[A\u001b[A"
     ]
    },
    {
     "name": "stdout",
     "output_type": "stream",
     "text": [
      "tensor([[ 1.9154],\n",
      "        [-0.2645],\n",
      "        [ 2.6132],\n",
      "        ...,\n",
      "        [ 0.0831],\n",
      "        [ 0.1768],\n",
      "        [ 1.1903]], grad_fn=<AddBackward0>)\n",
      "tensor([[-1.2160],\n",
      "        [-0.7927],\n",
      "        [-0.7344],\n",
      "        ...,\n",
      "        [-0.0518],\n",
      "        [-0.2471],\n",
      "        [-0.0648]], grad_fn=<AddBackward0>)\n",
      "[0 0 0 ... 0 1 1]\n",
      "[1 0 1 ... 1 0 0]\n"
     ]
    },
    {
     "name": "stderr",
     "output_type": "stream",
     "text": [
      "\n"
     ]
    },
    {
     "name": "stdout",
     "output_type": "stream",
     "text": [
      "[1 0 1 ... 0 0 0]\n",
      "[1 1 1 ... 1 1 0]\n",
      "\n",
      "Epoch: 034, Loss: 14216.4658, Val: 0.5520, Test: 0.5575\n",
      "[1 0 1 ... 0 0 0]\n",
      "[1 1 1 ... 1 1 0]\n",
      "[0 0 0 ... 0 1 1]\n",
      "[1 0 1 ... 1 0 0]\n"
     ]
    },
    {
     "name": "stderr",
     "output_type": "stream",
     "text": [
      "\n",
      "  0%|          | 34/10000 [00:23<1:53:22,  1.46it/s]\u001b[A\n",
      "\n",
      "  0%|          | 0/4 [00:00<?, ?it/s]\u001b[A\u001b[A"
     ]
    },
    {
     "name": "stdout",
     "output_type": "stream",
     "text": [
      "tensor([[0.2334],\n",
      "        [0.1141],\n",
      "        [0.2406],\n",
      "        ...,\n",
      "        [1.2047],\n",
      "        [1.1892],\n",
      "        [1.3089]], grad_fn=<AddBackward0>)\n"
     ]
    },
    {
     "name": "stderr",
     "output_type": "stream",
     "text": [
      "\n",
      "\n",
      " 50%|█████     | 2/4 [00:00<00:00,  8.91it/s]\u001b[A\u001b[A"
     ]
    },
    {
     "name": "stdout",
     "output_type": "stream",
     "text": [
      "tensor([[-1.1251],\n",
      "        [-1.1145],\n",
      "        [-1.1151],\n",
      "        ...,\n",
      "        [ 0.4751],\n",
      "        [ 0.9403],\n",
      "        [-0.4382]], grad_fn=<AddBackward0>)\n"
     ]
    },
    {
     "name": "stderr",
     "output_type": "stream",
     "text": [
      "\n",
      "\n",
      " 75%|███████▌  | 3/4 [00:00<00:00,  7.76it/s]\u001b[A\u001b[A"
     ]
    },
    {
     "name": "stdout",
     "output_type": "stream",
     "text": [
      "tensor([[0.5640],\n",
      "        [0.3160],\n",
      "        [0.4493],\n",
      "        ...,\n",
      "        [1.1573],\n",
      "        [1.2416],\n",
      "        [1.0115]], grad_fn=<AddBackward0>)\n"
     ]
    },
    {
     "name": "stderr",
     "output_type": "stream",
     "text": [
      "\n",
      "\n",
      "100%|██████████| 4/4 [00:00<00:00,  8.19it/s]\u001b[A\u001b[A"
     ]
    },
    {
     "name": "stdout",
     "output_type": "stream",
     "text": [
      "tensor([[ 0.5858],\n",
      "        [-0.5749],\n",
      "        [ 0.4531],\n",
      "        ...,\n",
      "        [-0.0408],\n",
      "        [-0.6289],\n",
      "        [-0.5825]], grad_fn=<AddBackward0>)\n",
      "[0 0 0 ... 0 1 1]\n",
      "[1 0 1 ... 1 0 0]\n"
     ]
    },
    {
     "name": "stderr",
     "output_type": "stream",
     "text": [
      "\n",
      "\n",
      "  0%|          | 35/10000 [00:24<1:59:28,  1.39it/s]\u001b[A"
     ]
    },
    {
     "name": "stdout",
     "output_type": "stream",
     "text": [
      "[1 0 1 ... 0 0 0]\n",
      "[1 1 1 ... 1 1 0]\n",
      "\n",
      "Epoch: 035, Loss: 13362.6816, Val: 0.5533, Test: 0.5594\n",
      "[1 0 1 ... 0 0 0]\n",
      "[1 1 1 ... 1 1 0]\n",
      "[0 0 0 ... 0 1 1]\n",
      "[1 0 1 ... 1 0 0]\n"
     ]
    },
    {
     "name": "stderr",
     "output_type": "stream",
     "text": [
      "\n",
      "\n",
      "  0%|          | 0/4 [00:00<?, ?it/s]\u001b[A\u001b[A\n",
      "\n",
      " 25%|██▌       | 1/4 [00:00<00:00,  9.37it/s]\u001b[A\u001b[A\n",
      "\n",
      " 50%|█████     | 2/4 [00:00<00:00,  9.25it/s]\u001b[A\u001b[A"
     ]
    },
    {
     "name": "stdout",
     "output_type": "stream",
     "text": [
      "tensor([[-0.2808],\n",
      "        [-0.2925],\n",
      "        [ 0.1927],\n",
      "        ...,\n",
      "        [ 0.8396],\n",
      "        [ 0.9672],\n",
      "        [ 0.9989]], grad_fn=<AddBackward0>)\n",
      "tensor([[-1.1810],\n",
      "        [-1.2403],\n",
      "        [-1.2656],\n",
      "        ...,\n",
      "        [ 0.7011],\n",
      "        [ 0.4523],\n",
      "        [ 1.2655]], grad_fn=<AddBackward0>)\n"
     ]
    },
    {
     "name": "stderr",
     "output_type": "stream",
     "text": [
      "\n",
      "\n",
      "100%|██████████| 4/4 [00:00<00:00,  9.55it/s]\u001b[A\u001b[A"
     ]
    },
    {
     "name": "stdout",
     "output_type": "stream",
     "text": [
      "tensor([[1.1282],\n",
      "        [1.1451],\n",
      "        [1.1672],\n",
      "        ...,\n",
      "        [0.2611],\n",
      "        [0.0956],\n",
      "        [0.0818]], grad_fn=<AddBackward0>)\n",
      "tensor([[-0.1569],\n",
      "        [-0.0822],\n",
      "        [-0.3023],\n",
      "        ...,\n",
      "        [ 1.1629],\n",
      "        [ 0.5704],\n",
      "        [ 1.7805]], grad_fn=<AddBackward0>)\n",
      "[0 0 0 ... 0 1 1]\n",
      "[1 0 1 ... 1 0 0]\n",
      "[1 0 1 ... 0 0 0]\n",
      "[1 1 1 ... 1 1 0]\n",
      "\n",
      "Epoch: 036, Loss: 13878.3330, Val: 0.5558, Test: 0.5615\n",
      "[1 0 1 ... 0 0 0]\n",
      "[1 1 1 ... 1 1 0]\n"
     ]
    },
    {
     "name": "stderr",
     "output_type": "stream",
     "text": [
      "\n",
      "\n",
      "  0%|          | 36/10000 [00:25<1:59:05,  1.39it/s]\u001b[A"
     ]
    },
    {
     "name": "stdout",
     "output_type": "stream",
     "text": [
      "[0 0 0 ... 0 1 1]\n",
      "[1 0 1 ... 1 0 0]\n"
     ]
    },
    {
     "name": "stderr",
     "output_type": "stream",
     "text": [
      "\n",
      "\n",
      "  0%|          | 0/4 [00:00<?, ?it/s]\u001b[A\u001b[A"
     ]
    },
    {
     "name": "stdout",
     "output_type": "stream",
     "text": [
      "tensor([[-0.9474],\n",
      "        [-0.8395],\n",
      "        [-0.8356],\n",
      "        ...,\n",
      "        [-0.5919],\n",
      "        [-0.6280],\n",
      "        [-0.6403]], grad_fn=<AddBackward0>)\n"
     ]
    },
    {
     "name": "stderr",
     "output_type": "stream",
     "text": [
      "\n",
      "\n",
      " 50%|█████     | 2/4 [00:00<00:00,  9.68it/s]\u001b[A\u001b[A"
     ]
    },
    {
     "name": "stdout",
     "output_type": "stream",
     "text": [
      "tensor([[1.0243],\n",
      "        [0.9847],\n",
      "        [0.8501],\n",
      "        ...,\n",
      "        [0.1146],\n",
      "        [0.1205],\n",
      "        [0.1459]], grad_fn=<AddBackward0>)\n"
     ]
    },
    {
     "name": "stderr",
     "output_type": "stream",
     "text": [
      "\n",
      "\n",
      " 75%|███████▌  | 3/4 [00:00<00:00,  8.84it/s]\u001b[A\u001b[A"
     ]
    },
    {
     "name": "stdout",
     "output_type": "stream",
     "text": [
      "tensor([[0.5589],\n",
      "        [0.5691],\n",
      "        [0.6523],\n",
      "        ...,\n",
      "        [0.2850],\n",
      "        [0.2805],\n",
      "        [0.2582]], grad_fn=<AddBackward0>)\n"
     ]
    },
    {
     "name": "stderr",
     "output_type": "stream",
     "text": [
      "\n",
      "\n",
      "100%|██████████| 4/4 [00:00<00:00,  8.96it/s]\u001b[A\u001b[A"
     ]
    },
    {
     "name": "stdout",
     "output_type": "stream",
     "text": [
      "tensor([[ 1.4247],\n",
      "        [ 1.5623],\n",
      "        [ 1.4362],\n",
      "        ...,\n",
      "        [ 0.8873],\n",
      "        [-0.8908],\n",
      "        [ 0.3580]], grad_fn=<AddBackward0>)\n",
      "[0 0 0 ... 0 1 1]\n",
      "[1 0 1 ... 1 0 0]\n",
      "[1 0 1 ... 0 0 0]\n",
      "[1 1 1 ... 1 1 0]\n"
     ]
    },
    {
     "name": "stderr",
     "output_type": "stream",
     "text": [
      "\n",
      "\n",
      "  0%|          | 37/10000 [00:25<1:54:55,  1.44it/s]\u001b[A"
     ]
    },
    {
     "name": "stdout",
     "output_type": "stream",
     "text": [
      "\n",
      "Epoch: 037, Loss: 13506.4951, Val: 0.5579, Test: 0.5631\n",
      "[1 0 1 ... 0 0 0]\n",
      "[1 1 1 ... 1 1 0]\n",
      "[0 0 0 ... 0 1 1]\n",
      "[1 0 1 ... 1 0 0]\n"
     ]
    },
    {
     "name": "stderr",
     "output_type": "stream",
     "text": [
      "\n",
      "\n",
      "  0%|          | 0/4 [00:00<?, ?it/s]\u001b[A\u001b[A\n",
      "\n",
      " 25%|██▌       | 1/4 [00:00<00:00,  6.59it/s]\u001b[A\u001b[A\n",
      "\n",
      " 50%|█████     | 2/4 [00:00<00:00,  6.55it/s]\u001b[A\u001b[A"
     ]
    },
    {
     "name": "stdout",
     "output_type": "stream",
     "text": [
      "tensor([[-0.4735],\n",
      "        [ 0.1176],\n",
      "        [ 0.6633],\n",
      "        ...,\n",
      "        [ 0.0330],\n",
      "        [-0.1811],\n",
      "        [-0.2948]], grad_fn=<AddBackward0>)\n",
      "tensor([[-0.4804],\n",
      "        [-0.8332],\n",
      "        [-0.7276],\n",
      "        ...,\n",
      "        [-0.3229],\n",
      "        [-0.8427],\n",
      "        [-1.2792]], grad_fn=<AddBackward0>)\n"
     ]
    },
    {
     "name": "stderr",
     "output_type": "stream",
     "text": [
      "\n",
      "\n",
      " 75%|███████▌  | 3/4 [00:00<00:00,  6.44it/s]\u001b[A\u001b[A\n",
      "\n",
      "100%|██████████| 4/4 [00:00<00:00,  6.87it/s]\u001b[A\u001b[A"
     ]
    },
    {
     "name": "stdout",
     "output_type": "stream",
     "text": [
      "tensor([[0.8118],\n",
      "        [0.4733],\n",
      "        [0.5960],\n",
      "        ...,\n",
      "        [1.0263],\n",
      "        [0.9792],\n",
      "        [0.8047]], grad_fn=<AddBackward0>)\n",
      "tensor([[ 0.0348],\n",
      "        [ 0.0759],\n",
      "        [ 0.2515],\n",
      "        ...,\n",
      "        [-2.7838],\n",
      "        [ 1.1918],\n",
      "        [-0.9617]], grad_fn=<AddBackward0>)\n",
      "[0 0 0 ... 0 1 1]\n",
      "[1 0 1 ... 1 0 0]\n"
     ]
    },
    {
     "name": "stderr",
     "output_type": "stream",
     "text": [
      "\n",
      "\n",
      "  0%|          | 38/10000 [00:26<2:05:03,  1.33it/s]\u001b[A"
     ]
    },
    {
     "name": "stdout",
     "output_type": "stream",
     "text": [
      "[1 0 1 ... 0 0 0]\n",
      "[1 1 1 ... 1 1 0]\n",
      "\n",
      "Epoch: 038, Loss: 13001.9307, Val: 0.5597, Test: 0.5658\n",
      "[1 0 1 ... 0 0 0]\n",
      "[1 1 1 ... 1 1 0]\n",
      "[0 0 0 ... 0 1 1]\n",
      "[1 0 1 ... 1 0 0]\n"
     ]
    },
    {
     "name": "stderr",
     "output_type": "stream",
     "text": [
      "\n",
      "\n",
      "  0%|          | 0/4 [00:00<?, ?it/s]\u001b[A\u001b[A\n",
      "\n",
      " 25%|██▌       | 1/4 [00:00<00:00,  5.53it/s]\u001b[A\u001b[A\n",
      "\n",
      " 50%|█████     | 2/4 [00:00<00:00,  6.26it/s]\u001b[A\u001b[A"
     ]
    },
    {
     "name": "stdout",
     "output_type": "stream",
     "text": [
      "tensor([[0.1837],\n",
      "        [0.2661],\n",
      "        [0.3290],\n",
      "        ...,\n",
      "        [0.2444],\n",
      "        [0.1938],\n",
      "        [0.2598]], grad_fn=<AddBackward0>)\n",
      "tensor([[-0.4778],\n",
      "        [-0.9421],\n",
      "        [-1.0723],\n",
      "        ...,\n",
      "        [-0.4721],\n",
      "        [-0.5489],\n",
      "        [-0.8917]], grad_fn=<AddBackward0>)\n"
     ]
    },
    {
     "name": "stderr",
     "output_type": "stream",
     "text": [
      "\n",
      "\n",
      " 75%|███████▌  | 3/4 [00:00<00:00,  6.51it/s]\u001b[A\u001b[A\n",
      "\n",
      "100%|██████████| 4/4 [00:00<00:00,  6.77it/s]\u001b[A\u001b[A"
     ]
    },
    {
     "name": "stdout",
     "output_type": "stream",
     "text": [
      "tensor([[-0.3109],\n",
      "        [ 0.0568],\n",
      "        [-0.0219],\n",
      "        ...,\n",
      "        [ 1.4068],\n",
      "        [ 0.9646],\n",
      "        [ 0.8802]], grad_fn=<AddBackward0>)\n",
      "tensor([[ 0.2820],\n",
      "        [ 0.2560],\n",
      "        [ 0.3154],\n",
      "        ...,\n",
      "        [-0.2161],\n",
      "        [-0.1902],\n",
      "        [-0.2209]], grad_fn=<AddBackward0>)\n",
      "[0 0 0 ... 0 1 1]\n",
      "[1 0 1 ... 1 0 0]\n",
      "[1 0 1 ... 0 0 0]\n",
      "[1 1 1 ... 1 1 0]\n"
     ]
    },
    {
     "name": "stderr",
     "output_type": "stream",
     "text": [
      "\n",
      "\n",
      "  0%|          | 39/10000 [00:27<2:12:33,  1.25it/s]\u001b[A"
     ]
    },
    {
     "name": "stdout",
     "output_type": "stream",
     "text": [
      "\n",
      "Epoch: 039, Loss: 12678.8867, Val: 0.5626, Test: 0.5670\n",
      "[1 0 1 ... 0 0 0]\n",
      "[1 1 1 ... 1 1 0]\n",
      "[0 0 0 ... 0 1 1]\n",
      "[1 0 1 ... 1 0 0]\n"
     ]
    },
    {
     "name": "stderr",
     "output_type": "stream",
     "text": [
      "\n",
      "\n",
      "  0%|          | 0/4 [00:00<?, ?it/s]\u001b[A\u001b[A"
     ]
    },
    {
     "name": "stdout",
     "output_type": "stream",
     "text": [
      "tensor([[-1.3221],\n",
      "        [-0.6747],\n",
      "        [-1.0368],\n",
      "        ...,\n",
      "        [-1.3401],\n",
      "        [-1.3592],\n",
      "        [-1.0751]], grad_fn=<AddBackward0>)\n"
     ]
    },
    {
     "name": "stderr",
     "output_type": "stream",
     "text": [
      "\n",
      "\n",
      " 50%|█████     | 2/4 [00:00<00:00, 12.10it/s]\u001b[A\u001b[A"
     ]
    },
    {
     "name": "stdout",
     "output_type": "stream",
     "text": [
      "tensor([[2.3150],\n",
      "        [0.9506],\n",
      "        [0.9419],\n",
      "        ...,\n",
      "        [0.0351],\n",
      "        [0.0522],\n",
      "        [0.3996]], grad_fn=<AddBackward0>)\n",
      "tensor([[0.3901],\n",
      "        [0.5619],\n",
      "        [0.4429],\n",
      "        ...,\n",
      "        [1.1324],\n",
      "        [1.0415],\n",
      "        [0.9515]], grad_fn=<AddBackward0>)\n"
     ]
    },
    {
     "name": "stderr",
     "output_type": "stream",
     "text": [
      "\n",
      "\n",
      "100%|██████████| 4/4 [00:00<00:00, 12.65it/s]\u001b[A\u001b[A"
     ]
    },
    {
     "name": "stdout",
     "output_type": "stream",
     "text": [
      "tensor([[-0.1535],\n",
      "        [-0.0446],\n",
      "        [-0.3761],\n",
      "        ...,\n",
      "        [-0.4847],\n",
      "        [-0.5651],\n",
      "        [-0.6778]], grad_fn=<AddBackward0>)\n",
      "[0 0 0 ... 0 1 1]\n",
      "[1 0 1 ... 1 0 0]\n",
      "[1 0 1 ... 0 0 0]\n",
      "[1 1 1 ... 1 1 0]\n"
     ]
    },
    {
     "name": "stderr",
     "output_type": "stream",
     "text": [
      "\n"
     ]
    },
    {
     "name": "stdout",
     "output_type": "stream",
     "text": [
      "\n",
      "Epoch: 040, Loss: 12302.3105, Val: 0.5642, Test: 0.5688\n",
      "[1 0 1 ... 0 0 0]\n",
      "[1 1 1 ... 1 1 0]\n",
      "[0 0 0 ... 0 1 1]\n",
      "[1 0 1 ... 1 0 0]\n"
     ]
    },
    {
     "name": "stderr",
     "output_type": "stream",
     "text": [
      "\n",
      "  0%|          | 40/10000 [00:28<2:03:02,  1.35it/s]\u001b[A\n",
      "\n",
      "  0%|          | 0/4 [00:00<?, ?it/s]\u001b[A\u001b[A\n",
      "\n",
      " 50%|█████     | 2/4 [00:00<00:00, 12.29it/s]\u001b[A\u001b[A"
     ]
    },
    {
     "name": "stdout",
     "output_type": "stream",
     "text": [
      "tensor([[0.6515],\n",
      "        [0.4803],\n",
      "        [0.7476],\n",
      "        ...,\n",
      "        [0.2263],\n",
      "        [0.2425],\n",
      "        [0.2413]], grad_fn=<AddBackward0>)\n",
      "tensor([[ 1.4660],\n",
      "        [ 1.3427],\n",
      "        [ 1.0284],\n",
      "        ...,\n",
      "        [-0.8330],\n",
      "        [-1.3815],\n",
      "        [-1.0048]], grad_fn=<AddBackward0>)\n",
      "tensor([[-1.3542],\n",
      "        [-1.6875],\n",
      "        [-1.5584],\n",
      "        ...,\n",
      "        [-0.1649],\n",
      "        [-0.5418],\n",
      "        [ 0.0935]], grad_fn=<AddBackward0>)\n"
     ]
    },
    {
     "name": "stderr",
     "output_type": "stream",
     "text": [
      "\n",
      "\n",
      "100%|██████████| 4/4 [00:00<00:00, 11.76it/s]\u001b[A\u001b[A\n",
      "\n",
      "  0%|          | 41/10000 [00:28<1:49:17,  1.52it/s]\u001b[A"
     ]
    },
    {
     "name": "stdout",
     "output_type": "stream",
     "text": [
      "tensor([[-0.3785],\n",
      "        [-0.8778],\n",
      "        [-0.5222],\n",
      "        ...,\n",
      "        [-0.2708],\n",
      "        [-0.3165],\n",
      "        [-0.4474]], grad_fn=<AddBackward0>)\n",
      "[0 0 0 ... 0 1 1]\n",
      "[1 0 1 ... 1 0 0]\n",
      "[1 0 1 ... 0 0 0]\n",
      "[1 1 1 ... 1 1 0]\n",
      "\n",
      "Epoch: 041, Loss: 11995.8105, Val: 0.5658, Test: 0.5722\n",
      "[1 0 1 ... 0 0 0]\n",
      "[1 1 1 ... 1 1 0]\n",
      "[0 0 0 ... 0 1 1]\n",
      "[1 0 1 ... 1 0 0]\n"
     ]
    },
    {
     "name": "stderr",
     "output_type": "stream",
     "text": [
      "\n",
      "\n",
      "  0%|          | 0/4 [00:00<?, ?it/s]\u001b[A\u001b[A\n",
      "\n",
      " 50%|█████     | 2/4 [00:00<00:00, 12.21it/s]\u001b[A\u001b[A"
     ]
    },
    {
     "name": "stdout",
     "output_type": "stream",
     "text": [
      "tensor([[-0.2919],\n",
      "        [-0.6913],\n",
      "        [-0.1431],\n",
      "        ...,\n",
      "        [-1.2791],\n",
      "        [-1.2801],\n",
      "        [-1.2569]], grad_fn=<AddBackward0>)\n",
      "tensor([[-1.9703],\n",
      "        [-1.1629],\n",
      "        [-1.4902],\n",
      "        ...,\n",
      "        [-0.2720],\n",
      "        [-0.2918],\n",
      "        [-0.0081]], grad_fn=<AddBackward0>)\n",
      "tensor([[0.6326],\n",
      "        [0.6373],\n",
      "        [0.0674],\n",
      "        ...,\n",
      "        [0.8393],\n",
      "        [1.5620],\n",
      "        [0.9110]], grad_fn=<AddBackward0>)\n"
     ]
    },
    {
     "name": "stderr",
     "output_type": "stream",
     "text": [
      "\n",
      "\n",
      "100%|██████████| 4/4 [00:00<00:00, 12.74it/s]\u001b[A\u001b[A\n"
     ]
    },
    {
     "name": "stdout",
     "output_type": "stream",
     "text": [
      "tensor([[-0.4718],\n",
      "        [-0.0526],\n",
      "        [-1.1793],\n",
      "        ...,\n",
      "        [-1.3803],\n",
      "        [-0.5713],\n",
      "        [-0.5292]], grad_fn=<AddBackward0>)\n",
      "[0 0 0 ... 0 1 1]\n",
      "[1 0 1 ... 1 0 0]\n",
      "[1 0 1 ... 0 0 0]\n",
      "[1 1 1 ... 1 1 0]\n"
     ]
    },
    {
     "name": "stderr",
     "output_type": "stream",
     "text": [
      "\n",
      "  0%|          | 42/10000 [00:29<1:48:09,  1.53it/s]\u001b[A"
     ]
    },
    {
     "name": "stdout",
     "output_type": "stream",
     "text": [
      "\n",
      "Epoch: 042, Loss: 12161.8525, Val: 0.5687, Test: 0.5741\n",
      "[1 0 1 ... 0 0 0]\n",
      "[1 1 1 ... 1 1 0]\n",
      "[0 0 0 ... 0 1 1]\n",
      "[1 0 1 ... 1 0 0]\n"
     ]
    },
    {
     "name": "stderr",
     "output_type": "stream",
     "text": [
      "\n",
      "\n",
      "  0%|          | 0/4 [00:00<?, ?it/s]\u001b[A\u001b[A"
     ]
    },
    {
     "name": "stdout",
     "output_type": "stream",
     "text": [
      "tensor([[ 0.0815],\n",
      "        [-0.1966],\n",
      "        [-0.1712],\n",
      "        ...,\n",
      "        [-0.3314],\n",
      "        [-0.4205],\n",
      "        [ 0.2620]], grad_fn=<AddBackward0>)\n"
     ]
    },
    {
     "name": "stderr",
     "output_type": "stream",
     "text": [
      "\n",
      "\n",
      " 50%|█████     | 2/4 [00:00<00:00, 12.35it/s]\u001b[A\u001b[A"
     ]
    },
    {
     "name": "stdout",
     "output_type": "stream",
     "text": [
      "tensor([[1.2438],\n",
      "        [1.1495],\n",
      "        [1.2147],\n",
      "        ...,\n",
      "        [2.2750],\n",
      "        [1.6219],\n",
      "        [1.8699]], grad_fn=<AddBackward0>)\n",
      "tensor([[-0.4270],\n",
      "        [-0.3344],\n",
      "        [-0.3081],\n",
      "        ...,\n",
      "        [ 1.0134],\n",
      "        [-0.0067],\n",
      "        [ 0.8284]], grad_fn=<AddBackward0>)\n"
     ]
    },
    {
     "name": "stderr",
     "output_type": "stream",
     "text": [
      "\n",
      "\n",
      "100%|██████████| 4/4 [00:00<00:00, 12.55it/s]\u001b[A\u001b[A"
     ]
    },
    {
     "name": "stdout",
     "output_type": "stream",
     "text": [
      "tensor([[-0.6260],\n",
      "        [-0.4241],\n",
      "        [ 0.1551],\n",
      "        ...,\n",
      "        [ 0.6384],\n",
      "        [ 0.6105],\n",
      "        [-0.0314]], grad_fn=<AddBackward0>)\n",
      "[0 0 0 ... 0 1 1]\n",
      "[1 0 1 ... 1 0 0]\n",
      "[1 0 1 ... 0 0 0]\n",
      "[1 1 1 ... 1 1 0]\n"
     ]
    },
    {
     "name": "stderr",
     "output_type": "stream",
     "text": [
      "\n"
     ]
    },
    {
     "name": "stdout",
     "output_type": "stream",
     "text": [
      "\n",
      "Epoch: 043, Loss: 11692.0654, Val: 0.5700, Test: 0.5756\n",
      "[1 0 1 ... 0 0 0]\n",
      "[1 1 1 ... 1 1 0]\n",
      "[0 0 0 ... 0 1 1]\n",
      "[1 0 1 ... 1 0 0]\n"
     ]
    },
    {
     "name": "stderr",
     "output_type": "stream",
     "text": [
      "\n",
      "  0%|          | 43/10000 [00:29<1:45:45,  1.57it/s]\u001b[A\n",
      "\n",
      "  0%|          | 0/4 [00:00<?, ?it/s]\u001b[A\u001b[A\n",
      "\n",
      " 25%|██▌       | 1/4 [00:00<00:00,  9.13it/s]\u001b[A\u001b[A\n",
      "\n",
      " 75%|███████▌  | 3/4 [00:00<00:00, 11.20it/s]\u001b[A\u001b[A"
     ]
    },
    {
     "name": "stdout",
     "output_type": "stream",
     "text": [
      "tensor([[0.4330],\n",
      "        [0.2973],\n",
      "        [0.3328],\n",
      "        ...,\n",
      "        [0.8184],\n",
      "        [0.7973],\n",
      "        [0.0910]], grad_fn=<AddBackward0>)\n",
      "tensor([[ 1.1654],\n",
      "        [ 1.2728],\n",
      "        [ 1.1880],\n",
      "        ...,\n",
      "        [ 0.0047],\n",
      "        [-0.5526],\n",
      "        [-0.0235]], grad_fn=<AddBackward0>)\n",
      "tensor([[ 1.1133],\n",
      "        [ 1.0272],\n",
      "        [ 1.2597],\n",
      "        ...,\n",
      "        [ 0.0671],\n",
      "        [-0.0710],\n",
      "        [-0.1343]], grad_fn=<AddBackward0>)\n"
     ]
    },
    {
     "name": "stderr",
     "output_type": "stream",
     "text": [
      "100%|██████████| 4/4 [00:00<00:00, 11.88it/s]\n",
      "\n",
      "  0%|          | 44/10000 [00:30<1:37:02,  1.71it/s]\u001b[A"
     ]
    },
    {
     "name": "stdout",
     "output_type": "stream",
     "text": [
      "tensor([[ 0.7690],\n",
      "        [ 0.6063],\n",
      "        [ 1.0253],\n",
      "        ...,\n",
      "        [-0.2482],\n",
      "        [-0.1447],\n",
      "        [-0.1858]], grad_fn=<AddBackward0>)\n",
      "[0 0 0 ... 0 1 1]\n",
      "[1 0 1 ... 1 0 0]\n",
      "[1 0 1 ... 0 0 0]\n",
      "[1 1 1 ... 1 1 0]\n",
      "\n",
      "Epoch: 044, Loss: 11486.0029, Val: 0.5713, Test: 0.5767\n",
      "[1 0 1 ... 0 0 0]\n",
      "[1 1 1 ... 1 1 0]\n",
      "[0 0 0 ... 0 1 1]\n",
      "[1 0 1 ... 1 0 0]\n"
     ]
    },
    {
     "name": "stderr",
     "output_type": "stream",
     "text": [
      "\n",
      "\n",
      "  0%|          | 0/4 [00:00<?, ?it/s]\u001b[A\u001b[A\n",
      "\n",
      " 50%|█████     | 2/4 [00:00<00:00, 12.39it/s]\u001b[A\u001b[A"
     ]
    },
    {
     "name": "stdout",
     "output_type": "stream",
     "text": [
      "tensor([[-0.6284],\n",
      "        [-0.7387],\n",
      "        [-0.7082],\n",
      "        ...,\n",
      "        [-1.1461],\n",
      "        [-0.5471],\n",
      "        [-0.6735]], grad_fn=<AddBackward0>)\n",
      "tensor([[0.7429],\n",
      "        [0.5747],\n",
      "        [0.6857],\n",
      "        ...,\n",
      "        [1.5956],\n",
      "        [1.4802],\n",
      "        [1.4143]], grad_fn=<AddBackward0>)\n",
      "tensor([[0.4260],\n",
      "        [0.2224],\n",
      "        [0.1946],\n",
      "        ...,\n",
      "        [0.6100],\n",
      "        [0.6532],\n",
      "        [0.9163]], grad_fn=<AddBackward0>)\n"
     ]
    },
    {
     "name": "stderr",
     "output_type": "stream",
     "text": [
      "\n",
      "\n",
      "100%|██████████| 4/4 [00:00<00:00, 13.11it/s]\u001b[A\u001b[A\n"
     ]
    },
    {
     "name": "stdout",
     "output_type": "stream",
     "text": [
      "tensor([[ 0.6691],\n",
      "        [ 0.9628],\n",
      "        [ 0.7574],\n",
      "        ...,\n",
      "        [-0.5784],\n",
      "        [-0.6537],\n",
      "        [-0.5663]], grad_fn=<AddBackward0>)\n",
      "[0 0 0 ... 0 1 1]\n",
      "[1 0 1 ... 1 0 0]\n",
      "[1 0 1 ... 0 0 0]\n",
      "[1 1 1 ... 1 1 0]\n"
     ]
    },
    {
     "name": "stderr",
     "output_type": "stream",
     "text": [
      "\n",
      "  0%|          | 45/10000 [00:30<1:37:43,  1.70it/s]\u001b[A"
     ]
    },
    {
     "name": "stdout",
     "output_type": "stream",
     "text": [
      "\n",
      "Epoch: 045, Loss: 11315.1582, Val: 0.5738, Test: 0.5790\n",
      "[1 0 1 ... 0 0 0]\n",
      "[1 1 1 ... 1 1 0]\n",
      "[0 0 0 ... 0 1 1]\n",
      "[1 0 1 ... 1 0 0]\n"
     ]
    },
    {
     "name": "stderr",
     "output_type": "stream",
     "text": [
      "\n",
      "\n",
      "  0%|          | 0/4 [00:00<?, ?it/s]\u001b[A\u001b[A"
     ]
    },
    {
     "name": "stdout",
     "output_type": "stream",
     "text": [
      "tensor([[-0.5963],\n",
      "        [-0.6570],\n",
      "        [-0.6593],\n",
      "        ...,\n",
      "        [-0.2049],\n",
      "        [-0.2406],\n",
      "        [-0.3308]], grad_fn=<AddBackward0>)\n"
     ]
    },
    {
     "name": "stderr",
     "output_type": "stream",
     "text": [
      "\n",
      "\n",
      " 50%|█████     | 2/4 [00:00<00:00, 10.43it/s]\u001b[A\u001b[A"
     ]
    },
    {
     "name": "stdout",
     "output_type": "stream",
     "text": [
      "tensor([[-0.1004],\n",
      "        [-0.1269],\n",
      "        [-0.1145],\n",
      "        ...,\n",
      "        [-1.1461],\n",
      "        [ 1.0532],\n",
      "        [-0.3652]], grad_fn=<AddBackward0>)\n",
      "tensor([[-0.1634],\n",
      "        [-0.0379],\n",
      "        [-0.0388],\n",
      "        ...,\n",
      "        [-0.2232],\n",
      "        [ 0.1978],\n",
      "        [ 0.0485]], grad_fn=<AddBackward0>)\n"
     ]
    },
    {
     "name": "stderr",
     "output_type": "stream",
     "text": [
      "\n",
      "\n",
      "100%|██████████| 4/4 [00:00<00:00, 10.72it/s]\u001b[A\u001b[A"
     ]
    },
    {
     "name": "stdout",
     "output_type": "stream",
     "text": [
      "tensor([[-0.2177],\n",
      "        [-0.0457],\n",
      "        [-0.0917],\n",
      "        ...,\n",
      "        [-0.3123],\n",
      "        [-0.2752],\n",
      "        [-0.1968]], grad_fn=<AddBackward0>)\n",
      "[0 0 0 ... 0 1 1]\n",
      "[1 0 1 ... 1 0 0]\n"
     ]
    },
    {
     "name": "stderr",
     "output_type": "stream",
     "text": [
      "\n"
     ]
    },
    {
     "name": "stdout",
     "output_type": "stream",
     "text": [
      "[1 0 1 ... 0 0 0]\n",
      "[1 1 1 ... 1 1 0]\n",
      "\n",
      "Epoch: 046, Loss: 10944.4648, Val: 0.5755, Test: 0.5798\n",
      "[1 0 1 ... 0 0 0]\n",
      "[1 1 1 ... 1 1 0]\n"
     ]
    },
    {
     "name": "stderr",
     "output_type": "stream",
     "text": [
      "\n",
      "  0%|          | 46/10000 [00:31<1:43:27,  1.60it/s]\u001b[A"
     ]
    },
    {
     "name": "stdout",
     "output_type": "stream",
     "text": [
      "[0 0 0 ... 0 1 1]\n",
      "[1 0 1 ... 1 0 0]\n"
     ]
    },
    {
     "name": "stderr",
     "output_type": "stream",
     "text": [
      "\n",
      "\n",
      "  0%|          | 0/4 [00:00<?, ?it/s]\u001b[A\u001b[A\n",
      "\n",
      " 50%|█████     | 2/4 [00:00<00:00, 12.28it/s]\u001b[A\u001b[A"
     ]
    },
    {
     "name": "stdout",
     "output_type": "stream",
     "text": [
      "tensor([[ 0.1949],\n",
      "        [ 0.4104],\n",
      "        [-0.2533],\n",
      "        ...,\n",
      "        [-0.1710],\n",
      "        [-0.1171],\n",
      "        [-0.0538]], grad_fn=<AddBackward0>)\n",
      "tensor([[ 0.9483],\n",
      "        [ 0.8072],\n",
      "        [ 0.8017],\n",
      "        ...,\n",
      "        [ 0.2890],\n",
      "        [ 0.2436],\n",
      "        [-0.2450]], grad_fn=<AddBackward0>)\n",
      "tensor([[0.2956],\n",
      "        [0.2998],\n",
      "        [0.0416],\n",
      "        ...,\n",
      "        [1.2145],\n",
      "        [0.0706],\n",
      "        [0.9008]], grad_fn=<AddBackward0>)\n"
     ]
    },
    {
     "name": "stderr",
     "output_type": "stream",
     "text": [
      "\n",
      "\n",
      "100%|██████████| 4/4 [00:00<00:00, 12.94it/s]\u001b[A\u001b[A\n",
      "\n",
      "  0%|          | 47/10000 [00:32<1:33:42,  1.77it/s]\u001b[A"
     ]
    },
    {
     "name": "stdout",
     "output_type": "stream",
     "text": [
      "tensor([[ 1.8546],\n",
      "        [-0.4437],\n",
      "        [ 0.1970],\n",
      "        ...,\n",
      "        [ 0.0314],\n",
      "        [-1.0704],\n",
      "        [ 0.8789]], grad_fn=<AddBackward0>)\n",
      "[0 0 0 ... 0 1 1]\n",
      "[1 0 1 ... 1 0 0]\n",
      "[1 0 1 ... 0 0 0]\n",
      "[1 1 1 ... 1 1 0]\n",
      "\n",
      "Epoch: 047, Loss: 10735.7998, Val: 0.5771, Test: 0.5813\n",
      "[1 0 1 ... 0 0 0]\n",
      "[1 1 1 ... 1 1 0]\n",
      "[0 0 0 ... 0 1 1]\n",
      "[1 0 1 ... 1 0 0]\n"
     ]
    },
    {
     "name": "stderr",
     "output_type": "stream",
     "text": [
      "\n",
      "\n",
      "  0%|          | 0/4 [00:00<?, ?it/s]\u001b[A\u001b[A"
     ]
    },
    {
     "name": "stdout",
     "output_type": "stream",
     "text": [
      "tensor([[-0.8056],\n",
      "        [-0.6670],\n",
      "        [-0.6796],\n",
      "        ...,\n",
      "        [ 0.3509],\n",
      "        [ 0.5434],\n",
      "        [ 0.5082]], grad_fn=<AddBackward0>)\n"
     ]
    },
    {
     "name": "stderr",
     "output_type": "stream",
     "text": [
      "\n",
      "\n",
      " 50%|█████     | 2/4 [00:00<00:00, 11.78it/s]\u001b[A\u001b[A"
     ]
    },
    {
     "name": "stdout",
     "output_type": "stream",
     "text": [
      "tensor([[-1.0277],\n",
      "        [-1.0553],\n",
      "        [-1.0609],\n",
      "        ...,\n",
      "        [ 0.3151],\n",
      "        [ 0.6382],\n",
      "        [ 0.6424]], grad_fn=<AddBackward0>)\n",
      "tensor([[0.6915],\n",
      "        [1.1657],\n",
      "        [0.5628],\n",
      "        ...,\n",
      "        [0.7262],\n",
      "        [0.9686],\n",
      "        [0.8220]], grad_fn=<AddBackward0>)\n"
     ]
    },
    {
     "name": "stderr",
     "output_type": "stream",
     "text": [
      "\n",
      "\n",
      "100%|██████████| 4/4 [00:00<00:00, 11.94it/s]\u001b[A\u001b[A"
     ]
    },
    {
     "name": "stdout",
     "output_type": "stream",
     "text": [
      "tensor([[ 0.6532],\n",
      "        [ 0.7517],\n",
      "        [ 0.6866],\n",
      "        ...,\n",
      "        [-0.3223],\n",
      "        [-0.1990],\n",
      "        [-0.3087]], grad_fn=<AddBackward0>)\n",
      "[0 0 0 ... 0 1 1]\n",
      "[1 0 1 ... 1 0 0]\n"
     ]
    },
    {
     "name": "stderr",
     "output_type": "stream",
     "text": [
      "\n",
      "\n",
      "  0%|          | 48/10000 [00:32<1:37:30,  1.70it/s]\u001b[A"
     ]
    },
    {
     "name": "stdout",
     "output_type": "stream",
     "text": [
      "[1 0 1 ... 0 0 0]\n",
      "[1 1 1 ... 1 1 0]\n",
      "\n",
      "Epoch: 048, Loss: 10545.8770, Val: 0.5782, Test: 0.5823\n",
      "[1 0 1 ... 0 0 0]\n",
      "[1 1 1 ... 1 1 0]\n",
      "[0 0 0 ... 0 1 1]\n",
      "[1 0 1 ... 1 0 0]\n"
     ]
    },
    {
     "name": "stderr",
     "output_type": "stream",
     "text": [
      "\n",
      "\n",
      "  0%|          | 0/4 [00:00<?, ?it/s]\u001b[A\u001b[A"
     ]
    },
    {
     "name": "stdout",
     "output_type": "stream",
     "text": [
      "tensor([[-0.7947],\n",
      "        [-0.8423],\n",
      "        [-0.7254],\n",
      "        ...,\n",
      "        [ 1.3931],\n",
      "        [ 1.1953],\n",
      "        [ 2.4860]], grad_fn=<AddBackward0>)\n"
     ]
    },
    {
     "name": "stderr",
     "output_type": "stream",
     "text": [
      "\n",
      "\n",
      " 50%|█████     | 2/4 [00:00<00:00, 10.92it/s]\u001b[A\u001b[A"
     ]
    },
    {
     "name": "stdout",
     "output_type": "stream",
     "text": [
      "tensor([[-1.2052],\n",
      "        [-1.5128],\n",
      "        [-1.2749],\n",
      "        ...,\n",
      "        [-0.8373],\n",
      "        [-0.9638],\n",
      "        [-0.9921]], grad_fn=<AddBackward0>)\n",
      "tensor([[0.5670],\n",
      "        [0.2725],\n",
      "        [0.6274],\n",
      "        ...,\n",
      "        [0.8015],\n",
      "        [1.3433],\n",
      "        [0.9176]], grad_fn=<AddBackward0>)\n"
     ]
    },
    {
     "name": "stderr",
     "output_type": "stream",
     "text": [
      "\n",
      "\n",
      "100%|██████████| 4/4 [00:00<00:00, 10.70it/s]\u001b[A\u001b[A"
     ]
    },
    {
     "name": "stdout",
     "output_type": "stream",
     "text": [
      "tensor([[-0.9818],\n",
      "        [-1.1777],\n",
      "        [-0.3427],\n",
      "        ...,\n",
      "        [ 1.7085],\n",
      "        [ 0.1587],\n",
      "        [ 1.6470]], grad_fn=<AddBackward0>)\n"
     ]
    },
    {
     "name": "stderr",
     "output_type": "stream",
     "text": [
      "\n"
     ]
    },
    {
     "name": "stdout",
     "output_type": "stream",
     "text": [
      "[0 0 0 ... 0 1 1]\n",
      "[1 0 1 ... 1 0 0]\n",
      "[1 0 1 ... 0 0 0]\n",
      "[1 1 1 ... 1 1 0]\n",
      "\n",
      "Epoch: 049, Loss: 10272.6689, Val: 0.5806, Test: 0.5838\n",
      "[1 0 1 ... 0 0 0]\n",
      "[1 1 1 ... 1 1 0]\n"
     ]
    },
    {
     "name": "stderr",
     "output_type": "stream",
     "text": [
      "\n",
      "  0%|          | 49/10000 [00:33<1:41:35,  1.63it/s]\u001b[A"
     ]
    },
    {
     "name": "stdout",
     "output_type": "stream",
     "text": [
      "[0 0 0 ... 0 1 1]\n",
      "[1 0 1 ... 1 0 0]\n"
     ]
    },
    {
     "name": "stderr",
     "output_type": "stream",
     "text": [
      "\n",
      "\n",
      "  0%|          | 0/4 [00:00<?, ?it/s]\u001b[A\u001b[A\n",
      "\n",
      " 25%|██▌       | 1/4 [00:00<00:00,  8.93it/s]\u001b[A\u001b[A"
     ]
    },
    {
     "name": "stdout",
     "output_type": "stream",
     "text": [
      "tensor([[-0.6612],\n",
      "        [-0.1752],\n",
      "        [-0.2516],\n",
      "        ...,\n",
      "        [-1.0369],\n",
      "        [-1.2007],\n",
      "        [-1.1612]], grad_fn=<AddBackward0>)\n"
     ]
    },
    {
     "name": "stderr",
     "output_type": "stream",
     "text": [
      "\n",
      "\n",
      " 50%|█████     | 2/4 [00:00<00:00,  9.16it/s]\u001b[A\u001b[A"
     ]
    },
    {
     "name": "stdout",
     "output_type": "stream",
     "text": [
      "tensor([[ 0.2283],\n",
      "        [-0.4969],\n",
      "        [-0.5065],\n",
      "        ...,\n",
      "        [-0.4452],\n",
      "        [-0.4484],\n",
      "        [-0.4487]], grad_fn=<AddBackward0>)\n"
     ]
    },
    {
     "name": "stderr",
     "output_type": "stream",
     "text": [
      "\n",
      "\n",
      "100%|██████████| 4/4 [00:00<00:00, 10.60it/s]\u001b[A\u001b[A"
     ]
    },
    {
     "name": "stdout",
     "output_type": "stream",
     "text": [
      "tensor([[-0.0667],\n",
      "        [-0.1125],\n",
      "        [-0.0796],\n",
      "        ...,\n",
      "        [ 0.9614],\n",
      "        [ 1.2246],\n",
      "        [ 1.1298]], grad_fn=<AddBackward0>)\n",
      "tensor([[ 1.6677],\n",
      "        [ 1.6311],\n",
      "        [ 1.5891],\n",
      "        ...,\n",
      "        [-0.3824],\n",
      "        [-0.5281],\n",
      "        [-0.7390]], grad_fn=<AddBackward0>)\n",
      "[0 0 0 ... 0 1 1]\n",
      "[1 0 1 ... 1 0 0]\n"
     ]
    },
    {
     "name": "stderr",
     "output_type": "stream",
     "text": [
      "\n"
     ]
    },
    {
     "name": "stdout",
     "output_type": "stream",
     "text": [
      "[1 0 1 ... 0 0 0]\n",
      "[1 1 1 ... 1 1 0]\n",
      "\n",
      "Epoch: 050, Loss: 10218.5801, Val: 0.5821, Test: 0.5854\n",
      "[1 0 1 ... 0 0 0]\n",
      "[1 1 1 ... 1 1 0]\n",
      "[0 0 0 ... 0 1 1]\n",
      "[1 0 1 ... 1 0 0]\n"
     ]
    },
    {
     "name": "stderr",
     "output_type": "stream",
     "text": [
      "\n",
      "  0%|          | 50/10000 [00:33<1:37:54,  1.69it/s]\u001b[A\n",
      "\n",
      "  0%|          | 0/4 [00:00<?, ?it/s]\u001b[A\u001b[A"
     ]
    },
    {
     "name": "stdout",
     "output_type": "stream",
     "text": [
      "tensor([[-0.2321],\n",
      "        [-0.0651],\n",
      "        [-0.1933],\n",
      "        ...,\n",
      "        [ 1.3552],\n",
      "        [ 1.2714],\n",
      "        [ 0.2730]], grad_fn=<AddBackward0>)\n"
     ]
    },
    {
     "name": "stderr",
     "output_type": "stream",
     "text": [
      "\n",
      "\n",
      " 50%|█████     | 2/4 [00:00<00:00, 10.52it/s]\u001b[A\u001b[A"
     ]
    },
    {
     "name": "stdout",
     "output_type": "stream",
     "text": [
      "tensor([[0.3241],\n",
      "        [0.1606],\n",
      "        [0.3206],\n",
      "        ...,\n",
      "        [1.1199],\n",
      "        [0.6285],\n",
      "        [0.7469]], grad_fn=<AddBackward0>)\n"
     ]
    },
    {
     "name": "stderr",
     "output_type": "stream",
     "text": [
      "\n",
      "\n",
      "100%|██████████| 4/4 [00:00<00:00, 10.88it/s]\u001b[A\u001b[A"
     ]
    },
    {
     "name": "stdout",
     "output_type": "stream",
     "text": [
      "tensor([[ 0.1056],\n",
      "        [ 0.0032],\n",
      "        [-0.0491],\n",
      "        ...,\n",
      "        [ 0.2854],\n",
      "        [ 0.4152],\n",
      "        [ 0.4132]], grad_fn=<AddBackward0>)\n",
      "tensor([[-1.2058],\n",
      "        [-1.0118],\n",
      "        [-1.4036],\n",
      "        ...,\n",
      "        [-0.4987],\n",
      "        [-0.5377],\n",
      "        [ 0.1081]], grad_fn=<AddBackward0>)\n",
      "[0 0 0 ... 0 1 1]\n",
      "[1 0 1 ... 1 0 0]\n"
     ]
    },
    {
     "name": "stderr",
     "output_type": "stream",
     "text": [
      "\n",
      "\n",
      "  1%|          | 51/10000 [00:34<1:42:12,  1.62it/s]\u001b[A"
     ]
    },
    {
     "name": "stdout",
     "output_type": "stream",
     "text": [
      "[0 0 1 ... 0 0 0]\n",
      "[1 1 1 ... 1 1 0]\n",
      "\n",
      "Epoch: 051, Loss: 9913.4863, Val: 0.5838, Test: 0.5866\n",
      "[0 0 1 ... 0 0 0]\n",
      "[1 1 1 ... 1 1 0]\n",
      "[0 0 0 ... 0 1 1]\n",
      "[1 0 1 ... 1 0 0]\n"
     ]
    },
    {
     "name": "stderr",
     "output_type": "stream",
     "text": [
      "\n",
      "\n",
      "  0%|          | 0/4 [00:00<?, ?it/s]\u001b[A\u001b[A\n",
      "\n",
      " 25%|██▌       | 1/4 [00:00<00:00,  9.60it/s]\u001b[A\u001b[A\n",
      "\n",
      " 50%|█████     | 2/4 [00:00<00:00,  9.63it/s]\u001b[A\u001b[A"
     ]
    },
    {
     "name": "stdout",
     "output_type": "stream",
     "text": [
      "tensor([[0.3935],\n",
      "        [0.4443],\n",
      "        [0.3043],\n",
      "        ...,\n",
      "        [0.1438],\n",
      "        [0.2631],\n",
      "        [0.2580]], grad_fn=<AddBackward0>)\n",
      "tensor([[ 0.5075],\n",
      "        [ 0.3570],\n",
      "        [ 0.5044],\n",
      "        ...,\n",
      "        [-0.2147],\n",
      "        [-0.1607],\n",
      "        [-0.3272]], grad_fn=<AddBackward0>)\n",
      "tensor([[-0.1013],\n",
      "        [ 0.0231],\n",
      "        [-0.0092],\n",
      "        ...,\n",
      "        [-0.5318],\n",
      "        [-1.9903],\n",
      "        [-0.2307]], grad_fn=<AddBackward0>)\n"
     ]
    },
    {
     "name": "stderr",
     "output_type": "stream",
     "text": [
      "\n",
      "\n",
      "100%|██████████| 4/4 [00:00<00:00, 10.60it/s]\u001b[A\u001b[A\n"
     ]
    },
    {
     "name": "stdout",
     "output_type": "stream",
     "text": [
      "tensor([[2.6358],\n",
      "        [2.9215],\n",
      "        [2.5670],\n",
      "        ...,\n",
      "        [1.4271],\n",
      "        [1.0500],\n",
      "        [1.7488]], grad_fn=<AddBackward0>)\n",
      "[0 0 0 ... 0 1 1]\n",
      "[1 0 1 ... 1 0 0]\n",
      "[0 0 1 ... 0 0 0]\n",
      "[1 1 1 ... 1 1 0]\n"
     ]
    },
    {
     "name": "stderr",
     "output_type": "stream",
     "text": [
      "\n",
      "  1%|          | 52/10000 [00:35<1:44:39,  1.58it/s]\u001b[A"
     ]
    },
    {
     "name": "stdout",
     "output_type": "stream",
     "text": [
      "\n",
      "Epoch: 052, Loss: 9990.3213, Val: 0.5853, Test: 0.5884\n",
      "[0 0 1 ... 0 0 0]\n",
      "[1 1 1 ... 1 1 0]\n",
      "[0 0 0 ... 0 1 1]\n",
      "[1 0 1 ... 1 0 0]\n"
     ]
    },
    {
     "name": "stderr",
     "output_type": "stream",
     "text": [
      "\n",
      "\n",
      "  0%|          | 0/4 [00:00<?, ?it/s]\u001b[A\u001b[A\n",
      "\n",
      " 25%|██▌       | 1/4 [00:00<00:00,  7.68it/s]\u001b[A\u001b[A"
     ]
    },
    {
     "name": "stdout",
     "output_type": "stream",
     "text": [
      "tensor([[-0.3355],\n",
      "        [-0.2920],\n",
      "        [-0.2241],\n",
      "        ...,\n",
      "        [-0.9566],\n",
      "        [-0.8551],\n",
      "        [-0.9510]], grad_fn=<AddBackward0>)\n"
     ]
    },
    {
     "name": "stderr",
     "output_type": "stream",
     "text": [
      "\n",
      "\n",
      " 50%|█████     | 2/4 [00:00<00:00,  7.55it/s]\u001b[A\u001b[A"
     ]
    },
    {
     "name": "stdout",
     "output_type": "stream",
     "text": [
      "tensor([[ 0.9351],\n",
      "        [ 0.9472],\n",
      "        [ 0.9115],\n",
      "        ...,\n",
      "        [-0.0795],\n",
      "        [-0.2096],\n",
      "        [ 0.0153]], grad_fn=<AddBackward0>)\n"
     ]
    },
    {
     "name": "stderr",
     "output_type": "stream",
     "text": [
      "\n",
      "\n",
      "100%|██████████| 4/4 [00:00<00:00,  9.11it/s]\u001b[A\u001b[A"
     ]
    },
    {
     "name": "stdout",
     "output_type": "stream",
     "text": [
      "tensor([[0.6519],\n",
      "        [0.7234],\n",
      "        [0.6873],\n",
      "        ...,\n",
      "        [1.0065],\n",
      "        [1.2640],\n",
      "        [0.9289]], grad_fn=<AddBackward0>)\n",
      "tensor([[ 0.0739],\n",
      "        [ 0.0446],\n",
      "        [ 0.0926],\n",
      "        ...,\n",
      "        [ 0.4800],\n",
      "        [-0.0468],\n",
      "        [ 0.6031]], grad_fn=<AddBackward0>)\n",
      "[0 0 0 ... 0 1 1]\n",
      "[1 0 1 ... 1 0 0]\n"
     ]
    },
    {
     "name": "stderr",
     "output_type": "stream",
     "text": [
      "\n"
     ]
    },
    {
     "name": "stdout",
     "output_type": "stream",
     "text": [
      "[0 0 1 ... 0 0 0]\n",
      "[1 1 1 ... 1 1 0]\n",
      "\n",
      "Epoch: 053, Loss: 9841.7568, Val: 0.5871, Test: 0.5908\n",
      "[0 0 1 ... 0 0 0]\n",
      "[1 1 1 ... 1 1 0]\n",
      "[0 0 0 ... 0 1 1]\n",
      "[1 0 1 ... 1 0 0]\n"
     ]
    },
    {
     "name": "stderr",
     "output_type": "stream",
     "text": [
      "\n",
      "  1%|          | 53/10000 [00:36<1:49:53,  1.51it/s]\u001b[A\n",
      "\n",
      "  0%|          | 0/4 [00:00<?, ?it/s]\u001b[A\u001b[A\n",
      "\n",
      " 25%|██▌       | 1/4 [00:00<00:00,  7.18it/s]\u001b[A\u001b[A\n",
      "\n",
      " 50%|█████     | 2/4 [00:00<00:00,  7.01it/s]\u001b[A\u001b[A"
     ]
    },
    {
     "name": "stdout",
     "output_type": "stream",
     "text": [
      "tensor([[ 0.2142],\n",
      "        [ 1.0472],\n",
      "        [ 0.0741],\n",
      "        ...,\n",
      "        [-0.2473],\n",
      "        [ 0.4470],\n",
      "        [-0.0180]], grad_fn=<AddBackward0>)\n",
      "tensor([[-0.9951],\n",
      "        [-0.9778],\n",
      "        [-0.6816],\n",
      "        ...,\n",
      "        [ 1.1196],\n",
      "        [ 1.0870],\n",
      "        [ 0.9905]], grad_fn=<AddBackward0>)\n"
     ]
    },
    {
     "name": "stderr",
     "output_type": "stream",
     "text": [
      "\n",
      "\n",
      "100%|██████████| 4/4 [00:00<00:00,  8.69it/s]\u001b[A\u001b[A\n"
     ]
    },
    {
     "name": "stdout",
     "output_type": "stream",
     "text": [
      "tensor([[0.3923],\n",
      "        [0.3208],\n",
      "        [0.3014],\n",
      "        ...,\n",
      "        [0.8794],\n",
      "        [1.0236],\n",
      "        [0.9796]], grad_fn=<AddBackward0>)\n",
      "tensor([[ 0.0987],\n",
      "        [ 0.0655],\n",
      "        [ 0.0813],\n",
      "        ...,\n",
      "        [-0.6178],\n",
      "        [-0.6668],\n",
      "        [-0.7476]], grad_fn=<AddBackward0>)\n",
      "[0 0 0 ... 0 1 1]\n",
      "[1 0 1 ... 1 0 0]\n",
      "[0 0 1 ... 0 0 0]\n",
      "[1 1 1 ... 1 1 0]\n",
      "\n",
      "Epoch: 054, Loss: 9330.7344, Val: 0.5882, Test: 0.5924\n",
      "[0 0 1 ... 0 0 0]\n",
      "[1 1 1 ... 1 1 0]\n",
      "[0 0 0 ... 0 1 1]\n",
      "[1 0 1 ... 1 0 0]\n"
     ]
    },
    {
     "name": "stderr",
     "output_type": "stream",
     "text": [
      "\n",
      "  1%|          | 54/10000 [00:36<1:46:55,  1.55it/s]\u001b[A\n",
      "\n",
      "  0%|          | 0/4 [00:00<?, ?it/s]\u001b[A\u001b[A\n",
      "\n",
      " 25%|██▌       | 1/4 [00:00<00:00,  9.42it/s]\u001b[A\u001b[A"
     ]
    },
    {
     "name": "stdout",
     "output_type": "stream",
     "text": [
      "tensor([[ 0.3151],\n",
      "        [ 0.2474],\n",
      "        [ 0.2026],\n",
      "        ...,\n",
      "        [ 0.1341],\n",
      "        [-0.1004],\n",
      "        [-0.0571]], grad_fn=<AddBackward0>)\n",
      "tensor([[-0.5246],\n",
      "        [-0.6398],\n",
      "        [-0.5702],\n",
      "        ...,\n",
      "        [-0.1768],\n",
      "        [-0.6692],\n",
      "        [-0.3932]], grad_fn=<AddBackward0>)\n"
     ]
    },
    {
     "name": "stderr",
     "output_type": "stream",
     "text": [
      "\n",
      "\n",
      "100%|██████████| 4/4 [00:00<00:00, 10.56it/s]\u001b[A\u001b[A"
     ]
    },
    {
     "name": "stdout",
     "output_type": "stream",
     "text": [
      "tensor([[-0.5478],\n",
      "        [-0.5212],\n",
      "        [ 0.0250],\n",
      "        ...,\n",
      "        [ 0.0683],\n",
      "        [ 0.0889],\n",
      "        [ 0.0930]], grad_fn=<AddBackward0>)\n",
      "tensor([[-1.3213],\n",
      "        [-1.3119],\n",
      "        [-1.3326],\n",
      "        ...,\n",
      "        [ 0.0395],\n",
      "        [ 0.6047],\n",
      "        [ 0.1459]], grad_fn=<AddBackward0>)\n",
      "[0 0 0 ... 0 1 1]\n",
      "[1 0 1 ... 1 0 0]\n",
      "[0 0 1 ... 0 0 0]\n",
      "[1 1 1 ... 1 1 0]\n"
     ]
    },
    {
     "name": "stderr",
     "output_type": "stream",
     "text": [
      "\n",
      "\n",
      "  1%|          | 55/10000 [00:37<1:47:46,  1.54it/s]\u001b[A"
     ]
    },
    {
     "name": "stdout",
     "output_type": "stream",
     "text": [
      "\n",
      "Epoch: 055, Loss: 9350.2871, Val: 0.5890, Test: 0.5940\n",
      "[0 0 1 ... 0 0 0]\n",
      "[1 1 1 ... 1 1 0]\n",
      "[0 0 0 ... 0 1 1]\n",
      "[1 0 1 ... 1 0 0]\n"
     ]
    },
    {
     "name": "stderr",
     "output_type": "stream",
     "text": [
      "\n",
      "\n",
      "  0%|          | 0/4 [00:00<?, ?it/s]\u001b[A\u001b[A"
     ]
    },
    {
     "name": "stdout",
     "output_type": "stream",
     "text": [
      "tensor([[ 2.1241],\n",
      "        [ 1.7970],\n",
      "        [ 2.0520],\n",
      "        ...,\n",
      "        [-0.5082],\n",
      "        [-0.6285],\n",
      "        [-0.2119]], grad_fn=<AddBackward0>)\n"
     ]
    },
    {
     "name": "stderr",
     "output_type": "stream",
     "text": [
      "\n",
      "\n",
      " 50%|█████     | 2/4 [00:00<00:00, 11.38it/s]\u001b[A\u001b[A"
     ]
    },
    {
     "name": "stdout",
     "output_type": "stream",
     "text": [
      "tensor([[ 0.3088],\n",
      "        [ 0.3133],\n",
      "        [ 0.2577],\n",
      "        ...,\n",
      "        [-0.1885],\n",
      "        [-0.2486],\n",
      "        [-1.0231]], grad_fn=<AddBackward0>)\n",
      "tensor([[ 0.8623],\n",
      "        [-1.4742],\n",
      "        [-2.2636],\n",
      "        ...,\n",
      "        [-0.1668],\n",
      "        [ 0.1069],\n",
      "        [ 0.2237]], grad_fn=<AddBackward0>)\n"
     ]
    },
    {
     "name": "stderr",
     "output_type": "stream",
     "text": [
      "\n",
      "\n",
      "100%|██████████| 4/4 [00:00<00:00, 11.48it/s]\u001b[A\u001b[A"
     ]
    },
    {
     "name": "stdout",
     "output_type": "stream",
     "text": [
      "tensor([[ 0.2627],\n",
      "        [ 0.2214],\n",
      "        [ 0.2342],\n",
      "        ...,\n",
      "        [-0.6021],\n",
      "        [-0.9309],\n",
      "        [-0.8168]], grad_fn=<AddBackward0>)\n",
      "[0 0 0 ... 0 1 1]\n",
      "[1 0 1 ... 1 0 0]\n"
     ]
    },
    {
     "name": "stderr",
     "output_type": "stream",
     "text": [
      "\n"
     ]
    },
    {
     "name": "stdout",
     "output_type": "stream",
     "text": [
      "[0 0 1 ... 0 0 0]\n",
      "[1 1 1 ... 1 1 0]\n",
      "\n",
      "Epoch: 056, Loss: 9101.9941, Val: 0.5899, Test: 0.5950\n",
      "[0 0 1 ... 0 0 0]\n",
      "[1 1 1 ... 1 1 0]\n",
      "[0 0 0 ... 0 1 1]\n",
      "[1 0 1 ... 1 0 0]\n"
     ]
    },
    {
     "name": "stderr",
     "output_type": "stream",
     "text": [
      "\n",
      "  1%|          | 56/10000 [00:37<1:48:12,  1.53it/s]\u001b[A\n",
      "\n",
      "  0%|          | 0/4 [00:00<?, ?it/s]\u001b[A\u001b[A\n",
      "\n",
      " 25%|██▌       | 1/4 [00:00<00:00,  9.25it/s]\u001b[A\u001b[A\n",
      "\n",
      " 50%|█████     | 2/4 [00:00<00:00,  9.48it/s]\u001b[A\u001b[A"
     ]
    },
    {
     "name": "stdout",
     "output_type": "stream",
     "text": [
      "tensor([[ 1.0776],\n",
      "        [ 0.2705],\n",
      "        [ 2.3075],\n",
      "        ...,\n",
      "        [-0.2532],\n",
      "        [-0.2742],\n",
      "        [-0.3688]], grad_fn=<AddBackward0>)\n",
      "tensor([[-0.2090],\n",
      "        [-0.2626],\n",
      "        [-0.1916],\n",
      "        ...,\n",
      "        [-0.3524],\n",
      "        [ 0.5978],\n",
      "        [-0.6424]], grad_fn=<AddBackward0>)\n"
     ]
    },
    {
     "name": "stderr",
     "output_type": "stream",
     "text": [
      "\n",
      "\n",
      "100%|██████████| 4/4 [00:00<00:00, 10.20it/s]\u001b[A\u001b[A\n"
     ]
    },
    {
     "name": "stdout",
     "output_type": "stream",
     "text": [
      "tensor([[-0.1923],\n",
      "        [-0.2203],\n",
      "        [-0.2152],\n",
      "        ...,\n",
      "        [ 0.6979],\n",
      "        [ 1.1575],\n",
      "        [ 0.8119]], grad_fn=<AddBackward0>)\n",
      "tensor([[-0.7812],\n",
      "        [-0.6446],\n",
      "        [-0.3703],\n",
      "        ...,\n",
      "        [ 1.5609],\n",
      "        [ 1.6503],\n",
      "        [ 1.6267]], grad_fn=<AddBackward0>)\n",
      "[0 0 0 ... 0 1 1]\n",
      "[1 0 1 ... 1 0 0]\n",
      "[0 0 1 ... 0 0 0]\n",
      "[1 1 1 ... 1 1 0]\n",
      "\n",
      "Epoch: 057, Loss: 8887.1680, Val: 0.5918, Test: 0.5973\n",
      "[0 0 1 ... 0 0 0]\n",
      "[1 1 1 ... 1 1 0]\n",
      "[0 0 0 ... 0 1 1]\n",
      "[1 0 1 ... 1 0 0]\n"
     ]
    },
    {
     "name": "stderr",
     "output_type": "stream",
     "text": [
      "\n",
      "  1%|          | 57/10000 [00:38<1:41:54,  1.63it/s]\u001b[A\n",
      "\n",
      "  0%|          | 0/4 [00:00<?, ?it/s]\u001b[A\u001b[A\n",
      "\n",
      " 50%|█████     | 2/4 [00:00<00:00,  9.54it/s]\u001b[A\u001b[A"
     ]
    },
    {
     "name": "stdout",
     "output_type": "stream",
     "text": [
      "tensor([[ 2.0137],\n",
      "        [ 2.3578],\n",
      "        [ 2.4343],\n",
      "        ...,\n",
      "        [-0.3076],\n",
      "        [-0.5849],\n",
      "        [-0.4621]], grad_fn=<AddBackward0>)\n",
      "tensor([[-0.2086],\n",
      "        [-0.2139],\n",
      "        [-0.2428],\n",
      "        ...,\n",
      "        [ 0.5270],\n",
      "        [ 0.5764],\n",
      "        [ 0.5151]], grad_fn=<AddBackward0>)\n"
     ]
    },
    {
     "name": "stderr",
     "output_type": "stream",
     "text": [
      "\n",
      "\n",
      "100%|██████████| 4/4 [00:00<00:00, 10.27it/s]\u001b[A\u001b[A\n"
     ]
    },
    {
     "name": "stdout",
     "output_type": "stream",
     "text": [
      "tensor([[-0.4394],\n",
      "        [-0.2824],\n",
      "        [-0.3139],\n",
      "        ...,\n",
      "        [ 0.3934],\n",
      "        [-0.1560],\n",
      "        [ 0.1533]], grad_fn=<AddBackward0>)\n",
      "tensor([[-0.5184],\n",
      "        [-0.4838],\n",
      "        [-0.6028],\n",
      "        ...,\n",
      "        [-0.2926],\n",
      "        [-0.2032],\n",
      "        [-0.2127]], grad_fn=<AddBackward0>)\n",
      "[0 0 0 ... 0 1 1]\n",
      "[1 0 1 ... 1 0 0]\n",
      "[0 0 1 ... 0 0 0]\n",
      "[1 1 1 ... 1 1 0]\n"
     ]
    },
    {
     "name": "stderr",
     "output_type": "stream",
     "text": [
      "\n",
      "  1%|          | 58/10000 [00:39<1:44:48,  1.58it/s]\u001b[A"
     ]
    },
    {
     "name": "stdout",
     "output_type": "stream",
     "text": [
      "\n",
      "Epoch: 058, Loss: 8584.8750, Val: 0.5934, Test: 0.5974\n",
      "[0 0 1 ... 0 0 0]\n",
      "[1 1 1 ... 1 1 0]\n",
      "[0 0 0 ... 0 1 1]\n",
      "[1 0 1 ... 1 0 0]\n"
     ]
    },
    {
     "name": "stderr",
     "output_type": "stream",
     "text": [
      "\n",
      "\n",
      "  0%|          | 0/4 [00:00<?, ?it/s]\u001b[A\u001b[A\n",
      "\n",
      " 25%|██▌       | 1/4 [00:00<00:00,  9.89it/s]\u001b[A\u001b[A"
     ]
    },
    {
     "name": "stdout",
     "output_type": "stream",
     "text": [
      "tensor([[-0.0238],\n",
      "        [ 0.0592],\n",
      "        [ 0.0940],\n",
      "        ...,\n",
      "        [-0.2628],\n",
      "        [-0.1989],\n",
      "        [-0.2218]], grad_fn=<AddBackward0>)\n"
     ]
    },
    {
     "name": "stderr",
     "output_type": "stream",
     "text": [
      "\n",
      "\n",
      " 50%|█████     | 2/4 [00:00<00:00,  9.54it/s]\u001b[A\u001b[A"
     ]
    },
    {
     "name": "stdout",
     "output_type": "stream",
     "text": [
      "tensor([[ 0.6638],\n",
      "        [ 0.4885],\n",
      "        [ 0.5082],\n",
      "        ...,\n",
      "        [-0.8080],\n",
      "        [-0.8141],\n",
      "        [-0.8393]], grad_fn=<AddBackward0>)\n"
     ]
    },
    {
     "name": "stderr",
     "output_type": "stream",
     "text": [
      "\n",
      "\n",
      "100%|██████████| 4/4 [00:00<00:00, 10.63it/s]\u001b[A\u001b[A"
     ]
    },
    {
     "name": "stdout",
     "output_type": "stream",
     "text": [
      "tensor([[-0.6626],\n",
      "        [-0.0633],\n",
      "        [-0.0284],\n",
      "        ...,\n",
      "        [ 1.2641],\n",
      "        [ 1.3302],\n",
      "        [ 1.2192]], grad_fn=<AddBackward0>)\n",
      "tensor([[-1.3522],\n",
      "        [-1.0805],\n",
      "        [-1.2032],\n",
      "        ...,\n",
      "        [-0.7934],\n",
      "        [-0.7273],\n",
      "        [-0.7950]], grad_fn=<AddBackward0>)\n",
      "[0 0 0 ... 0 1 1]\n",
      "[1 0 1 ... 1 0 0]\n"
     ]
    },
    {
     "name": "stderr",
     "output_type": "stream",
     "text": [
      "\n"
     ]
    },
    {
     "name": "stdout",
     "output_type": "stream",
     "text": [
      "[0 0 1 ... 0 0 0]\n",
      "[1 1 1 ... 1 1 0]\n",
      "\n",
      "Epoch: 059, Loss: 8336.2832, Val: 0.5951, Test: 0.5981\n",
      "[0 0 1 ... 0 0 0]\n",
      "[1 1 1 ... 1 1 0]\n"
     ]
    },
    {
     "name": "stderr",
     "output_type": "stream",
     "text": [
      "\n",
      "  1%|          | 59/10000 [00:39<1:46:47,  1.55it/s]\u001b[A"
     ]
    },
    {
     "name": "stdout",
     "output_type": "stream",
     "text": [
      "[0 0 0 ... 0 1 1]\n",
      "[1 0 1 ... 1 0 0]\n"
     ]
    },
    {
     "name": "stderr",
     "output_type": "stream",
     "text": [
      "\n",
      "\n",
      "  0%|          | 0/4 [00:00<?, ?it/s]\u001b[A\u001b[A"
     ]
    },
    {
     "name": "stdout",
     "output_type": "stream",
     "text": [
      "tensor([[ 0.1823],\n",
      "        [ 0.2296],\n",
      "        [ 0.2647],\n",
      "        ...,\n",
      "        [-1.0324],\n",
      "        [-1.0174],\n",
      "        [-0.9613]], grad_fn=<AddBackward0>)\n"
     ]
    },
    {
     "name": "stderr",
     "output_type": "stream",
     "text": [
      "\n",
      "\n",
      " 50%|█████     | 2/4 [00:00<00:00, 10.17it/s]\u001b[A\u001b[A"
     ]
    },
    {
     "name": "stdout",
     "output_type": "stream",
     "text": [
      "tensor([[0.2896],\n",
      "        [0.2211],\n",
      "        [0.0434],\n",
      "        ...,\n",
      "        [0.7794],\n",
      "        [0.8947],\n",
      "        [0.6235]], grad_fn=<AddBackward0>)\n"
     ]
    },
    {
     "name": "stderr",
     "output_type": "stream",
     "text": [
      "\n",
      "\n",
      "100%|██████████| 4/4 [00:00<00:00, 10.76it/s]\u001b[A\u001b[A"
     ]
    },
    {
     "name": "stdout",
     "output_type": "stream",
     "text": [
      "tensor([[ 1.7464],\n",
      "        [ 2.0237],\n",
      "        [ 2.6289],\n",
      "        ...,\n",
      "        [-2.1969],\n",
      "        [-2.0752],\n",
      "        [-2.3808]], grad_fn=<AddBackward0>)\n",
      "tensor([[-1.1143],\n",
      "        [-1.2067],\n",
      "        [-1.2375],\n",
      "        ...,\n",
      "        [-0.7936],\n",
      "        [-0.9001],\n",
      "        [-0.7980]], grad_fn=<AddBackward0>)\n",
      "[0 0 0 ... 0 1 1]\n",
      "[1 0 1 ... 1 0 0]\n"
     ]
    },
    {
     "name": "stderr",
     "output_type": "stream",
     "text": [
      "\n"
     ]
    },
    {
     "name": "stdout",
     "output_type": "stream",
     "text": [
      "[0 0 1 ... 0 0 0]\n",
      "[1 1 1 ... 1 1 0]\n",
      "\n",
      "Epoch: 060, Loss: 8337.7529, Val: 0.5969, Test: 0.5994\n",
      "[0 0 1 ... 0 0 0]\n",
      "[1 1 1 ... 1 1 0]\n",
      "[0 0 0 ... 0 1 1]\n",
      "[1 0 1 ... 1 0 0]\n"
     ]
    },
    {
     "name": "stderr",
     "output_type": "stream",
     "text": [
      "\n",
      "  1%|          | 60/10000 [00:40<1:40:09,  1.65it/s]\u001b[A\n",
      "\n",
      "  0%|          | 0/4 [00:00<?, ?it/s]\u001b[A\u001b[A\n",
      "\n"
     ]
    },
    {
     "name": "stdout",
     "output_type": "stream",
     "text": [
      "tensor([[-0.6059],\n",
      "        [-0.9359],\n",
      "        [-1.0133],\n",
      "        ...,\n",
      "        [ 0.1293],\n",
      "        [-0.0175],\n",
      "        [ 0.0120]], grad_fn=<AddBackward0>)\n"
     ]
    },
    {
     "name": "stderr",
     "output_type": "stream",
     "text": [
      " 25%|██▌       | 1/4 [00:00<00:00,  9.82it/s]\u001b[A\u001b[A\n",
      "\n",
      " 50%|█████     | 2/4 [00:00<00:00,  9.31it/s]\u001b[A\u001b[A"
     ]
    },
    {
     "name": "stdout",
     "output_type": "stream",
     "text": [
      "tensor([[ 0.3800],\n",
      "        [ 0.6560],\n",
      "        [ 0.0831],\n",
      "        ...,\n",
      "        [-0.3151],\n",
      "        [-0.3055],\n",
      "        [-0.1168]], grad_fn=<AddBackward0>)\n"
     ]
    },
    {
     "name": "stderr",
     "output_type": "stream",
     "text": [
      "\n",
      "\n",
      "100%|██████████| 4/4 [00:00<00:00, 10.20it/s]\u001b[A\u001b[A"
     ]
    },
    {
     "name": "stdout",
     "output_type": "stream",
     "text": [
      "tensor([[1.2599],\n",
      "        [1.3324],\n",
      "        [1.2752],\n",
      "        ...,\n",
      "        [0.4924],\n",
      "        [0.4888],\n",
      "        [0.4969]], grad_fn=<AddBackward0>)\n",
      "tensor([[1.5136],\n",
      "        [1.5111],\n",
      "        [1.8277],\n",
      "        ...,\n",
      "        [0.3682],\n",
      "        [0.3583],\n",
      "        [0.3265]], grad_fn=<AddBackward0>)\n",
      "[0 0 0 ... 0 1 1]\n",
      "[1 0 1 ... 1 0 0]\n"
     ]
    },
    {
     "name": "stderr",
     "output_type": "stream",
     "text": [
      "\n",
      "\n",
      "  1%|          | 61/10000 [00:41<1:43:38,  1.60it/s]\u001b[A"
     ]
    },
    {
     "name": "stdout",
     "output_type": "stream",
     "text": [
      "[0 0 1 ... 0 0 0]\n",
      "[1 1 1 ... 1 1 0]\n",
      "\n",
      "Epoch: 061, Loss: 8142.0498, Val: 0.5989, Test: 0.6002\n",
      "[0 0 1 ... 0 0 0]\n",
      "[1 1 1 ... 1 1 0]\n",
      "[0 0 0 ... 0 1 1]\n",
      "[1 0 1 ... 1 0 0]\n"
     ]
    },
    {
     "name": "stderr",
     "output_type": "stream",
     "text": [
      "\n",
      "\n",
      "  0%|          | 0/4 [00:00<?, ?it/s]\u001b[A\u001b[A"
     ]
    },
    {
     "name": "stdout",
     "output_type": "stream",
     "text": [
      "tensor([[ 1.1307],\n",
      "        [ 1.8235],\n",
      "        [ 1.5785],\n",
      "        ...,\n",
      "        [-1.0118],\n",
      "        [-1.1565],\n",
      "        [-1.0958]], grad_fn=<AddBackward0>)\n"
     ]
    },
    {
     "name": "stderr",
     "output_type": "stream",
     "text": [
      "\n",
      "\n",
      " 25%|██▌       | 1/4 [00:00<00:00,  8.77it/s]\u001b[A\u001b[A\n",
      "\n",
      " 50%|█████     | 2/4 [00:00<00:00,  9.14it/s]\u001b[A\u001b[A"
     ]
    },
    {
     "name": "stdout",
     "output_type": "stream",
     "text": [
      "tensor([[-1.4350],\n",
      "        [-1.5785],\n",
      "        [-1.8588],\n",
      "        ...,\n",
      "        [ 0.1178],\n",
      "        [ 0.1108],\n",
      "        [ 0.5284]], grad_fn=<AddBackward0>)\n"
     ]
    },
    {
     "name": "stderr",
     "output_type": "stream",
     "text": [
      "\n",
      "\n",
      " 75%|███████▌  | 3/4 [00:00<00:00,  9.13it/s]\u001b[A\u001b[A"
     ]
    },
    {
     "name": "stdout",
     "output_type": "stream",
     "text": [
      "tensor([[ 0.2995],\n",
      "        [ 0.2312],\n",
      "        [ 0.2825],\n",
      "        ...,\n",
      "        [-0.2187],\n",
      "        [-0.0905],\n",
      "        [-0.2200]], grad_fn=<AddBackward0>)\n"
     ]
    },
    {
     "name": "stderr",
     "output_type": "stream",
     "text": [
      "\r",
      "100%|██████████| 4/4 [00:00<00:00,  9.46it/s]"
     ]
    },
    {
     "name": "stdout",
     "output_type": "stream",
     "text": [
      "tensor([[ 0.9468],\n",
      "        [ 0.8571],\n",
      "        [ 1.1531],\n",
      "        ...,\n",
      "        [-0.8147],\n",
      "        [-0.7637],\n",
      "        [-0.8274]], grad_fn=<AddBackward0>)\n",
      "[0 0 0 ... 0 1 1]\n",
      "[1 0 1 ... 1 0 0]\n",
      "[0 0 1 ... 0 0 0]\n",
      "[1 1 1 ... 1 1 0]\n",
      "\n",
      "Epoch: 062, Loss: 7969.4536, Val: 0.6002, Test: 0.6014\n",
      "[0 0 1 ... 0 0 0]\n",
      "[1 1 1 ... 1 1 0]\n"
     ]
    },
    {
     "name": "stderr",
     "output_type": "stream",
     "text": [
      "\n",
      "\n",
      "  1%|          | 62/10000 [00:41<1:47:34,  1.54it/s]\u001b[A"
     ]
    },
    {
     "name": "stdout",
     "output_type": "stream",
     "text": [
      "[0 0 0 ... 0 1 1]\n",
      "[1 0 1 ... 1 0 0]\n"
     ]
    },
    {
     "name": "stderr",
     "output_type": "stream",
     "text": [
      "\n",
      "\n",
      "  0%|          | 0/4 [00:00<?, ?it/s]\u001b[A\u001b[A\n",
      "\n",
      " 25%|██▌       | 1/4 [00:00<00:00,  8.44it/s]\u001b[A\u001b[A"
     ]
    },
    {
     "name": "stdout",
     "output_type": "stream",
     "text": [
      "tensor([[-0.5979],\n",
      "        [-0.2791],\n",
      "        [-0.6380],\n",
      "        ...,\n",
      "        [ 0.3531],\n",
      "        [ 0.4312],\n",
      "        [ 0.3677]], grad_fn=<AddBackward0>)\n"
     ]
    },
    {
     "name": "stderr",
     "output_type": "stream",
     "text": [
      "\n",
      "\n",
      " 50%|█████     | 2/4 [00:00<00:00,  8.35it/s]\u001b[A\u001b[A"
     ]
    },
    {
     "name": "stdout",
     "output_type": "stream",
     "text": [
      "tensor([[-0.1496],\n",
      "        [-0.1332],\n",
      "        [-0.2141],\n",
      "        ...,\n",
      "        [-1.0102],\n",
      "        [-1.0245],\n",
      "        [-1.1082]], grad_fn=<AddBackward0>)\n"
     ]
    },
    {
     "name": "stderr",
     "output_type": "stream",
     "text": [
      "\n",
      "\n",
      "100%|██████████| 4/4 [00:00<00:00,  9.75it/s]\u001b[A\u001b[A"
     ]
    },
    {
     "name": "stdout",
     "output_type": "stream",
     "text": [
      "tensor([[-1.3026],\n",
      "        [-1.4212],\n",
      "        [-1.3564],\n",
      "        ...,\n",
      "        [-0.2758],\n",
      "        [-0.3411],\n",
      "        [-0.3084]], grad_fn=<AddBackward0>)\n",
      "tensor([[-1.2969],\n",
      "        [-1.3252],\n",
      "        [-1.3233],\n",
      "        ...,\n",
      "        [-0.2963],\n",
      "        [-0.3630],\n",
      "        [-0.4196]], grad_fn=<AddBackward0>)\n",
      "[0 0 0 ... 0 1 1]\n",
      "[1 0 1 ... 1 0 0]\n"
     ]
    },
    {
     "name": "stderr",
     "output_type": "stream",
     "text": [
      "\n"
     ]
    },
    {
     "name": "stdout",
     "output_type": "stream",
     "text": [
      "[0 0 1 ... 0 0 0]\n",
      "[1 1 1 ... 1 1 0]\n",
      "\n",
      "Epoch: 063, Loss: 7846.2793, Val: 0.6018, Test: 0.6022\n",
      "[0 0 1 ... 0 0 0]\n",
      "[1 1 1 ... 1 1 0]\n",
      "[0 0 0 ... 0 1 1]\n",
      "[1 0 1 ... 1 0 0]\n"
     ]
    },
    {
     "name": "stderr",
     "output_type": "stream",
     "text": [
      "\n",
      "  1%|          | 63/10000 [00:42<1:44:44,  1.58it/s]\u001b[A\n",
      "\n",
      "  0%|          | 0/4 [00:00<?, ?it/s]\u001b[A\u001b[A\n",
      "\n",
      " 50%|█████     | 2/4 [00:00<00:00, 10.34it/s]\u001b[A\u001b[A"
     ]
    },
    {
     "name": "stdout",
     "output_type": "stream",
     "text": [
      "tensor([[2.3879],\n",
      "        [0.7960],\n",
      "        [2.2236],\n",
      "        ...,\n",
      "        [0.6441],\n",
      "        [0.6749],\n",
      "        [0.6507]], grad_fn=<AddBackward0>)\n",
      "tensor([[ 0.9289],\n",
      "        [ 1.0231],\n",
      "        [ 1.0179],\n",
      "        ...,\n",
      "        [-0.3489],\n",
      "        [-0.1552],\n",
      "        [-0.3523]], grad_fn=<AddBackward0>)\n"
     ]
    },
    {
     "name": "stderr",
     "output_type": "stream",
     "text": [
      "\n",
      "\n",
      "100%|██████████| 4/4 [00:00<00:00, 10.55it/s]\u001b[A\u001b[A\n"
     ]
    },
    {
     "name": "stdout",
     "output_type": "stream",
     "text": [
      "tensor([[-0.2229],\n",
      "        [-0.2639],\n",
      "        [-0.3123],\n",
      "        ...,\n",
      "        [ 0.1968],\n",
      "        [ 0.7060],\n",
      "        [ 0.2721]], grad_fn=<AddBackward0>)\n",
      "tensor([[-0.2849],\n",
      "        [-0.0768],\n",
      "        [-0.3565],\n",
      "        ...,\n",
      "        [-0.3195],\n",
      "        [-0.2425],\n",
      "        [-0.3270]], grad_fn=<AddBackward0>)\n",
      "[0 0 0 ... 0 1 1]\n",
      "[1 0 1 ... 1 0 0]\n"
     ]
    },
    {
     "name": "stderr",
     "output_type": "stream",
     "text": [
      "\n",
      "  1%|          | 64/10000 [00:42<1:45:56,  1.56it/s]\u001b[A"
     ]
    },
    {
     "name": "stdout",
     "output_type": "stream",
     "text": [
      "[0 0 1 ... 0 0 0]\n",
      "[1 1 1 ... 1 1 0]\n",
      "\n",
      "Epoch: 064, Loss: 7884.7725, Val: 0.6031, Test: 0.6037\n",
      "[0 0 1 ... 0 0 0]\n",
      "[1 1 1 ... 1 1 0]\n",
      "[0 0 0 ... 0 1 1]\n",
      "[1 0 1 ... 1 0 0]\n"
     ]
    },
    {
     "name": "stderr",
     "output_type": "stream",
     "text": [
      "\n",
      "\n",
      "  0%|          | 0/4 [00:00<?, ?it/s]\u001b[A\u001b[A\n",
      "\n",
      " 25%|██▌       | 1/4 [00:00<00:00,  9.10it/s]\u001b[A\u001b[A"
     ]
    },
    {
     "name": "stdout",
     "output_type": "stream",
     "text": [
      "tensor([[ 0.2363],\n",
      "        [ 0.2203],\n",
      "        [ 0.2403],\n",
      "        ...,\n",
      "        [-0.0838],\n",
      "        [-0.1115],\n",
      "        [-0.1051]], grad_fn=<AddBackward0>)\n"
     ]
    },
    {
     "name": "stderr",
     "output_type": "stream",
     "text": [
      "\n",
      "\n",
      " 50%|█████     | 2/4 [00:00<00:00,  8.72it/s]\u001b[A\u001b[A"
     ]
    },
    {
     "name": "stdout",
     "output_type": "stream",
     "text": [
      "tensor([[ 0.2997],\n",
      "        [ 0.8566],\n",
      "        [ 0.3114],\n",
      "        ...,\n",
      "        [-0.4417],\n",
      "        [-0.6308],\n",
      "        [-0.9343]], grad_fn=<AddBackward0>)\n"
     ]
    },
    {
     "name": "stderr",
     "output_type": "stream",
     "text": [
      "\n",
      "\n",
      " 75%|███████▌  | 3/4 [00:00<00:00,  8.60it/s]\u001b[A\u001b[A"
     ]
    },
    {
     "name": "stdout",
     "output_type": "stream",
     "text": [
      "tensor([[ 0.1910],\n",
      "        [ 0.4156],\n",
      "        [-0.5813],\n",
      "        ...,\n",
      "        [ 0.8645],\n",
      "        [ 0.6740],\n",
      "        [ 0.8746]], grad_fn=<AddBackward0>)\n"
     ]
    },
    {
     "name": "stderr",
     "output_type": "stream",
     "text": [
      "\r",
      "100%|██████████| 4/4 [00:00<00:00,  9.17it/s]"
     ]
    },
    {
     "name": "stdout",
     "output_type": "stream",
     "text": [
      "tensor([[ 0.4492],\n",
      "        [ 0.4281],\n",
      "        [ 0.4339],\n",
      "        ...,\n",
      "        [-0.8363],\n",
      "        [-0.7958],\n",
      "        [-0.7835]], grad_fn=<AddBackward0>)\n",
      "[0 0 0 ... 0 1 1]\n",
      "[1 0 1 ... 1 0 0]\n",
      "[0 0 1 ... 0 0 0]\n",
      "[1 1 1 ... 1 1 0]\n"
     ]
    },
    {
     "name": "stderr",
     "output_type": "stream",
     "text": [
      "\n",
      "\n",
      "  1%|          | 65/10000 [00:43<1:49:49,  1.51it/s]\u001b[A"
     ]
    },
    {
     "name": "stdout",
     "output_type": "stream",
     "text": [
      "\n",
      "Epoch: 065, Loss: 7602.9800, Val: 0.6043, Test: 0.6051\n",
      "[0 0 1 ... 0 0 0]\n",
      "[1 1 1 ... 1 1 0]\n",
      "[0 0 0 ... 0 1 1]\n",
      "[1 0 1 ... 1 0 0]\n"
     ]
    },
    {
     "name": "stderr",
     "output_type": "stream",
     "text": [
      "\n",
      "\n",
      "  0%|          | 0/4 [00:00<?, ?it/s]\u001b[A\u001b[A\n",
      "\n",
      " 25%|██▌       | 1/4 [00:00<00:00,  5.92it/s]\u001b[A\u001b[A\n",
      "\n",
      " 50%|█████     | 2/4 [00:00<00:00,  7.35it/s]\u001b[A\u001b[A"
     ]
    },
    {
     "name": "stdout",
     "output_type": "stream",
     "text": [
      "tensor([[ 0.3135],\n",
      "        [ 0.3055],\n",
      "        [ 0.3045],\n",
      "        ...,\n",
      "        [-0.6273],\n",
      "        [ 0.3116],\n",
      "        [ 0.2283]], grad_fn=<AddBackward0>)\n",
      "tensor([[1.0006],\n",
      "        [0.9937],\n",
      "        [0.8668],\n",
      "        ...,\n",
      "        [0.7388],\n",
      "        [0.7390],\n",
      "        [0.8141]], grad_fn=<AddBackward0>)\n"
     ]
    },
    {
     "name": "stderr",
     "output_type": "stream",
     "text": [
      "\n",
      "\n",
      "100%|██████████| 4/4 [00:00<00:00,  8.72it/s]\u001b[A\u001b[A\n"
     ]
    },
    {
     "name": "stdout",
     "output_type": "stream",
     "text": [
      "tensor([[1.0787],\n",
      "        [1.0656],\n",
      "        [1.0995],\n",
      "        ...,\n",
      "        [0.8250],\n",
      "        [0.4004],\n",
      "        [0.8410]], grad_fn=<AddBackward0>)\n",
      "tensor([[1.1191],\n",
      "        [1.0404],\n",
      "        [1.0839],\n",
      "        ...,\n",
      "        [1.2971],\n",
      "        [0.6784],\n",
      "        [0.7232]], grad_fn=<AddBackward0>)\n",
      "[0 0 0 ... 0 1 1]\n",
      "[1 0 1 ... 1 0 0]\n",
      "[0 0 1 ... 0 0 0]\n",
      "[1 1 1 ... 1 1 0]\n",
      "\n",
      "Epoch: 066, Loss: 7528.5078, Val: 0.6047, Test: 0.6067\n",
      "[0 0 1 ... 0 0 0]\n",
      "[1 1 1 ... 1 1 0]\n",
      "[0 0 0 ... 0 1 1]\n",
      "[1 0 1 ... 1 0 0]\n"
     ]
    },
    {
     "name": "stderr",
     "output_type": "stream",
     "text": [
      "\n",
      "  1%|          | 66/10000 [00:44<1:53:59,  1.45it/s]\u001b[A\n",
      "\n",
      "  0%|          | 0/4 [00:00<?, ?it/s]\u001b[A\u001b[A\n",
      "\n",
      " 25%|██▌       | 1/4 [00:00<00:00,  9.20it/s]\u001b[A\u001b[A\n",
      "\n",
      " 50%|█████     | 2/4 [00:00<00:00,  8.94it/s]\u001b[A\u001b[A"
     ]
    },
    {
     "name": "stdout",
     "output_type": "stream",
     "text": [
      "tensor([[ 0.3077],\n",
      "        [ 0.3094],\n",
      "        [ 0.3131],\n",
      "        ...,\n",
      "        [-0.6820],\n",
      "        [-0.6386],\n",
      "        [-0.6879]], grad_fn=<AddBackward0>)\n",
      "tensor([[1.5471],\n",
      "        [1.6538],\n",
      "        [1.7574],\n",
      "        ...,\n",
      "        [2.2146],\n",
      "        [2.2050],\n",
      "        [2.2103]], grad_fn=<AddBackward0>)\n"
     ]
    },
    {
     "name": "stderr",
     "output_type": "stream",
     "text": [
      "\n",
      "\n",
      "100%|██████████| 4/4 [00:00<00:00, 10.29it/s]\u001b[A\u001b[A\n",
      "\n",
      "  1%|          | 67/10000 [00:44<1:45:46,  1.57it/s]\u001b[A"
     ]
    },
    {
     "name": "stdout",
     "output_type": "stream",
     "text": [
      "tensor([[0.5703],\n",
      "        [0.6573],\n",
      "        [0.5952],\n",
      "        ...,\n",
      "        [0.7149],\n",
      "        [0.7526],\n",
      "        [0.8009]], grad_fn=<AddBackward0>)\n",
      "tensor([[-1.2809],\n",
      "        [-1.0734],\n",
      "        [-1.0969],\n",
      "        ...,\n",
      "        [ 1.0879],\n",
      "        [ 0.9479],\n",
      "        [ 1.1507]], grad_fn=<AddBackward0>)\n",
      "[0 0 0 ... 0 1 1]\n",
      "[1 0 1 ... 1 0 0]\n",
      "[0 0 1 ... 0 0 0]\n",
      "[1 1 1 ... 1 1 0]\n",
      "\n",
      "Epoch: 067, Loss: 7071.0625, Val: 0.6062, Test: 0.6083\n",
      "[0 0 1 ... 0 0 0]\n",
      "[1 1 1 ... 1 1 0]\n",
      "[0 0 0 ... 0 1 1]\n",
      "[1 0 1 ... 1 0 0]\n"
     ]
    },
    {
     "name": "stderr",
     "output_type": "stream",
     "text": [
      "\n",
      "\n",
      "  0%|          | 0/4 [00:00<?, ?it/s]\u001b[A\u001b[A\n",
      "\n",
      " 25%|██▌       | 1/4 [00:00<00:00,  9.59it/s]\u001b[A\u001b[A"
     ]
    },
    {
     "name": "stdout",
     "output_type": "stream",
     "text": [
      "tensor([[-0.6891],\n",
      "        [-0.6792],\n",
      "        [-0.6887],\n",
      "        ...,\n",
      "        [ 0.3481],\n",
      "        [ 0.6933],\n",
      "        [ 0.5026]], grad_fn=<AddBackward0>)\n",
      "tensor([[0.0964],\n",
      "        [0.0300],\n",
      "        [0.0339],\n",
      "        ...,\n",
      "        [0.1893],\n",
      "        [0.2377],\n",
      "        [0.2274]], grad_fn=<AddBackward0>)\n"
     ]
    },
    {
     "name": "stderr",
     "output_type": "stream",
     "text": [
      "\n",
      "\n",
      "100%|██████████| 4/4 [00:00<00:00, 10.32it/s]\u001b[A\u001b[A"
     ]
    },
    {
     "name": "stdout",
     "output_type": "stream",
     "text": [
      "tensor([[0.5754],\n",
      "        [0.5407],\n",
      "        [0.5542],\n",
      "        ...,\n",
      "        [1.3164],\n",
      "        [1.6824],\n",
      "        [0.3168]], grad_fn=<AddBackward0>)\n",
      "tensor([[0.8889],\n",
      "        [0.9002],\n",
      "        [0.6894],\n",
      "        ...,\n",
      "        [0.8625],\n",
      "        [1.4986],\n",
      "        [1.6463]], grad_fn=<AddBackward0>)\n",
      "[0 0 0 ... 0 1 1]\n",
      "[1 0 1 ... 1 0 0]\n",
      "[0 0 1 ... 0 0 0]\n",
      "[1 1 1 ... 1 1 0]\n"
     ]
    },
    {
     "name": "stderr",
     "output_type": "stream",
     "text": [
      "\n",
      "\n",
      "  1%|          | 68/10000 [00:45<1:50:19,  1.50it/s]\u001b[A"
     ]
    },
    {
     "name": "stdout",
     "output_type": "stream",
     "text": [
      "\n",
      "Epoch: 068, Loss: 7153.4785, Val: 0.6071, Test: 0.6098\n",
      "[0 0 1 ... 0 0 0]\n",
      "[1 1 1 ... 1 1 0]\n",
      "[0 0 0 ... 0 1 1]\n",
      "[1 0 1 ... 1 0 0]\n"
     ]
    },
    {
     "name": "stderr",
     "output_type": "stream",
     "text": [
      "\n",
      "\n",
      "  0%|          | 0/4 [00:00<?, ?it/s]\u001b[A\u001b[A"
     ]
    },
    {
     "name": "stdout",
     "output_type": "stream",
     "text": [
      "tensor([[-0.4663],\n",
      "        [-0.4933],\n",
      "        [-0.4734],\n",
      "        ...,\n",
      "        [ 0.8694],\n",
      "        [ 0.3905],\n",
      "        [ 0.3718]], grad_fn=<AddBackward0>)\n"
     ]
    },
    {
     "name": "stderr",
     "output_type": "stream",
     "text": [
      "\n",
      "\n",
      " 50%|█████     | 2/4 [00:00<00:00, 11.38it/s]\u001b[A\u001b[A"
     ]
    },
    {
     "name": "stdout",
     "output_type": "stream",
     "text": [
      "tensor([[ 0.6691],\n",
      "        [ 0.8060],\n",
      "        [ 0.7913],\n",
      "        ...,\n",
      "        [-0.7387],\n",
      "        [-0.7177],\n",
      "        [-1.4217]], grad_fn=<AddBackward0>)\n",
      "tensor([[0.6265],\n",
      "        [0.4862],\n",
      "        [0.5922],\n",
      "        ...,\n",
      "        [0.5382],\n",
      "        [0.5467],\n",
      "        [0.5450]], grad_fn=<AddBackward0>)\n"
     ]
    },
    {
     "name": "stderr",
     "output_type": "stream",
     "text": [
      "\n",
      "\n",
      "100%|██████████| 4/4 [00:00<00:00, 11.42it/s]\u001b[A\u001b[A"
     ]
    },
    {
     "name": "stdout",
     "output_type": "stream",
     "text": [
      "tensor([[ 0.3326],\n",
      "        [ 0.3679],\n",
      "        [ 0.3697],\n",
      "        ...,\n",
      "        [-0.3074],\n",
      "        [-0.3956],\n",
      "        [-0.3356]], grad_fn=<AddBackward0>)\n",
      "[0 0 0 ... 0 1 1]\n",
      "[1 0 1 ... 1 0 0]\n"
     ]
    },
    {
     "name": "stderr",
     "output_type": "stream",
     "text": [
      "\n"
     ]
    },
    {
     "name": "stdout",
     "output_type": "stream",
     "text": [
      "[0 0 1 ... 0 0 0]\n",
      "[1 1 1 ... 1 1 0]\n",
      "\n",
      "Epoch: 069, Loss: 7077.4277, Val: 0.6083, Test: 0.6106\n",
      "[0 0 1 ... 0 0 0]\n",
      "[1 1 1 ... 1 1 0]\n",
      "[0 0 0 ... 0 1 1]\n",
      "[1 0 1 ... 1 0 0]\n"
     ]
    },
    {
     "name": "stderr",
     "output_type": "stream",
     "text": [
      "\n",
      "  1%|          | 69/10000 [00:46<1:49:43,  1.51it/s]\u001b[A\n",
      "\n",
      "  0%|          | 0/4 [00:00<?, ?it/s]\u001b[A\u001b[A\n",
      "\n",
      " 25%|██▌       | 1/4 [00:00<00:00, 10.00it/s]\u001b[A\u001b[A\n",
      "\n",
      " 50%|█████     | 2/4 [00:00<00:00,  9.43it/s]\u001b[A\u001b[A"
     ]
    },
    {
     "name": "stdout",
     "output_type": "stream",
     "text": [
      "tensor([[0.8318],\n",
      "        [0.7220],\n",
      "        [0.3203],\n",
      "        ...,\n",
      "        [0.2823],\n",
      "        [0.3095],\n",
      "        [0.3055]], grad_fn=<AddBackward0>)\n",
      "tensor([[-0.0166],\n",
      "        [-0.0138],\n",
      "        [ 0.0170],\n",
      "        ...,\n",
      "        [ 1.3163],\n",
      "        [ 1.3494],\n",
      "        [ 1.2794]], grad_fn=<AddBackward0>)\n"
     ]
    },
    {
     "name": "stderr",
     "output_type": "stream",
     "text": [
      "\n",
      "\n",
      "100%|██████████| 4/4 [00:00<00:00, 10.00it/s]\u001b[A\u001b[A\n"
     ]
    },
    {
     "name": "stdout",
     "output_type": "stream",
     "text": [
      "tensor([[ 0.1711],\n",
      "        [ 0.7548],\n",
      "        [ 0.3897],\n",
      "        ...,\n",
      "        [-0.0432],\n",
      "        [-0.0883],\n",
      "        [-0.1638]], grad_fn=<AddBackward0>)\n",
      "tensor([[-0.7478],\n",
      "        [-1.3176],\n",
      "        [-1.4063],\n",
      "        ...,\n",
      "        [ 0.1617],\n",
      "        [ 0.2251],\n",
      "        [ 0.2627]], grad_fn=<AddBackward0>)\n",
      "[0 0 0 ... 0 1 1]\n",
      "[1 0 1 ... 1 0 0]\n",
      "[0 0 1 ... 0 0 0]\n",
      "[1 1 1 ... 1 1 0]\n",
      "\n",
      "Epoch: 070, Loss: 6855.0649, Val: 0.6098, Test: 0.6117\n",
      "[0 0 1 ... 0 0 0]\n",
      "[1 1 1 ... 1 1 0]\n",
      "[0 0 0 ... 0 1 1]\n",
      "[1 0 1 ... 1 0 0]\n"
     ]
    },
    {
     "name": "stderr",
     "output_type": "stream",
     "text": [
      "\n",
      "  1%|          | 70/10000 [00:46<1:42:31,  1.61it/s]\u001b[A\n",
      "\n",
      "  0%|          | 0/4 [00:00<?, ?it/s]\u001b[A\u001b[A\n",
      "\n",
      " 50%|█████     | 2/4 [00:00<00:00, 11.04it/s]\u001b[A\u001b[A"
     ]
    },
    {
     "name": "stdout",
     "output_type": "stream",
     "text": [
      "tensor([[-1.6732],\n",
      "        [-1.6777],\n",
      "        [-2.3248],\n",
      "        ...,\n",
      "        [-0.2199],\n",
      "        [-0.2988],\n",
      "        [-0.2522]], grad_fn=<AddBackward0>)\n",
      "tensor([[ 0.0545],\n",
      "        [ 0.0424],\n",
      "        [-0.0611],\n",
      "        ...,\n",
      "        [ 0.1030],\n",
      "        [ 0.0733],\n",
      "        [ 0.1079]], grad_fn=<AddBackward0>)\n"
     ]
    },
    {
     "name": "stderr",
     "output_type": "stream",
     "text": [
      "\n",
      "\n",
      "100%|██████████| 4/4 [00:00<00:00, 11.01it/s]\u001b[A\u001b[A\n"
     ]
    },
    {
     "name": "stdout",
     "output_type": "stream",
     "text": [
      "tensor([[-0.0195],\n",
      "        [-0.1366],\n",
      "        [-0.5152],\n",
      "        ...,\n",
      "        [ 0.2971],\n",
      "        [ 0.6344],\n",
      "        [ 0.6271]], grad_fn=<AddBackward0>)\n",
      "tensor([[-0.8290],\n",
      "        [-0.4354],\n",
      "        [-0.4784],\n",
      "        ...,\n",
      "        [ 0.4083],\n",
      "        [ 0.2505],\n",
      "        [ 0.1915]], grad_fn=<AddBackward0>)\n",
      "[1 0 0 ... 0 1 1]\n",
      "[1 0 1 ... 1 0 0]\n",
      "[0 0 1 ... 0 0 0]\n",
      "[1 1 1 ... 1 1 0]\n"
     ]
    },
    {
     "name": "stderr",
     "output_type": "stream",
     "text": [
      "\n",
      "  1%|          | 71/10000 [00:47<1:43:23,  1.60it/s]\u001b[A"
     ]
    },
    {
     "name": "stdout",
     "output_type": "stream",
     "text": [
      "\n",
      "Epoch: 071, Loss: 6687.7769, Val: 0.6104, Test: 0.6131\n",
      "[0 0 1 ... 0 0 0]\n",
      "[1 1 1 ... 1 1 0]\n",
      "[1 0 0 ... 0 1 1]\n",
      "[1 0 1 ... 1 0 0]\n"
     ]
    },
    {
     "name": "stderr",
     "output_type": "stream",
     "text": [
      "\n",
      "\n",
      "  0%|          | 0/4 [00:00<?, ?it/s]\u001b[A\u001b[A"
     ]
    },
    {
     "name": "stdout",
     "output_type": "stream",
     "text": [
      "tensor([[0.3119],\n",
      "        [0.2552],\n",
      "        [0.3263],\n",
      "        ...,\n",
      "        [0.0970],\n",
      "        [0.1520],\n",
      "        [0.1114]], grad_fn=<AddBackward0>)\n"
     ]
    },
    {
     "name": "stderr",
     "output_type": "stream",
     "text": [
      "\n",
      "\n",
      " 50%|█████     | 2/4 [00:00<00:00,  9.94it/s]\u001b[A\u001b[A"
     ]
    },
    {
     "name": "stdout",
     "output_type": "stream",
     "text": [
      "tensor([[ 0.2080],\n",
      "        [ 0.2175],\n",
      "        [ 0.2054],\n",
      "        ...,\n",
      "        [-0.5843],\n",
      "        [-0.5756],\n",
      "        [-0.5854]], grad_fn=<AddBackward0>)\n"
     ]
    },
    {
     "name": "stderr",
     "output_type": "stream",
     "text": [
      "\n",
      "\n",
      " 75%|███████▌  | 3/4 [00:00<00:00,  9.92it/s]\u001b[A\u001b[A"
     ]
    },
    {
     "name": "stdout",
     "output_type": "stream",
     "text": [
      "tensor([[-0.1968],\n",
      "        [-0.3180],\n",
      "        [-0.3228],\n",
      "        ...,\n",
      "        [-1.4994],\n",
      "        [-1.5200],\n",
      "        [-1.5706]], grad_fn=<AddBackward0>)\n",
      "tensor([[0.6139],\n",
      "        [0.3943],\n",
      "        [0.0213],\n",
      "        ...,\n",
      "        [0.0237],\n",
      "        [0.2727],\n",
      "        [0.2723]], grad_fn=<AddBackward0>)\n"
     ]
    },
    {
     "name": "stderr",
     "output_type": "stream",
     "text": [
      "\n",
      "\n",
      "100%|██████████| 4/4 [00:00<00:00,  9.75it/s]\u001b[A\u001b[A"
     ]
    },
    {
     "name": "stdout",
     "output_type": "stream",
     "text": [
      "[1 0 0 ... 0 1 1]\n",
      "[1 0 1 ... 1 0 0]\n",
      "[0 0 1 ... 0 0 0]\n",
      "[1 1 1 ... 1 1 0]\n",
      "\n",
      "Epoch: 072, Loss: 6875.4702, Val: 0.6114, Test: 0.6140\n",
      "[0 0 1 ... 0 0 0]\n",
      "[1 1 1 ... 1 1 0]\n"
     ]
    },
    {
     "name": "stderr",
     "output_type": "stream",
     "text": [
      "\n",
      "\n",
      "  1%|          | 72/10000 [00:48<1:46:03,  1.56it/s]\u001b[A"
     ]
    },
    {
     "name": "stdout",
     "output_type": "stream",
     "text": [
      "[1 0 0 ... 0 1 1]\n",
      "[1 0 1 ... 1 0 0]\n"
     ]
    },
    {
     "name": "stderr",
     "output_type": "stream",
     "text": [
      "\n",
      "\n",
      "  0%|          | 0/4 [00:00<?, ?it/s]\u001b[A\u001b[A\n",
      "\n",
      " 25%|██▌       | 1/4 [00:00<00:00,  8.97it/s]\u001b[A\u001b[A"
     ]
    },
    {
     "name": "stdout",
     "output_type": "stream",
     "text": [
      "tensor([[ 0.2057],\n",
      "        [-0.1420],\n",
      "        [-0.4561],\n",
      "        ...,\n",
      "        [ 0.3112],\n",
      "        [ 0.3356],\n",
      "        [ 0.2288]], grad_fn=<AddBackward0>)\n",
      "tensor([[ 0.2000],\n",
      "        [ 0.2195],\n",
      "        [ 0.1859],\n",
      "        ...,\n",
      "        [ 0.0048],\n",
      "        [ 0.0029],\n",
      "        [-0.0026]], grad_fn=<AddBackward0>)\n"
     ]
    },
    {
     "name": "stderr",
     "output_type": "stream",
     "text": [
      "\n",
      "\n",
      "100%|██████████| 4/4 [00:00<00:00,  9.97it/s]\u001b[A\u001b[A"
     ]
    },
    {
     "name": "stdout",
     "output_type": "stream",
     "text": [
      "tensor([[0.3043],\n",
      "        [0.3288],\n",
      "        [0.3057],\n",
      "        ...,\n",
      "        [1.1233],\n",
      "        [1.2074],\n",
      "        [1.1516]], grad_fn=<AddBackward0>)\n",
      "tensor([[0.7846],\n",
      "        [0.7814],\n",
      "        [0.7776],\n",
      "        ...,\n",
      "        [0.5979],\n",
      "        [0.7216],\n",
      "        [0.2398]], grad_fn=<AddBackward0>)\n",
      "[1 0 0 ... 0 1 1]\n",
      "[1 0 1 ... 1 0 0]\n",
      "[0 0 1 ... 0 0 0]\n",
      "[1 1 1 ... 1 1 0]\n",
      "\n",
      "Epoch: 073, Loss: 6558.5239, Val: 0.6127, Test: 0.6143\n",
      "[0 0 1 ... 0 0 0]\n",
      "[1 1 1 ... 1 1 0]\n",
      "[1 0 0 ... 0 1 1]\n",
      "[1 0 1 ... 1 0 0]\n"
     ]
    },
    {
     "name": "stderr",
     "output_type": "stream",
     "text": [
      "\n",
      "\n",
      "  1%|          | 73/10000 [00:48<1:41:12,  1.63it/s]\u001b[A\n",
      "\n",
      "  0%|          | 0/4 [00:00<?, ?it/s]\u001b[A\u001b[A"
     ]
    },
    {
     "name": "stdout",
     "output_type": "stream",
     "text": [
      "tensor([[0.0994],\n",
      "        [0.0942],\n",
      "        [0.5683],\n",
      "        ...,\n",
      "        [0.6040],\n",
      "        [0.5872],\n",
      "        [0.7415]], grad_fn=<AddBackward0>)\n"
     ]
    },
    {
     "name": "stderr",
     "output_type": "stream",
     "text": [
      "\n",
      "\n",
      " 50%|█████     | 2/4 [00:00<00:00, 10.32it/s]\u001b[A\u001b[A"
     ]
    },
    {
     "name": "stdout",
     "output_type": "stream",
     "text": [
      "tensor([[ 0.6721],\n",
      "        [ 0.4809],\n",
      "        [ 0.4613],\n",
      "        ...,\n",
      "        [-0.0367],\n",
      "        [-0.2057],\n",
      "        [-0.2716]], grad_fn=<AddBackward0>)\n"
     ]
    },
    {
     "name": "stderr",
     "output_type": "stream",
     "text": [
      "\n",
      "\n",
      "100%|██████████| 4/4 [00:00<00:00, 10.52it/s]\u001b[A\u001b[A"
     ]
    },
    {
     "name": "stdout",
     "output_type": "stream",
     "text": [
      "tensor([[0.3524],\n",
      "        [0.6479],\n",
      "        [0.3115],\n",
      "        ...,\n",
      "        [0.3073],\n",
      "        [0.2842],\n",
      "        [0.8283]], grad_fn=<AddBackward0>)\n",
      "tensor([[ 1.1082],\n",
      "        [ 1.0843],\n",
      "        [ 0.9975],\n",
      "        ...,\n",
      "        [-0.3594],\n",
      "        [-0.3004],\n",
      "        [-0.3308]], grad_fn=<AddBackward0>)\n",
      "[1 0 0 ... 0 1 1]\n",
      "[1 0 1 ... 1 0 0]\n"
     ]
    },
    {
     "name": "stderr",
     "output_type": "stream",
     "text": [
      "\n",
      "\n",
      "  1%|          | 74/10000 [00:49<1:44:35,  1.58it/s]\u001b[A"
     ]
    },
    {
     "name": "stdout",
     "output_type": "stream",
     "text": [
      "[0 0 1 ... 0 0 0]\n",
      "[1 1 1 ... 1 1 0]\n",
      "\n",
      "Epoch: 074, Loss: 6398.9521, Val: 0.6143, Test: 0.6169\n",
      "[0 0 1 ... 0 0 0]\n",
      "[1 1 1 ... 1 1 0]\n",
      "[1 0 0 ... 0 1 1]\n",
      "[1 0 1 ... 1 0 0]\n"
     ]
    },
    {
     "name": "stderr",
     "output_type": "stream",
     "text": [
      "\n",
      "\n",
      "  0%|          | 0/4 [00:00<?, ?it/s]\u001b[A\u001b[A\n",
      "\n",
      " 25%|██▌       | 1/4 [00:00<00:00,  9.50it/s]\u001b[A\u001b[A\n",
      "\n",
      " 50%|█████     | 2/4 [00:00<00:00,  9.26it/s]\u001b[A\u001b[A"
     ]
    },
    {
     "name": "stdout",
     "output_type": "stream",
     "text": [
      "tensor([[-0.6698],\n",
      "        [-0.5970],\n",
      "        [-0.6829],\n",
      "        ...,\n",
      "        [ 0.3779],\n",
      "        [ 0.3843],\n",
      "        [ 0.3447]], grad_fn=<AddBackward0>)\n",
      "tensor([[-0.2786],\n",
      "        [-0.2775],\n",
      "        [-0.2323],\n",
      "        ...,\n",
      "        [ 0.8352],\n",
      "        [ 0.8864],\n",
      "        [ 0.8593]], grad_fn=<AddBackward0>)\n"
     ]
    },
    {
     "name": "stderr",
     "output_type": "stream",
     "text": [
      "\n",
      "\n",
      "100%|██████████| 4/4 [00:00<00:00, 10.25it/s]\u001b[A\u001b[A\n"
     ]
    },
    {
     "name": "stdout",
     "output_type": "stream",
     "text": [
      "tensor([[ 0.3753],\n",
      "        [ 0.3494],\n",
      "        [ 0.4169],\n",
      "        ...,\n",
      "        [-0.0313],\n",
      "        [-0.1394],\n",
      "        [-0.1271]], grad_fn=<AddBackward0>)\n",
      "tensor([[0.0452],\n",
      "        [0.1387],\n",
      "        [0.0806],\n",
      "        ...,\n",
      "        [0.1319],\n",
      "        [0.1425],\n",
      "        [0.1463]], grad_fn=<AddBackward0>)\n",
      "[1 0 0 ... 0 1 1]\n",
      "[1 0 1 ... 1 0 0]\n",
      "[0 0 1 ... 0 0 0]\n",
      "[1 1 1 ... 1 1 0]\n",
      "\n",
      "Epoch: 075, Loss: 6272.6528, Val: 0.6156, Test: 0.6181\n",
      "[0 0 1 ... 0 0 0]\n",
      "[1 1 1 ... 1 1 0]\n"
     ]
    },
    {
     "name": "stderr",
     "output_type": "stream",
     "text": [
      "\n",
      "  1%|          | 75/10000 [00:50<1:47:06,  1.54it/s]\u001b[A"
     ]
    },
    {
     "name": "stdout",
     "output_type": "stream",
     "text": [
      "[1 0 0 ... 0 1 1]\n",
      "[1 0 1 ... 1 0 0]\n"
     ]
    },
    {
     "name": "stderr",
     "output_type": "stream",
     "text": [
      "\n",
      "\n",
      "  0%|          | 0/4 [00:00<?, ?it/s]\u001b[A\u001b[A"
     ]
    },
    {
     "name": "stdout",
     "output_type": "stream",
     "text": [
      "tensor([[0.8146],\n",
      "        [2.1368],\n",
      "        [0.8939],\n",
      "        ...,\n",
      "        [1.7394],\n",
      "        [1.8189],\n",
      "        [1.7061]], grad_fn=<AddBackward0>)\n"
     ]
    },
    {
     "name": "stderr",
     "output_type": "stream",
     "text": [
      "\n",
      "\n",
      " 50%|█████     | 2/4 [00:00<00:00, 11.20it/s]\u001b[A\u001b[A"
     ]
    },
    {
     "name": "stdout",
     "output_type": "stream",
     "text": [
      "tensor([[ 0.0710],\n",
      "        [ 0.1543],\n",
      "        [ 0.0827],\n",
      "        ...,\n",
      "        [-1.1690],\n",
      "        [-1.1783],\n",
      "        [-1.1856]], grad_fn=<AddBackward0>)\n",
      "tensor([[ 0.6933],\n",
      "        [ 0.6574],\n",
      "        [ 0.7062],\n",
      "        ...,\n",
      "        [-1.3156],\n",
      "        [-0.4664],\n",
      "        [-1.2897]], grad_fn=<AddBackward0>)\n"
     ]
    },
    {
     "name": "stderr",
     "output_type": "stream",
     "text": [
      "\n",
      "\n",
      "100%|██████████| 4/4 [00:00<00:00, 11.08it/s]\u001b[A\u001b[A"
     ]
    },
    {
     "name": "stdout",
     "output_type": "stream",
     "text": [
      "tensor([[-1.4324],\n",
      "        [-1.3896],\n",
      "        [-1.4604],\n",
      "        ...,\n",
      "        [ 0.4070],\n",
      "        [ 0.6105],\n",
      "        [ 0.8757]], grad_fn=<AddBackward0>)\n",
      "[1 0 0 ... 0 1 1]\n",
      "[1 0 1 ... 1 0 0]\n"
     ]
    },
    {
     "name": "stderr",
     "output_type": "stream",
     "text": [
      "\n",
      "\n",
      "  1%|          | 76/10000 [00:50<1:39:47,  1.66it/s]\u001b[A"
     ]
    },
    {
     "name": "stdout",
     "output_type": "stream",
     "text": [
      "[0 0 1 ... 0 0 0]\n",
      "[1 1 1 ... 1 1 0]\n",
      "\n",
      "Epoch: 076, Loss: 6110.4185, Val: 0.6160, Test: 0.6194\n",
      "[0 0 1 ... 0 0 0]\n",
      "[1 1 1 ... 1 1 0]\n",
      "[1 0 0 ... 0 1 1]\n",
      "[1 0 1 ... 1 0 0]\n"
     ]
    },
    {
     "name": "stderr",
     "output_type": "stream",
     "text": [
      "\n",
      "\n",
      "  0%|          | 0/4 [00:00<?, ?it/s]\u001b[A\u001b[A\n",
      "\n",
      " 25%|██▌       | 1/4 [00:00<00:00,  9.04it/s]\u001b[A\u001b[A\n",
      "\n",
      " 50%|█████     | 2/4 [00:00<00:00,  9.37it/s]\u001b[A\u001b[A"
     ]
    },
    {
     "name": "stdout",
     "output_type": "stream",
     "text": [
      "tensor([[-0.4414],\n",
      "        [-0.0634],\n",
      "        [-0.3793],\n",
      "        ...,\n",
      "        [-0.3051],\n",
      "        [-0.3147],\n",
      "        [-0.2654]], grad_fn=<AddBackward0>)\n",
      "tensor([[0.2703],\n",
      "        [0.2413],\n",
      "        [0.1198],\n",
      "        ...,\n",
      "        [0.1021],\n",
      "        [0.1094],\n",
      "        [0.1091]], grad_fn=<AddBackward0>)\n"
     ]
    },
    {
     "name": "stderr",
     "output_type": "stream",
     "text": [
      "\n",
      "\n",
      "100%|██████████| 4/4 [00:00<00:00, 10.29it/s]\u001b[A\u001b[A\n"
     ]
    },
    {
     "name": "stdout",
     "output_type": "stream",
     "text": [
      "tensor([[-0.3987],\n",
      "        [-0.3931],\n",
      "        [-0.3914],\n",
      "        ...,\n",
      "        [ 0.8965],\n",
      "        [ 0.8753],\n",
      "        [ 0.0238]], grad_fn=<AddBackward0>)\n",
      "tensor([[-0.5119],\n",
      "        [-0.5103],\n",
      "        [-0.4858],\n",
      "        ...,\n",
      "        [-0.9420],\n",
      "        [-0.9513],\n",
      "        [-0.9389]], grad_fn=<AddBackward0>)\n",
      "[1 0 0 ... 0 1 1]\n",
      "[1 0 1 ... 1 0 0]\n"
     ]
    },
    {
     "name": "stderr",
     "output_type": "stream",
     "text": [
      "\n",
      "  1%|          | 77/10000 [00:51<1:43:50,  1.59it/s]\u001b[A"
     ]
    },
    {
     "name": "stdout",
     "output_type": "stream",
     "text": [
      "[0 0 1 ... 0 0 0]\n",
      "[1 1 1 ... 1 1 0]\n",
      "\n",
      "Epoch: 077, Loss: 6031.2490, Val: 0.6169, Test: 0.6205\n",
      "[0 0 1 ... 0 0 0]\n",
      "[1 1 1 ... 1 1 0]\n",
      "[1 0 0 ... 0 1 1]\n",
      "[1 0 1 ... 1 0 0]\n"
     ]
    },
    {
     "name": "stderr",
     "output_type": "stream",
     "text": [
      "\n",
      "\n",
      "  0%|          | 0/4 [00:00<?, ?it/s]\u001b[A\u001b[A\n",
      "\n",
      " 25%|██▌       | 1/4 [00:00<00:00,  8.94it/s]\u001b[A\u001b[A\n",
      "\n",
      " 50%|█████     | 2/4 [00:00<00:00,  7.30it/s]\u001b[A\u001b[A"
     ]
    },
    {
     "name": "stdout",
     "output_type": "stream",
     "text": [
      "tensor([[-0.5631],\n",
      "        [-0.5453],\n",
      "        [-0.4883],\n",
      "        ...,\n",
      "        [ 0.4293],\n",
      "        [ 0.3596],\n",
      "        [ 0.3195]], grad_fn=<AddBackward0>)\n",
      "tensor([[-0.2107],\n",
      "        [-0.3474],\n",
      "        [-0.1827],\n",
      "        ...,\n",
      "        [ 0.4841],\n",
      "        [ 0.4070],\n",
      "        [ 0.4851]], grad_fn=<AddBackward0>)\n"
     ]
    },
    {
     "name": "stderr",
     "output_type": "stream",
     "text": [
      "\n",
      "\n",
      "100%|██████████| 4/4 [00:00<00:00,  8.62it/s]\u001b[A\u001b[A\n"
     ]
    },
    {
     "name": "stdout",
     "output_type": "stream",
     "text": [
      "tensor([[-0.9843],\n",
      "        [-0.9143],\n",
      "        [-0.1130],\n",
      "        ...,\n",
      "        [ 0.1944],\n",
      "        [ 0.1802],\n",
      "        [ 0.0723]], grad_fn=<AddBackward0>)\n",
      "tensor([[-0.0080],\n",
      "        [ 0.1060],\n",
      "        [-0.5799],\n",
      "        ...,\n",
      "        [ 1.5912],\n",
      "        [ 1.7731],\n",
      "        [ 1.8081]], grad_fn=<AddBackward0>)\n",
      "[1 0 0 ... 0 1 1]\n",
      "[1 0 1 ... 1 0 0]\n",
      "[0 0 1 ... 0 0 0]\n",
      "[1 1 1 ... 1 1 0]\n",
      "\n",
      "Epoch: 078, Loss: 5852.0869, Val: 0.6185, Test: 0.6222\n",
      "[0 0 1 ... 0 0 0]\n",
      "[1 1 1 ... 1 1 0]\n"
     ]
    },
    {
     "name": "stderr",
     "output_type": "stream",
     "text": [
      "\n",
      "  1%|          | 78/10000 [00:52<1:49:48,  1.51it/s]\u001b[A"
     ]
    },
    {
     "name": "stdout",
     "output_type": "stream",
     "text": [
      "[1 0 0 ... 0 1 1]\n",
      "[1 0 1 ... 1 0 0]\n"
     ]
    },
    {
     "name": "stderr",
     "output_type": "stream",
     "text": [
      "\n",
      "\n",
      "  0%|          | 0/4 [00:00<?, ?it/s]\u001b[A\u001b[A\n",
      "\n",
      " 25%|██▌       | 1/4 [00:00<00:00,  9.09it/s]\u001b[A\u001b[A"
     ]
    },
    {
     "name": "stdout",
     "output_type": "stream",
     "text": [
      "tensor([[-0.1132],\n",
      "        [-0.0699],\n",
      "        [-0.0723],\n",
      "        ...,\n",
      "        [ 1.7732],\n",
      "        [ 1.8594],\n",
      "        [ 1.8365]], grad_fn=<AddBackward0>)\n",
      "tensor([[0.1703],\n",
      "        [0.0551],\n",
      "        [0.0929],\n",
      "        ...,\n",
      "        [1.1179],\n",
      "        [0.8378],\n",
      "        [0.9475]], grad_fn=<AddBackward0>)\n",
      "tensor([[ 1.1809],\n",
      "        [ 1.1019],\n",
      "        [ 1.0532],\n",
      "        ...,\n",
      "        [-0.6460],\n",
      "        [-0.7095],\n",
      "        [-0.4019]], grad_fn=<AddBackward0>)\n"
     ]
    },
    {
     "name": "stderr",
     "output_type": "stream",
     "text": [
      "\n",
      "\n",
      "100%|██████████| 4/4 [00:00<00:00, 10.22it/s]\u001b[A\u001b[A"
     ]
    },
    {
     "name": "stdout",
     "output_type": "stream",
     "text": [
      "tensor([[ 0.0045],\n",
      "        [-0.1166],\n",
      "        [ 0.0540],\n",
      "        ...,\n",
      "        [-0.9468],\n",
      "        [-0.8936],\n",
      "        [-0.9324]], grad_fn=<AddBackward0>)\n",
      "[1 0 0 ... 0 1 1]\n",
      "[1 0 1 ... 1 0 0]\n"
     ]
    },
    {
     "name": "stderr",
     "output_type": "stream",
     "text": [
      "\n"
     ]
    },
    {
     "name": "stdout",
     "output_type": "stream",
     "text": [
      "[0 0 1 ... 0 0 0]\n",
      "[1 1 1 ... 1 1 0]\n",
      "\n",
      "Epoch: 079, Loss: 5864.4355, Val: 0.6200, Test: 0.6235\n",
      "[0 0 1 ... 0 0 0]\n",
      "[1 1 1 ... 1 1 0]\n",
      "[1 0 0 ... 0 1 1]\n",
      "[1 0 1 ... 1 0 0]\n"
     ]
    },
    {
     "name": "stderr",
     "output_type": "stream",
     "text": [
      "\n",
      "  1%|          | 79/10000 [00:52<1:49:47,  1.51it/s]\u001b[A\n",
      "\n",
      "  0%|          | 0/4 [00:00<?, ?it/s]\u001b[A\u001b[A\n",
      "\n",
      " 25%|██▌       | 1/4 [00:00<00:00,  9.55it/s]\u001b[A\u001b[A"
     ]
    },
    {
     "name": "stdout",
     "output_type": "stream",
     "text": [
      "tensor([[-0.6484],\n",
      "        [-0.3078],\n",
      "        [-0.2601],\n",
      "        ...,\n",
      "        [ 0.6275],\n",
      "        [ 0.6190],\n",
      "        [ 0.6100]], grad_fn=<AddBackward0>)\n",
      "tensor([[0.0104],\n",
      "        [0.1436],\n",
      "        [0.1821],\n",
      "        ...,\n",
      "        [0.6474],\n",
      "        [0.7325],\n",
      "        [0.6180]], grad_fn=<AddBackward0>)\n"
     ]
    },
    {
     "name": "stderr",
     "output_type": "stream",
     "text": [
      "\n",
      "\n",
      "100%|██████████| 4/4 [00:00<00:00, 10.24it/s]\u001b[A\u001b[A"
     ]
    },
    {
     "name": "stdout",
     "output_type": "stream",
     "text": [
      "tensor([[-0.2657],\n",
      "        [-0.3219],\n",
      "        [-0.3242],\n",
      "        ...,\n",
      "        [ 0.1134],\n",
      "        [ 0.8782],\n",
      "        [ 0.8539]], grad_fn=<AddBackward0>)\n",
      "tensor([[ 0.3003],\n",
      "        [ 0.3805],\n",
      "        [ 0.2950],\n",
      "        ...,\n",
      "        [-0.2380],\n",
      "        [-0.1422],\n",
      "        [-0.1873]], grad_fn=<AddBackward0>)\n",
      "[1 0 0 ... 0 1 1]\n",
      "[1 0 1 ... 1 0 0]\n",
      "[0 0 1 ... 0 0 0]\n",
      "[1 1 1 ... 1 1 0]\n",
      "\n",
      "Epoch: 080, Loss: 5753.4932, Val: 0.6213, Test: 0.6243\n",
      "[0 0 1 ... 0 0 0]\n",
      "[1 1 1 ... 1 1 0]\n",
      "[1 0 0 ... 0 1 1]\n",
      "[1 0 1 ... 1 0 0]\n"
     ]
    },
    {
     "name": "stderr",
     "output_type": "stream",
     "text": [
      "\n",
      "\n",
      "  1%|          | 80/10000 [00:53<1:43:23,  1.60it/s]\u001b[A\n",
      "\n",
      "  0%|          | 0/4 [00:00<?, ?it/s]\u001b[A\u001b[A\n",
      "\n",
      " 25%|██▌       | 1/4 [00:00<00:00,  9.77it/s]\u001b[A\u001b[A\n",
      "\n",
      " 50%|█████     | 2/4 [00:00<00:00,  9.61it/s]\u001b[A\u001b[A"
     ]
    },
    {
     "name": "stdout",
     "output_type": "stream",
     "text": [
      "tensor([[2.0723],\n",
      "        [2.0690],\n",
      "        [2.2789],\n",
      "        ...,\n",
      "        [0.1323],\n",
      "        [0.2481],\n",
      "        [0.3342]], grad_fn=<AddBackward0>)\n",
      "tensor([[0.5762],\n",
      "        [0.5323],\n",
      "        [0.5201],\n",
      "        ...,\n",
      "        [0.8368],\n",
      "        [0.8329],\n",
      "        [0.8574]], grad_fn=<AddBackward0>)\n"
     ]
    },
    {
     "name": "stderr",
     "output_type": "stream",
     "text": [
      "\n",
      "\n",
      "100%|██████████| 4/4 [00:00<00:00, 10.10it/s]\u001b[A\u001b[A\n"
     ]
    },
    {
     "name": "stdout",
     "output_type": "stream",
     "text": [
      "tensor([[ 0.5116],\n",
      "        [ 0.3681],\n",
      "        [ 0.3328],\n",
      "        ...,\n",
      "        [-1.5913],\n",
      "        [-1.6074],\n",
      "        [-1.6333]], grad_fn=<AddBackward0>)\n",
      "tensor([[-1.6742],\n",
      "        [-1.6383],\n",
      "        [-1.6481],\n",
      "        ...,\n",
      "        [ 0.2089],\n",
      "        [ 0.2022],\n",
      "        [ 0.2003]], grad_fn=<AddBackward0>)\n",
      "[1 0 0 ... 0 1 1]\n",
      "[1 0 1 ... 1 0 0]\n",
      "[0 0 1 ... 0 0 0]\n",
      "[1 1 1 ... 1 1 0]\n"
     ]
    },
    {
     "name": "stderr",
     "output_type": "stream",
     "text": [
      "\n",
      "  1%|          | 81/10000 [00:53<1:45:16,  1.57it/s]\u001b[A"
     ]
    },
    {
     "name": "stdout",
     "output_type": "stream",
     "text": [
      "\n",
      "Epoch: 081, Loss: 5616.1182, Val: 0.6233, Test: 0.6255\n",
      "[0 0 1 ... 0 0 0]\n",
      "[1 1 1 ... 1 1 0]\n",
      "[1 0 0 ... 0 1 1]\n",
      "[1 0 1 ... 1 0 0]\n"
     ]
    },
    {
     "name": "stderr",
     "output_type": "stream",
     "text": [
      "\n",
      "\n",
      "  0%|          | 0/4 [00:00<?, ?it/s]\u001b[A\u001b[A\n",
      "\n",
      " 25%|██▌       | 1/4 [00:00<00:00,  9.67it/s]\u001b[A\u001b[A"
     ]
    },
    {
     "name": "stdout",
     "output_type": "stream",
     "text": [
      "tensor([[-1.6518],\n",
      "        [-1.6023],\n",
      "        [-1.6697],\n",
      "        ...,\n",
      "        [-0.0845],\n",
      "        [-0.0762],\n",
      "        [-0.0775]], grad_fn=<AddBackward0>)\n"
     ]
    },
    {
     "name": "stderr",
     "output_type": "stream",
     "text": [
      "\n",
      "\n",
      " 50%|█████     | 2/4 [00:00<00:00,  9.36it/s]\u001b[A\u001b[A"
     ]
    },
    {
     "name": "stdout",
     "output_type": "stream",
     "text": [
      "tensor([[-1.4223],\n",
      "        [-1.5013],\n",
      "        [-1.4816],\n",
      "        ...,\n",
      "        [ 0.1232],\n",
      "        [ 0.1224],\n",
      "        [ 0.0633]], grad_fn=<AddBackward0>)\n",
      "tensor([[0.8191],\n",
      "        [0.8433],\n",
      "        [0.6765],\n",
      "        ...,\n",
      "        [0.2542],\n",
      "        [0.4521],\n",
      "        [0.4834]], grad_fn=<AddBackward0>)\n"
     ]
    },
    {
     "name": "stderr",
     "output_type": "stream",
     "text": [
      "\n",
      "\n",
      "100%|██████████| 4/4 [00:00<00:00,  9.50it/s]\u001b[A\u001b[A"
     ]
    },
    {
     "name": "stdout",
     "output_type": "stream",
     "text": [
      "tensor([[ 0.9199],\n",
      "        [ 1.3076],\n",
      "        [ 0.8710],\n",
      "        ...,\n",
      "        [-0.1233],\n",
      "        [-0.5489],\n",
      "        [-0.5262]], grad_fn=<AddBackward0>)\n",
      "[1 0 0 ... 0 1 1]\n",
      "[1 0 1 ... 1 0 0]\n",
      "[0 0 1 ... 0 0 0]\n",
      "[1 1 1 ... 1 1 0]\n",
      "\n",
      "Epoch: 082, Loss: 5477.1797, Val: 0.6253, Test: 0.6263\n",
      "[0 0 1 ... 0 0 0]\n",
      "[1 1 1 ... 1 1 0]\n",
      "[1 0 0 ... 0 1 1]\n",
      "[1 0 1 ... 1 0 0]\n"
     ]
    },
    {
     "name": "stderr",
     "output_type": "stream",
     "text": [
      "\n",
      "\n",
      "  1%|          | 82/10000 [00:54<1:48:58,  1.52it/s]\u001b[A\n",
      "\n",
      "  0%|          | 0/4 [00:00<?, ?it/s]\u001b[A\u001b[A\n",
      "\n",
      " 50%|█████     | 2/4 [00:00<00:00, 11.97it/s]\u001b[A\u001b[A"
     ]
    },
    {
     "name": "stdout",
     "output_type": "stream",
     "text": [
      "tensor([[ 0.8161],\n",
      "        [ 0.8136],\n",
      "        [ 0.8380],\n",
      "        ...,\n",
      "        [-0.7956],\n",
      "        [-0.7509],\n",
      "        [-0.6764]], grad_fn=<AddBackward0>)\n",
      "tensor([[0.7179],\n",
      "        [0.9006],\n",
      "        [0.7358],\n",
      "        ...,\n",
      "        [0.8635],\n",
      "        [0.7784],\n",
      "        [0.8906]], grad_fn=<AddBackward0>)\n",
      "tensor([[2.1346],\n",
      "        [2.1383],\n",
      "        [2.2089],\n",
      "        ...,\n",
      "        [0.6076],\n",
      "        [0.5861],\n",
      "        [0.5368]], grad_fn=<AddBackward0>)\n"
     ]
    },
    {
     "name": "stderr",
     "output_type": "stream",
     "text": [
      "\n",
      "\n",
      "100%|██████████| 4/4 [00:00<00:00, 10.94it/s]\u001b[A\u001b[A\n",
      "\n",
      "  1%|          | 83/10000 [00:55<1:42:12,  1.62it/s]\u001b[A"
     ]
    },
    {
     "name": "stdout",
     "output_type": "stream",
     "text": [
      "tensor([[ 0.0692],\n",
      "        [ 0.0574],\n",
      "        [ 0.0463],\n",
      "        ...,\n",
      "        [-0.3658],\n",
      "        [-0.3746],\n",
      "        [-0.3411]], grad_fn=<AddBackward0>)\n",
      "[1 0 0 ... 0 1 1]\n",
      "[1 0 1 ... 1 0 0]\n",
      "[0 0 1 ... 0 0 0]\n",
      "[1 1 1 ... 1 1 0]\n",
      "\n",
      "Epoch: 083, Loss: 5388.5547, Val: 0.6264, Test: 0.6267\n",
      "[0 0 1 ... 0 0 0]\n",
      "[1 1 1 ... 1 1 0]\n",
      "[1 0 0 ... 0 1 1]\n",
      "[1 0 1 ... 1 0 0]\n"
     ]
    },
    {
     "name": "stderr",
     "output_type": "stream",
     "text": [
      "\n",
      "\n",
      "  0%|          | 0/4 [00:00<?, ?it/s]\u001b[A\u001b[A\n",
      "\n",
      " 25%|██▌       | 1/4 [00:00<00:00,  9.10it/s]\u001b[A\u001b[A\n",
      "\n",
      " 50%|█████     | 2/4 [00:00<00:00,  9.25it/s]\u001b[A\u001b[A"
     ]
    },
    {
     "name": "stdout",
     "output_type": "stream",
     "text": [
      "tensor([[-0.3111],\n",
      "        [-0.3656],\n",
      "        [-0.2844],\n",
      "        ...,\n",
      "        [ 1.5168],\n",
      "        [ 1.4547],\n",
      "        [ 1.4468]], grad_fn=<AddBackward0>)\n",
      "tensor([[-1.4779],\n",
      "        [-1.4700],\n",
      "        [-1.5592],\n",
      "        ...,\n",
      "        [ 0.7988],\n",
      "        [ 0.7880],\n",
      "        [ 0.7769]], grad_fn=<AddBackward0>)\n"
     ]
    },
    {
     "name": "stderr",
     "output_type": "stream",
     "text": [
      "\n",
      "\n",
      "100%|██████████| 4/4 [00:00<00:00, 10.56it/s]\u001b[A\u001b[A\n"
     ]
    },
    {
     "name": "stdout",
     "output_type": "stream",
     "text": [
      "tensor([[0.7739],\n",
      "        [0.7947],\n",
      "        [0.7722],\n",
      "        ...,\n",
      "        [0.5031],\n",
      "        [0.4208],\n",
      "        [0.6749]], grad_fn=<AddBackward0>)\n",
      "tensor([[0.3290],\n",
      "        [0.0549],\n",
      "        [0.1052],\n",
      "        ...,\n",
      "        [1.2439],\n",
      "        [1.2368],\n",
      "        [1.0766]], grad_fn=<AddBackward0>)\n",
      "[1 0 0 ... 0 1 1]\n",
      "[1 0 1 ... 1 0 0]\n",
      "[0 0 1 ... 0 0 0]\n",
      "[1 1 1 ... 1 1 0]\n"
     ]
    },
    {
     "name": "stderr",
     "output_type": "stream",
     "text": [
      "\n",
      "  1%|          | 84/10000 [00:55<1:44:38,  1.58it/s]\u001b[A"
     ]
    },
    {
     "name": "stdout",
     "output_type": "stream",
     "text": [
      "\n",
      "Epoch: 084, Loss: 5203.4883, Val: 0.6272, Test: 0.6278\n",
      "[0 0 1 ... 0 0 0]\n",
      "[1 1 1 ... 1 1 0]\n",
      "[1 0 0 ... 0 1 1]\n",
      "[1 0 1 ... 1 0 0]\n"
     ]
    },
    {
     "name": "stderr",
     "output_type": "stream",
     "text": [
      "\n",
      "\n",
      "  0%|          | 0/4 [00:00<?, ?it/s]\u001b[A\u001b[A\n",
      "\n",
      " 25%|██▌       | 1/4 [00:00<00:00,  9.23it/s]\u001b[A\u001b[A"
     ]
    },
    {
     "name": "stdout",
     "output_type": "stream",
     "text": [
      "tensor([[ 0.7227],\n",
      "        [ 0.5455],\n",
      "        [ 0.7728],\n",
      "        ...,\n",
      "        [-0.5498],\n",
      "        [-0.4307],\n",
      "        [-0.4577]], grad_fn=<AddBackward0>)\n"
     ]
    },
    {
     "name": "stderr",
     "output_type": "stream",
     "text": [
      "\n",
      "\n",
      " 50%|█████     | 2/4 [00:00<00:00,  9.23it/s]\u001b[A\u001b[A"
     ]
    },
    {
     "name": "stdout",
     "output_type": "stream",
     "text": [
      "tensor([[-0.0752],\n",
      "        [ 0.0482],\n",
      "        [-0.2885],\n",
      "        ...,\n",
      "        [ 0.1247],\n",
      "        [ 0.0702],\n",
      "        [-0.2466]], grad_fn=<AddBackward0>)\n",
      "tensor([[0.1170],\n",
      "        [0.5907],\n",
      "        [0.2519],\n",
      "        ...,\n",
      "        [1.0388],\n",
      "        [0.9648],\n",
      "        [1.0463]], grad_fn=<AddBackward0>)\n"
     ]
    },
    {
     "name": "stderr",
     "output_type": "stream",
     "text": [
      "\n",
      "\n",
      "100%|██████████| 4/4 [00:00<00:00, 10.28it/s]\u001b[A\u001b[A"
     ]
    },
    {
     "name": "stdout",
     "output_type": "stream",
     "text": [
      "tensor([[-0.3169],\n",
      "        [-0.3203],\n",
      "        [-0.3903],\n",
      "        ...,\n",
      "        [-0.0685],\n",
      "        [ 0.0146],\n",
      "        [ 0.0345]], grad_fn=<AddBackward0>)\n",
      "[1 0 0 ... 0 1 1]\n",
      "[1 0 1 ... 1 0 0]\n"
     ]
    },
    {
     "name": "stderr",
     "output_type": "stream",
     "text": [
      "\n"
     ]
    },
    {
     "name": "stdout",
     "output_type": "stream",
     "text": [
      "[0 0 1 ... 0 0 0]\n",
      "[1 1 1 ... 1 1 0]\n",
      "\n",
      "Epoch: 085, Loss: 5175.9756, Val: 0.6281, Test: 0.6291\n",
      "[0 0 1 ... 0 0 0]\n",
      "[1 1 1 ... 1 1 0]\n"
     ]
    },
    {
     "name": "stderr",
     "output_type": "stream",
     "text": [
      "\n",
      "  1%|          | 85/10000 [00:56<1:46:34,  1.55it/s]\u001b[A"
     ]
    },
    {
     "name": "stdout",
     "output_type": "stream",
     "text": [
      "[1 0 0 ... 0 1 1]\n",
      "[1 0 1 ... 1 0 0]\n"
     ]
    },
    {
     "name": "stderr",
     "output_type": "stream",
     "text": [
      "\n",
      "\n",
      "  0%|          | 0/4 [00:00<?, ?it/s]\u001b[A\u001b[A"
     ]
    },
    {
     "name": "stdout",
     "output_type": "stream",
     "text": [
      "tensor([[ 0.7387],\n",
      "        [ 0.8443],\n",
      "        [ 0.6420],\n",
      "        ...,\n",
      "        [-1.1754],\n",
      "        [-1.1329],\n",
      "        [-1.1270]], grad_fn=<AddBackward0>)\n"
     ]
    },
    {
     "name": "stderr",
     "output_type": "stream",
     "text": [
      "\n",
      "\n",
      " 50%|█████     | 2/4 [00:00<00:00,  8.11it/s]\u001b[A\u001b[A"
     ]
    },
    {
     "name": "stdout",
     "output_type": "stream",
     "text": [
      "tensor([[-0.5117],\n",
      "        [-0.1135],\n",
      "        [ 0.1722],\n",
      "        ...,\n",
      "        [-0.1166],\n",
      "        [-0.1139],\n",
      "        [-0.1169]], grad_fn=<AddBackward0>)\n"
     ]
    },
    {
     "name": "stderr",
     "output_type": "stream",
     "text": [
      "\n",
      "\n",
      " 75%|███████▌  | 3/4 [00:00<00:00,  8.06it/s]\u001b[A\u001b[A"
     ]
    },
    {
     "name": "stdout",
     "output_type": "stream",
     "text": [
      "tensor([[1.3168],\n",
      "        [1.2305],\n",
      "        [1.2839],\n",
      "        ...,\n",
      "        [1.2563],\n",
      "        [1.2322],\n",
      "        [1.2291]], grad_fn=<AddBackward0>)\n"
     ]
    },
    {
     "name": "stderr",
     "output_type": "stream",
     "text": [
      "\r",
      "100%|██████████| 4/4 [00:00<00:00,  8.72it/s]"
     ]
    },
    {
     "name": "stdout",
     "output_type": "stream",
     "text": [
      "tensor([[-0.2197],\n",
      "        [-0.4142],\n",
      "        [-0.4405],\n",
      "        ...,\n",
      "        [-0.1782],\n",
      "        [-0.1652],\n",
      "        [-0.1971]], grad_fn=<AddBackward0>)\n",
      "[1 0 0 ... 0 1 1]\n",
      "[1 0 1 ... 1 0 0]\n",
      "[0 0 1 ... 0 0 0]\n",
      "[1 1 1 ... 1 1 0]\n",
      "\n",
      "Epoch: 086, Loss: 5131.1382, Val: 0.6294, Test: 0.6304\n",
      "[0 0 1 ... 0 0 0]\n",
      "[1 1 1 ... 1 1 0]\n",
      "[1 0 0 ... 0 1 1]\n",
      "[1 0 1 ... 1 0 0]\n"
     ]
    },
    {
     "name": "stderr",
     "output_type": "stream",
     "text": [
      "\n",
      "\n",
      "  1%|          | 86/10000 [00:57<1:44:05,  1.59it/s]\u001b[A\n",
      "\n",
      "  0%|          | 0/4 [00:00<?, ?it/s]\u001b[A\u001b[A\n",
      "\n",
      " 25%|██▌       | 1/4 [00:00<00:00,  7.82it/s]\u001b[A\u001b[A\n",
      "\n",
      " 50%|█████     | 2/4 [00:00<00:00,  7.41it/s]\u001b[A\u001b[A"
     ]
    },
    {
     "name": "stdout",
     "output_type": "stream",
     "text": [
      "tensor([[-0.2615],\n",
      "        [-0.2484],\n",
      "        [-0.3769],\n",
      "        ...,\n",
      "        [ 0.5471],\n",
      "        [ 0.5587],\n",
      "        [ 0.6087]], grad_fn=<AddBackward0>)\n",
      "tensor([[ 0.0073],\n",
      "        [-0.0578],\n",
      "        [ 0.1795],\n",
      "        ...,\n",
      "        [-0.6445],\n",
      "        [-0.4079],\n",
      "        [-0.3929]], grad_fn=<AddBackward0>)\n"
     ]
    },
    {
     "name": "stderr",
     "output_type": "stream",
     "text": [
      "\n",
      "\n",
      "100%|██████████| 4/4 [00:00<00:00,  8.77it/s]\u001b[A\u001b[A\n"
     ]
    },
    {
     "name": "stdout",
     "output_type": "stream",
     "text": [
      "tensor([[-0.0559],\n",
      "        [-0.2829],\n",
      "        [ 0.1952],\n",
      "        ...,\n",
      "        [ 1.1308],\n",
      "        [ 1.0790],\n",
      "        [ 1.0928]], grad_fn=<AddBackward0>)\n",
      "tensor([[-0.2011],\n",
      "        [-0.1936],\n",
      "        [-0.1967],\n",
      "        ...,\n",
      "        [-0.4153],\n",
      "        [-0.3939],\n",
      "        [-0.3823]], grad_fn=<AddBackward0>)\n",
      "[1 0 0 ... 0 1 1]\n",
      "[1 0 1 ... 1 0 0]\n"
     ]
    },
    {
     "name": "stderr",
     "output_type": "stream",
     "text": [
      "\n",
      "  1%|          | 87/10000 [00:57<1:50:12,  1.50it/s]\u001b[A"
     ]
    },
    {
     "name": "stdout",
     "output_type": "stream",
     "text": [
      "[0 0 1 ... 0 0 0]\n",
      "[1 1 1 ... 1 1 0]\n",
      "\n",
      "Epoch: 087, Loss: 4900.8818, Val: 0.6312, Test: 0.6318\n",
      "[0 0 1 ... 0 0 0]\n",
      "[1 1 1 ... 1 1 0]\n",
      "[1 0 0 ... 0 1 1]\n",
      "[1 0 1 ... 1 0 0]\n"
     ]
    },
    {
     "name": "stderr",
     "output_type": "stream",
     "text": [
      "\n",
      "\n",
      "  0%|          | 0/4 [00:00<?, ?it/s]\u001b[A\u001b[A\n",
      "\n",
      " 50%|█████     | 2/4 [00:00<00:00,  9.83it/s]\u001b[A\u001b[A"
     ]
    },
    {
     "name": "stdout",
     "output_type": "stream",
     "text": [
      "tensor([[ 0.8428],\n",
      "        [-0.0150],\n",
      "        [ 0.0726],\n",
      "        ...,\n",
      "        [-0.0910],\n",
      "        [-0.3218],\n",
      "        [-0.0474]], grad_fn=<AddBackward0>)\n",
      "tensor([[ 0.6877],\n",
      "        [ 0.8448],\n",
      "        [ 0.7604],\n",
      "        ...,\n",
      "        [-0.4052],\n",
      "        [-0.3687],\n",
      "        [-0.4520]], grad_fn=<AddBackward0>)\n"
     ]
    },
    {
     "name": "stderr",
     "output_type": "stream",
     "text": [
      "\n",
      "\n",
      "100%|██████████| 4/4 [00:00<00:00, 10.27it/s]\u001b[A\u001b[A\n"
     ]
    },
    {
     "name": "stdout",
     "output_type": "stream",
     "text": [
      "tensor([[0.3494],\n",
      "        [0.3272],\n",
      "        [0.3308],\n",
      "        ...,\n",
      "        [1.0977],\n",
      "        [0.9333],\n",
      "        [1.1161]], grad_fn=<AddBackward0>)\n",
      "tensor([[ 0.9713],\n",
      "        [ 0.7045],\n",
      "        [ 0.9587],\n",
      "        ...,\n",
      "        [-0.4162],\n",
      "        [-0.3851],\n",
      "        [-0.5446]], grad_fn=<AddBackward0>)\n",
      "[1 0 0 ... 0 1 1]\n",
      "[1 0 1 ... 1 0 0]\n",
      "[0 0 1 ... 0 0 0]\n",
      "[1 1 1 ... 1 1 0]\n",
      "\n",
      "Epoch: 088, Loss: 5036.5728, Val: 0.6325, Test: 0.6326\n",
      "[0 0 1 ... 0 0 0]\n",
      "[1 1 1 ... 1 1 0]\n"
     ]
    },
    {
     "name": "stderr",
     "output_type": "stream",
     "text": [
      "\n",
      "  1%|          | 88/10000 [00:58<1:50:51,  1.49it/s]\u001b[A"
     ]
    },
    {
     "name": "stdout",
     "output_type": "stream",
     "text": [
      "[1 0 0 ... 0 1 1]\n",
      "[1 0 1 ... 1 0 0]\n"
     ]
    },
    {
     "name": "stderr",
     "output_type": "stream",
     "text": [
      "\n",
      "\n",
      "  0%|          | 0/4 [00:00<?, ?it/s]\u001b[A\u001b[A\n",
      "\n",
      " 25%|██▌       | 1/4 [00:00<00:00,  6.94it/s]\u001b[A\u001b[A"
     ]
    },
    {
     "name": "stdout",
     "output_type": "stream",
     "text": [
      "tensor([[0.0012],\n",
      "        [0.1198],\n",
      "        [0.0087],\n",
      "        ...,\n",
      "        [0.2729],\n",
      "        [0.2758],\n",
      "        [0.3444]], grad_fn=<AddBackward0>)\n"
     ]
    },
    {
     "name": "stderr",
     "output_type": "stream",
     "text": [
      "\n",
      "\n",
      " 50%|█████     | 2/4 [00:00<00:00,  8.20it/s]\u001b[A\u001b[A"
     ]
    },
    {
     "name": "stdout",
     "output_type": "stream",
     "text": [
      "tensor([[0.5864],\n",
      "        [0.5958],\n",
      "        [0.6135],\n",
      "        ...,\n",
      "        [0.6920],\n",
      "        [0.7828],\n",
      "        [0.7514]], grad_fn=<AddBackward0>)\n"
     ]
    },
    {
     "name": "stderr",
     "output_type": "stream",
     "text": [
      "\n",
      "\n",
      "100%|██████████| 4/4 [00:00<00:00,  9.18it/s]\u001b[A\u001b[A"
     ]
    },
    {
     "name": "stdout",
     "output_type": "stream",
     "text": [
      "tensor([[0.1709],\n",
      "        [0.2102],\n",
      "        [0.0756],\n",
      "        ...,\n",
      "        [1.4225],\n",
      "        [1.5005],\n",
      "        [1.5133]], grad_fn=<AddBackward0>)\n",
      "tensor([[ 0.9742],\n",
      "        [ 0.9759],\n",
      "        [ 0.9692],\n",
      "        ...,\n",
      "        [-0.5914],\n",
      "        [-0.5908],\n",
      "        [-0.5757]], grad_fn=<AddBackward0>)\n",
      "[1 0 0 ... 0 1 1]\n",
      "[1 0 1 ... 1 0 0]\n"
     ]
    },
    {
     "name": "stderr",
     "output_type": "stream",
     "text": [
      "\n"
     ]
    },
    {
     "name": "stdout",
     "output_type": "stream",
     "text": [
      "[0 0 1 ... 0 0 0]\n",
      "[1 1 1 ... 1 1 0]\n",
      "\n",
      "Epoch: 089, Loss: 4988.1968, Val: 0.6337, Test: 0.6340\n",
      "[0 0 1 ... 0 0 0]\n",
      "[1 1 1 ... 1 1 0]\n",
      "[1 0 0 ... 0 1 1]\n",
      "[1 0 1 ... 1 0 0]\n"
     ]
    },
    {
     "name": "stderr",
     "output_type": "stream",
     "text": [
      "\n",
      "  1%|          | 89/10000 [00:59<1:46:52,  1.55it/s]\u001b[A\n",
      "\n",
      "  0%|          | 0/4 [00:00<?, ?it/s]\u001b[A\u001b[A\n",
      "\n",
      " 25%|██▌       | 1/4 [00:00<00:00,  6.98it/s]\u001b[A\u001b[A\n",
      "\n",
      " 75%|███████▌  | 3/4 [00:00<00:00,  9.61it/s]\u001b[A\u001b[A"
     ]
    },
    {
     "name": "stdout",
     "output_type": "stream",
     "text": [
      "tensor([[-0.8408],\n",
      "        [-0.6877],\n",
      "        [-0.5887],\n",
      "        ...,\n",
      "        [-0.6594],\n",
      "        [-0.6264],\n",
      "        [-0.6808]], grad_fn=<AddBackward0>)\n",
      "tensor([[ 0.5202],\n",
      "        [ 0.5994],\n",
      "        [ 0.5082],\n",
      "        ...,\n",
      "        [-0.0301],\n",
      "        [-0.0265],\n",
      "        [-0.0273]], grad_fn=<AddBackward0>)\n",
      "tensor([[-1.4928],\n",
      "        [-1.3228],\n",
      "        [-1.4873],\n",
      "        ...,\n",
      "        [ 0.0758],\n",
      "        [ 0.1360],\n",
      "        [ 0.0820]], grad_fn=<AddBackward0>)\n"
     ]
    },
    {
     "name": "stderr",
     "output_type": "stream",
     "text": [
      "100%|██████████| 4/4 [00:00<00:00, 10.09it/s]\n"
     ]
    },
    {
     "name": "stdout",
     "output_type": "stream",
     "text": [
      "tensor([[-0.4387],\n",
      "        [-0.4703],\n",
      "        [-1.0716],\n",
      "        ...,\n",
      "        [-0.2006],\n",
      "        [-0.1583],\n",
      "        [-0.1425]], grad_fn=<AddBackward0>)\n",
      "[1 0 0 ... 0 1 1]\n",
      "[1 0 1 ... 1 0 0]\n",
      "[0 0 1 ... 0 0 0]\n",
      "[1 1 1 ... 1 1 0]\n",
      "\n",
      "Epoch: 090, Loss: 4661.1802, Val: 0.6344, Test: 0.6340\n",
      "[0 0 1 ... 0 0 0]\n",
      "[1 1 1 ... 1 1 0]\n"
     ]
    },
    {
     "name": "stderr",
     "output_type": "stream",
     "text": [
      "\n",
      "  1%|          | 90/10000 [00:59<1:48:18,  1.53it/s]\u001b[A"
     ]
    },
    {
     "name": "stdout",
     "output_type": "stream",
     "text": [
      "[1 0 0 ... 0 1 1]\n",
      "[1 0 1 ... 1 0 0]\n"
     ]
    },
    {
     "name": "stderr",
     "output_type": "stream",
     "text": [
      "\n",
      "\n",
      "  0%|          | 0/4 [00:00<?, ?it/s]\u001b[A\u001b[A"
     ]
    },
    {
     "name": "stdout",
     "output_type": "stream",
     "text": [
      "tensor([[-0.2224],\n",
      "        [-0.2953],\n",
      "        [-0.2903],\n",
      "        ...,\n",
      "        [-0.4685],\n",
      "        [-0.4865],\n",
      "        [-0.5624]], grad_fn=<AddBackward0>)\n"
     ]
    },
    {
     "name": "stderr",
     "output_type": "stream",
     "text": [
      "\n",
      "\n",
      " 50%|█████     | 2/4 [00:00<00:00, 10.47it/s]\u001b[A\u001b[A"
     ]
    },
    {
     "name": "stdout",
     "output_type": "stream",
     "text": [
      "tensor([[-0.0450],\n",
      "        [-0.0711],\n",
      "        [-0.0744],\n",
      "        ...,\n",
      "        [ 0.0856],\n",
      "        [ 0.0837],\n",
      "        [-0.2468]], grad_fn=<AddBackward0>)\n",
      "tensor([[-0.5446],\n",
      "        [-0.4803],\n",
      "        [-0.3535],\n",
      "        ...,\n",
      "        [-0.8671],\n",
      "        [-1.0243],\n",
      "        [-0.9067]], grad_fn=<AddBackward0>)\n"
     ]
    },
    {
     "name": "stderr",
     "output_type": "stream",
     "text": [
      "\n",
      "\n",
      "100%|██████████| 4/4 [00:00<00:00, 10.97it/s]\u001b[A\u001b[A"
     ]
    },
    {
     "name": "stdout",
     "output_type": "stream",
     "text": [
      "tensor([[0.1007],\n",
      "        [0.0484],\n",
      "        [0.1009],\n",
      "        ...,\n",
      "        [1.8918],\n",
      "        [1.6508],\n",
      "        [1.8571]], grad_fn=<AddBackward0>)\n",
      "[1 0 0 ... 0 1 1]\n",
      "[1 0 1 ... 1 0 0]\n"
     ]
    },
    {
     "name": "stderr",
     "output_type": "stream",
     "text": [
      "\n"
     ]
    },
    {
     "name": "stdout",
     "output_type": "stream",
     "text": [
      "[0 0 1 ... 0 0 0]\n",
      "[1 1 1 ... 1 1 0]\n",
      "\n",
      "Epoch: 091, Loss: 4715.0356, Val: 0.6350, Test: 0.6358\n",
      "[0 0 1 ... 0 0 0]\n",
      "[1 1 1 ... 1 1 0]\n"
     ]
    },
    {
     "name": "stderr",
     "output_type": "stream",
     "text": [
      "\n",
      "  1%|          | 91/10000 [01:00<1:48:28,  1.52it/s]\u001b[A"
     ]
    },
    {
     "name": "stdout",
     "output_type": "stream",
     "text": [
      "[1 0 0 ... 0 1 1]\n",
      "[1 0 1 ... 1 0 0]\n"
     ]
    },
    {
     "name": "stderr",
     "output_type": "stream",
     "text": [
      "\n",
      "\n",
      "  0%|          | 0/4 [00:00<?, ?it/s]\u001b[A\u001b[A"
     ]
    },
    {
     "name": "stdout",
     "output_type": "stream",
     "text": [
      "tensor([[-0.2787],\n",
      "        [-0.2868],\n",
      "        [-0.2925],\n",
      "        ...,\n",
      "        [ 0.9620],\n",
      "        [ 0.9778],\n",
      "        [ 0.9617]], grad_fn=<AddBackward0>)\n"
     ]
    },
    {
     "name": "stderr",
     "output_type": "stream",
     "text": [
      "\n",
      "\n",
      " 50%|█████     | 2/4 [00:00<00:00,  9.32it/s]\u001b[A\u001b[A"
     ]
    },
    {
     "name": "stdout",
     "output_type": "stream",
     "text": [
      "tensor([[1.0271],\n",
      "        [1.0391],\n",
      "        [1.0677],\n",
      "        ...,\n",
      "        [0.7985],\n",
      "        [0.7927],\n",
      "        [0.7902]], grad_fn=<AddBackward0>)\n"
     ]
    },
    {
     "name": "stderr",
     "output_type": "stream",
     "text": [
      "\n",
      "\n",
      " 75%|███████▌  | 3/4 [00:00<00:00,  8.42it/s]\u001b[A\u001b[A"
     ]
    },
    {
     "name": "stdout",
     "output_type": "stream",
     "text": [
      "tensor([[0.0499],\n",
      "        [0.0488],\n",
      "        [0.0400],\n",
      "        ...,\n",
      "        [0.2415],\n",
      "        [0.2141],\n",
      "        [0.2315]], grad_fn=<AddBackward0>)\n"
     ]
    },
    {
     "name": "stderr",
     "output_type": "stream",
     "text": [
      "\r",
      "100%|██████████| 4/4 [00:00<00:00,  9.31it/s]"
     ]
    },
    {
     "name": "stdout",
     "output_type": "stream",
     "text": [
      "tensor([[ 0.3445],\n",
      "        [ 0.3651],\n",
      "        [ 0.3923],\n",
      "        ...,\n",
      "        [ 0.3577],\n",
      "        [-0.5728],\n",
      "        [-0.1012]], grad_fn=<AddBackward0>)\n",
      "[1 0 0 ... 0 1 1]\n",
      "[1 0 1 ... 1 0 0]\n",
      "[0 0 1 ... 0 0 0]\n",
      "[1 1 1 ... 1 1 0]\n",
      "\n",
      "Epoch: 092, Loss: 4665.8740, Val: 0.6359, Test: 0.6366\n",
      "[0 0 1 ... 0 0 0]\n",
      "[1 1 1 ... 1 1 0]\n",
      "[1 0 0 ... 0 1 1]\n",
      "[1 0 1 ... 1 0 0]\n"
     ]
    },
    {
     "name": "stderr",
     "output_type": "stream",
     "text": [
      "\n",
      "\n",
      "  1%|          | 92/10000 [01:01<1:50:55,  1.49it/s]\u001b[A\n",
      "\n",
      "  0%|          | 0/4 [00:00<?, ?it/s]\u001b[A\u001b[A\n",
      "\n",
      " 50%|█████     | 2/4 [00:00<00:00,  9.71it/s]\u001b[A\u001b[A"
     ]
    },
    {
     "name": "stdout",
     "output_type": "stream",
     "text": [
      "tensor([[0.1283],\n",
      "        [0.1045],\n",
      "        [0.0907],\n",
      "        ...,\n",
      "        [0.9612],\n",
      "        [0.9320],\n",
      "        [0.9746]], grad_fn=<AddBackward0>)\n",
      "tensor([[0.5353],\n",
      "        [0.7394],\n",
      "        [0.7438],\n",
      "        ...,\n",
      "        [0.2684],\n",
      "        [0.3118],\n",
      "        [0.2363]], grad_fn=<AddBackward0>)\n"
     ]
    },
    {
     "name": "stderr",
     "output_type": "stream",
     "text": [
      "\n",
      "\n",
      "100%|██████████| 4/4 [00:00<00:00, 10.26it/s]\u001b[A\u001b[A\n"
     ]
    },
    {
     "name": "stdout",
     "output_type": "stream",
     "text": [
      "tensor([[-0.5007],\n",
      "        [-0.4911],\n",
      "        [-0.6574],\n",
      "        ...,\n",
      "        [-1.6564],\n",
      "        [-1.5732],\n",
      "        [-1.6467]], grad_fn=<AddBackward0>)\n",
      "tensor([[-1.1412],\n",
      "        [-1.1198],\n",
      "        [-1.1106],\n",
      "        ...,\n",
      "        [-0.5967],\n",
      "        [-0.6202],\n",
      "        [-0.6041]], grad_fn=<AddBackward0>)\n",
      "[1 0 0 ... 0 1 1]\n",
      "[1 0 1 ... 1 0 0]\n",
      "[0 0 1 ... 0 0 0]\n",
      "[1 1 1 ... 1 1 0]\n",
      "\n",
      "Epoch: 093, Loss: 4528.8535, Val: 0.6365, Test: 0.6380\n",
      "[0 0 1 ... 0 0 0]\n",
      "[1 1 1 ... 1 1 0]\n",
      "[1 0 0 ... 0 1 1]\n",
      "[1 0 1 ... 1 0 0]\n"
     ]
    },
    {
     "name": "stderr",
     "output_type": "stream",
     "text": [
      "\n",
      "  1%|          | 93/10000 [01:01<1:44:00,  1.59it/s]\u001b[A\n",
      "\n",
      "  0%|          | 0/4 [00:00<?, ?it/s]\u001b[A\u001b[A\n",
      "\n",
      " 25%|██▌       | 1/4 [00:00<00:00,  9.52it/s]\u001b[A\u001b[A\n",
      "\n",
      " 50%|█████     | 2/4 [00:00<00:00,  9.17it/s]\u001b[A\u001b[A"
     ]
    },
    {
     "name": "stdout",
     "output_type": "stream",
     "text": [
      "tensor([[-0.3428],\n",
      "        [-0.3320],\n",
      "        [-0.7681],\n",
      "        ...,\n",
      "        [ 0.4084],\n",
      "        [-0.6374],\n",
      "        [ 0.5538]], grad_fn=<AddBackward0>)\n",
      "tensor([[-0.0759],\n",
      "        [-0.0847],\n",
      "        [-0.1434],\n",
      "        ...,\n",
      "        [ 1.5893],\n",
      "        [ 1.7047],\n",
      "        [ 1.6778]], grad_fn=<AddBackward0>)\n"
     ]
    },
    {
     "name": "stderr",
     "output_type": "stream",
     "text": [
      "\n",
      "\n",
      "100%|██████████| 4/4 [00:00<00:00,  9.94it/s]\u001b[A\u001b[A\n"
     ]
    },
    {
     "name": "stdout",
     "output_type": "stream",
     "text": [
      "tensor([[-1.8638],\n",
      "        [-0.9085],\n",
      "        [-2.0939],\n",
      "        ...,\n",
      "        [ 1.5161],\n",
      "        [ 1.4551],\n",
      "        [ 1.5480]], grad_fn=<AddBackward0>)\n",
      "tensor([[ 0.0636],\n",
      "        [-0.0087],\n",
      "        [-0.4736],\n",
      "        ...,\n",
      "        [ 0.4231],\n",
      "        [ 0.4339],\n",
      "        [ 0.4444]], grad_fn=<AddBackward0>)\n",
      "[1 0 0 ... 0 1 1]\n",
      "[1 0 1 ... 1 0 0]\n",
      "[0 0 1 ... 0 0 0]\n",
      "[1 1 1 ... 1 1 0]\n"
     ]
    },
    {
     "name": "stderr",
     "output_type": "stream",
     "text": [
      "\n",
      "  1%|          | 94/10000 [01:02<1:46:52,  1.54it/s]\u001b[A"
     ]
    },
    {
     "name": "stdout",
     "output_type": "stream",
     "text": [
      "\n",
      "Epoch: 094, Loss: 4576.7417, Val: 0.6382, Test: 0.6387\n",
      "[0 0 1 ... 0 0 0]\n",
      "[1 1 1 ... 1 1 0]\n",
      "[1 0 0 ... 0 1 1]\n",
      "[1 0 1 ... 1 0 0]\n"
     ]
    },
    {
     "name": "stderr",
     "output_type": "stream",
     "text": [
      "\n",
      "\n",
      "  0%|          | 0/4 [00:00<?, ?it/s]\u001b[A\u001b[A"
     ]
    },
    {
     "name": "stdout",
     "output_type": "stream",
     "text": [
      "tensor([[-0.1882],\n",
      "        [-0.1822],\n",
      "        [-0.1821],\n",
      "        ...,\n",
      "        [ 0.4929],\n",
      "        [ 0.4101],\n",
      "        [ 0.9607]], grad_fn=<AddBackward0>)\n"
     ]
    },
    {
     "name": "stderr",
     "output_type": "stream",
     "text": [
      "\n",
      "\n",
      " 50%|█████     | 2/4 [00:00<00:00,  9.44it/s]\u001b[A\u001b[A"
     ]
    },
    {
     "name": "stdout",
     "output_type": "stream",
     "text": [
      "tensor([[0.7642],\n",
      "        [0.7387],\n",
      "        [0.7565],\n",
      "        ...,\n",
      "        [0.1618],\n",
      "        [0.2477],\n",
      "        [0.1655]], grad_fn=<AddBackward0>)\n"
     ]
    },
    {
     "name": "stderr",
     "output_type": "stream",
     "text": [
      "\n",
      "\n",
      "100%|██████████| 4/4 [00:00<00:00, 10.21it/s]\u001b[A\u001b[A"
     ]
    },
    {
     "name": "stdout",
     "output_type": "stream",
     "text": [
      "tensor([[-0.7894],\n",
      "        [-0.7777],\n",
      "        [-0.8712],\n",
      "        ...,\n",
      "        [ 1.0793],\n",
      "        [ 1.0923],\n",
      "        [ 1.0747]], grad_fn=<AddBackward0>)\n",
      "tensor([[-0.4812],\n",
      "        [-0.3746],\n",
      "        [-0.4769],\n",
      "        ...,\n",
      "        [-0.5924],\n",
      "        [-0.6239],\n",
      "        [-0.5548]], grad_fn=<AddBackward0>)\n",
      "[1 0 0 ... 0 1 1]\n",
      "[1 0 1 ... 1 0 0]\n"
     ]
    },
    {
     "name": "stderr",
     "output_type": "stream",
     "text": [
      "\n"
     ]
    },
    {
     "name": "stdout",
     "output_type": "stream",
     "text": [
      "[0 0 1 ... 0 0 0]\n",
      "[1 1 1 ... 1 1 0]\n",
      "\n",
      "Epoch: 095, Loss: 4469.8179, Val: 0.6397, Test: 0.6393\n",
      "[0 0 1 ... 0 0 0]\n",
      "[1 1 1 ... 1 1 0]\n",
      "[1 0 0 ... 0 1 1]\n",
      "[1 0 1 ... 1 0 0]\n"
     ]
    },
    {
     "name": "stderr",
     "output_type": "stream",
     "text": [
      "\n",
      "  1%|          | 95/10000 [01:03<1:48:31,  1.52it/s]\u001b[A\n",
      "\n",
      "  0%|          | 0/4 [00:00<?, ?it/s]\u001b[A\u001b[A\n",
      "\n",
      " 50%|█████     | 2/4 [00:00<00:00,  9.71it/s]\u001b[A\u001b[A"
     ]
    },
    {
     "name": "stdout",
     "output_type": "stream",
     "text": [
      "tensor([[-0.1906],\n",
      "        [-0.1831],\n",
      "        [-0.0913],\n",
      "        ...,\n",
      "        [ 2.3894],\n",
      "        [ 2.3391],\n",
      "        [ 2.3451]], grad_fn=<AddBackward0>)\n",
      "tensor([[ 0.1462],\n",
      "        [-0.0269],\n",
      "        [ 0.1453],\n",
      "        ...,\n",
      "        [-0.5253],\n",
      "        [-0.8196],\n",
      "        [-0.8885]], grad_fn=<AddBackward0>)\n"
     ]
    },
    {
     "name": "stderr",
     "output_type": "stream",
     "text": [
      "\n",
      "\n",
      "100%|██████████| 4/4 [00:00<00:00, 10.05it/s]\u001b[A\u001b[A\n"
     ]
    },
    {
     "name": "stdout",
     "output_type": "stream",
     "text": [
      "tensor([[-0.3139],\n",
      "        [-0.3388],\n",
      "        [-0.3873],\n",
      "        ...,\n",
      "        [ 0.4032],\n",
      "        [ 0.9111],\n",
      "        [ 0.9451]], grad_fn=<AddBackward0>)\n",
      "tensor([[ 0.1880],\n",
      "        [ 0.1986],\n",
      "        [ 0.2915],\n",
      "        ...,\n",
      "        [-0.4705],\n",
      "        [-0.4144],\n",
      "        [-0.3839]], grad_fn=<AddBackward0>)\n",
      "[1 0 0 ... 0 1 1]\n",
      "[1 0 1 ... 1 0 0]\n",
      "[0 0 1 ... 0 0 0]\n",
      "[1 1 1 ... 1 1 0]\n",
      "\n",
      "Epoch: 096, Loss: 4409.8501, Val: 0.6399, Test: 0.6391\n",
      "[0 0 1 ... 0 0 0]\n",
      "[1 1 1 ... 1 1 0]\n",
      "[1 0 0 ... 0 1 1]\n",
      "[1 0 1 ... 1 0 0]\n"
     ]
    },
    {
     "name": "stderr",
     "output_type": "stream",
     "text": [
      "\n",
      "  1%|          | 96/10000 [01:03<1:42:42,  1.61it/s]\u001b[A\n",
      "\n",
      "  0%|          | 0/4 [00:00<?, ?it/s]\u001b[A\u001b[A\n",
      "\n",
      " 25%|██▌       | 1/4 [00:00<00:00,  8.87it/s]\u001b[A\u001b[A"
     ]
    },
    {
     "name": "stdout",
     "output_type": "stream",
     "text": [
      "tensor([[-1.4868],\n",
      "        [-1.5273],\n",
      "        [-1.4549],\n",
      "        ...,\n",
      "        [-1.0389],\n",
      "        [-0.5709],\n",
      "        [-0.5793]], grad_fn=<AddBackward0>)\n",
      "tensor([[-0.0537],\n",
      "        [-0.0857],\n",
      "        [-0.0693],\n",
      "        ...,\n",
      "        [-0.8622],\n",
      "        [-0.9059],\n",
      "        [-0.8486]], grad_fn=<AddBackward0>)\n"
     ]
    },
    {
     "name": "stderr",
     "output_type": "stream",
     "text": [
      "\n",
      "\n",
      "100%|██████████| 4/4 [00:00<00:00,  9.54it/s]\u001b[A\u001b[A"
     ]
    },
    {
     "name": "stdout",
     "output_type": "stream",
     "text": [
      "tensor([[1.1902],\n",
      "        [1.1849],\n",
      "        [1.1965],\n",
      "        ...,\n",
      "        [0.1356],\n",
      "        [0.2112],\n",
      "        [0.1015]], grad_fn=<AddBackward0>)\n",
      "tensor([[0.1772],\n",
      "        [0.1437],\n",
      "        [0.1408],\n",
      "        ...,\n",
      "        [0.5925],\n",
      "        [0.6320],\n",
      "        [0.7380]], grad_fn=<AddBackward0>)\n",
      "[1 0 0 ... 0 1 1]\n",
      "[1 0 1 ... 1 0 0]\n",
      "[0 0 1 ... 0 0 0]\n",
      "[1 1 1 ... 1 1 0]\n"
     ]
    },
    {
     "name": "stderr",
     "output_type": "stream",
     "text": [
      "\n",
      "\n",
      "  1%|          | 97/10000 [01:04<1:46:41,  1.55it/s]\u001b[A"
     ]
    },
    {
     "name": "stdout",
     "output_type": "stream",
     "text": [
      "\n",
      "Epoch: 097, Loss: 4219.8643, Val: 0.6411, Test: 0.6395\n",
      "[0 0 1 ... 0 0 0]\n",
      "[1 1 1 ... 1 1 0]\n",
      "[1 0 0 ... 0 1 1]\n",
      "[1 0 1 ... 1 0 0]\n"
     ]
    },
    {
     "name": "stderr",
     "output_type": "stream",
     "text": [
      "\n",
      "\n",
      "  0%|          | 0/4 [00:00<?, ?it/s]\u001b[A\u001b[A"
     ]
    },
    {
     "name": "stdout",
     "output_type": "stream",
     "text": [
      "tensor([[-0.6819],\n",
      "        [-0.5199],\n",
      "        [-0.5019],\n",
      "        ...,\n",
      "        [-0.5780],\n",
      "        [-0.5710],\n",
      "        [-0.5737]], grad_fn=<AddBackward0>)\n"
     ]
    },
    {
     "name": "stderr",
     "output_type": "stream",
     "text": [
      "\n",
      "\n",
      " 25%|██▌       | 1/4 [00:00<00:00,  8.82it/s]\u001b[A\u001b[A\n",
      "\n",
      " 50%|█████     | 2/4 [00:00<00:00,  8.68it/s]\u001b[A\u001b[A"
     ]
    },
    {
     "name": "stdout",
     "output_type": "stream",
     "text": [
      "tensor([[0.3840],\n",
      "        [0.3747],\n",
      "        [0.4185],\n",
      "        ...,\n",
      "        [0.2258],\n",
      "        [0.1526],\n",
      "        [0.2444]], grad_fn=<AddBackward0>)\n"
     ]
    },
    {
     "name": "stderr",
     "output_type": "stream",
     "text": [
      "\n",
      "\n",
      "100%|██████████| 4/4 [00:00<00:00,  9.53it/s]\u001b[A\u001b[A"
     ]
    },
    {
     "name": "stdout",
     "output_type": "stream",
     "text": [
      "tensor([[-0.2771],\n",
      "        [-0.2675],\n",
      "        [-0.2528],\n",
      "        ...,\n",
      "        [ 0.9984],\n",
      "        [ 1.1352],\n",
      "        [ 1.1506]], grad_fn=<AddBackward0>)\n",
      "tensor([[-1.2417],\n",
      "        [-1.2563],\n",
      "        [-1.3468],\n",
      "        ...,\n",
      "        [ 1.0001],\n",
      "        [ 0.9313],\n",
      "        [ 1.0309]], grad_fn=<AddBackward0>)\n",
      "[1 0 0 ... 0 1 1]\n",
      "[1 0 1 ... 1 0 0]\n"
     ]
    },
    {
     "name": "stderr",
     "output_type": "stream",
     "text": [
      "\n"
     ]
    },
    {
     "name": "stdout",
     "output_type": "stream",
     "text": [
      "[0 0 1 ... 0 0 0]\n",
      "[1 1 1 ... 1 1 0]\n",
      "\n",
      "Epoch: 098, Loss: 4219.7388, Val: 0.6418, Test: 0.6407\n",
      "[0 0 1 ... 0 0 0]\n",
      "[1 1 1 ... 1 1 0]\n",
      "[1 0 0 ... 0 1 1]"
     ]
    },
    {
     "name": "stderr",
     "output_type": "stream",
     "text": [
      "\n",
      "  1%|          | 98/10000 [01:04<1:49:46,  1.50it/s]\u001b[A"
     ]
    },
    {
     "name": "stdout",
     "output_type": "stream",
     "text": [
      "\n",
      "[1 0 1 ... 1 0 0]\n"
     ]
    },
    {
     "name": "stderr",
     "output_type": "stream",
     "text": [
      "\n",
      "\n",
      "  0%|          | 0/4 [00:00<?, ?it/s]\u001b[A\u001b[A\n",
      "\n",
      " 25%|██▌       | 1/4 [00:00<00:00,  9.56it/s]\u001b[A\u001b[A"
     ]
    },
    {
     "name": "stdout",
     "output_type": "stream",
     "text": [
      "tensor([[0.1770],\n",
      "        [0.1532],\n",
      "        [0.2015],\n",
      "        ...,\n",
      "        [0.0293],\n",
      "        [0.0654],\n",
      "        [0.0830]], grad_fn=<AddBackward0>)\n"
     ]
    },
    {
     "name": "stderr",
     "output_type": "stream",
     "text": [
      "\n",
      "\n",
      " 50%|█████     | 2/4 [00:00<00:00,  9.64it/s]\u001b[A\u001b[A"
     ]
    },
    {
     "name": "stdout",
     "output_type": "stream",
     "text": [
      "tensor([[-0.0949],\n",
      "        [-0.3130],\n",
      "        [-0.0444],\n",
      "        ...,\n",
      "        [-0.7011],\n",
      "        [-0.7075],\n",
      "        [-0.7229]], grad_fn=<AddBackward0>)\n"
     ]
    },
    {
     "name": "stderr",
     "output_type": "stream",
     "text": [
      "\n",
      "\n",
      " 75%|███████▌  | 3/4 [00:00<00:00,  8.90it/s]\u001b[A\u001b[A"
     ]
    },
    {
     "name": "stdout",
     "output_type": "stream",
     "text": [
      "tensor([[ 0.0189],\n",
      "        [ 0.0168],\n",
      "        [ 0.0175],\n",
      "        ...,\n",
      "        [-0.3215],\n",
      "        [-0.3327],\n",
      "        [-0.3303]], grad_fn=<AddBackward0>)\n"
     ]
    },
    {
     "name": "stderr",
     "output_type": "stream",
     "text": [
      "\r",
      "100%|██████████| 4/4 [00:00<00:00,  9.52it/s]"
     ]
    },
    {
     "name": "stdout",
     "output_type": "stream",
     "text": [
      "tensor([[ 2.0507],\n",
      "        [ 2.0404],\n",
      "        [ 2.0176],\n",
      "        ...,\n",
      "        [-0.0935],\n",
      "        [-0.0772],\n",
      "        [-0.0979]], grad_fn=<AddBackward0>)\n",
      "[1 0 0 ... 0 1 1]\n",
      "[1 0 1 ... 1 0 0]\n",
      "[0 0 1 ... 0 0 0]\n",
      "[1 1 1 ... 1 1 0]\n",
      "\n",
      "Epoch: 099, Loss: 4135.4614, Val: 0.6430, Test: 0.6406\n",
      "[0 0 1 ... 0 0 0]\n",
      "[1 1 1 ... 1 1 0]\n",
      "[1 0 0 ... 0 1 1]\n",
      "[1 0 1 ... 1 0 0]\n"
     ]
    },
    {
     "name": "stderr",
     "output_type": "stream",
     "text": [
      "\n",
      "\n",
      "  1%|          | 99/10000 [01:05<1:44:33,  1.58it/s]\u001b[A\n",
      "\n",
      "  0%|          | 0/4 [00:00<?, ?it/s]\u001b[A\u001b[A\n",
      "\n",
      " 50%|█████     | 2/4 [00:00<00:00,  9.92it/s]\u001b[A\u001b[A"
     ]
    },
    {
     "name": "stdout",
     "output_type": "stream",
     "text": [
      "tensor([[-0.5128],\n",
      "        [-0.4939],\n",
      "        [-0.5101],\n",
      "        ...,\n",
      "        [ 0.8612],\n",
      "        [ 0.8577],\n",
      "        [ 0.8065]], grad_fn=<AddBackward0>)\n",
      "tensor([[-0.3593],\n",
      "        [-0.3688],\n",
      "        [-0.3951],\n",
      "        ...,\n",
      "        [ 0.4302],\n",
      "        [ 0.8832],\n",
      "        [ 0.5042]], grad_fn=<AddBackward0>)\n"
     ]
    },
    {
     "name": "stderr",
     "output_type": "stream",
     "text": [
      "\n",
      "\n",
      "100%|██████████| 4/4 [00:00<00:00,  9.51it/s]\u001b[A\u001b[A"
     ]
    },
    {
     "name": "stdout",
     "output_type": "stream",
     "text": [
      "tensor([[-0.6355],\n",
      "        [-0.6003],\n",
      "        [-0.6112],\n",
      "        ...,\n",
      "        [ 1.1373],\n",
      "        [ 1.1819],\n",
      "        [ 1.2961]], grad_fn=<AddBackward0>)\n",
      "tensor([[-0.0624],\n",
      "        [-0.0522],\n",
      "        [-0.0632],\n",
      "        ...,\n",
      "        [ 0.6117],\n",
      "        [ 0.6343],\n",
      "        [ 0.8974]], grad_fn=<AddBackward0>)\n",
      "[1 0 0 ... 0 1 1]\n",
      "[1 0 1 ... 1 0 0]\n"
     ]
    },
    {
     "name": "stderr",
     "output_type": "stream",
     "text": [
      "\n",
      "\n",
      "  1%|          | 100/10000 [01:06<1:49:07,  1.51it/s]\u001b[A"
     ]
    },
    {
     "name": "stdout",
     "output_type": "stream",
     "text": [
      "[0 0 1 ... 0 0 0]\n",
      "[1 1 1 ... 1 1 0]\n",
      "\n",
      "Epoch: 100, Loss: 4080.9299, Val: 0.6438, Test: 0.6422\n",
      "[0 0 1 ... 0 0 0]\n",
      "[1 1 1 ... 1 1 0]\n",
      "[1 0 0 ... 0 1 1]\n",
      "[1 0 1 ... 1 0 0]\n"
     ]
    },
    {
     "name": "stderr",
     "output_type": "stream",
     "text": [
      "\n",
      "\n",
      "  0%|          | 0/4 [00:00<?, ?it/s]\u001b[A\u001b[A\n",
      "\n",
      " 50%|█████     | 2/4 [00:00<00:00,  9.82it/s]\u001b[A\u001b[A"
     ]
    },
    {
     "name": "stdout",
     "output_type": "stream",
     "text": [
      "tensor([[0.2038],\n",
      "        [0.2227],\n",
      "        [0.2078],\n",
      "        ...,\n",
      "        [0.5070],\n",
      "        [0.2799],\n",
      "        [0.2710]], grad_fn=<AddBackward0>)\n",
      "tensor([[-1.5991],\n",
      "        [-1.2217],\n",
      "        [-1.1917],\n",
      "        ...,\n",
      "        [-0.2863],\n",
      "        [-0.2758],\n",
      "        [-0.2888]], grad_fn=<AddBackward0>)\n"
     ]
    },
    {
     "name": "stderr",
     "output_type": "stream",
     "text": [
      "\n",
      "\n",
      " 75%|███████▌  | 3/4 [00:00<00:00,  9.57it/s]\u001b[A\u001b[A\n",
      "\n",
      "100%|██████████| 4/4 [00:00<00:00,  9.31it/s]\u001b[A\u001b[A"
     ]
    },
    {
     "name": "stdout",
     "output_type": "stream",
     "text": [
      "tensor([[-1.7199],\n",
      "        [-1.5204],\n",
      "        [-1.4897],\n",
      "        ...,\n",
      "        [ 0.3701],\n",
      "        [ 0.4733],\n",
      "        [ 0.4715]], grad_fn=<AddBackward0>)\n",
      "tensor([[ 0.2918],\n",
      "        [ 0.2899],\n",
      "        [ 0.2973],\n",
      "        ...,\n",
      "        [-0.6232],\n",
      "        [-0.6259],\n",
      "        [-0.6058]], grad_fn=<AddBackward0>)\n",
      "[1 0 0 ... 0 1 1]\n",
      "[1 0 1 ... 1 0 0]\n",
      "[0 0 1 ... 0 0 0]\n",
      "[1 1 1 ... 1 1 0]\n",
      "\n",
      "Epoch: 101, Loss: 3956.5518, Val: 0.6449, Test: 0.6439\n",
      "[0 0 1 ... 0 0 0]\n",
      "[1 1 1 ... 1 1 0]\n"
     ]
    },
    {
     "name": "stderr",
     "output_type": "stream",
     "text": [
      "\n",
      "\n",
      "  1%|          | 101/10000 [01:06<1:52:33,  1.47it/s]\u001b[A"
     ]
    },
    {
     "name": "stdout",
     "output_type": "stream",
     "text": [
      "[1 0 0 ... 0 1 1]\n",
      "[1 0 1 ... 1 0 0]\n"
     ]
    },
    {
     "name": "stderr",
     "output_type": "stream",
     "text": [
      "\n",
      "\n",
      "  0%|          | 0/4 [00:00<?, ?it/s]\u001b[A\u001b[A"
     ]
    },
    {
     "name": "stdout",
     "output_type": "stream",
     "text": [
      "tensor([[2.3315],\n",
      "        [2.3386],\n",
      "        [2.3415],\n",
      "        ...,\n",
      "        [0.4380],\n",
      "        [0.4067],\n",
      "        [0.4317]], grad_fn=<AddBackward0>)\n"
     ]
    },
    {
     "name": "stderr",
     "output_type": "stream",
     "text": [
      "\n",
      "\n",
      " 50%|█████     | 2/4 [00:00<00:00,  9.85it/s]\u001b[A\u001b[A"
     ]
    },
    {
     "name": "stdout",
     "output_type": "stream",
     "text": [
      "tensor([[-1.0482],\n",
      "        [-1.0593],\n",
      "        [-1.0409],\n",
      "        ...,\n",
      "        [ 0.1158],\n",
      "        [ 0.1006],\n",
      "        [ 0.1264]], grad_fn=<AddBackward0>)\n"
     ]
    },
    {
     "name": "stderr",
     "output_type": "stream",
     "text": [
      "\n",
      "\n",
      "100%|██████████| 4/4 [00:00<00:00, 10.09it/s]\u001b[A\u001b[A"
     ]
    },
    {
     "name": "stdout",
     "output_type": "stream",
     "text": [
      "tensor([[ 0.2355],\n",
      "        [ 0.3918],\n",
      "        [ 0.4334],\n",
      "        ...,\n",
      "        [-1.0055],\n",
      "        [-0.9674],\n",
      "        [-0.9229]], grad_fn=<AddBackward0>)\n",
      "tensor([[0.2896],\n",
      "        [0.2968],\n",
      "        [0.3142],\n",
      "        ...,\n",
      "        [0.8227],\n",
      "        [0.8223],\n",
      "        [0.8223]], grad_fn=<AddBackward0>)\n"
     ]
    },
    {
     "name": "stderr",
     "output_type": "stream",
     "text": [
      "\n"
     ]
    },
    {
     "name": "stdout",
     "output_type": "stream",
     "text": [
      "[1 0 0 ... 0 1 1]\n",
      "[1 0 1 ... 1 0 0]\n",
      "[0 0 1 ... 0 0 0]\n",
      "[1 1 1 ... 1 1 0]\n",
      "\n",
      "Epoch: 102, Loss: 3896.9065, Val: 0.6462, Test: 0.6447\n",
      "[0 0 1 ... 0 0 0]\n",
      "[1 1 1 ... 1 1 0]\n"
     ]
    },
    {
     "name": "stderr",
     "output_type": "stream",
     "text": [
      "\n",
      "  1%|          | 102/10000 [01:07<1:46:36,  1.55it/s]\u001b[A"
     ]
    },
    {
     "name": "stdout",
     "output_type": "stream",
     "text": [
      "[1 0 0 ... 0 1 1]\n",
      "[1 0 1 ... 1 0 0]\n"
     ]
    },
    {
     "name": "stderr",
     "output_type": "stream",
     "text": [
      "\n",
      "\n",
      "  0%|          | 0/4 [00:00<?, ?it/s]\u001b[A\u001b[A"
     ]
    },
    {
     "name": "stdout",
     "output_type": "stream",
     "text": [
      "tensor([[-0.3221],\n",
      "        [-0.3323],\n",
      "        [-0.3178],\n",
      "        ...,\n",
      "        [ 0.1239],\n",
      "        [ 0.1192],\n",
      "        [ 0.1137]], grad_fn=<AddBackward0>)\n"
     ]
    },
    {
     "name": "stderr",
     "output_type": "stream",
     "text": [
      "\n",
      "\n",
      " 50%|█████     | 2/4 [00:00<00:00, 11.69it/s]\u001b[A\u001b[A"
     ]
    },
    {
     "name": "stdout",
     "output_type": "stream",
     "text": [
      "tensor([[-0.3521],\n",
      "        [-0.3727],\n",
      "        [-0.3540],\n",
      "        ...,\n",
      "        [ 0.4790],\n",
      "        [ 0.2844],\n",
      "        [ 0.2535]], grad_fn=<AddBackward0>)\n",
      "tensor([[0.9197],\n",
      "        [0.9481],\n",
      "        [0.9458],\n",
      "        ...,\n",
      "        [0.8469],\n",
      "        [0.7924],\n",
      "        [0.8881]], grad_fn=<AddBackward0>)\n"
     ]
    },
    {
     "name": "stderr",
     "output_type": "stream",
     "text": [
      "\n",
      "\n",
      "100%|██████████| 4/4 [00:00<00:00, 10.35it/s]\u001b[A\u001b[A"
     ]
    },
    {
     "name": "stdout",
     "output_type": "stream",
     "text": [
      "tensor([[ 0.9895],\n",
      "        [ 1.0157],\n",
      "        [ 0.8885],\n",
      "        ...,\n",
      "        [-1.1401],\n",
      "        [-1.0655],\n",
      "        [-1.0717]], grad_fn=<AddBackward0>)\n",
      "[1 0 0 ... 0 1 1]\n",
      "[1 0 1 ... 1 0 0]\n",
      "[0 0 1 ... 0 0 0]\n",
      "[1 1 1 ... 1 1 0]\n"
     ]
    },
    {
     "name": "stderr",
     "output_type": "stream",
     "text": [
      "\n",
      "\n",
      "  1%|          | 103/10000 [01:08<1:48:02,  1.53it/s]\u001b[A"
     ]
    },
    {
     "name": "stdout",
     "output_type": "stream",
     "text": [
      "\n",
      "Epoch: 103, Loss: 3844.4646, Val: 0.6468, Test: 0.6468\n",
      "[0 0 1 ... 0 0 0]\n",
      "[1 1 1 ... 1 1 0]\n",
      "[1 0 0 ... 0 1 1]\n",
      "[1 0 1 ... 1 0 0]\n"
     ]
    },
    {
     "name": "stderr",
     "output_type": "stream",
     "text": [
      "\n",
      "\n",
      "  0%|          | 0/4 [00:00<?, ?it/s]\u001b[A\u001b[A"
     ]
    },
    {
     "name": "stdout",
     "output_type": "stream",
     "text": [
      "tensor([[-0.6036],\n",
      "        [-0.5226],\n",
      "        [-0.4097],\n",
      "        ...,\n",
      "        [-0.0439],\n",
      "        [-0.0554],\n",
      "        [-0.0557]], grad_fn=<AddBackward0>)\n"
     ]
    },
    {
     "name": "stderr",
     "output_type": "stream",
     "text": [
      "\n",
      "\n",
      " 25%|██▌       | 1/4 [00:00<00:00,  7.96it/s]\u001b[A\u001b[A\n",
      "\n",
      " 50%|█████     | 2/4 [00:00<00:00,  7.46it/s]\u001b[A\u001b[A"
     ]
    },
    {
     "name": "stdout",
     "output_type": "stream",
     "text": [
      "tensor([[0.1869],\n",
      "        [0.1868],\n",
      "        [0.1904],\n",
      "        ...,\n",
      "        [0.2302],\n",
      "        [0.5821],\n",
      "        [0.2451]], grad_fn=<AddBackward0>)\n"
     ]
    },
    {
     "name": "stderr",
     "output_type": "stream",
     "text": [
      "\n",
      "\n",
      "100%|██████████| 4/4 [00:00<00:00,  8.84it/s]\u001b[A\u001b[A"
     ]
    },
    {
     "name": "stdout",
     "output_type": "stream",
     "text": [
      "tensor([[1.0190],\n",
      "        [1.0140],\n",
      "        [1.0199],\n",
      "        ...,\n",
      "        [0.8889],\n",
      "        [0.8846],\n",
      "        [0.8979]], grad_fn=<AddBackward0>)\n",
      "tensor([[ 0.1451],\n",
      "        [ 0.0266],\n",
      "        [ 0.2252],\n",
      "        ...,\n",
      "        [-0.1755],\n",
      "        [-0.1299],\n",
      "        [-0.1804]], grad_fn=<AddBackward0>)\n",
      "[1 0 0 ... 0 1 1]\n",
      "[1 0 1 ... 1 0 0]\n"
     ]
    },
    {
     "name": "stderr",
     "output_type": "stream",
     "text": [
      "\n"
     ]
    },
    {
     "name": "stdout",
     "output_type": "stream",
     "text": [
      "[0 0 1 ... 0 0 0]\n",
      "[1 1 1 ... 1 1 0]\n",
      "\n",
      "Epoch: 104, Loss: 3835.1165, Val: 0.6475, Test: 0.6483\n",
      "[0 0 1 ... 0 0 0]\n",
      "[1 1 1 ... 1 1 0]\n"
     ]
    },
    {
     "name": "stderr",
     "output_type": "stream",
     "text": [
      "\n",
      "  1%|          | 104/10000 [01:08<1:52:52,  1.46it/s]\u001b[A"
     ]
    },
    {
     "name": "stdout",
     "output_type": "stream",
     "text": [
      "[1 0 0 ... 0 1 1]\n",
      "[1 0 1 ... 1 0 0]\n"
     ]
    },
    {
     "name": "stderr",
     "output_type": "stream",
     "text": [
      "\n",
      "\n",
      "  0%|          | 0/4 [00:00<?, ?it/s]\u001b[A\u001b[A\n",
      "\n",
      " 25%|██▌       | 1/4 [00:00<00:00,  9.72it/s]\u001b[A\u001b[A"
     ]
    },
    {
     "name": "stdout",
     "output_type": "stream",
     "text": [
      "tensor([[0.5434],\n",
      "        [0.5217],\n",
      "        [0.5704],\n",
      "        ...,\n",
      "        [1.7533],\n",
      "        [1.7099],\n",
      "        [1.5301]], grad_fn=<AddBackward0>)\n"
     ]
    },
    {
     "name": "stderr",
     "output_type": "stream",
     "text": [
      "\n",
      "\n",
      " 50%|█████     | 2/4 [00:00<00:00,  9.35it/s]\u001b[A\u001b[A"
     ]
    },
    {
     "name": "stdout",
     "output_type": "stream",
     "text": [
      "tensor([[-1.5497],\n",
      "        [-1.5501],\n",
      "        [-1.5215],\n",
      "        ...,\n",
      "        [ 0.6792],\n",
      "        [ 0.3310],\n",
      "        [ 0.6766]], grad_fn=<AddBackward0>)\n",
      "tensor([[0.1897],\n",
      "        [0.2658],\n",
      "        [0.2488],\n",
      "        ...,\n",
      "        [1.7475],\n",
      "        [1.6991],\n",
      "        [1.7314]], grad_fn=<AddBackward0>)\n"
     ]
    },
    {
     "name": "stderr",
     "output_type": "stream",
     "text": [
      "\n",
      "\n",
      "100%|██████████| 4/4 [00:00<00:00, 10.20it/s]\u001b[A\u001b[A"
     ]
    },
    {
     "name": "stdout",
     "output_type": "stream",
     "text": [
      "tensor([[1.0912],\n",
      "        [1.0796],\n",
      "        [1.1775],\n",
      "        ...,\n",
      "        [0.7841],\n",
      "        [0.6979],\n",
      "        [0.7150]], grad_fn=<AddBackward0>)\n",
      "[1 0 0 ... 0 1 1]\n",
      "[1 0 1 ... 1 0 0]\n"
     ]
    },
    {
     "name": "stderr",
     "output_type": "stream",
     "text": [
      "\n"
     ]
    },
    {
     "name": "stdout",
     "output_type": "stream",
     "text": [
      "[0 0 1 ... 0 0 0]\n",
      "[1 1 1 ... 1 1 0]\n",
      "\n",
      "Epoch: 105, Loss: 3728.3877, Val: 0.6477, Test: 0.6492\n",
      "[0 0 1 ... 0 0 0]\n",
      "[1 1 1 ... 1 1 0]\n",
      "[1 0 0 ... 0 1 1]\n",
      "[1 0 1 ... 1 0 0]\n"
     ]
    },
    {
     "name": "stderr",
     "output_type": "stream",
     "text": [
      "\n",
      "  1%|          | 105/10000 [01:09<1:56:15,  1.42it/s]\u001b[A\n",
      "\n",
      "  0%|          | 0/4 [00:00<?, ?it/s]\u001b[A\u001b[A\n",
      "\n",
      " 25%|██▌       | 1/4 [00:00<00:00,  7.49it/s]\u001b[A\u001b[A\n",
      "\n",
      " 50%|█████     | 2/4 [00:00<00:00,  6.80it/s]\u001b[A\u001b[A"
     ]
    },
    {
     "name": "stdout",
     "output_type": "stream",
     "text": [
      "tensor([[-0.7422],\n",
      "        [-0.8872],\n",
      "        [-0.8453],\n",
      "        ...,\n",
      "        [-0.4340],\n",
      "        [-0.4662],\n",
      "        [-0.4105]], grad_fn=<AddBackward0>)\n",
      "tensor([[0.3195],\n",
      "        [0.3538],\n",
      "        [0.3186],\n",
      "        ...,\n",
      "        [0.6602],\n",
      "        [0.6440],\n",
      "        [0.6794]], grad_fn=<AddBackward0>)\n"
     ]
    },
    {
     "name": "stderr",
     "output_type": "stream",
     "text": [
      "\n",
      "\n",
      " 75%|███████▌  | 3/4 [00:00<00:00,  6.19it/s]\u001b[A\u001b[A\n",
      "\n",
      "100%|██████████| 4/4 [00:00<00:00,  6.56it/s]\u001b[A\u001b[A"
     ]
    },
    {
     "name": "stdout",
     "output_type": "stream",
     "text": [
      "tensor([[2.1659],\n",
      "        [2.1451],\n",
      "        [2.1130],\n",
      "        ...,\n",
      "        [0.2772],\n",
      "        [0.2810],\n",
      "        [0.2232]], grad_fn=<AddBackward0>)\n",
      "tensor([[1.8902],\n",
      "        [2.0932],\n",
      "        [2.0479],\n",
      "        ...,\n",
      "        [0.6941],\n",
      "        [0.7723],\n",
      "        [0.7710]], grad_fn=<AddBackward0>)\n",
      "[1 0 0 ... 0 1 1]\n",
      "[1 0 1 ... 1 0 0]\n",
      "[0 0 1 ... 0 0 0]\n",
      "[1 1 1 ... 1 1 0]\n"
     ]
    },
    {
     "name": "stderr",
     "output_type": "stream",
     "text": [
      "\n",
      "\n",
      "  1%|          | 106/10000 [01:10<1:58:46,  1.39it/s]\u001b[A"
     ]
    },
    {
     "name": "stdout",
     "output_type": "stream",
     "text": [
      "\n",
      "Epoch: 106, Loss: 3737.2068, Val: 0.6490, Test: 0.6497\n",
      "[0 0 1 ... 0 0 0]\n",
      "[1 1 1 ... 1 1 0]\n",
      "[1 0 0 ... 0 1 1]\n",
      "[1 0 1 ... 1 0 0]\n"
     ]
    },
    {
     "name": "stderr",
     "output_type": "stream",
     "text": [
      "\n",
      "\n",
      "  0%|          | 0/4 [00:00<?, ?it/s]\u001b[A\u001b[A\n",
      "\n",
      " 25%|██▌       | 1/4 [00:00<00:00,  7.08it/s]\u001b[A\u001b[A\n",
      "\n",
      " 50%|█████     | 2/4 [00:00<00:00,  6.77it/s]\u001b[A\u001b[A"
     ]
    },
    {
     "name": "stdout",
     "output_type": "stream",
     "text": [
      "tensor([[0.8482],\n",
      "        [0.8661],\n",
      "        [0.8590],\n",
      "        ...,\n",
      "        [0.7889],\n",
      "        [0.5915],\n",
      "        [0.5398]], grad_fn=<AddBackward0>)\n",
      "tensor([[-1.0300],\n",
      "        [-1.0521],\n",
      "        [-1.0311],\n",
      "        ...,\n",
      "        [ 0.3858],\n",
      "        [ 0.3804],\n",
      "        [ 0.3019]], grad_fn=<AddBackward0>)\n"
     ]
    },
    {
     "name": "stderr",
     "output_type": "stream",
     "text": [
      "\n",
      "\n",
      " 75%|███████▌  | 3/4 [00:00<00:00,  6.51it/s]\u001b[A\u001b[A\n",
      "\n",
      "100%|██████████| 4/4 [00:00<00:00,  6.73it/s]\u001b[A\u001b[A"
     ]
    },
    {
     "name": "stdout",
     "output_type": "stream",
     "text": [
      "tensor([[ 1.0570],\n",
      "        [ 1.1400],\n",
      "        [ 1.1391],\n",
      "        ...,\n",
      "        [-0.1375],\n",
      "        [-0.1452],\n",
      "        [-0.1369]], grad_fn=<AddBackward0>)\n",
      "tensor([[0.6960],\n",
      "        [0.7754],\n",
      "        [0.8280],\n",
      "        ...,\n",
      "        [0.1201],\n",
      "        [0.2206],\n",
      "        [0.1890]], grad_fn=<AddBackward0>)\n",
      "[1 0 0 ... 0 1 1]\n",
      "[1 0 1 ... 1 0 0]\n",
      "[0 0 1 ... 0 0 0]\n",
      "[1 1 1 ... 1 1 0]\n"
     ]
    },
    {
     "name": "stderr",
     "output_type": "stream",
     "text": [
      "\n",
      "\n",
      "  1%|          | 107/10000 [01:11<2:08:59,  1.28it/s]\u001b[A"
     ]
    },
    {
     "name": "stdout",
     "output_type": "stream",
     "text": [
      "\n",
      "Epoch: 107, Loss: 3632.6487, Val: 0.6494, Test: 0.6501\n",
      "[0 0 1 ... 0 0 0]\n",
      "[1 1 1 ... 1 1 0]\n",
      "[1 0 0 ... 0 1 1]\n",
      "[1 0 1 ... 1 0 0]\n"
     ]
    },
    {
     "name": "stderr",
     "output_type": "stream",
     "text": [
      "\n",
      "\n",
      "  0%|          | 0/4 [00:00<?, ?it/s]\u001b[A\u001b[A\n",
      "\n",
      " 25%|██▌       | 1/4 [00:00<00:00,  8.00it/s]\u001b[A\u001b[A"
     ]
    },
    {
     "name": "stdout",
     "output_type": "stream",
     "text": [
      "tensor([[ 0.2933],\n",
      "        [ 0.3135],\n",
      "        [ 0.3151],\n",
      "        ...,\n",
      "        [-0.1187],\n",
      "        [-0.1925],\n",
      "        [-0.1277]], grad_fn=<AddBackward0>)\n"
     ]
    },
    {
     "name": "stderr",
     "output_type": "stream",
     "text": [
      "\n",
      "\n",
      " 50%|█████     | 2/4 [00:00<00:00,  8.26it/s]\u001b[A\u001b[A"
     ]
    },
    {
     "name": "stdout",
     "output_type": "stream",
     "text": [
      "tensor([[0.4598],\n",
      "        [0.3667],\n",
      "        [0.2056],\n",
      "        ...,\n",
      "        [2.3155],\n",
      "        [2.2996],\n",
      "        [2.3085]], grad_fn=<AddBackward0>)\n"
     ]
    },
    {
     "name": "stderr",
     "output_type": "stream",
     "text": [
      "\n",
      "\n",
      " 75%|███████▌  | 3/4 [00:00<00:00,  8.68it/s]\u001b[A\u001b[A"
     ]
    },
    {
     "name": "stdout",
     "output_type": "stream",
     "text": [
      "tensor([[0.6489],\n",
      "        [0.5238],\n",
      "        [0.5217],\n",
      "        ...,\n",
      "        [0.6586],\n",
      "        [0.8623],\n",
      "        [0.6709]], grad_fn=<AddBackward0>)\n"
     ]
    },
    {
     "name": "stderr",
     "output_type": "stream",
     "text": [
      "100%|██████████| 4/4 [00:00<00:00,  9.11it/s]\n"
     ]
    },
    {
     "name": "stdout",
     "output_type": "stream",
     "text": [
      "tensor([[ 0.2930],\n",
      "        [ 0.2848],\n",
      "        [ 0.2913],\n",
      "        ...,\n",
      "        [-0.4517],\n",
      "        [-0.4082],\n",
      "        [-0.4101]], grad_fn=<AddBackward0>)\n",
      "[1 0 0 ... 0 1 1]\n",
      "[1 0 1 ... 1 0 0]\n",
      "[0 0 1 ... 0 0 0]\n",
      "[1 1 1 ... 1 1 0]\n",
      "\n",
      "Epoch: 108, Loss: 3524.4553, Val: 0.6504, Test: 0.6505\n",
      "[0 0 1 ... 0 0 0]\n",
      "[1 1 1 ... 1 1 0]\n",
      "[1 0 0 ... 0 1 1]\n",
      "[1 0 1 ... 1 0 0]\n"
     ]
    },
    {
     "name": "stderr",
     "output_type": "stream",
     "text": [
      "\n",
      "  1%|          | 108/10000 [01:12<2:07:09,  1.30it/s]\u001b[A\n",
      "\n",
      "  0%|          | 0/4 [00:00<?, ?it/s]\u001b[A\u001b[A\n",
      "\n",
      " 25%|██▌       | 1/4 [00:00<00:00,  8.58it/s]\u001b[A\u001b[A\n",
      "\n",
      " 50%|█████     | 2/4 [00:00<00:00,  8.93it/s]\u001b[A\u001b[A"
     ]
    },
    {
     "name": "stdout",
     "output_type": "stream",
     "text": [
      "tensor([[-0.5134],\n",
      "        [-0.6571],\n",
      "        [-0.5392],\n",
      "        ...,\n",
      "        [ 0.9072],\n",
      "        [ 0.8886],\n",
      "        [ 0.8827]], grad_fn=<AddBackward0>)\n",
      "tensor([[-0.4567],\n",
      "        [-0.4813],\n",
      "        [-0.4525],\n",
      "        ...,\n",
      "        [ 0.2206],\n",
      "        [ 0.2191],\n",
      "        [ 0.0782]], grad_fn=<AddBackward0>)\n"
     ]
    },
    {
     "name": "stderr",
     "output_type": "stream",
     "text": [
      "\n",
      "\n",
      "100%|██████████| 4/4 [00:00<00:00,  9.08it/s]\u001b[A\u001b[A"
     ]
    },
    {
     "name": "stdout",
     "output_type": "stream",
     "text": [
      "tensor([[0.6453],\n",
      "        [1.2904],\n",
      "        [0.7288],\n",
      "        ...,\n",
      "        [0.6725],\n",
      "        [0.5086],\n",
      "        [0.6823]], grad_fn=<AddBackward0>)\n",
      "tensor([[ 0.1111],\n",
      "        [ 0.0321],\n",
      "        [ 0.1094],\n",
      "        ...,\n",
      "        [-0.2910],\n",
      "        [-0.2250],\n",
      "        [-0.1719]], grad_fn=<AddBackward0>)\n",
      "[1 0 0 ... 0 1 1]\n",
      "[1 0 1 ... 1 0 0]\n",
      "[0 0 1 ... 0 0 0]\n",
      "[1 1 1 ... 1 1 0]\n",
      "\n",
      "Epoch: 109, Loss: 3612.3064, Val: 0.6512, Test: 0.6509\n",
      "[0 0 1 ... 0 0 0]\n",
      "[1 1 1 ... 1 1 0]\n",
      "[1 0 0 ... 0 1 1]\n",
      "[1 0 1 ... 1 0 0]\n"
     ]
    },
    {
     "name": "stderr",
     "output_type": "stream",
     "text": [
      "\n",
      "\n",
      "  1%|          | 109/10000 [01:12<1:56:36,  1.41it/s]\u001b[A\n",
      "\n",
      "  0%|          | 0/4 [00:00<?, ?it/s]\u001b[A\u001b[A\n",
      "\n",
      " 25%|██▌       | 1/4 [00:00<00:00,  9.21it/s]\u001b[A\u001b[A\n",
      "\n",
      " 50%|█████     | 2/4 [00:00<00:00,  7.95it/s]\u001b[A\u001b[A"
     ]
    },
    {
     "name": "stdout",
     "output_type": "stream",
     "text": [
      "tensor([[ 0.4797],\n",
      "        [ 0.3227],\n",
      "        [ 0.4944],\n",
      "        ...,\n",
      "        [-0.1504],\n",
      "        [-0.0496],\n",
      "        [-0.0371]], grad_fn=<AddBackward0>)\n",
      "tensor([[ 0.1469],\n",
      "        [ 0.1518],\n",
      "        [ 0.1663],\n",
      "        ...,\n",
      "        [-0.6620],\n",
      "        [-0.6695],\n",
      "        [-0.6825]], grad_fn=<AddBackward0>)\n"
     ]
    },
    {
     "name": "stderr",
     "output_type": "stream",
     "text": [
      "\n",
      "\n",
      "100%|██████████| 4/4 [00:00<00:00,  9.02it/s]\u001b[A\u001b[A\n"
     ]
    },
    {
     "name": "stdout",
     "output_type": "stream",
     "text": [
      "tensor([[0.9009],\n",
      "        [0.9034],\n",
      "        [0.7690],\n",
      "        ...,\n",
      "        [1.0167],\n",
      "        [0.4057],\n",
      "        [1.5025]], grad_fn=<AddBackward0>)\n",
      "tensor([[0.1147],\n",
      "        [0.1125],\n",
      "        [0.1129],\n",
      "        ...,\n",
      "        [0.7393],\n",
      "        [0.7397],\n",
      "        [0.7976]], grad_fn=<AddBackward0>)\n",
      "[1 0 0 ... 0 1 1]\n",
      "[1 0 1 ... 1 0 0]\n",
      "[0 0 1 ... 0 0 0]\n",
      "[1 1 1 ... 1 1 0]\n"
     ]
    },
    {
     "name": "stderr",
     "output_type": "stream",
     "text": [
      "\n",
      "  1%|          | 110/10000 [01:13<1:57:57,  1.40it/s]\u001b[A"
     ]
    },
    {
     "name": "stdout",
     "output_type": "stream",
     "text": [
      "\n",
      "Epoch: 110, Loss: 3490.7913, Val: 0.6514, Test: 0.6516\n",
      "[0 0 1 ... 0 0 0]\n",
      "[1 1 1 ... 1 1 0]\n",
      "[1 0 0 ... 0 1 1]\n",
      "[1 0 1 ... 1 0 0]\n"
     ]
    },
    {
     "name": "stderr",
     "output_type": "stream",
     "text": [
      "\n",
      "\n",
      "  0%|          | 0/4 [00:00<?, ?it/s]\u001b[A\u001b[A\n",
      "\n",
      " 25%|██▌       | 1/4 [00:00<00:00,  9.81it/s]\u001b[A\u001b[A"
     ]
    },
    {
     "name": "stdout",
     "output_type": "stream",
     "text": [
      "tensor([[-0.3706],\n",
      "        [-0.3578],\n",
      "        [-0.3557],\n",
      "        ...,\n",
      "        [ 0.2293],\n",
      "        [ 0.1914],\n",
      "        [ 0.0685]], grad_fn=<AddBackward0>)\n"
     ]
    },
    {
     "name": "stderr",
     "output_type": "stream",
     "text": [
      "\n",
      "\n",
      " 50%|█████     | 2/4 [00:00<00:00,  9.05it/s]\u001b[A\u001b[A"
     ]
    },
    {
     "name": "stdout",
     "output_type": "stream",
     "text": [
      "tensor([[-0.4842],\n",
      "        [-0.4758],\n",
      "        [-0.4871],\n",
      "        ...,\n",
      "        [-1.1783],\n",
      "        [-1.1614],\n",
      "        [-1.1681]], grad_fn=<AddBackward0>)\n"
     ]
    },
    {
     "name": "stderr",
     "output_type": "stream",
     "text": [
      "\n",
      "\n",
      "100%|██████████| 4/4 [00:00<00:00,  9.68it/s]\u001b[A\u001b[A"
     ]
    },
    {
     "name": "stdout",
     "output_type": "stream",
     "text": [
      "tensor([[ 1.4914],\n",
      "        [ 1.5210],\n",
      "        [ 1.5185],\n",
      "        ...,\n",
      "        [-2.0814],\n",
      "        [-1.7891],\n",
      "        [-1.9958]], grad_fn=<AddBackward0>)\n",
      "tensor([[-0.9488],\n",
      "        [-0.9259],\n",
      "        [-0.9359],\n",
      "        ...,\n",
      "        [-0.3056],\n",
      "        [-0.2767],\n",
      "        [-0.1454]], grad_fn=<AddBackward0>)\n"
     ]
    },
    {
     "name": "stderr",
     "output_type": "stream",
     "text": [
      "\n"
     ]
    },
    {
     "name": "stdout",
     "output_type": "stream",
     "text": [
      "[1 0 0 ... 0 1 1]\n",
      "[1 0 1 ... 1 0 0]\n",
      "[0 0 1 ... 0 0 0]\n",
      "[1 1 1 ... 1 1 0]\n",
      "\n",
      "Epoch: 111, Loss: 3441.4233, Val: 0.6524, Test: 0.6522\n",
      "[0 0 1 ... 0 0 0]\n",
      "[1 1 1 ... 1 1 0]\n",
      "[1 0 0 ... 0 1 1]\n",
      "[1 0 1 ... 1 0 0]\n"
     ]
    },
    {
     "name": "stderr",
     "output_type": "stream",
     "text": [
      "\n",
      "  1%|          | 111/10000 [01:14<1:57:11,  1.41it/s]\u001b[A\n",
      "\n",
      "  0%|          | 0/4 [00:00<?, ?it/s]\u001b[A\u001b[A\n",
      "\n",
      " 50%|█████     | 2/4 [00:00<00:00, 10.34it/s]\u001b[A\u001b[A"
     ]
    },
    {
     "name": "stdout",
     "output_type": "stream",
     "text": [
      "tensor([[-0.9503],\n",
      "        [-0.9008],\n",
      "        [-0.8895],\n",
      "        ...,\n",
      "        [-0.8829],\n",
      "        [-0.9206],\n",
      "        [-0.8836]], grad_fn=<AddBackward0>)\n",
      "tensor([[ 0.3831],\n",
      "        [ 0.3851],\n",
      "        [ 0.3760],\n",
      "        ...,\n",
      "        [-0.1540],\n",
      "        [ 0.1586],\n",
      "        [ 0.3118]], grad_fn=<AddBackward0>)\n",
      "tensor([[1.3173],\n",
      "        [1.1326],\n",
      "        [1.0252],\n",
      "        ...,\n",
      "        [0.8906],\n",
      "        [0.9142],\n",
      "        [0.8880]], grad_fn=<AddBackward0>)\n"
     ]
    },
    {
     "name": "stderr",
     "output_type": "stream",
     "text": [
      "\n",
      "\n",
      "100%|██████████| 4/4 [00:00<00:00, 10.63it/s]\u001b[A\u001b[A\n",
      "\n",
      "  1%|          | 112/10000 [01:14<1:49:34,  1.50it/s]\u001b[A"
     ]
    },
    {
     "name": "stdout",
     "output_type": "stream",
     "text": [
      "tensor([[ 0.6961],\n",
      "        [ 0.6899],\n",
      "        [ 0.6534],\n",
      "        ...,\n",
      "        [-0.5938],\n",
      "        [-0.6218],\n",
      "        [-0.5305]], grad_fn=<AddBackward0>)\n",
      "[1 0 0 ... 0 1 1]\n",
      "[1 0 1 ... 1 0 0]\n",
      "[0 0 1 ... 0 0 0]\n",
      "[1 1 1 ... 1 1 0]\n",
      "\n",
      "Epoch: 112, Loss: 3420.5203, Val: 0.6528, Test: 0.6523\n",
      "[0 0 1 ... 0 0 0]\n",
      "[1 1 1 ... 1 1 0]\n",
      "[1 0 0 ... 0 1 1]\n",
      "[1 0 1 ... 1 0 0]\n"
     ]
    },
    {
     "name": "stderr",
     "output_type": "stream",
     "text": [
      "\n",
      "\n",
      "  0%|          | 0/4 [00:00<?, ?it/s]\u001b[A\u001b[A\n",
      "\n",
      " 25%|██▌       | 1/4 [00:00<00:00,  9.06it/s]\u001b[A\u001b[A\n",
      "\n",
      " 50%|█████     | 2/4 [00:00<00:00,  9.15it/s]\u001b[A\u001b[A"
     ]
    },
    {
     "name": "stdout",
     "output_type": "stream",
     "text": [
      "tensor([[0.2494],\n",
      "        [0.2738],\n",
      "        [0.2331],\n",
      "        ...,\n",
      "        [0.9387],\n",
      "        [0.9317],\n",
      "        [0.9182]], grad_fn=<AddBackward0>)\n",
      "tensor([[-0.0543],\n",
      "        [-0.0880],\n",
      "        [-0.1219],\n",
      "        ...,\n",
      "        [ 0.1478],\n",
      "        [ 0.1550],\n",
      "        [ 0.1410]], grad_fn=<AddBackward0>)\n"
     ]
    },
    {
     "name": "stderr",
     "output_type": "stream",
     "text": [
      "\n",
      "\n",
      "100%|██████████| 4/4 [00:00<00:00, 10.00it/s]\u001b[A\u001b[A\n"
     ]
    },
    {
     "name": "stdout",
     "output_type": "stream",
     "text": [
      "tensor([[0.9329],\n",
      "        [0.8930],\n",
      "        [0.9189],\n",
      "        ...,\n",
      "        [0.2433],\n",
      "        [0.2529],\n",
      "        [0.2577]], grad_fn=<AddBackward0>)\n",
      "tensor([[ 0.2864],\n",
      "        [ 0.2794],\n",
      "        [ 0.3153],\n",
      "        ...,\n",
      "        [-0.4114],\n",
      "        [-0.4115],\n",
      "        [-0.4074]], grad_fn=<AddBackward0>)\n",
      "[1 0 0 ... 0 1 1]\n",
      "[1 0 1 ... 1 0 0]\n"
     ]
    },
    {
     "name": "stderr",
     "output_type": "stream",
     "text": [
      "\n",
      "  1%|          | 113/10000 [01:15<1:50:34,  1.49it/s]\u001b[A"
     ]
    },
    {
     "name": "stdout",
     "output_type": "stream",
     "text": [
      "[0 0 1 ... 0 0 0]\n",
      "[1 1 1 ... 1 1 0]\n",
      "\n",
      "Epoch: 113, Loss: 3411.4983, Val: 0.6532, Test: 0.6534\n",
      "[0 0 1 ... 0 0 0]\n",
      "[1 1 1 ... 1 1 0]\n",
      "[1 0 0 ... 0 1 1]\n",
      "[1 0 1 ... 1 0 0]\n"
     ]
    },
    {
     "name": "stderr",
     "output_type": "stream",
     "text": [
      "\n",
      "\n",
      "  0%|          | 0/4 [00:00<?, ?it/s]\u001b[A\u001b[A\n",
      "\n",
      " 25%|██▌       | 1/4 [00:00<00:00,  9.85it/s]\u001b[A\u001b[A\n",
      "\n",
      " 50%|█████     | 2/4 [00:00<00:00,  9.64it/s]\u001b[A\u001b[A"
     ]
    },
    {
     "name": "stdout",
     "output_type": "stream",
     "text": [
      "tensor([[ 0.9706],\n",
      "        [ 0.9619],\n",
      "        [ 0.9127],\n",
      "        ...,\n",
      "        [-0.9524],\n",
      "        [-0.8839],\n",
      "        [-0.8770]], grad_fn=<AddBackward0>)\n",
      "tensor([[-1.1448],\n",
      "        [-1.1570],\n",
      "        [-1.1454],\n",
      "        ...,\n",
      "        [-0.0794],\n",
      "        [-0.0930],\n",
      "        [-0.1432]], grad_fn=<AddBackward0>)\n"
     ]
    },
    {
     "name": "stderr",
     "output_type": "stream",
     "text": [
      "\n",
      "\n",
      "100%|██████████| 4/4 [00:00<00:00, 10.36it/s]\u001b[A\u001b[A\n"
     ]
    },
    {
     "name": "stdout",
     "output_type": "stream",
     "text": [
      "tensor([[-0.7847],\n",
      "        [-0.7932],\n",
      "        [-0.7865],\n",
      "        ...,\n",
      "        [ 0.5984],\n",
      "        [ 0.5754],\n",
      "        [ 0.7463]], grad_fn=<AddBackward0>)\n",
      "tensor([[-0.5839],\n",
      "        [-0.5916],\n",
      "        [-0.5708],\n",
      "        ...,\n",
      "        [-0.6220],\n",
      "        [-0.6279],\n",
      "        [-0.7622]], grad_fn=<AddBackward0>)\n",
      "[1 0 0 ... 1 1 1]\n",
      "[1 0 1 ... 1 0 0]\n",
      "[0 0 1 ... 0 0 0]\n",
      "[1 1 1 ... 1 1 0]\n",
      "\n",
      "Epoch: 114, Loss: 3398.5107, Val: 0.6537, Test: 0.6538\n",
      "[0 0 1 ... 0 0 0]\n",
      "[1 1 1 ... 1 1 0]\n"
     ]
    },
    {
     "name": "stderr",
     "output_type": "stream",
     "text": [
      "\n",
      "  1%|          | 114/10000 [01:16<1:50:18,  1.49it/s]\u001b[A"
     ]
    },
    {
     "name": "stdout",
     "output_type": "stream",
     "text": [
      "[1 0 0 ... 1 1 1]\n",
      "[1 0 1 ... 1 0 0]\n"
     ]
    },
    {
     "name": "stderr",
     "output_type": "stream",
     "text": [
      "\n",
      "\n",
      "  0%|          | 0/4 [00:00<?, ?it/s]\u001b[A\u001b[A\n",
      "\n",
      " 25%|██▌       | 1/4 [00:00<00:00,  9.34it/s]\u001b[A\u001b[A"
     ]
    },
    {
     "name": "stdout",
     "output_type": "stream",
     "text": [
      "tensor([[ 2.5228],\n",
      "        [ 2.4803],\n",
      "        [ 2.5763],\n",
      "        ...,\n",
      "        [-1.5685],\n",
      "        [-1.5723],\n",
      "        [-1.5722]], grad_fn=<AddBackward0>)\n"
     ]
    },
    {
     "name": "stderr",
     "output_type": "stream",
     "text": [
      "\n",
      "\n",
      " 50%|█████     | 2/4 [00:00<00:00,  9.20it/s]\u001b[A\u001b[A"
     ]
    },
    {
     "name": "stdout",
     "output_type": "stream",
     "text": [
      "tensor([[-1.6345],\n",
      "        [-1.5844],\n",
      "        [-1.5933],\n",
      "        ...,\n",
      "        [-0.4070],\n",
      "        [-0.3426],\n",
      "        [-0.3447]], grad_fn=<AddBackward0>)\n",
      "tensor([[0.1543],\n",
      "        [0.1789],\n",
      "        [0.1741],\n",
      "        ...,\n",
      "        [0.8720],\n",
      "        [0.8970],\n",
      "        [0.8377]], grad_fn=<AddBackward0>)\n"
     ]
    },
    {
     "name": "stderr",
     "output_type": "stream",
     "text": [
      "\n",
      "\n",
      "100%|██████████| 4/4 [00:00<00:00, 10.44it/s]\u001b[A\u001b[A"
     ]
    },
    {
     "name": "stdout",
     "output_type": "stream",
     "text": [
      "tensor([[ 1.1044],\n",
      "        [ 0.8821],\n",
      "        [ 0.9985],\n",
      "        ...,\n",
      "        [ 0.0390],\n",
      "        [-0.0183],\n",
      "        [-0.0069]], grad_fn=<AddBackward0>)\n",
      "[1 0 0 ... 1 1 1]\n",
      "[1 0 1 ... 1 0 0]\n"
     ]
    },
    {
     "name": "stderr",
     "output_type": "stream",
     "text": [
      "\n",
      "\n",
      "  1%|          | 115/10000 [01:16<1:42:34,  1.61it/s]\u001b[A"
     ]
    },
    {
     "name": "stdout",
     "output_type": "stream",
     "text": [
      "[0 0 1 ... 0 0 0]\n",
      "[1 1 1 ... 1 1 0]\n",
      "\n",
      "Epoch: 115, Loss: 3151.8882, Val: 0.6547, Test: 0.6552\n",
      "[0 0 1 ... 0 0 0]\n",
      "[1 1 1 ... 1 1 0]\n",
      "[1 0 0 ... 1 1 1]\n",
      "[1 0 1 ... 1 0 0]\n"
     ]
    },
    {
     "name": "stderr",
     "output_type": "stream",
     "text": [
      "\n",
      "\n",
      "  0%|          | 0/4 [00:00<?, ?it/s]\u001b[A\u001b[A\n",
      "\n",
      " 25%|██▌       | 1/4 [00:00<00:00,  7.40it/s]\u001b[A\u001b[A\n",
      "\n",
      " 50%|█████     | 2/4 [00:00<00:00,  6.11it/s]\u001b[A\u001b[A"
     ]
    },
    {
     "name": "stdout",
     "output_type": "stream",
     "text": [
      "tensor([[-1.8855],\n",
      "        [-2.1123],\n",
      "        [-1.7970],\n",
      "        ...,\n",
      "        [ 0.5136],\n",
      "        [ 0.4431],\n",
      "        [ 0.4843]], grad_fn=<AddBackward0>)\n",
      "tensor([[ 0.4213],\n",
      "        [ 0.4285],\n",
      "        [ 0.4295],\n",
      "        ...,\n",
      "        [-1.1207],\n",
      "        [-1.1672],\n",
      "        [-1.0307]], grad_fn=<AddBackward0>)\n"
     ]
    },
    {
     "name": "stderr",
     "output_type": "stream",
     "text": [
      "\n",
      "\n",
      " 75%|███████▌  | 3/4 [00:00<00:00,  5.99it/s]\u001b[A\u001b[A\n",
      "\n",
      "100%|██████████| 4/4 [00:00<00:00,  6.62it/s]\u001b[A\u001b[A"
     ]
    },
    {
     "name": "stdout",
     "output_type": "stream",
     "text": [
      "tensor([[1.2556],\n",
      "        [1.2575],\n",
      "        [1.2504],\n",
      "        ...,\n",
      "        [0.5973],\n",
      "        [0.5786],\n",
      "        [0.5815]], grad_fn=<AddBackward0>)\n",
      "tensor([[-0.2199],\n",
      "        [-0.2167],\n",
      "        [-0.2122],\n",
      "        ...,\n",
      "        [ 2.0849],\n",
      "        [ 2.0792],\n",
      "        [ 2.0315]], grad_fn=<AddBackward0>)\n",
      "[1 0 0 ... 1 1 1]\n",
      "[1 0 1 ... 1 0 0]\n"
     ]
    },
    {
     "name": "stderr",
     "output_type": "stream",
     "text": [
      "\n",
      "\n",
      "  1%|          | 116/10000 [01:17<1:57:04,  1.41it/s]\u001b[A"
     ]
    },
    {
     "name": "stdout",
     "output_type": "stream",
     "text": [
      "[0 0 1 ... 0 0 0]\n",
      "[1 1 1 ... 1 1 0]\n",
      "\n",
      "Epoch: 116, Loss: 3166.4741, Val: 0.6553, Test: 0.6559\n",
      "[0 0 1 ... 0 0 0]\n",
      "[1 1 1 ... 1 1 0]\n",
      "[1 0 0 ... 1 1 1]\n",
      "[1 0 1 ... 1 0 0]\n"
     ]
    },
    {
     "name": "stderr",
     "output_type": "stream",
     "text": [
      "\n",
      "\n",
      "  0%|          | 0/4 [00:00<?, ?it/s]\u001b[A\u001b[A"
     ]
    },
    {
     "name": "stdout",
     "output_type": "stream",
     "text": [
      "tensor([[ 0.8684],\n",
      "        [ 0.8656],\n",
      "        [ 0.8691],\n",
      "        ...,\n",
      "        [-1.0740],\n",
      "        [-0.9692],\n",
      "        [-1.0706]], grad_fn=<AddBackward0>)\n"
     ]
    },
    {
     "name": "stderr",
     "output_type": "stream",
     "text": [
      "\n",
      "\n",
      " 50%|█████     | 2/4 [00:00<00:00,  9.59it/s]\u001b[A\u001b[A"
     ]
    },
    {
     "name": "stdout",
     "output_type": "stream",
     "text": [
      "tensor([[0.6688],\n",
      "        [0.6706],\n",
      "        [0.6679],\n",
      "        ...,\n",
      "        [0.7281],\n",
      "        [0.6413],\n",
      "        [0.6873]], grad_fn=<AddBackward0>)\n"
     ]
    },
    {
     "name": "stderr",
     "output_type": "stream",
     "text": [
      "\n",
      "\n",
      "100%|██████████| 4/4 [00:00<00:00, 10.32it/s]\u001b[A\u001b[A"
     ]
    },
    {
     "name": "stdout",
     "output_type": "stream",
     "text": [
      "tensor([[0.8144],\n",
      "        [0.8120],\n",
      "        [0.8194],\n",
      "        ...,\n",
      "        [0.3900],\n",
      "        [0.3612],\n",
      "        [0.3975]], grad_fn=<AddBackward0>)\n",
      "tensor([[-0.5059],\n",
      "        [-0.5614],\n",
      "        [-0.5329],\n",
      "        ...,\n",
      "        [ 0.1854],\n",
      "        [ 0.0755],\n",
      "        [ 0.2230]], grad_fn=<AddBackward0>)\n",
      "[1 0 0 ... 1 1 1]\n",
      "[1 0 1 ... 1 0 0]\n"
     ]
    },
    {
     "name": "stderr",
     "output_type": "stream",
     "text": [
      "\n"
     ]
    },
    {
     "name": "stdout",
     "output_type": "stream",
     "text": [
      "[0 0 1 ... 0 0 0]\n",
      "[1 1 1 ... 1 1 0]\n",
      "\n",
      "Epoch: 117, Loss: 3130.5164, Val: 0.6559, Test: 0.6565\n",
      "[0 0 1 ... 0 0 0]\n",
      "[1 1 1 ... 1 1 0]\n"
     ]
    },
    {
     "name": "stderr",
     "output_type": "stream",
     "text": [
      "\n",
      "  1%|          | 117/10000 [01:18<1:55:18,  1.43it/s]\u001b[A"
     ]
    },
    {
     "name": "stdout",
     "output_type": "stream",
     "text": [
      "[1 0 0 ... 1 1 1]\n",
      "[1 0 1 ... 1 0 0]\n"
     ]
    },
    {
     "name": "stderr",
     "output_type": "stream",
     "text": [
      "\n",
      "\n",
      "  0%|          | 0/4 [00:00<?, ?it/s]\u001b[A\u001b[A\n",
      "\n",
      " 25%|██▌       | 1/4 [00:00<00:00,  8.85it/s]\u001b[A\u001b[A"
     ]
    },
    {
     "name": "stdout",
     "output_type": "stream",
     "text": [
      "tensor([[-0.4652],\n",
      "        [-0.4805],\n",
      "        [-0.4760],\n",
      "        ...,\n",
      "        [ 0.5176],\n",
      "        [ 0.5664],\n",
      "        [ 0.5644]], grad_fn=<AddBackward0>)\n"
     ]
    },
    {
     "name": "stderr",
     "output_type": "stream",
     "text": [
      "\n",
      "\n",
      " 50%|█████     | 2/4 [00:00<00:00,  8.89it/s]\u001b[A\u001b[A"
     ]
    },
    {
     "name": "stdout",
     "output_type": "stream",
     "text": [
      "tensor([[-0.3776],\n",
      "        [-0.3416],\n",
      "        [-0.4248],\n",
      "        ...,\n",
      "        [-0.3961],\n",
      "        [ 0.2549],\n",
      "        [-0.0464]], grad_fn=<AddBackward0>)\n"
     ]
    },
    {
     "name": "stderr",
     "output_type": "stream",
     "text": [
      "\n",
      "\n",
      "100%|██████████| 4/4 [00:00<00:00,  9.68it/s]\u001b[A\u001b[A"
     ]
    },
    {
     "name": "stdout",
     "output_type": "stream",
     "text": [
      "tensor([[0.1644],\n",
      "        [0.1534],\n",
      "        [0.1188],\n",
      "        ...,\n",
      "        [0.7584],\n",
      "        [0.7641],\n",
      "        [0.7597]], grad_fn=<AddBackward0>)\n",
      "tensor([[-0.8178],\n",
      "        [-0.8150],\n",
      "        [-0.8153],\n",
      "        ...,\n",
      "        [-0.6152],\n",
      "        [-0.6240],\n",
      "        [-0.6120]], grad_fn=<AddBackward0>)\n",
      "[1 0 0 ... 1 1 1]\n",
      "[1 0 1 ... 1 0 0]\n"
     ]
    },
    {
     "name": "stderr",
     "output_type": "stream",
     "text": [
      "\n"
     ]
    },
    {
     "name": "stdout",
     "output_type": "stream",
     "text": [
      "[0 0 1 ... 0 0 0]\n",
      "[1 1 1 ... 1 1 0]\n",
      "\n",
      "Epoch: 118, Loss: 3130.8188, Val: 0.6564, Test: 0.6574\n",
      "[0 0 1 ... 0 0 0]\n",
      "[1 1 1 ... 1 1 0]\n",
      "[1 0 0 ... 1 1 1]\n",
      "[1 0 1 ... 1 0 0]\n"
     ]
    },
    {
     "name": "stderr",
     "output_type": "stream",
     "text": [
      "\n",
      "  1%|          | 118/10000 [01:18<1:55:45,  1.42it/s]\u001b[A\n",
      "\n",
      "  0%|          | 0/4 [00:00<?, ?it/s]\u001b[A\u001b[A\n",
      "\n",
      " 50%|█████     | 2/4 [00:00<00:00,  9.82it/s]\u001b[A\u001b[A"
     ]
    },
    {
     "name": "stdout",
     "output_type": "stream",
     "text": [
      "tensor([[-0.8697],\n",
      "        [-0.9900],\n",
      "        [-0.8937],\n",
      "        ...,\n",
      "        [-0.1401],\n",
      "        [-0.1439],\n",
      "        [-0.1420]], grad_fn=<AddBackward0>)\n",
      "tensor([[-0.4640],\n",
      "        [-0.2820],\n",
      "        [-0.3283],\n",
      "        ...,\n",
      "        [-1.2328],\n",
      "        [-1.1988],\n",
      "        [-1.2153]], grad_fn=<AddBackward0>)\n"
     ]
    },
    {
     "name": "stderr",
     "output_type": "stream",
     "text": [
      "\n",
      "\n",
      "100%|██████████| 4/4 [00:00<00:00, 10.91it/s]\u001b[A\u001b[A\n"
     ]
    },
    {
     "name": "stdout",
     "output_type": "stream",
     "text": [
      "tensor([[0.9377],\n",
      "        [1.1226],\n",
      "        [1.0694],\n",
      "        ...,\n",
      "        [0.5817],\n",
      "        [0.6850],\n",
      "        [0.7435]], grad_fn=<AddBackward0>)\n",
      "tensor([[-1.1983],\n",
      "        [-1.2107],\n",
      "        [-1.2083],\n",
      "        ...,\n",
      "        [-0.6986],\n",
      "        [-0.7529],\n",
      "        [-0.5566]], grad_fn=<AddBackward0>)\n",
      "[1 0 0 ... 1 1 1]\n",
      "[1 0 1 ... 1 0 0]\n",
      "[0 0 1 ... 0 0 0]\n",
      "[1 1 1 ... 1 1 0]\n",
      "\n",
      "Epoch: 119, Loss: 2978.4917, Val: 0.6571, Test: 0.6582\n",
      "[0 0 1 ... 0 0 0]\n",
      "[1 1 1 ... 1 1 0]\n",
      "[1 0 0 ... 1 1 1]\n",
      "[1 0 1 ... 1 0 0]\n"
     ]
    },
    {
     "name": "stderr",
     "output_type": "stream",
     "text": [
      "\n",
      "  1%|          | 119/10000 [01:19<1:46:45,  1.54it/s]\u001b[A\n",
      "\n",
      "  0%|          | 0/4 [00:00<?, ?it/s]\u001b[A\u001b[A\n",
      "\n",
      " 25%|██▌       | 1/4 [00:00<00:00,  9.87it/s]\u001b[A\u001b[A\n",
      "\n",
      " 50%|█████     | 2/4 [00:00<00:00,  9.53it/s]\u001b[A\u001b[A"
     ]
    },
    {
     "name": "stdout",
     "output_type": "stream",
     "text": [
      "tensor([[0.3301],\n",
      "        [0.3261],\n",
      "        [0.3385],\n",
      "        ...,\n",
      "        [0.4253],\n",
      "        [0.3903],\n",
      "        [0.4359]], grad_fn=<AddBackward0>)\n",
      "tensor([[-0.1782],\n",
      "        [-0.1897],\n",
      "        [-0.1641],\n",
      "        ...,\n",
      "        [-0.4669],\n",
      "        [-0.4835],\n",
      "        [-0.4274]], grad_fn=<AddBackward0>)\n"
     ]
    },
    {
     "name": "stderr",
     "output_type": "stream",
     "text": [
      "\n",
      "\n",
      "100%|██████████| 4/4 [00:00<00:00,  9.17it/s]\u001b[A\u001b[A"
     ]
    },
    {
     "name": "stdout",
     "output_type": "stream",
     "text": [
      "tensor([[1.5126],\n",
      "        [1.4507],\n",
      "        [1.4989],\n",
      "        ...,\n",
      "        [1.5006],\n",
      "        [1.5147],\n",
      "        [1.5459]], grad_fn=<AddBackward0>)\n",
      "tensor([[0.3590],\n",
      "        [0.5984],\n",
      "        [0.5866],\n",
      "        ...,\n",
      "        [0.6859],\n",
      "        [0.5986],\n",
      "        [0.6898]], grad_fn=<AddBackward0>)\n",
      "[1 0 0 ... 1 1 1]\n",
      "[1 0 1 ... 1 0 0]\n",
      "[0 0 1 ... 0 0 0]\n",
      "[1 1 1 ... 1 1 0]\n"
     ]
    },
    {
     "name": "stderr",
     "output_type": "stream",
     "text": [
      "\n",
      "\n",
      "  1%|          | 120/10000 [01:20<1:51:02,  1.48it/s]\u001b[A"
     ]
    },
    {
     "name": "stdout",
     "output_type": "stream",
     "text": [
      "\n",
      "Epoch: 120, Loss: 3017.5483, Val: 0.6579, Test: 0.6591\n",
      "[0 0 1 ... 0 0 0]\n",
      "[1 1 1 ... 1 1 0]\n",
      "[1 0 0 ... 1 1 1]\n",
      "[1 0 1 ... 1 0 0]\n"
     ]
    },
    {
     "name": "stderr",
     "output_type": "stream",
     "text": [
      "\n",
      "\n",
      "  0%|          | 0/4 [00:00<?, ?it/s]\u001b[A\u001b[A\n",
      "\n",
      " 25%|██▌       | 1/4 [00:00<00:00,  9.90it/s]\u001b[A\u001b[A"
     ]
    },
    {
     "name": "stdout",
     "output_type": "stream",
     "text": [
      "tensor([[-0.2495],\n",
      "        [-0.2322],\n",
      "        [-0.2387],\n",
      "        ...,\n",
      "        [ 0.4423],\n",
      "        [ 0.4422],\n",
      "        [ 0.3926]], grad_fn=<AddBackward0>)\n"
     ]
    },
    {
     "name": "stderr",
     "output_type": "stream",
     "text": [
      "\n",
      "\n",
      " 50%|█████     | 2/4 [00:00<00:00,  9.28it/s]\u001b[A\u001b[A"
     ]
    },
    {
     "name": "stdout",
     "output_type": "stream",
     "text": [
      "tensor([[0.7229],\n",
      "        [0.7049],\n",
      "        [0.7444],\n",
      "        ...,\n",
      "        [2.2253],\n",
      "        [2.2098],\n",
      "        [2.1801]], grad_fn=<AddBackward0>)\n",
      "tensor([[-0.0651],\n",
      "        [-0.0815],\n",
      "        [-0.0829],\n",
      "        ...,\n",
      "        [ 0.3543],\n",
      "        [ 0.3547],\n",
      "        [ 0.2879]], grad_fn=<AddBackward0>)\n"
     ]
    },
    {
     "name": "stderr",
     "output_type": "stream",
     "text": [
      "\n",
      "\n",
      "100%|██████████| 4/4 [00:00<00:00, 10.35it/s]\u001b[A\u001b[A"
     ]
    },
    {
     "name": "stdout",
     "output_type": "stream",
     "text": [
      "tensor([[ 0.1229],\n",
      "        [ 0.1089],\n",
      "        [ 0.1199],\n",
      "        ...,\n",
      "        [-0.6167],\n",
      "        [-0.6248],\n",
      "        [-0.6674]], grad_fn=<AddBackward0>)\n",
      "[1 0 0 ... 1 1 1]\n",
      "[1 0 1 ... 1 0 0]\n"
     ]
    },
    {
     "name": "stderr",
     "output_type": "stream",
     "text": [
      "\n",
      "\n",
      "  1%|          | 121/10000 [01:20<1:40:54,  1.63it/s]\u001b[A"
     ]
    },
    {
     "name": "stdout",
     "output_type": "stream",
     "text": [
      "[1 0 1 ... 0 0 0]\n",
      "[1 1 1 ... 1 1 0]\n"
     ]
    },
    {
     "name": "stderr",
     "output_type": "stream",
     "text": [
      "\n",
      "\n",
      "  0%|          | 0/4 [00:00<?, ?it/s]\u001b[A\u001b[A"
     ]
    },
    {
     "name": "stdout",
     "output_type": "stream",
     "text": [
      "tensor([[ 1.4207],\n",
      "        [ 1.4198],\n",
      "        [ 1.4283],\n",
      "        ...,\n",
      "        [-0.8347],\n",
      "        [-0.8392],\n",
      "        [-0.8464]], grad_fn=<AddBackward0>)\n"
     ]
    },
    {
     "name": "stderr",
     "output_type": "stream",
     "text": [
      "\n",
      "\n",
      " 25%|██▌       | 1/4 [00:00<00:00,  6.35it/s]\u001b[A\u001b[A\n",
      "\n",
      " 50%|█████     | 2/4 [00:00<00:00,  7.24it/s]\u001b[A\u001b[A"
     ]
    },
    {
     "name": "stdout",
     "output_type": "stream",
     "text": [
      "tensor([[-1.5977],\n",
      "        [-1.5996],\n",
      "        [-1.6151],\n",
      "        ...,\n",
      "        [-0.3277],\n",
      "        [-0.3152],\n",
      "        [-0.3561]], grad_fn=<AddBackward0>)\n"
     ]
    },
    {
     "name": "stderr",
     "output_type": "stream",
     "text": [
      "\n",
      "\n",
      " 75%|███████▌  | 3/4 [00:00<00:00,  7.83it/s]\u001b[A\u001b[A"
     ]
    },
    {
     "name": "stdout",
     "output_type": "stream",
     "text": [
      "tensor([[0.0363],\n",
      "        [0.0357],\n",
      "        [0.0359],\n",
      "        ...,\n",
      "        [1.5484],\n",
      "        [1.5654],\n",
      "        [1.4951]], grad_fn=<AddBackward0>)\n"
     ]
    },
    {
     "name": "stderr",
     "output_type": "stream",
     "text": [
      "100%|██████████| 4/4 [00:00<00:00,  8.45it/s]\n"
     ]
    },
    {
     "name": "stdout",
     "output_type": "stream",
     "text": [
      "tensor([[ 0.0093],\n",
      "        [ 0.0136],\n",
      "        [ 0.0067],\n",
      "        ...,\n",
      "        [-0.7942],\n",
      "        [-0.7778],\n",
      "        [-0.7760]], grad_fn=<AddBackward0>)\n",
      "[1 0 0 ... 1 1 1]\n",
      "[1 0 1 ... 1 0 0]\n",
      "[0 0 1 ... 0 0 0]\n",
      "[1 1 1 ... 1 1 0]\n"
     ]
    },
    {
     "name": "stderr",
     "output_type": "stream",
     "text": [
      "\n",
      "  1%|          | 122/10000 [01:21<1:48:08,  1.52it/s]\u001b[A"
     ]
    },
    {
     "name": "stdout",
     "output_type": "stream",
     "text": [
      "\n",
      "Epoch: 122, Loss: 3013.2095, Val: 0.6586, Test: 0.6598\n",
      "[0 0 1 ... 0 0 0]\n",
      "[1 1 1 ... 1 1 0]\n",
      "[1 0 0 ... 1 1 1]\n",
      "[1 0 1 ... 1 0 0]\n"
     ]
    },
    {
     "name": "stderr",
     "output_type": "stream",
     "text": [
      "\n",
      "\n",
      "  0%|          | 0/4 [00:00<?, ?it/s]\u001b[A\u001b[A\n",
      "\n",
      " 25%|██▌       | 1/4 [00:00<00:00,  7.19it/s]\u001b[A\u001b[A\n",
      "\n",
      " 50%|█████     | 2/4 [00:00<00:00,  8.60it/s]\u001b[A\u001b[A"
     ]
    },
    {
     "name": "stdout",
     "output_type": "stream",
     "text": [
      "tensor([[-0.3222],\n",
      "        [-0.3397],\n",
      "        [-0.3400],\n",
      "        ...,\n",
      "        [ 2.5278],\n",
      "        [ 2.4882],\n",
      "        [ 2.4852]], grad_fn=<AddBackward0>)\n",
      "tensor([[1.0155],\n",
      "        [1.1412],\n",
      "        [1.0634],\n",
      "        ...,\n",
      "        [1.0132],\n",
      "        [0.9637],\n",
      "        [0.9607]], grad_fn=<AddBackward0>)\n",
      "tensor([[ 0.3470],\n",
      "        [ 0.3718],\n",
      "        [ 0.3889],\n",
      "        ...,\n",
      "        [-0.4890],\n",
      "        [-0.4982],\n",
      "        [-0.4858]], grad_fn=<AddBackward0>)\n"
     ]
    },
    {
     "name": "stderr",
     "output_type": "stream",
     "text": [
      "\n",
      "\n",
      "100%|██████████| 4/4 [00:00<00:00,  9.26it/s]\u001b[A\u001b[A\n"
     ]
    },
    {
     "name": "stdout",
     "output_type": "stream",
     "text": [
      "tensor([[-1.2753],\n",
      "        [-1.2604],\n",
      "        [-1.2579],\n",
      "        ...,\n",
      "        [ 2.1456],\n",
      "        [ 1.8329],\n",
      "        [ 1.7393]], grad_fn=<AddBackward0>)\n",
      "[1 0 0 ... 1 1 1]\n",
      "[1 0 1 ... 1 0 0]\n",
      "[1 0 1 ... 0 0 0]\n",
      "[1 1 1 ... 1 1 0]\n",
      "\n",
      "Epoch: 123, Loss: 2869.3325, Val: 0.6592, Test: 0.6607\n",
      "[1 0 1 ... 0 0 0]\n",
      "[1 1 1 ... 1 1 0]\n",
      "[1 0 0 ... 1 1 1]\n",
      "[1 0 1 ... 1 0 0]\n"
     ]
    },
    {
     "name": "stderr",
     "output_type": "stream",
     "text": [
      "\n",
      "  1%|          | 123/10000 [01:22<1:51:40,  1.47it/s]\u001b[A\n",
      "\n",
      "  0%|          | 0/4 [00:00<?, ?it/s]\u001b[A\u001b[A\n",
      "\n",
      " 50%|█████     | 2/4 [00:00<00:00,  9.10it/s]\u001b[A\u001b[A"
     ]
    },
    {
     "name": "stdout",
     "output_type": "stream",
     "text": [
      "tensor([[-0.9063],\n",
      "        [-0.8811],\n",
      "        [-0.9232],\n",
      "        ...,\n",
      "        [ 0.7225],\n",
      "        [ 0.7162],\n",
      "        [ 0.6771]], grad_fn=<AddBackward0>)\n",
      "tensor([[ 0.4571],\n",
      "        [ 0.4428],\n",
      "        [ 0.4512],\n",
      "        ...,\n",
      "        [-0.7611],\n",
      "        [-0.7746],\n",
      "        [-0.5848]], grad_fn=<AddBackward0>)\n"
     ]
    },
    {
     "name": "stderr",
     "output_type": "stream",
     "text": [
      "\n",
      "\n",
      "100%|██████████| 4/4 [00:00<00:00,  9.80it/s]\u001b[A\u001b[A\n"
     ]
    },
    {
     "name": "stdout",
     "output_type": "stream",
     "text": [
      "tensor([[-0.6916],\n",
      "        [-0.5602],\n",
      "        [-0.6278],\n",
      "        ...,\n",
      "        [-2.0107],\n",
      "        [-2.0003],\n",
      "        [-1.9311]], grad_fn=<AddBackward0>)\n",
      "tensor([[-1.1359],\n",
      "        [-1.1427],\n",
      "        [-1.1382],\n",
      "        ...,\n",
      "        [-0.4458],\n",
      "        [-0.4284],\n",
      "        [-0.4267]], grad_fn=<AddBackward0>)\n",
      "[1 0 0 ... 1 1 1]\n",
      "[1 0 1 ... 1 0 0]\n",
      "[1 0 1 ... 0 0 0]\n",
      "[1 1 1 ... 1 1 0]\n",
      "\n",
      "Epoch: 124, Loss: 2793.2144, Val: 0.6593, Test: 0.6615\n",
      "[1 0 1 ... 0 0 0]\n",
      "[1 1 1 ... 1 1 0]\n",
      "[1 0 0 ... 1 1 1]\n",
      "[1 0 1 ... 1 0 0]\n"
     ]
    },
    {
     "name": "stderr",
     "output_type": "stream",
     "text": [
      "\n",
      "  1%|          | 124/10000 [01:22<1:45:28,  1.56it/s]\u001b[A\n",
      "\n",
      "  0%|          | 0/4 [00:00<?, ?it/s]\u001b[A\u001b[A\n",
      "\n",
      " 25%|██▌       | 1/4 [00:00<00:00,  7.52it/s]\u001b[A\u001b[A\n",
      "\n",
      " 50%|█████     | 2/4 [00:00<00:00,  8.34it/s]\u001b[A\u001b[A"
     ]
    },
    {
     "name": "stdout",
     "output_type": "stream",
     "text": [
      "tensor([[ 1.0546],\n",
      "        [ 1.0547],\n",
      "        [ 1.0583],\n",
      "        ...,\n",
      "        [-0.1429],\n",
      "        [-0.1212],\n",
      "        [-0.0195]], grad_fn=<AddBackward0>)\n",
      "tensor([[ 0.4437],\n",
      "        [ 0.3665],\n",
      "        [ 0.2124],\n",
      "        ...,\n",
      "        [-0.1800],\n",
      "        [-0.3177],\n",
      "        [-0.1911]], grad_fn=<AddBackward0>)\n"
     ]
    },
    {
     "name": "stderr",
     "output_type": "stream",
     "text": [
      "\n",
      "\n",
      "100%|██████████| 4/4 [00:00<00:00,  9.04it/s]\u001b[A\u001b[A\n"
     ]
    },
    {
     "name": "stdout",
     "output_type": "stream",
     "text": [
      "tensor([[-0.0036],\n",
      "        [ 0.0427],\n",
      "        [-0.1215],\n",
      "        ...,\n",
      "        [ 1.3153],\n",
      "        [ 1.3066],\n",
      "        [ 1.3149]], grad_fn=<AddBackward0>)\n",
      "tensor([[-0.3856],\n",
      "        [-0.3897],\n",
      "        [-0.4024],\n",
      "        ...,\n",
      "        [-0.3561],\n",
      "        [-0.4020],\n",
      "        [-0.3452]], grad_fn=<AddBackward0>)\n",
      "[1 0 0 ... 1 1 1]\n",
      "[1 0 1 ... 1 0 0]\n",
      "[1 0 1 ... 0 0 0]\n",
      "[1 1 1 ... 1 1 0]\n"
     ]
    },
    {
     "name": "stderr",
     "output_type": "stream",
     "text": [
      "\n",
      "  1%|▏         | 125/10000 [01:23<1:50:14,  1.49it/s]\u001b[A"
     ]
    },
    {
     "name": "stdout",
     "output_type": "stream",
     "text": [
      "\n",
      "Epoch: 125, Loss: 2793.4617, Val: 0.6599, Test: 0.6622\n",
      "[1 0 1 ... 0 0 0]\n",
      "[1 1 1 ... 1 1 0]\n",
      "[1 0 0 ... 1 1 1]\n",
      "[1 0 1 ... 1 0 0]\n"
     ]
    },
    {
     "name": "stderr",
     "output_type": "stream",
     "text": [
      "\n",
      "\n",
      "  0%|          | 0/4 [00:00<?, ?it/s]\u001b[A\u001b[A\n",
      "\n",
      " 25%|██▌       | 1/4 [00:00<00:00,  9.32it/s]\u001b[A\u001b[A"
     ]
    },
    {
     "name": "stdout",
     "output_type": "stream",
     "text": [
      "tensor([[-0.7223],\n",
      "        [-0.7282],\n",
      "        [-0.7229],\n",
      "        ...,\n",
      "        [-0.5461],\n",
      "        [-0.5460],\n",
      "        [-0.5766]], grad_fn=<AddBackward0>)\n"
     ]
    },
    {
     "name": "stderr",
     "output_type": "stream",
     "text": [
      "\n",
      "\n",
      " 75%|███████▌  | 3/4 [00:00<00:00, 11.05it/s]\u001b[A\u001b[A"
     ]
    },
    {
     "name": "stdout",
     "output_type": "stream",
     "text": [
      "tensor([[ 0.3340],\n",
      "        [ 0.3539],\n",
      "        [ 0.3334],\n",
      "        ...,\n",
      "        [-1.5157],\n",
      "        [-1.5659],\n",
      "        [-1.5074]], grad_fn=<AddBackward0>)\n",
      "tensor([[0.2152],\n",
      "        [0.2023],\n",
      "        [0.1719],\n",
      "        ...,\n",
      "        [0.8076],\n",
      "        [0.7869],\n",
      "        [0.8111]], grad_fn=<AddBackward0>)\n"
     ]
    },
    {
     "name": "stderr",
     "output_type": "stream",
     "text": [
      "\r",
      "100%|██████████| 4/4 [00:00<00:00, 11.04it/s]"
     ]
    },
    {
     "name": "stdout",
     "output_type": "stream",
     "text": [
      "tensor([[-0.4271],\n",
      "        [-0.6137],\n",
      "        [-0.0009],\n",
      "        ...,\n",
      "        [ 0.1039],\n",
      "        [ 0.2518],\n",
      "        [ 0.2199]], grad_fn=<AddBackward0>)\n",
      "[1 0 0 ... 1 1 1]\n",
      "[1 0 1 ... 1 0 0]\n"
     ]
    },
    {
     "name": "stderr",
     "output_type": "stream",
     "text": [
      "\n"
     ]
    },
    {
     "name": "stdout",
     "output_type": "stream",
     "text": [
      "[1 0 1 ... 0 0 0]\n",
      "[1 1 1 ... 1 1 0]\n",
      "\n",
      "Epoch: 126, Loss: 2704.6975, Val: 0.6602, Test: 0.6619\n",
      "[1 0 1 ... 0 0 0]\n",
      "[1 1 1 ... 1 1 0]\n"
     ]
    },
    {
     "name": "stderr",
     "output_type": "stream",
     "text": [
      "\n",
      "  1%|▏         | 126/10000 [01:24<1:52:09,  1.47it/s]\u001b[A"
     ]
    },
    {
     "name": "stdout",
     "output_type": "stream",
     "text": [
      "[1 0 0 ... 1 1 1]\n",
      "[1 0 1 ... 1 0 0]\n"
     ]
    },
    {
     "name": "stderr",
     "output_type": "stream",
     "text": [
      "\n",
      "\n",
      "  0%|          | 0/4 [00:00<?, ?it/s]\u001b[A\u001b[A"
     ]
    },
    {
     "name": "stdout",
     "output_type": "stream",
     "text": [
      "tensor([[ 2.4224],\n",
      "        [ 2.4070],\n",
      "        [ 2.6554],\n",
      "        ...,\n",
      "        [-0.8628],\n",
      "        [-0.8790],\n",
      "        [-0.8628]], grad_fn=<AddBackward0>)\n"
     ]
    },
    {
     "name": "stderr",
     "output_type": "stream",
     "text": [
      "\n",
      "\n",
      " 25%|██▌       | 1/4 [00:00<00:00,  6.33it/s]\u001b[A\u001b[A\n",
      "\n",
      " 50%|█████     | 2/4 [00:00<00:00,  6.20it/s]\u001b[A\u001b[A"
     ]
    },
    {
     "name": "stdout",
     "output_type": "stream",
     "text": [
      "tensor([[-0.5554],\n",
      "        [-0.4438],\n",
      "        [-0.4561],\n",
      "        ...,\n",
      "        [ 1.0009],\n",
      "        [ 1.2328],\n",
      "        [ 1.0684]], grad_fn=<AddBackward0>)\n"
     ]
    },
    {
     "name": "stderr",
     "output_type": "stream",
     "text": [
      "\n",
      "\n",
      " 75%|███████▌  | 3/4 [00:00<00:00,  6.28it/s]\u001b[A\u001b[A"
     ]
    },
    {
     "name": "stdout",
     "output_type": "stream",
     "text": [
      "tensor([[ 1.3051],\n",
      "        [ 1.1601],\n",
      "        [ 1.2057],\n",
      "        ...,\n",
      "        [-1.2011],\n",
      "        [-1.2171],\n",
      "        [-1.1967]], grad_fn=<AddBackward0>)\n"
     ]
    },
    {
     "name": "stderr",
     "output_type": "stream",
     "text": [
      "\n",
      "\n",
      "100%|██████████| 4/4 [00:00<00:00,  6.73it/s]\u001b[A\u001b[A"
     ]
    },
    {
     "name": "stdout",
     "output_type": "stream",
     "text": [
      "tensor([[-0.9039],\n",
      "        [-0.8873],\n",
      "        [-0.8871],\n",
      "        ...,\n",
      "        [ 0.5143],\n",
      "        [ 0.7495],\n",
      "        [ 0.5671]], grad_fn=<AddBackward0>)\n",
      "[1 0 0 ... 1 1 1]\n",
      "[1 0 1 ... 1 0 0]\n",
      "[1 0 1 ... 0 0 0]\n",
      "[1 1 1 ... 1 1 0]\n"
     ]
    },
    {
     "name": "stderr",
     "output_type": "stream",
     "text": [
      "\n",
      "\n",
      "  1%|▏         | 127/10000 [01:24<1:57:09,  1.40it/s]\u001b[A"
     ]
    },
    {
     "name": "stdout",
     "output_type": "stream",
     "text": [
      "\n",
      "Epoch: 127, Loss: 2716.4329, Val: 0.6603, Test: 0.6620\n",
      "[1 0 1 ... 0 0 0]\n",
      "[1 1 1 ... 1 1 0]\n",
      "[1 0 0 ... 1 1 1]\n",
      "[1 0 1 ... 1 0 0]\n"
     ]
    },
    {
     "name": "stderr",
     "output_type": "stream",
     "text": [
      "\n",
      "\n",
      "  0%|          | 0/4 [00:00<?, ?it/s]\u001b[A\u001b[A\n",
      "\n",
      " 25%|██▌       | 1/4 [00:00<00:00,  6.61it/s]\u001b[A\u001b[A\n",
      "\n",
      " 50%|█████     | 2/4 [00:00<00:00,  6.59it/s]\u001b[A\u001b[A"
     ]
    },
    {
     "name": "stdout",
     "output_type": "stream",
     "text": [
      "tensor([[-0.7221],\n",
      "        [-0.7231],\n",
      "        [-0.6935],\n",
      "        ...,\n",
      "        [-1.1508],\n",
      "        [-1.1574],\n",
      "        [-1.0751]], grad_fn=<AddBackward0>)\n",
      "tensor([[-0.1441],\n",
      "        [-0.0783],\n",
      "        [-0.0708],\n",
      "        ...,\n",
      "        [ 0.1616],\n",
      "        [ 0.3161],\n",
      "        [ 0.1239]], grad_fn=<AddBackward0>)\n"
     ]
    },
    {
     "name": "stderr",
     "output_type": "stream",
     "text": [
      "\n",
      "\n",
      " 75%|███████▌  | 3/4 [00:00<00:00,  6.63it/s]\u001b[A\u001b[A\n",
      "\n",
      "100%|██████████| 4/4 [00:00<00:00,  6.96it/s]\u001b[A\u001b[A"
     ]
    },
    {
     "name": "stdout",
     "output_type": "stream",
     "text": [
      "tensor([[-1.5422],\n",
      "        [-1.5249],\n",
      "        [-1.4965],\n",
      "        ...,\n",
      "        [-1.0773],\n",
      "        [-1.1164],\n",
      "        [-1.0729]], grad_fn=<AddBackward0>)\n",
      "tensor([[1.0237],\n",
      "        [0.8512],\n",
      "        [0.9584],\n",
      "        ...,\n",
      "        [0.3743],\n",
      "        [0.2214],\n",
      "        [0.2322]], grad_fn=<AddBackward0>)\n",
      "[1 0 0 ... 1 1 1]\n",
      "[1 0 1 ... 1 0 0]\n"
     ]
    },
    {
     "name": "stderr",
     "output_type": "stream",
     "text": [
      "\n",
      "\n",
      "  1%|▏         | 128/10000 [01:25<2:06:30,  1.30it/s]\u001b[A"
     ]
    },
    {
     "name": "stdout",
     "output_type": "stream",
     "text": [
      "[1 0 1 ... 0 0 0]\n",
      "[1 1 1 ... 1 1 0]\n",
      "\n",
      "Epoch: 128, Loss: 2729.7959, Val: 0.6608, Test: 0.6619\n",
      "[1 0 1 ... 0 0 0]\n",
      "[1 1 1 ... 1 1 0]\n",
      "[1 0 0 ... 1 1 1]\n",
      "[1 0 1 ... 1 0 0]\n"
     ]
    },
    {
     "name": "stderr",
     "output_type": "stream",
     "text": [
      "\n",
      "\n",
      "  0%|          | 0/4 [00:00<?, ?it/s]\u001b[A\u001b[A\n",
      "\n",
      " 25%|██▌       | 1/4 [00:00<00:00,  6.41it/s]\u001b[A\u001b[A\n",
      "\n",
      " 50%|█████     | 2/4 [00:00<00:00,  6.47it/s]\u001b[A\u001b[A"
     ]
    },
    {
     "name": "stdout",
     "output_type": "stream",
     "text": [
      "tensor([[-0.5935],\n",
      "        [-0.3629],\n",
      "        [-0.4929],\n",
      "        ...,\n",
      "        [ 0.1085],\n",
      "        [ 0.1036],\n",
      "        [ 0.0577]], grad_fn=<AddBackward0>)\n",
      "tensor([[-0.2212],\n",
      "        [-0.3020],\n",
      "        [-0.1392],\n",
      "        ...,\n",
      "        [ 0.4849],\n",
      "        [ 0.4340],\n",
      "        [ 0.4349]], grad_fn=<AddBackward0>)\n"
     ]
    },
    {
     "name": "stderr",
     "output_type": "stream",
     "text": [
      "\n",
      "\n",
      "100%|██████████| 4/4 [00:00<00:00,  7.49it/s]\u001b[A\u001b[A\n",
      "\n",
      "  1%|▏         | 129/10000 [01:26<1:59:22,  1.38it/s]\u001b[A"
     ]
    },
    {
     "name": "stdout",
     "output_type": "stream",
     "text": [
      "tensor([[ 0.0377],\n",
      "        [ 0.0346],\n",
      "        [ 0.0466],\n",
      "        ...,\n",
      "        [-2.1670],\n",
      "        [-1.9825],\n",
      "        [-1.9110]], grad_fn=<AddBackward0>)\n",
      "tensor([[-1.2865],\n",
      "        [-1.3001],\n",
      "        [-1.2868],\n",
      "        ...,\n",
      "        [ 0.0805],\n",
      "        [ 0.0798],\n",
      "        [ 0.0661]], grad_fn=<AddBackward0>)\n",
      "[1 0 0 ... 1 1 1]\n",
      "[1 0 1 ... 1 0 0]\n",
      "[1 0 1 ... 0 0 0]\n",
      "[1 1 1 ... 1 1 0]\n"
     ]
    },
    {
     "name": "stderr",
     "output_type": "stream",
     "text": [
      "\n",
      "\n",
      "  0%|          | 0/4 [00:00<?, ?it/s]\u001b[A\u001b[A\n",
      "\n",
      " 25%|██▌       | 1/4 [00:00<00:00,  7.02it/s]\u001b[A\u001b[A\n",
      "\n",
      " 50%|█████     | 2/4 [00:00<00:00,  6.89it/s]\u001b[A\u001b[A"
     ]
    },
    {
     "name": "stdout",
     "output_type": "stream",
     "text": [
      "tensor([[-0.7210],\n",
      "        [-0.7213],\n",
      "        [-0.7222],\n",
      "        ...,\n",
      "        [ 0.4482],\n",
      "        [ 0.4197],\n",
      "        [ 0.4888]], grad_fn=<AddBackward0>)\n",
      "tensor([[ 0.5449],\n",
      "        [ 0.5452],\n",
      "        [ 0.5453],\n",
      "        ...,\n",
      "        [-1.0898],\n",
      "        [-1.0574],\n",
      "        [-1.0605]], grad_fn=<AddBackward0>)\n"
     ]
    },
    {
     "name": "stderr",
     "output_type": "stream",
     "text": [
      "\n",
      "\n",
      " 75%|███████▌  | 3/4 [00:00<00:00,  6.62it/s]\u001b[A\u001b[A\n",
      "\n",
      "100%|██████████| 4/4 [00:00<00:00,  7.12it/s]\u001b[A\u001b[A"
     ]
    },
    {
     "name": "stdout",
     "output_type": "stream",
     "text": [
      "tensor([[0.8405],\n",
      "        [0.9228],\n",
      "        [0.7508],\n",
      "        ...,\n",
      "        [1.6609],\n",
      "        [1.7682],\n",
      "        [1.6571]], grad_fn=<AddBackward0>)\n",
      "tensor([[-1.0297],\n",
      "        [-1.0309],\n",
      "        [-1.0344],\n",
      "        ...,\n",
      "        [-0.4022],\n",
      "        [-0.3980],\n",
      "        [-0.4142]], grad_fn=<AddBackward0>)\n",
      "[1 0 0 ... 1 1 1]\n",
      "[1 0 1 ... 1 0 0]\n"
     ]
    },
    {
     "name": "stderr",
     "output_type": "stream",
     "text": [
      "\n",
      "\n",
      "  1%|▏         | 130/10000 [01:27<2:13:52,  1.23it/s]\u001b[A"
     ]
    },
    {
     "name": "stdout",
     "output_type": "stream",
     "text": [
      "[0 0 1 ... 0 0 0]\n",
      "[1 1 1 ... 1 1 0]\n"
     ]
    },
    {
     "name": "stderr",
     "output_type": "stream",
     "text": [
      "\n",
      "\n",
      "  0%|          | 0/4 [00:00<?, ?it/s]\u001b[A\u001b[A\n",
      "\n",
      " 25%|██▌       | 1/4 [00:00<00:00,  7.56it/s]\u001b[A\u001b[A"
     ]
    },
    {
     "name": "stdout",
     "output_type": "stream",
     "text": [
      "tensor([[ 1.1120],\n",
      "        [ 1.1058],\n",
      "        [ 0.8766],\n",
      "        ...,\n",
      "        [-0.1009],\n",
      "        [-0.0702],\n",
      "        [-0.0796]], grad_fn=<AddBackward0>)\n"
     ]
    },
    {
     "name": "stderr",
     "output_type": "stream",
     "text": [
      "\n",
      "\n",
      " 50%|█████     | 2/4 [00:00<00:00,  8.82it/s]\u001b[A\u001b[A"
     ]
    },
    {
     "name": "stdout",
     "output_type": "stream",
     "text": [
      "tensor([[-1.1980],\n",
      "        [-1.1145],\n",
      "        [-1.1177],\n",
      "        ...,\n",
      "        [ 0.5627],\n",
      "        [ 0.5723],\n",
      "        [ 0.4344]], grad_fn=<AddBackward0>)\n"
     ]
    },
    {
     "name": "stderr",
     "output_type": "stream",
     "text": [
      "\n",
      "\n",
      " 75%|███████▌  | 3/4 [00:00<00:00,  7.60it/s]\u001b[A\u001b[A"
     ]
    },
    {
     "name": "stdout",
     "output_type": "stream",
     "text": [
      "tensor([[-1.5655],\n",
      "        [-1.5369],\n",
      "        [-1.5314],\n",
      "        ...,\n",
      "        [ 1.0159],\n",
      "        [ 1.0580],\n",
      "        [ 1.0585]], grad_fn=<AddBackward0>)\n"
     ]
    },
    {
     "name": "stderr",
     "output_type": "stream",
     "text": [
      "\r",
      "100%|██████████| 4/4 [00:00<00:00,  8.28it/s]"
     ]
    },
    {
     "name": "stdout",
     "output_type": "stream",
     "text": [
      "tensor([[1.0409],\n",
      "        [0.9788],\n",
      "        [1.0609],\n",
      "        ...,\n",
      "        [1.3119],\n",
      "        [1.3976],\n",
      "        [0.8920]], grad_fn=<AddBackward0>)\n",
      "[1 0 0 ... 1 1 1]\n",
      "[1 0 1 ... 1 0 0]\n",
      "[0 0 1 ... 0 0 0]\n",
      "[1 1 1 ... 1 1 0]\n",
      "\n",
      "Epoch: 131, Loss: 2535.8008, Val: 0.6612, Test: 0.6635\n",
      "[0 0 1 ... 0 0 0]\n",
      "[1 1 1 ... 1 1 0]\n"
     ]
    },
    {
     "name": "stderr",
     "output_type": "stream",
     "text": [
      "\n",
      "\n",
      "  1%|▏         | 131/10000 [01:28<2:04:58,  1.32it/s]\u001b[A"
     ]
    },
    {
     "name": "stdout",
     "output_type": "stream",
     "text": [
      "[1 0 0 ... 1 1 1]\n",
      "[1 0 1 ... 1 0 0]\n"
     ]
    },
    {
     "name": "stderr",
     "output_type": "stream",
     "text": [
      "\n",
      "\n",
      "  0%|          | 0/4 [00:00<?, ?it/s]\u001b[A\u001b[A\n",
      "\n",
      " 25%|██▌       | 1/4 [00:00<00:00,  8.97it/s]\u001b[A\u001b[A"
     ]
    },
    {
     "name": "stdout",
     "output_type": "stream",
     "text": [
      "tensor([[-0.0989],\n",
      "        [-0.1024],\n",
      "        [-0.1129],\n",
      "        ...,\n",
      "        [-0.5303],\n",
      "        [-0.4119],\n",
      "        [-0.4209]], grad_fn=<AddBackward0>)\n"
     ]
    },
    {
     "name": "stderr",
     "output_type": "stream",
     "text": [
      "\n",
      "\n",
      " 75%|███████▌  | 3/4 [00:00<00:00, 10.68it/s]\u001b[A\u001b[A"
     ]
    },
    {
     "name": "stdout",
     "output_type": "stream",
     "text": [
      "tensor([[0.2520],\n",
      "        [0.3372],\n",
      "        [0.3057],\n",
      "        ...,\n",
      "        [1.9635],\n",
      "        [1.9159],\n",
      "        [1.8421]], grad_fn=<AddBackward0>)\n",
      "tensor([[-0.7087],\n",
      "        [-0.5768],\n",
      "        [-0.7437],\n",
      "        ...,\n",
      "        [ 1.0459],\n",
      "        [ 1.2434],\n",
      "        [ 1.2053]], grad_fn=<AddBackward0>)\n"
     ]
    },
    {
     "name": "stderr",
     "output_type": "stream",
     "text": [
      "\r",
      "100%|██████████| 4/4 [00:00<00:00, 11.08it/s]"
     ]
    },
    {
     "name": "stdout",
     "output_type": "stream",
     "text": [
      "tensor([[-1.0010],\n",
      "        [-1.0316],\n",
      "        [-1.0314],\n",
      "        ...,\n",
      "        [ 2.2085],\n",
      "        [ 2.2341],\n",
      "        [ 2.1482]], grad_fn=<AddBackward0>)\n",
      "[1 0 0 ... 1 1 1]\n",
      "[1 0 1 ... 1 0 0]\n"
     ]
    },
    {
     "name": "stderr",
     "output_type": "stream",
     "text": [
      "\n",
      "\n",
      "  1%|▏         | 132/10000 [01:28<2:00:40,  1.36it/s]\u001b[A"
     ]
    },
    {
     "name": "stdout",
     "output_type": "stream",
     "text": [
      "[0 0 1 ... 0 0 0]\n",
      "[1 1 1 ... 1 1 0]\n",
      "\n",
      "Epoch: 132, Loss: 2498.7578, Val: 0.6615, Test: 0.6641\n",
      "[0 0 1 ... 0 0 0]\n",
      "[1 1 1 ... 1 1 0]\n",
      "[1 0 0 ... 1 1 1]\n",
      "[1 0 1 ... 1 0 0]\n"
     ]
    },
    {
     "name": "stderr",
     "output_type": "stream",
     "text": [
      "\n",
      "\n",
      "  0%|          | 0/4 [00:00<?, ?it/s]\u001b[A\u001b[A"
     ]
    },
    {
     "name": "stdout",
     "output_type": "stream",
     "text": [
      "tensor([[ 0.1950],\n",
      "        [-0.0005],\n",
      "        [ 0.1125],\n",
      "        ...,\n",
      "        [ 0.2028],\n",
      "        [-0.0247],\n",
      "        [ 0.2010]], grad_fn=<AddBackward0>)"
     ]
    },
    {
     "name": "stderr",
     "output_type": "stream",
     "text": [
      "\n",
      "\n",
      " 25%|██▌       | 1/4 [00:00<00:00,  9.08it/s]\u001b[A\u001b[A\n",
      "\n",
      " 75%|███████▌  | 3/4 [00:00<00:00, 10.52it/s]\u001b[A\u001b[A"
     ]
    },
    {
     "name": "stdout",
     "output_type": "stream",
     "text": [
      "\n",
      "tensor([[0.9699],\n",
      "        [0.9700],\n",
      "        [0.9756],\n",
      "        ...,\n",
      "        [0.3215],\n",
      "        [0.2449],\n",
      "        [0.2002]], grad_fn=<AddBackward0>)\n",
      "tensor([[ 0.0580],\n",
      "        [-0.0283],\n",
      "        [-0.0256],\n",
      "        ...,\n",
      "        [ 0.6605],\n",
      "        [ 0.6445],\n",
      "        [ 0.6665]], grad_fn=<AddBackward0>)\n"
     ]
    },
    {
     "name": "stderr",
     "output_type": "stream",
     "text": [
      "100%|██████████| 4/4 [00:00<00:00, 11.31it/s]\n"
     ]
    },
    {
     "name": "stdout",
     "output_type": "stream",
     "text": [
      "tensor([[-0.9462],\n",
      "        [-0.9602],\n",
      "        [-0.9455],\n",
      "        ...,\n",
      "        [-0.2619],\n",
      "        [-0.2632],\n",
      "        [-0.2673]], grad_fn=<AddBackward0>)\n",
      "[1 0 0 ... 1 1 1]\n",
      "[1 0 1 ... 1 0 0]\n",
      "[0 0 1 ... 0 0 0]\n",
      "[1 1 1 ... 1 1 0]\n"
     ]
    },
    {
     "name": "stderr",
     "output_type": "stream",
     "text": [
      "\n",
      "  1%|▏         | 133/10000 [01:29<1:55:17,  1.43it/s]\u001b[A"
     ]
    },
    {
     "name": "stdout",
     "output_type": "stream",
     "text": [
      "\n",
      "Epoch: 133, Loss: 2535.3484, Val: 0.6629, Test: 0.6644\n",
      "[0 0 1 ... 0 0 0]\n",
      "[1 1 1 ... 1 1 0]\n",
      "[1 0 0 ... 1 1 1]\n",
      "[1 0 1 ... 1 0 0]\n"
     ]
    },
    {
     "name": "stderr",
     "output_type": "stream",
     "text": [
      "\n",
      "\n",
      "  0%|          | 0/4 [00:00<?, ?it/s]\u001b[A\u001b[A\n",
      "\n",
      " 25%|██▌       | 1/4 [00:00<00:00,  9.78it/s]\u001b[A\u001b[A"
     ]
    },
    {
     "name": "stdout",
     "output_type": "stream",
     "text": [
      "tensor([[-0.4860],\n",
      "        [-0.7430],\n",
      "        [-0.8416],\n",
      "        ...,\n",
      "        [ 0.5490],\n",
      "        [ 0.5487],\n",
      "        [ 0.5490]], grad_fn=<AddBackward0>)\n"
     ]
    },
    {
     "name": "stderr",
     "output_type": "stream",
     "text": [
      "\n",
      "\n",
      " 50%|█████     | 2/4 [00:00<00:00,  9.66it/s]\u001b[A\u001b[A"
     ]
    },
    {
     "name": "stdout",
     "output_type": "stream",
     "text": [
      "tensor([[0.6366],\n",
      "        [0.6259],\n",
      "        [0.6516],\n",
      "        ...,\n",
      "        [0.1031],\n",
      "        [0.0848],\n",
      "        [0.0116]], grad_fn=<AddBackward0>)\n"
     ]
    },
    {
     "name": "stderr",
     "output_type": "stream",
     "text": [
      "\n",
      "\n",
      " 75%|███████▌  | 3/4 [00:00<00:00,  9.46it/s]\u001b[A\u001b[A"
     ]
    },
    {
     "name": "stdout",
     "output_type": "stream",
     "text": [
      "tensor([[1.5996],\n",
      "        [1.6013],\n",
      "        [1.5862],\n",
      "        ...,\n",
      "        [0.8487],\n",
      "        [0.7922],\n",
      "        [0.8286]], grad_fn=<AddBackward0>)\n",
      "tensor([[-0.5399],\n",
      "        [-0.5622],\n",
      "        [-0.5446],\n",
      "        ...,\n",
      "        [ 0.1653],\n",
      "        [ 0.1359],\n",
      "        [ 0.1281]], grad_fn=<AddBackward0>)\n"
     ]
    },
    {
     "name": "stderr",
     "output_type": "stream",
     "text": [
      "100%|██████████| 4/4 [00:00<00:00,  9.90it/s]\n",
      "\n",
      "  1%|▏         | 134/10000 [01:29<1:44:23,  1.58it/s]\u001b[A"
     ]
    },
    {
     "name": "stdout",
     "output_type": "stream",
     "text": [
      "[1 0 0 ... 1 1 1]\n",
      "[1 0 1 ... 1 0 0]\n",
      "[0 0 1 ... 0 0 0]\n",
      "[1 1 1 ... 1 1 0]\n"
     ]
    },
    {
     "name": "stderr",
     "output_type": "stream",
     "text": [
      "\n",
      "\n",
      "  0%|          | 0/4 [00:00<?, ?it/s]\u001b[A\u001b[A\n",
      "\n",
      " 25%|██▌       | 1/4 [00:00<00:00,  8.81it/s]\u001b[A\u001b[A"
     ]
    },
    {
     "name": "stdout",
     "output_type": "stream",
     "text": [
      "tensor([[-0.2052],\n",
      "        [-0.1863],\n",
      "        [-0.1894],\n",
      "        ...,\n",
      "        [-0.1890],\n",
      "        [-0.2408],\n",
      "        [-0.2607]], grad_fn=<AddBackward0>)\n"
     ]
    },
    {
     "name": "stderr",
     "output_type": "stream",
     "text": [
      "\n",
      "\n",
      " 50%|█████     | 2/4 [00:00<00:00,  8.67it/s]\u001b[A\u001b[A"
     ]
    },
    {
     "name": "stdout",
     "output_type": "stream",
     "text": [
      "tensor([[ 0.5967],\n",
      "        [ 0.6585],\n",
      "        [ 0.6505],\n",
      "        ...,\n",
      "        [-0.1521],\n",
      "        [-0.0905],\n",
      "        [-0.0440]], grad_fn=<AddBackward0>)\n"
     ]
    },
    {
     "name": "stderr",
     "output_type": "stream",
     "text": [
      "\n",
      "\n",
      " 75%|███████▌  | 3/4 [00:00<00:00,  7.97it/s]\u001b[A\u001b[A"
     ]
    },
    {
     "name": "stdout",
     "output_type": "stream",
     "text": [
      "tensor([[-1.2594],\n",
      "        [-1.3376],\n",
      "        [-1.0237],\n",
      "        ...,\n",
      "        [-1.1855],\n",
      "        [-1.1167],\n",
      "        [-1.3438]], grad_fn=<AddBackward0>)\n"
     ]
    },
    {
     "name": "stderr",
     "output_type": "stream",
     "text": [
      "\n",
      "\n",
      "100%|██████████| 4/4 [00:00<00:00,  8.36it/s]\u001b[A\u001b[A"
     ]
    },
    {
     "name": "stdout",
     "output_type": "stream",
     "text": [
      "tensor([[-1.4335],\n",
      "        [-1.4459],\n",
      "        [-1.4548],\n",
      "        ...,\n",
      "        [-0.4254],\n",
      "        [-0.4939],\n",
      "        [-0.4173]], grad_fn=<AddBackward0>)\n",
      "[1 0 0 ... 1 1 1]\n",
      "[1 0 1 ... 1 0 0]\n",
      "[0 0 1 ... 0 0 0]\n",
      "[1 1 1 ... 1 1 0]\n"
     ]
    },
    {
     "name": "stderr",
     "output_type": "stream",
     "text": [
      "\n",
      "\n",
      "  1%|▏         | 135/10000 [01:30<1:48:03,  1.52it/s]\u001b[A\n",
      "\n",
      "  0%|          | 0/4 [00:00<?, ?it/s]\u001b[A\u001b[A\n",
      "\n",
      " 50%|█████     | 2/4 [00:00<00:00, 10.62it/s]\u001b[A\u001b[A"
     ]
    },
    {
     "name": "stdout",
     "output_type": "stream",
     "text": [
      "tensor([[-0.1053],\n",
      "        [-0.0950],\n",
      "        [-0.1028],\n",
      "        ...,\n",
      "        [-0.1551],\n",
      "        [-0.1608],\n",
      "        [-0.1581]], grad_fn=<AddBackward0>)\n",
      "tensor([[0.9821],\n",
      "        [0.9860],\n",
      "        [0.9800],\n",
      "        ...,\n",
      "        [0.6091],\n",
      "        [0.6594],\n",
      "        [0.6908]], grad_fn=<AddBackward0>)\n"
     ]
    },
    {
     "name": "stderr",
     "output_type": "stream",
     "text": [
      "\n",
      "\n",
      "100%|██████████| 4/4 [00:00<00:00, 10.01it/s]\u001b[A\u001b[A"
     ]
    },
    {
     "name": "stdout",
     "output_type": "stream",
     "text": [
      "tensor([[0.5965],\n",
      "        [0.3803],\n",
      "        [0.4196],\n",
      "        ...,\n",
      "        [0.2755],\n",
      "        [0.2641],\n",
      "        [0.2282]], grad_fn=<AddBackward0>)\n",
      "tensor([[-2.2399],\n",
      "        [-2.3168],\n",
      "        [-2.2337],\n",
      "        ...,\n",
      "        [-0.4870],\n",
      "        [-0.4663],\n",
      "        [-0.4959]], grad_fn=<AddBackward0>)\n",
      "[1 0 0 ... 1 1 1]\n",
      "[1 0 1 ... 1 0 0]\n",
      "[0 0 1 ... 0 0 0]\n",
      "[1 1 1 ... 1 1 0]\n",
      "\n",
      "Epoch: 136, Loss: 2447.4282, Val: 0.6633, Test: 0.6652\n",
      "[0 0 1 ... 0 0 0]\n",
      "[1 1 1 ... 1 1 0]\n"
     ]
    },
    {
     "name": "stderr",
     "output_type": "stream",
     "text": [
      "\n",
      "\n",
      "  1%|▏         | 136/10000 [01:31<1:42:48,  1.60it/s]\u001b[A"
     ]
    },
    {
     "name": "stdout",
     "output_type": "stream",
     "text": [
      "[1 0 0 ... 1 1 1]\n",
      "[1 0 1 ... 1 0 0]\n"
     ]
    },
    {
     "name": "stderr",
     "output_type": "stream",
     "text": [
      "\n",
      "\n",
      "  0%|          | 0/4 [00:00<?, ?it/s]\u001b[A\u001b[A"
     ]
    },
    {
     "name": "stdout",
     "output_type": "stream",
     "text": [
      "tensor([[0.8669],\n",
      "        [0.8784],\n",
      "        [0.9581],\n",
      "        ...,\n",
      "        [0.4386],\n",
      "        [0.4222],\n",
      "        [0.4381]], grad_fn=<AddBackward0>)\n"
     ]
    },
    {
     "name": "stderr",
     "output_type": "stream",
     "text": [
      "\n",
      "\n",
      " 50%|█████     | 2/4 [00:00<00:00, 10.30it/s]\u001b[A\u001b[A"
     ]
    },
    {
     "name": "stdout",
     "output_type": "stream",
     "text": [
      "tensor([[0.7663],\n",
      "        [0.7671],\n",
      "        [0.7893],\n",
      "        ...,\n",
      "        [1.1187],\n",
      "        [1.2576],\n",
      "        [1.3589]], grad_fn=<AddBackward0>)\n",
      "tensor([[ 0.7119],\n",
      "        [ 0.7424],\n",
      "        [ 0.7350],\n",
      "        ...,\n",
      "        [-1.9849],\n",
      "        [-1.8727],\n",
      "        [-1.8086]], grad_fn=<AddBackward0>)\n"
     ]
    },
    {
     "name": "stderr",
     "output_type": "stream",
     "text": [
      "\n",
      "\n",
      "100%|██████████| 4/4 [00:00<00:00, 10.43it/s]\u001b[A\u001b[A"
     ]
    },
    {
     "name": "stdout",
     "output_type": "stream",
     "text": [
      "tensor([[ 1.4824],\n",
      "        [ 1.4981],\n",
      "        [ 1.5140],\n",
      "        ...,\n",
      "        [-0.4285],\n",
      "        [-0.4353],\n",
      "        [-0.4241]], grad_fn=<AddBackward0>)\n",
      "[1 0 0 ... 1 1 1]\n",
      "[1 0 1 ... 1 0 0]\n"
     ]
    },
    {
     "name": "stderr",
     "output_type": "stream",
     "text": [
      "\n"
     ]
    },
    {
     "name": "stdout",
     "output_type": "stream",
     "text": [
      "[0 0 1 ... 0 0 0]\n",
      "[1 1 1 ... 1 1 0]\n",
      "\n",
      "Epoch: 137, Loss: 2447.3704, Val: 0.6635, Test: 0.6656\n",
      "[0 0 1 ... 0 0 0]\n",
      "[1 1 1 ... 1 1 0]\n"
     ]
    },
    {
     "name": "stderr",
     "output_type": "stream",
     "text": [
      "\n",
      "  1%|▏         | 137/10000 [01:31<1:45:48,  1.55it/s]\u001b[A"
     ]
    },
    {
     "name": "stdout",
     "output_type": "stream",
     "text": [
      "[1 0 0 ... 1 1 1]\n",
      "[1 0 1 ... 1 0 0]\n"
     ]
    },
    {
     "name": "stderr",
     "output_type": "stream",
     "text": [
      "\n",
      "\n",
      "  0%|          | 0/4 [00:00<?, ?it/s]\u001b[A\u001b[A\n",
      "\n",
      " 25%|██▌       | 1/4 [00:00<00:00,  9.26it/s]\u001b[A\u001b[A"
     ]
    },
    {
     "name": "stdout",
     "output_type": "stream",
     "text": [
      "tensor([[1.1440],\n",
      "        [1.0780],\n",
      "        [1.0697],\n",
      "        ...,\n",
      "        [1.3861],\n",
      "        [1.3917],\n",
      "        [1.3603]], grad_fn=<AddBackward0>)\n"
     ]
    },
    {
     "name": "stderr",
     "output_type": "stream",
     "text": [
      "\n",
      "\n",
      " 50%|█████     | 2/4 [00:00<00:00,  8.63it/s]\u001b[A\u001b[A"
     ]
    },
    {
     "name": "stdout",
     "output_type": "stream",
     "text": [
      "tensor([[0.6062],\n",
      "        [0.6139],\n",
      "        [0.6308],\n",
      "        ...,\n",
      "        [0.2508],\n",
      "        [0.2318],\n",
      "        [0.2422]], grad_fn=<AddBackward0>)\n"
     ]
    },
    {
     "name": "stderr",
     "output_type": "stream",
     "text": [
      "\n",
      "\n",
      "100%|██████████| 4/4 [00:00<00:00,  9.65it/s]\u001b[A\u001b[A"
     ]
    },
    {
     "name": "stdout",
     "output_type": "stream",
     "text": [
      "tensor([[0.4867],\n",
      "        [0.4762],\n",
      "        [0.4163],\n",
      "        ...,\n",
      "        [0.8238],\n",
      "        [0.8708],\n",
      "        [0.8880]], grad_fn=<AddBackward0>)\n",
      "tensor([[-0.1736],\n",
      "        [-0.1771],\n",
      "        [-0.1751],\n",
      "        ...,\n",
      "        [-0.4532],\n",
      "        [-0.4363],\n",
      "        [-0.4254]], grad_fn=<AddBackward0>)\n",
      "[1 0 0 ... 1 1 1]\n",
      "[1 0 1 ... 1 0 0]\n"
     ]
    },
    {
     "name": "stderr",
     "output_type": "stream",
     "text": [
      "\n"
     ]
    },
    {
     "name": "stdout",
     "output_type": "stream",
     "text": [
      "[0 0 1 ... 0 0 0]\n",
      "[1 1 1 ... 1 1 0]\n",
      "\n",
      "Epoch: 138, Loss: 2380.1499, Val: 0.6638, Test: 0.6660\n",
      "[0 0 1 ... 0 0 0]\n",
      "[1 1 1 ... 1 1 0]\n",
      "[1 0 0 ... 1 1 1]\n",
      "[1 0 1 ... 1 0 0]\n"
     ]
    },
    {
     "name": "stderr",
     "output_type": "stream",
     "text": [
      "\n",
      "  1%|▏         | 138/10000 [01:32<1:51:03,  1.48it/s]\u001b[A\n",
      "\n",
      "  0%|          | 0/4 [00:00<?, ?it/s]\u001b[A\u001b[A\n",
      "\n",
      " 50%|█████     | 2/4 [00:00<00:00, 10.08it/s]\u001b[A\u001b[A"
     ]
    },
    {
     "name": "stdout",
     "output_type": "stream",
     "text": [
      "tensor([[1.3639],\n",
      "        [1.4075],\n",
      "        [1.3318],\n",
      "        ...,\n",
      "        [1.0339],\n",
      "        [1.0404],\n",
      "        [1.0554]], grad_fn=<AddBackward0>)\n",
      "tensor([[-0.1971],\n",
      "        [-0.0607],\n",
      "        [-0.0575],\n",
      "        ...,\n",
      "        [-1.0060],\n",
      "        [-1.0618],\n",
      "        [-1.1886]], grad_fn=<AddBackward0>)\n"
     ]
    },
    {
     "name": "stderr",
     "output_type": "stream",
     "text": [
      "\n",
      "\n",
      "100%|██████████| 4/4 [00:00<00:00, 10.34it/s]\u001b[A\u001b[A\n"
     ]
    },
    {
     "name": "stdout",
     "output_type": "stream",
     "text": [
      "tensor([[0.8709],\n",
      "        [0.9184],\n",
      "        [0.8117],\n",
      "        ...,\n",
      "        [0.4363],\n",
      "        [0.5004],\n",
      "        [0.4989]], grad_fn=<AddBackward0>)\n",
      "tensor([[-1.4401],\n",
      "        [-1.4511],\n",
      "        [-1.5257],\n",
      "        ...,\n",
      "        [ 0.2882],\n",
      "        [ 0.3395],\n",
      "        [ 0.2801]], grad_fn=<AddBackward0>)\n",
      "[1 0 0 ... 1 1 1]\n",
      "[1 0 1 ... 1 0 0]\n",
      "[0 0 1 ... 0 0 0]\n",
      "[1 1 1 ... 1 1 0]\n",
      "\n",
      "Epoch: 139, Loss: 2279.6008, Val: 0.6645, Test: 0.6661\n",
      "[0 0 1 ... 0 0 0]\n",
      "[1 1 1 ... 1 1 0]\n"
     ]
    },
    {
     "name": "stderr",
     "output_type": "stream",
     "text": [
      "\n",
      "  1%|▏         | 139/10000 [01:33<1:45:48,  1.55it/s]\u001b[A"
     ]
    },
    {
     "name": "stdout",
     "output_type": "stream",
     "text": [
      "[1 0 0 ... 1 1 1]\n",
      "[1 0 1 ... 1 0 0]\n"
     ]
    },
    {
     "name": "stderr",
     "output_type": "stream",
     "text": [
      "\n",
      "\n",
      "  0%|          | 0/4 [00:00<?, ?it/s]\u001b[A\u001b[A\n",
      "\n",
      " 25%|██▌       | 1/4 [00:00<00:00,  6.51it/s]\u001b[A\u001b[A"
     ]
    },
    {
     "name": "stdout",
     "output_type": "stream",
     "text": [
      "tensor([[ 1.3984],\n",
      "        [ 1.3979],\n",
      "        [ 1.4079],\n",
      "        ...,\n",
      "        [-0.0500],\n",
      "        [ 0.0820],\n",
      "        [ 0.1614]], grad_fn=<AddBackward0>)\n"
     ]
    },
    {
     "name": "stderr",
     "output_type": "stream",
     "text": [
      "\n",
      "\n",
      " 50%|█████     | 2/4 [00:00<00:00,  7.83it/s]\u001b[A\u001b[A"
     ]
    },
    {
     "name": "stdout",
     "output_type": "stream",
     "text": [
      "tensor([[0.8004],\n",
      "        [0.7499],\n",
      "        [0.7482],\n",
      "        ...,\n",
      "        [0.6898],\n",
      "        [0.6690],\n",
      "        [0.6789]], grad_fn=<AddBackward0>)\n"
     ]
    },
    {
     "name": "stderr",
     "output_type": "stream",
     "text": [
      "\n",
      "\n",
      " 75%|███████▌  | 3/4 [00:00<00:00,  7.23it/s]\u001b[A\u001b[A"
     ]
    },
    {
     "name": "stdout",
     "output_type": "stream",
     "text": [
      "tensor([[-1.1883],\n",
      "        [-0.9936],\n",
      "        [-0.9216],\n",
      "        ...,\n",
      "        [ 0.2750],\n",
      "        [ 0.2986],\n",
      "        [ 0.3426]], grad_fn=<AddBackward0>)\n"
     ]
    },
    {
     "name": "stderr",
     "output_type": "stream",
     "text": [
      "\n",
      "\n",
      "100%|██████████| 4/4 [00:00<00:00,  7.47it/s]\u001b[A\u001b[A"
     ]
    },
    {
     "name": "stdout",
     "output_type": "stream",
     "text": [
      "tensor([[ 2.2655],\n",
      "        [ 2.1366],\n",
      "        [ 2.2002],\n",
      "        ...,\n",
      "        [-0.7254],\n",
      "        [-0.7262],\n",
      "        [-0.9033]], grad_fn=<AddBackward0>)\n",
      "[1 0 0 ... 1 1 1]\n",
      "[1 0 1 ... 1 0 0]\n",
      "[0 0 1 ... 0 0 0]\n",
      "[1 1 1 ... 1 1 0]\n"
     ]
    },
    {
     "name": "stderr",
     "output_type": "stream",
     "text": [
      "\n",
      "\n",
      "  1%|▏         | 140/10000 [01:33<1:55:14,  1.43it/s]\u001b[A"
     ]
    },
    {
     "name": "stdout",
     "output_type": "stream",
     "text": [
      "\n",
      "Epoch: 140, Loss: 2327.2180, Val: 0.6652, Test: 0.6669\n",
      "[0 0 1 ... 0 0 0]\n",
      "[1 1 1 ... 1 1 0]\n",
      "[1 0 0 ... 1 1 1]\n",
      "[1 0 1 ... 1 0 0]\n"
     ]
    },
    {
     "name": "stderr",
     "output_type": "stream",
     "text": [
      "\n",
      "\n",
      "  0%|          | 0/4 [00:00<?, ?it/s]\u001b[A\u001b[A\n",
      "\n",
      " 25%|██▌       | 1/4 [00:00<00:00,  8.76it/s]\u001b[A\u001b[A"
     ]
    },
    {
     "name": "stdout",
     "output_type": "stream",
     "text": [
      "tensor([[0.0368],\n",
      "        [0.2821],\n",
      "        [0.2455],\n",
      "        ...,\n",
      "        [1.9312],\n",
      "        [1.7498],\n",
      "        [1.8918]], grad_fn=<AddBackward0>)\n"
     ]
    },
    {
     "name": "stderr",
     "output_type": "stream",
     "text": [
      "\n",
      "\n",
      " 50%|█████     | 2/4 [00:00<00:00,  8.53it/s]\u001b[A\u001b[A"
     ]
    },
    {
     "name": "stdout",
     "output_type": "stream",
     "text": [
      "tensor([[-0.0727],\n",
      "        [-0.0473],\n",
      "        [-0.0192],\n",
      "        ...,\n",
      "        [-0.4317],\n",
      "        [-0.4421],\n",
      "        [-0.4391]], grad_fn=<AddBackward0>)\n"
     ]
    },
    {
     "name": "stderr",
     "output_type": "stream",
     "text": [
      "\n",
      "\n",
      "100%|██████████| 4/4 [00:00<00:00,  9.37it/s]\u001b[A\u001b[A"
     ]
    },
    {
     "name": "stdout",
     "output_type": "stream",
     "text": [
      "tensor([[1.0128],\n",
      "        [1.0097],\n",
      "        [1.0001],\n",
      "        ...,\n",
      "        [0.7261],\n",
      "        [0.8123],\n",
      "        [0.7810]], grad_fn=<AddBackward0>)\n",
      "tensor([[-0.7253],\n",
      "        [-0.7516],\n",
      "        [-0.7216],\n",
      "        ...,\n",
      "        [ 2.2275],\n",
      "        [ 2.6686],\n",
      "        [ 2.2176]], grad_fn=<AddBackward0>)\n"
     ]
    },
    {
     "name": "stderr",
     "output_type": "stream",
     "text": [
      "\n",
      "\n",
      "  1%|▏         | 141/10000 [01:34<1:44:51,  1.57it/s]\u001b[A"
     ]
    },
    {
     "name": "stdout",
     "output_type": "stream",
     "text": [
      "[1 0 0 ... 1 1 1]\n",
      "[1 0 1 ... 1 0 0]\n",
      "[0 0 1 ... 0 0 0]\n",
      "[1 1 1 ... 1 1 0]\n"
     ]
    },
    {
     "name": "stderr",
     "output_type": "stream",
     "text": [
      "\n",
      "\n",
      "  0%|          | 0/4 [00:00<?, ?it/s]\u001b[A\u001b[A\n",
      "\n",
      " 25%|██▌       | 1/4 [00:00<00:00,  8.07it/s]\u001b[A\u001b[A"
     ]
    },
    {
     "name": "stdout",
     "output_type": "stream",
     "text": [
      "tensor([[-1.3111],\n",
      "        [-1.3395],\n",
      "        [-1.3014],\n",
      "        ...,\n",
      "        [-0.0559],\n",
      "        [-0.0417],\n",
      "        [-0.0414]], grad_fn=<AddBackward0>)\n"
     ]
    },
    {
     "name": "stderr",
     "output_type": "stream",
     "text": [
      "\n",
      "\n",
      " 50%|█████     | 2/4 [00:00<00:00,  8.84it/s]\u001b[A\u001b[A"
     ]
    },
    {
     "name": "stdout",
     "output_type": "stream",
     "text": [
      "tensor([[-0.1810],\n",
      "        [-0.0163],\n",
      "        [-0.0170],\n",
      "        ...,\n",
      "        [ 0.2694],\n",
      "        [ 0.3540],\n",
      "        [-0.1239]], grad_fn=<AddBackward0>)\n"
     ]
    },
    {
     "name": "stderr",
     "output_type": "stream",
     "text": [
      "\n",
      "\n",
      " 75%|███████▌  | 3/4 [00:00<00:00,  9.25it/s]\u001b[A\u001b[A"
     ]
    },
    {
     "name": "stdout",
     "output_type": "stream",
     "text": [
      "tensor([[ 1.2021],\n",
      "        [ 1.2091],\n",
      "        [ 1.1008],\n",
      "        ...,\n",
      "        [-1.6015],\n",
      "        [-1.6118],\n",
      "        [-1.5958]], grad_fn=<AddBackward0>)\n",
      "tensor([[1.6270],\n",
      "        [1.6153],\n",
      "        [1.6423],\n",
      "        ...,\n",
      "        [0.0625],\n",
      "        [0.3117],\n",
      "        [0.2424]], grad_fn=<AddBackward0>)\n"
     ]
    },
    {
     "name": "stderr",
     "output_type": "stream",
     "text": [
      "100%|██████████| 4/4 [00:00<00:00,  9.31it/s]\n"
     ]
    },
    {
     "name": "stdout",
     "output_type": "stream",
     "text": [
      "[1 0 0 ... 1 1 1]\n",
      "[1 0 1 ... 1 0 0]\n",
      "[0 0 1 ... 0 0 0]\n",
      "[1 1 1 ... 1 1 0]\n"
     ]
    },
    {
     "name": "stderr",
     "output_type": "stream",
     "text": [
      "\n",
      "  1%|▏         | 142/10000 [01:35<1:45:42,  1.55it/s]\u001b[A\n",
      "\n",
      "  0%|          | 0/4 [00:00<?, ?it/s]\u001b[A\u001b[A\n",
      "\n",
      " 25%|██▌       | 1/4 [00:00<00:00,  9.10it/s]\u001b[A\u001b[A"
     ]
    },
    {
     "name": "stdout",
     "output_type": "stream",
     "text": [
      "tensor([[-0.4370],\n",
      "        [-0.4437],\n",
      "        [-0.4632],\n",
      "        ...,\n",
      "        [-0.1130],\n",
      "        [ 0.0207],\n",
      "        [ 0.0922]], grad_fn=<AddBackward0>)\n"
     ]
    },
    {
     "name": "stderr",
     "output_type": "stream",
     "text": [
      "\n",
      "\n",
      " 50%|█████     | 2/4 [00:00<00:00,  9.00it/s]\u001b[A\u001b[A"
     ]
    },
    {
     "name": "stdout",
     "output_type": "stream",
     "text": [
      "tensor([[-1.6306],\n",
      "        [-1.6620],\n",
      "        [-1.5836],\n",
      "        ...,\n",
      "        [-0.2326],\n",
      "        [-0.2818],\n",
      "        [-0.2356]], grad_fn=<AddBackward0>)\n"
     ]
    },
    {
     "name": "stderr",
     "output_type": "stream",
     "text": [
      "\n",
      "\n",
      "100%|██████████| 4/4 [00:00<00:00,  9.81it/s]\u001b[A\u001b[A"
     ]
    },
    {
     "name": "stdout",
     "output_type": "stream",
     "text": [
      "tensor([[1.2610],\n",
      "        [1.2238],\n",
      "        [1.2545],\n",
      "        ...,\n",
      "        [0.8530],\n",
      "        [0.7868],\n",
      "        [0.7736]], grad_fn=<AddBackward0>)\n",
      "tensor([[-1.0130],\n",
      "        [-1.0409],\n",
      "        [-0.9346],\n",
      "        ...,\n",
      "        [-0.6623],\n",
      "        [-0.6663],\n",
      "        [-0.7238]], grad_fn=<AddBackward0>)\n",
      "[1 0 0 ... 1 1 1]\n",
      "[1 0 1 ... 1 0 0]\n"
     ]
    },
    {
     "name": "stderr",
     "output_type": "stream",
     "text": [
      "\n",
      "\n",
      "  1%|▏         | 143/10000 [01:35<1:37:59,  1.68it/s]\u001b[A"
     ]
    },
    {
     "name": "stdout",
     "output_type": "stream",
     "text": [
      "[0 0 1 ... 0 0 0]\n",
      "[1 1 1 ... 1 1 0]\n"
     ]
    },
    {
     "name": "stderr",
     "output_type": "stream",
     "text": [
      "\n",
      "\n",
      "  0%|          | 0/4 [00:00<?, ?it/s]\u001b[A\u001b[A\n",
      "\n",
      " 25%|██▌       | 1/4 [00:00<00:00,  7.85it/s]\u001b[A\u001b[A"
     ]
    },
    {
     "name": "stdout",
     "output_type": "stream",
     "text": [
      "tensor([[ 0.4692],\n",
      "        [ 0.4592],\n",
      "        [ 0.4662],\n",
      "        ...,\n",
      "        [-0.2085],\n",
      "        [-0.2331],\n",
      "        [-0.1969]], grad_fn=<AddBackward0>)\n"
     ]
    },
    {
     "name": "stderr",
     "output_type": "stream",
     "text": [
      "\n",
      "\n",
      " 50%|█████     | 2/4 [00:00<00:00,  8.46it/s]\u001b[A\u001b[A"
     ]
    },
    {
     "name": "stdout",
     "output_type": "stream",
     "text": [
      "tensor([[ 0.0066],\n",
      "        [-0.0528],\n",
      "        [ 0.0038],\n",
      "        ...,\n",
      "        [ 1.1094],\n",
      "        [ 1.1184],\n",
      "        [ 1.1134]], grad_fn=<AddBackward0>)\n"
     ]
    },
    {
     "name": "stderr",
     "output_type": "stream",
     "text": [
      "\n",
      "\n",
      " 75%|███████▌  | 3/4 [00:00<00:00,  8.86it/s]\u001b[A\u001b[A"
     ]
    },
    {
     "name": "stdout",
     "output_type": "stream",
     "text": [
      "tensor([[-1.5106],\n",
      "        [-1.4964],\n",
      "        [-1.5194],\n",
      "        ...,\n",
      "        [ 1.1574],\n",
      "        [ 1.2202],\n",
      "        [ 1.0407]], grad_fn=<AddBackward0>)\n",
      "tensor([[ 1.0461],\n",
      "        [ 1.1077],\n",
      "        [ 1.0623],\n",
      "        ...,\n",
      "        [-0.4689],\n",
      "        [-0.4625],\n",
      "        [-0.4400]], grad_fn=<AddBackward0>)\n"
     ]
    },
    {
     "name": "stderr",
     "output_type": "stream",
     "text": [
      "\n",
      "\n",
      "100%|██████████| 4/4 [00:00<00:00,  8.70it/s]\u001b[A\u001b[A"
     ]
    },
    {
     "name": "stdout",
     "output_type": "stream",
     "text": [
      "[1 0 0 ... 1 1 1]\n",
      "[1 0 1 ... 1 0 0]\n",
      "[0 0 1 ... 0 0 0]\n",
      "[1 1 1 ... 1 1 0]\n",
      "\n",
      "Epoch: 144, Loss: 2202.0464, Val: 0.6658, Test: 0.6681\n",
      "[0 0 1 ... 0 0 0]\n",
      "[1 1 1 ... 1 1 0]\n"
     ]
    },
    {
     "name": "stderr",
     "output_type": "stream",
     "text": [
      "\n",
      "\n",
      "  1%|▏         | 144/10000 [01:36<1:43:37,  1.59it/s]\u001b[A"
     ]
    },
    {
     "name": "stdout",
     "output_type": "stream",
     "text": [
      "[1 0 0 ... 1 1 1]\n",
      "[1 0 1 ... 1 0 0]\n"
     ]
    },
    {
     "name": "stderr",
     "output_type": "stream",
     "text": [
      "\n",
      "\n",
      "  0%|          | 0/4 [00:00<?, ?it/s]\u001b[A\u001b[A\n",
      "\n",
      " 25%|██▌       | 1/4 [00:00<00:00,  8.19it/s]\u001b[A\u001b[A"
     ]
    },
    {
     "name": "stdout",
     "output_type": "stream",
     "text": [
      "tensor([[ 0.2059],\n",
      "        [ 0.2013],\n",
      "        [ 0.2097],\n",
      "        ...,\n",
      "        [-1.0106],\n",
      "        [-1.0108],\n",
      "        [-1.0223]], grad_fn=<AddBackward0>)\n"
     ]
    },
    {
     "name": "stderr",
     "output_type": "stream",
     "text": [
      "\n",
      "\n",
      " 50%|█████     | 2/4 [00:00<00:00,  8.68it/s]\u001b[A\u001b[A"
     ]
    },
    {
     "name": "stdout",
     "output_type": "stream",
     "text": [
      "tensor([[-0.8222],\n",
      "        [-0.8247],\n",
      "        [-0.9096],\n",
      "        ...,\n",
      "        [ 0.5784],\n",
      "        [ 0.5566],\n",
      "        [ 0.5421]], grad_fn=<AddBackward0>)\n"
     ]
    },
    {
     "name": "stderr",
     "output_type": "stream",
     "text": [
      "\n",
      "\n",
      " 75%|███████▌  | 3/4 [00:00<00:00,  8.50it/s]\u001b[A\u001b[A"
     ]
    },
    {
     "name": "stdout",
     "output_type": "stream",
     "text": [
      "tensor([[0.2720],\n",
      "        [0.2697],\n",
      "        [0.2702],\n",
      "        ...,\n",
      "        [0.7865],\n",
      "        [0.8611],\n",
      "        [0.7998]], grad_fn=<AddBackward0>)\n"
     ]
    },
    {
     "name": "stderr",
     "output_type": "stream",
     "text": [
      "\n",
      "\n",
      "100%|██████████| 4/4 [00:00<00:00,  8.43it/s]\u001b[A\u001b[A"
     ]
    },
    {
     "name": "stdout",
     "output_type": "stream",
     "text": [
      "tensor([[-0.3869],\n",
      "        [-0.3830],\n",
      "        [-0.3831],\n",
      "        ...,\n",
      "        [-0.7251],\n",
      "        [-0.7812],\n",
      "        [-0.7143]], grad_fn=<AddBackward0>)\n",
      "[1 0 0 ... 1 1 1]\n",
      "[1 0 1 ... 1 0 0]\n",
      "[0 0 1 ... 0 0 0]\n",
      "[1 1 1 ... 1 1 0]\n"
     ]
    },
    {
     "name": "stderr",
     "output_type": "stream",
     "text": [
      "\n",
      "\n",
      "  1%|▏         | 145/10000 [01:36<1:45:00,  1.56it/s]\u001b[A"
     ]
    },
    {
     "name": "stdout",
     "output_type": "stream",
     "text": [
      "\n",
      "Epoch: 145, Loss: 2158.7869, Val: 0.6664, Test: 0.6682\n",
      "[0 0 1 ... 0 0 0]\n",
      "[1 1 1 ... 1 1 0]\n",
      "[1 0 0 ... 1 1 1]\n",
      "[1 0 1 ... 1 0 0]\n"
     ]
    },
    {
     "name": "stderr",
     "output_type": "stream",
     "text": [
      "\n",
      "\n",
      "  0%|          | 0/4 [00:00<?, ?it/s]\u001b[A\u001b[A\n",
      "\n",
      " 25%|██▌       | 1/4 [00:00<00:00,  6.65it/s]\u001b[A\u001b[A\n",
      "\n",
      " 50%|█████     | 2/4 [00:00<00:00,  6.44it/s]\u001b[A\u001b[A"
     ]
    },
    {
     "name": "stdout",
     "output_type": "stream",
     "text": [
      "tensor([[-0.5075],\n",
      "        [-0.4612],\n",
      "        [-0.4454],\n",
      "        ...,\n",
      "        [ 0.5571],\n",
      "        [ 0.5685],\n",
      "        [ 0.5394]], grad_fn=<AddBackward0>)\n",
      "tensor([[-0.2259],\n",
      "        [-0.2382],\n",
      "        [-0.2170],\n",
      "        ...,\n",
      "        [ 0.2055],\n",
      "        [ 0.2312],\n",
      "        [ 0.0150]], grad_fn=<AddBackward0>)\n"
     ]
    },
    {
     "name": "stderr",
     "output_type": "stream",
     "text": [
      "\n",
      "\n",
      " 75%|███████▌  | 3/4 [00:00<00:00,  6.60it/s]\u001b[A\u001b[A\n",
      "\n",
      "100%|██████████| 4/4 [00:00<00:00,  6.94it/s]\u001b[A\u001b[A"
     ]
    },
    {
     "name": "stdout",
     "output_type": "stream",
     "text": [
      "tensor([[ 2.2169],\n",
      "        [ 2.2086],\n",
      "        [ 2.1436],\n",
      "        ...,\n",
      "        [-0.7031],\n",
      "        [-0.6593],\n",
      "        [-0.6534]], grad_fn=<AddBackward0>)\n",
      "tensor([[0.0389],\n",
      "        [0.0766],\n",
      "        [0.0603],\n",
      "        ...,\n",
      "        [0.9750],\n",
      "        [0.9139],\n",
      "        [0.9679]], grad_fn=<AddBackward0>)\n",
      "[1 0 0 ... 1 1 1]\n",
      "[1 0 1 ... 1 0 0]\n"
     ]
    },
    {
     "name": "stderr",
     "output_type": "stream",
     "text": [
      "\n",
      "\n",
      "  1%|▏         | 146/10000 [01:37<1:53:39,  1.44it/s]\u001b[A"
     ]
    },
    {
     "name": "stdout",
     "output_type": "stream",
     "text": [
      "[0 0 1 ... 0 0 0]\n",
      "[1 1 1 ... 1 1 0]\n"
     ]
    },
    {
     "name": "stderr",
     "output_type": "stream",
     "text": [
      "\n",
      "\n",
      "  0%|          | 0/4 [00:00<?, ?it/s]\u001b[A\u001b[A"
     ]
    },
    {
     "name": "stdout",
     "output_type": "stream",
     "text": [
      "tensor([[-0.8917],\n",
      "        [-0.8929],\n",
      "        [-0.9046],\n",
      "        ...,\n",
      "        [-0.0522],\n",
      "        [ 0.0549],\n",
      "        [ 0.1439]], grad_fn=<AddBackward0>)\n"
     ]
    },
    {
     "name": "stderr",
     "output_type": "stream",
     "text": [
      "\n",
      "\n",
      " 50%|█████     | 2/4 [00:00<00:00, 10.52it/s]\u001b[A\u001b[A"
     ]
    },
    {
     "name": "stdout",
     "output_type": "stream",
     "text": [
      "tensor([[0.0863],\n",
      "        [0.1024],\n",
      "        [0.1040],\n",
      "        ...,\n",
      "        [1.5701],\n",
      "        [1.4366],\n",
      "        [1.5716]], grad_fn=<AddBackward0>)\n",
      "tensor([[-0.3238],\n",
      "        [-0.3212],\n",
      "        [-0.4157],\n",
      "        ...,\n",
      "        [ 0.7870],\n",
      "        [ 0.7927],\n",
      "        [ 0.7641]], grad_fn=<AddBackward0>)\n"
     ]
    },
    {
     "name": "stderr",
     "output_type": "stream",
     "text": [
      "\n",
      "\n",
      "100%|██████████| 4/4 [00:00<00:00, 10.45it/s]\u001b[A\u001b[A"
     ]
    },
    {
     "name": "stdout",
     "output_type": "stream",
     "text": [
      "tensor([[-0.2004],\n",
      "        [-0.2295],\n",
      "        [-0.2056],\n",
      "        ...,\n",
      "        [-1.2364],\n",
      "        [-1.2293],\n",
      "        [-1.2365]], grad_fn=<AddBackward0>)\n"
     ]
    },
    {
     "name": "stderr",
     "output_type": "stream",
     "text": [
      "\n",
      "\n",
      "  1%|▏         | 147/10000 [01:38<1:46:21,  1.54it/s]\u001b[A"
     ]
    },
    {
     "name": "stdout",
     "output_type": "stream",
     "text": [
      "[1 0 0 ... 1 1 1]\n",
      "[1 0 1 ... 1 0 0]\n",
      "[0 0 1 ... 0 0 0]\n",
      "[1 1 1 ... 1 1 0]\n",
      "\n",
      "Epoch: 147, Loss: 2117.2656, Val: 0.6665, Test: 0.6682\n",
      "[0 0 1 ... 0 0 0]\n",
      "[1 1 1 ... 1 1 0]\n",
      "[1 0 0 ... 1 1 1]\n",
      "[1 0 1 ... 1 0 0]\n"
     ]
    },
    {
     "name": "stderr",
     "output_type": "stream",
     "text": [
      "\n",
      "\n",
      "  0%|          | 0/4 [00:00<?, ?it/s]\u001b[A\u001b[A\n",
      "\n",
      " 25%|██▌       | 1/4 [00:00<00:00,  6.62it/s]\u001b[A\u001b[A\n",
      "\n",
      " 50%|█████     | 2/4 [00:00<00:00,  6.71it/s]\u001b[A\u001b[A"
     ]
    },
    {
     "name": "stdout",
     "output_type": "stream",
     "text": [
      "tensor([[-0.2305],\n",
      "        [-0.2114],\n",
      "        [-0.1870],\n",
      "        ...,\n",
      "        [ 0.2911],\n",
      "        [ 0.2994],\n",
      "        [ 0.2729]], grad_fn=<AddBackward0>)\n",
      "tensor([[-0.0193],\n",
      "        [-0.0892],\n",
      "        [-0.0772],\n",
      "        ...,\n",
      "        [ 1.2475],\n",
      "        [ 1.0716],\n",
      "        [ 1.1068]], grad_fn=<AddBackward0>)\n"
     ]
    },
    {
     "name": "stderr",
     "output_type": "stream",
     "text": [
      "\n",
      "\n",
      "100%|██████████| 4/4 [00:00<00:00,  7.19it/s]\u001b[A\u001b[A"
     ]
    },
    {
     "name": "stdout",
     "output_type": "stream",
     "text": [
      "tensor([[-0.4152],\n",
      "        [-0.4067],\n",
      "        [-0.3718],\n",
      "        ...,\n",
      "        [-0.6436],\n",
      "        [-0.6709],\n",
      "        [-0.6654]], grad_fn=<AddBackward0>)\n",
      "tensor([[-1.7449],\n",
      "        [-1.7695],\n",
      "        [-1.7678],\n",
      "        ...,\n",
      "        [ 0.2152],\n",
      "        [ 0.2128],\n",
      "        [ 0.1764]], grad_fn=<AddBackward0>)\n",
      "[1 0 0 ... 1 1 1]\n",
      "[1 0 1 ... 1 0 0]\n"
     ]
    },
    {
     "name": "stderr",
     "output_type": "stream",
     "text": [
      "\n",
      "\n",
      "  1%|▏         | 148/10000 [01:39<1:56:06,  1.41it/s]\u001b[A"
     ]
    },
    {
     "name": "stdout",
     "output_type": "stream",
     "text": [
      "[0 0 1 ... 0 0 0]\n",
      "[1 1 1 ... 1 1 0]\n",
      "\n",
      "Epoch: 148, Loss: 2139.4653, Val: 0.6668, Test: 0.6683\n",
      "[0 0 1 ... 0 0 0]\n",
      "[1 1 1 ... 1 1 0]\n",
      "[1 0 0 ... 1 1 1]\n",
      "[1 0 1 ... 1 0 0]\n"
     ]
    },
    {
     "name": "stderr",
     "output_type": "stream",
     "text": [
      "\n",
      "\n",
      "  0%|          | 0/4 [00:00<?, ?it/s]\u001b[A\u001b[A\n",
      "\n",
      " 25%|██▌       | 1/4 [00:00<00:00,  9.51it/s]\u001b[A\u001b[A\n",
      "\n",
      " 50%|█████     | 2/4 [00:00<00:00,  9.48it/s]\u001b[A\u001b[A"
     ]
    },
    {
     "name": "stdout",
     "output_type": "stream",
     "text": [
      "tensor([[-0.4693],\n",
      "        [-0.4686],\n",
      "        [-0.5578],\n",
      "        ...,\n",
      "        [-0.1923],\n",
      "        [-0.2231],\n",
      "        [-0.2186]], grad_fn=<AddBackward0>)\n",
      "tensor([[0.2555],\n",
      "        [0.2612],\n",
      "        [0.2267],\n",
      "        ...,\n",
      "        [0.4429],\n",
      "        [0.4463],\n",
      "        [0.4314]], grad_fn=<AddBackward0>)\n"
     ]
    },
    {
     "name": "stderr",
     "output_type": "stream",
     "text": [
      "\n",
      "\n",
      "100%|██████████| 4/4 [00:00<00:00,  9.27it/s]\u001b[A\u001b[A"
     ]
    },
    {
     "name": "stdout",
     "output_type": "stream",
     "text": [
      "tensor([[1.0110],\n",
      "        [1.0022],\n",
      "        [1.0179],\n",
      "        ...,\n",
      "        [0.4344],\n",
      "        [0.4626],\n",
      "        [0.4033]], grad_fn=<AddBackward0>)\n",
      "tensor([[ 0.2792],\n",
      "        [ 0.3481],\n",
      "        [ 0.3290],\n",
      "        ...,\n",
      "        [-0.6298],\n",
      "        [-0.6301],\n",
      "        [-0.6298]], grad_fn=<AddBackward0>)\n",
      "[1 0 0 ... 1 1 1]\n",
      "[1 0 1 ... 1 0 0]\n",
      "[0 0 1 ... 0 0 0]\n",
      "[1 1 1 ... 1 1 0]\n",
      "\n",
      "Epoch: 149, Loss: 2036.5529, Val: 0.6675, Test: 0.6688\n",
      "[0 0 1 ... 0 0 0]\n",
      "[1 1 1 ... 1 1 0]\n"
     ]
    },
    {
     "name": "stderr",
     "output_type": "stream",
     "text": [
      "\n",
      "\n",
      "  1%|▏         | 149/10000 [01:39<1:58:08,  1.39it/s]\u001b[A"
     ]
    },
    {
     "name": "stdout",
     "output_type": "stream",
     "text": [
      "[1 0 0 ... 1 1 1]\n",
      "[1 0 1 ... 1 0 0]\n"
     ]
    },
    {
     "name": "stderr",
     "output_type": "stream",
     "text": [
      "\n",
      "\n",
      "  0%|          | 0/4 [00:00<?, ?it/s]\u001b[A\u001b[A\n",
      "\n",
      " 25%|██▌       | 1/4 [00:00<00:00,  8.29it/s]\u001b[A\u001b[A"
     ]
    },
    {
     "name": "stdout",
     "output_type": "stream",
     "text": [
      "tensor([[ 0.0625],\n",
      "        [ 0.0219],\n",
      "        [ 0.0724],\n",
      "        ...,\n",
      "        [-0.5365],\n",
      "        [-0.5401],\n",
      "        [-0.4413]], grad_fn=<AddBackward0>)\n"
     ]
    },
    {
     "name": "stderr",
     "output_type": "stream",
     "text": [
      "\n",
      "\n",
      " 50%|█████     | 2/4 [00:00<00:00,  7.02it/s]\u001b[A\u001b[A"
     ]
    },
    {
     "name": "stdout",
     "output_type": "stream",
     "text": [
      "tensor([[-0.0033],\n",
      "        [ 0.0554],\n",
      "        [ 0.0334],\n",
      "        ...,\n",
      "        [-0.2470],\n",
      "        [-0.3017],\n",
      "        [-0.2842]], grad_fn=<AddBackward0>)\n"
     ]
    },
    {
     "name": "stderr",
     "output_type": "stream",
     "text": [
      "\n",
      "\n",
      " 75%|███████▌  | 3/4 [00:00<00:00,  6.80it/s]\u001b[A\u001b[A"
     ]
    },
    {
     "name": "stdout",
     "output_type": "stream",
     "text": [
      "tensor([[-0.5597],\n",
      "        [-0.6144],\n",
      "        [-0.5541],\n",
      "        ...,\n",
      "        [ 0.5972],\n",
      "        [ 0.5853],\n",
      "        [ 0.5808]], grad_fn=<AddBackward0>)\n"
     ]
    },
    {
     "name": "stderr",
     "output_type": "stream",
     "text": [
      "\n",
      "\n",
      "100%|██████████| 4/4 [00:00<00:00,  7.21it/s]\u001b[A\u001b[A"
     ]
    },
    {
     "name": "stdout",
     "output_type": "stream",
     "text": [
      "tensor([[-1.4757],\n",
      "        [-1.4675],\n",
      "        [-1.4718],\n",
      "        ...,\n",
      "        [ 0.9124],\n",
      "        [ 1.0037],\n",
      "        [ 0.9309]], grad_fn=<AddBackward0>)\n",
      "[1 0 0 ... 1 1 1]\n",
      "[1 0 1 ... 1 0 0]\n",
      "[0 0 1 ... 0 0 0]\n",
      "[1 1 1 ... 1 1 0]\n"
     ]
    },
    {
     "name": "stderr",
     "output_type": "stream",
     "text": [
      "\n"
     ]
    },
    {
     "name": "stdout",
     "output_type": "stream",
     "text": [
      "\n",
      "Epoch: 150, Loss: 2030.0909, Val: 0.6677, Test: 0.6695\n",
      "[0 0 1 ... 0 0 0]\n",
      "[1 1 1 ... 1 1 0]\n",
      "[1 0 0 ... 1 1 1]\n",
      "[1 0 1 ... 1 0 0]\n"
     ]
    },
    {
     "name": "stderr",
     "output_type": "stream",
     "text": [
      "\n",
      "  2%|▏         | 150/10000 [01:40<2:07:38,  1.29it/s]\u001b[A\n",
      "\n",
      "  0%|          | 0/4 [00:00<?, ?it/s]\u001b[A\u001b[A\n",
      "\n",
      " 25%|██▌       | 1/4 [00:00<00:00,  9.31it/s]\u001b[A\u001b[A\n",
      "\n",
      " 50%|█████     | 2/4 [00:00<00:00,  9.01it/s]\u001b[A\u001b[A"
     ]
    },
    {
     "name": "stdout",
     "output_type": "stream",
     "text": [
      "tensor([[0.3748],\n",
      "        [0.3945],\n",
      "        [0.3937],\n",
      "        ...,\n",
      "        [0.5888],\n",
      "        [0.5769],\n",
      "        [0.5827]], grad_fn=<AddBackward0>)\n",
      "tensor([[-1.0787],\n",
      "        [-1.1883],\n",
      "        [-1.0697],\n",
      "        ...,\n",
      "        [-1.4320],\n",
      "        [-1.1910],\n",
      "        [-1.1296]], grad_fn=<AddBackward0>)\n"
     ]
    },
    {
     "name": "stderr",
     "output_type": "stream",
     "text": [
      "\n",
      "\n",
      "100%|██████████| 4/4 [00:00<00:00,  9.62it/s]\u001b[A\u001b[A\n"
     ]
    },
    {
     "name": "stdout",
     "output_type": "stream",
     "text": [
      "tensor([[-1.2284],\n",
      "        [-1.0241],\n",
      "        [-1.2130],\n",
      "        ...,\n",
      "        [ 1.4954],\n",
      "        [ 1.4817],\n",
      "        [ 1.4874]], grad_fn=<AddBackward0>)\n",
      "tensor([[0.8936],\n",
      "        [0.8895],\n",
      "        [0.9054],\n",
      "        ...,\n",
      "        [0.3395],\n",
      "        [0.3387],\n",
      "        [0.3458]], grad_fn=<AddBackward0>)\n",
      "[1 0 0 ... 1 1 1]\n",
      "[1 0 1 ... 1 0 0]\n",
      "[0 0 1 ... 0 0 0]\n",
      "[1 1 1 ... 1 1 0]\n",
      "\n",
      "Epoch: 151, Loss: 2037.4355, Val: 0.6682, Test: 0.6693\n",
      "[0 0 1 ... 0 0 0]\n",
      "[1 1 1 ... 1 1 0]\n",
      "[1 0 0 ... 1 1 1]\n",
      "[1 0 1 ... 1 0 0]\n"
     ]
    },
    {
     "name": "stderr",
     "output_type": "stream",
     "text": [
      "\n",
      "  2%|▏         | 151/10000 [01:41<1:57:04,  1.40it/s]\u001b[A\n",
      "\n",
      "  0%|          | 0/4 [00:00<?, ?it/s]\u001b[A\u001b[A\n",
      "\n",
      " 25%|██▌       | 1/4 [00:00<00:00,  6.36it/s]\u001b[A\u001b[A\n",
      "\n",
      " 50%|█████     | 2/4 [00:00<00:00,  6.43it/s]\u001b[A\u001b[A"
     ]
    },
    {
     "name": "stdout",
     "output_type": "stream",
     "text": [
      "tensor([[0.5162],\n",
      "        [0.5193],\n",
      "        [0.5165],\n",
      "        ...,\n",
      "        [0.0303],\n",
      "        [0.0285],\n",
      "        [0.0673]], grad_fn=<AddBackward0>)\n",
      "tensor([[0.7761],\n",
      "        [0.7135],\n",
      "        [0.7690],\n",
      "        ...,\n",
      "        [1.4838],\n",
      "        [1.5728],\n",
      "        [1.4925]], grad_fn=<AddBackward0>)\n"
     ]
    },
    {
     "name": "stderr",
     "output_type": "stream",
     "text": [
      "\n",
      "\n",
      " 75%|███████▌  | 3/4 [00:00<00:00,  6.49it/s]\u001b[A\u001b[A\n",
      "\n",
      "100%|██████████| 4/4 [00:00<00:00,  6.85it/s]\u001b[A\u001b[A"
     ]
    },
    {
     "name": "stdout",
     "output_type": "stream",
     "text": [
      "tensor([[-1.5776],\n",
      "        [-1.5265],\n",
      "        [-1.4631],\n",
      "        ...,\n",
      "        [ 0.9551],\n",
      "        [ 0.9568],\n",
      "        [ 0.9583]], grad_fn=<AddBackward0>)\n",
      "tensor([[-1.1492],\n",
      "        [-1.0369],\n",
      "        [-1.2968],\n",
      "        ...,\n",
      "        [-0.4692],\n",
      "        [-0.4726],\n",
      "        [-0.4739]], grad_fn=<AddBackward0>)\n",
      "[1 0 0 ... 1 1 1]\n",
      "[1 0 1 ... 1 0 0]\n",
      "[0 0 1 ... 0 0 0]\n",
      "[1 1 1 ... 1 1 0]\n"
     ]
    },
    {
     "name": "stderr",
     "output_type": "stream",
     "text": [
      "\n",
      "\n",
      "  2%|▏         | 152/10000 [01:42<2:07:24,  1.29it/s]\u001b[A"
     ]
    },
    {
     "name": "stdout",
     "output_type": "stream",
     "text": [
      "\n",
      "Epoch: 152, Loss: 2005.6527, Val: 0.6685, Test: 0.6697\n",
      "[0 0 1 ... 0 0 0]\n",
      "[1 1 1 ... 1 1 0]\n",
      "[1 0 0 ... 1 1 1]\n",
      "[1 0 1 ... 1 0 0]\n"
     ]
    },
    {
     "name": "stderr",
     "output_type": "stream",
     "text": [
      "\n",
      "\n",
      "  0%|          | 0/4 [00:00<?, ?it/s]\u001b[A\u001b[A\n",
      "\n",
      " 25%|██▌       | 1/4 [00:00<00:00,  9.26it/s]\u001b[A\u001b[A"
     ]
    },
    {
     "name": "stdout",
     "output_type": "stream",
     "text": [
      "tensor([[0.3729],\n",
      "        [0.3661],\n",
      "        [0.3779],\n",
      "        ...,\n",
      "        [0.2300],\n",
      "        [0.3540],\n",
      "        [0.1520]], grad_fn=<AddBackward0>)\n"
     ]
    },
    {
     "name": "stderr",
     "output_type": "stream",
     "text": [
      "\n",
      "\n",
      " 50%|█████     | 2/4 [00:00<00:00,  9.11it/s]\u001b[A\u001b[A"
     ]
    },
    {
     "name": "stdout",
     "output_type": "stream",
     "text": [
      "tensor([[-1.3791],\n",
      "        [-1.3792],\n",
      "        [-1.3794],\n",
      "        ...,\n",
      "        [-0.1890],\n",
      "        [-0.1794],\n",
      "        [-0.1811]], grad_fn=<AddBackward0>)\n"
     ]
    },
    {
     "name": "stderr",
     "output_type": "stream",
     "text": [
      "\n",
      "\n",
      "100%|██████████| 4/4 [00:00<00:00,  9.67it/s]\u001b[A\u001b[A"
     ]
    },
    {
     "name": "stdout",
     "output_type": "stream",
     "text": [
      "tensor([[-0.1105],\n",
      "        [ 0.1009],\n",
      "        [-0.1507],\n",
      "        ...,\n",
      "        [ 1.2189],\n",
      "        [ 1.1065],\n",
      "        [ 1.1052]], grad_fn=<AddBackward0>)\n",
      "tensor([[-1.4784],\n",
      "        [-1.4841],\n",
      "        [-1.5106],\n",
      "        ...,\n",
      "        [-0.4687],\n",
      "        [-0.4362],\n",
      "        [-0.4743]], grad_fn=<AddBackward0>)\n"
     ]
    },
    {
     "name": "stderr",
     "output_type": "stream",
     "text": [
      "\n",
      "\n",
      "  2%|▏         | 153/10000 [01:42<1:53:16,  1.45it/s]\u001b[A"
     ]
    },
    {
     "name": "stdout",
     "output_type": "stream",
     "text": [
      "[1 0 0 ... 1 1 1]\n",
      "[1 0 1 ... 1 0 0]\n",
      "[0 0 1 ... 0 0 0]\n",
      "[1 1 1 ... 1 1 0]\n"
     ]
    },
    {
     "name": "stderr",
     "output_type": "stream",
     "text": [
      "\n",
      "\n",
      "  0%|          | 0/4 [00:00<?, ?it/s]\u001b[A\u001b[A\n",
      "\n",
      " 25%|██▌       | 1/4 [00:00<00:00,  9.35it/s]\u001b[A\u001b[A"
     ]
    },
    {
     "name": "stdout",
     "output_type": "stream",
     "text": [
      "tensor([[ 1.2510],\n",
      "        [ 1.1620],\n",
      "        [ 1.2384],\n",
      "        ...,\n",
      "        [-1.0815],\n",
      "        [-1.5061],\n",
      "        [-1.2894]], grad_fn=<AddBackward0>)\n"
     ]
    },
    {
     "name": "stderr",
     "output_type": "stream",
     "text": [
      "\n",
      "\n",
      " 50%|█████     | 2/4 [00:00<00:00,  7.96it/s]\u001b[A\u001b[A"
     ]
    },
    {
     "name": "stdout",
     "output_type": "stream",
     "text": [
      "tensor([[-1.1053],\n",
      "        [-1.1685],\n",
      "        [-1.0353],\n",
      "        ...,\n",
      "        [ 0.7027],\n",
      "        [ 0.7035],\n",
      "        [ 0.7497]], grad_fn=<AddBackward0>)\n"
     ]
    },
    {
     "name": "stderr",
     "output_type": "stream",
     "text": [
      "\n",
      "\n",
      "100%|██████████| 4/4 [00:00<00:00,  9.14it/s]\u001b[A\u001b[A"
     ]
    },
    {
     "name": "stdout",
     "output_type": "stream",
     "text": [
      "tensor([[-0.1332],\n",
      "        [-0.1582],\n",
      "        [-0.2598],\n",
      "        ...,\n",
      "        [ 1.1835],\n",
      "        [ 1.2449],\n",
      "        [ 1.2915]], grad_fn=<AddBackward0>)\n",
      "tensor([[2.4171],\n",
      "        [2.3621],\n",
      "        [2.3829],\n",
      "        ...,\n",
      "        [0.8388],\n",
      "        [0.8118],\n",
      "        [0.9203]], grad_fn=<AddBackward0>)\n"
     ]
    },
    {
     "name": "stderr",
     "output_type": "stream",
     "text": [
      "\n"
     ]
    },
    {
     "name": "stdout",
     "output_type": "stream",
     "text": [
      "[1 0 0 ... 1 1 1]\n",
      "[1 0 1 ... 1 0 0]\n",
      "[0 0 1 ... 0 0 0]\n",
      "[1 1 1 ... 1 1 0]\n"
     ]
    },
    {
     "name": "stderr",
     "output_type": "stream",
     "text": [
      "\n",
      "  2%|▏         | 154/10000 [01:43<1:55:45,  1.42it/s]\u001b[A"
     ]
    },
    {
     "name": "stdout",
     "output_type": "stream",
     "text": [
      "\n",
      "Epoch: 154, Loss: 1939.8651, Val: 0.6688, Test: 0.6707\n",
      "[0 0 1 ... 0 0 0]\n",
      "[1 1 1 ... 1 1 0]\n",
      "[1 0 0 ... 1 1 1]\n",
      "[1 0 1 ... 1 0 0]\n"
     ]
    },
    {
     "name": "stderr",
     "output_type": "stream",
     "text": [
      "\n",
      "\n",
      "  0%|          | 0/4 [00:00<?, ?it/s]\u001b[A\u001b[A\n",
      "\n",
      " 25%|██▌       | 1/4 [00:00<00:00,  6.82it/s]\u001b[A\u001b[A\n",
      "\n",
      " 50%|█████     | 2/4 [00:00<00:00,  6.27it/s]\u001b[A\u001b[A"
     ]
    },
    {
     "name": "stdout",
     "output_type": "stream",
     "text": [
      "tensor([[0.2430],\n",
      "        [0.2416],\n",
      "        [0.2658],\n",
      "        ...,\n",
      "        [0.0312],\n",
      "        [0.0556],\n",
      "        [0.0212]], grad_fn=<AddBackward0>)\n",
      "tensor([[ 1.4006],\n",
      "        [ 1.3292],\n",
      "        [ 1.3934],\n",
      "        ...,\n",
      "        [-0.3644],\n",
      "        [-0.3670],\n",
      "        [-0.4081]], grad_fn=<AddBackward0>)\n"
     ]
    },
    {
     "name": "stderr",
     "output_type": "stream",
     "text": [
      "\n",
      "\n",
      " 75%|███████▌  | 3/4 [00:00<00:00,  6.35it/s]\u001b[A\u001b[A\n",
      "\n",
      "100%|██████████| 4/4 [00:00<00:00,  6.85it/s]\u001b[A\u001b[A"
     ]
    },
    {
     "name": "stdout",
     "output_type": "stream",
     "text": [
      "tensor([[1.5394],\n",
      "        [1.5375],\n",
      "        [1.5370],\n",
      "        ...,\n",
      "        [0.6854],\n",
      "        [0.7597],\n",
      "        [0.8051]], grad_fn=<AddBackward0>)\n",
      "tensor([[-0.5412],\n",
      "        [-0.5398],\n",
      "        [-0.6743],\n",
      "        ...,\n",
      "        [ 0.2175],\n",
      "        [ 0.2078],\n",
      "        [ 0.1960]], grad_fn=<AddBackward0>)\n",
      "[1 0 0 ... 1 1 1]\n",
      "[1 0 1 ... 1 0 0]\n",
      "[0 0 1 ... 0 0 0]\n",
      "[1 1 1 ... 1 1 0]\n"
     ]
    },
    {
     "name": "stderr",
     "output_type": "stream",
     "text": [
      "\n"
     ]
    },
    {
     "name": "stdout",
     "output_type": "stream",
     "text": [
      "\n",
      "Epoch: 155, Loss: 1865.8289, Val: 0.6695, Test: 0.6707\n",
      "[0 0 1 ... 0 0 0]\n",
      "[1 1 1 ... 1 1 0]\n",
      "[1 0 0 ... 1 1 1]\n",
      "[1 0 1 ... 1 0 0]\n"
     ]
    },
    {
     "name": "stderr",
     "output_type": "stream",
     "text": [
      "\n",
      "  2%|▏         | 155/10000 [01:44<2:07:24,  1.29it/s]\u001b[A\n",
      "\n",
      "  0%|          | 0/4 [00:00<?, ?it/s]\u001b[A\u001b[A\n",
      "\n",
      " 50%|█████     | 2/4 [00:00<00:00, 10.27it/s]\u001b[A\u001b[A"
     ]
    },
    {
     "name": "stdout",
     "output_type": "stream",
     "text": [
      "tensor([[0.5818],\n",
      "        [0.5826],\n",
      "        [0.5789],\n",
      "        ...,\n",
      "        [0.0673],\n",
      "        [0.1321],\n",
      "        [0.0086]], grad_fn=<AddBackward0>)\n",
      "tensor([[ 0.3567],\n",
      "        [ 0.3449],\n",
      "        [ 0.3099],\n",
      "        ...,\n",
      "        [-0.1179],\n",
      "        [-0.1174],\n",
      "        [-0.1086]], grad_fn=<AddBackward0>)\n"
     ]
    },
    {
     "name": "stderr",
     "output_type": "stream",
     "text": [
      "\n",
      "\n",
      "100%|██████████| 4/4 [00:00<00:00, 10.41it/s]\u001b[A\u001b[A\n"
     ]
    },
    {
     "name": "stdout",
     "output_type": "stream",
     "text": [
      "tensor([[0.5666],\n",
      "        [0.6054],\n",
      "        [0.5894],\n",
      "        ...,\n",
      "        [1.2129],\n",
      "        [1.2138],\n",
      "        [1.2134]], grad_fn=<AddBackward0>)\n",
      "tensor([[ 0.8711],\n",
      "        [ 0.6902],\n",
      "        [ 0.8218],\n",
      "        ...,\n",
      "        [-0.4269],\n",
      "        [-0.4325],\n",
      "        [-0.4844]], grad_fn=<AddBackward0>)\n",
      "[1 0 0 ... 1 1 1]\n",
      "[1 0 1 ... 1 0 0]\n",
      "[0 0 1 ... 0 0 0]\n",
      "[1 1 1 ... 1 1 0]\n",
      "\n",
      "Epoch: 156, Loss: 1917.8623, Val: 0.6697, Test: 0.6710\n",
      "[0 0 1 ... 0 0 0]\n",
      "[1 1 1 ... 1 1 0]\n",
      "[1 0 0 ... 1 1 1]\n",
      "[1 0 1 ... 1 0 0]\n"
     ]
    },
    {
     "name": "stderr",
     "output_type": "stream",
     "text": [
      "\n",
      "  2%|▏         | 156/10000 [01:44<1:55:32,  1.42it/s]\u001b[A\n",
      "\n",
      "  0%|          | 0/4 [00:00<?, ?it/s]\u001b[A\u001b[A\n",
      "\n",
      " 25%|██▌       | 1/4 [00:00<00:00,  8.34it/s]\u001b[A\u001b[A"
     ]
    },
    {
     "name": "stdout",
     "output_type": "stream",
     "text": [
      "tensor([[1.3862],\n",
      "        [1.3164],\n",
      "        [1.3441],\n",
      "        ...,\n",
      "        [0.3798],\n",
      "        [0.3674],\n",
      "        [0.3581]], grad_fn=<AddBackward0>)\n",
      "tensor([[ 0.4767],\n",
      "        [ 0.4601],\n",
      "        [ 0.5087],\n",
      "        ...,\n",
      "        [-0.9995],\n",
      "        [-0.9163],\n",
      "        [-0.9296]], grad_fn=<AddBackward0>)\n"
     ]
    },
    {
     "name": "stderr",
     "output_type": "stream",
     "text": [
      "\n",
      "\n",
      "100%|██████████| 4/4 [00:00<00:00,  8.86it/s]\u001b[A\u001b[A"
     ]
    },
    {
     "name": "stdout",
     "output_type": "stream",
     "text": [
      "tensor([[1.7562],\n",
      "        [1.4346],\n",
      "        [1.7335],\n",
      "        ...,\n",
      "        [1.7616],\n",
      "        [1.6862],\n",
      "        [1.7030]], grad_fn=<AddBackward0>)\n",
      "tensor([[ 0.1495],\n",
      "        [ 0.1760],\n",
      "        [ 0.2371],\n",
      "        ...,\n",
      "        [-0.4211],\n",
      "        [-0.4560],\n",
      "        [-0.4269]], grad_fn=<AddBackward0>)\n",
      "[1 0 0 ... 1 1 1]\n",
      "[1 0 1 ... 1 0 0]\n"
     ]
    },
    {
     "name": "stderr",
     "output_type": "stream",
     "text": [
      "\n",
      "\n",
      "  2%|▏         | 157/10000 [01:45<1:53:42,  1.44it/s]\u001b[A"
     ]
    },
    {
     "name": "stdout",
     "output_type": "stream",
     "text": [
      "[0 0 1 ... 0 0 0]\n",
      "[1 1 1 ... 1 1 0]\n"
     ]
    },
    {
     "name": "stderr",
     "output_type": "stream",
     "text": [
      "\n",
      "\n",
      "  0%|          | 0/4 [00:00<?, ?it/s]\u001b[A\u001b[A"
     ]
    },
    {
     "name": "stdout",
     "output_type": "stream",
     "text": [
      "tensor([[-0.7535],\n",
      "        [-0.6073],\n",
      "        [-0.6037],\n",
      "        ...,\n",
      "        [ 2.5643],\n",
      "        [ 2.5785],\n",
      "        [ 2.6025]], grad_fn=<AddBackward0>)\n"
     ]
    },
    {
     "name": "stderr",
     "output_type": "stream",
     "text": [
      "\n",
      "\n",
      " 50%|█████     | 2/4 [00:00<00:00, 10.16it/s]\u001b[A\u001b[A"
     ]
    },
    {
     "name": "stdout",
     "output_type": "stream",
     "text": [
      "tensor([[0.1820],\n",
      "        [0.2496],\n",
      "        [0.0539],\n",
      "        ...,\n",
      "        [0.2088],\n",
      "        [0.2294],\n",
      "        [0.1478]], grad_fn=<AddBackward0>)\n"
     ]
    },
    {
     "name": "stderr",
     "output_type": "stream",
     "text": [
      "\n",
      "\n",
      "100%|██████████| 4/4 [00:00<00:00, 10.39it/s]\u001b[A\u001b[A"
     ]
    },
    {
     "name": "stdout",
     "output_type": "stream",
     "text": [
      "tensor([[1.6778],\n",
      "        [1.6802],\n",
      "        [1.6749],\n",
      "        ...,\n",
      "        [0.4529],\n",
      "        [0.4421],\n",
      "        [0.4547]], grad_fn=<AddBackward0>)\n",
      "tensor([[0.1628],\n",
      "        [0.1704],\n",
      "        [0.1378],\n",
      "        ...,\n",
      "        [0.2909],\n",
      "        [0.2736],\n",
      "        [0.2637]], grad_fn=<AddBackward0>)\n",
      "[1 0 0 ... 1 1 1]\n",
      "[1 0 1 ... 1 0 0]\n"
     ]
    },
    {
     "name": "stderr",
     "output_type": "stream",
     "text": [
      "\n",
      "\n",
      "  2%|▏         | 158/10000 [01:46<1:42:43,  1.60it/s]\u001b[A"
     ]
    },
    {
     "name": "stdout",
     "output_type": "stream",
     "text": [
      "[0 0 1 ... 0 0 0]\n",
      "[1 1 1 ... 1 1 0]\n"
     ]
    },
    {
     "name": "stderr",
     "output_type": "stream",
     "text": [
      "\n",
      "\n",
      "  0%|          | 0/4 [00:00<?, ?it/s]\u001b[A\u001b[A\n",
      "\n",
      " 25%|██▌       | 1/4 [00:00<00:00,  9.70it/s]\u001b[A\u001b[A"
     ]
    },
    {
     "name": "stdout",
     "output_type": "stream",
     "text": [
      "tensor([[ 0.4061],\n",
      "        [ 0.5453],\n",
      "        [ 0.5536],\n",
      "        ...,\n",
      "        [-0.3082],\n",
      "        [-0.2467],\n",
      "        [-0.2871]], grad_fn=<AddBackward0>)\n",
      "tensor([[-0.2377],\n",
      "        [-0.3432],\n",
      "        [-0.3231],\n",
      "        ...,\n",
      "        [ 1.1476],\n",
      "        [ 1.1357],\n",
      "        [ 1.0926]], grad_fn=<AddBackward0>)\n"
     ]
    },
    {
     "name": "stderr",
     "output_type": "stream",
     "text": [
      "\n",
      "\n",
      " 75%|███████▌  | 3/4 [00:00<00:00,  9.15it/s]\u001b[A\u001b[A"
     ]
    },
    {
     "name": "stdout",
     "output_type": "stream",
     "text": [
      "tensor([[ 0.2497],\n",
      "        [ 0.2503],\n",
      "        [ 0.2601],\n",
      "        ...,\n",
      "        [-0.1701],\n",
      "        [-0.1781],\n",
      "        [-0.1619]], grad_fn=<AddBackward0>)\n"
     ]
    },
    {
     "name": "stderr",
     "output_type": "stream",
     "text": [
      "100%|██████████| 4/4 [00:00<00:00,  9.89it/s]\n",
      "\n",
      "  2%|▏         | 159/10000 [01:46<1:35:41,  1.71it/s]\u001b[A"
     ]
    },
    {
     "name": "stdout",
     "output_type": "stream",
     "text": [
      "tensor([[-1.5158],\n",
      "        [-1.5456],\n",
      "        [-1.5013],\n",
      "        ...,\n",
      "        [-1.3040],\n",
      "        [-1.2828],\n",
      "        [-1.2652]], grad_fn=<AddBackward0>)\n",
      "[1 0 0 ... 1 1 1]\n",
      "[1 0 1 ... 1 0 0]\n",
      "[0 0 1 ... 0 0 0]\n",
      "[1 1 1 ... 1 1 0]\n"
     ]
    },
    {
     "name": "stderr",
     "output_type": "stream",
     "text": [
      "\n",
      "\n",
      "  0%|          | 0/4 [00:00<?, ?it/s]\u001b[A\u001b[A\n",
      "\n",
      " 25%|██▌       | 1/4 [00:00<00:00,  9.54it/s]\u001b[A\u001b[A"
     ]
    },
    {
     "name": "stdout",
     "output_type": "stream",
     "text": [
      "tensor([[-0.4580],\n",
      "        [-0.6161],\n",
      "        [-0.6529],\n",
      "        ...,\n",
      "        [-0.0068],\n",
      "        [-0.5235],\n",
      "        [ 0.0536]], grad_fn=<AddBackward0>)\n"
     ]
    },
    {
     "name": "stderr",
     "output_type": "stream",
     "text": [
      "\n",
      "\n",
      " 50%|█████     | 2/4 [00:00<00:00,  8.61it/s]\u001b[A\u001b[A"
     ]
    },
    {
     "name": "stdout",
     "output_type": "stream",
     "text": [
      "tensor([[-0.2343],\n",
      "        [-0.2128],\n",
      "        [-0.2841],\n",
      "        ...,\n",
      "        [-0.2202],\n",
      "        [-0.2268],\n",
      "        [-0.2236]], grad_fn=<AddBackward0>)\n"
     ]
    },
    {
     "name": "stderr",
     "output_type": "stream",
     "text": [
      "\n",
      "\n",
      "100%|██████████| 4/4 [00:00<00:00,  9.74it/s]\u001b[A\u001b[A"
     ]
    },
    {
     "name": "stdout",
     "output_type": "stream",
     "text": [
      "tensor([[ 2.5287],\n",
      "        [ 2.4955],\n",
      "        [ 2.5289],\n",
      "        ...,\n",
      "        [-0.5943],\n",
      "        [-0.5791],\n",
      "        [-0.5953]], grad_fn=<AddBackward0>)\n",
      "tensor([[-2.3679],\n",
      "        [-2.3002],\n",
      "        [-2.4207],\n",
      "        ...,\n",
      "        [ 0.2367],\n",
      "        [ 0.1795],\n",
      "        [ 0.2412]], grad_fn=<AddBackward0>)\n",
      "[1 0 0 ... 1 1 1]\n",
      "[1 0 1 ... 1 0 0]\n"
     ]
    },
    {
     "name": "stderr",
     "output_type": "stream",
     "text": [
      "\n",
      "\n",
      "  2%|▏         | 160/10000 [01:47<1:37:55,  1.67it/s]\u001b[A"
     ]
    },
    {
     "name": "stdout",
     "output_type": "stream",
     "text": [
      "[0 0 1 ... 0 0 0]\n",
      "[1 1 1 ... 1 1 0]\n"
     ]
    },
    {
     "name": "stderr",
     "output_type": "stream",
     "text": [
      "\n",
      "\n",
      "  0%|          | 0/4 [00:00<?, ?it/s]\u001b[A\u001b[A\n",
      "\n",
      " 25%|██▌       | 1/4 [00:00<00:00,  9.67it/s]\u001b[A\u001b[A"
     ]
    },
    {
     "name": "stdout",
     "output_type": "stream",
     "text": [
      "tensor([[-0.9271],\n",
      "        [-0.9278],\n",
      "        [-0.9193],\n",
      "        ...,\n",
      "        [-1.0135],\n",
      "        [-1.0122],\n",
      "        [-1.0245]], grad_fn=<AddBackward0>)\n"
     ]
    },
    {
     "name": "stderr",
     "output_type": "stream",
     "text": [
      "\n",
      "\n",
      " 50%|█████     | 2/4 [00:00<00:00,  9.45it/s]\u001b[A\u001b[A"
     ]
    },
    {
     "name": "stdout",
     "output_type": "stream",
     "text": [
      "tensor([[0.2662],\n",
      "        [0.2994],\n",
      "        [0.2873],\n",
      "        ...,\n",
      "        [1.7896],\n",
      "        [1.7144],\n",
      "        [1.5038]], grad_fn=<AddBackward0>)\n"
     ]
    },
    {
     "name": "stderr",
     "output_type": "stream",
     "text": [
      "\n",
      "\n",
      "100%|██████████| 4/4 [00:00<00:00, 10.06it/s]\u001b[A\u001b[A"
     ]
    },
    {
     "name": "stdout",
     "output_type": "stream",
     "text": [
      "tensor([[0.1288],\n",
      "        [0.1593],\n",
      "        [0.1569],\n",
      "        ...,\n",
      "        [0.3305],\n",
      "        [0.3453],\n",
      "        [0.3338]], grad_fn=<AddBackward0>)\n",
      "tensor([[-1.7713],\n",
      "        [-1.8129],\n",
      "        [-1.7401],\n",
      "        ...,\n",
      "        [-0.4594],\n",
      "        [-0.4651],\n",
      "        [-0.4429]], grad_fn=<AddBackward0>)\n"
     ]
    },
    {
     "name": "stderr",
     "output_type": "stream",
     "text": [
      "\n",
      "\n",
      "  2%|▏         | 161/10000 [01:47<1:32:13,  1.78it/s]\u001b[A"
     ]
    },
    {
     "name": "stdout",
     "output_type": "stream",
     "text": [
      "[1 0 0 ... 1 1 1]\n",
      "[1 0 1 ... 1 0 0]\n",
      "[0 0 1 ... 0 0 0]\n",
      "[1 1 1 ... 1 1 0]\n"
     ]
    },
    {
     "name": "stderr",
     "output_type": "stream",
     "text": [
      "\n",
      "\n",
      "  0%|          | 0/4 [00:00<?, ?it/s]\u001b[A\u001b[A"
     ]
    },
    {
     "name": "stdout",
     "output_type": "stream",
     "text": [
      "tensor([[-0.7402],\n",
      "        [-0.7407],\n",
      "        [-0.7408],\n",
      "        ...,\n",
      "        [ 0.6290],\n",
      "        [ 0.6166],\n",
      "        [ 0.5786]], grad_fn=<AddBackward0>)\n"
     ]
    },
    {
     "name": "stderr",
     "output_type": "stream",
     "text": [
      "\n",
      "\n",
      " 50%|█████     | 2/4 [00:00<00:00, 10.74it/s]\u001b[A\u001b[A"
     ]
    },
    {
     "name": "stdout",
     "output_type": "stream",
     "text": [
      "tensor([[ 2.5190],\n",
      "        [ 2.5503],\n",
      "        [ 2.5238],\n",
      "        ...,\n",
      "        [-0.2147],\n",
      "        [-0.0553],\n",
      "        [ 0.0689]], grad_fn=<AddBackward0>)\n",
      "tensor([[1.8107],\n",
      "        [1.7690],\n",
      "        [1.8365],\n",
      "        ...,\n",
      "        [2.0503],\n",
      "        [2.0665],\n",
      "        [2.0127]], grad_fn=<AddBackward0>)\n"
     ]
    },
    {
     "name": "stderr",
     "output_type": "stream",
     "text": [
      "\n",
      "\n",
      "100%|██████████| 4/4 [00:00<00:00, 11.99it/s]\u001b[A\u001b[A"
     ]
    },
    {
     "name": "stdout",
     "output_type": "stream",
     "text": [
      "tensor([[ 1.8886],\n",
      "        [ 1.8300],\n",
      "        [ 1.9119],\n",
      "        ...,\n",
      "        [-0.6787],\n",
      "        [-0.5812],\n",
      "        [-0.6093]], grad_fn=<AddBackward0>)\n",
      "[1 0 0 ... 1 1 1]\n",
      "[1 0 1 ... 1 0 0]\n",
      "[0 0 1 ... 0 0 0]\n",
      "[1 1 1 ... 1 1 0]\n"
     ]
    },
    {
     "name": "stderr",
     "output_type": "stream",
     "text": [
      "\n"
     ]
    },
    {
     "name": "stdout",
     "output_type": "stream",
     "text": [
      "\n",
      "Epoch: 162, Loss: 1727.5212, Val: 0.6698, Test: 0.6731\n",
      "[0 0 1 ... 0 0 0]\n",
      "[1 1 1 ... 1 1 0]\n",
      "[1 0 0 ... 1 1 1]\n",
      "[1 0 1 ... 1 0 0]\n"
     ]
    },
    {
     "name": "stderr",
     "output_type": "stream",
     "text": [
      "\n",
      "  2%|▏         | 162/10000 [01:48<1:35:00,  1.73it/s]\u001b[A\n",
      "\n",
      "  0%|          | 0/4 [00:00<?, ?it/s]\u001b[A\u001b[A\n",
      "\n",
      " 25%|██▌       | 1/4 [00:00<00:00,  9.78it/s]\u001b[A\u001b[A"
     ]
    },
    {
     "name": "stdout",
     "output_type": "stream",
     "text": [
      "tensor([[-0.2257],\n",
      "        [-0.2042],\n",
      "        [-0.1963],\n",
      "        ...,\n",
      "        [-1.5424],\n",
      "        [-1.5342],\n",
      "        [-1.5227]], grad_fn=<AddBackward0>)\n",
      "tensor([[-0.5176],\n",
      "        [-0.5577],\n",
      "        [-0.5413],\n",
      "        ...,\n",
      "        [ 2.1194],\n",
      "        [ 2.0882],\n",
      "        [ 2.1158]], grad_fn=<AddBackward0>)\n"
     ]
    },
    {
     "name": "stderr",
     "output_type": "stream",
     "text": [
      "\n",
      "\n",
      "100%|██████████| 4/4 [00:00<00:00, 10.19it/s]\u001b[A\u001b[A"
     ]
    },
    {
     "name": "stdout",
     "output_type": "stream",
     "text": [
      "tensor([[-0.3957],\n",
      "        [-0.5322],\n",
      "        [-0.7974],\n",
      "        ...,\n",
      "        [ 0.9591],\n",
      "        [ 0.9670],\n",
      "        [ 0.9459]], grad_fn=<AddBackward0>)\n",
      "tensor([[0.4764],\n",
      "        [0.4764],\n",
      "        [0.4731],\n",
      "        ...,\n",
      "        [2.5054],\n",
      "        [2.5057],\n",
      "        [2.6886]], grad_fn=<AddBackward0>)\n",
      "[1 0 0 ... 1 1 1]\n",
      "[1 0 1 ... 1 0 0]\n",
      "[0 0 1 ... 0 0 0]\n",
      "[1 1 1 ... 1 1 0]\n",
      "\n",
      "Epoch: 163, Loss: 1688.9556, Val: 0.6700, Test: 0.6730\n",
      "[0 0 1 ... 0 0 0]\n",
      "[1 1 1 ... 1 1 0]\n"
     ]
    },
    {
     "name": "stderr",
     "output_type": "stream",
     "text": [
      "\n",
      "\n",
      "  2%|▏         | 163/10000 [01:48<1:33:36,  1.75it/s]\u001b[A"
     ]
    },
    {
     "name": "stdout",
     "output_type": "stream",
     "text": [
      "[1 0 0 ... 1 1 1]\n",
      "[1 0 1 ... 1 0 0]\n"
     ]
    },
    {
     "name": "stderr",
     "output_type": "stream",
     "text": [
      "\n",
      "\n",
      "  0%|          | 0/4 [00:00<?, ?it/s]\u001b[A\u001b[A"
     ]
    },
    {
     "name": "stdout",
     "output_type": "stream",
     "text": [
      "tensor([[ 0.1686],\n",
      "        [ 0.1688],\n",
      "        [ 0.1584],\n",
      "        ...,\n",
      "        [-0.5825],\n",
      "        [-0.4792],\n",
      "        [-0.5525]], grad_fn=<AddBackward0>)\n"
     ]
    },
    {
     "name": "stderr",
     "output_type": "stream",
     "text": [
      "\n",
      "\n",
      " 50%|█████     | 2/4 [00:00<00:00,  9.79it/s]\u001b[A\u001b[A"
     ]
    },
    {
     "name": "stdout",
     "output_type": "stream",
     "text": [
      "tensor([[0.2760],\n",
      "        [0.3060],\n",
      "        [0.3069],\n",
      "        ...,\n",
      "        [1.2673],\n",
      "        [1.2377],\n",
      "        [1.2827]], grad_fn=<AddBackward0>)\n"
     ]
    },
    {
     "name": "stderr",
     "output_type": "stream",
     "text": [
      "\n",
      "\n",
      " 75%|███████▌  | 3/4 [00:00<00:00,  9.40it/s]\u001b[A\u001b[A"
     ]
    },
    {
     "name": "stdout",
     "output_type": "stream",
     "text": [
      "tensor([[1.6919],\n",
      "        [1.7677],\n",
      "        [1.8020],\n",
      "        ...,\n",
      "        [1.8948],\n",
      "        [1.9266],\n",
      "        [1.8561]], grad_fn=<AddBackward0>)\n"
     ]
    },
    {
     "name": "stderr",
     "output_type": "stream",
     "text": [
      "\n",
      "\n",
      "100%|██████████| 4/4 [00:00<00:00,  8.99it/s]\u001b[A\u001b[A"
     ]
    },
    {
     "name": "stdout",
     "output_type": "stream",
     "text": [
      "tensor([[-1.0741],\n",
      "        [-1.0487],\n",
      "        [-1.0520],\n",
      "        ...,\n",
      "        [ 0.8627],\n",
      "        [ 0.8702],\n",
      "        [ 0.8375]], grad_fn=<AddBackward0>)\n",
      "[1 0 0 ... 1 1 1]\n",
      "[1 0 1 ... 1 0 0]\n"
     ]
    },
    {
     "name": "stderr",
     "output_type": "stream",
     "text": [
      "\n"
     ]
    },
    {
     "name": "stdout",
     "output_type": "stream",
     "text": [
      "[0 0 1 ... 0 0 0]\n",
      "[1 1 1 ... 1 1 0]\n"
     ]
    },
    {
     "name": "stderr",
     "output_type": "stream",
     "text": [
      "\n",
      "  2%|▏         | 164/10000 [01:49<1:42:39,  1.60it/s]\u001b[A"
     ]
    },
    {
     "name": "stdout",
     "output_type": "stream",
     "text": [
      "\n",
      "Epoch: 164, Loss: 1698.1957, Val: 0.6707, Test: 0.6738\n",
      "[0 0 1 ... 0 0 0]\n",
      "[1 1 1 ... 1 1 0]\n",
      "[1 0 0 ... 1 1 1]\n",
      "[1 0 1 ... 1 0 0]\n"
     ]
    },
    {
     "name": "stderr",
     "output_type": "stream",
     "text": [
      "\n",
      "\n",
      "  0%|          | 0/4 [00:00<?, ?it/s]\u001b[A\u001b[A"
     ]
    },
    {
     "name": "stdout",
     "output_type": "stream",
     "text": [
      "tensor([[-0.7642],\n",
      "        [-0.7486],\n",
      "        [-0.7643],\n",
      "        ...,\n",
      "        [ 0.4915],\n",
      "        [ 0.4930],\n",
      "        [ 0.4817]], grad_fn=<AddBackward0>)\n"
     ]
    },
    {
     "name": "stderr",
     "output_type": "stream",
     "text": [
      "\n",
      "\n",
      " 25%|██▌       | 1/4 [00:00<00:00,  8.55it/s]\u001b[A\u001b[A\n",
      "\n",
      " 50%|█████     | 2/4 [00:00<00:00,  8.86it/s]\u001b[A\u001b[A"
     ]
    },
    {
     "name": "stdout",
     "output_type": "stream",
     "text": [
      "tensor([[0.3238],\n",
      "        [0.3200],\n",
      "        [0.2961],\n",
      "        ...,\n",
      "        [2.1420],\n",
      "        [2.1365],\n",
      "        [2.1779]], grad_fn=<AddBackward0>)\n"
     ]
    },
    {
     "name": "stderr",
     "output_type": "stream",
     "text": [
      "\n",
      "\n",
      " 75%|███████▌  | 3/4 [00:00<00:00,  8.70it/s]\u001b[A\u001b[A"
     ]
    },
    {
     "name": "stdout",
     "output_type": "stream",
     "text": [
      "tensor([[0.6678],\n",
      "        [0.6061],\n",
      "        [0.5540],\n",
      "        ...,\n",
      "        [0.3723],\n",
      "        [0.3031],\n",
      "        [0.3099]], grad_fn=<AddBackward0>)\n"
     ]
    },
    {
     "name": "stderr",
     "output_type": "stream",
     "text": [
      "\r",
      "100%|██████████| 4/4 [00:00<00:00,  9.03it/s]"
     ]
    },
    {
     "name": "stdout",
     "output_type": "stream",
     "text": [
      "tensor([[ 0.1126],\n",
      "        [ 0.0600],\n",
      "        [ 0.1192],\n",
      "        ...,\n",
      "        [-0.6767],\n",
      "        [-0.6791],\n",
      "        [-0.6665]], grad_fn=<AddBackward0>)\n",
      "[1 0 0 ... 1 1 1]\n",
      "[1 0 1 ... 1 0 0]\n",
      "[0 0 1 ... 0 0 0]\n",
      "[1 1 1 ... 1 1 0]\n",
      "\n",
      "Epoch: 165, Loss: 1630.2119, Val: 0.6715, Test: 0.6741\n",
      "[0 0 1 ... 0 0 0]\n",
      "[1 1 1 ... 1 1 0]\n"
     ]
    },
    {
     "name": "stderr",
     "output_type": "stream",
     "text": [
      "\n",
      "\n",
      "  2%|▏         | 165/10000 [01:50<1:47:45,  1.52it/s]\u001b[A"
     ]
    },
    {
     "name": "stdout",
     "output_type": "stream",
     "text": [
      "[1 0 0 ... 1 1 1]\n",
      "[1 0 1 ... 1 0 0]\n"
     ]
    },
    {
     "name": "stderr",
     "output_type": "stream",
     "text": [
      "\n",
      "\n",
      "  0%|          | 0/4 [00:00<?, ?it/s]\u001b[A\u001b[A\n",
      "\n",
      " 25%|██▌       | 1/4 [00:00<00:00,  9.09it/s]\u001b[A\u001b[A"
     ]
    },
    {
     "name": "stdout",
     "output_type": "stream",
     "text": [
      "tensor([[ 2.5341],\n",
      "        [ 2.5396],\n",
      "        [ 2.5265],\n",
      "        ...,\n",
      "        [-1.3257],\n",
      "        [-1.3083],\n",
      "        [-1.3083]], grad_fn=<AddBackward0>)\n"
     ]
    },
    {
     "name": "stderr",
     "output_type": "stream",
     "text": [
      "\n",
      "\n",
      " 50%|█████     | 2/4 [00:00<00:00,  8.43it/s]\u001b[A\u001b[A"
     ]
    },
    {
     "name": "stdout",
     "output_type": "stream",
     "text": [
      "tensor([[ 0.2542],\n",
      "        [ 0.2611],\n",
      "        [ 0.2352],\n",
      "        ...,\n",
      "        [-1.7021],\n",
      "        [-1.6367],\n",
      "        [-1.6841]], grad_fn=<AddBackward0>)\n"
     ]
    },
    {
     "name": "stderr",
     "output_type": "stream",
     "text": [
      "\n",
      "\n",
      " 75%|███████▌  | 3/4 [00:00<00:00,  8.46it/s]\u001b[A\u001b[A"
     ]
    },
    {
     "name": "stdout",
     "output_type": "stream",
     "text": [
      "tensor([[1.3781],\n",
      "        [1.3752],\n",
      "        [1.3506],\n",
      "        ...,\n",
      "        [1.6427],\n",
      "        [1.7330],\n",
      "        [1.7528]], grad_fn=<AddBackward0>)\n"
     ]
    },
    {
     "name": "stderr",
     "output_type": "stream",
     "text": [
      "\r",
      "100%|██████████| 4/4 [00:00<00:00,  8.87it/s]"
     ]
    },
    {
     "name": "stdout",
     "output_type": "stream",
     "text": [
      "tensor([[1.1731],\n",
      "        [1.0138],\n",
      "        [0.7143],\n",
      "        ...,\n",
      "        [0.0813],\n",
      "        [0.0756],\n",
      "        [0.1014]], grad_fn=<AddBackward0>)\n",
      "[1 0 0 ... 1 1 1]\n",
      "[1 0 1 ... 1 0 0]\n",
      "[0 0 1 ... 0 0 0]\n",
      "[1 1 1 ... 1 1 0]\n",
      "\n",
      "Epoch: 166, Loss: 1705.4587, Val: 0.6718, Test: 0.6744\n",
      "[0 0 1 ... 0 0 0]\n",
      "[1 1 1 ... 1 1 0]\n"
     ]
    },
    {
     "name": "stderr",
     "output_type": "stream",
     "text": [
      "\n"
     ]
    },
    {
     "name": "stdout",
     "output_type": "stream",
     "text": [
      "[1 0 0 ... 1 1 1]\n",
      "[1 0 1 ... 1 0 0]\n"
     ]
    },
    {
     "name": "stderr",
     "output_type": "stream",
     "text": [
      "\n",
      "  2%|▏         | 166/10000 [01:51<1:52:49,  1.45it/s]\u001b[A\n",
      "\n",
      "  0%|          | 0/4 [00:00<?, ?it/s]\u001b[A\u001b[A\n",
      "\n",
      " 25%|██▌       | 1/4 [00:00<00:00,  6.57it/s]\u001b[A\u001b[A\n",
      "\n",
      " 50%|█████     | 2/4 [00:00<00:00,  6.26it/s]\u001b[A\u001b[A"
     ]
    },
    {
     "name": "stdout",
     "output_type": "stream",
     "text": [
      "tensor([[0.9255],\n",
      "        [0.9370],\n",
      "        [0.9438],\n",
      "        ...,\n",
      "        [0.6139],\n",
      "        [0.6203],\n",
      "        [0.5968]], grad_fn=<AddBackward0>)\n",
      "tensor([[-0.5954],\n",
      "        [-0.6354],\n",
      "        [-0.6038],\n",
      "        ...,\n",
      "        [ 0.4010],\n",
      "        [ 0.3963],\n",
      "        [ 0.3966]], grad_fn=<AddBackward0>)\n"
     ]
    },
    {
     "name": "stderr",
     "output_type": "stream",
     "text": [
      "\n",
      "\n",
      "100%|██████████| 4/4 [00:00<00:00,  7.40it/s]\u001b[A\u001b[A"
     ]
    },
    {
     "name": "stdout",
     "output_type": "stream",
     "text": [
      "tensor([[-1.5443],\n",
      "        [-1.5634],\n",
      "        [-1.5266],\n",
      "        ...,\n",
      "        [ 0.0981],\n",
      "        [ 0.3583],\n",
      "        [ 0.3433]], grad_fn=<AddBackward0>)\n",
      "tensor([[ 1.6574],\n",
      "        [ 1.6551],\n",
      "        [ 1.6272],\n",
      "        ...,\n",
      "        [-0.6924],\n",
      "        [-0.7044],\n",
      "        [-0.6974]], grad_fn=<AddBackward0>)\n",
      "[1 0 0 ... 1 1 1]\n",
      "[1 0 1 ... 1 0 0]\n",
      "[0 0 1 ... 0 0 0]\n",
      "[1 1 1 ... 1 1 0]\n",
      "\n",
      "Epoch: 167, Loss: 1629.9855, Val: 0.6729, Test: 0.6746\n",
      "[0 0 1 ... 0 0 0]\n",
      "[1 1 1 ... 1 1 0]\n"
     ]
    },
    {
     "name": "stderr",
     "output_type": "stream",
     "text": [
      "\n",
      "\n",
      "  2%|▏         | 167/10000 [01:51<1:54:00,  1.44it/s]\u001b[A"
     ]
    },
    {
     "name": "stdout",
     "output_type": "stream",
     "text": [
      "[1 0 0 ... 1 1 1]\n",
      "[1 0 1 ... 1 0 0]\n"
     ]
    },
    {
     "name": "stderr",
     "output_type": "stream",
     "text": [
      "\n",
      "\n",
      "  0%|          | 0/4 [00:00<?, ?it/s]\u001b[A\u001b[A\n",
      "\n",
      " 25%|██▌       | 1/4 [00:00<00:00,  8.64it/s]\u001b[A\u001b[A"
     ]
    },
    {
     "name": "stdout",
     "output_type": "stream",
     "text": [
      "tensor([[0.8647],\n",
      "        [0.8836],\n",
      "        [0.8922],\n",
      "        ...,\n",
      "        [0.0251],\n",
      "        [0.0882],\n",
      "        [0.0881]], grad_fn=<AddBackward0>)\n"
     ]
    },
    {
     "name": "stderr",
     "output_type": "stream",
     "text": [
      "\n",
      "\n",
      " 50%|█████     | 2/4 [00:00<00:00,  8.20it/s]\u001b[A\u001b[A"
     ]
    },
    {
     "name": "stdout",
     "output_type": "stream",
     "text": [
      "tensor([[ 0.8220],\n",
      "        [ 0.8340],\n",
      "        [ 0.8295],\n",
      "        ...,\n",
      "        [-0.3935],\n",
      "        [-0.1852],\n",
      "        [-0.2059]], grad_fn=<AddBackward0>)\n"
     ]
    },
    {
     "name": "stderr",
     "output_type": "stream",
     "text": [
      "\n",
      "\n",
      "100%|██████████| 4/4 [00:00<00:00, 10.10it/s]\u001b[A\u001b[A"
     ]
    },
    {
     "name": "stdout",
     "output_type": "stream",
     "text": [
      "tensor([[ 0.1284],\n",
      "        [ 0.0418],\n",
      "        [ 0.1432],\n",
      "        ...,\n",
      "        [-0.1352],\n",
      "        [-0.1425],\n",
      "        [-0.1528]], grad_fn=<AddBackward0>)\n",
      "tensor([[-1.5562],\n",
      "        [-1.5101],\n",
      "        [-1.4930],\n",
      "        ...,\n",
      "        [ 0.1030],\n",
      "        [ 0.0650],\n",
      "        [ 0.1043]], grad_fn=<AddBackward0>)\n",
      "[1 0 0 ... 1 1 1]\n",
      "[1 0 1 ... 1 0 0]\n"
     ]
    },
    {
     "name": "stderr",
     "output_type": "stream",
     "text": [
      "\n"
     ]
    },
    {
     "name": "stdout",
     "output_type": "stream",
     "text": [
      "[0 0 1 ... 0 0 0]\n",
      "[1 1 1 ... 1 1 0]\n",
      "\n",
      "Epoch: 168, Loss: 1632.8400, Val: 0.6738, Test: 0.6749\n",
      "[0 0 1 ... 0 0 0]\n",
      "[1 1 1 ... 1 1 0]\n"
     ]
    },
    {
     "name": "stderr",
     "output_type": "stream",
     "text": [
      "\n",
      "  2%|▏         | 168/10000 [01:52<1:54:08,  1.44it/s]\u001b[A"
     ]
    },
    {
     "name": "stdout",
     "output_type": "stream",
     "text": [
      "[1 0 0 ... 1 1 1]\n",
      "[1 0 1 ... 1 0 0]\n"
     ]
    },
    {
     "name": "stderr",
     "output_type": "stream",
     "text": [
      "\n",
      "\n",
      "  0%|          | 0/4 [00:00<?, ?it/s]\u001b[A\u001b[A\n",
      "\n",
      " 25%|██▌       | 1/4 [00:00<00:00,  8.11it/s]\u001b[A\u001b[A"
     ]
    },
    {
     "name": "stdout",
     "output_type": "stream",
     "text": [
      "tensor([[-0.6558],\n",
      "        [-0.6561],\n",
      "        [-0.6642],\n",
      "        ...,\n",
      "        [ 0.6057],\n",
      "        [ 0.6694],\n",
      "        [ 0.6552]], grad_fn=<AddBackward0>)\n"
     ]
    },
    {
     "name": "stderr",
     "output_type": "stream",
     "text": [
      "\n",
      "\n",
      " 50%|█████     | 2/4 [00:00<00:00,  7.03it/s]\u001b[A\u001b[A"
     ]
    },
    {
     "name": "stdout",
     "output_type": "stream",
     "text": [
      "tensor([[0.3115],\n",
      "        [0.4571],\n",
      "        [0.4391],\n",
      "        ...,\n",
      "        [1.2281],\n",
      "        [1.2093],\n",
      "        [1.2261]], grad_fn=<AddBackward0>)\n"
     ]
    },
    {
     "name": "stderr",
     "output_type": "stream",
     "text": [
      "\n",
      "\n",
      " 75%|███████▌  | 3/4 [00:00<00:00,  6.87it/s]\u001b[A\u001b[A"
     ]
    },
    {
     "name": "stdout",
     "output_type": "stream",
     "text": [
      "tensor([[ 2.1445],\n",
      "        [ 2.1718],\n",
      "        [ 2.1874],\n",
      "        ...,\n",
      "        [-0.9950],\n",
      "        [-1.0199],\n",
      "        [-1.0114]], grad_fn=<AddBackward0>)\n"
     ]
    },
    {
     "name": "stderr",
     "output_type": "stream",
     "text": [
      "\n",
      "\n",
      "100%|██████████| 4/4 [00:00<00:00,  7.09it/s]\u001b[A\u001b[A"
     ]
    },
    {
     "name": "stdout",
     "output_type": "stream",
     "text": [
      "tensor([[-0.1416],\n",
      "        [-0.1510],\n",
      "        [-0.1590],\n",
      "        ...,\n",
      "        [ 0.1921],\n",
      "        [ 0.1976],\n",
      "        [ 0.1707]], grad_fn=<AddBackward0>)\n",
      "[1 0 0 ... 1 1 1]\n",
      "[1 0 1 ... 1 0 0]\n",
      "[0 0 1 ... 0 0 0]\n",
      "[1 1 1 ... 1 1 0]\n"
     ]
    },
    {
     "name": "stderr",
     "output_type": "stream",
     "text": [
      "\n"
     ]
    },
    {
     "name": "stdout",
     "output_type": "stream",
     "text": [
      "\n",
      "Epoch: 169, Loss: 1624.0536, Val: 0.6740, Test: 0.6749\n",
      "[0 0 1 ... 0 0 0]\n",
      "[1 1 1 ... 1 1 0]\n",
      "[1 0 0 ... 1 1 1]\n",
      "[1 0 1 ... 1 0 0]\n"
     ]
    },
    {
     "name": "stderr",
     "output_type": "stream",
     "text": [
      "\n",
      "  2%|▏         | 169/10000 [01:53<2:04:19,  1.32it/s]\u001b[A\n",
      "\n",
      "  0%|          | 0/4 [00:00<?, ?it/s]\u001b[A\u001b[A\n",
      "\n",
      " 50%|█████     | 2/4 [00:00<00:00, 10.01it/s]\u001b[A\u001b[A"
     ]
    },
    {
     "name": "stdout",
     "output_type": "stream",
     "text": [
      "tensor([[-0.0154],\n",
      "        [-0.0338],\n",
      "        [-0.0320],\n",
      "        ...,\n",
      "        [ 0.5652],\n",
      "        [ 0.5358],\n",
      "        [ 0.5683]], grad_fn=<AddBackward0>)\n",
      "tensor([[ 2.6019],\n",
      "        [ 2.5242],\n",
      "        [ 2.6214],\n",
      "        ...,\n",
      "        [ 0.2133],\n",
      "        [-0.0034],\n",
      "        [ 0.0085]], grad_fn=<AddBackward0>)\n"
     ]
    },
    {
     "name": "stderr",
     "output_type": "stream",
     "text": [
      "\n",
      "\n",
      "100%|██████████| 4/4 [00:00<00:00, 10.13it/s]\u001b[A\u001b[A\n"
     ]
    },
    {
     "name": "stdout",
     "output_type": "stream",
     "text": [
      "tensor([[ 0.1562],\n",
      "        [ 0.1705],\n",
      "        [ 0.1453],\n",
      "        ...,\n",
      "        [-0.5277],\n",
      "        [-0.5604],\n",
      "        [-0.5431]], grad_fn=<AddBackward0>)\n",
      "tensor([[-2.3910],\n",
      "        [-2.3410],\n",
      "        [-2.3546],\n",
      "        ...,\n",
      "        [ 0.0575],\n",
      "        [ 0.0978],\n",
      "        [ 0.0927]], grad_fn=<AddBackward0>)\n",
      "[1 0 0 ... 1 1 1]\n",
      "[1 0 1 ... 1 0 0]\n",
      "[0 0 1 ... 0 0 0]\n",
      "[1 1 1 ... 1 1 0]\n",
      "\n",
      "Epoch: 170, Loss: 1580.0249, Val: 0.6748, Test: 0.6749\n",
      "[0 0 1 ... 0 0 0]\n",
      "[1 1 1 ... 1 1 0]\n",
      "[1 0 0 ... 1 1 1]\n",
      "[1 0 1 ... 1 0 0]\n"
     ]
    },
    {
     "name": "stderr",
     "output_type": "stream",
     "text": [
      "\n",
      "  2%|▏         | 170/10000 [01:53<1:53:46,  1.44it/s]\u001b[A\n",
      "\n",
      "  0%|          | 0/4 [00:00<?, ?it/s]\u001b[A\u001b[A\n",
      "\n",
      " 50%|█████     | 2/4 [00:00<00:00,  9.25it/s]\u001b[A\u001b[A"
     ]
    },
    {
     "name": "stdout",
     "output_type": "stream",
     "text": [
      "tensor([[0.9071],\n",
      "        [0.9116],\n",
      "        [0.9214],\n",
      "        ...,\n",
      "        [0.4094],\n",
      "        [0.4101],\n",
      "        [0.3460]], grad_fn=<AddBackward0>)\n",
      "tensor([[2.5069],\n",
      "        [2.5573],\n",
      "        [2.5593],\n",
      "        ...,\n",
      "        [0.7102],\n",
      "        [0.4360],\n",
      "        [0.6580]], grad_fn=<AddBackward0>)\n"
     ]
    },
    {
     "name": "stderr",
     "output_type": "stream",
     "text": [
      "\n",
      "\n",
      "100%|██████████| 4/4 [00:00<00:00, 10.18it/s]\u001b[A\u001b[A\n"
     ]
    },
    {
     "name": "stdout",
     "output_type": "stream",
     "text": [
      "tensor([[0.4335],\n",
      "        [0.4369],\n",
      "        [0.4346],\n",
      "        ...,\n",
      "        [1.0662],\n",
      "        [1.1362],\n",
      "        [1.1508]], grad_fn=<AddBackward0>)\n",
      "tensor([[-0.9706],\n",
      "        [-1.0508],\n",
      "        [-0.9486],\n",
      "        ...,\n",
      "        [-1.3118],\n",
      "        [-1.3244],\n",
      "        [-1.3217]], grad_fn=<AddBackward0>)\n",
      "[1 0 0 ... 1 1 1]\n",
      "[1 0 1 ... 1 0 0]\n",
      "[0 0 1 ... 0 0 0]\n",
      "[1 1 1 ... 1 1 0]\n"
     ]
    },
    {
     "name": "stderr",
     "output_type": "stream",
     "text": [
      "\n",
      "  2%|▏         | 171/10000 [01:54<1:50:13,  1.49it/s]\u001b[A\n",
      "\n",
      "  0%|          | 0/4 [00:00<?, ?it/s]\u001b[A\u001b[A\n",
      "\n",
      " 50%|█████     | 2/4 [00:00<00:00, 12.27it/s]\u001b[A\u001b[A"
     ]
    },
    {
     "name": "stdout",
     "output_type": "stream",
     "text": [
      "tensor([[0.5981],\n",
      "        [0.6235],\n",
      "        [0.6510],\n",
      "        ...,\n",
      "        [1.1586],\n",
      "        [1.1423],\n",
      "        [1.1215]], grad_fn=<AddBackward0>)\n",
      "tensor([[0.2766],\n",
      "        [0.2685],\n",
      "        [0.2237],\n",
      "        ...,\n",
      "        [2.1712],\n",
      "        [2.2090],\n",
      "        [2.1660]], grad_fn=<AddBackward0>)\n",
      "tensor([[-0.5487],\n",
      "        [-0.5109],\n",
      "        [-0.5234],\n",
      "        ...,\n",
      "        [ 1.7606],\n",
      "        [ 1.8134],\n",
      "        [ 1.7874]], grad_fn=<AddBackward0>)\n"
     ]
    },
    {
     "name": "stderr",
     "output_type": "stream",
     "text": [
      "\n",
      "\n",
      "100%|██████████| 4/4 [00:00<00:00, 12.00it/s]\u001b[A\u001b[A\n",
      "\n",
      "  2%|▏         | 172/10000 [01:55<1:37:19,  1.68it/s]\u001b[A"
     ]
    },
    {
     "name": "stdout",
     "output_type": "stream",
     "text": [
      "tensor([[ 0.4811],\n",
      "        [ 0.4377],\n",
      "        [ 0.4363],\n",
      "        ...,\n",
      "        [-0.5166],\n",
      "        [-0.4983],\n",
      "        [-0.4654]], grad_fn=<AddBackward0>)\n",
      "[1 0 0 ... 1 1 1]\n",
      "[1 0 1 ... 1 0 0]\n",
      "[0 0 1 ... 0 0 0]\n",
      "[1 1 1 ... 1 1 0]\n"
     ]
    },
    {
     "name": "stderr",
     "output_type": "stream",
     "text": [
      "\n",
      "\n",
      "  0%|          | 0/4 [00:00<?, ?it/s]\u001b[A\u001b[A\n",
      "\n",
      " 25%|██▌       | 1/4 [00:00<00:00,  9.29it/s]\u001b[A\u001b[A"
     ]
    },
    {
     "name": "stdout",
     "output_type": "stream",
     "text": [
      "tensor([[ 0.6354],\n",
      "        [ 0.6470],\n",
      "        [ 0.6239],\n",
      "        ...,\n",
      "        [-1.0880],\n",
      "        [-1.0767],\n",
      "        [-1.1043]], grad_fn=<AddBackward0>)\n"
     ]
    },
    {
     "name": "stderr",
     "output_type": "stream",
     "text": [
      "\n",
      "\n",
      " 50%|█████     | 2/4 [00:00<00:00,  7.95it/s]\u001b[A\u001b[A"
     ]
    },
    {
     "name": "stdout",
     "output_type": "stream",
     "text": [
      "tensor([[-0.5915],\n",
      "        [-0.6324],\n",
      "        [-0.5941],\n",
      "        ...,\n",
      "        [ 1.2616],\n",
      "        [ 1.0663],\n",
      "        [ 1.1774]], grad_fn=<AddBackward0>)\n"
     ]
    },
    {
     "name": "stderr",
     "output_type": "stream",
     "text": [
      "\n",
      "\n",
      "100%|██████████| 4/4 [00:00<00:00,  9.48it/s]\u001b[A\u001b[A"
     ]
    },
    {
     "name": "stdout",
     "output_type": "stream",
     "text": [
      "tensor([[-0.8261],\n",
      "        [-0.6792],\n",
      "        [-0.5540],\n",
      "        ...,\n",
      "        [ 1.1955],\n",
      "        [ 1.1391],\n",
      "        [ 1.0485]], grad_fn=<AddBackward0>)\n",
      "tensor([[-1.4593],\n",
      "        [-1.4606],\n",
      "        [-1.4654],\n",
      "        ...,\n",
      "        [ 0.8864],\n",
      "        [ 0.8361],\n",
      "        [ 0.9614]], grad_fn=<AddBackward0>)\n",
      "[1 0 0 ... 1 1 1]\n",
      "[1 0 1 ... 1 0 0]\n"
     ]
    },
    {
     "name": "stderr",
     "output_type": "stream",
     "text": [
      "\n"
     ]
    },
    {
     "name": "stdout",
     "output_type": "stream",
     "text": [
      "[0 0 1 ... 0 0 0]\n",
      "[1 1 1 ... 1 1 0]\n",
      "\n",
      "Epoch: 173, Loss: 1555.7417, Val: 0.6752, Test: 0.6762\n",
      "[0 0 1 ... 0 0 0]\n",
      "[1 1 1 ... 1 1 0]\n"
     ]
    },
    {
     "name": "stderr",
     "output_type": "stream",
     "text": [
      "\n",
      "  2%|▏         | 173/10000 [01:55<1:42:27,  1.60it/s]\u001b[A"
     ]
    },
    {
     "name": "stdout",
     "output_type": "stream",
     "text": [
      "[1 0 0 ... 1 1 1]\n",
      "[1 0 1 ... 1 0 0]\n"
     ]
    },
    {
     "name": "stderr",
     "output_type": "stream",
     "text": [
      "\n",
      "\n",
      "  0%|          | 0/4 [00:00<?, ?it/s]\u001b[A\u001b[A"
     ]
    },
    {
     "name": "stdout",
     "output_type": "stream",
     "text": [
      "tensor([[-1.9220],\n",
      "        [-1.8572],\n",
      "        [-1.8332],\n",
      "        ...,\n",
      "        [-1.0840],\n",
      "        [-1.0880],\n",
      "        [-1.0787]], grad_fn=<AddBackward0>)\n"
     ]
    },
    {
     "name": "stderr",
     "output_type": "stream",
     "text": [
      "\n",
      "\n",
      " 50%|█████     | 2/4 [00:00<00:00, 10.72it/s]\u001b[A\u001b[A"
     ]
    },
    {
     "name": "stdout",
     "output_type": "stream",
     "text": [
      "tensor([[0.8117],\n",
      "        [0.8207],\n",
      "        [0.7686],\n",
      "        ...,\n",
      "        [1.4961],\n",
      "        [1.5393],\n",
      "        [1.5438]], grad_fn=<AddBackward0>)\n",
      "tensor([[1.3806],\n",
      "        [1.3594],\n",
      "        [1.4026],\n",
      "        ...,\n",
      "        [1.8140],\n",
      "        [1.7988],\n",
      "        [1.6976]], grad_fn=<AddBackward0>)\n"
     ]
    },
    {
     "name": "stderr",
     "output_type": "stream",
     "text": [
      "\n",
      "\n",
      "100%|██████████| 4/4 [00:00<00:00, 11.11it/s]\u001b[A\u001b[A"
     ]
    },
    {
     "name": "stdout",
     "output_type": "stream",
     "text": [
      "tensor([[1.1384],\n",
      "        [1.1233],\n",
      "        [1.1180],\n",
      "        ...,\n",
      "        [0.0204],\n",
      "        [0.0244],\n",
      "        [0.0429]], grad_fn=<AddBackward0>)\n"
     ]
    },
    {
     "name": "stderr",
     "output_type": "stream",
     "text": [
      "\n",
      "\n",
      "  2%|▏         | 174/10000 [01:56<1:38:22,  1.66it/s]\u001b[A"
     ]
    },
    {
     "name": "stdout",
     "output_type": "stream",
     "text": [
      "[1 0 0 ... 1 1 1]\n",
      "[1 0 1 ... 1 0 0]\n",
      "[0 0 1 ... 0 0 0]\n",
      "[1 1 1 ... 1 1 0]\n",
      "\n",
      "Epoch: 174, Loss: 1524.3915, Val: 0.6753, Test: 0.6761\n",
      "[0 0 1 ... 0 0 0]\n",
      "[1 1 1 ... 1 1 0]\n",
      "[1 0 0 ... 1 1 1]\n",
      "[1 0 1 ... 1 0 0]\n"
     ]
    },
    {
     "name": "stderr",
     "output_type": "stream",
     "text": [
      "\n",
      "\n",
      "  0%|          | 0/4 [00:00<?, ?it/s]\u001b[A\u001b[A\n",
      "\n",
      " 25%|██▌       | 1/4 [00:00<00:00,  9.64it/s]\u001b[A\u001b[A\n",
      "\n",
      " 50%|█████     | 2/4 [00:00<00:00,  9.32it/s]\u001b[A\u001b[A"
     ]
    },
    {
     "name": "stdout",
     "output_type": "stream",
     "text": [
      "tensor([[ 2.5635],\n",
      "        [ 2.5571],\n",
      "        [ 2.5769],\n",
      "        ...,\n",
      "        [ 0.0691],\n",
      "        [ 0.0063],\n",
      "        [-0.0667]], grad_fn=<AddBackward0>)\n",
      "tensor([[1.1732],\n",
      "        [1.2176],\n",
      "        [1.1797],\n",
      "        ...,\n",
      "        [0.7517],\n",
      "        [0.6101],\n",
      "        [0.6238]], grad_fn=<AddBackward0>)\n"
     ]
    },
    {
     "name": "stderr",
     "output_type": "stream",
     "text": [
      "\n",
      "\n",
      "100%|██████████| 4/4 [00:00<00:00,  9.27it/s]\u001b[A\u001b[A"
     ]
    },
    {
     "name": "stdout",
     "output_type": "stream",
     "text": [
      "tensor([[0.8152],\n",
      "        [0.5990],\n",
      "        [0.7928],\n",
      "        ...,\n",
      "        [1.3621],\n",
      "        [1.3930],\n",
      "        [1.3511]], grad_fn=<AddBackward0>)\n",
      "tensor([[1.1106],\n",
      "        [1.0565],\n",
      "        [1.0722],\n",
      "        ...,\n",
      "        [1.0386],\n",
      "        [1.0403],\n",
      "        [0.8644]], grad_fn=<AddBackward0>)\n",
      "[1 0 0 ... 1 1 1]\n",
      "[1 0 1 ... 1 0 0]\n"
     ]
    },
    {
     "name": "stderr",
     "output_type": "stream",
     "text": [
      "\n",
      "\n",
      "  2%|▏         | 175/10000 [01:57<1:46:04,  1.54it/s]\u001b[A"
     ]
    },
    {
     "name": "stdout",
     "output_type": "stream",
     "text": [
      "[0 0 1 ... 0 0 0]\n",
      "[1 1 1 ... 1 1 0]\n",
      "\n",
      "Epoch: 175, Loss: 1483.0476, Val: 0.6756, Test: 0.6762\n",
      "[0 0 1 ... 0 0 0]\n",
      "[1 1 1 ... 1 1 0]\n",
      "[1 0 0 ... 1 1 1]\n",
      "[1 0 1 ... 1 0 0]\n"
     ]
    },
    {
     "name": "stderr",
     "output_type": "stream",
     "text": [
      "\n",
      "\n",
      "  0%|          | 0/4 [00:00<?, ?it/s]\u001b[A\u001b[A\n",
      "\n",
      " 25%|██▌       | 1/4 [00:00<00:00,  7.00it/s]\u001b[A\u001b[A\n",
      "\n",
      " 50%|█████     | 2/4 [00:00<00:00,  6.97it/s]\u001b[A\u001b[A"
     ]
    },
    {
     "name": "stdout",
     "output_type": "stream",
     "text": [
      "tensor([[ 0.9346],\n",
      "        [ 0.9469],\n",
      "        [ 0.9418],\n",
      "        ...,\n",
      "        [ 0.0243],\n",
      "        [ 0.0542],\n",
      "        [-0.0070]], grad_fn=<AddBackward0>)\n",
      "tensor([[-0.0697],\n",
      "        [-0.2074],\n",
      "        [-0.0068],\n",
      "        ...,\n",
      "        [ 0.6810],\n",
      "        [ 0.7198],\n",
      "        [ 0.7351]], grad_fn=<AddBackward0>)\n"
     ]
    },
    {
     "name": "stderr",
     "output_type": "stream",
     "text": [
      "\n",
      "\n",
      " 75%|███████▌  | 3/4 [00:00<00:00,  6.86it/s]\u001b[A\u001b[A\n",
      "\n",
      "100%|██████████| 4/4 [00:00<00:00,  7.29it/s]\u001b[A\u001b[A"
     ]
    },
    {
     "name": "stdout",
     "output_type": "stream",
     "text": [
      "tensor([[ 1.4932],\n",
      "        [ 1.5374],\n",
      "        [ 1.4824],\n",
      "        ...,\n",
      "        [-0.8639],\n",
      "        [-0.9533],\n",
      "        [-0.8834]], grad_fn=<AddBackward0>)\n",
      "tensor([[-1.2920],\n",
      "        [-1.2988],\n",
      "        [-1.3770],\n",
      "        ...,\n",
      "        [-1.3350],\n",
      "        [-1.3621],\n",
      "        [-1.3481]], grad_fn=<AddBackward0>)\n",
      "[1 0 0 ... 1 1 1]\n",
      "[1 0 1 ... 1 0 0]\n",
      "[0 0 1 ... 0 0 0]\n",
      "[1 1 1 ... 1 1 0]\n"
     ]
    },
    {
     "name": "stderr",
     "output_type": "stream",
     "text": [
      "\n",
      "\n",
      "  2%|▏         | 176/10000 [01:57<1:45:49,  1.55it/s]\u001b[A\n",
      "\n",
      "  0%|          | 0/4 [00:00<?, ?it/s]\u001b[A\u001b[A\n",
      "\n",
      " 25%|██▌       | 1/4 [00:00<00:00,  7.14it/s]\u001b[A\u001b[A\n",
      "\n",
      " 50%|█████     | 2/4 [00:00<00:00,  6.98it/s]\u001b[A\u001b[A"
     ]
    },
    {
     "name": "stdout",
     "output_type": "stream",
     "text": [
      "tensor([[-0.6822],\n",
      "        [-0.6029],\n",
      "        [-0.7166],\n",
      "        ...,\n",
      "        [-0.0039],\n",
      "        [ 0.0168],\n",
      "        [-0.0614]], grad_fn=<AddBackward0>)\n",
      "tensor([[-0.3305],\n",
      "        [-0.1594],\n",
      "        [-0.1636],\n",
      "        ...,\n",
      "        [ 0.4401],\n",
      "        [ 0.4477],\n",
      "        [ 0.4197]], grad_fn=<AddBackward0>)\n"
     ]
    },
    {
     "name": "stderr",
     "output_type": "stream",
     "text": [
      "\n",
      "\n",
      " 75%|███████▌  | 3/4 [00:00<00:00,  6.84it/s]\u001b[A\u001b[A\n",
      "\n",
      "100%|██████████| 4/4 [00:00<00:00,  7.16it/s]\u001b[A\u001b[A"
     ]
    },
    {
     "name": "stdout",
     "output_type": "stream",
     "text": [
      "tensor([[-0.6865],\n",
      "        [-0.9100],\n",
      "        [-0.7965],\n",
      "        ...,\n",
      "        [ 1.8049],\n",
      "        [ 1.8054],\n",
      "        [ 1.8301]], grad_fn=<AddBackward0>)\n",
      "tensor([[-0.2844],\n",
      "        [-0.3004],\n",
      "        [-0.4058],\n",
      "        ...,\n",
      "        [-0.6467],\n",
      "        [-0.7406],\n",
      "        [-0.6900]], grad_fn=<AddBackward0>)\n",
      "[1 0 0 ... 1 1 1]\n",
      "[1 0 1 ... 1 0 0]\n"
     ]
    },
    {
     "name": "stderr",
     "output_type": "stream",
     "text": [
      "\n",
      "\n",
      "  2%|▏         | 177/10000 [01:58<2:00:07,  1.36it/s]\u001b[A"
     ]
    },
    {
     "name": "stdout",
     "output_type": "stream",
     "text": [
      "[0 0 1 ... 0 0 0]\n",
      "[1 1 1 ... 1 1 0]\n",
      "\n",
      "Epoch: 177, Loss: 1502.8429, Val: 0.6757, Test: 0.6756\n",
      "[0 0 1 ... 0 0 0]\n",
      "[1 1 1 ... 1 1 0]\n",
      "[1 0 0 ... 1 1 1]\n",
      "[1 0 1 ... 1 0 0]\n"
     ]
    },
    {
     "name": "stderr",
     "output_type": "stream",
     "text": [
      "\n",
      "\n",
      "  0%|          | 0/4 [00:00<?, ?it/s]\u001b[A\u001b[A\n",
      "\n",
      " 50%|█████     | 2/4 [00:00<00:00, 10.40it/s]\u001b[A\u001b[A"
     ]
    },
    {
     "name": "stdout",
     "output_type": "stream",
     "text": [
      "tensor([[ 0.6453],\n",
      "        [ 0.6700],\n",
      "        [ 0.6483],\n",
      "        ...,\n",
      "        [ 0.0996],\n",
      "        [-0.1196],\n",
      "        [-0.1440]], grad_fn=<AddBackward0>)\n",
      "tensor([[0.9015],\n",
      "        [0.8890],\n",
      "        [0.8889],\n",
      "        ...,\n",
      "        [0.8101],\n",
      "        [0.8394],\n",
      "        [0.8493]], grad_fn=<AddBackward0>)\n",
      "tensor([[1.3886],\n",
      "        [1.3919],\n",
      "        [1.3140],\n",
      "        ...,\n",
      "        [1.8041],\n",
      "        [1.8344],\n",
      "        [1.7858]], grad_fn=<AddBackward0>)\n"
     ]
    },
    {
     "name": "stderr",
     "output_type": "stream",
     "text": [
      "\n",
      "\n",
      "100%|██████████| 4/4 [00:00<00:00, 10.80it/s]\u001b[A\u001b[A\n"
     ]
    },
    {
     "name": "stdout",
     "output_type": "stream",
     "text": [
      "tensor([[1.1192],\n",
      "        [1.1158],\n",
      "        [1.1114],\n",
      "        ...,\n",
      "        [2.0100],\n",
      "        [2.0357],\n",
      "        [2.0754]], grad_fn=<AddBackward0>)\n",
      "[1 0 0 ... 1 1 1]\n",
      "[1 0 1 ... 1 0 0]\n",
      "[0 0 1 ... 0 0 0]\n",
      "[1 1 1 ... 1 1 0]\n",
      "\n",
      "Epoch: 178, Loss: 1402.5011, Val: 0.6758, Test: 0.6761\n",
      "[0 0 1 ... 0 0 0]\n",
      "[1 1 1 ... 1 1 0]\n"
     ]
    },
    {
     "name": "stderr",
     "output_type": "stream",
     "text": [
      "\n",
      "  2%|▏         | 178/10000 [01:59<2:00:12,  1.36it/s]\u001b[A"
     ]
    },
    {
     "name": "stdout",
     "output_type": "stream",
     "text": [
      "[1 0 0 ... 1 1 1]\n",
      "[1 0 1 ... 1 0 0]\n"
     ]
    },
    {
     "name": "stderr",
     "output_type": "stream",
     "text": [
      "\n",
      "\n",
      "  0%|          | 0/4 [00:00<?, ?it/s]\u001b[A\u001b[A\n",
      "\n",
      " 25%|██▌       | 1/4 [00:00<00:00,  6.66it/s]\u001b[A\u001b[A"
     ]
    },
    {
     "name": "stdout",
     "output_type": "stream",
     "text": [
      "tensor([[-0.4804],\n",
      "        [-0.4759],\n",
      "        [-0.4809],\n",
      "        ...,\n",
      "        [ 0.7537],\n",
      "        [ 0.6760],\n",
      "        [ 0.7226]], grad_fn=<AddBackward0>)\n"
     ]
    },
    {
     "name": "stderr",
     "output_type": "stream",
     "text": [
      "\n",
      "\n",
      " 50%|█████     | 2/4 [00:00<00:00,  6.16it/s]\u001b[A\u001b[A"
     ]
    },
    {
     "name": "stdout",
     "output_type": "stream",
     "text": [
      "tensor([[1.0700],\n",
      "        [0.7852],\n",
      "        [1.0438],\n",
      "        ...,\n",
      "        [1.2608],\n",
      "        [1.2939],\n",
      "        [1.3289]], grad_fn=<AddBackward0>)\n"
     ]
    },
    {
     "name": "stderr",
     "output_type": "stream",
     "text": [
      "\n",
      "\n",
      " 75%|███████▌  | 3/4 [00:00<00:00,  6.34it/s]\u001b[A\u001b[A"
     ]
    },
    {
     "name": "stdout",
     "output_type": "stream",
     "text": [
      "tensor([[ 1.4893],\n",
      "        [ 1.4135],\n",
      "        [ 1.5138],\n",
      "        ...,\n",
      "        [-0.6956],\n",
      "        [-0.6501],\n",
      "        [-0.6367]], grad_fn=<AddBackward0>)\n"
     ]
    },
    {
     "name": "stderr",
     "output_type": "stream",
     "text": [
      "\n",
      "\n",
      "100%|██████████| 4/4 [00:00<00:00,  6.83it/s]\u001b[A\u001b[A"
     ]
    },
    {
     "name": "stdout",
     "output_type": "stream",
     "text": [
      "tensor([[-1.5699],\n",
      "        [-1.5374],\n",
      "        [-1.5914],\n",
      "        ...,\n",
      "        [-0.4563],\n",
      "        [-0.5005],\n",
      "        [-0.4631]], grad_fn=<AddBackward0>)\n",
      "[1 0 0 ... 1 1 1]\n",
      "[1 0 1 ... 1 0 0]\n",
      "[0 0 1 ... 0 0 0]\n",
      "[1 1 1 ... 1 1 0]\n"
     ]
    },
    {
     "name": "stderr",
     "output_type": "stream",
     "text": [
      "\n",
      "\n",
      "  2%|▏         | 179/10000 [02:00<2:02:09,  1.34it/s]\u001b[A"
     ]
    },
    {
     "name": "stdout",
     "output_type": "stream",
     "text": [
      "\n",
      "Epoch: 179, Loss: 1431.6454, Val: 0.6761, Test: 0.6765\n",
      "[0 0 1 ... 0 0 0]\n",
      "[1 1 1 ... 1 1 0]\n",
      "[1 0 0 ... 1 1 1]\n",
      "[1 0 1 ... 1 0 0]\n"
     ]
    },
    {
     "name": "stderr",
     "output_type": "stream",
     "text": [
      "\n",
      "\n",
      "  0%|          | 0/4 [00:00<?, ?it/s]\u001b[A\u001b[A\n",
      "\n",
      " 25%|██▌       | 1/4 [00:00<00:00,  6.12it/s]\u001b[A\u001b[A\n",
      "\n",
      " 50%|█████     | 2/4 [00:00<00:00,  6.31it/s]\u001b[A\u001b[A"
     ]
    },
    {
     "name": "stdout",
     "output_type": "stream",
     "text": [
      "tensor([[-1.9193],\n",
      "        [-1.8099],\n",
      "        [-2.0101],\n",
      "        ...,\n",
      "        [-1.1724],\n",
      "        [-1.3715],\n",
      "        [-1.2200]], grad_fn=<AddBackward0>)\n",
      "tensor([[0.8802],\n",
      "        [0.8740],\n",
      "        [0.8328],\n",
      "        ...,\n",
      "        [1.1213],\n",
      "        [1.1371],\n",
      "        [1.0794]], grad_fn=<AddBackward0>)\n"
     ]
    },
    {
     "name": "stderr",
     "output_type": "stream",
     "text": [
      "\n",
      "\n",
      " 75%|███████▌  | 3/4 [00:00<00:00,  6.31it/s]\u001b[A\u001b[A\n",
      "\n",
      "100%|██████████| 4/4 [00:00<00:00,  6.43it/s]\u001b[A\u001b[A"
     ]
    },
    {
     "name": "stdout",
     "output_type": "stream",
     "text": [
      "tensor([[0.6095],\n",
      "        [0.5501],\n",
      "        [0.6464],\n",
      "        ...,\n",
      "        [1.0500],\n",
      "        [1.1234],\n",
      "        [1.1749]], grad_fn=<AddBackward0>)\n",
      "tensor([[ 0.8819],\n",
      "        [ 0.8684],\n",
      "        [ 0.8917],\n",
      "        ...,\n",
      "        [-0.6474],\n",
      "        [-0.7442],\n",
      "        [-0.7298]], grad_fn=<AddBackward0>)\n",
      "[1 0 0 ... 1 1 1]\n",
      "[1 0 1 ... 1 0 0]\n"
     ]
    },
    {
     "name": "stderr",
     "output_type": "stream",
     "text": [
      "\n",
      "\n",
      "  2%|▏         | 180/10000 [02:00<2:08:56,  1.27it/s]\u001b[A"
     ]
    },
    {
     "name": "stdout",
     "output_type": "stream",
     "text": [
      "[0 0 1 ... 0 0 0]\n",
      "[1 1 1 ... 1 1 0]\n"
     ]
    },
    {
     "name": "stderr",
     "output_type": "stream",
     "text": [
      "\n",
      "\n",
      "  0%|          | 0/4 [00:00<?, ?it/s]\u001b[A\u001b[A"
     ]
    },
    {
     "name": "stdout",
     "output_type": "stream",
     "text": [
      "tensor([[-0.9160],\n",
      "        [-0.9138],\n",
      "        [-0.9430],\n",
      "        ...,\n",
      "        [-1.0735],\n",
      "        [-1.0528],\n",
      "        [-1.0769]], grad_fn=<AddBackward0>)\n"
     ]
    },
    {
     "name": "stderr",
     "output_type": "stream",
     "text": [
      "\n",
      "\n",
      " 50%|█████     | 2/4 [00:00<00:00, 10.38it/s]\u001b[A\u001b[A"
     ]
    },
    {
     "name": "stdout",
     "output_type": "stream",
     "text": [
      "tensor([[-0.0064],\n",
      "        [-0.0737],\n",
      "        [-0.0090],\n",
      "        ...,\n",
      "        [ 0.7652],\n",
      "        [ 0.8070],\n",
      "        [ 0.7772]], grad_fn=<AddBackward0>)\n",
      "tensor([[0.8628],\n",
      "        [1.0211],\n",
      "        [0.8947],\n",
      "        ...,\n",
      "        [1.7655],\n",
      "        [1.7186],\n",
      "        [1.8375]], grad_fn=<AddBackward0>)\n"
     ]
    },
    {
     "name": "stderr",
     "output_type": "stream",
     "text": [
      "\n",
      "\n",
      "100%|██████████| 4/4 [00:00<00:00,  9.61it/s]\u001b[A\u001b[A"
     ]
    },
    {
     "name": "stdout",
     "output_type": "stream",
     "text": [
      "tensor([[1.0860],\n",
      "        [1.0979],\n",
      "        [1.2775],\n",
      "        ...,\n",
      "        [0.4005],\n",
      "        [0.3906],\n",
      "        [0.3804]], grad_fn=<AddBackward0>)\n",
      "[1 0 0 ... 1 1 1]\n",
      "[1 0 1 ... 1 0 0]\n",
      "[0 0 1 ... 0 0 0]\n",
      "[1 1 1 ... 1 1 0]\n",
      "\n",
      "Epoch: 181, Loss: 1424.5125, Val: 0.6761, Test: 0.6762\n",
      "[0 0 1 ... 0 0 0]\n",
      "[1 1 1 ... 1 1 0]\n",
      "[1 0 0 ... 1 1 1]\n",
      "[1 0 1 ... 1 0 0]\n"
     ]
    },
    {
     "name": "stderr",
     "output_type": "stream",
     "text": [
      "\n",
      "\n",
      "  2%|▏         | 181/10000 [02:01<2:08:45,  1.27it/s]\u001b[A\n",
      "\n",
      "  0%|          | 0/4 [00:00<?, ?it/s]\u001b[A\u001b[A\n",
      "\n",
      " 25%|██▌       | 1/4 [00:00<00:00,  8.81it/s]\u001b[A\u001b[A\n",
      "\n",
      " 50%|█████     | 2/4 [00:00<00:00,  8.62it/s]\u001b[A\u001b[A"
     ]
    },
    {
     "name": "stdout",
     "output_type": "stream",
     "text": [
      "tensor([[0.9095],\n",
      "        [0.9137],\n",
      "        [0.8989],\n",
      "        ...,\n",
      "        [0.0083],\n",
      "        [0.0402],\n",
      "        [0.0332]], grad_fn=<AddBackward0>)\n",
      "tensor([[-0.0167],\n",
      "        [-0.0042],\n",
      "        [ 0.0156],\n",
      "        ...,\n",
      "        [ 0.4220],\n",
      "        [ 0.2346],\n",
      "        [ 0.1877]], grad_fn=<AddBackward0>)\n"
     ]
    },
    {
     "name": "stderr",
     "output_type": "stream",
     "text": [
      "\n",
      "\n",
      "100%|██████████| 4/4 [00:00<00:00,  9.32it/s]\u001b[A\u001b[A\n"
     ]
    },
    {
     "name": "stdout",
     "output_type": "stream",
     "text": [
      "tensor([[2.5603],\n",
      "        [2.5868],\n",
      "        [2.6064],\n",
      "        ...,\n",
      "        [0.7049],\n",
      "        [0.7457],\n",
      "        [0.6503]], grad_fn=<AddBackward0>)\n",
      "tensor([[-0.2047],\n",
      "        [-0.1774],\n",
      "        [-0.2189],\n",
      "        ...,\n",
      "        [ 0.0586],\n",
      "        [-0.0171],\n",
      "        [-0.0663]], grad_fn=<AddBackward0>)\n",
      "[1 0 0 ... 1 1 1]\n",
      "[1 0 1 ... 1 0 0]\n",
      "[0 0 1 ... 0 0 0]\n",
      "[1 1 1 ... 1 1 0]\n",
      "\n",
      "Epoch: 182, Loss: 1462.3495, Val: 0.6763, Test: 0.6759\n",
      "[0 0 1 ... 0 0 0]\n",
      "[1 1 1 ... 1 1 0]\n"
     ]
    },
    {
     "name": "stderr",
     "output_type": "stream",
     "text": [
      "\n",
      "  2%|▏         | 182/10000 [02:02<1:59:33,  1.37it/s]\u001b[A"
     ]
    },
    {
     "name": "stdout",
     "output_type": "stream",
     "text": [
      "[1 0 0 ... 1 1 1]\n",
      "[1 0 1 ... 1 0 0]\n"
     ]
    },
    {
     "name": "stderr",
     "output_type": "stream",
     "text": [
      "\n",
      "\n",
      "  0%|          | 0/4 [00:00<?, ?it/s]\u001b[A\u001b[A\n",
      "\n",
      " 25%|██▌       | 1/4 [00:00<00:00,  9.29it/s]\u001b[A\u001b[A"
     ]
    },
    {
     "name": "stdout",
     "output_type": "stream",
     "text": [
      "tensor([[-0.7529],\n",
      "        [-0.7459],\n",
      "        [-0.7554],\n",
      "        ...,\n",
      "        [-1.3513],\n",
      "        [-1.3402],\n",
      "        [-1.3393]], grad_fn=<AddBackward0>)\n"
     ]
    },
    {
     "name": "stderr",
     "output_type": "stream",
     "text": [
      "\n",
      "\n",
      " 50%|█████     | 2/4 [00:00<00:00,  9.20it/s]\u001b[A\u001b[A"
     ]
    },
    {
     "name": "stdout",
     "output_type": "stream",
     "text": [
      "tensor([[-0.6039],\n",
      "        [-0.6183],\n",
      "        [-0.6245],\n",
      "        ...,\n",
      "        [ 1.1358],\n",
      "        [ 1.1050],\n",
      "        [ 1.0855]], grad_fn=<AddBackward0>)\n"
     ]
    },
    {
     "name": "stderr",
     "output_type": "stream",
     "text": [
      "\n",
      "\n",
      "100%|██████████| 4/4 [00:00<00:00,  9.91it/s]\u001b[A\u001b[A"
     ]
    },
    {
     "name": "stdout",
     "output_type": "stream",
     "text": [
      "tensor([[0.9173],\n",
      "        [0.8159],\n",
      "        [0.9008],\n",
      "        ...,\n",
      "        [1.0439],\n",
      "        [1.0394],\n",
      "        [1.0400]], grad_fn=<AddBackward0>)\n",
      "tensor([[-1.8991],\n",
      "        [-1.8253],\n",
      "        [-1.7937],\n",
      "        ...,\n",
      "        [-0.5657],\n",
      "        [-0.5632],\n",
      "        [-0.5435]], grad_fn=<AddBackward0>)\n",
      "[1 0 0 ... 1 1 1]\n",
      "[1 0 1 ... 1 0 0]\n"
     ]
    },
    {
     "name": "stderr",
     "output_type": "stream",
     "text": [
      "\n"
     ]
    },
    {
     "name": "stdout",
     "output_type": "stream",
     "text": [
      "[0 0 1 ... 0 0 0]\n",
      "[1 1 1 ... 1 1 0]\n",
      "\n",
      "Epoch: 183, Loss: 1383.8712, Val: 0.6770, Test: 0.6761\n"
     ]
    },
    {
     "name": "stderr",
     "output_type": "stream",
     "text": [
      "\n",
      "  2%|▏         | 183/10000 [02:03<1:58:21,  1.38it/s]\u001b[A"
     ]
    },
    {
     "name": "stdout",
     "output_type": "stream",
     "text": [
      "[0 0 1 ... 0 0 0]\n",
      "[1 1 1 ... 1 1 0]\n",
      "[1 0 0 ... 1 1 1]\n",
      "[1 0 1 ... 1 0 0]\n"
     ]
    },
    {
     "name": "stderr",
     "output_type": "stream",
     "text": [
      "\n",
      "\n",
      "  0%|          | 0/4 [00:00<?, ?it/s]\u001b[A\u001b[A\n",
      "\n",
      " 25%|██▌       | 1/4 [00:00<00:00,  8.46it/s]\u001b[A\u001b[A"
     ]
    },
    {
     "name": "stdout",
     "output_type": "stream",
     "text": [
      "tensor([[ 0.7027],\n",
      "        [ 0.7021],\n",
      "        [ 0.6759],\n",
      "        ...,\n",
      "        [-1.4353],\n",
      "        [-1.4672],\n",
      "        [-1.3958]], grad_fn=<AddBackward0>)\n"
     ]
    },
    {
     "name": "stderr",
     "output_type": "stream",
     "text": [
      "\n",
      "\n",
      " 50%|█████     | 2/4 [00:00<00:00,  8.90it/s]\u001b[A\u001b[A"
     ]
    },
    {
     "name": "stdout",
     "output_type": "stream",
     "text": [
      "tensor([[ 0.0015],\n",
      "        [-0.0612],\n",
      "        [ 0.0025],\n",
      "        ...,\n",
      "        [-0.3388],\n",
      "        [-0.2127],\n",
      "        [-0.2325]], grad_fn=<AddBackward0>)\n"
     ]
    },
    {
     "name": "stderr",
     "output_type": "stream",
     "text": [
      "\n",
      "\n",
      "100%|██████████| 4/4 [00:00<00:00,  9.59it/s]\u001b[A\u001b[A"
     ]
    },
    {
     "name": "stdout",
     "output_type": "stream",
     "text": [
      "tensor([[-0.6706],\n",
      "        [-0.6707],\n",
      "        [-0.6617],\n",
      "        ...,\n",
      "        [ 0.4702],\n",
      "        [ 0.4784],\n",
      "        [ 0.4925]], grad_fn=<AddBackward0>)\n",
      "tensor([[-1.6147],\n",
      "        [-1.5893],\n",
      "        [-1.5925],\n",
      "        ...,\n",
      "        [ 2.4826],\n",
      "        [ 2.6672],\n",
      "        [ 2.4927]], grad_fn=<AddBackward0>)\n",
      "[1 0 0 ... 1 1 1]\n",
      "[1 0 1 ... 1 0 0]\n"
     ]
    },
    {
     "name": "stderr",
     "output_type": "stream",
     "text": [
      "\n"
     ]
    },
    {
     "name": "stdout",
     "output_type": "stream",
     "text": [
      "[0 0 1 ... 0 0 0]\n",
      "[1 1 1 ... 1 1 0]\n",
      "\n",
      "Epoch: 184, Loss: 1428.8169, Val: 0.6772, Test: 0.6762\n",
      "[0 0 1 ... 0 0 0]\n",
      "[1 1 1 ... 1 1 0]\n",
      "[1 0 0 ... 1 1 1]\n",
      "[1 0 1 ... 1 0 0]\n"
     ]
    },
    {
     "name": "stderr",
     "output_type": "stream",
     "text": [
      "\n",
      "  2%|▏         | 184/10000 [02:03<1:57:23,  1.39it/s]\u001b[A\n",
      "\n",
      "  0%|          | 0/4 [00:00<?, ?it/s]\u001b[A\u001b[A\n",
      "\n",
      " 25%|██▌       | 1/4 [00:00<00:00,  8.82it/s]\u001b[A\u001b[A\n",
      "\n",
      " 50%|█████     | 2/4 [00:00<00:00,  9.05it/s]\u001b[A\u001b[A"
     ]
    },
    {
     "name": "stdout",
     "output_type": "stream",
     "text": [
      "tensor([[-0.0308],\n",
      "        [-0.0388],\n",
      "        [-0.0456],\n",
      "        ...,\n",
      "        [ 0.5826],\n",
      "        [ 0.6140],\n",
      "        [ 0.5730]], grad_fn=<AddBackward0>)\n",
      "tensor([[ 0.9255],\n",
      "        [ 0.9434],\n",
      "        [ 0.9563],\n",
      "        ...,\n",
      "        [-0.7825],\n",
      "        [-0.7791],\n",
      "        [-0.7589]], grad_fn=<AddBackward0>)\n"
     ]
    },
    {
     "name": "stderr",
     "output_type": "stream",
     "text": [
      "\n",
      "\n",
      "100%|██████████| 4/4 [00:00<00:00,  9.79it/s]\u001b[A\u001b[A\n"
     ]
    },
    {
     "name": "stdout",
     "output_type": "stream",
     "text": [
      "tensor([[ 0.8118],\n",
      "        [ 0.9125],\n",
      "        [ 0.8848],\n",
      "        ...,\n",
      "        [-0.6317],\n",
      "        [-0.6316],\n",
      "        [-0.6789]], grad_fn=<AddBackward0>)\n",
      "tensor([[ 0.8850],\n",
      "        [ 0.9112],\n",
      "        [ 0.8885],\n",
      "        ...,\n",
      "        [-0.6798],\n",
      "        [-0.6654],\n",
      "        [-0.6836]], grad_fn=<AddBackward0>)\n",
      "[1 0 0 ... 1 1 1]\n",
      "[1 0 1 ... 1 0 0]\n",
      "[0 0 1 ... 0 0 0]\n",
      "[1 1 1 ... 1 1 0]\n",
      "\n",
      "Epoch: 185, Loss: 1318.3698, Val: 0.6774, Test: 0.6760\n",
      "[0 0 1 ... 0 0 0]\n",
      "[1 1 1 ... 1 1 0]\n",
      "[1 0 0 ... 1 1 1]\n",
      "[1 0 1 ... 1 0 0]\n"
     ]
    },
    {
     "name": "stderr",
     "output_type": "stream",
     "text": [
      "\n",
      "  2%|▏         | 185/10000 [02:04<1:48:44,  1.50it/s]\u001b[A\n",
      "\n",
      "  0%|          | 0/4 [00:00<?, ?it/s]\u001b[A\u001b[A\n",
      "\n",
      " 50%|█████     | 2/4 [00:00<00:00,  9.79it/s]\u001b[A\u001b[A"
     ]
    },
    {
     "name": "stdout",
     "output_type": "stream",
     "text": [
      "tensor([[-0.2004],\n",
      "        [-0.1874],\n",
      "        [-0.3106],\n",
      "        ...,\n",
      "        [-0.3540],\n",
      "        [-0.3686],\n",
      "        [-0.3818]], grad_fn=<AddBackward0>)\n",
      "tensor([[0.0430],\n",
      "        [0.0464],\n",
      "        [0.0542],\n",
      "        ...,\n",
      "        [1.6319],\n",
      "        [1.5297],\n",
      "        [1.6203]], grad_fn=<AddBackward0>)\n"
     ]
    },
    {
     "name": "stderr",
     "output_type": "stream",
     "text": [
      "\n",
      "\n",
      "100%|██████████| 4/4 [00:00<00:00, 10.20it/s]\u001b[A\u001b[A\n"
     ]
    },
    {
     "name": "stdout",
     "output_type": "stream",
     "text": [
      "tensor([[-0.7679],\n",
      "        [-0.7667],\n",
      "        [-0.7286],\n",
      "        ...,\n",
      "        [ 0.4608],\n",
      "        [ 0.4349],\n",
      "        [ 0.4794]], grad_fn=<AddBackward0>)\n",
      "tensor([[-1.6036],\n",
      "        [-1.6028],\n",
      "        [-1.6052],\n",
      "        ...,\n",
      "        [ 1.6770],\n",
      "        [ 1.6213],\n",
      "        [ 1.5835]], grad_fn=<AddBackward0>)\n",
      "[1 0 0 ... 1 1 1]\n",
      "[1 0 1 ... 1 0 0]\n",
      "[0 0 1 ... 0 0 0]\n",
      "[1 1 1 ... 1 1 0]\n"
     ]
    },
    {
     "name": "stderr",
     "output_type": "stream",
     "text": [
      "\n",
      "  2%|▏         | 186/10000 [02:05<1:49:14,  1.50it/s]\u001b[A"
     ]
    },
    {
     "name": "stdout",
     "output_type": "stream",
     "text": [
      "\n",
      "Epoch: 186, Loss: 1337.7601, Val: 0.6775, Test: 0.6758\n",
      "[0 0 1 ... 0 0 0]\n",
      "[1 1 1 ... 1 1 0]\n",
      "[1 0 0 ... 1 1 1]\n",
      "[1 0 1 ... 1 0 0]\n"
     ]
    },
    {
     "name": "stderr",
     "output_type": "stream",
     "text": [
      "\n",
      "\n",
      "  0%|          | 0/4 [00:00<?, ?it/s]\u001b[A\u001b[A"
     ]
    },
    {
     "name": "stdout",
     "output_type": "stream",
     "text": [
      "tensor([[0.2800],\n",
      "        [0.2075],\n",
      "        [0.2468],\n",
      "        ...,\n",
      "        [0.5935],\n",
      "        [0.6744],\n",
      "        [0.6374]], grad_fn=<AddBackward0>)\n"
     ]
    },
    {
     "name": "stderr",
     "output_type": "stream",
     "text": [
      "\n",
      "\n",
      " 50%|█████     | 2/4 [00:00<00:00, 11.33it/s]\u001b[A\u001b[A"
     ]
    },
    {
     "name": "stdout",
     "output_type": "stream",
     "text": [
      "tensor([[-0.6160],\n",
      "        [-0.6315],\n",
      "        [-0.6430],\n",
      "        ...,\n",
      "        [ 0.5014],\n",
      "        [ 0.6035],\n",
      "        [ 0.3956]], grad_fn=<AddBackward0>)\n",
      "tensor([[0.5158],\n",
      "        [0.4082],\n",
      "        [0.4228],\n",
      "        ...,\n",
      "        [0.9182],\n",
      "        [0.8464],\n",
      "        [0.8557]], grad_fn=<AddBackward0>)\n"
     ]
    },
    {
     "name": "stderr",
     "output_type": "stream",
     "text": [
      "\n",
      "\n",
      "100%|██████████| 4/4 [00:00<00:00,  9.46it/s]\u001b[A\u001b[A"
     ]
    },
    {
     "name": "stdout",
     "output_type": "stream",
     "text": [
      "tensor([[-0.3284],\n",
      "        [-0.3258],\n",
      "        [-0.3438],\n",
      "        ...,\n",
      "        [ 0.8462],\n",
      "        [ 0.7456],\n",
      "        [ 1.0016]], grad_fn=<AddBackward0>)\n",
      "[1 0 0 ... 1 1 1]\n",
      "[1 0 1 ... 1 0 0]\n",
      "[0 0 1 ... 0 0 0]\n",
      "[1 1 1 ... 1 1 0]\n",
      "\n",
      "Epoch: 187, Loss: 1350.7920, Val: 0.6779, Test: 0.6757\n",
      "[0 0 1 ... 0 0 0]\n",
      "[1 1 1 ... 1 1 0]\n",
      "[1 0 0 ... 1 1 1]\n",
      "[1 0 1 ... 1 0 0]\n"
     ]
    },
    {
     "name": "stderr",
     "output_type": "stream",
     "text": [
      "\n",
      "\n",
      "  2%|▏         | 187/10000 [02:05<1:51:34,  1.47it/s]\u001b[A\n",
      "\n",
      "  0%|          | 0/4 [00:00<?, ?it/s]\u001b[A\u001b[A\n",
      "\n",
      " 25%|██▌       | 1/4 [00:00<00:00,  6.97it/s]\u001b[A\u001b[A\n",
      "\n",
      " 50%|█████     | 2/4 [00:00<00:00,  6.79it/s]\u001b[A\u001b[A"
     ]
    },
    {
     "name": "stdout",
     "output_type": "stream",
     "text": [
      "tensor([[0.8883],\n",
      "        [0.8954],\n",
      "        [0.8938],\n",
      "        ...,\n",
      "        [0.0437],\n",
      "        [0.0053],\n",
      "        [0.1174]], grad_fn=<AddBackward0>)\n",
      "tensor([[ 0.5023],\n",
      "        [ 0.4458],\n",
      "        [ 0.4293],\n",
      "        ...,\n",
      "        [-1.3558],\n",
      "        [-1.3486],\n",
      "        [-1.3395]], grad_fn=<AddBackward0>)\n"
     ]
    },
    {
     "name": "stderr",
     "output_type": "stream",
     "text": [
      "\n",
      "\n",
      " 75%|███████▌  | 3/4 [00:00<00:00,  6.95it/s]\u001b[A\u001b[A\n",
      "\n",
      "100%|██████████| 4/4 [00:00<00:00,  7.29it/s]\u001b[A\u001b[A"
     ]
    },
    {
     "name": "stdout",
     "output_type": "stream",
     "text": [
      "tensor([[0.4153],\n",
      "        [0.5159],\n",
      "        [0.3858],\n",
      "        ...,\n",
      "        [1.7559],\n",
      "        [1.8801],\n",
      "        [1.8713]], grad_fn=<AddBackward0>)\n",
      "tensor([[-1.0250],\n",
      "        [-0.9895],\n",
      "        [-1.0268],\n",
      "        ...,\n",
      "        [-0.4846],\n",
      "        [-0.5154],\n",
      "        [-0.4763]], grad_fn=<AddBackward0>)\n",
      "[1 0 0 ... 1 1 1]\n",
      "[1 0 1 ... 1 0 0]\n",
      "[0 0 1 ... 0 0 0]\n",
      "[1 1 1 ... 1 1 0]\n"
     ]
    },
    {
     "name": "stderr",
     "output_type": "stream",
     "text": [
      "\n",
      "\n",
      "  2%|▏         | 188/10000 [02:06<1:49:37,  1.49it/s]\u001b[A\n",
      "\n",
      "  0%|          | 0/4 [00:00<?, ?it/s]\u001b[A\u001b[A\n",
      "\n",
      " 25%|██▌       | 1/4 [00:00<00:00,  6.66it/s]\u001b[A\u001b[A\n",
      "\n",
      " 50%|█████     | 2/4 [00:00<00:00,  8.03it/s]\u001b[A\u001b[A"
     ]
    },
    {
     "name": "stdout",
     "output_type": "stream",
     "text": [
      "tensor([[1.3932],\n",
      "        [1.3688],\n",
      "        [1.3691],\n",
      "        ...,\n",
      "        [1.5290],\n",
      "        [1.5337],\n",
      "        [1.5030]], grad_fn=<AddBackward0>)\n",
      "tensor([[0.6117],\n",
      "        [0.6457],\n",
      "        [0.6163],\n",
      "        ...,\n",
      "        [0.8037],\n",
      "        [0.6576],\n",
      "        [0.8487]], grad_fn=<AddBackward0>)\n"
     ]
    },
    {
     "name": "stderr",
     "output_type": "stream",
     "text": [
      "\n",
      "\n",
      "100%|██████████| 4/4 [00:00<00:00,  8.83it/s]\u001b[A\u001b[A\n",
      "\n",
      "  2%|▏         | 189/10000 [02:06<1:44:06,  1.57it/s]\u001b[A"
     ]
    },
    {
     "name": "stdout",
     "output_type": "stream",
     "text": [
      "tensor([[-1.8968],\n",
      "        [-1.8124],\n",
      "        [-1.8278],\n",
      "        ...,\n",
      "        [ 0.7110],\n",
      "        [ 0.8504],\n",
      "        [ 0.5450]], grad_fn=<AddBackward0>)\n",
      "tensor([[-1.5229],\n",
      "        [-1.5316],\n",
      "        [-1.4944],\n",
      "        ...,\n",
      "        [ 2.5819],\n",
      "        [ 2.7049],\n",
      "        [ 2.5381]], grad_fn=<AddBackward0>)\n",
      "[1 0 0 ... 1 1 1]\n",
      "[1 0 1 ... 1 0 0]\n",
      "[0 0 1 ... 0 0 0]\n",
      "[1 1 1 ... 1 1 0]\n"
     ]
    },
    {
     "name": "stderr",
     "output_type": "stream",
     "text": [
      "\n",
      "\n",
      "  0%|          | 0/4 [00:00<?, ?it/s]\u001b[A\u001b[A\n",
      "\n",
      " 50%|█████     | 2/4 [00:00<00:00, 10.10it/s]\u001b[A\u001b[A"
     ]
    },
    {
     "name": "stdout",
     "output_type": "stream",
     "text": [
      "tensor([[-0.4850],\n",
      "        [-0.4848],\n",
      "        [-0.4830],\n",
      "        ...,\n",
      "        [-0.1602],\n",
      "        [-0.1195],\n",
      "        [-0.1641]], grad_fn=<AddBackward0>)\n",
      "tensor([[-0.6320],\n",
      "        [-0.6259],\n",
      "        [-0.6327],\n",
      "        ...,\n",
      "        [ 0.8032],\n",
      "        [ 0.6853],\n",
      "        [ 0.7893]], grad_fn=<AddBackward0>)\n"
     ]
    },
    {
     "name": "stderr",
     "output_type": "stream",
     "text": [
      "\n",
      "\n",
      "100%|██████████| 4/4 [00:00<00:00, 10.36it/s]\u001b[A\u001b[A\n"
     ]
    },
    {
     "name": "stdout",
     "output_type": "stream",
     "text": [
      "tensor([[ 1.9972],\n",
      "        [ 2.0144],\n",
      "        [ 2.0457],\n",
      "        ...,\n",
      "        [-1.8440],\n",
      "        [-1.9564],\n",
      "        [-1.7501]], grad_fn=<AddBackward0>)\n",
      "tensor([[-0.2264],\n",
      "        [-0.2266],\n",
      "        [-0.2739],\n",
      "        ...,\n",
      "        [ 0.0720],\n",
      "        [ 0.0270],\n",
      "        [ 0.1390]], grad_fn=<AddBackward0>)\n",
      "[1 0 0 ... 1 1 1]\n",
      "[1 0 1 ... 1 0 0]\n"
     ]
    },
    {
     "name": "stderr",
     "output_type": "stream",
     "text": [
      "\n",
      "  2%|▏         | 190/10000 [02:07<1:42:27,  1.60it/s]\u001b[A"
     ]
    },
    {
     "name": "stdout",
     "output_type": "stream",
     "text": [
      "[0 0 1 ... 0 0 0]\n",
      "[1 1 1 ... 1 1 0]\n"
     ]
    },
    {
     "name": "stderr",
     "output_type": "stream",
     "text": [
      "\n",
      "\n",
      "  0%|          | 0/4 [00:00<?, ?it/s]\u001b[A\u001b[A\n",
      "\n",
      " 25%|██▌       | 1/4 [00:00<00:00,  7.18it/s]\u001b[A\u001b[A"
     ]
    },
    {
     "name": "stdout",
     "output_type": "stream",
     "text": [
      "tensor([[-0.5199],\n",
      "        [-0.5190],\n",
      "        [-0.5128],\n",
      "        ...,\n",
      "        [ 0.4360],\n",
      "        [ 0.4172],\n",
      "        [ 0.4178]], grad_fn=<AddBackward0>)\n"
     ]
    },
    {
     "name": "stderr",
     "output_type": "stream",
     "text": [
      "\n",
      "\n",
      " 50%|█████     | 2/4 [00:00<00:00,  6.52it/s]\u001b[A\u001b[A"
     ]
    },
    {
     "name": "stdout",
     "output_type": "stream",
     "text": [
      "tensor([[ 0.2144],\n",
      "        [ 0.2409],\n",
      "        [ 0.2333],\n",
      "        ...,\n",
      "        [-0.6344],\n",
      "        [-0.7583],\n",
      "        [-0.6304]], grad_fn=<AddBackward0>)\n"
     ]
    },
    {
     "name": "stderr",
     "output_type": "stream",
     "text": [
      "\n",
      "\n",
      " 75%|███████▌  | 3/4 [00:00<00:00,  6.18it/s]\u001b[A\u001b[A"
     ]
    },
    {
     "name": "stdout",
     "output_type": "stream",
     "text": [
      "tensor([[-0.5068],\n",
      "        [-0.7081],\n",
      "        [-0.4744],\n",
      "        ...,\n",
      "        [-1.3612],\n",
      "        [-1.3566],\n",
      "        [-1.3739]], grad_fn=<AddBackward0>)\n"
     ]
    },
    {
     "name": "stderr",
     "output_type": "stream",
     "text": [
      "\r",
      "100%|██████████| 4/4 [00:00<00:00,  7.32it/s]"
     ]
    },
    {
     "name": "stdout",
     "output_type": "stream",
     "text": [
      "tensor([[ 0.9019],\n",
      "        [ 0.8007],\n",
      "        [ 0.8809],\n",
      "        ...,\n",
      "        [-1.3532],\n",
      "        [-1.3953],\n",
      "        [-1.3662]], grad_fn=<AddBackward0>)\n",
      "[1 0 0 ... 1 1 1]\n",
      "[1 0 1 ... 1 0 0]\n",
      "[0 0 1 ... 0 0 0]\n",
      "[1 1 1 ... 1 1 0]\n",
      "\n",
      "Epoch: 191, Loss: 1294.3086, Val: 0.6779, Test: 0.6762\n",
      "[0 0 1 ... 0 0 0]\n",
      "[1 1 1 ... 1 1 0]\n",
      "[1 0 0 ... 1 1 1]\n",
      "[1 0 1 ... 1 0 0]\n"
     ]
    },
    {
     "name": "stderr",
     "output_type": "stream",
     "text": [
      "\n",
      "\n",
      "  2%|▏         | 191/10000 [02:08<1:46:07,  1.54it/s]\u001b[A\n",
      "\n",
      "  0%|          | 0/4 [00:00<?, ?it/s]\u001b[A\u001b[A\n",
      "\n",
      " 50%|█████     | 2/4 [00:00<00:00, 10.18it/s]\u001b[A\u001b[A"
     ]
    },
    {
     "name": "stdout",
     "output_type": "stream",
     "text": [
      "tensor([[ 0.5760],\n",
      "        [ 0.6262],\n",
      "        [ 0.6043],\n",
      "        ...,\n",
      "        [-0.4206],\n",
      "        [-0.4179],\n",
      "        [-0.4070]], grad_fn=<AddBackward0>)\n",
      "tensor([[-0.0843],\n",
      "        [-0.0055],\n",
      "        [-0.0063],\n",
      "        ...,\n",
      "        [ 0.8836],\n",
      "        [ 0.8827],\n",
      "        [ 0.8615]], grad_fn=<AddBackward0>)\n"
     ]
    },
    {
     "name": "stderr",
     "output_type": "stream",
     "text": [
      "\n",
      "\n",
      "100%|██████████| 4/4 [00:00<00:00, 10.30it/s]\u001b[A\u001b[A\n"
     ]
    },
    {
     "name": "stdout",
     "output_type": "stream",
     "text": [
      "tensor([[ 0.0428],\n",
      "        [-0.0734],\n",
      "        [-0.0308],\n",
      "        ...,\n",
      "        [ 0.9183],\n",
      "        [ 0.7931],\n",
      "        [ 0.7659]], grad_fn=<AddBackward0>)\n",
      "tensor([[-1.6107],\n",
      "        [-1.6631],\n",
      "        [-1.6952],\n",
      "        ...,\n",
      "        [ 2.5573],\n",
      "        [ 2.5293],\n",
      "        [ 2.4635]], grad_fn=<AddBackward0>)\n",
      "[1 0 0 ... 1 1 1]\n",
      "[1 0 1 ... 1 0 0]\n"
     ]
    },
    {
     "name": "stderr",
     "output_type": "stream",
     "text": [
      "\n",
      "  2%|▏         | 192/10000 [02:08<1:47:34,  1.52it/s]\u001b[A"
     ]
    },
    {
     "name": "stdout",
     "output_type": "stream",
     "text": [
      "[0 0 1 ... 0 0 0]\n",
      "[1 1 1 ... 1 1 0]\n"
     ]
    },
    {
     "name": "stderr",
     "output_type": "stream",
     "text": [
      "\n",
      "\n",
      "  0%|          | 0/4 [00:00<?, ?it/s]\u001b[A\u001b[A"
     ]
    },
    {
     "name": "stdout",
     "output_type": "stream",
     "text": [
      "tensor([[-0.7109],\n",
      "        [-0.7487],\n",
      "        [-0.7279],\n",
      "        ...,\n",
      "        [ 0.6249],\n",
      "        [ 0.6324],\n",
      "        [ 0.6240]], grad_fn=<AddBackward0>)\n"
     ]
    },
    {
     "name": "stderr",
     "output_type": "stream",
     "text": [
      "\n",
      "\n",
      " 50%|█████     | 2/4 [00:00<00:00, 11.56it/s]\u001b[A\u001b[A"
     ]
    },
    {
     "name": "stdout",
     "output_type": "stream",
     "text": [
      "tensor([[1.3194],\n",
      "        [1.2801],\n",
      "        [1.2618],\n",
      "        ...,\n",
      "        [1.4366],\n",
      "        [1.5873],\n",
      "        [1.6275]], grad_fn=<AddBackward0>)\n",
      "tensor([[-0.5643],\n",
      "        [-0.7008],\n",
      "        [-0.6825],\n",
      "        ...,\n",
      "        [ 0.9408],\n",
      "        [ 0.9869],\n",
      "        [ 0.8637]], grad_fn=<AddBackward0>)\n"
     ]
    },
    {
     "name": "stderr",
     "output_type": "stream",
     "text": [
      "\n",
      "\n",
      "100%|██████████| 4/4 [00:00<00:00, 11.03it/s]\u001b[A\u001b[A"
     ]
    },
    {
     "name": "stdout",
     "output_type": "stream",
     "text": [
      "tensor([[-0.4928],\n",
      "        [-0.5420],\n",
      "        [-0.5434],\n",
      "        ...,\n",
      "        [ 0.0163],\n",
      "        [-0.0029],\n",
      "        [-0.0459]], grad_fn=<AddBackward0>)\n",
      "[1 0 0 ... 1 1 1]\n",
      "[1 0 1 ... 1 0 0]\n"
     ]
    },
    {
     "name": "stderr",
     "output_type": "stream",
     "text": [
      "\n",
      "\n",
      "  2%|▏         | 193/10000 [02:09<1:41:16,  1.61it/s]\u001b[A"
     ]
    },
    {
     "name": "stdout",
     "output_type": "stream",
     "text": [
      "[0 0 1 ... 0 0 0]\n",
      "[1 1 1 ... 1 1 0]\n",
      "\n",
      "Epoch: 193, Loss: 1266.3091, Val: 0.6780, Test: 0.6768\n",
      "[0 0 1 ... 0 0 0]\n",
      "[1 1 1 ... 1 1 0]\n",
      "[1 0 0 ... 1 1 1]\n",
      "[1 0 1 ... 1 0 0]\n"
     ]
    },
    {
     "name": "stderr",
     "output_type": "stream",
     "text": [
      "\n",
      "\n",
      "  0%|          | 0/4 [00:00<?, ?it/s]\u001b[A\u001b[A"
     ]
    },
    {
     "name": "stdout",
     "output_type": "stream",
     "text": [
      "tensor([[-1.4109],\n",
      "        [-1.3162],\n",
      "        [-1.3644],\n",
      "        ...,\n",
      "        [ 2.7082],\n",
      "        [ 2.6849],\n",
      "        [ 2.7634]], grad_fn=<AddBackward0>)\n"
     ]
    },
    {
     "name": "stderr",
     "output_type": "stream",
     "text": [
      "\n",
      "\n",
      " 50%|█████     | 2/4 [00:00<00:00, 12.11it/s]\u001b[A\u001b[A"
     ]
    },
    {
     "name": "stdout",
     "output_type": "stream",
     "text": [
      "tensor([[-0.4046],\n",
      "        [-0.4455],\n",
      "        [-0.4676],\n",
      "        ...,\n",
      "        [-0.0645],\n",
      "        [ 0.0399],\n",
      "        [ 0.0352]], grad_fn=<AddBackward0>)\n",
      "tensor([[ 0.0577],\n",
      "        [-0.0398],\n",
      "        [-0.0015],\n",
      "        ...,\n",
      "        [-0.1953],\n",
      "        [-0.2040],\n",
      "        [-0.1964]], grad_fn=<AddBackward0>)\n"
     ]
    },
    {
     "name": "stderr",
     "output_type": "stream",
     "text": [
      "\n",
      "\n",
      "100%|██████████| 4/4 [00:00<00:00, 11.61it/s]\u001b[A\u001b[A"
     ]
    },
    {
     "name": "stdout",
     "output_type": "stream",
     "text": [
      "tensor([[-1.1211],\n",
      "        [-1.1726],\n",
      "        [-1.1374],\n",
      "        ...,\n",
      "        [-0.3081],\n",
      "        [-0.2923],\n",
      "        [-0.3537]], grad_fn=<AddBackward0>)\n",
      "[1 0 0 ... 1 1 1]\n",
      "[1 0 1 ... 1 0 0]\n"
     ]
    },
    {
     "name": "stderr",
     "output_type": "stream",
     "text": [
      "\n",
      "\n",
      "  2%|▏         | 194/10000 [02:10<1:40:36,  1.62it/s]\u001b[A"
     ]
    },
    {
     "name": "stdout",
     "output_type": "stream",
     "text": [
      "[0 0 1 ... 0 0 0]\n",
      "[1 1 1 ... 1 1 0]\n"
     ]
    },
    {
     "name": "stderr",
     "output_type": "stream",
     "text": [
      "\n",
      "\n",
      "  0%|          | 0/4 [00:00<?, ?it/s]\u001b[A\u001b[A\n",
      "\n",
      " 25%|██▌       | 1/4 [00:00<00:00,  6.99it/s]\u001b[A\u001b[A"
     ]
    },
    {
     "name": "stdout",
     "output_type": "stream",
     "text": [
      "tensor([[-0.5362],\n",
      "        [-0.5381],\n",
      "        [-0.6079],\n",
      "        ...,\n",
      "        [-1.0847],\n",
      "        [-1.0918],\n",
      "        [-1.0844]], grad_fn=<AddBackward0>)\n"
     ]
    },
    {
     "name": "stderr",
     "output_type": "stream",
     "text": [
      "\n",
      "\n",
      " 50%|█████     | 2/4 [00:00<00:00,  6.84it/s]\u001b[A\u001b[A"
     ]
    },
    {
     "name": "stdout",
     "output_type": "stream",
     "text": [
      "tensor([[0.0024],\n",
      "        [0.0355],\n",
      "        [0.0039],\n",
      "        ...,\n",
      "        [0.2601],\n",
      "        [0.2143],\n",
      "        [0.1227]], grad_fn=<AddBackward0>)\n"
     ]
    },
    {
     "name": "stderr",
     "output_type": "stream",
     "text": [
      "\n",
      "\n",
      " 75%|███████▌  | 3/4 [00:00<00:00,  6.11it/s]\u001b[A\u001b[A"
     ]
    },
    {
     "name": "stdout",
     "output_type": "stream",
     "text": [
      "tensor([[-0.4715],\n",
      "        [-0.4425],\n",
      "        [-0.5142],\n",
      "        ...,\n",
      "        [ 1.0542],\n",
      "        [ 1.0362],\n",
      "        [ 1.0642]], grad_fn=<AddBackward0>)\n"
     ]
    },
    {
     "name": "stderr",
     "output_type": "stream",
     "text": [
      "\n",
      "\n",
      "100%|██████████| 4/4 [00:00<00:00,  6.38it/s]\u001b[A\u001b[A"
     ]
    },
    {
     "name": "stdout",
     "output_type": "stream",
     "text": [
      "tensor([[0.7498],\n",
      "        [0.5627],\n",
      "        [0.6544],\n",
      "        ...,\n",
      "        [1.1088],\n",
      "        [1.0385],\n",
      "        [1.0961]], grad_fn=<AddBackward0>)\n",
      "[1 0 0 ... 1 1 1]\n",
      "[1 0 1 ... 1 0 0]\n"
     ]
    },
    {
     "name": "stderr",
     "output_type": "stream",
     "text": [
      "\n",
      "\n",
      "  2%|▏         | 195/10000 [02:10<1:46:01,  1.54it/s]\u001b[A"
     ]
    },
    {
     "name": "stdout",
     "output_type": "stream",
     "text": [
      "[0 0 1 ... 0 0 0]\n",
      "[1 1 1 ... 1 1 0]\n"
     ]
    },
    {
     "name": "stderr",
     "output_type": "stream",
     "text": [
      "\n",
      "\n",
      "  0%|          | 0/4 [00:00<?, ?it/s]\u001b[A\u001b[A\n",
      "\n",
      " 25%|██▌       | 1/4 [00:00<00:00,  6.89it/s]\u001b[A\u001b[A"
     ]
    },
    {
     "name": "stdout",
     "output_type": "stream",
     "text": [
      "tensor([[ 0.1975],\n",
      "        [ 0.1788],\n",
      "        [ 0.1836],\n",
      "        ...,\n",
      "        [-0.8352],\n",
      "        [-0.8448],\n",
      "        [-0.8047]], grad_fn=<AddBackward0>)\n"
     ]
    },
    {
     "name": "stderr",
     "output_type": "stream",
     "text": [
      "\n",
      "\n",
      " 50%|█████     | 2/4 [00:00<00:00,  6.81it/s]\u001b[A\u001b[A"
     ]
    },
    {
     "name": "stdout",
     "output_type": "stream",
     "text": [
      "tensor([[ 0.3339],\n",
      "        [ 0.5554],\n",
      "        [ 0.5012],\n",
      "        ...,\n",
      "        [-0.9710],\n",
      "        [-0.9123],\n",
      "        [-0.9235]], grad_fn=<AddBackward0>)\n"
     ]
    },
    {
     "name": "stderr",
     "output_type": "stream",
     "text": [
      "\n",
      "\n",
      " 75%|███████▌  | 3/4 [00:00<00:00,  5.99it/s]\u001b[A\u001b[A"
     ]
    },
    {
     "name": "stdout",
     "output_type": "stream",
     "text": [
      "tensor([[0.0225],\n",
      "        [0.0233],\n",
      "        [0.0110],\n",
      "        ...,\n",
      "        [1.1578],\n",
      "        [1.2708],\n",
      "        [1.1839]], grad_fn=<AddBackward0>)\n"
     ]
    },
    {
     "name": "stderr",
     "output_type": "stream",
     "text": [
      "\n",
      "\n",
      "100%|██████████| 4/4 [00:00<00:00,  6.50it/s]\u001b[A\u001b[A"
     ]
    },
    {
     "name": "stdout",
     "output_type": "stream",
     "text": [
      "tensor([[-0.1920],\n",
      "        [-0.1779],\n",
      "        [-0.1622],\n",
      "        ...,\n",
      "        [-0.3028],\n",
      "        [-0.2412],\n",
      "        [-0.2972]], grad_fn=<AddBackward0>)\n",
      "[1 0 0 ... 1 1 1]\n",
      "[1 0 1 ... 1 0 0]\n",
      "[0 0 1 ... 0 0 0]\n",
      "[1 1 1 ... 1 1 0]\n"
     ]
    },
    {
     "name": "stderr",
     "output_type": "stream",
     "text": [
      "\n"
     ]
    },
    {
     "name": "stdout",
     "output_type": "stream",
     "text": [
      "\n",
      "Epoch: 196, Loss: 1248.2902, Val: 0.6785, Test: 0.6771\n",
      "[0 0 1 ... 0 0 0]\n",
      "[1 1 1 ... 1 1 0]\n"
     ]
    },
    {
     "name": "stderr",
     "output_type": "stream",
     "text": [
      "\n",
      "  2%|▏         | 196/10000 [02:11<2:08:06,  1.28it/s]\u001b[A"
     ]
    },
    {
     "name": "stdout",
     "output_type": "stream",
     "text": [
      "[1 0 0 ... 1 1 1]\n",
      "[1 0 1 ... 1 0 0]\n"
     ]
    },
    {
     "name": "stderr",
     "output_type": "stream",
     "text": [
      "\n",
      "\n",
      "  0%|          | 0/4 [00:00<?, ?it/s]\u001b[A\u001b[A\n",
      "\n",
      " 25%|██▌       | 1/4 [00:00<00:00,  5.38it/s]\u001b[A\u001b[A"
     ]
    },
    {
     "name": "stdout",
     "output_type": "stream",
     "text": [
      "tensor([[-0.3449],\n",
      "        [-0.2601],\n",
      "        [-0.2649],\n",
      "        ...,\n",
      "        [-0.0879],\n",
      "        [-0.0651],\n",
      "        [-0.0576]], grad_fn=<AddBackward0>)\n",
      "tensor([[ 0.1567],\n",
      "        [ 0.0793],\n",
      "        [ 0.1056],\n",
      "        ...,\n",
      "        [-0.2549],\n",
      "        [-0.2633],\n",
      "        [-0.2592]], grad_fn=<AddBackward0>)\n"
     ]
    },
    {
     "name": "stderr",
     "output_type": "stream",
     "text": [
      "\n",
      "\n",
      " 75%|███████▌  | 3/4 [00:00<00:00,  7.86it/s]\u001b[A\u001b[A\n",
      "\n",
      "100%|██████████| 4/4 [00:00<00:00,  7.75it/s]\u001b[A\u001b[A"
     ]
    },
    {
     "name": "stdout",
     "output_type": "stream",
     "text": [
      "tensor([[-0.2703],\n",
      "        [-0.2659],\n",
      "        [-0.2939],\n",
      "        ...,\n",
      "        [ 1.0628],\n",
      "        [ 1.0624],\n",
      "        [ 1.0736]], grad_fn=<AddBackward0>)\n",
      "tensor([[ 0.1252],\n",
      "        [-0.0185],\n",
      "        [ 0.0951],\n",
      "        ...,\n",
      "        [ 1.8307],\n",
      "        [ 1.7533],\n",
      "        [ 1.5780]], grad_fn=<AddBackward0>)\n",
      "[1 0 0 ... 1 1 1]\n",
      "[1 0 1 ... 1 0 0]\n",
      "[0 0 1 ... 0 0 0]\n",
      "[1 1 1 ... 1 1 0]\n"
     ]
    },
    {
     "name": "stderr",
     "output_type": "stream",
     "text": [
      "\n"
     ]
    },
    {
     "name": "stdout",
     "output_type": "stream",
     "text": [
      "\n",
      "Epoch: 197, Loss: 1215.1951, Val: 0.6785, Test: 0.6770\n",
      "[0 0 1 ... 0 0 0]\n",
      "[1 1 1 ... 1 1 0]\n",
      "[1 0 0 ... 1 1 1]\n",
      "[1 0 1 ... 1 0 0]\n"
     ]
    },
    {
     "name": "stderr",
     "output_type": "stream",
     "text": [
      "\n",
      "  2%|▏         | 197/10000 [02:12<2:11:13,  1.25it/s]\u001b[A\n",
      "\n",
      "  0%|          | 0/4 [00:00<?, ?it/s]\u001b[A\u001b[A\n",
      "\n",
      " 25%|██▌       | 1/4 [00:00<00:00,  7.19it/s]\u001b[A\u001b[A\n",
      "\n",
      " 50%|█████     | 2/4 [00:00<00:00,  6.38it/s]\u001b[A\u001b[A"
     ]
    },
    {
     "name": "stdout",
     "output_type": "stream",
     "text": [
      "tensor([[-0.5369],\n",
      "        [-0.5369],\n",
      "        [-0.5373],\n",
      "        ...,\n",
      "        [-1.3744],\n",
      "        [-1.3860],\n",
      "        [-1.3880]], grad_fn=<AddBackward0>)\n",
      "tensor([[0.6373],\n",
      "        [0.6110],\n",
      "        [0.5819],\n",
      "        ...,\n",
      "        [1.7650],\n",
      "        [1.6233],\n",
      "        [2.2185]], grad_fn=<AddBackward0>)\n"
     ]
    },
    {
     "name": "stderr",
     "output_type": "stream",
     "text": [
      "\n",
      "\n",
      "100%|██████████| 4/4 [00:00<00:00,  7.60it/s]\u001b[A\u001b[A"
     ]
    },
    {
     "name": "stdout",
     "output_type": "stream",
     "text": [
      "tensor([[0.0180],\n",
      "        [0.0359],\n",
      "        [0.0353],\n",
      "        ...,\n",
      "        [0.8116],\n",
      "        [0.7558],\n",
      "        [0.9211]], grad_fn=<AddBackward0>)\n",
      "tensor([[-1.6327],\n",
      "        [-1.6333],\n",
      "        [-1.6291],\n",
      "        ...,\n",
      "        [-0.5184],\n",
      "        [-0.5072],\n",
      "        [-0.4567]], grad_fn=<AddBackward0>)\n",
      "[1 0 0 ... 1 1 1]\n",
      "[1 0 1 ... 1 0 0]\n",
      "[0 0 1 ... 0 0 0]\n",
      "[1 1 1 ... 1 1 0]\n",
      "\n",
      "Epoch: 198, Loss: 1194.8810, Val: 0.6787, Test: 0.6772\n",
      "[0 0 1 ... 0 0 0]\n",
      "[1 1 1 ... 1 1 0]\n",
      "[1 0 0 ... 1 1 1]\n",
      "[1 0 1 ... 1 0 0]\n"
     ]
    },
    {
     "name": "stderr",
     "output_type": "stream",
     "text": [
      "\n",
      "\n",
      "  2%|▏         | 198/10000 [02:13<2:05:09,  1.31it/s]\u001b[A\n",
      "\n",
      "  0%|          | 0/4 [00:00<?, ?it/s]\u001b[A\u001b[A\n",
      "\n",
      " 50%|█████     | 2/4 [00:00<00:00, 10.17it/s]\u001b[A\u001b[A"
     ]
    },
    {
     "name": "stdout",
     "output_type": "stream",
     "text": [
      "tensor([[-1.2879],\n",
      "        [-1.3208],\n",
      "        [-1.3012],\n",
      "        ...,\n",
      "        [-0.3997],\n",
      "        [-0.4057],\n",
      "        [-0.4412]], grad_fn=<AddBackward0>)\n",
      "tensor([[ 0.0348],\n",
      "        [-0.0308],\n",
      "        [-0.0348],\n",
      "        ...,\n",
      "        [ 1.7742],\n",
      "        [ 1.5863],\n",
      "        [ 1.7452]], grad_fn=<AddBackward0>)\n"
     ]
    },
    {
     "name": "stderr",
     "output_type": "stream",
     "text": [
      "\n",
      "\n",
      "100%|██████████| 4/4 [00:00<00:00,  9.63it/s]\u001b[A\u001b[A"
     ]
    },
    {
     "name": "stdout",
     "output_type": "stream",
     "text": [
      "tensor([[-0.0893],\n",
      "        [-0.0931],\n",
      "        [-0.0730],\n",
      "        ...,\n",
      "        [-0.1711],\n",
      "        [-0.1301],\n",
      "        [-0.1581]], grad_fn=<AddBackward0>)\n",
      "tensor([[ 0.3719],\n",
      "        [ 0.3350],\n",
      "        [ 0.3066],\n",
      "        ...,\n",
      "        [-1.3565],\n",
      "        [-1.3357],\n",
      "        [-1.3731]], grad_fn=<AddBackward0>)\n",
      "[1 0 0 ... 1 1 1]\n",
      "[1 0 1 ... 1 0 0]\n",
      "[0 0 1 ... 0 0 0]\n",
      "[1 1 1 ... 1 1 0]\n"
     ]
    },
    {
     "name": "stderr",
     "output_type": "stream",
     "text": [
      "\n",
      "\n",
      "  2%|▏         | 199/10000 [02:14<1:59:12,  1.37it/s]\u001b[A\n",
      "\n",
      "  0%|          | 0/4 [00:00<?, ?it/s]\u001b[A\u001b[A\n",
      "\n",
      " 50%|█████     | 2/4 [00:00<00:00, 12.81it/s]\u001b[A\u001b[A"
     ]
    },
    {
     "name": "stdout",
     "output_type": "stream",
     "text": [
      "tensor([[0.1991],\n",
      "        [0.1837],\n",
      "        [0.1961],\n",
      "        ...,\n",
      "        [1.6657],\n",
      "        [1.6673],\n",
      "        [1.6675]], grad_fn=<AddBackward0>)\n",
      "tensor([[ 0.2253],\n",
      "        [ 0.2256],\n",
      "        [ 0.2918],\n",
      "        ...,\n",
      "        [-1.4961],\n",
      "        [-1.4823],\n",
      "        [-1.5709]], grad_fn=<AddBackward0>)\n"
     ]
    },
    {
     "name": "stderr",
     "output_type": "stream",
     "text": [
      "\n",
      "\n",
      "100%|██████████| 4/4 [00:00<00:00, 10.18it/s]\u001b[A\u001b[A\n",
      "\n",
      "  2%|▏         | 200/10000 [02:14<1:46:25,  1.53it/s]\u001b[A"
     ]
    },
    {
     "name": "stdout",
     "output_type": "stream",
     "text": [
      "tensor([[1.6585],\n",
      "        [1.8431],\n",
      "        [1.8091],\n",
      "        ...,\n",
      "        [2.3072],\n",
      "        [2.2308],\n",
      "        [2.3431]], grad_fn=<AddBackward0>)\n",
      "tensor([[0.5476],\n",
      "        [0.7544],\n",
      "        [0.6584],\n",
      "        ...,\n",
      "        [0.4491],\n",
      "        [0.4534],\n",
      "        [0.4379]], grad_fn=<AddBackward0>)\n",
      "[1 0 0 ... 1 1 1]\n",
      "[1 0 1 ... 1 0 0]\n",
      "[0 0 1 ... 0 0 0]\n",
      "[1 1 1 ... 1 1 0]\n"
     ]
    },
    {
     "name": "stderr",
     "output_type": "stream",
     "text": [
      "\n",
      "\n",
      "  0%|          | 0/4 [00:00<?, ?it/s]\u001b[A\u001b[A\n",
      "\n",
      " 25%|██▌       | 1/4 [00:00<00:00,  8.39it/s]\u001b[A\u001b[A\n",
      "\n",
      " 50%|█████     | 2/4 [00:00<00:00,  7.15it/s]\u001b[A\u001b[A"
     ]
    },
    {
     "name": "stdout",
     "output_type": "stream",
     "text": [
      "tensor([[ 0.7899],\n",
      "        [ 0.7268],\n",
      "        [ 0.7748],\n",
      "        ...,\n",
      "        [-0.1498],\n",
      "        [-0.1183],\n",
      "        [-0.1312]], grad_fn=<AddBackward0>)\n",
      "tensor([[ 0.9442],\n",
      "        [ 0.9143],\n",
      "        [ 0.9646],\n",
      "        ...,\n",
      "        [ 0.1025],\n",
      "        [-0.1685],\n",
      "        [ 0.1422]], grad_fn=<AddBackward0>)\n"
     ]
    },
    {
     "name": "stderr",
     "output_type": "stream",
     "text": [
      "\n",
      "\n",
      "100%|██████████| 4/4 [00:00<00:00,  8.91it/s]\u001b[A\u001b[A\n"
     ]
    },
    {
     "name": "stdout",
     "output_type": "stream",
     "text": [
      "tensor([[-0.7227],\n",
      "        [-0.7272],\n",
      "        [-0.6989],\n",
      "        ...,\n",
      "        [ 1.4051],\n",
      "        [ 1.3462],\n",
      "        [ 1.4471]], grad_fn=<AddBackward0>)\n",
      "tensor([[-1.1108],\n",
      "        [-1.1107],\n",
      "        [-1.1233],\n",
      "        ...,\n",
      "        [-0.4731],\n",
      "        [-0.5348],\n",
      "        [-0.4635]], grad_fn=<AddBackward0>)\n",
      "[1 0 0 ... 1 1 1]\n",
      "[1 0 1 ... 1 0 0]\n",
      "[0 0 1 ... 0 0 0]\n",
      "[1 1 1 ... 1 1 0]\n",
      "\n",
      "Epoch: 201, Loss: 1197.7054, Val: 0.6788, Test: 0.6775\n",
      "[0 0 1 ... 0 0 0]\n",
      "[1 1 1 ... 1 1 0]\n",
      "[1 0 0 ... 1 1 1]\n",
      "[1 0 1 ... 1 0 0]\n"
     ]
    },
    {
     "name": "stderr",
     "output_type": "stream",
     "text": [
      "\n",
      "  2%|▏         | 201/10000 [02:15<1:51:35,  1.46it/s]\u001b[A\n",
      "\n",
      "  0%|          | 0/4 [00:00<?, ?it/s]\u001b[A\u001b[A\n",
      "\n",
      " 50%|█████     | 2/4 [00:00<00:00, 11.91it/s]\u001b[A\u001b[A"
     ]
    },
    {
     "name": "stdout",
     "output_type": "stream",
     "text": [
      "tensor([[0.2073],\n",
      "        [0.2278],\n",
      "        [0.2308],\n",
      "        ...,\n",
      "        [0.7299],\n",
      "        [0.7571],\n",
      "        [0.7414]], grad_fn=<AddBackward0>)\n",
      "tensor([[ 0.0261],\n",
      "        [ 0.0157],\n",
      "        [ 0.0057],\n",
      "        ...,\n",
      "        [-1.6035],\n",
      "        [-1.6021],\n",
      "        [-1.5962]], grad_fn=<AddBackward0>)\n",
      "tensor([[1.6296],\n",
      "        [1.5950],\n",
      "        [1.6577],\n",
      "        ...,\n",
      "        [0.5846],\n",
      "        [0.8209],\n",
      "        [0.7989]], grad_fn=<AddBackward0>)\n"
     ]
    },
    {
     "name": "stderr",
     "output_type": "stream",
     "text": [
      "\n",
      "\n",
      "100%|██████████| 4/4 [00:00<00:00, 10.73it/s]\u001b[A\u001b[A\n",
      "\n",
      "  2%|▏         | 202/10000 [02:15<1:43:11,  1.58it/s]\u001b[A"
     ]
    },
    {
     "name": "stdout",
     "output_type": "stream",
     "text": [
      "tensor([[-1.5037],\n",
      "        [-1.5009],\n",
      "        [-1.5878],\n",
      "        ...,\n",
      "        [ 0.8285],\n",
      "        [ 1.2106],\n",
      "        [ 0.7021]], grad_fn=<AddBackward0>)\n",
      "[1 0 0 ... 1 1 1]\n",
      "[1 0 1 ... 1 0 0]\n",
      "[0 0 1 ... 0 0 0]\n",
      "[1 1 1 ... 1 1 0]\n",
      "\n",
      "Epoch: 202, Loss: 1160.2117, Val: 0.6790, Test: 0.6778\n",
      "[0 0 1 ... 0 0 0]\n",
      "[1 1 1 ... 1 1 0]\n",
      "[1 0 0 ... 1 1 1]\n",
      "[1 0 1 ... 1 0 0]\n"
     ]
    },
    {
     "name": "stderr",
     "output_type": "stream",
     "text": [
      "\n",
      "\n",
      "  0%|          | 0/4 [00:00<?, ?it/s]\u001b[A\u001b[A\n",
      "\n",
      " 50%|█████     | 2/4 [00:00<00:00,  8.29it/s]\u001b[A\u001b[A"
     ]
    },
    {
     "name": "stdout",
     "output_type": "stream",
     "text": [
      "tensor([[-0.8009],\n",
      "        [-0.7727],\n",
      "        [-0.7839],\n",
      "        ...,\n",
      "        [-0.1005],\n",
      "        [-0.2935],\n",
      "        [-0.0350]], grad_fn=<AddBackward0>)\n",
      "tensor([[-1.0953],\n",
      "        [-1.2331],\n",
      "        [-1.0321],\n",
      "        ...,\n",
      "        [ 0.0172],\n",
      "        [ 0.0201],\n",
      "        [-0.0300]], grad_fn=<AddBackward0>)\n"
     ]
    },
    {
     "name": "stderr",
     "output_type": "stream",
     "text": [
      "\n",
      "\n",
      "100%|██████████| 4/4 [00:00<00:00,  8.46it/s]\u001b[A\u001b[A"
     ]
    },
    {
     "name": "stdout",
     "output_type": "stream",
     "text": [
      "tensor([[-0.0672],\n",
      "        [-0.0685],\n",
      "        [-0.1215],\n",
      "        ...,\n",
      "        [ 0.8833],\n",
      "        [ 0.9665],\n",
      "        [ 0.7928]], grad_fn=<AddBackward0>)\n",
      "tensor([[-0.2748],\n",
      "        [-0.3029],\n",
      "        [-0.2535],\n",
      "        ...,\n",
      "        [-0.4227],\n",
      "        [-0.5382],\n",
      "        [-0.3701]], grad_fn=<AddBackward0>)\n",
      "[1 0 0 ... 1 1 1]\n",
      "[1 0 1 ... 1 0 0]\n",
      "[0 0 1 ... 0 0 0]\n",
      "[1 1 1 ... 1 1 0]\n"
     ]
    },
    {
     "name": "stderr",
     "output_type": "stream",
     "text": [
      "\n",
      "\n",
      "  2%|▏         | 203/10000 [02:16<1:50:54,  1.47it/s]\u001b[A"
     ]
    },
    {
     "name": "stdout",
     "output_type": "stream",
     "text": [
      "\n",
      "Epoch: 203, Loss: 1112.7904, Val: 0.6793, Test: 0.6781\n",
      "[0 0 1 ... 0 0 0]\n",
      "[1 1 1 ... 1 1 0]\n",
      "[1 0 0 ... 1 1 1]\n",
      "[1 0 1 ... 1 0 0]\n"
     ]
    },
    {
     "name": "stderr",
     "output_type": "stream",
     "text": [
      "\n",
      "\n",
      "  0%|          | 0/4 [00:00<?, ?it/s]\u001b[A\u001b[A"
     ]
    },
    {
     "name": "stdout",
     "output_type": "stream",
     "text": [
      "tensor([[ 0.2205],\n",
      "        [ 0.2325],\n",
      "        [ 0.2375],\n",
      "        ...,\n",
      "        [-0.0244],\n",
      "        [ 0.2180],\n",
      "        [ 0.1808]], grad_fn=<AddBackward0>)\n"
     ]
    },
    {
     "name": "stderr",
     "output_type": "stream",
     "text": [
      "\n",
      "\n",
      " 50%|█████     | 2/4 [00:00<00:00, 12.34it/s]\u001b[A\u001b[A"
     ]
    },
    {
     "name": "stdout",
     "output_type": "stream",
     "text": [
      "tensor([[ 0.4247],\n",
      "        [ 0.5768],\n",
      "        [ 0.4805],\n",
      "        ...,\n",
      "        [-0.0233],\n",
      "        [-0.0182],\n",
      "        [-0.0635]], grad_fn=<AddBackward0>)\n",
      "tensor([[-0.5383],\n",
      "        [-0.5323],\n",
      "        [-0.5635],\n",
      "        ...,\n",
      "        [ 1.2482],\n",
      "        [ 1.2472],\n",
      "        [ 1.2475]], grad_fn=<AddBackward0>)\n"
     ]
    },
    {
     "name": "stderr",
     "output_type": "stream",
     "text": [
      "\n",
      "\n",
      "100%|██████████| 4/4 [00:00<00:00, 11.90it/s]\u001b[A\u001b[A"
     ]
    },
    {
     "name": "stdout",
     "output_type": "stream",
     "text": [
      "tensor([[ 0.1534],\n",
      "        [ 0.1613],\n",
      "        [ 0.1724],\n",
      "        ...,\n",
      "        [-0.4800],\n",
      "        [-0.4787],\n",
      "        [-0.4386]], grad_fn=<AddBackward0>)\n",
      "[1 0 0 ... 1 1 1]\n",
      "[1 0 1 ... 1 0 0]\n"
     ]
    },
    {
     "name": "stderr",
     "output_type": "stream",
     "text": [
      "\n",
      "\n",
      "  2%|▏         | 204/10000 [02:16<1:37:41,  1.67it/s]\u001b[A"
     ]
    },
    {
     "name": "stdout",
     "output_type": "stream",
     "text": [
      "[0 0 1 ... 0 0 0]\n",
      "[1 1 1 ... 1 1 0]\n"
     ]
    },
    {
     "name": "stderr",
     "output_type": "stream",
     "text": [
      "\n",
      "\n",
      "  0%|          | 0/4 [00:00<?, ?it/s]\u001b[A\u001b[A"
     ]
    },
    {
     "name": "stdout",
     "output_type": "stream",
     "text": [
      "tensor([[-0.7602],\n",
      "        [-0.7966],\n",
      "        [-0.7609],\n",
      "        ...,\n",
      "        [-0.6487],\n",
      "        [-0.6580],\n",
      "        [-0.6536]], grad_fn=<AddBackward0>)\n"
     ]
    },
    {
     "name": "stderr",
     "output_type": "stream",
     "text": [
      "\n",
      "\n",
      " 50%|█████     | 2/4 [00:00<00:00, 12.02it/s]\u001b[A\u001b[A"
     ]
    },
    {
     "name": "stdout",
     "output_type": "stream",
     "text": [
      "tensor([[ 2.8077],\n",
      "        [ 2.8722],\n",
      "        [ 2.7496],\n",
      "        ...,\n",
      "        [-1.3286],\n",
      "        [-1.3128],\n",
      "        [-1.3315]], grad_fn=<AddBackward0>)\n",
      "tensor([[ 1.3767],\n",
      "        [ 1.4243],\n",
      "        [ 1.4344],\n",
      "        ...,\n",
      "        [-0.9507],\n",
      "        [-0.9830],\n",
      "        [-0.8562]], grad_fn=<AddBackward0>)\n"
     ]
    },
    {
     "name": "stderr",
     "output_type": "stream",
     "text": [
      "\n",
      "\n",
      "100%|██████████| 4/4 [00:00<00:00, 12.67it/s]\u001b[A\u001b[A"
     ]
    },
    {
     "name": "stdout",
     "output_type": "stream",
     "text": [
      "tensor([[-1.6569],\n",
      "        [-1.6664],\n",
      "        [-1.6736],\n",
      "        ...,\n",
      "        [-0.6181],\n",
      "        [-0.7295],\n",
      "        [-0.5942]], grad_fn=<AddBackward0>)\n",
      "[1 0 0 ... 1 1 1]\n",
      "[1 0 1 ... 1 0 0]\n",
      "[0 0 1 ... 0 0 0]\n",
      "[1 1 1 ... 1 1 0]\n"
     ]
    },
    {
     "name": "stderr",
     "output_type": "stream",
     "text": [
      "\n",
      "\n",
      "  2%|▏         | 205/10000 [02:17<1:38:22,  1.66it/s]\u001b[A"
     ]
    },
    {
     "name": "stdout",
     "output_type": "stream",
     "text": [
      "\n",
      "Epoch: 205, Loss: 1121.7822, Val: 0.6796, Test: 0.6778\n",
      "[0 0 1 ... 0 0 0]\n",
      "[1 1 1 ... 1 1 0]\n",
      "[1 0 0 ... 1 1 1]\n",
      "[1 0 1 ... 1 0 0]\n"
     ]
    },
    {
     "name": "stderr",
     "output_type": "stream",
     "text": [
      "\n",
      "\n",
      "  0%|          | 0/4 [00:00<?, ?it/s]\u001b[A\u001b[A\n",
      "\n",
      " 25%|██▌       | 1/4 [00:00<00:00,  9.05it/s]\u001b[A\u001b[A"
     ]
    },
    {
     "name": "stdout",
     "output_type": "stream",
     "text": [
      "tensor([[-0.6561],\n",
      "        [-0.6558],\n",
      "        [-0.6610],\n",
      "        ...,\n",
      "        [-0.5275],\n",
      "        [-0.3397],\n",
      "        [-0.3251]], grad_fn=<AddBackward0>)\n"
     ]
    },
    {
     "name": "stderr",
     "output_type": "stream",
     "text": [
      "\n",
      "\n",
      " 75%|███████▌  | 3/4 [00:00<00:00, 11.17it/s]\u001b[A\u001b[A"
     ]
    },
    {
     "name": "stdout",
     "output_type": "stream",
     "text": [
      "tensor([[-0.3320],\n",
      "        [-0.3321],\n",
      "        [-0.4006],\n",
      "        ...,\n",
      "        [-0.2901],\n",
      "        [-0.2983],\n",
      "        [-0.3038]], grad_fn=<AddBackward0>)\n",
      "tensor([[2.8309],\n",
      "        [3.0391],\n",
      "        [3.0500],\n",
      "        ...,\n",
      "        [1.1629],\n",
      "        [1.0456],\n",
      "        [1.2022]], grad_fn=<AddBackward0>)\n"
     ]
    },
    {
     "name": "stderr",
     "output_type": "stream",
     "text": [
      "\r",
      "100%|██████████| 4/4 [00:00<00:00, 11.39it/s]"
     ]
    },
    {
     "name": "stdout",
     "output_type": "stream",
     "text": [
      "tensor([[-0.2755],\n",
      "        [-0.2602],\n",
      "        [-0.2636],\n",
      "        ...,\n",
      "        [-0.1020],\n",
      "        [-0.0793],\n",
      "        [-0.0865]], grad_fn=<AddBackward0>)\n",
      "[1 0 0 ... 1 1 1]\n",
      "[1 0 1 ... 1 0 0]\n",
      "[0 0 1 ... 0 0 0]\n",
      "[1 1 1 ... 1 1 0]\n"
     ]
    },
    {
     "name": "stderr",
     "output_type": "stream",
     "text": [
      "\n"
     ]
    },
    {
     "name": "stdout",
     "output_type": "stream",
     "text": [
      "\n",
      "Epoch: 206, Loss: 1095.7583, Val: 0.6799, Test: 0.6778\n",
      "[0 0 1 ... 0 0 0]\n",
      "[1 1 1 ... 1 1 0]\n"
     ]
    },
    {
     "name": "stderr",
     "output_type": "stream",
     "text": [
      "\n",
      "  2%|▏         | 206/10000 [02:18<1:41:35,  1.61it/s]\u001b[A"
     ]
    },
    {
     "name": "stdout",
     "output_type": "stream",
     "text": [
      "[1 0 0 ... 1 1 1]\n",
      "[1 0 1 ... 1 0 0]\n"
     ]
    },
    {
     "name": "stderr",
     "output_type": "stream",
     "text": [
      "\n",
      "\n",
      "  0%|          | 0/4 [00:00<?, ?it/s]\u001b[A\u001b[A"
     ]
    },
    {
     "name": "stdout",
     "output_type": "stream",
     "text": [
      "tensor([[-0.5207],\n",
      "        [-0.5326],\n",
      "        [-0.5669],\n",
      "        ...,\n",
      "        [ 0.6687],\n",
      "        [ 0.6627],\n",
      "        [ 0.6217]], grad_fn=<AddBackward0>)\n"
     ]
    },
    {
     "name": "stderr",
     "output_type": "stream",
     "text": [
      "\n",
      "\n",
      " 25%|██▌       | 1/4 [00:00<00:00,  6.56it/s]\u001b[A\u001b[A\n",
      "\n",
      " 75%|███████▌  | 3/4 [00:00<00:00,  9.81it/s]\u001b[A\u001b[A"
     ]
    },
    {
     "name": "stdout",
     "output_type": "stream",
     "text": [
      "tensor([[-1.1309],\n",
      "        [-1.1437],\n",
      "        [-1.1439],\n",
      "        ...,\n",
      "        [ 1.9438],\n",
      "        [ 1.6183],\n",
      "        [ 1.6323]], grad_fn=<AddBackward0>)\n",
      "tensor([[ 0.1586],\n",
      "        [ 0.1857],\n",
      "        [ 0.1637],\n",
      "        ...,\n",
      "        [-1.4078],\n",
      "        [-1.3370],\n",
      "        [-1.4900]], grad_fn=<AddBackward0>)\n"
     ]
    },
    {
     "name": "stderr",
     "output_type": "stream",
     "text": [
      "\r",
      "100%|██████████| 4/4 [00:00<00:00, 10.44it/s]"
     ]
    },
    {
     "name": "stdout",
     "output_type": "stream",
     "text": [
      "tensor([[2.5530],\n",
      "        [2.5302],\n",
      "        [2.5811],\n",
      "        ...,\n",
      "        [2.8040],\n",
      "        [2.6221],\n",
      "        [2.6434]], grad_fn=<AddBackward0>)\n",
      "[1 0 0 ... 1 1 1]\n",
      "[1 0 1 ... 1 0 0]\n",
      "[0 0 1 ... 0 0 0]\n",
      "[1 1 1 ... 1 1 0]\n"
     ]
    },
    {
     "name": "stderr",
     "output_type": "stream",
     "text": [
      "\n",
      "\n",
      "  2%|▏         | 207/10000 [02:18<1:36:10,  1.70it/s]\u001b[A"
     ]
    },
    {
     "name": "stdout",
     "output_type": "stream",
     "text": [
      "\n",
      "Epoch: 207, Loss: 1118.8821, Val: 0.6801, Test: 0.6780\n",
      "[0 0 1 ... 0 0 0]\n",
      "[1 1 1 ... 1 1 0]\n",
      "[1 0 0 ... 1 1 1]\n",
      "[1 0 1 ... 1 0 0]\n"
     ]
    },
    {
     "name": "stderr",
     "output_type": "stream",
     "text": [
      "\n",
      "\n",
      "  0%|          | 0/4 [00:00<?, ?it/s]\u001b[A\u001b[A"
     ]
    },
    {
     "name": "stdout",
     "output_type": "stream",
     "text": [
      "tensor([[-0.9496],\n",
      "        [-0.9312],\n",
      "        [-0.9308],\n",
      "        ...,\n",
      "        [-0.3240],\n",
      "        [-0.4306],\n",
      "        [-0.3286]], grad_fn=<AddBackward0>)\n"
     ]
    },
    {
     "name": "stderr",
     "output_type": "stream",
     "text": [
      "\n",
      "\n",
      " 50%|█████     | 2/4 [00:00<00:00, 10.04it/s]\u001b[A\u001b[A"
     ]
    },
    {
     "name": "stdout",
     "output_type": "stream",
     "text": [
      "tensor([[ 1.2516],\n",
      "        [ 1.2031],\n",
      "        [ 1.2171],\n",
      "        ...,\n",
      "        [-0.0293],\n",
      "        [-0.0881],\n",
      "        [-0.0721]], grad_fn=<AddBackward0>)\n",
      "tensor([[-0.6481],\n",
      "        [-0.7424],\n",
      "        [-0.6984],\n",
      "        ...,\n",
      "        [ 1.8059],\n",
      "        [ 1.8630],\n",
      "        [ 1.8638]], grad_fn=<AddBackward0>)\n"
     ]
    },
    {
     "name": "stderr",
     "output_type": "stream",
     "text": [
      "\n",
      "\n",
      "100%|██████████| 4/4 [00:00<00:00, 10.85it/s]\u001b[A\u001b[A"
     ]
    },
    {
     "name": "stdout",
     "output_type": "stream",
     "text": [
      "tensor([[ 0.4590],\n",
      "        [ 0.5139],\n",
      "        [ 0.5109],\n",
      "        ...,\n",
      "        [-1.4083],\n",
      "        [-1.3885],\n",
      "        [-1.4067]], grad_fn=<AddBackward0>)\n",
      "[1 0 0 ... 1 1 1]\n",
      "[1 0 1 ... 1 0 0]\n"
     ]
    },
    {
     "name": "stderr",
     "output_type": "stream",
     "text": [
      "\n",
      "\n",
      "  2%|▏         | 208/10000 [02:19<1:40:11,  1.63it/s]\u001b[A"
     ]
    },
    {
     "name": "stdout",
     "output_type": "stream",
     "text": [
      "[0 0 1 ... 0 0 0]\n",
      "[1 1 1 ... 1 1 0]\n",
      "\n",
      "Epoch: 208, Loss: 1122.6676, Val: 0.6805, Test: 0.6781\n",
      "[0 0 1 ... 0 0 0]\n",
      "[1 1 1 ... 1 1 0]\n",
      "[1 0 0 ... 1 1 1]\n",
      "[1 0 1 ... 1 0 0]\n"
     ]
    },
    {
     "name": "stderr",
     "output_type": "stream",
     "text": [
      "\n",
      "\n",
      "  0%|          | 0/4 [00:00<?, ?it/s]\u001b[A\u001b[A"
     ]
    },
    {
     "name": "stdout",
     "output_type": "stream",
     "text": [
      "tensor([[-1.3955],\n",
      "        [-1.3017],\n",
      "        [-1.5172],\n",
      "        ...,\n",
      "        [ 0.5341],\n",
      "        [ 0.5436],\n",
      "        [ 0.5330]], grad_fn=<AddBackward0>)\n"
     ]
    },
    {
     "name": "stderr",
     "output_type": "stream",
     "text": [
      "\n",
      "\n",
      " 50%|█████     | 2/4 [00:00<00:00, 10.65it/s]\u001b[A\u001b[A"
     ]
    },
    {
     "name": "stdout",
     "output_type": "stream",
     "text": [
      "tensor([[-0.3630],\n",
      "        [-0.4185],\n",
      "        [-0.4443],\n",
      "        ...,\n",
      "        [ 0.5655],\n",
      "        [ 0.5455],\n",
      "        [ 0.5034]], grad_fn=<AddBackward0>)\n",
      "tensor([[0.4622],\n",
      "        [0.5259],\n",
      "        [0.5784],\n",
      "        ...,\n",
      "        [0.9884],\n",
      "        [0.9015],\n",
      "        [0.8241]], grad_fn=<AddBackward0>)\n"
     ]
    },
    {
     "name": "stderr",
     "output_type": "stream",
     "text": [
      "\n",
      "\n",
      "100%|██████████| 4/4 [00:00<00:00, 11.65it/s]\u001b[A\u001b[A"
     ]
    },
    {
     "name": "stdout",
     "output_type": "stream",
     "text": [
      "tensor([[-1.5279],\n",
      "        [-1.5224],\n",
      "        [-1.5211],\n",
      "        ...,\n",
      "        [ 0.4597],\n",
      "        [ 0.6459],\n",
      "        [ 0.5338]], grad_fn=<AddBackward0>)\n",
      "[1 0 0 ... 1 1 1]\n",
      "[1 0 1 ... 1 0 0]\n",
      "[0 0 1 ... 0 0 0]\n",
      "[1 1 1 ... 1 1 0]\n"
     ]
    },
    {
     "name": "stderr",
     "output_type": "stream",
     "text": [
      "\n"
     ]
    },
    {
     "name": "stdout",
     "output_type": "stream",
     "text": [
      "\n",
      "Epoch: 209, Loss: 1083.8507, Val: 0.6809, Test: 0.6781\n",
      "[0 0 1 ... 0 0 0]\n",
      "[1 1 1 ... 1 1 0]\n"
     ]
    },
    {
     "name": "stderr",
     "output_type": "stream",
     "text": [
      "\n",
      "  2%|▏         | 209/10000 [02:20<1:42:18,  1.60it/s]\u001b[A"
     ]
    },
    {
     "name": "stdout",
     "output_type": "stream",
     "text": [
      "[1 0 0 ... 1 1 1]\n",
      "[1 0 1 ... 1 0 0]\n"
     ]
    },
    {
     "name": "stderr",
     "output_type": "stream",
     "text": [
      "\n",
      "\n",
      "  0%|          | 0/4 [00:00<?, ?it/s]\u001b[A\u001b[A\n",
      "\n",
      " 25%|██▌       | 1/4 [00:00<00:00,  8.00it/s]\u001b[A\u001b[A"
     ]
    },
    {
     "name": "stdout",
     "output_type": "stream",
     "text": [
      "tensor([[-0.6710],\n",
      "        [-0.6664],\n",
      "        [-0.6815],\n",
      "        ...,\n",
      "        [ 0.4068],\n",
      "        [ 0.4070],\n",
      "        [ 0.4065]], grad_fn=<AddBackward0>)\n"
     ]
    },
    {
     "name": "stderr",
     "output_type": "stream",
     "text": [
      "\n",
      "\n",
      " 50%|█████     | 2/4 [00:00<00:00,  7.65it/s]\u001b[A\u001b[A"
     ]
    },
    {
     "name": "stdout",
     "output_type": "stream",
     "text": [
      "tensor([[-0.0158],\n",
      "        [-0.0720],\n",
      "        [-0.0380],\n",
      "        ...,\n",
      "        [ 0.5839],\n",
      "        [ 0.6680],\n",
      "        [ 0.5633]], grad_fn=<AddBackward0>)\n"
     ]
    },
    {
     "name": "stderr",
     "output_type": "stream",
     "text": [
      "\n",
      "\n",
      " 75%|███████▌  | 3/4 [00:00<00:00,  6.94it/s]\u001b[A\u001b[A"
     ]
    },
    {
     "name": "stdout",
     "output_type": "stream",
     "text": [
      "tensor([[0.8955],\n",
      "        [0.8920],\n",
      "        [0.7694],\n",
      "        ...,\n",
      "        [0.6802],\n",
      "        [0.7842],\n",
      "        [0.6844]], grad_fn=<AddBackward0>)\n"
     ]
    },
    {
     "name": "stderr",
     "output_type": "stream",
     "text": [
      "\n",
      "\n",
      "100%|██████████| 4/4 [00:00<00:00,  7.45it/s]\u001b[A\u001b[A"
     ]
    },
    {
     "name": "stdout",
     "output_type": "stream",
     "text": [
      "tensor([[ 0.1190],\n",
      "        [ 0.2321],\n",
      "        [ 0.2108],\n",
      "        ...,\n",
      "        [-0.6029],\n",
      "        [-0.7118],\n",
      "        [-0.5809]], grad_fn=<AddBackward0>)\n",
      "[1 0 0 ... 1 1 1]\n",
      "[1 0 1 ... 1 0 0]\n",
      "[0 0 1 ... 0 0 0]\n",
      "[1 1 1 ... 1 1 0]\n"
     ]
    },
    {
     "name": "stderr",
     "output_type": "stream",
     "text": [
      "\n",
      "\n",
      "  2%|▏         | 210/10000 [02:20<1:42:29,  1.59it/s]\u001b[A\n",
      "\n",
      "  0%|          | 0/4 [00:00<?, ?it/s]\u001b[A\u001b[A\n",
      "\n",
      " 25%|██▌       | 1/4 [00:00<00:00,  7.10it/s]\u001b[A\u001b[A\n",
      "\n",
      " 50%|█████     | 2/4 [00:00<00:00,  6.82it/s]\u001b[A\u001b[A"
     ]
    },
    {
     "name": "stdout",
     "output_type": "stream",
     "text": [
      "tensor([[-1.8244],\n",
      "        [-1.7748],\n",
      "        [-1.7654],\n",
      "        ...,\n",
      "        [ 0.0207],\n",
      "        [ 0.0674],\n",
      "        [ 0.0219]], grad_fn=<AddBackward0>)\n",
      "tensor([[2.9142],\n",
      "        [2.8329],\n",
      "        [2.9144],\n",
      "        ...,\n",
      "        [0.3851],\n",
      "        [0.3212],\n",
      "        [0.3552]], grad_fn=<AddBackward0>)\n"
     ]
    },
    {
     "name": "stderr",
     "output_type": "stream",
     "text": [
      "\n",
      "\n",
      "100%|██████████| 4/4 [00:00<00:00,  8.09it/s]\u001b[A\u001b[A\n",
      "\n",
      "  2%|▏         | 211/10000 [02:21<1:39:40,  1.64it/s]\u001b[A"
     ]
    },
    {
     "name": "stdout",
     "output_type": "stream",
     "text": [
      "tensor([[0.1654],\n",
      "        [0.1410],\n",
      "        [0.1577],\n",
      "        ...,\n",
      "        [1.0632],\n",
      "        [1.0686],\n",
      "        [1.0739]], grad_fn=<AddBackward0>)\n",
      "tensor([[-1.0849],\n",
      "        [-0.9934],\n",
      "        [-1.0833],\n",
      "        ...,\n",
      "        [-0.2942],\n",
      "        [-0.3622],\n",
      "        [-0.3374]], grad_fn=<AddBackward0>)\n",
      "[1 0 0 ... 1 1 1]\n",
      "[1 0 1 ... 1 0 0]\n",
      "[0 0 1 ... 0 0 0]\n",
      "[1 1 1 ... 1 1 0]\n"
     ]
    },
    {
     "name": "stderr",
     "output_type": "stream",
     "text": [
      "\n",
      "\n",
      "  0%|          | 0/4 [00:00<?, ?it/s]\u001b[A\u001b[A\n",
      "\n",
      " 50%|█████     | 2/4 [00:00<00:00, 10.78it/s]\u001b[A\u001b[A"
     ]
    },
    {
     "name": "stdout",
     "output_type": "stream",
     "text": [
      "tensor([[-2.0814],\n",
      "        [-2.0889],\n",
      "        [-1.8322],\n",
      "        ...,\n",
      "        [-0.0106],\n",
      "        [-0.0527],\n",
      "        [-0.0606]], grad_fn=<AddBackward0>)\n",
      "tensor([[0.8689],\n",
      "        [0.8404],\n",
      "        [0.8358],\n",
      "        ...,\n",
      "        [1.1828],\n",
      "        [1.2861],\n",
      "        [1.2740]], grad_fn=<AddBackward0>)\n",
      "tensor([[1.0226],\n",
      "        [1.0217],\n",
      "        [1.0532],\n",
      "        ...,\n",
      "        [0.8792],\n",
      "        [0.7298],\n",
      "        [0.9711]], grad_fn=<AddBackward0>)\n"
     ]
    },
    {
     "name": "stderr",
     "output_type": "stream",
     "text": [
      "\n",
      "\n",
      "100%|██████████| 4/4 [00:00<00:00, 10.88it/s]\u001b[A\u001b[A\n"
     ]
    },
    {
     "name": "stdout",
     "output_type": "stream",
     "text": [
      "tensor([[-1.1601],\n",
      "        [-1.1788],\n",
      "        [-1.1169],\n",
      "        ...,\n",
      "        [-0.7286],\n",
      "        [-0.6403],\n",
      "        [-0.6927]], grad_fn=<AddBackward0>)\n",
      "[1 0 0 ... 1 1 1]\n",
      "[1 0 1 ... 1 0 0]\n",
      "[0 0 1 ... 0 0 0]\n",
      "[1 1 1 ... 1 1 0]\n"
     ]
    },
    {
     "name": "stderr",
     "output_type": "stream",
     "text": [
      "\n",
      "  2%|▏         | 212/10000 [02:21<1:38:50,  1.65it/s]\u001b[A\n",
      "\n",
      "  0%|          | 0/4 [00:00<?, ?it/s]\u001b[A\u001b[A\n",
      "\n",
      " 25%|██▌       | 1/4 [00:00<00:00,  9.06it/s]\u001b[A\u001b[A\n",
      "\n",
      " 50%|█████     | 2/4 [00:00<00:00,  9.11it/s]\u001b[A\u001b[A"
     ]
    },
    {
     "name": "stdout",
     "output_type": "stream",
     "text": [
      "tensor([[0.9479],\n",
      "        [0.9811],\n",
      "        [0.9671],\n",
      "        ...,\n",
      "        [0.3887],\n",
      "        [0.3745],\n",
      "        [0.3273]], grad_fn=<AddBackward0>)\n",
      "tensor([[-0.7250],\n",
      "        [-0.6606],\n",
      "        [-0.6140],\n",
      "        ...,\n",
      "        [ 0.3418],\n",
      "        [ 0.3582],\n",
      "        [ 0.3633]], grad_fn=<AddBackward0>)\n",
      "tensor([[-0.3126],\n",
      "        [-0.3346],\n",
      "        [-0.2892],\n",
      "        ...,\n",
      "        [ 1.7156],\n",
      "        [ 1.7187],\n",
      "        [ 1.7041]], grad_fn=<AddBackward0>)\n"
     ]
    },
    {
     "name": "stderr",
     "output_type": "stream",
     "text": [
      "\n",
      "\n",
      "100%|██████████| 4/4 [00:00<00:00,  9.51it/s]\u001b[A\u001b[A\n",
      "\n",
      "  2%|▏         | 213/10000 [02:22<1:33:24,  1.75it/s]\u001b[A"
     ]
    },
    {
     "name": "stdout",
     "output_type": "stream",
     "text": [
      "tensor([[0.2981],\n",
      "        [0.2646],\n",
      "        [0.3068],\n",
      "        ...,\n",
      "        [0.4625],\n",
      "        [0.4583],\n",
      "        [0.4504]], grad_fn=<AddBackward0>)\n",
      "[1 0 0 ... 1 1 1]\n",
      "[1 0 1 ... 1 0 0]\n",
      "[0 0 1 ... 0 0 0]\n",
      "[1 1 1 ... 1 1 0]\n"
     ]
    },
    {
     "name": "stderr",
     "output_type": "stream",
     "text": [
      "\n",
      "\n",
      "  0%|          | 0/4 [00:00<?, ?it/s]\u001b[A\u001b[A"
     ]
    },
    {
     "name": "stdout",
     "output_type": "stream",
     "text": [
      "tensor([[-0.9278],\n",
      "        [-0.9269],\n",
      "        [-0.9285],\n",
      "        ...,\n",
      "        [ 0.9428],\n",
      "        [ 0.8852],\n",
      "        [ 0.9206]], grad_fn=<AddBackward0>)\n"
     ]
    },
    {
     "name": "stderr",
     "output_type": "stream",
     "text": [
      "\n",
      "\n",
      " 50%|█████     | 2/4 [00:00<00:00,  9.95it/s]\u001b[A\u001b[A"
     ]
    },
    {
     "name": "stdout",
     "output_type": "stream",
     "text": [
      "tensor([[0.9837],\n",
      "        [0.9650],\n",
      "        [0.9882],\n",
      "        ...,\n",
      "        [1.5256],\n",
      "        [1.5843],\n",
      "        [1.5359]], grad_fn=<AddBackward0>)\n"
     ]
    },
    {
     "name": "stderr",
     "output_type": "stream",
     "text": [
      "\n",
      "\n",
      " 75%|███████▌  | 3/4 [00:00<00:00,  9.53it/s]\u001b[A\u001b[A"
     ]
    },
    {
     "name": "stdout",
     "output_type": "stream",
     "text": [
      "tensor([[ 1.4246],\n",
      "        [ 1.4234],\n",
      "        [ 1.2895],\n",
      "        ...,\n",
      "        [-0.8428],\n",
      "        [-1.0185],\n",
      "        [-1.2537]], grad_fn=<AddBackward0>)\n"
     ]
    },
    {
     "name": "stderr",
     "output_type": "stream",
     "text": [
      "\n",
      "\n",
      "100%|██████████| 4/4 [00:00<00:00,  9.30it/s]\u001b[A\u001b[A"
     ]
    },
    {
     "name": "stdout",
     "output_type": "stream",
     "text": [
      "tensor([[-0.2483],\n",
      "        [-0.1742],\n",
      "        [-0.1900],\n",
      "        ...,\n",
      "        [ 2.3948],\n",
      "        [ 2.6442],\n",
      "        [ 2.2449]], grad_fn=<AddBackward0>)\n",
      "[1 0 0 ... 1 1 1]\n",
      "[1 0 1 ... 1 0 0]\n",
      "[0 0 1 ... 0 0 0]\n",
      "[1 1 1 ... 1 1 0]\n"
     ]
    },
    {
     "name": "stderr",
     "output_type": "stream",
     "text": [
      "\n",
      "\n",
      "  2%|▏         | 214/10000 [02:23<1:38:11,  1.66it/s]\u001b[A\n",
      "\n",
      "  0%|          | 0/4 [00:00<?, ?it/s]\u001b[A\u001b[A\n",
      "\n",
      " 50%|█████     | 2/4 [00:00<00:00,  8.74it/s]\u001b[A\u001b[A"
     ]
    },
    {
     "name": "stdout",
     "output_type": "stream",
     "text": [
      "tensor([[ 1.2054],\n",
      "        [ 1.2169],\n",
      "        [ 1.2008],\n",
      "        ...,\n",
      "        [-1.4349],\n",
      "        [-1.4400],\n",
      "        [-1.4251]], grad_fn=<AddBackward0>)\n",
      "tensor([[-0.1014],\n",
      "        [-0.0053],\n",
      "        [-0.0169],\n",
      "        ...,\n",
      "        [ 0.3493],\n",
      "        [ 0.3354],\n",
      "        [ 0.3515]], grad_fn=<AddBackward0>)\n"
     ]
    },
    {
     "name": "stderr",
     "output_type": "stream",
     "text": [
      "\n",
      "\n",
      " 75%|███████▌  | 3/4 [00:00<00:00,  8.36it/s]\u001b[A\u001b[A\n",
      "\n",
      "100%|██████████| 4/4 [00:00<00:00,  8.50it/s]\u001b[A\u001b[A\n",
      "\n",
      "  2%|▏         | 215/10000 [02:23<1:35:05,  1.72it/s]\u001b[A"
     ]
    },
    {
     "name": "stdout",
     "output_type": "stream",
     "text": [
      "tensor([[0.7046],\n",
      "        [0.7581],\n",
      "        [0.6974],\n",
      "        ...,\n",
      "        [0.5440],\n",
      "        [0.8908],\n",
      "        [0.7894]], grad_fn=<AddBackward0>)\n",
      "tensor([[0.9000],\n",
      "        [0.9004],\n",
      "        [0.8249],\n",
      "        ...,\n",
      "        [0.2388],\n",
      "        [0.2189],\n",
      "        [0.2060]], grad_fn=<AddBackward0>)\n",
      "[1 0 0 ... 1 1 1]\n",
      "[1 0 1 ... 1 0 0]\n",
      "[0 0 1 ... 0 0 0]\n",
      "[1 1 1 ... 1 1 0]\n"
     ]
    },
    {
     "name": "stderr",
     "output_type": "stream",
     "text": [
      "\n",
      "\n",
      "  0%|          | 0/4 [00:00<?, ?it/s]\u001b[A\u001b[A\n",
      "\n",
      " 50%|█████     | 2/4 [00:00<00:00,  8.79it/s]\u001b[A\u001b[A"
     ]
    },
    {
     "name": "stdout",
     "output_type": "stream",
     "text": [
      "tensor([[ 0.2188],\n",
      "        [ 0.1213],\n",
      "        [ 0.1273],\n",
      "        ...,\n",
      "        [-0.5513],\n",
      "        [-0.5314],\n",
      "        [-0.5947]], grad_fn=<AddBackward0>)\n",
      "tensor([[ 0.2509],\n",
      "        [ 0.1994],\n",
      "        [ 0.2076],\n",
      "        ...,\n",
      "        [-0.0393],\n",
      "        [ 0.0569],\n",
      "        [ 0.0311]], grad_fn=<AddBackward0>)\n"
     ]
    },
    {
     "name": "stderr",
     "output_type": "stream",
     "text": [
      "\n",
      "\n",
      "100%|██████████| 4/4 [00:00<00:00,  9.97it/s]\u001b[A\u001b[A\n",
      "\n",
      "  2%|▏         | 216/10000 [02:24<1:30:22,  1.80it/s]\u001b[A"
     ]
    },
    {
     "name": "stdout",
     "output_type": "stream",
     "text": [
      "tensor([[ 1.5380],\n",
      "        [ 1.5604],\n",
      "        [ 1.5375],\n",
      "        ...,\n",
      "        [-0.3267],\n",
      "        [-0.3154],\n",
      "        [-0.3314]], grad_fn=<AddBackward0>)\n",
      "tensor([[-1.7267],\n",
      "        [-1.6864],\n",
      "        [-1.6575],\n",
      "        ...,\n",
      "        [-0.4849],\n",
      "        [-0.4911],\n",
      "        [-0.4578]], grad_fn=<AddBackward0>)\n",
      "[1 0 0 ... 1 1 1]\n",
      "[1 0 1 ... 1 0 0]\n",
      "[0 0 1 ... 0 0 0]\n",
      "[1 1 1 ... 1 1 0]\n"
     ]
    },
    {
     "name": "stderr",
     "output_type": "stream",
     "text": [
      "\n",
      "\n",
      "  0%|          | 0/4 [00:00<?, ?it/s]\u001b[A\u001b[A\n",
      "\n",
      " 25%|██▌       | 1/4 [00:00<00:00,  8.82it/s]\u001b[A\u001b[A\n",
      "\n",
      " 50%|█████     | 2/4 [00:00<00:00,  8.89it/s]\u001b[A\u001b[A"
     ]
    },
    {
     "name": "stdout",
     "output_type": "stream",
     "text": [
      "tensor([[1.3262],\n",
      "        [1.3239],\n",
      "        [1.3262],\n",
      "        ...,\n",
      "        [0.4581],\n",
      "        [0.4555],\n",
      "        [0.4171]], grad_fn=<AddBackward0>)\n",
      "tensor([[1.2100],\n",
      "        [1.2975],\n",
      "        [1.3254],\n",
      "        ...,\n",
      "        [0.5842],\n",
      "        [0.4438],\n",
      "        [0.4389]], grad_fn=<AddBackward0>)\n"
     ]
    },
    {
     "name": "stderr",
     "output_type": "stream",
     "text": [
      "\n",
      "\n",
      "100%|██████████| 4/4 [00:00<00:00,  9.70it/s]\u001b[A\u001b[A\n"
     ]
    },
    {
     "name": "stdout",
     "output_type": "stream",
     "text": [
      "tensor([[0.2052],\n",
      "        [0.2943],\n",
      "        [0.2938],\n",
      "        ...,\n",
      "        [1.2056],\n",
      "        [1.0288],\n",
      "        [1.3355]], grad_fn=<AddBackward0>)\n",
      "tensor([[0.3142],\n",
      "        [0.2856],\n",
      "        [0.3151],\n",
      "        ...,\n",
      "        [2.5876],\n",
      "        [2.8318],\n",
      "        [2.8669]], grad_fn=<AddBackward0>)\n",
      "[1 0 0 ... 1 1 1]\n",
      "[1 0 1 ... 1 0 0]\n",
      "[0 0 1 ... 0 0 0]\n",
      "[1 1 1 ... 1 1 0]\n"
     ]
    },
    {
     "name": "stderr",
     "output_type": "stream",
     "text": [
      "\n",
      "  2%|▏         | 217/10000 [02:24<1:38:15,  1.66it/s]\u001b[A"
     ]
    },
    {
     "name": "stdout",
     "output_type": "stream",
     "text": [
      "\n",
      "Epoch: 217, Loss: 1017.3058, Val: 0.6810, Test: 0.6792\n",
      "[0 0 1 ... 0 0 0]\n",
      "[1 1 1 ... 1 1 0]\n",
      "[1 0 0 ... 1 1 1]\n",
      "[1 0 1 ... 1 0 0]\n"
     ]
    },
    {
     "name": "stderr",
     "output_type": "stream",
     "text": [
      "\n",
      "\n",
      "  0%|          | 0/4 [00:00<?, ?it/s]\u001b[A\u001b[A\n",
      "\n",
      " 25%|██▌       | 1/4 [00:00<00:00,  6.17it/s]\u001b[A\u001b[A\n",
      "\n",
      " 50%|█████     | 2/4 [00:00<00:00,  6.09it/s]\u001b[A\u001b[A"
     ]
    },
    {
     "name": "stdout",
     "output_type": "stream",
     "text": [
      "tensor([[1.2688],\n",
      "        [1.1926],\n",
      "        [1.2023],\n",
      "        ...,\n",
      "        [0.2480],\n",
      "        [0.1850],\n",
      "        [0.2866]], grad_fn=<AddBackward0>)\n",
      "tensor([[ 1.1944],\n",
      "        [ 1.1730],\n",
      "        [ 1.2956],\n",
      "        ...,\n",
      "        [-0.0469],\n",
      "        [-0.0589],\n",
      "        [-0.0739]], grad_fn=<AddBackward0>)\n"
     ]
    },
    {
     "name": "stderr",
     "output_type": "stream",
     "text": [
      "\n",
      "\n",
      " 75%|███████▌  | 3/4 [00:00<00:00,  6.09it/s]\u001b[A\u001b[A\n",
      "\n",
      "100%|██████████| 4/4 [00:00<00:00,  6.38it/s]\u001b[A\u001b[A"
     ]
    },
    {
     "name": "stdout",
     "output_type": "stream",
     "text": [
      "tensor([[0.8697],\n",
      "        [0.8297],\n",
      "        [0.7798],\n",
      "        ...,\n",
      "        [2.0661],\n",
      "        [2.0833],\n",
      "        [2.2510]], grad_fn=<AddBackward0>)\n",
      "tensor([[-0.9939],\n",
      "        [-1.0868],\n",
      "        [-1.0188],\n",
      "        ...,\n",
      "        [ 0.5192],\n",
      "        [ 0.5009],\n",
      "        [ 0.5284]], grad_fn=<AddBackward0>)\n",
      "[1 0 0 ... 1 1 1]\n",
      "[1 0 1 ... 1 0 0]\n",
      "[0 0 1 ... 0 0 0]\n",
      "[1 1 1 ... 1 1 0]\n"
     ]
    },
    {
     "name": "stderr",
     "output_type": "stream",
     "text": [
      "\n",
      "\n",
      "  2%|▏         | 218/10000 [02:25<1:44:13,  1.56it/s]\u001b[A\n",
      "\n",
      "  0%|          | 0/4 [00:00<?, ?it/s]\u001b[A\u001b[A\n",
      "\n",
      " 25%|██▌       | 1/4 [00:00<00:00,  6.18it/s]\u001b[A\u001b[A\n",
      "\n",
      " 50%|█████     | 2/4 [00:00<00:00,  6.08it/s]\u001b[A\u001b[A"
     ]
    },
    {
     "name": "stdout",
     "output_type": "stream",
     "text": [
      "tensor([[ 0.9321],\n",
      "        [ 0.9358],\n",
      "        [ 0.9374],\n",
      "        ...,\n",
      "        [-1.1125],\n",
      "        [-1.0974],\n",
      "        [-1.1127]], grad_fn=<AddBackward0>)\n",
      "tensor([[-1.5701],\n",
      "        [-1.6599],\n",
      "        [-1.6909],\n",
      "        ...,\n",
      "        [ 1.5479],\n",
      "        [ 1.5861],\n",
      "        [ 1.6068]], grad_fn=<AddBackward0>)\n"
     ]
    },
    {
     "name": "stderr",
     "output_type": "stream",
     "text": [
      "\n",
      "\n",
      " 75%|███████▌  | 3/4 [00:00<00:00,  6.18it/s]\u001b[A\u001b[A\n",
      "\n",
      "100%|██████████| 4/4 [00:00<00:00,  6.66it/s]\u001b[A\u001b[A"
     ]
    },
    {
     "name": "stdout",
     "output_type": "stream",
     "text": [
      "tensor([[-0.6295],\n",
      "        [-0.6156],\n",
      "        [-0.6370],\n",
      "        ...,\n",
      "        [ 1.2664],\n",
      "        [ 1.2449],\n",
      "        [ 1.3145]], grad_fn=<AddBackward0>)\n",
      "tensor([[-1.6055],\n",
      "        [-1.5577],\n",
      "        [-1.5962],\n",
      "        ...,\n",
      "        [ 0.4541],\n",
      "        [ 0.4661],\n",
      "        [ 0.4668]], grad_fn=<AddBackward0>)\n",
      "[1 0 0 ... 1 1 1]\n",
      "[1 0 1 ... 1 0 0]\n",
      "[0 0 1 ... 0 0 0]\n",
      "[1 1 1 ... 1 1 0]\n"
     ]
    },
    {
     "name": "stderr",
     "output_type": "stream",
     "text": [
      "\n",
      "\n",
      "  2%|▏         | 219/10000 [02:26<1:54:57,  1.42it/s]\u001b[A\n",
      "\n",
      "  0%|          | 0/4 [00:00<?, ?it/s]\u001b[A\u001b[A\n",
      "\n",
      " 50%|█████     | 2/4 [00:00<00:00, 12.52it/s]\u001b[A\u001b[A"
     ]
    },
    {
     "name": "stdout",
     "output_type": "stream",
     "text": [
      "tensor([[0.0466],\n",
      "        [0.1149],\n",
      "        [0.1158],\n",
      "        ...,\n",
      "        [1.1812],\n",
      "        [1.1976],\n",
      "        [1.1822]], grad_fn=<AddBackward0>)\n",
      "tensor([[1.2995],\n",
      "        [1.0074],\n",
      "        [1.0406],\n",
      "        ...,\n",
      "        [0.6553],\n",
      "        [0.6697],\n",
      "        [0.5577]], grad_fn=<AddBackward0>)\n",
      "tensor([[-0.6224],\n",
      "        [-0.5776],\n",
      "        [-0.6138],\n",
      "        ...,\n",
      "        [ 0.3152],\n",
      "        [ 0.3843],\n",
      "        [ 0.4299]], grad_fn=<AddBackward0>)\n"
     ]
    },
    {
     "name": "stderr",
     "output_type": "stream",
     "text": [
      "\n",
      "\n",
      "100%|██████████| 4/4 [00:00<00:00, 11.85it/s]\u001b[A\u001b[A\n",
      "\n",
      "  2%|▏         | 220/10000 [02:26<1:40:10,  1.63it/s]\u001b[A"
     ]
    },
    {
     "name": "stdout",
     "output_type": "stream",
     "text": [
      "tensor([[-1.1465],\n",
      "        [-1.1355],\n",
      "        [-1.1459],\n",
      "        ...,\n",
      "        [ 1.1733],\n",
      "        [ 1.0774],\n",
      "        [ 0.6594]], grad_fn=<AddBackward0>)\n",
      "[1 0 0 ... 1 1 1]\n",
      "[1 0 1 ... 1 0 0]\n",
      "[0 0 1 ... 0 0 0]\n",
      "[1 1 1 ... 1 1 0]\n"
     ]
    },
    {
     "name": "stderr",
     "output_type": "stream",
     "text": [
      "\n",
      "\n",
      "  0%|          | 0/4 [00:00<?, ?it/s]\u001b[A\u001b[A\n",
      "\n",
      " 25%|██▌       | 1/4 [00:00<00:00,  9.08it/s]\u001b[A\u001b[A"
     ]
    },
    {
     "name": "stdout",
     "output_type": "stream",
     "text": [
      "tensor([[-0.8028],\n",
      "        [-0.7611],\n",
      "        [-0.7795],\n",
      "        ...,\n",
      "        [-0.1509],\n",
      "        [-0.1321],\n",
      "        [-0.1304]], grad_fn=<AddBackward0>)\n",
      "tensor([[1.1301],\n",
      "        [1.1368],\n",
      "        [1.1478],\n",
      "        ...,\n",
      "        [1.6138],\n",
      "        [1.6523],\n",
      "        [1.6550]], grad_fn=<AddBackward0>)\n"
     ]
    },
    {
     "name": "stderr",
     "output_type": "stream",
     "text": [
      "\n",
      "\n",
      " 75%|███████▌  | 3/4 [00:00<00:00,  9.21it/s]\u001b[A\u001b[A"
     ]
    },
    {
     "name": "stdout",
     "output_type": "stream",
     "text": [
      "tensor([[-0.6666],\n",
      "        [-0.6683],\n",
      "        [-0.6744],\n",
      "        ...,\n",
      "        [ 0.7168],\n",
      "        [ 0.7901],\n",
      "        [ 0.7885]], grad_fn=<AddBackward0>)\n",
      "tensor([[ 1.0811],\n",
      "        [ 1.0426],\n",
      "        [ 0.9927],\n",
      "        ...,\n",
      "        [-0.4222],\n",
      "        [-0.4856],\n",
      "        [-0.5173]], grad_fn=<AddBackward0>)\n"
     ]
    },
    {
     "name": "stderr",
     "output_type": "stream",
     "text": [
      "100%|██████████| 4/4 [00:00<00:00,  9.99it/s]\n",
      "\n",
      "  2%|▏         | 221/10000 [02:27<1:34:05,  1.73it/s]\u001b[A"
     ]
    },
    {
     "name": "stdout",
     "output_type": "stream",
     "text": [
      "[1 0 0 ... 1 1 1]\n",
      "[1 0 1 ... 1 0 0]\n",
      "[0 0 1 ... 0 0 0]\n",
      "[1 1 1 ... 1 1 0]\n"
     ]
    },
    {
     "name": "stderr",
     "output_type": "stream",
     "text": [
      "\n",
      "\n",
      "  0%|          | 0/4 [00:00<?, ?it/s]\u001b[A\u001b[A\n",
      "\n",
      " 25%|██▌       | 1/4 [00:00<00:00,  9.02it/s]\u001b[A\u001b[A"
     ]
    },
    {
     "name": "stdout",
     "output_type": "stream",
     "text": [
      "tensor([[1.2868],\n",
      "        [1.3246],\n",
      "        [1.2939],\n",
      "        ...,\n",
      "        [1.6262],\n",
      "        [1.6821],\n",
      "        [1.6580]], grad_fn=<AddBackward0>)\n"
     ]
    },
    {
     "name": "stderr",
     "output_type": "stream",
     "text": [
      "\n",
      "\n",
      " 50%|█████     | 2/4 [00:00<00:00,  9.12it/s]\u001b[A\u001b[A"
     ]
    },
    {
     "name": "stdout",
     "output_type": "stream",
     "text": [
      "tensor([[1.2007],\n",
      "        [1.4359],\n",
      "        [1.4636],\n",
      "        ...,\n",
      "        [0.1173],\n",
      "        [0.0588],\n",
      "        [0.0751]], grad_fn=<AddBackward0>)\n"
     ]
    },
    {
     "name": "stderr",
     "output_type": "stream",
     "text": [
      "\n",
      "\n",
      "100%|██████████| 4/4 [00:00<00:00, 10.08it/s]\u001b[A\u001b[A"
     ]
    },
    {
     "name": "stdout",
     "output_type": "stream",
     "text": [
      "tensor([[1.1443],\n",
      "        [1.1269],\n",
      "        [1.0967],\n",
      "        ...,\n",
      "        [2.2949],\n",
      "        [2.4022],\n",
      "        [2.3883]], grad_fn=<AddBackward0>)\n",
      "tensor([[0.3333],\n",
      "        [0.3024],\n",
      "        [0.3031],\n",
      "        ...,\n",
      "        [0.5300],\n",
      "        [0.4106],\n",
      "        [0.4294]], grad_fn=<AddBackward0>)\n",
      "[1 0 0 ... 1 1 1]\n",
      "[1 0 1 ... 1 0 0]\n"
     ]
    },
    {
     "name": "stderr",
     "output_type": "stream",
     "text": [
      "\n"
     ]
    },
    {
     "name": "stdout",
     "output_type": "stream",
     "text": [
      "[0 0 1 ... 0 0 0]\n",
      "[1 1 1 ... 1 1 0]\n",
      "\n",
      "Epoch: 222, Loss: 960.2971, Val: 0.6813, Test: 0.6793\n",
      "[0 0 1 ... 0 0 0]\n",
      "[1 1 1 ... 1 1 0]\n"
     ]
    },
    {
     "name": "stderr",
     "output_type": "stream",
     "text": [
      "\n",
      "  2%|▏         | 222/10000 [02:27<1:40:11,  1.63it/s]\u001b[A"
     ]
    },
    {
     "name": "stdout",
     "output_type": "stream",
     "text": [
      "[1 0 0 ... 1 1 1]\n",
      "[1 0 1 ... 1 0 0]\n"
     ]
    },
    {
     "name": "stderr",
     "output_type": "stream",
     "text": [
      "\n",
      "\n",
      "  0%|          | 0/4 [00:00<?, ?it/s]\u001b[A\u001b[A\n",
      "\n",
      " 25%|██▌       | 1/4 [00:00<00:00,  6.40it/s]\u001b[A\u001b[A"
     ]
    },
    {
     "name": "stdout",
     "output_type": "stream",
     "text": [
      "tensor([[-0.1892],\n",
      "        [-0.1914],\n",
      "        [-0.1742],\n",
      "        ...,\n",
      "        [-0.0705],\n",
      "        [-0.1300],\n",
      "        [-0.1601]], grad_fn=<AddBackward0>)\n"
     ]
    },
    {
     "name": "stderr",
     "output_type": "stream",
     "text": [
      "\n",
      "\n",
      " 50%|█████     | 2/4 [00:00<00:00,  6.28it/s]\u001b[A\u001b[A"
     ]
    },
    {
     "name": "stdout",
     "output_type": "stream",
     "text": [
      "tensor([[2.9650],\n",
      "        [2.9164],\n",
      "        [2.9560],\n",
      "        ...,\n",
      "        [1.7788],\n",
      "        [1.8006],\n",
      "        [1.6891]], grad_fn=<AddBackward0>)\n"
     ]
    },
    {
     "name": "stderr",
     "output_type": "stream",
     "text": [
      "\n",
      "\n",
      " 75%|███████▌  | 3/4 [00:00<00:00,  6.60it/s]\u001b[A\u001b[A"
     ]
    },
    {
     "name": "stdout",
     "output_type": "stream",
     "text": [
      "tensor([[-1.0601],\n",
      "        [-1.1024],\n",
      "        [-0.9972],\n",
      "        ...,\n",
      "        [ 1.8303],\n",
      "        [ 1.7949],\n",
      "        [ 1.8562]], grad_fn=<AddBackward0>)\n"
     ]
    },
    {
     "name": "stderr",
     "output_type": "stream",
     "text": [
      "\n",
      "\n",
      "100%|██████████| 4/4 [00:00<00:00,  6.86it/s]\u001b[A\u001b[A"
     ]
    },
    {
     "name": "stdout",
     "output_type": "stream",
     "text": [
      "tensor([[2.5622],\n",
      "        [2.5099],\n",
      "        [2.4549],\n",
      "        ...,\n",
      "        [0.5106],\n",
      "        [0.5091],\n",
      "        [0.4968]], grad_fn=<AddBackward0>)\n",
      "[1 0 0 ... 1 1 1]\n",
      "[1 0 1 ... 1 0 0]\n",
      "[0 0 1 ... 0 0 0]\n",
      "[1 1 1 ... 1 1 0]\n"
     ]
    },
    {
     "name": "stderr",
     "output_type": "stream",
     "text": [
      "\n",
      "\n",
      "  2%|▏         | 223/10000 [02:28<1:43:04,  1.58it/s]\u001b[A\n",
      "\n",
      "  0%|          | 0/4 [00:00<?, ?it/s]\u001b[A\u001b[A\n",
      "\n",
      " 25%|██▌       | 1/4 [00:00<00:00,  5.64it/s]\u001b[A\u001b[A\n",
      "\n",
      " 50%|█████     | 2/4 [00:00<00:00,  6.73it/s]\u001b[A\u001b[A"
     ]
    },
    {
     "name": "stdout",
     "output_type": "stream",
     "text": [
      "tensor([[-0.5755],\n",
      "        [-0.5106],\n",
      "        [-0.5107],\n",
      "        ...,\n",
      "        [-0.3683],\n",
      "        [-0.3648],\n",
      "        [-0.2919]], grad_fn=<AddBackward0>)\n",
      "tensor([[ 0.1268],\n",
      "        [ 0.1715],\n",
      "        [ 0.1511],\n",
      "        ...,\n",
      "        [-0.1461],\n",
      "        [-0.1727],\n",
      "        [ 0.0710]], grad_fn=<AddBackward0>)\n"
     ]
    },
    {
     "name": "stderr",
     "output_type": "stream",
     "text": [
      "\n",
      "\n",
      " 75%|███████▌  | 3/4 [00:00<00:00,  6.40it/s]\u001b[A\u001b[A\n",
      "\n",
      "100%|██████████| 4/4 [00:00<00:00,  6.03it/s]\u001b[A\u001b[A"
     ]
    },
    {
     "name": "stdout",
     "output_type": "stream",
     "text": [
      "tensor([[ 0.2180],\n",
      "        [ 0.1897],\n",
      "        [ 0.1779],\n",
      "        ...,\n",
      "        [ 0.0903],\n",
      "        [ 0.0262],\n",
      "        [-0.1190]], grad_fn=<AddBackward0>)\n",
      "tensor([[-1.1372],\n",
      "        [-1.1447],\n",
      "        [-1.1474],\n",
      "        ...,\n",
      "        [ 2.6401],\n",
      "        [ 2.9110],\n",
      "        [ 2.8566]], grad_fn=<AddBackward0>)\n"
     ]
    },
    {
     "name": "stderr",
     "output_type": "stream",
     "text": [
      "\n"
     ]
    },
    {
     "name": "stdout",
     "output_type": "stream",
     "text": [
      "[1 0 0 ... 1 1 1]\n",
      "[1 0 1 ... 1 0 0]\n",
      "[0 0 1 ... 0 0 0]\n",
      "[1 1 1 ... 1 1 0]\n"
     ]
    },
    {
     "name": "stderr",
     "output_type": "stream",
     "text": [
      "\n",
      "  2%|▏         | 224/10000 [02:29<1:57:06,  1.39it/s]\u001b[A\n",
      "\n",
      "  0%|          | 0/4 [00:00<?, ?it/s]\u001b[A\u001b[A\n",
      "\n",
      " 25%|██▌       | 1/4 [00:00<00:00,  8.81it/s]\u001b[A\u001b[A\n",
      "\n",
      " 50%|█████     | 2/4 [00:00<00:00,  7.16it/s]\u001b[A\u001b[A"
     ]
    },
    {
     "name": "stdout",
     "output_type": "stream",
     "text": [
      "tensor([[-1.8998],\n",
      "        [-1.9058],\n",
      "        [-1.8387],\n",
      "        ...,\n",
      "        [ 0.5877],\n",
      "        [ 0.6892],\n",
      "        [ 0.6684]], grad_fn=<AddBackward0>)\n",
      "tensor([[-0.7147],\n",
      "        [-0.7143],\n",
      "        [-0.7134],\n",
      "        ...,\n",
      "        [ 0.4557],\n",
      "        [ 0.5199],\n",
      "        [ 0.5207]], grad_fn=<AddBackward0>)\n"
     ]
    },
    {
     "name": "stderr",
     "output_type": "stream",
     "text": [
      "\n",
      "\n",
      " 75%|███████▌  | 3/4 [00:00<00:00,  7.10it/s]\u001b[A\u001b[A\n",
      "\n",
      "100%|██████████| 4/4 [00:00<00:00,  7.55it/s]\u001b[A\u001b[A"
     ]
    },
    {
     "name": "stdout",
     "output_type": "stream",
     "text": [
      "tensor([[0.7492],\n",
      "        [0.7324],\n",
      "        [0.7351],\n",
      "        ...,\n",
      "        [1.4544],\n",
      "        [1.4574],\n",
      "        [1.5761]], grad_fn=<AddBackward0>)\n",
      "tensor([[-0.5450],\n",
      "        [-0.4916],\n",
      "        [-0.7026],\n",
      "        ...,\n",
      "        [-0.7669],\n",
      "        [-0.5726],\n",
      "        [-0.6731]], grad_fn=<AddBackward0>)\n",
      "[1 0 0 ... 1 1 1]\n",
      "[1 0 1 ... 1 0 0]\n",
      "[0 0 1 ... 0 0 0]\n",
      "[1 1 1 ... 1 1 0]\n"
     ]
    },
    {
     "name": "stderr",
     "output_type": "stream",
     "text": [
      "\n",
      "\n",
      "  2%|▏         | 225/10000 [02:30<1:52:17,  1.45it/s]\u001b[A\n",
      "\n",
      "  0%|          | 0/4 [00:00<?, ?it/s]\u001b[A\u001b[A\n",
      "\n",
      " 25%|██▌       | 1/4 [00:00<00:00,  7.22it/s]\u001b[A\u001b[A"
     ]
    },
    {
     "name": "stdout",
     "output_type": "stream",
     "text": [
      "tensor([[-0.5919],\n",
      "        [-0.5493],\n",
      "        [-0.5287],\n",
      "        ...,\n",
      "        [-0.4388],\n",
      "        [-0.4371],\n",
      "        [-0.4989]], grad_fn=<AddBackward0>)\n",
      "tensor([[-1.1041e-01],\n",
      "        [-1.5613e-04],\n",
      "        [-4.2064e-02],\n",
      "        ...,\n",
      "        [ 1.4532e+00],\n",
      "        [ 1.7236e+00],\n",
      "        [ 1.7235e+00]], grad_fn=<AddBackward0>)\n"
     ]
    },
    {
     "name": "stderr",
     "output_type": "stream",
     "text": [
      "\n",
      "\n",
      "100%|██████████| 4/4 [00:00<00:00,  9.14it/s]\u001b[A\u001b[A\n",
      "\n",
      "  2%|▏         | 226/10000 [02:30<1:43:42,  1.57it/s]\u001b[A"
     ]
    },
    {
     "name": "stdout",
     "output_type": "stream",
     "text": [
      "tensor([[-0.2352],\n",
      "        [-0.0653],\n",
      "        [-0.0611],\n",
      "        ...,\n",
      "        [ 1.4634],\n",
      "        [ 1.4525],\n",
      "        [ 1.2951]], grad_fn=<AddBackward0>)\n",
      "tensor([[ 1.1325],\n",
      "        [ 1.0183],\n",
      "        [ 0.9845],\n",
      "        ...,\n",
      "        [-1.3782],\n",
      "        [-1.3621],\n",
      "        [-1.3887]], grad_fn=<AddBackward0>)\n",
      "[1 0 0 ... 1 1 1]\n",
      "[1 0 1 ... 1 0 0]\n",
      "[0 0 1 ... 0 0 0]\n",
      "[1 1 1 ... 1 1 0]\n"
     ]
    },
    {
     "name": "stderr",
     "output_type": "stream",
     "text": [
      "\n",
      "\n",
      "  0%|          | 0/4 [00:00<?, ?it/s]\u001b[A\u001b[A\n",
      "\n",
      " 50%|█████     | 2/4 [00:00<00:00,  9.14it/s]\u001b[A\u001b[A"
     ]
    },
    {
     "name": "stdout",
     "output_type": "stream",
     "text": [
      "tensor([[-1.8991],\n",
      "        [-1.9628],\n",
      "        [-2.1660],\n",
      "        ...,\n",
      "        [ 0.4632],\n",
      "        [ 0.4652],\n",
      "        [ 0.4652]], grad_fn=<AddBackward0>)\n",
      "tensor([[0.5812],\n",
      "        [0.4528],\n",
      "        [0.5589],\n",
      "        ...,\n",
      "        [0.8943],\n",
      "        [0.7435],\n",
      "        [0.9284]], grad_fn=<AddBackward0>)\n"
     ]
    },
    {
     "name": "stderr",
     "output_type": "stream",
     "text": [
      "\n",
      "\n",
      "100%|██████████| 4/4 [00:00<00:00,  9.77it/s]\u001b[A\u001b[A\n"
     ]
    },
    {
     "name": "stdout",
     "output_type": "stream",
     "text": [
      "tensor([[1.1476],\n",
      "        [1.2491],\n",
      "        [1.3038],\n",
      "        ...,\n",
      "        [1.7930],\n",
      "        [1.8558],\n",
      "        [1.8923]], grad_fn=<AddBackward0>)\n",
      "tensor([[-1.3411],\n",
      "        [-1.2789],\n",
      "        [-1.2783],\n",
      "        ...,\n",
      "        [-0.4151],\n",
      "        [-0.4968],\n",
      "        [-0.4739]], grad_fn=<AddBackward0>)\n",
      "[1 0 0 ... 1 1 1]\n",
      "[1 0 1 ... 1 0 0]\n"
     ]
    },
    {
     "name": "stderr",
     "output_type": "stream",
     "text": [
      "\n",
      "  2%|▏         | 227/10000 [02:31<1:43:15,  1.58it/s]\u001b[A"
     ]
    },
    {
     "name": "stdout",
     "output_type": "stream",
     "text": [
      "[0 0 1 ... 0 0 0]\n",
      "[1 1 1 ... 1 1 0]\n"
     ]
    },
    {
     "name": "stderr",
     "output_type": "stream",
     "text": [
      "\n",
      "\n",
      "  0%|          | 0/4 [00:00<?, ?it/s]\u001b[A\u001b[A"
     ]
    },
    {
     "name": "stdout",
     "output_type": "stream",
     "text": [
      "tensor([[0.8763],\n",
      "        [0.8552],\n",
      "        [0.8954],\n",
      "        ...,\n",
      "        [0.7923],\n",
      "        [0.8374],\n",
      "        [0.8950]], grad_fn=<AddBackward0>)\n"
     ]
    },
    {
     "name": "stderr",
     "output_type": "stream",
     "text": [
      "\n",
      "\n",
      " 50%|█████     | 2/4 [00:00<00:00,  9.99it/s]\u001b[A\u001b[A"
     ]
    },
    {
     "name": "stdout",
     "output_type": "stream",
     "text": [
      "tensor([[1.3780],\n",
      "        [1.3657],\n",
      "        [1.4260],\n",
      "        ...,\n",
      "        [0.6110],\n",
      "        [0.6684],\n",
      "        [0.7782]], grad_fn=<AddBackward0>)\n"
     ]
    },
    {
     "name": "stderr",
     "output_type": "stream",
     "text": [
      "\n",
      "\n",
      "100%|██████████| 4/4 [00:00<00:00, 10.21it/s]\u001b[A\u001b[A"
     ]
    },
    {
     "name": "stdout",
     "output_type": "stream",
     "text": [
      "tensor([[ 0.3162],\n",
      "        [ 0.3091],\n",
      "        [ 0.3232],\n",
      "        ...,\n",
      "        [-0.5330],\n",
      "        [-0.4039],\n",
      "        [-0.4866]], grad_fn=<AddBackward0>)\n",
      "tensor([[ 0.0162],\n",
      "        [ 0.0155],\n",
      "        [ 0.0105],\n",
      "        ...,\n",
      "        [-0.7951],\n",
      "        [-0.7487],\n",
      "        [-0.5968]], grad_fn=<AddBackward0>)\n",
      "[1 0 0 ... 1 1 1]\n",
      "[1 0 1 ... 1 0 0]\n"
     ]
    },
    {
     "name": "stderr",
     "output_type": "stream",
     "text": [
      "\n",
      "\n",
      "  2%|▏         | 228/10000 [02:31<1:35:11,  1.71it/s]\u001b[A"
     ]
    },
    {
     "name": "stdout",
     "output_type": "stream",
     "text": [
      "[0 0 1 ... 0 0 0]\n",
      "[1 1 1 ... 1 1 0]\n"
     ]
    },
    {
     "name": "stderr",
     "output_type": "stream",
     "text": [
      "\n",
      "\n",
      "  0%|          | 0/4 [00:00<?, ?it/s]\u001b[A\u001b[A"
     ]
    },
    {
     "name": "stdout",
     "output_type": "stream",
     "text": [
      "tensor([[0.8276],\n",
      "        [0.9111],\n",
      "        [0.8510],\n",
      "        ...,\n",
      "        [0.2829],\n",
      "        [0.3021],\n",
      "        [0.4201]], grad_fn=<AddBackward0>)\n"
     ]
    },
    {
     "name": "stderr",
     "output_type": "stream",
     "text": [
      "\n",
      "\n",
      " 50%|█████     | 2/4 [00:00<00:00, 10.26it/s]\u001b[A\u001b[A"
     ]
    },
    {
     "name": "stdout",
     "output_type": "stream",
     "text": [
      "tensor([[-0.1879],\n",
      "        [-0.1277],\n",
      "        [-0.0912],\n",
      "        ...,\n",
      "        [ 1.5288],\n",
      "        [ 1.5351],\n",
      "        [ 1.5691]], grad_fn=<AddBackward0>)\n"
     ]
    },
    {
     "name": "stderr",
     "output_type": "stream",
     "text": [
      "\n",
      "\n",
      "100%|██████████| 4/4 [00:00<00:00, 10.69it/s]\u001b[A\u001b[A"
     ]
    },
    {
     "name": "stdout",
     "output_type": "stream",
     "text": [
      "tensor([[0.0408],\n",
      "        [0.1296],\n",
      "        [0.0689],\n",
      "        ...,\n",
      "        [0.2190],\n",
      "        [0.3851],\n",
      "        [0.2437]], grad_fn=<AddBackward0>)\n",
      "tensor([[ 1.0756],\n",
      "        [ 1.0753],\n",
      "        [ 1.0927],\n",
      "        ...,\n",
      "        [-0.6609],\n",
      "        [-0.6323],\n",
      "        [-0.6668]], grad_fn=<AddBackward0>)\n",
      "[1 0 0 ... 1 1 1]\n",
      "[1 0 1 ... 1 0 0]\n"
     ]
    },
    {
     "name": "stderr",
     "output_type": "stream",
     "text": [
      "\n",
      "\n",
      "  2%|▏         | 229/10000 [02:32<1:28:31,  1.84it/s]\u001b[A"
     ]
    },
    {
     "name": "stdout",
     "output_type": "stream",
     "text": [
      "[0 0 1 ... 0 0 0]\n",
      "[1 1 1 ... 1 1 0]\n"
     ]
    },
    {
     "name": "stderr",
     "output_type": "stream",
     "text": [
      "\n",
      "\n",
      "  0%|          | 0/4 [00:00<?, ?it/s]\u001b[A\u001b[A\n",
      "\n",
      " 25%|██▌       | 1/4 [00:00<00:00,  9.81it/s]\u001b[A\u001b[A"
     ]
    },
    {
     "name": "stdout",
     "output_type": "stream",
     "text": [
      "tensor([[-0.5794],\n",
      "        [-0.5417],\n",
      "        [-0.5145],\n",
      "        ...,\n",
      "        [-0.9714],\n",
      "        [-0.9839],\n",
      "        [-0.9836]], grad_fn=<AddBackward0>)\n"
     ]
    },
    {
     "name": "stderr",
     "output_type": "stream",
     "text": [
      "\n",
      "\n",
      " 50%|█████     | 2/4 [00:00<00:00,  8.86it/s]\u001b[A\u001b[A"
     ]
    },
    {
     "name": "stdout",
     "output_type": "stream",
     "text": [
      "tensor([[ 0.5472],\n",
      "        [ 0.6042],\n",
      "        [ 0.0608],\n",
      "        ...,\n",
      "        [-0.2303],\n",
      "        [-0.1698],\n",
      "        [-0.2404]], grad_fn=<AddBackward0>)\n"
     ]
    },
    {
     "name": "stderr",
     "output_type": "stream",
     "text": [
      "\n",
      "\n",
      " 75%|███████▌  | 3/4 [00:00<00:00,  9.15it/s]\u001b[A\u001b[A"
     ]
    },
    {
     "name": "stdout",
     "output_type": "stream",
     "text": [
      "tensor([[0.4970],\n",
      "        [0.0466],\n",
      "        [0.2402],\n",
      "        ...,\n",
      "        [0.4510],\n",
      "        [0.5053],\n",
      "        [0.5032]], grad_fn=<AddBackward0>)\n"
     ]
    },
    {
     "name": "stderr",
     "output_type": "stream",
     "text": [
      "100%|██████████| 4/4 [00:00<00:00,  9.52it/s]\n"
     ]
    },
    {
     "name": "stdout",
     "output_type": "stream",
     "text": [
      "tensor([[ 1.6847],\n",
      "        [ 1.6881],\n",
      "        [ 1.6825],\n",
      "        ...,\n",
      "        [-1.4441],\n",
      "        [-1.3976],\n",
      "        [-1.4049]], grad_fn=<AddBackward0>)\n",
      "[1 0 0 ... 1 1 1]\n",
      "[1 0 1 ... 1 0 0]\n",
      "[0 0 1 ... 0 0 0]\n",
      "[1 1 1 ... 1 1 0]\n"
     ]
    },
    {
     "name": "stderr",
     "output_type": "stream",
     "text": [
      "\n",
      "  2%|▏         | 230/10000 [02:32<1:32:45,  1.76it/s]\u001b[A\n",
      "\n",
      "  0%|          | 0/4 [00:00<?, ?it/s]\u001b[A\u001b[A\n",
      "\n",
      " 25%|██▌       | 1/4 [00:00<00:00,  9.06it/s]\u001b[A\u001b[A"
     ]
    },
    {
     "name": "stdout",
     "output_type": "stream",
     "text": [
      "tensor([[-0.3360],\n",
      "        [-0.4015],\n",
      "        [-0.3255],\n",
      "        ...,\n",
      "        [-1.4467],\n",
      "        [-1.4649],\n",
      "        [-1.4516]], grad_fn=<AddBackward0>)\n"
     ]
    },
    {
     "name": "stderr",
     "output_type": "stream",
     "text": [
      "\n",
      "\n",
      " 50%|█████     | 2/4 [00:00<00:00,  9.00it/s]\u001b[A\u001b[A"
     ]
    },
    {
     "name": "stdout",
     "output_type": "stream",
     "text": [
      "tensor([[-0.0621],\n",
      "        [ 0.0347],\n",
      "        [-0.0836],\n",
      "        ...,\n",
      "        [ 1.9058],\n",
      "        [ 1.7289],\n",
      "        [ 2.1097]], grad_fn=<AddBackward0>)\n"
     ]
    },
    {
     "name": "stderr",
     "output_type": "stream",
     "text": [
      "\n",
      "\n",
      "100%|██████████| 4/4 [00:00<00:00,  9.76it/s]\u001b[A\u001b[A"
     ]
    },
    {
     "name": "stdout",
     "output_type": "stream",
     "text": [
      "tensor([[-0.6561],\n",
      "        [-0.6909],\n",
      "        [-0.6230],\n",
      "        ...,\n",
      "        [ 0.8291],\n",
      "        [ 0.9710],\n",
      "        [ 0.9061]], grad_fn=<AddBackward0>)\n",
      "tensor([[-1.1765],\n",
      "        [-1.1635],\n",
      "        [-1.2148],\n",
      "        ...,\n",
      "        [ 0.8218],\n",
      "        [ 1.2071],\n",
      "        [ 0.9788]], grad_fn=<AddBackward0>)\n",
      "[1 0 0 ... 1 1 1]\n",
      "[1 0 1 ... 1 0 0]\n"
     ]
    },
    {
     "name": "stderr",
     "output_type": "stream",
     "text": [
      "\n",
      "\n",
      "  2%|▏         | 231/10000 [02:33<1:28:35,  1.84it/s]\u001b[A"
     ]
    },
    {
     "name": "stdout",
     "output_type": "stream",
     "text": [
      "[0 0 1 ... 0 0 0]\n",
      "[1 1 1 ... 1 1 0]\n"
     ]
    },
    {
     "name": "stderr",
     "output_type": "stream",
     "text": [
      "\n",
      "\n",
      "  0%|          | 0/4 [00:00<?, ?it/s]\u001b[A\u001b[A\n",
      "\n",
      " 25%|██▌       | 1/4 [00:00<00:00,  8.34it/s]\u001b[A\u001b[A"
     ]
    },
    {
     "name": "stdout",
     "output_type": "stream",
     "text": [
      "tensor([[-1.8166],\n",
      "        [-2.0111],\n",
      "        [-2.3259],\n",
      "        ...,\n",
      "        [-0.1428],\n",
      "        [-0.1284],\n",
      "        [-0.1741]], grad_fn=<AddBackward0>)\n"
     ]
    },
    {
     "name": "stderr",
     "output_type": "stream",
     "text": [
      "\n",
      "\n",
      " 75%|███████▌  | 3/4 [00:00<00:00, 10.87it/s]\u001b[A\u001b[A"
     ]
    },
    {
     "name": "stdout",
     "output_type": "stream",
     "text": [
      "tensor([[0.4320],\n",
      "        [0.4372],\n",
      "        [0.3994],\n",
      "        ...,\n",
      "        [0.6526],\n",
      "        [0.6485],\n",
      "        [0.7251]], grad_fn=<AddBackward0>)\n",
      "tensor([[0.4444],\n",
      "        [0.4106],\n",
      "        [0.3888],\n",
      "        ...,\n",
      "        [0.9700],\n",
      "        [0.8762],\n",
      "        [0.7695]], grad_fn=<AddBackward0>)\n"
     ]
    },
    {
     "name": "stderr",
     "output_type": "stream",
     "text": [
      "\r",
      "100%|██████████| 4/4 [00:00<00:00, 10.55it/s]"
     ]
    },
    {
     "name": "stdout",
     "output_type": "stream",
     "text": [
      "tensor([[0.1198],\n",
      "        [0.1439],\n",
      "        [0.1840],\n",
      "        ...,\n",
      "        [0.5436],\n",
      "        [0.5335],\n",
      "        [0.5250]], grad_fn=<AddBackward0>)\n",
      "[1 0 0 ... 1 1 1]\n",
      "[1 0 1 ... 1 0 0]\n"
     ]
    },
    {
     "name": "stderr",
     "output_type": "stream",
     "text": [
      "\n",
      "\n",
      "  2%|▏         | 232/10000 [02:33<1:24:24,  1.93it/s]\u001b[A"
     ]
    },
    {
     "name": "stdout",
     "output_type": "stream",
     "text": [
      "[0 0 1 ... 0 0 0]\n",
      "[1 1 1 ... 1 1 0]\n"
     ]
    },
    {
     "name": "stderr",
     "output_type": "stream",
     "text": [
      "\n",
      "\n",
      "  0%|          | 0/4 [00:00<?, ?it/s]\u001b[A\u001b[A\n",
      "\n",
      " 25%|██▌       | 1/4 [00:00<00:00,  9.18it/s]\u001b[A\u001b[A"
     ]
    },
    {
     "name": "stdout",
     "output_type": "stream",
     "text": [
      "tensor([[-0.5182],\n",
      "        [-0.5206],\n",
      "        [-0.5448],\n",
      "        ...,\n",
      "        [ 0.3066],\n",
      "        [ 0.3957],\n",
      "        [ 0.3799]], grad_fn=<AddBackward0>)\n"
     ]
    },
    {
     "name": "stderr",
     "output_type": "stream",
     "text": [
      "\n",
      "\n",
      " 50%|█████     | 2/4 [00:00<00:00,  9.15it/s]\u001b[A\u001b[A"
     ]
    },
    {
     "name": "stdout",
     "output_type": "stream",
     "text": [
      "tensor([[1.2032],\n",
      "        [1.2088],\n",
      "        [1.2077],\n",
      "        ...,\n",
      "        [0.0149],\n",
      "        [0.0646],\n",
      "        [0.2539]], grad_fn=<AddBackward0>)\n"
     ]
    },
    {
     "name": "stderr",
     "output_type": "stream",
     "text": [
      "\n",
      "\n",
      " 75%|███████▌  | 3/4 [00:00<00:00,  9.48it/s]\u001b[A\u001b[A"
     ]
    },
    {
     "name": "stdout",
     "output_type": "stream",
     "text": [
      "tensor([[-0.2758],\n",
      "        [-0.1738],\n",
      "        [-0.0773],\n",
      "        ...,\n",
      "        [ 1.4600],\n",
      "        [ 1.4566],\n",
      "        [ 1.3939]], grad_fn=<AddBackward0>)\n"
     ]
    },
    {
     "name": "stderr",
     "output_type": "stream",
     "text": [
      "\n",
      "\n",
      "100%|██████████| 4/4 [00:00<00:00,  9.41it/s]\u001b[A\u001b[A"
     ]
    },
    {
     "name": "stdout",
     "output_type": "stream",
     "text": [
      "tensor([[-1.0952],\n",
      "        [-1.0762],\n",
      "        [-1.0818],\n",
      "        ...,\n",
      "        [-0.2044],\n",
      "        [-0.1990],\n",
      "        [-0.1821]], grad_fn=<AddBackward0>)\n",
      "[1 0 0 ... 1 1 1]\n",
      "[1 0 1 ... 1 0 0]\n"
     ]
    },
    {
     "name": "stderr",
     "output_type": "stream",
     "text": [
      "\n"
     ]
    },
    {
     "name": "stdout",
     "output_type": "stream",
     "text": [
      "[0 0 1 ... 0 0 0]\n",
      "[1 1 1 ... 1 1 0]\n"
     ]
    },
    {
     "name": "stderr",
     "output_type": "stream",
     "text": [
      "\n",
      "  2%|▏         | 233/10000 [02:34<1:31:02,  1.79it/s]\u001b[A\n",
      "\n",
      "  0%|          | 0/4 [00:00<?, ?it/s]\u001b[A\u001b[A\n",
      "\n",
      " 25%|██▌       | 1/4 [00:00<00:00,  7.14it/s]\u001b[A\u001b[A"
     ]
    },
    {
     "name": "stdout",
     "output_type": "stream",
     "text": [
      "tensor([[ 1.2071],\n",
      "        [ 1.3508],\n",
      "        [ 1.3536],\n",
      "        ...,\n",
      "        [-0.0889],\n",
      "        [-0.0773],\n",
      "        [-0.0488]], grad_fn=<AddBackward0>)\n"
     ]
    },
    {
     "name": "stderr",
     "output_type": "stream",
     "text": [
      "\n",
      "\n",
      " 50%|█████     | 2/4 [00:00<00:00,  8.36it/s]\u001b[A\u001b[A"
     ]
    },
    {
     "name": "stdout",
     "output_type": "stream",
     "text": [
      "tensor([[-0.0868],\n",
      "        [-0.0541],\n",
      "        [ 0.0106],\n",
      "        ...,\n",
      "        [-1.1114],\n",
      "        [-1.1466],\n",
      "        [-1.2519]], grad_fn=<AddBackward0>)\n",
      "tensor([[0.5560],\n",
      "        [0.8263],\n",
      "        [0.8294],\n",
      "        ...,\n",
      "        [1.2475],\n",
      "        [1.1985],\n",
      "        [1.2470]], grad_fn=<AddBackward0>)\n",
      "tensor([[ 2.6109],\n",
      "        [ 2.5560],\n",
      "        [ 2.5801],\n",
      "        ...,\n",
      "        [-0.8778],\n",
      "        [-0.8545],\n",
      "        [-0.8245]], grad_fn=<AddBackward0>)\n"
     ]
    },
    {
     "name": "stderr",
     "output_type": "stream",
     "text": [
      "\n",
      "\n",
      "100%|██████████| 4/4 [00:00<00:00,  8.92it/s]\u001b[A\u001b[A"
     ]
    },
    {
     "name": "stdout",
     "output_type": "stream",
     "text": [
      "[1 0 0 ... 1 1 1]\n",
      "[1 0 1 ... 1 0 0]\n",
      "[0 0 1 ... 0 0 0]\n",
      "[1 1 1 ... 1 1 0]\n"
     ]
    },
    {
     "name": "stderr",
     "output_type": "stream",
     "text": [
      "\n",
      "\n",
      "  2%|▏         | 234/10000 [02:35<1:30:17,  1.80it/s]\u001b[A\n",
      "\n",
      "  0%|          | 0/4 [00:00<?, ?it/s]\u001b[A\u001b[A\n",
      "\n",
      " 25%|██▌       | 1/4 [00:00<00:00,  7.05it/s]\u001b[A\u001b[A\n",
      "\n",
      " 50%|█████     | 2/4 [00:00<00:00,  6.86it/s]\u001b[A\u001b[A"
     ]
    },
    {
     "name": "stdout",
     "output_type": "stream",
     "text": [
      "tensor([[ 0.3700],\n",
      "        [ 0.3946],\n",
      "        [ 0.4259],\n",
      "        ...,\n",
      "        [-0.2670],\n",
      "        [-0.2343],\n",
      "        [-0.1943]], grad_fn=<AddBackward0>)\n",
      "tensor([[ 0.0366],\n",
      "        [-0.0366],\n",
      "        [ 0.0498],\n",
      "        ...,\n",
      "        [ 0.9320],\n",
      "        [ 0.9610],\n",
      "        [ 0.9307]], grad_fn=<AddBackward0>)\n"
     ]
    },
    {
     "name": "stderr",
     "output_type": "stream",
     "text": [
      "\n",
      "\n",
      " 75%|███████▌  | 3/4 [00:00<00:00,  6.73it/s]\u001b[A\u001b[A\n",
      "\n",
      "100%|██████████| 4/4 [00:00<00:00,  7.20it/s]\u001b[A\u001b[A"
     ]
    },
    {
     "name": "stdout",
     "output_type": "stream",
     "text": [
      "tensor([[0.2265],\n",
      "        [0.2676],\n",
      "        [0.2581],\n",
      "        ...,\n",
      "        [2.3451],\n",
      "        [2.1847],\n",
      "        [2.1112]], grad_fn=<AddBackward0>)\n",
      "tensor([[ 2.1819],\n",
      "        [ 2.0717],\n",
      "        [ 2.2294],\n",
      "        ...,\n",
      "        [-0.4155],\n",
      "        [-0.4082],\n",
      "        [-0.4028]], grad_fn=<AddBackward0>)\n",
      "[1 0 0 ... 1 1 1]\n",
      "[1 0 1 ... 1 0 0]\n",
      "[0 0 1 ... 0 0 0]\n",
      "[1 1 1 ... 1 1 0]\n"
     ]
    },
    {
     "name": "stderr",
     "output_type": "stream",
     "text": [
      "\n",
      "\n",
      "  2%|▏         | 235/10000 [02:35<1:35:15,  1.71it/s]\u001b[A\n",
      "\n",
      "  0%|          | 0/4 [00:00<?, ?it/s]\u001b[A\u001b[A\n",
      "\n",
      " 25%|██▌       | 1/4 [00:00<00:00,  7.06it/s]\u001b[A\u001b[A\n",
      "\n",
      " 50%|█████     | 2/4 [00:00<00:00,  6.90it/s]\u001b[A\u001b[A"
     ]
    },
    {
     "name": "stdout",
     "output_type": "stream",
     "text": [
      "tensor([[ 0.0529],\n",
      "        [ 0.0547],\n",
      "        [ 0.0482],\n",
      "        ...,\n",
      "        [-1.0715],\n",
      "        [-1.0638],\n",
      "        [-1.0784]], grad_fn=<AddBackward0>)\n",
      "tensor([[-0.4424],\n",
      "        [-0.3488],\n",
      "        [-0.4302],\n",
      "        ...,\n",
      "        [ 1.4013],\n",
      "        [ 1.3926],\n",
      "        [ 1.3596]], grad_fn=<AddBackward0>)\n"
     ]
    },
    {
     "name": "stderr",
     "output_type": "stream",
     "text": [
      "\n",
      "\n",
      " 75%|███████▌  | 3/4 [00:00<00:00,  6.79it/s]\u001b[A\u001b[A\n",
      "\n",
      "100%|██████████| 4/4 [00:00<00:00,  7.24it/s]\u001b[A\u001b[A"
     ]
    },
    {
     "name": "stdout",
     "output_type": "stream",
     "text": [
      "tensor([[0.6016],\n",
      "        [0.5656],\n",
      "        [0.6090],\n",
      "        ...,\n",
      "        [1.3420],\n",
      "        [1.1749],\n",
      "        [1.2274]], grad_fn=<AddBackward0>)\n",
      "tensor([[-1.5643],\n",
      "        [-1.4690],\n",
      "        [-1.4074],\n",
      "        ...,\n",
      "        [ 0.5297],\n",
      "        [ 0.5510],\n",
      "        [ 0.5341]], grad_fn=<AddBackward0>)\n",
      "[1 0 0 ... 1 1 1]\n",
      "[1 0 1 ... 1 0 0]\n"
     ]
    },
    {
     "name": "stderr",
     "output_type": "stream",
     "text": [
      "\n",
      "\n",
      "  2%|▏         | 236/10000 [02:36<1:45:48,  1.54it/s]\u001b[A"
     ]
    },
    {
     "name": "stdout",
     "output_type": "stream",
     "text": [
      "[0 0 1 ... 0 0 0]\n",
      "[1 1 1 ... 1 1 0]\n"
     ]
    },
    {
     "name": "stderr",
     "output_type": "stream",
     "text": [
      "\n",
      "\n",
      "  0%|          | 0/4 [00:00<?, ?it/s]\u001b[A\u001b[A\n",
      "\n",
      " 25%|██▌       | 1/4 [00:00<00:00,  9.28it/s]\u001b[A\u001b[A"
     ]
    },
    {
     "name": "stdout",
     "output_type": "stream",
     "text": [
      "tensor([[-0.7710],\n",
      "        [-0.7762],\n",
      "        [-0.7912],\n",
      "        ...,\n",
      "        [ 0.5974],\n",
      "        [ 0.6441],\n",
      "        [ 0.5992]], grad_fn=<AddBackward0>)\n"
     ]
    },
    {
     "name": "stderr",
     "output_type": "stream",
     "text": [
      "\n",
      "\n",
      " 50%|█████     | 2/4 [00:00<00:00,  7.21it/s]\u001b[A\u001b[A"
     ]
    },
    {
     "name": "stdout",
     "output_type": "stream",
     "text": [
      "tensor([[-0.2403],\n",
      "        [-0.3476],\n",
      "        [-0.2897],\n",
      "        ...,\n",
      "        [ 0.1662],\n",
      "        [ 0.1712],\n",
      "        [-0.0075]], grad_fn=<AddBackward0>)\n"
     ]
    },
    {
     "name": "stderr",
     "output_type": "stream",
     "text": [
      "\n",
      "\n",
      " 75%|███████▌  | 3/4 [00:00<00:00,  7.56it/s]\u001b[A\u001b[A"
     ]
    },
    {
     "name": "stdout",
     "output_type": "stream",
     "text": [
      "tensor([[ 0.9359],\n",
      "        [ 0.9417],\n",
      "        [ 0.9880],\n",
      "        ...,\n",
      "        [-0.6800],\n",
      "        [-0.6721],\n",
      "        [-0.7000]], grad_fn=<AddBackward0>)\n"
     ]
    },
    {
     "name": "stderr",
     "output_type": "stream",
     "text": [
      "100%|██████████| 4/4 [00:00<00:00,  8.35it/s]\n",
      "\n",
      "  2%|▏         | 237/10000 [02:37<1:40:56,  1.61it/s]\u001b[A"
     ]
    },
    {
     "name": "stdout",
     "output_type": "stream",
     "text": [
      "tensor([[ 1.0363],\n",
      "        [ 1.0450],\n",
      "        [ 1.0384],\n",
      "        ...,\n",
      "        [-0.4337],\n",
      "        [-0.5418],\n",
      "        [-0.4377]], grad_fn=<AddBackward0>)\n",
      "[1 0 0 ... 1 1 1]\n",
      "[1 0 1 ... 1 0 0]\n",
      "[0 0 1 ... 0 0 0]\n",
      "[1 1 1 ... 1 1 0]\n"
     ]
    },
    {
     "name": "stderr",
     "output_type": "stream",
     "text": [
      "\n",
      "\n",
      "  0%|          | 0/4 [00:00<?, ?it/s]\u001b[A\u001b[A\n",
      "\n",
      " 25%|██▌       | 1/4 [00:00<00:00,  7.14it/s]\u001b[A\u001b[A\n",
      "\n",
      " 50%|█████     | 2/4 [00:00<00:00,  6.62it/s]\u001b[A\u001b[A"
     ]
    },
    {
     "name": "stdout",
     "output_type": "stream",
     "text": [
      "tensor([[ 0.1352],\n",
      "        [ 0.1216],\n",
      "        [ 0.1354],\n",
      "        ...,\n",
      "        [-1.1709],\n",
      "        [-1.1508],\n",
      "        [-1.1681]], grad_fn=<AddBackward0>)\n",
      "tensor([[ 0.1871],\n",
      "        [ 0.2057],\n",
      "        [ 0.2551],\n",
      "        ...,\n",
      "        [-0.0956],\n",
      "        [-0.2227],\n",
      "        [-0.1348]], grad_fn=<AddBackward0>)\n"
     ]
    },
    {
     "name": "stderr",
     "output_type": "stream",
     "text": [
      "\n",
      "\n",
      " 75%|███████▌  | 3/4 [00:00<00:00,  6.49it/s]\u001b[A\u001b[A\n",
      "\n",
      "100%|██████████| 4/4 [00:00<00:00,  6.89it/s]\u001b[A\u001b[A"
     ]
    },
    {
     "name": "stdout",
     "output_type": "stream",
     "text": [
      "tensor([[-0.3223],\n",
      "        [-0.3671],\n",
      "        [-0.3341],\n",
      "        ...,\n",
      "        [-0.6844],\n",
      "        [-0.6704],\n",
      "        [-0.6797]], grad_fn=<AddBackward0>)\n",
      "tensor([[-0.6188],\n",
      "        [-0.6514],\n",
      "        [-0.6776],\n",
      "        ...,\n",
      "        [ 0.7909],\n",
      "        [ 0.6315],\n",
      "        [ 1.0113]], grad_fn=<AddBackward0>)\n",
      "[1 0 0 ... 1 1 1]\n",
      "[1 0 1 ... 1 0 0]\n"
     ]
    },
    {
     "name": "stderr",
     "output_type": "stream",
     "text": [
      "\n",
      "\n",
      "  2%|▏         | 238/10000 [02:37<1:45:28,  1.54it/s]\u001b[A"
     ]
    },
    {
     "name": "stdout",
     "output_type": "stream",
     "text": [
      "[0 0 1 ... 0 0 0]\n",
      "[1 1 1 ... 1 1 0]\n"
     ]
    },
    {
     "name": "stderr",
     "output_type": "stream",
     "text": [
      "\n",
      "\n",
      "  0%|          | 0/4 [00:00<?, ?it/s]\u001b[A\u001b[A\n",
      "\n",
      " 25%|██▌       | 1/4 [00:00<00:00,  6.30it/s]\u001b[A\u001b[A\n",
      "\n",
      " 50%|█████     | 2/4 [00:00<00:00,  6.49it/s]\u001b[A\u001b[A"
     ]
    },
    {
     "name": "stdout",
     "output_type": "stream",
     "text": [
      "tensor([[-0.2002],\n",
      "        [-0.1995],\n",
      "        [-0.1993],\n",
      "        ...,\n",
      "        [ 0.6882],\n",
      "        [ 0.7697],\n",
      "        [ 0.6817]], grad_fn=<AddBackward0>)\n",
      "tensor([[ 0.5215],\n",
      "        [ 0.2595],\n",
      "        [ 0.2767],\n",
      "        ...,\n",
      "        [-1.1642],\n",
      "        [-1.3740],\n",
      "        [-1.4261]], grad_fn=<AddBackward0>)\n"
     ]
    },
    {
     "name": "stderr",
     "output_type": "stream",
     "text": [
      "\n",
      "\n",
      "100%|██████████| 4/4 [00:00<00:00,  7.68it/s]\u001b[A\u001b[A"
     ]
    },
    {
     "name": "stdout",
     "output_type": "stream",
     "text": [
      "tensor([[-1.7035],\n",
      "        [-1.7290],\n",
      "        [-1.7012],\n",
      "        ...,\n",
      "        [ 1.0059],\n",
      "        [ 0.8695],\n",
      "        [ 0.8778]], grad_fn=<AddBackward0>)\n",
      "tensor([[ 0.2310],\n",
      "        [ 0.3055],\n",
      "        [ 0.2280],\n",
      "        ...,\n",
      "        [-1.4683],\n",
      "        [-1.4564],\n",
      "        [-1.4303]], grad_fn=<AddBackward0>)\n",
      "[1 0 0 ... 1 1 1]\n",
      "[1 0 1 ... 1 0 0]\n"
     ]
    },
    {
     "name": "stderr",
     "output_type": "stream",
     "text": [
      "\n",
      "\n",
      "  2%|▏         | 239/10000 [02:38<1:51:20,  1.46it/s]\u001b[A"
     ]
    },
    {
     "name": "stdout",
     "output_type": "stream",
     "text": [
      "[0 0 1 ... 0 0 0]\n",
      "[1 1 1 ... 1 1 0]\n"
     ]
    },
    {
     "name": "stderr",
     "output_type": "stream",
     "text": [
      "\n",
      "\n",
      "  0%|          | 0/4 [00:00<?, ?it/s]\u001b[A\u001b[A\n",
      "\n",
      " 25%|██▌       | 1/4 [00:00<00:00,  8.72it/s]\u001b[A\u001b[A"
     ]
    },
    {
     "name": "stdout",
     "output_type": "stream",
     "text": [
      "tensor([[-1.7753],\n",
      "        [-1.8466],\n",
      "        [-1.9187],\n",
      "        ...,\n",
      "        [-0.2486],\n",
      "        [-0.2443],\n",
      "        [-0.2422]], grad_fn=<AddBackward0>)\n"
     ]
    },
    {
     "name": "stderr",
     "output_type": "stream",
     "text": [
      "\n",
      "\n",
      " 50%|█████     | 2/4 [00:00<00:00,  7.91it/s]\u001b[A\u001b[A"
     ]
    },
    {
     "name": "stdout",
     "output_type": "stream",
     "text": [
      "tensor([[0.2678],\n",
      "        [0.2353],\n",
      "        [0.1995],\n",
      "        ...,\n",
      "        [0.9699],\n",
      "        [0.9769],\n",
      "        [0.9667]], grad_fn=<AddBackward0>)\n"
     ]
    },
    {
     "name": "stderr",
     "output_type": "stream",
     "text": [
      "\n",
      "\n",
      "100%|██████████| 4/4 [00:00<00:00,  9.08it/s]\u001b[A\u001b[A"
     ]
    },
    {
     "name": "stdout",
     "output_type": "stream",
     "text": [
      "tensor([[0.3886],\n",
      "        [0.4393],\n",
      "        [0.5559],\n",
      "        ...,\n",
      "        [1.7909],\n",
      "        [1.7737],\n",
      "        [1.7802]], grad_fn=<AddBackward0>)\n",
      "tensor([[-1.0506],\n",
      "        [-1.2485],\n",
      "        [-1.0691],\n",
      "        ...,\n",
      "        [-0.4300],\n",
      "        [-0.5056],\n",
      "        [-0.4182]], grad_fn=<AddBackward0>)\n",
      "[1 0 0 ... 1 1 1]\n",
      "[1 0 1 ... 1 0 0]\n"
     ]
    },
    {
     "name": "stderr",
     "output_type": "stream",
     "text": [
      "\n",
      "\n",
      "  2%|▏         | 240/10000 [02:39<1:43:50,  1.57it/s]\u001b[A"
     ]
    },
    {
     "name": "stdout",
     "output_type": "stream",
     "text": [
      "[0 0 1 ... 0 0 0]\n",
      "[1 1 1 ... 1 1 0]\n"
     ]
    },
    {
     "name": "stderr",
     "output_type": "stream",
     "text": [
      "\n",
      "\n",
      "  0%|          | 0/4 [00:00<?, ?it/s]\u001b[A\u001b[A\n",
      "\n",
      " 25%|██▌       | 1/4 [00:00<00:00,  6.69it/s]\u001b[A\u001b[A"
     ]
    },
    {
     "name": "stdout",
     "output_type": "stream",
     "text": [
      "tensor([[0.0256],\n",
      "        [0.0392],\n",
      "        [0.0559],\n",
      "        ...,\n",
      "        [0.5412],\n",
      "        [0.5185],\n",
      "        [0.5905]], grad_fn=<AddBackward0>)\n"
     ]
    },
    {
     "name": "stderr",
     "output_type": "stream",
     "text": [
      "\n",
      "\n",
      " 50%|█████     | 2/4 [00:00<00:00,  7.94it/s]\u001b[A\u001b[A"
     ]
    },
    {
     "name": "stdout",
     "output_type": "stream",
     "text": [
      "tensor([[-0.1755],\n",
      "        [-0.0776],\n",
      "        [-0.2285],\n",
      "        ...,\n",
      "        [ 0.2442],\n",
      "        [ 0.0715],\n",
      "        [ 0.0970]], grad_fn=<AddBackward0>)\n"
     ]
    },
    {
     "name": "stderr",
     "output_type": "stream",
     "text": [
      "\n",
      "\n",
      " 75%|███████▌  | 3/4 [00:00<00:00,  8.08it/s]\u001b[A\u001b[A"
     ]
    },
    {
     "name": "stdout",
     "output_type": "stream",
     "text": [
      "tensor([[ 1.1238],\n",
      "        [ 1.1195],\n",
      "        [ 1.0630],\n",
      "        ...,\n",
      "        [-3.0563],\n",
      "        [-3.2590],\n",
      "        [-3.1782]], grad_fn=<AddBackward0>)\n",
      "tensor([[-1.7545],\n",
      "        [-1.7068],\n",
      "        [-1.7045],\n",
      "        ...,\n",
      "        [-0.4976],\n",
      "        [-0.4729],\n",
      "        [-0.4224]], grad_fn=<AddBackward0>)\n"
     ]
    },
    {
     "name": "stderr",
     "output_type": "stream",
     "text": [
      "\r",
      "100%|██████████| 4/4 [00:00<00:00,  8.67it/s]"
     ]
    },
    {
     "name": "stdout",
     "output_type": "stream",
     "text": [
      "[1 0 0 ... 1 1 1]\n",
      "[1 0 1 ... 1 0 0]\n",
      "[0 0 1 ... 0 0 0]\n",
      "[1 1 1 ... 1 1 0]\n"
     ]
    },
    {
     "name": "stderr",
     "output_type": "stream",
     "text": [
      "\n",
      "\n",
      "  2%|▏         | 241/10000 [02:39<1:45:10,  1.55it/s]\u001b[A\n",
      "\n",
      "  0%|          | 0/4 [00:00<?, ?it/s]\u001b[A\u001b[A\n",
      "\n",
      " 50%|█████     | 2/4 [00:00<00:00, 12.25it/s]\u001b[A\u001b[A"
     ]
    },
    {
     "name": "stdout",
     "output_type": "stream",
     "text": [
      "tensor([[1.6492],\n",
      "        [1.5378],\n",
      "        [1.6591],\n",
      "        ...,\n",
      "        [0.4931],\n",
      "        [0.5933],\n",
      "        [0.7151]], grad_fn=<AddBackward0>)\n",
      "tensor([[1.7125],\n",
      "        [1.4441],\n",
      "        [1.3835],\n",
      "        ...,\n",
      "        [2.7625],\n",
      "        [2.7643],\n",
      "        [2.7510]], grad_fn=<AddBackward0>)\n",
      "tensor([[-0.1285],\n",
      "        [-0.1308],\n",
      "        [-0.1387],\n",
      "        ...,\n",
      "        [ 0.4617],\n",
      "        [ 0.4620],\n",
      "        [ 0.3029]], grad_fn=<AddBackward0>)\n"
     ]
    },
    {
     "name": "stderr",
     "output_type": "stream",
     "text": [
      "\n",
      "\n",
      "100%|██████████| 4/4 [00:00<00:00, 10.76it/s]\u001b[A\u001b[A\n",
      "\n",
      "  2%|▏         | 242/10000 [02:40<1:35:07,  1.71it/s]\u001b[A"
     ]
    },
    {
     "name": "stdout",
     "output_type": "stream",
     "text": [
      "tensor([[-1.5928],\n",
      "        [-1.5787],\n",
      "        [-1.7324],\n",
      "        ...,\n",
      "        [-0.1141],\n",
      "        [-0.1675],\n",
      "        [-0.1821]], grad_fn=<AddBackward0>)\n",
      "[1 0 0 ... 1 1 0]\n",
      "[1 0 1 ... 1 0 0]\n",
      "[0 0 1 ... 0 0 0]\n",
      "[1 1 1 ... 1 1 0]\n"
     ]
    },
    {
     "name": "stderr",
     "output_type": "stream",
     "text": [
      "\n",
      "\n",
      "  0%|          | 0/4 [00:00<?, ?it/s]\u001b[A\u001b[A\n",
      "\n",
      " 25%|██▌       | 1/4 [00:00<00:00,  9.80it/s]\u001b[A\u001b[A"
     ]
    },
    {
     "name": "stdout",
     "output_type": "stream",
     "text": [
      "tensor([[ 5.8665e-01],\n",
      "        [ 7.0155e-01],\n",
      "        [ 5.9857e-01],\n",
      "        ...,\n",
      "        [-6.0287e-02],\n",
      "        [ 3.4850e-04],\n",
      "        [-3.3934e-03]], grad_fn=<AddBackward0>)\n"
     ]
    },
    {
     "name": "stderr",
     "output_type": "stream",
     "text": [
      "\n",
      "\n",
      " 50%|█████     | 2/4 [00:00<00:00,  9.33it/s]\u001b[A\u001b[A"
     ]
    },
    {
     "name": "stdout",
     "output_type": "stream",
     "text": [
      "tensor([[0.4082],\n",
      "        [0.3853],\n",
      "        [0.3875],\n",
      "        ...,\n",
      "        [0.1692],\n",
      "        [0.2487],\n",
      "        [0.2865]], grad_fn=<AddBackward0>)\n"
     ]
    },
    {
     "name": "stderr",
     "output_type": "stream",
     "text": [
      "\n",
      "\n",
      "100%|██████████| 4/4 [00:00<00:00,  9.97it/s]\u001b[A\u001b[A"
     ]
    },
    {
     "name": "stdout",
     "output_type": "stream",
     "text": [
      "tensor([[-0.3389],\n",
      "        [-0.3313],\n",
      "        [-0.3908],\n",
      "        ...,\n",
      "        [ 1.2191],\n",
      "        [ 1.3759],\n",
      "        [ 1.1193]], grad_fn=<AddBackward0>)\n",
      "tensor([[-0.2511],\n",
      "        [-0.2854],\n",
      "        [-0.2530],\n",
      "        ...,\n",
      "        [ 1.9818],\n",
      "        [ 1.9387],\n",
      "        [ 1.9567]], grad_fn=<AddBackward0>)\n",
      "[1 0 0 ... 1 1 0]\n",
      "[1 0 1 ... 1 0 0]\n"
     ]
    },
    {
     "name": "stderr",
     "output_type": "stream",
     "text": [
      "\n",
      "\n",
      "  2%|▏         | 243/10000 [02:40<1:30:20,  1.80it/s]\u001b[A"
     ]
    },
    {
     "name": "stdout",
     "output_type": "stream",
     "text": [
      "[0 0 1 ... 0 0 0]\n",
      "[1 1 1 ... 1 1 0]\n"
     ]
    },
    {
     "name": "stderr",
     "output_type": "stream",
     "text": [
      "\n",
      "\n",
      "  0%|          | 0/4 [00:00<?, ?it/s]\u001b[A\u001b[A\n",
      "\n",
      " 25%|██▌       | 1/4 [00:00<00:00,  6.61it/s]"
     ]
    },
    {
     "name": "stdout",
     "output_type": "stream",
     "text": [
      "tensor([[-1.3017],\n",
      "        [-1.5773],\n",
      "        [-1.3248],\n",
      "        ...,\n",
      "        [-0.3342],\n",
      "        [-0.1978],\n",
      "        [-0.1924]], grad_fn=<AddBackward0>)\n"
     ]
    },
    {
     "name": "stderr",
     "output_type": "stream",
     "text": [
      "\u001b[A\u001b[A\n",
      "\n",
      " 50%|█████     | 2/4 [00:00<00:00,  8.12it/s]\u001b[A\u001b[A"
     ]
    },
    {
     "name": "stdout",
     "output_type": "stream",
     "text": [
      "tensor([[0.8961],\n",
      "        [0.8478],\n",
      "        [0.9137],\n",
      "        ...,\n",
      "        [0.7280],\n",
      "        [0.7525],\n",
      "        [0.7579]], grad_fn=<AddBackward0>)\n"
     ]
    },
    {
     "name": "stderr",
     "output_type": "stream",
     "text": [
      "\n",
      "\n",
      "100%|██████████| 4/4 [00:00<00:00,  9.22it/s]\u001b[A\u001b[A"
     ]
    },
    {
     "name": "stdout",
     "output_type": "stream",
     "text": [
      "tensor([[-0.5514],\n",
      "        [-0.5977],\n",
      "        [-0.5484],\n",
      "        ...,\n",
      "        [ 0.2607],\n",
      "        [ 0.2443],\n",
      "        [ 0.1570]], grad_fn=<AddBackward0>)\n",
      "tensor([[ 0.2591],\n",
      "        [ 0.3272],\n",
      "        [ 0.2537],\n",
      "        ...,\n",
      "        [-0.4076],\n",
      "        [-0.4672],\n",
      "        [-0.3963]], grad_fn=<AddBackward0>)\n",
      "[1 0 0 ... 1 1 0]\n",
      "[1 0 1 ... 1 0 0]\n"
     ]
    },
    {
     "name": "stderr",
     "output_type": "stream",
     "text": [
      "\n"
     ]
    },
    {
     "name": "stdout",
     "output_type": "stream",
     "text": [
      "[0 0 1 ... 0 0 0]\n",
      "[1 1 1 ... 1 1 0]\n"
     ]
    },
    {
     "name": "stderr",
     "output_type": "stream",
     "text": [
      "\n",
      "  2%|▏         | 244/10000 [02:41<1:34:44,  1.72it/s]\u001b[A\n",
      "\n",
      "  0%|          | 0/4 [00:00<?, ?it/s]\u001b[A\u001b[A\n",
      "\n",
      " 25%|██▌       | 1/4 [00:00<00:00,  8.85it/s]\u001b[A\u001b[A\n",
      "\n",
      " 50%|█████     | 2/4 [00:00<00:00,  9.29it/s]\u001b[A\u001b[A"
     ]
    },
    {
     "name": "stdout",
     "output_type": "stream",
     "text": [
      "tensor([[-2.0084],\n",
      "        [-2.2014],\n",
      "        [-1.8046],\n",
      "        ...,\n",
      "        [ 0.5797],\n",
      "        [ 0.6076],\n",
      "        [ 0.5290]], grad_fn=<AddBackward0>)\n",
      "tensor([[ 0.7104],\n",
      "        [ 0.7416],\n",
      "        [ 0.7213],\n",
      "        ...,\n",
      "        [-0.4553],\n",
      "        [-0.5398],\n",
      "        [-0.4779]], grad_fn=<AddBackward0>)\n"
     ]
    },
    {
     "name": "stderr",
     "output_type": "stream",
     "text": [
      "\n",
      "\n",
      "100%|██████████| 4/4 [00:00<00:00,  9.81it/s]\u001b[A\u001b[A\n",
      "\n",
      "  2%|▏         | 245/10000 [02:41<1:30:00,  1.81it/s]\u001b[A"
     ]
    },
    {
     "name": "stdout",
     "output_type": "stream",
     "text": [
      "tensor([[ 0.4815],\n",
      "        [ 0.4958],\n",
      "        [ 0.4559],\n",
      "        ...,\n",
      "        [-0.6027],\n",
      "        [-0.5550],\n",
      "        [-0.5676]], grad_fn=<AddBackward0>)\n",
      "tensor([[-1.3401],\n",
      "        [-1.2851],\n",
      "        [-1.2732],\n",
      "        ...,\n",
      "        [ 2.9941],\n",
      "        [ 2.7671],\n",
      "        [ 2.7202]], grad_fn=<AddBackward0>)\n",
      "[1 0 0 ... 1 1 0]\n",
      "[1 0 1 ... 1 0 0]\n",
      "[0 0 1 ... 0 0 0]\n",
      "[1 1 1 ... 1 1 0]\n"
     ]
    },
    {
     "name": "stderr",
     "output_type": "stream",
     "text": [
      "\n",
      "\n",
      "  0%|          | 0/4 [00:00<?, ?it/s]\u001b[A\u001b[A\n",
      "\n",
      " 25%|██▌       | 1/4 [00:00<00:00,  8.31it/s]\u001b[A\u001b[A\n",
      "\n",
      " 50%|█████     | 2/4 [00:00<00:00,  8.40it/s]\u001b[A\u001b[A"
     ]
    },
    {
     "name": "stdout",
     "output_type": "stream",
     "text": [
      "tensor([[2.6353],\n",
      "        [2.6377],\n",
      "        [2.6391],\n",
      "        ...,\n",
      "        [0.9693],\n",
      "        [0.9664],\n",
      "        [0.7756]], grad_fn=<AddBackward0>)\n",
      "tensor([[ 0.8312],\n",
      "        [ 0.7177],\n",
      "        [ 0.7400],\n",
      "        ...,\n",
      "        [-1.2011],\n",
      "        [-1.4934],\n",
      "        [-1.3444]], grad_fn=<AddBackward0>)\n"
     ]
    },
    {
     "name": "stderr",
     "output_type": "stream",
     "text": [
      "\n",
      "\n",
      "100%|██████████| 4/4 [00:00<00:00,  9.43it/s]\u001b[A\u001b[A\n"
     ]
    },
    {
     "name": "stdout",
     "output_type": "stream",
     "text": [
      "tensor([[0.1844],\n",
      "        [0.1854],\n",
      "        [0.1406],\n",
      "        ...,\n",
      "        [1.3852],\n",
      "        [1.4598],\n",
      "        [1.4617]], grad_fn=<AddBackward0>)\n",
      "tensor([[ 1.7219],\n",
      "        [ 1.7120],\n",
      "        [ 1.8190],\n",
      "        ...,\n",
      "        [-0.1463],\n",
      "        [-0.2948],\n",
      "        [-0.1946]], grad_fn=<AddBackward0>)\n",
      "[1 0 0 ... 1 1 0]\n",
      "[1 0 1 ... 1 0 0]\n",
      "[0 0 1 ... 0 0 0]\n",
      "[1 1 1 ... 1 1 0]\n"
     ]
    },
    {
     "name": "stderr",
     "output_type": "stream",
     "text": [
      "\n",
      "  2%|▏         | 246/10000 [02:42<1:29:41,  1.81it/s]\u001b[A\n",
      "\n",
      "  0%|          | 0/4 [00:00<?, ?it/s]\u001b[A\u001b[A\n",
      "\n",
      " 25%|██▌       | 1/4 [00:00<00:00,  9.21it/s]\u001b[A\u001b[A\n",
      "\n",
      " 50%|█████     | 2/4 [00:00<00:00,  8.90it/s]\u001b[A\u001b[A"
     ]
    },
    {
     "name": "stdout",
     "output_type": "stream",
     "text": [
      "tensor([[-0.7284],\n",
      "        [-0.7429],\n",
      "        [-0.7292],\n",
      "        ...,\n",
      "        [ 0.5993],\n",
      "        [ 0.6008],\n",
      "        [ 0.6097]], grad_fn=<AddBackward0>)\n",
      "tensor([[ 0.6831],\n",
      "        [ 0.6581],\n",
      "        [ 0.6234],\n",
      "        ...,\n",
      "        [ 0.0455],\n",
      "        [-0.0208],\n",
      "        [-0.0480]], grad_fn=<AddBackward0>)\n"
     ]
    },
    {
     "name": "stderr",
     "output_type": "stream",
     "text": [
      "\n",
      "\n",
      "100%|██████████| 4/4 [00:00<00:00,  9.57it/s]\u001b[A\u001b[A\n"
     ]
    },
    {
     "name": "stdout",
     "output_type": "stream",
     "text": [
      "tensor([[1.6237],\n",
      "        [1.5696],\n",
      "        [1.5709],\n",
      "        ...,\n",
      "        [1.4580],\n",
      "        [1.3209],\n",
      "        [1.3865]], grad_fn=<AddBackward0>)\n",
      "tensor([[ 0.7494],\n",
      "        [ 0.8277],\n",
      "        [ 0.8006],\n",
      "        ...,\n",
      "        [-0.1372],\n",
      "        [-0.1840],\n",
      "        [-0.1410]], grad_fn=<AddBackward0>)\n",
      "[1 0 0 ... 1 1 0]\n",
      "[1 0 1 ... 1 0 0]\n",
      "[1 0 1 ... 0 0 0]\n",
      "[1 1 1 ... 1 1 0]\n"
     ]
    },
    {
     "name": "stderr",
     "output_type": "stream",
     "text": [
      "\n",
      "  2%|▏         | 247/10000 [02:42<1:33:26,  1.74it/s]\u001b[A\n",
      "\n",
      "  0%|          | 0/4 [00:00<?, ?it/s]\u001b[A\u001b[A\n",
      "\n",
      " 25%|██▌       | 1/4 [00:00<00:00,  9.10it/s]\u001b[A\u001b[A"
     ]
    },
    {
     "name": "stdout",
     "output_type": "stream",
     "text": [
      "tensor([[0.0646],\n",
      "        [0.1662],\n",
      "        [0.1198],\n",
      "        ...,\n",
      "        [0.7568],\n",
      "        [0.7921],\n",
      "        [0.7951]], grad_fn=<AddBackward0>)\n",
      "tensor([[0.7044],\n",
      "        [0.7187],\n",
      "        [0.7677],\n",
      "        ...,\n",
      "        [0.3895],\n",
      "        [0.3919],\n",
      "        [0.3983]], grad_fn=<AddBackward0>)\n"
     ]
    },
    {
     "name": "stderr",
     "output_type": "stream",
     "text": [
      "\n",
      "\n",
      " 50%|█████     | 2/4 [00:00<00:00,  6.07it/s]\u001b[A\u001b[A\n",
      "\n",
      " 75%|███████▌  | 3/4 [00:00<00:00,  5.69it/s]\u001b[A\u001b[A\n",
      "\n",
      "100%|██████████| 4/4 [00:00<00:00,  6.39it/s]\u001b[A\u001b[A"
     ]
    },
    {
     "name": "stdout",
     "output_type": "stream",
     "text": [
      "tensor([[-1.8741],\n",
      "        [-1.9442],\n",
      "        [-2.0230],\n",
      "        ...,\n",
      "        [ 1.0459],\n",
      "        [ 1.0405],\n",
      "        [ 1.0468]], grad_fn=<AddBackward0>)\n",
      "tensor([[-0.7866],\n",
      "        [-0.7581],\n",
      "        [-0.6885],\n",
      "        ...,\n",
      "        [-0.7127],\n",
      "        [-0.6063],\n",
      "        [-0.7115]], grad_fn=<AddBackward0>)\n",
      "[1 0 0 ... 1 1 0]\n",
      "[1 0 1 ... 1 0 0]\n",
      "[1 0 1 ... 0 0 0]\n",
      "[1 1 1 ... 1 1 0]\n"
     ]
    },
    {
     "name": "stderr",
     "output_type": "stream",
     "text": [
      "\n",
      "\n",
      "  2%|▏         | 248/10000 [02:43<1:40:36,  1.62it/s]\u001b[A\n",
      "\n",
      "  0%|          | 0/4 [00:00<?, ?it/s]\u001b[A\u001b[A\n",
      "\n",
      " 25%|██▌       | 1/4 [00:00<00:00,  6.85it/s]\u001b[A\u001b[A\n",
      "\n",
      " 50%|█████     | 2/4 [00:00<00:00,  8.05it/s]\u001b[A\u001b[A"
     ]
    },
    {
     "name": "stdout",
     "output_type": "stream",
     "text": [
      "tensor([[ 1.3479],\n",
      "        [ 1.3930],\n",
      "        [ 1.3470],\n",
      "        ...,\n",
      "        [-0.6263],\n",
      "        [-0.6410],\n",
      "        [-0.5740]], grad_fn=<AddBackward0>)\n",
      "tensor([[-0.0879],\n",
      "        [-0.1435],\n",
      "        [-0.1299],\n",
      "        ...,\n",
      "        [ 3.1463],\n",
      "        [ 3.0775],\n",
      "        [ 3.1627]], grad_fn=<AddBackward0>)\n"
     ]
    },
    {
     "name": "stderr",
     "output_type": "stream",
     "text": [
      "\n",
      "\n",
      " 75%|███████▌  | 3/4 [00:00<00:00,  8.82it/s]\u001b[A\u001b[A\n",
      "\n",
      "100%|██████████| 4/4 [00:00<00:00,  8.49it/s]\u001b[A\u001b[A"
     ]
    },
    {
     "name": "stdout",
     "output_type": "stream",
     "text": [
      "tensor([[0.0629],\n",
      "        [0.0457],\n",
      "        [0.0421],\n",
      "        ...,\n",
      "        [1.4573],\n",
      "        [1.3853],\n",
      "        [1.3911]], grad_fn=<AddBackward0>)\n",
      "tensor([[-0.3986],\n",
      "        [-0.4648],\n",
      "        [-0.4381],\n",
      "        ...,\n",
      "        [-1.4121],\n",
      "        [-1.4392],\n",
      "        [-1.4387]], grad_fn=<AddBackward0>)\n",
      "[1 0 0 ... 1 1 0]\n",
      "[1 0 1 ... 1 0 0]\n",
      "[1 0 1 ... 0 0 0]\n",
      "[1 1 1 ... 1 1 0]\n"
     ]
    },
    {
     "name": "stderr",
     "output_type": "stream",
     "text": [
      "\n",
      "\n",
      "  2%|▏         | 249/10000 [02:44<1:38:13,  1.65it/s]\u001b[A\n",
      "\n",
      "  0%|          | 0/4 [00:00<?, ?it/s]\u001b[A\u001b[A\n",
      "\n",
      " 25%|██▌       | 1/4 [00:00<00:00,  6.97it/s]\u001b[A\u001b[A\n",
      "\n",
      " 50%|█████     | 2/4 [00:00<00:00,  6.29it/s]\u001b[A\u001b[A"
     ]
    },
    {
     "name": "stdout",
     "output_type": "stream",
     "text": [
      "tensor([[ 0.0482],\n",
      "        [ 0.0625],\n",
      "        [ 0.0671],\n",
      "        ...,\n",
      "        [-0.0075],\n",
      "        [ 0.1316],\n",
      "        [-0.0523]], grad_fn=<AddBackward0>)\n",
      "tensor([[0.6445],\n",
      "        [0.7248],\n",
      "        [0.8149],\n",
      "        ...,\n",
      "        [1.0370],\n",
      "        [1.0654],\n",
      "        [1.0576]], grad_fn=<AddBackward0>)\n"
     ]
    },
    {
     "name": "stderr",
     "output_type": "stream",
     "text": [
      "\n",
      "\n",
      " 75%|███████▌  | 3/4 [00:00<00:00,  6.46it/s]\u001b[A\u001b[A\n",
      "\n",
      "100%|██████████| 4/4 [00:00<00:00,  6.94it/s]\u001b[A\u001b[A"
     ]
    },
    {
     "name": "stdout",
     "output_type": "stream",
     "text": [
      "tensor([[0.9178],\n",
      "        [0.7823],\n",
      "        [0.7376],\n",
      "        ...,\n",
      "        [0.8006],\n",
      "        [0.7571],\n",
      "        [0.7874]], grad_fn=<AddBackward0>)\n",
      "tensor([[-1.1661],\n",
      "        [-1.1798],\n",
      "        [-1.1647],\n",
      "        ...,\n",
      "        [ 0.5662],\n",
      "        [ 0.5844],\n",
      "        [ 0.5856]], grad_fn=<AddBackward0>)\n",
      "[1 0 0 ... 1 1 0]\n",
      "[1 0 1 ... 1 0 0]\n",
      "[1 0 1 ... 0 0 0]\n",
      "[1 1 1 ... 1 1 0]\n"
     ]
    },
    {
     "name": "stderr",
     "output_type": "stream",
     "text": [
      "\n",
      "\n",
      "  2%|▎         | 250/10000 [02:45<1:49:40,  1.48it/s]\u001b[A\n",
      "\n",
      "  0%|          | 0/4 [00:00<?, ?it/s]\u001b[A\u001b[A\n",
      "\n",
      " 50%|█████     | 2/4 [00:00<00:00, 12.61it/s]\u001b[A\u001b[A"
     ]
    },
    {
     "name": "stdout",
     "output_type": "stream",
     "text": [
      "tensor([[-0.7688],\n",
      "        [-0.6112],\n",
      "        [-0.6664],\n",
      "        ...,\n",
      "        [-1.1335],\n",
      "        [-1.1729],\n",
      "        [-1.1754]], grad_fn=<AddBackward0>)\n",
      "tensor([[ 0.8150],\n",
      "        [ 0.8537],\n",
      "        [ 0.8585],\n",
      "        ...,\n",
      "        [-0.0893],\n",
      "        [-0.2140],\n",
      "        [-0.0930]], grad_fn=<AddBackward0>)\n"
     ]
    },
    {
     "name": "stderr",
     "output_type": "stream",
     "text": [
      "\n",
      "\n",
      "100%|██████████| 4/4 [00:00<00:00, 10.81it/s]\u001b[A\u001b[A\n",
      "\n",
      "  3%|▎         | 251/10000 [02:45<1:38:47,  1.64it/s]\u001b[A"
     ]
    },
    {
     "name": "stdout",
     "output_type": "stream",
     "text": [
      "tensor([[-1.2895],\n",
      "        [-1.2865],\n",
      "        [-1.2857],\n",
      "        ...,\n",
      "        [-1.1671],\n",
      "        [-1.0195],\n",
      "        [-1.0249]], grad_fn=<AddBackward0>)\n",
      "tensor([[-1.6259],\n",
      "        [-1.6664],\n",
      "        [-1.5541],\n",
      "        ...,\n",
      "        [ 0.2157],\n",
      "        [ 0.1723],\n",
      "        [ 0.1543]], grad_fn=<AddBackward0>)\n",
      "[1 0 0 ... 1 1 0]\n",
      "[1 0 1 ... 1 0 0]\n",
      "[1 0 1 ... 0 0 0]\n",
      "[1 1 1 ... 1 1 0]\n"
     ]
    },
    {
     "name": "stderr",
     "output_type": "stream",
     "text": [
      "\n",
      "\n",
      "  0%|          | 0/4 [00:00<?, ?it/s]\u001b[A\u001b[A\n",
      "\n",
      " 25%|██▌       | 1/4 [00:00<00:00,  9.56it/s]\u001b[A\u001b[A\n",
      "\n",
      " 50%|█████     | 2/4 [00:00<00:00,  9.12it/s]\u001b[A\u001b[A"
     ]
    },
    {
     "name": "stdout",
     "output_type": "stream",
     "text": [
      "tensor([[-0.4812],\n",
      "        [-0.3932],\n",
      "        [-0.4207],\n",
      "        ...,\n",
      "        [ 0.5960],\n",
      "        [ 0.5955],\n",
      "        [ 0.5752]], grad_fn=<AddBackward0>)\n",
      "tensor([[1.3457],\n",
      "        [1.2532],\n",
      "        [1.3547],\n",
      "        ...,\n",
      "        [0.9602],\n",
      "        [1.0067],\n",
      "        [1.0099]], grad_fn=<AddBackward0>)\n"
     ]
    },
    {
     "name": "stderr",
     "output_type": "stream",
     "text": [
      "\n",
      "\n",
      "100%|██████████| 4/4 [00:00<00:00,  7.92it/s]\u001b[A\u001b[A\n",
      "\n",
      "  3%|▎         | 252/10000 [02:46<1:37:46,  1.66it/s]\u001b[A"
     ]
    },
    {
     "name": "stdout",
     "output_type": "stream",
     "text": [
      "tensor([[0.9307],\n",
      "        [0.9645],\n",
      "        [1.0232],\n",
      "        ...,\n",
      "        [1.0063],\n",
      "        [0.8507],\n",
      "        [0.8572]], grad_fn=<AddBackward0>)\n",
      "tensor([[1.1512],\n",
      "        [0.9997],\n",
      "        [0.9582],\n",
      "        ...,\n",
      "        [1.0606],\n",
      "        [0.8940],\n",
      "        [0.9522]], grad_fn=<AddBackward0>)\n",
      "[1 0 0 ... 1 1 0]\n",
      "[1 0 1 ... 1 0 0]\n",
      "[0 0 1 ... 0 0 0]\n",
      "[1 1 1 ... 1 1 0]\n"
     ]
    },
    {
     "name": "stderr",
     "output_type": "stream",
     "text": [
      "\n",
      "\n",
      "  0%|          | 0/4 [00:00<?, ?it/s]\u001b[A\u001b[A\n",
      "\n",
      " 25%|██▌       | 1/4 [00:00<00:00,  9.26it/s]\u001b[A\u001b[A"
     ]
    },
    {
     "name": "stdout",
     "output_type": "stream",
     "text": [
      "tensor([[-1.8448],\n",
      "        [-2.0260],\n",
      "        [-1.8211],\n",
      "        ...,\n",
      "        [ 1.1998],\n",
      "        [ 1.1224],\n",
      "        [ 1.1999]], grad_fn=<AddBackward0>)\n",
      "tensor([[-1.0844],\n",
      "        [-0.9233],\n",
      "        [-0.9686],\n",
      "        ...,\n",
      "        [ 0.8780],\n",
      "        [ 0.9310],\n",
      "        [ 0.8613]], grad_fn=<AddBackward0>)\n"
     ]
    },
    {
     "name": "stderr",
     "output_type": "stream",
     "text": [
      "\n",
      "\n",
      "100%|██████████| 4/4 [00:00<00:00,  9.69it/s]\u001b[A\u001b[A"
     ]
    },
    {
     "name": "stdout",
     "output_type": "stream",
     "text": [
      "tensor([[-1.5706],\n",
      "        [-1.6597],\n",
      "        [-1.6065],\n",
      "        ...,\n",
      "        [ 0.7293],\n",
      "        [ 0.6929],\n",
      "        [ 0.6488]], grad_fn=<AddBackward0>)\n",
      "tensor([[-1.6975],\n",
      "        [-1.7496],\n",
      "        [-1.7274],\n",
      "        ...,\n",
      "        [-0.4785],\n",
      "        [-0.3850],\n",
      "        [-0.4914]], grad_fn=<AddBackward0>)\n",
      "[1 0 0 ... 1 1 0]\n",
      "[1 0 1 ... 1 0 0]\n"
     ]
    },
    {
     "name": "stderr",
     "output_type": "stream",
     "text": [
      "\n",
      "\n",
      "  3%|▎         | 253/10000 [02:46<1:39:26,  1.63it/s]\u001b[A"
     ]
    },
    {
     "name": "stdout",
     "output_type": "stream",
     "text": [
      "[0 0 1 ... 0 0 0]\n",
      "[1 1 1 ... 1 1 0]\n"
     ]
    },
    {
     "name": "stderr",
     "output_type": "stream",
     "text": [
      "\n",
      "\n",
      "  0%|          | 0/4 [00:00<?, ?it/s]\u001b[A\u001b[A\n",
      "\n",
      " 25%|██▌       | 1/4 [00:00<00:00,  7.12it/s]\u001b[A\u001b[A"
     ]
    },
    {
     "name": "stdout",
     "output_type": "stream",
     "text": [
      "tensor([[-0.6075],\n",
      "        [-0.7360],\n",
      "        [-0.6652],\n",
      "        ...,\n",
      "        [-0.1022],\n",
      "        [-0.0548],\n",
      "        [ 0.0877]], grad_fn=<AddBackward0>)\n"
     ]
    },
    {
     "name": "stderr",
     "output_type": "stream",
     "text": [
      "\n",
      "\n",
      " 50%|█████     | 2/4 [00:00<00:00,  7.85it/s]\u001b[A\u001b[A"
     ]
    },
    {
     "name": "stdout",
     "output_type": "stream",
     "text": [
      "tensor([[-1.3516],\n",
      "        [-1.3547],\n",
      "        [-1.3494],\n",
      "        ...,\n",
      "        [ 0.5524],\n",
      "        [-0.2566],\n",
      "        [-0.2585]], grad_fn=<AddBackward0>)\n"
     ]
    },
    {
     "name": "stderr",
     "output_type": "stream",
     "text": [
      "\n",
      "\n",
      " 75%|███████▌  | 3/4 [00:00<00:00,  8.19it/s]\u001b[A\u001b[A"
     ]
    },
    {
     "name": "stdout",
     "output_type": "stream",
     "text": [
      "tensor([[-0.1710],\n",
      "        [-0.1710],\n",
      "        [-0.1303],\n",
      "        ...,\n",
      "        [ 2.2909],\n",
      "        [ 2.3999],\n",
      "        [ 2.3909]], grad_fn=<AddBackward0>)\n"
     ]
    },
    {
     "name": "stderr",
     "output_type": "stream",
     "text": [
      "100%|██████████| 4/4 [00:00<00:00,  8.45it/s]\n",
      "\n",
      "  3%|▎         | 254/10000 [02:47<1:36:52,  1.68it/s]\u001b[A"
     ]
    },
    {
     "name": "stdout",
     "output_type": "stream",
     "text": [
      "tensor([[-1.0329],\n",
      "        [-1.1388],\n",
      "        [-1.0704],\n",
      "        ...,\n",
      "        [-0.7181],\n",
      "        [-0.6688],\n",
      "        [-0.6759]], grad_fn=<AddBackward0>)\n",
      "[1 0 0 ... 1 1 0]\n",
      "[1 0 1 ... 1 0 0]\n",
      "[0 0 1 ... 0 0 0]\n",
      "[1 1 1 ... 1 1 0]\n"
     ]
    },
    {
     "name": "stderr",
     "output_type": "stream",
     "text": [
      "\n",
      "\n",
      "  0%|          | 0/4 [00:00<?, ?it/s]\u001b[A\u001b[A\n",
      "\n",
      " 25%|██▌       | 1/4 [00:00<00:00,  7.03it/s]\u001b[A\u001b[A\n",
      "\n",
      " 50%|█████     | 2/4 [00:00<00:00,  5.83it/s]\u001b[A\u001b[A"
     ]
    },
    {
     "name": "stdout",
     "output_type": "stream",
     "text": [
      "tensor([[0.1375],\n",
      "        [0.1377],\n",
      "        [0.1375],\n",
      "        ...,\n",
      "        [0.5818],\n",
      "        [0.5745],\n",
      "        [0.5934]], grad_fn=<AddBackward0>)\n",
      "tensor([[ 0.0632],\n",
      "        [-0.0815],\n",
      "        [-0.0343],\n",
      "        ...,\n",
      "        [ 0.2882],\n",
      "        [ 0.2698],\n",
      "        [ 0.2975]], grad_fn=<AddBackward0>)\n"
     ]
    },
    {
     "name": "stderr",
     "output_type": "stream",
     "text": [
      "\n",
      "\n",
      " 75%|███████▌  | 3/4 [00:00<00:00,  5.92it/s]\u001b[A\u001b[A\n",
      "\n",
      "100%|██████████| 4/4 [00:00<00:00,  6.48it/s]\u001b[A\u001b[A"
     ]
    },
    {
     "name": "stdout",
     "output_type": "stream",
     "text": [
      "tensor([[1.0068],\n",
      "        [0.9251],\n",
      "        [0.9840],\n",
      "        ...,\n",
      "        [0.7203],\n",
      "        [0.8090],\n",
      "        [0.8057]], grad_fn=<AddBackward0>)\n",
      "tensor([[0.4825],\n",
      "        [0.6144],\n",
      "        [0.5382],\n",
      "        ...,\n",
      "        [0.2209],\n",
      "        [0.2114],\n",
      "        [0.2346]], grad_fn=<AddBackward0>)\n",
      "[1 0 0 ... 1 1 0]\n",
      "[1 0 1 ... 1 0 0]\n",
      "[0 0 1 ... 0 0 0]\n",
      "[1 1 1 ... 1 1 0]\n"
     ]
    },
    {
     "name": "stderr",
     "output_type": "stream",
     "text": [
      "\n",
      "\n",
      "  3%|▎         | 255/10000 [02:48<1:42:34,  1.58it/s]\u001b[A\n",
      "\n",
      "  0%|          | 0/4 [00:00<?, ?it/s]\u001b[A\u001b[A\n",
      "\n",
      " 25%|██▌       | 1/4 [00:00<00:00,  6.65it/s]\u001b[A\u001b[A\n",
      "\n",
      " 50%|█████     | 2/4 [00:00<00:00,  6.32it/s]\u001b[A\u001b[A"
     ]
    },
    {
     "name": "stdout",
     "output_type": "stream",
     "text": [
      "tensor([[0.4470],\n",
      "        [0.4820],\n",
      "        [0.4763],\n",
      "        ...,\n",
      "        [0.9151],\n",
      "        [1.0104],\n",
      "        [0.9304]], grad_fn=<AddBackward0>)\n",
      "tensor([[0.3776],\n",
      "        [0.8375],\n",
      "        [0.2913],\n",
      "        ...,\n",
      "        [0.6803],\n",
      "        [0.6788],\n",
      "        [0.6884]], grad_fn=<AddBackward0>)\n"
     ]
    },
    {
     "name": "stderr",
     "output_type": "stream",
     "text": [
      "\n",
      "\n",
      " 75%|███████▌  | 3/4 [00:00<00:00,  6.42it/s]\u001b[A\u001b[A\n",
      "\n",
      "100%|██████████| 4/4 [00:00<00:00,  6.83it/s]\u001b[A\u001b[A"
     ]
    },
    {
     "name": "stdout",
     "output_type": "stream",
     "text": [
      "tensor([[0.9701],\n",
      "        [0.8802],\n",
      "        [0.8024],\n",
      "        ...,\n",
      "        [1.0034],\n",
      "        [0.7322],\n",
      "        [0.7287]], grad_fn=<AddBackward0>)\n",
      "tensor([[ 0.6091],\n",
      "        [ 0.7297],\n",
      "        [ 0.7891],\n",
      "        ...,\n",
      "        [-1.4047],\n",
      "        [-1.4285],\n",
      "        [-1.4019]], grad_fn=<AddBackward0>)\n",
      "[1 0 0 ... 1 1 0]\n",
      "[1 0 1 ... 1 0 0]\n"
     ]
    },
    {
     "name": "stderr",
     "output_type": "stream",
     "text": [
      "\n",
      "\n",
      "  3%|▎         | 256/10000 [02:48<1:52:32,  1.44it/s]\u001b[A"
     ]
    },
    {
     "name": "stdout",
     "output_type": "stream",
     "text": [
      "[0 0 1 ... 0 0 0]\n",
      "[1 1 1 ... 1 1 0]\n"
     ]
    },
    {
     "name": "stderr",
     "output_type": "stream",
     "text": [
      "\n",
      "\n",
      "  0%|          | 0/4 [00:00<?, ?it/s]\u001b[A\u001b[A"
     ]
    },
    {
     "name": "stdout",
     "output_type": "stream",
     "text": [
      "tensor([[ 0.0614],\n",
      "        [ 0.0622],\n",
      "        [ 0.0323],\n",
      "        ...,\n",
      "        [ 0.4068],\n",
      "        [-0.0977],\n",
      "        [-0.1453]], grad_fn=<AddBackward0>)\n"
     ]
    },
    {
     "name": "stderr",
     "output_type": "stream",
     "text": [
      "\n",
      "\n",
      " 50%|█████     | 2/4 [00:00<00:00,  9.74it/s]\u001b[A\u001b[A"
     ]
    },
    {
     "name": "stdout",
     "output_type": "stream",
     "text": [
      "tensor([[-1.0886],\n",
      "        [-1.2715],\n",
      "        [-1.0858],\n",
      "        ...,\n",
      "        [-0.1611],\n",
      "        [-0.2103],\n",
      "        [-0.1906]], grad_fn=<AddBackward0>)\n"
     ]
    },
    {
     "name": "stderr",
     "output_type": "stream",
     "text": [
      "\n",
      "\n",
      " 75%|███████▌  | 3/4 [00:00<00:00,  9.25it/s]\u001b[A\u001b[A"
     ]
    },
    {
     "name": "stdout",
     "output_type": "stream",
     "text": [
      "tensor([[-0.5782],\n",
      "        [-0.3963],\n",
      "        [-0.5765],\n",
      "        ...,\n",
      "        [ 0.1691],\n",
      "        [ 0.1950],\n",
      "        [ 0.3105]], grad_fn=<AddBackward0>)\n"
     ]
    },
    {
     "name": "stderr",
     "output_type": "stream",
     "text": [
      "100%|██████████| 4/4 [00:00<00:00,  9.82it/s]\n",
      "\n",
      "  3%|▎         | 257/10000 [02:49<1:42:36,  1.58it/s]\u001b[A"
     ]
    },
    {
     "name": "stdout",
     "output_type": "stream",
     "text": [
      "tensor([[ 0.1526],\n",
      "        [ 0.1262],\n",
      "        [ 0.1835],\n",
      "        ...,\n",
      "        [-0.2549],\n",
      "        [-0.0642],\n",
      "        [-0.0750]], grad_fn=<AddBackward0>)\n",
      "[1 0 0 ... 1 1 0]\n",
      "[1 0 1 ... 1 0 0]\n",
      "[0 0 1 ... 0 0 0]\n",
      "[1 1 1 ... 1 1 0]\n"
     ]
    },
    {
     "name": "stderr",
     "output_type": "stream",
     "text": [
      "\n",
      "\n",
      "  0%|          | 0/4 [00:00<?, ?it/s]\u001b[A\u001b[A\n",
      "\n",
      " 25%|██▌       | 1/4 [00:00<00:00,  9.58it/s]\u001b[A\u001b[A"
     ]
    },
    {
     "name": "stdout",
     "output_type": "stream",
     "text": [
      "tensor([[1.3365],\n",
      "        [1.4448],\n",
      "        [1.4480],\n",
      "        ...,\n",
      "        [0.6543],\n",
      "        [0.6612],\n",
      "        [0.7000]], grad_fn=<AddBackward0>)\n"
     ]
    },
    {
     "name": "stderr",
     "output_type": "stream",
     "text": [
      "\n",
      "\n",
      " 50%|█████     | 2/4 [00:00<00:00,  8.92it/s]\u001b[A\u001b[A"
     ]
    },
    {
     "name": "stdout",
     "output_type": "stream",
     "text": [
      "tensor([[0.5870],\n",
      "        [0.6238],\n",
      "        [0.5370],\n",
      "        ...,\n",
      "        [1.0615],\n",
      "        [1.0925],\n",
      "        [1.0948]], grad_fn=<AddBackward0>)\n"
     ]
    },
    {
     "name": "stderr",
     "output_type": "stream",
     "text": [
      "\n",
      "\n",
      "100%|██████████| 4/4 [00:00<00:00,  9.76it/s]\u001b[A\u001b[A"
     ]
    },
    {
     "name": "stdout",
     "output_type": "stream",
     "text": [
      "tensor([[0.8582],\n",
      "        [0.7023],\n",
      "        [0.8270],\n",
      "        ...,\n",
      "        [0.8541],\n",
      "        [0.7484],\n",
      "        [1.0244]], grad_fn=<AddBackward0>)\n",
      "tensor([[-2.5410],\n",
      "        [-2.6246],\n",
      "        [-2.5952],\n",
      "        ...,\n",
      "        [-1.4494],\n",
      "        [-1.5243],\n",
      "        [-1.4507]], grad_fn=<AddBackward0>)\n",
      "[1 0 0 ... 1 1 0]\n",
      "[1 0 1 ... 1 0 0]\n"
     ]
    },
    {
     "name": "stderr",
     "output_type": "stream",
     "text": [
      "\n",
      "\n",
      "  3%|▎         | 258/10000 [02:49<1:36:09,  1.69it/s]\u001b[A"
     ]
    },
    {
     "name": "stdout",
     "output_type": "stream",
     "text": [
      "[0 0 1 ... 0 0 0]\n",
      "[1 1 1 ... 1 1 0]\n"
     ]
    },
    {
     "name": "stderr",
     "output_type": "stream",
     "text": [
      "\n",
      "\n",
      "  0%|          | 0/4 [00:00<?, ?it/s]\u001b[A\u001b[A"
     ]
    },
    {
     "name": "stdout",
     "output_type": "stream",
     "text": [
      "tensor([[ 0.9152],\n",
      "        [ 0.9183],\n",
      "        [ 0.9515],\n",
      "        ...,\n",
      "        [-0.4085],\n",
      "        [-0.4728],\n",
      "        [-0.4459]], grad_fn=<AddBackward0>)\n"
     ]
    },
    {
     "name": "stderr",
     "output_type": "stream",
     "text": [
      "\n",
      "\n",
      " 50%|█████     | 2/4 [00:00<00:00,  9.70it/s]\u001b[A\u001b[A"
     ]
    },
    {
     "name": "stdout",
     "output_type": "stream",
     "text": [
      "tensor([[0.7921],\n",
      "        [0.7986],\n",
      "        [0.7702],\n",
      "        ...,\n",
      "        [0.7313],\n",
      "        [0.6600],\n",
      "        [0.7468]], grad_fn=<AddBackward0>)\n"
     ]
    },
    {
     "name": "stderr",
     "output_type": "stream",
     "text": [
      "\n",
      "\n",
      " 75%|███████▌  | 3/4 [00:00<00:00,  9.44it/s]\u001b[A\u001b[A"
     ]
    },
    {
     "name": "stdout",
     "output_type": "stream",
     "text": [
      "tensor([[-0.0875],\n",
      "        [-0.1325],\n",
      "        [-0.1797],\n",
      "        ...,\n",
      "        [ 1.7709],\n",
      "        [ 1.8380],\n",
      "        [ 1.8812]], grad_fn=<AddBackward0>)\n"
     ]
    },
    {
     "name": "stderr",
     "output_type": "stream",
     "text": [
      "\n",
      "\n",
      "100%|██████████| 4/4 [00:00<00:00,  8.65it/s]\u001b[A\u001b[A"
     ]
    },
    {
     "name": "stdout",
     "output_type": "stream",
     "text": [
      "tensor([[-0.5199],\n",
      "        [-0.2974],\n",
      "        [-0.3210],\n",
      "        ...,\n",
      "        [-0.4031],\n",
      "        [-0.3983],\n",
      "        [-0.4658]], grad_fn=<AddBackward0>)\n",
      "[1 0 0 ... 1 1 0]\n",
      "[1 0 1 ... 1 0 0]\n"
     ]
    },
    {
     "name": "stderr",
     "output_type": "stream",
     "text": [
      "\n",
      "\n",
      "  3%|▎         | 259/10000 [02:50<1:41:09,  1.60it/s]\u001b[A"
     ]
    },
    {
     "name": "stdout",
     "output_type": "stream",
     "text": [
      "[0 0 1 ... 0 0 0]\n",
      "[1 1 1 ... 1 1 0]\n"
     ]
    },
    {
     "name": "stderr",
     "output_type": "stream",
     "text": [
      "\n",
      "\n",
      "  0%|          | 0/4 [00:00<?, ?it/s]\u001b[A\u001b[A\n",
      "\n",
      " 25%|██▌       | 1/4 [00:00<00:00,  8.66it/s]\u001b[A\u001b[A"
     ]
    },
    {
     "name": "stdout",
     "output_type": "stream",
     "text": [
      "tensor([[-0.1927],\n",
      "        [-0.1904],\n",
      "        [-0.1418],\n",
      "        ...,\n",
      "        [ 0.5535],\n",
      "        [ 0.6051],\n",
      "        [ 0.6056]], grad_fn=<AddBackward0>)\n"
     ]
    },
    {
     "name": "stderr",
     "output_type": "stream",
     "text": [
      "\n",
      "\n",
      " 75%|███████▌  | 3/4 [00:00<00:00, 10.59it/s]\u001b[A\u001b[A"
     ]
    },
    {
     "name": "stdout",
     "output_type": "stream",
     "text": [
      "tensor([[0.8233],\n",
      "        [0.6987],\n",
      "        [0.8419],\n",
      "        ...,\n",
      "        [0.9152],\n",
      "        [0.7791],\n",
      "        [0.9222]], grad_fn=<AddBackward0>)\n",
      "tensor([[-1.5577],\n",
      "        [-1.5752],\n",
      "        [-1.5926],\n",
      "        ...,\n",
      "        [ 2.3155],\n",
      "        [ 2.2863],\n",
      "        [ 2.4605]], grad_fn=<AddBackward0>)\n"
     ]
    },
    {
     "name": "stderr",
     "output_type": "stream",
     "text": [
      "\r",
      "100%|██████████| 4/4 [00:00<00:00, 10.82it/s]"
     ]
    },
    {
     "name": "stdout",
     "output_type": "stream",
     "text": [
      "tensor([[0.2188],\n",
      "        [0.1337],\n",
      "        [0.2209],\n",
      "        ...,\n",
      "        [0.5935],\n",
      "        [0.5909],\n",
      "        [0.6008]], grad_fn=<AddBackward0>)\n",
      "[1 0 0 ... 1 1 0]\n",
      "[1 0 1 ... 1 0 0]\n"
     ]
    },
    {
     "name": "stderr",
     "output_type": "stream",
     "text": [
      "\n",
      "\n",
      "  3%|▎         | 260/10000 [02:51<1:33:11,  1.74it/s]\u001b[A"
     ]
    },
    {
     "name": "stdout",
     "output_type": "stream",
     "text": [
      "[0 0 1 ... 0 0 0]\n",
      "[1 1 1 ... 1 1 0]\n"
     ]
    },
    {
     "name": "stderr",
     "output_type": "stream",
     "text": [
      "\n",
      "\n",
      "  0%|          | 0/4 [00:00<?, ?it/s]\u001b[A\u001b[A\n",
      "\n",
      " 25%|██▌       | 1/4 [00:00<00:00,  9.81it/s]\u001b[A\u001b[A"
     ]
    },
    {
     "name": "stdout",
     "output_type": "stream",
     "text": [
      "tensor([[-0.3965],\n",
      "        [-0.4807],\n",
      "        [-0.4951],\n",
      "        ...,\n",
      "        [ 0.0501],\n",
      "        [ 0.0465],\n",
      "        [-0.0492]], grad_fn=<AddBackward0>)\n"
     ]
    },
    {
     "name": "stderr",
     "output_type": "stream",
     "text": [
      "\n",
      "\n",
      " 50%|█████     | 2/4 [00:00<00:00,  9.84it/s]\u001b[A\u001b[A"
     ]
    },
    {
     "name": "stdout",
     "output_type": "stream",
     "text": [
      "tensor([[ 0.6115],\n",
      "        [ 0.5935],\n",
      "        [ 0.5460],\n",
      "        ...,\n",
      "        [-0.9289],\n",
      "        [-0.9967],\n",
      "        [-0.9429]], grad_fn=<AddBackward0>)\n"
     ]
    },
    {
     "name": "stderr",
     "output_type": "stream",
     "text": [
      "\n",
      "\n",
      "100%|██████████| 4/4 [00:00<00:00, 10.03it/s]\u001b[A\u001b[A"
     ]
    },
    {
     "name": "stdout",
     "output_type": "stream",
     "text": [
      "tensor([[-0.5700],\n",
      "        [-0.5143],\n",
      "        [-0.5633],\n",
      "        ...,\n",
      "        [ 1.8489],\n",
      "        [ 1.8491],\n",
      "        [ 1.8333]], grad_fn=<AddBackward0>)\n",
      "tensor([[-1.7549],\n",
      "        [-1.7856],\n",
      "        [-1.7634],\n",
      "        ...,\n",
      "        [ 1.2364],\n",
      "        [ 0.8114],\n",
      "        [ 0.9656]], grad_fn=<AddBackward0>)\n"
     ]
    },
    {
     "name": "stderr",
     "output_type": "stream",
     "text": [
      "\n",
      "\n",
      "  3%|▎         | 261/10000 [02:51<1:28:20,  1.84it/s]\u001b[A"
     ]
    },
    {
     "name": "stdout",
     "output_type": "stream",
     "text": [
      "[1 0 0 ... 1 1 0]\n",
      "[1 0 1 ... 1 0 0]\n",
      "[0 0 1 ... 0 0 0]\n",
      "[1 1 1 ... 1 1 0]\n"
     ]
    },
    {
     "name": "stderr",
     "output_type": "stream",
     "text": [
      "\n",
      "\n",
      "  0%|          | 0/4 [00:00<?, ?it/s]\u001b[A\u001b[A\n",
      "\n",
      " 25%|██▌       | 1/4 [00:00<00:00,  8.80it/s]\u001b[A\u001b[A"
     ]
    },
    {
     "name": "stdout",
     "output_type": "stream",
     "text": [
      "tensor([[2.6180],\n",
      "        [2.6174],\n",
      "        [2.6571],\n",
      "        ...,\n",
      "        [0.1081],\n",
      "        [0.2409],\n",
      "        [0.4127]], grad_fn=<AddBackward0>)\n"
     ]
    },
    {
     "name": "stderr",
     "output_type": "stream",
     "text": [
      "\n",
      "\n",
      " 50%|█████     | 2/4 [00:00<00:00,  9.19it/s]\u001b[A\u001b[A"
     ]
    },
    {
     "name": "stdout",
     "output_type": "stream",
     "text": [
      "tensor([[0.2054],\n",
      "        [0.1515],\n",
      "        [0.2024],\n",
      "        ...,\n",
      "        [0.2761],\n",
      "        [0.2517],\n",
      "        [0.2686]], grad_fn=<AddBackward0>)\n"
     ]
    },
    {
     "name": "stderr",
     "output_type": "stream",
     "text": [
      "\n",
      "\n",
      " 75%|███████▌  | 3/4 [00:00<00:00,  8.36it/s]\u001b[A\u001b[A"
     ]
    },
    {
     "name": "stdout",
     "output_type": "stream",
     "text": [
      "tensor([[-0.1334],\n",
      "        [-0.0840],\n",
      "        [-0.0230],\n",
      "        ...,\n",
      "        [-0.6635],\n",
      "        [-0.6607],\n",
      "        [-0.6856]], grad_fn=<AddBackward0>)\n"
     ]
    },
    {
     "name": "stderr",
     "output_type": "stream",
     "text": [
      "\r",
      "100%|██████████| 4/4 [00:00<00:00,  9.25it/s]"
     ]
    },
    {
     "name": "stdout",
     "output_type": "stream",
     "text": [
      "tensor([[-0.1951],\n",
      "        [-0.1812],\n",
      "        [-0.1304],\n",
      "        ...,\n",
      "        [-0.4263],\n",
      "        [-0.4908],\n",
      "        [-0.4379]], grad_fn=<AddBackward0>)\n",
      "[1 0 0 ... 1 1 0]\n",
      "[1 0 1 ... 1 0 0]\n"
     ]
    },
    {
     "name": "stderr",
     "output_type": "stream",
     "text": [
      "\n",
      "\n",
      "  3%|▎         | 262/10000 [02:52<1:35:48,  1.69it/s]\u001b[A"
     ]
    },
    {
     "name": "stdout",
     "output_type": "stream",
     "text": [
      "[0 0 1 ... 0 0 0]\n",
      "[1 1 1 ... 1 1 0]\n"
     ]
    },
    {
     "name": "stderr",
     "output_type": "stream",
     "text": [
      "\n",
      "\n",
      "  0%|          | 0/4 [00:00<?, ?it/s]\u001b[A\u001b[A"
     ]
    },
    {
     "name": "stdout",
     "output_type": "stream",
     "text": [
      "tensor([[-0.6019],\n",
      "        [-0.6122],\n",
      "        [-0.5544],\n",
      "        ...,\n",
      "        [-1.4338],\n",
      "        [-1.4498],\n",
      "        [-1.4278]], grad_fn=<AddBackward0>)\n"
     ]
    },
    {
     "name": "stderr",
     "output_type": "stream",
     "text": [
      "\n",
      "\n",
      " 50%|█████     | 2/4 [00:00<00:00,  9.16it/s]\u001b[A\u001b[A"
     ]
    },
    {
     "name": "stdout",
     "output_type": "stream",
     "text": [
      "tensor([[-0.6679],\n",
      "        [-0.7565],\n",
      "        [-0.6667],\n",
      "        ...,\n",
      "        [ 0.7427],\n",
      "        [ 0.7094],\n",
      "        [ 0.7395]], grad_fn=<AddBackward0>)\n"
     ]
    },
    {
     "name": "stderr",
     "output_type": "stream",
     "text": [
      "\n",
      "\n",
      " 75%|███████▌  | 3/4 [00:00<00:00,  9.16it/s]\u001b[A\u001b[A"
     ]
    },
    {
     "name": "stdout",
     "output_type": "stream",
     "text": [
      "tensor([[-0.6724],\n",
      "        [-0.6385],\n",
      "        [-0.6578],\n",
      "        ...,\n",
      "        [-0.7619],\n",
      "        [-0.7136],\n",
      "        [-0.5868]], grad_fn=<AddBackward0>)\n",
      "tensor([[0.3423],\n",
      "        [0.3422],\n",
      "        [0.3143],\n",
      "        ...,\n",
      "        [0.8047],\n",
      "        [0.9535],\n",
      "        [0.6587]], grad_fn=<AddBackward0>)\n"
     ]
    },
    {
     "name": "stderr",
     "output_type": "stream",
     "text": [
      "100%|██████████| 4/4 [00:00<00:00,  9.57it/s]\n",
      "\n",
      "  3%|▎         | 263/10000 [02:52<1:30:53,  1.79it/s]\u001b[A"
     ]
    },
    {
     "name": "stdout",
     "output_type": "stream",
     "text": [
      "[1 0 0 ... 1 1 0]\n",
      "[1 0 1 ... 1 0 0]\n",
      "[0 0 1 ... 0 0 0]\n",
      "[1 1 1 ... 1 1 0]\n"
     ]
    },
    {
     "name": "stderr",
     "output_type": "stream",
     "text": [
      "\n",
      "\n",
      "  0%|          | 0/4 [00:00<?, ?it/s]\u001b[A\u001b[A"
     ]
    },
    {
     "name": "stdout",
     "output_type": "stream",
     "text": [
      "tensor([[ 1.4700],\n",
      "        [ 1.4873],\n",
      "        [ 1.4423],\n",
      "        ...,\n",
      "        [-0.1103],\n",
      "        [-0.0590],\n",
      "        [-0.0508]], grad_fn=<AddBackward0>)\n"
     ]
    },
    {
     "name": "stderr",
     "output_type": "stream",
     "text": [
      "\n",
      "\n",
      " 50%|█████     | 2/4 [00:00<00:00,  9.78it/s]\u001b[A\u001b[A"
     ]
    },
    {
     "name": "stdout",
     "output_type": "stream",
     "text": [
      "tensor([[-1.0248],\n",
      "        [-0.7849],\n",
      "        [-0.7043],\n",
      "        ...,\n",
      "        [ 0.4749],\n",
      "        [ 0.0444],\n",
      "        [ 0.0023]], grad_fn=<AddBackward0>)\n"
     ]
    },
    {
     "name": "stderr",
     "output_type": "stream",
     "text": [
      "\n",
      "\n",
      "100%|██████████| 4/4 [00:00<00:00, 10.20it/s]\u001b[A\u001b[A"
     ]
    },
    {
     "name": "stdout",
     "output_type": "stream",
     "text": [
      "tensor([[ 0.8447],\n",
      "        [ 0.8467],\n",
      "        [ 0.8500],\n",
      "        ...,\n",
      "        [-1.7792],\n",
      "        [-1.9818],\n",
      "        [-1.9031]], grad_fn=<AddBackward0>)\n",
      "tensor([[0.6354],\n",
      "        [0.8766],\n",
      "        [0.7301],\n",
      "        ...,\n",
      "        [2.8507],\n",
      "        [2.8203],\n",
      "        [3.1648]], grad_fn=<AddBackward0>)\n",
      "[1 0 0 ... 1 1 0]\n",
      "[1 0 1 ... 1 0 0]\n"
     ]
    },
    {
     "name": "stderr",
     "output_type": "stream",
     "text": [
      "\n",
      "\n",
      "  3%|▎         | 264/10000 [02:53<1:26:17,  1.88it/s]\u001b[A"
     ]
    },
    {
     "name": "stdout",
     "output_type": "stream",
     "text": [
      "[0 0 1 ... 0 0 0]\n",
      "[1 1 1 ... 1 1 0]\n"
     ]
    },
    {
     "name": "stderr",
     "output_type": "stream",
     "text": [
      "\n",
      "\n",
      "  0%|          | 0/4 [00:00<?, ?it/s]\u001b[A\u001b[A\n",
      "\n",
      " 25%|██▌       | 1/4 [00:00<00:00,  9.88it/s]\u001b[A\u001b[A"
     ]
    },
    {
     "name": "stdout",
     "output_type": "stream",
     "text": [
      "tensor([[-0.5544],\n",
      "        [-0.5777],\n",
      "        [-0.5415],\n",
      "        ...,\n",
      "        [-1.6241],\n",
      "        [-1.4178],\n",
      "        [-1.6904]], grad_fn=<AddBackward0>)\n",
      "tensor([[0.3817],\n",
      "        [0.3551],\n",
      "        [0.2840],\n",
      "        ...,\n",
      "        [1.9815],\n",
      "        [1.9817],\n",
      "        [1.9827]], grad_fn=<AddBackward0>)\n"
     ]
    },
    {
     "name": "stderr",
     "output_type": "stream",
     "text": [
      "\n",
      "\n",
      "100%|██████████| 4/4 [00:00<00:00, 10.54it/s]\u001b[A\u001b[A"
     ]
    },
    {
     "name": "stdout",
     "output_type": "stream",
     "text": [
      "tensor([[ 1.6556],\n",
      "        [ 1.7031],\n",
      "        [ 1.7265],\n",
      "        ...,\n",
      "        [-1.6037],\n",
      "        [-1.6641],\n",
      "        [-1.6033]], grad_fn=<AddBackward0>)\n",
      "tensor([[-1.0339],\n",
      "        [-1.0490],\n",
      "        [-1.1059],\n",
      "        ...,\n",
      "        [-1.4456],\n",
      "        [-1.4264],\n",
      "        [-1.4361]], grad_fn=<AddBackward0>)\n",
      "[1 0 0 ... 1 1 0]\n",
      "[1 0 1 ... 1 0 0]\n"
     ]
    },
    {
     "name": "stderr",
     "output_type": "stream",
     "text": [
      "\n",
      "\n",
      "  3%|▎         | 265/10000 [02:53<1:29:19,  1.82it/s]\u001b[A"
     ]
    },
    {
     "name": "stdout",
     "output_type": "stream",
     "text": [
      "[0 0 1 ... 0 0 0]\n",
      "[1 1 1 ... 1 1 0]\n"
     ]
    },
    {
     "name": "stderr",
     "output_type": "stream",
     "text": [
      "\n",
      "\n",
      "  0%|          | 0/4 [00:00<?, ?it/s]\u001b[A\u001b[A\n",
      "\n",
      " 25%|██▌       | 1/4 [00:00<00:00,  8.81it/s]\u001b[A\u001b[A"
     ]
    },
    {
     "name": "stdout",
     "output_type": "stream",
     "text": [
      "tensor([[-0.7486],\n",
      "        [-0.7489],\n",
      "        [-0.7412],\n",
      "        ...,\n",
      "        [-0.0605],\n",
      "        [ 0.3351],\n",
      "        [ 0.3289]], grad_fn=<AddBackward0>)\n"
     ]
    },
    {
     "name": "stderr",
     "output_type": "stream",
     "text": [
      "\n",
      "\n",
      " 50%|█████     | 2/4 [00:00<00:00,  8.92it/s]\u001b[A\u001b[A"
     ]
    },
    {
     "name": "stdout",
     "output_type": "stream",
     "text": [
      "tensor([[0.2555],\n",
      "        [0.2780],\n",
      "        [0.2925],\n",
      "        ...,\n",
      "        [1.8130],\n",
      "        [1.7738],\n",
      "        [1.7558]], grad_fn=<AddBackward0>)\n"
     ]
    },
    {
     "name": "stderr",
     "output_type": "stream",
     "text": [
      "\n",
      "\n",
      " 75%|███████▌  | 3/4 [00:00<00:00,  8.85it/s]\u001b[A\u001b[A"
     ]
    },
    {
     "name": "stdout",
     "output_type": "stream",
     "text": [
      "tensor([[-0.0034],\n",
      "        [-0.2149],\n",
      "        [-0.0520],\n",
      "        ...,\n",
      "        [-0.6720],\n",
      "        [-0.6725],\n",
      "        [-0.6947]], grad_fn=<AddBackward0>)\n"
     ]
    },
    {
     "name": "stderr",
     "output_type": "stream",
     "text": [
      "100%|██████████| 4/4 [00:00<00:00,  9.20it/s]\n",
      "\n",
      "  3%|▎         | 266/10000 [02:54<1:28:41,  1.83it/s]\u001b[A"
     ]
    },
    {
     "name": "stdout",
     "output_type": "stream",
     "text": [
      "tensor([[ 0.0973],\n",
      "        [ 0.0574],\n",
      "        [ 0.0909],\n",
      "        ...,\n",
      "        [-0.2064],\n",
      "        [-0.3201],\n",
      "        [-0.2715]], grad_fn=<AddBackward0>)\n",
      "[1 0 0 ... 1 1 0]\n",
      "[1 0 1 ... 1 0 0]\n",
      "[0 0 1 ... 0 0 0]\n",
      "[1 1 1 ... 1 1 0]\n"
     ]
    },
    {
     "name": "stderr",
     "output_type": "stream",
     "text": [
      "\n",
      "\n",
      "  0%|          | 0/4 [00:00<?, ?it/s]\u001b[A\u001b[A\n",
      "\n",
      " 25%|██▌       | 1/4 [00:00<00:00,  8.81it/s]\u001b[A\u001b[A\n",
      "\n",
      " 50%|█████     | 2/4 [00:00<00:00,  8.22it/s]\u001b[A\u001b[A"
     ]
    },
    {
     "name": "stdout",
     "output_type": "stream",
     "text": [
      "tensor([[ 0.4587],\n",
      "        [ 0.4625],\n",
      "        [ 0.4646],\n",
      "        ...,\n",
      "        [-1.3867],\n",
      "        [-1.2225],\n",
      "        [-1.5220]], grad_fn=<AddBackward0>)\n",
      "tensor([[ 1.5332],\n",
      "        [ 1.5377],\n",
      "        [ 1.4890],\n",
      "        ...,\n",
      "        [-1.2652],\n",
      "        [-1.2495],\n",
      "        [-1.2630]], grad_fn=<AddBackward0>)\n"
     ]
    },
    {
     "name": "stderr",
     "output_type": "stream",
     "text": [
      "\n",
      "\n",
      " 75%|███████▌  | 3/4 [00:00<00:00,  8.92it/s]\u001b[A\u001b[A\n",
      "\n",
      "100%|██████████| 4/4 [00:00<00:00,  8.85it/s]\u001b[A\u001b[A"
     ]
    },
    {
     "name": "stdout",
     "output_type": "stream",
     "text": [
      "tensor([[1.6267],\n",
      "        [1.7363],\n",
      "        [1.7955],\n",
      "        ...,\n",
      "        [1.5383],\n",
      "        [1.5753],\n",
      "        [1.4980]], grad_fn=<AddBackward0>)\n",
      "tensor([[-1.7826],\n",
      "        [-1.7780],\n",
      "        [-1.7928],\n",
      "        ...,\n",
      "        [-0.6492],\n",
      "        [-0.6455],\n",
      "        [-0.8334]], grad_fn=<AddBackward0>)\n",
      "[1 0 0 ... 1 1 0]\n",
      "[1 0 1 ... 1 0 0]\n",
      "[0 0 1 ... 0 0 0]\n",
      "[1 1 1 ... 1 1 0]\n"
     ]
    },
    {
     "name": "stderr",
     "output_type": "stream",
     "text": [
      "\n",
      "\n",
      "  3%|▎         | 267/10000 [02:54<1:35:40,  1.70it/s]\u001b[A\n",
      "\n",
      "  0%|          | 0/4 [00:00<?, ?it/s]\u001b[A\u001b[A\n",
      "\n",
      " 50%|█████     | 2/4 [00:00<00:00, 11.47it/s]\u001b[A\u001b[A"
     ]
    },
    {
     "name": "stdout",
     "output_type": "stream",
     "text": [
      "tensor([[1.3656],\n",
      "        [1.3674],\n",
      "        [1.3028],\n",
      "        ...,\n",
      "        [0.6008],\n",
      "        [0.6264],\n",
      "        [0.6269]], grad_fn=<AddBackward0>)\n",
      "tensor([[0.3486],\n",
      "        [0.3494],\n",
      "        [0.3513],\n",
      "        ...,\n",
      "        [1.0231],\n",
      "        [1.0151],\n",
      "        [1.0345]], grad_fn=<AddBackward0>)\n",
      "tensor([[0.0267],\n",
      "        [0.0349],\n",
      "        [0.0115],\n",
      "        ...,\n",
      "        [2.3497],\n",
      "        [2.3327],\n",
      "        [2.4484]], grad_fn=<AddBackward0>)\n"
     ]
    },
    {
     "name": "stderr",
     "output_type": "stream",
     "text": [
      "\n",
      "\n",
      "100%|██████████| 4/4 [00:00<00:00, 11.26it/s]\u001b[A\u001b[A\n",
      "\n",
      "  3%|▎         | 268/10000 [02:55<1:28:18,  1.84it/s]\u001b[A"
     ]
    },
    {
     "name": "stdout",
     "output_type": "stream",
     "text": [
      "tensor([[-1.6940],\n",
      "        [-1.6477],\n",
      "        [-1.6046],\n",
      "        ...,\n",
      "        [ 0.5989],\n",
      "        [ 0.5861],\n",
      "        [ 0.5758]], grad_fn=<AddBackward0>)\n",
      "[1 0 0 ... 1 1 0]\n",
      "[1 0 1 ... 1 0 0]\n",
      "[0 0 1 ... 0 0 0]\n",
      "[1 1 1 ... 1 1 0]\n"
     ]
    },
    {
     "name": "stderr",
     "output_type": "stream",
     "text": [
      "\n",
      "\n",
      "  0%|          | 0/4 [00:00<?, ?it/s]\u001b[A\u001b[A"
     ]
    },
    {
     "name": "stdout",
     "output_type": "stream",
     "text": [
      "tensor([[1.0375],\n",
      "        [0.9549],\n",
      "        [0.8942],\n",
      "        ...,\n",
      "        [1.3010],\n",
      "        [1.1168],\n",
      "        [1.2056]], grad_fn=<AddBackward0>)\n"
     ]
    },
    {
     "name": "stderr",
     "output_type": "stream",
     "text": [
      "\n",
      "\n",
      " 50%|█████     | 2/4 [00:00<00:00, 10.81it/s]\u001b[A\u001b[A"
     ]
    },
    {
     "name": "stdout",
     "output_type": "stream",
     "text": [
      "tensor([[-0.2882],\n",
      "        [-0.0186],\n",
      "        [-0.0808],\n",
      "        ...,\n",
      "        [ 0.6917],\n",
      "        [ 0.7386],\n",
      "        [ 0.9220]], grad_fn=<AddBackward0>)\n",
      "tensor([[-0.2000],\n",
      "        [-0.3494],\n",
      "        [-0.2364],\n",
      "        ...,\n",
      "        [-1.4718],\n",
      "        [-1.5434],\n",
      "        [-1.4023]], grad_fn=<AddBackward0>)\n",
      "tensor([[ 0.0775],\n",
      "        [ 0.2189],\n",
      "        [ 0.1501],\n",
      "        ...,\n",
      "        [-0.8093],\n",
      "        [-0.7621],\n",
      "        [-0.8674]], grad_fn=<AddBackward0>)\n"
     ]
    },
    {
     "name": "stderr",
     "output_type": "stream",
     "text": [
      "\n",
      "\n",
      "100%|██████████| 4/4 [00:00<00:00, 10.07it/s]\u001b[A\u001b[A\n",
      "\n",
      "  3%|▎         | 269/10000 [02:55<1:25:14,  1.90it/s]\u001b[A"
     ]
    },
    {
     "name": "stdout",
     "output_type": "stream",
     "text": [
      "[1 0 0 ... 1 1 0]\n",
      "[1 0 1 ... 1 0 0]\n",
      "[0 0 1 ... 0 0 0]\n",
      "[1 1 1 ... 1 1 0]\n"
     ]
    },
    {
     "name": "stderr",
     "output_type": "stream",
     "text": [
      "\n",
      "\n",
      "  0%|          | 0/4 [00:00<?, ?it/s]\u001b[A\u001b[A"
     ]
    },
    {
     "name": "stdout",
     "output_type": "stream",
     "text": [
      "tensor([[ 0.1638],\n",
      "        [-0.3182],\n",
      "        [ 0.0421],\n",
      "        ...,\n",
      "        [ 0.3781],\n",
      "        [ 0.4310],\n",
      "        [ 0.4017]], grad_fn=<AddBackward0>)\n"
     ]
    },
    {
     "name": "stderr",
     "output_type": "stream",
     "text": [
      "\n",
      "\n",
      " 50%|█████     | 2/4 [00:00<00:00, 10.72it/s]\u001b[A\u001b[A"
     ]
    },
    {
     "name": "stdout",
     "output_type": "stream",
     "text": [
      "tensor([[-0.0111],\n",
      "        [-0.1172],\n",
      "        [-0.0216],\n",
      "        ...,\n",
      "        [ 1.2095],\n",
      "        [ 1.3283],\n",
      "        [ 1.1222]], grad_fn=<AddBackward0>)\n",
      "tensor([[0.9453],\n",
      "        [0.9459],\n",
      "        [0.8191],\n",
      "        ...,\n",
      "        [1.4724],\n",
      "        [1.4005],\n",
      "        [1.4019]], grad_fn=<AddBackward0>)\n"
     ]
    },
    {
     "name": "stderr",
     "output_type": "stream",
     "text": [
      "\n",
      "\n",
      "100%|██████████| 4/4 [00:00<00:00, 11.71it/s]\u001b[A\u001b[A"
     ]
    },
    {
     "name": "stdout",
     "output_type": "stream",
     "text": [
      "tensor([[0.2540],\n",
      "        [0.1519],\n",
      "        [0.2681],\n",
      "        ...,\n",
      "        [2.8407],\n",
      "        [2.9073],\n",
      "        [2.8256]], grad_fn=<AddBackward0>)\n",
      "[1 0 0 ... 1 1 0]\n",
      "[1 0 1 ... 1 0 0]\n",
      "[0 0 1 ... 0 0 0]\n",
      "[1 1 1 ... 1 1 0]\n"
     ]
    },
    {
     "name": "stderr",
     "output_type": "stream",
     "text": [
      "\n",
      "\n",
      "  3%|▎         | 270/10000 [02:56<1:28:19,  1.84it/s]\u001b[A\n",
      "\n",
      "  0%|          | 0/4 [00:00<?, ?it/s]\u001b[A\u001b[A\n",
      "\n",
      " 25%|██▌       | 1/4 [00:00<00:00,  9.68it/s]\u001b[A\u001b[A\n",
      "\n",
      " 50%|█████     | 2/4 [00:00<00:00,  7.25it/s]\u001b[A\u001b[A"
     ]
    },
    {
     "name": "stdout",
     "output_type": "stream",
     "text": [
      "tensor([[ 0.1873],\n",
      "        [ 0.1867],\n",
      "        [ 0.1870],\n",
      "        ...,\n",
      "        [-0.3665],\n",
      "        [-0.2397],\n",
      "        [-0.2671]], grad_fn=<AddBackward0>)\n",
      "tensor([[-0.7092],\n",
      "        [-0.6328],\n",
      "        [-0.6550],\n",
      "        ...,\n",
      "        [ 0.9566],\n",
      "        [ 0.9096],\n",
      "        [ 0.7828]], grad_fn=<AddBackward0>)\n"
     ]
    },
    {
     "name": "stderr",
     "output_type": "stream",
     "text": [
      "\n",
      "\n",
      " 75%|███████▌  | 3/4 [00:00<00:00,  6.35it/s]\u001b[A\u001b[A\n",
      "\n",
      "100%|██████████| 4/4 [00:00<00:00,  6.65it/s]\u001b[A\u001b[A"
     ]
    },
    {
     "name": "stdout",
     "output_type": "stream",
     "text": [
      "tensor([[-0.6405],\n",
      "        [-0.6320],\n",
      "        [-0.6616],\n",
      "        ...,\n",
      "        [ 0.2845],\n",
      "        [ 0.0286],\n",
      "        [ 0.2118]], grad_fn=<AddBackward0>)\n",
      "tensor([[-1.4442],\n",
      "        [-1.5111],\n",
      "        [-1.4548],\n",
      "        ...,\n",
      "        [-0.5279],\n",
      "        [-0.5009],\n",
      "        [-0.4450]], grad_fn=<AddBackward0>)\n",
      "[1 0 0 ... 1 1 0]\n",
      "[1 0 1 ... 1 0 0]\n"
     ]
    },
    {
     "name": "stderr",
     "output_type": "stream",
     "text": [
      "\n",
      "\n",
      "  3%|▎         | 271/10000 [02:57<1:36:00,  1.69it/s]\u001b[A"
     ]
    },
    {
     "name": "stdout",
     "output_type": "stream",
     "text": [
      "[0 0 1 ... 0 0 0]\n",
      "[1 1 1 ... 1 1 0]\n"
     ]
    },
    {
     "name": "stderr",
     "output_type": "stream",
     "text": [
      "\n",
      "\n",
      "  0%|          | 0/4 [00:00<?, ?it/s]\u001b[A\u001b[A"
     ]
    },
    {
     "name": "stdout",
     "output_type": "stream",
     "text": [
      "tensor([[-0.7331],\n",
      "        [-0.7324],\n",
      "        [-0.7327],\n",
      "        ...,\n",
      "        [-1.2740],\n",
      "        [-1.1924],\n",
      "        [-1.2790]], grad_fn=<AddBackward0>)\n"
     ]
    },
    {
     "name": "stderr",
     "output_type": "stream",
     "text": [
      "\n",
      "\n",
      " 25%|██▌       | 1/4 [00:00<00:00,  6.83it/s]\u001b[A\u001b[A\n",
      "\n",
      " 50%|█████     | 2/4 [00:00<00:00,  6.49it/s]\u001b[A\u001b[A"
     ]
    },
    {
     "name": "stdout",
     "output_type": "stream",
     "text": [
      "tensor([[1.2986],\n",
      "        [1.2968],\n",
      "        [1.3270],\n",
      "        ...,\n",
      "        [0.2959],\n",
      "        [0.2815],\n",
      "        [0.2500]], grad_fn=<AddBackward0>)\n"
     ]
    },
    {
     "name": "stderr",
     "output_type": "stream",
     "text": [
      "\n",
      "\n",
      " 75%|███████▌  | 3/4 [00:00<00:00,  6.10it/s]\u001b[A\u001b[A"
     ]
    },
    {
     "name": "stdout",
     "output_type": "stream",
     "text": [
      "tensor([[0.6620],\n",
      "        [0.1990],\n",
      "        [0.4758],\n",
      "        ...,\n",
      "        [0.1209],\n",
      "        [0.2875],\n",
      "        [0.1477]], grad_fn=<AddBackward0>)\n"
     ]
    },
    {
     "name": "stderr",
     "output_type": "stream",
     "text": [
      "\n",
      "\n",
      "100%|██████████| 4/4 [00:00<00:00,  6.77it/s]\u001b[A\u001b[A\n",
      "\n",
      "  3%|▎         | 272/10000 [02:57<1:39:56,  1.62it/s]\u001b[A"
     ]
    },
    {
     "name": "stdout",
     "output_type": "stream",
     "text": [
      "tensor([[ 1.0368],\n",
      "        [ 1.0481],\n",
      "        [ 0.9640],\n",
      "        ...,\n",
      "        [-0.6581],\n",
      "        [-0.6332],\n",
      "        [-0.6323]], grad_fn=<AddBackward0>)\n",
      "[1 0 0 ... 1 1 0]\n",
      "[1 0 1 ... 1 0 0]\n",
      "[0 0 1 ... 0 0 0]\n",
      "[1 1 1 ... 1 1 0]\n"
     ]
    },
    {
     "name": "stderr",
     "output_type": "stream",
     "text": [
      "\n",
      "\n",
      "  0%|          | 0/4 [00:00<?, ?it/s]\u001b[A\u001b[A\n",
      "\n",
      " 25%|██▌       | 1/4 [00:00<00:00,  8.79it/s]\u001b[A\u001b[A\n",
      "\n",
      " 50%|█████     | 2/4 [00:00<00:00,  7.38it/s]\u001b[A\u001b[A"
     ]
    },
    {
     "name": "stdout",
     "output_type": "stream",
     "text": [
      "tensor([[ 1.2868],\n",
      "        [ 1.3520],\n",
      "        [ 1.3690],\n",
      "        ...,\n",
      "        [-1.1907],\n",
      "        [-1.1639],\n",
      "        [-1.1570]], grad_fn=<AddBackward0>)\n",
      "tensor([[ 0.0821],\n",
      "        [ 0.0796],\n",
      "        [ 0.1104],\n",
      "        ...,\n",
      "        [-0.3207],\n",
      "        [-0.3680],\n",
      "        [-0.3677]], grad_fn=<AddBackward0>)\n"
     ]
    },
    {
     "name": "stderr",
     "output_type": "stream",
     "text": [
      "\n",
      "\n",
      " 75%|███████▌  | 3/4 [00:00<00:00,  8.31it/s]\u001b[A\u001b[A\n",
      "\n",
      "100%|██████████| 4/4 [00:00<00:00,  8.30it/s]\u001b[A\u001b[A"
     ]
    },
    {
     "name": "stdout",
     "output_type": "stream",
     "text": [
      "tensor([[1.6743],\n",
      "        [1.6742],\n",
      "        [1.6927],\n",
      "        ...,\n",
      "        [0.9592],\n",
      "        [0.9642],\n",
      "        [0.7225]], grad_fn=<AddBackward0>)\n",
      "tensor([[ 0.1100],\n",
      "        [ 0.1080],\n",
      "        [ 0.0870],\n",
      "        ...,\n",
      "        [-1.0172],\n",
      "        [-0.9238],\n",
      "        [-0.9315]], grad_fn=<AddBackward0>)\n",
      "[1 0 0 ... 1 1 0]\n",
      "[1 0 1 ... 1 0 0]\n",
      "[0 0 1 ... 0 0 0]\n",
      "[1 1 1 ... 1 1 0]\n"
     ]
    },
    {
     "name": "stderr",
     "output_type": "stream",
     "text": [
      "\n",
      "\n",
      "  3%|▎         | 273/10000 [02:58<1:46:17,  1.53it/s]\u001b[A\n",
      "\n",
      "  0%|          | 0/4 [00:00<?, ?it/s]\u001b[A\u001b[A\n",
      "\n",
      " 50%|█████     | 2/4 [00:00<00:00, 12.24it/s]\u001b[A\u001b[A"
     ]
    },
    {
     "name": "stdout",
     "output_type": "stream",
     "text": [
      "tensor([[0.1956],\n",
      "        [0.2014],\n",
      "        [0.2106],\n",
      "        ...,\n",
      "        [0.0764],\n",
      "        [0.0256],\n",
      "        [0.0456]], grad_fn=<AddBackward0>)\n",
      "tensor([[-0.2533],\n",
      "        [-0.2441],\n",
      "        [-0.2244],\n",
      "        ...,\n",
      "        [-0.4838],\n",
      "        [-0.3962],\n",
      "        [-0.5370]], grad_fn=<AddBackward0>)\n"
     ]
    },
    {
     "name": "stderr",
     "output_type": "stream",
     "text": [
      "\n",
      "\n",
      "100%|██████████| 4/4 [00:00<00:00, 11.22it/s]\u001b[A\u001b[A\n",
      "\n",
      "  3%|▎         | 274/10000 [02:59<1:35:30,  1.70it/s]\u001b[A"
     ]
    },
    {
     "name": "stdout",
     "output_type": "stream",
     "text": [
      "tensor([[0.8895],\n",
      "        [0.7669],\n",
      "        [0.8462],\n",
      "        ...,\n",
      "        [0.7780],\n",
      "        [0.8270],\n",
      "        [0.8760]], grad_fn=<AddBackward0>)\n",
      "tensor([[2.2336],\n",
      "        [2.1888],\n",
      "        [2.0672],\n",
      "        ...,\n",
      "        [0.5770],\n",
      "        [0.5968],\n",
      "        [0.6038]], grad_fn=<AddBackward0>)\n",
      "[1 0 0 ... 1 1 0]\n",
      "[1 0 1 ... 1 0 0]\n",
      "[0 0 1 ... 0 0 0]\n",
      "[1 1 1 ... 1 1 0]\n"
     ]
    },
    {
     "name": "stderr",
     "output_type": "stream",
     "text": [
      "\n",
      "\n",
      "  0%|          | 0/4 [00:00<?, ?it/s]\u001b[A\u001b[A\n",
      "\n",
      " 25%|██▌       | 1/4 [00:00<00:00,  9.34it/s]\u001b[A\u001b[A\n",
      "\n",
      " 50%|█████     | 2/4 [00:00<00:00,  9.70it/s]\u001b[A\u001b[A"
     ]
    },
    {
     "name": "stdout",
     "output_type": "stream",
     "text": [
      "tensor([[0.0480],\n",
      "        [0.0474],\n",
      "        [0.0270],\n",
      "        ...,\n",
      "        [0.6514],\n",
      "        [0.6443],\n",
      "        [0.7403]], grad_fn=<AddBackward0>)\n",
      "tensor([[-1.7069],\n",
      "        [-1.6244],\n",
      "        [-1.8231],\n",
      "        ...,\n",
      "        [-0.0102],\n",
      "        [-0.1105],\n",
      "        [-0.1170]], grad_fn=<AddBackward0>)\n"
     ]
    },
    {
     "name": "stderr",
     "output_type": "stream",
     "text": [
      "\n",
      "\n",
      "100%|██████████| 4/4 [00:00<00:00,  9.89it/s]\u001b[A\u001b[A\n",
      "\n",
      "  3%|▎         | 275/10000 [02:59<1:30:00,  1.80it/s]\u001b[A"
     ]
    },
    {
     "name": "stdout",
     "output_type": "stream",
     "text": [
      "tensor([[0.4251],\n",
      "        [0.3830],\n",
      "        [0.3251],\n",
      "        ...,\n",
      "        [0.7690],\n",
      "        [0.4143],\n",
      "        [0.7367]], grad_fn=<AddBackward0>)\n",
      "tensor([[ 0.1957],\n",
      "        [ 0.0560],\n",
      "        [ 0.0978],\n",
      "        ...,\n",
      "        [-0.6216],\n",
      "        [-0.6172],\n",
      "        [-0.7917]], grad_fn=<AddBackward0>)\n",
      "[1 0 0 ... 1 1 0]\n",
      "[1 0 1 ... 1 0 0]\n",
      "[0 0 1 ... 0 0 0]\n",
      "[1 1 1 ... 1 1 0]\n"
     ]
    },
    {
     "name": "stderr",
     "output_type": "stream",
     "text": [
      "\n",
      "\n",
      "  0%|          | 0/4 [00:00<?, ?it/s]\u001b[A\u001b[A\n",
      "\n",
      " 25%|██▌       | 1/4 [00:00<00:00,  8.13it/s]\u001b[A\u001b[A\n",
      "\n",
      " 50%|█████     | 2/4 [00:00<00:00,  7.77it/s]\u001b[A\u001b[A"
     ]
    },
    {
     "name": "stdout",
     "output_type": "stream",
     "text": [
      "tensor([[-0.5728],\n",
      "        [-0.6131],\n",
      "        [-0.5688],\n",
      "        ...,\n",
      "        [ 0.4967],\n",
      "        [ 0.5902],\n",
      "        [ 0.6146]], grad_fn=<AddBackward0>)\n",
      "tensor([[-1.0422],\n",
      "        [-0.9889],\n",
      "        [-0.9908],\n",
      "        ...,\n",
      "        [ 0.2438],\n",
      "        [ 0.3337],\n",
      "        [ 0.2885]], grad_fn=<AddBackward0>)\n"
     ]
    },
    {
     "name": "stderr",
     "output_type": "stream",
     "text": [
      "\n",
      "\n",
      "100%|██████████| 4/4 [00:00<00:00,  8.51it/s]\u001b[A\u001b[A"
     ]
    },
    {
     "name": "stdout",
     "output_type": "stream",
     "text": [
      "tensor([[0.7018],\n",
      "        [0.4802],\n",
      "        [0.5589],\n",
      "        ...,\n",
      "        [0.0188],\n",
      "        [0.2055],\n",
      "        [0.0967]], grad_fn=<AddBackward0>)\n",
      "tensor([[-0.5283],\n",
      "        [-0.4706],\n",
      "        [-0.4507],\n",
      "        ...,\n",
      "        [-0.1998],\n",
      "        [-0.2600],\n",
      "        [-0.2900]], grad_fn=<AddBackward0>)\n",
      "[1 0 0 ... 1 1 0]\n",
      "[1 0 1 ... 1 0 0]\n",
      "[0 0 1 ... 0 0 0]\n",
      "[1 1 1 ... 1 1 0]\n"
     ]
    },
    {
     "name": "stderr",
     "output_type": "stream",
     "text": [
      "\n",
      "\n",
      "  3%|▎         | 276/10000 [03:00<1:35:18,  1.70it/s]\u001b[A\n",
      "\n",
      "  0%|          | 0/4 [00:00<?, ?it/s]\u001b[A\u001b[A\n",
      "\n",
      " 50%|█████     | 2/4 [00:00<00:00, 12.63it/s]\u001b[A\u001b[A"
     ]
    },
    {
     "name": "stdout",
     "output_type": "stream",
     "text": [
      "tensor([[-0.7149],\n",
      "        [-0.7062],\n",
      "        [-0.7164],\n",
      "        ...,\n",
      "        [-0.3033],\n",
      "        [-0.2031],\n",
      "        [-0.1753]], grad_fn=<AddBackward0>)\n",
      "tensor([[0.9583],\n",
      "        [0.8976],\n",
      "        [0.9246],\n",
      "        ...,\n",
      "        [0.6503],\n",
      "        [0.6681],\n",
      "        [0.7400]], grad_fn=<AddBackward0>)\n",
      "tensor([[0.3756],\n",
      "        [0.3563],\n",
      "        [0.3505],\n",
      "        ...,\n",
      "        [0.9025],\n",
      "        [1.5014],\n",
      "        [1.1612]], grad_fn=<AddBackward0>)\n"
     ]
    },
    {
     "name": "stderr",
     "output_type": "stream",
     "text": [
      "\n",
      "\n",
      "100%|██████████| 4/4 [00:00<00:00, 12.39it/s]\u001b[A\u001b[A\n",
      "\n",
      "  3%|▎         | 277/10000 [03:00<1:26:05,  1.88it/s]\u001b[A"
     ]
    },
    {
     "name": "stdout",
     "output_type": "stream",
     "text": [
      "tensor([[-1.1277],\n",
      "        [-1.1380],\n",
      "        [-1.1680],\n",
      "        ...,\n",
      "        [-0.8098],\n",
      "        [-0.5958],\n",
      "        [-0.8502]], grad_fn=<AddBackward0>)\n",
      "[1 0 0 ... 1 1 0]\n",
      "[1 0 1 ... 1 0 0]\n",
      "[0 0 1 ... 0 0 0]\n",
      "[1 1 1 ... 1 1 0]\n"
     ]
    },
    {
     "name": "stderr",
     "output_type": "stream",
     "text": [
      "\n",
      "\n",
      "  0%|          | 0/4 [00:00<?, ?it/s]\u001b[A\u001b[A\n",
      "\n",
      " 25%|██▌       | 1/4 [00:00<00:00,  9.06it/s]\u001b[A\u001b[A"
     ]
    },
    {
     "name": "stdout",
     "output_type": "stream",
     "text": [
      "tensor([[ 1.6315],\n",
      "        [ 1.6113],\n",
      "        [ 1.7487],\n",
      "        ...,\n",
      "        [-0.6538],\n",
      "        [-0.6956],\n",
      "        [-0.6685]], grad_fn=<AddBackward0>)\n"
     ]
    },
    {
     "name": "stderr",
     "output_type": "stream",
     "text": [
      "\n",
      "\n",
      " 50%|█████     | 2/4 [00:00<00:00,  9.12it/s]\u001b[A\u001b[A"
     ]
    },
    {
     "name": "stdout",
     "output_type": "stream",
     "text": [
      "tensor([[-0.8270],\n",
      "        [-0.6395],\n",
      "        [-0.5978],\n",
      "        ...,\n",
      "        [ 0.7837],\n",
      "        [ 0.7667],\n",
      "        [ 0.7103]], grad_fn=<AddBackward0>)\n",
      "tensor([[0.5471],\n",
      "        [0.6440],\n",
      "        [0.7042],\n",
      "        ...,\n",
      "        [0.7763],\n",
      "        [0.8786],\n",
      "        [0.9969]], grad_fn=<AddBackward0>)\n"
     ]
    },
    {
     "name": "stderr",
     "output_type": "stream",
     "text": [
      "\n",
      "\n",
      "100%|██████████| 4/4 [00:00<00:00, 10.53it/s]\u001b[A\u001b[A"
     ]
    },
    {
     "name": "stdout",
     "output_type": "stream",
     "text": [
      "tensor([[-2.6885],\n",
      "        [-2.5859],\n",
      "        [-2.7080],\n",
      "        ...,\n",
      "        [-0.8063],\n",
      "        [-0.6629],\n",
      "        [-0.7345]], grad_fn=<AddBackward0>)\n",
      "[1 0 0 ... 1 1 0]\n",
      "[1 0 1 ... 1 0 0]\n"
     ]
    },
    {
     "name": "stderr",
     "output_type": "stream",
     "text": [
      "\n",
      "\n",
      "  3%|▎         | 278/10000 [03:01<1:22:44,  1.96it/s]\u001b[A"
     ]
    },
    {
     "name": "stdout",
     "output_type": "stream",
     "text": [
      "[0 0 1 ... 0 0 0]\n",
      "[1 1 1 ... 1 1 0]\n"
     ]
    },
    {
     "name": "stderr",
     "output_type": "stream",
     "text": [
      "\n",
      "\n",
      "  0%|          | 0/4 [00:00<?, ?it/s]\u001b[A\u001b[A\n",
      "\n",
      " 25%|██▌       | 1/4 [00:00<00:00,  9.96it/s]\u001b[A\u001b[A"
     ]
    },
    {
     "name": "stdout",
     "output_type": "stream",
     "text": [
      "tensor([[1.3402],\n",
      "        [1.2799],\n",
      "        [1.3796],\n",
      "        ...,\n",
      "        [2.7400],\n",
      "        [2.6667],\n",
      "        [2.9630]], grad_fn=<AddBackward0>)\n"
     ]
    },
    {
     "name": "stderr",
     "output_type": "stream",
     "text": [
      "\n",
      "\n",
      " 50%|█████     | 2/4 [00:00<00:00,  9.40it/s]\u001b[A\u001b[A"
     ]
    },
    {
     "name": "stdout",
     "output_type": "stream",
     "text": [
      "tensor([[-0.8270],\n",
      "        [-0.7231],\n",
      "        [-0.6516],\n",
      "        ...,\n",
      "        [ 0.8837],\n",
      "        [ 0.9196],\n",
      "        [ 0.9311]], grad_fn=<AddBackward0>)\n"
     ]
    },
    {
     "name": "stderr",
     "output_type": "stream",
     "text": [
      "\n",
      "\n",
      "100%|██████████| 4/4 [00:00<00:00, 10.23it/s]\u001b[A\u001b[A"
     ]
    },
    {
     "name": "stdout",
     "output_type": "stream",
     "text": [
      "tensor([[1.2598],\n",
      "        [1.3044],\n",
      "        [1.1363],\n",
      "        ...,\n",
      "        [1.5880],\n",
      "        [1.6275],\n",
      "        [1.6186]], grad_fn=<AddBackward0>)\n",
      "tensor([[-1.7474],\n",
      "        [-1.7809],\n",
      "        [-1.7667],\n",
      "        ...,\n",
      "        [-0.5953],\n",
      "        [-0.7610],\n",
      "        [-0.6316]], grad_fn=<AddBackward0>)\n",
      "[1 0 0 ... 1 1 0]\n",
      "[1 0 1 ... 1 0 0]\n"
     ]
    },
    {
     "name": "stderr",
     "output_type": "stream",
     "text": [
      "\n",
      "\n",
      "  3%|▎         | 279/10000 [03:01<1:30:33,  1.79it/s]\u001b[A"
     ]
    },
    {
     "name": "stdout",
     "output_type": "stream",
     "text": [
      "[0 0 1 ... 0 0 0]\n",
      "[1 1 1 ... 1 1 0]\n"
     ]
    },
    {
     "name": "stderr",
     "output_type": "stream",
     "text": [
      "\n",
      "\n",
      "  0%|          | 0/4 [00:00<?, ?it/s]\u001b[A\u001b[A\n",
      "\n",
      " 25%|██▌       | 1/4 [00:00<00:00,  7.74it/s]\u001b[A\u001b[A"
     ]
    },
    {
     "name": "stdout",
     "output_type": "stream",
     "text": [
      "tensor([[ 1.4980],\n",
      "        [ 1.5314],\n",
      "        [ 1.5307],\n",
      "        ...,\n",
      "        [-0.4717],\n",
      "        [-0.4527],\n",
      "        [-0.5163]], grad_fn=<AddBackward0>)\n"
     ]
    },
    {
     "name": "stderr",
     "output_type": "stream",
     "text": [
      "\n",
      "\n",
      " 50%|█████     | 2/4 [00:00<00:00,  8.25it/s]\u001b[A\u001b[A"
     ]
    },
    {
     "name": "stdout",
     "output_type": "stream",
     "text": [
      "tensor([[ 0.2576],\n",
      "        [ 0.2290],\n",
      "        [ 0.1935],\n",
      "        ...,\n",
      "        [-0.5681],\n",
      "        [-0.5672],\n",
      "        [-0.5678]], grad_fn=<AddBackward0>)\n"
     ]
    },
    {
     "name": "stderr",
     "output_type": "stream",
     "text": [
      "\n",
      "\n",
      "100%|██████████| 4/4 [00:00<00:00,  9.39it/s]\u001b[A\u001b[A"
     ]
    },
    {
     "name": "stdout",
     "output_type": "stream",
     "text": [
      "tensor([[-0.0754],\n",
      "        [ 0.3284],\n",
      "        [ 0.2465],\n",
      "        ...,\n",
      "        [-0.6028],\n",
      "        [-0.6521],\n",
      "        [-0.6117]], grad_fn=<AddBackward0>)\n",
      "tensor([[ 0.3900],\n",
      "        [ 0.3956],\n",
      "        [ 0.4574],\n",
      "        ...,\n",
      "        [-1.4415],\n",
      "        [-1.5198],\n",
      "        [-1.4397]], grad_fn=<AddBackward0>)\n",
      "[1 0 0 ... 1 1 0]\n",
      "[1 0 1 ... 1 0 0]\n"
     ]
    },
    {
     "name": "stderr",
     "output_type": "stream",
     "text": [
      "\n",
      "\n",
      "  3%|▎         | 280/10000 [03:02<1:27:56,  1.84it/s]\u001b[A"
     ]
    },
    {
     "name": "stdout",
     "output_type": "stream",
     "text": [
      "[0 0 1 ... 0 0 0]\n",
      "[1 1 1 ... 1 1 0]\n"
     ]
    },
    {
     "name": "stderr",
     "output_type": "stream",
     "text": [
      "\n",
      "\n",
      "  0%|          | 0/4 [00:00<?, ?it/s]\u001b[A\u001b[A\n",
      "\n",
      " 25%|██▌       | 1/4 [00:00<00:00,  8.70it/s]\u001b[A\u001b[A"
     ]
    },
    {
     "name": "stdout",
     "output_type": "stream",
     "text": [
      "tensor([[2.7583],\n",
      "        [2.7037],\n",
      "        [2.6861],\n",
      "        ...,\n",
      "        [1.6903],\n",
      "        [1.6999],\n",
      "        [1.7121]], grad_fn=<AddBackward0>)\n"
     ]
    },
    {
     "name": "stderr",
     "output_type": "stream",
     "text": [
      "\n",
      "\n",
      " 50%|█████     | 2/4 [00:00<00:00,  8.65it/s]\u001b[A\u001b[A"
     ]
    },
    {
     "name": "stdout",
     "output_type": "stream",
     "text": [
      "tensor([[-1.2317],\n",
      "        [-1.0117],\n",
      "        [-1.0701],\n",
      "        ...,\n",
      "        [ 1.4371],\n",
      "        [ 1.0996],\n",
      "        [ 1.1079]], grad_fn=<AddBackward0>)\n"
     ]
    },
    {
     "name": "stderr",
     "output_type": "stream",
     "text": [
      "\n",
      "\n",
      "100%|██████████| 4/4 [00:00<00:00,  9.37it/s]\u001b[A\u001b[A"
     ]
    },
    {
     "name": "stdout",
     "output_type": "stream",
     "text": [
      "tensor([[ 0.0993],\n",
      "        [ 0.1968],\n",
      "        [ 0.1988],\n",
      "        ...,\n",
      "        [-0.3658],\n",
      "        [-0.3683],\n",
      "        [-0.4104]], grad_fn=<AddBackward0>)\n",
      "tensor([[ 0.9094],\n",
      "        [ 0.9967],\n",
      "        [ 0.9915],\n",
      "        ...,\n",
      "        [-0.6426],\n",
      "        [-0.6232],\n",
      "        [-0.6178]], grad_fn=<AddBackward0>)\n"
     ]
    },
    {
     "name": "stderr",
     "output_type": "stream",
     "text": [
      "\n",
      "\n",
      "  3%|▎         | 281/10000 [03:02<1:26:15,  1.88it/s]\u001b[A"
     ]
    },
    {
     "name": "stdout",
     "output_type": "stream",
     "text": [
      "[1 0 0 ... 1 1 0]\n",
      "[1 0 1 ... 1 0 0]\n",
      "[0 0 1 ... 0 0 0]\n",
      "[1 1 1 ... 1 1 0]\n"
     ]
    },
    {
     "name": "stderr",
     "output_type": "stream",
     "text": [
      "\n",
      "\n",
      "  0%|          | 0/4 [00:00<?, ?it/s]\u001b[A\u001b[A\n",
      "\n",
      " 25%|██▌       | 1/4 [00:00<00:00,  7.82it/s]\u001b[A\u001b[A\n",
      "\n",
      " 50%|█████     | 2/4 [00:00<00:00,  8.87it/s]\u001b[A\u001b[A"
     ]
    },
    {
     "name": "stdout",
     "output_type": "stream",
     "text": [
      "tensor([[ 2.6380e+00],\n",
      "        [ 2.6069e+00],\n",
      "        [ 2.6090e+00],\n",
      "        ...,\n",
      "        [-1.5509e-03],\n",
      "        [-1.6428e-02],\n",
      "        [ 1.2832e-02]], grad_fn=<AddBackward0>)\n",
      "tensor([[-0.9841],\n",
      "        [-0.9920],\n",
      "        [-1.0457],\n",
      "        ...,\n",
      "        [ 0.7913],\n",
      "        [ 0.7727],\n",
      "        [ 0.6315]], grad_fn=<AddBackward0>)\n"
     ]
    },
    {
     "name": "stderr",
     "output_type": "stream",
     "text": [
      "\n",
      "\n",
      "100%|██████████| 4/4 [00:00<00:00,  9.21it/s]\u001b[A\u001b[A"
     ]
    },
    {
     "name": "stdout",
     "output_type": "stream",
     "text": [
      "tensor([[ 0.6446],\n",
      "        [ 0.4840],\n",
      "        [ 0.6132],\n",
      "        ...,\n",
      "        [-1.9921],\n",
      "        [-1.8159],\n",
      "        [-2.2537]], grad_fn=<AddBackward0>)\n",
      "tensor([[0.9199],\n",
      "        [1.0487],\n",
      "        [0.9907],\n",
      "        ...,\n",
      "        [0.1024],\n",
      "        [0.2047],\n",
      "        [0.1820]], grad_fn=<AddBackward0>)\n",
      "[1 0 0 ... 1 1 0]\n",
      "[1 0 1 ... 1 0 0]\n"
     ]
    },
    {
     "name": "stderr",
     "output_type": "stream",
     "text": [
      "\n",
      "\n",
      "  3%|▎         | 282/10000 [03:03<1:31:59,  1.76it/s]\u001b[A"
     ]
    },
    {
     "name": "stdout",
     "output_type": "stream",
     "text": [
      "[0 0 1 ... 0 0 0]\n",
      "[1 1 1 ... 1 1 0]\n"
     ]
    },
    {
     "name": "stderr",
     "output_type": "stream",
     "text": [
      "\n",
      "\n",
      "  0%|          | 0/4 [00:00<?, ?it/s]\u001b[A\u001b[A\n",
      "\n",
      " 25%|██▌       | 1/4 [00:00<00:00,  8.75it/s]\u001b[A\u001b[A"
     ]
    },
    {
     "name": "stdout",
     "output_type": "stream",
     "text": [
      "tensor([[ 1.2089],\n",
      "        [ 1.3368],\n",
      "        [ 1.2885],\n",
      "        ...,\n",
      "        [-1.5548],\n",
      "        [-1.5275],\n",
      "        [-1.5510]], grad_fn=<AddBackward0>)\n"
     ]
    },
    {
     "name": "stderr",
     "output_type": "stream",
     "text": [
      "\n",
      "\n",
      " 50%|█████     | 2/4 [00:00<00:00,  8.86it/s]\u001b[A\u001b[A"
     ]
    },
    {
     "name": "stdout",
     "output_type": "stream",
     "text": [
      "tensor([[0.9787],\n",
      "        [0.9238],\n",
      "        [0.8981],\n",
      "        ...,\n",
      "        [0.9939],\n",
      "        [1.1955],\n",
      "        [1.0046]], grad_fn=<AddBackward0>)\n"
     ]
    },
    {
     "name": "stderr",
     "output_type": "stream",
     "text": [
      "\n",
      "\n",
      " 75%|███████▌  | 3/4 [00:00<00:00,  7.82it/s]\u001b[A\u001b[A"
     ]
    },
    {
     "name": "stdout",
     "output_type": "stream",
     "text": [
      "tensor([[-0.2816],\n",
      "        [-0.4399],\n",
      "        [-0.2942],\n",
      "        ...,\n",
      "        [ 1.2561],\n",
      "        [ 1.4193],\n",
      "        [ 1.1700]], grad_fn=<AddBackward0>)\n"
     ]
    },
    {
     "name": "stderr",
     "output_type": "stream",
     "text": [
      "100%|██████████| 4/4 [00:00<00:00,  8.66it/s]\n",
      "\n",
      "  3%|▎         | 283/10000 [03:03<1:30:49,  1.78it/s]\u001b[A"
     ]
    },
    {
     "name": "stdout",
     "output_type": "stream",
     "text": [
      "tensor([[-1.2213],\n",
      "        [-1.2870],\n",
      "        [-1.2794],\n",
      "        ...,\n",
      "        [-0.7012],\n",
      "        [-0.7024],\n",
      "        [-0.6922]], grad_fn=<AddBackward0>)\n",
      "[1 0 0 ... 1 1 0]\n",
      "[1 0 1 ... 1 0 0]\n",
      "[0 0 1 ... 0 0 0]\n",
      "[1 1 1 ... 1 1 0]\n"
     ]
    },
    {
     "name": "stderr",
     "output_type": "stream",
     "text": [
      "\n",
      "\n",
      "  0%|          | 0/4 [00:00<?, ?it/s]\u001b[A\u001b[A\n",
      "\n",
      " 25%|██▌       | 1/4 [00:00<00:00,  8.25it/s]\u001b[A\u001b[A\n",
      "\n",
      " 50%|█████     | 2/4 [00:00<00:00,  7.81it/s]\u001b[A\u001b[A"
     ]
    },
    {
     "name": "stdout",
     "output_type": "stream",
     "text": [
      "tensor([[-0.6294],\n",
      "        [-0.5563],\n",
      "        [-0.6137],\n",
      "        ...,\n",
      "        [ 0.5060],\n",
      "        [ 0.3463],\n",
      "        [ 0.5178]], grad_fn=<AddBackward0>)\n",
      "tensor([[ 0.4003],\n",
      "        [-0.0260],\n",
      "        [ 0.2900],\n",
      "        ...,\n",
      "        [ 1.4607],\n",
      "        [ 1.1813],\n",
      "        [ 1.4288]], grad_fn=<AddBackward0>)\n"
     ]
    },
    {
     "name": "stderr",
     "output_type": "stream",
     "text": [
      "\n",
      "\n",
      "100%|██████████| 4/4 [00:00<00:00,  8.68it/s]\u001b[A\u001b[A\n",
      "\n",
      "  3%|▎         | 284/10000 [03:04<1:29:54,  1.80it/s]\u001b[A"
     ]
    },
    {
     "name": "stdout",
     "output_type": "stream",
     "text": [
      "tensor([[ 1.2111],\n",
      "        [ 1.2161],\n",
      "        [ 1.3154],\n",
      "        ...,\n",
      "        [-0.4066],\n",
      "        [-0.3583],\n",
      "        [-0.3721]], grad_fn=<AddBackward0>)\n",
      "tensor([[0.0844],\n",
      "        [0.2939],\n",
      "        [0.1116],\n",
      "        ...,\n",
      "        [2.5727],\n",
      "        [3.2625],\n",
      "        [3.0332]], grad_fn=<AddBackward0>)\n",
      "[1 0 0 ... 1 1 0]\n",
      "[1 0 1 ... 1 0 0]\n",
      "[0 0 1 ... 0 0 0]\n",
      "[1 1 1 ... 1 1 0]\n"
     ]
    },
    {
     "name": "stderr",
     "output_type": "stream",
     "text": [
      "\n",
      "\n",
      "  0%|          | 0/4 [00:00<?, ?it/s]\u001b[A\u001b[A\n",
      "\n",
      " 25%|██▌       | 1/4 [00:00<00:00,  9.42it/s]\u001b[A\u001b[A\n",
      "\n",
      " 50%|█████     | 2/4 [00:00<00:00,  9.40it/s]\u001b[A\u001b[A"
     ]
    },
    {
     "name": "stdout",
     "output_type": "stream",
     "text": [
      "tensor([[ 2.0845],\n",
      "        [ 2.4950],\n",
      "        [ 2.6575],\n",
      "        ...,\n",
      "        [-0.8470],\n",
      "        [-0.8540],\n",
      "        [-0.8404]], grad_fn=<AddBackward0>)\n",
      "tensor([[-0.2503],\n",
      "        [-0.2523],\n",
      "        [-0.2318],\n",
      "        ...,\n",
      "        [-0.2349],\n",
      "        [-0.2353],\n",
      "        [-0.2160]], grad_fn=<AddBackward0>)\n"
     ]
    },
    {
     "name": "stderr",
     "output_type": "stream",
     "text": [
      "\n",
      "\n",
      "100%|██████████| 4/4 [00:00<00:00,  9.28it/s]\u001b[A\u001b[A"
     ]
    },
    {
     "name": "stdout",
     "output_type": "stream",
     "text": [
      "tensor([[2.7557],\n",
      "        [2.7859],\n",
      "        [2.7122],\n",
      "        ...,\n",
      "        [1.0523],\n",
      "        [1.0213],\n",
      "        [1.0335]], grad_fn=<AddBackward0>)\n",
      "tensor([[-0.4226],\n",
      "        [-0.2804],\n",
      "        [-0.5182],\n",
      "        ...,\n",
      "        [-0.3020],\n",
      "        [-0.3602],\n",
      "        [-0.2338]], grad_fn=<AddBackward0>)\n",
      "[1 0 0 ... 1 1 0]\n",
      "[1 0 1 ... 1 0 0]\n"
     ]
    },
    {
     "name": "stderr",
     "output_type": "stream",
     "text": [
      "\n",
      "\n",
      "  3%|▎         | 285/10000 [03:05<1:34:20,  1.72it/s]\u001b[A"
     ]
    },
    {
     "name": "stdout",
     "output_type": "stream",
     "text": [
      "[0 0 1 ... 0 0 0]\n",
      "[1 1 1 ... 1 1 0]\n"
     ]
    },
    {
     "name": "stderr",
     "output_type": "stream",
     "text": [
      "\n",
      "\n",
      "  0%|          | 0/4 [00:00<?, ?it/s]\u001b[A\u001b[A\n",
      "\n",
      " 25%|██▌       | 1/4 [00:00<00:00,  9.53it/s]\u001b[A\u001b[A"
     ]
    },
    {
     "name": "stdout",
     "output_type": "stream",
     "text": [
      "tensor([[-1.3034],\n",
      "        [-1.3439],\n",
      "        [-1.3023],\n",
      "        ...,\n",
      "        [ 0.4224],\n",
      "        [ 0.2951],\n",
      "        [ 0.2775]], grad_fn=<AddBackward0>)\n"
     ]
    },
    {
     "name": "stderr",
     "output_type": "stream",
     "text": [
      "\n",
      "\n",
      " 50%|█████     | 2/4 [00:00<00:00,  9.27it/s]\u001b[A\u001b[A"
     ]
    },
    {
     "name": "stdout",
     "output_type": "stream",
     "text": [
      "tensor([[ 1.5764],\n",
      "        [ 1.5746],\n",
      "        [ 1.5497],\n",
      "        ...,\n",
      "        [ 0.1031],\n",
      "        [ 0.0246],\n",
      "        [-0.0357]], grad_fn=<AddBackward0>)\n",
      "tensor([[-0.3166],\n",
      "        [-0.1402],\n",
      "        [-0.2152],\n",
      "        ...,\n",
      "        [-1.8075],\n",
      "        [-2.2702],\n",
      "        [-1.7758]], grad_fn=<AddBackward0>)\n"
     ]
    },
    {
     "name": "stderr",
     "output_type": "stream",
     "text": [
      "\n",
      "\n",
      "100%|██████████| 4/4 [00:00<00:00, 10.36it/s]\u001b[A\u001b[A"
     ]
    },
    {
     "name": "stdout",
     "output_type": "stream",
     "text": [
      "tensor([[-1.5146],\n",
      "        [-1.5081],\n",
      "        [-1.4948],\n",
      "        ...,\n",
      "        [ 0.1955],\n",
      "        [ 0.1932],\n",
      "        [ 0.1856]], grad_fn=<AddBackward0>)\n",
      "[1 0 0 ... 1 1 0]\n",
      "[1 0 1 ... 1 0 0]\n"
     ]
    },
    {
     "name": "stderr",
     "output_type": "stream",
     "text": [
      "\n",
      "\n",
      "  3%|▎         | 286/10000 [03:05<1:29:20,  1.81it/s]\u001b[A"
     ]
    },
    {
     "name": "stdout",
     "output_type": "stream",
     "text": [
      "[0 0 1 ... 0 0 0]\n",
      "[1 1 1 ... 1 1 0]\n"
     ]
    },
    {
     "name": "stderr",
     "output_type": "stream",
     "text": [
      "\n",
      "\n",
      "  0%|          | 0/4 [00:00<?, ?it/s]\u001b[A\u001b[A\n",
      "\n",
      " 25%|██▌       | 1/4 [00:00<00:00,  6.82it/s]\u001b[A\u001b[A"
     ]
    },
    {
     "name": "stdout",
     "output_type": "stream",
     "text": [
      "tensor([[ 0.0064],\n",
      "        [ 0.0186],\n",
      "        [ 0.0400],\n",
      "        ...,\n",
      "        [-0.1364],\n",
      "        [-0.1447],\n",
      "        [-0.1207]], grad_fn=<AddBackward0>)\n",
      "tensor([[1.0604],\n",
      "        [1.0476],\n",
      "        [1.0618],\n",
      "        ...,\n",
      "        [2.0288],\n",
      "        [2.5296],\n",
      "        [2.4744]], grad_fn=<AddBackward0>)\n",
      "tensor([[1.8782],\n",
      "        [1.9059],\n",
      "        [1.9035],\n",
      "        ...,\n",
      "        [1.2980],\n",
      "        [1.2862],\n",
      "        [1.2759]], grad_fn=<AddBackward0>)\n"
     ]
    },
    {
     "name": "stderr",
     "output_type": "stream",
     "text": [
      "\n",
      "\n",
      "100%|██████████| 4/4 [00:00<00:00,  9.49it/s]\u001b[A\u001b[A"
     ]
    },
    {
     "name": "stdout",
     "output_type": "stream",
     "text": [
      "tensor([[0.8306],\n",
      "        [0.7693],\n",
      "        [0.7778],\n",
      "        ...,\n",
      "        [3.2225],\n",
      "        [3.2589],\n",
      "        [3.1812]], grad_fn=<AddBackward0>)\n",
      "[1 0 0 ... 1 1 0]\n",
      "[1 0 1 ... 1 0 0]\n"
     ]
    },
    {
     "name": "stderr",
     "output_type": "stream",
     "text": [
      "\n",
      "\n",
      "  3%|▎         | 287/10000 [03:06<1:26:52,  1.86it/s]\u001b[A"
     ]
    },
    {
     "name": "stdout",
     "output_type": "stream",
     "text": [
      "[0 0 1 ... 0 0 0]\n",
      "[1 1 1 ... 1 1 0]\n"
     ]
    },
    {
     "name": "stderr",
     "output_type": "stream",
     "text": [
      "\n",
      "\n",
      "  0%|          | 0/4 [00:00<?, ?it/s]\u001b[A\u001b[A\n",
      "\n",
      " 25%|██▌       | 1/4 [00:00<00:00,  8.81it/s]\u001b[A\u001b[A"
     ]
    },
    {
     "name": "stdout",
     "output_type": "stream",
     "text": [
      "tensor([[-1.3437],\n",
      "        [-1.4559],\n",
      "        [-1.2698],\n",
      "        ...,\n",
      "        [-0.2560],\n",
      "        [-0.0663],\n",
      "        [-0.0316]], grad_fn=<AddBackward0>)\n"
     ]
    },
    {
     "name": "stderr",
     "output_type": "stream",
     "text": [
      "\n",
      "\n",
      " 50%|█████     | 2/4 [00:00<00:00,  9.21it/s]\u001b[A\u001b[A"
     ]
    },
    {
     "name": "stdout",
     "output_type": "stream",
     "text": [
      "tensor([[-0.1892],\n",
      "        [-0.3385],\n",
      "        [-0.2891],\n",
      "        ...,\n",
      "        [ 2.2823],\n",
      "        [ 2.2290],\n",
      "        [ 2.8099]], grad_fn=<AddBackward0>)\n",
      "tensor([[0.3915],\n",
      "        [0.3615],\n",
      "        [0.3546],\n",
      "        ...,\n",
      "        [1.8692],\n",
      "        [1.8403],\n",
      "        [1.8867]], grad_fn=<AddBackward0>)\n"
     ]
    },
    {
     "name": "stderr",
     "output_type": "stream",
     "text": [
      "\n",
      "\n",
      "100%|██████████| 4/4 [00:00<00:00, 10.15it/s]\u001b[A\u001b[A"
     ]
    },
    {
     "name": "stdout",
     "output_type": "stream",
     "text": [
      "tensor([[-0.3646],\n",
      "        [-0.3729],\n",
      "        [-0.3681],\n",
      "        ...,\n",
      "        [ 0.4821],\n",
      "        [ 0.4189],\n",
      "        [ 0.4159]], grad_fn=<AddBackward0>)\n",
      "[1 0 0 ... 1 1 0]\n",
      "[1 0 1 ... 1 0 0]\n"
     ]
    },
    {
     "name": "stderr",
     "output_type": "stream",
     "text": [
      "\n"
     ]
    },
    {
     "name": "stdout",
     "output_type": "stream",
     "text": [
      "[0 0 1 ... 0 0 0]\n",
      "[1 1 1 ... 1 1 0]\n"
     ]
    },
    {
     "name": "stderr",
     "output_type": "stream",
     "text": [
      "\n",
      "  3%|▎         | 288/10000 [03:06<1:30:32,  1.79it/s]\u001b[A\n",
      "\n",
      "  0%|          | 0/4 [00:00<?, ?it/s]\u001b[A\u001b[A\n",
      "\n",
      " 25%|██▌       | 1/4 [00:00<00:00,  8.84it/s]\u001b[A\u001b[A"
     ]
    },
    {
     "name": "stdout",
     "output_type": "stream",
     "text": [
      "tensor([[-0.6025],\n",
      "        [-0.5592],\n",
      "        [-0.5293],\n",
      "        ...,\n",
      "        [ 0.0317],\n",
      "        [ 0.1555],\n",
      "        [ 0.0525]], grad_fn=<AddBackward0>)\n"
     ]
    },
    {
     "name": "stderr",
     "output_type": "stream",
     "text": [
      "\n",
      "\n",
      " 50%|█████     | 2/4 [00:00<00:00,  8.61it/s]\u001b[A\u001b[A"
     ]
    },
    {
     "name": "stdout",
     "output_type": "stream",
     "text": [
      "tensor([[ 1.1408],\n",
      "        [ 0.9333],\n",
      "        [ 0.9821],\n",
      "        ...,\n",
      "        [-0.7177],\n",
      "        [-0.6847],\n",
      "        [-0.7347]], grad_fn=<AddBackward0>)\n"
     ]
    },
    {
     "name": "stderr",
     "output_type": "stream",
     "text": [
      "\n",
      "\n",
      "100%|██████████| 4/4 [00:00<00:00,  9.70it/s]\u001b[A\u001b[A"
     ]
    },
    {
     "name": "stdout",
     "output_type": "stream",
     "text": [
      "tensor([[-0.7387],\n",
      "        [-0.6316],\n",
      "        [-0.6302],\n",
      "        ...,\n",
      "        [ 0.4020],\n",
      "        [ 0.4448],\n",
      "        [ 0.4136]], grad_fn=<AddBackward0>)\n",
      "tensor([[ 0.4793],\n",
      "        [ 0.5636],\n",
      "        [ 0.5760],\n",
      "        ...,\n",
      "        [-0.7121],\n",
      "        [-0.6761],\n",
      "        [-0.6904]], grad_fn=<AddBackward0>)\n",
      "[1 0 0 ... 1 1 0]\n",
      "[1 0 1 ... 1 0 0]\n"
     ]
    },
    {
     "name": "stderr",
     "output_type": "stream",
     "text": [
      "\n",
      "\n",
      "  3%|▎         | 289/10000 [03:07<1:26:48,  1.86it/s]\u001b[A"
     ]
    },
    {
     "name": "stdout",
     "output_type": "stream",
     "text": [
      "[0 0 1 ... 0 0 0]\n",
      "[1 1 1 ... 1 1 0]\n"
     ]
    },
    {
     "name": "stderr",
     "output_type": "stream",
     "text": [
      "\n",
      "\n",
      "  0%|          | 0/4 [00:00<?, ?it/s]\u001b[A\u001b[A"
     ]
    },
    {
     "name": "stdout",
     "output_type": "stream",
     "text": [
      "tensor([[-2.0939],\n",
      "        [-2.0856],\n",
      "        [-1.7490],\n",
      "        ...,\n",
      "        [ 0.1036],\n",
      "        [ 0.0120],\n",
      "        [-0.0344]], grad_fn=<AddBackward0>)\n"
     ]
    },
    {
     "name": "stderr",
     "output_type": "stream",
     "text": [
      "\n",
      "\n",
      " 50%|█████     | 2/4 [00:00<00:00,  9.83it/s]\u001b[A\u001b[A"
     ]
    },
    {
     "name": "stdout",
     "output_type": "stream",
     "text": [
      "tensor([[ 0.0273],\n",
      "        [ 0.0351],\n",
      "        [-0.0495],\n",
      "        ...,\n",
      "        [ 1.6248],\n",
      "        [ 1.4385],\n",
      "        [ 1.7690]], grad_fn=<AddBackward0>)\n"
     ]
    },
    {
     "name": "stderr",
     "output_type": "stream",
     "text": [
      "\n",
      "\n",
      "100%|██████████| 4/4 [00:00<00:00, 10.38it/s]\u001b[A\u001b[A"
     ]
    },
    {
     "name": "stdout",
     "output_type": "stream",
     "text": [
      "tensor([[-1.1945],\n",
      "        [-0.9868],\n",
      "        [-1.0437],\n",
      "        ...,\n",
      "        [-1.6997],\n",
      "        [-1.6893],\n",
      "        [-1.6315]], grad_fn=<AddBackward0>)\n",
      "tensor([[-0.9217],\n",
      "        [-0.3437],\n",
      "        [-0.6040],\n",
      "        ...,\n",
      "        [ 0.1876],\n",
      "        [ 0.1910],\n",
      "        [ 0.1938]], grad_fn=<AddBackward0>)\n",
      "[1 0 0 ... 1 1 0]\n",
      "[1 0 1 ... 1 0 0]\n"
     ]
    },
    {
     "name": "stderr",
     "output_type": "stream",
     "text": [
      "\n",
      "\n",
      "  3%|▎         | 290/10000 [03:07<1:22:50,  1.95it/s]\u001b[A"
     ]
    },
    {
     "name": "stdout",
     "output_type": "stream",
     "text": [
      "[0 0 1 ... 0 0 0]\n",
      "[1 1 1 ... 1 1 0]\n"
     ]
    },
    {
     "name": "stderr",
     "output_type": "stream",
     "text": [
      "\n",
      "\n",
      "  0%|          | 0/4 [00:00<?, ?it/s]\u001b[A\u001b[A\n",
      "\n",
      " 25%|██▌       | 1/4 [00:00<00:00,  8.90it/s]\u001b[A\u001b[A"
     ]
    },
    {
     "name": "stdout",
     "output_type": "stream",
     "text": [
      "tensor([[-1.7652],\n",
      "        [-1.8625],\n",
      "        [-1.7655],\n",
      "        ...,\n",
      "        [-0.2390],\n",
      "        [-0.2205],\n",
      "        [-0.1492]], grad_fn=<AddBackward0>)\n",
      "tensor([[1.6637],\n",
      "        [1.6683],\n",
      "        [1.4438],\n",
      "        ...,\n",
      "        [0.6539],\n",
      "        [0.7125],\n",
      "        [0.7306]], grad_fn=<AddBackward0>)\n"
     ]
    },
    {
     "name": "stderr",
     "output_type": "stream",
     "text": [
      "\n",
      "\n",
      "100%|██████████| 4/4 [00:00<00:00, 10.02it/s]\u001b[A\u001b[A"
     ]
    },
    {
     "name": "stdout",
     "output_type": "stream",
     "text": [
      "tensor([[-0.4816],\n",
      "        [-0.4615],\n",
      "        [-0.4179],\n",
      "        ...,\n",
      "        [-1.6281],\n",
      "        [-1.6018],\n",
      "        [-1.6317]], grad_fn=<AddBackward0>)\n",
      "tensor([[-1.7511],\n",
      "        [-1.7549],\n",
      "        [-1.6845],\n",
      "        ...,\n",
      "        [ 2.9213],\n",
      "        [ 3.2087],\n",
      "        [ 3.2780]], grad_fn=<AddBackward0>)\n",
      "[1 0 0 ... 1 1 0]\n",
      "[1 0 1 ... 1 0 0]\n"
     ]
    },
    {
     "name": "stderr",
     "output_type": "stream",
     "text": [
      "\n",
      "\n"
     ]
    },
    {
     "name": "stdout",
     "output_type": "stream",
     "text": [
      "[0 0 1 ... 0 0 0]\n",
      "[1 1 1 ... 1 1 0]\n"
     ]
    },
    {
     "name": "stderr",
     "output_type": "stream",
     "text": [
      "  3%|▎         | 291/10000 [03:08<1:27:31,  1.85it/s]\u001b[A\n",
      "\n",
      "  0%|          | 0/4 [00:00<?, ?it/s]\u001b[A\u001b[A"
     ]
    },
    {
     "name": "stdout",
     "output_type": "stream",
     "text": [
      "tensor([[0.1717],\n",
      "        [0.2064],\n",
      "        [0.1820],\n",
      "        ...,\n",
      "        [0.6078],\n",
      "        [0.6250],\n",
      "        [0.7306]], grad_fn=<AddBackward0>)\n"
     ]
    },
    {
     "name": "stderr",
     "output_type": "stream",
     "text": [
      "\n",
      "\n",
      " 50%|█████     | 2/4 [00:00<00:00,  9.11it/s]\u001b[A\u001b[A"
     ]
    },
    {
     "name": "stdout",
     "output_type": "stream",
     "text": [
      "tensor([[-0.5911],\n",
      "        [-0.5801],\n",
      "        [-0.6196],\n",
      "        ...,\n",
      "        [ 0.8037],\n",
      "        [ 0.9224],\n",
      "        [ 0.9118]], grad_fn=<AddBackward0>)\n"
     ]
    },
    {
     "name": "stderr",
     "output_type": "stream",
     "text": [
      "\n",
      "\n",
      "100%|██████████| 4/4 [00:00<00:00,  9.85it/s]\u001b[A\u001b[A"
     ]
    },
    {
     "name": "stdout",
     "output_type": "stream",
     "text": [
      "tensor([[0.4710],\n",
      "        [0.4779],\n",
      "        [0.3991],\n",
      "        ...,\n",
      "        [1.9136],\n",
      "        [1.9125],\n",
      "        [1.8845]], grad_fn=<AddBackward0>)\n",
      "tensor([[-1.5970],\n",
      "        [-1.5259],\n",
      "        [-1.5371],\n",
      "        ...,\n",
      "        [-0.9555],\n",
      "        [-0.8936],\n",
      "        [-0.8744]], grad_fn=<AddBackward0>)\n",
      "[1 0 0 ... 1 1 0]\n",
      "[1 0 1 ... 1 0 0]\n"
     ]
    },
    {
     "name": "stderr",
     "output_type": "stream",
     "text": [
      "\n",
      "\n",
      "  3%|▎         | 292/10000 [03:08<1:25:20,  1.90it/s]\u001b[A"
     ]
    },
    {
     "name": "stdout",
     "output_type": "stream",
     "text": [
      "[0 0 1 ... 0 0 0]\n",
      "[1 1 1 ... 1 1 0]\n"
     ]
    },
    {
     "name": "stderr",
     "output_type": "stream",
     "text": [
      "\n",
      "\n",
      "  0%|          | 0/4 [00:00<?, ?it/s]\u001b[A\u001b[A\n",
      "\n",
      " 25%|██▌       | 1/4 [00:00<00:00,  9.36it/s]\u001b[A\u001b[A"
     ]
    },
    {
     "name": "stdout",
     "output_type": "stream",
     "text": [
      "tensor([[-1.7052],\n",
      "        [-1.9361],\n",
      "        [-1.6840],\n",
      "        ...,\n",
      "        [ 0.6003],\n",
      "        [ 0.5364],\n",
      "        [ 0.5950]], grad_fn=<AddBackward0>)\n"
     ]
    },
    {
     "name": "stderr",
     "output_type": "stream",
     "text": [
      "\n",
      "\n",
      " 50%|█████     | 2/4 [00:00<00:00,  9.50it/s]\u001b[A\u001b[A"
     ]
    },
    {
     "name": "stdout",
     "output_type": "stream",
     "text": [
      "tensor([[-0.2521],\n",
      "        [-0.2697],\n",
      "        [-0.2995],\n",
      "        ...,\n",
      "        [ 0.6270],\n",
      "        [ 0.6476],\n",
      "        [ 0.5250]], grad_fn=<AddBackward0>)\n"
     ]
    },
    {
     "name": "stderr",
     "output_type": "stream",
     "text": [
      "\n",
      "\n",
      "100%|██████████| 4/4 [00:00<00:00,  9.88it/s]\u001b[A\u001b[A"
     ]
    },
    {
     "name": "stdout",
     "output_type": "stream",
     "text": [
      "tensor([[ 1.1420],\n",
      "        [ 1.1051],\n",
      "        [ 1.1055],\n",
      "        ...,\n",
      "        [-0.5251],\n",
      "        [-0.3678],\n",
      "        [-0.5425]], grad_fn=<AddBackward0>)\n",
      "tensor([[1.4506],\n",
      "        [1.3766],\n",
      "        [1.2943],\n",
      "        ...,\n",
      "        [0.9893],\n",
      "        [1.0993],\n",
      "        [0.9906]], grad_fn=<AddBackward0>)\n"
     ]
    },
    {
     "name": "stderr",
     "output_type": "stream",
     "text": [
      "\n"
     ]
    },
    {
     "name": "stdout",
     "output_type": "stream",
     "text": [
      "[1 0 0 ... 1 1 0]\n",
      "[1 0 1 ... 1 0 0]\n",
      "[0 0 1 ... 0 0 0]\n",
      "[1 1 1 ... 1 1 0]\n"
     ]
    },
    {
     "name": "stderr",
     "output_type": "stream",
     "text": [
      "\n",
      "  3%|▎         | 293/10000 [03:09<1:30:38,  1.78it/s]\u001b[A\n",
      "\n",
      "  0%|          | 0/4 [00:00<?, ?it/s]\u001b[A\u001b[A\n",
      "\n",
      " 50%|█████     | 2/4 [00:00<00:00, 11.79it/s]\u001b[A\u001b[A"
     ]
    },
    {
     "name": "stdout",
     "output_type": "stream",
     "text": [
      "tensor([[ 0.1708],\n",
      "        [ 0.1272],\n",
      "        [ 0.1670],\n",
      "        ...,\n",
      "        [-0.0912],\n",
      "        [ 0.0448],\n",
      "        [ 0.0666]], grad_fn=<AddBackward0>)\n",
      "tensor([[0.9420],\n",
      "        [0.9331],\n",
      "        [0.9342],\n",
      "        ...,\n",
      "        [1.6269],\n",
      "        [1.5336],\n",
      "        [1.7620]], grad_fn=<AddBackward0>)\n",
      "tensor([[0.3719],\n",
      "        [0.2231],\n",
      "        [0.3345],\n",
      "        ...,\n",
      "        [1.4254],\n",
      "        [1.0706],\n",
      "        [1.2082]], grad_fn=<AddBackward0>)\n"
     ]
    },
    {
     "name": "stderr",
     "output_type": "stream",
     "text": [
      "\n",
      "\n",
      "100%|██████████| 4/4 [00:00<00:00, 11.32it/s]\u001b[A\u001b[A\n",
      "\n",
      "  3%|▎         | 294/10000 [03:09<1:24:20,  1.92it/s]\u001b[A"
     ]
    },
    {
     "name": "stdout",
     "output_type": "stream",
     "text": [
      "tensor([[0.3786],\n",
      "        [0.3397],\n",
      "        [0.2901],\n",
      "        ...,\n",
      "        [0.7344],\n",
      "        [1.2257],\n",
      "        [0.8115]], grad_fn=<AddBackward0>)\n",
      "[1 0 0 ... 1 1 0]\n",
      "[1 0 1 ... 1 0 0]\n",
      "[0 0 1 ... 0 0 0]\n",
      "[1 1 1 ... 1 1 0]\n"
     ]
    },
    {
     "name": "stderr",
     "output_type": "stream",
     "text": [
      "\n",
      "\n",
      "  0%|          | 0/4 [00:00<?, ?it/s]\u001b[A\u001b[A"
     ]
    },
    {
     "name": "stdout",
     "output_type": "stream",
     "text": [
      "tensor([[-0.5561],\n",
      "        [-0.6243],\n",
      "        [-0.5575],\n",
      "        ...,\n",
      "        [-0.4585],\n",
      "        [-0.5599],\n",
      "        [-0.5290]], grad_fn=<AddBackward0>)\n"
     ]
    },
    {
     "name": "stderr",
     "output_type": "stream",
     "text": [
      "\n",
      "\n",
      " 50%|█████     | 2/4 [00:00<00:00,  9.99it/s]\u001b[A\u001b[A"
     ]
    },
    {
     "name": "stdout",
     "output_type": "stream",
     "text": [
      "tensor([[0.5852],\n",
      "        [0.3270],\n",
      "        [0.3589],\n",
      "        ...,\n",
      "        [2.2746],\n",
      "        [2.2721],\n",
      "        [2.2589]], grad_fn=<AddBackward0>)\n",
      "tensor([[1.5571],\n",
      "        [1.5831],\n",
      "        [1.5744],\n",
      "        ...,\n",
      "        [1.7602],\n",
      "        [1.5899],\n",
      "        [1.8856]], grad_fn=<AddBackward0>)\n"
     ]
    },
    {
     "name": "stderr",
     "output_type": "stream",
     "text": [
      "\n",
      "\n",
      "100%|██████████| 4/4 [00:00<00:00, 10.53it/s]\u001b[A\u001b[A"
     ]
    },
    {
     "name": "stdout",
     "output_type": "stream",
     "text": [
      "tensor([[-1.1796],\n",
      "        [-1.0435],\n",
      "        [-1.0447],\n",
      "        ...,\n",
      "        [-1.4496],\n",
      "        [-1.4424],\n",
      "        [-1.4653]], grad_fn=<AddBackward0>)\n",
      "[1 0 0 ... 1 1 0]\n",
      "[1 0 1 ... 1 0 0]\n"
     ]
    },
    {
     "name": "stderr",
     "output_type": "stream",
     "text": [
      "\n",
      "\n",
      "  3%|▎         | 295/10000 [03:10<1:21:14,  1.99it/s]\u001b[A"
     ]
    },
    {
     "name": "stdout",
     "output_type": "stream",
     "text": [
      "[0 0 1 ... 0 0 0]\n",
      "[1 1 1 ... 1 1 0]\n"
     ]
    },
    {
     "name": "stderr",
     "output_type": "stream",
     "text": [
      "\n",
      "\n",
      "  0%|          | 0/4 [00:00<?, ?it/s]\u001b[A\u001b[A"
     ]
    },
    {
     "name": "stdout",
     "output_type": "stream",
     "text": [
      "tensor([[ 0.6474],\n",
      "        [ 0.5589],\n",
      "        [ 0.6170],\n",
      "        ...,\n",
      "        [ 0.0292],\n",
      "        [ 0.1659],\n",
      "        [-0.0313]], grad_fn=<AddBackward0>)\n"
     ]
    },
    {
     "name": "stderr",
     "output_type": "stream",
     "text": [
      "\n",
      "\n",
      " 50%|█████     | 2/4 [00:00<00:00, 10.90it/s]\u001b[A\u001b[A"
     ]
    },
    {
     "name": "stdout",
     "output_type": "stream",
     "text": [
      "tensor([[-0.6332],\n",
      "        [-0.6105],\n",
      "        [-0.6481],\n",
      "        ...,\n",
      "        [ 0.8015],\n",
      "        [ 0.8338],\n",
      "        [ 0.6863]], grad_fn=<AddBackward0>)\n",
      "tensor([[0.7942],\n",
      "        [0.7088],\n",
      "        [0.8526],\n",
      "        ...,\n",
      "        [1.6371],\n",
      "        [1.7227],\n",
      "        [1.6692]], grad_fn=<AddBackward0>)\n"
     ]
    },
    {
     "name": "stderr",
     "output_type": "stream",
     "text": [
      "\n",
      "\n",
      "100%|██████████| 4/4 [00:00<00:00,  8.57it/s]\u001b[A\u001b[A"
     ]
    },
    {
     "name": "stdout",
     "output_type": "stream",
     "text": [
      "tensor([[ 1.0908],\n",
      "        [ 1.0945],\n",
      "        [ 0.9984],\n",
      "        ...,\n",
      "        [-1.5038],\n",
      "        [-1.5039],\n",
      "        [-1.4719]], grad_fn=<AddBackward0>)\n",
      "[1 0 0 ... 1 1 0]\n",
      "[1 0 1 ... 1 0 0]\n",
      "[0 0 1 ... 0 0 0]\n",
      "[1 1 1 ... 1 1 0]\n"
     ]
    },
    {
     "name": "stderr",
     "output_type": "stream",
     "text": [
      "\n",
      "\n",
      "  3%|▎         | 296/10000 [03:10<1:32:06,  1.76it/s]\u001b[A\n",
      "\n",
      "  0%|          | 0/4 [00:00<?, ?it/s]\u001b[A\u001b[A\n",
      "\n",
      " 50%|█████     | 2/4 [00:00<00:00, 11.84it/s]\u001b[A\u001b[A"
     ]
    },
    {
     "name": "stdout",
     "output_type": "stream",
     "text": [
      "tensor([[-0.8584],\n",
      "        [-0.8585],\n",
      "        [-0.8594],\n",
      "        ...,\n",
      "        [ 0.3432],\n",
      "        [ 0.3448],\n",
      "        [ 0.3436]], grad_fn=<AddBackward0>)\n",
      "tensor([[-0.8805],\n",
      "        [-0.9326],\n",
      "        [-0.8630],\n",
      "        ...,\n",
      "        [ 0.2909],\n",
      "        [ 0.3046],\n",
      "        [ 0.5441]], grad_fn=<AddBackward0>)\n",
      "tensor([[1.1124],\n",
      "        [1.2870],\n",
      "        [1.2568],\n",
      "        ...,\n",
      "        [1.0345],\n",
      "        [1.0279],\n",
      "        [1.0499]], grad_fn=<AddBackward0>)\n"
     ]
    },
    {
     "name": "stderr",
     "output_type": "stream",
     "text": [
      "\n",
      "\n",
      "100%|██████████| 4/4 [00:00<00:00, 11.80it/s]\u001b[A\u001b[A\n",
      "\n",
      "  3%|▎         | 297/10000 [03:11<1:24:56,  1.90it/s]\u001b[A"
     ]
    },
    {
     "name": "stdout",
     "output_type": "stream",
     "text": [
      "tensor([[-1.6007],\n",
      "        [-1.5645],\n",
      "        [-1.7804],\n",
      "        ...,\n",
      "        [ 2.1768],\n",
      "        [ 2.2169],\n",
      "        [ 2.1105]], grad_fn=<AddBackward0>)\n",
      "[1 0 0 ... 1 1 0]\n",
      "[1 0 1 ... 1 0 0]\n",
      "[0 0 1 ... 0 0 0]\n",
      "[1 1 1 ... 1 1 0]\n"
     ]
    },
    {
     "name": "stderr",
     "output_type": "stream",
     "text": [
      "\n",
      "\n",
      "  0%|          | 0/4 [00:00<?, ?it/s]\u001b[A\u001b[A\n",
      "\n",
      " 25%|██▌       | 1/4 [00:00<00:00,  8.09it/s]\u001b[A\u001b[A\n",
      "\n",
      " 50%|█████     | 2/4 [00:00<00:00,  7.17it/s]\u001b[A\u001b[A"
     ]
    },
    {
     "name": "stdout",
     "output_type": "stream",
     "text": [
      "tensor([[-0.4216],\n",
      "        [-0.5167],\n",
      "        [-0.5177],\n",
      "        ...,\n",
      "        [ 1.0353],\n",
      "        [ 1.0058],\n",
      "        [ 0.9818]], grad_fn=<AddBackward0>)\n",
      "tensor([[-0.6339],\n",
      "        [-0.6481],\n",
      "        [-0.7177],\n",
      "        ...,\n",
      "        [ 0.2380],\n",
      "        [ 0.2669],\n",
      "        [ 0.2666]], grad_fn=<AddBackward0>)\n"
     ]
    },
    {
     "name": "stderr",
     "output_type": "stream",
     "text": [
      "\n",
      "\n",
      "100%|██████████| 4/4 [00:00<00:00,  8.63it/s]\u001b[A\u001b[A\n",
      "\n",
      "  3%|▎         | 298/10000 [03:11<1:25:46,  1.89it/s]\u001b[A"
     ]
    },
    {
     "name": "stdout",
     "output_type": "stream",
     "text": [
      "tensor([[-0.6030],\n",
      "        [-0.8249],\n",
      "        [-0.5623],\n",
      "        ...,\n",
      "        [-0.0878],\n",
      "        [-0.1273],\n",
      "        [-0.1034]], grad_fn=<AddBackward0>)\n",
      "tensor([[ 1.2013],\n",
      "        [ 1.1640],\n",
      "        [ 1.1351],\n",
      "        ...,\n",
      "        [-0.5704],\n",
      "        [-0.5163],\n",
      "        [-0.5265]], grad_fn=<AddBackward0>)\n",
      "[1 0 0 ... 1 1 0]\n",
      "[1 0 1 ... 1 0 0]\n",
      "[0 0 1 ... 0 0 0]\n",
      "[1 1 1 ... 1 1 0]\n"
     ]
    },
    {
     "name": "stderr",
     "output_type": "stream",
     "text": [
      "\n",
      "\n",
      "  0%|          | 0/4 [00:00<?, ?it/s]\u001b[A\u001b[A\n",
      "\n",
      " 25%|██▌       | 1/4 [00:00<00:00,  9.40it/s]\u001b[A\u001b[A\n",
      "\n",
      " 50%|█████     | 2/4 [00:00<00:00,  8.95it/s]\u001b[A\u001b[A"
     ]
    },
    {
     "name": "stdout",
     "output_type": "stream",
     "text": [
      "tensor([[1.6680],\n",
      "        [1.6471],\n",
      "        [1.6403],\n",
      "        ...,\n",
      "        [1.8336],\n",
      "        [1.8039],\n",
      "        [1.7242]], grad_fn=<AddBackward0>)\n",
      "tensor([[1.5882],\n",
      "        [1.5856],\n",
      "        [1.6032],\n",
      "        ...,\n",
      "        [1.1720],\n",
      "        [1.2229],\n",
      "        [1.1985]], grad_fn=<AddBackward0>)\n"
     ]
    },
    {
     "name": "stderr",
     "output_type": "stream",
     "text": [
      "\n",
      "\n",
      "100%|██████████| 4/4 [00:00<00:00,  9.39it/s]\u001b[A\u001b[A"
     ]
    },
    {
     "name": "stdout",
     "output_type": "stream",
     "text": [
      "tensor([[1.6795],\n",
      "        [1.8386],\n",
      "        [1.6705],\n",
      "        ...,\n",
      "        [0.1908],\n",
      "        [0.2031],\n",
      "        [0.1616]], grad_fn=<AddBackward0>)\n",
      "tensor([[-1.0512],\n",
      "        [-0.9794],\n",
      "        [-1.0673],\n",
      "        ...,\n",
      "        [-0.7024],\n",
      "        [-0.6797],\n",
      "        [-0.6665]], grad_fn=<AddBackward0>)\n",
      "[1 0 0 ... 1 1 0]\n",
      "[1 0 1 ... 1 0 0]\n",
      "[0 0 1 ... 0 0 0]\n",
      "[1 1 1 ... 1 1 0]\n"
     ]
    },
    {
     "name": "stderr",
     "output_type": "stream",
     "text": [
      "\n",
      "\n",
      "  3%|▎         | 299/10000 [03:12<1:31:37,  1.76it/s]\u001b[A\n",
      "\n",
      "  0%|          | 0/4 [00:00<?, ?it/s]\u001b[A\u001b[A\n",
      "\n",
      " 50%|█████     | 2/4 [00:00<00:00, 12.10it/s]\u001b[A\u001b[A"
     ]
    },
    {
     "name": "stdout",
     "output_type": "stream",
     "text": [
      "tensor([[-0.5888],\n",
      "        [-0.5072],\n",
      "        [-0.5081],\n",
      "        ...,\n",
      "        [-0.1778],\n",
      "        [-0.1588],\n",
      "        [-0.1163]], grad_fn=<AddBackward0>)\n",
      "tensor([[0.6060],\n",
      "        [0.6293],\n",
      "        [0.5728],\n",
      "        ...,\n",
      "        [2.3333],\n",
      "        [2.2666],\n",
      "        [2.3239]], grad_fn=<AddBackward0>)\n",
      "tensor([[0.9415],\n",
      "        [0.8792],\n",
      "        [0.8518],\n",
      "        ...,\n",
      "        [1.0664],\n",
      "        [0.8931],\n",
      "        [0.7589]], grad_fn=<AddBackward0>)\n"
     ]
    },
    {
     "name": "stderr",
     "output_type": "stream",
     "text": [
      "\n",
      "\n",
      "100%|██████████| 4/4 [00:00<00:00, 11.49it/s]\u001b[A\u001b[A\n",
      "\n",
      "  3%|▎         | 300/10000 [03:13<1:25:32,  1.89it/s]\u001b[A"
     ]
    },
    {
     "name": "stdout",
     "output_type": "stream",
     "text": [
      "tensor([[ 0.8578],\n",
      "        [ 0.8078],\n",
      "        [ 0.8650],\n",
      "        ...,\n",
      "        [-0.6555],\n",
      "        [-0.6427],\n",
      "        [-0.7647]], grad_fn=<AddBackward0>)\n",
      "[1 0 0 ... 1 1 0]\n",
      "[1 0 1 ... 1 0 0]\n",
      "[0 0 1 ... 0 0 0]\n",
      "[1 1 1 ... 1 1 0]\n"
     ]
    },
    {
     "name": "stderr",
     "output_type": "stream",
     "text": [
      "\n",
      "\n",
      "  0%|          | 0/4 [00:00<?, ?it/s]\u001b[A\u001b[A\n",
      "\n",
      " 25%|██▌       | 1/4 [00:00<00:00,  8.68it/s]\u001b[A\u001b[A\n",
      "\n",
      " 50%|█████     | 2/4 [00:00<00:00,  9.21it/s]\u001b[A\u001b[A"
     ]
    },
    {
     "name": "stdout",
     "output_type": "stream",
     "text": [
      "tensor([[0.6366],\n",
      "        [0.5857],\n",
      "        [0.6380],\n",
      "        ...,\n",
      "        [0.9106],\n",
      "        [0.7243],\n",
      "        [1.0479]], grad_fn=<AddBackward0>)\n",
      "tensor([[-0.7772],\n",
      "        [-0.6295],\n",
      "        [-0.7054],\n",
      "        ...,\n",
      "        [-0.0408],\n",
      "        [-0.1076],\n",
      "        [-0.2984]], grad_fn=<AddBackward0>)\n",
      "tensor([[-0.4504],\n",
      "        [-0.4468],\n",
      "        [-0.4740],\n",
      "        ...,\n",
      "        [-0.9498],\n",
      "        [-1.1303],\n",
      "        [-0.9622]], grad_fn=<AddBackward0>)\n"
     ]
    },
    {
     "name": "stderr",
     "output_type": "stream",
     "text": [
      "\n",
      "\n",
      "100%|██████████| 4/4 [00:00<00:00,  9.66it/s]\u001b[A\u001b[A\n",
      "\n",
      "  3%|▎         | 301/10000 [03:13<1:23:37,  1.93it/s]\u001b[A"
     ]
    },
    {
     "name": "stdout",
     "output_type": "stream",
     "text": [
      "tensor([[-1.1897],\n",
      "        [-1.1402],\n",
      "        [-1.2017],\n",
      "        ...,\n",
      "        [-0.7209],\n",
      "        [-0.6955],\n",
      "        [-0.6968]], grad_fn=<AddBackward0>)\n",
      "[1 0 0 ... 1 1 0]\n",
      "[1 0 1 ... 1 0 0]\n",
      "[0 0 1 ... 0 0 0]\n",
      "[1 1 1 ... 1 1 0]\n"
     ]
    },
    {
     "name": "stderr",
     "output_type": "stream",
     "text": [
      "\n",
      "\n",
      "  0%|          | 0/4 [00:00<?, ?it/s]\u001b[A\u001b[A\n",
      "\n",
      " 25%|██▌       | 1/4 [00:00<00:00,  9.58it/s]\u001b[A\u001b[A"
     ]
    },
    {
     "name": "stdout",
     "output_type": "stream",
     "text": [
      "tensor([[-0.5215],\n",
      "        [ 0.0590],\n",
      "        [-0.0554],\n",
      "        ...,\n",
      "        [ 1.6671],\n",
      "        [ 1.6196],\n",
      "        [ 1.7915]], grad_fn=<AddBackward0>)\n",
      "tensor([[-1.8003],\n",
      "        [-1.7494],\n",
      "        [-1.6770],\n",
      "        ...,\n",
      "        [-0.3909],\n",
      "        [-0.4432],\n",
      "        [-0.4235]], grad_fn=<AddBackward0>)\n"
     ]
    },
    {
     "name": "stderr",
     "output_type": "stream",
     "text": [
      "\n",
      "\n",
      "100%|██████████| 4/4 [00:00<00:00, 10.38it/s]\u001b[A\u001b[A"
     ]
    },
    {
     "name": "stdout",
     "output_type": "stream",
     "text": [
      "tensor([[0.6097],\n",
      "        [0.1353],\n",
      "        [0.7238],\n",
      "        ...,\n",
      "        [1.4233],\n",
      "        [1.4968],\n",
      "        [1.5130]], grad_fn=<AddBackward0>)\n",
      "tensor([[-1.5838],\n",
      "        [-1.4381],\n",
      "        [-1.4596],\n",
      "        ...,\n",
      "        [ 0.1431],\n",
      "        [ 0.1744],\n",
      "        [ 0.1524]], grad_fn=<AddBackward0>)\n",
      "[1 0 0 ... 1 1 0]\n",
      "[1 0 1 ... 1 0 0]\n",
      "[0 0 1 ... 0 0 0]\n",
      "[1 1 1 ... 1 1 0]\n"
     ]
    },
    {
     "name": "stderr",
     "output_type": "stream",
     "text": [
      "\n",
      "\n",
      "  3%|▎         | 302/10000 [03:14<1:27:31,  1.85it/s]\u001b[A\n",
      "\n",
      "  0%|          | 0/4 [00:00<?, ?it/s]\u001b[A\u001b[A\n",
      "\n",
      " 50%|█████     | 2/4 [00:00<00:00, 13.12it/s]\u001b[A\u001b[A"
     ]
    },
    {
     "name": "stdout",
     "output_type": "stream",
     "text": [
      "tensor([[-1.2773],\n",
      "        [-1.4297],\n",
      "        [-1.5875],\n",
      "        ...,\n",
      "        [-0.4657],\n",
      "        [-0.4325],\n",
      "        [-0.4791]], grad_fn=<AddBackward0>)\n",
      "tensor([[ 0.6917],\n",
      "        [ 0.7107],\n",
      "        [ 0.6584],\n",
      "        ...,\n",
      "        [-1.2552],\n",
      "        [-1.0240],\n",
      "        [-1.1937]], grad_fn=<AddBackward0>)\n",
      "tensor([[-1.1787],\n",
      "        [-1.1864],\n",
      "        [-1.1268],\n",
      "        ...,\n",
      "        [ 1.5933],\n",
      "        [ 1.6790],\n",
      "        [ 1.6674]], grad_fn=<AddBackward0>)\n"
     ]
    },
    {
     "name": "stderr",
     "output_type": "stream",
     "text": [
      "\n",
      "\n",
      "100%|██████████| 4/4 [00:00<00:00, 12.41it/s]\u001b[A\u001b[A\n",
      "\n",
      "  3%|▎         | 303/10000 [03:14<1:20:28,  2.01it/s]\u001b[A"
     ]
    },
    {
     "name": "stdout",
     "output_type": "stream",
     "text": [
      "tensor([[-1.4127],\n",
      "        [-1.3726],\n",
      "        [-1.3667],\n",
      "        ...,\n",
      "        [-0.2518],\n",
      "        [-0.1875],\n",
      "        [-0.1578]], grad_fn=<AddBackward0>)\n",
      "[1 0 0 ... 1 1 0]\n",
      "[1 0 1 ... 1 0 0]\n",
      "[0 0 1 ... 0 0 0]\n",
      "[1 1 1 ... 1 1 0]\n"
     ]
    },
    {
     "name": "stderr",
     "output_type": "stream",
     "text": [
      "\n",
      "\n",
      "  0%|          | 0/4 [00:00<?, ?it/s]\u001b[A\u001b[A"
     ]
    },
    {
     "name": "stdout",
     "output_type": "stream",
     "text": [
      "tensor([[0.2006],\n",
      "        [0.1998],\n",
      "        [0.2002],\n",
      "        ...,\n",
      "        [0.4015],\n",
      "        [0.3855],\n",
      "        [1.2645]], grad_fn=<AddBackward0>)\n"
     ]
    },
    {
     "name": "stderr",
     "output_type": "stream",
     "text": [
      "\n",
      "\n",
      " 50%|█████     | 2/4 [00:00<00:00,  8.64it/s]\u001b[A\u001b[A"
     ]
    },
    {
     "name": "stdout",
     "output_type": "stream",
     "text": [
      "tensor([[-0.3360],\n",
      "        [-0.3166],\n",
      "        [-0.3098],\n",
      "        ...,\n",
      "        [ 1.0610],\n",
      "        [ 0.8137],\n",
      "        [ 1.0114]], grad_fn=<AddBackward0>)\n"
     ]
    },
    {
     "name": "stderr",
     "output_type": "stream",
     "text": [
      "\n",
      "\n",
      " 75%|███████▌  | 3/4 [00:00<00:00,  7.66it/s]\u001b[A\u001b[A"
     ]
    },
    {
     "name": "stdout",
     "output_type": "stream",
     "text": [
      "tensor([[ 0.0674],\n",
      "        [-0.0501],\n",
      "        [-0.1390],\n",
      "        ...,\n",
      "        [ 0.6269],\n",
      "        [ 0.6742],\n",
      "        [ 0.7424]], grad_fn=<AddBackward0>)\n"
     ]
    },
    {
     "name": "stderr",
     "output_type": "stream",
     "text": [
      "\n",
      "\n",
      "100%|██████████| 4/4 [00:00<00:00,  7.52it/s]\u001b[A\u001b[A"
     ]
    },
    {
     "name": "stdout",
     "output_type": "stream",
     "text": [
      "tensor([[-1.8063],\n",
      "        [-1.7830],\n",
      "        [-1.7340],\n",
      "        ...,\n",
      "        [ 0.6009],\n",
      "        [ 0.6002],\n",
      "        [ 0.6009]], grad_fn=<AddBackward0>)\n",
      "[1 0 0 ... 1 1 0]\n",
      "[1 0 1 ... 1 0 0]\n"
     ]
    },
    {
     "name": "stderr",
     "output_type": "stream",
     "text": [
      "\n",
      "\n",
      "  3%|▎         | 304/10000 [03:15<1:26:47,  1.86it/s]\u001b[A"
     ]
    },
    {
     "name": "stdout",
     "output_type": "stream",
     "text": [
      "[0 0 1 ... 0 0 0]\n",
      "[1 1 1 ... 1 1 0]\n"
     ]
    },
    {
     "name": "stderr",
     "output_type": "stream",
     "text": [
      "\n",
      "\n",
      "  0%|          | 0/4 [00:00<?, ?it/s]\u001b[A\u001b[A"
     ]
    },
    {
     "name": "stdout",
     "output_type": "stream",
     "text": [
      "tensor([[0.3595],\n",
      "        [0.3597],\n",
      "        [0.3968],\n",
      "        ...,\n",
      "        [0.5617],\n",
      "        [0.5175],\n",
      "        [0.5507]], grad_fn=<AddBackward0>)\n"
     ]
    },
    {
     "name": "stderr",
     "output_type": "stream",
     "text": [
      "\n",
      "\n",
      " 25%|██▌       | 1/4 [00:00<00:00,  6.39it/s]\u001b[A\u001b[A\n",
      "\n",
      " 50%|█████     | 2/4 [00:00<00:00,  7.51it/s]\u001b[A\u001b[A"
     ]
    },
    {
     "name": "stdout",
     "output_type": "stream",
     "text": [
      "tensor([[ 0.7044],\n",
      "        [ 0.7029],\n",
      "        [ 0.7055],\n",
      "        ...,\n",
      "        [-0.2775],\n",
      "        [-0.2842],\n",
      "        [-0.2078]], grad_fn=<AddBackward0>)\n"
     ]
    },
    {
     "name": "stderr",
     "output_type": "stream",
     "text": [
      "\n",
      "\n",
      " 75%|███████▌  | 3/4 [00:00<00:00,  7.95it/s]\u001b[A\u001b[A"
     ]
    },
    {
     "name": "stdout",
     "output_type": "stream",
     "text": [
      "tensor([[0.5661],\n",
      "        [0.6248],\n",
      "        [0.6088],\n",
      "        ...,\n",
      "        [0.1855],\n",
      "        [0.1879],\n",
      "        [0.2265]], grad_fn=<AddBackward0>)\n"
     ]
    },
    {
     "name": "stderr",
     "output_type": "stream",
     "text": [
      "\n",
      "\n",
      "100%|██████████| 4/4 [00:00<00:00,  7.78it/s]\u001b[A\u001b[A"
     ]
    },
    {
     "name": "stdout",
     "output_type": "stream",
     "text": [
      "tensor([[-0.5917],\n",
      "        [-1.2114],\n",
      "        [-0.4382],\n",
      "        ...,\n",
      "        [-1.4650],\n",
      "        [-1.4546],\n",
      "        [-1.4560]], grad_fn=<AddBackward0>)\n",
      "[1 0 0 ... 1 1 0]\n",
      "[1 0 1 ... 1 0 0]\n",
      "[0 0 1 ... 0 0 0]\n",
      "[1 1 1 ... 1 1 0]\n"
     ]
    },
    {
     "name": "stderr",
     "output_type": "stream",
     "text": [
      "\n",
      "\n",
      "  3%|▎         | 305/10000 [03:15<1:38:27,  1.64it/s]\u001b[A\n",
      "\n",
      "  0%|          | 0/4 [00:00<?, ?it/s]\u001b[A\u001b[A\n",
      "\n",
      " 25%|██▌       | 1/4 [00:00<00:00,  7.29it/s]\u001b[A\u001b[A\n",
      "\n",
      " 50%|█████     | 2/4 [00:00<00:00,  6.09it/s]\u001b[A\u001b[A"
     ]
    },
    {
     "name": "stdout",
     "output_type": "stream",
     "text": [
      "tensor([[-0.2200],\n",
      "        [-0.2132],\n",
      "        [-0.2710],\n",
      "        ...,\n",
      "        [-0.1944],\n",
      "        [-0.2000],\n",
      "        [-0.2003]], grad_fn=<AddBackward0>)\n",
      "tensor([[3.3438],\n",
      "        [3.3859],\n",
      "        [3.4267],\n",
      "        ...,\n",
      "        [1.1009],\n",
      "        [1.0539],\n",
      "        [1.0200]], grad_fn=<AddBackward0>)\n"
     ]
    },
    {
     "name": "stderr",
     "output_type": "stream",
     "text": [
      "\n",
      "\n",
      " 75%|███████▌  | 3/4 [00:00<00:00,  6.72it/s]\u001b[A\u001b[A\n",
      "\n",
      "100%|██████████| 4/4 [00:00<00:00,  7.06it/s]\u001b[A\u001b[A"
     ]
    },
    {
     "name": "stdout",
     "output_type": "stream",
     "text": [
      "tensor([[-1.6428],\n",
      "        [-1.6812],\n",
      "        [-1.6363],\n",
      "        ...,\n",
      "        [ 0.7529],\n",
      "        [ 0.8055],\n",
      "        [ 0.8023]], grad_fn=<AddBackward0>)\n",
      "tensor([[0.5391],\n",
      "        [0.8642],\n",
      "        [0.8417],\n",
      "        ...,\n",
      "        [3.2825],\n",
      "        [3.3717],\n",
      "        [2.7892]], grad_fn=<AddBackward0>)\n",
      "[1 0 0 ... 1 1 0]\n",
      "[1 0 1 ... 1 0 0]\n",
      "[1 0 1 ... 0 0 0]\n",
      "[1 1 1 ... 1 1 0]\n"
     ]
    },
    {
     "name": "stderr",
     "output_type": "stream",
     "text": [
      "\n",
      "\n",
      "  3%|▎         | 306/10000 [03:16<1:41:05,  1.60it/s]\u001b[A\n",
      "\n",
      "  0%|          | 0/4 [00:00<?, ?it/s]\u001b[A\u001b[A\n",
      "\n",
      " 25%|██▌       | 1/4 [00:00<00:00,  6.41it/s]\u001b[A\u001b[A\n",
      "\n",
      " 50%|█████     | 2/4 [00:00<00:00,  7.84it/s]\u001b[A\u001b[A"
     ]
    },
    {
     "name": "stdout",
     "output_type": "stream",
     "text": [
      "tensor([[-0.5166],\n",
      "        [-0.6171],\n",
      "        [-0.5158],\n",
      "        ...,\n",
      "        [-1.1643],\n",
      "        [-1.1398],\n",
      "        [-1.1578]], grad_fn=<AddBackward0>)\n",
      "tensor([[-1.3964],\n",
      "        [-1.3733],\n",
      "        [-1.3478],\n",
      "        ...,\n",
      "        [ 0.1362],\n",
      "        [ 0.1392],\n",
      "        [ 0.1405]], grad_fn=<AddBackward0>)\n"
     ]
    },
    {
     "name": "stderr",
     "output_type": "stream",
     "text": [
      "\n",
      "\n",
      " 75%|███████▌  | 3/4 [00:00<00:00,  7.26it/s]\u001b[A\u001b[A\n",
      "\n",
      "100%|██████████| 4/4 [00:00<00:00,  7.50it/s]\u001b[A\u001b[A"
     ]
    },
    {
     "name": "stdout",
     "output_type": "stream",
     "text": [
      "tensor([[-1.4502],\n",
      "        [-1.3994],\n",
      "        [-1.4674],\n",
      "        ...,\n",
      "        [ 0.2053],\n",
      "        [ 0.1652],\n",
      "        [ 0.2219]], grad_fn=<AddBackward0>)\n",
      "tensor([[ 0.3656],\n",
      "        [ 0.3278],\n",
      "        [ 0.2220],\n",
      "        ...,\n",
      "        [-1.4387],\n",
      "        [-1.4701],\n",
      "        [-1.4591]], grad_fn=<AddBackward0>)\n",
      "[1 0 0 ... 1 0 0]\n",
      "[1 0 1 ... 1 0 0]\n",
      "[1 0 1 ... 0 0 0]\n",
      "[1 1 1 ... 1 1 0]\n"
     ]
    },
    {
     "name": "stderr",
     "output_type": "stream",
     "text": [
      "\n"
     ]
    },
    {
     "name": "stdout",
     "output_type": "stream",
     "text": [
      "\n",
      "Epoch: 307, Loss: 516.6305, Val: 0.6818, Test: 0.6806\n",
      "[1 0 1 ... 0 0 0]\n",
      "[1 1 1 ... 1 1 0]\n"
     ]
    },
    {
     "name": "stderr",
     "output_type": "stream",
     "text": [
      "\n",
      "  3%|▎         | 307/10000 [03:17<1:55:45,  1.40it/s]\u001b[A"
     ]
    },
    {
     "name": "stdout",
     "output_type": "stream",
     "text": [
      "[1 0 0 ... 1 0 0]\n",
      "[1 0 1 ... 1 0 0]\n"
     ]
    },
    {
     "name": "stderr",
     "output_type": "stream",
     "text": [
      "\n",
      "\n",
      "  0%|          | 0/4 [00:00<?, ?it/s]\u001b[A\u001b[A\n",
      "\n",
      " 25%|██▌       | 1/4 [00:00<00:00,  5.70it/s]\u001b[A\u001b[A\n",
      "\n",
      " 50%|█████     | 2/4 [00:00<00:00,  7.16it/s]\u001b[A\u001b[A"
     ]
    },
    {
     "name": "stdout",
     "output_type": "stream",
     "text": [
      "tensor([[ 1.3607],\n",
      "        [ 1.2948],\n",
      "        [ 1.1702],\n",
      "        ...,\n",
      "        [-0.5201],\n",
      "        [-0.5738],\n",
      "        [-0.5073]], grad_fn=<AddBackward0>)\n",
      "tensor([[-0.0971],\n",
      "        [-0.0360],\n",
      "        [ 0.1135],\n",
      "        ...,\n",
      "        [ 1.0212],\n",
      "        [ 1.0333],\n",
      "        [ 0.9801]], grad_fn=<AddBackward0>)\n"
     ]
    },
    {
     "name": "stderr",
     "output_type": "stream",
     "text": [
      "\n",
      "\n",
      "100%|██████████| 4/4 [00:00<00:00,  8.20it/s]\u001b[A\u001b[A\n",
      "\n",
      "  3%|▎         | 308/10000 [03:18<1:49:52,  1.47it/s]\u001b[A"
     ]
    },
    {
     "name": "stdout",
     "output_type": "stream",
     "text": [
      "tensor([[ 2.0391],\n",
      "        [ 2.0078],\n",
      "        [ 2.2199],\n",
      "        ...,\n",
      "        [-0.7166],\n",
      "        [-0.7723],\n",
      "        [-0.7231]], grad_fn=<AddBackward0>)\n",
      "tensor([[-0.9488],\n",
      "        [-0.9862],\n",
      "        [-1.0212],\n",
      "        ...,\n",
      "        [ 0.6315],\n",
      "        [ 0.6243],\n",
      "        [ 0.5975]], grad_fn=<AddBackward0>)\n",
      "[1 0 0 ... 1 0 0]\n",
      "[1 0 1 ... 1 0 0]\n",
      "[1 0 1 ... 0 0 0]\n",
      "[1 1 1 ... 1 1 0]\n"
     ]
    },
    {
     "name": "stderr",
     "output_type": "stream",
     "text": [
      "\n",
      "\n",
      "  0%|          | 0/4 [00:00<?, ?it/s]\u001b[A\u001b[A\n",
      "\n",
      " 25%|██▌       | 1/4 [00:00<00:00,  7.36it/s]\u001b[A\u001b[A\n",
      "\n",
      " 50%|█████     | 2/4 [00:00<00:00,  7.15it/s]\u001b[A\u001b[A"
     ]
    },
    {
     "name": "stdout",
     "output_type": "stream",
     "text": [
      "tensor([[ 2.6763],\n",
      "        [ 2.7098],\n",
      "        [ 2.5961],\n",
      "        ...,\n",
      "        [-0.1481],\n",
      "        [-0.0775],\n",
      "        [-0.0700]], grad_fn=<AddBackward0>)\n",
      "tensor([[-1.4085],\n",
      "        [-1.3293],\n",
      "        [-1.4322],\n",
      "        ...,\n",
      "        [-0.0850],\n",
      "        [ 0.1136],\n",
      "        [-0.1355]], grad_fn=<AddBackward0>)\n"
     ]
    },
    {
     "name": "stderr",
     "output_type": "stream",
     "text": [
      "\n",
      "\n",
      " 75%|███████▌  | 3/4 [00:00<00:00,  8.07it/s]\u001b[A\u001b[A\n",
      "\n",
      "100%|██████████| 4/4 [00:00<00:00,  7.98it/s]\u001b[A\u001b[A"
     ]
    },
    {
     "name": "stdout",
     "output_type": "stream",
     "text": [
      "tensor([[-1.7559],\n",
      "        [-1.7953],\n",
      "        [-1.5070],\n",
      "        ...,\n",
      "        [ 0.7110],\n",
      "        [ 0.6666],\n",
      "        [ 0.7029]], grad_fn=<AddBackward0>)\n",
      "tensor([[ 8.0228e-02],\n",
      "        [-1.6904e-04],\n",
      "        [ 2.6347e-02],\n",
      "        ...,\n",
      "        [-2.3531e-01],\n",
      "        [-3.3450e-01],\n",
      "        [-2.3526e-01]], grad_fn=<AddBackward0>)\n",
      "[1 0 0 ... 1 0 0]\n",
      "[1 0 1 ... 1 0 0]\n",
      "[1 0 1 ... 0 0 0]\n",
      "[1 1 1 ... 1 1 0]\n"
     ]
    },
    {
     "name": "stderr",
     "output_type": "stream",
     "text": [
      "\n",
      "\n",
      "  3%|▎         | 309/10000 [03:18<1:46:18,  1.52it/s]\u001b[A\n",
      "\n",
      "  0%|          | 0/4 [00:00<?, ?it/s]\u001b[A\u001b[A\n",
      "\n",
      " 25%|██▌       | 1/4 [00:00<00:00,  7.46it/s]\u001b[A\u001b[A"
     ]
    },
    {
     "name": "stdout",
     "output_type": "stream",
     "text": [
      "tensor([[1.8187],\n",
      "        [1.7618],\n",
      "        [1.8267],\n",
      "        ...,\n",
      "        [0.6053],\n",
      "        [0.7014],\n",
      "        [0.7064]], grad_fn=<AddBackward0>)\n",
      "tensor([[0.3692],\n",
      "        [0.3203],\n",
      "        [0.3088],\n",
      "        ...,\n",
      "        [1.7356],\n",
      "        [1.6760],\n",
      "        [1.7664]], grad_fn=<AddBackward0>)\n"
     ]
    },
    {
     "name": "stderr",
     "output_type": "stream",
     "text": [
      "\n",
      "\n",
      "100%|██████████| 4/4 [00:00<00:00,  9.07it/s]\u001b[A\u001b[A"
     ]
    },
    {
     "name": "stdout",
     "output_type": "stream",
     "text": [
      "tensor([[-1.2006],\n",
      "        [-0.8347],\n",
      "        [-0.9315],\n",
      "        ...,\n",
      "        [ 0.1967],\n",
      "        [ 0.2171],\n",
      "        [ 0.1964]], grad_fn=<AddBackward0>)\n",
      "tensor([[ 0.8598],\n",
      "        [ 0.8620],\n",
      "        [ 0.7872],\n",
      "        ...,\n",
      "        [-0.6271],\n",
      "        [-0.6215],\n",
      "        [-0.7511]], grad_fn=<AddBackward0>)\n",
      "[1 0 0 ... 1 0 0]\n",
      "[1 0 1 ... 1 0 0]\n"
     ]
    },
    {
     "name": "stderr",
     "output_type": "stream",
     "text": [
      "\n",
      "\n",
      "  3%|▎         | 310/10000 [03:19<1:48:40,  1.49it/s]\u001b[A"
     ]
    },
    {
     "name": "stdout",
     "output_type": "stream",
     "text": [
      "[1 0 1 ... 0 0 0]\n",
      "[1 1 1 ... 1 1 0]\n"
     ]
    },
    {
     "name": "stderr",
     "output_type": "stream",
     "text": [
      "\n",
      "\n",
      "  0%|          | 0/4 [00:00<?, ?it/s]\u001b[A\u001b[A"
     ]
    },
    {
     "name": "stdout",
     "output_type": "stream",
     "text": [
      "tensor([[0.4287],\n",
      "        [0.3485],\n",
      "        [0.4194],\n",
      "        ...,\n",
      "        [1.3177],\n",
      "        [1.3464],\n",
      "        [1.3196]], grad_fn=<AddBackward0>)\n"
     ]
    },
    {
     "name": "stderr",
     "output_type": "stream",
     "text": [
      "\n",
      "\n",
      " 50%|█████     | 2/4 [00:00<00:00, 11.04it/s]\u001b[A\u001b[A"
     ]
    },
    {
     "name": "stdout",
     "output_type": "stream",
     "text": [
      "tensor([[-0.4939],\n",
      "        [-0.6174],\n",
      "        [-0.3893],\n",
      "        ...,\n",
      "        [ 1.2357],\n",
      "        [ 1.2181],\n",
      "        [ 1.2221]], grad_fn=<AddBackward0>)\n",
      "tensor([[-0.4741],\n",
      "        [-0.4923],\n",
      "        [-0.5560],\n",
      "        ...,\n",
      "        [ 1.9597],\n",
      "        [ 1.8818],\n",
      "        [ 1.8887]], grad_fn=<AddBackward0>)\n"
     ]
    },
    {
     "name": "stderr",
     "output_type": "stream",
     "text": [
      "\n",
      "\n",
      "100%|██████████| 4/4 [00:00<00:00,  8.80it/s]\u001b[A\u001b[A"
     ]
    },
    {
     "name": "stdout",
     "output_type": "stream",
     "text": [
      "tensor([[1.1273],\n",
      "        [1.1067],\n",
      "        [1.0726],\n",
      "        ...,\n",
      "        [2.8019],\n",
      "        [3.4089],\n",
      "        [3.4088]], grad_fn=<AddBackward0>)\n",
      "[1 0 0 ... 1 1 0]\n",
      "[1 0 1 ... 1 0 0]\n",
      "[1 0 1 ... 0 0 0]\n",
      "[1 1 1 ... 1 1 0]\n"
     ]
    },
    {
     "name": "stderr",
     "output_type": "stream",
     "text": [
      "\n",
      "\n",
      "  3%|▎         | 311/10000 [03:19<1:42:50,  1.57it/s]\u001b[A\n",
      "\n",
      "  0%|          | 0/4 [00:00<?, ?it/s]\u001b[A\u001b[A\n",
      "\n",
      " 25%|██▌       | 1/4 [00:00<00:00,  7.13it/s]\u001b[A\u001b[A\n",
      "\n",
      " 50%|█████     | 2/4 [00:00<00:00,  6.78it/s]\u001b[A\u001b[A"
     ]
    },
    {
     "name": "stdout",
     "output_type": "stream",
     "text": [
      "tensor([[-0.5315],\n",
      "        [-0.5137],\n",
      "        [-0.5322],\n",
      "        ...,\n",
      "        [-0.0731],\n",
      "        [ 0.0266],\n",
      "        [ 0.1480]], grad_fn=<AddBackward0>)\n",
      "tensor([[3.3962],\n",
      "        [3.4815],\n",
      "        [3.3726],\n",
      "        ...,\n",
      "        [0.6266],\n",
      "        [0.8129],\n",
      "        [0.8513]], grad_fn=<AddBackward0>)\n"
     ]
    },
    {
     "name": "stderr",
     "output_type": "stream",
     "text": [
      "\n",
      "\n",
      " 75%|███████▌  | 3/4 [00:00<00:00,  6.32it/s]\u001b[A\u001b[A\n",
      "\n",
      "100%|██████████| 4/4 [00:00<00:00,  6.83it/s]\u001b[A\u001b[A"
     ]
    },
    {
     "name": "stdout",
     "output_type": "stream",
     "text": [
      "tensor([[ 0.9158],\n",
      "        [ 0.8511],\n",
      "        [ 0.8542],\n",
      "        ...,\n",
      "        [-1.8466],\n",
      "        [-1.9277],\n",
      "        [-1.7165]], grad_fn=<AddBackward0>)\n",
      "tensor([[ 0.5466],\n",
      "        [ 0.5660],\n",
      "        [ 0.6055],\n",
      "        ...,\n",
      "        [-0.6988],\n",
      "        [-0.6419],\n",
      "        [-0.6501]], grad_fn=<AddBackward0>)\n",
      "[1 0 0 ... 1 1 0]\n",
      "[1 0 1 ... 1 0 0]\n",
      "[1 0 1 ... 0 0 0]\n",
      "[1 1 1 ... 1 1 0]\n"
     ]
    },
    {
     "name": "stderr",
     "output_type": "stream",
     "text": [
      "\n",
      "\n",
      "  3%|▎         | 312/10000 [03:20<1:45:07,  1.54it/s]\u001b[A\n",
      "\n",
      "  0%|          | 0/4 [00:00<?, ?it/s]\u001b[A\u001b[A\n",
      "\n",
      " 25%|██▌       | 1/4 [00:00<00:00,  5.72it/s]\u001b[A\u001b[A\n",
      "\n",
      " 50%|█████     | 2/4 [00:00<00:00,  6.41it/s]\u001b[A\u001b[A"
     ]
    },
    {
     "name": "stdout",
     "output_type": "stream",
     "text": [
      "tensor([[-0.7737],\n",
      "        [-1.0830],\n",
      "        [-0.7759],\n",
      "        ...,\n",
      "        [-0.6796],\n",
      "        [-0.5583],\n",
      "        [-0.4498]], grad_fn=<AddBackward0>)\n",
      "tensor([[-0.4222],\n",
      "        [-0.4649],\n",
      "        [-0.3498],\n",
      "        ...,\n",
      "        [-0.9449],\n",
      "        [-0.9474],\n",
      "        [-0.9565]], grad_fn=<AddBackward0>)\n"
     ]
    },
    {
     "name": "stderr",
     "output_type": "stream",
     "text": [
      "\n",
      "\n",
      " 75%|███████▌  | 3/4 [00:00<00:00,  6.03it/s]\u001b[A\u001b[A\n",
      "\n",
      "100%|██████████| 4/4 [00:00<00:00,  6.42it/s]\u001b[A\u001b[A"
     ]
    },
    {
     "name": "stdout",
     "output_type": "stream",
     "text": [
      "tensor([[-0.5389],\n",
      "        [-0.6792],\n",
      "        [-0.6980],\n",
      "        ...,\n",
      "        [-1.9337],\n",
      "        [-2.1328],\n",
      "        [-2.0413]], grad_fn=<AddBackward0>)\n",
      "tensor([[0.1309],\n",
      "        [0.1238],\n",
      "        [0.2228],\n",
      "        ...,\n",
      "        [1.1464],\n",
      "        [0.8738],\n",
      "        [1.0157]], grad_fn=<AddBackward0>)\n",
      "[1 0 0 ... 1 1 0]\n",
      "[1 0 1 ... 1 0 0]\n"
     ]
    },
    {
     "name": "stderr",
     "output_type": "stream",
     "text": [
      "\n",
      "\n",
      "  3%|▎         | 313/10000 [03:21<1:54:45,  1.41it/s]\u001b[A"
     ]
    },
    {
     "name": "stdout",
     "output_type": "stream",
     "text": [
      "[1 0 1 ... 0 0 0]\n",
      "[1 1 1 ... 1 1 0]\n"
     ]
    },
    {
     "name": "stderr",
     "output_type": "stream",
     "text": [
      "\n",
      "\n",
      "  0%|          | 0/4 [00:00<?, ?it/s]\u001b[A\u001b[A\n",
      "\n",
      " 25%|██▌       | 1/4 [00:00<00:00,  6.82it/s]\u001b[A\u001b[A"
     ]
    },
    {
     "name": "stdout",
     "output_type": "stream",
     "text": [
      "tensor([[ 0.0227],\n",
      "        [-0.2605],\n",
      "        [ 0.0257],\n",
      "        ...,\n",
      "        [-0.6899],\n",
      "        [-0.6841],\n",
      "        [-0.7183]], grad_fn=<AddBackward0>)\n"
     ]
    },
    {
     "name": "stderr",
     "output_type": "stream",
     "text": [
      "\n",
      "\n",
      " 50%|█████     | 2/4 [00:00<00:00,  6.61it/s]\u001b[A\u001b[A"
     ]
    },
    {
     "name": "stdout",
     "output_type": "stream",
     "text": [
      "tensor([[ 0.0540],\n",
      "        [ 0.2560],\n",
      "        [ 0.6653],\n",
      "        ...,\n",
      "        [-1.4201],\n",
      "        [-1.1826],\n",
      "        [-1.2122]], grad_fn=<AddBackward0>)\n"
     ]
    },
    {
     "name": "stderr",
     "output_type": "stream",
     "text": [
      "\n",
      "\n",
      " 75%|███████▌  | 3/4 [00:00<00:00,  6.68it/s]\u001b[A\u001b[A"
     ]
    },
    {
     "name": "stdout",
     "output_type": "stream",
     "text": [
      "tensor([[-0.6136],\n",
      "        [-0.4611],\n",
      "        [-0.3959],\n",
      "        ...,\n",
      "        [ 1.0556],\n",
      "        [ 0.9733],\n",
      "        [ 0.7459]], grad_fn=<AddBackward0>)\n"
     ]
    },
    {
     "name": "stderr",
     "output_type": "stream",
     "text": [
      "\n",
      "\n",
      "100%|██████████| 4/4 [00:00<00:00,  6.87it/s]\u001b[A\u001b[A"
     ]
    },
    {
     "name": "stdout",
     "output_type": "stream",
     "text": [
      "tensor([[-0.4009],\n",
      "        [-0.5479],\n",
      "        [-0.4216],\n",
      "        ...,\n",
      "        [-1.4723],\n",
      "        [-1.4898],\n",
      "        [-1.4707]], grad_fn=<AddBackward0>)\n",
      "[1 0 0 ... 1 1 0]\n",
      "[1 0 1 ... 1 0 0]\n",
      "[1 0 1 ... 0 0 0]\n",
      "[1 1 1 ... 1 1 0]\n"
     ]
    },
    {
     "name": "stderr",
     "output_type": "stream",
     "text": [
      "\n",
      "\n",
      "  3%|▎         | 314/10000 [03:22<1:52:58,  1.43it/s]\u001b[A\n",
      "\n",
      "  0%|          | 0/4 [00:00<?, ?it/s]\u001b[A\u001b[A\n",
      "\n",
      " 25%|██▌       | 1/4 [00:00<00:00,  6.33it/s]\u001b[A\u001b[A\n",
      "\n",
      " 50%|█████     | 2/4 [00:00<00:00,  7.67it/s]\u001b[A\u001b[A"
     ]
    },
    {
     "name": "stdout",
     "output_type": "stream",
     "text": [
      "tensor([[1.1170],\n",
      "        [1.0951],\n",
      "        [1.0890],\n",
      "        ...,\n",
      "        [1.1158],\n",
      "        [1.1318],\n",
      "        [1.1326]], grad_fn=<AddBackward0>)\n",
      "tensor([[-0.6006],\n",
      "        [-0.5817],\n",
      "        [-0.5497],\n",
      "        ...,\n",
      "        [ 0.2726],\n",
      "        [-0.0974],\n",
      "        [ 0.2960]], grad_fn=<AddBackward0>)\n"
     ]
    },
    {
     "name": "stderr",
     "output_type": "stream",
     "text": [
      "\n",
      "\n",
      " 75%|███████▌  | 3/4 [00:00<00:00,  7.83it/s]\u001b[A\u001b[A\n",
      "\n",
      "100%|██████████| 4/4 [00:00<00:00,  7.73it/s]\u001b[A\u001b[A"
     ]
    },
    {
     "name": "stdout",
     "output_type": "stream",
     "text": [
      "tensor([[0.7678],\n",
      "        [0.5275],\n",
      "        [0.6712],\n",
      "        ...,\n",
      "        [0.7621],\n",
      "        [1.0550],\n",
      "        [0.7368]], grad_fn=<AddBackward0>)\n",
      "tensor([[ 0.5375],\n",
      "        [ 0.2536],\n",
      "        [ 0.3702],\n",
      "        ...,\n",
      "        [-0.6954],\n",
      "        [-0.6759],\n",
      "        [-0.6730]], grad_fn=<AddBackward0>)\n",
      "[1 0 0 ... 1 1 0]\n",
      "[1 0 1 ... 1 0 0]\n",
      "[1 0 1 ... 0 0 0]\n",
      "[1 1 1 ... 1 1 0]\n"
     ]
    },
    {
     "name": "stderr",
     "output_type": "stream",
     "text": [
      "\n",
      "\n",
      "  3%|▎         | 315/10000 [03:22<1:49:18,  1.48it/s]\u001b[A\n",
      "\n",
      "  0%|          | 0/4 [00:00<?, ?it/s]\u001b[A\u001b[A\n",
      "\n",
      " 25%|██▌       | 1/4 [00:00<00:00,  7.15it/s]\u001b[A\u001b[A\n",
      "\n",
      " 50%|█████     | 2/4 [00:00<00:00,  8.03it/s]\u001b[A\u001b[A"
     ]
    },
    {
     "name": "stdout",
     "output_type": "stream",
     "text": [
      "tensor([[1.8184],\n",
      "        [1.8395],\n",
      "        [1.8184],\n",
      "        ...,\n",
      "        [0.3588],\n",
      "        [0.2678],\n",
      "        [0.3620]], grad_fn=<AddBackward0>)\n",
      "tensor([[-0.9277],\n",
      "        [-0.9871],\n",
      "        [-1.1317],\n",
      "        ...,\n",
      "        [ 1.3584],\n",
      "        [ 1.5075],\n",
      "        [ 1.5024]], grad_fn=<AddBackward0>)\n"
     ]
    },
    {
     "name": "stderr",
     "output_type": "stream",
     "text": [
      "\n",
      "\n",
      "100%|██████████| 4/4 [00:00<00:00,  8.53it/s]\u001b[A\u001b[A"
     ]
    },
    {
     "name": "stdout",
     "output_type": "stream",
     "text": [
      "tensor([[2.0904],\n",
      "        [1.9119],\n",
      "        [2.1105],\n",
      "        ...,\n",
      "        [1.9220],\n",
      "        [1.9011],\n",
      "        [1.9013]], grad_fn=<AddBackward0>)\n",
      "tensor([[-0.2471],\n",
      "        [-0.2484],\n",
      "        [-0.2090],\n",
      "        ...,\n",
      "        [ 0.2485],\n",
      "        [ 0.2255],\n",
      "        [ 0.1619]], grad_fn=<AddBackward0>)\n",
      "[1 0 0 ... 1 1 0]\n",
      "[1 0 1 ... 1 0 0]\n"
     ]
    },
    {
     "name": "stderr",
     "output_type": "stream",
     "text": [
      "\n",
      "\n",
      "  3%|▎         | 316/10000 [03:23<1:50:50,  1.46it/s]\u001b[A"
     ]
    },
    {
     "name": "stdout",
     "output_type": "stream",
     "text": [
      "[1 0 1 ... 0 0 0]\n",
      "[1 1 1 ... 1 1 0]\n"
     ]
    },
    {
     "name": "stderr",
     "output_type": "stream",
     "text": [
      "\n",
      "\n",
      "  0%|          | 0/4 [00:00<?, ?it/s]\u001b[A\u001b[A\n",
      "\n",
      " 25%|██▌       | 1/4 [00:00<00:00,  8.59it/s]\u001b[A\u001b[A"
     ]
    },
    {
     "name": "stdout",
     "output_type": "stream",
     "text": [
      "tensor([[0.2163],\n",
      "        [0.2131],\n",
      "        [0.2079],\n",
      "        ...,\n",
      "        [0.0929],\n",
      "        [0.0480],\n",
      "        [0.0875]], grad_fn=<AddBackward0>)\n"
     ]
    },
    {
     "name": "stderr",
     "output_type": "stream",
     "text": [
      "\n",
      "\n",
      " 50%|█████     | 2/4 [00:00<00:00,  6.27it/s]\u001b[A\u001b[A"
     ]
    },
    {
     "name": "stdout",
     "output_type": "stream",
     "text": [
      "tensor([[-1.2296],\n",
      "        [-0.9288],\n",
      "        [-0.6857],\n",
      "        ...,\n",
      "        [ 0.3026],\n",
      "        [ 0.3414],\n",
      "        [ 0.3284]], grad_fn=<AddBackward0>)\n"
     ]
    },
    {
     "name": "stderr",
     "output_type": "stream",
     "text": [
      "\n",
      "\n",
      " 75%|███████▌  | 3/4 [00:00<00:00,  6.41it/s]\u001b[A\u001b[A"
     ]
    },
    {
     "name": "stdout",
     "output_type": "stream",
     "text": [
      "tensor([[-0.0205],\n",
      "        [-0.0621],\n",
      "        [-0.1133],\n",
      "        ...,\n",
      "        [ 2.5227],\n",
      "        [ 2.6552],\n",
      "        [ 2.4359]], grad_fn=<AddBackward0>)\n"
     ]
    },
    {
     "name": "stderr",
     "output_type": "stream",
     "text": [
      "\n",
      "\n",
      "100%|██████████| 4/4 [00:00<00:00,  6.98it/s]\u001b[A\u001b[A"
     ]
    },
    {
     "name": "stdout",
     "output_type": "stream",
     "text": [
      "tensor([[-0.4773],\n",
      "        [-0.5017],\n",
      "        [-0.5412],\n",
      "        ...,\n",
      "        [ 0.1562],\n",
      "        [ 0.1599],\n",
      "        [ 0.2452]], grad_fn=<AddBackward0>)\n",
      "[1 0 0 ... 1 1 0]\n",
      "[1 0 1 ... 1 0 0]\n",
      "[1 0 1 ... 0 0 0]\n",
      "[1 1 1 ... 1 1 0]\n"
     ]
    },
    {
     "name": "stderr",
     "output_type": "stream",
     "text": [
      "\n",
      "\n",
      "  3%|▎         | 317/10000 [03:24<1:51:55,  1.44it/s]\u001b[A\n",
      "\n",
      "  0%|          | 0/4 [00:00<?, ?it/s]\u001b[A\u001b[A\n",
      "\n",
      " 25%|██▌       | 1/4 [00:00<00:00,  6.62it/s]\u001b[A\u001b[A\n",
      "\n",
      " 50%|█████     | 2/4 [00:00<00:00,  6.51it/s]\u001b[A\u001b[A"
     ]
    },
    {
     "name": "stdout",
     "output_type": "stream",
     "text": [
      "tensor([[-1.7566],\n",
      "        [-1.6825],\n",
      "        [-1.9299],\n",
      "        ...,\n",
      "        [-0.9237],\n",
      "        [-0.9355],\n",
      "        [-0.8890]], grad_fn=<AddBackward0>)\n",
      "tensor([[-0.1570],\n",
      "        [-0.1792],\n",
      "        [-0.2015],\n",
      "        ...,\n",
      "        [ 2.3234],\n",
      "        [ 2.3783],\n",
      "        [ 2.3126]], grad_fn=<AddBackward0>)\n"
     ]
    },
    {
     "name": "stderr",
     "output_type": "stream",
     "text": [
      "\n",
      "\n",
      "100%|██████████| 4/4 [00:00<00:00,  8.14it/s]\u001b[A\u001b[A\n"
     ]
    },
    {
     "name": "stdout",
     "output_type": "stream",
     "text": [
      "tensor([[0.2236],\n",
      "        [0.2250],\n",
      "        [0.1319],\n",
      "        ...,\n",
      "        [1.1064],\n",
      "        [1.2565],\n",
      "        [1.2970]], grad_fn=<AddBackward0>)\n",
      "tensor([[-1.2062],\n",
      "        [-1.2229],\n",
      "        [-1.2056],\n",
      "        ...,\n",
      "        [ 1.2431],\n",
      "        [ 1.4519],\n",
      "        [ 0.8868]], grad_fn=<AddBackward0>)\n",
      "[1 0 0 ... 1 1 0]\n",
      "[1 0 1 ... 1 0 0]\n",
      "[1 0 1 ... 0 0 0]\n",
      "[1 1 1 ... 1 1 0]\n"
     ]
    },
    {
     "name": "stderr",
     "output_type": "stream",
     "text": [
      "\n",
      "  3%|▎         | 318/10000 [03:24<1:54:26,  1.41it/s]\u001b[A\n",
      "\n",
      "  0%|          | 0/4 [00:00<?, ?it/s]\u001b[A\u001b[A\n",
      "\n",
      " 25%|██▌       | 1/4 [00:00<00:00,  9.92it/s]\u001b[A\u001b[A\n",
      "\n",
      " 50%|█████     | 2/4 [00:00<00:00,  8.03it/s]\u001b[A\u001b[A"
     ]
    },
    {
     "name": "stdout",
     "output_type": "stream",
     "text": [
      "tensor([[-0.5986],\n",
      "        [-0.5627],\n",
      "        [-0.6460],\n",
      "        ...,\n",
      "        [ 0.3873],\n",
      "        [ 0.3833],\n",
      "        [ 0.1620]], grad_fn=<AddBackward0>)\n",
      "tensor([[-0.0964],\n",
      "        [-0.0237],\n",
      "        [-0.2122],\n",
      "        ...,\n",
      "        [ 0.0415],\n",
      "        [ 0.1589],\n",
      "        [-0.0892]], grad_fn=<AddBackward0>)\n"
     ]
    },
    {
     "name": "stderr",
     "output_type": "stream",
     "text": [
      "\n",
      "\n",
      " 75%|███████▌  | 3/4 [00:00<00:00,  6.51it/s]\u001b[A\u001b[A\n",
      "\n",
      "100%|██████████| 4/4 [00:00<00:00,  7.23it/s]\u001b[A\u001b[A"
     ]
    },
    {
     "name": "stdout",
     "output_type": "stream",
     "text": [
      "tensor([[ 0.5123],\n",
      "        [ 0.6003],\n",
      "        [ 0.6050],\n",
      "        ...,\n",
      "        [-1.6649],\n",
      "        [-1.7216],\n",
      "        [-1.7297]], grad_fn=<AddBackward0>)\n",
      "tensor([[0.8439],\n",
      "        [0.7676],\n",
      "        [0.7750],\n",
      "        ...,\n",
      "        [1.2324],\n",
      "        [1.1268],\n",
      "        [0.9841]], grad_fn=<AddBackward0>)\n",
      "[1 0 0 ... 1 1 0]\n",
      "[1 0 1 ... 1 0 0]\n",
      "[1 0 1 ... 0 0 0]\n",
      "[1 1 1 ... 1 1 0]\n"
     ]
    },
    {
     "name": "stderr",
     "output_type": "stream",
     "text": [
      "\n",
      "\n",
      "  3%|▎         | 319/10000 [03:25<1:51:27,  1.45it/s]\u001b[A\n",
      "\n",
      "  0%|          | 0/4 [00:00<?, ?it/s]\u001b[A\u001b[A\n",
      "\n",
      " 25%|██▌       | 1/4 [00:00<00:00,  6.78it/s]\u001b[A\u001b[A\n",
      "\n",
      " 50%|█████     | 2/4 [00:00<00:00,  8.19it/s]\u001b[A\u001b[A"
     ]
    },
    {
     "name": "stdout",
     "output_type": "stream",
     "text": [
      "tensor([[0.4186],\n",
      "        [0.4505],\n",
      "        [0.3789],\n",
      "        ...,\n",
      "        [0.7533],\n",
      "        [0.7353],\n",
      "        [0.6713]], grad_fn=<AddBackward0>)\n",
      "tensor([[ 0.0665],\n",
      "        [ 0.0679],\n",
      "        [ 0.0931],\n",
      "        ...,\n",
      "        [-0.3703],\n",
      "        [-0.3641],\n",
      "        [-0.3852]], grad_fn=<AddBackward0>)\n"
     ]
    },
    {
     "name": "stderr",
     "output_type": "stream",
     "text": [
      "\n",
      "\n",
      "100%|██████████| 4/4 [00:00<00:00,  8.93it/s]\u001b[A\u001b[A\n",
      "\n",
      "  3%|▎         | 320/10000 [03:26<1:43:01,  1.57it/s]\u001b[A"
     ]
    },
    {
     "name": "stdout",
     "output_type": "stream",
     "text": [
      "tensor([[-0.9899],\n",
      "        [-0.9086],\n",
      "        [-0.9899],\n",
      "        ...,\n",
      "        [ 0.1665],\n",
      "        [ 0.1773],\n",
      "        [ 0.3183]], grad_fn=<AddBackward0>)\n",
      "tensor([[1.5414],\n",
      "        [1.5234],\n",
      "        [1.8177],\n",
      "        ...,\n",
      "        [0.3640],\n",
      "        [0.4922],\n",
      "        [0.4761]], grad_fn=<AddBackward0>)\n",
      "[1 0 0 ... 1 1 0]\n",
      "[1 0 1 ... 1 0 0]\n",
      "[0 0 1 ... 0 0 0]\n",
      "[1 1 1 ... 1 1 0]\n"
     ]
    },
    {
     "name": "stderr",
     "output_type": "stream",
     "text": [
      "\n",
      "\n",
      "  0%|          | 0/4 [00:00<?, ?it/s]\u001b[A\u001b[A\n",
      "\n",
      " 25%|██▌       | 1/4 [00:00<00:00,  7.75it/s]\u001b[A\u001b[A"
     ]
    },
    {
     "name": "stdout",
     "output_type": "stream",
     "text": [
      "tensor([[1.0639],\n",
      "        [1.1296],\n",
      "        [1.1031],\n",
      "        ...,\n",
      "        [0.3939],\n",
      "        [0.4029],\n",
      "        [0.3984]], grad_fn=<AddBackward0>)\n",
      "tensor([[0.0600],\n",
      "        [0.1302],\n",
      "        [0.1212],\n",
      "        ...,\n",
      "        [2.3397],\n",
      "        [2.3736],\n",
      "        [2.4611]], grad_fn=<AddBackward0>)\n"
     ]
    },
    {
     "name": "stderr",
     "output_type": "stream",
     "text": [
      "\n",
      "\n",
      "100%|██████████| 4/4 [00:00<00:00,  9.67it/s]\u001b[A\u001b[A"
     ]
    },
    {
     "name": "stdout",
     "output_type": "stream",
     "text": [
      "tensor([[0.8704],\n",
      "        [0.9347],\n",
      "        [0.7558],\n",
      "        ...,\n",
      "        [0.3733],\n",
      "        [1.0612],\n",
      "        [0.7448]], grad_fn=<AddBackward0>)\n",
      "tensor([[-0.6134],\n",
      "        [-0.4368],\n",
      "        [-0.6136],\n",
      "        ...,\n",
      "        [ 1.3067],\n",
      "        [ 1.6043],\n",
      "        [ 1.4120]], grad_fn=<AddBackward0>)\n",
      "[1 0 0 ... 1 1 0]\n",
      "[1 0 1 ... 1 0 0]\n",
      "[0 0 1 ... 0 0 0]\n",
      "[1 1 1 ... 1 1 0]\n"
     ]
    },
    {
     "name": "stderr",
     "output_type": "stream",
     "text": [
      "\n",
      "\n",
      "  3%|▎         | 321/10000 [03:26<1:42:39,  1.57it/s]\u001b[A\n",
      "\n",
      "  0%|          | 0/4 [00:00<?, ?it/s]\u001b[A\u001b[A\n",
      "\n",
      " 50%|█████     | 2/4 [00:00<00:00, 11.61it/s]\u001b[A\u001b[A"
     ]
    },
    {
     "name": "stdout",
     "output_type": "stream",
     "text": [
      "tensor([[-0.6524],\n",
      "        [-0.8672],\n",
      "        [-0.7666],\n",
      "        ...,\n",
      "        [-1.0495],\n",
      "        [-1.0694],\n",
      "        [-0.9189]], grad_fn=<AddBackward0>)\n",
      "tensor([[ 1.3756],\n",
      "        [ 1.3858],\n",
      "        [ 1.4043],\n",
      "        ...,\n",
      "        [-1.2335],\n",
      "        [-1.2144],\n",
      "        [-1.2440]], grad_fn=<AddBackward0>)\n"
     ]
    },
    {
     "name": "stderr",
     "output_type": "stream",
     "text": [
      "\n",
      "\n",
      "100%|██████████| 4/4 [00:00<00:00, 10.81it/s]\u001b[A\u001b[A\n",
      "\n",
      "  3%|▎         | 322/10000 [03:27<1:33:39,  1.72it/s]\u001b[A"
     ]
    },
    {
     "name": "stdout",
     "output_type": "stream",
     "text": [
      "tensor([[-0.6173],\n",
      "        [-0.8013],\n",
      "        [-0.6254],\n",
      "        ...,\n",
      "        [-0.6096],\n",
      "        [-0.5603],\n",
      "        [-0.5993]], grad_fn=<AddBackward0>)\n",
      "tensor([[-0.5269],\n",
      "        [-0.5574],\n",
      "        [-0.4526],\n",
      "        ...,\n",
      "        [ 2.2974],\n",
      "        [ 2.0995],\n",
      "        [ 2.3413]], grad_fn=<AddBackward0>)\n",
      "[1 0 0 ... 1 1 0]\n",
      "[1 0 1 ... 1 0 0]\n",
      "[0 0 1 ... 0 0 0]\n",
      "[1 1 1 ... 1 1 0]\n"
     ]
    },
    {
     "name": "stderr",
     "output_type": "stream",
     "text": [
      "\n",
      "\n",
      "  0%|          | 0/4 [00:00<?, ?it/s]\u001b[A\u001b[A\n",
      "\n",
      " 25%|██▌       | 1/4 [00:00<00:00,  9.47it/s]\u001b[A\u001b[A\n",
      "\n",
      " 50%|█████     | 2/4 [00:00<00:00,  9.52it/s]\u001b[A\u001b[A"
     ]
    },
    {
     "name": "stdout",
     "output_type": "stream",
     "text": [
      "tensor([[0.8830],\n",
      "        [0.9269],\n",
      "        [0.8831],\n",
      "        ...,\n",
      "        [0.5582],\n",
      "        [0.5693],\n",
      "        [0.5742]], grad_fn=<AddBackward0>)\n",
      "tensor([[ 0.2800],\n",
      "        [ 0.2779],\n",
      "        [ 0.1421],\n",
      "        ...,\n",
      "        [-0.5899],\n",
      "        [-0.6195],\n",
      "        [-0.9158]], grad_fn=<AddBackward0>)\n"
     ]
    },
    {
     "name": "stderr",
     "output_type": "stream",
     "text": [
      "\n",
      "\n",
      "100%|██████████| 4/4 [00:00<00:00,  9.99it/s]\u001b[A\u001b[A\n",
      "\n",
      "  3%|▎         | 323/10000 [03:27<1:29:22,  1.80it/s]\u001b[A"
     ]
    },
    {
     "name": "stdout",
     "output_type": "stream",
     "text": [
      "tensor([[1.6396],\n",
      "        [1.5857],\n",
      "        [1.7154],\n",
      "        ...,\n",
      "        [1.0526],\n",
      "        [1.0436],\n",
      "        [1.0341]], grad_fn=<AddBackward0>)\n",
      "tensor([[-1.7389],\n",
      "        [-1.7328],\n",
      "        [-1.7111],\n",
      "        ...,\n",
      "        [-1.5102],\n",
      "        [-1.4557],\n",
      "        [-1.4633]], grad_fn=<AddBackward0>)\n",
      "[1 0 0 ... 1 1 0]\n",
      "[1 0 1 ... 1 0 0]\n",
      "[0 0 1 ... 0 0 0]\n",
      "[1 1 1 ... 1 1 0]\n"
     ]
    },
    {
     "name": "stderr",
     "output_type": "stream",
     "text": [
      "\n",
      "\n",
      "  0%|          | 0/4 [00:00<?, ?it/s]\u001b[A\u001b[A\n",
      "\n",
      " 25%|██▌       | 1/4 [00:00<00:00,  9.31it/s]\u001b[A\u001b[A\n",
      "\n",
      " 50%|█████     | 2/4 [00:00<00:00,  8.97it/s]\u001b[A\u001b[A"
     ]
    },
    {
     "name": "stdout",
     "output_type": "stream",
     "text": [
      "tensor([[1.8479],\n",
      "        [1.8543],\n",
      "        [1.8198],\n",
      "        ...,\n",
      "        [0.6198],\n",
      "        [0.5864],\n",
      "        [0.4306]], grad_fn=<AddBackward0>)\n",
      "tensor([[ 0.5779],\n",
      "        [ 0.5519],\n",
      "        [ 0.6081],\n",
      "        ...,\n",
      "        [-2.2291],\n",
      "        [-2.2276],\n",
      "        [-2.2637]], grad_fn=<AddBackward0>)\n"
     ]
    },
    {
     "name": "stderr",
     "output_type": "stream",
     "text": [
      "\n",
      "\n",
      "100%|██████████| 4/4 [00:00<00:00,  9.36it/s]\u001b[A\u001b[A"
     ]
    },
    {
     "name": "stdout",
     "output_type": "stream",
     "text": [
      "tensor([[ 0.6483],\n",
      "        [ 0.7623],\n",
      "        [ 0.2946],\n",
      "        ...,\n",
      "        [-1.6213],\n",
      "        [-1.1601],\n",
      "        [-1.1773]], grad_fn=<AddBackward0>)\n",
      "tensor([[-0.6446],\n",
      "        [-0.4329],\n",
      "        [-1.0577],\n",
      "        ...,\n",
      "        [ 0.1306],\n",
      "        [ 0.1397],\n",
      "        [ 0.1604]], grad_fn=<AddBackward0>)\n",
      "[1 0 0 ... 1 1 0]\n",
      "[1 0 1 ... 1 0 0]\n",
      "[0 0 1 ... 0 0 0]\n",
      "[1 1 1 ... 1 1 0]\n"
     ]
    },
    {
     "name": "stderr",
     "output_type": "stream",
     "text": [
      "\n",
      "\n",
      "  3%|▎         | 324/10000 [03:28<1:34:18,  1.71it/s]\u001b[A\n",
      "\n",
      "  0%|          | 0/4 [00:00<?, ?it/s]\u001b[A\u001b[A\n",
      "\n",
      " 50%|█████     | 2/4 [00:00<00:00, 12.37it/s]\u001b[A\u001b[A"
     ]
    },
    {
     "name": "stdout",
     "output_type": "stream",
     "text": [
      "tensor([[ 1.6971],\n",
      "        [ 1.7171],\n",
      "        [ 1.6956],\n",
      "        ...,\n",
      "        [-0.7270],\n",
      "        [-0.6369],\n",
      "        [-0.7214]], grad_fn=<AddBackward0>)\n",
      "tensor([[-0.5903],\n",
      "        [-0.7010],\n",
      "        [-0.7762],\n",
      "        ...,\n",
      "        [ 1.2467],\n",
      "        [ 1.2382],\n",
      "        [ 1.1453]], grad_fn=<AddBackward0>)\n",
      "tensor([[0.3811],\n",
      "        [0.4384],\n",
      "        [0.3799],\n",
      "        ...,\n",
      "        [1.8472],\n",
      "        [1.7567],\n",
      "        [1.9617]], grad_fn=<AddBackward0>)\n"
     ]
    },
    {
     "name": "stderr",
     "output_type": "stream",
     "text": [
      "\n",
      "\n",
      "100%|██████████| 4/4 [00:00<00:00, 11.19it/s]\u001b[A\u001b[A\n",
      "\n",
      "  3%|▎         | 325/10000 [03:28<1:28:08,  1.83it/s]\u001b[A"
     ]
    },
    {
     "name": "stdout",
     "output_type": "stream",
     "text": [
      "tensor([[ 0.3664],\n",
      "        [ 0.3102],\n",
      "        [ 0.3606],\n",
      "        ...,\n",
      "        [-0.6144],\n",
      "        [-0.8636],\n",
      "        [-0.6181]], grad_fn=<AddBackward0>)\n",
      "[1 0 0 ... 1 1 0]\n",
      "[1 0 1 ... 1 0 0]\n",
      "[0 0 1 ... 0 0 0]\n",
      "[1 1 1 ... 1 1 0]\n"
     ]
    },
    {
     "name": "stderr",
     "output_type": "stream",
     "text": [
      "\n",
      "\n",
      "  0%|          | 0/4 [00:00<?, ?it/s]\u001b[A\u001b[A"
     ]
    },
    {
     "name": "stdout",
     "output_type": "stream",
     "text": [
      "tensor([[1.3169],\n",
      "        [1.3982],\n",
      "        [1.3920],\n",
      "        ...,\n",
      "        [0.7593],\n",
      "        [0.4002],\n",
      "        [0.4208]], grad_fn=<AddBackward0>)\n"
     ]
    },
    {
     "name": "stderr",
     "output_type": "stream",
     "text": [
      "\n",
      "\n",
      " 50%|█████     | 2/4 [00:00<00:00,  9.63it/s]\u001b[A\u001b[A"
     ]
    },
    {
     "name": "stdout",
     "output_type": "stream",
     "text": [
      "tensor([[ 0.3688],\n",
      "        [ 0.3356],\n",
      "        [ 0.3666],\n",
      "        ...,\n",
      "        [-0.3604],\n",
      "        [-0.2322],\n",
      "        [ 0.0921]], grad_fn=<AddBackward0>)\n"
     ]
    },
    {
     "name": "stderr",
     "output_type": "stream",
     "text": [
      "\n",
      "\n",
      " 75%|███████▌  | 3/4 [00:00<00:00,  8.65it/s]\u001b[A\u001b[A"
     ]
    },
    {
     "name": "stdout",
     "output_type": "stream",
     "text": [
      "tensor([[0.8711],\n",
      "        [0.8512],\n",
      "        [0.7784],\n",
      "        ...,\n",
      "        [0.4482],\n",
      "        [0.4472],\n",
      "        [0.4132]], grad_fn=<AddBackward0>)\n"
     ]
    },
    {
     "name": "stderr",
     "output_type": "stream",
     "text": [
      "\n",
      "\n",
      "100%|██████████| 4/4 [00:00<00:00,  8.79it/s]\u001b[A\u001b[A\n",
      "\n",
      "  3%|▎         | 326/10000 [03:29<1:27:36,  1.84it/s]\u001b[A"
     ]
    },
    {
     "name": "stdout",
     "output_type": "stream",
     "text": [
      "tensor([[-0.9247],\n",
      "        [-0.9413],\n",
      "        [-1.1131],\n",
      "        ...,\n",
      "        [ 0.6167],\n",
      "        [ 1.1377],\n",
      "        [ 1.1434]], grad_fn=<AddBackward0>)\n",
      "[1 0 0 ... 1 1 0]\n",
      "[1 0 1 ... 1 0 0]\n",
      "[0 0 1 ... 0 0 0]\n",
      "[1 1 1 ... 1 1 0]\n"
     ]
    },
    {
     "name": "stderr",
     "output_type": "stream",
     "text": [
      "\n",
      "\n",
      "  0%|          | 0/4 [00:00<?, ?it/s]\u001b[A\u001b[A\n",
      "\n",
      " 25%|██▌       | 1/4 [00:00<00:00,  7.42it/s]\u001b[A\u001b[A\n",
      "\n",
      " 50%|█████     | 2/4 [00:00<00:00,  7.04it/s]\u001b[A\u001b[A"
     ]
    },
    {
     "name": "stdout",
     "output_type": "stream",
     "text": [
      "tensor([[1.1515],\n",
      "        [1.1074],\n",
      "        [1.1646],\n",
      "        ...,\n",
      "        [0.8169],\n",
      "        [0.6886],\n",
      "        [0.5335]], grad_fn=<AddBackward0>)\n",
      "tensor([[-0.0202],\n",
      "        [-0.1574],\n",
      "        [-0.1808],\n",
      "        ...,\n",
      "        [-1.4389],\n",
      "        [-1.4403],\n",
      "        [-1.5047]], grad_fn=<AddBackward0>)\n"
     ]
    },
    {
     "name": "stderr",
     "output_type": "stream",
     "text": [
      "\n",
      "\n",
      " 75%|███████▌  | 3/4 [00:00<00:00,  6.85it/s]\u001b[A\u001b[A\n",
      "\n",
      "100%|██████████| 4/4 [00:00<00:00,  7.31it/s]\u001b[A\u001b[A"
     ]
    },
    {
     "name": "stdout",
     "output_type": "stream",
     "text": [
      "tensor([[-0.3120],\n",
      "        [-0.2732],\n",
      "        [-0.1917],\n",
      "        ...,\n",
      "        [ 0.7367],\n",
      "        [ 0.6857],\n",
      "        [ 0.7395]], grad_fn=<AddBackward0>)\n",
      "tensor([[2.0221],\n",
      "        [1.8975],\n",
      "        [2.0708],\n",
      "        ...,\n",
      "        [3.1053],\n",
      "        [3.2186],\n",
      "        [3.1780]], grad_fn=<AddBackward0>)\n",
      "[1 0 0 ... 1 1 0]\n",
      "[1 0 1 ... 1 0 0]\n",
      "[0 0 1 ... 0 0 0]\n",
      "[1 1 1 ... 1 1 0]\n"
     ]
    },
    {
     "name": "stderr",
     "output_type": "stream",
     "text": [
      "\n",
      "\n",
      "  3%|▎         | 327/10000 [03:30<1:39:46,  1.62it/s]\u001b[A\n",
      "\n",
      "  0%|          | 0/4 [00:00<?, ?it/s]\u001b[A\u001b[A\n",
      "\n",
      " 50%|█████     | 2/4 [00:00<00:00, 10.09it/s]\u001b[A\u001b[A"
     ]
    },
    {
     "name": "stdout",
     "output_type": "stream",
     "text": [
      "tensor([[0.0181],\n",
      "        [0.0162],\n",
      "        [0.0123],\n",
      "        ...,\n",
      "        [0.6049],\n",
      "        [0.4921],\n",
      "        [0.6141]], grad_fn=<AddBackward0>)\n",
      "tensor([[ 1.4746],\n",
      "        [ 1.7066],\n",
      "        [ 1.6969],\n",
      "        ...,\n",
      "        [-0.7096],\n",
      "        [-0.6731],\n",
      "        [-0.7379]], grad_fn=<AddBackward0>)\n",
      "tensor([[1.4837],\n",
      "        [1.2188],\n",
      "        [1.5212],\n",
      "        ...,\n",
      "        [0.9757],\n",
      "        [0.9554],\n",
      "        [0.8160]], grad_fn=<AddBackward0>)\n"
     ]
    },
    {
     "name": "stderr",
     "output_type": "stream",
     "text": [
      "\n",
      "\n",
      "100%|██████████| 4/4 [00:00<00:00, 11.16it/s]\u001b[A\u001b[A\n",
      "\n",
      "  3%|▎         | 328/10000 [03:30<1:31:30,  1.76it/s]\u001b[A"
     ]
    },
    {
     "name": "stdout",
     "output_type": "stream",
     "text": [
      "tensor([[-1.5818],\n",
      "        [-1.5980],\n",
      "        [-1.5681],\n",
      "        ...,\n",
      "        [ 2.2444],\n",
      "        [ 2.0799],\n",
      "        [ 2.1901]], grad_fn=<AddBackward0>)\n",
      "[1 0 0 ... 1 1 0]\n",
      "[1 0 1 ... 1 0 0]\n",
      "[0 0 1 ... 0 0 0]\n",
      "[1 1 1 ... 1 1 0]\n"
     ]
    },
    {
     "name": "stderr",
     "output_type": "stream",
     "text": [
      "\n",
      "\n",
      "  0%|          | 0/4 [00:00<?, ?it/s]\u001b[A\u001b[A\n",
      "\n",
      " 25%|██▌       | 1/4 [00:00<00:00,  7.29it/s]\u001b[A\u001b[A\n",
      "\n",
      " 50%|█████     | 2/4 [00:00<00:00,  6.98it/s]\u001b[A\u001b[A"
     ]
    },
    {
     "name": "stdout",
     "output_type": "stream",
     "text": [
      "tensor([[-0.6937],\n",
      "        [-0.8569],\n",
      "        [-0.6889],\n",
      "        ...,\n",
      "        [ 0.2630],\n",
      "        [ 0.2642],\n",
      "        [ 0.3340]], grad_fn=<AddBackward0>)\n",
      "tensor([[-0.5047],\n",
      "        [-0.5161],\n",
      "        [-0.4188],\n",
      "        ...,\n",
      "        [ 0.1842],\n",
      "        [-0.1663],\n",
      "        [-0.2477]], grad_fn=<AddBackward0>)\n"
     ]
    },
    {
     "name": "stderr",
     "output_type": "stream",
     "text": [
      "\n",
      "\n",
      " 75%|███████▌  | 3/4 [00:00<00:00,  6.32it/s]\u001b[A\u001b[A\n",
      "\n",
      "100%|██████████| 4/4 [00:00<00:00,  7.01it/s]\u001b[A\u001b[A"
     ]
    },
    {
     "name": "stdout",
     "output_type": "stream",
     "text": [
      "tensor([[-0.8033],\n",
      "        [-0.8103],\n",
      "        [-0.9068],\n",
      "        ...,\n",
      "        [ 1.4545],\n",
      "        [ 1.0026],\n",
      "        [ 1.1128]], grad_fn=<AddBackward0>)\n",
      "tensor([[ 0.4306],\n",
      "        [ 0.3600],\n",
      "        [ 0.4198],\n",
      "        ...,\n",
      "        [-1.4612],\n",
      "        [-1.4603],\n",
      "        [-1.4599]], grad_fn=<AddBackward0>)\n",
      "[1 0 0 ... 1 1 0]\n",
      "[1 0 1 ... 1 0 0]\n",
      "[0 0 1 ... 0 0 0]\n",
      "[1 1 1 ... 1 1 0]\n"
     ]
    },
    {
     "name": "stderr",
     "output_type": "stream",
     "text": [
      "\n",
      "\n",
      "  3%|▎         | 329/10000 [03:31<1:36:52,  1.66it/s]\u001b[A\n",
      "\n",
      "  0%|          | 0/4 [00:00<?, ?it/s]\u001b[A\u001b[A\n",
      "\n",
      " 25%|██▌       | 1/4 [00:00<00:00,  6.98it/s]\u001b[A\u001b[A\n",
      "\n",
      " 50%|█████     | 2/4 [00:00<00:00,  6.69it/s]\u001b[A\u001b[A"
     ]
    },
    {
     "name": "stdout",
     "output_type": "stream",
     "text": [
      "tensor([[ 1.1187],\n",
      "        [ 1.1181],\n",
      "        [ 1.1171],\n",
      "        ...,\n",
      "        [-0.0796],\n",
      "        [-0.1613],\n",
      "        [-0.0971]], grad_fn=<AddBackward0>)\n",
      "tensor([[ 0.3049],\n",
      "        [ 0.3416],\n",
      "        [ 0.3333],\n",
      "        ...,\n",
      "        [-0.1729],\n",
      "        [-0.2141],\n",
      "        [-0.1260]], grad_fn=<AddBackward0>)\n"
     ]
    },
    {
     "name": "stderr",
     "output_type": "stream",
     "text": [
      "\n",
      "\n",
      "100%|██████████| 4/4 [00:00<00:00,  8.38it/s]\u001b[A\u001b[A\n"
     ]
    },
    {
     "name": "stdout",
     "output_type": "stream",
     "text": [
      "tensor([[-1.6529],\n",
      "        [-1.5281],\n",
      "        [-1.6338],\n",
      "        ...,\n",
      "        [ 1.9218],\n",
      "        [ 1.9134],\n",
      "        [ 1.9104]], grad_fn=<AddBackward0>)\n",
      "tensor([[-0.3678],\n",
      "        [-0.3533],\n",
      "        [-0.3593],\n",
      "        ...,\n",
      "        [-0.7274],\n",
      "        [-0.6101],\n",
      "        [-0.6667]], grad_fn=<AddBackward0>)\n",
      "[1 0 0 ... 1 1 0]\n",
      "[1 0 1 ... 1 0 0]\n",
      "[0 0 1 ... 0 0 0]\n",
      "[1 1 1 ... 1 1 0]\n"
     ]
    },
    {
     "name": "stderr",
     "output_type": "stream",
     "text": [
      "\n",
      "  3%|▎         | 330/10000 [03:32<1:43:39,  1.55it/s]\u001b[A\n",
      "\n",
      "  0%|          | 0/4 [00:00<?, ?it/s]\u001b[A\u001b[A\n",
      "\n",
      " 50%|█████     | 2/4 [00:00<00:00, 11.73it/s]\u001b[A\u001b[A"
     ]
    },
    {
     "name": "stdout",
     "output_type": "stream",
     "text": [
      "tensor([[2.5677],\n",
      "        [2.8832],\n",
      "        [2.7102],\n",
      "        ...,\n",
      "        [0.3416],\n",
      "        [0.3899],\n",
      "        [0.3363]], grad_fn=<AddBackward0>)\n",
      "tensor([[ 0.6523],\n",
      "        [ 0.6500],\n",
      "        [ 0.6545],\n",
      "        ...,\n",
      "        [ 0.0550],\n",
      "        [ 0.2498],\n",
      "        [-0.1111]], grad_fn=<AddBackward0>)\n"
     ]
    },
    {
     "name": "stderr",
     "output_type": "stream",
     "text": [
      "\n",
      "\n",
      "100%|██████████| 4/4 [00:00<00:00, 10.54it/s]\u001b[A\u001b[A\n",
      "\n",
      "  3%|▎         | 331/10000 [03:32<1:35:26,  1.69it/s]\u001b[A"
     ]
    },
    {
     "name": "stdout",
     "output_type": "stream",
     "text": [
      "tensor([[-0.6996],\n",
      "        [-0.6521],\n",
      "        [-0.6753],\n",
      "        ...,\n",
      "        [ 1.5733],\n",
      "        [ 1.7816],\n",
      "        [ 1.7384]], grad_fn=<AddBackward0>)\n",
      "tensor([[-0.6465],\n",
      "        [-0.5423],\n",
      "        [-0.5616],\n",
      "        ...,\n",
      "        [ 0.0991],\n",
      "        [ 0.2216],\n",
      "        [ 0.0900]], grad_fn=<AddBackward0>)\n",
      "[1 0 0 ... 1 1 0]\n",
      "[1 0 1 ... 1 0 0]\n",
      "[0 0 1 ... 0 0 0]\n",
      "[1 1 1 ... 1 1 0]\n"
     ]
    },
    {
     "name": "stderr",
     "output_type": "stream",
     "text": [
      "\n",
      "\n",
      "  0%|          | 0/4 [00:00<?, ?it/s]\u001b[A\u001b[A\n",
      "\n",
      " 25%|██▌       | 1/4 [00:00<00:00,  7.27it/s]\u001b[A\u001b[A\n",
      "\n",
      " 50%|█████     | 2/4 [00:00<00:00,  6.87it/s]\u001b[A\u001b[A"
     ]
    },
    {
     "name": "stdout",
     "output_type": "stream",
     "text": [
      "tensor([[ 0.1092],\n",
      "        [-0.0119],\n",
      "        [-0.0125],\n",
      "        ...,\n",
      "        [-0.0860],\n",
      "        [-0.0896],\n",
      "        [-0.1034]], grad_fn=<AddBackward0>)\n",
      "tensor([[-1.7862],\n",
      "        [-1.5759],\n",
      "        [-1.7367],\n",
      "        ...,\n",
      "        [ 0.3645],\n",
      "        [ 0.3306],\n",
      "        [ 0.1629]], grad_fn=<AddBackward0>)\n"
     ]
    },
    {
     "name": "stderr",
     "output_type": "stream",
     "text": [
      "\n",
      "\n",
      " 75%|███████▌  | 3/4 [00:00<00:00,  6.89it/s]\u001b[A\u001b[A\n",
      "\n",
      "100%|██████████| 4/4 [00:00<00:00,  7.15it/s]\u001b[A\u001b[A\n",
      "\n",
      "  3%|▎         | 332/10000 [03:33<1:37:11,  1.66it/s]\u001b[A"
     ]
    },
    {
     "name": "stdout",
     "output_type": "stream",
     "text": [
      "tensor([[0.6094],\n",
      "        [0.6282],\n",
      "        [0.5193],\n",
      "        ...,\n",
      "        [1.6608],\n",
      "        [1.7790],\n",
      "        [1.6605]], grad_fn=<AddBackward0>)\n",
      "tensor([[ 0.6875],\n",
      "        [ 0.6962],\n",
      "        [ 0.6332],\n",
      "        ...,\n",
      "        [-1.5187],\n",
      "        [-1.4520],\n",
      "        [-1.4492]], grad_fn=<AddBackward0>)\n",
      "[1 0 0 ... 1 1 0]\n",
      "[1 0 1 ... 1 0 0]\n",
      "[0 0 1 ... 0 0 0]\n",
      "[1 1 1 ... 1 1 0]\n"
     ]
    },
    {
     "name": "stderr",
     "output_type": "stream",
     "text": [
      "\n",
      "\n",
      "  0%|          | 0/4 [00:00<?, ?it/s]\u001b[A\u001b[A\n",
      "\n",
      " 25%|██▌       | 1/4 [00:00<00:00,  5.68it/s]\u001b[A\u001b[A\n",
      "\n",
      " 50%|█████     | 2/4 [00:00<00:00,  5.39it/s]\u001b[A\u001b[A"
     ]
    },
    {
     "name": "stdout",
     "output_type": "stream",
     "text": [
      "tensor([[ 0.9426],\n",
      "        [ 0.8988],\n",
      "        [ 0.9334],\n",
      "        ...,\n",
      "        [ 0.0150],\n",
      "        [-0.0084],\n",
      "        [-0.0312]], grad_fn=<AddBackward0>)\n",
      "tensor([[-1.4365],\n",
      "        [-1.3828],\n",
      "        [-1.3892],\n",
      "        ...,\n",
      "        [ 0.2811],\n",
      "        [ 0.2341],\n",
      "        [ 0.2671]], grad_fn=<AddBackward0>)\n"
     ]
    },
    {
     "name": "stderr",
     "output_type": "stream",
     "text": [
      "\n",
      "\n",
      " 75%|███████▌  | 3/4 [00:00<00:00,  5.29it/s]\u001b[A\u001b[A\n",
      "\n",
      "100%|██████████| 4/4 [00:00<00:00,  5.87it/s]\u001b[A\u001b[A"
     ]
    },
    {
     "name": "stdout",
     "output_type": "stream",
     "text": [
      "tensor([[-0.0313],\n",
      "        [ 0.1280],\n",
      "        [ 0.1859],\n",
      "        ...,\n",
      "        [ 1.9087],\n",
      "        [ 1.9112],\n",
      "        [ 1.9149]], grad_fn=<AddBackward0>)\n",
      "tensor([[2.2394],\n",
      "        [2.4146],\n",
      "        [2.2846],\n",
      "        ...,\n",
      "        [2.3266],\n",
      "        [2.3753],\n",
      "        [2.3577]], grad_fn=<AddBackward0>)\n",
      "[1 0 0 ... 1 1 0]\n",
      "[1 0 1 ... 1 0 0]\n"
     ]
    },
    {
     "name": "stderr",
     "output_type": "stream",
     "text": [
      "\n",
      "\n",
      "  3%|▎         | 333/10000 [03:34<1:56:00,  1.39it/s]\u001b[A"
     ]
    },
    {
     "name": "stdout",
     "output_type": "stream",
     "text": [
      "[0 0 1 ... 0 0 0]\n",
      "[1 1 1 ... 1 1 0]\n"
     ]
    },
    {
     "name": "stderr",
     "output_type": "stream",
     "text": [
      "\n",
      "\n",
      "  0%|          | 0/4 [00:00<?, ?it/s]\u001b[A\u001b[A"
     ]
    },
    {
     "name": "stdout",
     "output_type": "stream",
     "text": [
      "tensor([[-0.4163],\n",
      "        [-0.3751],\n",
      "        [-0.4353],\n",
      "        ...,\n",
      "        [-0.2024],\n",
      "        [-0.2412],\n",
      "        [-0.2353]], grad_fn=<AddBackward0>)\n"
     ]
    },
    {
     "name": "stderr",
     "output_type": "stream",
     "text": [
      "\n",
      "\n",
      " 50%|█████     | 2/4 [00:00<00:00, 10.18it/s]\u001b[A\u001b[A"
     ]
    },
    {
     "name": "stdout",
     "output_type": "stream",
     "text": [
      "tensor([[ 0.6490],\n",
      "        [ 0.6417],\n",
      "        [ 0.6477],\n",
      "        ...,\n",
      "        [-1.2803],\n",
      "        [-1.2026],\n",
      "        [-1.5130]], grad_fn=<AddBackward0>)\n",
      "tensor([[1.4491],\n",
      "        [1.2104],\n",
      "        [1.4225],\n",
      "        ...,\n",
      "        [0.4418],\n",
      "        [0.4045],\n",
      "        [0.4444]], grad_fn=<AddBackward0>)\n"
     ]
    },
    {
     "name": "stderr",
     "output_type": "stream",
     "text": [
      "\n",
      "\n",
      "100%|██████████| 4/4 [00:00<00:00, 11.64it/s]\u001b[A\u001b[A"
     ]
    },
    {
     "name": "stdout",
     "output_type": "stream",
     "text": [
      "tensor([[-0.2240],\n",
      "        [-0.2309],\n",
      "        [-0.2218],\n",
      "        ...,\n",
      "        [-0.8304],\n",
      "        [-0.6732],\n",
      "        [-0.7508]], grad_fn=<AddBackward0>)\n",
      "[1 0 0 ... 1 1 0]\n",
      "[1 0 1 ... 1 0 0]\n",
      "[0 0 1 ... 0 0 0]\n",
      "[1 1 1 ... 1 1 0]\n"
     ]
    },
    {
     "name": "stderr",
     "output_type": "stream",
     "text": [
      "\n",
      "\n",
      "  3%|▎         | 334/10000 [03:34<1:40:59,  1.60it/s]\u001b[A\n",
      "\n",
      "  0%|          | 0/4 [00:00<?, ?it/s]\u001b[A\u001b[A\n",
      "\n",
      " 25%|██▌       | 1/4 [00:00<00:00,  8.81it/s]\u001b[A\u001b[A"
     ]
    },
    {
     "name": "stdout",
     "output_type": "stream",
     "text": [
      "tensor([[-0.8628],\n",
      "        [-0.8620],\n",
      "        [-0.8285],\n",
      "        ...,\n",
      "        [ 0.6996],\n",
      "        [ 0.6993],\n",
      "        [ 0.6585]], grad_fn=<AddBackward0>)\n"
     ]
    },
    {
     "name": "stderr",
     "output_type": "stream",
     "text": [
      "\n",
      "\n",
      " 50%|█████     | 2/4 [00:00<00:00,  8.03it/s]\u001b[A\u001b[A"
     ]
    },
    {
     "name": "stdout",
     "output_type": "stream",
     "text": [
      "tensor([[ 0.3557],\n",
      "        [ 0.4069],\n",
      "        [ 0.4007],\n",
      "        ...,\n",
      "        [ 0.0175],\n",
      "        [-0.0313],\n",
      "        [ 0.1315]], grad_fn=<AddBackward0>)\n"
     ]
    },
    {
     "name": "stderr",
     "output_type": "stream",
     "text": [
      "\n",
      "\n",
      " 75%|███████▌  | 3/4 [00:00<00:00,  6.63it/s]\u001b[A\u001b[A"
     ]
    },
    {
     "name": "stdout",
     "output_type": "stream",
     "text": [
      "tensor([[0.7385],\n",
      "        [0.7366],\n",
      "        [0.7354],\n",
      "        ...,\n",
      "        [0.6665],\n",
      "        [0.6093],\n",
      "        [0.9696]], grad_fn=<AddBackward0>)\n"
     ]
    },
    {
     "name": "stderr",
     "output_type": "stream",
     "text": [
      "\n",
      "\n",
      "100%|██████████| 4/4 [00:00<00:00,  7.37it/s]\u001b[A\u001b[A"
     ]
    },
    {
     "name": "stdout",
     "output_type": "stream",
     "text": [
      "tensor([[-1.1047],\n",
      "        [-1.0281],\n",
      "        [-1.0809],\n",
      "        ...,\n",
      "        [-1.4334],\n",
      "        [-1.4504],\n",
      "        [-1.4490]], grad_fn=<AddBackward0>)\n",
      "[1 0 0 ... 1 1 0]\n",
      "[1 0 1 ... 1 0 0]\n",
      "[0 0 1 ... 0 0 0]\n",
      "[1 1 1 ... 1 1 0]\n"
     ]
    },
    {
     "name": "stderr",
     "output_type": "stream",
     "text": [
      "\n",
      "\n",
      "  3%|▎         | 335/10000 [03:35<1:41:18,  1.59it/s]\u001b[A\n",
      "\n",
      "  0%|          | 0/4 [00:00<?, ?it/s]\u001b[A\u001b[A"
     ]
    },
    {
     "name": "stdout",
     "output_type": "stream",
     "text": [
      "tensor([[ 2.6451],\n",
      "        [ 2.6714],\n",
      "        [ 2.6621],\n",
      "        ...,\n",
      "        [-1.1484],\n",
      "        [-1.1683],\n",
      "        [-1.1366]], grad_fn=<AddBackward0>)\n"
     ]
    },
    {
     "name": "stderr",
     "output_type": "stream",
     "text": [
      "\n",
      "\n",
      " 50%|█████     | 2/4 [00:00<00:00, 10.31it/s]\u001b[A\u001b[A"
     ]
    },
    {
     "name": "stdout",
     "output_type": "stream",
     "text": [
      "tensor([[-0.0479],\n",
      "        [-0.0915],\n",
      "        [-0.0904],\n",
      "        ...,\n",
      "        [ 0.4399],\n",
      "        [ 0.3656],\n",
      "        [ 0.4288]], grad_fn=<AddBackward0>)\n",
      "tensor([[-1.5689],\n",
      "        [-1.6696],\n",
      "        [-1.4967],\n",
      "        ...,\n",
      "        [ 1.0516],\n",
      "        [ 1.0452],\n",
      "        [ 1.0358]], grad_fn=<AddBackward0>)\n"
     ]
    },
    {
     "name": "stderr",
     "output_type": "stream",
     "text": [
      "\n",
      "\n",
      "100%|██████████| 4/4 [00:00<00:00, 11.38it/s]\u001b[A\u001b[A"
     ]
    },
    {
     "name": "stdout",
     "output_type": "stream",
     "text": [
      "tensor([[-1.5095],\n",
      "        [-1.3131],\n",
      "        [-1.4162],\n",
      "        ...,\n",
      "        [ 0.8905],\n",
      "        [ 1.0582],\n",
      "        [ 1.1848]], grad_fn=<AddBackward0>)\n",
      "[1 0 0 ... 1 1 0]\n",
      "[1 0 1 ... 1 0 0]\n"
     ]
    },
    {
     "name": "stderr",
     "output_type": "stream",
     "text": [
      "\n",
      "\n",
      "  3%|▎         | 336/10000 [03:35<1:44:59,  1.53it/s]\u001b[A"
     ]
    },
    {
     "name": "stdout",
     "output_type": "stream",
     "text": [
      "[0 0 1 ... 0 0 0]\n",
      "[1 1 1 ... 1 1 0]\n",
      "\n",
      "Epoch: 336, Loss: 446.0596, Val: 0.6819, Test: 0.6814\n",
      "[0 0 1 ... 0 0 0]\n",
      "[1 1 1 ... 1 1 0]\n",
      "[1 0 0 ... 1 1 0]\n",
      "[1 0 1 ... 1 0 0]\n"
     ]
    },
    {
     "name": "stderr",
     "output_type": "stream",
     "text": [
      "\n",
      "\n",
      "  0%|          | 0/4 [00:00<?, ?it/s]\u001b[A\u001b[A\n",
      "\n",
      " 25%|██▌       | 1/4 [00:00<00:00,  5.61it/s]\u001b[A\u001b[A\n",
      "\n",
      " 50%|█████     | 2/4 [00:00<00:00,  6.24it/s]\u001b[A\u001b[A"
     ]
    },
    {
     "name": "stdout",
     "output_type": "stream",
     "text": [
      "tensor([[-1.7934],\n",
      "        [-1.8057],\n",
      "        [-1.8868],\n",
      "        ...,\n",
      "        [-3.2123],\n",
      "        [-3.0712],\n",
      "        [-3.2771]], grad_fn=<AddBackward0>)\n",
      "tensor([[-1.2174],\n",
      "        [-1.1932],\n",
      "        [-1.2994],\n",
      "        ...,\n",
      "        [-1.4557],\n",
      "        [-1.4367],\n",
      "        [-1.1339]], grad_fn=<AddBackward0>)\n"
     ]
    },
    {
     "name": "stderr",
     "output_type": "stream",
     "text": [
      "\n",
      "\n",
      "100%|██████████| 4/4 [00:00<00:00,  7.59it/s]\u001b[A\u001b[A\n"
     ]
    },
    {
     "name": "stdout",
     "output_type": "stream",
     "text": [
      "tensor([[1.7282],\n",
      "        [1.7747],\n",
      "        [1.7344],\n",
      "        ...,\n",
      "        [1.8402],\n",
      "        [1.8499],\n",
      "        [1.9653]], grad_fn=<AddBackward0>)\n",
      "tensor([[0.3030],\n",
      "        [0.2255],\n",
      "        [0.3387],\n",
      "        ...,\n",
      "        [0.5941],\n",
      "        [0.5981],\n",
      "        [0.6015]], grad_fn=<AddBackward0>)\n",
      "[1 0 0 ... 1 1 0]\n",
      "[1 0 1 ... 1 0 0]\n",
      "[0 0 1 ... 0 0 0]\n",
      "[1 1 1 ... 1 1 0]\n",
      "\n",
      "Epoch: 337, Loss: 436.1584, Val: 0.6822, Test: 0.6817\n",
      "[0 0 1 ... 0 0 0]\n",
      "[1 1 1 ... 1 1 0]\n"
     ]
    },
    {
     "name": "stderr",
     "output_type": "stream",
     "text": [
      "\n",
      "  3%|▎         | 337/10000 [03:36<1:53:17,  1.42it/s]\u001b[A"
     ]
    },
    {
     "name": "stdout",
     "output_type": "stream",
     "text": [
      "[1 0 0 ... 1 1 0]\n",
      "[1 0 1 ... 1 0 0]\n"
     ]
    },
    {
     "name": "stderr",
     "output_type": "stream",
     "text": [
      "\n",
      "\n",
      "  0%|          | 0/4 [00:00<?, ?it/s]\u001b[A\u001b[A\n",
      "\n",
      " 25%|██▌       | 1/4 [00:00<00:00,  8.63it/s]\u001b[A\u001b[A"
     ]
    },
    {
     "name": "stdout",
     "output_type": "stream",
     "text": [
      "tensor([[-0.5239],\n",
      "        [-0.5225],\n",
      "        [-0.5222],\n",
      "        ...,\n",
      "        [ 0.3327],\n",
      "        [ 0.5838],\n",
      "        [ 0.4946]], grad_fn=<AddBackward0>)\n"
     ]
    },
    {
     "name": "stderr",
     "output_type": "stream",
     "text": [
      "\n",
      "\n",
      " 75%|███████▌  | 3/4 [00:00<00:00, 10.47it/s]\u001b[A\u001b[A"
     ]
    },
    {
     "name": "stdout",
     "output_type": "stream",
     "text": [
      "tensor([[-0.8177],\n",
      "        [-0.6140],\n",
      "        [-0.7082],\n",
      "        ...,\n",
      "        [-0.3779],\n",
      "        [-0.5013],\n",
      "        [-0.4338]], grad_fn=<AddBackward0>)\n",
      "tensor([[ 1.6044],\n",
      "        [ 1.4565],\n",
      "        [ 1.6011],\n",
      "        ...,\n",
      "        [-1.7589],\n",
      "        [-1.9010],\n",
      "        [-1.9208]], grad_fn=<AddBackward0>)\n"
     ]
    },
    {
     "name": "stderr",
     "output_type": "stream",
     "text": [
      "\r",
      "100%|██████████| 4/4 [00:00<00:00, 11.14it/s]"
     ]
    },
    {
     "name": "stdout",
     "output_type": "stream",
     "text": [
      "tensor([[ 0.0665],\n",
      "        [-0.0332],\n",
      "        [ 0.0429],\n",
      "        ...,\n",
      "        [ 0.5883],\n",
      "        [ 0.8705],\n",
      "        [ 1.2919]], grad_fn=<AddBackward0>)\n",
      "[1 0 0 ... 1 1 0]\n",
      "[1 0 1 ... 1 0 0]\n",
      "[0 0 1 ... 0 0 0]\n",
      "[1 1 1 ... 1 1 0]\n"
     ]
    },
    {
     "name": "stderr",
     "output_type": "stream",
     "text": [
      "\n",
      "\n",
      "  3%|▎         | 338/10000 [03:37<1:43:57,  1.55it/s]\u001b[A"
     ]
    },
    {
     "name": "stdout",
     "output_type": "stream",
     "text": [
      "\n",
      "Epoch: 338, Loss: 431.5585, Val: 0.6822, Test: 0.6815\n",
      "[0 0 1 ... 0 0 0]\n",
      "[1 1 1 ... 1 1 0]\n",
      "[1 0 0 ... 1 1 0]\n",
      "[1 0 1 ... 1 0 0]\n"
     ]
    },
    {
     "name": "stderr",
     "output_type": "stream",
     "text": [
      "\n",
      "\n",
      "  0%|          | 0/4 [00:00<?, ?it/s]\u001b[A\u001b[A\n",
      "\n",
      " 25%|██▌       | 1/4 [00:00<00:00,  8.79it/s]\u001b[A\u001b[A"
     ]
    },
    {
     "name": "stdout",
     "output_type": "stream",
     "text": [
      "tensor([[ 0.0452],\n",
      "        [-0.0245],\n",
      "        [ 0.0172],\n",
      "        ...,\n",
      "        [-0.1177],\n",
      "        [-0.1282],\n",
      "        [-0.1004]], grad_fn=<AddBackward0>)\n"
     ]
    },
    {
     "name": "stderr",
     "output_type": "stream",
     "text": [
      "\n",
      "\n",
      " 50%|█████     | 2/4 [00:00<00:00,  8.28it/s]\u001b[A\u001b[A"
     ]
    },
    {
     "name": "stdout",
     "output_type": "stream",
     "text": [
      "tensor([[ 1.6785],\n",
      "        [ 1.7081],\n",
      "        [ 1.6718],\n",
      "        ...,\n",
      "        [-0.5943],\n",
      "        [-0.6135],\n",
      "        [-0.5567]], grad_fn=<AddBackward0>)\n"
     ]
    },
    {
     "name": "stderr",
     "output_type": "stream",
     "text": [
      "\n",
      "\n",
      "100%|██████████| 4/4 [00:00<00:00, 10.12it/s]\u001b[A\u001b[A"
     ]
    },
    {
     "name": "stdout",
     "output_type": "stream",
     "text": [
      "tensor([[0.3046],\n",
      "        [0.3507],\n",
      "        [0.3264],\n",
      "        ...,\n",
      "        [0.3723],\n",
      "        [0.3189],\n",
      "        [0.4787]], grad_fn=<AddBackward0>)\n",
      "tensor([[ 0.5396],\n",
      "        [ 0.5629],\n",
      "        [ 0.4668],\n",
      "        ...,\n",
      "        [-0.2379],\n",
      "        [-0.2308],\n",
      "        [-0.2892]], grad_fn=<AddBackward0>)\n",
      "[1 0 0 ... 1 1 0]\n",
      "[1 0 1 ... 1 0 0]\n"
     ]
    },
    {
     "name": "stderr",
     "output_type": "stream",
     "text": [
      "\n",
      "\n",
      "  3%|▎         | 339/10000 [03:37<1:49:56,  1.46it/s]\u001b[A"
     ]
    },
    {
     "name": "stdout",
     "output_type": "stream",
     "text": [
      "[0 0 1 ... 0 0 0]\n",
      "[1 1 1 ... 1 1 0]\n",
      "\n",
      "Epoch: 339, Loss: 427.0931, Val: 0.6824, Test: 0.6817\n",
      "[0 0 1 ... 0 0 0]\n",
      "[1 1 1 ... 1 1 0]\n",
      "[1 0 0 ... 1 1 0]\n",
      "[1 0 1 ... 1 0 0]\n"
     ]
    },
    {
     "name": "stderr",
     "output_type": "stream",
     "text": [
      "\n",
      "\n",
      "  0%|          | 0/4 [00:00<?, ?it/s]\u001b[A\u001b[A\n",
      "\n",
      " 25%|██▌       | 1/4 [00:00<00:00,  6.78it/s]\u001b[A\u001b[A\n",
      "\n",
      " 50%|█████     | 2/4 [00:00<00:00,  5.81it/s]\u001b[A\u001b[A"
     ]
    },
    {
     "name": "stdout",
     "output_type": "stream",
     "text": [
      "tensor([[ 0.0102],\n",
      "        [-0.0012],\n",
      "        [ 0.0046],\n",
      "        ...,\n",
      "        [-0.0967],\n",
      "        [-0.0570],\n",
      "        [ 0.0163]], grad_fn=<AddBackward0>)\n",
      "tensor([[3.5210],\n",
      "        [3.5397],\n",
      "        [3.5601],\n",
      "        ...,\n",
      "        [1.0108],\n",
      "        [0.7870],\n",
      "        [0.8968]], grad_fn=<AddBackward0>)\n"
     ]
    },
    {
     "name": "stderr",
     "output_type": "stream",
     "text": [
      "\n",
      "\n",
      " 75%|███████▌  | 3/4 [00:00<00:00,  5.88it/s]\u001b[A\u001b[A\n",
      "\n",
      "100%|██████████| 4/4 [00:00<00:00,  6.24it/s]\u001b[A\u001b[A"
     ]
    },
    {
     "name": "stdout",
     "output_type": "stream",
     "text": [
      "tensor([[ 0.5924],\n",
      "        [ 0.5488],\n",
      "        [ 0.5472],\n",
      "        ...,\n",
      "        [-3.5013],\n",
      "        [-3.5765],\n",
      "        [-4.0861]], grad_fn=<AddBackward0>)\n",
      "tensor([[-0.4270],\n",
      "        [-0.6490],\n",
      "        [-0.3740],\n",
      "        ...,\n",
      "        [ 3.5651],\n",
      "        [ 3.2470],\n",
      "        [ 3.2179]], grad_fn=<AddBackward0>)\n",
      "[1 0 0 ... 1 1 0]\n",
      "[1 0 1 ... 1 0 0]\n",
      "[0 0 1 ... 0 0 0]\n",
      "[1 1 1 ... 1 1 0]\n"
     ]
    },
    {
     "name": "stderr",
     "output_type": "stream",
     "text": [
      "\n",
      "\n",
      "  3%|▎         | 340/10000 [03:38<2:01:23,  1.33it/s]\u001b[A\n",
      "\n",
      "  0%|          | 0/4 [00:00<?, ?it/s]\u001b[A\u001b[A\n",
      "\n",
      " 50%|█████     | 2/4 [00:00<00:00, 11.99it/s]\u001b[A\u001b[A"
     ]
    },
    {
     "name": "stdout",
     "output_type": "stream",
     "text": [
      "tensor([[0.8849],\n",
      "        [0.9304],\n",
      "        [0.9139],\n",
      "        ...,\n",
      "        [2.8550],\n",
      "        [2.8797],\n",
      "        [2.8386]], grad_fn=<AddBackward0>)\n",
      "tensor([[-0.1898],\n",
      "        [-0.2203],\n",
      "        [-0.3104],\n",
      "        ...,\n",
      "        [-0.5839],\n",
      "        [-0.4525],\n",
      "        [-0.3896]], grad_fn=<AddBackward0>)\n",
      "tensor([[ 0.5408],\n",
      "        [ 0.6301],\n",
      "        [ 0.6412],\n",
      "        ...,\n",
      "        [-1.6577],\n",
      "        [-1.7162],\n",
      "        [-1.6587]], grad_fn=<AddBackward0>)\n"
     ]
    },
    {
     "name": "stderr",
     "output_type": "stream",
     "text": [
      "\n",
      "\n",
      "100%|██████████| 4/4 [00:00<00:00, 11.62it/s]\u001b[A\u001b[A\n",
      "\n",
      "  3%|▎         | 341/10000 [03:39<1:49:01,  1.48it/s]\u001b[A"
     ]
    },
    {
     "name": "stdout",
     "output_type": "stream",
     "text": [
      "tensor([[-1.8440],\n",
      "        [-1.7654],\n",
      "        [-1.7478],\n",
      "        ...,\n",
      "        [-0.5758],\n",
      "        [-0.5218],\n",
      "        [-0.4784]], grad_fn=<AddBackward0>)\n",
      "[1 0 0 ... 1 1 0]\n",
      "[1 0 1 ... 1 0 0]\n",
      "[0 0 1 ... 0 0 0]\n",
      "[1 1 1 ... 1 1 0]\n",
      "\n",
      "Epoch: 341, Loss: 429.4598, Val: 0.6825, Test: 0.6815\n",
      "[0 0 1 ... 0 0 0]\n",
      "[1 1 1 ... 1 1 0]\n",
      "[1 0 0 ... 1 1 0]\n",
      "[1 0 1 ... 1 0 0]\n"
     ]
    },
    {
     "name": "stderr",
     "output_type": "stream",
     "text": [
      "\n",
      "\n",
      "  0%|          | 0/4 [00:00<?, ?it/s]\u001b[A\u001b[A\n",
      "\n",
      " 25%|██▌       | 1/4 [00:00<00:00,  9.19it/s]\u001b[A\u001b[A\n",
      "\n",
      " 50%|█████     | 2/4 [00:00<00:00,  8.89it/s]\u001b[A\u001b[A"
     ]
    },
    {
     "name": "stdout",
     "output_type": "stream",
     "text": [
      "tensor([[-0.1537],\n",
      "        [-0.0491],\n",
      "        [ 0.0367],\n",
      "        ...,\n",
      "        [-0.2574],\n",
      "        [-0.2651],\n",
      "        [-0.2591]], grad_fn=<AddBackward0>)\n",
      "tensor([[ 0.6354],\n",
      "        [ 0.6354],\n",
      "        [ 0.6730],\n",
      "        ...,\n",
      "        [-0.0759],\n",
      "        [ 0.0491],\n",
      "        [-0.1184]], grad_fn=<AddBackward0>)\n"
     ]
    },
    {
     "name": "stderr",
     "output_type": "stream",
     "text": [
      "\n",
      "\n",
      "100%|██████████| 4/4 [00:00<00:00,  9.36it/s]\u001b[A\u001b[A"
     ]
    },
    {
     "name": "stdout",
     "output_type": "stream",
     "text": [
      "tensor([[1.3019],\n",
      "        [1.3075],\n",
      "        [1.3917],\n",
      "        ...,\n",
      "        [1.9516],\n",
      "        [1.9043],\n",
      "        [1.9512]], grad_fn=<AddBackward0>)\n",
      "tensor([[-1.7998],\n",
      "        [-1.8821],\n",
      "        [-2.0296],\n",
      "        ...,\n",
      "        [-1.3949],\n",
      "        [-1.3884],\n",
      "        [-1.3838]], grad_fn=<AddBackward0>)\n",
      "[1 0 0 ... 1 1 0]\n",
      "[1 0 1 ... 1 0 0]\n",
      "[0 0 1 ... 0 0 0]\n",
      "[1 1 1 ... 1 1 0]\n"
     ]
    },
    {
     "name": "stderr",
     "output_type": "stream",
     "text": [
      "\n",
      "\n",
      "  3%|▎         | 342/10000 [03:40<1:50:43,  1.45it/s]\u001b[A"
     ]
    },
    {
     "name": "stdout",
     "output_type": "stream",
     "text": [
      "\n",
      "Epoch: 342, Loss: 408.9479, Val: 0.6825, Test: 0.6818\n",
      "[0 0 1 ... 0 0 0]\n",
      "[1 1 1 ... 1 1 0]\n",
      "[1 0 0 ... 1 1 0]\n",
      "[1 0 1 ... 1 0 0]\n"
     ]
    },
    {
     "name": "stderr",
     "output_type": "stream",
     "text": [
      "\n",
      "\n",
      "  0%|          | 0/4 [00:00<?, ?it/s]\u001b[A\u001b[A\n",
      "\n",
      " 25%|██▌       | 1/4 [00:00<00:00,  8.33it/s]\u001b[A\u001b[A"
     ]
    },
    {
     "name": "stdout",
     "output_type": "stream",
     "text": [
      "tensor([[-0.8035],\n",
      "        [-1.0136],\n",
      "        [-0.8110],\n",
      "        ...,\n",
      "        [-0.0082],\n",
      "        [-0.0608],\n",
      "        [-0.0344]], grad_fn=<AddBackward0>)\n"
     ]
    },
    {
     "name": "stderr",
     "output_type": "stream",
     "text": [
      "\n",
      "\n",
      " 50%|█████     | 2/4 [00:00<00:00,  9.11it/s]\u001b[A\u001b[A"
     ]
    },
    {
     "name": "stdout",
     "output_type": "stream",
     "text": [
      "tensor([[ 0.8894],\n",
      "        [ 0.9368],\n",
      "        [ 0.9389],\n",
      "        ...,\n",
      "        [-0.0445],\n",
      "        [ 0.2551],\n",
      "        [ 0.4316]], grad_fn=<AddBackward0>)\n"
     ]
    },
    {
     "name": "stderr",
     "output_type": "stream",
     "text": [
      "\n",
      "\n",
      "100%|██████████| 4/4 [00:00<00:00,  9.82it/s]\u001b[A\u001b[A"
     ]
    },
    {
     "name": "stdout",
     "output_type": "stream",
     "text": [
      "tensor([[-0.0124],\n",
      "        [ 0.0306],\n",
      "        [ 0.0374],\n",
      "        ...,\n",
      "        [ 0.8506],\n",
      "        [ 0.8790],\n",
      "        [ 0.8757]], grad_fn=<AddBackward0>)\n",
      "tensor([[ 0.0588],\n",
      "        [-0.0412],\n",
      "        [ 0.1503],\n",
      "        ...,\n",
      "        [ 1.3027],\n",
      "        [ 0.7792],\n",
      "        [ 1.3155]], grad_fn=<AddBackward0>)\n",
      "[1 0 0 ... 1 1 0]\n",
      "[1 0 1 ... 1 0 0]\n"
     ]
    },
    {
     "name": "stderr",
     "output_type": "stream",
     "text": [
      "\n",
      "\n",
      "  3%|▎         | 343/10000 [03:40<1:40:39,  1.60it/s]\u001b[A"
     ]
    },
    {
     "name": "stdout",
     "output_type": "stream",
     "text": [
      "[0 0 1 ... 0 0 0]\n",
      "[1 1 1 ... 1 1 0]\n"
     ]
    },
    {
     "name": "stderr",
     "output_type": "stream",
     "text": [
      "\n",
      "\n",
      "  0%|          | 0/4 [00:00<?, ?it/s]\u001b[A\u001b[A"
     ]
    },
    {
     "name": "stdout",
     "output_type": "stream",
     "text": [
      "tensor([[1.1379],\n",
      "        [1.1409],\n",
      "        [1.1355],\n",
      "        ...,\n",
      "        [0.1013],\n",
      "        [0.1760],\n",
      "        [0.1942]], grad_fn=<AddBackward0>)\n"
     ]
    },
    {
     "name": "stderr",
     "output_type": "stream",
     "text": [
      "\n",
      "\n",
      " 50%|█████     | 2/4 [00:00<00:00, 10.94it/s]\u001b[A\u001b[A"
     ]
    },
    {
     "name": "stdout",
     "output_type": "stream",
     "text": [
      "tensor([[-0.5057],\n",
      "        [-0.4950],\n",
      "        [-0.4628],\n",
      "        ...,\n",
      "        [ 2.8519],\n",
      "        [ 2.4197],\n",
      "        [ 2.5456]], grad_fn=<AddBackward0>)\n",
      "tensor([[1.2303],\n",
      "        [1.1314],\n",
      "        [1.2756],\n",
      "        ...,\n",
      "        [1.3845],\n",
      "        [1.3935],\n",
      "        [1.4423]], grad_fn=<AddBackward0>)\n"
     ]
    },
    {
     "name": "stderr",
     "output_type": "stream",
     "text": [
      "\n",
      "\n",
      "100%|██████████| 4/4 [00:00<00:00, 11.07it/s]\u001b[A\u001b[A"
     ]
    },
    {
     "name": "stdout",
     "output_type": "stream",
     "text": [
      "tensor([[-1.7993],\n",
      "        [-1.7037],\n",
      "        [-1.7407],\n",
      "        ...,\n",
      "        [-0.2538],\n",
      "        [-0.2901],\n",
      "        [-0.3982]], grad_fn=<AddBackward0>)\n",
      "[1 0 0 ... 1 1 0]\n",
      "[1 0 1 ... 1 0 0]\n"
     ]
    },
    {
     "name": "stderr",
     "output_type": "stream",
     "text": [
      "\n"
     ]
    },
    {
     "name": "stdout",
     "output_type": "stream",
     "text": [
      "[0 0 1 ... 0 0 0]\n",
      "[1 1 1 ... 1 1 0]\n"
     ]
    },
    {
     "name": "stderr",
     "output_type": "stream",
     "text": [
      "\n",
      "  3%|▎         | 344/10000 [03:41<1:37:29,  1.65it/s]\u001b[A\n",
      "\n",
      "  0%|          | 0/4 [00:00<?, ?it/s]\u001b[A\u001b[A\n",
      "\n",
      " 50%|█████     | 2/4 [00:00<00:00, 12.70it/s]\u001b[A\u001b[A"
     ]
    },
    {
     "name": "stdout",
     "output_type": "stream",
     "text": [
      "tensor([[-0.7634],\n",
      "        [-0.6293],\n",
      "        [-0.6286],\n",
      "        ...,\n",
      "        [-1.1374],\n",
      "        [-1.1387],\n",
      "        [-1.1413]], grad_fn=<AddBackward0>)\n",
      "tensor([[ 0.9419],\n",
      "        [ 0.9886],\n",
      "        [ 1.0156],\n",
      "        ...,\n",
      "        [ 0.5200],\n",
      "        [ 0.0360],\n",
      "        [-0.2670]], grad_fn=<AddBackward0>)\n"
     ]
    },
    {
     "name": "stderr",
     "output_type": "stream",
     "text": [
      "\n",
      "\n",
      "100%|██████████| 4/4 [00:00<00:00,  8.96it/s]\u001b[A\u001b[A"
     ]
    },
    {
     "name": "stdout",
     "output_type": "stream",
     "text": [
      "tensor([[ 2.3326],\n",
      "        [ 2.4662],\n",
      "        [ 2.5894],\n",
      "        ...,\n",
      "        [-0.1277],\n",
      "        [-0.3189],\n",
      "        [-0.3082]], grad_fn=<AddBackward0>)\n",
      "tensor([[-2.0467],\n",
      "        [-2.0332],\n",
      "        [-2.0467],\n",
      "        ...,\n",
      "        [ 3.5952],\n",
      "        [ 3.5954],\n",
      "        [ 3.3400]], grad_fn=<AddBackward0>)\n",
      "[1 0 0 ... 1 1 0]\n",
      "[1 0 1 ... 1 0 0]\n",
      "[0 0 1 ... 0 0 0]\n",
      "[1 1 1 ... 1 1 0]\n"
     ]
    },
    {
     "name": "stderr",
     "output_type": "stream",
     "text": [
      "\n",
      "\n",
      "  3%|▎         | 345/10000 [03:41<1:39:59,  1.61it/s]\u001b[A"
     ]
    },
    {
     "name": "stdout",
     "output_type": "stream",
     "text": [
      "\n",
      "Epoch: 345, Loss: 408.1677, Val: 0.6825, Test: 0.6810\n",
      "[0 0 1 ... 0 0 0]\n",
      "[1 1 1 ... 1 1 0]\n",
      "[1 0 0 ... 1 1 0]\n",
      "[1 0 1 ... 1 0 0]\n"
     ]
    },
    {
     "name": "stderr",
     "output_type": "stream",
     "text": [
      "\n",
      "\n",
      "  0%|          | 0/4 [00:00<?, ?it/s]\u001b[A\u001b[A\n",
      "\n",
      " 25%|██▌       | 1/4 [00:00<00:00,  5.93it/s]\u001b[A\u001b[A\n",
      "\n",
      " 50%|█████     | 2/4 [00:00<00:00,  6.13it/s]\u001b[A\u001b[A"
     ]
    },
    {
     "name": "stdout",
     "output_type": "stream",
     "text": [
      "tensor([[-0.6866],\n",
      "        [-0.5814],\n",
      "        [-0.8876],\n",
      "        ...,\n",
      "        [ 0.3603],\n",
      "        [ 0.3756],\n",
      "        [ 0.2025]], grad_fn=<AddBackward0>)\n",
      "tensor([[-1.3365],\n",
      "        [-1.3389],\n",
      "        [-1.3400],\n",
      "        ...,\n",
      "        [ 0.7664],\n",
      "        [ 0.7172],\n",
      "        [ 0.7534]], grad_fn=<AddBackward0>)\n"
     ]
    },
    {
     "name": "stderr",
     "output_type": "stream",
     "text": [
      "\n",
      "\n",
      " 75%|███████▌  | 3/4 [00:00<00:00,  5.98it/s]\u001b[A\u001b[A\n",
      "\n",
      "100%|██████████| 4/4 [00:00<00:00,  6.46it/s]\u001b[A\u001b[A"
     ]
    },
    {
     "name": "stdout",
     "output_type": "stream",
     "text": [
      "tensor([[ 0.8121],\n",
      "        [ 0.6911],\n",
      "        [ 0.7642],\n",
      "        ...,\n",
      "        [-1.7450],\n",
      "        [-1.9268],\n",
      "        [-1.6731]], grad_fn=<AddBackward0>)\n",
      "tensor([[-1.2259],\n",
      "        [-1.2635],\n",
      "        [-1.2633],\n",
      "        ...,\n",
      "        [-1.4123],\n",
      "        [-1.3578],\n",
      "        [-1.3799]], grad_fn=<AddBackward0>)\n",
      "[1 0 0 ... 1 1 0]\n",
      "[1 0 1 ... 1 0 0]\n",
      "[0 0 1 ... 0 0 0]\n",
      "[1 1 1 ... 1 1 0]\n"
     ]
    },
    {
     "name": "stderr",
     "output_type": "stream",
     "text": [
      "\n",
      "\n",
      "  3%|▎         | 346/10000 [03:42<1:57:54,  1.36it/s]\u001b[A"
     ]
    },
    {
     "name": "stdout",
     "output_type": "stream",
     "text": [
      "\n",
      "Epoch: 346, Loss: 425.2462, Val: 0.6828, Test: 0.6810\n",
      "[0 0 1 ... 0 0 0]\n",
      "[1 1 1 ... 1 1 0]\n",
      "[1 0 0 ... 1 1 0]\n",
      "[1 0 1 ... 1 0 0]\n"
     ]
    },
    {
     "name": "stderr",
     "output_type": "stream",
     "text": [
      "\n",
      "\n",
      "  0%|          | 0/4 [00:00<?, ?it/s]\u001b[A\u001b[A\n",
      "\n",
      " 25%|██▌       | 1/4 [00:00<00:00,  8.08it/s]\u001b[A\u001b[A\n",
      "\n",
      " 50%|█████     | 2/4 [00:00<00:00,  8.93it/s]\u001b[A\u001b[A"
     ]
    },
    {
     "name": "stdout",
     "output_type": "stream",
     "text": [
      "tensor([[-0.8212],\n",
      "        [-0.7425],\n",
      "        [-0.8476],\n",
      "        ...,\n",
      "        [-0.3760],\n",
      "        [-0.5369],\n",
      "        [-0.3223]], grad_fn=<AddBackward0>)\n",
      "tensor([[0.6087],\n",
      "        [0.5823],\n",
      "        [0.4611],\n",
      "        ...,\n",
      "        [3.7349],\n",
      "        [3.4825],\n",
      "        [3.3653]], grad_fn=<AddBackward0>)\n"
     ]
    },
    {
     "name": "stderr",
     "output_type": "stream",
     "text": [
      "\n",
      "\n",
      "100%|██████████| 4/4 [00:00<00:00,  9.10it/s]\u001b[A\u001b[A\n",
      "\n",
      "  3%|▎         | 347/10000 [03:43<1:48:08,  1.49it/s]\u001b[A"
     ]
    },
    {
     "name": "stdout",
     "output_type": "stream",
     "text": [
      "tensor([[-0.4694],\n",
      "        [-0.4896],\n",
      "        [-0.4844],\n",
      "        ...,\n",
      "        [-1.2372],\n",
      "        [-1.0859],\n",
      "        [-1.2568]], grad_fn=<AddBackward0>)\n",
      "tensor([[0.2500],\n",
      "        [0.2557],\n",
      "        [0.1788],\n",
      "        ...,\n",
      "        [0.1144],\n",
      "        [0.5103],\n",
      "        [0.3637]], grad_fn=<AddBackward0>)\n",
      "[1 0 0 ... 1 1 0]\n",
      "[1 0 1 ... 1 0 0]\n",
      "[0 0 1 ... 0 0 0]\n",
      "[1 1 1 ... 1 1 0]\n"
     ]
    },
    {
     "name": "stderr",
     "output_type": "stream",
     "text": [
      "\n",
      "\n",
      "  0%|          | 0/4 [00:00<?, ?it/s]\u001b[A\u001b[A\n",
      "\n",
      " 25%|██▌       | 1/4 [00:00<00:00,  9.03it/s]\u001b[A\u001b[A\n",
      "\n",
      " 50%|█████     | 2/4 [00:00<00:00,  9.34it/s]\u001b[A\u001b[A"
     ]
    },
    {
     "name": "stdout",
     "output_type": "stream",
     "text": [
      "tensor([[-0.0396],\n",
      "        [-0.0124],\n",
      "        [-0.0369],\n",
      "        ...,\n",
      "        [ 0.3018],\n",
      "        [ 0.6551],\n",
      "        [ 0.5395]], grad_fn=<AddBackward0>)\n",
      "tensor([[-0.5834],\n",
      "        [-0.5368],\n",
      "        [-0.5576],\n",
      "        ...,\n",
      "        [-0.6604],\n",
      "        [-0.6615],\n",
      "        [-0.8107]], grad_fn=<AddBackward0>)\n"
     ]
    },
    {
     "name": "stderr",
     "output_type": "stream",
     "text": [
      "\n",
      "\n",
      "100%|██████████| 4/4 [00:00<00:00,  9.51it/s]\u001b[A\u001b[A"
     ]
    },
    {
     "name": "stdout",
     "output_type": "stream",
     "text": [
      "tensor([[-0.6669],\n",
      "        [-0.6409],\n",
      "        [-0.7083],\n",
      "        ...,\n",
      "        [ 1.4781],\n",
      "        [ 1.4730],\n",
      "        [ 1.5063]], grad_fn=<AddBackward0>)\n",
      "tensor([[-1.2584],\n",
      "        [-1.2576],\n",
      "        [-1.2380],\n",
      "        ...,\n",
      "        [-0.6317],\n",
      "        [-0.6838],\n",
      "        [-0.7625]], grad_fn=<AddBackward0>)\n",
      "[1 0 0 ... 1 1 0]\n",
      "[1 0 1 ... 1 0 0]\n",
      "[0 0 1 ... 0 0 0]\n",
      "[1 1 1 ... 1 1 0]\n"
     ]
    },
    {
     "name": "stderr",
     "output_type": "stream",
     "text": [
      "\n",
      "\n",
      "  3%|▎         | 348/10000 [03:43<1:47:05,  1.50it/s]\u001b[A\n",
      "\n",
      "  0%|          | 0/4 [00:00<?, ?it/s]\u001b[A\u001b[A\n",
      "\n",
      " 25%|██▌       | 1/4 [00:00<00:00,  9.28it/s]\u001b[A\u001b[A\n",
      "\n",
      " 50%|█████     | 2/4 [00:00<00:00,  7.08it/s]\u001b[A\u001b[A"
     ]
    },
    {
     "name": "stdout",
     "output_type": "stream",
     "text": [
      "tensor([[-0.8574],\n",
      "        [-0.8564],\n",
      "        [-0.8565],\n",
      "        ...,\n",
      "        [-0.7340],\n",
      "        [-0.5870],\n",
      "        [-0.6540]], grad_fn=<AddBackward0>)\n",
      "tensor([[-1.3969],\n",
      "        [-1.4901],\n",
      "        [-1.4087],\n",
      "        ...,\n",
      "        [-0.6572],\n",
      "        [-0.6637],\n",
      "        [-0.7430]], grad_fn=<AddBackward0>)\n"
     ]
    },
    {
     "name": "stderr",
     "output_type": "stream",
     "text": [
      "\n",
      "\n",
      " 75%|███████▌  | 3/4 [00:00<00:00,  6.44it/s]\u001b[A\u001b[A\n",
      "\n",
      "100%|██████████| 4/4 [00:00<00:00,  7.04it/s]\u001b[A\u001b[A"
     ]
    },
    {
     "name": "stdout",
     "output_type": "stream",
     "text": [
      "tensor([[1.2363],\n",
      "        [1.2501],\n",
      "        [1.2450],\n",
      "        ...,\n",
      "        [1.7128],\n",
      "        [1.7549],\n",
      "        [1.7593]], grad_fn=<AddBackward0>)\n",
      "tensor([[-0.3941],\n",
      "        [-0.4075],\n",
      "        [-0.3816],\n",
      "        ...,\n",
      "        [ 1.1238],\n",
      "        [ 0.9874],\n",
      "        [ 0.8207]], grad_fn=<AddBackward0>)\n",
      "[1 0 0 ... 1 1 0]\n",
      "[1 0 1 ... 1 0 0]\n",
      "[0 0 1 ... 0 0 0]\n",
      "[1 1 1 ... 1 1 0]\n"
     ]
    },
    {
     "name": "stderr",
     "output_type": "stream",
     "text": [
      "\n",
      "\n",
      "  3%|▎         | 349/10000 [03:44<1:47:37,  1.49it/s]\u001b[A\n",
      "\n",
      "  0%|          | 0/4 [00:00<?, ?it/s]\u001b[A\u001b[A\n",
      "\n",
      " 25%|██▌       | 1/4 [00:00<00:00,  6.28it/s]\u001b[A\u001b[A\n",
      "\n",
      " 50%|█████     | 2/4 [00:00<00:00,  6.49it/s]\u001b[A\u001b[A"
     ]
    },
    {
     "name": "stdout",
     "output_type": "stream",
     "text": [
      "tensor([[-0.9073],\n",
      "        [-0.8917],\n",
      "        [-0.8657],\n",
      "        ...,\n",
      "        [-1.5117],\n",
      "        [-1.2843],\n",
      "        [-1.4026]], grad_fn=<AddBackward0>)\n",
      "tensor([[0.6422],\n",
      "        [0.6234],\n",
      "        [0.6248],\n",
      "        ...,\n",
      "        [0.9844],\n",
      "        [1.0700],\n",
      "        [1.0795]], grad_fn=<AddBackward0>)\n"
     ]
    },
    {
     "name": "stderr",
     "output_type": "stream",
     "text": [
      "\n",
      "\n",
      " 75%|███████▌  | 3/4 [00:00<00:00,  6.39it/s]\u001b[A\u001b[A\n",
      "\n",
      "100%|██████████| 4/4 [00:00<00:00,  6.52it/s]\u001b[A\u001b[A"
     ]
    },
    {
     "name": "stdout",
     "output_type": "stream",
     "text": [
      "tensor([[-1.3068],\n",
      "        [-1.3711],\n",
      "        [-1.1579],\n",
      "        ...,\n",
      "        [ 0.4538],\n",
      "        [ 0.3670],\n",
      "        [ 0.4809]], grad_fn=<AddBackward0>)\n",
      "tensor([[-1.9104],\n",
      "        [-2.0471],\n",
      "        [-1.8095],\n",
      "        ...,\n",
      "        [-0.4416],\n",
      "        [-0.5065],\n",
      "        [-0.4401]], grad_fn=<AddBackward0>)\n",
      "[1 0 0 ... 1 1 0]\n",
      "[1 0 1 ... 1 0 0]\n",
      "[0 0 1 ... 0 0 0]\n",
      "[1 1 1 ... 1 1 0]\n"
     ]
    },
    {
     "name": "stderr",
     "output_type": "stream",
     "text": [
      "\n",
      "\n",
      "  4%|▎         | 350/10000 [03:45<1:49:59,  1.46it/s]\u001b[A\n",
      "\n",
      "  0%|          | 0/4 [00:00<?, ?it/s]\u001b[A\u001b[A\n",
      "\n",
      " 25%|██▌       | 1/4 [00:00<00:00,  7.08it/s]\u001b[A\u001b[A\n",
      "\n",
      " 50%|█████     | 2/4 [00:00<00:00,  6.89it/s]\u001b[A\u001b[A"
     ]
    },
    {
     "name": "stdout",
     "output_type": "stream",
     "text": [
      "tensor([[-0.5164],\n",
      "        [-0.5321],\n",
      "        [-0.5265],\n",
      "        ...,\n",
      "        [-0.6881],\n",
      "        [-0.4796],\n",
      "        [-0.5291]], grad_fn=<AddBackward0>)\n",
      "tensor([[ 1.3500],\n",
      "        [ 1.3430],\n",
      "        [ 1.3338],\n",
      "        ...,\n",
      "        [-0.7479],\n",
      "        [-0.7601],\n",
      "        [-0.8058]], grad_fn=<AddBackward0>)\n"
     ]
    },
    {
     "name": "stderr",
     "output_type": "stream",
     "text": [
      "\n",
      "\n",
      " 75%|███████▌  | 3/4 [00:00<00:00,  6.61it/s]\u001b[A\u001b[A\n",
      "\n",
      "100%|██████████| 4/4 [00:00<00:00,  6.97it/s]\u001b[A\u001b[A"
     ]
    },
    {
     "name": "stdout",
     "output_type": "stream",
     "text": [
      "tensor([[1.3430],\n",
      "        [1.2976],\n",
      "        [1.2250],\n",
      "        ...,\n",
      "        [1.7655],\n",
      "        [1.7578],\n",
      "        [1.7509]], grad_fn=<AddBackward0>)\n",
      "tensor([[ 0.8528],\n",
      "        [ 0.8412],\n",
      "        [ 0.8783],\n",
      "        ...,\n",
      "        [-0.1304],\n",
      "        [-0.2316],\n",
      "        [-0.2623]], grad_fn=<AddBackward0>)\n",
      "[1 0 0 ... 1 1 0]\n",
      "[1 0 1 ... 1 0 0]\n"
     ]
    },
    {
     "name": "stderr",
     "output_type": "stream",
     "text": [
      "\n",
      "\n",
      "  4%|▎         | 351/10000 [03:46<1:57:09,  1.37it/s]\u001b[A"
     ]
    },
    {
     "name": "stdout",
     "output_type": "stream",
     "text": [
      "[0 0 1 ... 0 0 0]\n",
      "[1 1 1 ... 1 1 0]\n"
     ]
    },
    {
     "name": "stderr",
     "output_type": "stream",
     "text": [
      "\n",
      "\n",
      "  0%|          | 0/4 [00:00<?, ?it/s]\u001b[A\u001b[A\n",
      "\n",
      " 25%|██▌       | 1/4 [00:00<00:00,  7.86it/s]\u001b[A\u001b[A"
     ]
    },
    {
     "name": "stdout",
     "output_type": "stream",
     "text": [
      "tensor([[-0.0326],\n",
      "        [-0.0416],\n",
      "        [-0.0119],\n",
      "        ...,\n",
      "        [ 2.4608],\n",
      "        [ 2.4700],\n",
      "        [ 2.2382]], grad_fn=<AddBackward0>)\n"
     ]
    },
    {
     "name": "stderr",
     "output_type": "stream",
     "text": [
      "\n",
      "\n",
      " 50%|█████     | 2/4 [00:00<00:00,  6.80it/s]\u001b[A\u001b[A"
     ]
    },
    {
     "name": "stdout",
     "output_type": "stream",
     "text": [
      "tensor([[ 0.6323],\n",
      "        [ 0.6332],\n",
      "        [ 0.5901],\n",
      "        ...,\n",
      "        [-1.5571],\n",
      "        [-1.4672],\n",
      "        [-1.0629]], grad_fn=<AddBackward0>)\n"
     ]
    },
    {
     "name": "stderr",
     "output_type": "stream",
     "text": [
      "\n",
      "\n",
      " 75%|███████▌  | 3/4 [00:00<00:00,  6.44it/s]\u001b[A\u001b[A"
     ]
    },
    {
     "name": "stdout",
     "output_type": "stream",
     "text": [
      "tensor([[-1.1812],\n",
      "        [-1.0328],\n",
      "        [-1.0984],\n",
      "        ...,\n",
      "        [ 0.4559],\n",
      "        [ 0.4565],\n",
      "        [ 0.5098]], grad_fn=<AddBackward0>)\n"
     ]
    },
    {
     "name": "stderr",
     "output_type": "stream",
     "text": [
      "\n",
      "\n",
      "100%|██████████| 4/4 [00:00<00:00,  6.90it/s]\u001b[A\u001b[A"
     ]
    },
    {
     "name": "stdout",
     "output_type": "stream",
     "text": [
      "tensor([[ 0.9268],\n",
      "        [ 0.6951],\n",
      "        [ 0.8913],\n",
      "        ...,\n",
      "        [-0.5274],\n",
      "        [-0.5417],\n",
      "        [-0.4289]], grad_fn=<AddBackward0>)\n",
      "[1 0 0 ... 1 1 0]\n",
      "[1 0 1 ... 1 0 0]\n",
      "[0 0 1 ... 0 0 0]\n",
      "[1 1 1 ... 1 1 0]\n"
     ]
    },
    {
     "name": "stderr",
     "output_type": "stream",
     "text": [
      "\n",
      "\n",
      "  4%|▎         | 352/10000 [03:46<1:54:46,  1.40it/s]\u001b[A\n",
      "\n",
      "  0%|          | 0/4 [00:00<?, ?it/s]\u001b[A\u001b[A"
     ]
    },
    {
     "name": "stdout",
     "output_type": "stream",
     "text": [
      "tensor([[-0.8692],\n",
      "        [-0.9251],\n",
      "        [-0.8786],\n",
      "        ...,\n",
      "        [-1.1468],\n",
      "        [-1.1388],\n",
      "        [-1.1399]], grad_fn=<AddBackward0>)\n"
     ]
    },
    {
     "name": "stderr",
     "output_type": "stream",
     "text": [
      "\n",
      "\n",
      " 50%|█████     | 2/4 [00:00<00:00,  9.49it/s]\u001b[A\u001b[A"
     ]
    },
    {
     "name": "stdout",
     "output_type": "stream",
     "text": [
      "tensor([[-0.1391],\n",
      "        [-0.4700],\n",
      "        [-0.1858],\n",
      "        ...,\n",
      "        [ 0.9830],\n",
      "        [ 1.1031],\n",
      "        [ 1.0567]], grad_fn=<AddBackward0>)\n"
     ]
    },
    {
     "name": "stderr",
     "output_type": "stream",
     "text": [
      "\n",
      "\n",
      "100%|██████████| 4/4 [00:00<00:00, 10.30it/s]\u001b[A\u001b[A"
     ]
    },
    {
     "name": "stdout",
     "output_type": "stream",
     "text": [
      "tensor([[-0.6695],\n",
      "        [-0.8948],\n",
      "        [-0.9643],\n",
      "        ...,\n",
      "        [ 1.3231],\n",
      "        [ 1.2676],\n",
      "        [ 1.2554]], grad_fn=<AddBackward0>)\n",
      "tensor([[-1.1546],\n",
      "        [-1.1696],\n",
      "        [-1.1517],\n",
      "        ...,\n",
      "        [-0.5264],\n",
      "        [-0.4946],\n",
      "        [-0.4088]], grad_fn=<AddBackward0>)\n",
      "[1 0 0 ... 1 0 0]\n",
      "[1 0 1 ... 1 0 0]\n"
     ]
    },
    {
     "name": "stderr",
     "output_type": "stream",
     "text": [
      "\n",
      "\n",
      "  4%|▎         | 353/10000 [03:47<1:43:17,  1.56it/s]\u001b[A"
     ]
    },
    {
     "name": "stdout",
     "output_type": "stream",
     "text": [
      "[0 0 1 ... 0 0 0]\n",
      "[1 1 1 ... 1 1 0]\n"
     ]
    },
    {
     "name": "stderr",
     "output_type": "stream",
     "text": [
      "\n",
      "\n",
      "  0%|          | 0/4 [00:00<?, ?it/s]\u001b[A\u001b[A\n",
      "\n",
      " 25%|██▌       | 1/4 [00:00<00:00,  9.11it/s]\u001b[A\u001b[A"
     ]
    },
    {
     "name": "stdout",
     "output_type": "stream",
     "text": [
      "tensor([[1.9165],\n",
      "        [1.7342],\n",
      "        [1.9125],\n",
      "        ...,\n",
      "        [0.8389],\n",
      "        [0.8161],\n",
      "        [0.7268]], grad_fn=<AddBackward0>)\n"
     ]
    },
    {
     "name": "stderr",
     "output_type": "stream",
     "text": [
      "\n",
      "\n",
      " 50%|█████     | 2/4 [00:00<00:00,  7.76it/s]\u001b[A\u001b[A"
     ]
    },
    {
     "name": "stdout",
     "output_type": "stream",
     "text": [
      "tensor([[-0.4575],\n",
      "        [-0.4229],\n",
      "        [-0.5297],\n",
      "        ...,\n",
      "        [ 0.7456],\n",
      "        [ 0.8685],\n",
      "        [ 0.8008]], grad_fn=<AddBackward0>)\n"
     ]
    },
    {
     "name": "stderr",
     "output_type": "stream",
     "text": [
      "\n",
      "\n",
      "100%|██████████| 4/4 [00:00<00:00,  9.04it/s]\u001b[A\u001b[A"
     ]
    },
    {
     "name": "stdout",
     "output_type": "stream",
     "text": [
      "tensor([[-0.9588],\n",
      "        [-1.0342],\n",
      "        [-1.2523],\n",
      "        ...,\n",
      "        [ 0.5391],\n",
      "        [ 0.4946],\n",
      "        [ 0.5024]], grad_fn=<AddBackward0>)\n",
      "tensor([[ 0.6412],\n",
      "        [ 0.5916],\n",
      "        [ 0.5908],\n",
      "        ...,\n",
      "        [-0.0416],\n",
      "        [-0.2021],\n",
      "        [-0.1211]], grad_fn=<AddBackward0>)\n",
      "[1 0 0 ... 1 1 0]\n",
      "[1 0 1 ... 1 0 0]\n"
     ]
    },
    {
     "name": "stderr",
     "output_type": "stream",
     "text": [
      "\n",
      "\n",
      "  4%|▎         | 354/10000 [03:48<1:44:17,  1.54it/s]\u001b[A"
     ]
    },
    {
     "name": "stdout",
     "output_type": "stream",
     "text": [
      "[0 0 1 ... 0 0 0]\n",
      "[1 1 1 ... 1 1 0]\n"
     ]
    },
    {
     "name": "stderr",
     "output_type": "stream",
     "text": [
      "\n",
      "\n",
      "  0%|          | 0/4 [00:00<?, ?it/s]\u001b[A\u001b[A\n",
      "\n",
      " 25%|██▌       | 1/4 [00:00<00:00,  9.28it/s]\u001b[A\u001b[A"
     ]
    },
    {
     "name": "stdout",
     "output_type": "stream",
     "text": [
      "tensor([[0.4973],\n",
      "        [0.4451],\n",
      "        [0.5080],\n",
      "        ...,\n",
      "        [0.5435],\n",
      "        [0.6507],\n",
      "        [0.6662]], grad_fn=<AddBackward0>)\n",
      "tensor([[ 0.8976],\n",
      "        [ 0.8603],\n",
      "        [ 0.8993],\n",
      "        ...,\n",
      "        [ 0.0097],\n",
      "        [-0.3144],\n",
      "        [ 0.1329]], grad_fn=<AddBackward0>)\n"
     ]
    },
    {
     "name": "stderr",
     "output_type": "stream",
     "text": [
      "\n",
      "\n",
      " 75%|███████▌  | 3/4 [00:00<00:00,  9.47it/s]\u001b[A\u001b[A"
     ]
    },
    {
     "name": "stdout",
     "output_type": "stream",
     "text": [
      "tensor([[1.1467],\n",
      "        [1.0421],\n",
      "        [1.1839],\n",
      "        ...,\n",
      "        [0.8905],\n",
      "        [0.7394],\n",
      "        [0.8883]], grad_fn=<AddBackward0>)\n"
     ]
    },
    {
     "name": "stderr",
     "output_type": "stream",
     "text": [
      "\n",
      "\n",
      "100%|██████████| 4/4 [00:00<00:00,  9.09it/s]\u001b[A\u001b[A"
     ]
    },
    {
     "name": "stdout",
     "output_type": "stream",
     "text": [
      "tensor([[-0.9789],\n",
      "        [-0.9890],\n",
      "        [-0.9926],\n",
      "        ...,\n",
      "        [ 3.2893],\n",
      "        [ 3.3967],\n",
      "        [ 3.4381]], grad_fn=<AddBackward0>)\n",
      "[1 0 0 ... 1 1 0]\n",
      "[1 0 1 ... 1 0 0]\n",
      "[0 0 1 ... 0 0 0]\n",
      "[1 1 1 ... 1 1 0]\n"
     ]
    },
    {
     "name": "stderr",
     "output_type": "stream",
     "text": [
      "\n",
      "\n",
      "  4%|▎         | 355/10000 [03:48<1:37:51,  1.64it/s]\u001b[A\n",
      "\n",
      "  0%|          | 0/4 [00:00<?, ?it/s]\u001b[A\u001b[A"
     ]
    },
    {
     "name": "stdout",
     "output_type": "stream",
     "text": [
      "tensor([[0.2142],\n",
      "        [0.1656],\n",
      "        [0.2145],\n",
      "        ...,\n",
      "        [2.2584],\n",
      "        [2.2104],\n",
      "        [2.1056]], grad_fn=<AddBackward0>)\n"
     ]
    },
    {
     "name": "stderr",
     "output_type": "stream",
     "text": [
      "\n",
      "\n",
      " 50%|█████     | 2/4 [00:00<00:00, 10.61it/s]\u001b[A\u001b[A"
     ]
    },
    {
     "name": "stdout",
     "output_type": "stream",
     "text": [
      "tensor([[0.0641],\n",
      "        [0.0636],\n",
      "        [0.0236],\n",
      "        ...,\n",
      "        [2.5651],\n",
      "        [2.5582],\n",
      "        [2.3956]], grad_fn=<AddBackward0>)\n",
      "tensor([[ 0.7732],\n",
      "        [ 0.7137],\n",
      "        [ 0.7141],\n",
      "        ...,\n",
      "        [-1.8399],\n",
      "        [-1.9632],\n",
      "        [-1.8050]], grad_fn=<AddBackward0>)\n"
     ]
    },
    {
     "name": "stderr",
     "output_type": "stream",
     "text": [
      "\n",
      "\n",
      "100%|██████████| 4/4 [00:00<00:00, 10.47it/s]\u001b[A\u001b[A"
     ]
    },
    {
     "name": "stdout",
     "output_type": "stream",
     "text": [
      "tensor([[-2.7195],\n",
      "        [-2.7364],\n",
      "        [-2.7175],\n",
      "        ...,\n",
      "        [ 1.7371],\n",
      "        [ 1.8823],\n",
      "        [ 1.8546]], grad_fn=<AddBackward0>)\n"
     ]
    },
    {
     "name": "stderr",
     "output_type": "stream",
     "text": [
      "\n",
      "\n",
      "  4%|▎         | 356/10000 [03:49<1:30:26,  1.78it/s]\u001b[A"
     ]
    },
    {
     "name": "stdout",
     "output_type": "stream",
     "text": [
      "[1 0 0 ... 1 1 0]\n",
      "[1 0 1 ... 1 0 0]\n",
      "[0 0 1 ... 0 0 0]\n",
      "[1 1 1 ... 1 1 0]\n"
     ]
    },
    {
     "name": "stderr",
     "output_type": "stream",
     "text": [
      "\n",
      "\n",
      "  0%|          | 0/4 [00:00<?, ?it/s]\u001b[A\u001b[A"
     ]
    },
    {
     "name": "stdout",
     "output_type": "stream",
     "text": [
      "tensor([[-0.0508],\n",
      "        [-0.0128],\n",
      "        [-0.0530],\n",
      "        ...,\n",
      "        [-0.3034],\n",
      "        [-0.3315],\n",
      "        [-0.2668]], grad_fn=<AddBackward0>)\n"
     ]
    },
    {
     "name": "stderr",
     "output_type": "stream",
     "text": [
      "\n",
      "\n",
      " 50%|█████     | 2/4 [00:00<00:00, 10.61it/s]\u001b[A\u001b[A"
     ]
    },
    {
     "name": "stdout",
     "output_type": "stream",
     "text": [
      "tensor([[ 0.3600],\n",
      "        [ 0.2930],\n",
      "        [ 0.3647],\n",
      "        ...,\n",
      "        [-0.2417],\n",
      "        [-0.3385],\n",
      "        [-0.0160]], grad_fn=<AddBackward0>)\n",
      "tensor([[-0.0427],\n",
      "        [-0.0567],\n",
      "        [ 0.0418],\n",
      "        ...,\n",
      "        [ 1.0678],\n",
      "        [ 1.0403],\n",
      "        [ 1.0581]], grad_fn=<AddBackward0>)\n"
     ]
    },
    {
     "name": "stderr",
     "output_type": "stream",
     "text": [
      "\n",
      "\n",
      "100%|██████████| 4/4 [00:00<00:00,  8.78it/s]\u001b[A\u001b[A\n",
      "  4%|▎         | 356/10000 [03:49<1:43:36,  1.55it/s]\n",
      "0it [03:49, ?it/s]"
     ]
    },
    {
     "name": "stdout",
     "output_type": "stream",
     "text": [
      "tensor([[-1.5702],\n",
      "        [-1.6002],\n",
      "        [-1.5806],\n",
      "        ...,\n",
      "        [-1.4101],\n",
      "        [-1.4704],\n",
      "        [-1.4120]], grad_fn=<AddBackward0>)\n",
      "[1 0 0 ... 1 1 0]\n",
      "[1 0 1 ... 1 0 0]\n"
     ]
    },
    {
     "name": "stderr",
     "output_type": "stream",
     "text": [
      "\n"
     ]
    },
    {
     "ename": "KeyboardInterrupt",
     "evalue": "",
     "output_type": "error",
     "traceback": [
      "\u001b[0;31m---------------------------------------------------------------------------\u001b[0m",
      "\u001b[0;31mKeyboardInterrupt\u001b[0m                         Traceback (most recent call last)",
      "Input \u001b[0;32mIn [9]\u001b[0m, in \u001b[0;36m<cell line: 1>\u001b[0;34m()\u001b[0m\n\u001b[0;32m----> 1\u001b[0m output_dict, model \u001b[38;5;241m=\u001b[39m \u001b[43mperform_cross_validation\u001b[49m\u001b[43m(\u001b[49m\u001b[43mdata\u001b[49m\u001b[43m,\u001b[49m\u001b[43m \u001b[49m\u001b[43mparameters\u001b[49m\u001b[43m,\u001b[49m\u001b[43m \u001b[49m\u001b[43msave_embeddings\u001b[49m\u001b[38;5;241;43m=\u001b[39;49m\u001b[38;5;28;43;01mTrue\u001b[39;49;00m\u001b[43m,\u001b[49m\u001b[43m \u001b[49m\u001b[43msave_subgraph\u001b[49m\u001b[38;5;241;43m=\u001b[39;49m\u001b[38;5;28;43;01mTrue\u001b[39;49;00m\u001b[43m,\u001b[49m\u001b[43m \u001b[49m\u001b[43mfinal_fit\u001b[49m\u001b[38;5;241;43m=\u001b[39;49m\u001b[38;5;28;43;01mTrue\u001b[39;49;00m\u001b[43m)\u001b[49m\n",
      "File \u001b[0;32m~/Modelling-Students-Learning/manage_experiments.py:194\u001b[0m, in \u001b[0;36mperform_cross_validation\u001b[0;34m(data, parameters, save_embeddings, save_subgraph, model, final_fit)\u001b[0m\n\u001b[1;32m    185\u001b[0m     loss \u001b[38;5;241m=\u001b[39m train_loop(\n\u001b[1;32m    186\u001b[0m         model,\n\u001b[1;32m    187\u001b[0m         batch, \n\u001b[0;32m   (...)\u001b[0m\n\u001b[1;32m    190\u001b[0m         \u001b[38;5;66;03m#class_weights\u001b[39;00m\n\u001b[1;32m    191\u001b[0m         )\n\u001b[1;32m    192\u001b[0m losses\u001b[38;5;241m.\u001b[39mappend(loss\u001b[38;5;241m.\u001b[39mdetach()\u001b[38;5;241m.\u001b[39mitem())\n\u001b[0;32m--> 194\u001b[0m val_b \u001b[38;5;241m=\u001b[39m \u001b[43mtest_loop\u001b[49m\u001b[43m(\u001b[49m\u001b[43mmodel\u001b[49m\u001b[43m,\u001b[49m\u001b[43m \u001b[49m\u001b[43mtest_subgraph_data\u001b[49m\u001b[43m,\u001b[49m\u001b[43m \u001b[49m\u001b[43mfold\u001b[49m\u001b[43m,\u001b[49m\u001b[43m \u001b[49m\u001b[38;5;124;43m'\u001b[39;49m\u001b[38;5;124;43mval\u001b[39;49m\u001b[38;5;124;43m'\u001b[39;49m\u001b[43m)\u001b[49m\n\u001b[1;32m    195\u001b[0m test_b \u001b[38;5;241m=\u001b[39m test_loop(model, val_subgraph_data, fold, \u001b[38;5;124m'\u001b[39m\u001b[38;5;124mtest\u001b[39m\u001b[38;5;124m'\u001b[39m)\n\u001b[1;32m    197\u001b[0m \u001b[38;5;28;01mif\u001b[39;00m val_b[\u001b[38;5;124m'\u001b[39m\u001b[38;5;124mBalanced Accuracy\u001b[39m\u001b[38;5;124m'\u001b[39m\u001b[38;5;241m+\u001b[39m\u001b[38;5;124mf\u001b[39m\u001b[38;5;124m'\u001b[39m\u001b[38;5;124m_\u001b[39m\u001b[38;5;132;01m{\u001b[39;00mfold\u001b[38;5;132;01m}\u001b[39;00m\u001b[38;5;124m_val\u001b[39m\u001b[38;5;124m'\u001b[39m] \u001b[38;5;241m>\u001b[39m best_val_acc:\n",
      "File \u001b[0;32m~/anaconda3/tempnets/lib/python3.8/site-packages/torch/autograd/grad_mode.py:27\u001b[0m, in \u001b[0;36m_DecoratorContextManager.__call__.<locals>.decorate_context\u001b[0;34m(*args, **kwargs)\u001b[0m\n\u001b[1;32m     24\u001b[0m \u001b[38;5;129m@functools\u001b[39m\u001b[38;5;241m.\u001b[39mwraps(func)\n\u001b[1;32m     25\u001b[0m \u001b[38;5;28;01mdef\u001b[39;00m \u001b[38;5;21mdecorate_context\u001b[39m(\u001b[38;5;241m*\u001b[39margs, \u001b[38;5;241m*\u001b[39m\u001b[38;5;241m*\u001b[39mkwargs):\n\u001b[1;32m     26\u001b[0m     \u001b[38;5;28;01mwith\u001b[39;00m \u001b[38;5;28mself\u001b[39m\u001b[38;5;241m.\u001b[39mclone():\n\u001b[0;32m---> 27\u001b[0m         \u001b[38;5;28;01mreturn\u001b[39;00m \u001b[43mfunc\u001b[49m\u001b[43m(\u001b[49m\u001b[38;5;241;43m*\u001b[39;49m\u001b[43margs\u001b[49m\u001b[43m,\u001b[49m\u001b[43m \u001b[49m\u001b[38;5;241;43m*\u001b[39;49m\u001b[38;5;241;43m*\u001b[39;49m\u001b[43mkwargs\u001b[49m\u001b[43m)\u001b[49m\n",
      "File \u001b[0;32m~/Modelling-Students-Learning/IRT.py:115\u001b[0m, in \u001b[0;36mtest_IRT\u001b[0;34m(model, data, fold, type)\u001b[0m\n\u001b[1;32m    110\u001b[0m pred \u001b[38;5;241m=\u001b[39m model(\n\u001b[1;32m    111\u001b[0m             data\u001b[38;5;241m=\u001b[39mdata\n\u001b[1;32m    112\u001b[0m             )\u001b[38;5;241m.\u001b[39mcpu()\n\u001b[1;32m    113\u001b[0m target \u001b[38;5;241m=\u001b[39m data[\u001b[38;5;124m'\u001b[39m\u001b[38;5;124mstudent\u001b[39m\u001b[38;5;124m'\u001b[39m, \u001b[38;5;124m'\u001b[39m\u001b[38;5;124mitem\u001b[39m\u001b[38;5;124m'\u001b[39m]\u001b[38;5;241m.\u001b[39my\u001b[38;5;241m.\u001b[39mlong()\u001b[38;5;241m.\u001b[39mcpu()\u001b[38;5;241m.\u001b[39mnumpy()\n\u001b[0;32m--> 115\u001b[0m preds \u001b[38;5;241m=\u001b[39m \u001b[43mcalculate_metrics\u001b[49m\u001b[43m(\u001b[49m\u001b[43mtarget\u001b[49m\u001b[43m,\u001b[49m\u001b[43m \u001b[49m\u001b[43mpred\u001b[49m\u001b[38;5;241;43m.\u001b[39;49m\u001b[43msigmoid\u001b[49m\u001b[43m(\u001b[49m\u001b[43m)\u001b[49m\u001b[43m)\u001b[49m\n\u001b[1;32m    117\u001b[0m metrics \u001b[38;5;241m=\u001b[39m {k\u001b[38;5;241m+\u001b[39m\u001b[38;5;124mf\u001b[39m\u001b[38;5;124m'\u001b[39m\u001b[38;5;124m_\u001b[39m\u001b[38;5;132;01m{\u001b[39;00mfold\u001b[38;5;132;01m}\u001b[39;00m\u001b[38;5;124m_\u001b[39m\u001b[38;5;132;01m{\u001b[39;00m\u001b[38;5;28mtype\u001b[39m\u001b[38;5;132;01m}\u001b[39;00m\u001b[38;5;124m'\u001b[39m:v \u001b[38;5;28;01mfor\u001b[39;00m k,v \u001b[38;5;129;01min\u001b[39;00m preds\u001b[38;5;241m.\u001b[39mitems()}\n\u001b[1;32m    118\u001b[0m metrics[\u001b[38;5;124m'\u001b[39m\u001b[38;5;124mfold\u001b[39m\u001b[38;5;124m'\u001b[39m] \u001b[38;5;241m=\u001b[39m fold\n",
      "File \u001b[0;32m~/Modelling-Students-Learning/utils.py:112\u001b[0m, in \u001b[0;36mcalculate_metrics\u001b[0;34m(y_true, pred)\u001b[0m\n\u001b[1;32m    104\u001b[0m \u001b[38;5;28mprint\u001b[39m(y_pred)\n\u001b[1;32m    105\u001b[0m \u001b[38;5;28mprint\u001b[39m(y_true)\n\u001b[1;32m    106\u001b[0m \u001b[38;5;28;01mreturn\u001b[39;00m {\n\u001b[1;32m    107\u001b[0m         \u001b[38;5;124m'\u001b[39m\u001b[38;5;124mAUC\u001b[39m\u001b[38;5;124m'\u001b[39m:roc_auc_score(y_true, y_predsoft),\n\u001b[1;32m    108\u001b[0m         \u001b[38;5;124m'\u001b[39m\u001b[38;5;124mF1-score-weighted\u001b[39m\u001b[38;5;124m'\u001b[39m:f1_score(y_true, y_pred, average\u001b[38;5;241m=\u001b[39m\u001b[38;5;124m'\u001b[39m\u001b[38;5;124mweighted\u001b[39m\u001b[38;5;124m'\u001b[39m),\n\u001b[1;32m    109\u001b[0m         \u001b[38;5;66;03m# 'F1-score-macro':f1_score(y_true, y_pred, average='macro'),\u001b[39;00m\n\u001b[1;32m    110\u001b[0m         \u001b[38;5;66;03m# 'F1-score-micro':f1_score(y_true, y_pred, average='micro'),\u001b[39;00m\n\u001b[1;32m    111\u001b[0m         \u001b[38;5;66;03m# 'Accuracy':accuracy_score(y_true, y_pred),\u001b[39;00m\n\u001b[0;32m--> 112\u001b[0m         \u001b[38;5;124m'\u001b[39m\u001b[38;5;124mBalanced Accuracy\u001b[39m\u001b[38;5;124m'\u001b[39m: \u001b[43mbalanced_accuracy_score\u001b[49m\u001b[43m(\u001b[49m\u001b[43my_true\u001b[49m\u001b[43m,\u001b[49m\u001b[43m \u001b[49m\u001b[43my_pred\u001b[49m\u001b[43m)\u001b[49m,\n\u001b[1;32m    113\u001b[0m         \u001b[38;5;124m'\u001b[39m\u001b[38;5;124mPrecision-weighted\u001b[39m\u001b[38;5;124m'\u001b[39m:precision_score(y_true, y_pred, average\u001b[38;5;241m=\u001b[39m\u001b[38;5;124m'\u001b[39m\u001b[38;5;124mweighted\u001b[39m\u001b[38;5;124m'\u001b[39m),\n\u001b[1;32m    114\u001b[0m         \u001b[38;5;66;03m# 'Precision-macro':precision_score(y_true, y_pred, average='macro'),\u001b[39;00m\n\u001b[1;32m    115\u001b[0m         \u001b[38;5;66;03m# 'Precision-micro':precision_score(y_true, y_pred, average='micro'),\u001b[39;00m\n\u001b[1;32m    116\u001b[0m         \u001b[38;5;124m'\u001b[39m\u001b[38;5;124mRecall-weighted\u001b[39m\u001b[38;5;124m'\u001b[39m:recall_score(y_true, y_pred, average\u001b[38;5;241m=\u001b[39m\u001b[38;5;124m'\u001b[39m\u001b[38;5;124mweighted\u001b[39m\u001b[38;5;124m'\u001b[39m),\n\u001b[1;32m    117\u001b[0m         \u001b[38;5;66;03m# 'Recall-macro':recall_score(y_true, y_pred, average='macro'),\u001b[39;00m\n\u001b[1;32m    118\u001b[0m         \u001b[38;5;66;03m# 'Recall-micro':recall_score(y_true, y_pred, average='micro'),\u001b[39;00m\n\u001b[1;32m    119\u001b[0m         \u001b[38;5;66;03m# 'AMI': adjusted_mutual_info_score(y_true, y_pred)\u001b[39;00m\n\u001b[1;32m    120\u001b[0m         }\n",
      "File \u001b[0;32m~/anaconda3/tempnets/lib/python3.8/site-packages/sklearn/metrics/_classification.py:2002\u001b[0m, in \u001b[0;36mbalanced_accuracy_score\u001b[0;34m(y_true, y_pred, sample_weight, adjusted)\u001b[0m\n\u001b[1;32m   1933\u001b[0m \u001b[38;5;28;01mdef\u001b[39;00m \u001b[38;5;21mbalanced_accuracy_score\u001b[39m(y_true, y_pred, \u001b[38;5;241m*\u001b[39m, sample_weight\u001b[38;5;241m=\u001b[39m\u001b[38;5;28;01mNone\u001b[39;00m, adjusted\u001b[38;5;241m=\u001b[39m\u001b[38;5;28;01mFalse\u001b[39;00m):\n\u001b[1;32m   1934\u001b[0m \u001b[38;5;250m    \u001b[39m\u001b[38;5;124;03m\"\"\"Compute the balanced accuracy.\u001b[39;00m\n\u001b[1;32m   1935\u001b[0m \n\u001b[1;32m   1936\u001b[0m \u001b[38;5;124;03m    The balanced accuracy in binary and multiclass classification problems to\u001b[39;00m\n\u001b[0;32m   (...)\u001b[0m\n\u001b[1;32m   2000\u001b[0m \u001b[38;5;124;03m    0.625\u001b[39;00m\n\u001b[1;32m   2001\u001b[0m \u001b[38;5;124;03m    \"\"\"\u001b[39;00m\n\u001b[0;32m-> 2002\u001b[0m     C \u001b[38;5;241m=\u001b[39m \u001b[43mconfusion_matrix\u001b[49m\u001b[43m(\u001b[49m\u001b[43my_true\u001b[49m\u001b[43m,\u001b[49m\u001b[43m \u001b[49m\u001b[43my_pred\u001b[49m\u001b[43m,\u001b[49m\u001b[43m \u001b[49m\u001b[43msample_weight\u001b[49m\u001b[38;5;241;43m=\u001b[39;49m\u001b[43msample_weight\u001b[49m\u001b[43m)\u001b[49m\n\u001b[1;32m   2003\u001b[0m     \u001b[38;5;28;01mwith\u001b[39;00m np\u001b[38;5;241m.\u001b[39merrstate(divide\u001b[38;5;241m=\u001b[39m\u001b[38;5;124m\"\u001b[39m\u001b[38;5;124mignore\u001b[39m\u001b[38;5;124m\"\u001b[39m, invalid\u001b[38;5;241m=\u001b[39m\u001b[38;5;124m\"\u001b[39m\u001b[38;5;124mignore\u001b[39m\u001b[38;5;124m\"\u001b[39m):\n\u001b[1;32m   2004\u001b[0m         per_class \u001b[38;5;241m=\u001b[39m np\u001b[38;5;241m.\u001b[39mdiag(C) \u001b[38;5;241m/\u001b[39m C\u001b[38;5;241m.\u001b[39msum(axis\u001b[38;5;241m=\u001b[39m\u001b[38;5;241m1\u001b[39m)\n",
      "File \u001b[0;32m~/anaconda3/tempnets/lib/python3.8/site-packages/sklearn/metrics/_classification.py:307\u001b[0m, in \u001b[0;36mconfusion_matrix\u001b[0;34m(y_true, y_pred, labels, sample_weight, normalize)\u001b[0m\n\u001b[1;32m    222\u001b[0m \u001b[38;5;28;01mdef\u001b[39;00m \u001b[38;5;21mconfusion_matrix\u001b[39m(\n\u001b[1;32m    223\u001b[0m     y_true, y_pred, \u001b[38;5;241m*\u001b[39m, labels\u001b[38;5;241m=\u001b[39m\u001b[38;5;28;01mNone\u001b[39;00m, sample_weight\u001b[38;5;241m=\u001b[39m\u001b[38;5;28;01mNone\u001b[39;00m, normalize\u001b[38;5;241m=\u001b[39m\u001b[38;5;28;01mNone\u001b[39;00m\n\u001b[1;32m    224\u001b[0m ):\n\u001b[1;32m    225\u001b[0m \u001b[38;5;250m    \u001b[39m\u001b[38;5;124;03m\"\"\"Compute confusion matrix to evaluate the accuracy of a classification.\u001b[39;00m\n\u001b[1;32m    226\u001b[0m \n\u001b[1;32m    227\u001b[0m \u001b[38;5;124;03m    By definition a confusion matrix :math:`C` is such that :math:`C_{i, j}`\u001b[39;00m\n\u001b[0;32m   (...)\u001b[0m\n\u001b[1;32m    305\u001b[0m \u001b[38;5;124;03m    (0, 2, 1, 1)\u001b[39;00m\n\u001b[1;32m    306\u001b[0m \u001b[38;5;124;03m    \"\"\"\u001b[39;00m\n\u001b[0;32m--> 307\u001b[0m     y_type, y_true, y_pred \u001b[38;5;241m=\u001b[39m \u001b[43m_check_targets\u001b[49m\u001b[43m(\u001b[49m\u001b[43my_true\u001b[49m\u001b[43m,\u001b[49m\u001b[43m \u001b[49m\u001b[43my_pred\u001b[49m\u001b[43m)\u001b[49m\n\u001b[1;32m    308\u001b[0m     \u001b[38;5;28;01mif\u001b[39;00m y_type \u001b[38;5;129;01mnot\u001b[39;00m \u001b[38;5;129;01min\u001b[39;00m (\u001b[38;5;124m\"\u001b[39m\u001b[38;5;124mbinary\u001b[39m\u001b[38;5;124m\"\u001b[39m, \u001b[38;5;124m\"\u001b[39m\u001b[38;5;124mmulticlass\u001b[39m\u001b[38;5;124m\"\u001b[39m):\n\u001b[1;32m    309\u001b[0m         \u001b[38;5;28;01mraise\u001b[39;00m \u001b[38;5;167;01mValueError\u001b[39;00m(\u001b[38;5;124m\"\u001b[39m\u001b[38;5;132;01m%s\u001b[39;00m\u001b[38;5;124m is not supported\u001b[39m\u001b[38;5;124m\"\u001b[39m \u001b[38;5;241m%\u001b[39m y_type)\n",
      "File \u001b[0;32m~/anaconda3/tempnets/lib/python3.8/site-packages/sklearn/metrics/_classification.py:86\u001b[0m, in \u001b[0;36m_check_targets\u001b[0;34m(y_true, y_pred)\u001b[0m\n\u001b[1;32m     84\u001b[0m check_consistent_length(y_true, y_pred)\n\u001b[1;32m     85\u001b[0m type_true \u001b[38;5;241m=\u001b[39m type_of_target(y_true, input_name\u001b[38;5;241m=\u001b[39m\u001b[38;5;124m\"\u001b[39m\u001b[38;5;124my_true\u001b[39m\u001b[38;5;124m\"\u001b[39m)\n\u001b[0;32m---> 86\u001b[0m type_pred \u001b[38;5;241m=\u001b[39m \u001b[43mtype_of_target\u001b[49m\u001b[43m(\u001b[49m\u001b[43my_pred\u001b[49m\u001b[43m,\u001b[49m\u001b[43m \u001b[49m\u001b[43minput_name\u001b[49m\u001b[38;5;241;43m=\u001b[39;49m\u001b[38;5;124;43m\"\u001b[39;49m\u001b[38;5;124;43my_pred\u001b[39;49m\u001b[38;5;124;43m\"\u001b[39;49m\u001b[43m)\u001b[49m\n\u001b[1;32m     88\u001b[0m y_type \u001b[38;5;241m=\u001b[39m {type_true, type_pred}\n\u001b[1;32m     89\u001b[0m \u001b[38;5;28;01mif\u001b[39;00m y_type \u001b[38;5;241m==\u001b[39m {\u001b[38;5;124m\"\u001b[39m\u001b[38;5;124mbinary\u001b[39m\u001b[38;5;124m\"\u001b[39m, \u001b[38;5;124m\"\u001b[39m\u001b[38;5;124mmulticlass\u001b[39m\u001b[38;5;124m\"\u001b[39m}:\n",
      "File \u001b[0;32m~/anaconda3/tempnets/lib/python3.8/site-packages/sklearn/utils/multiclass.py:335\u001b[0m, in \u001b[0;36mtype_of_target\u001b[0;34m(y, input_name)\u001b[0m\n\u001b[1;32m    332\u001b[0m     _assert_all_finite(y, input_name\u001b[38;5;241m=\u001b[39minput_name)\n\u001b[1;32m    333\u001b[0m     \u001b[38;5;28;01mreturn\u001b[39;00m \u001b[38;5;124m\"\u001b[39m\u001b[38;5;124mcontinuous\u001b[39m\u001b[38;5;124m\"\u001b[39m \u001b[38;5;241m+\u001b[39m suffix\n\u001b[0;32m--> 335\u001b[0m \u001b[38;5;28;01mif\u001b[39;00m (\u001b[38;5;28mlen\u001b[39m(\u001b[43mnp\u001b[49m\u001b[38;5;241;43m.\u001b[39;49m\u001b[43munique\u001b[49m\u001b[43m(\u001b[49m\u001b[43my\u001b[49m\u001b[43m)\u001b[49m) \u001b[38;5;241m>\u001b[39m \u001b[38;5;241m2\u001b[39m) \u001b[38;5;129;01mor\u001b[39;00m (y\u001b[38;5;241m.\u001b[39mndim \u001b[38;5;241m>\u001b[39m\u001b[38;5;241m=\u001b[39m \u001b[38;5;241m2\u001b[39m \u001b[38;5;129;01mand\u001b[39;00m \u001b[38;5;28mlen\u001b[39m(y[\u001b[38;5;241m0\u001b[39m]) \u001b[38;5;241m>\u001b[39m \u001b[38;5;241m1\u001b[39m):\n\u001b[1;32m    336\u001b[0m     \u001b[38;5;28;01mreturn\u001b[39;00m \u001b[38;5;124m\"\u001b[39m\u001b[38;5;124mmulticlass\u001b[39m\u001b[38;5;124m\"\u001b[39m \u001b[38;5;241m+\u001b[39m suffix  \u001b[38;5;66;03m# [1, 2, 3] or [[1., 2., 3]] or [[1, 2]]\u001b[39;00m\n\u001b[1;32m    337\u001b[0m \u001b[38;5;28;01melse\u001b[39;00m:\n",
      "File \u001b[0;32m<__array_function__ internals>:180\u001b[0m, in \u001b[0;36munique\u001b[0;34m(*args, **kwargs)\u001b[0m\n",
      "File \u001b[0;32m~/anaconda3/tempnets/lib/python3.8/site-packages/numpy/lib/arraysetops.py:274\u001b[0m, in \u001b[0;36munique\u001b[0;34m(ar, return_index, return_inverse, return_counts, axis, equal_nan)\u001b[0m\n\u001b[1;32m    272\u001b[0m ar \u001b[38;5;241m=\u001b[39m np\u001b[38;5;241m.\u001b[39masanyarray(ar)\n\u001b[1;32m    273\u001b[0m \u001b[38;5;28;01mif\u001b[39;00m axis \u001b[38;5;129;01mis\u001b[39;00m \u001b[38;5;28;01mNone\u001b[39;00m:\n\u001b[0;32m--> 274\u001b[0m     ret \u001b[38;5;241m=\u001b[39m \u001b[43m_unique1d\u001b[49m\u001b[43m(\u001b[49m\u001b[43mar\u001b[49m\u001b[43m,\u001b[49m\u001b[43m \u001b[49m\u001b[43mreturn_index\u001b[49m\u001b[43m,\u001b[49m\u001b[43m \u001b[49m\u001b[43mreturn_inverse\u001b[49m\u001b[43m,\u001b[49m\u001b[43m \u001b[49m\u001b[43mreturn_counts\u001b[49m\u001b[43m,\u001b[49m\u001b[43m \u001b[49m\n\u001b[1;32m    275\u001b[0m \u001b[43m                    \u001b[49m\u001b[43mequal_nan\u001b[49m\u001b[38;5;241;43m=\u001b[39;49m\u001b[43mequal_nan\u001b[49m\u001b[43m)\u001b[49m\n\u001b[1;32m    276\u001b[0m     \u001b[38;5;28;01mreturn\u001b[39;00m _unpack_tuple(ret)\n\u001b[1;32m    278\u001b[0m \u001b[38;5;66;03m# axis was specified and not None\u001b[39;00m\n",
      "File \u001b[0;32m~/anaconda3/tempnets/lib/python3.8/site-packages/numpy/lib/arraysetops.py:336\u001b[0m, in \u001b[0;36m_unique1d\u001b[0;34m(ar, return_index, return_inverse, return_counts, equal_nan)\u001b[0m\n\u001b[1;32m    334\u001b[0m     aux \u001b[38;5;241m=\u001b[39m ar[perm]\n\u001b[1;32m    335\u001b[0m \u001b[38;5;28;01melse\u001b[39;00m:\n\u001b[0;32m--> 336\u001b[0m     \u001b[43mar\u001b[49m\u001b[38;5;241;43m.\u001b[39;49m\u001b[43msort\u001b[49m\u001b[43m(\u001b[49m\u001b[43m)\u001b[49m\n\u001b[1;32m    337\u001b[0m     aux \u001b[38;5;241m=\u001b[39m ar\n\u001b[1;32m    338\u001b[0m mask \u001b[38;5;241m=\u001b[39m np\u001b[38;5;241m.\u001b[39mempty(aux\u001b[38;5;241m.\u001b[39mshape, dtype\u001b[38;5;241m=\u001b[39mnp\u001b[38;5;241m.\u001b[39mbool_)\n",
      "\u001b[0;31mKeyboardInterrupt\u001b[0m: "
     ]
    }
   ],
   "source": [
    "output_dict, model = perform_cross_validation(data, parameters, save_embeddings=True, save_subgraph=True, final_fit=True)"
   ]
  },
  {
   "cell_type": "code",
   "execution_count": null,
   "metadata": {},
   "outputs": [],
   "source": [
    "output_dict.keys()\n",
    "output_dict['AUC_0_test']"
   ]
  },
  {
   "cell_type": "code",
   "execution_count": null,
   "metadata": {},
   "outputs": [],
   "source": [
    "unique_scales = df_item['scale'].unique()\n",
    "unique_domains = df_item['domain'].unique()\n",
    "unique_matdiff = df_item['matdiff'].sort_values().unique()\n",
    "#scale_colors = dict([(c, plt.cm.tab10(i)) for i, c in enumerate(unique_scales)])\n",
    "#domain_colors = dict([(c, plt.cm.tab10(i)) for i, c in enumerate(unique_domains)])"
   ]
  },
  {
   "cell_type": "code",
   "execution_count": null,
   "metadata": {},
   "outputs": [],
   "source": [
    "train_losses = output_dict['losses_0']\n",
    "train_edge_indices, val_edge_indices, test_edge_indices = output_dict['indices_0']\n",
    "\n",
    "train_data = output_dict['train_subgraph_data'] \n",
    "val_data = output_dict['val_subgraph_data'] \n",
    "test_data = output_dict['test_subgraph_data']\n",
    "\n",
    "aux_data = (df, df_student, df_item, df_edge, \n",
    "    #clustering_indices, \n",
    "    train_losses, #test_losses, test_aucs, \n",
    "    train_edge_indices, val_edge_indices, test_edge_indices, \n",
    "    data, train_data, val_data, test_data,\n",
    "    unique_scales, unique_domains, unique_matdiff, \n",
    "    DATA_FILE)\n",
    "\n",
    "with open(f'./results/{OUTNAME}_aux_data.pkl', 'wb') as handle:\n",
    "    pickle.dump(aux_data, handle, protocol=pickle.HIGHEST_PROTOCOL)"
   ]
  },
  {
   "cell_type": "code",
   "execution_count": null,
   "metadata": {},
   "outputs": [],
   "source": [
    "# SAVE EVERYTHING\n",
    "torch.save(model, f'./results/{OUTNAME}.pth.tar')"
   ]
  },
  {
   "cell_type": "code",
   "execution_count": null,
   "metadata": {},
   "outputs": [],
   "source": [
    "train_indices = np.arange(len(train_losses))\n",
    "fig = plt.figure()\n",
    "plt.plot(train_indices, train_losses, c='blue')\n",
    "plt.ylabel('Loss')\n",
    "plt.xlabel('Epoch')\n",
    "\n",
    "fig.tight_layout()"
   ]
  },
  {
   "cell_type": "code",
   "execution_count": null,
   "metadata": {},
   "outputs": [],
   "source": [
    "# save IRT parameters to matrix\n",
    "\n",
    "if OUTNAME == 'IRT' and IRT_DIMS == 1:    \n",
    "    #z_dict = model.get_embeddings(train_data.to(device))\n",
    "    z_dict = output_dict['embedding_0']\n",
    "    df_item['IRT1_difficulty'] = -z_dict['item']\n",
    "    df_item['IRT1_discrimination'] = z_dict['offset']\n",
    "    ability = z_dict['ability']\n",
    "    df_edge['IRT1_ability'] = ability.ravel()\n",
    "    \n",
    "    aux_data = (df, df_student, df_item, df_edge, \n",
    "    train_losses, \n",
    "    train_edge_indices, val_edge_indices, test_edge_indices,\n",
    "    data, train_data, val_data, test_data,\n",
    "    unique_scales, unique_domains, unique_matdiff, \n",
    "    DATA_FILE)\n",
    "\n",
    "    with open(f'./results/{OUTNAME}_aux_data_IRT1.pkl', 'wb') as handle:\n",
    "        pickle.dump(aux_data, handle, protocol=pickle.HIGHEST_PROTOCOL)\n",
    "        \n",
    "    #fig = plt.figure()\n",
    "    #plt.plot(df_item['IRT_difficulty'], df_item['IRT1_difficulty'], 'b.')\n",
    "    df_item_clean = df_item.dropna(subset=['IRT_difficulty', 'IRT1_difficulty'])\n",
    "    \n",
    "    print(pearsonr(df_item_clean['IRT1_difficulty'], df_item_clean['IRT_difficulty']))\n",
    "    \n",
    "    edge_feat = train_data['student', 'responds', 'item'].edge_attr.detach().cpu().numpy()\n",
    "    df_edge_clean = df_edge.dropna(subset=['IRT1_ability', 'ability', 'age'])\n",
    "    fig = plt.figure()\n",
    "    plt.plot(df_edge_clean['age'], df_edge_clean['IRT1_ability'], 'b.')\n",
    "    print(pearsonr(df_edge_clean['age'], df_edge_clean['IRT1_ability']))\n",
    "\n",
    "    fig = plt.figure()\n",
    "    plt.plot(df_edge_clean['ability'], df_edge_clean['IRT1_ability'], 'b.')\n",
    "    print(pearsonr(df_edge_clean['ability'], df_edge_clean['IRT1_ability']))\n",
    "    "
   ]
  }
 ],
 "metadata": {
  "celltoolbar": "Tags",
  "kernelspec": {
   "display_name": "Python 3 (ipykernel)",
   "language": "python",
   "name": "python3"
  },
  "language_info": {
   "codemirror_mode": {
    "name": "ipython",
    "version": 3
   },
   "file_extension": ".py",
   "mimetype": "text/x-python",
   "name": "python",
   "nbconvert_exporter": "python",
   "pygments_lexer": "ipython3",
   "version": "3.8.13"
  },
  "vscode": {
   "interpreter": {
    "hash": "88516cc94b965045253aac22be7e673e07faa374a8dfeab45aefc65ddf94d8b2"
   }
  }
 },
 "nbformat": 4,
 "nbformat_minor": 2
}
