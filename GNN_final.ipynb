{
 "cells": [
  {
   "cell_type": "code",
   "execution_count": 1,
   "metadata": {
    "tags": [
     "parameters"
    ]
   },
   "outputs": [],
   "source": [
    "IRT_DIMS = 0\n",
    "DATASET = 'test_matrix'    \n",
    "ITEM_FEATURES = 'True'\n",
    "ITEM_FEATURES = False if ITEM_FEATURES == 'False' else True"
   ]
  },
  {
   "cell_type": "code",
   "execution_count": 2,
   "metadata": {},
   "outputs": [],
   "source": [
    "import sys, os, shutil\n",
    "import pickle\n",
    "import time\n",
    "import numpy as np\n",
    "from utils import (load_data_heterogeneous, create_data_object_heterogeneous)\n",
    "import seaborn as sns\n",
    "\n",
    "#from IRT import MIRT_2PL\n",
    "#from Heterogeneous_embedder_RT import EmbedderHeterogeneous, train_embedder_heterogeneous, test_embedder_heterogeneous\n",
    "from manage_experiments import perform_cross_validation\n",
    "\n",
    "import torch\n",
    "import numpy as np\n",
    "import matplotlib.pyplot as plt\n",
    "\n",
    "from scipy.stats import pearsonr"
   ]
  },
  {
   "cell_type": "code",
   "execution_count": 3,
   "metadata": {},
   "outputs": [
    {
     "name": "stdout",
     "output_type": "stream",
     "text": [
      "cpu\n"
     ]
    }
   ],
   "source": [
    "torch.cuda.empty_cache()\n",
    "device = torch.device('cuda' if torch.cuda.is_available() else 'cpu')\n",
    "print(device)"
   ]
  },
  {
   "cell_type": "code",
   "execution_count": 4,
   "metadata": {},
   "outputs": [
    {
     "name": "stdout",
     "output_type": "stream",
     "text": [
      "{'df_name': None, 'epochs': 10000, 'learning_rate': 0.005, 'weight_decay': 0, 'early_stopping': 200, 'n_splits': 10, 'device': 'cuda:0', 'batch_size': 65536, 'neighbours': [50, 50], 'model_type': 'GNN', 'hidden_dims': [8, 8], 'decoder_dim': 8, 'batch_norm': False, 'dropout': 0, 'irt_output': False}\n",
      "test_matrix\n"
     ]
    }
   ],
   "source": [
    "# Initialise\n",
    "parameters = {\n",
    "    'df_name': None,\n",
    "    'epochs': 10000,\n",
    "    'learning_rate': 0.005,\n",
    "    'weight_decay': 0,\n",
    "    'early_stopping': 200,\n",
    "    'n_splits': 10,\n",
    "    'device': 'cuda:0',\n",
    "    'batch_size': 2**16,\n",
    "    'neighbours': [50, 50] #[-1, -1]\n",
    "    }\n",
    "\n",
    "if IRT_DIMS > 0:\n",
    "    parameters['model_type'] = 'IRT'\n",
    "    parameters['hidden_dims'] = IRT_DIMS\n",
    "    parameters['lambda1'] = 0\n",
    "    parameters['lambda2'] = 0\n",
    "    OUTNAME = 'IRT'\n",
    "else:\n",
    "    parameters['model_type'] = 'GNN'\n",
    "    parameters['hidden_dims'] = [8, 8]\n",
    "    parameters['decoder_dim'] = 8\n",
    "    parameters['batch_norm'] = False\n",
    "    parameters['dropout'] = 0\n",
    "    parameters['irt_output'] = False\n",
    "    \n",
    "    OUTNAME = 'SAGE' \n",
    "\n",
    "if ITEM_FEATURES:\n",
    "    OUTNAME = OUTNAME + '_scales'\n",
    "    \n",
    "print(parameters)\n",
    "print(DATASET)"
   ]
  },
  {
   "cell_type": "code",
   "execution_count": 5,
   "metadata": {},
   "outputs": [],
   "source": [
    "DATA_FILE = 'data/mindsteps_set_' + DATASET\n",
    "df = load_data_heterogeneous(DATA_FILE)\n",
    "data, df_student, df_item, df_edge = create_data_object_heterogeneous(df, return_aux_data=True, item_features=ITEM_FEATURES)"
   ]
  },
  {
   "cell_type": "code",
   "execution_count": 6,
   "metadata": {},
   "outputs": [
    {
     "name": "stdout",
     "output_type": "stream",
     "text": [
      "HeteroData(\n",
      "  student={\n",
      "    node_id=[3779],\n",
      "    x=[3779, 2],\n",
      "  },\n",
      "  item={\n",
      "    node_id=[5925],\n",
      "    x=[5925, 11],\n",
      "  },\n",
      "  (student, responds, item)={\n",
      "    edge_index=[2, 327841],\n",
      "    edge_attr=[327841, 2],\n",
      "    y=[327841],\n",
      "  },\n",
      "  (item, rev_responds, student)={\n",
      "    edge_index=[2, 327841],\n",
      "    y=[327841],\n",
      "  }\n",
      ")\n"
     ]
    }
   ],
   "source": [
    "print(data)"
   ]
  },
  {
   "cell_type": "code",
   "execution_count": 7,
   "metadata": {},
   "outputs": [
    {
     "data": {
      "text/plain": [
       "tensor(0.)"
      ]
     },
     "execution_count": 7,
     "metadata": {},
     "output_type": "execute_result"
    }
   ],
   "source": [
    "torch.exp(torch.tensor(-100000))"
   ]
  },
  {
   "cell_type": "code",
   "execution_count": 8,
   "metadata": {},
   "outputs": [
    {
     "data": {
      "text/plain": [
       "Index(['studentId', 'code', 'motherTongue', 'Gender', 'scale', 'matrix',\n",
       "       'IRT_difficulty', 'topic', 'responseformat', 'textlength', 'score',\n",
       "       'age', 'grade', 'viewingTime', 'timestamp', 'useCase', 'assessmentId',\n",
       "       'ability', 'frequency', 'previous_sessions', 'years_from_start',\n",
       "       'matdiff', 'matcode', 'domain'],\n",
       "      dtype='object')"
      ]
     },
     "execution_count": 8,
     "metadata": {},
     "output_type": "execute_result"
    }
   ],
   "source": [
    "df.columns"
   ]
  },
  {
   "cell_type": "code",
   "execution_count": 9,
   "metadata": {},
   "outputs": [
    {
     "data": {
      "text/html": [
       "<div>\n",
       "<style scoped>\n",
       "    .dataframe tbody tr th:only-of-type {\n",
       "        vertical-align: middle;\n",
       "    }\n",
       "\n",
       "    .dataframe tbody tr th {\n",
       "        vertical-align: top;\n",
       "    }\n",
       "\n",
       "    .dataframe thead th {\n",
       "        text-align: right;\n",
       "    }\n",
       "</style>\n",
       "<table border=\"1\" class=\"dataframe\">\n",
       "  <thead>\n",
       "    <tr style=\"text-align: right;\">\n",
       "      <th></th>\n",
       "      <th>studentId</th>\n",
       "      <th>code</th>\n",
       "      <th>motherTongue</th>\n",
       "      <th>Gender</th>\n",
       "      <th>scale</th>\n",
       "      <th>matrix</th>\n",
       "      <th>IRT_difficulty</th>\n",
       "      <th>topic</th>\n",
       "      <th>responseformat</th>\n",
       "      <th>textlength</th>\n",
       "      <th>...</th>\n",
       "      <th>timestamp</th>\n",
       "      <th>useCase</th>\n",
       "      <th>assessmentId</th>\n",
       "      <th>ability</th>\n",
       "      <th>frequency</th>\n",
       "      <th>previous_sessions</th>\n",
       "      <th>years_from_start</th>\n",
       "      <th>matdiff</th>\n",
       "      <th>matcode</th>\n",
       "      <th>domain</th>\n",
       "    </tr>\n",
       "  </thead>\n",
       "  <tbody>\n",
       "    <tr>\n",
       "      <th>0</th>\n",
       "      <td>0</td>\n",
       "      <td>0</td>\n",
       "      <td>0.0</td>\n",
       "      <td>0.0</td>\n",
       "      <td>dles</td>\n",
       "      <td>D.2.B.1.f</td>\n",
       "      <td>0.268748</td>\n",
       "      <td>Zeitungsartikel</td>\n",
       "      <td>NaN</td>\n",
       "      <td>NaN</td>\n",
       "      <td>...</td>\n",
       "      <td>7.643058e-312</td>\n",
       "      <td>ms-kber</td>\n",
       "      <td>5E9436B294DBE2FB740ADDCF2B883ECB2254B5F0D37D8E...</td>\n",
       "      <td>2.667269</td>\n",
       "      <td>13.333162</td>\n",
       "      <td>2</td>\n",
       "      <td>0.15</td>\n",
       "      <td></td>\n",
       "      <td></td>\n",
       "      <td>d</td>\n",
       "    </tr>\n",
       "    <tr>\n",
       "      <th>1</th>\n",
       "      <td>0</td>\n",
       "      <td>1</td>\n",
       "      <td>0.0</td>\n",
       "      <td>0.0</td>\n",
       "      <td>dles</td>\n",
       "      <td>D.2.B.1.h</td>\n",
       "      <td>1.217388</td>\n",
       "      <td>Textsorten erkennen</td>\n",
       "      <td>single choice</td>\n",
       "      <td>NaN</td>\n",
       "      <td>...</td>\n",
       "      <td>7.643061e-312</td>\n",
       "      <td>ms-kber</td>\n",
       "      <td>5E9436B294DBE2FB740ADDCF2B883ECB2254B5F0D37D8E...</td>\n",
       "      <td>2.667269</td>\n",
       "      <td>13.333162</td>\n",
       "      <td>2</td>\n",
       "      <td>0.15</td>\n",
       "      <td></td>\n",
       "      <td></td>\n",
       "      <td>d</td>\n",
       "    </tr>\n",
       "    <tr>\n",
       "      <th>2</th>\n",
       "      <td>0</td>\n",
       "      <td>2</td>\n",
       "      <td>0.0</td>\n",
       "      <td>0.0</td>\n",
       "      <td>dles</td>\n",
       "      <td>D.2.B.1.h</td>\n",
       "      <td>1.584145</td>\n",
       "      <td>Wissenstexte: Mix</td>\n",
       "      <td>single choice</td>\n",
       "      <td>NaN</td>\n",
       "      <td>...</td>\n",
       "      <td>7.845624e-312</td>\n",
       "      <td>ms-kber</td>\n",
       "      <td>E109B3CDD31EDCFE7F48665587372C60A3FAEBB8571544...</td>\n",
       "      <td>2.421279</td>\n",
       "      <td>4.137915</td>\n",
       "      <td>6</td>\n",
       "      <td>1.45</td>\n",
       "      <td></td>\n",
       "      <td></td>\n",
       "      <td>d</td>\n",
       "    </tr>\n",
       "    <tr>\n",
       "      <th>3</th>\n",
       "      <td>0</td>\n",
       "      <td>3</td>\n",
       "      <td>0.0</td>\n",
       "      <td>0.0</td>\n",
       "      <td>dles</td>\n",
       "      <td>D.2.B.1.h</td>\n",
       "      <td>1.584145</td>\n",
       "      <td>Wissenstexte: Mix</td>\n",
       "      <td>single choice</td>\n",
       "      <td>NaN</td>\n",
       "      <td>...</td>\n",
       "      <td>7.851631e-312</td>\n",
       "      <td>ms-kber</td>\n",
       "      <td>319A0FE3AFDC0A30C4C1B26577B5B19FE66E918A181354...</td>\n",
       "      <td>2.174872</td>\n",
       "      <td>7.432378</td>\n",
       "      <td>11</td>\n",
       "      <td>1.48</td>\n",
       "      <td></td>\n",
       "      <td></td>\n",
       "      <td>d</td>\n",
       "    </tr>\n",
       "    <tr>\n",
       "      <th>4</th>\n",
       "      <td>0</td>\n",
       "      <td>4</td>\n",
       "      <td>0.0</td>\n",
       "      <td>0.0</td>\n",
       "      <td>dles</td>\n",
       "      <td>D.2.C.1.h</td>\n",
       "      <td>1.172410</td>\n",
       "      <td>Geschichten lang</td>\n",
       "      <td>single choice</td>\n",
       "      <td>NaN</td>\n",
       "      <td>...</td>\n",
       "      <td>7.643059e-312</td>\n",
       "      <td>ms-kber</td>\n",
       "      <td>5E9436B294DBE2FB740ADDCF2B883ECB2254B5F0D37D8E...</td>\n",
       "      <td>2.667269</td>\n",
       "      <td>13.333162</td>\n",
       "      <td>2</td>\n",
       "      <td>0.15</td>\n",
       "      <td></td>\n",
       "      <td></td>\n",
       "      <td>d</td>\n",
       "    </tr>\n",
       "  </tbody>\n",
       "</table>\n",
       "<p>5 rows × 24 columns</p>\n",
       "</div>"
      ],
      "text/plain": [
       "   studentId  code  motherTongue  Gender scale     matrix  IRT_difficulty  \\\n",
       "0          0     0           0.0     0.0  dles  D.2.B.1.f        0.268748   \n",
       "1          0     1           0.0     0.0  dles  D.2.B.1.h        1.217388   \n",
       "2          0     2           0.0     0.0  dles  D.2.B.1.h        1.584145   \n",
       "3          0     3           0.0     0.0  dles  D.2.B.1.h        1.584145   \n",
       "4          0     4           0.0     0.0  dles  D.2.C.1.h        1.172410   \n",
       "\n",
       "                 topic responseformat  textlength  ...      timestamp  \\\n",
       "0      Zeitungsartikel            NaN         NaN  ...  7.643058e-312   \n",
       "1  Textsorten erkennen  single choice         NaN  ...  7.643061e-312   \n",
       "2    Wissenstexte: Mix  single choice         NaN  ...  7.845624e-312   \n",
       "3    Wissenstexte: Mix  single choice         NaN  ...  7.851631e-312   \n",
       "4     Geschichten lang  single choice         NaN  ...  7.643059e-312   \n",
       "\n",
       "   useCase                                       assessmentId   ability  \\\n",
       "0  ms-kber  5E9436B294DBE2FB740ADDCF2B883ECB2254B5F0D37D8E...  2.667269   \n",
       "1  ms-kber  5E9436B294DBE2FB740ADDCF2B883ECB2254B5F0D37D8E...  2.667269   \n",
       "2  ms-kber  E109B3CDD31EDCFE7F48665587372C60A3FAEBB8571544...  2.421279   \n",
       "3  ms-kber  319A0FE3AFDC0A30C4C1B26577B5B19FE66E918A181354...  2.174872   \n",
       "4  ms-kber  5E9436B294DBE2FB740ADDCF2B883ECB2254B5F0D37D8E...  2.667269   \n",
       "\n",
       "   frequency previous_sessions years_from_start  matdiff  matcode  domain  \n",
       "0  13.333162                 2             0.15                         d  \n",
       "1  13.333162                 2             0.15                         d  \n",
       "2   4.137915                 6             1.45                         d  \n",
       "3   7.432378                11             1.48                         d  \n",
       "4  13.333162                 2             0.15                         d  \n",
       "\n",
       "[5 rows x 24 columns]"
      ]
     },
     "execution_count": 9,
     "metadata": {},
     "output_type": "execute_result"
    }
   ],
   "source": [
    "df.head()"
   ]
  },
  {
   "cell_type": "markdown",
   "metadata": {},
   "source": [
    "edge_dim = data['student', 'responds', 'item'].edge_attr.shape[1]\n",
    "if IRT_DIMS > 0:\n",
    "    model = MIRT_2PL(IRT_DIMS, edge_dim, data)\n",
    "else:\n",
    "    model = EmbedderHeterogeneous( \n",
    "        n_students =  data['student'].x.size(0),\n",
    "        n_items = data['item'].x.size(0),\n",
    "        student_inchannel = data['student'].x.size(1),\n",
    "        item_inchannel = data['item'].x.size(1),\n",
    "        hidden_channels=parameters['hidden_dims'],\n",
    "        edge_channel=edge_dim,\n",
    "        metadata=data.metadata()\n",
    "        ).to(device)\n",
    "    \n",
    "model = model.to(device)"
   ]
  },
  {
   "cell_type": "code",
   "execution_count": 10,
   "metadata": {},
   "outputs": [
    {
     "name": "stdout",
     "output_type": "stream",
     "text": [
      "WARNING: running with a fixed random state\n"
     ]
    },
    {
     "name": "stderr",
     "output_type": "stream",
     "text": [
      "0it [00:00, ?it/s]"
     ]
    },
    {
     "name": "stdout",
     "output_type": "stream",
     "text": [
      "Parameters\n",
      "{'n_students': 3779, 'n_items': 5925, 'student_inchannel': 2, 'item_inchannel': 11, 'hidden_channels': [8, 8], 'decoder_channel': 8, 'edge_channel': 2, 'dropout': 0, 'batch_norm': False, 'irt_output': False, 'use_offset': True}\n"
     ]
    },
    {
     "name": "stderr",
     "output_type": "stream",
     "text": [
      "\n",
      "  0%|          | 0/10000 [00:00<?, ?it/s]\u001b[A\n",
      "\n",
      "  0%|          | 0/1 [00:00<?, ?it/s]\u001b[A\u001b[A\n",
      "\n",
      "100%|██████████| 1/1 [00:00<00:00,  1.52it/s]\u001b[A\u001b[A\n"
     ]
    },
    {
     "name": "stdout",
     "output_type": "stream",
     "text": [
      "\n",
      "Epoch: 001, Loss: 0.7732, Val: 0.4994, Test: 0.4988\n"
     ]
    },
    {
     "name": "stderr",
     "output_type": "stream",
     "text": [
      "\n",
      "  0%|          | 1/10000 [00:01<3:29:56,  1.26s/it]\u001b[A\n",
      "\n",
      "  0%|          | 0/1 [00:00<?, ?it/s]\u001b[A\u001b[A\n",
      "\n",
      "100%|██████████| 1/1 [00:00<00:00,  1.44it/s]\u001b[A\u001b[A\n",
      "\n",
      "  0%|          | 2/10000 [00:02<3:10:06,  1.14s/it]\u001b[A\n",
      "\n",
      "  0%|          | 0/1 [00:00<?, ?it/s]\u001b[A\u001b[A\n",
      "\n",
      "100%|██████████| 1/1 [00:00<00:00,  1.57it/s]\u001b[A\u001b[A\n",
      "\n",
      "  0%|          | 3/10000 [00:03<2:48:43,  1.01s/it]\u001b[A\n",
      "\n",
      "  0%|          | 0/1 [00:00<?, ?it/s]\u001b[A\u001b[A\n",
      "\n",
      "100%|██████████| 1/1 [00:00<00:00,  1.65it/s]\u001b[A\u001b[A\n",
      "\n",
      "  0%|          | 4/10000 [00:04<2:39:13,  1.05it/s]\u001b[A\n",
      "\n",
      "  0%|          | 0/1 [00:00<?, ?it/s]\u001b[A\u001b[A\n",
      "\n",
      "100%|██████████| 1/1 [00:00<00:00,  2.24it/s]\u001b[A\u001b[A\n",
      "\n",
      "  0%|          | 5/10000 [00:04<2:21:36,  1.18it/s]\u001b[A\n",
      "\n",
      "  0%|          | 0/1 [00:00<?, ?it/s]\u001b[A\u001b[A\n",
      "\n",
      "100%|██████████| 1/1 [00:00<00:00,  1.92it/s]\u001b[A\u001b[A\n",
      "\n",
      "  0%|          | 6/10000 [00:05<2:18:28,  1.20it/s]\u001b[A\n",
      "\n",
      "  0%|          | 0/1 [00:00<?, ?it/s]\u001b[A\u001b[A\n",
      "\n",
      "100%|██████████| 1/1 [00:00<00:00,  1.32it/s]\u001b[A\u001b[A\n",
      "\n",
      "  0%|          | 7/10000 [00:06<2:37:26,  1.06it/s]\u001b[A\n",
      "\n",
      "  0%|          | 0/1 [00:00<?, ?it/s]\u001b[A\u001b[A\n",
      "\n",
      "100%|██████████| 1/1 [00:00<00:00,  1.10it/s]\u001b[A\u001b[A\n",
      "\n",
      "  0%|          | 8/10000 [00:08<2:58:43,  1.07s/it]\u001b[A\n",
      "\n",
      "  0%|          | 0/1 [00:00<?, ?it/s]\u001b[A\u001b[A\n",
      "\n",
      "100%|██████████| 1/1 [00:00<00:00,  1.02it/s]\u001b[A\u001b[A\n",
      "\n",
      "  0%|          | 9/10000 [00:09<3:15:34,  1.17s/it]\u001b[A\n",
      "\n",
      "  0%|          | 0/1 [00:00<?, ?it/s]\u001b[A\u001b[A\n",
      "\n",
      "100%|██████████| 1/1 [00:01<00:00,  1.01s/it]\u001b[A\u001b[A\n",
      "\n",
      "  0%|          | 10/10000 [00:10<3:31:54,  1.27s/it]\u001b[A\n",
      "\n",
      "  0%|          | 0/1 [00:00<?, ?it/s]\u001b[A\u001b[A\n",
      "\n",
      "100%|██████████| 1/1 [00:00<00:00,  1.00it/s]\u001b[A\u001b[A\n",
      "\n",
      "  0%|          | 11/10000 [00:12<3:43:06,  1.34s/it]\u001b[A\n",
      "\n",
      "  0%|          | 0/1 [00:00<?, ?it/s]\u001b[A\u001b[A\n",
      "\n",
      "100%|██████████| 1/1 [00:00<00:00,  1.32it/s]\u001b[A\u001b[A\n"
     ]
    },
    {
     "name": "stdout",
     "output_type": "stream",
     "text": [
      "\n",
      "Epoch: 012, Loss: 0.6027, Val: 0.5009, Test: 0.5008\n"
     ]
    },
    {
     "name": "stderr",
     "output_type": "stream",
     "text": [
      "\n",
      "  0%|          | 12/10000 [00:13<3:39:39,  1.32s/it]\u001b[A\n",
      "\n",
      "  0%|          | 0/1 [00:00<?, ?it/s]\u001b[A\u001b[A\n",
      "\n",
      "100%|██████████| 1/1 [00:00<00:00,  1.76it/s]\u001b[A\u001b[A\n"
     ]
    },
    {
     "name": "stdout",
     "output_type": "stream",
     "text": [
      "\n",
      "Epoch: 013, Loss: 0.6054, Val: 0.5020, Test: 0.5012\n"
     ]
    },
    {
     "name": "stderr",
     "output_type": "stream",
     "text": [
      "\n",
      "  0%|          | 13/10000 [00:15<3:50:32,  1.39s/it]\u001b[A\n",
      "\n",
      "  0%|          | 0/1 [00:00<?, ?it/s]\u001b[A\u001b[A\n",
      "\n",
      "100%|██████████| 1/1 [00:01<00:00,  1.00s/it]\u001b[A\u001b[A\n"
     ]
    },
    {
     "name": "stdout",
     "output_type": "stream",
     "text": [
      "\n",
      "Epoch: 014, Loss: 0.6062, Val: 0.5022, Test: 0.5029\n"
     ]
    },
    {
     "name": "stderr",
     "output_type": "stream",
     "text": [
      "\n",
      "  0%|          | 14/10000 [00:17<4:20:32,  1.57s/it]\u001b[A\n",
      "\n",
      "  0%|          | 0/1 [00:00<?, ?it/s]\u001b[A\u001b[A\n",
      "\n",
      "100%|██████████| 1/1 [00:00<00:00,  1.11it/s]\u001b[A\u001b[A\n"
     ]
    },
    {
     "name": "stdout",
     "output_type": "stream",
     "text": [
      "\n",
      "Epoch: 015, Loss: 0.6063, Val: 0.5026, Test: 0.5035\n"
     ]
    },
    {
     "name": "stderr",
     "output_type": "stream",
     "text": [
      "\n",
      "  0%|          | 15/10000 [00:19<4:38:51,  1.68s/it]\u001b[A\n",
      "\n",
      "  0%|          | 0/1 [00:00<?, ?it/s]\u001b[A\u001b[A\n",
      "\n",
      "100%|██████████| 1/1 [00:00<00:00,  1.10it/s]\u001b[A\u001b[A\n"
     ]
    },
    {
     "name": "stdout",
     "output_type": "stream",
     "text": [
      "\n",
      "Epoch: 016, Loss: 0.6043, Val: 0.5030, Test: 0.5047\n"
     ]
    },
    {
     "name": "stderr",
     "output_type": "stream",
     "text": [
      "\n",
      "  0%|          | 16/10000 [00:21<4:50:16,  1.74s/it]\u001b[A\n",
      "\n",
      "  0%|          | 0/1 [00:00<?, ?it/s]\u001b[A\u001b[A\n",
      "\n",
      "100%|██████████| 1/1 [00:00<00:00,  1.06it/s]\u001b[A\u001b[A\n"
     ]
    },
    {
     "name": "stdout",
     "output_type": "stream",
     "text": [
      "\n",
      "Epoch: 017, Loss: 0.6024, Val: 0.5043, Test: 0.5060\n"
     ]
    },
    {
     "name": "stderr",
     "output_type": "stream",
     "text": [
      "\n",
      "  0%|          | 17/10000 [00:22<4:59:43,  1.80s/it]\u001b[A\n",
      "\n",
      "  0%|          | 0/1 [00:00<?, ?it/s]\u001b[A\u001b[A\n",
      "\n",
      "100%|██████████| 1/1 [00:00<00:00,  1.10it/s]\u001b[A\u001b[A\n"
     ]
    },
    {
     "name": "stdout",
     "output_type": "stream",
     "text": [
      "\n",
      "Epoch: 018, Loss: 0.5993, Val: 0.5045, Test: 0.5051\n"
     ]
    },
    {
     "name": "stderr",
     "output_type": "stream",
     "text": [
      "\n",
      "  0%|          | 18/10000 [00:24<4:55:28,  1.78s/it]\u001b[A\n",
      "\n",
      "  0%|          | 0/1 [00:00<?, ?it/s]\u001b[A\u001b[A\n",
      "\n",
      "100%|██████████| 1/1 [00:01<00:00,  1.07s/it]\u001b[A\u001b[A\n",
      "\n",
      "  0%|          | 19/10000 [00:26<4:43:05,  1.70s/it]\u001b[A\n",
      "\n",
      "  0%|          | 0/1 [00:00<?, ?it/s]\u001b[A\u001b[A\n",
      "\n",
      "100%|██████████| 1/1 [00:01<00:00,  1.07s/it]\u001b[A\u001b[A\n",
      "\n",
      "  0%|          | 20/10000 [00:27<4:33:58,  1.65s/it]\u001b[A\n",
      "\n",
      "  0%|          | 0/1 [00:00<?, ?it/s]\u001b[A\u001b[A\n",
      "\n",
      "100%|██████████| 1/1 [00:01<00:00,  1.04s/it]\u001b[A\u001b[A\n",
      "\n",
      "  0%|          | 21/10000 [00:29<4:25:47,  1.60s/it]\u001b[A\n",
      "\n",
      "  0%|          | 0/1 [00:00<?, ?it/s]\u001b[A\u001b[A\n",
      "\n",
      "100%|██████████| 1/1 [00:00<00:00,  1.09it/s]\u001b[A\u001b[A\n",
      "\n",
      "  0%|          | 22/10000 [00:30<4:14:47,  1.53s/it]\u001b[A\n",
      "\n",
      "  0%|          | 0/1 [00:00<?, ?it/s]\u001b[A\u001b[A\n",
      "\n",
      "100%|██████████| 1/1 [00:01<00:00,  1.01s/it]\u001b[A\u001b[A\n"
     ]
    },
    {
     "name": "stdout",
     "output_type": "stream",
     "text": [
      "\n",
      "Epoch: 023, Loss: 0.5852, Val: 0.5053, Test: 0.5088\n"
     ]
    },
    {
     "name": "stderr",
     "output_type": "stream",
     "text": [
      "\n",
      "  0%|          | 23/10000 [00:32<4:22:33,  1.58s/it]\u001b[A\n",
      "\n",
      "  0%|          | 0/1 [00:00<?, ?it/s]\u001b[A\u001b[A\n",
      "\n",
      "100%|██████████| 1/1 [00:00<00:00,  2.10it/s]\u001b[A\u001b[A\n"
     ]
    },
    {
     "name": "stdout",
     "output_type": "stream",
     "text": [
      "\n",
      "Epoch: 024, Loss: 0.5831, Val: 0.5061, Test: 0.5105\n"
     ]
    },
    {
     "name": "stderr",
     "output_type": "stream",
     "text": [
      "\n",
      "  0%|          | 24/10000 [00:33<3:54:34,  1.41s/it]\u001b[A\n",
      "\n",
      "  0%|          | 0/1 [00:00<?, ?it/s]\u001b[A\u001b[A\n",
      "\n",
      "100%|██████████| 1/1 [00:00<00:00,  1.66it/s]\u001b[A\u001b[A\n"
     ]
    },
    {
     "name": "stdout",
     "output_type": "stream",
     "text": [
      "\n",
      "Epoch: 025, Loss: 0.5820, Val: 0.5073, Test: 0.5129\n"
     ]
    },
    {
     "name": "stderr",
     "output_type": "stream",
     "text": [
      "\n",
      "  0%|          | 25/10000 [00:34<4:00:47,  1.45s/it]\u001b[A\n",
      "\n",
      "  0%|          | 0/1 [00:00<?, ?it/s]\u001b[A\u001b[A\n",
      "\n",
      "100%|██████████| 1/1 [00:00<00:00,  1.13it/s]\u001b[A\u001b[A\n"
     ]
    },
    {
     "name": "stdout",
     "output_type": "stream",
     "text": [
      "\n",
      "Epoch: 026, Loss: 0.5800, Val: 0.5084, Test: 0.5141\n"
     ]
    },
    {
     "name": "stderr",
     "output_type": "stream",
     "text": [
      "\n",
      "  0%|          | 26/10000 [00:36<4:21:11,  1.57s/it]\u001b[A\n",
      "\n",
      "  0%|          | 0/1 [00:00<?, ?it/s]\u001b[A\u001b[A\n",
      "\n",
      "100%|██████████| 1/1 [00:00<00:00,  1.07it/s]\u001b[A\u001b[A\n"
     ]
    },
    {
     "name": "stdout",
     "output_type": "stream",
     "text": [
      "\n",
      "Epoch: 027, Loss: 0.5799, Val: 0.5093, Test: 0.5146\n"
     ]
    },
    {
     "name": "stderr",
     "output_type": "stream",
     "text": [
      "\n",
      "  0%|          | 27/10000 [00:38<4:39:38,  1.68s/it]\u001b[A\n",
      "\n",
      "  0%|          | 0/1 [00:00<?, ?it/s]\u001b[A\u001b[A\n",
      "\n",
      "100%|██████████| 1/1 [00:01<00:00,  1.02s/it]\u001b[A\u001b[A\n",
      "\n",
      "  0%|          | 28/10000 [00:40<4:28:21,  1.61s/it]\u001b[A\n",
      "\n",
      "  0%|          | 0/1 [00:00<?, ?it/s]\u001b[A\u001b[A\n",
      "\n",
      "100%|██████████| 1/1 [00:00<00:00,  1.04it/s]\u001b[A\u001b[A\n"
     ]
    },
    {
     "name": "stdout",
     "output_type": "stream",
     "text": [
      "\n",
      "Epoch: 029, Loss: 0.5779, Val: 0.5098, Test: 0.5151\n"
     ]
    },
    {
     "name": "stderr",
     "output_type": "stream",
     "text": [
      "\n",
      "  0%|          | 29/10000 [00:41<4:41:42,  1.70s/it]\u001b[A\n",
      "\n",
      "  0%|          | 0/1 [00:00<?, ?it/s]\u001b[A\u001b[A\n",
      "\n",
      "100%|██████████| 1/1 [00:00<00:00,  1.04it/s]\u001b[A\u001b[A\n"
     ]
    },
    {
     "name": "stdout",
     "output_type": "stream",
     "text": [
      "\n",
      "Epoch: 030, Loss: 0.5768, Val: 0.5103, Test: 0.5155\n"
     ]
    },
    {
     "name": "stderr",
     "output_type": "stream",
     "text": [
      "\n",
      "  0%|          | 30/10000 [00:43<4:46:56,  1.73s/it]\u001b[A\n",
      "\n",
      "  0%|          | 0/1 [00:00<?, ?it/s]\u001b[A\u001b[A\n",
      "\n",
      "100%|██████████| 1/1 [00:00<00:00,  1.34it/s]\u001b[A\u001b[A\n"
     ]
    },
    {
     "name": "stdout",
     "output_type": "stream",
     "text": [
      "\n",
      "Epoch: 031, Loss: 0.5763, Val: 0.5112, Test: 0.5167\n"
     ]
    },
    {
     "name": "stderr",
     "output_type": "stream",
     "text": [
      "\n",
      "  0%|          | 31/10000 [00:45<4:23:33,  1.59s/it]\u001b[A\n",
      "\n",
      "  0%|          | 0/1 [00:00<?, ?it/s]\u001b[A\u001b[A\n",
      "\n",
      "100%|██████████| 1/1 [00:00<00:00,  2.19it/s]\u001b[A\u001b[A\n"
     ]
    },
    {
     "name": "stdout",
     "output_type": "stream",
     "text": [
      "\n",
      "Epoch: 032, Loss: 0.5751, Val: 0.5119, Test: 0.5170\n"
     ]
    },
    {
     "name": "stderr",
     "output_type": "stream",
     "text": [
      "\n",
      "  0%|          | 32/10000 [00:45<3:51:55,  1.40s/it]\u001b[A\n",
      "\n",
      "  0%|          | 0/1 [00:00<?, ?it/s]\u001b[A\u001b[A\n",
      "\n",
      "100%|██████████| 1/1 [00:00<00:00,  2.17it/s]\u001b[A\u001b[A\n"
     ]
    },
    {
     "name": "stdout",
     "output_type": "stream",
     "text": [
      "\n",
      "Epoch: 033, Loss: 0.5735, Val: 0.5134, Test: 0.5167\n"
     ]
    },
    {
     "name": "stderr",
     "output_type": "stream",
     "text": [
      "\n",
      "  0%|          | 33/10000 [00:47<3:48:34,  1.38s/it]\u001b[A\n",
      "\n",
      "  0%|          | 0/1 [00:00<?, ?it/s]\u001b[A\u001b[A\n",
      "\n",
      "100%|██████████| 1/1 [00:00<00:00,  2.06it/s]\u001b[A\u001b[A\n"
     ]
    },
    {
     "name": "stdout",
     "output_type": "stream",
     "text": [
      "\n",
      "Epoch: 034, Loss: 0.5725, Val: 0.5144, Test: 0.5181\n"
     ]
    },
    {
     "name": "stderr",
     "output_type": "stream",
     "text": [
      "\n",
      "  0%|          | 34/10000 [00:48<3:29:43,  1.26s/it]\u001b[A\n",
      "\n",
      "  0%|          | 0/1 [00:00<?, ?it/s]\u001b[A\u001b[A\n",
      "\n",
      "100%|██████████| 1/1 [00:00<00:00,  2.20it/s]\u001b[A\u001b[A\n"
     ]
    },
    {
     "name": "stdout",
     "output_type": "stream",
     "text": [
      "\n",
      "Epoch: 035, Loss: 0.5711, Val: 0.5153, Test: 0.5200\n"
     ]
    },
    {
     "name": "stderr",
     "output_type": "stream",
     "text": [
      "\n",
      "  0%|          | 35/10000 [00:49<3:14:13,  1.17s/it]\u001b[A\n",
      "\n",
      "  0%|          | 0/1 [00:00<?, ?it/s]\u001b[A\u001b[A\n",
      "\n",
      "100%|██████████| 1/1 [00:00<00:00,  2.19it/s]\u001b[A\u001b[A\n"
     ]
    },
    {
     "name": "stdout",
     "output_type": "stream",
     "text": [
      "\n",
      "Epoch: 036, Loss: 0.5697, Val: 0.5170, Test: 0.5220\n"
     ]
    },
    {
     "name": "stderr",
     "output_type": "stream",
     "text": [
      "\n",
      "  0%|          | 36/10000 [00:50<3:26:48,  1.25s/it]\u001b[A\n",
      "\n",
      "  0%|          | 0/1 [00:00<?, ?it/s]\u001b[A\u001b[A\n",
      "\n",
      "100%|██████████| 1/1 [00:01<00:00,  1.08s/it]\u001b[A\u001b[A\n"
     ]
    },
    {
     "name": "stdout",
     "output_type": "stream",
     "text": [
      "\n",
      "Epoch: 037, Loss: 0.5683, Val: 0.5187, Test: 0.5226\n"
     ]
    },
    {
     "name": "stderr",
     "output_type": "stream",
     "text": [
      "\n",
      "  0%|          | 37/10000 [00:52<4:08:04,  1.49s/it]\u001b[A\n",
      "\n",
      "  0%|          | 0/1 [00:00<?, ?it/s]\u001b[A\u001b[A\n",
      "\n",
      "100%|██████████| 1/1 [00:00<00:00,  1.07it/s]\u001b[A\u001b[A\n",
      "\n",
      "  0%|          | 38/10000 [00:54<4:03:35,  1.47s/it]\u001b[A\n",
      "\n",
      "  0%|          | 0/1 [00:00<?, ?it/s]\u001b[A\u001b[A\n",
      "\n",
      "100%|██████████| 1/1 [00:01<00:00,  1.02s/it]\u001b[A\u001b[A\n"
     ]
    },
    {
     "name": "stdout",
     "output_type": "stream",
     "text": [
      "\n",
      "Epoch: 039, Loss: 0.5650, Val: 0.5202, Test: 0.5263\n"
     ]
    },
    {
     "name": "stderr",
     "output_type": "stream",
     "text": [
      "\n",
      "  0%|          | 39/10000 [00:56<4:32:14,  1.64s/it]\u001b[A\n",
      "\n",
      "  0%|          | 0/1 [00:00<?, ?it/s]\u001b[A\u001b[A\n",
      "\n",
      "100%|██████████| 1/1 [00:01<00:00,  1.04s/it]\u001b[A\u001b[A\n"
     ]
    },
    {
     "name": "stdout",
     "output_type": "stream",
     "text": [
      "\n",
      "Epoch: 040, Loss: 0.5637, Val: 0.5213, Test: 0.5276\n"
     ]
    },
    {
     "name": "stderr",
     "output_type": "stream",
     "text": [
      "\n",
      "  0%|          | 40/10000 [00:57<4:38:28,  1.68s/it]\u001b[A\n",
      "\n",
      "  0%|          | 0/1 [00:00<?, ?it/s]\u001b[A\u001b[A\n",
      "\n",
      "100%|██████████| 1/1 [00:00<00:00,  2.01it/s]\u001b[A\u001b[A\n"
     ]
    },
    {
     "name": "stdout",
     "output_type": "stream",
     "text": [
      "\n",
      "Epoch: 041, Loss: 0.5611, Val: 0.5228, Test: 0.5286\n"
     ]
    },
    {
     "name": "stderr",
     "output_type": "stream",
     "text": [
      "\n",
      "  0%|          | 41/10000 [00:59<4:07:00,  1.49s/it]\u001b[A\n",
      "\n",
      "  0%|          | 0/1 [00:00<?, ?it/s]\u001b[A\u001b[A\n",
      "\n",
      "100%|██████████| 1/1 [00:00<00:00,  1.07it/s]\u001b[A\u001b[A\n"
     ]
    },
    {
     "name": "stdout",
     "output_type": "stream",
     "text": [
      "\n",
      "Epoch: 042, Loss: 0.5604, Val: 0.5235, Test: 0.5301\n"
     ]
    },
    {
     "name": "stderr",
     "output_type": "stream",
     "text": [
      "\n",
      "  0%|          | 42/10000 [01:01<4:34:05,  1.65s/it]\u001b[A\n",
      "\n",
      "  0%|          | 0/1 [00:00<?, ?it/s]\u001b[A\u001b[A\n",
      "\n",
      "100%|██████████| 1/1 [00:01<00:00,  1.05s/it]\u001b[A\u001b[A\n"
     ]
    },
    {
     "name": "stdout",
     "output_type": "stream",
     "text": [
      "\n",
      "Epoch: 043, Loss: 0.5577, Val: 0.5260, Test: 0.5318\n"
     ]
    },
    {
     "name": "stderr",
     "output_type": "stream",
     "text": [
      "\n",
      "  0%|          | 43/10000 [01:03<4:56:05,  1.78s/it]\u001b[A\n",
      "\n",
      "  0%|          | 0/1 [00:00<?, ?it/s]\u001b[A\u001b[A\n",
      "\n",
      "100%|██████████| 1/1 [00:01<00:00,  1.07s/it]\u001b[A\u001b[A\n",
      "\n",
      "  0%|          | 44/10000 [01:04<4:43:27,  1.71s/it]\u001b[A\n",
      "\n",
      "  0%|          | 0/1 [00:00<?, ?it/s]\u001b[A\u001b[A\n",
      "\n",
      "100%|██████████| 1/1 [00:00<00:00,  1.03it/s]\u001b[A\u001b[A\n"
     ]
    },
    {
     "name": "stdout",
     "output_type": "stream",
     "text": [
      "\n",
      "Epoch: 045, Loss: 0.5544, Val: 0.5278, Test: 0.5337\n"
     ]
    },
    {
     "name": "stderr",
     "output_type": "stream",
     "text": [
      "\n",
      "  0%|          | 45/10000 [01:06<5:00:36,  1.81s/it]\u001b[A\n",
      "\n",
      "  0%|          | 0/1 [00:00<?, ?it/s]\u001b[A\u001b[A\n",
      "\n",
      "100%|██████████| 1/1 [00:01<00:00,  1.07s/it]\u001b[A\u001b[A\n"
     ]
    },
    {
     "name": "stdout",
     "output_type": "stream",
     "text": [
      "\n",
      "Epoch: 046, Loss: 0.5524, Val: 0.5290, Test: 0.5354\n"
     ]
    },
    {
     "name": "stderr",
     "output_type": "stream",
     "text": [
      "\n",
      "  0%|          | 46/10000 [01:08<5:12:59,  1.89s/it]\u001b[A\n",
      "\n",
      "  0%|          | 0/1 [00:00<?, ?it/s]\u001b[A\u001b[A\n",
      "\n",
      "100%|██████████| 1/1 [00:00<00:00,  1.19it/s]\u001b[A\u001b[A\n"
     ]
    },
    {
     "name": "stdout",
     "output_type": "stream",
     "text": [
      "\n",
      "Epoch: 047, Loss: 0.5508, Val: 0.5301, Test: 0.5372\n"
     ]
    },
    {
     "name": "stderr",
     "output_type": "stream",
     "text": [
      "\n",
      "  0%|          | 47/10000 [01:10<5:07:23,  1.85s/it]\u001b[A\n",
      "\n",
      "  0%|          | 0/1 [00:00<?, ?it/s]\u001b[A\u001b[A\n",
      "\n",
      "100%|██████████| 1/1 [00:01<00:00,  1.17s/it]\u001b[A\u001b[A\n"
     ]
    },
    {
     "name": "stdout",
     "output_type": "stream",
     "text": [
      "\n",
      "Epoch: 048, Loss: 0.5489, Val: 0.5312, Test: 0.5386\n"
     ]
    },
    {
     "name": "stderr",
     "output_type": "stream",
     "text": [
      "\n",
      "  0%|          | 48/10000 [01:12<5:26:21,  1.97s/it]\u001b[A\n",
      "\n",
      "  0%|          | 0/1 [00:00<?, ?it/s]\u001b[A\u001b[A\n",
      "\n",
      "100%|██████████| 1/1 [00:01<00:00,  1.00s/it]\u001b[A\u001b[A\n"
     ]
    },
    {
     "name": "stdout",
     "output_type": "stream",
     "text": [
      "\n",
      "Epoch: 049, Loss: 0.5472, Val: 0.5348, Test: 0.5418\n"
     ]
    },
    {
     "name": "stderr",
     "output_type": "stream",
     "text": [
      "\n",
      "  0%|          | 49/10000 [01:15<5:38:39,  2.04s/it]\u001b[A\n",
      "\n",
      "  0%|          | 0/1 [00:00<?, ?it/s]\u001b[A\u001b[A\n",
      "\n",
      "100%|██████████| 1/1 [00:01<00:00,  1.16s/it]\u001b[A\u001b[A\n"
     ]
    },
    {
     "name": "stdout",
     "output_type": "stream",
     "text": [
      "\n",
      "Epoch: 050, Loss: 0.5452, Val: 0.5381, Test: 0.5448\n"
     ]
    },
    {
     "name": "stderr",
     "output_type": "stream",
     "text": [
      "\n",
      "  0%|          | 50/10000 [01:17<5:50:09,  2.11s/it]\u001b[A\n",
      "\n",
      "  0%|          | 0/1 [00:00<?, ?it/s]\u001b[A\u001b[A\n",
      "\n",
      "100%|██████████| 1/1 [00:00<00:00,  1.32it/s]\u001b[A\u001b[A\n"
     ]
    },
    {
     "name": "stdout",
     "output_type": "stream",
     "text": [
      "\n",
      "Epoch: 051, Loss: 0.5430, Val: 0.5405, Test: 0.5458\n"
     ]
    },
    {
     "name": "stderr",
     "output_type": "stream",
     "text": [
      "\n",
      "  1%|          | 51/10000 [01:18<5:09:21,  1.87s/it]\u001b[A\n",
      "\n",
      "  0%|          | 0/1 [00:00<?, ?it/s]\u001b[A\u001b[A\n",
      "\n",
      "100%|██████████| 1/1 [00:00<00:00,  1.16it/s]\u001b[A\u001b[A\n"
     ]
    },
    {
     "name": "stdout",
     "output_type": "stream",
     "text": [
      "\n",
      "Epoch: 052, Loss: 0.5408, Val: 0.5427, Test: 0.5496\n"
     ]
    },
    {
     "name": "stderr",
     "output_type": "stream",
     "text": [
      "\n",
      "  1%|          | 52/10000 [01:20<5:10:37,  1.87s/it]\u001b[A\n",
      "\n",
      "  0%|          | 0/1 [00:00<?, ?it/s]\u001b[A\u001b[A\n",
      "\n",
      "100%|██████████| 1/1 [00:01<00:00,  1.11s/it]\u001b[A\u001b[A\n"
     ]
    },
    {
     "name": "stdout",
     "output_type": "stream",
     "text": [
      "\n",
      "Epoch: 053, Loss: 0.5384, Val: 0.5448, Test: 0.5535\n"
     ]
    },
    {
     "name": "stderr",
     "output_type": "stream",
     "text": [
      "\n",
      "  1%|          | 53/10000 [01:22<5:24:13,  1.96s/it]\u001b[A\n",
      "\n",
      "  0%|          | 0/1 [00:00<?, ?it/s]\u001b[A\u001b[A\n",
      "\n",
      "100%|██████████| 1/1 [00:01<00:00,  1.04s/it]\u001b[A\u001b[A\n"
     ]
    },
    {
     "name": "stdout",
     "output_type": "stream",
     "text": [
      "\n",
      "Epoch: 054, Loss: 0.5359, Val: 0.5470, Test: 0.5563\n"
     ]
    },
    {
     "name": "stderr",
     "output_type": "stream",
     "text": [
      "\n",
      "  1%|          | 54/10000 [01:24<5:30:14,  1.99s/it]\u001b[A\n",
      "\n",
      "  0%|          | 0/1 [00:00<?, ?it/s]\u001b[A\u001b[A\n",
      "\n",
      "100%|██████████| 1/1 [00:00<00:00,  1.01it/s]\u001b[A\u001b[A\n"
     ]
    },
    {
     "name": "stdout",
     "output_type": "stream",
     "text": [
      "\n",
      "Epoch: 055, Loss: 0.5332, Val: 0.5501, Test: 0.5586\n"
     ]
    },
    {
     "name": "stderr",
     "output_type": "stream",
     "text": [
      "\n",
      "  1%|          | 55/10000 [01:26<5:34:10,  2.02s/it]\u001b[A\n",
      "\n",
      "  0%|          | 0/1 [00:00<?, ?it/s]\u001b[A\u001b[A\n",
      "\n",
      "100%|██████████| 1/1 [00:01<00:00,  1.05s/it]\u001b[A\u001b[A\n"
     ]
    },
    {
     "name": "stdout",
     "output_type": "stream",
     "text": [
      "\n",
      "Epoch: 056, Loss: 0.5313, Val: 0.5536, Test: 0.5612\n"
     ]
    },
    {
     "name": "stderr",
     "output_type": "stream",
     "text": [
      "\n",
      "  1%|          | 56/10000 [01:28<5:34:25,  2.02s/it]\u001b[A\n",
      "\n",
      "  0%|          | 0/1 [00:00<?, ?it/s]\u001b[A\u001b[A\n",
      "\n",
      "100%|██████████| 1/1 [00:01<00:00,  1.04s/it]\u001b[A\u001b[A\n"
     ]
    },
    {
     "name": "stdout",
     "output_type": "stream",
     "text": [
      "\n",
      "Epoch: 057, Loss: 0.5290, Val: 0.5580, Test: 0.5643\n"
     ]
    },
    {
     "name": "stderr",
     "output_type": "stream",
     "text": [
      "\n",
      "  1%|          | 57/10000 [01:30<5:35:10,  2.02s/it]\u001b[A\n",
      "\n",
      "  0%|          | 0/1 [00:00<?, ?it/s]\u001b[A\u001b[A\n",
      "\n",
      "100%|██████████| 1/1 [00:00<00:00,  1.92it/s]\u001b[A\u001b[A\n"
     ]
    },
    {
     "name": "stdout",
     "output_type": "stream",
     "text": [
      "\n",
      "Epoch: 058, Loss: 0.5265, Val: 0.5613, Test: 0.5682\n"
     ]
    },
    {
     "name": "stderr",
     "output_type": "stream",
     "text": [
      "\n",
      "  1%|          | 58/10000 [01:31<4:50:03,  1.75s/it]\u001b[A\n",
      "\n",
      "  0%|          | 0/1 [00:00<?, ?it/s]\u001b[A\u001b[A\n",
      "\n",
      "100%|██████████| 1/1 [00:00<00:00,  1.79it/s]\u001b[A\u001b[A\n"
     ]
    },
    {
     "name": "stdout",
     "output_type": "stream",
     "text": [
      "\n",
      "Epoch: 059, Loss: 0.5240, Val: 0.5643, Test: 0.5713\n"
     ]
    },
    {
     "name": "stderr",
     "output_type": "stream",
     "text": [
      "\n",
      "  1%|          | 59/10000 [01:33<4:18:33,  1.56s/it]\u001b[A\n",
      "\n",
      "  0%|          | 0/1 [00:00<?, ?it/s]\u001b[A\u001b[A\n",
      "\n",
      "100%|██████████| 1/1 [00:00<00:00,  1.15it/s]\u001b[A\u001b[A\n"
     ]
    },
    {
     "name": "stdout",
     "output_type": "stream",
     "text": [
      "\n",
      "Epoch: 060, Loss: 0.5215, Val: 0.5671, Test: 0.5748\n"
     ]
    },
    {
     "name": "stderr",
     "output_type": "stream",
     "text": [
      "\n",
      "  1%|          | 60/10000 [01:34<4:16:21,  1.55s/it]\u001b[A\n",
      "\n",
      "  0%|          | 0/1 [00:00<?, ?it/s]\u001b[A\u001b[A\n",
      "\n",
      "100%|██████████| 1/1 [00:00<00:00,  1.90it/s]\u001b[A\u001b[A\n"
     ]
    },
    {
     "name": "stdout",
     "output_type": "stream",
     "text": [
      "\n",
      "Epoch: 061, Loss: 0.5192, Val: 0.5708, Test: 0.5779\n"
     ]
    },
    {
     "name": "stderr",
     "output_type": "stream",
     "text": [
      "\n",
      "  1%|          | 61/10000 [01:35<3:50:44,  1.39s/it]\u001b[A\n",
      "\n",
      "  0%|          | 0/1 [00:00<?, ?it/s]\u001b[A\u001b[A\n",
      "\n",
      "100%|██████████| 1/1 [00:00<00:00,  1.92it/s]\u001b[A\u001b[A\n"
     ]
    },
    {
     "name": "stdout",
     "output_type": "stream",
     "text": [
      "\n",
      "Epoch: 062, Loss: 0.5163, Val: 0.5739, Test: 0.5811\n"
     ]
    },
    {
     "name": "stderr",
     "output_type": "stream",
     "text": [
      "\n",
      "  1%|          | 62/10000 [01:36<3:38:42,  1.32s/it]\u001b[A\n",
      "\n",
      "  0%|          | 0/1 [00:00<?, ?it/s]\u001b[A\u001b[A\n",
      "\n",
      "100%|██████████| 1/1 [00:00<00:00,  1.38it/s]\u001b[A\u001b[A\n"
     ]
    },
    {
     "name": "stdout",
     "output_type": "stream",
     "text": [
      "\n",
      "Epoch: 063, Loss: 0.5142, Val: 0.5762, Test: 0.5839\n"
     ]
    },
    {
     "name": "stderr",
     "output_type": "stream",
     "text": [
      "\n",
      "  1%|          | 63/10000 [01:38<3:45:21,  1.36s/it]\u001b[A\n",
      "\n",
      "  0%|          | 0/1 [00:00<?, ?it/s]\u001b[A\u001b[A\n",
      "\n",
      "100%|██████████| 1/1 [00:01<00:00,  1.72s/it]\u001b[A\u001b[A\n"
     ]
    },
    {
     "name": "stdout",
     "output_type": "stream",
     "text": [
      "\n",
      "Epoch: 064, Loss: 0.5117, Val: 0.5790, Test: 0.5880\n"
     ]
    },
    {
     "name": "stderr",
     "output_type": "stream",
     "text": [
      "\n",
      "  1%|          | 64/10000 [01:41<4:55:35,  1.78s/it]\u001b[A\n",
      "\n",
      "  0%|          | 0/1 [00:00<?, ?it/s]\u001b[A\u001b[A\n",
      "\n",
      "100%|██████████| 1/1 [00:01<00:00,  1.12s/it]\u001b[A\u001b[A\n"
     ]
    },
    {
     "name": "stdout",
     "output_type": "stream",
     "text": [
      "\n",
      "Epoch: 065, Loss: 0.5092, Val: 0.5803, Test: 0.5917\n"
     ]
    },
    {
     "name": "stderr",
     "output_type": "stream",
     "text": [
      "\n",
      "  1%|          | 65/10000 [01:43<5:20:25,  1.94s/it]\u001b[A\n",
      "\n",
      "  0%|          | 0/1 [00:00<?, ?it/s]\u001b[A\u001b[A\n",
      "\n",
      "100%|██████████| 1/1 [00:01<00:00,  1.15s/it]\u001b[A\u001b[A\n"
     ]
    },
    {
     "name": "stdout",
     "output_type": "stream",
     "text": [
      "\n",
      "Epoch: 066, Loss: 0.5071, Val: 0.5831, Test: 0.5949\n"
     ]
    },
    {
     "name": "stderr",
     "output_type": "stream",
     "text": [
      "\n",
      "  1%|          | 66/10000 [01:46<6:04:53,  2.20s/it]\u001b[A\n",
      "\n",
      "  0%|          | 0/1 [00:00<?, ?it/s]\u001b[A\u001b[A\n",
      "\n",
      "100%|██████████| 1/1 [00:01<00:00,  1.22s/it]\u001b[A\u001b[A\n"
     ]
    },
    {
     "name": "stdout",
     "output_type": "stream",
     "text": [
      "\n",
      "Epoch: 067, Loss: 0.5038, Val: 0.5859, Test: 0.5964\n"
     ]
    },
    {
     "name": "stderr",
     "output_type": "stream",
     "text": [
      "\n",
      "  1%|          | 67/10000 [01:48<6:13:27,  2.26s/it]\u001b[A\n",
      "\n",
      "  0%|          | 0/1 [00:00<?, ?it/s]\u001b[A\u001b[A\n",
      "\n",
      "100%|██████████| 1/1 [00:01<00:00,  1.23s/it]\u001b[A\u001b[A\n"
     ]
    },
    {
     "name": "stdout",
     "output_type": "stream",
     "text": [
      "\n",
      "Epoch: 068, Loss: 0.5022, Val: 0.5876, Test: 0.5985\n"
     ]
    },
    {
     "name": "stderr",
     "output_type": "stream",
     "text": [
      "\n",
      "  1%|          | 68/10000 [01:50<6:08:56,  2.23s/it]\u001b[A\n",
      "\n",
      "  0%|          | 0/1 [00:00<?, ?it/s]\u001b[A\u001b[A\n",
      "\n",
      "100%|██████████| 1/1 [00:00<00:00,  1.95it/s]\u001b[A\u001b[A\n"
     ]
    },
    {
     "name": "stdout",
     "output_type": "stream",
     "text": [
      "\n",
      "Epoch: 069, Loss: 0.4996, Val: 0.5895, Test: 0.5993\n"
     ]
    },
    {
     "name": "stderr",
     "output_type": "stream",
     "text": [
      "\n",
      "  1%|          | 69/10000 [01:51<5:04:50,  1.84s/it]\u001b[A\n",
      "\n",
      "  0%|          | 0/1 [00:00<?, ?it/s]\u001b[A\u001b[A\n",
      "\n",
      "100%|██████████| 1/1 [00:00<00:00,  1.49it/s]\u001b[A\u001b[A\n"
     ]
    },
    {
     "name": "stdout",
     "output_type": "stream",
     "text": [
      "\n",
      "Epoch: 070, Loss: 0.4973, Val: 0.5920, Test: 0.6020\n"
     ]
    },
    {
     "name": "stderr",
     "output_type": "stream",
     "text": [
      "\n",
      "  1%|          | 70/10000 [01:53<4:58:18,  1.80s/it]\u001b[A\n",
      "\n",
      "  0%|          | 0/1 [00:00<?, ?it/s]\u001b[A\u001b[A\n",
      "\n",
      "100%|██████████| 1/1 [00:01<00:00,  1.11s/it]\u001b[A\u001b[A\n"
     ]
    },
    {
     "name": "stdout",
     "output_type": "stream",
     "text": [
      "\n",
      "Epoch: 071, Loss: 0.4947, Val: 0.5934, Test: 0.6048\n"
     ]
    },
    {
     "name": "stderr",
     "output_type": "stream",
     "text": [
      "\n",
      "  1%|          | 71/10000 [01:55<5:18:44,  1.93s/it]\u001b[A\n",
      "\n",
      "  0%|          | 0/1 [00:00<?, ?it/s]\u001b[A\u001b[A\n",
      "\n",
      "100%|██████████| 1/1 [00:01<00:00,  1.13s/it]\u001b[A\u001b[A\n"
     ]
    },
    {
     "name": "stdout",
     "output_type": "stream",
     "text": [
      "\n",
      "Epoch: 072, Loss: 0.4928, Val: 0.5960, Test: 0.6060\n"
     ]
    },
    {
     "name": "stderr",
     "output_type": "stream",
     "text": [
      "\n",
      "  1%|          | 72/10000 [01:57<5:30:30,  2.00s/it]\u001b[A\n",
      "\n",
      "  0%|          | 0/1 [00:00<?, ?it/s]\u001b[A\u001b[A\n",
      "\n",
      "100%|██████████| 1/1 [00:01<00:00,  1.08s/it]\u001b[A\u001b[A\n"
     ]
    },
    {
     "name": "stdout",
     "output_type": "stream",
     "text": [
      "\n",
      "Epoch: 073, Loss: 0.4897, Val: 0.5985, Test: 0.6075\n"
     ]
    },
    {
     "name": "stderr",
     "output_type": "stream",
     "text": [
      "\n",
      "  1%|          | 73/10000 [01:59<5:42:30,  2.07s/it]\u001b[A\n",
      "\n",
      "  0%|          | 0/1 [00:00<?, ?it/s]\u001b[A\u001b[A\n",
      "\n",
      "100%|██████████| 1/1 [00:01<00:00,  1.06s/it]\u001b[A\u001b[A\n"
     ]
    },
    {
     "name": "stdout",
     "output_type": "stream",
     "text": [
      "\n",
      "Epoch: 074, Loss: 0.4875, Val: 0.6007, Test: 0.6095\n"
     ]
    },
    {
     "name": "stderr",
     "output_type": "stream",
     "text": [
      "\n",
      "  1%|          | 74/10000 [02:02<5:46:50,  2.10s/it]\u001b[A\n",
      "\n",
      "  0%|          | 0/1 [00:00<?, ?it/s]\u001b[A\u001b[A\n",
      "\n",
      "100%|██████████| 1/1 [00:01<00:00,  1.30s/it]\u001b[A\u001b[A\n"
     ]
    },
    {
     "name": "stdout",
     "output_type": "stream",
     "text": [
      "\n",
      "Epoch: 075, Loss: 0.4854, Val: 0.6024, Test: 0.6118\n"
     ]
    },
    {
     "name": "stderr",
     "output_type": "stream",
     "text": [
      "\n",
      "  1%|          | 75/10000 [02:04<5:58:12,  2.17s/it]\u001b[A\n",
      "\n",
      "  0%|          | 0/1 [00:00<?, ?it/s]\u001b[A\u001b[A\n",
      "\n",
      "100%|██████████| 1/1 [00:01<00:00,  1.54s/it]\u001b[A\u001b[A\n"
     ]
    },
    {
     "name": "stdout",
     "output_type": "stream",
     "text": [
      "\n",
      "Epoch: 076, Loss: 0.4834, Val: 0.6037, Test: 0.6143\n"
     ]
    },
    {
     "name": "stderr",
     "output_type": "stream",
     "text": [
      "\n",
      "  1%|          | 76/10000 [02:07<6:30:57,  2.36s/it]\u001b[A\n",
      "\n",
      "  0%|          | 0/1 [00:00<?, ?it/s]\u001b[A\u001b[A\n",
      "\n",
      "100%|██████████| 1/1 [00:01<00:00,  1.07s/it]\u001b[A\u001b[A\n"
     ]
    },
    {
     "name": "stdout",
     "output_type": "stream",
     "text": [
      "\n",
      "Epoch: 077, Loss: 0.4806, Val: 0.6058, Test: 0.6154\n"
     ]
    },
    {
     "name": "stderr",
     "output_type": "stream",
     "text": [
      "\n",
      "  1%|          | 77/10000 [02:09<6:20:24,  2.30s/it]\u001b[A\n",
      "\n",
      "  0%|          | 0/1 [00:00<?, ?it/s]\u001b[A\u001b[A\n",
      "\n",
      "100%|██████████| 1/1 [00:01<00:00,  1.07s/it]\u001b[A\u001b[A\n"
     ]
    },
    {
     "name": "stdout",
     "output_type": "stream",
     "text": [
      "\n",
      "Epoch: 078, Loss: 0.4787, Val: 0.6074, Test: 0.6166\n"
     ]
    },
    {
     "name": "stderr",
     "output_type": "stream",
     "text": [
      "\n",
      "  1%|          | 78/10000 [02:11<6:11:27,  2.25s/it]\u001b[A\n",
      "\n",
      "  0%|          | 0/1 [00:00<?, ?it/s]\u001b[A\u001b[A\n",
      "\n",
      "100%|██████████| 1/1 [00:01<00:00,  1.19s/it]\u001b[A\u001b[A\n"
     ]
    },
    {
     "name": "stdout",
     "output_type": "stream",
     "text": [
      "\n",
      "Epoch: 079, Loss: 0.4762, Val: 0.6082, Test: 0.6179\n"
     ]
    },
    {
     "name": "stderr",
     "output_type": "stream",
     "text": [
      "\n",
      "  1%|          | 79/10000 [02:13<5:54:24,  2.14s/it]\u001b[A\n",
      "\n",
      "  0%|          | 0/1 [00:00<?, ?it/s]\u001b[A\u001b[A\n",
      "\n",
      "100%|██████████| 1/1 [00:00<00:00,  1.67it/s]\u001b[A\u001b[A\n"
     ]
    },
    {
     "name": "stdout",
     "output_type": "stream",
     "text": [
      "\n",
      "Epoch: 080, Loss: 0.4745, Val: 0.6097, Test: 0.6183\n"
     ]
    },
    {
     "name": "stderr",
     "output_type": "stream",
     "text": [
      "\n",
      "  1%|          | 80/10000 [02:14<5:16:51,  1.92s/it]\u001b[A\n",
      "\n",
      "  0%|          | 0/1 [00:00<?, ?it/s]\u001b[A\u001b[A\n",
      "\n",
      "100%|██████████| 1/1 [00:01<00:00,  1.14s/it]\u001b[A\u001b[A\n"
     ]
    },
    {
     "name": "stdout",
     "output_type": "stream",
     "text": [
      "\n",
      "Epoch: 081, Loss: 0.4726, Val: 0.6108, Test: 0.6191\n"
     ]
    },
    {
     "name": "stderr",
     "output_type": "stream",
     "text": [
      "\n",
      "  1%|          | 81/10000 [02:17<5:31:05,  2.00s/it]\u001b[A\n",
      "\n",
      "  0%|          | 0/1 [00:00<?, ?it/s]\u001b[A\u001b[A\n",
      "\n",
      "100%|██████████| 1/1 [00:01<00:00,  1.16s/it]\u001b[A\u001b[A\n"
     ]
    },
    {
     "name": "stdout",
     "output_type": "stream",
     "text": [
      "\n",
      "Epoch: 082, Loss: 0.4702, Val: 0.6131, Test: 0.6212\n"
     ]
    },
    {
     "name": "stderr",
     "output_type": "stream",
     "text": [
      "\n",
      "  1%|          | 82/10000 [02:19<5:47:10,  2.10s/it]\u001b[A\n",
      "\n",
      "  0%|          | 0/1 [00:00<?, ?it/s]\u001b[A\u001b[A\n",
      "\n",
      "100%|██████████| 1/1 [00:01<00:00,  1.29s/it]\u001b[A\u001b[A\n"
     ]
    },
    {
     "name": "stdout",
     "output_type": "stream",
     "text": [
      "\n",
      "Epoch: 083, Loss: 0.4684, Val: 0.6145, Test: 0.6225\n"
     ]
    },
    {
     "name": "stderr",
     "output_type": "stream",
     "text": [
      "\n",
      "  1%|          | 83/10000 [02:21<6:08:10,  2.23s/it]\u001b[A\n",
      "\n",
      "  0%|          | 0/1 [00:00<?, ?it/s]\u001b[A\u001b[A\n",
      "\n",
      "100%|██████████| 1/1 [00:01<00:00,  1.30s/it]\u001b[A\u001b[A\n"
     ]
    },
    {
     "name": "stdout",
     "output_type": "stream",
     "text": [
      "\n",
      "Epoch: 084, Loss: 0.4659, Val: 0.6163, Test: 0.6250\n"
     ]
    },
    {
     "name": "stderr",
     "output_type": "stream",
     "text": [
      "\n",
      "  1%|          | 84/10000 [02:24<6:18:48,  2.29s/it]\u001b[A\n",
      "\n",
      "  0%|          | 0/1 [00:00<?, ?it/s]\u001b[A\u001b[A\n",
      "\n",
      "100%|██████████| 1/1 [00:01<00:00,  1.09s/it]\u001b[A\u001b[A\n"
     ]
    },
    {
     "name": "stdout",
     "output_type": "stream",
     "text": [
      "\n",
      "Epoch: 085, Loss: 0.4639, Val: 0.6178, Test: 0.6270\n"
     ]
    },
    {
     "name": "stderr",
     "output_type": "stream",
     "text": [
      "\n",
      "  1%|          | 85/10000 [02:26<6:16:08,  2.28s/it]\u001b[A\n",
      "\n",
      "  0%|          | 0/1 [00:00<?, ?it/s]\u001b[A\u001b[A\n",
      "\n",
      "100%|██████████| 1/1 [00:01<00:00,  1.22s/it]\u001b[A\u001b[A\n"
     ]
    },
    {
     "name": "stdout",
     "output_type": "stream",
     "text": [
      "\n",
      "Epoch: 086, Loss: 0.4618, Val: 0.6186, Test: 0.6288\n"
     ]
    },
    {
     "name": "stderr",
     "output_type": "stream",
     "text": [
      "\n",
      "  1%|          | 86/10000 [02:28<6:13:33,  2.26s/it]\u001b[A\n",
      "\n",
      "  0%|          | 0/1 [00:00<?, ?it/s]\u001b[A\u001b[A\n",
      "\n",
      "100%|██████████| 1/1 [00:00<00:00,  1.58it/s]\u001b[A\u001b[A\n"
     ]
    },
    {
     "name": "stdout",
     "output_type": "stream",
     "text": [
      "\n",
      "Epoch: 087, Loss: 0.4595, Val: 0.6193, Test: 0.6296\n"
     ]
    },
    {
     "name": "stderr",
     "output_type": "stream",
     "text": [
      "\n",
      "  1%|          | 87/10000 [02:29<5:21:03,  1.94s/it]\u001b[A\n",
      "\n",
      "  0%|          | 0/1 [00:00<?, ?it/s]\u001b[A\u001b[A\n",
      "\n",
      "100%|██████████| 1/1 [00:00<00:00,  1.36it/s]\u001b[A\u001b[A\n"
     ]
    },
    {
     "name": "stdout",
     "output_type": "stream",
     "text": [
      "\n",
      "Epoch: 088, Loss: 0.4580, Val: 0.6205, Test: 0.6309\n"
     ]
    },
    {
     "name": "stderr",
     "output_type": "stream",
     "text": [
      "\n",
      "  1%|          | 88/10000 [02:31<4:54:45,  1.78s/it]\u001b[A\n",
      "\n",
      "  0%|          | 0/1 [00:00<?, ?it/s]\u001b[A\u001b[A\n",
      "\n",
      "100%|██████████| 1/1 [00:00<00:00,  1.31it/s]\u001b[A\u001b[A\n"
     ]
    },
    {
     "name": "stdout",
     "output_type": "stream",
     "text": [
      "\n",
      "Epoch: 089, Loss: 0.4560, Val: 0.6217, Test: 0.6316\n"
     ]
    },
    {
     "name": "stderr",
     "output_type": "stream",
     "text": [
      "\n",
      "  1%|          | 89/10000 [02:32<4:31:08,  1.64s/it]\u001b[A\n",
      "\n",
      "  0%|          | 0/1 [00:00<?, ?it/s]\u001b[A\u001b[A\n",
      "\n",
      "100%|██████████| 1/1 [00:00<00:00,  1.84it/s]\u001b[A\u001b[A\n"
     ]
    },
    {
     "name": "stdout",
     "output_type": "stream",
     "text": [
      "\n",
      "Epoch: 090, Loss: 0.4547, Val: 0.6230, Test: 0.6324\n"
     ]
    },
    {
     "name": "stderr",
     "output_type": "stream",
     "text": [
      "\n",
      "  1%|          | 90/10000 [02:33<4:03:04,  1.47s/it]\u001b[A\n",
      "\n",
      "  0%|          | 0/1 [00:00<?, ?it/s]\u001b[A\u001b[A\n",
      "\n",
      "100%|██████████| 1/1 [00:00<00:00,  1.85it/s]\u001b[A\u001b[A\n"
     ]
    },
    {
     "name": "stdout",
     "output_type": "stream",
     "text": [
      "\n",
      "Epoch: 091, Loss: 0.4528, Val: 0.6240, Test: 0.6344\n"
     ]
    },
    {
     "name": "stderr",
     "output_type": "stream",
     "text": [
      "\n",
      "  1%|          | 91/10000 [02:34<3:44:45,  1.36s/it]\u001b[A\n",
      "\n",
      "  0%|          | 0/1 [00:00<?, ?it/s]\u001b[A\u001b[A\n",
      "\n",
      "100%|██████████| 1/1 [00:00<00:00,  1.58it/s]\u001b[A\u001b[A\n"
     ]
    },
    {
     "name": "stdout",
     "output_type": "stream",
     "text": [
      "\n",
      "Epoch: 092, Loss: 0.4506, Val: 0.6247, Test: 0.6362\n"
     ]
    },
    {
     "name": "stderr",
     "output_type": "stream",
     "text": [
      "\n",
      "  1%|          | 92/10000 [02:36<4:19:13,  1.57s/it]\u001b[A\n",
      "\n",
      "  0%|          | 0/1 [00:00<?, ?it/s]\u001b[A\u001b[A\n",
      "\n",
      "100%|██████████| 1/1 [00:01<00:00,  1.29s/it]\u001b[A\u001b[A\n"
     ]
    },
    {
     "name": "stdout",
     "output_type": "stream",
     "text": [
      "\n",
      "Epoch: 093, Loss: 0.4492, Val: 0.6262, Test: 0.6370\n"
     ]
    },
    {
     "name": "stderr",
     "output_type": "stream",
     "text": [
      "\n",
      "  1%|          | 93/10000 [02:39<5:04:44,  1.85s/it]\u001b[A\n",
      "\n",
      "  0%|          | 0/1 [00:00<?, ?it/s]\u001b[A\u001b[A\n",
      "\n",
      "100%|██████████| 1/1 [00:01<00:00,  1.12s/it]\u001b[A\u001b[A\n"
     ]
    },
    {
     "name": "stdout",
     "output_type": "stream",
     "text": [
      "\n",
      "Epoch: 094, Loss: 0.4473, Val: 0.6283, Test: 0.6375\n"
     ]
    },
    {
     "name": "stderr",
     "output_type": "stream",
     "text": [
      "\n",
      "  1%|          | 94/10000 [02:41<5:29:55,  2.00s/it]\u001b[A\n",
      "\n",
      "  0%|          | 0/1 [00:00<?, ?it/s]\u001b[A\u001b[A\n",
      "\n",
      "100%|██████████| 1/1 [00:01<00:00,  1.35s/it]\u001b[A\u001b[A\n"
     ]
    },
    {
     "name": "stdout",
     "output_type": "stream",
     "text": [
      "\n",
      "Epoch: 095, Loss: 0.4462, Val: 0.6301, Test: 0.6383\n"
     ]
    },
    {
     "name": "stderr",
     "output_type": "stream",
     "text": [
      "\n",
      "  1%|          | 95/10000 [02:44<5:56:43,  2.16s/it]\u001b[A\n",
      "\n",
      "  0%|          | 0/1 [00:00<?, ?it/s]\u001b[A\u001b[A\n",
      "\n",
      "100%|██████████| 1/1 [00:01<00:00,  1.22s/it]\u001b[A\u001b[A\n"
     ]
    },
    {
     "name": "stdout",
     "output_type": "stream",
     "text": [
      "\n",
      "Epoch: 096, Loss: 0.4441, Val: 0.6303, Test: 0.6391\n"
     ]
    },
    {
     "name": "stderr",
     "output_type": "stream",
     "text": [
      "\n",
      "  1%|          | 96/10000 [02:46<6:04:20,  2.21s/it]\u001b[A\n",
      "\n",
      "  0%|          | 0/1 [00:00<?, ?it/s]\u001b[A\u001b[A\n",
      "\n",
      "100%|██████████| 1/1 [00:00<00:00,  1.91it/s]\u001b[A\u001b[A\n"
     ]
    },
    {
     "name": "stdout",
     "output_type": "stream",
     "text": [
      "\n",
      "Epoch: 097, Loss: 0.4433, Val: 0.6315, Test: 0.6400\n"
     ]
    },
    {
     "name": "stderr",
     "output_type": "stream",
     "text": [
      "\n",
      "  1%|          | 97/10000 [02:47<5:05:54,  1.85s/it]\u001b[A\n",
      "\n",
      "  0%|          | 0/1 [00:00<?, ?it/s]\u001b[A\u001b[A\n",
      "\n",
      "100%|██████████| 1/1 [00:00<00:00,  1.04it/s]\u001b[A\u001b[A\n"
     ]
    },
    {
     "name": "stdout",
     "output_type": "stream",
     "text": [
      "\n",
      "Epoch: 098, Loss: 0.4408, Val: 0.6318, Test: 0.6417\n"
     ]
    },
    {
     "name": "stderr",
     "output_type": "stream",
     "text": [
      "\n",
      "  1%|          | 98/10000 [02:49<5:14:16,  1.90s/it]\u001b[A\n",
      "\n",
      "  0%|          | 0/1 [00:00<?, ?it/s]\u001b[A\u001b[A\n",
      "\n",
      "100%|██████████| 1/1 [00:00<00:00,  1.07it/s]\u001b[A\u001b[A\n"
     ]
    },
    {
     "name": "stdout",
     "output_type": "stream",
     "text": [
      "\n",
      "Epoch: 099, Loss: 0.4403, Val: 0.6325, Test: 0.6420\n"
     ]
    },
    {
     "name": "stderr",
     "output_type": "stream",
     "text": [
      "\n",
      "  1%|          | 99/10000 [02:51<5:16:45,  1.92s/it]\u001b[A\n",
      "\n",
      "  0%|          | 0/1 [00:00<?, ?it/s]\u001b[A\u001b[A\n",
      "\n",
      "100%|██████████| 1/1 [00:00<00:00,  1.04it/s]\u001b[A\u001b[A\n"
     ]
    },
    {
     "name": "stdout",
     "output_type": "stream",
     "text": [
      "\n",
      "Epoch: 100, Loss: 0.4385, Val: 0.6326, Test: 0.6423\n"
     ]
    },
    {
     "name": "stderr",
     "output_type": "stream",
     "text": [
      "\n",
      "  1%|          | 100/10000 [02:53<5:19:15,  1.93s/it]\u001b[A\n",
      "\n",
      "  0%|          | 0/1 [00:00<?, ?it/s]\u001b[A\u001b[A\n",
      "\n",
      "100%|██████████| 1/1 [00:00<00:00,  1.00it/s]\u001b[A\u001b[A\n"
     ]
    },
    {
     "name": "stdout",
     "output_type": "stream",
     "text": [
      "\n",
      "Epoch: 101, Loss: 0.4362, Val: 0.6328, Test: 0.6434\n"
     ]
    },
    {
     "name": "stderr",
     "output_type": "stream",
     "text": [
      "\n",
      "  1%|          | 101/10000 [02:55<5:22:39,  1.96s/it]\u001b[A\n",
      "\n",
      "  0%|          | 0/1 [00:00<?, ?it/s]\u001b[A\u001b[A\n",
      "\n",
      "100%|██████████| 1/1 [00:01<00:00,  1.04s/it]\u001b[A\u001b[A\n"
     ]
    },
    {
     "name": "stdout",
     "output_type": "stream",
     "text": [
      "\n",
      "Epoch: 102, Loss: 0.4357, Val: 0.6331, Test: 0.6449\n"
     ]
    },
    {
     "name": "stderr",
     "output_type": "stream",
     "text": [
      "\n",
      "  1%|          | 102/10000 [02:57<5:36:02,  2.04s/it]\u001b[A\n",
      "\n",
      "  0%|          | 0/1 [00:00<?, ?it/s]\u001b[A\u001b[A\n",
      "\n",
      "100%|██████████| 1/1 [00:00<00:00,  1.53it/s]\u001b[A\u001b[A\n"
     ]
    },
    {
     "name": "stdout",
     "output_type": "stream",
     "text": [
      "\n",
      "Epoch: 103, Loss: 0.4336, Val: 0.6332, Test: 0.6456\n"
     ]
    },
    {
     "name": "stderr",
     "output_type": "stream",
     "text": [
      "\n",
      "  1%|          | 103/10000 [02:59<5:24:40,  1.97s/it]\u001b[A\n",
      "\n",
      "  0%|          | 0/1 [00:00<?, ?it/s]\u001b[A\u001b[A\n",
      "\n",
      "100%|██████████| 1/1 [00:01<00:00,  1.22s/it]\u001b[A\u001b[A\n"
     ]
    },
    {
     "name": "stdout",
     "output_type": "stream",
     "text": [
      "\n",
      "Epoch: 104, Loss: 0.4325, Val: 0.6348, Test: 0.6462\n"
     ]
    },
    {
     "name": "stderr",
     "output_type": "stream",
     "text": [
      "\n",
      "  1%|          | 104/10000 [03:02<5:50:11,  2.12s/it]\u001b[A\n",
      "\n",
      "  0%|          | 0/1 [00:00<?, ?it/s]\u001b[A\u001b[A\n",
      "\n",
      "100%|██████████| 1/1 [00:01<00:00,  1.06s/it]\u001b[A\u001b[A\n"
     ]
    },
    {
     "name": "stdout",
     "output_type": "stream",
     "text": [
      "\n",
      "Epoch: 105, Loss: 0.4315, Val: 0.6351, Test: 0.6461\n"
     ]
    },
    {
     "name": "stderr",
     "output_type": "stream",
     "text": [
      "\n",
      "  1%|          | 105/10000 [03:04<5:50:54,  2.13s/it]\u001b[A\n",
      "\n",
      "  0%|          | 0/1 [00:00<?, ?it/s]\u001b[A\u001b[A\n",
      "\n",
      "100%|██████████| 1/1 [00:01<00:00,  1.02s/it]\u001b[A\u001b[A\n"
     ]
    },
    {
     "name": "stdout",
     "output_type": "stream",
     "text": [
      "\n",
      "Epoch: 106, Loss: 0.4304, Val: 0.6363, Test: 0.6466\n"
     ]
    },
    {
     "name": "stderr",
     "output_type": "stream",
     "text": [
      "\n",
      "  1%|          | 106/10000 [03:06<5:46:43,  2.10s/it]\u001b[A\n",
      "\n",
      "  0%|          | 0/1 [00:00<?, ?it/s]\u001b[A\u001b[A\n",
      "\n",
      "100%|██████████| 1/1 [00:01<00:00,  1.06s/it]\u001b[A\u001b[A\n"
     ]
    },
    {
     "name": "stdout",
     "output_type": "stream",
     "text": [
      "\n",
      "Epoch: 107, Loss: 0.4290, Val: 0.6371, Test: 0.6473\n"
     ]
    },
    {
     "name": "stderr",
     "output_type": "stream",
     "text": [
      "\n",
      "  1%|          | 107/10000 [03:07<5:21:09,  1.95s/it]\u001b[A\n",
      "\n",
      "  0%|          | 0/1 [00:00<?, ?it/s]\u001b[A\u001b[A\n",
      "\n",
      "100%|██████████| 1/1 [00:00<00:00,  2.11it/s]\u001b[A\u001b[A\n"
     ]
    },
    {
     "name": "stdout",
     "output_type": "stream",
     "text": [
      "\n",
      "Epoch: 108, Loss: 0.4274, Val: 0.6376, Test: 0.6469\n"
     ]
    },
    {
     "name": "stderr",
     "output_type": "stream",
     "text": [
      "\n",
      "  1%|          | 108/10000 [03:09<4:57:12,  1.80s/it]\u001b[A\n",
      "\n",
      "  0%|          | 0/1 [00:00<?, ?it/s]\u001b[A\u001b[A\n",
      "\n",
      "100%|██████████| 1/1 [00:01<00:00,  1.06s/it]\u001b[A\u001b[A\n",
      "\n",
      "  1%|          | 109/10000 [03:10<4:41:07,  1.71s/it]\u001b[A\n",
      "\n",
      "  0%|          | 0/1 [00:00<?, ?it/s]\u001b[A\u001b[A\n",
      "\n",
      "100%|██████████| 1/1 [00:00<00:00,  1.01it/s]\u001b[A\u001b[A\n",
      "\n",
      "  1%|          | 110/10000 [03:12<4:29:08,  1.63s/it]\u001b[A\n",
      "\n",
      "  0%|          | 0/1 [00:00<?, ?it/s]\u001b[A\u001b[A\n",
      "\n",
      "100%|██████████| 1/1 [00:01<00:00,  1.01s/it]\u001b[A\u001b[A\n",
      "\n",
      "  1%|          | 111/10000 [03:13<4:20:27,  1.58s/it]\u001b[A\n",
      "\n",
      "  0%|          | 0/1 [00:00<?, ?it/s]\u001b[A\u001b[A\n",
      "\n",
      "100%|██████████| 1/1 [00:01<00:00,  1.01s/it]\u001b[A\u001b[A\n"
     ]
    },
    {
     "name": "stdout",
     "output_type": "stream",
     "text": [
      "\n",
      "Epoch: 112, Loss: 0.4233, Val: 0.6389, Test: 0.6483\n"
     ]
    },
    {
     "name": "stderr",
     "output_type": "stream",
     "text": [
      "\n",
      "  1%|          | 112/10000 [03:15<4:40:02,  1.70s/it]\u001b[A\n",
      "\n",
      "  0%|          | 0/1 [00:00<?, ?it/s]\u001b[A\u001b[A\n",
      "\n",
      "100%|██████████| 1/1 [00:00<00:00,  1.02it/s]\u001b[A\u001b[A\n"
     ]
    },
    {
     "name": "stdout",
     "output_type": "stream",
     "text": [
      "\n",
      "Epoch: 113, Loss: 0.4216, Val: 0.6398, Test: 0.6485\n"
     ]
    },
    {
     "name": "stderr",
     "output_type": "stream",
     "text": [
      "\n",
      "  1%|          | 113/10000 [03:17<4:59:04,  1.81s/it]\u001b[A\n",
      "\n",
      "  0%|          | 0/1 [00:00<?, ?it/s]\u001b[A\u001b[A\n",
      "\n",
      "100%|██████████| 1/1 [00:01<00:00,  1.09s/it]\u001b[A\u001b[A\n"
     ]
    },
    {
     "name": "stdout",
     "output_type": "stream",
     "text": [
      "\n",
      "Epoch: 114, Loss: 0.4211, Val: 0.6406, Test: 0.6495\n"
     ]
    },
    {
     "name": "stderr",
     "output_type": "stream",
     "text": [
      "\n",
      "  1%|          | 114/10000 [03:19<5:03:51,  1.84s/it]\u001b[A\n",
      "\n",
      "  0%|          | 0/1 [00:00<?, ?it/s]\u001b[A\u001b[A\n",
      "\n",
      "100%|██████████| 1/1 [00:00<00:00,  1.98it/s]\u001b[A\u001b[A\n"
     ]
    },
    {
     "name": "stdout",
     "output_type": "stream",
     "text": [
      "\n",
      "Epoch: 115, Loss: 0.4203, Val: 0.6411, Test: 0.6499\n"
     ]
    },
    {
     "name": "stderr",
     "output_type": "stream",
     "text": [
      "\n",
      "  1%|          | 115/10000 [03:20<4:23:09,  1.60s/it]\u001b[A\n",
      "\n",
      "  0%|          | 0/1 [00:00<?, ?it/s]\u001b[A\u001b[A\n",
      "\n",
      "100%|██████████| 1/1 [00:00<00:00,  1.78it/s]\u001b[A\u001b[A\n",
      "\n",
      "  1%|          | 116/10000 [03:21<3:44:48,  1.36s/it]\u001b[A\n",
      "\n",
      "  0%|          | 0/1 [00:00<?, ?it/s]\u001b[A\u001b[A\n",
      "\n",
      "100%|██████████| 1/1 [00:00<00:00,  1.11it/s]\u001b[A\u001b[A\n",
      "\n",
      "  1%|          | 117/10000 [03:22<3:33:52,  1.30s/it]\u001b[A\n",
      "\n",
      "  0%|          | 0/1 [00:00<?, ?it/s]\u001b[A\u001b[A\n",
      "\n",
      "100%|██████████| 1/1 [00:00<00:00,  2.10it/s]\u001b[A\u001b[A\n",
      "\n",
      "  1%|          | 118/10000 [03:23<3:04:43,  1.12s/it]\u001b[A\n",
      "\n",
      "  0%|          | 0/1 [00:00<?, ?it/s]\u001b[A\u001b[A\n",
      "\n",
      "100%|██████████| 1/1 [00:00<00:00,  2.03it/s]\u001b[A\u001b[A\n",
      "\n",
      "  1%|          | 119/10000 [03:24<2:45:06,  1.00s/it]\u001b[A\n",
      "\n",
      "  0%|          | 0/1 [00:00<?, ?it/s]\u001b[A\u001b[A\n",
      "\n",
      "100%|██████████| 1/1 [00:00<00:00,  2.19it/s]\u001b[A\u001b[A\n",
      "\n",
      "  1%|          | 120/10000 [03:24<2:30:55,  1.09it/s]\u001b[A\n",
      "\n",
      "  0%|          | 0/1 [00:00<?, ?it/s]\u001b[A\u001b[A\n",
      "\n",
      "100%|██████████| 1/1 [00:00<00:00,  1.59it/s]\u001b[A\u001b[A\n",
      "\n",
      "  1%|          | 121/10000 [03:26<2:45:19,  1.00s/it]\u001b[A\n",
      "\n",
      "  0%|          | 0/1 [00:00<?, ?it/s]\u001b[A\u001b[A\n",
      "\n",
      "100%|██████████| 1/1 [00:01<00:00,  1.05s/it]\u001b[A\u001b[A\n",
      "\n",
      "  1%|          | 122/10000 [03:27<3:10:06,  1.15s/it]\u001b[A\n",
      "\n",
      "  0%|          | 0/1 [00:00<?, ?it/s]\u001b[A\u001b[A\n",
      "\n",
      "100%|██████████| 1/1 [00:00<00:00,  1.03it/s]\u001b[A\u001b[A\n",
      "\n",
      "  1%|          | 123/10000 [03:29<3:24:34,  1.24s/it]\u001b[A\n",
      "\n",
      "  0%|          | 0/1 [00:00<?, ?it/s]\u001b[A\u001b[A\n",
      "\n",
      "100%|██████████| 1/1 [00:01<00:00,  1.08s/it]\u001b[A\u001b[A\n",
      "\n",
      "  1%|          | 124/10000 [03:30<3:40:02,  1.34s/it]\u001b[A\n",
      "\n",
      "  0%|          | 0/1 [00:00<?, ?it/s]\u001b[A\u001b[A\n",
      "\n",
      "100%|██████████| 1/1 [00:01<00:00,  1.07s/it]\u001b[A\u001b[A\n",
      "\n",
      "  1%|▏         | 125/10000 [03:32<3:52:32,  1.41s/it]\u001b[A\n",
      "\n",
      "  0%|          | 0/1 [00:00<?, ?it/s]\u001b[A\u001b[A\n",
      "\n",
      "100%|██████████| 1/1 [00:01<00:00,  1.26s/it]\u001b[A\u001b[A\n",
      "\n",
      "  1%|▏         | 126/10000 [03:34<4:16:25,  1.56s/it]\u001b[A\n",
      "\n",
      "  0%|          | 0/1 [00:00<?, ?it/s]\u001b[A\u001b[A\n",
      "\n",
      "100%|██████████| 1/1 [00:01<00:00,  1.35s/it]\u001b[A\u001b[A\n",
      "\n",
      "  1%|▏         | 127/10000 [03:35<4:27:18,  1.62s/it]\u001b[A\n",
      "\n",
      "  0%|          | 0/1 [00:00<?, ?it/s]\u001b[A\u001b[A\n",
      "\n",
      "100%|██████████| 1/1 [00:00<00:00,  1.82it/s]\u001b[A\u001b[A\n"
     ]
    },
    {
     "name": "stdout",
     "output_type": "stream",
     "text": [
      "\n",
      "Epoch: 128, Loss: 0.4088, Val: 0.6412, Test: 0.6506\n"
     ]
    },
    {
     "name": "stderr",
     "output_type": "stream",
     "text": [
      "\n",
      "  1%|▏         | 128/10000 [03:36<3:58:56,  1.45s/it]\u001b[A\n",
      "\n",
      "  0%|          | 0/1 [00:00<?, ?it/s]\u001b[A\u001b[A\n",
      "\n",
      "100%|██████████| 1/1 [00:00<00:00,  1.86it/s]\u001b[A\u001b[A\n"
     ]
    },
    {
     "name": "stdout",
     "output_type": "stream",
     "text": [
      "\n",
      "Epoch: 129, Loss: 0.4082, Val: 0.6416, Test: 0.6513\n"
     ]
    },
    {
     "name": "stderr",
     "output_type": "stream",
     "text": [
      "\n",
      "  1%|▏         | 129/10000 [03:38<4:00:05,  1.46s/it]\u001b[A\n",
      "\n",
      "  0%|          | 0/1 [00:00<?, ?it/s]\u001b[A\u001b[A\n",
      "\n",
      "100%|██████████| 1/1 [00:00<00:00,  1.09it/s]\u001b[A\u001b[A\n"
     ]
    },
    {
     "name": "stdout",
     "output_type": "stream",
     "text": [
      "\n",
      "Epoch: 130, Loss: 0.4076, Val: 0.6420, Test: 0.6510\n"
     ]
    },
    {
     "name": "stderr",
     "output_type": "stream",
     "text": [
      "\n",
      "  1%|▏         | 130/10000 [03:40<4:19:32,  1.58s/it]\u001b[A\n",
      "\n",
      "  0%|          | 0/1 [00:00<?, ?it/s]\u001b[A\u001b[A\n",
      "\n",
      "100%|██████████| 1/1 [00:00<00:00,  1.18it/s]\u001b[A\u001b[A\n"
     ]
    },
    {
     "name": "stdout",
     "output_type": "stream",
     "text": [
      "\n",
      "Epoch: 131, Loss: 0.4072, Val: 0.6422, Test: 0.6507\n"
     ]
    },
    {
     "name": "stderr",
     "output_type": "stream",
     "text": [
      "\n",
      "  1%|▏         | 131/10000 [03:42<4:32:46,  1.66s/it]\u001b[A\n",
      "\n",
      "  0%|          | 0/1 [00:00<?, ?it/s]\u001b[A\u001b[A\n",
      "\n",
      "100%|██████████| 1/1 [00:00<00:00,  1.03it/s]\u001b[A\u001b[A\n"
     ]
    },
    {
     "name": "stdout",
     "output_type": "stream",
     "text": [
      "\n",
      "Epoch: 132, Loss: 0.4063, Val: 0.6426, Test: 0.6508\n"
     ]
    },
    {
     "name": "stderr",
     "output_type": "stream",
     "text": [
      "\n",
      "  1%|▏         | 132/10000 [03:43<4:45:24,  1.74s/it]\u001b[A\n",
      "\n",
      "  0%|          | 0/1 [00:00<?, ?it/s]\u001b[A\u001b[A\n",
      "\n",
      "100%|██████████| 1/1 [00:00<00:00,  1.10it/s]\u001b[A\u001b[A\n"
     ]
    },
    {
     "name": "stdout",
     "output_type": "stream",
     "text": [
      "\n",
      "Epoch: 133, Loss: 0.4059, Val: 0.6431, Test: 0.6501\n"
     ]
    },
    {
     "name": "stderr",
     "output_type": "stream",
     "text": [
      "\n",
      "  1%|▏         | 133/10000 [03:45<4:54:49,  1.79s/it]\u001b[A\n",
      "\n",
      "  0%|          | 0/1 [00:00<?, ?it/s]\u001b[A\u001b[A\n",
      "\n",
      "100%|██████████| 1/1 [00:01<00:00,  1.22s/it]\u001b[A\u001b[A\n",
      "\n",
      "  1%|▏         | 134/10000 [03:47<4:44:14,  1.73s/it]\u001b[A\n",
      "\n",
      "  0%|          | 0/1 [00:00<?, ?it/s]\u001b[A\u001b[A\n",
      "\n",
      "100%|██████████| 1/1 [00:00<00:00,  1.23it/s]\u001b[A\u001b[A\n",
      "\n",
      "  1%|▏         | 135/10000 [03:48<4:22:32,  1.60s/it]\u001b[A\n",
      "\n",
      "  0%|          | 0/1 [00:00<?, ?it/s]\u001b[A\u001b[A\n",
      "\n",
      "100%|██████████| 1/1 [00:00<00:00,  1.06it/s]\u001b[A\u001b[A\n",
      "\n",
      "  1%|▏         | 136/10000 [03:50<4:12:09,  1.53s/it]\u001b[A\n",
      "\n",
      "  0%|          | 0/1 [00:00<?, ?it/s]\u001b[A\u001b[A\n",
      "\n",
      "100%|██████████| 1/1 [00:00<00:00,  1.04it/s]\u001b[A\u001b[A\n"
     ]
    },
    {
     "name": "stdout",
     "output_type": "stream",
     "text": [
      "\n",
      "Epoch: 137, Loss: 0.4037, Val: 0.6433, Test: 0.6503\n"
     ]
    },
    {
     "name": "stderr",
     "output_type": "stream",
     "text": [
      "\n",
      "  1%|▏         | 137/10000 [03:52<4:30:52,  1.65s/it]\u001b[A\n",
      "\n",
      "  0%|          | 0/1 [00:00<?, ?it/s]\u001b[A\u001b[A\n",
      "\n",
      "100%|██████████| 1/1 [00:00<00:00,  1.03it/s]\u001b[A\u001b[A\n"
     ]
    },
    {
     "name": "stdout",
     "output_type": "stream",
     "text": [
      "\n",
      "Epoch: 138, Loss: 0.4035, Val: 0.6433, Test: 0.6501\n"
     ]
    },
    {
     "name": "stderr",
     "output_type": "stream",
     "text": [
      "\n",
      "  1%|▏         | 138/10000 [03:54<4:45:22,  1.74s/it]\u001b[A\n",
      "\n",
      "  0%|          | 0/1 [00:00<?, ?it/s]\u001b[A\u001b[A\n",
      "\n",
      "100%|██████████| 1/1 [00:00<00:00,  1.05it/s]\u001b[A\u001b[A\n",
      "\n",
      "  1%|▏         | 139/10000 [03:55<4:29:42,  1.64s/it]\u001b[A\n",
      "\n",
      "  0%|          | 0/1 [00:00<?, ?it/s]\u001b[A\u001b[A\n",
      "\n",
      "100%|██████████| 1/1 [00:00<00:00,  1.90it/s]\u001b[A\u001b[A\n",
      "\n",
      "  1%|▏         | 140/10000 [03:56<3:46:07,  1.38s/it]\u001b[A\n",
      "\n",
      "  0%|          | 0/1 [00:00<?, ?it/s]\u001b[A\u001b[A\n",
      "\n",
      "100%|██████████| 1/1 [00:00<00:00,  2.02it/s]\u001b[A\u001b[A\n",
      "\n",
      "  1%|▏         | 141/10000 [03:56<3:13:54,  1.18s/it]\u001b[A\n",
      "\n",
      "  0%|          | 0/1 [00:00<?, ?it/s]\u001b[A\u001b[A\n",
      "\n",
      "100%|██████████| 1/1 [00:00<00:00,  2.16it/s]\u001b[A\u001b[A\n",
      "\n",
      "  1%|▏         | 142/10000 [03:57<2:59:08,  1.09s/it]\u001b[A\n",
      "\n",
      "  0%|          | 0/1 [00:00<?, ?it/s]\u001b[A\u001b[A\n",
      "\n",
      "100%|██████████| 1/1 [00:00<00:00,  1.14it/s]\u001b[A\u001b[A\n",
      "\n",
      "  1%|▏         | 143/10000 [03:59<3:09:03,  1.15s/it]\u001b[A\n",
      "\n",
      "  0%|          | 0/1 [00:00<?, ?it/s]\u001b[A\u001b[A\n",
      "\n",
      "100%|██████████| 1/1 [00:00<00:00,  1.09it/s]\u001b[A\u001b[A\n",
      "\n",
      "  1%|▏         | 144/10000 [04:00<3:16:51,  1.20s/it]\u001b[A\n",
      "\n",
      "  0%|          | 0/1 [00:00<?, ?it/s]\u001b[A\u001b[A\n",
      "\n",
      "100%|██████████| 1/1 [00:00<00:00,  1.11it/s]\u001b[A\u001b[A\n",
      "\n",
      "  1%|▏         | 145/10000 [04:01<3:21:55,  1.23s/it]\u001b[A\n",
      "\n",
      "  0%|          | 0/1 [00:00<?, ?it/s]\u001b[A\u001b[A\n",
      "\n",
      "100%|██████████| 1/1 [00:00<00:00,  1.14it/s]\u001b[A\u001b[A\n",
      "\n",
      "  1%|▏         | 146/10000 [04:03<3:26:53,  1.26s/it]\u001b[A\n",
      "\n",
      "  0%|          | 0/1 [00:00<?, ?it/s]\u001b[A\u001b[A\n",
      "\n",
      "100%|██████████| 1/1 [00:00<00:00,  1.06it/s]\u001b[A\u001b[A\n",
      "\n",
      "  1%|▏         | 147/10000 [04:04<3:31:50,  1.29s/it]\u001b[A\n",
      "\n",
      "  0%|          | 0/1 [00:00<?, ?it/s]\u001b[A\u001b[A\n",
      "\n",
      "100%|██████████| 1/1 [00:00<00:00,  1.09it/s]\u001b[A\u001b[A\n",
      "\n",
      "  1%|▏         | 148/10000 [04:05<3:32:06,  1.29s/it]\u001b[A\n",
      "\n",
      "  0%|          | 0/1 [00:00<?, ?it/s]\u001b[A\u001b[A\n",
      "\n",
      "100%|██████████| 1/1 [00:00<00:00,  1.09it/s]\u001b[A\u001b[A\n",
      "\n",
      "  1%|▏         | 149/10000 [04:06<3:32:12,  1.29s/it]\u001b[A\n",
      "\n",
      "  0%|          | 0/1 [00:00<?, ?it/s]\u001b[A\u001b[A\n",
      "\n",
      "100%|██████████| 1/1 [00:00<00:00,  1.14it/s]\u001b[A\u001b[A\n",
      "\n",
      "  2%|▏         | 150/10000 [04:08<3:25:52,  1.25s/it]\u001b[A\n",
      "\n",
      "  0%|          | 0/1 [00:00<?, ?it/s]\u001b[A\u001b[A\n",
      "\n",
      "100%|██████████| 1/1 [00:00<00:00,  2.09it/s]\u001b[A\u001b[A\n",
      "\n",
      "  2%|▏         | 151/10000 [04:08<3:00:29,  1.10s/it]\u001b[A\n",
      "\n",
      "  0%|          | 0/1 [00:00<?, ?it/s]\u001b[A\u001b[A\n",
      "\n",
      "100%|██████████| 1/1 [00:00<00:00,  2.12it/s]\u001b[A\u001b[A\n",
      "\n",
      "  2%|▏         | 152/10000 [04:09<2:41:18,  1.02it/s]\u001b[A\n",
      "\n",
      "  0%|          | 0/1 [00:00<?, ?it/s]\u001b[A\u001b[A\n",
      "\n",
      "100%|██████████| 1/1 [00:00<00:00,  1.75it/s]\u001b[A\u001b[A\n",
      "\n",
      "  2%|▏         | 153/10000 [04:10<2:37:59,  1.04it/s]\u001b[A\n",
      "\n",
      "  0%|          | 0/1 [00:00<?, ?it/s]\u001b[A\u001b[A\n",
      "\n",
      "100%|██████████| 1/1 [00:00<00:00,  1.32it/s]\u001b[A\u001b[A\n",
      "\n",
      "  2%|▏         | 154/10000 [04:11<2:39:27,  1.03it/s]\u001b[A\n",
      "\n",
      "  0%|          | 0/1 [00:00<?, ?it/s]\u001b[A\u001b[A\n",
      "\n",
      "100%|██████████| 1/1 [00:00<00:00,  2.24it/s]\u001b[A\u001b[A\n",
      "\n",
      "  2%|▏         | 155/10000 [04:12<2:24:19,  1.14it/s]\u001b[A\n",
      "\n",
      "  0%|          | 0/1 [00:00<?, ?it/s]\u001b[A\u001b[A\n",
      "\n",
      "100%|██████████| 1/1 [00:00<00:00,  2.24it/s]\u001b[A\u001b[A\n"
     ]
    },
    {
     "name": "stdout",
     "output_type": "stream",
     "text": [
      "\n",
      "Epoch: 156, Loss: 0.3965, Val: 0.6436, Test: 0.6514\n"
     ]
    },
    {
     "name": "stderr",
     "output_type": "stream",
     "text": [
      "\n",
      "  2%|▏         | 156/10000 [04:13<2:27:42,  1.11it/s]\u001b[A\n",
      "\n",
      "  0%|          | 0/1 [00:00<?, ?it/s]\u001b[A\u001b[A\n",
      "\n",
      "100%|██████████| 1/1 [00:00<00:00,  2.18it/s]\u001b[A\u001b[A\n"
     ]
    },
    {
     "name": "stdout",
     "output_type": "stream",
     "text": [
      "\n",
      "Epoch: 157, Loss: 0.3963, Val: 0.6437, Test: 0.6517\n"
     ]
    },
    {
     "name": "stderr",
     "output_type": "stream",
     "text": [
      "\n",
      "  2%|▏         | 157/10000 [04:14<2:44:56,  1.01s/it]\u001b[A\n",
      "\n",
      "  0%|          | 0/1 [00:00<?, ?it/s]\u001b[A\u001b[A\n",
      "\n",
      "100%|██████████| 1/1 [00:01<00:00,  1.00s/it]\u001b[A\u001b[A\n"
     ]
    },
    {
     "name": "stdout",
     "output_type": "stream",
     "text": [
      "\n",
      "Epoch: 158, Loss: 0.3958, Val: 0.6441, Test: 0.6521\n"
     ]
    },
    {
     "name": "stderr",
     "output_type": "stream",
     "text": [
      "\n",
      "  2%|▏         | 158/10000 [04:16<3:32:42,  1.30s/it]\u001b[A\n",
      "\n",
      "  0%|          | 0/1 [00:00<?, ?it/s]\u001b[A\u001b[A\n",
      "\n",
      "100%|██████████| 1/1 [00:00<00:00,  1.06it/s]\u001b[A\u001b[A\n",
      "\n",
      "  2%|▏         | 159/10000 [04:17<3:36:12,  1.32s/it]\u001b[A\n",
      "\n",
      "  0%|          | 0/1 [00:00<?, ?it/s]\u001b[A\u001b[A\n",
      "\n",
      "100%|██████████| 1/1 [00:00<00:00,  1.60it/s]\u001b[A\u001b[A\n",
      "\n",
      "  2%|▏         | 160/10000 [04:18<3:26:38,  1.26s/it]\u001b[A\n",
      "\n",
      "  0%|          | 0/1 [00:00<?, ?it/s]\u001b[A\u001b[A\n",
      "\n",
      "100%|██████████| 1/1 [00:01<00:00,  1.07s/it]\u001b[A\u001b[A\n",
      "\n",
      "  2%|▏         | 161/10000 [04:20<3:43:24,  1.36s/it]\u001b[A\n",
      "\n",
      "  0%|          | 0/1 [00:00<?, ?it/s]\u001b[A\u001b[A\n",
      "\n",
      "100%|██████████| 1/1 [00:01<00:00,  1.07s/it]\u001b[A\u001b[A\n"
     ]
    },
    {
     "name": "stdout",
     "output_type": "stream",
     "text": [
      "\n",
      "Epoch: 162, Loss: 0.3947, Val: 0.6447, Test: 0.6533\n"
     ]
    },
    {
     "name": "stderr",
     "output_type": "stream",
     "text": [
      "\n",
      "  2%|▏         | 162/10000 [04:22<4:06:42,  1.50s/it]\u001b[A\n",
      "\n",
      "  0%|          | 0/1 [00:00<?, ?it/s]\u001b[A\u001b[A\n",
      "\n",
      "100%|██████████| 1/1 [00:00<00:00,  2.01it/s]\u001b[A\u001b[A\n"
     ]
    },
    {
     "name": "stdout",
     "output_type": "stream",
     "text": [
      "\n",
      "Epoch: 163, Loss: 0.3948, Val: 0.6448, Test: 0.6530\n"
     ]
    },
    {
     "name": "stderr",
     "output_type": "stream",
     "text": [
      "\n",
      "  2%|▏         | 163/10000 [04:23<3:53:36,  1.42s/it]\u001b[A\n",
      "\n",
      "  0%|          | 0/1 [00:00<?, ?it/s]\u001b[A\u001b[A\n",
      "\n",
      "100%|██████████| 1/1 [00:01<00:00,  1.04s/it]\u001b[A\u001b[A\n"
     ]
    },
    {
     "name": "stdout",
     "output_type": "stream",
     "text": [
      "\n",
      "Epoch: 164, Loss: 0.3943, Val: 0.6455, Test: 0.6530\n"
     ]
    },
    {
     "name": "stderr",
     "output_type": "stream",
     "text": [
      "\n",
      "  2%|▏         | 164/10000 [04:25<4:32:59,  1.67s/it]\u001b[A\n",
      "\n",
      "  0%|          | 0/1 [00:00<?, ?it/s]\u001b[A\u001b[A\n",
      "\n",
      "100%|██████████| 1/1 [00:01<00:00,  1.09s/it]\u001b[A\u001b[A\n",
      "\n",
      "  2%|▏         | 165/10000 [04:27<4:30:11,  1.65s/it]\u001b[A\n",
      "\n",
      "  0%|          | 0/1 [00:00<?, ?it/s]\u001b[A\u001b[A\n",
      "\n",
      "100%|██████████| 1/1 [00:01<00:00,  1.05s/it]\u001b[A\u001b[A\n"
     ]
    },
    {
     "name": "stdout",
     "output_type": "stream",
     "text": [
      "\n",
      "Epoch: 166, Loss: 0.3942, Val: 0.6460, Test: 0.6524\n"
     ]
    },
    {
     "name": "stderr",
     "output_type": "stream",
     "text": [
      "\n",
      "  2%|▏         | 166/10000 [04:29<4:55:10,  1.80s/it]\u001b[A\n",
      "\n",
      "  0%|          | 0/1 [00:00<?, ?it/s]\u001b[A\u001b[A\n",
      "\n",
      "100%|██████████| 1/1 [00:01<00:00,  1.05s/it]\u001b[A\u001b[A\n"
     ]
    },
    {
     "name": "stdout",
     "output_type": "stream",
     "text": [
      "\n",
      "Epoch: 167, Loss: 0.3943, Val: 0.6468, Test: 0.6520\n"
     ]
    },
    {
     "name": "stderr",
     "output_type": "stream",
     "text": [
      "\n",
      "  2%|▏         | 167/10000 [04:31<5:09:12,  1.89s/it]\u001b[A\n",
      "\n",
      "  0%|          | 0/1 [00:00<?, ?it/s]\u001b[A\u001b[A\n",
      "\n",
      "100%|██████████| 1/1 [00:01<00:00,  1.04s/it]\u001b[A\u001b[A\n"
     ]
    },
    {
     "name": "stdout",
     "output_type": "stream",
     "text": [
      "\n",
      "Epoch: 168, Loss: 0.3941, Val: 0.6472, Test: 0.6521\n"
     ]
    },
    {
     "name": "stderr",
     "output_type": "stream",
     "text": [
      "\n",
      "  2%|▏         | 168/10000 [04:33<5:23:27,  1.97s/it]\u001b[A\n",
      "\n",
      "  0%|          | 0/1 [00:00<?, ?it/s]\u001b[A\u001b[A\n",
      "\n",
      "100%|██████████| 1/1 [00:00<00:00,  1.21it/s]\u001b[A\u001b[A\n"
     ]
    },
    {
     "name": "stdout",
     "output_type": "stream",
     "text": [
      "\n",
      "Epoch: 169, Loss: 0.3934, Val: 0.6472, Test: 0.6521\n"
     ]
    },
    {
     "name": "stderr",
     "output_type": "stream",
     "text": [
      "\n",
      "  2%|▏         | 169/10000 [04:35<5:12:33,  1.91s/it]\u001b[A\n",
      "\n",
      "  0%|          | 0/1 [00:00<?, ?it/s]\u001b[A\u001b[A\n",
      "\n",
      "100%|██████████| 1/1 [00:00<00:00,  1.01it/s]\u001b[A\u001b[A\n"
     ]
    },
    {
     "name": "stdout",
     "output_type": "stream",
     "text": [
      "\n",
      "Epoch: 170, Loss: 0.3933, Val: 0.6475, Test: 0.6520\n"
     ]
    },
    {
     "name": "stderr",
     "output_type": "stream",
     "text": [
      "\n",
      "  2%|▏         | 170/10000 [04:37<5:17:37,  1.94s/it]\u001b[A\n",
      "\n",
      "  0%|          | 0/1 [00:00<?, ?it/s]\u001b[A\u001b[A\n",
      "\n",
      "100%|██████████| 1/1 [00:01<00:00,  1.09s/it]\u001b[A\u001b[A\n"
     ]
    },
    {
     "name": "stdout",
     "output_type": "stream",
     "text": [
      "\n",
      "Epoch: 171, Loss: 0.3937, Val: 0.6483, Test: 0.6519\n"
     ]
    },
    {
     "name": "stderr",
     "output_type": "stream",
     "text": [
      "\n",
      "  2%|▏         | 171/10000 [04:39<5:28:54,  2.01s/it]\u001b[A\n",
      "\n",
      "  0%|          | 0/1 [00:00<?, ?it/s]\u001b[A\u001b[A\n",
      "\n",
      "100%|██████████| 1/1 [00:01<00:00,  1.06s/it]\u001b[A\u001b[A\n",
      "\n",
      "  2%|▏         | 172/10000 [04:41<5:02:55,  1.85s/it]\u001b[A\n",
      "\n",
      "  0%|          | 0/1 [00:00<?, ?it/s]\u001b[A\u001b[A\n",
      "\n",
      "100%|██████████| 1/1 [00:00<00:00,  1.09it/s]\u001b[A\u001b[A\n",
      "\n",
      "  2%|▏         | 173/10000 [04:42<4:28:22,  1.64s/it]\u001b[A\n",
      "\n",
      "  0%|          | 0/1 [00:00<?, ?it/s]\u001b[A\u001b[A\n",
      "\n",
      "100%|██████████| 1/1 [00:00<00:00,  1.89it/s]\u001b[A\u001b[A\n",
      "\n",
      "  2%|▏         | 174/10000 [04:43<3:45:13,  1.38s/it]\u001b[A\n",
      "\n",
      "  0%|          | 0/1 [00:00<?, ?it/s]\u001b[A\u001b[A\n",
      "\n",
      "100%|██████████| 1/1 [00:00<00:00,  1.22it/s]\u001b[A\u001b[A\n"
     ]
    },
    {
     "name": "stdout",
     "output_type": "stream",
     "text": [
      "\n",
      "Epoch: 175, Loss: 0.3926, Val: 0.6492, Test: 0.6524\n"
     ]
    },
    {
     "name": "stderr",
     "output_type": "stream",
     "text": [
      "\n",
      "  2%|▏         | 175/10000 [04:44<4:07:40,  1.51s/it]\u001b[A\n",
      "\n",
      "  0%|          | 0/1 [00:00<?, ?it/s]\u001b[A\u001b[A\n",
      "\n",
      "100%|██████████| 1/1 [00:00<00:00,  1.05it/s]\u001b[A\u001b[A\n",
      "\n",
      "  2%|▏         | 176/10000 [04:46<4:01:49,  1.48s/it]\u001b[A\n",
      "\n",
      "  0%|          | 0/1 [00:00<?, ?it/s]\u001b[A\u001b[A\n",
      "\n",
      "100%|██████████| 1/1 [00:00<00:00,  1.08it/s]\u001b[A\u001b[A\n",
      "\n",
      "  2%|▏         | 177/10000 [04:47<3:55:12,  1.44s/it]\u001b[A\n",
      "\n",
      "  0%|          | 0/1 [00:00<?, ?it/s]\u001b[A\u001b[A\n",
      "\n",
      "100%|██████████| 1/1 [00:00<00:00,  1.03it/s]\u001b[A\u001b[A\n",
      "\n",
      "  2%|▏         | 178/10000 [04:49<3:54:14,  1.43s/it]\u001b[A\n",
      "\n",
      "  0%|          | 0/1 [00:00<?, ?it/s]\u001b[A\u001b[A\n",
      "\n",
      "100%|██████████| 1/1 [00:00<00:00,  1.06it/s]\u001b[A\u001b[A\n"
     ]
    },
    {
     "name": "stdout",
     "output_type": "stream",
     "text": [
      "\n",
      "Epoch: 179, Loss: 0.3919, Val: 0.6493, Test: 0.6522\n"
     ]
    },
    {
     "name": "stderr",
     "output_type": "stream",
     "text": [
      "\n",
      "  2%|▏         | 179/10000 [04:50<4:16:19,  1.57s/it]\u001b[A\n",
      "\n",
      "  0%|          | 0/1 [00:00<?, ?it/s]\u001b[A\u001b[A\n",
      "\n",
      "100%|██████████| 1/1 [00:00<00:00,  1.03it/s]\u001b[A\u001b[A\n",
      "\n",
      "  2%|▏         | 180/10000 [04:52<4:08:39,  1.52s/it]\u001b[A\n",
      "\n",
      "  0%|          | 0/1 [00:00<?, ?it/s]\u001b[A\u001b[A\n",
      "\n",
      "100%|██████████| 1/1 [00:00<00:00,  1.01it/s]\u001b[A\u001b[A\n"
     ]
    },
    {
     "name": "stdout",
     "output_type": "stream",
     "text": [
      "\n",
      "Epoch: 181, Loss: 0.3919, Val: 0.6498, Test: 0.6523\n"
     ]
    },
    {
     "name": "stderr",
     "output_type": "stream",
     "text": [
      "\n",
      "  2%|▏         | 181/10000 [04:54<4:18:50,  1.58s/it]\u001b[A\n",
      "\n",
      "  0%|          | 0/1 [00:00<?, ?it/s]\u001b[A\u001b[A\n",
      "\n",
      "100%|██████████| 1/1 [00:00<00:00,  2.17it/s]\u001b[A\u001b[A\n",
      "\n",
      "  2%|▏         | 182/10000 [04:54<3:34:50,  1.31s/it]\u001b[A\n",
      "\n",
      "  0%|          | 0/1 [00:00<?, ?it/s]\u001b[A\u001b[A\n",
      "\n",
      "100%|██████████| 1/1 [00:00<00:00,  2.26it/s]\u001b[A\u001b[A\n"
     ]
    },
    {
     "name": "stdout",
     "output_type": "stream",
     "text": [
      "\n",
      "Epoch: 183, Loss: 0.3914, Val: 0.6498, Test: 0.6527\n"
     ]
    },
    {
     "name": "stderr",
     "output_type": "stream",
     "text": [
      "\n",
      "  2%|▏         | 183/10000 [04:55<3:16:18,  1.20s/it]\u001b[A\n",
      "\n",
      "  0%|          | 0/1 [00:00<?, ?it/s]\u001b[A\u001b[A\n",
      "\n",
      "100%|██████████| 1/1 [00:00<00:00,  1.64it/s]\u001b[A\u001b[A\n",
      "\n",
      "  2%|▏         | 184/10000 [04:56<3:08:30,  1.15s/it]\u001b[A\n",
      "\n",
      "  0%|          | 0/1 [00:00<?, ?it/s]\u001b[A\u001b[A\n",
      "\n",
      "100%|██████████| 1/1 [00:00<00:00,  1.88it/s]\u001b[A\u001b[A\n"
     ]
    },
    {
     "name": "stdout",
     "output_type": "stream",
     "text": [
      "\n",
      "Epoch: 185, Loss: 0.3921, Val: 0.6502, Test: 0.6525\n"
     ]
    },
    {
     "name": "stderr",
     "output_type": "stream",
     "text": [
      "\n",
      "  2%|▏         | 185/10000 [04:57<3:07:32,  1.15s/it]\u001b[A\n",
      "\n",
      "  0%|          | 0/1 [00:00<?, ?it/s]\u001b[A\u001b[A\n",
      "\n",
      "100%|██████████| 1/1 [00:00<00:00,  2.10it/s]\u001b[A\u001b[A\n",
      "\n",
      "  2%|▏         | 186/10000 [04:58<2:45:12,  1.01s/it]\u001b[A\n",
      "\n",
      "  0%|          | 0/1 [00:00<?, ?it/s]\u001b[A\u001b[A\n",
      "\n",
      "100%|██████████| 1/1 [00:00<00:00,  1.97it/s]\u001b[A\u001b[A\n",
      "\n",
      "  2%|▏         | 187/10000 [04:59<2:31:09,  1.08it/s]\u001b[A\n",
      "\n",
      "  0%|          | 0/1 [00:00<?, ?it/s]\u001b[A\u001b[A\n",
      "\n",
      "100%|██████████| 1/1 [00:00<00:00,  1.28it/s]\u001b[A\u001b[A\n"
     ]
    },
    {
     "name": "stdout",
     "output_type": "stream",
     "text": [
      "\n",
      "Epoch: 188, Loss: 0.3912, Val: 0.6502, Test: 0.6534\n"
     ]
    },
    {
     "name": "stderr",
     "output_type": "stream",
     "text": [
      "\n",
      "  2%|▏         | 188/10000 [05:01<3:17:20,  1.21s/it]\u001b[A\n",
      "\n",
      "  0%|          | 0/1 [00:00<?, ?it/s]\u001b[A\u001b[A\n",
      "\n",
      "100%|██████████| 1/1 [00:00<00:00,  1.08it/s]\u001b[A\u001b[A\n"
     ]
    },
    {
     "name": "stdout",
     "output_type": "stream",
     "text": [
      "\n",
      "Epoch: 189, Loss: 0.3907, Val: 0.6504, Test: 0.6535\n"
     ]
    },
    {
     "name": "stderr",
     "output_type": "stream",
     "text": [
      "\n",
      "  2%|▏         | 189/10000 [05:03<3:54:41,  1.44s/it]\u001b[A\n",
      "\n",
      "  0%|          | 0/1 [00:00<?, ?it/s]\u001b[A\u001b[A\n",
      "\n",
      "100%|██████████| 1/1 [00:01<00:00,  1.04s/it]\u001b[A\u001b[A\n"
     ]
    },
    {
     "name": "stdout",
     "output_type": "stream",
     "text": [
      "\n",
      "Epoch: 190, Loss: 0.3906, Val: 0.6505, Test: 0.6539\n"
     ]
    },
    {
     "name": "stderr",
     "output_type": "stream",
     "text": [
      "\n",
      "  2%|▏         | 190/10000 [05:05<4:26:11,  1.63s/it]\u001b[A\n",
      "\n",
      "  0%|          | 0/1 [00:00<?, ?it/s]\u001b[A\u001b[A\n",
      "\n",
      "100%|██████████| 1/1 [00:01<00:00,  1.04s/it]\u001b[A\u001b[A\n",
      "\n",
      "  2%|▏         | 191/10000 [05:06<4:20:44,  1.59s/it]\u001b[A\n",
      "\n",
      "  0%|          | 0/1 [00:00<?, ?it/s]\u001b[A\u001b[A\n",
      "\n",
      "100%|██████████| 1/1 [00:00<00:00,  1.12it/s]\u001b[A\u001b[A\n"
     ]
    },
    {
     "name": "stdout",
     "output_type": "stream",
     "text": [
      "\n",
      "Epoch: 192, Loss: 0.3905, Val: 0.6506, Test: 0.6546\n"
     ]
    },
    {
     "name": "stderr",
     "output_type": "stream",
     "text": [
      "\n",
      "  2%|▏         | 192/10000 [05:08<4:11:27,  1.54s/it]\u001b[A\n",
      "\n",
      "  0%|          | 0/1 [00:00<?, ?it/s]\u001b[A\u001b[A\n",
      "\n",
      "100%|██████████| 1/1 [00:00<00:00,  1.83it/s]\u001b[A\u001b[A\n",
      "\n",
      "  2%|▏         | 193/10000 [05:09<3:41:54,  1.36s/it]\u001b[A\n",
      "\n",
      "  0%|          | 0/1 [00:00<?, ?it/s]\u001b[A\u001b[A\n",
      "\n",
      "100%|██████████| 1/1 [00:00<00:00,  1.10it/s]\u001b[A\u001b[A\n"
     ]
    },
    {
     "name": "stdout",
     "output_type": "stream",
     "text": [
      "\n",
      "Epoch: 194, Loss: 0.3904, Val: 0.6507, Test: 0.6539\n"
     ]
    },
    {
     "name": "stderr",
     "output_type": "stream",
     "text": [
      "\n",
      "  2%|▏         | 194/10000 [05:11<4:11:19,  1.54s/it]\u001b[A\n",
      "\n",
      "  0%|          | 0/1 [00:00<?, ?it/s]\u001b[A\u001b[A\n",
      "\n",
      "100%|██████████| 1/1 [00:01<00:00,  1.16s/it]\u001b[A\u001b[A\n"
     ]
    },
    {
     "name": "stdout",
     "output_type": "stream",
     "text": [
      "\n",
      "Epoch: 195, Loss: 0.3907, Val: 0.6509, Test: 0.6539\n"
     ]
    },
    {
     "name": "stderr",
     "output_type": "stream",
     "text": [
      "\n",
      "  2%|▏         | 195/10000 [05:13<4:50:00,  1.77s/it]\u001b[A\n",
      "\n",
      "  0%|          | 0/1 [00:00<?, ?it/s]\u001b[A\u001b[A\n",
      "\n",
      "100%|██████████| 1/1 [00:01<00:00,  1.16s/it]\u001b[A\u001b[A\n"
     ]
    },
    {
     "name": "stdout",
     "output_type": "stream",
     "text": [
      "\n",
      "Epoch: 196, Loss: 0.3899, Val: 0.6511, Test: 0.6536\n"
     ]
    },
    {
     "name": "stderr",
     "output_type": "stream",
     "text": [
      "\n",
      "  2%|▏         | 196/10000 [05:15<5:20:34,  1.96s/it]\u001b[A\n",
      "\n",
      "  0%|          | 0/1 [00:00<?, ?it/s]\u001b[A\u001b[A\n",
      "\n",
      "100%|██████████| 1/1 [00:01<00:00,  1.10s/it]\u001b[A\u001b[A\n",
      "\n",
      "  2%|▏         | 197/10000 [05:17<5:01:16,  1.84s/it]\u001b[A\n",
      "\n",
      "  0%|          | 0/1 [00:00<?, ?it/s]\u001b[A\u001b[A\n",
      "\n",
      "100%|██████████| 1/1 [00:01<00:00,  1.07s/it]\u001b[A\u001b[A\n"
     ]
    },
    {
     "name": "stdout",
     "output_type": "stream",
     "text": [
      "\n",
      "Epoch: 198, Loss: 0.3902, Val: 0.6512, Test: 0.6536\n"
     ]
    },
    {
     "name": "stderr",
     "output_type": "stream",
     "text": [
      "\n",
      "  2%|▏         | 198/10000 [05:19<5:14:33,  1.93s/it]\u001b[A\n",
      "\n",
      "  0%|          | 0/1 [00:00<?, ?it/s]\u001b[A\u001b[A\n",
      "\n",
      "100%|██████████| 1/1 [00:00<00:00,  1.52it/s]\u001b[A\u001b[A\n"
     ]
    },
    {
     "name": "stdout",
     "output_type": "stream",
     "text": [
      "\n",
      "Epoch: 199, Loss: 0.3903, Val: 0.6517, Test: 0.6537\n"
     ]
    },
    {
     "name": "stderr",
     "output_type": "stream",
     "text": [
      "\n",
      "  2%|▏         | 199/10000 [05:21<5:34:04,  2.05s/it]\u001b[A\n",
      "\n",
      "  0%|          | 0/1 [00:00<?, ?it/s]\u001b[A\u001b[A\n",
      "\n",
      "100%|██████████| 1/1 [00:01<00:00,  1.15s/it]\u001b[A\u001b[A\n",
      "\n",
      "  2%|▏         | 200/10000 [05:23<5:14:12,  1.92s/it]\u001b[A\n",
      "\n",
      "  0%|          | 0/1 [00:00<?, ?it/s]\u001b[A\u001b[A\n",
      "\n",
      "100%|██████████| 1/1 [00:01<00:00,  1.02s/it]\u001b[A\u001b[A\n",
      "\n",
      "  2%|▏         | 201/10000 [05:24<4:51:44,  1.79s/it]\u001b[A\n",
      "\n",
      "  0%|          | 0/1 [00:00<?, ?it/s]\u001b[A\u001b[A\n",
      "\n",
      "100%|██████████| 1/1 [00:01<00:00,  1.09s/it]\u001b[A\u001b[A\n"
     ]
    },
    {
     "name": "stdout",
     "output_type": "stream",
     "text": [
      "\n",
      "Epoch: 202, Loss: 0.3899, Val: 0.6518, Test: 0.6551\n"
     ]
    },
    {
     "name": "stderr",
     "output_type": "stream",
     "text": [
      "\n",
      "  2%|▏         | 202/10000 [05:27<5:09:44,  1.90s/it]\u001b[A\n",
      "\n",
      "  0%|          | 0/1 [00:00<?, ?it/s]\u001b[A\u001b[A\n",
      "\n",
      "100%|██████████| 1/1 [00:00<00:00,  1.40it/s]\u001b[A\u001b[A\n"
     ]
    },
    {
     "name": "stdout",
     "output_type": "stream",
     "text": [
      "\n",
      "Epoch: 203, Loss: 0.3896, Val: 0.6519, Test: 0.6553\n"
     ]
    },
    {
     "name": "stderr",
     "output_type": "stream",
     "text": [
      "\n",
      "  2%|▏         | 203/10000 [05:28<4:38:47,  1.71s/it]\u001b[A\n",
      "\n",
      "  0%|          | 0/1 [00:00<?, ?it/s]\u001b[A\u001b[A\n",
      "\n",
      "100%|██████████| 1/1 [00:00<00:00,  1.36it/s]\u001b[A\u001b[A\n",
      "\n",
      "  2%|▏         | 204/10000 [05:29<4:14:49,  1.56s/it]\u001b[A\n",
      "\n",
      "  0%|          | 0/1 [00:00<?, ?it/s]\u001b[A\u001b[A\n",
      "\n",
      "100%|██████████| 1/1 [00:00<00:00,  1.02it/s]\u001b[A\u001b[A\n",
      "\n",
      "  2%|▏         | 205/10000 [05:30<4:07:26,  1.52s/it]\u001b[A\n",
      "\n",
      "  0%|          | 0/1 [00:00<?, ?it/s]\u001b[A\u001b[A\n",
      "\n",
      "100%|██████████| 1/1 [00:01<00:00,  1.06s/it]\u001b[A\u001b[A\n",
      "\n",
      "  2%|▏         | 206/10000 [05:32<4:07:38,  1.52s/it]\u001b[A\n",
      "\n",
      "  0%|          | 0/1 [00:00<?, ?it/s]\u001b[A\u001b[A\n",
      "\n",
      "100%|██████████| 1/1 [00:01<00:00,  1.01s/it]\u001b[A\u001b[A\n"
     ]
    },
    {
     "name": "stdout",
     "output_type": "stream",
     "text": [
      "\n",
      "Epoch: 207, Loss: 0.3895, Val: 0.6522, Test: 0.6564\n"
     ]
    },
    {
     "name": "stderr",
     "output_type": "stream",
     "text": [
      "\n",
      "  2%|▏         | 207/10000 [05:34<4:44:09,  1.74s/it]\u001b[A\n",
      "\n",
      "  0%|          | 0/1 [00:00<?, ?it/s]\u001b[A\u001b[A\n",
      "\n",
      "100%|██████████| 1/1 [00:01<00:00,  1.08s/it]\u001b[A\u001b[A\n",
      "\n",
      "  2%|▏         | 208/10000 [05:36<4:34:35,  1.68s/it]\u001b[A\n",
      "\n",
      "  0%|          | 0/1 [00:00<?, ?it/s]\u001b[A\u001b[A\n",
      "\n",
      "100%|██████████| 1/1 [00:01<00:00,  1.00s/it]\u001b[A\u001b[A\n",
      "\n",
      "  2%|▏         | 209/10000 [05:37<4:23:43,  1.62s/it]\u001b[A\n",
      "\n",
      "  0%|          | 0/1 [00:00<?, ?it/s]\u001b[A\u001b[A\n",
      "\n",
      "100%|██████████| 1/1 [00:01<00:00,  1.05s/it]\u001b[A\u001b[A\n"
     ]
    },
    {
     "name": "stdout",
     "output_type": "stream",
     "text": [
      "\n",
      "Epoch: 210, Loss: 0.3895, Val: 0.6524, Test: 0.6565\n"
     ]
    },
    {
     "name": "stderr",
     "output_type": "stream",
     "text": [
      "\n",
      "  2%|▏         | 210/10000 [05:39<4:48:30,  1.77s/it]\u001b[A\n",
      "\n",
      "  0%|          | 0/1 [00:00<?, ?it/s]\u001b[A\u001b[A\n",
      "\n",
      "100%|██████████| 1/1 [00:00<00:00,  1.02it/s]\u001b[A\u001b[A\n",
      "\n",
      "  2%|▏         | 211/10000 [05:41<4:29:11,  1.65s/it]\u001b[A\n",
      "\n",
      "  0%|          | 0/1 [00:00<?, ?it/s]\u001b[A\u001b[A\n",
      "\n",
      "100%|██████████| 1/1 [00:00<00:00,  1.85it/s]\u001b[A\u001b[A\n",
      "\n",
      "  2%|▏         | 212/10000 [05:42<3:48:24,  1.40s/it]\u001b[A\n",
      "\n",
      "  0%|          | 0/1 [00:00<?, ?it/s]\u001b[A\u001b[A\n",
      "\n",
      "100%|██████████| 1/1 [00:00<00:00,  2.06it/s]\u001b[A\u001b[A\n"
     ]
    },
    {
     "name": "stdout",
     "output_type": "stream",
     "text": [
      "\n",
      "Epoch: 213, Loss: 0.3889, Val: 0.6525, Test: 0.6578\n"
     ]
    },
    {
     "name": "stderr",
     "output_type": "stream",
     "text": [
      "\n",
      "  2%|▏         | 213/10000 [05:43<3:29:36,  1.29s/it]\u001b[A\n",
      "\n",
      "  0%|          | 0/1 [00:00<?, ?it/s]\u001b[A\u001b[A\n",
      "\n",
      "100%|██████████| 1/1 [00:00<00:00,  1.40it/s]\u001b[A\u001b[A\n"
     ]
    },
    {
     "name": "stdout",
     "output_type": "stream",
     "text": [
      "\n",
      "Epoch: 214, Loss: 0.3891, Val: 0.6529, Test: 0.6575\n"
     ]
    },
    {
     "name": "stderr",
     "output_type": "stream",
     "text": [
      "\n",
      "  2%|▏         | 214/10000 [05:44<3:35:42,  1.32s/it]\u001b[A\n",
      "\n",
      "  0%|          | 0/1 [00:00<?, ?it/s]\u001b[A\u001b[A\n",
      "\n",
      "100%|██████████| 1/1 [00:00<00:00,  2.07it/s]\u001b[A\u001b[A\n",
      "\n",
      "  2%|▏         | 215/10000 [05:45<3:05:33,  1.14s/it]\u001b[A\n",
      "\n",
      "  0%|          | 0/1 [00:00<?, ?it/s]\u001b[A\u001b[A\n",
      "\n",
      "100%|██████████| 1/1 [00:00<00:00,  2.13it/s]\u001b[A\u001b[A\n",
      "\n",
      "  2%|▏         | 216/10000 [05:45<2:44:13,  1.01s/it]\u001b[A\n",
      "\n",
      "  0%|          | 0/1 [00:00<?, ?it/s]\u001b[A\u001b[A\n",
      "\n",
      "100%|██████████| 1/1 [00:00<00:00,  2.26it/s]\u001b[A\u001b[A\n"
     ]
    },
    {
     "name": "stdout",
     "output_type": "stream",
     "text": [
      "\n",
      "Epoch: 217, Loss: 0.3892, Val: 0.6531, Test: 0.6581\n"
     ]
    },
    {
     "name": "stderr",
     "output_type": "stream",
     "text": [
      "\n",
      "  2%|▏         | 217/10000 [05:46<2:42:07,  1.01it/s]\u001b[A\n",
      "\n",
      "  0%|          | 0/1 [00:00<?, ?it/s]\u001b[A\u001b[A\n",
      "\n",
      "100%|██████████| 1/1 [00:00<00:00,  2.00it/s]\u001b[A\u001b[A\n",
      "\n",
      "  2%|▏         | 218/10000 [05:47<2:32:25,  1.07it/s]\u001b[A\n",
      "\n",
      "  0%|          | 0/1 [00:00<?, ?it/s]\u001b[A\u001b[A\n",
      "\n",
      "100%|██████████| 1/1 [00:00<00:00,  1.70it/s]\u001b[A\u001b[A\n"
     ]
    },
    {
     "name": "stdout",
     "output_type": "stream",
     "text": [
      "\n",
      "Epoch: 219, Loss: 0.3890, Val: 0.6534, Test: 0.6584\n"
     ]
    },
    {
     "name": "stderr",
     "output_type": "stream",
     "text": [
      "\n",
      "  2%|▏         | 219/10000 [05:49<3:05:18,  1.14s/it]\u001b[A\n",
      "\n",
      "  0%|          | 0/1 [00:00<?, ?it/s]\u001b[A\u001b[A\n",
      "\n",
      "100%|██████████| 1/1 [00:01<00:00,  1.34s/it]\u001b[A\u001b[A\n"
     ]
    },
    {
     "name": "stdout",
     "output_type": "stream",
     "text": [
      "\n",
      "Epoch: 220, Loss: 0.3889, Val: 0.6535, Test: 0.6587\n"
     ]
    },
    {
     "name": "stderr",
     "output_type": "stream",
     "text": [
      "\n",
      "  2%|▏         | 220/10000 [05:51<4:16:20,  1.57s/it]\u001b[A\n",
      "\n",
      "  0%|          | 0/1 [00:00<?, ?it/s]\u001b[A\u001b[A\n",
      "\n",
      "100%|██████████| 1/1 [00:01<00:00,  1.23s/it]\u001b[A\u001b[A\n"
     ]
    },
    {
     "name": "stdout",
     "output_type": "stream",
     "text": [
      "\n",
      "Epoch: 221, Loss: 0.3889, Val: 0.6540, Test: 0.6591\n"
     ]
    },
    {
     "name": "stderr",
     "output_type": "stream",
     "text": [
      "\n",
      "  2%|▏         | 221/10000 [05:54<4:54:36,  1.81s/it]\u001b[A\n",
      "\n",
      "  0%|          | 0/1 [00:00<?, ?it/s]\u001b[A\u001b[A\n",
      "\n",
      "100%|██████████| 1/1 [00:01<00:00,  1.27s/it]\u001b[A\u001b[A\n"
     ]
    },
    {
     "name": "stdout",
     "output_type": "stream",
     "text": [
      "\n",
      "Epoch: 222, Loss: 0.3890, Val: 0.6543, Test: 0.6591\n"
     ]
    },
    {
     "name": "stderr",
     "output_type": "stream",
     "text": [
      "\n",
      "  2%|▏         | 222/10000 [05:56<5:26:59,  2.01s/it]\u001b[A\n",
      "\n",
      "  0%|          | 0/1 [00:00<?, ?it/s]\u001b[A\u001b[A\n",
      "\n",
      "100%|██████████| 1/1 [00:01<00:00,  1.25s/it]\u001b[A\u001b[A\n"
     ]
    },
    {
     "name": "stdout",
     "output_type": "stream",
     "text": [
      "\n",
      "Epoch: 223, Loss: 0.3890, Val: 0.6548, Test: 0.6591\n"
     ]
    },
    {
     "name": "stderr",
     "output_type": "stream",
     "text": [
      "\n",
      "  2%|▏         | 223/10000 [05:59<5:51:45,  2.16s/it]\u001b[A\n",
      "\n",
      "  0%|          | 0/1 [00:00<?, ?it/s]\u001b[A\u001b[A\n",
      "\n",
      "100%|██████████| 1/1 [00:01<00:00,  1.31s/it]\u001b[A\u001b[A\n"
     ]
    },
    {
     "name": "stdout",
     "output_type": "stream",
     "text": [
      "\n",
      "Epoch: 224, Loss: 0.3885, Val: 0.6548, Test: 0.6595\n"
     ]
    },
    {
     "name": "stderr",
     "output_type": "stream",
     "text": [
      "\n",
      "  2%|▏         | 224/10000 [06:01<5:45:40,  2.12s/it]\u001b[A\n",
      "\n",
      "  0%|          | 0/1 [00:00<?, ?it/s]\u001b[A\u001b[A\n",
      "\n",
      "100%|██████████| 1/1 [00:00<00:00,  2.00it/s]\u001b[A\u001b[A\n"
     ]
    },
    {
     "name": "stdout",
     "output_type": "stream",
     "text": [
      "\n",
      "Epoch: 225, Loss: 0.3887, Val: 0.6550, Test: 0.6593\n"
     ]
    },
    {
     "name": "stderr",
     "output_type": "stream",
     "text": [
      "\n",
      "  2%|▏         | 225/10000 [06:02<5:02:29,  1.86s/it]\u001b[A\n",
      "\n",
      "  0%|          | 0/1 [00:00<?, ?it/s]\u001b[A\u001b[A\n",
      "\n",
      "100%|██████████| 1/1 [00:01<00:00,  1.07s/it]\u001b[A\u001b[A\n"
     ]
    },
    {
     "name": "stdout",
     "output_type": "stream",
     "text": [
      "\n",
      "Epoch: 226, Loss: 0.3884, Val: 0.6551, Test: 0.6601\n"
     ]
    },
    {
     "name": "stderr",
     "output_type": "stream",
     "text": [
      "\n",
      "  2%|▏         | 226/10000 [06:04<5:10:57,  1.91s/it]\u001b[A\n",
      "\n",
      "  0%|          | 0/1 [00:00<?, ?it/s]\u001b[A\u001b[A\n",
      "\n",
      "100%|██████████| 1/1 [00:01<00:00,  1.05s/it]\u001b[A\u001b[A\n",
      "\n",
      "  2%|▏         | 227/10000 [06:05<4:50:52,  1.79s/it]\u001b[A\n",
      "\n",
      "  0%|          | 0/1 [00:00<?, ?it/s]\u001b[A\u001b[A\n",
      "\n",
      "100%|██████████| 1/1 [00:01<00:00,  1.25s/it]\u001b[A\u001b[A\n",
      "\n",
      "  2%|▏         | 228/10000 [06:07<4:46:38,  1.76s/it]\u001b[A\n",
      "\n",
      "  0%|          | 0/1 [00:00<?, ?it/s]\u001b[A\u001b[A\n",
      "\n",
      "100%|██████████| 1/1 [00:01<00:00,  1.05s/it]\u001b[A\u001b[A\n"
     ]
    },
    {
     "name": "stdout",
     "output_type": "stream",
     "text": [
      "\n",
      "Epoch: 229, Loss: 0.3887, Val: 0.6551, Test: 0.6604\n"
     ]
    },
    {
     "name": "stderr",
     "output_type": "stream",
     "text": [
      "\n",
      "  2%|▏         | 229/10000 [06:09<4:57:38,  1.83s/it]\u001b[A\n",
      "\n",
      "  0%|          | 0/1 [00:00<?, ?it/s]\u001b[A\u001b[A\n",
      "\n",
      "100%|██████████| 1/1 [00:01<00:00,  1.06s/it]\u001b[A\u001b[A\n"
     ]
    },
    {
     "name": "stdout",
     "output_type": "stream",
     "text": [
      "\n",
      "Epoch: 230, Loss: 0.3882, Val: 0.6560, Test: 0.6609\n"
     ]
    },
    {
     "name": "stderr",
     "output_type": "stream",
     "text": [
      "\n",
      "  2%|▏         | 230/10000 [06:11<5:09:09,  1.90s/it]\u001b[A\n",
      "\n",
      "  0%|          | 0/1 [00:00<?, ?it/s]\u001b[A\u001b[A\n",
      "\n",
      "100%|██████████| 1/1 [00:01<00:00,  1.14s/it]\u001b[A\u001b[A\n"
     ]
    },
    {
     "name": "stdout",
     "output_type": "stream",
     "text": [
      "\n",
      "Epoch: 231, Loss: 0.3879, Val: 0.6563, Test: 0.6605\n"
     ]
    },
    {
     "name": "stderr",
     "output_type": "stream",
     "text": [
      "\n",
      "  2%|▏         | 231/10000 [06:13<5:09:00,  1.90s/it]\u001b[A\n",
      "\n",
      "  0%|          | 0/1 [00:00<?, ?it/s]\u001b[A\u001b[A\n",
      "\n",
      "100%|██████████| 1/1 [00:01<00:00,  1.22s/it]\u001b[A\u001b[A\n",
      "\n",
      "  2%|▏         | 232/10000 [06:15<4:57:54,  1.83s/it]\u001b[A\n",
      "\n",
      "  0%|          | 0/1 [00:00<?, ?it/s]\u001b[A\u001b[A\n",
      "\n",
      "100%|██████████| 1/1 [00:01<00:00,  1.35s/it]\u001b[A\u001b[A\n",
      "\n",
      "  2%|▏         | 233/10000 [06:17<4:59:00,  1.84s/it]\u001b[A\n",
      "\n",
      "  0%|          | 0/1 [00:00<?, ?it/s]\u001b[A\u001b[A\n",
      "\n",
      "100%|██████████| 1/1 [00:01<00:00,  1.09s/it]\u001b[A\u001b[A\n"
     ]
    },
    {
     "name": "stdout",
     "output_type": "stream",
     "text": [
      "\n",
      "Epoch: 234, Loss: 0.3882, Val: 0.6568, Test: 0.6602\n"
     ]
    },
    {
     "name": "stderr",
     "output_type": "stream",
     "text": [
      "\n",
      "  2%|▏         | 234/10000 [06:19<5:18:03,  1.95s/it]\u001b[A\n",
      "\n",
      "  0%|          | 0/1 [00:00<?, ?it/s]\u001b[A\u001b[A\n",
      "\n",
      "100%|██████████| 1/1 [00:01<00:00,  1.10s/it]\u001b[A\u001b[A\n"
     ]
    },
    {
     "name": "stdout",
     "output_type": "stream",
     "text": [
      "\n",
      "Epoch: 235, Loss: 0.3881, Val: 0.6569, Test: 0.6604\n"
     ]
    },
    {
     "name": "stderr",
     "output_type": "stream",
     "text": [
      "\n",
      "  2%|▏         | 235/10000 [06:21<5:34:43,  2.06s/it]\u001b[A\n",
      "\n",
      "  0%|          | 0/1 [00:00<?, ?it/s]\u001b[A\u001b[A\n",
      "\n",
      "100%|██████████| 1/1 [00:01<00:00,  1.12s/it]\u001b[A\u001b[A\n"
     ]
    },
    {
     "name": "stdout",
     "output_type": "stream",
     "text": [
      "\n",
      "Epoch: 236, Loss: 0.3881, Val: 0.6571, Test: 0.6604\n"
     ]
    },
    {
     "name": "stderr",
     "output_type": "stream",
     "text": [
      "\n",
      "  2%|▏         | 236/10000 [06:23<5:37:07,  2.07s/it]\u001b[A\n",
      "\n",
      "  0%|          | 0/1 [00:00<?, ?it/s]\u001b[A\u001b[A\n",
      "\n",
      "100%|██████████| 1/1 [00:00<00:00,  1.04it/s]\u001b[A\u001b[A\n"
     ]
    },
    {
     "name": "stdout",
     "output_type": "stream",
     "text": [
      "\n",
      "Epoch: 237, Loss: 0.3877, Val: 0.6575, Test: 0.6606\n"
     ]
    },
    {
     "name": "stderr",
     "output_type": "stream",
     "text": [
      "\n",
      "  2%|▏         | 237/10000 [06:25<5:12:51,  1.92s/it]\u001b[A\n",
      "\n",
      "  0%|          | 0/1 [00:00<?, ?it/s]\u001b[A\u001b[A\n",
      "\n",
      "100%|██████████| 1/1 [00:00<00:00,  1.18it/s]\u001b[A\u001b[A\n"
     ]
    },
    {
     "name": "stdout",
     "output_type": "stream",
     "text": [
      "\n",
      "Epoch: 238, Loss: 0.3883, Val: 0.6576, Test: 0.6606\n"
     ]
    },
    {
     "name": "stderr",
     "output_type": "stream",
     "text": [
      "\n",
      "  2%|▏         | 238/10000 [06:27<5:06:21,  1.88s/it]\u001b[A\n",
      "\n",
      "  0%|          | 0/1 [00:00<?, ?it/s]\u001b[A\u001b[A\n",
      "\n",
      "100%|██████████| 1/1 [00:01<00:00,  1.02s/it]\u001b[A\u001b[A\n"
     ]
    },
    {
     "name": "stdout",
     "output_type": "stream",
     "text": [
      "\n",
      "Epoch: 239, Loss: 0.3877, Val: 0.6579, Test: 0.6611\n"
     ]
    },
    {
     "name": "stderr",
     "output_type": "stream",
     "text": [
      "\n",
      "  2%|▏         | 239/10000 [06:29<5:14:42,  1.93s/it]\u001b[A\n",
      "\n",
      "  0%|          | 0/1 [00:00<?, ?it/s]\u001b[A\u001b[A\n",
      "\n",
      "100%|██████████| 1/1 [00:00<00:00,  1.00it/s]\u001b[A\u001b[A\n"
     ]
    },
    {
     "name": "stdout",
     "output_type": "stream",
     "text": [
      "\n",
      "Epoch: 240, Loss: 0.3878, Val: 0.6582, Test: 0.6616\n"
     ]
    },
    {
     "name": "stderr",
     "output_type": "stream",
     "text": [
      "\n",
      "  2%|▏         | 240/10000 [06:31<5:14:58,  1.94s/it]\u001b[A\n",
      "\n",
      "  0%|          | 0/1 [00:00<?, ?it/s]\u001b[A\u001b[A\n",
      "\n",
      "100%|██████████| 1/1 [00:01<00:00,  1.08s/it]\u001b[A\u001b[A\n"
     ]
    },
    {
     "name": "stdout",
     "output_type": "stream",
     "text": [
      "\n",
      "Epoch: 241, Loss: 0.3882, Val: 0.6588, Test: 0.6616\n"
     ]
    },
    {
     "name": "stderr",
     "output_type": "stream",
     "text": [
      "\n",
      "  2%|▏         | 241/10000 [06:33<5:28:12,  2.02s/it]\u001b[A\n",
      "\n",
      "  0%|          | 0/1 [00:00<?, ?it/s]\u001b[A\u001b[A\n",
      "\n",
      "100%|██████████| 1/1 [00:01<00:00,  1.38s/it]\u001b[A\u001b[A\n"
     ]
    },
    {
     "name": "stdout",
     "output_type": "stream",
     "text": [
      "\n",
      "Epoch: 242, Loss: 0.3876, Val: 0.6595, Test: 0.6618\n"
     ]
    },
    {
     "name": "stderr",
     "output_type": "stream",
     "text": [
      "\n",
      "  2%|▏         | 242/10000 [06:36<6:04:17,  2.24s/it]\u001b[A\n",
      "\n",
      "  0%|          | 0/1 [00:00<?, ?it/s]\u001b[A\u001b[A\n",
      "\n",
      "100%|██████████| 1/1 [00:01<00:00,  1.32s/it]\u001b[A\u001b[A\n"
     ]
    },
    {
     "name": "stdout",
     "output_type": "stream",
     "text": [
      "\n",
      "Epoch: 243, Loss: 0.3877, Val: 0.6603, Test: 0.6616\n"
     ]
    },
    {
     "name": "stderr",
     "output_type": "stream",
     "text": [
      "\n",
      "  2%|▏         | 243/10000 [06:38<6:17:14,  2.32s/it]\u001b[A\n",
      "\n",
      "  0%|          | 0/1 [00:00<?, ?it/s]\u001b[A\u001b[A\n",
      "\n",
      "100%|██████████| 1/1 [00:00<00:00,  1.04it/s]\u001b[A\u001b[A\n",
      "\n",
      "  2%|▏         | 244/10000 [06:40<5:36:08,  2.07s/it]\u001b[A\n",
      "\n",
      "  0%|          | 0/1 [00:00<?, ?it/s]\u001b[A\u001b[A\n",
      "\n",
      "100%|██████████| 1/1 [00:00<00:00,  1.75it/s]\u001b[A\u001b[A\n",
      "\n",
      "  2%|▏         | 245/10000 [06:40<4:34:46,  1.69s/it]\u001b[A\n",
      "\n",
      "  0%|          | 0/1 [00:00<?, ?it/s]\u001b[A\u001b[A\n",
      "\n",
      "100%|██████████| 1/1 [00:00<00:00,  1.85it/s]\u001b[A\u001b[A\n",
      "\n",
      "  2%|▏         | 246/10000 [06:41<3:50:17,  1.42s/it]\u001b[A\n",
      "\n",
      "  0%|          | 0/1 [00:00<?, ?it/s]\u001b[A\u001b[A\n",
      "\n",
      "100%|██████████| 1/1 [00:00<00:00,  2.14it/s]\u001b[A\u001b[A\n"
     ]
    },
    {
     "name": "stdout",
     "output_type": "stream",
     "text": [
      "\n",
      "Epoch: 247, Loss: 0.3877, Val: 0.6608, Test: 0.6627\n"
     ]
    },
    {
     "name": "stderr",
     "output_type": "stream",
     "text": [
      "\n",
      "  2%|▏         | 247/10000 [06:42<3:41:43,  1.36s/it]\u001b[A\n",
      "\n",
      "  0%|          | 0/1 [00:00<?, ?it/s]\u001b[A\u001b[A\n",
      "\n",
      "100%|██████████| 1/1 [00:00<00:00,  1.31it/s]\u001b[A\u001b[A\n"
     ]
    },
    {
     "name": "stdout",
     "output_type": "stream",
     "text": [
      "\n",
      "Epoch: 248, Loss: 0.3882, Val: 0.6612, Test: 0.6627\n"
     ]
    },
    {
     "name": "stderr",
     "output_type": "stream",
     "text": [
      "\n",
      "  2%|▏         | 248/10000 [06:44<3:38:38,  1.35s/it]\u001b[A\n",
      "\n",
      "  0%|          | 0/1 [00:00<?, ?it/s]\u001b[A\u001b[A\n",
      "\n",
      "100%|██████████| 1/1 [00:00<00:00,  1.82it/s]\u001b[A\u001b[A\n",
      "\n",
      "  2%|▏         | 249/10000 [06:45<3:10:39,  1.17s/it]\u001b[A\n",
      "\n",
      "  0%|          | 0/1 [00:00<?, ?it/s]\u001b[A\u001b[A\n",
      "\n",
      "100%|██████████| 1/1 [00:00<00:00,  2.01it/s]\u001b[A\u001b[A\n"
     ]
    },
    {
     "name": "stdout",
     "output_type": "stream",
     "text": [
      "\n",
      "Epoch: 250, Loss: 0.3878, Val: 0.6616, Test: 0.6633\n"
     ]
    },
    {
     "name": "stderr",
     "output_type": "stream",
     "text": [
      "\n",
      "  2%|▎         | 250/10000 [06:46<3:09:41,  1.17s/it]\u001b[A\n",
      "\n",
      "  0%|          | 0/1 [00:00<?, ?it/s]\u001b[A\u001b[A\n",
      "\n",
      "100%|██████████| 1/1 [00:00<00:00,  1.51it/s]\u001b[A\u001b[A\n"
     ]
    },
    {
     "name": "stdout",
     "output_type": "stream",
     "text": [
      "\n",
      "Epoch: 251, Loss: 0.3879, Val: 0.6620, Test: 0.6635\n"
     ]
    },
    {
     "name": "stderr",
     "output_type": "stream",
     "text": [
      "\n",
      "  3%|▎         | 251/10000 [06:48<3:44:22,  1.38s/it]\u001b[A\n",
      "\n",
      "  0%|          | 0/1 [00:00<?, ?it/s]\u001b[A\u001b[A\n",
      "\n",
      "100%|██████████| 1/1 [00:01<00:00,  1.12s/it]\u001b[A\u001b[A\n"
     ]
    },
    {
     "name": "stdout",
     "output_type": "stream",
     "text": [
      "\n",
      "Epoch: 252, Loss: 0.3872, Val: 0.6622, Test: 0.6636\n"
     ]
    },
    {
     "name": "stderr",
     "output_type": "stream",
     "text": [
      "\n",
      "  3%|▎         | 252/10000 [06:50<4:25:58,  1.64s/it]\u001b[A\n",
      "\n",
      "  0%|          | 0/1 [00:00<?, ?it/s]\u001b[A\u001b[A\n",
      "\n",
      "100%|██████████| 1/1 [00:01<00:00,  1.16s/it]\u001b[A\u001b[A\n"
     ]
    },
    {
     "name": "stdout",
     "output_type": "stream",
     "text": [
      "\n",
      "Epoch: 253, Loss: 0.3872, Val: 0.6623, Test: 0.6641\n"
     ]
    },
    {
     "name": "stderr",
     "output_type": "stream",
     "text": [
      "\n",
      "  3%|▎         | 253/10000 [06:52<5:02:11,  1.86s/it]\u001b[A\n",
      "\n",
      "  0%|          | 0/1 [00:00<?, ?it/s]\u001b[A\u001b[A\n",
      "\n",
      "100%|██████████| 1/1 [00:01<00:00,  1.15s/it]\u001b[A\u001b[A\n"
     ]
    },
    {
     "name": "stdout",
     "output_type": "stream",
     "text": [
      "\n",
      "Epoch: 254, Loss: 0.3875, Val: 0.6624, Test: 0.6644\n"
     ]
    },
    {
     "name": "stderr",
     "output_type": "stream",
     "text": [
      "\n",
      "  3%|▎         | 254/10000 [06:55<5:27:01,  2.01s/it]\u001b[A\n",
      "\n",
      "  0%|          | 0/1 [00:00<?, ?it/s]\u001b[A\u001b[A\n",
      "\n",
      "100%|██████████| 1/1 [00:01<00:00,  1.21s/it]\u001b[A\u001b[A\n"
     ]
    },
    {
     "name": "stdout",
     "output_type": "stream",
     "text": [
      "\n",
      "Epoch: 255, Loss: 0.3873, Val: 0.6628, Test: 0.6638\n"
     ]
    },
    {
     "name": "stderr",
     "output_type": "stream",
     "text": [
      "\n",
      "  3%|▎         | 255/10000 [06:57<5:56:19,  2.19s/it]\u001b[A\n",
      "\n",
      "  0%|          | 0/1 [00:00<?, ?it/s]\u001b[A\u001b[A\n",
      "\n",
      "100%|██████████| 1/1 [00:01<00:00,  1.28s/it]\u001b[A\u001b[A\n"
     ]
    },
    {
     "name": "stdout",
     "output_type": "stream",
     "text": [
      "\n",
      "Epoch: 256, Loss: 0.3876, Val: 0.6631, Test: 0.6638\n"
     ]
    },
    {
     "name": "stderr",
     "output_type": "stream",
     "text": [
      "\n",
      "  3%|▎         | 256/10000 [07:00<6:05:52,  2.25s/it]\u001b[A\n",
      "\n",
      "  0%|          | 0/1 [00:00<?, ?it/s]\u001b[A\u001b[A\n",
      "\n",
      "100%|██████████| 1/1 [00:00<00:00,  1.72it/s]\u001b[A\u001b[A\n"
     ]
    },
    {
     "name": "stdout",
     "output_type": "stream",
     "text": [
      "\n",
      "Epoch: 257, Loss: 0.3865, Val: 0.6634, Test: 0.6643\n"
     ]
    },
    {
     "name": "stderr",
     "output_type": "stream",
     "text": [
      "\n",
      "  3%|▎         | 257/10000 [07:01<5:12:59,  1.93s/it]\u001b[A\n",
      "\n",
      "  0%|          | 0/1 [00:00<?, ?it/s]\u001b[A\u001b[A\n",
      "\n",
      "100%|██████████| 1/1 [00:00<00:00,  1.65it/s]\u001b[A\u001b[A\n"
     ]
    },
    {
     "name": "stdout",
     "output_type": "stream",
     "text": [
      "\n",
      "Epoch: 258, Loss: 0.3876, Val: 0.6640, Test: 0.6643\n"
     ]
    },
    {
     "name": "stderr",
     "output_type": "stream",
     "text": [
      "\n",
      "  3%|▎         | 258/10000 [07:02<4:53:27,  1.81s/it]\u001b[A\n",
      "\n",
      "  0%|          | 0/1 [00:00<?, ?it/s]\u001b[A\u001b[A\n",
      "\n",
      "100%|██████████| 1/1 [00:00<00:00,  1.05it/s]\u001b[A\u001b[A\n"
     ]
    },
    {
     "name": "stdout",
     "output_type": "stream",
     "text": [
      "\n",
      "Epoch: 259, Loss: 0.3877, Val: 0.6642, Test: 0.6648\n"
     ]
    },
    {
     "name": "stderr",
     "output_type": "stream",
     "text": [
      "\n",
      "  3%|▎         | 259/10000 [07:04<5:01:35,  1.86s/it]\u001b[A\n",
      "\n",
      "  0%|          | 0/1 [00:00<?, ?it/s]\u001b[A\u001b[A\n",
      "\n",
      "100%|██████████| 1/1 [00:00<00:00,  1.00it/s]\u001b[A\u001b[A\n"
     ]
    },
    {
     "name": "stdout",
     "output_type": "stream",
     "text": [
      "\n",
      "Epoch: 260, Loss: 0.3874, Val: 0.6647, Test: 0.6653\n"
     ]
    },
    {
     "name": "stderr",
     "output_type": "stream",
     "text": [
      "\n",
      "  3%|▎         | 260/10000 [07:06<5:10:55,  1.92s/it]\u001b[A\n",
      "\n",
      "  0%|          | 0/1 [00:00<?, ?it/s]\u001b[A\u001b[A\n",
      "\n",
      "100%|██████████| 1/1 [00:00<00:00,  1.05it/s]\u001b[A\u001b[A\n"
     ]
    },
    {
     "name": "stdout",
     "output_type": "stream",
     "text": [
      "\n",
      "Epoch: 261, Loss: 0.3869, Val: 0.6649, Test: 0.6661\n"
     ]
    },
    {
     "name": "stderr",
     "output_type": "stream",
     "text": [
      "\n",
      "  3%|▎         | 261/10000 [07:08<5:13:43,  1.93s/it]\u001b[A\n",
      "\n",
      "  0%|          | 0/1 [00:00<?, ?it/s]\u001b[A\u001b[A\n",
      "\n",
      "100%|██████████| 1/1 [00:00<00:00,  1.08it/s]\u001b[A\u001b[A\n"
     ]
    },
    {
     "name": "stdout",
     "output_type": "stream",
     "text": [
      "\n",
      "Epoch: 262, Loss: 0.3872, Val: 0.6650, Test: 0.6662\n"
     ]
    },
    {
     "name": "stderr",
     "output_type": "stream",
     "text": [
      "\n",
      "  3%|▎         | 262/10000 [07:10<5:14:07,  1.94s/it]\u001b[A\n",
      "\n",
      "  0%|          | 0/1 [00:00<?, ?it/s]\u001b[A\u001b[A\n",
      "\n",
      "100%|██████████| 1/1 [00:00<00:00,  1.07it/s]\u001b[A\u001b[A\n"
     ]
    },
    {
     "name": "stdout",
     "output_type": "stream",
     "text": [
      "\n",
      "Epoch: 263, Loss: 0.3869, Val: 0.6653, Test: 0.6659\n"
     ]
    },
    {
     "name": "stderr",
     "output_type": "stream",
     "text": [
      "\n",
      "  3%|▎         | 263/10000 [07:12<5:19:27,  1.97s/it]\u001b[A\n",
      "\n",
      "  0%|          | 0/1 [00:00<?, ?it/s]\u001b[A\u001b[A\n",
      "\n",
      "100%|██████████| 1/1 [00:00<00:00,  1.42it/s]\u001b[A\u001b[A\n",
      "\n",
      "  3%|▎         | 264/10000 [07:14<4:51:54,  1.80s/it]\u001b[A\n",
      "\n",
      "  0%|          | 0/1 [00:00<?, ?it/s]\u001b[A\u001b[A\n",
      "\n",
      "100%|██████████| 1/1 [00:01<00:00,  1.16s/it]\u001b[A\u001b[A\n"
     ]
    },
    {
     "name": "stdout",
     "output_type": "stream",
     "text": [
      "\n",
      "Epoch: 265, Loss: 0.3873, Val: 0.6656, Test: 0.6659\n"
     ]
    },
    {
     "name": "stderr",
     "output_type": "stream",
     "text": [
      "\n",
      "  3%|▎         | 265/10000 [07:16<5:16:20,  1.95s/it]\u001b[A\n",
      "\n",
      "  0%|          | 0/1 [00:00<?, ?it/s]\u001b[A\u001b[A\n",
      "\n",
      "100%|██████████| 1/1 [00:01<00:00,  1.03s/it]\u001b[A\u001b[A\n",
      "\n",
      "  3%|▎         | 266/10000 [07:17<4:49:36,  1.79s/it]\u001b[A\n",
      "\n",
      "  0%|          | 0/1 [00:00<?, ?it/s]\u001b[A\u001b[A\n",
      "\n",
      "100%|██████████| 1/1 [00:01<00:00,  1.01s/it]\u001b[A\u001b[A\n",
      "\n",
      "  3%|▎         | 267/10000 [07:19<4:33:48,  1.69s/it]\u001b[A\n",
      "\n",
      "  0%|          | 0/1 [00:00<?, ?it/s]\u001b[A\u001b[A\n",
      "\n",
      "100%|██████████| 1/1 [00:01<00:00,  1.07s/it]\u001b[A\u001b[A\n"
     ]
    },
    {
     "name": "stdout",
     "output_type": "stream",
     "text": [
      "\n",
      "Epoch: 268, Loss: 0.3876, Val: 0.6656, Test: 0.6657\n"
     ]
    },
    {
     "name": "stderr",
     "output_type": "stream",
     "text": [
      "\n",
      "  3%|▎         | 268/10000 [07:21<4:55:32,  1.82s/it]\u001b[A\n",
      "\n",
      "  0%|          | 0/1 [00:00<?, ?it/s]\u001b[A\u001b[A\n",
      "\n",
      "100%|██████████| 1/1 [00:01<00:00,  1.12s/it]\u001b[A\u001b[A\n"
     ]
    },
    {
     "name": "stdout",
     "output_type": "stream",
     "text": [
      "\n",
      "Epoch: 269, Loss: 0.3866, Val: 0.6656, Test: 0.6660\n"
     ]
    },
    {
     "name": "stderr",
     "output_type": "stream",
     "text": [
      "\n",
      "  3%|▎         | 269/10000 [07:23<4:48:36,  1.78s/it]\u001b[A\n",
      "\n",
      "  0%|          | 0/1 [00:00<?, ?it/s]\u001b[A\u001b[A\n",
      "\n",
      "100%|██████████| 1/1 [00:00<00:00,  1.92it/s]\u001b[A\u001b[A\n"
     ]
    },
    {
     "name": "stdout",
     "output_type": "stream",
     "text": [
      "\n",
      "Epoch: 270, Loss: 0.3869, Val: 0.6659, Test: 0.6657\n"
     ]
    },
    {
     "name": "stderr",
     "output_type": "stream",
     "text": [
      "\n",
      "  3%|▎         | 270/10000 [07:24<4:36:42,  1.71s/it]\u001b[A\n",
      "\n",
      "  0%|          | 0/1 [00:00<?, ?it/s]\u001b[A\u001b[A\n",
      "\n",
      "100%|██████████| 1/1 [00:01<00:00,  1.02s/it]\u001b[A\u001b[A\n"
     ]
    },
    {
     "name": "stdout",
     "output_type": "stream",
     "text": [
      "\n",
      "Epoch: 271, Loss: 0.3869, Val: 0.6661, Test: 0.6658\n"
     ]
    },
    {
     "name": "stderr",
     "output_type": "stream",
     "text": [
      "\n",
      "  3%|▎         | 271/10000 [07:26<4:53:37,  1.81s/it]\u001b[A\n",
      "\n",
      "  0%|          | 0/1 [00:00<?, ?it/s]\u001b[A\u001b[A\n",
      "\n",
      "100%|██████████| 1/1 [00:01<00:00,  1.06s/it]\u001b[A\u001b[A\n"
     ]
    },
    {
     "name": "stdout",
     "output_type": "stream",
     "text": [
      "\n",
      "Epoch: 272, Loss: 0.3868, Val: 0.6666, Test: 0.6660\n"
     ]
    },
    {
     "name": "stderr",
     "output_type": "stream",
     "text": [
      "\n",
      "  3%|▎         | 272/10000 [07:28<5:06:34,  1.89s/it]\u001b[A\n",
      "\n",
      "  0%|          | 0/1 [00:00<?, ?it/s]\u001b[A\u001b[A\n",
      "\n",
      "100%|██████████| 1/1 [00:01<00:00,  1.08s/it]\u001b[A\u001b[A\n"
     ]
    },
    {
     "name": "stdout",
     "output_type": "stream",
     "text": [
      "\n",
      "Epoch: 273, Loss: 0.3868, Val: 0.6671, Test: 0.6663\n"
     ]
    },
    {
     "name": "stderr",
     "output_type": "stream",
     "text": [
      "\n",
      "  3%|▎         | 273/10000 [07:30<5:19:42,  1.97s/it]\u001b[A\n",
      "\n",
      "  0%|          | 0/1 [00:00<?, ?it/s]\u001b[A\u001b[A\n",
      "\n",
      "100%|██████████| 1/1 [00:01<00:00,  1.06s/it]\u001b[A\u001b[A\n"
     ]
    },
    {
     "name": "stdout",
     "output_type": "stream",
     "text": [
      "\n",
      "Epoch: 274, Loss: 0.3864, Val: 0.6672, Test: 0.6667\n"
     ]
    },
    {
     "name": "stderr",
     "output_type": "stream",
     "text": [
      "\n",
      "  3%|▎         | 274/10000 [07:33<5:26:33,  2.01s/it]\u001b[A\n",
      "\n",
      "  0%|          | 0/1 [00:00<?, ?it/s]\u001b[A\u001b[A\n",
      "\n",
      "100%|██████████| 1/1 [00:01<00:00,  1.26s/it]\u001b[A\u001b[A\n"
     ]
    },
    {
     "name": "stdout",
     "output_type": "stream",
     "text": [
      "\n",
      "Epoch: 275, Loss: 0.3864, Val: 0.6678, Test: 0.6671\n"
     ]
    },
    {
     "name": "stderr",
     "output_type": "stream",
     "text": [
      "\n",
      "  3%|▎         | 275/10000 [07:35<5:42:23,  2.11s/it]\u001b[A\n",
      "\n",
      "  0%|          | 0/1 [00:00<?, ?it/s]\u001b[A\u001b[A\n",
      "\n",
      "100%|██████████| 1/1 [00:00<00:00,  1.55it/s]\u001b[A\u001b[A\n",
      "\n",
      "  3%|▎         | 276/10000 [07:36<4:42:42,  1.74s/it]\u001b[A\n",
      "\n",
      "  0%|          | 0/1 [00:00<?, ?it/s]\u001b[A\u001b[A\n",
      "\n",
      "100%|██████████| 1/1 [00:00<00:00,  1.98it/s]\u001b[A\u001b[A\n"
     ]
    },
    {
     "name": "stdout",
     "output_type": "stream",
     "text": [
      "\n",
      "Epoch: 277, Loss: 0.3864, Val: 0.6679, Test: 0.6676\n"
     ]
    },
    {
     "name": "stderr",
     "output_type": "stream",
     "text": [
      "\n",
      "  3%|▎         | 277/10000 [07:37<4:08:04,  1.53s/it]\u001b[A\n",
      "\n",
      "  0%|          | 0/1 [00:00<?, ?it/s]\u001b[A\u001b[A\n",
      "\n",
      "100%|██████████| 1/1 [00:00<00:00,  1.88it/s]\u001b[A\u001b[A\n"
     ]
    },
    {
     "name": "stdout",
     "output_type": "stream",
     "text": [
      "\n",
      "Epoch: 278, Loss: 0.3859, Val: 0.6685, Test: 0.6677\n"
     ]
    },
    {
     "name": "stderr",
     "output_type": "stream",
     "text": [
      "\n",
      "  3%|▎         | 278/10000 [07:38<4:01:02,  1.49s/it]\u001b[A\n",
      "\n",
      "  0%|          | 0/1 [00:00<?, ?it/s]\u001b[A\u001b[A\n",
      "\n",
      "100%|██████████| 1/1 [00:00<00:00,  1.90it/s]\u001b[A\u001b[A\n"
     ]
    },
    {
     "name": "stdout",
     "output_type": "stream",
     "text": [
      "\n",
      "Epoch: 279, Loss: 0.3866, Val: 0.6688, Test: 0.6679\n"
     ]
    },
    {
     "name": "stderr",
     "output_type": "stream",
     "text": [
      "\n",
      "  3%|▎         | 279/10000 [07:39<3:40:22,  1.36s/it]\u001b[A\n",
      "\n",
      "  0%|          | 0/1 [00:00<?, ?it/s]\u001b[A\u001b[A\n",
      "\n",
      "100%|██████████| 1/1 [00:00<00:00,  2.00it/s]\u001b[A\u001b[A\n"
     ]
    },
    {
     "name": "stdout",
     "output_type": "stream",
     "text": [
      "\n",
      "Epoch: 280, Loss: 0.3864, Val: 0.6689, Test: 0.6679\n"
     ]
    },
    {
     "name": "stderr",
     "output_type": "stream",
     "text": [
      "\n",
      "  3%|▎         | 280/10000 [07:40<3:22:57,  1.25s/it]\u001b[A\n",
      "\n",
      "  0%|          | 0/1 [00:00<?, ?it/s]\u001b[A\u001b[A\n",
      "\n",
      "100%|██████████| 1/1 [00:00<00:00,  1.67it/s]\u001b[A\u001b[A\n",
      "\n",
      "  3%|▎         | 281/10000 [07:41<3:12:15,  1.19s/it]\u001b[A\n",
      "\n",
      "  0%|          | 0/1 [00:00<?, ?it/s]\u001b[A\u001b[A\n",
      "\n",
      "100%|██████████| 1/1 [00:01<00:00,  1.13s/it]\u001b[A\u001b[A\n",
      "\n",
      "  3%|▎         | 282/10000 [07:43<3:32:36,  1.31s/it]\u001b[A\n",
      "\n",
      "  0%|          | 0/1 [00:00<?, ?it/s]\u001b[A\u001b[A\n",
      "\n",
      "100%|██████████| 1/1 [00:01<00:00,  1.06s/it]\u001b[A\u001b[A\n",
      "\n",
      "  3%|▎         | 283/10000 [07:44<3:46:48,  1.40s/it]\u001b[A\n",
      "\n",
      "  0%|          | 0/1 [00:00<?, ?it/s]\u001b[A\u001b[A\n",
      "\n",
      "100%|██████████| 1/1 [00:01<00:00,  1.19s/it]\u001b[A\u001b[A\n",
      "\n",
      "  3%|▎         | 284/10000 [07:46<4:01:51,  1.49s/it]\u001b[A\n",
      "\n",
      "  0%|          | 0/1 [00:00<?, ?it/s]\u001b[A\u001b[A\n",
      "\n",
      "100%|██████████| 1/1 [00:01<00:00,  1.11s/it]\u001b[A\u001b[A\n",
      "\n",
      "  3%|▎         | 285/10000 [07:48<4:07:34,  1.53s/it]\u001b[A\n",
      "\n",
      "  0%|          | 0/1 [00:00<?, ?it/s]\u001b[A\u001b[A\n",
      "\n",
      "100%|██████████| 1/1 [00:01<00:00,  1.22s/it]\u001b[A\u001b[A\n",
      "\n",
      "  3%|▎         | 286/10000 [07:50<4:16:56,  1.59s/it]\u001b[A\n",
      "\n",
      "  0%|          | 0/1 [00:00<?, ?it/s]\u001b[A\u001b[A\n",
      "\n",
      "100%|██████████| 1/1 [00:00<00:00,  1.03it/s]\u001b[A\u001b[A\n"
     ]
    },
    {
     "name": "stdout",
     "output_type": "stream",
     "text": [
      "\n",
      "Epoch: 287, Loss: 0.3861, Val: 0.6691, Test: 0.6699\n"
     ]
    },
    {
     "name": "stderr",
     "output_type": "stream",
     "text": [
      "\n",
      "  3%|▎         | 287/10000 [07:51<4:15:44,  1.58s/it]\u001b[A\n",
      "\n",
      "  0%|          | 0/1 [00:00<?, ?it/s]\u001b[A\u001b[A\n",
      "\n",
      "100%|██████████| 1/1 [00:00<00:00,  1.64it/s]\u001b[A\u001b[A\n"
     ]
    },
    {
     "name": "stdout",
     "output_type": "stream",
     "text": [
      "\n",
      "Epoch: 288, Loss: 0.3856, Val: 0.6692, Test: 0.6702\n"
     ]
    },
    {
     "name": "stderr",
     "output_type": "stream",
     "text": [
      "\n",
      "  3%|▎         | 288/10000 [07:53<4:15:55,  1.58s/it]\u001b[A\n",
      "\n",
      "  0%|          | 0/1 [00:00<?, ?it/s]\u001b[A\u001b[A\n",
      "\n",
      "100%|██████████| 1/1 [00:01<00:00,  1.00s/it]\u001b[A\u001b[A\n"
     ]
    },
    {
     "name": "stdout",
     "output_type": "stream",
     "text": [
      "\n",
      "Epoch: 289, Loss: 0.3858, Val: 0.6696, Test: 0.6699\n"
     ]
    },
    {
     "name": "stderr",
     "output_type": "stream",
     "text": [
      "\n",
      "  3%|▎         | 289/10000 [07:55<4:37:05,  1.71s/it]\u001b[A\n",
      "\n",
      "  0%|          | 0/1 [00:00<?, ?it/s]\u001b[A\u001b[A\n",
      "\n",
      "100%|██████████| 1/1 [00:00<00:00,  1.00it/s]\u001b[A\u001b[A\n"
     ]
    },
    {
     "name": "stdout",
     "output_type": "stream",
     "text": [
      "\n",
      "Epoch: 290, Loss: 0.3851, Val: 0.6702, Test: 0.6700\n"
     ]
    },
    {
     "name": "stderr",
     "output_type": "stream",
     "text": [
      "\n",
      "  3%|▎         | 290/10000 [07:57<4:51:40,  1.80s/it]\u001b[A\n",
      "\n",
      "  0%|          | 0/1 [00:00<?, ?it/s]\u001b[A\u001b[A\n",
      "\n",
      "100%|██████████| 1/1 [00:01<00:00,  1.04s/it]\u001b[A\u001b[A\n"
     ]
    },
    {
     "name": "stdout",
     "output_type": "stream",
     "text": [
      "\n",
      "Epoch: 291, Loss: 0.3852, Val: 0.6705, Test: 0.6702\n"
     ]
    },
    {
     "name": "stderr",
     "output_type": "stream",
     "text": [
      "\n",
      "  3%|▎         | 291/10000 [07:59<5:08:41,  1.91s/it]\u001b[A\n",
      "\n",
      "  0%|          | 0/1 [00:00<?, ?it/s]\u001b[A\u001b[A\n",
      "\n",
      "100%|██████████| 1/1 [00:01<00:00,  1.12s/it]\u001b[A\u001b[A\n"
     ]
    },
    {
     "name": "stdout",
     "output_type": "stream",
     "text": [
      "\n",
      "Epoch: 292, Loss: 0.3856, Val: 0.6705, Test: 0.6706\n"
     ]
    },
    {
     "name": "stderr",
     "output_type": "stream",
     "text": [
      "\n",
      "  3%|▎         | 292/10000 [08:01<5:21:43,  1.99s/it]\u001b[A\n",
      "\n",
      "  0%|          | 0/1 [00:00<?, ?it/s]\u001b[A\u001b[A\n",
      "\n",
      "100%|██████████| 1/1 [00:01<00:00,  1.14s/it]\u001b[A\u001b[A\n"
     ]
    },
    {
     "name": "stdout",
     "output_type": "stream",
     "text": [
      "\n",
      "Epoch: 293, Loss: 0.3857, Val: 0.6711, Test: 0.6710\n"
     ]
    },
    {
     "name": "stderr",
     "output_type": "stream",
     "text": [
      "\n",
      "  3%|▎         | 293/10000 [08:03<5:18:25,  1.97s/it]\u001b[A\n",
      "\n",
      "  0%|          | 0/1 [00:00<?, ?it/s]\u001b[A\u001b[A\n",
      "\n",
      "100%|██████████| 1/1 [00:01<00:00,  1.11s/it]\u001b[A\u001b[A\n",
      "\n",
      "  3%|▎         | 294/10000 [08:05<5:02:04,  1.87s/it]\u001b[A\n",
      "\n",
      "  0%|          | 0/1 [00:00<?, ?it/s]\u001b[A\u001b[A\n",
      "\n",
      "100%|██████████| 1/1 [00:01<00:00,  1.13s/it]\u001b[A\u001b[A\n",
      "\n",
      "  3%|▎         | 295/10000 [08:06<4:47:38,  1.78s/it]\u001b[A\n",
      "\n",
      "  0%|          | 0/1 [00:00<?, ?it/s]\u001b[A\u001b[A\n",
      "\n",
      "100%|██████████| 1/1 [00:01<00:00,  1.07s/it]\u001b[A\u001b[A\n",
      "\n",
      "  3%|▎         | 296/10000 [08:08<4:36:07,  1.71s/it]\u001b[A\n",
      "\n",
      "  0%|          | 0/1 [00:00<?, ?it/s]\u001b[A\u001b[A\n",
      "\n",
      "100%|██████████| 1/1 [00:01<00:00,  1.03s/it]\u001b[A\u001b[A\n"
     ]
    },
    {
     "name": "stdout",
     "output_type": "stream",
     "text": [
      "\n",
      "Epoch: 297, Loss: 0.3853, Val: 0.6718, Test: 0.6714\n"
     ]
    },
    {
     "name": "stderr",
     "output_type": "stream",
     "text": [
      "\n",
      "  3%|▎         | 297/10000 [08:10<4:54:20,  1.82s/it]\u001b[A\n",
      "\n",
      "  0%|          | 0/1 [00:00<?, ?it/s]\u001b[A\u001b[A\n",
      "\n",
      "100%|██████████| 1/1 [00:01<00:00,  1.05s/it]\u001b[A\u001b[A\n",
      "\n",
      "  3%|▎         | 298/10000 [08:11<4:38:06,  1.72s/it]\u001b[A\n",
      "\n",
      "  0%|          | 0/1 [00:00<?, ?it/s]\u001b[A\u001b[A\n",
      "\n",
      "100%|██████████| 1/1 [00:00<00:00,  1.94it/s]\u001b[A\u001b[A\n",
      "\n",
      "  3%|▎         | 299/10000 [08:12<3:51:01,  1.43s/it]\u001b[A\n",
      "\n",
      "  0%|          | 0/1 [00:00<?, ?it/s]\u001b[A\u001b[A\n",
      "\n",
      "100%|██████████| 1/1 [00:00<00:00,  1.31it/s]\u001b[A\u001b[A\n",
      "\n",
      "  3%|▎         | 300/10000 [08:13<3:37:48,  1.35s/it]\u001b[A\n",
      "\n",
      "  0%|          | 0/1 [00:00<?, ?it/s]\u001b[A\u001b[A\n",
      "\n",
      "100%|██████████| 1/1 [00:00<00:00,  1.05it/s]\u001b[A\u001b[A\n",
      "\n",
      "  3%|▎         | 301/10000 [08:15<3:42:22,  1.38s/it]\u001b[A\n",
      "\n",
      "  0%|          | 0/1 [00:00<?, ?it/s]\u001b[A\u001b[A\n",
      "\n",
      "100%|██████████| 1/1 [00:00<00:00,  1.01it/s]\u001b[A\u001b[A\n",
      "\n",
      "  3%|▎         | 302/10000 [08:16<3:46:08,  1.40s/it]\u001b[A\n",
      "\n",
      "  0%|          | 0/1 [00:00<?, ?it/s]\u001b[A\u001b[A\n",
      "\n",
      "100%|██████████| 1/1 [00:00<00:00,  1.05it/s]\u001b[A\u001b[A\n"
     ]
    },
    {
     "name": "stdout",
     "output_type": "stream",
     "text": [
      "\n",
      "Epoch: 303, Loss: 0.3845, Val: 0.6719, Test: 0.6716\n"
     ]
    },
    {
     "name": "stderr",
     "output_type": "stream",
     "text": [
      "\n",
      "  3%|▎         | 303/10000 [08:18<4:13:31,  1.57s/it]\u001b[A\n",
      "\n",
      "  0%|          | 0/1 [00:00<?, ?it/s]\u001b[A\u001b[A\n",
      "\n",
      "100%|██████████| 1/1 [00:00<00:00,  1.07it/s]\u001b[A\u001b[A\n"
     ]
    },
    {
     "name": "stdout",
     "output_type": "stream",
     "text": [
      "\n",
      "Epoch: 304, Loss: 0.3849, Val: 0.6723, Test: 0.6719\n"
     ]
    },
    {
     "name": "stderr",
     "output_type": "stream",
     "text": [
      "\n",
      "  3%|▎         | 304/10000 [08:20<4:30:55,  1.68s/it]\u001b[A\n",
      "\n",
      "  0%|          | 0/1 [00:00<?, ?it/s]\u001b[A\u001b[A\n",
      "\n",
      "100%|██████████| 1/1 [00:01<00:00,  1.02s/it]\u001b[A\u001b[A\n"
     ]
    },
    {
     "name": "stdout",
     "output_type": "stream",
     "text": [
      "\n",
      "Epoch: 305, Loss: 0.3851, Val: 0.6727, Test: 0.6718\n"
     ]
    },
    {
     "name": "stderr",
     "output_type": "stream",
     "text": [
      "\n",
      "  3%|▎         | 305/10000 [08:22<4:51:08,  1.80s/it]\u001b[A\n",
      "\n",
      "  0%|          | 0/1 [00:00<?, ?it/s]\u001b[A\u001b[A\n",
      "\n",
      "100%|██████████| 1/1 [00:00<00:00,  1.11it/s]\u001b[A\u001b[A\n"
     ]
    },
    {
     "name": "stdout",
     "output_type": "stream",
     "text": [
      "\n",
      "Epoch: 306, Loss: 0.3849, Val: 0.6727, Test: 0.6717\n"
     ]
    },
    {
     "name": "stderr",
     "output_type": "stream",
     "text": [
      "\n",
      "  3%|▎         | 306/10000 [08:24<4:42:15,  1.75s/it]\u001b[A\n",
      "\n",
      "  0%|          | 0/1 [00:00<?, ?it/s]\u001b[A\u001b[A\n",
      "\n",
      "100%|██████████| 1/1 [00:00<00:00,  1.75it/s]\u001b[A\u001b[A\n",
      "\n",
      "  3%|▎         | 307/10000 [08:25<3:59:06,  1.48s/it]\u001b[A\n",
      "\n",
      "  0%|          | 0/1 [00:00<?, ?it/s]\u001b[A\u001b[A\n",
      "\n",
      "100%|██████████| 1/1 [00:00<00:00,  1.72it/s]\u001b[A\u001b[A\n",
      "\n",
      "  3%|▎         | 308/10000 [08:25<3:26:55,  1.28s/it]\u001b[A\n",
      "\n",
      "  0%|          | 0/1 [00:00<?, ?it/s]\u001b[A\u001b[A\n",
      "\n",
      "100%|██████████| 1/1 [00:00<00:00,  1.08it/s]\u001b[A\u001b[A\n",
      "\n",
      "  3%|▎         | 309/10000 [08:27<3:21:43,  1.25s/it]\u001b[A\n",
      "\n",
      "  0%|          | 0/1 [00:00<?, ?it/s]\u001b[A\u001b[A\n",
      "\n",
      "100%|██████████| 1/1 [00:00<00:00,  2.09it/s]\u001b[A\u001b[A\n",
      "\n",
      "  3%|▎         | 310/10000 [08:27<2:55:28,  1.09s/it]\u001b[A\n",
      "\n",
      "  0%|          | 0/1 [00:00<?, ?it/s]\u001b[A\u001b[A\n",
      "\n",
      "100%|██████████| 1/1 [00:00<00:00,  1.71it/s]\u001b[A\u001b[A\n"
     ]
    },
    {
     "name": "stdout",
     "output_type": "stream",
     "text": [
      "\n",
      "Epoch: 311, Loss: 0.3844, Val: 0.6728, Test: 0.6723\n"
     ]
    },
    {
     "name": "stderr",
     "output_type": "stream",
     "text": [
      "\n",
      "  3%|▎         | 311/10000 [08:28<2:59:18,  1.11s/it]\u001b[A\n",
      "\n",
      "  0%|          | 0/1 [00:00<?, ?it/s]\u001b[A\u001b[A\n",
      "\n",
      "100%|██████████| 1/1 [00:00<00:00,  1.54it/s]\u001b[A\u001b[A\n",
      "\n",
      "  3%|▎         | 312/10000 [08:29<2:51:38,  1.06s/it]\u001b[A\n",
      "\n",
      "  0%|          | 0/1 [00:00<?, ?it/s]\u001b[A\u001b[A\n",
      "\n",
      "100%|██████████| 1/1 [00:01<00:00,  1.21s/it]\u001b[A\u001b[A\n",
      "\n",
      "  3%|▎         | 313/10000 [08:31<3:19:29,  1.24s/it]\u001b[A\n",
      "\n",
      "  0%|          | 0/1 [00:00<?, ?it/s]\u001b[A\u001b[A\n",
      "\n",
      "100%|██████████| 1/1 [00:01<00:00,  1.05s/it]\u001b[A\u001b[A\n",
      "\n",
      "  3%|▎         | 314/10000 [08:33<3:32:58,  1.32s/it]\u001b[A\n",
      "\n",
      "  0%|          | 0/1 [00:00<?, ?it/s]\u001b[A\u001b[A\n",
      "\n",
      "100%|██████████| 1/1 [00:01<00:00,  1.14s/it]\u001b[A\u001b[A\n",
      "\n",
      "  3%|▎         | 315/10000 [08:34<3:47:46,  1.41s/it]\u001b[A\n",
      "\n",
      "  0%|          | 0/1 [00:00<?, ?it/s]\u001b[A\u001b[A\n",
      "\n",
      "100%|██████████| 1/1 [00:01<00:00,  1.17s/it]\u001b[A\u001b[A\n"
     ]
    },
    {
     "name": "stdout",
     "output_type": "stream",
     "text": [
      "\n",
      "Epoch: 316, Loss: 0.3838, Val: 0.6735, Test: 0.6734\n"
     ]
    },
    {
     "name": "stderr",
     "output_type": "stream",
     "text": [
      "\n",
      "  3%|▎         | 316/10000 [08:36<4:31:52,  1.68s/it]\u001b[A\n",
      "\n",
      "  0%|          | 0/1 [00:00<?, ?it/s]\u001b[A\u001b[A\n",
      "\n",
      "100%|██████████| 1/1 [00:01<00:00,  1.11s/it]\u001b[A\u001b[A\n"
     ]
    },
    {
     "name": "stdout",
     "output_type": "stream",
     "text": [
      "\n",
      "Epoch: 317, Loss: 0.3837, Val: 0.6735, Test: 0.6739\n"
     ]
    },
    {
     "name": "stderr",
     "output_type": "stream",
     "text": [
      "\n",
      "  3%|▎         | 317/10000 [08:39<5:06:30,  1.90s/it]\u001b[A\n",
      "\n",
      "  0%|          | 0/1 [00:00<?, ?it/s]\u001b[A\u001b[A\n",
      "\n",
      "100%|██████████| 1/1 [00:00<00:00,  1.78it/s]\u001b[A\u001b[A\n"
     ]
    },
    {
     "name": "stdout",
     "output_type": "stream",
     "text": [
      "\n",
      "Epoch: 318, Loss: 0.3841, Val: 0.6739, Test: 0.6731\n"
     ]
    },
    {
     "name": "stderr",
     "output_type": "stream",
     "text": [
      "\n",
      "  3%|▎         | 318/10000 [08:40<4:26:54,  1.65s/it]\u001b[A\n",
      "\n",
      "  0%|          | 0/1 [00:00<?, ?it/s]\u001b[A\u001b[A\n",
      "\n",
      "100%|██████████| 1/1 [00:00<00:00,  1.21it/s]\u001b[A\u001b[A\n",
      "\n",
      "  3%|▎         | 319/10000 [08:41<4:07:26,  1.53s/it]\u001b[A\n",
      "\n",
      "  0%|          | 0/1 [00:00<?, ?it/s]\u001b[A\u001b[A\n",
      "\n",
      "100%|██████████| 1/1 [00:00<00:00,  1.03it/s]\u001b[A\u001b[A\n",
      "\n",
      "  3%|▎         | 320/10000 [08:43<3:59:39,  1.49s/it]\u001b[A\n",
      "\n",
      "  0%|          | 0/1 [00:00<?, ?it/s]\u001b[A\u001b[A\n",
      "\n",
      "100%|██████████| 1/1 [00:00<00:00,  1.05it/s]\u001b[A\u001b[A\n",
      "\n",
      "  3%|▎         | 321/10000 [08:44<3:55:25,  1.46s/it]\u001b[A\n",
      "\n",
      "  0%|          | 0/1 [00:00<?, ?it/s]\u001b[A\u001b[A\n",
      "\n",
      "100%|██████████| 1/1 [00:01<00:00,  1.00s/it]\u001b[A\u001b[A\n"
     ]
    },
    {
     "name": "stdout",
     "output_type": "stream",
     "text": [
      "\n",
      "Epoch: 322, Loss: 0.3839, Val: 0.6742, Test: 0.6745\n"
     ]
    },
    {
     "name": "stderr",
     "output_type": "stream",
     "text": [
      "\n",
      "  3%|▎         | 322/10000 [08:46<4:16:03,  1.59s/it]\u001b[A\n",
      "\n",
      "  0%|          | 0/1 [00:00<?, ?it/s]\u001b[A\u001b[A\n",
      "\n",
      "100%|██████████| 1/1 [00:00<00:00,  1.03it/s]\u001b[A\u001b[A\n",
      "\n",
      "  3%|▎         | 323/10000 [08:47<4:08:02,  1.54s/it]\u001b[A\n",
      "\n",
      "  0%|          | 0/1 [00:00<?, ?it/s]\u001b[A\u001b[A\n",
      "\n",
      "100%|██████████| 1/1 [00:00<00:00,  1.00it/s]\u001b[A\u001b[A\n",
      "\n",
      "  3%|▎         | 324/10000 [08:49<4:01:55,  1.50s/it]\u001b[A\n",
      "\n",
      "  0%|          | 0/1 [00:00<?, ?it/s]\u001b[A\u001b[A\n",
      "\n",
      "100%|██████████| 1/1 [00:00<00:00,  1.04it/s]\u001b[A\u001b[A\n",
      "\n",
      "  3%|▎         | 325/10000 [08:50<4:05:12,  1.52s/it]\u001b[A\n",
      "\n",
      "  0%|          | 0/1 [00:00<?, ?it/s]\u001b[A\u001b[A\n",
      "\n",
      "100%|██████████| 1/1 [00:00<00:00,  1.15it/s]\u001b[A\u001b[A\n"
     ]
    },
    {
     "name": "stdout",
     "output_type": "stream",
     "text": [
      "\n",
      "Epoch: 326, Loss: 0.3829, Val: 0.6742, Test: 0.6751\n"
     ]
    },
    {
     "name": "stderr",
     "output_type": "stream",
     "text": [
      "\n",
      "  3%|▎         | 326/10000 [08:52<4:10:22,  1.55s/it]\u001b[A\n",
      "\n",
      "  0%|          | 0/1 [00:00<?, ?it/s]\u001b[A\u001b[A\n",
      "\n",
      "100%|██████████| 1/1 [00:01<00:00,  1.05s/it]\u001b[A\u001b[A\n",
      "\n",
      "  3%|▎         | 327/10000 [08:53<4:06:10,  1.53s/it]\u001b[A\n",
      "\n",
      "  0%|          | 0/1 [00:00<?, ?it/s]\u001b[A\u001b[A\n",
      "\n",
      "100%|██████████| 1/1 [00:00<00:00,  1.07it/s]\u001b[A\u001b[A\n",
      "\n",
      "  3%|▎         | 328/10000 [08:55<3:57:01,  1.47s/it]\u001b[A\n",
      "\n",
      "  0%|          | 0/1 [00:00<?, ?it/s]\u001b[A\u001b[A\n",
      "\n",
      "100%|██████████| 1/1 [00:00<00:00,  1.03it/s]\u001b[A\u001b[A\n"
     ]
    },
    {
     "name": "stdout",
     "output_type": "stream",
     "text": [
      "\n",
      "Epoch: 329, Loss: 0.3836, Val: 0.6747, Test: 0.6754\n"
     ]
    },
    {
     "name": "stderr",
     "output_type": "stream",
     "text": [
      "\n",
      "  3%|▎         | 329/10000 [08:57<4:21:15,  1.62s/it]\u001b[A\n",
      "\n",
      "  0%|          | 0/1 [00:00<?, ?it/s]\u001b[A\u001b[A\n",
      "\n",
      "100%|██████████| 1/1 [00:00<00:00,  1.07it/s]\u001b[A\u001b[A\n"
     ]
    },
    {
     "name": "stdout",
     "output_type": "stream",
     "text": [
      "\n",
      "Epoch: 330, Loss: 0.3826, Val: 0.6748, Test: 0.6755\n"
     ]
    },
    {
     "name": "stderr",
     "output_type": "stream",
     "text": [
      "\n",
      "  3%|▎         | 330/10000 [08:59<4:37:27,  1.72s/it]\u001b[A\n",
      "\n",
      "  0%|          | 0/1 [00:00<?, ?it/s]\u001b[A\u001b[A\n",
      "\n",
      "100%|██████████| 1/1 [00:00<00:00,  2.03it/s]\u001b[A\u001b[A\n"
     ]
    },
    {
     "name": "stdout",
     "output_type": "stream",
     "text": [
      "\n",
      "Epoch: 331, Loss: 0.3827, Val: 0.6752, Test: 0.6752\n"
     ]
    },
    {
     "name": "stderr",
     "output_type": "stream",
     "text": [
      "\n",
      "  3%|▎         | 331/10000 [09:00<4:03:13,  1.51s/it]\u001b[A\n",
      "\n",
      "  0%|          | 0/1 [00:00<?, ?it/s]\u001b[A\u001b[A\n",
      "\n",
      "100%|██████████| 1/1 [00:00<00:00,  2.20it/s]\u001b[A\u001b[A\n"
     ]
    },
    {
     "name": "stdout",
     "output_type": "stream",
     "text": [
      "\n",
      "Epoch: 332, Loss: 0.3826, Val: 0.6756, Test: 0.6760\n"
     ]
    },
    {
     "name": "stderr",
     "output_type": "stream",
     "text": [
      "\n",
      "  3%|▎         | 332/10000 [09:01<4:00:14,  1.49s/it]\u001b[A\n",
      "\n",
      "  0%|          | 0/1 [00:00<?, ?it/s]\u001b[A\u001b[A\n",
      "\n",
      "100%|██████████| 1/1 [00:00<00:00,  1.11it/s]\u001b[A\u001b[A\n",
      "\n",
      "  3%|▎         | 333/10000 [09:02<3:53:04,  1.45s/it]\u001b[A\n",
      "\n",
      "  0%|          | 0/1 [00:00<?, ?it/s]\u001b[A\u001b[A\n",
      "\n",
      "100%|██████████| 1/1 [00:00<00:00,  1.11it/s]\u001b[A\u001b[A\n",
      "\n",
      "  3%|▎         | 334/10000 [09:04<3:45:23,  1.40s/it]\u001b[A\n",
      "\n",
      "  0%|          | 0/1 [00:00<?, ?it/s]\u001b[A\u001b[A\n",
      "\n",
      "100%|██████████| 1/1 [00:00<00:00,  1.14it/s]\u001b[A\u001b[A\n",
      "\n",
      "  3%|▎         | 335/10000 [09:05<3:40:31,  1.37s/it]\u001b[A\n",
      "\n",
      "  0%|          | 0/1 [00:00<?, ?it/s]\u001b[A\u001b[A\n",
      "\n",
      "100%|██████████| 1/1 [00:00<00:00,  1.10it/s]\u001b[A\u001b[A\n",
      "\n",
      "  3%|▎         | 336/10000 [09:06<3:39:53,  1.37s/it]\u001b[A\n",
      "\n",
      "  0%|          | 0/1 [00:00<?, ?it/s]\u001b[A\u001b[A\n",
      "\n",
      "100%|██████████| 1/1 [00:00<00:00,  1.02it/s]\u001b[A\u001b[A\n",
      "\n",
      "  3%|▎         | 337/10000 [09:08<3:41:54,  1.38s/it]\u001b[A\n",
      "\n",
      "  0%|          | 0/1 [00:00<?, ?it/s]\u001b[A\u001b[A\n",
      "\n",
      "100%|██████████| 1/1 [00:00<00:00,  1.03it/s]\u001b[A\u001b[A\n",
      "\n",
      "  3%|▎         | 338/10000 [09:09<3:43:17,  1.39s/it]\u001b[A\n",
      "\n",
      "  0%|          | 0/1 [00:00<?, ?it/s]\u001b[A\u001b[A\n",
      "\n",
      "100%|██████████| 1/1 [00:00<00:00,  1.13it/s]\u001b[A\u001b[A\n",
      "\n",
      "  3%|▎         | 339/10000 [09:10<3:38:32,  1.36s/it]\u001b[A\n",
      "\n",
      "  0%|          | 0/1 [00:00<?, ?it/s]\u001b[A\u001b[A\n",
      "\n",
      "100%|██████████| 1/1 [00:00<00:00,  2.07it/s]\u001b[A\u001b[A\n",
      "\n",
      "  3%|▎         | 340/10000 [09:11<3:06:53,  1.16s/it]\u001b[A\n",
      "\n",
      "  0%|          | 0/1 [00:00<?, ?it/s]\u001b[A\u001b[A\n",
      "\n",
      "100%|██████████| 1/1 [00:00<00:00,  2.05it/s]\u001b[A\u001b[A\n",
      "\n",
      "  3%|▎         | 341/10000 [09:12<2:45:05,  1.03s/it]\u001b[A\n",
      "\n",
      "  0%|          | 0/1 [00:00<?, ?it/s]\u001b[A\u001b[A\n",
      "\n",
      "100%|██████████| 1/1 [00:00<00:00,  2.21it/s]\u001b[A\u001b[A\n",
      "\n",
      "  3%|▎         | 342/10000 [09:13<2:30:19,  1.07it/s]\u001b[A\n",
      "\n",
      "  0%|          | 0/1 [00:00<?, ?it/s]\u001b[A\u001b[A\n",
      "\n",
      "100%|██████████| 1/1 [00:00<00:00,  1.18it/s]\u001b[A\u001b[A\n",
      "\n",
      "  3%|▎         | 343/10000 [09:14<2:38:23,  1.02it/s]\u001b[A\n",
      "\n",
      "  0%|          | 0/1 [00:00<?, ?it/s]\u001b[A\u001b[A\n",
      "\n",
      "100%|██████████| 1/1 [00:00<00:00,  2.21it/s]\u001b[A\u001b[A\n",
      "\n",
      "  3%|▎         | 344/10000 [09:14<2:23:57,  1.12it/s]\u001b[A\n",
      "\n",
      "  0%|          | 0/1 [00:00<?, ?it/s]\u001b[A\u001b[A\n",
      "\n",
      "100%|██████████| 1/1 [00:00<00:00,  2.18it/s]\u001b[A\u001b[A\n",
      "\n",
      "  3%|▎         | 345/10000 [09:15<2:13:50,  1.20it/s]\u001b[A\n",
      "\n",
      "  0%|          | 0/1 [00:00<?, ?it/s]\u001b[A\u001b[A\n",
      "\n",
      "100%|██████████| 1/1 [00:00<00:00,  2.11it/s]\u001b[A\u001b[A\n",
      "\n",
      "  3%|▎         | 346/10000 [09:16<2:09:58,  1.24it/s]\u001b[A\n",
      "\n",
      "  0%|          | 0/1 [00:00<?, ?it/s]\u001b[A\u001b[A\n",
      "\n",
      "100%|██████████| 1/1 [00:00<00:00,  1.21it/s]\u001b[A\u001b[A\n",
      "\n",
      "  3%|▎         | 347/10000 [09:17<2:31:24,  1.06it/s]\u001b[A\n",
      "\n",
      "  0%|          | 0/1 [00:00<?, ?it/s]\u001b[A\u001b[A\n",
      "\n",
      "100%|██████████| 1/1 [00:00<00:00,  1.00it/s]\u001b[A\u001b[A\n",
      "\n",
      "  3%|▎         | 348/10000 [09:19<2:55:35,  1.09s/it]\u001b[A\n",
      "\n",
      "  0%|          | 0/1 [00:00<?, ?it/s]\u001b[A\u001b[A\n",
      "\n",
      "100%|██████████| 1/1 [00:01<00:00,  1.04s/it]\u001b[A\u001b[A\n",
      "\n",
      "  3%|▎         | 349/10000 [09:20<3:13:51,  1.21s/it]\u001b[A\n",
      "\n",
      "  0%|          | 0/1 [00:00<?, ?it/s]\u001b[A\u001b[A\n",
      "\n",
      "100%|██████████| 1/1 [00:00<00:00,  1.01it/s]\u001b[A\u001b[A\n",
      "\n",
      "  4%|▎         | 350/10000 [09:21<3:22:19,  1.26s/it]\u001b[A\n",
      "\n",
      "  0%|          | 0/1 [00:00<?, ?it/s]\u001b[A\u001b[A\n",
      "\n",
      "100%|██████████| 1/1 [00:00<00:00,  1.03it/s]\u001b[A\u001b[A\n",
      "\n",
      "  4%|▎         | 351/10000 [09:23<3:35:55,  1.34s/it]\u001b[A\n",
      "\n",
      "  0%|          | 0/1 [00:00<?, ?it/s]\u001b[A\u001b[A\n",
      "\n",
      "100%|██████████| 1/1 [00:01<00:00,  1.12s/it]\u001b[A\u001b[A\n"
     ]
    },
    {
     "name": "stdout",
     "output_type": "stream",
     "text": [
      "\n",
      "Epoch: 352, Loss: 0.3804, Val: 0.6763, Test: 0.6770\n"
     ]
    },
    {
     "name": "stderr",
     "output_type": "stream",
     "text": [
      "\n",
      "  4%|▎         | 352/10000 [09:25<3:55:41,  1.47s/it]\u001b[A\n",
      "\n",
      "  0%|          | 0/1 [00:00<?, ?it/s]\u001b[A\u001b[A\n",
      "\n",
      "100%|██████████| 1/1 [00:01<00:00,  1.05s/it]\u001b[A\u001b[A\n",
      "\n",
      "  4%|▎         | 353/10000 [09:26<3:59:31,  1.49s/it]\u001b[A\n",
      "\n",
      "  0%|          | 0/1 [00:00<?, ?it/s]\u001b[A\u001b[A\n",
      "\n",
      "100%|██████████| 1/1 [00:01<00:00,  1.16s/it]\u001b[A\u001b[A\n",
      "\n",
      "  4%|▎         | 354/10000 [09:28<4:08:29,  1.55s/it]\u001b[A\n",
      "\n",
      "  0%|          | 0/1 [00:00<?, ?it/s]\u001b[A\u001b[A\n",
      "\n",
      "100%|██████████| 1/1 [00:01<00:00,  1.06s/it]\u001b[A\u001b[A\n",
      "\n",
      "  4%|▎         | 355/10000 [09:29<4:07:12,  1.54s/it]\u001b[A\n",
      "\n",
      "  0%|          | 0/1 [00:00<?, ?it/s]\u001b[A\u001b[A\n",
      "\n",
      "100%|██████████| 1/1 [00:01<00:00,  1.09s/it]\u001b[A\u001b[A\n",
      "\n",
      "  4%|▎         | 356/10000 [09:31<4:10:06,  1.56s/it]\u001b[A\n",
      "\n",
      "  0%|          | 0/1 [00:00<?, ?it/s]\u001b[A\u001b[A\n",
      "\n",
      "100%|██████████| 1/1 [00:01<00:00,  1.06s/it]\u001b[A\u001b[A\n",
      "\n",
      "  4%|▎         | 357/10000 [09:33<4:10:53,  1.56s/it]\u001b[A\n",
      "\n",
      "  0%|          | 0/1 [00:00<?, ?it/s]\u001b[A\u001b[A\n",
      "\n",
      "100%|██████████| 1/1 [00:01<00:00,  1.03s/it]\u001b[A\u001b[A\n"
     ]
    },
    {
     "name": "stdout",
     "output_type": "stream",
     "text": [
      "\n",
      "Epoch: 358, Loss: 0.3799, Val: 0.6763, Test: 0.6768\n"
     ]
    },
    {
     "name": "stderr",
     "output_type": "stream",
     "text": [
      "\n",
      "  4%|▎         | 358/10000 [09:36<5:35:46,  2.09s/it]\u001b[A\n",
      "\n",
      "  0%|          | 0/1 [00:00<?, ?it/s]\u001b[A\u001b[A\n",
      "\n",
      "100%|██████████| 1/1 [00:00<00:00,  1.28it/s]\u001b[A\u001b[A\n",
      "\n",
      "  4%|▎         | 359/10000 [09:37<4:58:12,  1.86s/it]\u001b[A\n",
      "\n",
      "  0%|          | 0/1 [00:00<?, ?it/s]\u001b[A\u001b[A\n",
      "\n",
      "100%|██████████| 1/1 [00:01<00:00,  1.19s/it]\u001b[A\u001b[A\n",
      "\n",
      "  4%|▎         | 360/10000 [09:39<4:47:05,  1.79s/it]\u001b[A\n",
      "\n",
      "  0%|          | 0/1 [00:00<?, ?it/s]\u001b[A\u001b[A\n",
      "\n",
      "100%|██████████| 1/1 [00:01<00:00,  1.17s/it]\u001b[A\u001b[A\n",
      "\n",
      "  4%|▎         | 361/10000 [09:41<4:42:02,  1.76s/it]\u001b[A\n",
      "\n",
      "  0%|          | 0/1 [00:00<?, ?it/s]\u001b[A\u001b[A\n",
      "\n",
      "100%|██████████| 1/1 [00:01<00:00,  1.16s/it]\u001b[A\u001b[A\n",
      "\n",
      "  4%|▎         | 362/10000 [09:42<4:35:29,  1.72s/it]\u001b[A\n",
      "\n",
      "  0%|          | 0/1 [00:00<?, ?it/s]\u001b[A\u001b[A\n",
      "\n",
      "100%|██████████| 1/1 [00:01<00:00,  1.05s/it]\u001b[A\u001b[A\n",
      "\n",
      "  4%|▎         | 363/10000 [09:44<4:27:25,  1.66s/it]\u001b[A\n",
      "\n",
      "  0%|          | 0/1 [00:00<?, ?it/s]\u001b[A\u001b[A\n",
      "\n",
      "100%|██████████| 1/1 [00:01<00:00,  1.03s/it]\u001b[A\u001b[A\n",
      "\n",
      "  4%|▎         | 364/10000 [09:45<4:07:35,  1.54s/it]\u001b[A\n",
      "\n",
      "  0%|          | 0/1 [00:00<?, ?it/s]\u001b[A\u001b[A\n",
      "\n",
      "100%|██████████| 1/1 [00:00<00:00,  2.01it/s]\u001b[A\u001b[A\n",
      "\n",
      "  4%|▎         | 365/10000 [09:46<3:29:23,  1.30s/it]\u001b[A\n",
      "\n",
      "  0%|          | 0/1 [00:00<?, ?it/s]\u001b[A\u001b[A\n",
      "\n",
      "100%|██████████| 1/1 [00:01<00:00,  1.11s/it]\u001b[A\u001b[A\n",
      "\n",
      "  4%|▎         | 366/10000 [09:47<3:41:43,  1.38s/it]\u001b[A\n",
      "\n",
      "  0%|          | 0/1 [00:00<?, ?it/s]\u001b[A\u001b[A\n",
      "\n",
      "100%|██████████| 1/1 [00:01<00:00,  1.05s/it]\u001b[A\u001b[A\n",
      "\n",
      "  4%|▎         | 367/10000 [09:49<3:46:38,  1.41s/it]\u001b[A\n",
      "\n",
      "  0%|          | 0/1 [00:00<?, ?it/s]\u001b[A\u001b[A\n",
      "\n",
      "100%|██████████| 1/1 [00:01<00:00,  1.04s/it]\u001b[A\u001b[A\n",
      "\n",
      "  4%|▎         | 368/10000 [09:50<3:51:38,  1.44s/it]\u001b[A\n",
      "\n",
      "  0%|          | 0/1 [00:00<?, ?it/s]\u001b[A\u001b[A\n",
      "\n",
      "100%|██████████| 1/1 [00:00<00:00,  1.08it/s]\u001b[A\u001b[A\n",
      "\n",
      "  4%|▎         | 369/10000 [09:52<3:49:12,  1.43s/it]\u001b[A\n",
      "\n",
      "  0%|          | 0/1 [00:00<?, ?it/s]\u001b[A\u001b[A\n",
      "\n",
      "100%|██████████| 1/1 [00:01<00:00,  1.04s/it]\u001b[A\u001b[A\n",
      "\n",
      "  4%|▎         | 370/10000 [09:53<3:52:27,  1.45s/it]\u001b[A\n",
      "\n",
      "  0%|          | 0/1 [00:00<?, ?it/s]\u001b[A\u001b[A\n",
      "\n",
      "100%|██████████| 1/1 [00:01<00:00,  1.05s/it]\u001b[A\u001b[A\n",
      "\n",
      "  4%|▎         | 371/10000 [09:55<3:56:42,  1.47s/it]\u001b[A\n",
      "\n",
      "  0%|          | 0/1 [00:00<?, ?it/s]\u001b[A\u001b[A\n",
      "\n",
      "100%|██████████| 1/1 [00:01<00:00,  1.15s/it]\u001b[A\u001b[A\n",
      "\n",
      "  4%|▎         | 372/10000 [09:56<4:03:12,  1.52s/it]\u001b[A\n",
      "\n",
      "  0%|          | 0/1 [00:00<?, ?it/s]\u001b[A\u001b[A\n",
      "\n",
      "100%|██████████| 1/1 [00:01<00:00,  1.02s/it]\u001b[A\u001b[A\n",
      "\n",
      "  4%|▎         | 373/10000 [09:58<3:58:46,  1.49s/it]\u001b[A\n",
      "\n",
      "  0%|          | 0/1 [00:00<?, ?it/s]\u001b[A\u001b[A\n",
      "\n",
      "100%|██████████| 1/1 [00:00<00:00,  1.60it/s]\u001b[A\u001b[A\n",
      "\n",
      "  4%|▎         | 374/10000 [09:59<3:28:03,  1.30s/it]\u001b[A\n",
      "\n",
      "  0%|          | 0/1 [00:00<?, ?it/s]\u001b[A\u001b[A\n",
      "\n",
      "100%|██████████| 1/1 [00:00<00:00,  2.19it/s]\u001b[A\u001b[A\n",
      "\n",
      "  4%|▍         | 375/10000 [09:59<2:58:23,  1.11s/it]\u001b[A\n",
      "\n",
      "  0%|          | 0/1 [00:00<?, ?it/s]\u001b[A\u001b[A\n",
      "\n",
      "100%|██████████| 1/1 [00:00<00:00,  2.17it/s]\u001b[A\u001b[A\n",
      "\n",
      "  4%|▍         | 376/10000 [10:00<2:38:35,  1.01it/s]\u001b[A\n",
      "\n",
      "  0%|          | 0/1 [00:00<?, ?it/s]\u001b[A\u001b[A\n",
      "\n",
      "100%|██████████| 1/1 [00:00<00:00,  1.16it/s]\u001b[A\u001b[A\n",
      "\n",
      "  4%|▍         | 377/10000 [10:01<2:47:07,  1.04s/it]\u001b[A\n",
      "\n",
      "  0%|          | 0/1 [00:00<?, ?it/s]\u001b[A\u001b[A\n",
      "\n",
      "100%|██████████| 1/1 [00:00<00:00,  1.82it/s]\u001b[A\u001b[A\n",
      "\n",
      "  4%|▍         | 378/10000 [10:02<2:34:18,  1.04it/s]\u001b[A\n",
      "\n",
      "  0%|          | 0/1 [00:00<?, ?it/s]\u001b[A\u001b[A\n",
      "\n",
      "100%|██████████| 1/1 [00:00<00:00,  2.15it/s]\u001b[A\u001b[A\n",
      "\n",
      "  4%|▍         | 379/10000 [10:03<2:22:13,  1.13it/s]\u001b[A\n",
      "\n",
      "  0%|          | 0/1 [00:00<?, ?it/s]\u001b[A\u001b[A\n",
      "\n",
      "100%|██████████| 1/1 [00:00<00:00,  1.97it/s]\u001b[A\u001b[A\n",
      "\n",
      "  4%|▍         | 380/10000 [10:03<2:15:09,  1.19it/s]\u001b[A\n",
      "\n",
      "  0%|          | 0/1 [00:00<?, ?it/s]\u001b[A\u001b[A\n",
      "\n",
      "100%|██████████| 1/1 [00:00<00:00,  1.97it/s]\u001b[A\u001b[A\n",
      "\n",
      "  4%|▍         | 381/10000 [10:04<2:11:30,  1.22it/s]\u001b[A\n",
      "\n",
      "  0%|          | 0/1 [00:00<?, ?it/s]\u001b[A\u001b[A\n",
      "\n",
      "100%|██████████| 1/1 [00:00<00:00,  2.15it/s]\u001b[A\u001b[A\n",
      "\n",
      "  4%|▍         | 382/10000 [10:05<2:04:58,  1.28it/s]\u001b[A\n",
      "\n",
      "  0%|          | 0/1 [00:00<?, ?it/s]\u001b[A\u001b[A\n",
      "\n",
      "100%|██████████| 1/1 [00:01<00:00,  1.19s/it]\u001b[A\u001b[A\n",
      "\n",
      "  4%|▍         | 383/10000 [10:07<2:58:53,  1.12s/it]\u001b[A\n",
      "\n",
      "  0%|          | 0/1 [00:00<?, ?it/s]\u001b[A\u001b[A\n",
      "\n",
      "100%|██████████| 1/1 [00:01<00:00,  1.41s/it]\u001b[A\u001b[A\n",
      "\n",
      "  4%|▍         | 384/10000 [10:09<3:35:45,  1.35s/it]\u001b[A\n",
      "\n",
      "  0%|          | 0/1 [00:00<?, ?it/s]\u001b[A\u001b[A\n",
      "\n",
      "100%|██████████| 1/1 [00:01<00:00,  1.21s/it]\u001b[A\u001b[A\n",
      "\n",
      "  4%|▍         | 385/10000 [10:10<3:50:25,  1.44s/it]\u001b[A\n",
      "\n",
      "  0%|          | 0/1 [00:00<?, ?it/s]\u001b[A\u001b[A\n",
      "\n",
      "100%|██████████| 1/1 [00:01<00:00,  1.18s/it]\u001b[A\u001b[A\n",
      "\n",
      "  4%|▍         | 386/10000 [10:12<4:02:21,  1.51s/it]\u001b[A\n",
      "\n",
      "  0%|          | 0/1 [00:00<?, ?it/s]\u001b[A\u001b[A\n",
      "\n",
      "100%|██████████| 1/1 [00:01<00:00,  1.28s/it]\u001b[A\u001b[A\n",
      "\n",
      "  4%|▍         | 387/10000 [10:14<4:17:13,  1.61s/it]\u001b[A\n",
      "\n",
      "  0%|          | 0/1 [00:00<?, ?it/s]\u001b[A\u001b[A\n",
      "\n",
      "100%|██████████| 1/1 [00:01<00:00,  1.25s/it]\u001b[A\u001b[A\n",
      "\n",
      "  4%|▍         | 388/10000 [10:16<4:25:04,  1.65s/it]\u001b[A\n",
      "\n",
      "  0%|          | 0/1 [00:00<?, ?it/s]\u001b[A\u001b[A\n",
      "\n",
      "100%|██████████| 1/1 [00:01<00:00,  1.26s/it]\u001b[A\u001b[A\n",
      "\n",
      "  4%|▍         | 389/10000 [10:17<4:24:44,  1.65s/it]\u001b[A\n",
      "\n",
      "  0%|          | 0/1 [00:00<?, ?it/s]\u001b[A\u001b[A\n",
      "\n",
      "100%|██████████| 1/1 [00:00<00:00,  1.96it/s]\u001b[A\u001b[A\n",
      "\n",
      "  4%|▍         | 390/10000 [10:18<3:40:22,  1.38s/it]\u001b[A\n",
      "\n",
      "  0%|          | 0/1 [00:00<?, ?it/s]\u001b[A\u001b[A\n",
      "\n",
      "100%|██████████| 1/1 [00:00<00:00,  1.96it/s]\u001b[A\u001b[A\n",
      "\n",
      "  4%|▍         | 391/10000 [10:19<3:09:01,  1.18s/it]\u001b[A\n",
      "\n",
      "  0%|          | 0/1 [00:00<?, ?it/s]\u001b[A\u001b[A\n",
      "\n",
      "100%|██████████| 1/1 [00:00<00:00,  2.13it/s]\u001b[A\u001b[A\n",
      "\n",
      "  4%|▍         | 392/10000 [10:19<2:53:11,  1.08s/it]\u001b[A\n",
      "\n",
      "  0%|          | 0/1 [00:00<?, ?it/s]\u001b[A\u001b[A\n",
      "\n",
      "100%|██████████| 1/1 [00:00<00:00,  1.01it/s]\u001b[A\u001b[A\n",
      "\n",
      "  4%|▍         | 393/10000 [10:21<3:11:04,  1.19s/it]\u001b[A\n",
      "\n",
      "  0%|          | 0/1 [00:00<?, ?it/s]\u001b[A\u001b[A\n",
      "\n",
      "100%|██████████| 1/1 [00:01<00:00,  1.10s/it]\u001b[A\u001b[A\n",
      "\n",
      "  4%|▍         | 394/10000 [10:22<3:28:23,  1.30s/it]\u001b[A\n",
      "\n",
      "  0%|          | 0/1 [00:00<?, ?it/s]\u001b[A\u001b[A\n",
      "\n",
      "100%|██████████| 1/1 [00:01<00:00,  1.13s/it]\u001b[A\u001b[A\n",
      "\n",
      "  4%|▍         | 395/10000 [10:24<3:43:26,  1.40s/it]\u001b[A\n",
      "\n",
      "  0%|          | 0/1 [00:00<?, ?it/s]\u001b[A\u001b[A\n",
      "\n",
      "100%|██████████| 1/1 [00:01<00:00,  1.22s/it]\u001b[A\u001b[A\n",
      "\n",
      "  4%|▍         | 396/10000 [10:26<3:59:13,  1.49s/it]\u001b[A\n",
      "\n",
      "  0%|          | 0/1 [00:00<?, ?it/s]\u001b[A\u001b[A\n",
      "\n",
      "100%|██████████| 1/1 [00:01<00:00,  1.21s/it]\u001b[A\u001b[A\n",
      "\n",
      "  4%|▍         | 397/10000 [10:28<4:13:56,  1.59s/it]\u001b[A\n",
      "\n",
      "  0%|          | 0/1 [00:00<?, ?it/s]\u001b[A\u001b[A\n",
      "\n",
      "100%|██████████| 1/1 [00:01<00:00,  1.59s/it]\u001b[A\u001b[A\n",
      "\n",
      "  4%|▍         | 398/10000 [10:30<4:43:13,  1.77s/it]\u001b[A\n",
      "\n",
      "  0%|          | 0/1 [00:00<?, ?it/s]\u001b[A\u001b[A\n",
      "\n",
      "100%|██████████| 1/1 [00:01<00:00,  1.50s/it]\u001b[A\u001b[A\n",
      "\n",
      "  4%|▍         | 399/10000 [10:32<4:58:42,  1.87s/it]\u001b[A\n",
      "\n",
      "  0%|          | 0/1 [00:00<?, ?it/s]\u001b[A\u001b[A\n",
      "\n",
      "100%|██████████| 1/1 [00:01<00:00,  1.37s/it]\u001b[A\u001b[A\n",
      "\n",
      "  4%|▍         | 400/10000 [10:34<4:51:45,  1.82s/it]\u001b[A\n",
      "\n",
      "  0%|          | 0/1 [00:00<?, ?it/s]\u001b[A\u001b[A\n",
      "\n",
      "100%|██████████| 1/1 [00:00<00:00,  1.58it/s]\u001b[A\u001b[A\n",
      "\n",
      "  4%|▍         | 401/10000 [10:35<4:23:48,  1.65s/it]\u001b[A\n",
      "\n",
      "  0%|          | 0/1 [00:00<?, ?it/s]\u001b[A\u001b[A\n",
      "\n",
      "100%|██████████| 1/1 [00:01<00:00,  1.50s/it]\u001b[A\u001b[A\n",
      "\n",
      "  4%|▍         | 402/10000 [10:37<4:42:18,  1.76s/it]\u001b[A\n",
      "\n",
      "  0%|          | 0/1 [00:00<?, ?it/s]\u001b[A\u001b[A\n",
      "\n",
      "100%|██████████| 1/1 [00:01<00:00,  1.21s/it]\u001b[A\u001b[A\n",
      "\n",
      "  4%|▍         | 403/10000 [10:39<4:40:01,  1.75s/it]\u001b[A\n",
      "\n",
      "  0%|          | 0/1 [00:00<?, ?it/s]\u001b[A\u001b[A\n",
      "\n",
      "100%|██████████| 1/1 [00:01<00:00,  1.18s/it]\u001b[A\u001b[A\n",
      "\n",
      "  4%|▍         | 404/10000 [10:40<4:37:10,  1.73s/it]\u001b[A\n",
      "\n",
      "  0%|          | 0/1 [00:00<?, ?it/s]\u001b[A\u001b[A\n",
      "\n",
      "100%|██████████| 1/1 [00:01<00:00,  1.44s/it]\u001b[A\u001b[A\n",
      "\n",
      "  4%|▍         | 405/10000 [10:42<4:46:48,  1.79s/it]\u001b[A\n",
      "\n",
      "  0%|          | 0/1 [00:00<?, ?it/s]\u001b[A\u001b[A\n",
      "\n",
      "100%|██████████| 1/1 [00:01<00:00,  1.32s/it]\u001b[A\u001b[A\n",
      "\n",
      "  4%|▍         | 406/10000 [10:44<4:53:32,  1.84s/it]\u001b[A\n",
      "\n",
      "  0%|          | 0/1 [00:00<?, ?it/s]\u001b[A\u001b[A\n",
      "\n",
      "100%|██████████| 1/1 [00:01<00:00,  1.27s/it]\u001b[A\u001b[A\n",
      "\n",
      "  4%|▍         | 407/10000 [10:46<4:54:50,  1.84s/it]\u001b[A\n",
      "\n",
      "  0%|          | 0/1 [00:00<?, ?it/s]\u001b[A\u001b[A\n",
      "\n",
      "100%|██████████| 1/1 [00:00<00:00,  1.10it/s]\u001b[A\u001b[A\n",
      "\n",
      "  4%|▍         | 408/10000 [10:47<4:22:11,  1.64s/it]\u001b[A\n",
      "\n",
      "  0%|          | 0/1 [00:00<?, ?it/s]\u001b[A\u001b[A\n",
      "\n",
      "100%|██████████| 1/1 [00:00<00:00,  1.93it/s]\u001b[A\u001b[A\n",
      "\n",
      "  4%|▍         | 409/10000 [10:48<3:49:32,  1.44s/it]\u001b[A\n",
      "\n",
      "  0%|          | 0/1 [00:00<?, ?it/s]\u001b[A\u001b[A\n",
      "\n",
      "100%|██████████| 1/1 [00:01<00:00,  1.07s/it]\u001b[A\u001b[A\n",
      "\n",
      "  4%|▍         | 410/10000 [10:50<3:57:11,  1.48s/it]\u001b[A\n",
      "\n",
      "  0%|          | 0/1 [00:00<?, ?it/s]\u001b[A\u001b[A\n",
      "\n",
      "100%|██████████| 1/1 [00:01<00:00,  1.13s/it]\u001b[A\u001b[A\n",
      "\n",
      "  4%|▍         | 411/10000 [10:51<4:02:40,  1.52s/it]\u001b[A\n",
      "\n",
      "  0%|          | 0/1 [00:00<?, ?it/s]\u001b[A\u001b[A\n",
      "\n",
      "100%|██████████| 1/1 [00:01<00:00,  1.19s/it]\u001b[A\u001b[A\n",
      "\n",
      "  4%|▍         | 412/10000 [10:53<4:09:35,  1.56s/it]\u001b[A\n",
      "\n",
      "  0%|          | 0/1 [00:00<?, ?it/s]\u001b[A\u001b[A\n",
      "\n",
      "100%|██████████| 1/1 [00:01<00:00,  1.02s/it]\u001b[A\u001b[A\n",
      "\n",
      "  4%|▍         | 413/10000 [10:55<4:07:27,  1.55s/it]\u001b[A\n",
      "\n",
      "  0%|          | 0/1 [00:00<?, ?it/s]\u001b[A\u001b[A\n",
      "\n",
      "100%|██████████| 1/1 [00:01<00:00,  1.09s/it]\u001b[A\u001b[A\n",
      "\n",
      "  4%|▍         | 414/10000 [10:56<4:06:16,  1.54s/it]\u001b[A\n",
      "\n",
      "  0%|          | 0/1 [00:00<?, ?it/s]\u001b[A\u001b[A\n",
      "\n",
      "100%|██████████| 1/1 [00:01<00:00,  1.06s/it]\u001b[A\u001b[A\n",
      "\n",
      "  4%|▍         | 415/10000 [10:58<4:05:54,  1.54s/it]\u001b[A\n",
      "\n",
      "  0%|          | 0/1 [00:00<?, ?it/s]\u001b[A\u001b[A\n",
      "\n",
      "100%|██████████| 1/1 [00:01<00:00,  1.09s/it]\u001b[A\u001b[A\n",
      "\n",
      "  4%|▍         | 416/10000 [10:59<4:07:48,  1.55s/it]\u001b[A\n",
      "\n",
      "  0%|          | 0/1 [00:00<?, ?it/s]\u001b[A\u001b[A\n",
      "\n",
      "100%|██████████| 1/1 [00:01<00:00,  1.14s/it]\u001b[A\u001b[A\n",
      "\n",
      "  4%|▍         | 417/10000 [11:01<4:03:18,  1.52s/it]\u001b[A\n",
      "\n",
      "  0%|          | 0/1 [00:00<?, ?it/s]\u001b[A\u001b[A\n",
      "\n",
      "100%|██████████| 1/1 [00:00<00:00,  1.01it/s]\u001b[A\u001b[A\n",
      "\n",
      "  4%|▍         | 418/10000 [11:02<3:50:18,  1.44s/it]\u001b[A\n",
      "\n",
      "  0%|          | 0/1 [00:00<?, ?it/s]\u001b[A\u001b[A\n",
      "\n",
      "100%|██████████| 1/1 [00:00<00:00,  1.98it/s]\u001b[A\u001b[A\n",
      "\n",
      "  4%|▍         | 419/10000 [11:03<3:15:59,  1.23s/it]\u001b[A\n",
      "\n",
      "  0%|          | 0/1 [00:00<?, ?it/s]\u001b[A\u001b[A\n",
      "\n",
      "100%|██████████| 1/1 [00:00<00:00,  2.21it/s]\u001b[A\u001b[A\n",
      "\n",
      "  4%|▍         | 420/10000 [11:03<2:49:30,  1.06s/it]\u001b[A\n",
      "\n",
      "  0%|          | 0/1 [00:00<?, ?it/s]\u001b[A\u001b[A\n",
      "\n",
      "100%|██████████| 1/1 [00:00<00:00,  1.77it/s]\u001b[A\u001b[A\n",
      "\n",
      "  4%|▍         | 421/10000 [11:04<2:43:48,  1.03s/it]\u001b[A\n",
      "\n",
      "  0%|          | 0/1 [00:00<?, ?it/s]\u001b[A\u001b[A\n",
      "\n",
      "100%|██████████| 1/1 [00:00<00:00,  1.30it/s]\u001b[A\u001b[A\n",
      "\n",
      "  4%|▍         | 422/10000 [11:05<2:44:39,  1.03s/it]\u001b[A\n",
      "\n",
      "  0%|          | 0/1 [00:00<?, ?it/s]\u001b[A\u001b[A\n",
      "\n",
      "100%|██████████| 1/1 [00:00<00:00,  2.03it/s]\u001b[A\u001b[A\n",
      "\n",
      "  4%|▍         | 423/10000 [11:06<2:31:32,  1.05it/s]\u001b[A\n",
      "\n",
      "  0%|          | 0/1 [00:00<?, ?it/s]\u001b[A\u001b[A\n",
      "\n",
      "100%|██████████| 1/1 [00:00<00:00,  1.95it/s]\u001b[A\u001b[A\n",
      "\n",
      "  4%|▍         | 424/10000 [11:07<2:21:52,  1.12it/s]\u001b[A\n",
      "\n",
      "  0%|          | 0/1 [00:00<?, ?it/s]\u001b[A\u001b[A\n",
      "\n",
      "100%|██████████| 1/1 [00:00<00:00,  1.52it/s]\u001b[A\u001b[A\n",
      "\n",
      "  4%|▍         | 425/10000 [11:08<2:24:01,  1.11it/s]\u001b[A\n",
      "\n",
      "  0%|          | 0/1 [00:00<?, ?it/s]\u001b[A\u001b[A\n",
      "\n",
      "100%|██████████| 1/1 [00:00<00:00,  1.80it/s]\u001b[A\u001b[A\n",
      "\n",
      "  4%|▍         | 426/10000 [11:09<2:46:11,  1.04s/it]\u001b[A\n",
      "\n",
      "  0%|          | 0/1 [00:00<?, ?it/s]\u001b[A\u001b[A\n",
      "\n",
      "100%|██████████| 1/1 [00:01<00:00,  1.32s/it]\u001b[A\u001b[A\n",
      "\n",
      "  4%|▍         | 427/10000 [11:11<3:24:04,  1.28s/it]\u001b[A\n",
      "\n",
      "  0%|          | 0/1 [00:00<?, ?it/s]\u001b[A\u001b[A\n",
      "\n",
      "100%|██████████| 1/1 [00:01<00:00,  1.06s/it]\u001b[A\u001b[A\n",
      "\n",
      "  4%|▍         | 428/10000 [11:12<3:36:53,  1.36s/it]\u001b[A\n",
      "\n",
      "  0%|          | 0/1 [00:00<?, ?it/s]\u001b[A\u001b[A\n",
      "\n",
      "100%|██████████| 1/1 [00:01<00:00,  1.07s/it]\u001b[A\u001b[A\n",
      "\n",
      "  4%|▍         | 429/10000 [11:14<3:51:41,  1.45s/it]\u001b[A\n",
      "\n",
      "  0%|          | 0/1 [00:00<?, ?it/s]\u001b[A\u001b[A\n",
      "\n",
      "100%|██████████| 1/1 [00:01<00:00,  1.31s/it]\u001b[A\u001b[A\n",
      "\n",
      "  4%|▍         | 430/10000 [11:16<4:12:36,  1.58s/it]\u001b[A\n",
      "\n",
      "  0%|          | 0/1 [00:00<?, ?it/s]\u001b[A\u001b[A\n",
      "\n",
      "100%|██████████| 1/1 [00:01<00:00,  1.36s/it]\u001b[A\u001b[A\n",
      "\n",
      "  4%|▍         | 431/10000 [11:18<4:32:54,  1.71s/it]\u001b[A\n",
      "\n",
      "  0%|          | 0/1 [00:00<?, ?it/s]\u001b[A\u001b[A\n",
      "\n",
      "100%|██████████| 1/1 [00:01<00:00,  1.22s/it]\u001b[A\u001b[A\n",
      "\n",
      "  4%|▍         | 432/10000 [11:20<4:34:31,  1.72s/it]\u001b[A\n",
      "\n",
      "  0%|          | 0/1 [00:00<?, ?it/s]\u001b[A\u001b[A\n",
      "\n",
      "100%|██████████| 1/1 [00:01<00:00,  1.36s/it]\u001b[A\u001b[A\n",
      "\n",
      "  4%|▍         | 433/10000 [11:21<4:29:35,  1.69s/it]\u001b[A\n",
      "\n",
      "  0%|          | 0/1 [00:00<?, ?it/s]\u001b[A\u001b[A\n",
      "\n",
      "100%|██████████| 1/1 [00:00<00:00,  1.76it/s]\u001b[A\u001b[A\n"
     ]
    },
    {
     "name": "stdout",
     "output_type": "stream",
     "text": [
      "\n",
      "Epoch: 434, Loss: 0.3692, Val: 0.6764, Test: 0.6747\n"
     ]
    },
    {
     "name": "stderr",
     "output_type": "stream",
     "text": [
      "\n",
      "  4%|▍         | 434/10000 [11:23<4:06:23,  1.55s/it]\u001b[A\n",
      "\n",
      "  0%|          | 0/1 [00:00<?, ?it/s]\u001b[A\u001b[A\n",
      "\n",
      "100%|██████████| 1/1 [00:00<00:00,  1.08it/s]\u001b[A\u001b[A\n"
     ]
    },
    {
     "name": "stdout",
     "output_type": "stream",
     "text": [
      "\n",
      "Epoch: 435, Loss: 0.3699, Val: 0.6765, Test: 0.6745\n"
     ]
    },
    {
     "name": "stderr",
     "output_type": "stream",
     "text": [
      "\n",
      "  4%|▍         | 435/10000 [11:25<4:23:56,  1.66s/it]\u001b[A\n",
      "\n",
      "  0%|          | 0/1 [00:00<?, ?it/s]\u001b[A\u001b[A\n",
      "\n",
      "100%|██████████| 1/1 [00:00<00:00,  1.03it/s]\u001b[A\u001b[A\n"
     ]
    },
    {
     "name": "stdout",
     "output_type": "stream",
     "text": [
      "\n",
      "Epoch: 436, Loss: 0.3695, Val: 0.6771, Test: 0.6746\n"
     ]
    },
    {
     "name": "stderr",
     "output_type": "stream",
     "text": [
      "\n",
      "  4%|▍         | 436/10000 [11:26<4:38:35,  1.75s/it]\u001b[A\n",
      "\n",
      "  0%|          | 0/1 [00:00<?, ?it/s]\u001b[A\u001b[A\n",
      "\n",
      "100%|██████████| 1/1 [00:00<00:00,  1.01it/s]\u001b[A\u001b[A\n",
      "\n",
      "  4%|▍         | 437/10000 [11:28<4:24:42,  1.66s/it]\u001b[A\n",
      "\n",
      "  0%|          | 0/1 [00:00<?, ?it/s]\u001b[A\u001b[A\n",
      "\n",
      "100%|██████████| 1/1 [00:01<00:00,  1.04s/it]\u001b[A\u001b[A\n",
      "\n",
      "  4%|▍         | 438/10000 [11:29<4:14:52,  1.60s/it]\u001b[A\n",
      "\n",
      "  0%|          | 0/1 [00:00<?, ?it/s]\u001b[A\u001b[A\n",
      "\n",
      "100%|██████████| 1/1 [00:00<00:00,  1.03it/s]\u001b[A\u001b[A\n",
      "\n",
      "  4%|▍         | 439/10000 [11:31<4:05:41,  1.54s/it]\u001b[A\n",
      "\n",
      "  0%|          | 0/1 [00:00<?, ?it/s]\u001b[A\u001b[A\n",
      "\n",
      "100%|██████████| 1/1 [00:01<00:00,  1.01s/it]\u001b[A\u001b[A\n",
      "\n",
      "  4%|▍         | 440/10000 [11:32<4:07:15,  1.55s/it]\u001b[A\n",
      "\n",
      "  0%|          | 0/1 [00:00<?, ?it/s]\u001b[A\u001b[A\n",
      "\n",
      "100%|██████████| 1/1 [00:00<00:00,  1.48it/s]\u001b[A\u001b[A\n",
      "\n",
      "  4%|▍         | 441/10000 [11:33<3:36:08,  1.36s/it]\u001b[A\n",
      "\n",
      "  0%|          | 0/1 [00:00<?, ?it/s]\u001b[A\u001b[A\n",
      "\n",
      "100%|██████████| 1/1 [00:01<00:00,  1.33s/it]\u001b[A\u001b[A\n",
      "\n",
      "  4%|▍         | 442/10000 [11:35<4:02:14,  1.52s/it]\u001b[A\n",
      "\n",
      "  0%|          | 0/1 [00:00<?, ?it/s]\u001b[A\u001b[A\n",
      "\n",
      "100%|██████████| 1/1 [00:00<00:00,  1.06it/s]\u001b[A\u001b[A\n",
      "\n",
      "  4%|▍         | 443/10000 [11:37<3:54:18,  1.47s/it]\u001b[A\n",
      "\n",
      "  0%|          | 0/1 [00:00<?, ?it/s]\u001b[A\u001b[A\n",
      "\n",
      "100%|██████████| 1/1 [00:01<00:00,  1.00s/it]\u001b[A\u001b[A\n",
      "\n",
      "  4%|▍         | 444/10000 [11:38<3:52:59,  1.46s/it]\u001b[A\n",
      "\n",
      "  0%|          | 0/1 [00:00<?, ?it/s]\u001b[A\u001b[A\n",
      "\n",
      "100%|██████████| 1/1 [00:00<00:00,  1.03it/s]\u001b[A\u001b[A\n",
      "\n",
      "  4%|▍         | 445/10000 [11:39<3:50:33,  1.45s/it]\u001b[A\n",
      "\n",
      "  0%|          | 0/1 [00:00<?, ?it/s]\u001b[A\u001b[A\n",
      "\n",
      "100%|██████████| 1/1 [00:00<00:00,  1.01it/s]\u001b[A\u001b[A\n",
      "\n",
      "  4%|▍         | 446/10000 [11:41<3:52:39,  1.46s/it]\u001b[A\n",
      "\n",
      "  0%|          | 0/1 [00:00<?, ?it/s]\u001b[A\u001b[A\n",
      "\n",
      "100%|██████████| 1/1 [00:00<00:00,  1.79it/s]\u001b[A\u001b[A\n",
      "\n",
      "  4%|▍         | 447/10000 [11:42<3:21:51,  1.27s/it]\u001b[A\n",
      "\n",
      "  0%|          | 0/1 [00:00<?, ?it/s]\u001b[A\u001b[A\n",
      "\n",
      "100%|██████████| 1/1 [00:00<00:00,  1.29it/s]\u001b[A\u001b[A\n",
      "\n",
      "  4%|▍         | 448/10000 [11:43<3:23:22,  1.28s/it]\u001b[A\n",
      "\n",
      "  0%|          | 0/1 [00:00<?, ?it/s]\u001b[A\u001b[A\n",
      "\n",
      "100%|██████████| 1/1 [00:01<00:00,  1.21s/it]\u001b[A\u001b[A\n",
      "\n",
      "  4%|▍         | 449/10000 [11:45<3:42:13,  1.40s/it]\u001b[A\n",
      "\n",
      "  0%|          | 0/1 [00:00<?, ?it/s]\u001b[A\u001b[A\n",
      "\n",
      "100%|██████████| 1/1 [00:00<00:00,  1.02it/s]\u001b[A\u001b[A\n",
      "\n",
      "  4%|▍         | 450/10000 [11:46<3:41:36,  1.39s/it]\u001b[A\n",
      "\n",
      "  0%|          | 0/1 [00:00<?, ?it/s]\u001b[A\u001b[A\n",
      "\n",
      "100%|██████████| 1/1 [00:01<00:00,  1.02s/it]\u001b[A\u001b[A\n",
      "\n",
      "  5%|▍         | 451/10000 [11:48<3:44:25,  1.41s/it]\u001b[A\n",
      "\n",
      "  0%|          | 0/1 [00:00<?, ?it/s]\u001b[A\u001b[A\n",
      "\n",
      "100%|██████████| 1/1 [00:01<00:00,  1.00s/it]\u001b[A\u001b[A\n",
      "\n",
      "  5%|▍         | 452/10000 [11:49<3:45:56,  1.42s/it]\u001b[A\n",
      "\n",
      "  0%|          | 0/1 [00:00<?, ?it/s]\u001b[A\u001b[A\n",
      "\n",
      "100%|██████████| 1/1 [00:01<00:00,  1.03s/it]\u001b[A\u001b[A\n",
      "\n",
      "  5%|▍         | 453/10000 [11:50<3:49:03,  1.44s/it]\u001b[A\n",
      "\n",
      "  0%|          | 0/1 [00:00<?, ?it/s]\u001b[A\u001b[A\n",
      "\n",
      "100%|██████████| 1/1 [00:00<00:00,  1.01it/s]\u001b[A\u001b[A\n",
      "\n",
      "  5%|▍         | 454/10000 [11:52<3:47:43,  1.43s/it]\u001b[A\n",
      "\n",
      "  0%|          | 0/1 [00:00<?, ?it/s]\u001b[A\u001b[A\n",
      "\n",
      "100%|██████████| 1/1 [00:01<00:00,  1.06s/it]\u001b[A\u001b[A\n",
      "\n",
      "  5%|▍         | 455/10000 [11:53<3:50:43,  1.45s/it]\u001b[A\n",
      "\n",
      "  0%|          | 0/1 [00:00<?, ?it/s]\u001b[A\u001b[A\n",
      "\n",
      "100%|██████████| 1/1 [00:00<00:00,  1.03it/s]\u001b[A\u001b[A\n",
      "\n",
      "  5%|▍         | 456/10000 [11:55<3:39:58,  1.38s/it]\u001b[A\n",
      "\n",
      "  0%|          | 0/1 [00:00<?, ?it/s]\u001b[A\u001b[A\n",
      "\n",
      "100%|██████████| 1/1 [00:00<00:00,  2.12it/s]\u001b[A\u001b[A\n",
      "\n",
      "  5%|▍         | 457/10000 [11:55<3:07:16,  1.18s/it]\u001b[A\n",
      "\n",
      "  0%|          | 0/1 [00:00<?, ?it/s]\u001b[A\u001b[A\n",
      "\n",
      "100%|██████████| 1/1 [00:00<00:00,  2.00it/s]\u001b[A\u001b[A\n",
      "\n",
      "  5%|▍         | 458/10000 [11:56<2:46:58,  1.05s/it]\u001b[A\n",
      "\n",
      "  0%|          | 0/1 [00:00<?, ?it/s]\u001b[A\u001b[A\n",
      "\n",
      "100%|██████████| 1/1 [00:00<00:00,  1.94it/s]\u001b[A\u001b[A\n",
      "\n",
      "  5%|▍         | 459/10000 [11:57<2:38:31,  1.00it/s]\u001b[A\n",
      "\n",
      "  0%|          | 0/1 [00:00<?, ?it/s]\u001b[A\u001b[A\n",
      "\n",
      "100%|██████████| 1/1 [00:00<00:00,  1.48it/s]\u001b[A\u001b[A\n",
      "\n",
      "  5%|▍         | 460/10000 [11:58<2:34:18,  1.03it/s]\u001b[A\n",
      "\n",
      "  0%|          | 0/1 [00:00<?, ?it/s]\u001b[A\u001b[A\n",
      "\n",
      "100%|██████████| 1/1 [00:00<00:00,  2.16it/s]\u001b[A\u001b[A\n",
      "\n",
      "  5%|▍         | 461/10000 [11:59<2:21:29,  1.12it/s]\u001b[A\n",
      "\n",
      "  0%|          | 0/1 [00:00<?, ?it/s]\u001b[A\u001b[A\n",
      "\n",
      "100%|██████████| 1/1 [00:00<00:00,  1.93it/s]\u001b[A\u001b[A\n",
      "\n",
      "  5%|▍         | 462/10000 [11:59<2:15:44,  1.17it/s]\u001b[A\n",
      "\n",
      "  0%|          | 0/1 [00:00<?, ?it/s]\u001b[A\u001b[A\n",
      "\n",
      "100%|██████████| 1/1 [00:00<00:00,  1.63it/s]\u001b[A\u001b[A\n",
      "\n",
      "  5%|▍         | 463/10000 [12:00<2:14:45,  1.18it/s]\u001b[A\n",
      "\n",
      "  0%|          | 0/1 [00:00<?, ?it/s]\u001b[A\u001b[A\n",
      "\n",
      "100%|██████████| 1/1 [00:01<00:00,  1.10s/it]\u001b[A\u001b[A\n",
      "\n",
      "  5%|▍         | 464/10000 [12:02<2:49:45,  1.07s/it]\u001b[A\n",
      "\n",
      "  0%|          | 0/1 [00:00<?, ?it/s]\u001b[A\u001b[A\n",
      "\n",
      "100%|██████████| 1/1 [00:01<00:00,  1.06s/it]\u001b[A\u001b[A\n",
      "\n",
      "  5%|▍         | 465/10000 [12:03<3:11:04,  1.20s/it]\u001b[A\n",
      "\n",
      "  0%|          | 0/1 [00:00<?, ?it/s]\u001b[A\u001b[A\n",
      "\n",
      "100%|██████████| 1/1 [00:01<00:00,  1.10s/it]\u001b[A\u001b[A\n",
      "\n",
      "  5%|▍         | 466/10000 [12:05<3:28:38,  1.31s/it]\u001b[A\n",
      "\n",
      "  0%|          | 0/1 [00:00<?, ?it/s]\u001b[A\u001b[A\n",
      "\n",
      "100%|██████████| 1/1 [00:01<00:00,  1.21s/it]\u001b[A\u001b[A\n",
      "\n",
      "  5%|▍         | 467/10000 [12:07<3:52:38,  1.46s/it]\u001b[A\n",
      "\n",
      "  0%|          | 0/1 [00:00<?, ?it/s]\u001b[A\u001b[A\n",
      "\n",
      "100%|██████████| 1/1 [00:01<00:00,  1.13s/it]\u001b[A\u001b[A\n",
      "\n",
      "  5%|▍         | 468/10000 [12:08<4:00:47,  1.52s/it]\u001b[A\n",
      "\n",
      "  0%|          | 0/1 [00:00<?, ?it/s]\u001b[A\u001b[A\n",
      "\n",
      "100%|██████████| 1/1 [00:01<00:00,  1.08s/it]\u001b[A\u001b[A\n",
      "\n",
      "  5%|▍         | 469/10000 [12:10<3:58:55,  1.50s/it]\u001b[A\n",
      "\n",
      "  0%|          | 0/1 [00:00<?, ?it/s]\u001b[A\u001b[A\n",
      "\n",
      "100%|██████████| 1/1 [00:00<00:00,  1.63it/s]\u001b[A\u001b[A\n",
      "\n",
      "  5%|▍         | 470/10000 [12:11<3:28:27,  1.31s/it]\u001b[A\n",
      "\n",
      "  0%|          | 0/1 [00:00<?, ?it/s]\u001b[A\u001b[A\n",
      "\n",
      "100%|██████████| 1/1 [00:01<00:00,  1.02s/it]\u001b[A\u001b[A\n",
      "\n",
      "  5%|▍         | 471/10000 [12:12<3:36:32,  1.36s/it]\u001b[A\n",
      "\n",
      "  0%|          | 0/1 [00:00<?, ?it/s]\u001b[A\u001b[A\n",
      "\n",
      "100%|██████████| 1/1 [00:01<00:00,  1.01s/it]\u001b[A\u001b[A\n",
      "\n",
      "  5%|▍         | 472/10000 [12:14<3:42:29,  1.40s/it]\u001b[A\n",
      "\n",
      "  0%|          | 0/1 [00:00<?, ?it/s]\u001b[A\u001b[A\n",
      "\n",
      "100%|██████████| 1/1 [00:01<00:00,  1.06s/it]\u001b[A\u001b[A\n",
      "\n",
      "  5%|▍         | 473/10000 [12:15<3:48:28,  1.44s/it]\u001b[A\n",
      "\n",
      "  0%|          | 0/1 [00:00<?, ?it/s]\u001b[A\u001b[A\n",
      "\n",
      "100%|██████████| 1/1 [00:00<00:00,  1.10it/s]\u001b[A\u001b[A\n",
      "\n",
      "  5%|▍         | 474/10000 [12:16<3:43:44,  1.41s/it]\u001b[A\n",
      "\n",
      "  0%|          | 0/1 [00:00<?, ?it/s]\u001b[A\u001b[A\n",
      "\n",
      "100%|██████████| 1/1 [00:00<00:00,  1.14it/s]\u001b[A\u001b[A\n",
      "\n",
      "  5%|▍         | 475/10000 [12:18<3:39:36,  1.38s/it]\u001b[A\n",
      "\n",
      "  0%|          | 0/1 [00:00<?, ?it/s]\u001b[A\u001b[A\n",
      "\n",
      "100%|██████████| 1/1 [00:01<00:00,  1.07s/it]\u001b[A\u001b[A\n",
      "\n",
      "  5%|▍         | 476/10000 [12:19<3:46:04,  1.42s/it]\u001b[A\n",
      "\n",
      "  0%|          | 0/1 [00:00<?, ?it/s]\u001b[A\u001b[A\n",
      "\n",
      "100%|██████████| 1/1 [00:01<00:00,  1.03s/it]\u001b[A\u001b[A\n",
      "\n",
      "  5%|▍         | 477/10000 [12:21<3:48:21,  1.44s/it]\u001b[A\n",
      "\n",
      "  0%|          | 0/1 [00:00<?, ?it/s]\u001b[A\u001b[A\n",
      "\n",
      "100%|██████████| 1/1 [00:00<00:00,  1.22it/s]\u001b[A\u001b[A\n",
      "\n",
      "  5%|▍         | 478/10000 [12:22<3:31:12,  1.33s/it]\u001b[A\n",
      "\n",
      "  0%|          | 0/1 [00:00<?, ?it/s]\u001b[A\u001b[A\n",
      "\n",
      "100%|██████████| 1/1 [00:01<00:00,  1.20s/it]\u001b[A\u001b[A\n",
      "\n",
      "  5%|▍         | 479/10000 [12:23<3:47:46,  1.44s/it]\u001b[A\n",
      "\n",
      "  0%|          | 0/1 [00:00<?, ?it/s]\u001b[A\u001b[A\n",
      "\n",
      "100%|██████████| 1/1 [00:01<00:00,  1.12s/it]\u001b[A\u001b[A\n",
      "\n",
      "  5%|▍         | 480/10000 [12:25<3:53:33,  1.47s/it]\u001b[A\n",
      "\n",
      "  0%|          | 0/1 [00:00<?, ?it/s]\u001b[A\u001b[A\n",
      "\n",
      "100%|██████████| 1/1 [00:01<00:00,  1.01s/it]\u001b[A\u001b[A\n",
      "\n",
      "  5%|▍         | 481/10000 [12:26<3:52:45,  1.47s/it]\u001b[A\n",
      "\n",
      "  0%|          | 0/1 [00:00<?, ?it/s]\u001b[A\u001b[A\n",
      "\n",
      "100%|██████████| 1/1 [00:01<00:00,  1.01s/it]\u001b[A\u001b[A\n",
      "\n",
      "  5%|▍         | 482/10000 [12:28<3:52:11,  1.46s/it]\u001b[A\n",
      "\n",
      "  0%|          | 0/1 [00:00<?, ?it/s]\u001b[A\u001b[A\n",
      "\n",
      "100%|██████████| 1/1 [00:01<00:00,  1.03s/it]\u001b[A\u001b[A\n",
      "\n",
      "  5%|▍         | 483/10000 [12:29<3:52:40,  1.47s/it]\u001b[A\n",
      "\n",
      "  0%|          | 0/1 [00:00<?, ?it/s]\u001b[A\u001b[A\n",
      "\n",
      "100%|██████████| 1/1 [00:00<00:00,  1.86it/s]\u001b[A\u001b[A\n",
      "\n",
      "  5%|▍         | 484/10000 [12:30<3:19:25,  1.26s/it]\u001b[A\n",
      "\n",
      "  0%|          | 0/1 [00:00<?, ?it/s]\u001b[A\u001b[A\n",
      "\n",
      "100%|██████████| 1/1 [00:00<00:00,  1.22it/s]\u001b[A\u001b[A\n",
      "\n",
      "  5%|▍         | 485/10000 [12:31<3:20:38,  1.27s/it]\u001b[A\n",
      "\n",
      "  0%|          | 0/1 [00:00<?, ?it/s]\u001b[A\u001b[A\n",
      "\n",
      "100%|██████████| 1/1 [00:01<00:00,  1.01s/it]\u001b[A\u001b[A\n",
      "\n",
      "  5%|▍         | 486/10000 [12:33<3:26:50,  1.30s/it]\u001b[A\n",
      "\n",
      "  0%|          | 0/1 [00:00<?, ?it/s]\u001b[A\u001b[A\n",
      "\n",
      "100%|██████████| 1/1 [00:00<00:00,  1.00it/s]\u001b[A\u001b[A\n",
      "\n",
      "  5%|▍         | 487/10000 [12:34<3:33:52,  1.35s/it]\u001b[A\n",
      "\n",
      "  0%|          | 0/1 [00:00<?, ?it/s]\u001b[A\u001b[A\n",
      "\n",
      "100%|██████████| 1/1 [00:00<00:00,  1.05it/s]\u001b[A\u001b[A\n",
      "\n",
      "  5%|▍         | 488/10000 [12:36<3:34:40,  1.35s/it]\u001b[A\n",
      "\n",
      "  0%|          | 0/1 [00:00<?, ?it/s]\u001b[A\u001b[A\n",
      "\n",
      "100%|██████████| 1/1 [00:01<00:00,  1.03s/it]\u001b[A\u001b[A\n",
      "\n",
      "  5%|▍         | 489/10000 [12:37<3:42:03,  1.40s/it]\u001b[A\n",
      "\n",
      "  0%|          | 0/1 [00:00<?, ?it/s]\u001b[A\u001b[A\n",
      "\n",
      "100%|██████████| 1/1 [00:00<00:00,  1.00it/s]\u001b[A\u001b[A\n",
      "\n",
      "  5%|▍         | 490/10000 [12:39<3:50:28,  1.45s/it]\u001b[A\n",
      "\n",
      "  0%|          | 0/1 [00:00<?, ?it/s]\u001b[A\u001b[A\n",
      "\n",
      "100%|██████████| 1/1 [00:00<00:00,  1.02it/s]\u001b[A\u001b[A\n",
      "\n",
      "  5%|▍         | 491/10000 [12:40<3:49:59,  1.45s/it]\u001b[A\n",
      "\n",
      "  0%|          | 0/1 [00:00<?, ?it/s]\u001b[A\u001b[A\n",
      "\n",
      "100%|██████████| 1/1 [00:00<00:00,  1.03it/s]\u001b[A\u001b[A\n",
      "\n",
      "  5%|▍         | 492/10000 [12:42<3:48:10,  1.44s/it]\u001b[A\n",
      "\n",
      "  0%|          | 0/1 [00:00<?, ?it/s]\u001b[A\u001b[A\n",
      "\n",
      "100%|██████████| 1/1 [00:00<00:00,  1.62it/s]\u001b[A\u001b[A\n",
      "\n",
      "  5%|▍         | 493/10000 [12:42<3:20:00,  1.26s/it]\u001b[A\n",
      "\n",
      "  0%|          | 0/1 [00:00<?, ?it/s]\u001b[A\u001b[A\n",
      "\n",
      "100%|██████████| 1/1 [00:00<00:00,  2.23it/s]\u001b[A\u001b[A\n",
      "\n",
      "  5%|▍         | 494/10000 [12:43<2:52:50,  1.09s/it]\u001b[A\n",
      "\n",
      "  0%|          | 0/1 [00:00<?, ?it/s]\u001b[A\u001b[A\n",
      "\n",
      "100%|██████████| 1/1 [00:00<00:00,  2.24it/s]\u001b[A\u001b[A\n",
      "\n",
      "  5%|▍         | 495/10000 [12:44<2:33:48,  1.03it/s]\u001b[A\n",
      "\n",
      "  0%|          | 0/1 [00:00<?, ?it/s]\u001b[A\u001b[A\n",
      "\n",
      "100%|██████████| 1/1 [00:00<00:00,  1.41it/s]\u001b[A\u001b[A\n",
      "\n",
      "  5%|▍         | 496/10000 [12:45<2:39:43,  1.01s/it]\u001b[A\n",
      "\n",
      "  0%|          | 0/1 [00:00<?, ?it/s]\u001b[A\u001b[A\n",
      "\n",
      "100%|██████████| 1/1 [00:00<00:00,  2.11it/s]\u001b[A\u001b[A\n",
      "\n",
      "  5%|▍         | 497/10000 [12:46<2:24:49,  1.09it/s]\u001b[A\n",
      "\n",
      "  0%|          | 0/1 [00:00<?, ?it/s]\u001b[A\u001b[A\n",
      "\n",
      "100%|██████████| 1/1 [00:00<00:00,  2.27it/s]\u001b[A\u001b[A\n"
     ]
    },
    {
     "name": "stdout",
     "output_type": "stream",
     "text": [
      "\n",
      "Epoch: 498, Loss: 0.3617, Val: 0.6772, Test: 0.6734\n"
     ]
    },
    {
     "name": "stderr",
     "output_type": "stream",
     "text": [
      "\n",
      "  5%|▍         | 498/10000 [12:47<2:27:52,  1.07it/s]\u001b[A\n",
      "\n",
      "  0%|          | 0/1 [00:00<?, ?it/s]\u001b[A\u001b[A\n",
      "\n",
      "100%|██████████| 1/1 [00:00<00:00,  2.18it/s]\u001b[A\u001b[A\n",
      "\n",
      "  5%|▍         | 499/10000 [12:47<2:17:18,  1.15it/s]\u001b[A\n",
      "\n",
      "  0%|          | 0/1 [00:00<?, ?it/s]\u001b[A\u001b[A\n",
      "\n",
      "100%|██████████| 1/1 [00:00<00:00,  1.97it/s]\u001b[A\u001b[A\n"
     ]
    },
    {
     "name": "stdout",
     "output_type": "stream",
     "text": [
      "\n",
      "Epoch: 500, Loss: 0.3612, Val: 0.6774, Test: 0.6724\n"
     ]
    },
    {
     "name": "stderr",
     "output_type": "stream",
     "text": [
      "\n",
      "  5%|▌         | 500/10000 [12:49<2:51:36,  1.08s/it]\u001b[A\n",
      "\n",
      "  0%|          | 0/1 [00:00<?, ?it/s]\u001b[A\u001b[A\n",
      "\n",
      "100%|██████████| 1/1 [00:01<00:00,  1.01s/it]\u001b[A\u001b[A\n"
     ]
    },
    {
     "name": "stdout",
     "output_type": "stream",
     "text": [
      "\n",
      "Epoch: 501, Loss: 0.3611, Val: 0.6779, Test: 0.6722\n"
     ]
    },
    {
     "name": "stderr",
     "output_type": "stream",
     "text": [
      "\n",
      "  5%|▌         | 501/10000 [12:51<3:35:00,  1.36s/it]\u001b[A\n",
      "\n",
      "  0%|          | 0/1 [00:00<?, ?it/s]\u001b[A\u001b[A\n",
      "\n",
      "100%|██████████| 1/1 [00:00<00:00,  1.03it/s]\u001b[A\u001b[A\n",
      "\n",
      "  5%|▌         | 502/10000 [12:52<3:38:15,  1.38s/it]\u001b[A\n",
      "\n",
      "  0%|          | 0/1 [00:00<?, ?it/s]\u001b[A\u001b[A\n",
      "\n",
      "100%|██████████| 1/1 [00:00<00:00,  1.01it/s]\u001b[A\u001b[A\n",
      "\n",
      "  5%|▌         | 503/10000 [12:54<3:43:40,  1.41s/it]\u001b[A\n",
      "\n",
      "  0%|          | 0/1 [00:00<?, ?it/s]\u001b[A\u001b[A\n",
      "\n",
      "100%|██████████| 1/1 [00:01<00:00,  1.02s/it]\u001b[A\u001b[A\n",
      "\n",
      "  5%|▌         | 504/10000 [12:55<3:46:19,  1.43s/it]\u001b[A\n",
      "\n",
      "  0%|          | 0/1 [00:00<?, ?it/s]\u001b[A\u001b[A\n",
      "\n",
      "100%|██████████| 1/1 [00:00<00:00,  1.61it/s]\u001b[A\u001b[A\n",
      "\n",
      "  5%|▌         | 505/10000 [12:56<3:19:11,  1.26s/it]\u001b[A\n",
      "\n",
      "  0%|          | 0/1 [00:00<?, ?it/s]\u001b[A\u001b[A\n",
      "\n",
      "100%|██████████| 1/1 [00:00<00:00,  2.16it/s]\u001b[A\u001b[A\n",
      "\n",
      "  5%|▌         | 506/10000 [12:57<3:00:36,  1.14s/it]\u001b[A\n",
      "\n",
      "  0%|          | 0/1 [00:00<?, ?it/s]\u001b[A\u001b[A\n",
      "\n",
      "100%|██████████| 1/1 [00:00<00:00,  1.04it/s]\u001b[A\u001b[A\n",
      "\n",
      "  5%|▌         | 507/10000 [12:58<3:14:21,  1.23s/it]\u001b[A\n",
      "\n",
      "  0%|          | 0/1 [00:00<?, ?it/s]\u001b[A\u001b[A\n",
      "\n",
      "100%|██████████| 1/1 [00:00<00:00,  1.05it/s]\u001b[A\u001b[A\n",
      "\n",
      "  5%|▌         | 508/10000 [13:00<3:21:27,  1.27s/it]\u001b[A\n",
      "\n",
      "  0%|          | 0/1 [00:00<?, ?it/s]\u001b[A\u001b[A\n",
      "\n",
      "100%|██████████| 1/1 [00:00<00:00,  1.05it/s]\u001b[A\u001b[A\n",
      "\n",
      "  5%|▌         | 509/10000 [13:01<3:25:50,  1.30s/it]\u001b[A\n",
      "\n",
      "  0%|          | 0/1 [00:00<?, ?it/s]\u001b[A\u001b[A\n",
      "\n",
      "100%|██████████| 1/1 [00:00<00:00,  1.07it/s]\u001b[A\u001b[A\n",
      "\n",
      "  5%|▌         | 510/10000 [13:03<3:29:45,  1.33s/it]\u001b[A\n",
      "\n",
      "  0%|          | 0/1 [00:00<?, ?it/s]\u001b[A\u001b[A\n",
      "\n",
      "100%|██████████| 1/1 [00:00<00:00,  1.60it/s]\u001b[A\u001b[A\n",
      "\n",
      "  5%|▌         | 511/10000 [13:04<3:18:51,  1.26s/it]\u001b[A\n",
      "\n",
      "  0%|          | 0/1 [00:00<?, ?it/s]\u001b[A\u001b[A\n",
      "\n",
      "100%|██████████| 1/1 [00:00<00:00,  1.01it/s]\u001b[A\u001b[A\n",
      "\n",
      "  5%|▌         | 512/10000 [13:05<3:27:20,  1.31s/it]\u001b[A\n",
      "\n",
      "  0%|          | 0/1 [00:00<?, ?it/s]\u001b[A\u001b[A\n",
      "\n",
      "100%|██████████| 1/1 [00:01<00:00,  1.03s/it]\u001b[A\u001b[A\n"
     ]
    },
    {
     "name": "stdout",
     "output_type": "stream",
     "text": [
      "\n",
      "Epoch: 513, Loss: 0.3591, Val: 0.6780, Test: 0.6724\n"
     ]
    },
    {
     "name": "stderr",
     "output_type": "stream",
     "text": [
      "\n",
      "  5%|▌         | 513/10000 [13:07<3:53:38,  1.48s/it]\u001b[A\n",
      "\n",
      "  0%|          | 0/1 [00:00<?, ?it/s]\u001b[A\u001b[A\n",
      "\n",
      "100%|██████████| 1/1 [00:00<00:00,  1.29it/s]\u001b[A\u001b[A\n"
     ]
    },
    {
     "name": "stdout",
     "output_type": "stream",
     "text": [
      "\n",
      "Epoch: 514, Loss: 0.3595, Val: 0.6780, Test: 0.6726\n"
     ]
    },
    {
     "name": "stderr",
     "output_type": "stream",
     "text": [
      "\n",
      "  5%|▌         | 514/10000 [13:09<4:09:43,  1.58s/it]\u001b[A\n",
      "\n",
      "  0%|          | 0/1 [00:00<?, ?it/s]\u001b[A\u001b[A\n",
      "\n",
      "100%|██████████| 1/1 [00:01<00:00,  1.03s/it]\u001b[A\u001b[A\n",
      "\n",
      "  5%|▌         | 515/10000 [13:10<4:05:11,  1.55s/it]\u001b[A\n",
      "\n",
      "  0%|          | 0/1 [00:00<?, ?it/s]\u001b[A\u001b[A\n",
      "\n",
      "100%|██████████| 1/1 [00:01<00:00,  1.03s/it]\u001b[A\u001b[A\n"
     ]
    },
    {
     "name": "stdout",
     "output_type": "stream",
     "text": [
      "\n",
      "Epoch: 516, Loss: 0.3589, Val: 0.6785, Test: 0.6727\n"
     ]
    },
    {
     "name": "stderr",
     "output_type": "stream",
     "text": [
      "\n",
      "  5%|▌         | 516/10000 [13:12<4:29:42,  1.71s/it]\u001b[A\n",
      "\n",
      "  0%|          | 0/1 [00:00<?, ?it/s]\u001b[A\u001b[A\n",
      "\n",
      "100%|██████████| 1/1 [00:00<00:00,  1.02it/s]\u001b[A\u001b[A\n",
      "\n",
      "  5%|▌         | 517/10000 [13:14<4:15:53,  1.62s/it]\u001b[A\n",
      "\n",
      "  0%|          | 0/1 [00:00<?, ?it/s]\u001b[A\u001b[A\n",
      "\n",
      "100%|██████████| 1/1 [00:01<00:00,  1.06s/it]\u001b[A\u001b[A\n"
     ]
    },
    {
     "name": "stdout",
     "output_type": "stream",
     "text": [
      "\n",
      "Epoch: 518, Loss: 0.3586, Val: 0.6785, Test: 0.6729\n"
     ]
    },
    {
     "name": "stderr",
     "output_type": "stream",
     "text": [
      "\n",
      "  5%|▌         | 518/10000 [13:15<4:15:14,  1.62s/it]\u001b[A\n",
      "\n",
      "  0%|          | 0/1 [00:00<?, ?it/s]\u001b[A\u001b[A\n",
      "\n",
      "100%|██████████| 1/1 [00:00<00:00,  2.27it/s]\u001b[A\u001b[A\n",
      "\n",
      "  5%|▌         | 519/10000 [13:16<3:41:33,  1.40s/it]\u001b[A\n",
      "\n",
      "  0%|          | 0/1 [00:00<?, ?it/s]\u001b[A\u001b[A\n",
      "\n",
      "100%|██████████| 1/1 [00:00<00:00,  1.12it/s]\u001b[A\u001b[A\n",
      "\n",
      "  5%|▌         | 520/10000 [13:18<3:36:15,  1.37s/it]\u001b[A\n",
      "\n",
      "  0%|          | 0/1 [00:00<?, ?it/s]\u001b[A\u001b[A\n",
      "\n",
      "100%|██████████| 1/1 [00:00<00:00,  1.12it/s]\u001b[A\u001b[A\n",
      "\n",
      "  5%|▌         | 521/10000 [13:19<3:34:25,  1.36s/it]\u001b[A\n",
      "\n",
      "  0%|          | 0/1 [00:00<?, ?it/s]\u001b[A\u001b[A\n",
      "\n",
      "100%|██████████| 1/1 [00:00<00:00,  1.05it/s]\u001b[A\u001b[A\n",
      "\n",
      "  5%|▌         | 522/10000 [13:20<3:35:04,  1.36s/it]\u001b[A\n",
      "\n",
      "  0%|          | 0/1 [00:00<?, ?it/s]\u001b[A\u001b[A\n",
      "\n",
      "100%|██████████| 1/1 [00:00<00:00,  1.07it/s]\u001b[A\u001b[A\n",
      "\n",
      "  5%|▌         | 523/10000 [13:22<3:38:14,  1.38s/it]\u001b[A\n",
      "\n",
      "  0%|          | 0/1 [00:00<?, ?it/s]\u001b[A\u001b[A\n",
      "\n",
      "100%|██████████| 1/1 [00:01<00:00,  1.13s/it]\u001b[A\u001b[A\n",
      "\n",
      "  5%|▌         | 524/10000 [13:23<3:47:23,  1.44s/it]\u001b[A\n",
      "\n",
      "  0%|          | 0/1 [00:00<?, ?it/s]\u001b[A\u001b[A\n",
      "\n",
      "100%|██████████| 1/1 [00:01<00:00,  1.03s/it]\u001b[A\u001b[A\n",
      "\n",
      "  5%|▌         | 525/10000 [13:25<3:48:45,  1.45s/it]\u001b[A\n",
      "\n",
      "  0%|          | 0/1 [00:00<?, ?it/s]\u001b[A\u001b[A\n",
      "\n",
      "100%|██████████| 1/1 [00:00<00:00,  1.02it/s]\u001b[A\u001b[A\n",
      "\n",
      "  5%|▌         | 526/10000 [13:26<3:44:17,  1.42s/it]\u001b[A\n",
      "\n",
      "  0%|          | 0/1 [00:00<?, ?it/s]\u001b[A\u001b[A\n",
      "\n",
      "100%|██████████| 1/1 [00:00<00:00,  1.03it/s]\u001b[A\u001b[A\n",
      "\n",
      "  5%|▌         | 527/10000 [13:27<3:34:39,  1.36s/it]\u001b[A\n",
      "\n",
      "  0%|          | 0/1 [00:00<?, ?it/s]\u001b[A\u001b[A\n",
      "\n",
      "100%|██████████| 1/1 [00:00<00:00,  1.59it/s]\u001b[A\u001b[A\n",
      "\n",
      "  5%|▌         | 528/10000 [13:28<3:16:00,  1.24s/it]\u001b[A\n",
      "\n",
      "  0%|          | 0/1 [00:00<?, ?it/s]\u001b[A\u001b[A\n",
      "\n",
      "100%|██████████| 1/1 [00:00<00:00,  1.60it/s]\u001b[A\u001b[A\n",
      "\n",
      "  5%|▌         | 529/10000 [13:29<3:00:13,  1.14s/it]\u001b[A\n",
      "\n",
      "  0%|          | 0/1 [00:00<?, ?it/s]\u001b[A\u001b[A\n",
      "\n",
      "100%|██████████| 1/1 [00:00<00:00,  1.12it/s]\u001b[A\u001b[A\n",
      "\n",
      "  5%|▌         | 530/10000 [13:30<3:04:19,  1.17s/it]\u001b[A\n",
      "\n",
      "  0%|          | 0/1 [00:00<?, ?it/s]\u001b[A\u001b[A\n",
      "\n",
      "100%|██████████| 1/1 [00:00<00:00,  2.02it/s]\u001b[A\u001b[A\n",
      "\n",
      "  5%|▌         | 531/10000 [13:31<2:45:07,  1.05s/it]\u001b[A\n",
      "\n",
      "  0%|          | 0/1 [00:00<?, ?it/s]\u001b[A\u001b[A\n",
      "\n",
      "100%|██████████| 1/1 [00:00<00:00,  1.57it/s]\u001b[A\u001b[A\n",
      "\n",
      "  5%|▌         | 532/10000 [13:32<2:36:52,  1.01it/s]\u001b[A\n",
      "\n",
      "  0%|          | 0/1 [00:00<?, ?it/s]\u001b[A\u001b[A\n",
      "\n",
      "100%|██████████| 1/1 [00:00<00:00,  1.70it/s]\u001b[A\u001b[A\n",
      "\n",
      "  5%|▌         | 533/10000 [13:33<2:30:47,  1.05it/s]\u001b[A\n",
      "\n",
      "  0%|          | 0/1 [00:00<?, ?it/s]\u001b[A\u001b[A\n",
      "\n",
      "100%|██████████| 1/1 [00:00<00:00,  1.20it/s]\u001b[A\u001b[A\n",
      "\n",
      "  5%|▌         | 534/10000 [13:34<2:47:12,  1.06s/it]\u001b[A\n",
      "\n",
      "  0%|          | 0/1 [00:00<?, ?it/s]\u001b[A\u001b[A\n",
      "\n",
      "100%|██████████| 1/1 [00:01<00:00,  1.01s/it]\u001b[A\u001b[A\n",
      "\n",
      "  5%|▌         | 535/10000 [13:36<3:07:14,  1.19s/it]\u001b[A\n",
      "\n",
      "  0%|          | 0/1 [00:00<?, ?it/s]\u001b[A\u001b[A\n",
      "\n",
      "100%|██████████| 1/1 [00:00<00:00,  1.06it/s]\u001b[A\u001b[A\n",
      "\n",
      "  5%|▌         | 536/10000 [13:37<3:14:48,  1.24s/it]\u001b[A\n",
      "\n",
      "  0%|          | 0/1 [00:00<?, ?it/s]\u001b[A\u001b[A\n",
      "\n",
      "100%|██████████| 1/1 [00:01<00:00,  1.03s/it]\u001b[A\u001b[A\n",
      "\n",
      "  5%|▌         | 537/10000 [13:39<3:26:17,  1.31s/it]\u001b[A\n",
      "\n",
      "  0%|          | 0/1 [00:00<?, ?it/s]\u001b[A\u001b[A\n",
      "\n",
      "100%|██████████| 1/1 [00:01<00:00,  1.61s/it]\u001b[A\u001b[A\n",
      "\n",
      "  5%|▌         | 538/10000 [13:41<4:07:36,  1.57s/it]\u001b[A\n",
      "\n",
      "  0%|          | 0/1 [00:00<?, ?it/s]\u001b[A\u001b[A\n",
      "\n",
      "100%|██████████| 1/1 [00:00<00:00,  1.06it/s]\u001b[A\u001b[A\n",
      "\n",
      "  5%|▌         | 539/10000 [13:42<3:49:08,  1.45s/it]\u001b[A\n",
      "\n",
      "  0%|          | 0/1 [00:00<?, ?it/s]\u001b[A\u001b[A\n",
      "\n",
      "100%|██████████| 1/1 [00:00<00:00,  1.99it/s]\u001b[A\u001b[A\n",
      "\n",
      "  5%|▌         | 540/10000 [13:43<3:14:53,  1.24s/it]\u001b[A\n",
      "\n",
      "  0%|          | 0/1 [00:00<?, ?it/s]\u001b[A\u001b[A\n",
      "\n",
      "100%|██████████| 1/1 [00:01<00:00,  1.02s/it]\u001b[A\u001b[A\n",
      "\n",
      "  5%|▌         | 541/10000 [13:44<3:25:44,  1.31s/it]\u001b[A\n",
      "\n",
      "  0%|          | 0/1 [00:00<?, ?it/s]\u001b[A\u001b[A\n",
      "\n",
      "100%|██████████| 1/1 [00:00<00:00,  1.01it/s]\u001b[A\u001b[A\n",
      "\n",
      "  5%|▌         | 542/10000 [13:46<3:29:35,  1.33s/it]\u001b[A\n",
      "\n",
      "  0%|          | 0/1 [00:00<?, ?it/s]\u001b[A\u001b[A\n",
      "\n",
      "100%|██████████| 1/1 [00:00<00:00,  1.06it/s]\u001b[A\u001b[A\n",
      "\n",
      "  5%|▌         | 543/10000 [13:47<3:32:52,  1.35s/it]\u001b[A\n",
      "\n",
      "  0%|          | 0/1 [00:00<?, ?it/s]\u001b[A\u001b[A\n",
      "\n",
      "100%|██████████| 1/1 [00:01<00:00,  1.04s/it]\u001b[A\u001b[A\n",
      "\n",
      "  5%|▌         | 544/10000 [13:48<3:40:27,  1.40s/it]\u001b[A\n",
      "\n",
      "  0%|          | 0/1 [00:00<?, ?it/s]\u001b[A\u001b[A\n",
      "\n",
      "100%|██████████| 1/1 [00:01<00:00,  1.02s/it]\u001b[A\u001b[A\n",
      "\n",
      "  5%|▌         | 545/10000 [13:50<3:44:55,  1.43s/it]\u001b[A\n",
      "\n",
      "  0%|          | 0/1 [00:00<?, ?it/s]\u001b[A\u001b[A\n",
      "\n",
      "100%|██████████| 1/1 [00:01<00:00,  1.23s/it]\u001b[A\u001b[A\n",
      "\n",
      "  5%|▌         | 546/10000 [13:52<3:57:22,  1.51s/it]\u001b[A\n",
      "\n",
      "  0%|          | 0/1 [00:00<?, ?it/s]\u001b[A\u001b[A\n",
      "\n",
      "100%|██████████| 1/1 [00:01<00:00,  1.15s/it]\u001b[A\u001b[A\n",
      "\n",
      "  5%|▌         | 547/10000 [13:53<4:06:17,  1.56s/it]\u001b[A\n",
      "\n",
      "  0%|          | 0/1 [00:00<?, ?it/s]\u001b[A\u001b[A\n",
      "\n",
      "100%|██████████| 1/1 [00:01<00:00,  1.07s/it]\u001b[A\u001b[A\n",
      "\n",
      "  5%|▌         | 548/10000 [13:55<3:56:50,  1.50s/it]\u001b[A\n",
      "\n",
      "  0%|          | 0/1 [00:00<?, ?it/s]\u001b[A\u001b[A\n",
      "\n",
      "100%|██████████| 1/1 [00:01<00:00,  1.22s/it]\u001b[A\u001b[A\n",
      "\n",
      "  5%|▌         | 549/10000 [13:56<4:08:37,  1.58s/it]\u001b[A\n",
      "\n",
      "  0%|          | 0/1 [00:00<?, ?it/s]\u001b[A\u001b[A\n",
      "\n",
      "100%|██████████| 1/1 [00:01<00:00,  1.04s/it]\u001b[A\u001b[A\n",
      "\n",
      "  6%|▌         | 550/10000 [13:58<4:07:01,  1.57s/it]\u001b[A\n",
      "\n",
      "  0%|          | 0/1 [00:00<?, ?it/s]\u001b[A\u001b[A\n",
      "\n",
      "100%|██████████| 1/1 [00:01<00:00,  1.87s/it]\u001b[A\u001b[A\n",
      "\n",
      "  6%|▌         | 551/10000 [14:00<4:48:04,  1.83s/it]\u001b[A\n",
      "\n",
      "  0%|          | 0/1 [00:00<?, ?it/s]\u001b[A\u001b[A\n",
      "\n",
      "100%|██████████| 1/1 [00:01<00:00,  1.22s/it]\u001b[A\u001b[A\n",
      "\n",
      "  6%|▌         | 552/10000 [14:02<4:40:26,  1.78s/it]\u001b[A\n",
      "\n",
      "  0%|          | 0/1 [00:00<?, ?it/s]\u001b[A\u001b[A\n",
      "\n",
      "100%|██████████| 1/1 [00:01<00:00,  1.06s/it]\u001b[A\u001b[A\n",
      "\n",
      "  6%|▌         | 553/10000 [14:03<4:18:27,  1.64s/it]\u001b[A\n",
      "\n",
      "  0%|          | 0/1 [00:00<?, ?it/s]\u001b[A\u001b[A\n",
      "\n",
      "100%|██████████| 1/1 [00:00<00:00,  1.98it/s]\u001b[A\u001b[A\n"
     ]
    },
    {
     "name": "stdout",
     "output_type": "stream",
     "text": [
      "\n",
      "Epoch: 554, Loss: 0.3548, Val: 0.6786, Test: 0.6711\n"
     ]
    },
    {
     "name": "stderr",
     "output_type": "stream",
     "text": [
      "\n",
      "  6%|▌         | 554/10000 [14:04<3:52:11,  1.47s/it]\u001b[A\n",
      "\n",
      "  0%|          | 0/1 [00:00<?, ?it/s]\u001b[A\u001b[A\n",
      "\n",
      "100%|██████████| 1/1 [00:00<00:00,  1.64it/s]\u001b[A\u001b[A\n",
      "\n",
      "  6%|▌         | 555/10000 [14:05<3:26:21,  1.31s/it]\u001b[A\n",
      "\n",
      "  0%|          | 0/1 [00:00<?, ?it/s]\u001b[A\u001b[A\n",
      "\n",
      "100%|██████████| 1/1 [00:01<00:00,  1.05s/it]\u001b[A\u001b[A\n",
      "\n",
      "  6%|▌         | 556/10000 [14:07<3:36:55,  1.38s/it]\u001b[A\n",
      "\n",
      "  0%|          | 0/1 [00:00<?, ?it/s]\u001b[A\u001b[A\n",
      "\n",
      "100%|██████████| 1/1 [00:01<00:00,  1.18s/it]\u001b[A\u001b[A\n",
      "\n",
      "  6%|▌         | 557/10000 [14:09<3:49:55,  1.46s/it]\u001b[A\n",
      "\n",
      "  0%|          | 0/1 [00:00<?, ?it/s]\u001b[A\u001b[A\n",
      "\n",
      "100%|██████████| 1/1 [00:01<00:00,  1.06s/it]\u001b[A\u001b[A\n"
     ]
    },
    {
     "name": "stdout",
     "output_type": "stream",
     "text": [
      "\n",
      "Epoch: 558, Loss: 0.3541, Val: 0.6792, Test: 0.6701\n"
     ]
    },
    {
     "name": "stderr",
     "output_type": "stream",
     "text": [
      "\n",
      "  6%|▌         | 558/10000 [14:11<4:22:21,  1.67s/it]\u001b[A\n",
      "\n",
      "  0%|          | 0/1 [00:00<?, ?it/s]\u001b[A\u001b[A\n",
      "\n",
      "100%|██████████| 1/1 [00:01<00:00,  1.47s/it]\u001b[A\u001b[A\n"
     ]
    },
    {
     "name": "stdout",
     "output_type": "stream",
     "text": [
      "\n",
      "Epoch: 559, Loss: 0.3541, Val: 0.6796, Test: 0.6697\n"
     ]
    },
    {
     "name": "stderr",
     "output_type": "stream",
     "text": [
      "\n",
      "  6%|▌         | 559/10000 [14:13<5:07:26,  1.95s/it]\u001b[A\n",
      "\n",
      "  0%|          | 0/1 [00:00<?, ?it/s]\u001b[A\u001b[A\n",
      "\n",
      "100%|██████████| 1/1 [00:01<00:00,  1.18s/it]\u001b[A\u001b[A\n",
      "\n",
      "  6%|▌         | 560/10000 [14:15<4:59:59,  1.91s/it]\u001b[A\n",
      "\n",
      "  0%|          | 0/1 [00:00<?, ?it/s]\u001b[A\u001b[A\n",
      "\n",
      "100%|██████████| 1/1 [00:01<00:00,  1.19s/it]\u001b[A\u001b[A\n",
      "\n",
      "  6%|▌         | 561/10000 [14:17<4:49:41,  1.84s/it]\u001b[A\n",
      "\n",
      "  0%|          | 0/1 [00:00<?, ?it/s]\u001b[A\u001b[A\n",
      "\n",
      "100%|██████████| 1/1 [00:01<00:00,  1.27s/it]\u001b[A\u001b[A\n",
      "\n",
      "  6%|▌         | 562/10000 [14:19<4:45:19,  1.81s/it]\u001b[A\n",
      "\n",
      "  0%|          | 0/1 [00:00<?, ?it/s]\u001b[A\u001b[A\n",
      "\n",
      "100%|██████████| 1/1 [00:00<00:00,  1.34it/s]\u001b[A\u001b[A\n",
      "\n",
      "  6%|▌         | 563/10000 [14:20<4:07:01,  1.57s/it]\u001b[A\n",
      "\n",
      "  0%|          | 0/1 [00:00<?, ?it/s]\u001b[A\u001b[A\n",
      "\n",
      "100%|██████████| 1/1 [00:00<00:00,  2.13it/s]\u001b[A\u001b[A\n",
      "\n",
      "  6%|▌         | 564/10000 [14:20<3:26:07,  1.31s/it]\u001b[A\n",
      "\n",
      "  0%|          | 0/1 [00:00<?, ?it/s]\u001b[A\u001b[A\n",
      "\n",
      "100%|██████████| 1/1 [00:00<00:00,  2.07it/s]\u001b[A\u001b[A\n",
      "\n",
      "  6%|▌         | 565/10000 [14:21<2:58:43,  1.14s/it]\u001b[A\n",
      "\n",
      "  0%|          | 0/1 [00:00<?, ?it/s]\u001b[A\u001b[A\n",
      "\n",
      "100%|██████████| 1/1 [00:00<00:00,  1.65it/s]\u001b[A\u001b[A\n",
      "\n",
      "  6%|▌         | 566/10000 [14:22<2:53:59,  1.11s/it]\u001b[A\n",
      "\n",
      "  0%|          | 0/1 [00:00<?, ?it/s]\u001b[A\u001b[A\n",
      "\n",
      "100%|██████████| 1/1 [00:00<00:00,  1.27it/s]\u001b[A\u001b[A\n",
      "\n",
      "  6%|▌         | 567/10000 [14:23<2:51:36,  1.09s/it]\u001b[A\n",
      "\n",
      "  0%|          | 0/1 [00:00<?, ?it/s]\u001b[A\u001b[A\n",
      "\n",
      "100%|██████████| 1/1 [00:00<00:00,  1.78it/s]\u001b[A\u001b[A\n",
      "\n",
      "  6%|▌         | 568/10000 [14:24<2:39:21,  1.01s/it]\u001b[A\n",
      "\n",
      "  0%|          | 0/1 [00:00<?, ?it/s]\u001b[A\u001b[A\n",
      "\n",
      "100%|██████████| 1/1 [00:00<00:00,  1.65it/s]\u001b[A\u001b[A\n",
      "\n",
      "  6%|▌         | 569/10000 [14:25<2:34:58,  1.01it/s]\u001b[A\n",
      "\n",
      "  0%|          | 0/1 [00:00<?, ?it/s]\u001b[A\u001b[A\n",
      "\n",
      "100%|██████████| 1/1 [00:00<00:00,  1.34it/s]\u001b[A\u001b[A\n",
      "\n",
      "  6%|▌         | 570/10000 [14:26<2:37:34,  1.00s/it]\u001b[A\n",
      "\n",
      "  0%|          | 0/1 [00:00<?, ?it/s]\u001b[A\u001b[A\n",
      "\n",
      "100%|██████████| 1/1 [00:00<00:00,  1.47it/s]\u001b[A\u001b[A\n",
      "\n",
      "  6%|▌         | 571/10000 [14:27<2:58:30,  1.14s/it]\u001b[A\n",
      "\n",
      "  0%|          | 0/1 [00:00<?, ?it/s]\u001b[A\u001b[A\n",
      "\n",
      "100%|██████████| 1/1 [00:01<00:00,  1.45s/it]\u001b[A\u001b[A\n",
      "\n",
      "  6%|▌         | 572/10000 [14:29<3:41:43,  1.41s/it]\u001b[A\n",
      "\n",
      "  0%|          | 0/1 [00:00<?, ?it/s]\u001b[A\u001b[A\n",
      "\n",
      "100%|██████████| 1/1 [00:01<00:00,  1.31s/it]\u001b[A\u001b[A\n",
      "\n",
      "  6%|▌         | 573/10000 [14:31<4:03:33,  1.55s/it]\u001b[A\n",
      "\n",
      "  0%|          | 0/1 [00:00<?, ?it/s]\u001b[A\u001b[A\n",
      "\n",
      "100%|██████████| 1/1 [00:01<00:00,  1.24s/it]\u001b[A\u001b[A\n",
      "\n",
      "  6%|▌         | 574/10000 [14:33<4:12:31,  1.61s/it]\u001b[A\n",
      "\n",
      "  0%|          | 0/1 [00:00<?, ?it/s]\u001b[A\u001b[A\n",
      "\n",
      "100%|██████████| 1/1 [00:01<00:00,  1.26s/it]\u001b[A\u001b[A\n",
      "\n",
      "  6%|▌         | 575/10000 [14:35<4:19:35,  1.65s/it]\u001b[A\n",
      "\n",
      "  0%|          | 0/1 [00:00<?, ?it/s]\u001b[A\u001b[A\n",
      "\n",
      "100%|██████████| 1/1 [00:01<00:00,  1.29s/it]\u001b[A\u001b[A\n",
      "\n",
      "  6%|▌         | 576/10000 [14:37<4:31:16,  1.73s/it]\u001b[A\n",
      "\n",
      "  0%|          | 0/1 [00:00<?, ?it/s]\u001b[A\u001b[A\n",
      "\n",
      "100%|██████████| 1/1 [00:01<00:00,  1.28s/it]\u001b[A\u001b[A\n",
      "\n",
      "  6%|▌         | 577/10000 [14:39<4:35:44,  1.76s/it]\u001b[A\n",
      "\n",
      "  0%|          | 0/1 [00:00<?, ?it/s]\u001b[A\u001b[A\n",
      "\n",
      "100%|██████████| 1/1 [00:01<00:00,  1.14s/it]\u001b[A\u001b[A\n",
      "\n",
      "  6%|▌         | 578/10000 [14:40<4:20:52,  1.66s/it]\u001b[A\n",
      "\n",
      "  0%|          | 0/1 [00:00<?, ?it/s]\u001b[A\u001b[A\n",
      "\n",
      "100%|██████████| 1/1 [00:00<00:00,  1.90it/s]\u001b[A\u001b[A\n",
      "\n",
      "  6%|▌         | 579/10000 [14:41<3:40:14,  1.40s/it]\u001b[A\n",
      "\n",
      "  0%|          | 0/1 [00:00<?, ?it/s]\u001b[A\u001b[A\n",
      "\n",
      "100%|██████████| 1/1 [00:01<00:00,  1.09s/it]\u001b[A\u001b[A\n",
      "\n",
      "  6%|▌         | 580/10000 [14:42<3:49:54,  1.46s/it]\u001b[A\n",
      "\n",
      "  0%|          | 0/1 [00:00<?, ?it/s]\u001b[A\u001b[A\n",
      "\n",
      "100%|██████████| 1/1 [00:01<00:00,  1.19s/it]\u001b[A\u001b[A\n",
      "\n",
      "  6%|▌         | 581/10000 [14:44<4:00:35,  1.53s/it]\u001b[A\n",
      "\n",
      "  0%|          | 0/1 [00:00<?, ?it/s]\u001b[A\u001b[A\n",
      "\n",
      "100%|██████████| 1/1 [00:01<00:00,  1.16s/it]\u001b[A\u001b[A\n",
      "\n",
      "  6%|▌         | 582/10000 [14:46<4:07:01,  1.57s/it]\u001b[A\n",
      "\n",
      "  0%|          | 0/1 [00:00<?, ?it/s]\u001b[A\u001b[A\n",
      "\n",
      "100%|██████████| 1/1 [00:01<00:00,  1.27s/it]\u001b[A\u001b[A\n",
      "\n",
      "  6%|▌         | 583/10000 [14:48<4:17:16,  1.64s/it]\u001b[A\n",
      "\n",
      "  0%|          | 0/1 [00:00<?, ?it/s]\u001b[A\u001b[A\n",
      "\n",
      "100%|██████████| 1/1 [00:01<00:00,  1.08s/it]\u001b[A\u001b[A\n",
      "\n",
      "  6%|▌         | 584/10000 [14:49<4:12:27,  1.61s/it]\u001b[A\n",
      "\n",
      "  0%|          | 0/1 [00:00<?, ?it/s]\u001b[A\u001b[A\n",
      "\n",
      "100%|██████████| 1/1 [00:01<00:00,  1.03s/it]\u001b[A\u001b[A\n",
      "\n",
      "  6%|▌         | 585/10000 [14:51<4:10:49,  1.60s/it]\u001b[A\n",
      "\n",
      "  0%|          | 0/1 [00:00<?, ?it/s]\u001b[A\u001b[A\n",
      "\n",
      "100%|██████████| 1/1 [00:01<00:00,  1.19s/it]\u001b[A\u001b[A\n",
      "\n",
      "  6%|▌         | 586/10000 [14:52<4:16:37,  1.64s/it]\u001b[A\n",
      "\n",
      "  0%|          | 0/1 [00:00<?, ?it/s]\u001b[A\u001b[A\n",
      "\n",
      "100%|██████████| 1/1 [00:01<00:00,  1.24s/it]\u001b[A\u001b[A\n",
      "\n",
      "  6%|▌         | 587/10000 [14:54<4:16:38,  1.64s/it]\u001b[A\n",
      "\n",
      "  0%|          | 0/1 [00:00<?, ?it/s]\u001b[A\u001b[A\n",
      "\n",
      "100%|██████████| 1/1 [00:00<00:00,  1.66it/s]\u001b[A\u001b[A\n",
      "\n",
      "  6%|▌         | 588/10000 [14:55<4:01:17,  1.54s/it]\u001b[A\n",
      "\n",
      "  0%|          | 0/1 [00:00<?, ?it/s]\u001b[A\u001b[A\n",
      "\n",
      "100%|██████████| 1/1 [00:01<00:00,  1.24s/it]\u001b[A\u001b[A\n",
      "\n",
      "  6%|▌         | 589/10000 [14:57<4:15:10,  1.63s/it]\u001b[A\n",
      "\n",
      "  0%|          | 0/1 [00:00<?, ?it/s]\u001b[A\u001b[A\n",
      "\n",
      "100%|██████████| 1/1 [00:01<00:00,  1.22s/it]\u001b[A\u001b[A\n",
      "\n",
      "  6%|▌         | 590/10000 [14:59<4:17:17,  1.64s/it]\u001b[A\n",
      "\n",
      "  0%|          | 0/1 [00:00<?, ?it/s]\u001b[A\u001b[A\n",
      "\n",
      "100%|██████████| 1/1 [00:01<00:00,  1.07s/it]\u001b[A\u001b[A\n",
      "\n",
      "  6%|▌         | 591/10000 [15:00<4:13:29,  1.62s/it]\u001b[A\n",
      "\n",
      "  0%|          | 0/1 [00:00<?, ?it/s]\u001b[A\u001b[A\n",
      "\n",
      "100%|██████████| 1/1 [00:01<00:00,  1.22s/it]\u001b[A\u001b[A\n",
      "\n",
      "  6%|▌         | 592/10000 [15:02<4:18:48,  1.65s/it]\u001b[A\n",
      "\n",
      "  0%|          | 0/1 [00:00<?, ?it/s]\u001b[A\u001b[A\n",
      "\n",
      "100%|██████████| 1/1 [00:01<00:00,  1.14s/it]\u001b[A\u001b[A\n",
      "\n",
      "  6%|▌         | 593/10000 [15:04<4:20:01,  1.66s/it]\u001b[A\n",
      "\n",
      "  0%|          | 0/1 [00:00<?, ?it/s]\u001b[A\u001b[A\n",
      "\n",
      "100%|██████████| 1/1 [00:00<00:00,  1.05it/s]\u001b[A\u001b[A\n",
      "\n",
      "  6%|▌         | 594/10000 [15:05<3:59:02,  1.52s/it]\u001b[A\n",
      "\n",
      "  0%|          | 0/1 [00:00<?, ?it/s]\u001b[A\u001b[A\n",
      "\n",
      "100%|██████████| 1/1 [00:00<00:00,  2.06it/s]\u001b[A\u001b[A\n",
      "\n",
      "  6%|▌         | 595/10000 [15:06<3:21:10,  1.28s/it]\u001b[A\n",
      "\n",
      "  0%|          | 0/1 [00:00<?, ?it/s]\u001b[A\u001b[A\n",
      "\n",
      "100%|██████████| 1/1 [00:01<00:00,  1.00s/it]\u001b[A\u001b[A\n",
      "\n",
      "  6%|▌         | 596/10000 [15:07<3:31:22,  1.35s/it]\u001b[A\n",
      "\n",
      "  0%|          | 0/1 [00:00<?, ?it/s]\u001b[A\u001b[A\n",
      "\n",
      "100%|██████████| 1/1 [00:00<00:00,  1.09it/s]\u001b[A\u001b[A\n",
      "\n",
      "  6%|▌         | 597/10000 [15:09<3:34:50,  1.37s/it]\u001b[A\n",
      "\n",
      "  0%|          | 0/1 [00:00<?, ?it/s]\u001b[A\u001b[A\n",
      "\n",
      "100%|██████████| 1/1 [00:01<00:00,  1.16s/it]\u001b[A\u001b[A\n",
      "\n",
      "  6%|▌         | 598/10000 [15:10<3:49:50,  1.47s/it]\u001b[A\n",
      "\n",
      "  0%|          | 0/1 [00:00<?, ?it/s]\u001b[A\u001b[A\n",
      "\n",
      "100%|██████████| 1/1 [00:01<00:00,  1.11s/it]\u001b[A\u001b[A\n",
      "\n",
      "  6%|▌         | 599/10000 [15:12<3:56:32,  1.51s/it]\u001b[A\n",
      "\n",
      "  0%|          | 0/1 [00:00<?, ?it/s]\u001b[A\u001b[A\n",
      "\n",
      "100%|██████████| 1/1 [00:01<00:00,  1.12s/it]\u001b[A\u001b[A\n",
      "\n",
      "  6%|▌         | 600/10000 [15:14<4:00:21,  1.53s/it]\u001b[A\n",
      "\n",
      "  0%|          | 0/1 [00:00<?, ?it/s]\u001b[A\u001b[A\n",
      "\n",
      "100%|██████████| 1/1 [00:01<00:00,  1.10s/it]\u001b[A\u001b[A\n",
      "\n",
      "  6%|▌         | 601/10000 [15:15<4:02:39,  1.55s/it]\u001b[A\n",
      "\n",
      "  0%|          | 0/1 [00:00<?, ?it/s]\u001b[A\u001b[A\n",
      "\n",
      "100%|██████████| 1/1 [00:01<00:00,  1.02s/it]\u001b[A\u001b[A\n",
      "\n",
      "  6%|▌         | 602/10000 [15:17<3:58:04,  1.52s/it]\u001b[A\n",
      "\n",
      "  0%|          | 0/1 [00:00<?, ?it/s]\u001b[A\u001b[A\n",
      "\n",
      "100%|██████████| 1/1 [00:01<00:00,  1.05s/it]\u001b[A\u001b[A\n",
      "\n",
      "  6%|▌         | 603/10000 [15:18<3:59:18,  1.53s/it]\u001b[A\n",
      "\n",
      "  0%|          | 0/1 [00:00<?, ?it/s]\u001b[A\u001b[A\n",
      "\n",
      "100%|██████████| 1/1 [00:00<00:00,  1.03it/s]\u001b[A\u001b[A\n",
      "\n",
      "  6%|▌         | 604/10000 [15:19<3:50:06,  1.47s/it]\u001b[A\n",
      "\n",
      "  0%|          | 0/1 [00:00<?, ?it/s]\u001b[A\u001b[A\n",
      "\n",
      "100%|██████████| 1/1 [00:00<00:00,  2.20it/s]\u001b[A\u001b[A\n",
      "\n",
      "  6%|▌         | 605/10000 [15:20<3:13:23,  1.24s/it]\u001b[A\n",
      "\n",
      "  0%|          | 0/1 [00:00<?, ?it/s]\u001b[A\u001b[A\n",
      "\n",
      "100%|██████████| 1/1 [00:00<00:00,  1.91it/s]\u001b[A\u001b[A\n",
      "\n",
      "  6%|▌         | 606/10000 [15:21<2:51:44,  1.10s/it]\u001b[A\n",
      "\n",
      "  0%|          | 0/1 [00:00<?, ?it/s]\u001b[A\u001b[A\n",
      "\n",
      "100%|██████████| 1/1 [00:00<00:00,  2.01it/s]\u001b[A\u001b[A\n",
      "\n",
      "  6%|▌         | 607/10000 [15:22<2:33:58,  1.02it/s]\u001b[A\n",
      "\n",
      "  0%|          | 0/1 [00:00<?, ?it/s]\u001b[A\u001b[A\n",
      "\n",
      "100%|██████████| 1/1 [00:00<00:00,  1.07it/s]\u001b[A\u001b[A\n",
      "\n",
      "  6%|▌         | 608/10000 [15:23<2:42:55,  1.04s/it]\u001b[A\n",
      "\n",
      "  0%|          | 0/1 [00:00<?, ?it/s]\u001b[A\u001b[A\n",
      "\n",
      "100%|██████████| 1/1 [00:00<00:00,  2.12it/s]\u001b[A\u001b[A\n",
      "\n",
      "  6%|▌         | 609/10000 [15:24<2:27:15,  1.06it/s]\u001b[A\n",
      "\n",
      "  0%|          | 0/1 [00:00<?, ?it/s]\u001b[A\u001b[A\n",
      "\n",
      "100%|██████████| 1/1 [00:00<00:00,  1.97it/s]\u001b[A\u001b[A\n",
      "\n",
      "  6%|▌         | 610/10000 [15:24<2:18:39,  1.13it/s]\u001b[A\n",
      "\n",
      "  0%|          | 0/1 [00:00<?, ?it/s]\u001b[A\u001b[A\n",
      "\n",
      "100%|██████████| 1/1 [00:00<00:00,  2.03it/s]\u001b[A\u001b[A\n",
      "\n",
      "  6%|▌         | 611/10000 [15:25<2:10:30,  1.20it/s]\u001b[A\n",
      "\n",
      "  0%|          | 0/1 [00:00<?, ?it/s]\u001b[A\u001b[A\n",
      "\n",
      "100%|██████████| 1/1 [00:00<00:00,  1.82it/s]\u001b[A\u001b[A\n",
      "\n",
      "  6%|▌         | 612/10000 [15:26<2:08:22,  1.22it/s]\u001b[A\n",
      "\n",
      "  0%|          | 0/1 [00:00<?, ?it/s]\u001b[A\u001b[A\n",
      "\n",
      "100%|██████████| 1/1 [00:01<00:00,  1.07s/it]\u001b[A\u001b[A\n",
      "\n",
      "  6%|▌         | 613/10000 [15:27<2:44:51,  1.05s/it]\u001b[A\n",
      "\n",
      "  0%|          | 0/1 [00:00<?, ?it/s]\u001b[A\u001b[A\n",
      "\n",
      "100%|██████████| 1/1 [00:01<00:00,  1.14s/it]\u001b[A\u001b[A\n",
      "\n",
      "  6%|▌         | 614/10000 [15:29<3:13:48,  1.24s/it]\u001b[A\n",
      "\n",
      "  0%|          | 0/1 [00:00<?, ?it/s]\u001b[A\u001b[A\n",
      "\n",
      "100%|██████████| 1/1 [00:01<00:00,  1.19s/it]\u001b[A\u001b[A\n",
      "\n",
      "  6%|▌         | 615/10000 [15:31<3:34:43,  1.37s/it]\u001b[A\n",
      "\n",
      "  0%|          | 0/1 [00:00<?, ?it/s]\u001b[A\u001b[A\n",
      "\n",
      "100%|██████████| 1/1 [00:01<00:00,  1.15s/it]\u001b[A\u001b[A\n",
      "\n",
      "  6%|▌         | 616/10000 [15:32<3:47:06,  1.45s/it]\u001b[A\n",
      "\n",
      "  0%|          | 0/1 [00:00<?, ?it/s]\u001b[A\u001b[A\n",
      "\n",
      "100%|██████████| 1/1 [00:01<00:00,  1.12s/it]\u001b[A\u001b[A\n",
      "\n",
      "  6%|▌         | 617/10000 [15:34<3:58:02,  1.52s/it]\u001b[A\n",
      "\n",
      "  0%|          | 0/1 [00:00<?, ?it/s]\u001b[A\u001b[A\n",
      "\n",
      "100%|██████████| 1/1 [00:01<00:00,  1.37s/it]\u001b[A\u001b[A\n",
      "\n",
      "  6%|▌         | 618/10000 [15:36<4:19:39,  1.66s/it]\u001b[A\n",
      "\n",
      "  0%|          | 0/1 [00:00<?, ?it/s]\u001b[A\u001b[A\n",
      "\n",
      "100%|██████████| 1/1 [00:00<00:00,  1.04it/s]\u001b[A\u001b[A\n"
     ]
    },
    {
     "name": "stdout",
     "output_type": "stream",
     "text": [
      "\n",
      "Epoch: 619, Loss: 0.3483, Val: 0.6799, Test: 0.6694\n"
     ]
    },
    {
     "name": "stderr",
     "output_type": "stream",
     "text": [
      "\n",
      "  6%|▌         | 619/10000 [15:38<4:14:13,  1.63s/it]\u001b[A\n",
      "\n",
      "  0%|          | 0/1 [00:00<?, ?it/s]\u001b[A\u001b[A\n",
      "\n",
      "100%|██████████| 1/1 [00:00<00:00,  1.35it/s]\u001b[A\u001b[A\n"
     ]
    },
    {
     "name": "stdout",
     "output_type": "stream",
     "text": [
      "\n",
      "Epoch: 620, Loss: 0.3480, Val: 0.6803, Test: 0.6687\n"
     ]
    },
    {
     "name": "stderr",
     "output_type": "stream",
     "text": [
      "\n",
      "  6%|▌         | 620/10000 [15:39<4:21:14,  1.67s/it]\u001b[A\n",
      "\n",
      "  0%|          | 0/1 [00:00<?, ?it/s]\u001b[A\u001b[A\n",
      "\n",
      "100%|██████████| 1/1 [00:00<00:00,  1.01it/s]\u001b[A\u001b[A\n",
      "\n",
      "  6%|▌         | 621/10000 [15:41<4:11:21,  1.61s/it]\u001b[A\n",
      "\n",
      "  0%|          | 0/1 [00:00<?, ?it/s]\u001b[A\u001b[A\n",
      "\n",
      "100%|██████████| 1/1 [00:00<00:00,  1.04it/s]\u001b[A\u001b[A\n",
      "\n",
      "  6%|▌         | 622/10000 [15:42<4:03:14,  1.56s/it]\u001b[A\n",
      "\n",
      "  0%|          | 0/1 [00:00<?, ?it/s]\u001b[A\u001b[A\n",
      "\n",
      "100%|██████████| 1/1 [00:01<00:00,  1.09s/it]\u001b[A\u001b[A\n",
      "\n",
      "  6%|▌         | 623/10000 [15:44<4:03:31,  1.56s/it]\u001b[A\n",
      "\n",
      "  0%|          | 0/1 [00:00<?, ?it/s]\u001b[A\u001b[A\n",
      "\n",
      "100%|██████████| 1/1 [00:01<00:00,  1.21s/it]\u001b[A\u001b[A\n",
      "\n",
      "  6%|▌         | 624/10000 [15:46<4:13:02,  1.62s/it]\u001b[A\n",
      "\n",
      "  0%|          | 0/1 [00:00<?, ?it/s]\u001b[A\u001b[A\n",
      "\n",
      "100%|██████████| 1/1 [00:01<00:00,  1.21s/it]\u001b[A\u001b[A\n",
      "\n",
      "  6%|▋         | 625/10000 [15:47<4:15:31,  1.64s/it]\u001b[A\n",
      "\n",
      "  0%|          | 0/1 [00:00<?, ?it/s]\u001b[A\u001b[A\n",
      "\n",
      "100%|██████████| 1/1 [00:01<00:00,  1.13s/it]\u001b[A\u001b[A\n",
      "\n",
      "  6%|▋         | 626/10000 [15:49<4:15:55,  1.64s/it]\u001b[A\n",
      "\n",
      "  0%|          | 0/1 [00:00<?, ?it/s]\u001b[A\u001b[A\n",
      "\n",
      "100%|██████████| 1/1 [00:01<00:00,  1.16s/it]\u001b[A\u001b[A\n",
      "\n",
      "  6%|▋         | 627/10000 [15:50<4:07:56,  1.59s/it]\u001b[A\n",
      "\n",
      "  0%|          | 0/1 [00:00<?, ?it/s]\u001b[A\u001b[A\n",
      "\n",
      "100%|██████████| 1/1 [00:01<00:00,  1.32s/it]\u001b[A\u001b[A\n",
      "\n",
      "  6%|▋         | 628/10000 [15:52<4:22:01,  1.68s/it]\u001b[A\n",
      "\n",
      "  0%|          | 0/1 [00:00<?, ?it/s]\u001b[A\u001b[A\n",
      "\n",
      "100%|██████████| 1/1 [00:01<00:00,  1.10s/it]\u001b[A\u001b[A\n",
      "\n",
      "  6%|▋         | 629/10000 [15:54<4:19:38,  1.66s/it]\u001b[A\n",
      "\n",
      "  0%|          | 0/1 [00:00<?, ?it/s]\u001b[A\u001b[A\n",
      "\n",
      "100%|██████████| 1/1 [00:01<00:00,  1.16s/it]\u001b[A\u001b[A\n",
      "\n",
      "  6%|▋         | 630/10000 [15:55<4:18:05,  1.65s/it]\u001b[A\n",
      "\n",
      "  0%|          | 0/1 [00:00<?, ?it/s]\u001b[A\u001b[A\n",
      "\n",
      "100%|██████████| 1/1 [00:01<00:00,  1.13s/it]\u001b[A\u001b[A\n",
      "\n",
      "  6%|▋         | 631/10000 [15:57<4:18:55,  1.66s/it]\u001b[A\n",
      "\n",
      "  0%|          | 0/1 [00:00<?, ?it/s]\u001b[A\u001b[A\n",
      "\n",
      "100%|██████████| 1/1 [00:01<00:00,  1.20s/it]\u001b[A\u001b[A\n",
      "\n",
      "  6%|▋         | 632/10000 [15:59<4:21:22,  1.67s/it]\u001b[A\n",
      "\n",
      "  0%|          | 0/1 [00:00<?, ?it/s]\u001b[A\u001b[A\n",
      "\n",
      "100%|██████████| 1/1 [00:01<00:00,  1.09s/it]\u001b[A\u001b[A\n",
      "\n",
      "  6%|▋         | 633/10000 [16:00<4:06:36,  1.58s/it]\u001b[A\n",
      "\n",
      "  0%|          | 0/1 [00:00<?, ?it/s]\u001b[A\u001b[A\n",
      "\n",
      "100%|██████████| 1/1 [00:00<00:00,  2.07it/s]\u001b[A\u001b[A\n",
      "\n",
      "  6%|▋         | 634/10000 [16:01<3:26:16,  1.32s/it]\u001b[A\n",
      "\n",
      "  0%|          | 0/1 [00:00<?, ?it/s]\u001b[A\u001b[A\n",
      "\n",
      "100%|██████████| 1/1 [00:01<00:00,  1.23s/it]\u001b[A\u001b[A\n",
      "\n",
      "  6%|▋         | 635/10000 [16:03<3:45:28,  1.44s/it]\u001b[A\n",
      "\n",
      "  0%|          | 0/1 [00:00<?, ?it/s]\u001b[A\u001b[A\n",
      "\n",
      "100%|██████████| 1/1 [00:01<00:00,  1.16s/it]\u001b[A\u001b[A\n",
      "\n",
      "  6%|▋         | 636/10000 [16:04<3:57:26,  1.52s/it]\u001b[A\n",
      "\n",
      "  0%|          | 0/1 [00:00<?, ?it/s]\u001b[A\u001b[A\n",
      "\n",
      "100%|██████████| 1/1 [00:01<00:00,  1.13s/it]\u001b[A\u001b[A\n",
      "\n",
      "  6%|▋         | 637/10000 [16:06<4:03:52,  1.56s/it]\u001b[A\n",
      "\n",
      "  0%|          | 0/1 [00:00<?, ?it/s]\u001b[A\u001b[A\n",
      "\n",
      "100%|██████████| 1/1 [00:01<00:00,  1.14s/it]\u001b[A\u001b[A\n",
      "\n",
      "  6%|▋         | 638/10000 [16:08<4:06:34,  1.58s/it]\u001b[A\n",
      "\n",
      "  0%|          | 0/1 [00:00<?, ?it/s]\u001b[A\u001b[A\n",
      "\n",
      "100%|██████████| 1/1 [00:01<00:00,  1.19s/it]\u001b[A\u001b[A\n",
      "\n",
      "  6%|▋         | 639/10000 [16:09<4:12:21,  1.62s/it]\u001b[A\n",
      "\n",
      "  0%|          | 0/1 [00:00<?, ?it/s]\u001b[A\u001b[A\n",
      "\n",
      "100%|██████████| 1/1 [00:01<00:00,  1.15s/it]\u001b[A\u001b[A\n",
      "\n",
      "  6%|▋         | 640/10000 [16:11<4:15:17,  1.64s/it]\u001b[A\n",
      "\n",
      "  0%|          | 0/1 [00:00<?, ?it/s]\u001b[A\u001b[A\n",
      "\n",
      "100%|██████████| 1/1 [00:01<00:00,  1.07s/it]\u001b[A\u001b[A\n",
      "\n",
      "  6%|▋         | 641/10000 [16:13<4:10:13,  1.60s/it]\u001b[A\n",
      "\n",
      "  0%|          | 0/1 [00:00<?, ?it/s]\u001b[A\u001b[A\n",
      "\n",
      "100%|██████████| 1/1 [00:01<00:00,  1.23s/it]\u001b[A\u001b[A\n",
      "\n",
      "  6%|▋         | 642/10000 [16:14<4:09:18,  1.60s/it]\u001b[A\n",
      "\n",
      "  0%|          | 0/1 [00:00<?, ?it/s]\u001b[A\u001b[A\n",
      "\n",
      "100%|██████████| 1/1 [00:00<00:00,  1.71it/s]\u001b[A\u001b[A\n",
      "\n",
      "  6%|▋         | 643/10000 [16:15<3:35:01,  1.38s/it]\u001b[A\n",
      "\n",
      "  0%|          | 0/1 [00:00<?, ?it/s]\u001b[A\u001b[A\n",
      "\n",
      "100%|██████████| 1/1 [00:00<00:00,  1.24it/s]\u001b[A\u001b[A\n",
      "\n",
      "  6%|▋         | 644/10000 [16:16<3:24:39,  1.31s/it]\u001b[A\n",
      "\n",
      "  0%|          | 0/1 [00:00<?, ?it/s]\u001b[A\u001b[A\n",
      "\n",
      "100%|██████████| 1/1 [00:01<00:00,  1.28s/it]\u001b[A\u001b[A\n",
      "\n",
      "  6%|▋         | 645/10000 [16:18<3:43:47,  1.44s/it]\u001b[A\n",
      "\n",
      "  0%|          | 0/1 [00:00<?, ?it/s]\u001b[A\u001b[A\n",
      "\n",
      "100%|██████████| 1/1 [00:00<00:00,  1.26it/s]\u001b[A\u001b[A\n",
      "\n",
      "  6%|▋         | 646/10000 [16:19<3:27:56,  1.33s/it]\u001b[A\n",
      "\n",
      "  0%|          | 0/1 [00:00<?, ?it/s]\u001b[A\u001b[A\n",
      "\n",
      "100%|██████████| 1/1 [00:00<00:00,  1.34it/s]\u001b[A\u001b[A\n",
      "\n",
      "  6%|▋         | 647/10000 [16:20<3:12:39,  1.24s/it]\u001b[A\n",
      "\n",
      "  0%|          | 0/1 [00:00<?, ?it/s]\u001b[A\u001b[A\n",
      "\n",
      "100%|██████████| 1/1 [00:00<00:00,  1.37it/s]\u001b[A\u001b[A\n",
      "\n",
      "  6%|▋         | 648/10000 [16:21<3:00:43,  1.16s/it]\u001b[A\n",
      "\n",
      "  0%|          | 0/1 [00:00<?, ?it/s]\u001b[A\u001b[A\n",
      "\n",
      "100%|██████████| 1/1 [00:00<00:00,  1.85it/s]\u001b[A\u001b[A\n",
      "\n",
      "  6%|▋         | 649/10000 [16:22<2:42:55,  1.05s/it]\u001b[A\n",
      "\n",
      "  0%|          | 0/1 [00:00<?, ?it/s]\u001b[A\u001b[A\n",
      "\n",
      "100%|██████████| 1/1 [00:01<00:00,  1.19s/it]\u001b[A\u001b[A\n",
      "\n",
      "  6%|▋         | 650/10000 [16:23<3:12:05,  1.23s/it]\u001b[A\n",
      "\n",
      "  0%|          | 0/1 [00:00<?, ?it/s]\u001b[A\u001b[A\n",
      "\n",
      "100%|██████████| 1/1 [00:01<00:00,  1.13s/it]\u001b[A\u001b[A\n",
      "\n",
      "  7%|▋         | 651/10000 [16:25<3:31:17,  1.36s/it]\u001b[A\n",
      "\n",
      "  0%|          | 0/1 [00:00<?, ?it/s]\u001b[A\u001b[A\n",
      "\n",
      "100%|██████████| 1/1 [00:01<00:00,  1.21s/it]\u001b[A\u001b[A\n",
      "\n",
      "  7%|▋         | 652/10000 [16:27<3:47:59,  1.46s/it]\u001b[A\n",
      "\n",
      "  0%|          | 0/1 [00:00<?, ?it/s]\u001b[A\u001b[A\n",
      "\n",
      "100%|██████████| 1/1 [00:01<00:00,  1.16s/it]\u001b[A\u001b[A\n",
      "\n",
      "  7%|▋         | 653/10000 [16:28<3:57:24,  1.52s/it]\u001b[A\n",
      "\n",
      "  0%|          | 0/1 [00:00<?, ?it/s]\u001b[A\u001b[A\n",
      "\n",
      "100%|██████████| 1/1 [00:01<00:00,  1.26s/it]\u001b[A\u001b[A\n",
      "\n",
      "  7%|▋         | 654/10000 [16:30<4:09:11,  1.60s/it]\u001b[A\n",
      "\n",
      "  0%|          | 0/1 [00:00<?, ?it/s]\u001b[A\u001b[A\n",
      "\n",
      "100%|██████████| 1/1 [00:01<00:00,  1.19s/it]\u001b[A\u001b[A\n",
      "\n",
      "  7%|▋         | 655/10000 [16:32<4:08:05,  1.59s/it]\u001b[A\n",
      "\n",
      "  0%|          | 0/1 [00:00<?, ?it/s]\u001b[A\u001b[A\n",
      "\n",
      "100%|██████████| 1/1 [00:00<00:00,  1.78it/s]\u001b[A\u001b[A\n",
      "\n",
      "  7%|▋         | 656/10000 [16:33<3:30:50,  1.35s/it]\u001b[A\n",
      "\n",
      "  0%|          | 0/1 [00:00<?, ?it/s]\u001b[A\u001b[A\n",
      "\n",
      "100%|██████████| 1/1 [00:00<00:00,  1.19it/s]\u001b[A\u001b[A\n",
      "\n",
      "  7%|▋         | 657/10000 [16:34<3:25:15,  1.32s/it]\u001b[A\n",
      "\n",
      "  0%|          | 0/1 [00:00<?, ?it/s]\u001b[A\u001b[A\n",
      "\n",
      "100%|██████████| 1/1 [00:00<00:00,  1.01it/s]\u001b[A\u001b[A\n",
      "\n",
      "  7%|▋         | 658/10000 [16:35<3:31:54,  1.36s/it]\u001b[A\n",
      "\n",
      "  0%|          | 0/1 [00:00<?, ?it/s]\u001b[A\u001b[A\n",
      "\n",
      "100%|██████████| 1/1 [00:01<00:00,  1.00s/it]\u001b[A\u001b[A\n",
      "\n",
      "  7%|▋         | 659/10000 [16:37<3:36:32,  1.39s/it]\u001b[A\n",
      "\n",
      "  0%|          | 0/1 [00:00<?, ?it/s]\u001b[A\u001b[A\n",
      "\n",
      "100%|██████████| 1/1 [00:01<00:00,  1.20s/it]\u001b[A\u001b[A\n",
      "\n",
      "  7%|▋         | 660/10000 [16:38<3:51:46,  1.49s/it]\u001b[A\n",
      "\n",
      "  0%|          | 0/1 [00:00<?, ?it/s]\u001b[A\u001b[A\n",
      "\n",
      "100%|██████████| 1/1 [00:01<00:00,  1.04s/it]\u001b[A\u001b[A\n",
      "\n",
      "  7%|▋         | 661/10000 [16:40<3:52:00,  1.49s/it]\u001b[A\n",
      "\n",
      "  0%|          | 0/1 [00:00<?, ?it/s]\u001b[A\u001b[A\n",
      "\n",
      "100%|██████████| 1/1 [00:01<00:00,  1.01s/it]\u001b[A\u001b[A\n",
      "\n",
      "  7%|▋         | 662/10000 [16:41<3:51:47,  1.49s/it]\u001b[A\n",
      "\n",
      "  0%|          | 0/1 [00:00<?, ?it/s]\u001b[A\u001b[A\n",
      "\n",
      "100%|██████████| 1/1 [00:00<00:00,  1.04it/s]\u001b[A\u001b[A\n",
      "\n",
      "  7%|▋         | 663/10000 [16:43<3:48:11,  1.47s/it]\u001b[A\n",
      "\n",
      "  0%|          | 0/1 [00:00<?, ?it/s]\u001b[A\u001b[A\n",
      "\n",
      "100%|██████████| 1/1 [00:01<00:00,  1.01s/it]\u001b[A\u001b[A\n",
      "\n",
      "  7%|▋         | 664/10000 [16:44<3:43:32,  1.44s/it]\u001b[A\n",
      "\n",
      "  0%|          | 0/1 [00:00<?, ?it/s]\u001b[A\u001b[A\n",
      "\n",
      "100%|██████████| 1/1 [00:01<00:00,  1.02s/it]\u001b[A\u001b[A\n",
      "\n",
      "  7%|▋         | 665/10000 [16:46<3:45:53,  1.45s/it]\u001b[A\n",
      "\n",
      "  0%|          | 0/1 [00:00<?, ?it/s]\u001b[A\u001b[A\n",
      "\n",
      "100%|██████████| 1/1 [00:01<00:00,  1.01s/it]\u001b[A\u001b[A\n",
      "\n",
      "  7%|▋         | 666/10000 [16:47<3:46:13,  1.45s/it]\u001b[A\n",
      "\n",
      "  0%|          | 0/1 [00:00<?, ?it/s]\u001b[A\u001b[A\n",
      "\n",
      "100%|██████████| 1/1 [00:00<00:00,  1.04it/s]\u001b[A\u001b[A\n",
      "\n",
      "  7%|▋         | 667/10000 [16:49<3:45:32,  1.45s/it]\u001b[A\n",
      "\n",
      "  0%|          | 0/1 [00:00<?, ?it/s]\u001b[A\u001b[A\n",
      "\n",
      "100%|██████████| 1/1 [00:01<00:00,  1.01s/it]\u001b[A\u001b[A\n",
      "\n",
      "  7%|▋         | 668/10000 [16:50<3:47:07,  1.46s/it]\u001b[A\n",
      "\n",
      "  0%|          | 0/1 [00:00<?, ?it/s]\u001b[A\u001b[A\n",
      "\n",
      "100%|██████████| 1/1 [00:00<00:00,  1.02it/s]\u001b[A\u001b[A\n",
      "\n",
      "  7%|▋         | 669/10000 [16:52<3:46:47,  1.46s/it]\u001b[A\n",
      "\n",
      "  0%|          | 0/1 [00:00<?, ?it/s]\u001b[A\u001b[A\n",
      "\n",
      "100%|██████████| 1/1 [00:00<00:00,  1.67it/s]\u001b[A\u001b[A\n",
      "\n",
      "  7%|▋         | 670/10000 [16:52<3:17:48,  1.27s/it]\u001b[A\n",
      "\n",
      "  0%|          | 0/1 [00:00<?, ?it/s]\u001b[A\u001b[A\n",
      "\n",
      "100%|██████████| 1/1 [00:00<00:00,  1.93it/s]\u001b[A\u001b[A\n",
      "\n",
      "  7%|▋         | 671/10000 [16:53<2:49:50,  1.09s/it]\u001b[A\n",
      "\n",
      "  0%|          | 0/1 [00:00<?, ?it/s]\u001b[A\u001b[A\n",
      "\n",
      "100%|██████████| 1/1 [00:01<00:00,  1.00s/it]\u001b[A\u001b[A\n",
      "\n",
      "  7%|▋         | 672/10000 [16:55<3:06:37,  1.20s/it]\u001b[A\n",
      "\n",
      "  0%|          | 0/1 [00:00<?, ?it/s]\u001b[A\u001b[A\n",
      "\n",
      "100%|██████████| 1/1 [00:00<00:00,  1.07it/s]\u001b[A\u001b[A\n",
      "\n",
      "  7%|▋         | 673/10000 [16:56<3:13:50,  1.25s/it]\u001b[A\n",
      "\n",
      "  0%|          | 0/1 [00:00<?, ?it/s]\u001b[A\u001b[A\n",
      "\n",
      "100%|██████████| 1/1 [00:00<00:00,  1.04it/s]\u001b[A\u001b[A\n",
      "\n",
      "  7%|▋         | 674/10000 [16:57<3:20:28,  1.29s/it]\u001b[A\n",
      "\n",
      "  0%|          | 0/1 [00:00<?, ?it/s]\u001b[A\u001b[A\n",
      "\n",
      "100%|██████████| 1/1 [00:00<00:00,  1.04it/s]\u001b[A\u001b[A\n",
      "\n",
      "  7%|▋         | 675/10000 [16:59<3:23:31,  1.31s/it]\u001b[A\n",
      "\n",
      "  0%|          | 0/1 [00:00<?, ?it/s]\u001b[A\u001b[A\n",
      "\n",
      "100%|██████████| 1/1 [00:00<00:00,  1.05it/s]\u001b[A\u001b[A\n",
      "\n",
      "  7%|▋         | 676/10000 [17:00<3:28:47,  1.34s/it]\u001b[A\n",
      "\n",
      "  0%|          | 0/1 [00:00<?, ?it/s]\u001b[A\u001b[A\n",
      "\n",
      "100%|██████████| 1/1 [00:00<00:00,  1.00it/s]\u001b[A\u001b[A\n",
      "\n",
      "  7%|▋         | 677/10000 [17:02<3:32:39,  1.37s/it]\u001b[A\n",
      "\n",
      "  0%|          | 0/1 [00:00<?, ?it/s]\u001b[A\u001b[A\n",
      "\n",
      "100%|██████████| 1/1 [00:00<00:00,  1.08it/s]\u001b[A\u001b[A\n",
      "\n",
      "  7%|▋         | 678/10000 [17:03<3:35:00,  1.38s/it]\u001b[A\n",
      "\n",
      "  0%|          | 0/1 [00:00<?, ?it/s]\u001b[A\u001b[A\n",
      "\n",
      "100%|██████████| 1/1 [00:00<00:00,  1.00it/s]\u001b[A\u001b[A\n",
      "\n",
      "  7%|▋         | 679/10000 [17:04<3:37:07,  1.40s/it]\u001b[A\n",
      "\n",
      "  0%|          | 0/1 [00:00<?, ?it/s]\u001b[A\u001b[A\n",
      "\n",
      "100%|██████████| 1/1 [00:00<00:00,  1.85it/s]\u001b[A\u001b[A\n",
      "\n",
      "  7%|▋         | 680/10000 [17:05<3:11:41,  1.23s/it]\u001b[A\n",
      "\n",
      "  0%|          | 0/1 [00:00<?, ?it/s]\u001b[A\u001b[A\n",
      "\n",
      "100%|██████████| 1/1 [00:00<00:00,  2.05it/s]\u001b[A\u001b[A\n",
      "\n",
      "  7%|▋         | 681/10000 [17:06<2:48:31,  1.09s/it]\u001b[A\n",
      "\n",
      "  0%|          | 0/1 [00:00<?, ?it/s]\u001b[A\u001b[A\n",
      "\n",
      "100%|██████████| 1/1 [00:00<00:00,  1.59it/s]\u001b[A\u001b[A\n",
      "\n",
      "  7%|▋         | 682/10000 [17:07<2:45:11,  1.06s/it]\u001b[A\n",
      "\n",
      "  0%|          | 0/1 [00:00<?, ?it/s]\u001b[A\u001b[A\n",
      "\n",
      "100%|██████████| 1/1 [00:00<00:00,  1.49it/s]\u001b[A\u001b[A\n",
      "\n",
      "  7%|▋         | 683/10000 [17:08<2:37:24,  1.01s/it]\u001b[A\n",
      "\n",
      "  0%|          | 0/1 [00:00<?, ?it/s]\u001b[A\u001b[A\n",
      "\n",
      "100%|██████████| 1/1 [00:00<00:00,  2.13it/s]\u001b[A\u001b[A\n",
      "\n",
      "  7%|▋         | 684/10000 [17:09<2:22:42,  1.09it/s]\u001b[A\n",
      "\n",
      "  0%|          | 0/1 [00:00<?, ?it/s]\u001b[A\u001b[A\n",
      "\n",
      "100%|██████████| 1/1 [00:00<00:00,  2.21it/s]\u001b[A\u001b[A\n",
      "\n",
      "  7%|▋         | 685/10000 [17:09<2:14:05,  1.16it/s]\u001b[A\n",
      "\n",
      "  0%|          | 0/1 [00:00<?, ?it/s]\u001b[A\u001b[A\n",
      "\n",
      "100%|██████████| 1/1 [00:00<00:00,  1.48it/s]\u001b[A\u001b[A\n",
      "\n",
      "  7%|▋         | 686/10000 [17:10<2:19:04,  1.12it/s]\u001b[A\n",
      "\n",
      "  0%|          | 0/1 [00:00<?, ?it/s]\u001b[A\u001b[A\n",
      "\n",
      "100%|██████████| 1/1 [00:01<00:00,  1.18s/it]\u001b[A\u001b[A\n",
      "\n",
      "  7%|▋         | 687/10000 [17:12<2:54:25,  1.12s/it]\u001b[A\n",
      "\n",
      "  0%|          | 0/1 [00:00<?, ?it/s]\u001b[A\u001b[A\n",
      "\n",
      "100%|██████████| 1/1 [00:01<00:00,  1.02s/it]\u001b[A\u001b[A\n",
      "\n",
      "  7%|▋         | 688/10000 [17:13<3:11:10,  1.23s/it]\u001b[A\n",
      "\n",
      "  0%|          | 0/1 [00:00<?, ?it/s]\u001b[A\u001b[A\n",
      "\n",
      "100%|██████████| 1/1 [00:00<00:00,  1.02it/s]\u001b[A\u001b[A\n",
      "\n",
      "  7%|▋         | 689/10000 [17:15<3:20:55,  1.29s/it]\u001b[A\n",
      "\n",
      "  0%|          | 0/1 [00:00<?, ?it/s]\u001b[A\u001b[A\n",
      "\n",
      "100%|██████████| 1/1 [00:01<00:00,  1.04s/it]\u001b[A\u001b[A\n",
      "\n",
      "  7%|▋         | 690/10000 [17:16<3:35:00,  1.39s/it]\u001b[A\n",
      "\n",
      "  0%|          | 0/1 [00:00<?, ?it/s]\u001b[A\u001b[A\n",
      "\n",
      "100%|██████████| 1/1 [00:01<00:00,  1.31s/it]\u001b[A\u001b[A\n",
      "\n",
      "  7%|▋         | 691/10000 [17:18<3:57:53,  1.53s/it]\u001b[A\n",
      "\n",
      "  0%|          | 0/1 [00:00<?, ?it/s]\u001b[A\u001b[A\n",
      "\n",
      "100%|██████████| 1/1 [00:01<00:00,  1.37s/it]\u001b[A\u001b[A\n",
      "\n",
      "  7%|▋         | 692/10000 [17:20<4:17:08,  1.66s/it]\u001b[A\n",
      "\n",
      "  0%|          | 0/1 [00:00<?, ?it/s]\u001b[A\u001b[A\n",
      "\n",
      "100%|██████████| 1/1 [00:01<00:00,  1.29s/it]\u001b[A\u001b[A\n",
      "\n",
      "  7%|▋         | 693/10000 [17:22<4:13:43,  1.64s/it]\u001b[A\n",
      "\n",
      "  0%|          | 0/1 [00:00<?, ?it/s]\u001b[A\u001b[A\n",
      "\n",
      "100%|██████████| 1/1 [00:00<00:00,  1.68it/s]\u001b[A\u001b[A\n",
      "\n",
      "  7%|▋         | 694/10000 [17:23<3:36:10,  1.39s/it]\u001b[A\n",
      "\n",
      "  0%|          | 0/1 [00:00<?, ?it/s]\u001b[A\u001b[A\n",
      "\n",
      "100%|██████████| 1/1 [00:00<00:00,  1.61it/s]\u001b[A\u001b[A\n",
      "\n",
      "  7%|▋         | 695/10000 [17:24<3:10:25,  1.23s/it]\u001b[A\n",
      "\n",
      "  0%|          | 0/1 [00:00<?, ?it/s]\u001b[A\u001b[A\n",
      "\n",
      "100%|██████████| 1/1 [00:00<00:00,  1.03it/s]\u001b[A\u001b[A\n",
      "\n",
      "  7%|▋         | 696/10000 [17:25<3:18:42,  1.28s/it]\u001b[A\n",
      "\n",
      "  0%|          | 0/1 [00:00<?, ?it/s]\u001b[A\u001b[A\n",
      "\n",
      "100%|██████████| 1/1 [00:00<00:00,  1.06it/s]\u001b[A\u001b[A\n",
      "\n",
      "  7%|▋         | 697/10000 [17:26<3:22:49,  1.31s/it]\u001b[A\n",
      "\n",
      "  0%|          | 0/1 [00:00<?, ?it/s]\u001b[A\u001b[A\n",
      "\n",
      "100%|██████████| 1/1 [00:00<00:00,  1.04it/s]\u001b[A\u001b[A\n",
      "\n",
      "  7%|▋         | 698/10000 [17:28<3:27:14,  1.34s/it]\u001b[A\n",
      "\n",
      "  0%|          | 0/1 [00:00<?, ?it/s]\u001b[A\u001b[A\n",
      "\n",
      "100%|██████████| 1/1 [00:00<00:00,  1.12it/s]\u001b[A\u001b[A\n",
      "\n",
      "  7%|▋         | 699/10000 [17:29<3:26:42,  1.33s/it]\u001b[A\n",
      "\n",
      "  0%|          | 0/1 [00:00<?, ?it/s]\u001b[A\u001b[A\n",
      "\n",
      "100%|██████████| 1/1 [00:00<00:00,  1.03it/s]\u001b[A\u001b[A\n",
      "\n",
      "  7%|▋         | 700/10000 [17:30<3:31:29,  1.36s/it]\u001b[A\n",
      "\n",
      "  0%|          | 0/1 [00:00<?, ?it/s]\u001b[A\u001b[A\n",
      "\n",
      "100%|██████████| 1/1 [00:01<00:00,  1.02s/it]\u001b[A\u001b[A\n",
      "\n",
      "  7%|▋         | 701/10000 [17:32<3:35:44,  1.39s/it]\u001b[A\n",
      "\n",
      "  0%|          | 0/1 [00:00<?, ?it/s]\u001b[A\u001b[A\n",
      "\n",
      "100%|██████████| 1/1 [00:00<00:00,  1.01it/s]\u001b[A\u001b[A\n",
      "\n",
      "  7%|▋         | 702/10000 [17:33<3:43:40,  1.44s/it]\u001b[A\n",
      "\n",
      "  0%|          | 0/1 [00:00<?, ?it/s]\u001b[A\u001b[A\n",
      "\n",
      "100%|██████████| 1/1 [00:00<00:00,  1.34it/s]\u001b[A\u001b[A\n",
      "\n",
      "  7%|▋         | 703/10000 [17:34<3:22:19,  1.31s/it]\u001b[A\n",
      "\n",
      "  0%|          | 0/1 [00:00<?, ?it/s]\u001b[A\u001b[A\n",
      "\n",
      "100%|██████████| 1/1 [00:01<00:00,  1.16s/it]\u001b[A\u001b[A\n",
      "\n",
      "  7%|▋         | 704/10000 [17:36<3:36:25,  1.40s/it]\u001b[A\n",
      "\n",
      "  0%|          | 0/1 [00:00<?, ?it/s]\u001b[A\u001b[A\n",
      "\n",
      "100%|██████████| 1/1 [00:00<00:00,  1.02it/s]\u001b[A\u001b[A\n",
      "\n",
      "  7%|▋         | 705/10000 [17:37<3:37:01,  1.40s/it]\u001b[A\n",
      "\n",
      "  0%|          | 0/1 [00:00<?, ?it/s]\u001b[A\u001b[A\n",
      "\n",
      "100%|██████████| 1/1 [00:00<00:00,  1.03it/s]\u001b[A\u001b[A\n",
      "\n",
      "  7%|▋         | 706/10000 [17:39<3:37:15,  1.40s/it]\u001b[A\n",
      "\n",
      "  0%|          | 0/1 [00:00<?, ?it/s]\u001b[A\u001b[A\n",
      "\n",
      "100%|██████████| 1/1 [00:01<00:00,  1.01s/it]\u001b[A\u001b[A\n",
      "\n",
      "  7%|▋         | 707/10000 [17:40<3:38:30,  1.41s/it]\u001b[A\n",
      "\n",
      "  0%|          | 0/1 [00:00<?, ?it/s]\u001b[A\u001b[A\n",
      "\n",
      "100%|██████████| 1/1 [00:01<00:00,  1.02s/it]\u001b[A\u001b[A\n",
      "\n",
      "  7%|▋         | 708/10000 [17:42<3:44:59,  1.45s/it]\u001b[A\n",
      "\n",
      "  0%|          | 0/1 [00:00<?, ?it/s]\u001b[A\u001b[A\n",
      "\n",
      "100%|██████████| 1/1 [00:00<00:00,  2.05it/s]\u001b[A\u001b[A\n",
      "\n",
      "  7%|▋         | 709/10000 [17:43<3:10:21,  1.23s/it]\u001b[A\n",
      "\n",
      "  0%|          | 0/1 [00:00<?, ?it/s]\u001b[A\u001b[A\n",
      "\n",
      "100%|██████████| 1/1 [00:00<00:00,  1.48it/s]\u001b[A\u001b[A\n",
      "\n",
      "  7%|▋         | 710/10000 [17:44<3:05:55,  1.20s/it]\u001b[A\n",
      "\n",
      "  0%|          | 0/1 [00:00<?, ?it/s]\u001b[A\u001b[A\n",
      "\n",
      "100%|██████████| 1/1 [00:00<00:00,  1.03it/s]\u001b[A\u001b[A\n",
      "\n",
      "  7%|▋         | 711/10000 [17:45<3:14:19,  1.26s/it]\u001b[A\n",
      "\n",
      "  0%|          | 0/1 [00:00<?, ?it/s]\u001b[A\u001b[A\n",
      "\n",
      "100%|██████████| 1/1 [00:00<00:00,  1.08it/s]\u001b[A\u001b[A\n",
      "\n",
      "  7%|▋         | 712/10000 [17:46<3:20:30,  1.30s/it]\u001b[A\n",
      "\n",
      "  0%|          | 0/1 [00:00<?, ?it/s]\u001b[A\u001b[A\n",
      "\n",
      "100%|██████████| 1/1 [00:00<00:00,  1.06it/s]\u001b[A\u001b[A\n",
      "\n",
      "  7%|▋         | 713/10000 [17:48<3:25:55,  1.33s/it]\u001b[A\n",
      "\n",
      "  0%|          | 0/1 [00:00<?, ?it/s]\u001b[A\u001b[A\n",
      "\n",
      "100%|██████████| 1/1 [00:00<00:00,  1.01it/s]\u001b[A\u001b[A\n",
      "\n",
      "  7%|▋         | 714/10000 [17:49<3:29:41,  1.35s/it]\u001b[A\n",
      "\n",
      "  0%|          | 0/1 [00:00<?, ?it/s]\u001b[A\u001b[A\n",
      "\n",
      "100%|██████████| 1/1 [00:01<00:00,  1.04s/it]\u001b[A\u001b[A\n",
      "\n",
      "  7%|▋         | 715/10000 [17:51<3:37:32,  1.41s/it]\u001b[A\n",
      "\n",
      "  0%|          | 0/1 [00:00<?, ?it/s]\u001b[A\u001b[A\n",
      "\n",
      "100%|██████████| 1/1 [00:01<00:00,  1.05s/it]\u001b[A\u001b[A\n",
      "\n",
      "  7%|▋         | 716/10000 [17:52<3:42:10,  1.44s/it]\u001b[A\n",
      "\n",
      "  0%|          | 0/1 [00:00<?, ?it/s]\u001b[A\u001b[A\n",
      "\n",
      "100%|██████████| 1/1 [00:01<00:00,  1.09s/it]\u001b[A\u001b[A\n",
      "\n",
      "  7%|▋         | 717/10000 [17:54<3:48:53,  1.48s/it]\u001b[A\n",
      "\n",
      "  0%|          | 0/1 [00:00<?, ?it/s]\u001b[A\u001b[A\n",
      "\n",
      "100%|██████████| 1/1 [00:00<00:00,  1.44it/s]\u001b[A\u001b[A\n",
      "\n",
      "  7%|▋         | 718/10000 [17:55<3:23:45,  1.32s/it]\u001b[A\n",
      "\n",
      "  0%|          | 0/1 [00:00<?, ?it/s]\u001b[A\u001b[A\n",
      "\n",
      "100%|██████████| 1/1 [00:00<00:00,  1.97it/s]\u001b[A\u001b[A\n",
      "\n",
      "  7%|▋         | 719/10000 [17:56<2:57:16,  1.15s/it]\u001b[A\n",
      "\n",
      "  0%|          | 0/1 [00:00<?, ?it/s]\u001b[A\u001b[A\n",
      "\n",
      "100%|██████████| 1/1 [00:00<00:00,  2.15it/s]\u001b[A\u001b[A\n",
      "\n",
      "  7%|▋         | 720/10000 [17:56<2:36:11,  1.01s/it]\u001b[A\n",
      "\n",
      "  0%|          | 0/1 [00:00<?, ?it/s]\u001b[A\u001b[A\n",
      "\n",
      "100%|██████████| 1/1 [00:00<00:00,  1.16it/s]\u001b[A\u001b[A\n",
      "\n",
      "  7%|▋         | 721/10000 [17:57<2:43:37,  1.06s/it]\u001b[A\n",
      "\n",
      "  0%|          | 0/1 [00:00<?, ?it/s]\u001b[A\u001b[A\n",
      "\n",
      "100%|██████████| 1/1 [00:00<00:00,  2.05it/s]\u001b[A\u001b[A\n",
      "\n",
      "  7%|▋         | 722/10000 [17:58<2:27:44,  1.05it/s]\u001b[A\n",
      "\n",
      "  0%|          | 0/1 [00:00<?, ?it/s]\u001b[A\u001b[A\n",
      "\n",
      "100%|██████████| 1/1 [00:00<00:00,  2.13it/s]\u001b[A\u001b[A\n",
      "\n",
      "  7%|▋         | 723/10000 [17:59<2:15:10,  1.14it/s]\u001b[A\n",
      "\n",
      "  0%|          | 0/1 [00:00<?, ?it/s]\u001b[A\u001b[A\n",
      "\n",
      "100%|██████████| 1/1 [00:00<00:00,  1.84it/s]\u001b[A\u001b[A\n",
      "\n",
      "  7%|▋         | 724/10000 [18:00<2:10:18,  1.19it/s]\u001b[A\n",
      "\n",
      "  0%|          | 0/1 [00:00<?, ?it/s]\u001b[A\u001b[A\n",
      "\n",
      "100%|██████████| 1/1 [00:00<00:00,  1.83it/s]\u001b[A\u001b[A\n",
      "\n",
      "  7%|▋         | 725/10000 [18:01<2:23:27,  1.08it/s]\u001b[A\n",
      "\n",
      "  0%|          | 0/1 [00:00<?, ?it/s]\u001b[A\u001b[A\n",
      "\n",
      "100%|██████████| 1/1 [00:01<00:00,  1.02s/it]\u001b[A\u001b[A\n",
      "\n",
      "  7%|▋         | 726/10000 [18:02<2:47:43,  1.09s/it]\u001b[A\n",
      "\n",
      "  0%|          | 0/1 [00:00<?, ?it/s]\u001b[A\u001b[A\n",
      "\n",
      "100%|██████████| 1/1 [00:01<00:00,  1.08s/it]\u001b[A\u001b[A\n",
      "\n",
      "  7%|▋         | 727/10000 [18:04<3:10:11,  1.23s/it]\u001b[A\n",
      "\n",
      "  0%|          | 0/1 [00:00<?, ?it/s]\u001b[A\u001b[A\n",
      "\n",
      "100%|██████████| 1/1 [00:01<00:00,  1.10s/it]\u001b[A\u001b[A\n",
      "\n",
      "  7%|▋         | 728/10000 [18:05<3:27:02,  1.34s/it]\u001b[A\n",
      "\n",
      "  0%|          | 0/1 [00:00<?, ?it/s]\u001b[A\u001b[A\n",
      "\n",
      "100%|██████████| 1/1 [00:01<00:00,  1.18s/it]\u001b[A\u001b[A\n",
      "\n",
      "  7%|▋         | 729/10000 [18:07<3:44:56,  1.46s/it]\u001b[A\n",
      "\n",
      "  0%|          | 0/1 [00:00<?, ?it/s]\u001b[A\u001b[A\n",
      "\n",
      "100%|██████████| 1/1 [00:01<00:00,  1.34s/it]\u001b[A\u001b[A\n",
      "\n",
      "  7%|▋         | 730/10000 [18:09<4:00:47,  1.56s/it]\u001b[A\n",
      "\n",
      "  0%|          | 0/1 [00:00<?, ?it/s]\u001b[A\u001b[A\n",
      "\n",
      "100%|██████████| 1/1 [00:00<00:00,  1.76it/s]\u001b[A\u001b[A\n",
      "\n",
      "  7%|▋         | 731/10000 [18:10<3:26:15,  1.34s/it]\u001b[A\n",
      "\n",
      "  0%|          | 0/1 [00:00<?, ?it/s]\u001b[A\u001b[A\n",
      "\n",
      "100%|██████████| 1/1 [00:00<00:00,  1.95it/s]\u001b[A\u001b[A\n",
      "\n",
      "  7%|▋         | 732/10000 [18:11<3:08:25,  1.22s/it]\u001b[A\n",
      "\n",
      "  0%|          | 0/1 [00:00<?, ?it/s]\u001b[A\u001b[A\n",
      "\n",
      "100%|██████████| 1/1 [00:01<00:00,  1.02s/it]\u001b[A\u001b[A\n",
      "\n",
      "  7%|▋         | 733/10000 [18:12<3:16:15,  1.27s/it]\u001b[A\n",
      "\n",
      "  0%|          | 0/1 [00:00<?, ?it/s]\u001b[A\u001b[A\n",
      "\n",
      "100%|██████████| 1/1 [00:01<00:00,  1.05s/it]\u001b[A\u001b[A\n",
      "\n",
      "  7%|▋         | 734/10000 [18:14<3:26:49,  1.34s/it]\u001b[A\n",
      "\n",
      "  0%|          | 0/1 [00:00<?, ?it/s]\u001b[A\u001b[A\n",
      "\n",
      "100%|██████████| 1/1 [00:01<00:00,  1.04s/it]\u001b[A\u001b[A\n",
      "\n",
      "  7%|▋         | 735/10000 [18:15<3:35:38,  1.40s/it]\u001b[A\n",
      "\n",
      "  0%|          | 0/1 [00:00<?, ?it/s]\u001b[A\u001b[A\n",
      "\n",
      "100%|██████████| 1/1 [00:01<00:00,  1.01s/it]\u001b[A\u001b[A\n",
      "\n",
      "  7%|▋         | 736/10000 [18:17<3:38:29,  1.42s/it]\u001b[A\n",
      "\n",
      "  0%|          | 0/1 [00:00<?, ?it/s]\u001b[A\u001b[A\n",
      "\n",
      "100%|██████████| 1/1 [00:01<00:00,  1.01s/it]\u001b[A\u001b[A\n",
      "\n",
      "  7%|▋         | 737/10000 [18:18<3:41:57,  1.44s/it]\u001b[A\n",
      "\n",
      "  0%|          | 0/1 [00:00<?, ?it/s]\u001b[A\u001b[A\n",
      "\n",
      "100%|██████████| 1/1 [00:01<00:00,  1.06s/it]\u001b[A\u001b[A\n",
      "\n",
      "  7%|▋         | 738/10000 [18:20<3:43:50,  1.45s/it]\u001b[A\n",
      "\n",
      "  0%|          | 0/1 [00:00<?, ?it/s]\u001b[A\u001b[A\n",
      "\n",
      "100%|██████████| 1/1 [00:01<00:00,  1.09s/it]\u001b[A\u001b[A\n",
      "\n",
      "  7%|▋         | 739/10000 [18:21<3:49:16,  1.49s/it]\u001b[A\n",
      "\n",
      "  0%|          | 0/1 [00:00<?, ?it/s]\u001b[A\u001b[A\n",
      "\n",
      "100%|██████████| 1/1 [00:00<00:00,  1.34it/s]\u001b[A\u001b[A\n",
      "\n",
      "  7%|▋         | 740/10000 [18:22<3:27:01,  1.34s/it]\u001b[A\n",
      "\n",
      "  0%|          | 0/1 [00:00<?, ?it/s]\u001b[A\u001b[A\n",
      "\n",
      "100%|██████████| 1/1 [00:00<00:00,  1.78it/s]\u001b[A\u001b[A\n",
      "\n",
      "  7%|▋         | 741/10000 [18:23<3:19:58,  1.30s/it]\u001b[A\n",
      "\n",
      "  0%|          | 0/1 [00:00<?, ?it/s]\u001b[A\u001b[A\n",
      "\n",
      "100%|██████████| 1/1 [00:01<00:00,  1.29s/it]\u001b[A\u001b[A\n",
      "\n",
      "  7%|▋         | 742/10000 [18:25<3:43:11,  1.45s/it]\u001b[A\n",
      "\n",
      "  0%|          | 0/1 [00:00<?, ?it/s]\u001b[A\u001b[A\n",
      "\n",
      "100%|██████████| 1/1 [00:01<00:00,  1.09s/it]\u001b[A\u001b[A\n",
      "\n",
      "  7%|▋         | 743/10000 [18:27<3:48:55,  1.48s/it]\u001b[A\n",
      "\n",
      "  0%|          | 0/1 [00:00<?, ?it/s]\u001b[A\u001b[A\n",
      "\n",
      "100%|██████████| 1/1 [00:01<00:00,  1.10s/it]\u001b[A\u001b[A\n",
      "\n",
      "  7%|▋         | 744/10000 [18:28<3:51:41,  1.50s/it]\u001b[A\n",
      "\n",
      "  0%|          | 0/1 [00:00<?, ?it/s]\u001b[A\u001b[A\n",
      "\n",
      "100%|██████████| 1/1 [00:01<00:00,  1.03s/it]\u001b[A\u001b[A\n",
      "\n",
      "  7%|▋         | 745/10000 [18:30<3:53:07,  1.51s/it]\u001b[A\n",
      "\n",
      "  0%|          | 0/1 [00:00<?, ?it/s]\u001b[A\u001b[A\n",
      "\n",
      "100%|██████████| 1/1 [00:01<00:00,  1.17s/it]\u001b[A\u001b[A\n",
      "\n",
      "  7%|▋         | 746/10000 [18:31<3:59:15,  1.55s/it]\u001b[A\n",
      "\n",
      "  0%|          | 0/1 [00:00<?, ?it/s]\u001b[A\u001b[A\n",
      "\n",
      "100%|██████████| 1/1 [00:01<00:00,  1.16s/it]\u001b[A\u001b[A\n",
      "\n",
      "  7%|▋         | 747/10000 [18:33<3:52:43,  1.51s/it]\u001b[A\n",
      "\n",
      "  0%|          | 0/1 [00:00<?, ?it/s]\u001b[A\u001b[A\n",
      "\n",
      "100%|██████████| 1/1 [00:00<00:00,  1.81it/s]\u001b[A\u001b[A\n",
      "\n",
      "  7%|▋         | 748/10000 [18:34<3:28:04,  1.35s/it]\u001b[A\n",
      "\n",
      "  0%|          | 0/1 [00:00<?, ?it/s]\u001b[A\u001b[A\n",
      "\n",
      "100%|██████████| 1/1 [00:01<00:00,  1.03s/it]\u001b[A\u001b[A\n",
      "\n",
      "  7%|▋         | 749/10000 [18:35<3:34:28,  1.39s/it]\u001b[A\n",
      "\n",
      "  0%|          | 0/1 [00:00<?, ?it/s]\u001b[A\u001b[A\n",
      "\n",
      "100%|██████████| 1/1 [00:01<00:00,  1.13s/it]\u001b[A\u001b[A\n",
      "\n",
      "  8%|▊         | 750/10000 [18:37<3:46:13,  1.47s/it]\u001b[A\n",
      "\n",
      "  0%|          | 0/1 [00:00<?, ?it/s]\u001b[A\u001b[A\n",
      "\n",
      "100%|██████████| 1/1 [00:01<00:00,  1.17s/it]\u001b[A\u001b[A\n",
      "\n",
      "  8%|▊         | 751/10000 [18:39<3:54:13,  1.52s/it]\u001b[A\n",
      "\n",
      "  0%|          | 0/1 [00:00<?, ?it/s]\u001b[A\u001b[A\n",
      "\n",
      "100%|██████████| 1/1 [00:01<00:00,  1.12s/it]\u001b[A\u001b[A\n",
      "\n",
      "  8%|▊         | 752/10000 [18:40<3:56:57,  1.54s/it]\u001b[A\n",
      "\n",
      "  0%|          | 0/1 [00:00<?, ?it/s]\u001b[A\u001b[A\n",
      "\n",
      "100%|██████████| 1/1 [00:01<00:00,  1.16s/it]\u001b[A\u001b[A\n",
      "\n",
      "  8%|▊         | 753/10000 [18:42<4:02:15,  1.57s/it]\u001b[A\n",
      "\n",
      "  0%|          | 0/1 [00:00<?, ?it/s]\u001b[A\u001b[A\n",
      "\n",
      "100%|██████████| 1/1 [00:01<00:00,  1.04s/it]\u001b[A\u001b[A\n",
      "\n",
      "  8%|▊         | 754/10000 [18:43<4:00:01,  1.56s/it]\u001b[A\n",
      "\n",
      "  0%|          | 0/1 [00:00<?, ?it/s]\u001b[A\u001b[A\n",
      "\n",
      "100%|██████████| 1/1 [00:01<00:00,  1.20s/it]\u001b[A\u001b[A\n",
      "\n",
      "  8%|▊         | 755/10000 [18:45<4:07:41,  1.61s/it]\u001b[A\n",
      "\n",
      "  0%|          | 0/1 [00:00<?, ?it/s]\u001b[A\u001b[A\n",
      "\n",
      "100%|██████████| 1/1 [00:01<00:00,  1.26s/it]\u001b[A\u001b[A\n",
      "\n",
      "  8%|▊         | 756/10000 [18:47<4:10:11,  1.62s/it]\u001b[A\n",
      "\n",
      "  0%|          | 0/1 [00:00<?, ?it/s]\u001b[A\u001b[A\n",
      "\n",
      "100%|██████████| 1/1 [00:00<00:00,  1.34it/s]\u001b[A\u001b[A\n",
      "\n",
      "  8%|▊         | 757/10000 [18:48<3:40:23,  1.43s/it]\u001b[A\n",
      "\n",
      "  0%|          | 0/1 [00:00<?, ?it/s]\u001b[A\u001b[A\n",
      "\n",
      "100%|██████████| 1/1 [00:00<00:00,  2.02it/s]\u001b[A\u001b[A\n",
      "\n",
      "  8%|▊         | 758/10000 [18:48<3:07:25,  1.22s/it]\u001b[A\n",
      "\n",
      "  0%|          | 0/1 [00:00<?, ?it/s]\u001b[A\u001b[A\n",
      "\n",
      "100%|██████████| 1/1 [00:00<00:00,  2.03it/s]\u001b[A\u001b[A\n",
      "\n",
      "  8%|▊         | 759/10000 [18:49<2:44:20,  1.07s/it]\u001b[A\n",
      "\n",
      "  0%|          | 0/1 [00:00<?, ?it/s]\u001b[A\u001b[A\n",
      "\n",
      "100%|██████████| 1/1 [00:00<00:00,  1.36it/s]\u001b[A\u001b[A\n",
      "\n",
      "  8%|▊         | 760/10000 [18:50<2:46:30,  1.08s/it]\u001b[A\n",
      "\n",
      "  0%|          | 0/1 [00:00<?, ?it/s]\u001b[A\u001b[A\n",
      "\n",
      "100%|██████████| 1/1 [00:00<00:00,  1.89it/s]\u001b[A\u001b[A\n",
      "\n",
      "  8%|▊         | 761/10000 [18:51<2:31:48,  1.01it/s]\u001b[A\n",
      "\n",
      "  0%|          | 0/1 [00:00<?, ?it/s]\u001b[A\u001b[A\n",
      "\n",
      "100%|██████████| 1/1 [00:00<00:00,  2.18it/s]\u001b[A\u001b[A\n",
      "\n",
      "  8%|▊         | 762/10000 [18:52<2:17:50,  1.12it/s]\u001b[A\n",
      "\n",
      "  0%|          | 0/1 [00:00<?, ?it/s]\u001b[A\u001b[A\n",
      "\n",
      "100%|██████████| 1/1 [00:00<00:00,  2.17it/s]\u001b[A\u001b[A\n",
      "\n",
      "  8%|▊         | 763/10000 [18:52<2:05:54,  1.22it/s]\u001b[A\n",
      "\n",
      "  0%|          | 0/1 [00:00<?, ?it/s]\u001b[A\u001b[A\n",
      "\n",
      "100%|██████████| 1/1 [00:00<00:00,  1.80it/s]\u001b[A\u001b[A\n",
      "\n",
      "  8%|▊         | 764/10000 [18:53<2:06:10,  1.22it/s]\u001b[A\n",
      "\n",
      "  0%|          | 0/1 [00:00<?, ?it/s]\u001b[A\u001b[A\n",
      "\n",
      "100%|██████████| 1/1 [00:00<00:00,  1.82it/s]\u001b[A\u001b[A\n",
      "\n",
      "  8%|▊         | 765/10000 [18:54<2:18:21,  1.11it/s]\u001b[A\n",
      "\n",
      "  0%|          | 0/1 [00:00<?, ?it/s]\u001b[A\u001b[A\n",
      "\n",
      "100%|██████████| 1/1 [00:01<00:00,  1.31s/it]\u001b[A\u001b[A\n",
      "\n",
      "  8%|▊         | 766/10000 [18:56<3:06:14,  1.21s/it]\u001b[A\n",
      "\n",
      "  0%|          | 0/1 [00:00<?, ?it/s]\u001b[A\u001b[A\n",
      "\n",
      "100%|██████████| 1/1 [00:01<00:00,  1.22s/it]\u001b[A\u001b[A\n",
      "\n",
      "  8%|▊         | 767/10000 [18:58<3:29:09,  1.36s/it]\u001b[A\n",
      "\n",
      "  0%|          | 0/1 [00:00<?, ?it/s]\u001b[A\u001b[A\n",
      "\n",
      "100%|██████████| 1/1 [00:01<00:00,  1.12s/it]\u001b[A\u001b[A\n",
      "\n",
      "  8%|▊         | 768/10000 [18:59<3:40:26,  1.43s/it]\u001b[A\n",
      "\n",
      "  0%|          | 0/1 [00:00<?, ?it/s]\u001b[A\u001b[A\n",
      "\n",
      "100%|██████████| 1/1 [00:01<00:00,  1.15s/it]\u001b[A\u001b[A\n",
      "\n",
      "  8%|▊         | 769/10000 [19:01<3:53:26,  1.52s/it]\u001b[A\n",
      "\n",
      "  0%|          | 0/1 [00:00<?, ?it/s]\u001b[A\u001b[A\n",
      "\n",
      "100%|██████████| 1/1 [00:01<00:00,  1.22s/it]\u001b[A\u001b[A\n",
      "\n",
      "  8%|▊         | 770/10000 [19:03<4:04:33,  1.59s/it]\u001b[A\n",
      "\n",
      "  0%|          | 0/1 [00:00<?, ?it/s]\u001b[A\u001b[A\n",
      "\n",
      "100%|██████████| 1/1 [00:01<00:00,  1.41s/it]\u001b[A\u001b[A\n",
      "\n",
      "  8%|▊         | 771/10000 [19:05<4:21:48,  1.70s/it]\u001b[A\n",
      "\n",
      "  0%|          | 0/1 [00:00<?, ?it/s]\u001b[A\u001b[A\n",
      "\n",
      "100%|██████████| 1/1 [00:01<00:00,  1.08s/it]\u001b[A\u001b[A\n",
      "\n",
      "  8%|▊         | 772/10000 [19:06<4:03:56,  1.59s/it]\u001b[A\n",
      "\n",
      "  0%|          | 0/1 [00:00<?, ?it/s]\u001b[A\u001b[A\n",
      "\n",
      "100%|██████████| 1/1 [00:00<00:00,  1.69it/s]\u001b[A\u001b[A\n",
      "\n",
      "  8%|▊         | 773/10000 [19:07<3:35:02,  1.40s/it]\u001b[A\n",
      "\n",
      "  0%|          | 0/1 [00:00<?, ?it/s]\u001b[A\u001b[A\n",
      "\n",
      "100%|██████████| 1/1 [00:00<00:00,  1.01it/s]\u001b[A\u001b[A\n",
      "\n",
      "  8%|▊         | 774/10000 [19:09<3:39:51,  1.43s/it]\u001b[A\n",
      "\n",
      "  0%|          | 0/1 [00:00<?, ?it/s]\u001b[A\u001b[A\n",
      "\n",
      "100%|██████████| 1/1 [00:01<00:00,  1.05s/it]\u001b[A\u001b[A\n",
      "\n",
      "  8%|▊         | 775/10000 [19:10<3:45:06,  1.46s/it]\u001b[A\n",
      "\n",
      "  0%|          | 0/1 [00:00<?, ?it/s]\u001b[A\u001b[A\n",
      "\n",
      "100%|██████████| 1/1 [00:01<00:00,  1.05s/it]\u001b[A\u001b[A\n",
      "\n",
      "  8%|▊         | 776/10000 [19:12<3:46:06,  1.47s/it]\u001b[A\n",
      "\n",
      "  0%|          | 0/1 [00:00<?, ?it/s]\u001b[A\u001b[A\n",
      "\n",
      "100%|██████████| 1/1 [00:00<00:00,  1.01it/s]\u001b[A\u001b[A\n",
      "\n",
      "  8%|▊         | 777/10000 [19:13<3:45:07,  1.46s/it]\u001b[A\n",
      "\n",
      "  0%|          | 0/1 [00:00<?, ?it/s]\u001b[A\u001b[A\n",
      "\n",
      "100%|██████████| 1/1 [00:01<00:00,  1.17s/it]\u001b[A\u001b[A\n",
      "\n",
      "  8%|▊         | 778/10000 [19:15<3:52:07,  1.51s/it]\u001b[A\n",
      "\n",
      "  0%|          | 0/1 [00:00<?, ?it/s]\u001b[A\u001b[A\n",
      "\n",
      "100%|██████████| 1/1 [00:01<00:00,  1.05s/it]\u001b[A\u001b[A\n",
      "\n",
      "  8%|▊         | 779/10000 [19:16<3:52:54,  1.52s/it]\u001b[A\n",
      "\n",
      "  0%|          | 0/1 [00:00<?, ?it/s]\u001b[A\u001b[A\n",
      "\n",
      "100%|██████████| 1/1 [00:00<00:00,  1.02it/s]\u001b[A\u001b[A\n",
      "\n",
      "  8%|▊         | 780/10000 [19:18<3:49:28,  1.49s/it]\u001b[A\n",
      "\n",
      "  0%|          | 0/1 [00:00<?, ?it/s]\u001b[A\u001b[A\n",
      "\n",
      "100%|██████████| 1/1 [00:01<00:00,  1.24s/it]\u001b[A\u001b[A\n",
      "\n",
      "  8%|▊         | 781/10000 [19:19<3:54:32,  1.53s/it]\u001b[A\n",
      "\n",
      "  0%|          | 0/1 [00:00<?, ?it/s]\u001b[A\u001b[A\n",
      "\n",
      "100%|██████████| 1/1 [00:00<00:00,  1.77it/s]\u001b[A\u001b[A\n",
      "\n",
      "  8%|▊         | 782/10000 [19:20<3:31:23,  1.38s/it]\u001b[A\n",
      "\n",
      "  0%|          | 0/1 [00:00<?, ?it/s]\u001b[A\u001b[A\n",
      "\n",
      "100%|██████████| 1/1 [00:01<00:00,  1.28s/it]\u001b[A\u001b[A\n",
      "\n",
      "  8%|▊         | 783/10000 [19:22<3:51:11,  1.51s/it]\u001b[A\n",
      "\n",
      "  0%|          | 0/1 [00:00<?, ?it/s]\u001b[A\u001b[A\n",
      "\n",
      "100%|██████████| 1/1 [00:01<00:00,  1.08s/it]\u001b[A\u001b[A\n",
      "\n",
      "  8%|▊         | 784/10000 [19:24<3:51:09,  1.50s/it]\u001b[A\n",
      "\n",
      "  0%|          | 0/1 [00:00<?, ?it/s]\u001b[A\u001b[A\n",
      "\n",
      "100%|██████████| 1/1 [00:01<00:00,  1.07s/it]\u001b[A\u001b[A\n",
      "\n",
      "  8%|▊         | 785/10000 [19:25<3:53:19,  1.52s/it]\u001b[A\n",
      "\n",
      "  0%|          | 0/1 [00:00<?, ?it/s]\u001b[A\u001b[A\n",
      "\n",
      "100%|██████████| 1/1 [00:01<00:00,  1.17s/it]\u001b[A\u001b[A\n",
      "\n",
      "  8%|▊         | 786/10000 [19:27<4:02:08,  1.58s/it]\u001b[A\n",
      "\n",
      "  0%|          | 0/1 [00:00<?, ?it/s]\u001b[A\u001b[A\n",
      "\n",
      "100%|██████████| 1/1 [00:01<00:00,  1.10s/it]\u001b[A\u001b[A\n",
      "\n",
      "  8%|▊         | 787/10000 [19:29<4:04:36,  1.59s/it]\u001b[A\n",
      "\n",
      "  0%|          | 0/1 [00:00<?, ?it/s]\u001b[A\u001b[A\n",
      "\n",
      "100%|██████████| 1/1 [00:01<00:00,  1.11s/it]\u001b[A\u001b[A\n",
      "\n",
      "  8%|▊         | 788/10000 [19:30<4:02:17,  1.58s/it]\u001b[A\n",
      "\n",
      "  0%|          | 0/1 [00:00<?, ?it/s]\u001b[A\u001b[A\n",
      "\n",
      "100%|██████████| 1/1 [00:00<00:00,  2.08it/s]\u001b[A\u001b[A\n",
      "\n",
      "  8%|▊         | 789/10000 [19:31<3:22:24,  1.32s/it]\u001b[A\n",
      "\n",
      "  0%|          | 0/1 [00:00<?, ?it/s]\u001b[A\u001b[A\n",
      "\n",
      "100%|██████████| 1/1 [00:00<00:00,  2.29it/s]\u001b[A\u001b[A\n",
      "\n",
      "  8%|▊         | 790/10000 [19:32<2:59:07,  1.17s/it]\u001b[A\n",
      "\n",
      "  0%|          | 0/1 [00:00<?, ?it/s]\u001b[A\u001b[A\n",
      "\n",
      "100%|██████████| 1/1 [00:00<00:00,  1.04it/s]\u001b[A\u001b[A\n",
      "\n",
      "  8%|▊         | 791/10000 [19:33<3:09:29,  1.23s/it]\u001b[A\n",
      "\n",
      "  0%|          | 0/1 [00:00<?, ?it/s]\u001b[A\u001b[A\n",
      "\n",
      "100%|██████████| 1/1 [00:01<00:00,  1.01s/it]\u001b[A\u001b[A\n",
      "\n",
      "  8%|▊         | 792/10000 [19:35<3:21:18,  1.31s/it]\u001b[A\n",
      "\n",
      "  0%|          | 0/1 [00:00<?, ?it/s]\u001b[A\u001b[A\n",
      "\n",
      "100%|██████████| 1/1 [00:01<00:00,  1.00s/it]\u001b[A\u001b[A\n",
      "\n",
      "  8%|▊         | 793/10000 [19:36<3:27:26,  1.35s/it]\u001b[A\n",
      "\n",
      "  0%|          | 0/1 [00:00<?, ?it/s]\u001b[A\u001b[A\n",
      "\n",
      "100%|██████████| 1/1 [00:00<00:00,  1.03it/s]\u001b[A\u001b[A\n",
      "\n",
      "  8%|▊         | 794/10000 [19:37<3:30:09,  1.37s/it]\u001b[A\n",
      "\n",
      "  0%|          | 0/1 [00:00<?, ?it/s]\u001b[A\u001b[A\n",
      "\n",
      "100%|██████████| 1/1 [00:01<00:00,  1.04s/it]\u001b[A\u001b[A\n",
      "\n",
      "  8%|▊         | 795/10000 [19:39<3:33:38,  1.39s/it]\u001b[A\n",
      "\n",
      "  0%|          | 0/1 [00:00<?, ?it/s]\u001b[A\u001b[A\n",
      "\n",
      "100%|██████████| 1/1 [00:01<00:00,  1.04s/it]\u001b[A\u001b[A\n",
      "\n",
      "  8%|▊         | 796/10000 [19:40<3:38:10,  1.42s/it]\u001b[A\n",
      "\n",
      "  0%|          | 0/1 [00:00<?, ?it/s]\u001b[A\u001b[A\n",
      "\n",
      "100%|██████████| 1/1 [00:00<00:00,  1.10it/s]\u001b[A\u001b[A\n",
      "\n",
      "  8%|▊         | 797/10000 [19:42<3:36:11,  1.41s/it]\u001b[A\n",
      "\n",
      "  0%|          | 0/1 [00:00<?, ?it/s]\u001b[A\u001b[A\n",
      "\n",
      "100%|██████████| 1/1 [00:00<00:00,  1.09it/s]\u001b[A\u001b[A\n",
      "\n",
      "  8%|▊         | 798/10000 [19:43<3:34:59,  1.40s/it]\u001b[A\n",
      "\n",
      "  0%|          | 0/1 [00:00<?, ?it/s]\u001b[A\u001b[A\n",
      "\n",
      "100%|██████████| 1/1 [00:00<00:00,  1.73it/s]\u001b[A\u001b[A\n",
      "\n",
      "  8%|▊         | 799/10000 [19:44<3:09:50,  1.24s/it]\u001b[A\n",
      "\n",
      "  0%|          | 0/1 [00:00<?, ?it/s]\u001b[A\u001b[A\n",
      "\n",
      "100%|██████████| 1/1 [00:00<00:00,  1.99it/s]\u001b[A\u001b[A\n",
      "\n",
      "  8%|▊         | 800/10000 [19:45<2:48:39,  1.10s/it]\u001b[A\n",
      "\n",
      "  0%|          | 0/1 [00:00<?, ?it/s]\u001b[A\u001b[A\n",
      "\n",
      "100%|██████████| 1/1 [00:00<00:00,  1.88it/s]\u001b[A\u001b[A\n",
      "\n",
      "  8%|▊         | 801/10000 [19:46<2:37:21,  1.03s/it]\u001b[A\n",
      "\n",
      "  0%|          | 0/1 [00:00<?, ?it/s]\u001b[A\u001b[A\n",
      "\n",
      "100%|██████████| 1/1 [00:00<00:00,  1.23it/s]\u001b[A\u001b[A\n",
      "\n",
      "  8%|▊         | 802/10000 [19:47<2:37:31,  1.03s/it]\u001b[A\n",
      "\n",
      "  0%|          | 0/1 [00:00<?, ?it/s]\u001b[A\u001b[A\n",
      "\n",
      "100%|██████████| 1/1 [00:00<00:00,  2.15it/s]\u001b[A\u001b[A\n",
      "\n",
      "  8%|▊         | 803/10000 [19:47<2:22:45,  1.07it/s]\u001b[A\n",
      "\n",
      "  0%|          | 0/1 [00:00<?, ?it/s]\u001b[A\u001b[A\n",
      "\n",
      "100%|██████████| 1/1 [00:00<00:00,  2.06it/s]\u001b[A\u001b[A\n",
      "\n",
      "  8%|▊         | 804/10000 [19:48<2:12:30,  1.16it/s]\u001b[A\n",
      "\n",
      "  0%|          | 0/1 [00:00<?, ?it/s]\u001b[A\u001b[A\n",
      "\n",
      "100%|██████████| 1/1 [00:00<00:00,  2.05it/s]\u001b[A\u001b[A\n",
      "\n",
      "  8%|▊         | 805/10000 [19:49<2:07:22,  1.20it/s]\u001b[A\n",
      "\n",
      "  0%|          | 0/1 [00:00<?, ?it/s]\u001b[A\u001b[A\n",
      "\n",
      "100%|██████████| 1/1 [00:00<00:00,  2.05it/s]\u001b[A\u001b[A\n",
      "\n",
      "  8%|▊         | 806/10000 [19:50<2:08:16,  1.19it/s]\u001b[A\n",
      "\n",
      "  0%|          | 0/1 [00:00<?, ?it/s]\u001b[A\u001b[A\n",
      "\n",
      "100%|██████████| 1/1 [00:01<00:00,  1.21s/it]\u001b[A\u001b[A\n",
      "\n",
      "  8%|▊         | 807/10000 [19:51<2:47:10,  1.09s/it]\u001b[A\n",
      "\n",
      "  0%|          | 0/1 [00:00<?, ?it/s]\u001b[A\u001b[A\n",
      "\n",
      "100%|██████████| 1/1 [00:01<00:00,  1.03s/it]\u001b[A\u001b[A\n",
      "\n",
      "  8%|▊         | 808/10000 [19:53<3:06:05,  1.21s/it]\u001b[A\n",
      "\n",
      "  0%|          | 0/1 [00:00<?, ?it/s]\u001b[A\u001b[A\n",
      "\n",
      "100%|██████████| 1/1 [00:01<00:00,  1.08s/it]\u001b[A\u001b[A\n",
      "\n",
      "  8%|▊         | 809/10000 [19:54<3:21:59,  1.32s/it]\u001b[A\n",
      "\n",
      "  0%|          | 0/1 [00:00<?, ?it/s]\u001b[A\u001b[A\n",
      "\n",
      "100%|██████████| 1/1 [00:01<00:00,  1.10s/it]\u001b[A\u001b[A\n",
      "\n",
      "  8%|▊         | 810/10000 [19:56<3:34:54,  1.40s/it]\u001b[A\n",
      "\n",
      "  0%|          | 0/1 [00:00<?, ?it/s]\u001b[A\u001b[A\n",
      "\n",
      "100%|██████████| 1/1 [00:01<00:00,  1.07s/it]\u001b[A\u001b[A\n",
      "\n",
      "  8%|▊         | 811/10000 [19:58<3:42:48,  1.45s/it]\u001b[A\n",
      "\n",
      "  0%|          | 0/1 [00:00<?, ?it/s]\u001b[A\u001b[A\n",
      "\n",
      "100%|██████████| 1/1 [00:00<00:00,  1.32it/s]\u001b[A\u001b[A\n",
      "\n",
      "  8%|▊         | 812/10000 [19:59<3:23:33,  1.33s/it]\u001b[A\n",
      "\n",
      "  0%|          | 0/1 [00:00<?, ?it/s]\u001b[A\u001b[A\n",
      "\n",
      "100%|██████████| 1/1 [00:00<00:00,  2.19it/s]\u001b[A\u001b[A\n",
      "\n",
      "  8%|▊         | 813/10000 [19:59<2:53:57,  1.14s/it]\u001b[A\n",
      "\n",
      "  0%|          | 0/1 [00:00<?, ?it/s]\u001b[A\u001b[A\n",
      "\n",
      "100%|██████████| 1/1 [00:01<00:00,  1.01s/it]\u001b[A\u001b[A\n",
      "\n",
      "  8%|▊         | 814/10000 [20:01<3:07:30,  1.22s/it]\u001b[A\n",
      "\n",
      "  0%|          | 0/1 [00:00<?, ?it/s]\u001b[A\u001b[A\n",
      "\n",
      "100%|██████████| 1/1 [00:00<00:00,  1.11it/s]\u001b[A\u001b[A\n",
      "\n",
      "  8%|▊         | 815/10000 [20:02<3:09:57,  1.24s/it]\u001b[A\n",
      "\n",
      "  0%|          | 0/1 [00:00<?, ?it/s]\u001b[A\u001b[A\n",
      "\n",
      "100%|██████████| 1/1 [00:00<00:00,  1.01it/s]\u001b[A\u001b[A\n",
      "\n",
      "  8%|▊         | 816/10000 [20:03<3:19:40,  1.30s/it]\u001b[A\n",
      "\n",
      "  0%|          | 0/1 [00:00<?, ?it/s]\u001b[A\u001b[A\n",
      "\n",
      "100%|██████████| 1/1 [00:00<00:00,  1.02it/s]\u001b[A\u001b[A\n",
      "\n",
      "  8%|▊         | 817/10000 [20:05<3:24:34,  1.34s/it]\u001b[A\n",
      "\n",
      "  0%|          | 0/1 [00:00<?, ?it/s]\u001b[A\u001b[A\n",
      "\n",
      "100%|██████████| 1/1 [00:00<00:00,  1.03it/s]\u001b[A\u001b[A\n",
      "\n",
      "  8%|▊         | 818/10000 [20:06<3:26:36,  1.35s/it]\u001b[A\n",
      "\n",
      "  0%|          | 0/1 [00:00<?, ?it/s]\u001b[A\u001b[A\n",
      "\n",
      "100%|██████████| 1/1 [00:01<00:00,  1.01s/it]\u001b[A\u001b[A\n",
      "\n",
      "  8%|▊         | 819/10000 [20:08<3:32:46,  1.39s/it]\u001b[A\n",
      "\n",
      "  0%|          | 0/1 [00:00<?, ?it/s]\u001b[A\u001b[A\n",
      "\n",
      "100%|██████████| 1/1 [00:01<00:00,  1.04s/it]\u001b[A\u001b[A\n",
      "  8%|▊         | 819/10000 [20:09<3:46:03,  1.48s/it]\n",
      "1it [20:10, 1210.84s/it]"
     ]
    },
    {
     "name": "stdout",
     "output_type": "stream",
     "text": [
      "Train balanced accuracy:0.7726\n"
     ]
    },
    {
     "name": "stderr",
     "output_type": "stream",
     "text": [
      "\n"
     ]
    }
   ],
   "source": [
    "output_dict, model = perform_cross_validation(data, parameters, save_embeddings=True, save_subgraph=True, final_fit=True)"
   ]
  },
  {
   "cell_type": "code",
   "execution_count": 11,
   "metadata": {},
   "outputs": [
    {
     "name": "stdout",
     "output_type": "stream",
     "text": [
      "Train AUC : 0.8572099248938343\n",
      "Train Balanced Accuracy: 0.772617169605111\n",
      "Val AUC: 0.7429006010455781\n",
      "Val Balanced Accuracy: 0.6803462401803664\n",
      "Test AUC: 0.7374802780249894\n",
      "Test Balanced Accuracy: 0.6686722347446821\n"
     ]
    }
   ],
   "source": [
    "output_dict.keys()\n",
    "print('Train AUC :', output_dict['AUC_0_train'])\n",
    "print('Train Balanced Accuracy:', output_dict['Balanced Accuracy_0_train'])\n",
    "print('Val AUC:', output_dict['AUC_0_val'])\n",
    "print('Val Balanced Accuracy:', output_dict['Balanced Accuracy_0_val'])\n",
    "print('Test AUC:', output_dict['AUC_0_test'])\n",
    "print('Test Balanced Accuracy:', output_dict['Balanced Accuracy_0_test'])"
   ]
  },
  {
   "cell_type": "code",
   "execution_count": 12,
   "metadata": {},
   "outputs": [
    {
     "name": "stdout",
     "output_type": "stream",
     "text": [
      "0.6926188391137976 0.6931368829920814\n"
     ]
    }
   ],
   "source": [
    "print(output_dict['Balanced Accuracy Ber2_0_train'], output_dict['Balanced Accuracy Ber1_0_train'])"
   ]
  },
  {
   "cell_type": "code",
   "execution_count": 13,
   "metadata": {},
   "outputs": [],
   "source": [
    "unique_scales = df_item['scale'].unique()\n",
    "unique_domains = df_item['domain'].unique()\n",
    "unique_matdiff = df_item['matdiff'].sort_values().unique()\n",
    "#scale_colors = dict([(c, plt.cm.tab10(i)) for i, c in enumerate(unique_scales)])\n",
    "#domain_colors = dict([(c, plt.cm.tab10(i)) for i, c in enumerate(unique_domains)])"
   ]
  },
  {
   "cell_type": "code",
   "execution_count": 14,
   "metadata": {},
   "outputs": [],
   "source": [
    "train_losses = output_dict['losses_0']\n",
    "train_edge_indices, val_edge_indices, test_edge_indices = output_dict['indices_0']\n",
    "\n",
    "train_data = output_dict['train_subgraph_data'] \n",
    "val_data = output_dict['val_subgraph_data'] \n",
    "test_data = output_dict['test_subgraph_data']\n",
    "\n",
    "aux_data = (df, df_student, df_item, df_edge, \n",
    "    #clustering_indices, \n",
    "    train_losses, #test_losses, test_aucs, \n",
    "    train_edge_indices, val_edge_indices, test_edge_indices, \n",
    "    data.cpu(), train_data.cpu(), val_data.cpu(), test_data.cpu(),\n",
    "    unique_scales, unique_domains, unique_matdiff, \n",
    "    DATA_FILE)\n",
    "\n",
    "with open(f'./results/{OUTNAME}_{DATASET}_aux_data.pkl', 'wb') as handle:\n",
    "    pickle.dump(aux_data, handle, protocol=pickle.HIGHEST_PROTOCOL)"
   ]
  },
  {
   "cell_type": "code",
   "execution_count": 15,
   "metadata": {},
   "outputs": [],
   "source": [
    "# SAVE EVERYTHING\n",
    "torch.save(model, f'./results/{OUTNAME}_{DATASET}.pth.tar')"
   ]
  },
  {
   "cell_type": "code",
   "execution_count": 16,
   "metadata": {
    "scrolled": true
   },
   "outputs": [
    {
     "data": {
      "image/png": "[encoded data removed]",
      "text/plain": [
       "<Figure size 640x480 with 1 Axes>"
      ]
     },
     "metadata": {},
     "output_type": "display_data"
    }
   ],
   "source": [
    "train_indices = np.arange(len(train_losses))\n",
    "fig = plt.figure()\n",
    "plt.plot(train_indices, train_losses, c='blue')\n",
    "plt.ylabel('Loss')\n",
    "plt.xlabel('Epoch')\n",
    "\n",
    "fig.tight_layout()"
   ]
  },
  {
   "cell_type": "code",
   "execution_count": 17,
   "metadata": {},
   "outputs": [],
   "source": [
    "# save IRT parameters to matrix\n",
    "if ('IRT' in OUTNAME) and IRT_DIMS == 1:    \n",
    "    #z_dict = model.get_embeddings(train_data.to(device))\n",
    "    z_dict = output_dict['embedding_0']\n",
    "    df_item['IRT1_difficulty'] = -z_dict['offset']\n",
    "    df_item['IRT1_discrimination'] = z_dict['discrimination']\n",
    "    df_item['IRT1_discrimination_transf'] = z_dict['item']\n",
    "    ability = z_dict['ability']\n",
    "    df_edge['IRT1_ability'] = ability.ravel()\n",
    "    \n",
    "    aux_data = (df, df_student, df_item, df_edge, \n",
    "    train_losses, \n",
    "    train_edge_indices, val_edge_indices, test_edge_indices,\n",
    "    data.cpu(), train_data.cpu(), val_data.cpu().cpu(), test_data.cpu(),\n",
    "    unique_scales, unique_domains, unique_matdiff, \n",
    "    DATA_FILE)\n",
    "\n",
    "    with open(f'./results/{OUTNAME}_{DATASET}_aux_data_IRT1.pkl', 'wb') as handle:\n",
    "        pickle.dump(aux_data, handle, protocol=pickle.HIGHEST_PROTOCOL)\n",
    "        \n",
    "    df_item_clean = df_item.dropna(subset=['IRT_difficulty', 'IRT1_difficulty'])    \n",
    "    \n",
    "    fig = plt.figure()\n",
    "    sns.scatterplot(x='IRT_difficulty', y='IRT1_difficulty', data=df_item, hue='scale')\n",
    "    plt.title('Difficulty')\n",
    "    print('Difficulty:', pearsonr(df_item_clean['IRT1_difficulty'], df_item_clean['IRT_difficulty']))\n",
    "    \n",
    "    edge_feat = train_data['student', 'responds', 'item'].edge_attr.detach().cpu().numpy()\n",
    "    df_edge_clean = df_edge.dropna(subset=['IRT1_ability', 'ability', 'age'])\n",
    "    fig = plt.figure()\n",
    "    sns.scatterplot(x='age', y='IRT1_ability', data=df_edge_clean, hue='grade')\n",
    "    plt.title('Age-Ability')\n",
    "    \n",
    "    fig = plt.figure()\n",
    "    sns.scatterplot(x='grade', y='IRT1_ability', data=df_edge_clean, hue='age')\n",
    "    plt.title('Grade-Ability')\n",
    "    print('Age-Ability:', pearsonr(df_edge_clean['age'], df_edge_clean['IRT1_ability']))\n",
    "\n",
    "    fig = plt.figure()\n",
    "    sns.scatterplot(x='ability', y='IRT1_ability', data=df_edge_clean, hue='grade')\n",
    "    plt.title('Ability')\n",
    "    print('Ability:', pearsonr(df_edge_clean['ability'], df_edge_clean['IRT1_ability']))\n",
    "    "
   ]
  }
 ],
 "metadata": {
  "celltoolbar": "Tags",
  "kernelspec": {
   "display_name": "Python 3 (ipykernel)",
   "language": "python",
   "name": "python3"
  },
  "language_info": {
   "codemirror_mode": {
    "name": "ipython",
    "version": 3
   },
   "file_extension": ".py",
   "mimetype": "text/x-python",
   "name": "python",
   "nbconvert_exporter": "python",
   "pygments_lexer": "ipython3",
   "version": "3.8.19"
  },
  "vscode": {
   "interpreter": {
    "hash": "88516cc94b965045253aac22be7e673e07faa374a8dfeab45aefc65ddf94d8b2"
   }
  }
 },
 "nbformat": 4,
 "nbformat_minor": 4
}
