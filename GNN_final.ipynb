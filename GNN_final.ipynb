{
 "cells": [
  {
   "cell_type": "code",
   "execution_count": 1,
   "metadata": {
    "tags": [
     "parameters"
    ]
   },
   "outputs": [],
   "source": [
    "IRT_DIMS = 0\n",
    "DATASET = 'matrix'    \n",
    "ITEM_FEATURES = 'True'\n",
    "ITEM_FEATURES = False if ITEM_FEATURES == 'False' else True"
   ]
  },
  {
   "cell_type": "code",
   "execution_count": 2,
   "metadata": {},
   "outputs": [
    {
     "name": "stdout",
     "output_type": "stream",
     "text": [
      "\n"
     ]
    }
   ],
   "source": [
    "import sys, os, shutil\n",
    "import pickle\n",
    "import time\n",
    "import numpy as np\n",
    "from utils import (load_data_heterogeneous, create_data_object_heterogeneous)\n",
    "import seaborn as sns\n",
    "\n",
    "#from IRT import MIRT_2PL\n",
    "#from Heterogeneous_embedder_RT import EmbedderHeterogeneous, train_embedder_heterogeneous, test_embedder_heterogeneous\n",
    "from manage_experiments import perform_cross_validation\n",
    "\n",
    "import torch\n",
    "import numpy as np\n",
    "import matplotlib.pyplot as plt\n",
    "\n",
    "from scipy.stats import pearsonr"
   ]
  },
  {
   "cell_type": "code",
   "execution_count": 3,
   "metadata": {},
   "outputs": [
    {
     "name": "stdout",
     "output_type": "stream",
     "text": [
      "cpu\n"
     ]
    }
   ],
   "source": [
    "torch.cuda.empty_cache()\n",
    "device = torch.device('cuda' if torch.cuda.is_available() else 'cpu')\n",
    "print(device)"
   ]
  },
  {
   "cell_type": "code",
   "execution_count": 4,
   "metadata": {},
   "outputs": [
    {
     "name": "stdout",
     "output_type": "stream",
     "text": [
      "{'df_name': None, 'epochs': 10000, 'learning_rate': 0.005, 'weight_decay': 0, 'early_stopping': 500, 'n_splits': 10, 'device': 'cuda:0', 'batch_size': 65536, 'neighbours': [50, 50], 'model_type': 'GNN', 'hidden_dims': [8, 8], 'decoder_dim': 8, 'batch_norm': False, 'dropout': 0, 'irt_output': False}\n",
      "matrix\n"
     ]
    }
   ],
   "source": [
    "# Initialise\n",
    "parameters = {\n",
    "    'df_name': None,\n",
    "    'epochs': 10000,\n",
    "    'learning_rate': 0.005,\n",
    "    'weight_decay': 0,\n",
    "    'early_stopping': 200,\n",
    "    'n_splits': 10,\n",
    "    'device': 'cuda:0',\n",
    "    'batch_size': 2**14,\n",
    "    'neighbours': [50, 50] #[-1, -1]\n",
    "    }\n",
    "\n",
    "if IRT_DIMS > 0:\n",
    "    parameters['model_type'] = 'IRT'\n",
    "    parameters['hidden_dims'] = IRT_DIMS\n",
    "    parameters['lambda1'] = 0\n",
    "    parameters['lambda2'] = 0\n",
    "    OUTNAME = 'IRT'\n",
    "else:\n",
    "    parameters['model_type'] = 'GNN'\n",
    "    parameters['hidden_dims'] = [12, 12]\n",
    "    parameters['decoder_dim'] = 12\n",
    "    parameters['batch_norm'] = False\n",
    "    parameters['dropout'] = 0\n",
    "    parameters['irt_output'] = False\n",
    "    \n",
    "    OUTNAME = 'SAGE' \n",
    "\n",
    "if ITEM_FEATURES:\n",
    "    OUTNAME = OUTNAME + '_scales'\n",
    "    \n",
    "print(parameters)\n",
    "print(DATASET)"
   ]
  },
  {
   "cell_type": "code",
   "execution_count": 5,
   "metadata": {},
   "outputs": [
    {
     "name": "stdout",
     "output_type": "stream",
     "text": [
      "True\n"
     ]
    }
   ],
   "source": [
    "DATA_FILE = 'data/mindsteps_set_' + DATASET\n",
    "df = load_data_heterogeneous(DATA_FILE)\n",
    "data, df_student, df_item, df_edge = create_data_object_heterogeneous(df, return_aux_data=True, item_features=ITEM_FEATURES)"
   ]
  },
  {
   "cell_type": "code",
   "execution_count": 6,
   "metadata": {},
   "outputs": [
    {
     "name": "stdout",
     "output_type": "stream",
     "text": [
      "HeteroData(\n",
      "  student={\n",
      "    node_id=[51534],\n",
      "    x=[51534, 2],\n",
      "  },\n",
      "  item={\n",
      "    node_id=[17885],\n",
      "    x=[17885, 11],\n",
      "  },\n",
      "  (student, responds, item)={\n",
      "    edge_index=[2, 5614949],\n",
      "    edge_attr=[5614949, 2],\n",
      "    y=[5614949],\n",
      "  },\n",
      "  (item, rev_responds, student)={\n",
      "    edge_index=[2, 5614949],\n",
      "    y=[5614949],\n",
      "  }\n",
      ")\n"
     ]
    }
   ],
   "source": [
    "print(data)"
   ]
  },
  {
   "cell_type": "code",
   "execution_count": 7,
   "metadata": {},
   "outputs": [
    {
     "data": {
      "text/plain": [
       "tensor(0.)"
      ]
     },
     "execution_count": 7,
     "metadata": {},
     "output_type": "execute_result"
    }
   ],
   "source": [
    "torch.exp(torch.tensor(-100000))"
   ]
  },
  {
   "cell_type": "code",
   "execution_count": 8,
   "metadata": {},
   "outputs": [
    {
     "data": {
      "text/plain": [
       "Index(['studentId', 'code', 'motherTongue', 'Gender', 'scale', 'matrix',\n",
       "       'IRT_difficulty', 'topic', 'responseformat', 'textlength', 'score',\n",
       "       'age', 'grade', 'viewingTime', 'timestamp', 'useCase', 'assessmentId',\n",
       "       'school_location', 'school_postcode', 'canton', 'school_code',\n",
       "       'ability', 'frequency', 'previous_sessions', 'years_from_start',\n",
       "       'matdiff', 'matcode', 'domain'],\n",
       "      dtype='object')"
      ]
     },
     "execution_count": 8,
     "metadata": {},
     "output_type": "execute_result"
    }
   ],
   "source": [
    "df.columns"
   ]
  },
  {
   "cell_type": "code",
   "execution_count": 9,
   "metadata": {},
   "outputs": [
    {
     "data": {
      "text/html": [
       "<div>\n",
       "<style scoped>\n",
       "    .dataframe tbody tr th:only-of-type {\n",
       "        vertical-align: middle;\n",
       "    }\n",
       "\n",
       "    .dataframe tbody tr th {\n",
       "        vertical-align: top;\n",
       "    }\n",
       "\n",
       "    .dataframe thead th {\n",
       "        text-align: right;\n",
       "    }\n",
       "</style>\n",
       "<table border=\"1\" class=\"dataframe\">\n",
       "  <thead>\n",
       "    <tr style=\"text-align: right;\">\n",
       "      <th></th>\n",
       "      <th>studentId</th>\n",
       "      <th>code</th>\n",
       "      <th>motherTongue</th>\n",
       "      <th>Gender</th>\n",
       "      <th>scale</th>\n",
       "      <th>matrix</th>\n",
       "      <th>IRT_difficulty</th>\n",
       "      <th>topic</th>\n",
       "      <th>responseformat</th>\n",
       "      <th>textlength</th>\n",
       "      <th>...</th>\n",
       "      <th>school_postcode</th>\n",
       "      <th>canton</th>\n",
       "      <th>school_code</th>\n",
       "      <th>ability</th>\n",
       "      <th>frequency</th>\n",
       "      <th>previous_sessions</th>\n",
       "      <th>years_from_start</th>\n",
       "      <th>matdiff</th>\n",
       "      <th>matcode</th>\n",
       "      <th>domain</th>\n",
       "    </tr>\n",
       "  </thead>\n",
       "  <tbody>\n",
       "    <tr>\n",
       "      <th>0</th>\n",
       "      <td>0</td>\n",
       "      <td>0</td>\n",
       "      <td>1.0</td>\n",
       "      <td>0.0</td>\n",
       "      <td>fhoe</td>\n",
       "      <td>F.1.A.1.c.1</td>\n",
       "      <td>-0.370330</td>\n",
       "      <td>Monologe und Dialoge</td>\n",
       "      <td>NaN</td>\n",
       "      <td>NaN</td>\n",
       "      <td>...</td>\n",
       "      <td>4057</td>\n",
       "      <td>Basel-Stadt</td>\n",
       "      <td>04-052</td>\n",
       "      <td>1.083005</td>\n",
       "      <td>1.851849</td>\n",
       "      <td>2</td>\n",
       "      <td>1.08</td>\n",
       "      <td></td>\n",
       "      <td></td>\n",
       "      <td>f</td>\n",
       "    </tr>\n",
       "    <tr>\n",
       "      <th>1</th>\n",
       "      <td>0</td>\n",
       "      <td>1</td>\n",
       "      <td>1.0</td>\n",
       "      <td>0.0</td>\n",
       "      <td>fles</td>\n",
       "      <td>F.2.A.1.b.3</td>\n",
       "      <td>-0.494880</td>\n",
       "      <td>Berichte</td>\n",
       "      <td>NaN</td>\n",
       "      <td>NaN</td>\n",
       "      <td>...</td>\n",
       "      <td>4057</td>\n",
       "      <td>Basel-Stadt</td>\n",
       "      <td>04-052</td>\n",
       "      <td>0.657010</td>\n",
       "      <td>2.727266</td>\n",
       "      <td>3</td>\n",
       "      <td>1.10</td>\n",
       "      <td></td>\n",
       "      <td></td>\n",
       "      <td>f</td>\n",
       "    </tr>\n",
       "    <tr>\n",
       "      <th>2</th>\n",
       "      <td>0</td>\n",
       "      <td>2</td>\n",
       "      <td>1.0</td>\n",
       "      <td>0.0</td>\n",
       "      <td>mzuv</td>\n",
       "      <td>MA.1.A.3.f</td>\n",
       "      <td>0.368830</td>\n",
       "      <td>Gemischte Grundoperationen</td>\n",
       "      <td>single choice</td>\n",
       "      <td>NaN</td>\n",
       "      <td>...</td>\n",
       "      <td>4057</td>\n",
       "      <td>Basel-Stadt</td>\n",
       "      <td>04-052</td>\n",
       "      <td>0.751265</td>\n",
       "      <td>1000000.000000</td>\n",
       "      <td>0</td>\n",
       "      <td>0.00</td>\n",
       "      <td></td>\n",
       "      <td></td>\n",
       "      <td>m</td>\n",
       "    </tr>\n",
       "    <tr>\n",
       "      <th>3</th>\n",
       "      <td>0</td>\n",
       "      <td>3</td>\n",
       "      <td>1.0</td>\n",
       "      <td>0.0</td>\n",
       "      <td>fhoe</td>\n",
       "      <td>F.1.A.1.d.1</td>\n",
       "      <td>0.367442</td>\n",
       "      <td>Aus TV und Radio</td>\n",
       "      <td>NaN</td>\n",
       "      <td>NaN</td>\n",
       "      <td>...</td>\n",
       "      <td>4057</td>\n",
       "      <td>Basel-Stadt</td>\n",
       "      <td>04-052</td>\n",
       "      <td>1.083005</td>\n",
       "      <td>1.851849</td>\n",
       "      <td>2</td>\n",
       "      <td>1.08</td>\n",
       "      <td></td>\n",
       "      <td></td>\n",
       "      <td>f</td>\n",
       "    </tr>\n",
       "    <tr>\n",
       "      <th>4</th>\n",
       "      <td>0</td>\n",
       "      <td>4</td>\n",
       "      <td>1.0</td>\n",
       "      <td>0.0</td>\n",
       "      <td>fles</td>\n",
       "      <td>F.2.A.1.d.1</td>\n",
       "      <td>1.160150</td>\n",
       "      <td>Berichte</td>\n",
       "      <td>NaN</td>\n",
       "      <td>212.0</td>\n",
       "      <td>...</td>\n",
       "      <td>4057</td>\n",
       "      <td>Basel-Stadt</td>\n",
       "      <td>04-052</td>\n",
       "      <td>0.657010</td>\n",
       "      <td>2.727266</td>\n",
       "      <td>3</td>\n",
       "      <td>1.10</td>\n",
       "      <td></td>\n",
       "      <td></td>\n",
       "      <td>f</td>\n",
       "    </tr>\n",
       "  </tbody>\n",
       "</table>\n",
       "<p>5 rows × 28 columns</p>\n",
       "</div>"
      ],
      "text/plain": [
       "   studentId  code  motherTongue  Gender scale       matrix  IRT_difficulty  \\\n",
       "0          0     0           1.0     0.0  fhoe  F.1.A.1.c.1       -0.370330   \n",
       "1          0     1           1.0     0.0  fles  F.2.A.1.b.3       -0.494880   \n",
       "2          0     2           1.0     0.0  mzuv   MA.1.A.3.f        0.368830   \n",
       "3          0     3           1.0     0.0  fhoe  F.1.A.1.d.1        0.367442   \n",
       "4          0     4           1.0     0.0  fles  F.2.A.1.d.1        1.160150   \n",
       "\n",
       "                        topic responseformat  textlength  ...  \\\n",
       "0        Monologe und Dialoge            NaN         NaN  ...   \n",
       "1                    Berichte            NaN         NaN  ...   \n",
       "2  Gemischte Grundoperationen  single choice         NaN  ...   \n",
       "3            Aus TV und Radio            NaN         NaN  ...   \n",
       "4                    Berichte            NaN       212.0  ...   \n",
       "\n",
       "   school_postcode       canton  school_code   ability       frequency  \\\n",
       "0             4057  Basel-Stadt       04-052  1.083005        1.851849   \n",
       "1             4057  Basel-Stadt       04-052  0.657010        2.727266   \n",
       "2             4057  Basel-Stadt       04-052  0.751265  1000000.000000   \n",
       "3             4057  Basel-Stadt       04-052  1.083005        1.851849   \n",
       "4             4057  Basel-Stadt       04-052  0.657010        2.727266   \n",
       "\n",
       "  previous_sessions years_from_start matdiff matcode domain  \n",
       "0                 2             1.08                      f  \n",
       "1                 3             1.10                      f  \n",
       "2                 0             0.00                      m  \n",
       "3                 2             1.08                      f  \n",
       "4                 3             1.10                      f  \n",
       "\n",
       "[5 rows x 28 columns]"
      ]
     },
     "execution_count": 9,
     "metadata": {},
     "output_type": "execute_result"
    }
   ],
   "source": [
    "df.head()"
   ]
  },
  {
   "cell_type": "markdown",
   "metadata": {},
   "source": [
    "edge_dim = data['student', 'responds', 'item'].edge_attr.shape[1]\n",
    "if IRT_DIMS > 0:\n",
    "    model = MIRT_2PL(IRT_DIMS, edge_dim, data)\n",
    "else:\n",
    "    model = EmbedderHeterogeneous( \n",
    "        n_students =  data['student'].x.size(0),\n",
    "        n_items = data['item'].x.size(0),\n",
    "        student_inchannel = data['student'].x.size(1),\n",
    "        item_inchannel = data['item'].x.size(1),\n",
    "        hidden_channels=parameters['hidden_dims'],\n",
    "        edge_channel=edge_dim,\n",
    "        metadata=data.metadata()\n",
    "        ).to(device)\n",
    "    \n",
    "model = model.to(device)"
   ]
  },
  {
   "cell_type": "code",
   "execution_count": null,
   "metadata": {},
   "outputs": [
    {
     "name": "stdout",
     "output_type": "stream",
     "text": [
      "WARNING: running with a fixed random state\n"
     ]
    },
    {
     "name": "stderr",
     "output_type": "stream",
     "text": [
      "0it [00:00, ?it/s]"
     ]
    },
    {
     "name": "stdout",
     "output_type": "stream",
     "text": [
      "Parameters\n",
      "{'n_students': 51534, 'n_items': 17885, 'student_inchannel': 2, 'item_inchannel': 11, 'hidden_channels': [8, 8], 'decoder_channel': 8, 'edge_channel': 2, 'dropout': 0, 'batch_norm': False, 'irt_output': False, 'use_offset': False}\n"
     ]
    },
    {
     "name": "stderr",
     "output_type": "stream",
     "text": [
      "\n",
      "  0%|          | 0/10000 [00:00<?, ?it/s]\u001b[A\n",
      "\n",
      "  0%|          | 0/1 [00:00<?, ?it/s]\u001b[A\u001b[A\n",
      "\n",
      "100%|██████████| 1/1 [00:03<00:00,  3.19s/it]\u001b[A\u001b[A\n"
     ]
    },
    {
     "name": "stdout",
     "output_type": "stream",
     "text": [
      "\n",
      "Epoch: 001, Loss: 0.5288, Val: 0.5000, Test: 0.5000\n"
     ]
    },
    {
     "name": "stderr",
     "output_type": "stream",
     "text": [
      "\n",
      "  0%|          | 1/10000 [00:27<75:24:52, 27.15s/it]\u001b[A\n",
      "\n",
      "  0%|          | 0/1 [00:00<?, ?it/s]\u001b[A\u001b[A\n",
      "\n",
      "100%|██████████| 1/1 [00:01<00:00,  1.62s/it]\u001b[A\u001b[A\n",
      "\n",
      "  0%|          | 2/10000 [00:44<58:55:34, 21.22s/it]\u001b[A\n",
      "\n",
      "  0%|          | 0/1 [00:00<?, ?it/s]\u001b[A\u001b[A\n",
      "\n",
      "100%|██████████| 1/1 [00:23<00:00, 23.01s/it]\u001b[A\u001b[A\n"
     ]
    },
    {
     "name": "stdout",
     "output_type": "stream",
     "text": [
      "\n",
      "Epoch: 003, Loss: 0.5199, Val: 0.5000, Test: 0.5000\n"
     ]
    },
    {
     "name": "stderr",
     "output_type": "stream",
     "text": [
      "\n",
      "  0%|          | 3/10000 [02:16<148:54:44, 53.62s/it]\u001b[A\n",
      "\n",
      "  0%|          | 0/1 [00:00<?, ?it/s]\u001b[A\u001b[A\n",
      "\n",
      "100%|██████████| 1/1 [00:31<00:00, 31.09s/it]\u001b[A\u001b[A\n",
      "\n",
      "  0%|          | 4/10000 [03:18<157:35:38, 56.76s/it]\u001b[A\n",
      "\n",
      "  0%|          | 0/1 [00:00<?, ?it/s]\u001b[A\u001b[A\n",
      "\n",
      "100%|██████████| 1/1 [00:38<00:00, 38.59s/it]\u001b[A\u001b[A\n",
      "\n",
      "  0%|          | 5/10000 [04:29<172:44:00, 62.22s/it]\u001b[A\n",
      "\n",
      "  0%|          | 0/1 [00:00<?, ?it/s]\u001b[A\u001b[A\n",
      "\n",
      "100%|██████████| 1/1 [00:29<00:00, 29.53s/it]\u001b[A\u001b[A\n",
      "\n",
      "  0%|          | 6/10000 [05:28<169:04:28, 60.90s/it]\u001b[A\n",
      "\n",
      "  0%|          | 0/1 [00:00<?, ?it/s]\u001b[A\u001b[A\n",
      "\n",
      "100%|██████████| 1/1 [00:18<00:00, 18.16s/it]\u001b[A\u001b[A\n"
     ]
    },
    {
     "name": "stdout",
     "output_type": "stream",
     "text": [
      "\n",
      "Epoch: 007, Loss: 0.5166, Val: 0.5000, Test: 0.5000\n"
     ]
    },
    {
     "name": "stderr",
     "output_type": "stream",
     "text": [
      "\n",
      "  0%|          | 7/10000 [06:20<160:51:09, 57.95s/it]\u001b[A\n",
      "\n",
      "  0%|          | 0/1 [00:00<?, ?it/s]\u001b[A\u001b[A\n",
      "\n",
      "100%|██████████| 1/1 [00:02<00:00,  2.34s/it]\u001b[A\u001b[A\n",
      "\n",
      "  0%|          | 8/10000 [06:33<121:33:48, 43.80s/it]\u001b[A\n",
      "\n",
      "  0%|          | 0/1 [00:00<?, ?it/s]\u001b[A\u001b[A\n",
      "\n",
      "100%|██████████| 1/1 [00:01<00:00,  1.58s/it]\u001b[A\u001b[A\n",
      "\n",
      "  0%|          | 9/10000 [06:46<94:36:35, 34.09s/it] \u001b[A\n",
      "\n",
      "  0%|          | 0/1 [00:00<?, ?it/s]\u001b[A\u001b[A\n",
      "\n",
      "100%|██████████| 1/1 [00:01<00:00,  1.55s/it]\u001b[A\u001b[A\n",
      "\n",
      "  0%|          | 10/10000 [06:59<76:37:19, 27.61s/it]\u001b[A\n",
      "\n",
      "  0%|          | 0/1 [00:00<?, ?it/s]\u001b[A\u001b[A\n",
      "\n",
      "100%|██████████| 1/1 [00:01<00:00,  1.62s/it]\u001b[A\u001b[A\n",
      "\n",
      "  0%|          | 11/10000 [07:12<64:28:19, 23.24s/it]\u001b[A\n",
      "\n",
      "  0%|          | 0/1 [00:00<?, ?it/s]\u001b[A\u001b[A\n",
      "\n",
      "100%|██████████| 1/1 [00:01<00:00,  1.61s/it]\u001b[A\u001b[A\n",
      "\n",
      "  0%|          | 12/10000 [07:26<56:11:41, 20.25s/it]\u001b[A\n",
      "\n",
      "  0%|          | 0/1 [00:00<?, ?it/s]\u001b[A\u001b[A\n",
      "\n",
      "100%|██████████| 1/1 [00:02<00:00,  2.21s/it]\u001b[A\u001b[A\n",
      "\n",
      "  0%|          | 13/10000 [07:43<53:33:36, 19.31s/it]\u001b[A\n",
      "\n",
      "  0%|          | 0/1 [00:00<?, ?it/s]\u001b[A\u001b[A\n",
      "\n",
      "100%|██████████| 1/1 [00:02<00:00,  2.52s/it]\u001b[A\u001b[A\n",
      "\n",
      "  0%|          | 14/10000 [07:57<49:29:23, 17.84s/it]\u001b[A\n",
      "\n",
      "  0%|          | 0/1 [00:00<?, ?it/s]\u001b[A\u001b[A\n",
      "\n",
      "100%|██████████| 1/1 [00:01<00:00,  1.61s/it]\u001b[A\u001b[A\n",
      "\n",
      "  0%|          | 15/10000 [08:11<45:40:58, 16.47s/it]\u001b[A\n",
      "\n",
      "  0%|          | 0/1 [00:00<?, ?it/s]\u001b[A\u001b[A\n",
      "\n",
      "100%|██████████| 1/1 [00:01<00:00,  1.96s/it]\u001b[A\u001b[A\n",
      "\n",
      "  0%|          | 16/10000 [08:24<43:28:41, 15.68s/it]\u001b[A\n",
      "\n",
      "  0%|          | 0/1 [00:00<?, ?it/s]\u001b[A\u001b[A\n",
      "\n",
      "100%|██████████| 1/1 [00:03<00:00,  3.16s/it]\u001b[A\u001b[A\n",
      "\n",
      "  0%|          | 17/10000 [08:39<42:41:10, 15.39s/it]\u001b[A\n",
      "\n",
      "  0%|          | 0/1 [00:00<?, ?it/s]\u001b[A\u001b[A\n",
      "\n",
      "100%|██████████| 1/1 [00:01<00:00,  1.46s/it]\u001b[A\u001b[A\n"
     ]
    },
    {
     "name": "stdout",
     "output_type": "stream",
     "text": [
      "\n",
      "Epoch: 018, Loss: 0.5160, Val: 0.5035, Test: 0.5030\n"
     ]
    },
    {
     "name": "stderr",
     "output_type": "stream",
     "text": [
      "\n",
      "  0%|          | 18/10000 [09:07<52:43:26, 19.01s/it]\u001b[A\n",
      "\n",
      "  0%|          | 0/1 [00:00<?, ?it/s]\u001b[A\u001b[A\n",
      "\n",
      "100%|██████████| 1/1 [00:02<00:00,  2.35s/it]\u001b[A\u001b[A\n"
     ]
    },
    {
     "name": "stdout",
     "output_type": "stream",
     "text": [
      "\n",
      "Epoch: 019, Loss: 0.5159, Val: 0.5122, Test: 0.5143\n"
     ]
    },
    {
     "name": "stderr",
     "output_type": "stream",
     "text": [
      "\n",
      "  0%|          | 19/10000 [09:32<58:21:10, 21.05s/it]\u001b[A\n",
      "\n",
      "  0%|          | 0/1 [00:00<?, ?it/s]\u001b[A\u001b[A\n",
      "\n",
      "100%|██████████| 1/1 [00:01<00:00,  1.42s/it]\u001b[A\u001b[A\n"
     ]
    },
    {
     "name": "stdout",
     "output_type": "stream",
     "text": [
      "\n",
      "Epoch: 020, Loss: 0.5157, Val: 0.5238, Test: 0.5251\n"
     ]
    },
    {
     "name": "stderr",
     "output_type": "stream",
     "text": [
      "\n",
      "  0%|          | 20/10000 [09:59<62:48:59, 22.66s/it]\u001b[A\n",
      "\n",
      "  0%|          | 0/1 [00:00<?, ?it/s]\u001b[A\u001b[A\n",
      "\n",
      "100%|██████████| 1/1 [00:01<00:00,  1.98s/it]\u001b[A\u001b[A\n"
     ]
    },
    {
     "name": "stdout",
     "output_type": "stream",
     "text": [
      "\n",
      "Epoch: 021, Loss: 0.5155, Val: 0.5243, Test: 0.5268\n"
     ]
    },
    {
     "name": "stderr",
     "output_type": "stream",
     "text": [
      "\n",
      "  0%|          | 21/10000 [10:26<66:47:47, 24.10s/it]\u001b[A\n",
      "\n",
      "  0%|          | 0/1 [00:00<?, ?it/s]\u001b[A\u001b[A\n",
      "\n",
      "100%|██████████| 1/1 [00:02<00:00,  2.86s/it]\u001b[A\u001b[A\n",
      "\n",
      "  0%|          | 22/10000 [10:42<59:54:03, 21.61s/it]\u001b[A\n",
      "\n",
      "  0%|          | 0/1 [00:00<?, ?it/s]\u001b[A\u001b[A\n",
      "\n",
      "100%|██████████| 1/1 [00:02<00:00,  2.57s/it]\u001b[A\u001b[A\n",
      "\n",
      "  0%|          | 23/10000 [10:56<53:42:43, 19.38s/it]\u001b[A\n",
      "\n",
      "  0%|          | 0/1 [00:00<?, ?it/s]\u001b[A\u001b[A\n",
      "\n",
      "100%|██████████| 1/1 [00:01<00:00,  1.47s/it]\u001b[A\u001b[A\n",
      "\n",
      "  0%|          | 24/10000 [11:09<48:10:54, 17.39s/it]\u001b[A\n",
      "\n",
      "  0%|          | 0/1 [00:00<?, ?it/s]\u001b[A\u001b[A\n",
      "\n",
      "100%|██████████| 1/1 [00:01<00:00,  1.42s/it]\u001b[A\u001b[A\n",
      "\n",
      "  0%|          | 25/10000 [11:23<45:23:45, 16.38s/it]\u001b[A\n",
      "\n",
      "  0%|          | 0/1 [00:00<?, ?it/s]\u001b[A\u001b[A\n",
      "\n",
      "100%|██████████| 1/1 [00:01<00:00,  1.46s/it]\u001b[A\u001b[A\n",
      "\n",
      "  0%|          | 26/10000 [11:36<42:52:41, 15.48s/it]\u001b[A\n",
      "\n",
      "  0%|          | 0/1 [00:00<?, ?it/s]\u001b[A\u001b[A\n",
      "\n",
      "100%|██████████| 1/1 [00:01<00:00,  1.65s/it]\u001b[A\u001b[A\n"
     ]
    },
    {
     "name": "stdout",
     "output_type": "stream",
     "text": [
      "\n",
      "Epoch: 027, Loss: 0.5152, Val: 0.5287, Test: 0.5297\n"
     ]
    },
    {
     "name": "stderr",
     "output_type": "stream",
     "text": [
      "\n",
      "  0%|          | 27/10000 [12:04<53:02:57, 19.15s/it]\u001b[A\n",
      "\n",
      "  0%|          | 0/1 [00:00<?, ?it/s]\u001b[A\u001b[A\n",
      "\n",
      "100%|██████████| 1/1 [00:01<00:00,  1.80s/it]\u001b[A\u001b[A\n"
     ]
    },
    {
     "name": "stdout",
     "output_type": "stream",
     "text": [
      "\n",
      "Epoch: 028, Loss: 0.5149, Val: 0.5340, Test: 0.5344\n"
     ]
    },
    {
     "name": "stderr",
     "output_type": "stream",
     "text": [
      "\n",
      "  0%|          | 28/10000 [12:30<58:19:39, 21.06s/it]\u001b[A\n",
      "\n",
      "  0%|          | 0/1 [00:00<?, ?it/s]\u001b[A\u001b[A\n",
      "\n",
      "100%|██████████| 1/1 [00:01<00:00,  1.63s/it]\u001b[A\u001b[A\n"
     ]
    },
    {
     "name": "stdout",
     "output_type": "stream",
     "text": [
      "\n",
      "Epoch: 029, Loss: 0.5144, Val: 0.5388, Test: 0.5396\n"
     ]
    },
    {
     "name": "stderr",
     "output_type": "stream",
     "text": [
      "\n",
      "  0%|          | 29/10000 [12:55<62:00:13, 22.39s/it]\u001b[A\n",
      "\n",
      "  0%|          | 0/1 [00:00<?, ?it/s]\u001b[A\u001b[A\n",
      "\n",
      "100%|██████████| 1/1 [00:01<00:00,  1.54s/it]\u001b[A\u001b[A\n"
     ]
    },
    {
     "name": "stdout",
     "output_type": "stream",
     "text": [
      "\n",
      "Epoch: 030, Loss: 0.5145, Val: 0.5428, Test: 0.5430\n"
     ]
    },
    {
     "name": "stderr",
     "output_type": "stream",
     "text": [
      "\n",
      "  0%|          | 30/10000 [13:21<64:50:03, 23.41s/it]\u001b[A\n",
      "\n",
      "  0%|          | 0/1 [00:00<?, ?it/s]\u001b[A\u001b[A\n",
      "\n",
      "100%|██████████| 1/1 [00:02<00:00,  2.90s/it]\u001b[A\u001b[A\n"
     ]
    },
    {
     "name": "stdout",
     "output_type": "stream",
     "text": [
      "\n",
      "Epoch: 031, Loss: 0.5138, Val: 0.5451, Test: 0.5462\n"
     ]
    },
    {
     "name": "stderr",
     "output_type": "stream",
     "text": [
      "\n",
      "  0%|          | 31/10000 [13:48<67:58:28, 24.55s/it]\u001b[A\n",
      "\n",
      "  0%|          | 0/1 [00:00<?, ?it/s]\u001b[A\u001b[A\n",
      "\n",
      "100%|██████████| 1/1 [00:01<00:00,  1.61s/it]\u001b[A\u001b[A\n"
     ]
    },
    {
     "name": "stdout",
     "output_type": "stream",
     "text": [
      "\n",
      "Epoch: 032, Loss: 0.5136, Val: 0.5467, Test: 0.5477\n"
     ]
    },
    {
     "name": "stderr",
     "output_type": "stream",
     "text": [
      "\n",
      "  0%|          | 32/10000 [14:14<69:26:43, 25.08s/it]\u001b[A\n",
      "\n",
      "  0%|          | 0/1 [00:00<?, ?it/s]\u001b[A\u001b[A\n",
      "\n",
      "100%|██████████| 1/1 [00:01<00:00,  1.85s/it]\u001b[A\u001b[A\n"
     ]
    },
    {
     "name": "stdout",
     "output_type": "stream",
     "text": [
      "\n",
      "Epoch: 033, Loss: 0.5132, Val: 0.5477, Test: 0.5493\n"
     ]
    },
    {
     "name": "stderr",
     "output_type": "stream",
     "text": [
      "\n",
      "  0%|          | 33/10000 [14:43<72:16:11, 26.10s/it]\u001b[A\n",
      "\n",
      "  0%|          | 0/1 [00:00<?, ?it/s]\u001b[A\u001b[A\n",
      "\n",
      "100%|██████████| 1/1 [00:06<00:00,  6.49s/it]\u001b[A\u001b[A\n"
     ]
    },
    {
     "name": "stdout",
     "output_type": "stream",
     "text": [
      "\n",
      "Epoch: 034, Loss: 0.5129, Val: 0.5491, Test: 0.5510\n"
     ]
    },
    {
     "name": "stderr",
     "output_type": "stream",
     "text": [
      "\n",
      "  0%|          | 34/10000 [15:16<77:55:27, 28.15s/it]\u001b[A\n",
      "\n",
      "  0%|          | 0/1 [00:00<?, ?it/s]\u001b[A\u001b[A\n",
      "\n",
      "100%|██████████| 1/1 [00:01<00:00,  1.57s/it]\u001b[A\u001b[A\n"
     ]
    },
    {
     "name": "stdout",
     "output_type": "stream",
     "text": [
      "\n",
      "Epoch: 035, Loss: 0.5127, Val: 0.5505, Test: 0.5525\n"
     ]
    },
    {
     "name": "stderr",
     "output_type": "stream",
     "text": [
      "\n",
      "  0%|          | 35/10000 [15:41<75:18:29, 27.21s/it]\u001b[A\n",
      "\n",
      "  0%|          | 0/1 [00:00<?, ?it/s]\u001b[A\u001b[A\n",
      "\n",
      "100%|██████████| 1/1 [00:01<00:00,  1.48s/it]\u001b[A\u001b[A\n"
     ]
    },
    {
     "name": "stdout",
     "output_type": "stream",
     "text": [
      "\n",
      "Epoch: 036, Loss: 0.5121, Val: 0.5524, Test: 0.5544\n"
     ]
    },
    {
     "name": "stderr",
     "output_type": "stream",
     "text": [
      "\n",
      "  0%|          | 36/10000 [16:06<73:50:43, 26.68s/it]\u001b[A\n",
      "\n",
      "  0%|          | 0/1 [00:00<?, ?it/s]\u001b[A\u001b[A\n",
      "\n",
      "100%|██████████| 1/1 [00:01<00:00,  1.52s/it]\u001b[A\u001b[A\n"
     ]
    },
    {
     "name": "stdout",
     "output_type": "stream",
     "text": [
      "\n",
      "Epoch: 037, Loss: 0.5118, Val: 0.5549, Test: 0.5563\n"
     ]
    },
    {
     "name": "stderr",
     "output_type": "stream",
     "text": [
      "\n",
      "  0%|          | 37/10000 [16:35<75:48:52, 27.39s/it]\u001b[A\n",
      "\n",
      "  0%|          | 0/1 [00:00<?, ?it/s]\u001b[A\u001b[A\n",
      "\n",
      "100%|██████████| 1/1 [00:01<00:00,  1.64s/it]\u001b[A\u001b[A\n"
     ]
    },
    {
     "name": "stdout",
     "output_type": "stream",
     "text": [
      "\n",
      "Epoch: 038, Loss: 0.5111, Val: 0.5572, Test: 0.5585\n"
     ]
    },
    {
     "name": "stderr",
     "output_type": "stream",
     "text": [
      "\n",
      "  0%|          | 38/10000 [17:00<73:43:11, 26.64s/it]\u001b[A\n",
      "\n",
      "  0%|          | 0/1 [00:00<?, ?it/s]\u001b[A\u001b[A\n",
      "\n",
      "100%|██████████| 1/1 [00:01<00:00,  1.74s/it]\u001b[A\u001b[A\n"
     ]
    },
    {
     "name": "stdout",
     "output_type": "stream",
     "text": [
      "\n",
      "Epoch: 039, Loss: 0.5103, Val: 0.5597, Test: 0.5607\n"
     ]
    },
    {
     "name": "stderr",
     "output_type": "stream",
     "text": [
      "\n",
      "  0%|          | 39/10000 [17:25<72:31:12, 26.21s/it]\u001b[A\n",
      "\n",
      "  0%|          | 0/1 [00:00<?, ?it/s]\u001b[A\u001b[A\n",
      "\n",
      "100%|██████████| 1/1 [00:01<00:00,  1.69s/it]\u001b[A\u001b[A\n"
     ]
    },
    {
     "name": "stdout",
     "output_type": "stream",
     "text": [
      "\n",
      "Epoch: 040, Loss: 0.5094, Val: 0.5620, Test: 0.5628\n"
     ]
    },
    {
     "name": "stderr",
     "output_type": "stream",
     "text": [
      "\n",
      "  0%|          | 40/10000 [17:54<74:20:14, 26.87s/it]\u001b[A\n",
      "\n",
      "  0%|          | 0/1 [00:00<?, ?it/s]\u001b[A\u001b[A\n",
      "\n",
      "100%|██████████| 1/1 [00:01<00:00,  1.68s/it]\u001b[A\u001b[A\n"
     ]
    },
    {
     "name": "stdout",
     "output_type": "stream",
     "text": [
      "\n",
      "Epoch: 041, Loss: 0.5088, Val: 0.5645, Test: 0.5650\n"
     ]
    },
    {
     "name": "stderr",
     "output_type": "stream",
     "text": [
      "\n",
      "  0%|          | 41/10000 [18:19<72:49:21, 26.32s/it]\u001b[A\n",
      "\n",
      "  0%|          | 0/1 [00:00<?, ?it/s]\u001b[A\u001b[A\n",
      "\n",
      "100%|██████████| 1/1 [00:01<00:00,  1.60s/it]\u001b[A\u001b[A\n"
     ]
    },
    {
     "name": "stdout",
     "output_type": "stream",
     "text": [
      "\n",
      "Epoch: 042, Loss: 0.5076, Val: 0.5666, Test: 0.5673\n"
     ]
    },
    {
     "name": "stderr",
     "output_type": "stream",
     "text": [
      "\n",
      "  0%|          | 42/10000 [18:44<72:09:19, 26.09s/it]\u001b[A\n",
      "\n",
      "  0%|          | 0/1 [00:00<?, ?it/s]\u001b[A\u001b[A\n",
      "\n",
      "100%|██████████| 1/1 [00:01<00:00,  1.62s/it]\u001b[A\u001b[A\n"
     ]
    },
    {
     "name": "stdout",
     "output_type": "stream",
     "text": [
      "\n",
      "Epoch: 043, Loss: 0.5066, Val: 0.5687, Test: 0.5694\n"
     ]
    },
    {
     "name": "stderr",
     "output_type": "stream",
     "text": [
      "\n",
      "  0%|          | 43/10000 [19:11<72:42:05, 26.29s/it]\u001b[A\n",
      "\n",
      "  0%|          | 0/1 [00:00<?, ?it/s]\u001b[A\u001b[A\n",
      "\n",
      "100%|██████████| 1/1 [00:02<00:00,  2.46s/it]\u001b[A\u001b[A\n"
     ]
    },
    {
     "name": "stdout",
     "output_type": "stream",
     "text": [
      "\n",
      "Epoch: 044, Loss: 0.5054, Val: 0.5710, Test: 0.5712\n"
     ]
    },
    {
     "name": "stderr",
     "output_type": "stream",
     "text": [
      "\n",
      "  0%|          | 44/10000 [19:38<73:09:37, 26.45s/it]\u001b[A\n",
      "\n",
      "  0%|          | 0/1 [00:00<?, ?it/s]\u001b[A\u001b[A\n",
      "\n",
      "100%|██████████| 1/1 [00:01<00:00,  1.81s/it]\u001b[A\u001b[A\n"
     ]
    },
    {
     "name": "stdout",
     "output_type": "stream",
     "text": [
      "\n",
      "Epoch: 045, Loss: 0.5044, Val: 0.5730, Test: 0.5730\n"
     ]
    },
    {
     "name": "stderr",
     "output_type": "stream",
     "text": [
      "\n",
      "  0%|          | 45/10000 [20:04<72:26:36, 26.20s/it]\u001b[A\n",
      "\n",
      "  0%|          | 0/1 [00:00<?, ?it/s]\u001b[A\u001b[A\n",
      "\n",
      "100%|██████████| 1/1 [00:01<00:00,  1.98s/it]\u001b[A\u001b[A\n"
     ]
    },
    {
     "name": "stdout",
     "output_type": "stream",
     "text": [
      "\n",
      "Epoch: 046, Loss: 0.5030, Val: 0.5753, Test: 0.5753\n"
     ]
    },
    {
     "name": "stderr",
     "output_type": "stream",
     "text": [
      "\n",
      "  0%|          | 46/10000 [20:34<75:53:52, 27.45s/it]\u001b[A\n",
      "\n",
      "  0%|          | 0/1 [00:00<?, ?it/s]\u001b[A\u001b[A\n",
      "\n",
      "100%|██████████| 1/1 [00:03<00:00,  3.17s/it]\u001b[A\u001b[A\n"
     ]
    },
    {
     "name": "stdout",
     "output_type": "stream",
     "text": [
      "\n",
      "Epoch: 047, Loss: 0.5022, Val: 0.5777, Test: 0.5778\n"
     ]
    },
    {
     "name": "stderr",
     "output_type": "stream",
     "text": [
      "\n",
      "  0%|          | 47/10000 [21:04<78:26:20, 28.37s/it]\u001b[A\n",
      "\n",
      "  0%|          | 0/1 [00:00<?, ?it/s]\u001b[A\u001b[A\n",
      "\n",
      "100%|██████████| 1/1 [00:01<00:00,  1.68s/it]\u001b[A\u001b[A\n"
     ]
    },
    {
     "name": "stdout",
     "output_type": "stream",
     "text": [
      "\n",
      "Epoch: 048, Loss: 0.5010, Val: 0.5801, Test: 0.5800\n"
     ]
    },
    {
     "name": "stderr",
     "output_type": "stream",
     "text": [
      "\n",
      "  0%|          | 48/10000 [21:30<76:06:12, 27.53s/it]\u001b[A\n",
      "\n",
      "  0%|          | 0/1 [00:00<?, ?it/s]\u001b[A\u001b[A\n",
      "\n",
      "100%|██████████| 1/1 [00:01<00:00,  1.38s/it]\u001b[A\u001b[A\n"
     ]
    },
    {
     "name": "stdout",
     "output_type": "stream",
     "text": [
      "\n",
      "Epoch: 049, Loss: 0.4996, Val: 0.5827, Test: 0.5826\n"
     ]
    },
    {
     "name": "stderr",
     "output_type": "stream",
     "text": [
      "\n",
      "  0%|          | 49/10000 [22:12<88:11:46, 31.91s/it]\u001b[A\n",
      "\n",
      "  0%|          | 0/1 [00:00<?, ?it/s]\u001b[A\u001b[A\n",
      "\n",
      "100%|██████████| 1/1 [00:21<00:00, 21.72s/it]\u001b[A\u001b[A\n"
     ]
    },
    {
     "name": "stdout",
     "output_type": "stream",
     "text": [
      "\n",
      "Epoch: 050, Loss: 0.4982, Val: 0.5847, Test: 0.5851\n"
     ]
    },
    {
     "name": "stderr",
     "output_type": "stream",
     "text": [
      "\n",
      "  0%|          | 50/10000 [23:45<138:41:07, 50.18s/it]\u001b[A\n",
      "\n",
      "  0%|          | 0/1 [00:00<?, ?it/s]\u001b[A\u001b[A\n",
      "\n",
      "100%|██████████| 1/1 [00:36<00:00, 36.02s/it]\u001b[A\u001b[A\n"
     ]
    },
    {
     "name": "stdout",
     "output_type": "stream",
     "text": [
      "\n",
      "Epoch: 051, Loss: 0.4970, Val: 0.5864, Test: 0.5875\n"
     ]
    },
    {
     "name": "stderr",
     "output_type": "stream",
     "text": [
      "\n",
      "  1%|          | 51/10000 [25:42<194:14:00, 70.28s/it]\u001b[A\n",
      "\n",
      "  0%|          | 0/1 [00:00<?, ?it/s]\u001b[A\u001b[A\n",
      "\n",
      "100%|██████████| 1/1 [00:50<00:00, 50.64s/it]\u001b[A\u001b[A\n"
     ]
    },
    {
     "name": "stdout",
     "output_type": "stream",
     "text": [
      "\n",
      "Epoch: 052, Loss: 0.4959, Val: 0.5879, Test: 0.5891\n"
     ]
    },
    {
     "name": "stderr",
     "output_type": "stream",
     "text": [
      "\n",
      "  1%|          | 52/10000 [27:14<212:03:03, 76.74s/it]\u001b[A\n",
      "\n",
      "  0%|          | 0/1 [00:00<?, ?it/s]\u001b[A\u001b[A\n",
      "\n",
      "100%|██████████| 1/1 [00:06<00:00,  6.01s/it]\u001b[A\u001b[A\n"
     ]
    },
    {
     "name": "stdout",
     "output_type": "stream",
     "text": [
      "\n",
      "Epoch: 053, Loss: 0.4947, Val: 0.5900, Test: 0.5913\n"
     ]
    },
    {
     "name": "stderr",
     "output_type": "stream",
     "text": [
      "\n",
      "  1%|          | 53/10000 [27:45<174:03:06, 62.99s/it]\u001b[A\n",
      "\n",
      "  0%|          | 0/1 [00:00<?, ?it/s]\u001b[A\u001b[A\n",
      "\n",
      "100%|██████████| 1/1 [00:02<00:00,  2.13s/it]\u001b[A\u001b[A\n"
     ]
    },
    {
     "name": "stdout",
     "output_type": "stream",
     "text": [
      "\n",
      "Epoch: 054, Loss: 0.4936, Val: 0.5928, Test: 0.5937\n"
     ]
    },
    {
     "name": "stderr",
     "output_type": "stream",
     "text": [
      "\n",
      "  1%|          | 54/10000 [28:11<143:14:42, 51.85s/it]\u001b[A\n",
      "\n",
      "  0%|          | 0/1 [00:00<?, ?it/s]\u001b[A\u001b[A\n",
      "\n",
      "100%|██████████| 1/1 [00:01<00:00,  1.61s/it]\u001b[A\u001b[A\n"
     ]
    },
    {
     "name": "stdout",
     "output_type": "stream",
     "text": [
      "\n",
      "Epoch: 055, Loss: 0.4925, Val: 0.5956, Test: 0.5966\n"
     ]
    },
    {
     "name": "stderr",
     "output_type": "stream",
     "text": [
      "\n",
      "  1%|          | 55/10000 [28:37<121:38:19, 44.03s/it]\u001b[A\n",
      "\n",
      "  0%|          | 0/1 [00:00<?, ?it/s]\u001b[A\u001b[A\n",
      "\n",
      "100%|██████████| 1/1 [00:03<00:00,  3.14s/it]\u001b[A\u001b[A\n"
     ]
    },
    {
     "name": "stdout",
     "output_type": "stream",
     "text": [
      "\n",
      "Epoch: 056, Loss: 0.4908, Val: 0.5985, Test: 0.5996\n"
     ]
    },
    {
     "name": "stderr",
     "output_type": "stream",
     "text": [
      "\n",
      "  1%|          | 56/10000 [29:05<108:51:39, 39.41s/it]\u001b[A\n",
      "\n",
      "  0%|          | 0/1 [00:00<?, ?it/s]\u001b[A\u001b[A\n",
      "\n",
      "100%|██████████| 1/1 [00:01<00:00,  1.76s/it]\u001b[A\u001b[A\n"
     ]
    },
    {
     "name": "stdout",
     "output_type": "stream",
     "text": [
      "\n",
      "Epoch: 057, Loss: 0.4894, Val: 0.6019, Test: 0.6025\n"
     ]
    },
    {
     "name": "stderr",
     "output_type": "stream",
     "text": [
      "\n",
      "  1%|          | 57/10000 [29:31<97:21:13, 35.25s/it] \u001b[A\n",
      "\n",
      "  0%|          | 0/1 [00:00<?, ?it/s]\u001b[A\u001b[A\n",
      "\n",
      "100%|██████████| 1/1 [00:01<00:00,  1.61s/it]\u001b[A\u001b[A\n"
     ]
    },
    {
     "name": "stdout",
     "output_type": "stream",
     "text": [
      "\n",
      "Epoch: 058, Loss: 0.4882, Val: 0.6048, Test: 0.6053\n"
     ]
    },
    {
     "name": "stderr",
     "output_type": "stream",
     "text": [
      "\n",
      "  1%|          | 58/10000 [29:57<90:13:14, 32.67s/it]\u001b[A\n",
      "\n",
      "  0%|          | 0/1 [00:00<?, ?it/s]\u001b[A\u001b[A\n",
      "\n",
      "100%|██████████| 1/1 [00:01<00:00,  1.70s/it]\u001b[A\u001b[A\n"
     ]
    },
    {
     "name": "stdout",
     "output_type": "stream",
     "text": [
      "\n",
      "Epoch: 059, Loss: 0.4866, Val: 0.6075, Test: 0.6080\n"
     ]
    },
    {
     "name": "stderr",
     "output_type": "stream",
     "text": [
      "\n",
      "  1%|          | 59/10000 [30:24<85:27:37, 30.95s/it]\u001b[A\n",
      "\n",
      "  0%|          | 0/1 [00:00<?, ?it/s]\u001b[A\u001b[A\n",
      "\n",
      "100%|██████████| 1/1 [00:01<00:00,  1.86s/it]\u001b[A\u001b[A\n"
     ]
    },
    {
     "name": "stdout",
     "output_type": "stream",
     "text": [
      "\n",
      "Epoch: 060, Loss: 0.4856, Val: 0.6101, Test: 0.6107\n"
     ]
    },
    {
     "name": "stderr",
     "output_type": "stream",
     "text": [
      "\n",
      "  1%|          | 60/10000 [30:56<86:09:33, 31.20s/it]\u001b[A\n",
      "\n",
      "  0%|          | 0/1 [00:00<?, ?it/s]\u001b[A\u001b[A\n",
      "\n",
      "100%|██████████| 1/1 [00:03<00:00,  3.97s/it]\u001b[A\u001b[A\n"
     ]
    },
    {
     "name": "stdout",
     "output_type": "stream",
     "text": [
      "\n",
      "Epoch: 061, Loss: 0.4838, Val: 0.6127, Test: 0.6134\n"
     ]
    },
    {
     "name": "stderr",
     "output_type": "stream",
     "text": [
      "\n",
      "  1%|          | 61/10000 [31:24<83:37:07, 30.29s/it]\u001b[A\n",
      "\n",
      "  0%|          | 0/1 [00:00<?, ?it/s]\u001b[A\u001b[A\n",
      "\n",
      "100%|██████████| 1/1 [00:01<00:00,  1.37s/it]\u001b[A\u001b[A\n"
     ]
    },
    {
     "name": "stdout",
     "output_type": "stream",
     "text": [
      "\n",
      "Epoch: 062, Loss: 0.4824, Val: 0.6153, Test: 0.6161\n"
     ]
    },
    {
     "name": "stderr",
     "output_type": "stream",
     "text": [
      "\n",
      "  1%|          | 62/10000 [31:51<80:50:16, 29.28s/it]\u001b[A\n",
      "\n",
      "  0%|          | 0/1 [00:00<?, ?it/s]\u001b[A\u001b[A\n",
      "\n",
      "100%|██████████| 1/1 [00:01<00:00,  1.49s/it]\u001b[A\u001b[A\n"
     ]
    },
    {
     "name": "stdout",
     "output_type": "stream",
     "text": [
      "\n",
      "Epoch: 063, Loss: 0.4809, Val: 0.6177, Test: 0.6187\n"
     ]
    },
    {
     "name": "stderr",
     "output_type": "stream",
     "text": [
      "\n",
      "  1%|          | 63/10000 [32:16<76:54:22, 27.86s/it]\u001b[A\n",
      "\n",
      "  0%|          | 0/1 [00:00<?, ?it/s]\u001b[A\u001b[A\n",
      "\n",
      "100%|██████████| 1/1 [00:01<00:00,  1.41s/it]\u001b[A\u001b[A\n"
     ]
    },
    {
     "name": "stdout",
     "output_type": "stream",
     "text": [
      "\n",
      "Epoch: 064, Loss: 0.4793, Val: 0.6203, Test: 0.6214\n"
     ]
    },
    {
     "name": "stderr",
     "output_type": "stream",
     "text": [
      "\n",
      "  1%|          | 64/10000 [32:42<75:25:27, 27.33s/it]\u001b[A\n",
      "\n",
      "  0%|          | 0/1 [00:00<?, ?it/s]\u001b[A\u001b[A\n",
      "\n",
      "100%|██████████| 1/1 [00:01<00:00,  1.47s/it]\u001b[A\u001b[A\n"
     ]
    },
    {
     "name": "stdout",
     "output_type": "stream",
     "text": [
      "\n",
      "Epoch: 065, Loss: 0.4776, Val: 0.6230, Test: 0.6242\n"
     ]
    },
    {
     "name": "stderr",
     "output_type": "stream",
     "text": [
      "\n",
      "  1%|          | 65/10000 [33:10<75:46:43, 27.46s/it]\u001b[A\n",
      "\n",
      "  0%|          | 0/1 [00:00<?, ?it/s]\u001b[A\u001b[A\n",
      "\n",
      "100%|██████████| 1/1 [00:01<00:00,  1.70s/it]\u001b[A\u001b[A\n"
     ]
    },
    {
     "name": "stdout",
     "output_type": "stream",
     "text": [
      "\n",
      "Epoch: 066, Loss: 0.4762, Val: 0.6255, Test: 0.6266\n"
     ]
    },
    {
     "name": "stderr",
     "output_type": "stream",
     "text": [
      "\n",
      "  1%|          | 66/10000 [33:35<74:20:46, 26.94s/it]\u001b[A\n",
      "\n",
      "  0%|          | 0/1 [00:00<?, ?it/s]\u001b[A\u001b[A\n",
      "\n",
      "100%|██████████| 1/1 [00:02<00:00,  2.17s/it]\u001b[A\u001b[A\n"
     ]
    },
    {
     "name": "stdout",
     "output_type": "stream",
     "text": [
      "\n",
      "Epoch: 067, Loss: 0.4746, Val: 0.6279, Test: 0.6294\n"
     ]
    },
    {
     "name": "stderr",
     "output_type": "stream",
     "text": [
      "\n",
      "  1%|          | 67/10000 [34:01<73:33:22, 26.66s/it]\u001b[A\n",
      "\n",
      "  0%|          | 0/1 [00:00<?, ?it/s]\u001b[A\u001b[A\n",
      "\n",
      "100%|██████████| 1/1 [00:01<00:00,  1.53s/it]\u001b[A\u001b[A\n"
     ]
    },
    {
     "name": "stdout",
     "output_type": "stream",
     "text": [
      "\n",
      "Epoch: 068, Loss: 0.4734, Val: 0.6303, Test: 0.6318\n"
     ]
    },
    {
     "name": "stderr",
     "output_type": "stream",
     "text": [
      "\n",
      "  1%|          | 68/10000 [34:28<73:43:08, 26.72s/it]\u001b[A\n",
      "\n",
      "  0%|          | 0/1 [00:00<?, ?it/s]\u001b[A\u001b[A\n",
      "\n",
      "100%|██████████| 1/1 [00:02<00:00,  2.66s/it]\u001b[A\u001b[A\n"
     ]
    },
    {
     "name": "stdout",
     "output_type": "stream",
     "text": [
      "\n",
      "Epoch: 069, Loss: 0.4714, Val: 0.6323, Test: 0.6338\n"
     ]
    },
    {
     "name": "stderr",
     "output_type": "stream",
     "text": [
      "\n",
      "  1%|          | 69/10000 [34:56<74:54:10, 27.15s/it]\u001b[A\n",
      "\n",
      "  0%|          | 0/1 [00:00<?, ?it/s]\u001b[A\u001b[A\n",
      "\n",
      "100%|██████████| 1/1 [00:01<00:00,  1.81s/it]\u001b[A\u001b[A\n"
     ]
    },
    {
     "name": "stdout",
     "output_type": "stream",
     "text": [
      "\n",
      "Epoch: 070, Loss: 0.4698, Val: 0.6346, Test: 0.6360\n"
     ]
    },
    {
     "name": "stderr",
     "output_type": "stream",
     "text": [
      "\n",
      "  1%|          | 70/10000 [35:23<74:09:46, 26.89s/it]\u001b[A\n",
      "\n",
      "  0%|          | 0/1 [00:00<?, ?it/s]\u001b[A\u001b[A\n",
      "\n",
      "100%|██████████| 1/1 [00:02<00:00,  2.48s/it]\u001b[A\u001b[A\n"
     ]
    },
    {
     "name": "stdout",
     "output_type": "stream",
     "text": [
      "\n",
      "Epoch: 071, Loss: 0.4683, Val: 0.6366, Test: 0.6382\n"
     ]
    },
    {
     "name": "stderr",
     "output_type": "stream",
     "text": [
      "\n",
      "  1%|          | 71/10000 [35:49<74:08:23, 26.88s/it]\u001b[A\n",
      "\n",
      "  0%|          | 0/1 [00:00<?, ?it/s]\u001b[A\u001b[A\n",
      "\n",
      "100%|██████████| 1/1 [00:02<00:00,  2.43s/it]\u001b[A\u001b[A\n"
     ]
    },
    {
     "name": "stdout",
     "output_type": "stream",
     "text": [
      "\n",
      "Epoch: 072, Loss: 0.4666, Val: 0.6383, Test: 0.6405\n"
     ]
    },
    {
     "name": "stderr",
     "output_type": "stream",
     "text": [
      "\n",
      "  1%|          | 72/10000 [36:18<75:27:57, 27.36s/it]\u001b[A\n",
      "\n",
      "  0%|          | 0/1 [00:00<?, ?it/s]\u001b[A\u001b[A\n",
      "\n",
      "100%|██████████| 1/1 [00:01<00:00,  1.83s/it]\u001b[A\u001b[A\n"
     ]
    },
    {
     "name": "stdout",
     "output_type": "stream",
     "text": [
      "\n",
      "Epoch: 073, Loss: 0.4648, Val: 0.6401, Test: 0.6423\n"
     ]
    },
    {
     "name": "stderr",
     "output_type": "stream",
     "text": [
      "\n",
      "  1%|          | 73/10000 [36:44<74:09:07, 26.89s/it]\u001b[A\n",
      "\n",
      "  0%|          | 0/1 [00:00<?, ?it/s]\u001b[A\u001b[A\n",
      "\n",
      "100%|██████████| 1/1 [00:01<00:00,  1.71s/it]\u001b[A\u001b[A\n"
     ]
    },
    {
     "name": "stdout",
     "output_type": "stream",
     "text": [
      "\n",
      "Epoch: 074, Loss: 0.4636, Val: 0.6420, Test: 0.6442\n"
     ]
    },
    {
     "name": "stderr",
     "output_type": "stream",
     "text": [
      "\n",
      "  1%|          | 74/10000 [37:10<73:46:58, 26.76s/it]\u001b[A\n",
      "\n",
      "  0%|          | 0/1 [00:00<?, ?it/s]\u001b[A\u001b[A\n",
      "\n",
      "100%|██████████| 1/1 [00:02<00:00,  2.76s/it]\u001b[A\u001b[A\n"
     ]
    },
    {
     "name": "stdout",
     "output_type": "stream",
     "text": [
      "\n",
      "Epoch: 075, Loss: 0.4616, Val: 0.6438, Test: 0.6458\n"
     ]
    },
    {
     "name": "stderr",
     "output_type": "stream",
     "text": [
      "\n",
      "  1%|          | 75/10000 [37:40<75:58:10, 27.56s/it]\u001b[A\n",
      "\n",
      "  0%|          | 0/1 [00:00<?, ?it/s]\u001b[A\u001b[A\n",
      "\n",
      "100%|██████████| 1/1 [00:02<00:00,  2.15s/it]\u001b[A\u001b[A\n"
     ]
    },
    {
     "name": "stdout",
     "output_type": "stream",
     "text": [
      "\n",
      "Epoch: 076, Loss: 0.4598, Val: 0.6456, Test: 0.6473\n"
     ]
    },
    {
     "name": "stderr",
     "output_type": "stream",
     "text": [
      "\n",
      "  1%|          | 76/10000 [38:07<76:00:21, 27.57s/it]\u001b[A\n",
      "\n",
      "  0%|          | 0/1 [00:00<?, ?it/s]\u001b[A\u001b[A\n",
      "\n",
      "100%|██████████| 1/1 [00:02<00:00,  2.35s/it]\u001b[A\u001b[A\n"
     ]
    },
    {
     "name": "stdout",
     "output_type": "stream",
     "text": [
      "\n",
      "Epoch: 077, Loss: 0.4586, Val: 0.6474, Test: 0.6492\n"
     ]
    },
    {
     "name": "stderr",
     "output_type": "stream",
     "text": [
      "\n",
      "  1%|          | 77/10000 [39:05<100:36:16, 36.50s/it]\u001b[A\n",
      "\n",
      "  0%|          | 0/1 [00:00<?, ?it/s]\u001b[A\u001b[A\n",
      "\n",
      "100%|██████████| 1/1 [00:24<00:00, 24.47s/it]\u001b[A\u001b[A\n"
     ]
    },
    {
     "name": "stdout",
     "output_type": "stream",
     "text": [
      "\n",
      "Epoch: 078, Loss: 0.4568, Val: 0.6488, Test: 0.6507\n"
     ]
    },
    {
     "name": "stderr",
     "output_type": "stream",
     "text": [
      "\n",
      "  1%|          | 78/10000 [40:32<142:53:39, 51.85s/it]\u001b[A\n",
      "\n",
      "  0%|          | 0/1 [00:00<?, ?it/s]\u001b[A\u001b[A\n",
      "\n",
      "100%|██████████| 1/1 [00:32<00:00, 32.20s/it]\u001b[A\u001b[A\n"
     ]
    },
    {
     "name": "stdout",
     "output_type": "stream",
     "text": [
      "\n",
      "Epoch: 079, Loss: 0.4552, Val: 0.6503, Test: 0.6517\n"
     ]
    },
    {
     "name": "stderr",
     "output_type": "stream",
     "text": [
      "\n",
      "  1%|          | 79/10000 [42:12<182:22:17, 66.18s/it]\u001b[A\n",
      "\n",
      "  0%|          | 0/1 [00:00<?, ?it/s]\u001b[A\u001b[A\n",
      "\n",
      "100%|██████████| 1/1 [00:52<00:00, 52.23s/it]\u001b[A\u001b[A\n"
     ]
    },
    {
     "name": "stdout",
     "output_type": "stream",
     "text": [
      "\n",
      "Epoch: 080, Loss: 0.4534, Val: 0.6516, Test: 0.6530\n"
     ]
    },
    {
     "name": "stderr",
     "output_type": "stream",
     "text": [
      "\n",
      "  1%|          | 80/10000 [43:34<195:22:35, 70.90s/it]\u001b[A\n",
      "\n",
      "  0%|          | 0/1 [00:00<?, ?it/s]\u001b[A\u001b[A\n",
      "\n",
      "100%|██████████| 1/1 [00:02<00:00,  2.24s/it]\u001b[A\u001b[A\n"
     ]
    },
    {
     "name": "stdout",
     "output_type": "stream",
     "text": [
      "\n",
      "Epoch: 081, Loss: 0.4520, Val: 0.6528, Test: 0.6542\n"
     ]
    },
    {
     "name": "stderr",
     "output_type": "stream",
     "text": [
      "\n",
      "  1%|          | 81/10000 [44:00<158:47:43, 57.63s/it]\u001b[A\n",
      "\n",
      "  0%|          | 0/1 [00:00<?, ?it/s]\u001b[A\u001b[A\n",
      "\n",
      "100%|██████████| 1/1 [00:01<00:00,  1.73s/it]\u001b[A\u001b[A\n"
     ]
    },
    {
     "name": "stdout",
     "output_type": "stream",
     "text": [
      "\n",
      "Epoch: 082, Loss: 0.4505, Val: 0.6541, Test: 0.6553\n"
     ]
    },
    {
     "name": "stderr",
     "output_type": "stream",
     "text": [
      "\n",
      "  1%|          | 82/10000 [44:56<157:06:18, 57.03s/it]\u001b[A\n",
      "\n",
      "  0%|          | 0/1 [00:00<?, ?it/s]\u001b[A\u001b[A\n",
      "\n",
      "100%|██████████| 1/1 [00:34<00:00, 34.93s/it]\u001b[A\u001b[A\n"
     ]
    },
    {
     "name": "stdout",
     "output_type": "stream",
     "text": [
      "\n",
      "Epoch: 083, Loss: 0.4480, Val: 0.6549, Test: 0.6565\n"
     ]
    },
    {
     "name": "stderr",
     "output_type": "stream",
     "text": [
      "\n",
      "  1%|          | 83/10000 [46:40<196:07:07, 71.19s/it]\u001b[A\n",
      "\n",
      "  0%|          | 0/1 [00:00<?, ?it/s]\u001b[A\u001b[A\n",
      "\n",
      "100%|██████████| 1/1 [00:30<00:00, 30.89s/it]\u001b[A\u001b[A\n"
     ]
    },
    {
     "name": "stdout",
     "output_type": "stream",
     "text": [
      "\n",
      "Epoch: 084, Loss: 0.4470, Val: 0.6556, Test: 0.6573\n"
     ]
    },
    {
     "name": "stderr",
     "output_type": "stream",
     "text": [
      "\n",
      "  1%|          | 84/10000 [48:22<221:25:33, 80.39s/it]\u001b[A\n",
      "\n",
      "  0%|          | 0/1 [00:00<?, ?it/s]\u001b[A\u001b[A\n",
      "\n",
      "100%|██████████| 1/1 [00:25<00:00, 25.86s/it]\u001b[A\u001b[A\n"
     ]
    },
    {
     "name": "stdout",
     "output_type": "stream",
     "text": [
      "\n",
      "Epoch: 085, Loss: 0.4456, Val: 0.6562, Test: 0.6579\n"
     ]
    },
    {
     "name": "stderr",
     "output_type": "stream",
     "text": [
      "\n",
      "  1%|          | 85/10000 [49:19<202:09:37, 73.40s/it]\u001b[A\n",
      "\n",
      "  0%|          | 0/1 [00:00<?, ?it/s]\u001b[A\u001b[A\n",
      "\n",
      "100%|██████████| 1/1 [00:03<00:00,  3.13s/it]\u001b[A\u001b[A\n"
     ]
    },
    {
     "name": "stdout",
     "output_type": "stream",
     "text": [
      "\n",
      "Epoch: 086, Loss: 0.4436, Val: 0.6569, Test: 0.6585\n"
     ]
    },
    {
     "name": "stderr",
     "output_type": "stream",
     "text": [
      "\n",
      "  1%|          | 86/10000 [49:49<166:20:06, 60.40s/it]\u001b[A\n",
      "\n",
      "  0%|          | 0/1 [00:00<?, ?it/s]\u001b[A\u001b[A\n",
      "\n",
      "100%|██████████| 1/1 [00:02<00:00,  2.82s/it]\u001b[A\u001b[A\n"
     ]
    },
    {
     "name": "stdout",
     "output_type": "stream",
     "text": [
      "\n",
      "Epoch: 087, Loss: 0.4427, Val: 0.6571, Test: 0.6589\n"
     ]
    },
    {
     "name": "stderr",
     "output_type": "stream",
     "text": [
      "\n",
      "  1%|          | 87/10000 [50:14<137:13:19, 49.83s/it]\u001b[A\n",
      "\n",
      "  0%|          | 0/1 [00:00<?, ?it/s]\u001b[A\u001b[A\n",
      "\n",
      "100%|██████████| 1/1 [00:02<00:00,  2.59s/it]\u001b[A\u001b[A\n"
     ]
    },
    {
     "name": "stdout",
     "output_type": "stream",
     "text": [
      "\n",
      "Epoch: 088, Loss: 0.4410, Val: 0.6577, Test: 0.6592\n"
     ]
    },
    {
     "name": "stderr",
     "output_type": "stream",
     "text": [
      "\n",
      "  1%|          | 88/10000 [50:39<116:10:56, 42.20s/it]\u001b[A\n",
      "\n",
      "  0%|          | 0/1 [00:00<?, ?it/s]\u001b[A\u001b[A\n",
      "\n",
      "100%|██████████| 1/1 [00:01<00:00,  1.47s/it]\u001b[A\u001b[A\n",
      "\n",
      "  1%|          | 89/10000 [50:52<92:01:12, 33.42s/it] \u001b[A\n",
      "\n",
      "  0%|          | 0/1 [00:00<?, ?it/s]\u001b[A\u001b[A\n",
      "\n",
      "100%|██████████| 1/1 [00:01<00:00,  1.46s/it]\u001b[A\u001b[A\n",
      "\n",
      "  1%|          | 90/10000 [51:04<74:29:41, 27.06s/it]\u001b[A\n",
      "\n",
      "  0%|          | 0/1 [00:00<?, ?it/s]\u001b[A\u001b[A\n",
      "\n",
      "100%|██████████| 1/1 [00:01<00:00,  1.34s/it]\u001b[A\u001b[A\n",
      "\n",
      "  1%|          | 91/10000 [51:16<62:09:33, 22.58s/it]\u001b[A\n",
      "\n",
      "  0%|          | 0/1 [00:00<?, ?it/s]\u001b[A\u001b[A\n",
      "\n",
      "100%|██████████| 1/1 [00:01<00:00,  1.40s/it]\u001b[A\u001b[A\n",
      "\n",
      "  1%|          | 92/10000 [51:28<53:31:21, 19.45s/it]\u001b[A\n",
      "\n",
      "  0%|          | 0/1 [00:00<?, ?it/s]\u001b[A\u001b[A\n",
      "\n",
      "100%|██████████| 1/1 [00:01<00:00,  1.43s/it]\u001b[A\u001b[A\n",
      "\n",
      "  1%|          | 93/10000 [51:41<47:48:56, 17.38s/it]\u001b[A\n",
      "\n",
      "  0%|          | 0/1 [00:00<?, ?it/s]\u001b[A\u001b[A\n",
      "\n",
      "100%|██████████| 1/1 [00:01<00:00,  1.47s/it]\u001b[A\u001b[A\n",
      "\n",
      "  1%|          | 94/10000 [51:53<43:33:43, 15.83s/it]\u001b[A\n",
      "\n",
      "  0%|          | 0/1 [00:00<?, ?it/s]\u001b[A\u001b[A\n",
      "\n",
      "100%|██████████| 1/1 [00:02<00:00,  2.48s/it]\u001b[A\u001b[A\n",
      "\n",
      "  1%|          | 95/10000 [52:07<42:07:53, 15.31s/it]\u001b[A\n",
      "\n",
      "  0%|          | 0/1 [00:00<?, ?it/s]\u001b[A\u001b[A\n",
      "\n",
      "100%|██████████| 1/1 [00:03<00:00,  3.31s/it]\u001b[A\u001b[A\n",
      "\n",
      "  1%|          | 96/10000 [52:22<41:36:47, 15.13s/it]\u001b[A\n",
      "\n",
      "  0%|          | 0/1 [00:00<?, ?it/s]\u001b[A\u001b[A\n",
      "\n",
      "100%|██████████| 1/1 [00:01<00:00,  1.26s/it]\u001b[A\u001b[A\n",
      "\n",
      "  1%|          | 97/10000 [52:46<49:08:43, 17.87s/it]\u001b[A\n",
      "\n",
      "  0%|          | 0/1 [00:00<?, ?it/s]\u001b[A\u001b[A\n",
      "\n",
      "100%|██████████| 1/1 [00:17<00:00, 17.42s/it]\u001b[A\u001b[A\n",
      "\n",
      "  1%|          | 98/10000 [53:28<69:20:50, 25.21s/it]\u001b[A\n",
      "\n",
      "  0%|          | 0/1 [00:00<?, ?it/s]\u001b[A\u001b[A\n",
      "\n",
      "100%|██████████| 1/1 [00:22<00:00, 22.10s/it]\u001b[A\u001b[A\n",
      "\n",
      "  1%|          | 99/10000 [54:14<86:18:05, 31.38s/it]\u001b[A\n",
      "\n",
      "  0%|          | 0/1 [00:00<?, ?it/s]\u001b[A\u001b[A\n",
      "\n",
      "100%|██████████| 1/1 [00:24<00:00, 24.93s/it]\u001b[A\u001b[A\n",
      "\n",
      "  1%|          | 100/10000 [55:08<104:19:39, 37.94s/it]\u001b[A\n",
      "\n",
      "  0%|          | 0/1 [00:00<?, ?it/s]\u001b[A\u001b[A\n",
      "\n",
      "100%|██████████| 1/1 [00:30<00:00, 30.65s/it]\u001b[A\u001b[A\n"
     ]
    },
    {
     "name": "stdout",
     "output_type": "stream",
     "text": [
      "\n",
      "Epoch: 101, Loss: 0.4257, Val: 0.6577, Test: 0.6604\n"
     ]
    },
    {
     "name": "stderr",
     "output_type": "stream",
     "text": [
      "\n",
      "  1%|          | 101/10000 [56:49<157:08:01, 57.15s/it]\u001b[A\n",
      "\n",
      "  0%|          | 0/1 [00:00<?, ?it/s]\u001b[A\u001b[A\n",
      "\n",
      "100%|██████████| 1/1 [00:13<00:00, 13.88s/it]\u001b[A\u001b[A\n"
     ]
    },
    {
     "name": "stdout",
     "output_type": "stream",
     "text": [
      "\n",
      "Epoch: 102, Loss: 0.4249, Val: 0.6583, Test: 0.6611\n"
     ]
    },
    {
     "name": "stderr",
     "output_type": "stream",
     "text": [
      "\n",
      "  1%|          | 102/10000 [57:30<143:09:10, 52.07s/it]\u001b[A\n",
      "\n",
      "  0%|          | 0/1 [00:00<?, ?it/s]\u001b[A\u001b[A\n",
      "\n",
      "100%|██████████| 1/1 [00:02<00:00,  2.73s/it]\u001b[A\u001b[A\n"
     ]
    },
    {
     "name": "stdout",
     "output_type": "stream",
     "text": [
      "\n",
      "Epoch: 103, Loss: 0.4242, Val: 0.6588, Test: 0.6617\n"
     ]
    },
    {
     "name": "stderr",
     "output_type": "stream",
     "text": [
      "\n",
      "  1%|          | 103/10000 [57:55<121:01:23, 44.02s/it]\u001b[A\n",
      "\n",
      "  0%|          | 0/1 [00:00<?, ?it/s]\u001b[A\u001b[A\n",
      "\n",
      "100%|██████████| 1/1 [00:01<00:00,  1.54s/it]\u001b[A\u001b[A\n"
     ]
    },
    {
     "name": "stdout",
     "output_type": "stream",
     "text": [
      "\n",
      "Epoch: 104, Loss: 0.4228, Val: 0.6597, Test: 0.6624\n"
     ]
    },
    {
     "name": "stderr",
     "output_type": "stream",
     "text": [
      "\n",
      "  1%|          | 104/10000 [58:19<104:18:46, 37.95s/it]\u001b[A\n",
      "\n",
      "  0%|          | 0/1 [00:00<?, ?it/s]\u001b[A\u001b[A\n",
      "\n",
      "100%|██████████| 1/1 [00:01<00:00,  1.49s/it]\u001b[A\u001b[A\n"
     ]
    },
    {
     "name": "stdout",
     "output_type": "stream",
     "text": [
      "\n",
      "Epoch: 105, Loss: 0.4215, Val: 0.6606, Test: 0.6632\n"
     ]
    },
    {
     "name": "stderr",
     "output_type": "stream",
     "text": [
      "\n",
      "  1%|          | 105/10000 [58:43<93:24:33, 33.98s/it] \u001b[A\n",
      "\n",
      "  0%|          | 0/1 [00:00<?, ?it/s]\u001b[A\u001b[A\n",
      "\n",
      "100%|██████████| 1/1 [00:01<00:00,  1.47s/it]\u001b[A\u001b[A\n"
     ]
    },
    {
     "name": "stdout",
     "output_type": "stream",
     "text": [
      "\n",
      "Epoch: 106, Loss: 0.4209, Val: 0.6616, Test: 0.6641\n"
     ]
    },
    {
     "name": "stderr",
     "output_type": "stream",
     "text": [
      "\n",
      "  1%|          | 106/10000 [59:06<84:18:33, 30.68s/it]\u001b[A\n",
      "\n",
      "  0%|          | 0/1 [00:00<?, ?it/s]\u001b[A\u001b[A\n",
      "\n",
      "100%|██████████| 1/1 [00:01<00:00,  1.30s/it]\u001b[A\u001b[A\n"
     ]
    },
    {
     "name": "stdout",
     "output_type": "stream",
     "text": [
      "\n",
      "Epoch: 107, Loss: 0.4200, Val: 0.6628, Test: 0.6650\n"
     ]
    },
    {
     "name": "stderr",
     "output_type": "stream",
     "text": [
      "\n",
      "  1%|          | 107/10000 [59:30<78:23:02, 28.52s/it]\u001b[A\n",
      "\n",
      "  0%|          | 0/1 [00:00<?, ?it/s]\u001b[A\u001b[A\n",
      "\n",
      "100%|██████████| 1/1 [00:01<00:00,  1.33s/it]\u001b[A\u001b[A\n"
     ]
    },
    {
     "name": "stdout",
     "output_type": "stream",
     "text": [
      "\n",
      "Epoch: 108, Loss: 0.4196, Val: 0.6638, Test: 0.6658\n"
     ]
    },
    {
     "name": "stderr",
     "output_type": "stream",
     "text": [
      "\n",
      "  1%|          | 108/10000 [59:54<74:32:43, 27.13s/it]\u001b[A\n",
      "\n",
      "  0%|          | 0/1 [00:00<?, ?it/s]\u001b[A\u001b[A\n",
      "\n",
      "100%|██████████| 1/1 [00:01<00:00,  1.46s/it]\u001b[A\u001b[A\n"
     ]
    },
    {
     "name": "stdout",
     "output_type": "stream",
     "text": [
      "\n",
      "Epoch: 109, Loss: 0.4180, Val: 0.6651, Test: 0.6668\n"
     ]
    },
    {
     "name": "stderr",
     "output_type": "stream",
     "text": [
      "\n",
      "  1%|          | 109/10000 [1:00:17<71:19:39, 25.96s/it]\u001b[A\n",
      "\n",
      "  0%|          | 0/1 [00:00<?, ?it/s]\u001b[A\u001b[A\n",
      "\n",
      "100%|██████████| 1/1 [00:01<00:00,  1.49s/it]\u001b[A\u001b[A\n"
     ]
    },
    {
     "name": "stdout",
     "output_type": "stream",
     "text": [
      "\n",
      "Epoch: 110, Loss: 0.4186, Val: 0.6662, Test: 0.6674\n"
     ]
    },
    {
     "name": "stderr",
     "output_type": "stream",
     "text": [
      "\n",
      "  1%|          | 110/10000 [1:00:40<69:10:44, 25.18s/it]\u001b[A\n",
      "\n",
      "  0%|          | 0/1 [00:00<?, ?it/s]\u001b[A\u001b[A\n",
      "\n",
      "100%|██████████| 1/1 [00:01<00:00,  1.24s/it]\u001b[A\u001b[A\n"
     ]
    },
    {
     "name": "stdout",
     "output_type": "stream",
     "text": [
      "\n",
      "Epoch: 111, Loss: 0.4175, Val: 0.6671, Test: 0.6686\n"
     ]
    },
    {
     "name": "stderr",
     "output_type": "stream",
     "text": [
      "\n",
      "  1%|          | 111/10000 [1:01:04<67:58:15, 24.74s/it]\u001b[A\n",
      "\n",
      "  0%|          | 0/1 [00:00<?, ?it/s]\u001b[A\u001b[A\n",
      "\n",
      "100%|██████████| 1/1 [00:01<00:00,  1.51s/it]\u001b[A\u001b[A\n"
     ]
    },
    {
     "name": "stdout",
     "output_type": "stream",
     "text": [
      "\n",
      "Epoch: 112, Loss: 0.4165, Val: 0.6683, Test: 0.6696\n"
     ]
    },
    {
     "name": "stderr",
     "output_type": "stream",
     "text": [
      "\n",
      "  1%|          | 112/10000 [1:01:27<66:47:53, 24.32s/it]\u001b[A\n",
      "\n",
      "  0%|          | 0/1 [00:00<?, ?it/s]\u001b[A\u001b[A\n",
      "\n",
      "100%|██████████| 1/1 [00:01<00:00,  1.46s/it]\u001b[A\u001b[A\n"
     ]
    },
    {
     "name": "stdout",
     "output_type": "stream",
     "text": [
      "\n",
      "Epoch: 113, Loss: 0.4159, Val: 0.6693, Test: 0.6708\n"
     ]
    },
    {
     "name": "stderr",
     "output_type": "stream",
     "text": [
      "\n",
      "  1%|          | 113/10000 [1:01:50<65:47:20, 23.95s/it]\u001b[A\n",
      "\n",
      "  0%|          | 0/1 [00:00<?, ?it/s]\u001b[A\u001b[A\n",
      "\n",
      "100%|██████████| 1/1 [00:01<00:00,  1.44s/it]\u001b[A\u001b[A\n"
     ]
    },
    {
     "name": "stdout",
     "output_type": "stream",
     "text": [
      "\n",
      "Epoch: 114, Loss: 0.4152, Val: 0.6704, Test: 0.6720\n"
     ]
    },
    {
     "name": "stderr",
     "output_type": "stream",
     "text": [
      "\n",
      "  1%|          | 114/10000 [1:02:15<66:13:21, 24.12s/it]\u001b[A\n",
      "\n",
      "  0%|          | 0/1 [00:00<?, ?it/s]\u001b[A\u001b[A\n",
      "\n",
      "100%|██████████| 1/1 [00:01<00:00,  1.50s/it]\u001b[A\u001b[A\n"
     ]
    },
    {
     "name": "stdout",
     "output_type": "stream",
     "text": [
      "\n",
      "Epoch: 115, Loss: 0.4148, Val: 0.6715, Test: 0.6731\n"
     ]
    },
    {
     "name": "stderr",
     "output_type": "stream",
     "text": [
      "\n",
      "  1%|          | 115/10000 [1:02:39<65:50:46, 23.98s/it]\u001b[A\n",
      "\n",
      "  0%|          | 0/1 [00:00<?, ?it/s]\u001b[A\u001b[A\n",
      "\n",
      "100%|██████████| 1/1 [00:01<00:00,  1.60s/it]\u001b[A\u001b[A\n"
     ]
    },
    {
     "name": "stdout",
     "output_type": "stream",
     "text": [
      "\n",
      "Epoch: 116, Loss: 0.4135, Val: 0.6722, Test: 0.6740\n"
     ]
    },
    {
     "name": "stderr",
     "output_type": "stream",
     "text": [
      "\n",
      "  1%|          | 116/10000 [1:03:03<65:56:34, 24.02s/it]\u001b[A\n",
      "\n",
      "  0%|          | 0/1 [00:00<?, ?it/s]\u001b[A\u001b[A\n",
      "\n",
      "100%|██████████| 1/1 [00:01<00:00,  1.47s/it]\u001b[A\u001b[A\n"
     ]
    },
    {
     "name": "stdout",
     "output_type": "stream",
     "text": [
      "\n",
      "Epoch: 117, Loss: 0.4127, Val: 0.6733, Test: 0.6750\n"
     ]
    },
    {
     "name": "stderr",
     "output_type": "stream",
     "text": [
      "\n",
      "  1%|          | 117/10000 [1:03:28<66:37:40, 24.27s/it]\u001b[A\n",
      "\n",
      "  0%|          | 0/1 [00:00<?, ?it/s]\u001b[A\u001b[A\n",
      "\n",
      "100%|██████████| 1/1 [00:01<00:00,  1.51s/it]\u001b[A\u001b[A\n"
     ]
    },
    {
     "name": "stdout",
     "output_type": "stream",
     "text": [
      "\n",
      "Epoch: 118, Loss: 0.4127, Val: 0.6742, Test: 0.6759\n"
     ]
    },
    {
     "name": "stderr",
     "output_type": "stream",
     "text": [
      "\n",
      "  1%|          | 118/10000 [1:03:52<66:45:33, 24.32s/it]\u001b[A\n",
      "\n",
      "  0%|          | 0/1 [00:00<?, ?it/s]\u001b[A\u001b[A\n",
      "\n",
      "100%|██████████| 1/1 [00:01<00:00,  1.62s/it]\u001b[A\u001b[A\n"
     ]
    },
    {
     "name": "stdout",
     "output_type": "stream",
     "text": [
      "\n",
      "Epoch: 119, Loss: 0.4120, Val: 0.6751, Test: 0.6767\n"
     ]
    },
    {
     "name": "stderr",
     "output_type": "stream",
     "text": [
      "\n",
      "  1%|          | 119/10000 [1:04:16<66:30:07, 24.23s/it]\u001b[A\n",
      "\n",
      "  0%|          | 0/1 [00:00<?, ?it/s]\u001b[A\u001b[A\n",
      "\n",
      "100%|██████████| 1/1 [00:01<00:00,  1.63s/it]\u001b[A\u001b[A\n"
     ]
    },
    {
     "name": "stdout",
     "output_type": "stream",
     "text": [
      "\n",
      "Epoch: 120, Loss: 0.4113, Val: 0.6756, Test: 0.6775\n"
     ]
    },
    {
     "name": "stderr",
     "output_type": "stream",
     "text": [
      "\n",
      "  1%|          | 120/10000 [1:04:44<69:23:01, 25.28s/it]\u001b[A\n",
      "\n",
      "  0%|          | 0/1 [00:00<?, ?it/s]\u001b[A\u001b[A\n",
      "\n",
      "100%|██████████| 1/1 [00:04<00:00,  4.42s/it]\u001b[A\u001b[A\n"
     ]
    },
    {
     "name": "stdout",
     "output_type": "stream",
     "text": [
      "\n",
      "Epoch: 121, Loss: 0.4107, Val: 0.6763, Test: 0.6782\n"
     ]
    },
    {
     "name": "stderr",
     "output_type": "stream",
     "text": [
      "\n",
      "  1%|          | 121/10000 [1:05:10<70:20:13, 25.63s/it]\u001b[A\n",
      "\n",
      "  0%|          | 0/1 [00:00<?, ?it/s]\u001b[A\u001b[A\n",
      "\n",
      "100%|██████████| 1/1 [00:01<00:00,  1.29s/it]\u001b[A\u001b[A\n"
     ]
    },
    {
     "name": "stdout",
     "output_type": "stream",
     "text": [
      "\n",
      "Epoch: 122, Loss: 0.4094, Val: 0.6770, Test: 0.6788\n"
     ]
    },
    {
     "name": "stderr",
     "output_type": "stream",
     "text": [
      "\n",
      "  1%|          | 122/10000 [1:05:34<68:24:18, 24.93s/it]\u001b[A\n",
      "\n",
      "  0%|          | 0/1 [00:00<?, ?it/s]\u001b[A\u001b[A\n",
      "\n",
      "100%|██████████| 1/1 [00:01<00:00,  1.25s/it]\u001b[A\u001b[A\n"
     ]
    },
    {
     "name": "stdout",
     "output_type": "stream",
     "text": [
      "\n",
      "Epoch: 123, Loss: 0.4095, Val: 0.6779, Test: 0.6796\n"
     ]
    },
    {
     "name": "stderr",
     "output_type": "stream",
     "text": [
      "\n",
      "  1%|          | 123/10000 [1:06:18<84:20:53, 30.74s/it]\u001b[A\n",
      "\n",
      "  0%|          | 0/1 [00:00<?, ?it/s]\u001b[A\u001b[A\n",
      "\n",
      "100%|██████████| 1/1 [00:19<00:00, 19.70s/it]\u001b[A\u001b[A\n"
     ]
    },
    {
     "name": "stdout",
     "output_type": "stream",
     "text": [
      "\n",
      "Epoch: 124, Loss: 0.4086, Val: 0.6783, Test: 0.6800\n"
     ]
    },
    {
     "name": "stderr",
     "output_type": "stream",
     "text": [
      "\n",
      "  1%|          | 124/10000 [1:07:34<121:43:20, 44.37s/it]\u001b[A\n",
      "\n",
      "  0%|          | 0/1 [00:00<?, ?it/s]\u001b[A\u001b[A\n",
      "\n",
      "100%|██████████| 1/1 [00:28<00:00, 28.56s/it]\u001b[A\u001b[A\n"
     ]
    },
    {
     "name": "stdout",
     "output_type": "stream",
     "text": [
      "\n",
      "Epoch: 125, Loss: 0.4082, Val: 0.6791, Test: 0.6808\n"
     ]
    },
    {
     "name": "stderr",
     "output_type": "stream",
     "text": [
      "\n",
      "  1%|▏         | 125/10000 [1:08:59<155:09:30, 56.56s/it]\u001b[A\n",
      "\n",
      "  0%|          | 0/1 [00:00<?, ?it/s]\u001b[A\u001b[A\n",
      "\n",
      "100%|██████████| 1/1 [00:43<00:00, 43.05s/it]\u001b[A\u001b[A\n"
     ]
    },
    {
     "name": "stdout",
     "output_type": "stream",
     "text": [
      "\n",
      "Epoch: 126, Loss: 0.4076, Val: 0.6798, Test: 0.6817\n"
     ]
    },
    {
     "name": "stderr",
     "output_type": "stream",
     "text": [
      "\n",
      "  1%|▏         | 126/10000 [1:10:44<194:59:22, 71.09s/it]\u001b[A\n",
      "\n",
      "  0%|          | 0/1 [00:00<?, ?it/s]\u001b[A\u001b[A\n",
      "\n",
      "100%|██████████| 1/1 [00:04<00:00,  4.12s/it]\u001b[A\u001b[A\n"
     ]
    },
    {
     "name": "stdout",
     "output_type": "stream",
     "text": [
      "\n",
      "Epoch: 127, Loss: 0.4071, Val: 0.6803, Test: 0.6821\n"
     ]
    },
    {
     "name": "stderr",
     "output_type": "stream",
     "text": [
      "\n",
      "  1%|▏         | 127/10000 [1:11:12<159:29:27, 58.16s/it]\u001b[A\n",
      "\n",
      "  0%|          | 0/1 [00:00<?, ?it/s]\u001b[A\u001b[A\n",
      "\n",
      "100%|██████████| 1/1 [00:01<00:00,  1.67s/it]\u001b[A\u001b[A\n"
     ]
    },
    {
     "name": "stdout",
     "output_type": "stream",
     "text": [
      "\n",
      "Epoch: 128, Loss: 0.4062, Val: 0.6807, Test: 0.6827\n"
     ]
    },
    {
     "name": "stderr",
     "output_type": "stream",
     "text": [
      "\n",
      "  1%|▏         | 128/10000 [1:11:38<133:13:32, 48.58s/it]\u001b[A\n",
      "\n",
      "  0%|          | 0/1 [00:00<?, ?it/s]\u001b[A\u001b[A\n",
      "\n",
      "100%|██████████| 1/1 [00:03<00:00,  3.30s/it]\u001b[A\u001b[A\n"
     ]
    },
    {
     "name": "stdout",
     "output_type": "stream",
     "text": [
      "\n",
      "Epoch: 129, Loss: 0.4061, Val: 0.6811, Test: 0.6830\n"
     ]
    },
    {
     "name": "stderr",
     "output_type": "stream",
     "text": [
      "\n",
      "  1%|▏         | 129/10000 [1:12:42<145:19:57, 53.00s/it]\u001b[A\n",
      "\n",
      "  0%|          | 0/1 [00:00<?, ?it/s]\u001b[A\u001b[A\n",
      "\n",
      "100%|██████████| 1/1 [00:28<00:00, 28.45s/it]\u001b[A\u001b[A\n"
     ]
    },
    {
     "name": "stdout",
     "output_type": "stream",
     "text": [
      "\n",
      "Epoch: 130, Loss: 0.4059, Val: 0.6815, Test: 0.6835\n"
     ]
    },
    {
     "name": "stderr",
     "output_type": "stream",
     "text": [
      "\n",
      "  1%|▏         | 130/10000 [1:13:54<161:31:11, 58.91s/it]\u001b[A\n",
      "\n",
      "  0%|          | 0/1 [00:00<?, ?it/s]\u001b[A\u001b[A\n",
      "\n",
      "100%|██████████| 1/1 [00:05<00:00,  5.36s/it]\u001b[A\u001b[A\n"
     ]
    },
    {
     "name": "stdout",
     "output_type": "stream",
     "text": [
      "\n",
      "Epoch: 131, Loss: 0.4051, Val: 0.6819, Test: 0.6840\n"
     ]
    },
    {
     "name": "stderr",
     "output_type": "stream",
     "text": [
      "\n",
      "  1%|▏         | 131/10000 [1:14:51<159:52:52, 58.32s/it]\u001b[A\n",
      "\n",
      "  0%|          | 0/1 [00:00<?, ?it/s]\u001b[A\u001b[A\n",
      "\n",
      "100%|██████████| 1/1 [00:17<00:00, 17.85s/it]\u001b[A\u001b[A\n"
     ]
    },
    {
     "name": "stdout",
     "output_type": "stream",
     "text": [
      "\n",
      "Epoch: 132, Loss: 0.4040, Val: 0.6825, Test: 0.6844\n"
     ]
    },
    {
     "name": "stderr",
     "output_type": "stream",
     "text": [
      "\n",
      "  1%|▏         | 132/10000 [1:16:08<174:42:58, 63.74s/it]\u001b[A\n",
      "\n",
      "  0%|          | 0/1 [00:00<?, ?it/s]\u001b[A\u001b[A\n",
      "\n",
      "100%|██████████| 1/1 [00:23<00:00, 23.49s/it]\u001b[A\u001b[A\n"
     ]
    },
    {
     "name": "stdout",
     "output_type": "stream",
     "text": [
      "\n",
      "Epoch: 133, Loss: 0.4040, Val: 0.6829, Test: 0.6849\n"
     ]
    },
    {
     "name": "stderr",
     "output_type": "stream",
     "text": [
      "\n",
      "  1%|▏         | 133/10000 [1:17:13<176:20:20, 64.34s/it]\u001b[A\n",
      "\n",
      "  0%|          | 0/1 [00:00<?, ?it/s]\u001b[A\u001b[A\n",
      "\n",
      "100%|██████████| 1/1 [00:03<00:00,  3.16s/it]\u001b[A\u001b[A\n"
     ]
    },
    {
     "name": "stdout",
     "output_type": "stream",
     "text": [
      "\n",
      "Epoch: 134, Loss: 0.4039, Val: 0.6835, Test: 0.6853\n"
     ]
    },
    {
     "name": "stderr",
     "output_type": "stream",
     "text": [
      "\n",
      "  1%|▏         | 134/10000 [1:17:39<144:20:03, 52.67s/it]\u001b[A\n",
      "\n",
      "  0%|          | 0/1 [00:00<?, ?it/s]\u001b[A\u001b[A\n",
      "\n",
      "100%|██████████| 1/1 [00:01<00:00,  2.00s/it]\u001b[A\u001b[A\n"
     ]
    },
    {
     "name": "stdout",
     "output_type": "stream",
     "text": [
      "\n",
      "Epoch: 135, Loss: 0.4035, Val: 0.6839, Test: 0.6858\n"
     ]
    },
    {
     "name": "stderr",
     "output_type": "stream",
     "text": [
      "\n",
      "  1%|▏         | 135/10000 [1:18:03<121:13:20, 44.24s/it]\u001b[A\n",
      "\n",
      "  0%|          | 0/1 [00:00<?, ?it/s]\u001b[A\u001b[A\n",
      "\n",
      "100%|██████████| 1/1 [00:01<00:00,  1.46s/it]\u001b[A\u001b[A\n"
     ]
    },
    {
     "name": "stdout",
     "output_type": "stream",
     "text": [
      "\n",
      "Epoch: 136, Loss: 0.4027, Val: 0.6842, Test: 0.6863\n"
     ]
    },
    {
     "name": "stderr",
     "output_type": "stream",
     "text": [
      "\n",
      "  1%|▏         | 136/10000 [1:18:29<105:35:20, 38.54s/it]\u001b[A\n",
      "\n",
      "  0%|          | 0/1 [00:00<?, ?it/s]\u001b[A\u001b[A\n",
      "\n",
      "100%|██████████| 1/1 [00:01<00:00,  1.62s/it]\u001b[A\u001b[A\n"
     ]
    },
    {
     "name": "stdout",
     "output_type": "stream",
     "text": [
      "\n",
      "Epoch: 137, Loss: 0.4027, Val: 0.6845, Test: 0.6866\n"
     ]
    },
    {
     "name": "stderr",
     "output_type": "stream",
     "text": [
      "\n",
      "  1%|▏         | 137/10000 [1:18:54<95:08:53, 34.73s/it] \u001b[A\n",
      "\n",
      "  0%|          | 0/1 [00:00<?, ?it/s]\u001b[A\u001b[A\n",
      "\n",
      "100%|██████████| 1/1 [00:02<00:00,  2.12s/it]\u001b[A\u001b[A\n"
     ]
    },
    {
     "name": "stdout",
     "output_type": "stream",
     "text": [
      "\n",
      "Epoch: 138, Loss: 0.4020, Val: 0.6849, Test: 0.6870\n"
     ]
    },
    {
     "name": "stderr",
     "output_type": "stream",
     "text": [
      "\n",
      "  1%|▏         | 138/10000 [1:19:19<86:59:35, 31.76s/it]\u001b[A\n",
      "\n",
      "  0%|          | 0/1 [00:00<?, ?it/s]\u001b[A\u001b[A\n",
      "\n",
      "100%|██████████| 1/1 [00:01<00:00,  1.50s/it]\u001b[A\u001b[A\n"
     ]
    },
    {
     "name": "stdout",
     "output_type": "stream",
     "text": [
      "\n",
      "Epoch: 139, Loss: 0.4009, Val: 0.6852, Test: 0.6875\n"
     ]
    },
    {
     "name": "stderr",
     "output_type": "stream",
     "text": [
      "\n",
      "  1%|▏         | 139/10000 [1:19:44<81:01:32, 29.58s/it]\u001b[A\n",
      "\n",
      "  0%|          | 0/1 [00:00<?, ?it/s]\u001b[A\u001b[A\n",
      "\n",
      "100%|██████████| 1/1 [00:01<00:00,  1.55s/it]\u001b[A\u001b[A\n"
     ]
    },
    {
     "name": "stdout",
     "output_type": "stream",
     "text": [
      "\n",
      "Epoch: 140, Loss: 0.4011, Val: 0.6855, Test: 0.6878\n"
     ]
    },
    {
     "name": "stderr",
     "output_type": "stream",
     "text": [
      "\n",
      "  1%|▏         | 140/10000 [1:20:09<77:25:17, 28.27s/it]\u001b[A\n",
      "\n",
      "  0%|          | 0/1 [00:00<?, ?it/s]\u001b[A\u001b[A\n",
      "\n",
      "100%|██████████| 1/1 [00:01<00:00,  1.70s/it]\u001b[A\u001b[A\n"
     ]
    },
    {
     "name": "stdout",
     "output_type": "stream",
     "text": [
      "\n",
      "Epoch: 141, Loss: 0.4006, Val: 0.6860, Test: 0.6885\n"
     ]
    },
    {
     "name": "stderr",
     "output_type": "stream",
     "text": [
      "\n",
      "  1%|▏         | 141/10000 [1:20:33<73:48:29, 26.95s/it]\u001b[A\n",
      "\n",
      "  0%|          | 0/1 [00:00<?, ?it/s]\u001b[A\u001b[A\n",
      "\n",
      "100%|██████████| 1/1 [00:01<00:00,  1.43s/it]\u001b[A\u001b[A\n"
     ]
    },
    {
     "name": "stdout",
     "output_type": "stream",
     "text": [
      "\n",
      "Epoch: 142, Loss: 0.4001, Val: 0.6864, Test: 0.6888\n"
     ]
    },
    {
     "name": "stderr",
     "output_type": "stream",
     "text": [
      "\n",
      "  1%|▏         | 142/10000 [1:20:57<71:40:11, 26.17s/it]\u001b[A\n",
      "\n",
      "  0%|          | 0/1 [00:00<?, ?it/s]\u001b[A\u001b[A\n",
      "\n",
      "100%|██████████| 1/1 [00:01<00:00,  1.31s/it]\u001b[A\u001b[A\n"
     ]
    },
    {
     "name": "stdout",
     "output_type": "stream",
     "text": [
      "\n",
      "Epoch: 143, Loss: 0.4004, Val: 0.6867, Test: 0.6892\n"
     ]
    },
    {
     "name": "stderr",
     "output_type": "stream",
     "text": [
      "\n",
      "  1%|▏         | 143/10000 [1:21:20<69:11:39, 25.27s/it]\u001b[A\n",
      "\n",
      "  0%|          | 0/1 [00:00<?, ?it/s]\u001b[A\u001b[A\n",
      "\n",
      "100%|██████████| 1/1 [00:01<00:00,  1.54s/it]\u001b[A\u001b[A\n"
     ]
    },
    {
     "name": "stdout",
     "output_type": "stream",
     "text": [
      "\n",
      "Epoch: 144, Loss: 0.3993, Val: 0.6871, Test: 0.6897\n"
     ]
    },
    {
     "name": "stderr",
     "output_type": "stream",
     "text": [
      "\n",
      "  1%|▏         | 144/10000 [1:21:45<68:57:01, 25.18s/it]\u001b[A\n",
      "\n",
      "  0%|          | 0/1 [00:00<?, ?it/s]\u001b[A\u001b[A\n",
      "\n",
      "100%|██████████| 1/1 [00:02<00:00,  2.24s/it]\u001b[A\u001b[A\n"
     ]
    },
    {
     "name": "stdout",
     "output_type": "stream",
     "text": [
      "\n",
      "Epoch: 145, Loss: 0.3992, Val: 0.6876, Test: 0.6901\n"
     ]
    },
    {
     "name": "stderr",
     "output_type": "stream",
     "text": [
      "\n",
      "  1%|▏         | 145/10000 [1:22:14<71:46:39, 26.22s/it]\u001b[A\n",
      "\n",
      "  0%|          | 0/1 [00:00<?, ?it/s]\u001b[A\u001b[A\n",
      "\n",
      "100%|██████████| 1/1 [00:02<00:00,  2.13s/it]\u001b[A\u001b[A\n"
     ]
    },
    {
     "name": "stdout",
     "output_type": "stream",
     "text": [
      "\n",
      "Epoch: 146, Loss: 0.3991, Val: 0.6879, Test: 0.6904\n"
     ]
    },
    {
     "name": "stderr",
     "output_type": "stream",
     "text": [
      "\n",
      "  1%|▏         | 146/10000 [1:22:41<72:44:45, 26.58s/it]\u001b[A\n",
      "\n",
      "  0%|          | 0/1 [00:00<?, ?it/s]\u001b[A\u001b[A\n",
      "\n",
      "100%|██████████| 1/1 [00:02<00:00,  2.27s/it]\u001b[A\u001b[A\n"
     ]
    },
    {
     "name": "stdout",
     "output_type": "stream",
     "text": [
      "\n",
      "Epoch: 147, Loss: 0.3983, Val: 0.6883, Test: 0.6907\n"
     ]
    },
    {
     "name": "stderr",
     "output_type": "stream",
     "text": [
      "\n",
      "  1%|▏         | 147/10000 [1:23:10<74:21:44, 27.17s/it]\u001b[A\n",
      "\n",
      "  0%|          | 0/1 [00:00<?, ?it/s]\u001b[A\u001b[A\n",
      "\n",
      "100%|██████████| 1/1 [00:02<00:00,  2.82s/it]\u001b[A\u001b[A\n"
     ]
    },
    {
     "name": "stdout",
     "output_type": "stream",
     "text": [
      "\n",
      "Epoch: 148, Loss: 0.3984, Val: 0.6885, Test: 0.6908\n"
     ]
    },
    {
     "name": "stderr",
     "output_type": "stream",
     "text": [
      "\n",
      "  1%|▏         | 148/10000 [1:23:39<76:05:12, 27.80s/it]\u001b[A\n",
      "\n",
      "  0%|          | 0/1 [00:00<?, ?it/s]\u001b[A\u001b[A\n",
      "\n",
      "100%|██████████| 1/1 [00:02<00:00,  2.26s/it]\u001b[A\u001b[A\n"
     ]
    },
    {
     "name": "stdout",
     "output_type": "stream",
     "text": [
      "\n",
      "Epoch: 149, Loss: 0.3981, Val: 0.6888, Test: 0.6912\n"
     ]
    },
    {
     "name": "stderr",
     "output_type": "stream",
     "text": [
      "\n",
      "  1%|▏         | 149/10000 [1:24:09<77:23:58, 28.29s/it]\u001b[A\n",
      "\n",
      "  0%|          | 0/1 [00:00<?, ?it/s]\u001b[A\u001b[A\n",
      "\n",
      "100%|██████████| 1/1 [00:02<00:00,  2.68s/it]\u001b[A\u001b[A\n"
     ]
    },
    {
     "name": "stdout",
     "output_type": "stream",
     "text": [
      "\n",
      "Epoch: 150, Loss: 0.3980, Val: 0.6891, Test: 0.6914\n"
     ]
    },
    {
     "name": "stderr",
     "output_type": "stream",
     "text": [
      "\n",
      "  2%|▏         | 150/10000 [1:24:39<79:23:47, 29.02s/it]\u001b[A\n",
      "\n",
      "  0%|          | 0/1 [00:00<?, ?it/s]\u001b[A\u001b[A\n",
      "\n",
      "100%|██████████| 1/1 [00:02<00:00,  2.46s/it]\u001b[A\u001b[A\n"
     ]
    },
    {
     "name": "stdout",
     "output_type": "stream",
     "text": [
      "\n",
      "Epoch: 151, Loss: 0.3976, Val: 0.6895, Test: 0.6919\n"
     ]
    },
    {
     "name": "stderr",
     "output_type": "stream",
     "text": [
      "\n",
      "  2%|▏         | 151/10000 [1:25:13<83:09:13, 30.39s/it]\u001b[A\n",
      "\n",
      "  0%|          | 0/1 [00:00<?, ?it/s]\u001b[A\u001b[A\n",
      "\n",
      "100%|██████████| 1/1 [00:06<00:00,  6.97s/it]\u001b[A\u001b[A\n"
     ]
    },
    {
     "name": "stdout",
     "output_type": "stream",
     "text": [
      "\n",
      "Epoch: 152, Loss: 0.3964, Val: 0.6898, Test: 0.6922\n"
     ]
    },
    {
     "name": "stderr",
     "output_type": "stream",
     "text": [
      "\n",
      "  2%|▏         | 152/10000 [1:25:46<85:02:02, 31.08s/it]\u001b[A\n",
      "\n",
      "  0%|          | 0/1 [00:00<?, ?it/s]\u001b[A\u001b[A\n",
      "\n",
      "100%|██████████| 1/1 [00:02<00:00,  2.10s/it]\u001b[A\u001b[A\n"
     ]
    },
    {
     "name": "stdout",
     "output_type": "stream",
     "text": [
      "\n",
      "Epoch: 153, Loss: 0.3967, Val: 0.6902, Test: 0.6924\n"
     ]
    },
    {
     "name": "stderr",
     "output_type": "stream",
     "text": [
      "\n",
      "  2%|▏         | 153/10000 [1:26:15<83:23:56, 30.49s/it]\u001b[A\n",
      "\n",
      "  0%|          | 0/1 [00:00<?, ?it/s]\u001b[A\u001b[A\n",
      "\n",
      "100%|██████████| 1/1 [00:02<00:00,  2.47s/it]\u001b[A\u001b[A\n"
     ]
    },
    {
     "name": "stdout",
     "output_type": "stream",
     "text": [
      "\n",
      "Epoch: 154, Loss: 0.3972, Val: 0.6906, Test: 0.6928\n"
     ]
    },
    {
     "name": "stderr",
     "output_type": "stream",
     "text": [
      "\n",
      "  2%|▏         | 154/10000 [1:26:43<81:54:46, 29.95s/it]\u001b[A\n",
      "\n",
      "  0%|          | 0/1 [00:00<?, ?it/s]\u001b[A\u001b[A\n",
      "\n",
      "100%|██████████| 1/1 [00:02<00:00,  2.70s/it]\u001b[A\u001b[A\n"
     ]
    },
    {
     "name": "stdout",
     "output_type": "stream",
     "text": [
      "\n",
      "Epoch: 155, Loss: 0.3965, Val: 0.6907, Test: 0.6932\n"
     ]
    },
    {
     "name": "stderr",
     "output_type": "stream",
     "text": [
      "\n",
      "  2%|▏         | 155/10000 [1:27:15<82:50:48, 30.29s/it]\u001b[A\n",
      "\n",
      "  0%|          | 0/1 [00:00<?, ?it/s]\u001b[A\u001b[A\n",
      "\n",
      "100%|██████████| 1/1 [00:03<00:00,  3.94s/it]\u001b[A\u001b[A\n"
     ]
    },
    {
     "name": "stdout",
     "output_type": "stream",
     "text": [
      "\n",
      "Epoch: 156, Loss: 0.3959, Val: 0.6911, Test: 0.6935\n"
     ]
    },
    {
     "name": "stderr",
     "output_type": "stream",
     "text": [
      "\n",
      "  2%|▏         | 156/10000 [1:27:46<83:46:33, 30.64s/it]\u001b[A\n",
      "\n",
      "  0%|          | 0/1 [00:00<?, ?it/s]\u001b[A\u001b[A\n",
      "\n",
      "100%|██████████| 1/1 [00:05<00:00,  5.08s/it]\u001b[A\u001b[A\n"
     ]
    },
    {
     "name": "stdout",
     "output_type": "stream",
     "text": [
      "\n",
      "Epoch: 157, Loss: 0.3964, Val: 0.6914, Test: 0.6939\n"
     ]
    },
    {
     "name": "stderr",
     "output_type": "stream",
     "text": [
      "\n",
      "  2%|▏         | 157/10000 [1:28:19<85:37:46, 31.32s/it]\u001b[A\n",
      "\n",
      "  0%|          | 0/1 [00:00<?, ?it/s]\u001b[A\u001b[A\n",
      "\n",
      "100%|██████████| 1/1 [00:02<00:00,  2.36s/it]\u001b[A\u001b[A\n"
     ]
    },
    {
     "name": "stdout",
     "output_type": "stream",
     "text": [
      "\n",
      "Epoch: 158, Loss: 0.3955, Val: 0.6917, Test: 0.6941\n"
     ]
    },
    {
     "name": "stderr",
     "output_type": "stream",
     "text": [
      "\n",
      "  2%|▏         | 158/10000 [1:28:50<85:06:21, 31.13s/it]\u001b[A\n",
      "\n",
      "  0%|          | 0/1 [00:00<?, ?it/s]\u001b[A\u001b[A\n",
      "\n",
      "100%|██████████| 1/1 [00:05<00:00,  5.39s/it]\u001b[A\u001b[A\n"
     ]
    },
    {
     "name": "stdout",
     "output_type": "stream",
     "text": [
      "\n",
      "Epoch: 159, Loss: 0.3952, Val: 0.6919, Test: 0.6944\n"
     ]
    },
    {
     "name": "stderr",
     "output_type": "stream",
     "text": [
      "\n",
      "  2%|▏         | 159/10000 [1:29:28<91:24:24, 33.44s/it]\u001b[A\n",
      "\n",
      "  0%|          | 0/1 [00:00<?, ?it/s]\u001b[A\u001b[A\n",
      "\n",
      "100%|██████████| 1/1 [00:05<00:00,  5.74s/it]\u001b[A\u001b[A\n"
     ]
    },
    {
     "name": "stdout",
     "output_type": "stream",
     "text": [
      "\n",
      "Epoch: 160, Loss: 0.3955, Val: 0.6921, Test: 0.6948\n"
     ]
    },
    {
     "name": "stderr",
     "output_type": "stream",
     "text": [
      "\n",
      "  2%|▏         | 160/10000 [1:30:05<94:12:00, 34.46s/it]\u001b[A\n",
      "\n",
      "  0%|          | 0/1 [00:00<?, ?it/s]\u001b[A\u001b[A\n",
      "\n",
      "100%|██████████| 1/1 [00:03<00:00,  3.06s/it]\u001b[A\u001b[A\n"
     ]
    },
    {
     "name": "stdout",
     "output_type": "stream",
     "text": [
      "\n",
      "Epoch: 161, Loss: 0.3947, Val: 0.6926, Test: 0.6951\n"
     ]
    },
    {
     "name": "stderr",
     "output_type": "stream",
     "text": [
      "\n",
      "  2%|▏         | 161/10000 [1:30:36<90:59:06, 33.29s/it]\u001b[A\n",
      "\n",
      "  0%|          | 0/1 [00:00<?, ?it/s]\u001b[A\u001b[A\n",
      "\n",
      "100%|██████████| 1/1 [00:02<00:00,  2.51s/it]\u001b[A\u001b[A\n"
     ]
    },
    {
     "name": "stdout",
     "output_type": "stream",
     "text": [
      "\n",
      "Epoch: 162, Loss: 0.3947, Val: 0.6933, Test: 0.6957\n"
     ]
    },
    {
     "name": "stderr",
     "output_type": "stream",
     "text": [
      "\n",
      "  2%|▏         | 162/10000 [1:31:08<89:53:51, 32.90s/it]\u001b[A\n",
      "\n",
      "  0%|          | 0/1 [00:00<?, ?it/s]\u001b[A\u001b[A\n",
      "\n",
      "100%|██████████| 1/1 [00:03<00:00,  3.35s/it]\u001b[A\u001b[A\n"
     ]
    },
    {
     "name": "stdout",
     "output_type": "stream",
     "text": [
      "\n",
      "Epoch: 163, Loss: 0.3938, Val: 0.6937, Test: 0.6960\n"
     ]
    },
    {
     "name": "stderr",
     "output_type": "stream",
     "text": [
      "\n",
      "  2%|▏         | 163/10000 [1:31:38<88:03:44, 32.23s/it]\u001b[A\n",
      "\n",
      "  0%|          | 0/1 [00:00<?, ?it/s]\u001b[A\u001b[A\n",
      "\n",
      "100%|██████████| 1/1 [00:03<00:00,  3.14s/it]\u001b[A\u001b[A\n"
     ]
    },
    {
     "name": "stdout",
     "output_type": "stream",
     "text": [
      "\n",
      "Epoch: 164, Loss: 0.3940, Val: 0.6940, Test: 0.6962\n"
     ]
    },
    {
     "name": "stderr",
     "output_type": "stream",
     "text": [
      "\n",
      "  2%|▏         | 164/10000 [1:32:10<87:55:48, 32.18s/it]\u001b[A\n",
      "\n",
      "  0%|          | 0/1 [00:00<?, ?it/s]\u001b[A\u001b[A\n",
      "\n",
      "100%|██████████| 1/1 [00:02<00:00,  2.62s/it]\u001b[A\u001b[A\n"
     ]
    },
    {
     "name": "stdout",
     "output_type": "stream",
     "text": [
      "\n",
      "Epoch: 165, Loss: 0.3931, Val: 0.6945, Test: 0.6965\n"
     ]
    },
    {
     "name": "stderr",
     "output_type": "stream",
     "text": [
      "\n",
      "  2%|▏         | 165/10000 [1:32:42<87:37:00, 32.07s/it]\u001b[A\n",
      "\n",
      "  0%|          | 0/1 [00:00<?, ?it/s]\u001b[A\u001b[A\n",
      "\n",
      "100%|██████████| 1/1 [00:04<00:00,  4.21s/it]\u001b[A\u001b[A\n"
     ]
    },
    {
     "name": "stdout",
     "output_type": "stream",
     "text": [
      "\n",
      "Epoch: 166, Loss: 0.3934, Val: 0.6945, Test: 0.6966\n"
     ]
    },
    {
     "name": "stderr",
     "output_type": "stream",
     "text": [
      "\n",
      "  2%|▏         | 166/10000 [1:33:18<90:56:37, 33.29s/it]\u001b[A\n",
      "\n",
      "  0%|          | 0/1 [00:00<?, ?it/s]\u001b[A\u001b[A\n",
      "\n",
      "100%|██████████| 1/1 [00:04<00:00,  4.92s/it]\u001b[A\u001b[A\n",
      "\n",
      "  2%|▏         | 167/10000 [1:33:38<79:57:52, 29.28s/it]\u001b[A\n",
      "\n",
      "  0%|          | 0/1 [00:00<?, ?it/s]\u001b[A\u001b[A\n",
      "\n",
      "100%|██████████| 1/1 [00:03<00:00,  3.04s/it]\u001b[A\u001b[A\n"
     ]
    },
    {
     "name": "stdout",
     "output_type": "stream",
     "text": [
      "\n",
      "Epoch: 168, Loss: 0.3926, Val: 0.6946, Test: 0.6966\n"
     ]
    },
    {
     "name": "stderr",
     "output_type": "stream",
     "text": [
      "\n",
      "  2%|▏         | 168/10000 [1:34:09<81:15:36, 29.75s/it]\u001b[A\n",
      "\n",
      "  0%|          | 0/1 [00:00<?, ?it/s]\u001b[A\u001b[A\n",
      "\n",
      "100%|██████████| 1/1 [00:02<00:00,  2.55s/it]\u001b[A\u001b[A\n"
     ]
    },
    {
     "name": "stdout",
     "output_type": "stream",
     "text": [
      "\n",
      "Epoch: 169, Loss: 0.3925, Val: 0.6950, Test: 0.6968\n"
     ]
    },
    {
     "name": "stderr",
     "output_type": "stream",
     "text": [
      "\n",
      "  2%|▏         | 169/10000 [1:34:40<82:00:56, 30.03s/it]\u001b[A\n",
      "\n",
      "  0%|          | 0/1 [00:00<?, ?it/s]\u001b[A\u001b[A\n",
      "\n",
      "100%|██████████| 1/1 [00:03<00:00,  3.61s/it]\u001b[A\u001b[A\n"
     ]
    },
    {
     "name": "stdout",
     "output_type": "stream",
     "text": [
      "\n",
      "Epoch: 170, Loss: 0.3923, Val: 0.6955, Test: 0.6974\n"
     ]
    },
    {
     "name": "stderr",
     "output_type": "stream",
     "text": [
      "\n",
      "  2%|▏         | 170/10000 [1:35:17<87:40:55, 32.11s/it]\u001b[A\n",
      "\n",
      "  0%|          | 0/1 [00:00<?, ?it/s]\u001b[A\u001b[A\n",
      "\n",
      "100%|██████████| 1/1 [00:02<00:00,  2.72s/it]\u001b[A\u001b[A\n"
     ]
    },
    {
     "name": "stdout",
     "output_type": "stream",
     "text": [
      "\n",
      "Epoch: 171, Loss: 0.3929, Val: 0.6959, Test: 0.6977\n"
     ]
    },
    {
     "name": "stderr",
     "output_type": "stream",
     "text": [
      "\n",
      "  2%|▏         | 171/10000 [1:35:47<86:24:17, 31.65s/it]\u001b[A\n",
      "\n",
      "  0%|          | 0/1 [00:00<?, ?it/s]\u001b[A\u001b[A\n",
      "\n",
      "100%|██████████| 1/1 [00:02<00:00,  2.81s/it]\u001b[A\u001b[A\n"
     ]
    },
    {
     "name": "stdout",
     "output_type": "stream",
     "text": [
      "\n",
      "Epoch: 172, Loss: 0.3922, Val: 0.6962, Test: 0.6979\n"
     ]
    },
    {
     "name": "stderr",
     "output_type": "stream",
     "text": [
      "\n",
      "  2%|▏         | 172/10000 [1:36:17<84:37:07, 31.00s/it]\u001b[A\n",
      "\n",
      "  0%|          | 0/1 [00:00<?, ?it/s]\u001b[A\u001b[A\n",
      "\n",
      "100%|██████████| 1/1 [00:02<00:00,  2.48s/it]\u001b[A\u001b[A\n"
     ]
    },
    {
     "name": "stdout",
     "output_type": "stream",
     "text": [
      "\n",
      "Epoch: 173, Loss: 0.3920, Val: 0.6964, Test: 0.6983\n"
     ]
    },
    {
     "name": "stderr",
     "output_type": "stream",
     "text": [
      "\n",
      "  2%|▏         | 173/10000 [1:36:52<87:42:21, 32.13s/it]\u001b[A\n",
      "\n",
      "  0%|          | 0/1 [00:00<?, ?it/s]\u001b[A\u001b[A\n",
      "\n",
      "100%|██████████| 1/1 [00:03<00:00,  3.62s/it]\u001b[A\u001b[A\n"
     ]
    },
    {
     "name": "stdout",
     "output_type": "stream",
     "text": [
      "\n",
      "Epoch: 174, Loss: 0.3919, Val: 0.6968, Test: 0.6984\n"
     ]
    },
    {
     "name": "stderr",
     "output_type": "stream",
     "text": [
      "\n",
      "  2%|▏         | 174/10000 [1:37:24<87:41:52, 32.13s/it]\u001b[A\n",
      "\n",
      "  0%|          | 0/1 [00:00<?, ?it/s]\u001b[A\u001b[A\n",
      "\n",
      "100%|██████████| 1/1 [00:03<00:00,  3.34s/it]\u001b[A\u001b[A\n"
     ]
    },
    {
     "name": "stdout",
     "output_type": "stream",
     "text": [
      "\n",
      "Epoch: 175, Loss: 0.3918, Val: 0.6970, Test: 0.6984\n"
     ]
    },
    {
     "name": "stderr",
     "output_type": "stream",
     "text": [
      "\n",
      "  2%|▏         | 175/10000 [1:37:57<88:41:03, 32.49s/it]\u001b[A\n",
      "\n",
      "  0%|          | 0/1 [00:00<?, ?it/s]\u001b[A\u001b[A\n",
      "\n",
      "100%|██████████| 1/1 [00:03<00:00,  3.56s/it]\u001b[A\u001b[A\n"
     ]
    },
    {
     "name": "stdout",
     "output_type": "stream",
     "text": [
      "\n",
      "Epoch: 176, Loss: 0.3914, Val: 0.6971, Test: 0.6985\n"
     ]
    },
    {
     "name": "stderr",
     "output_type": "stream",
     "text": [
      "\n",
      "  2%|▏         | 176/10000 [1:38:31<90:04:16, 33.01s/it]\u001b[A\n",
      "\n",
      "  0%|          | 0/1 [00:00<?, ?it/s]\u001b[A\u001b[A\n",
      "\n",
      "100%|██████████| 1/1 [00:06<00:00,  6.34s/it]\u001b[A\u001b[A\n"
     ]
    },
    {
     "name": "stdout",
     "output_type": "stream",
     "text": [
      "\n",
      "Epoch: 177, Loss: 0.3915, Val: 0.6972, Test: 0.6988\n"
     ]
    },
    {
     "name": "stderr",
     "output_type": "stream",
     "text": [
      "\n",
      "  2%|▏         | 177/10000 [1:39:10<94:51:35, 34.76s/it]\u001b[A\n",
      "\n",
      "  0%|          | 0/1 [00:00<?, ?it/s]\u001b[A\u001b[A\n",
      "\n",
      "100%|██████████| 1/1 [00:02<00:00,  2.57s/it]\u001b[A\u001b[A\n"
     ]
    },
    {
     "name": "stdout",
     "output_type": "stream",
     "text": [
      "\n",
      "Epoch: 178, Loss: 0.3916, Val: 0.6976, Test: 0.6991\n"
     ]
    },
    {
     "name": "stderr",
     "output_type": "stream",
     "text": [
      "\n",
      "  2%|▏         | 178/10000 [1:39:41<91:39:56, 33.60s/it]\u001b[A\n",
      "\n",
      "  0%|          | 0/1 [00:00<?, ?it/s]\u001b[A\u001b[A\n",
      "\n",
      "100%|██████████| 1/1 [00:02<00:00,  2.74s/it]\u001b[A\u001b[A\n"
     ]
    },
    {
     "name": "stdout",
     "output_type": "stream",
     "text": [
      "\n",
      "Epoch: 179, Loss: 0.3907, Val: 0.6979, Test: 0.6994\n"
     ]
    },
    {
     "name": "stderr",
     "output_type": "stream",
     "text": [
      "\n",
      "  2%|▏         | 179/10000 [1:40:15<92:03:10, 33.74s/it]\u001b[A\n",
      "\n",
      "  0%|          | 0/1 [00:00<?, ?it/s]\u001b[A\u001b[A\n",
      "\n",
      "100%|██████████| 1/1 [00:03<00:00,  3.36s/it]\u001b[A\u001b[A\n"
     ]
    },
    {
     "name": "stdout",
     "output_type": "stream",
     "text": [
      "\n",
      "Epoch: 180, Loss: 0.3909, Val: 0.6981, Test: 0.6998\n"
     ]
    },
    {
     "name": "stderr",
     "output_type": "stream",
     "text": [
      "\n",
      "  2%|▏         | 180/10000 [1:40:46<89:39:10, 32.87s/it]\u001b[A\n",
      "\n",
      "  0%|          | 0/1 [00:00<?, ?it/s]\u001b[A\u001b[A\n",
      "\n",
      "100%|██████████| 1/1 [00:03<00:00,  3.99s/it]\u001b[A\u001b[A\n"
     ]
    },
    {
     "name": "stdout",
     "output_type": "stream",
     "text": [
      "\n",
      "Epoch: 181, Loss: 0.3905, Val: 0.6984, Test: 0.6998\n"
     ]
    },
    {
     "name": "stderr",
     "output_type": "stream",
     "text": [
      "\n",
      "  2%|▏         | 181/10000 [1:41:17<88:23:20, 32.41s/it]\u001b[A\n",
      "\n",
      "  0%|          | 0/1 [00:00<?, ?it/s]\u001b[A\u001b[A\n",
      "\n",
      "100%|██████████| 1/1 [00:02<00:00,  2.68s/it]\u001b[A\u001b[A\n"
     ]
    },
    {
     "name": "stdout",
     "output_type": "stream",
     "text": [
      "\n",
      "Epoch: 182, Loss: 0.3905, Val: 0.6985, Test: 0.6999\n"
     ]
    },
    {
     "name": "stderr",
     "output_type": "stream",
     "text": [
      "\n",
      "  2%|▏         | 182/10000 [1:41:48<87:02:47, 31.92s/it]\u001b[A\n",
      "\n",
      "  0%|          | 0/1 [00:00<?, ?it/s]\u001b[A\u001b[A\n",
      "\n",
      "100%|██████████| 1/1 [00:05<00:00,  5.00s/it]\u001b[A\u001b[A\n"
     ]
    },
    {
     "name": "stdout",
     "output_type": "stream",
     "text": [
      "\n",
      "Epoch: 183, Loss: 0.3910, Val: 0.6986, Test: 0.7000\n"
     ]
    },
    {
     "name": "stderr",
     "output_type": "stream",
     "text": [
      "\n",
      "  2%|▏         | 183/10000 [1:42:27<92:42:38, 34.00s/it]\u001b[A\n",
      "\n",
      "  0%|          | 0/1 [00:00<?, ?it/s]\u001b[A\u001b[A\n",
      "\n",
      "100%|██████████| 1/1 [00:03<00:00,  3.10s/it]\u001b[A\u001b[A\n",
      "\n",
      "  2%|▏         | 184/10000 [1:42:44<78:26:51, 28.77s/it]\u001b[A\n",
      "\n",
      "  0%|          | 0/1 [00:00<?, ?it/s]\u001b[A\u001b[A\n",
      "\n",
      "100%|██████████| 1/1 [00:02<00:00,  2.70s/it]\u001b[A\u001b[A\n"
     ]
    },
    {
     "name": "stdout",
     "output_type": "stream",
     "text": [
      "\n",
      "Epoch: 185, Loss: 0.3903, Val: 0.6988, Test: 0.7001\n"
     ]
    },
    {
     "name": "stderr",
     "output_type": "stream",
     "text": [
      "\n",
      "  2%|▏         | 185/10000 [1:43:14<79:45:24, 29.25s/it]\u001b[A\n",
      "\n",
      "  0%|          | 0/1 [00:00<?, ?it/s]\u001b[A\u001b[A\n",
      "\n",
      "100%|██████████| 1/1 [00:01<00:00,  1.93s/it]\u001b[A\u001b[A\n"
     ]
    },
    {
     "name": "stdout",
     "output_type": "stream",
     "text": [
      "\n",
      "Epoch: 186, Loss: 0.3902, Val: 0.6991, Test: 0.7004\n"
     ]
    },
    {
     "name": "stderr",
     "output_type": "stream",
     "text": [
      "\n",
      "  2%|▏         | 186/10000 [1:43:43<79:53:31, 29.31s/it]\u001b[A\n",
      "\n",
      "  0%|          | 0/1 [00:00<?, ?it/s]\u001b[A\u001b[A\n",
      "\n",
      "100%|██████████| 1/1 [00:04<00:00,  4.14s/it]\u001b[A\u001b[A\n"
     ]
    },
    {
     "name": "stdout",
     "output_type": "stream",
     "text": [
      "\n",
      "Epoch: 187, Loss: 0.3902, Val: 0.6995, Test: 0.7008\n"
     ]
    },
    {
     "name": "stderr",
     "output_type": "stream",
     "text": [
      "\n",
      "  2%|▏         | 187/10000 [1:44:20<85:55:15, 31.52s/it]\u001b[A\n",
      "\n",
      "  0%|          | 0/1 [00:00<?, ?it/s]\u001b[A\u001b[A\n",
      "\n",
      "100%|██████████| 1/1 [00:02<00:00,  2.50s/it]\u001b[A\u001b[A\n"
     ]
    },
    {
     "name": "stdout",
     "output_type": "stream",
     "text": [
      "\n",
      "Epoch: 188, Loss: 0.3891, Val: 0.6999, Test: 0.7009\n"
     ]
    },
    {
     "name": "stderr",
     "output_type": "stream",
     "text": [
      "\n",
      "  2%|▏         | 188/10000 [1:44:49<83:51:21, 30.77s/it]\u001b[A\n",
      "\n",
      "  0%|          | 0/1 [00:00<?, ?it/s]\u001b[A\u001b[A\n",
      "\n",
      "100%|██████████| 1/1 [00:02<00:00,  2.63s/it]\u001b[A\u001b[A\n"
     ]
    },
    {
     "name": "stdout",
     "output_type": "stream",
     "text": [
      "\n",
      "Epoch: 189, Loss: 0.3891, Val: 0.7002, Test: 0.7012\n"
     ]
    },
    {
     "name": "stderr",
     "output_type": "stream",
     "text": [
      "\n",
      "  2%|▏         | 189/10000 [1:45:23<86:48:21, 31.85s/it]\u001b[A\n",
      "\n",
      "  0%|          | 0/1 [00:00<?, ?it/s]\u001b[A\u001b[A\n",
      "\n",
      "100%|██████████| 1/1 [00:04<00:00,  4.35s/it]\u001b[A\u001b[A\n"
     ]
    },
    {
     "name": "stdout",
     "output_type": "stream",
     "text": [
      "\n",
      "Epoch: 190, Loss: 0.3893, Val: 0.7002, Test: 0.7013\n"
     ]
    },
    {
     "name": "stderr",
     "output_type": "stream",
     "text": [
      "\n",
      "  2%|▏         | 190/10000 [1:45:56<87:16:41, 32.03s/it]\u001b[A\n",
      "\n",
      "  0%|          | 0/1 [00:00<?, ?it/s]\u001b[A\u001b[A\n",
      "\n",
      "100%|██████████| 1/1 [00:02<00:00,  2.67s/it]\u001b[A\u001b[A\n"
     ]
    },
    {
     "name": "stdout",
     "output_type": "stream",
     "text": [
      "\n",
      "Epoch: 191, Loss: 0.3892, Val: 0.7004, Test: 0.7011\n"
     ]
    },
    {
     "name": "stderr",
     "output_type": "stream",
     "text": [
      "\n",
      "  2%|▏         | 191/10000 [1:46:26<85:50:58, 31.51s/it]\u001b[A\n",
      "\n",
      "  0%|          | 0/1 [00:00<?, ?it/s]\u001b[A\u001b[A\n",
      "\n",
      "100%|██████████| 1/1 [00:02<00:00,  2.62s/it]\u001b[A\u001b[A\n"
     ]
    },
    {
     "name": "stdout",
     "output_type": "stream",
     "text": [
      "\n",
      "Epoch: 192, Loss: 0.3894, Val: 0.7005, Test: 0.7013\n"
     ]
    },
    {
     "name": "stderr",
     "output_type": "stream",
     "text": [
      "\n",
      "  2%|▏         | 192/10000 [1:46:59<86:36:46, 31.79s/it]\u001b[A\n",
      "\n",
      "  0%|          | 0/1 [00:00<?, ?it/s]\u001b[A\u001b[A\n",
      "\n",
      "100%|██████████| 1/1 [00:06<00:00,  6.17s/it]\u001b[A\u001b[A\n"
     ]
    },
    {
     "name": "stdout",
     "output_type": "stream",
     "text": [
      "\n",
      "Epoch: 193, Loss: 0.3885, Val: 0.7006, Test: 0.7016\n"
     ]
    },
    {
     "name": "stderr",
     "output_type": "stream",
     "text": [
      "\n",
      "  2%|▏         | 193/10000 [1:47:39<93:40:31, 34.39s/it]\u001b[A\n",
      "\n",
      "  0%|          | 0/1 [00:00<?, ?it/s]\u001b[A\u001b[A\n",
      "\n",
      "100%|██████████| 1/1 [00:07<00:00,  7.04s/it]\u001b[A\u001b[A\n"
     ]
    },
    {
     "name": "stdout",
     "output_type": "stream",
     "text": [
      "\n",
      "Epoch: 194, Loss: 0.3882, Val: 0.7007, Test: 0.7019\n"
     ]
    },
    {
     "name": "stderr",
     "output_type": "stream",
     "text": [
      "\n",
      "  2%|▏         | 194/10000 [1:48:14<93:43:05, 34.41s/it]\u001b[A\n",
      "\n",
      "  0%|          | 0/1 [00:00<?, ?it/s]\u001b[A\u001b[A\n",
      "\n",
      "100%|██████████| 1/1 [00:02<00:00,  2.50s/it]\u001b[A\u001b[A\n",
      "\n",
      "  2%|▏         | 195/10000 [1:48:30<79:20:34, 29.13s/it]\u001b[A\n",
      "\n",
      "  0%|          | 0/1 [00:00<?, ?it/s]\u001b[A\u001b[A\n",
      "\n",
      "100%|██████████| 1/1 [00:05<00:00,  6.00s/it]\u001b[A\u001b[A\n"
     ]
    },
    {
     "name": "stdout",
     "output_type": "stream",
     "text": [
      "\n",
      "Epoch: 196, Loss: 0.3886, Val: 0.7009, Test: 0.7021\n"
     ]
    },
    {
     "name": "stderr",
     "output_type": "stream",
     "text": [
      "\n",
      "  2%|▏         | 196/10000 [1:49:04<83:15:09, 30.57s/it]\u001b[A\n",
      "\n",
      "  0%|          | 0/1 [00:00<?, ?it/s]\u001b[A\u001b[A\n",
      "\n",
      "100%|██████████| 1/1 [00:03<00:00,  3.60s/it]\u001b[A\u001b[A\n"
     ]
    },
    {
     "name": "stdout",
     "output_type": "stream",
     "text": [
      "\n",
      "Epoch: 197, Loss: 0.3886, Val: 0.7011, Test: 0.7023\n"
     ]
    },
    {
     "name": "stderr",
     "output_type": "stream",
     "text": [
      "\n",
      "  2%|▏         | 197/10000 [1:49:40<87:08:30, 32.00s/it]\u001b[A\n",
      "\n",
      "  0%|          | 0/1 [00:00<?, ?it/s]\u001b[A\u001b[A\n",
      "\n",
      "100%|██████████| 1/1 [00:03<00:00,  3.63s/it]\u001b[A\u001b[A\n"
     ]
    },
    {
     "name": "stdout",
     "output_type": "stream",
     "text": [
      "\n",
      "Epoch: 198, Loss: 0.3883, Val: 0.7014, Test: 0.7026\n"
     ]
    },
    {
     "name": "stderr",
     "output_type": "stream",
     "text": [
      "\n",
      "  2%|▏         | 198/10000 [1:50:12<87:45:07, 32.23s/it]\u001b[A\n",
      "\n",
      "  0%|          | 0/1 [00:00<?, ?it/s]\u001b[A\u001b[A\n",
      "\n",
      "100%|██████████| 1/1 [00:03<00:00,  3.94s/it]\u001b[A\u001b[A\n"
     ]
    },
    {
     "name": "stdout",
     "output_type": "stream",
     "text": [
      "\n",
      "Epoch: 199, Loss: 0.3881, Val: 0.7016, Test: 0.7026\n"
     ]
    },
    {
     "name": "stderr",
     "output_type": "stream",
     "text": [
      "\n",
      "  2%|▏         | 199/10000 [1:50:45<88:04:53, 32.35s/it]\u001b[A\n",
      "\n",
      "  0%|          | 0/1 [00:00<?, ?it/s]\u001b[A\u001b[A\n",
      "\n",
      "100%|██████████| 1/1 [00:03<00:00,  3.57s/it]\u001b[A\u001b[A\n"
     ]
    },
    {
     "name": "stdout",
     "output_type": "stream",
     "text": [
      "\n",
      "Epoch: 200, Loss: 0.3878, Val: 0.7018, Test: 0.7029\n"
     ]
    },
    {
     "name": "stderr",
     "output_type": "stream",
     "text": [
      "\n",
      "  2%|▏         | 200/10000 [1:51:19<89:35:20, 32.91s/it]\u001b[A\n",
      "\n",
      "  0%|          | 0/1 [00:00<?, ?it/s]\u001b[A\u001b[A\n",
      "\n",
      "100%|██████████| 1/1 [00:08<00:00,  8.91s/it]\u001b[A\u001b[A\n"
     ]
    },
    {
     "name": "stdout",
     "output_type": "stream",
     "text": [
      "\n",
      "Epoch: 201, Loss: 0.3880, Val: 0.7019, Test: 0.7030\n"
     ]
    },
    {
     "name": "stderr",
     "output_type": "stream",
     "text": [
      "\n",
      "  2%|▏         | 201/10000 [1:52:04<98:54:30, 36.34s/it]\u001b[A\n",
      "\n",
      "  0%|          | 0/1 [00:00<?, ?it/s]\u001b[A\u001b[A\n",
      "\n",
      "100%|██████████| 1/1 [00:04<00:00,  4.88s/it]\u001b[A\u001b[A\n"
     ]
    },
    {
     "name": "stdout",
     "output_type": "stream",
     "text": [
      "\n",
      "Epoch: 202, Loss: 0.3879, Val: 0.7019, Test: 0.7030\n"
     ]
    },
    {
     "name": "stderr",
     "output_type": "stream",
     "text": [
      "\n",
      "  2%|▏         | 202/10000 [1:52:37<96:22:54, 35.41s/it]\u001b[A\n",
      "\n",
      "  0%|          | 0/1 [00:00<?, ?it/s]\u001b[A\u001b[A\n",
      "\n",
      "100%|██████████| 1/1 [00:04<00:00,  4.28s/it]\u001b[A\u001b[A\n"
     ]
    },
    {
     "name": "stdout",
     "output_type": "stream",
     "text": [
      "\n",
      "Epoch: 203, Loss: 0.3880, Val: 0.7022, Test: 0.7031\n"
     ]
    },
    {
     "name": "stderr",
     "output_type": "stream",
     "text": [
      "\n",
      "  2%|▏         | 203/10000 [1:53:13<97:18:39, 35.76s/it]\u001b[A\n",
      "\n",
      "  0%|          | 0/1 [00:00<?, ?it/s]\u001b[A\u001b[A\n",
      "\n",
      "100%|██████████| 1/1 [00:04<00:00,  4.41s/it]\u001b[A\u001b[A\n"
     ]
    },
    {
     "name": "stdout",
     "output_type": "stream",
     "text": [
      "\n",
      "Epoch: 204, Loss: 0.3875, Val: 0.7023, Test: 0.7034\n"
     ]
    },
    {
     "name": "stderr",
     "output_type": "stream",
     "text": [
      "\n",
      "  2%|▏         | 204/10000 [1:53:46<94:57:22, 34.90s/it]\u001b[A\n",
      "\n",
      "  0%|          | 0/1 [00:00<?, ?it/s]\u001b[A\u001b[A\n",
      "\n",
      "100%|██████████| 1/1 [00:02<00:00,  2.60s/it]\u001b[A\u001b[A\n"
     ]
    },
    {
     "name": "stdout",
     "output_type": "stream",
     "text": [
      "\n",
      "Epoch: 205, Loss: 0.3875, Val: 0.7025, Test: 0.7036\n"
     ]
    },
    {
     "name": "stderr",
     "output_type": "stream",
     "text": [
      "\n",
      "  2%|▏         | 205/10000 [1:54:16<90:44:59, 33.35s/it]\u001b[A\n",
      "\n",
      "  0%|          | 0/1 [00:00<?, ?it/s]\u001b[A\u001b[A\n",
      "\n",
      "100%|██████████| 1/1 [00:02<00:00,  2.38s/it]\u001b[A\u001b[A\n"
     ]
    },
    {
     "name": "stdout",
     "output_type": "stream",
     "text": [
      "\n",
      "Epoch: 206, Loss: 0.3876, Val: 0.7027, Test: 0.7037\n"
     ]
    },
    {
     "name": "stderr",
     "output_type": "stream",
     "text": [
      "\n",
      "  2%|▏         | 206/10000 [1:54:51<92:05:10, 33.85s/it]\u001b[A\n",
      "\n",
      "  0%|          | 0/1 [00:00<?, ?it/s]\u001b[A\u001b[A\n",
      "\n",
      "100%|██████████| 1/1 [00:04<00:00,  4.76s/it]\u001b[A\u001b[A\n"
     ]
    },
    {
     "name": "stdout",
     "output_type": "stream",
     "text": [
      "\n",
      "Epoch: 207, Loss: 0.3877, Val: 0.7030, Test: 0.7039\n"
     ]
    },
    {
     "name": "stderr",
     "output_type": "stream",
     "text": [
      "\n",
      "  2%|▏         | 207/10000 [1:55:25<92:12:59, 33.90s/it]\u001b[A\n",
      "\n",
      "  0%|          | 0/1 [00:00<?, ?it/s]\u001b[A\u001b[A\n",
      "\n",
      "100%|██████████| 1/1 [00:02<00:00,  2.75s/it]\u001b[A\u001b[A\n"
     ]
    },
    {
     "name": "stdout",
     "output_type": "stream",
     "text": [
      "\n",
      "Epoch: 208, Loss: 0.3869, Val: 0.7031, Test: 0.7040\n"
     ]
    },
    {
     "name": "stderr",
     "output_type": "stream",
     "text": [
      "\n",
      "  2%|▏         | 208/10000 [1:55:57<90:20:35, 33.21s/it]\u001b[A\n",
      "\n",
      "  0%|          | 0/1 [00:00<?, ?it/s]\u001b[A\u001b[A\n",
      "\n",
      "100%|██████████| 1/1 [00:03<00:00,  3.81s/it]\u001b[A\u001b[A\n"
     ]
    },
    {
     "name": "stdout",
     "output_type": "stream",
     "text": [
      "\n",
      "Epoch: 209, Loss: 0.3875, Val: 0.7032, Test: 0.7041\n"
     ]
    },
    {
     "name": "stderr",
     "output_type": "stream",
     "text": [
      "\n",
      "  2%|▏         | 209/10000 [1:56:34<93:24:36, 34.35s/it]\u001b[A\n",
      "\n",
      "  0%|          | 0/1 [00:00<?, ?it/s]\u001b[A\u001b[A\n",
      "\n",
      "100%|██████████| 1/1 [00:02<00:00,  2.30s/it]\u001b[A\u001b[A\n"
     ]
    },
    {
     "name": "stdout",
     "output_type": "stream",
     "text": [
      "\n",
      "Epoch: 210, Loss: 0.3872, Val: 0.7034, Test: 0.7042\n"
     ]
    },
    {
     "name": "stderr",
     "output_type": "stream",
     "text": [
      "\n",
      "  2%|▏         | 210/10000 [1:57:05<90:41:09, 33.35s/it]\u001b[A\n",
      "\n",
      "  0%|          | 0/1 [00:00<?, ?it/s]\u001b[A\u001b[A\n",
      "\n",
      "100%|██████████| 1/1 [00:02<00:00,  2.59s/it]\u001b[A\u001b[A\n",
      "\n",
      "  2%|▏         | 211/10000 [1:57:22<78:00:51, 28.69s/it]\u001b[A\n",
      "\n",
      "  0%|          | 0/1 [00:00<?, ?it/s]\u001b[A\u001b[A\n",
      "\n",
      "100%|██████████| 1/1 [00:03<00:00,  3.56s/it]\u001b[A\u001b[A\n"
     ]
    },
    {
     "name": "stdout",
     "output_type": "stream",
     "text": [
      "\n",
      "Epoch: 212, Loss: 0.3869, Val: 0.7034, Test: 0.7045\n"
     ]
    },
    {
     "name": "stderr",
     "output_type": "stream",
     "text": [
      "\n",
      "  2%|▏         | 212/10000 [1:57:57<82:26:03, 30.32s/it]\u001b[A\n",
      "\n",
      "  0%|          | 0/1 [00:00<?, ?it/s]\u001b[A\u001b[A\n",
      "\n",
      "100%|██████████| 1/1 [00:02<00:00,  2.94s/it]\u001b[A\u001b[A\n"
     ]
    },
    {
     "name": "stdout",
     "output_type": "stream",
     "text": [
      "\n",
      "Epoch: 213, Loss: 0.3870, Val: 0.7034, Test: 0.7045\n"
     ]
    },
    {
     "name": "stderr",
     "output_type": "stream",
     "text": [
      "\n",
      "  2%|▏         | 213/10000 [1:58:28<83:20:35, 30.66s/it]\u001b[A\n",
      "\n",
      "  0%|          | 0/1 [00:00<?, ?it/s]\u001b[A\u001b[A\n",
      "\n",
      "100%|██████████| 1/1 [00:05<00:00,  5.03s/it]\u001b[A\u001b[A\n"
     ]
    },
    {
     "name": "stdout",
     "output_type": "stream",
     "text": [
      "\n",
      "Epoch: 214, Loss: 0.3866, Val: 0.7035, Test: 0.7047\n"
     ]
    },
    {
     "name": "stderr",
     "output_type": "stream",
     "text": [
      "\n",
      "  2%|▏         | 214/10000 [1:59:06<88:59:59, 32.74s/it]\u001b[A\n",
      "\n",
      "  0%|          | 0/1 [00:00<?, ?it/s]\u001b[A\u001b[A\n",
      "\n",
      "100%|██████████| 1/1 [00:03<00:00,  3.10s/it]\u001b[A\u001b[A\n"
     ]
    },
    {
     "name": "stdout",
     "output_type": "stream",
     "text": [
      "\n",
      "Epoch: 215, Loss: 0.3869, Val: 0.7038, Test: 0.7049\n"
     ]
    },
    {
     "name": "stderr",
     "output_type": "stream",
     "text": [
      "\n",
      "  2%|▏         | 215/10000 [1:59:39<89:11:04, 32.81s/it]\u001b[A\n",
      "\n",
      "  0%|          | 0/1 [00:00<?, ?it/s]\u001b[A\u001b[A\n",
      "\n",
      "100%|██████████| 1/1 [00:02<00:00,  2.71s/it]\u001b[A\u001b[A\n"
     ]
    },
    {
     "name": "stdout",
     "output_type": "stream",
     "text": [
      "\n",
      "Epoch: 216, Loss: 0.3864, Val: 0.7040, Test: 0.7050\n"
     ]
    },
    {
     "name": "stderr",
     "output_type": "stream",
     "text": [
      "\n",
      "  2%|▏         | 216/10000 [2:00:14<90:56:35, 33.46s/it]\u001b[A\n",
      "\n",
      "  0%|          | 0/1 [00:00<?, ?it/s]\u001b[A\u001b[A\n",
      "\n",
      "100%|██████████| 1/1 [00:04<00:00,  4.29s/it]\u001b[A\u001b[A\n",
      "\n",
      "  2%|▏         | 217/10000 [2:00:32<78:23:01, 28.84s/it]\u001b[A\n",
      "\n",
      "  0%|          | 0/1 [00:00<?, ?it/s]\u001b[A\u001b[A\n",
      "\n",
      "100%|██████████| 1/1 [00:02<00:00,  2.10s/it]\u001b[A\u001b[A\n"
     ]
    },
    {
     "name": "stdout",
     "output_type": "stream",
     "text": [
      "\n",
      "Epoch: 218, Loss: 0.3865, Val: 0.7042, Test: 0.7053\n"
     ]
    },
    {
     "name": "stderr",
     "output_type": "stream",
     "text": [
      "\n",
      "  2%|▏         | 218/10000 [2:01:02<79:46:13, 29.36s/it]\u001b[A\n",
      "\n",
      "  0%|          | 0/1 [00:00<?, ?it/s]\u001b[A\u001b[A\n",
      "\n",
      "100%|██████████| 1/1 [00:02<00:00,  2.58s/it]\u001b[A\u001b[A\n",
      "\n",
      "  2%|▏         | 219/10000 [2:01:18<68:32:13, 25.23s/it]\u001b[A\n",
      "\n",
      "  0%|          | 0/1 [00:00<?, ?it/s]\u001b[A\u001b[A\n",
      "\n",
      "100%|██████████| 1/1 [00:03<00:00,  3.95s/it]\u001b[A\u001b[A\n",
      "\n",
      "  2%|▏         | 220/10000 [2:01:36<62:29:39, 23.00s/it]\u001b[A\n",
      "\n",
      "  0%|          | 0/1 [00:00<?, ?it/s]\u001b[A\u001b[A\n",
      "\n",
      "100%|██████████| 1/1 [00:02<00:00,  2.76s/it]\u001b[A\u001b[A\n"
     ]
    },
    {
     "name": "stdout",
     "output_type": "stream",
     "text": [
      "\n",
      "Epoch: 221, Loss: 0.3858, Val: 0.7043, Test: 0.7053\n"
     ]
    },
    {
     "name": "stderr",
     "output_type": "stream",
     "text": [
      "\n",
      "  2%|▏         | 221/10000 [2:02:09<71:00:20, 26.14s/it]\u001b[A\n",
      "\n",
      "  0%|          | 0/1 [00:00<?, ?it/s]\u001b[A\u001b[A\n",
      "\n",
      "100%|██████████| 1/1 [00:04<00:00,  4.77s/it]\u001b[A\u001b[A\n"
     ]
    },
    {
     "name": "stdout",
     "output_type": "stream",
     "text": [
      "\n",
      "Epoch: 222, Loss: 0.3865, Val: 0.7044, Test: 0.7054\n"
     ]
    },
    {
     "name": "stderr",
     "output_type": "stream",
     "text": [
      "\n",
      "  2%|▏         | 222/10000 [2:02:45<78:50:35, 29.03s/it]\u001b[A\n",
      "\n",
      "  0%|          | 0/1 [00:00<?, ?it/s]\u001b[A\u001b[A\n",
      "\n",
      "100%|██████████| 1/1 [00:02<00:00,  2.78s/it]\u001b[A\u001b[A\n"
     ]
    },
    {
     "name": "stdout",
     "output_type": "stream",
     "text": [
      "\n",
      "Epoch: 223, Loss: 0.3866, Val: 0.7047, Test: 0.7055\n"
     ]
    },
    {
     "name": "stderr",
     "output_type": "stream",
     "text": [
      "\n",
      "  2%|▏         | 223/10000 [2:03:17<81:19:41, 29.95s/it]\u001b[A\n",
      "\n",
      "  0%|          | 0/1 [00:00<?, ?it/s]\u001b[A\u001b[A\n",
      "\n",
      "100%|██████████| 1/1 [00:04<00:00,  4.22s/it]\u001b[A\u001b[A\n"
     ]
    },
    {
     "name": "stdout",
     "output_type": "stream",
     "text": [
      "\n",
      "Epoch: 224, Loss: 0.3859, Val: 0.7049, Test: 0.7058\n"
     ]
    },
    {
     "name": "stderr",
     "output_type": "stream",
     "text": [
      "\n",
      "  2%|▏         | 224/10000 [2:03:51<84:47:37, 31.23s/it]\u001b[A\n",
      "\n",
      "  0%|          | 0/1 [00:00<?, ?it/s]\u001b[A\u001b[A\n",
      "\n",
      "100%|██████████| 1/1 [00:03<00:00,  3.46s/it]\u001b[A\u001b[A\n",
      "\n",
      "  2%|▏         | 225/10000 [2:04:08<73:03:35, 26.91s/it]\u001b[A\n",
      "\n",
      "  0%|          | 0/1 [00:00<?, ?it/s]\u001b[A\u001b[A\n",
      "\n",
      "100%|██████████| 1/1 [00:02<00:00,  2.54s/it]\u001b[A\u001b[A\n",
      "\n",
      "  2%|▏         | 226/10000 [2:04:25<65:08:51, 24.00s/it]\u001b[A\n",
      "\n",
      "  0%|          | 0/1 [00:00<?, ?it/s]\u001b[A\u001b[A\n",
      "\n",
      "100%|██████████| 1/1 [00:08<00:00,  8.13s/it]\u001b[A\u001b[A\n"
     ]
    },
    {
     "name": "stdout",
     "output_type": "stream",
     "text": [
      "\n",
      "Epoch: 227, Loss: 0.3857, Val: 0.7051, Test: 0.7062\n"
     ]
    },
    {
     "name": "stderr",
     "output_type": "stream",
     "text": [
      "\n",
      "  2%|▏         | 227/10000 [2:05:03<76:12:12, 28.07s/it]\u001b[A\n",
      "\n",
      "  0%|          | 0/1 [00:00<?, ?it/s]\u001b[A\u001b[A\n",
      "\n",
      "100%|██████████| 1/1 [00:02<00:00,  2.57s/it]\u001b[A\u001b[A\n"
     ]
    },
    {
     "name": "stdout",
     "output_type": "stream",
     "text": [
      "\n",
      "Epoch: 228, Loss: 0.3859, Val: 0.7052, Test: 0.7063\n"
     ]
    },
    {
     "name": "stderr",
     "output_type": "stream",
     "text": [
      "\n",
      "  2%|▏         | 228/10000 [2:05:34<78:41:22, 28.99s/it]\u001b[A\n",
      "\n",
      "  0%|          | 0/1 [00:00<?, ?it/s]\u001b[A\u001b[A\n",
      "\n",
      "100%|██████████| 1/1 [00:02<00:00,  2.53s/it]\u001b[A\u001b[A\n"
     ]
    },
    {
     "name": "stdout",
     "output_type": "stream",
     "text": [
      "\n",
      "Epoch: 229, Loss: 0.3854, Val: 0.7053, Test: 0.7064\n"
     ]
    },
    {
     "name": "stderr",
     "output_type": "stream",
     "text": [
      "\n",
      "  2%|▏         | 229/10000 [2:06:05<80:38:12, 29.71s/it]\u001b[A\n",
      "\n",
      "  0%|          | 0/1 [00:00<?, ?it/s]\u001b[A\u001b[A\n",
      "\n",
      "100%|██████████| 1/1 [00:03<00:00,  3.70s/it]\u001b[A\u001b[A\n"
     ]
    },
    {
     "name": "stdout",
     "output_type": "stream",
     "text": [
      "\n",
      "Epoch: 230, Loss: 0.3856, Val: 0.7053, Test: 0.7065\n"
     ]
    },
    {
     "name": "stderr",
     "output_type": "stream",
     "text": [
      "\n",
      "  2%|▏         | 230/10000 [2:06:36<81:48:44, 30.15s/it]\u001b[A\n",
      "\n",
      "  0%|          | 0/1 [00:00<?, ?it/s]\u001b[A\u001b[A\n",
      "\n",
      "100%|██████████| 1/1 [00:03<00:00,  3.19s/it]\u001b[A\u001b[A\n"
     ]
    },
    {
     "name": "stdout",
     "output_type": "stream",
     "text": [
      "\n",
      "Epoch: 231, Loss: 0.3854, Val: 0.7056, Test: 0.7068\n"
     ]
    },
    {
     "name": "stderr",
     "output_type": "stream",
     "text": [
      "\n",
      "  2%|▏         | 231/10000 [2:07:08<82:53:17, 30.55s/it]\u001b[A\n",
      "\n",
      "  0%|          | 0/1 [00:00<?, ?it/s]\u001b[A\u001b[A\n",
      "\n",
      "100%|██████████| 1/1 [00:02<00:00,  2.96s/it]\u001b[A\u001b[A\n"
     ]
    },
    {
     "name": "stdout",
     "output_type": "stream",
     "text": [
      "\n",
      "Epoch: 232, Loss: 0.3859, Val: 0.7058, Test: 0.7070\n"
     ]
    },
    {
     "name": "stderr",
     "output_type": "stream",
     "text": [
      "\n",
      "  2%|▏         | 232/10000 [2:07:41<84:47:30, 31.25s/it]\u001b[A\n",
      "\n",
      "  0%|          | 0/1 [00:00<?, ?it/s]\u001b[A\u001b[A\n",
      "\n",
      "100%|██████████| 1/1 [00:06<00:00,  6.51s/it]\u001b[A\u001b[A\n"
     ]
    },
    {
     "name": "stdout",
     "output_type": "stream",
     "text": [
      "\n",
      "Epoch: 233, Loss: 0.3855, Val: 0.7059, Test: 0.7072\n"
     ]
    },
    {
     "name": "stderr",
     "output_type": "stream",
     "text": [
      "\n",
      "  2%|▏         | 233/10000 [2:08:21<91:55:40, 33.88s/it]\u001b[A\n",
      "\n",
      "  0%|          | 0/1 [00:00<?, ?it/s]\u001b[A\u001b[A\n",
      "\n",
      "100%|██████████| 1/1 [00:03<00:00,  3.10s/it]\u001b[A\u001b[A\n",
      "\n",
      "  2%|▏         | 234/10000 [2:08:37<77:23:38, 28.53s/it]\u001b[A\n",
      "\n",
      "  0%|          | 0/1 [00:00<?, ?it/s]\u001b[A\u001b[A\n",
      "\n",
      "100%|██████████| 1/1 [00:03<00:00,  3.08s/it]\u001b[A\u001b[A\n",
      "\n",
      "  2%|▏         | 235/10000 [2:08:54<67:44:19, 24.97s/it]\u001b[A\n",
      "\n",
      "  0%|          | 0/1 [00:00<?, ?it/s]\u001b[A\u001b[A\n",
      "\n",
      "100%|██████████| 1/1 [00:03<00:00,  3.91s/it]\u001b[A\u001b[A\n",
      "\n",
      "  2%|▏         | 236/10000 [2:09:13<63:18:28, 23.34s/it]\u001b[A\n",
      "\n",
      "  0%|          | 0/1 [00:00<?, ?it/s]\u001b[A\u001b[A\n",
      "\n",
      "100%|██████████| 1/1 [00:03<00:00,  3.32s/it]\u001b[A\u001b[A\n"
     ]
    },
    {
     "name": "stdout",
     "output_type": "stream",
     "text": [
      "\n",
      "Epoch: 237, Loss: 0.3852, Val: 0.7060, Test: 0.7074\n"
     ]
    },
    {
     "name": "stderr",
     "output_type": "stream",
     "text": [
      "\n",
      "  2%|▏         | 237/10000 [2:09:45<69:52:37, 25.77s/it]\u001b[A\n",
      "\n",
      "  0%|          | 0/1 [00:00<?, ?it/s]\u001b[A\u001b[A\n",
      "\n",
      "100%|██████████| 1/1 [00:03<00:00,  3.58s/it]\u001b[A\u001b[A\n"
     ]
    },
    {
     "name": "stdout",
     "output_type": "stream",
     "text": [
      "\n",
      "Epoch: 238, Loss: 0.3851, Val: 0.7062, Test: 0.7076\n"
     ]
    },
    {
     "name": "stderr",
     "output_type": "stream",
     "text": [
      "\n",
      "  2%|▏         | 238/10000 [2:10:17<75:13:31, 27.74s/it]\u001b[A\n",
      "\n",
      "  0%|          | 0/1 [00:00<?, ?it/s]\u001b[A\u001b[A\n",
      "\n",
      "100%|██████████| 1/1 [00:03<00:00,  3.76s/it]\u001b[A\u001b[A\n"
     ]
    },
    {
     "name": "stdout",
     "output_type": "stream",
     "text": [
      "\n",
      "Epoch: 239, Loss: 0.3849, Val: 0.7063, Test: 0.7077\n"
     ]
    },
    {
     "name": "stderr",
     "output_type": "stream",
     "text": [
      "\n",
      "  2%|▏         | 239/10000 [2:10:49<78:52:21, 29.09s/it]\u001b[A\n",
      "\n",
      "  0%|          | 0/1 [00:00<?, ?it/s]\u001b[A\u001b[A\n",
      "\n",
      "100%|██████████| 1/1 [00:02<00:00,  2.64s/it]\u001b[A\u001b[A\n"
     ]
    },
    {
     "name": "stdout",
     "output_type": "stream",
     "text": [
      "\n",
      "Epoch: 240, Loss: 0.3852, Val: 0.7065, Test: 0.7080\n"
     ]
    },
    {
     "name": "stderr",
     "output_type": "stream",
     "text": [
      "\n",
      "  2%|▏         | 240/10000 [2:11:21<81:09:27, 29.94s/it]\u001b[A\n",
      "\n",
      "  0%|          | 0/1 [00:00<?, ?it/s]\u001b[A\u001b[A\n",
      "\n",
      "100%|██████████| 1/1 [00:03<00:00,  3.93s/it]\u001b[A\u001b[A\n"
     ]
    },
    {
     "name": "stdout",
     "output_type": "stream",
     "text": [
      "\n",
      "Epoch: 241, Loss: 0.3855, Val: 0.7066, Test: 0.7080\n"
     ]
    },
    {
     "name": "stderr",
     "output_type": "stream",
     "text": [
      "\n",
      "  2%|▏         | 241/10000 [2:11:56<85:05:11, 31.39s/it]\u001b[A\n",
      "\n",
      "  0%|          | 0/1 [00:00<?, ?it/s]\u001b[A\u001b[A\n",
      "\n",
      "100%|██████████| 1/1 [00:02<00:00,  2.80s/it]\u001b[A\u001b[A\n",
      "\n",
      "  2%|▏         | 242/10000 [2:12:13<73:32:51, 27.13s/it]\u001b[A\n",
      "\n",
      "  0%|          | 0/1 [00:00<?, ?it/s]\u001b[A\u001b[A\n",
      "\n",
      "100%|██████████| 1/1 [00:02<00:00,  2.66s/it]\u001b[A\u001b[A\n",
      "\n",
      "  2%|▏         | 243/10000 [2:12:29<64:33:27, 23.82s/it]\u001b[A\n",
      "\n",
      "  0%|          | 0/1 [00:00<?, ?it/s]\u001b[A\u001b[A\n",
      "\n",
      "100%|██████████| 1/1 [00:02<00:00,  2.68s/it]\u001b[A\u001b[A\n",
      "\n",
      "  2%|▏         | 244/10000 [2:12:50<62:03:32, 22.90s/it]\u001b[A\n",
      "\n",
      "  0%|          | 0/1 [00:00<?, ?it/s]\u001b[A\u001b[A\n",
      "\n",
      "100%|██████████| 1/1 [00:04<00:00,  4.45s/it]\u001b[A\u001b[A\n"
     ]
    },
    {
     "name": "stdout",
     "output_type": "stream",
     "text": [
      "\n",
      "Epoch: 245, Loss: 0.3854, Val: 0.7066, Test: 0.7082\n"
     ]
    },
    {
     "name": "stderr",
     "output_type": "stream",
     "text": [
      "\n",
      "  2%|▏         | 245/10000 [2:13:23<70:47:35, 26.13s/it]\u001b[A\n",
      "\n",
      "  0%|          | 0/1 [00:00<?, ?it/s]\u001b[A\u001b[A\n",
      "\n",
      "100%|██████████| 1/1 [00:02<00:00,  2.47s/it]\u001b[A\u001b[A\n"
     ]
    },
    {
     "name": "stdout",
     "output_type": "stream",
     "text": [
      "\n",
      "Epoch: 246, Loss: 0.3852, Val: 0.7068, Test: 0.7084\n"
     ]
    },
    {
     "name": "stderr",
     "output_type": "stream",
     "text": [
      "\n",
      "  2%|▏         | 246/10000 [2:13:51<72:17:39, 26.68s/it]\u001b[A\n",
      "\n",
      "  0%|          | 0/1 [00:00<?, ?it/s]\u001b[A\u001b[A\n",
      "\n",
      "100%|██████████| 1/1 [00:02<00:00,  2.16s/it]\u001b[A\u001b[A\n"
     ]
    },
    {
     "name": "stdout",
     "output_type": "stream",
     "text": [
      "\n",
      "Epoch: 247, Loss: 0.3848, Val: 0.7069, Test: 0.7085\n"
     ]
    },
    {
     "name": "stderr",
     "output_type": "stream",
     "text": [
      "\n",
      "  2%|▏         | 247/10000 [2:14:23<75:51:44, 28.00s/it]\u001b[A\n",
      "\n",
      "  0%|          | 0/1 [00:00<?, ?it/s]\u001b[A\u001b[A\n",
      "\n",
      "100%|██████████| 1/1 [00:02<00:00,  2.86s/it]\u001b[A\u001b[A\n"
     ]
    },
    {
     "name": "stdout",
     "output_type": "stream",
     "text": [
      "\n",
      "Epoch: 248, Loss: 0.3847, Val: 0.7069, Test: 0.7085\n"
     ]
    },
    {
     "name": "stderr",
     "output_type": "stream",
     "text": [
      "\n",
      "  2%|▏         | 248/10000 [2:14:56<79:57:05, 29.51s/it]\u001b[A\n",
      "\n",
      "  0%|          | 0/1 [00:00<?, ?it/s]\u001b[A\u001b[A\n",
      "\n",
      "100%|██████████| 1/1 [00:03<00:00,  3.56s/it]\u001b[A\u001b[A\n"
     ]
    },
    {
     "name": "stdout",
     "output_type": "stream",
     "text": [
      "\n",
      "Epoch: 249, Loss: 0.3848, Val: 0.7071, Test: 0.7086\n"
     ]
    },
    {
     "name": "stderr",
     "output_type": "stream",
     "text": [
      "\n",
      "  2%|▏         | 249/10000 [2:15:27<81:50:43, 30.22s/it]\u001b[A\n",
      "\n",
      "  0%|          | 0/1 [00:00<?, ?it/s]\u001b[A\u001b[A\n",
      "\n",
      "100%|██████████| 1/1 [00:02<00:00,  2.61s/it]\u001b[A\u001b[A\n"
     ]
    },
    {
     "name": "stdout",
     "output_type": "stream",
     "text": [
      "\n",
      "Epoch: 250, Loss: 0.3846, Val: 0.7072, Test: 0.7086\n"
     ]
    },
    {
     "name": "stderr",
     "output_type": "stream",
     "text": [
      "\n",
      "  2%|▎         | 250/10000 [2:15:58<82:20:10, 30.40s/it]\u001b[A\n",
      "\n",
      "  0%|          | 0/1 [00:00<?, ?it/s]\u001b[A\u001b[A\n",
      "\n",
      "100%|██████████| 1/1 [00:02<00:00,  2.82s/it]\u001b[A\u001b[A\n",
      "\n",
      "  3%|▎         | 251/10000 [2:16:14<70:42:53, 26.11s/it]\u001b[A\n",
      "\n",
      "  0%|          | 0/1 [00:00<?, ?it/s]\u001b[A\u001b[A\n",
      "\n",
      "100%|██████████| 1/1 [00:02<00:00,  2.65s/it]\u001b[A\u001b[A\n"
     ]
    },
    {
     "name": "stdout",
     "output_type": "stream",
     "text": [
      "\n",
      "Epoch: 252, Loss: 0.3852, Val: 0.7072, Test: 0.7085\n"
     ]
    },
    {
     "name": "stderr",
     "output_type": "stream",
     "text": [
      "\n",
      "  3%|▎         | 252/10000 [2:16:49<77:15:37, 28.53s/it]\u001b[A\n",
      "\n",
      "  0%|          | 0/1 [00:00<?, ?it/s]\u001b[A\u001b[A\n",
      "\n",
      "100%|██████████| 1/1 [00:03<00:00,  3.87s/it]\u001b[A\u001b[A\n"
     ]
    },
    {
     "name": "stdout",
     "output_type": "stream",
     "text": [
      "\n",
      "Epoch: 253, Loss: 0.3847, Val: 0.7073, Test: 0.7086\n"
     ]
    },
    {
     "name": "stderr",
     "output_type": "stream",
     "text": [
      "\n",
      "  3%|▎         | 253/10000 [2:17:24<82:40:32, 30.54s/it]\u001b[A\n",
      "\n",
      "  0%|          | 0/1 [00:00<?, ?it/s]\u001b[A\u001b[A\n",
      "\n",
      "100%|██████████| 1/1 [00:04<00:00,  4.03s/it]\u001b[A\u001b[A\n"
     ]
    },
    {
     "name": "stdout",
     "output_type": "stream",
     "text": [
      "\n",
      "Epoch: 254, Loss: 0.3848, Val: 0.7075, Test: 0.7086\n"
     ]
    },
    {
     "name": "stderr",
     "output_type": "stream",
     "text": [
      "\n",
      "  3%|▎         | 254/10000 [2:17:59<86:30:18, 31.95s/it]\u001b[A\n",
      "\n",
      "  0%|          | 0/1 [00:00<?, ?it/s]\u001b[A\u001b[A\n",
      "\n",
      "100%|██████████| 1/1 [00:06<00:00,  6.73s/it]\u001b[A\u001b[A\n"
     ]
    },
    {
     "name": "stdout",
     "output_type": "stream",
     "text": [
      "\n",
      "Epoch: 255, Loss: 0.3851, Val: 0.7075, Test: 0.7087\n"
     ]
    },
    {
     "name": "stderr",
     "output_type": "stream",
     "text": [
      "\n",
      "  3%|▎         | 255/10000 [2:18:35<89:53:10, 33.21s/it]\u001b[A\n",
      "\n",
      "  0%|          | 0/1 [00:00<?, ?it/s]\u001b[A\u001b[A\n",
      "\n",
      "100%|██████████| 1/1 [00:03<00:00,  3.15s/it]\u001b[A\u001b[A\n"
     ]
    },
    {
     "name": "stdout",
     "output_type": "stream",
     "text": [
      "\n",
      "Epoch: 256, Loss: 0.3841, Val: 0.7077, Test: 0.7088\n"
     ]
    },
    {
     "name": "stderr",
     "output_type": "stream",
     "text": [
      "\n",
      "  3%|▎         | 256/10000 [2:19:09<90:22:11, 33.39s/it]\u001b[A\n",
      "\n",
      "  0%|          | 0/1 [00:00<?, ?it/s]\u001b[A\u001b[A\n",
      "\n",
      "100%|██████████| 1/1 [00:03<00:00,  3.84s/it]\u001b[A\u001b[A\n"
     ]
    },
    {
     "name": "stdout",
     "output_type": "stream",
     "text": [
      "\n",
      "Epoch: 257, Loss: 0.3844, Val: 0.7078, Test: 0.7089\n"
     ]
    },
    {
     "name": "stderr",
     "output_type": "stream",
     "text": [
      "\n",
      "  3%|▎         | 257/10000 [2:19:44<91:51:01, 33.94s/it]\u001b[A\n",
      "\n",
      "  0%|          | 0/1 [00:00<?, ?it/s]\u001b[A\u001b[A\n",
      "\n",
      "100%|██████████| 1/1 [00:02<00:00,  2.31s/it]\u001b[A\u001b[A\n",
      "\n",
      "  3%|▎         | 258/10000 [2:20:00<77:19:04, 28.57s/it]\u001b[A\n",
      "\n",
      "  0%|          | 0/1 [00:00<?, ?it/s]\u001b[A\u001b[A\n",
      "\n",
      "100%|██████████| 1/1 [00:02<00:00,  2.36s/it]\u001b[A\u001b[A\n"
     ]
    },
    {
     "name": "stdout",
     "output_type": "stream",
     "text": [
      "\n",
      "Epoch: 259, Loss: 0.3847, Val: 0.7078, Test: 0.7092\n"
     ]
    },
    {
     "name": "stderr",
     "output_type": "stream",
     "text": [
      "\n",
      "  3%|▎         | 259/10000 [2:20:33<80:37:19, 29.80s/it]\u001b[A\n",
      "\n",
      "  0%|          | 0/1 [00:00<?, ?it/s]\u001b[A\u001b[A\n",
      "\n",
      "100%|██████████| 1/1 [00:03<00:00,  3.09s/it]\u001b[A\u001b[A\n"
     ]
    },
    {
     "name": "stdout",
     "output_type": "stream",
     "text": [
      "\n",
      "Epoch: 260, Loss: 0.3844, Val: 0.7079, Test: 0.7093\n"
     ]
    },
    {
     "name": "stderr",
     "output_type": "stream",
     "text": [
      "\n",
      "  3%|▎         | 260/10000 [2:21:05<82:30:46, 30.50s/it]\u001b[A\n",
      "\n",
      "  0%|          | 0/1 [00:00<?, ?it/s]\u001b[A\u001b[A\n",
      "\n",
      "100%|██████████| 1/1 [00:05<00:00,  5.58s/it]\u001b[A\u001b[A\n"
     ]
    },
    {
     "name": "stdout",
     "output_type": "stream",
     "text": [
      "\n",
      "Epoch: 261, Loss: 0.3845, Val: 0.7080, Test: 0.7094\n"
     ]
    },
    {
     "name": "stderr",
     "output_type": "stream",
     "text": [
      "\n",
      "  3%|▎         | 261/10000 [2:21:46<90:38:31, 33.51s/it]\u001b[A\n",
      "\n",
      "  0%|          | 0/1 [00:00<?, ?it/s]\u001b[A\u001b[A\n",
      "\n",
      "100%|██████████| 1/1 [00:06<00:00,  6.87s/it]\u001b[A\u001b[A\n"
     ]
    },
    {
     "name": "stdout",
     "output_type": "stream",
     "text": [
      "\n",
      "Epoch: 262, Loss: 0.3847, Val: 0.7081, Test: 0.7094\n"
     ]
    },
    {
     "name": "stderr",
     "output_type": "stream",
     "text": [
      "\n",
      "  3%|▎         | 262/10000 [2:22:22<92:36:16, 34.23s/it]\u001b[A\n",
      "\n",
      "  0%|          | 0/1 [00:00<?, ?it/s]\u001b[A\u001b[A\n",
      "\n",
      "100%|██████████| 1/1 [00:02<00:00,  2.76s/it]\u001b[A\u001b[A\n"
     ]
    },
    {
     "name": "stdout",
     "output_type": "stream",
     "text": [
      "\n",
      "Epoch: 263, Loss: 0.3844, Val: 0.7081, Test: 0.7095\n"
     ]
    },
    {
     "name": "stderr",
     "output_type": "stream",
     "text": [
      "\n",
      "  3%|▎         | 263/10000 [2:22:54<91:28:45, 33.82s/it]\u001b[A\n",
      "\n",
      "  0%|          | 0/1 [00:00<?, ?it/s]\u001b[A\u001b[A\n",
      "\n",
      "100%|██████████| 1/1 [00:03<00:00,  3.51s/it]\u001b[A\u001b[A\n"
     ]
    },
    {
     "name": "stdout",
     "output_type": "stream",
     "text": [
      "\n",
      "Epoch: 264, Loss: 0.3848, Val: 0.7082, Test: 0.7094\n"
     ]
    },
    {
     "name": "stderr",
     "output_type": "stream",
     "text": [
      "\n",
      "  3%|▎         | 264/10000 [2:23:32<94:26:56, 34.92s/it]\u001b[A\n",
      "\n",
      "  0%|          | 0/1 [00:00<?, ?it/s]\u001b[A\u001b[A\n",
      "\n",
      "100%|██████████| 1/1 [00:04<00:00,  4.23s/it]\u001b[A\u001b[A\n",
      "\n",
      "  3%|▎         | 265/10000 [2:23:50<81:07:25, 30.00s/it]\u001b[A\n",
      "\n",
      "  0%|          | 0/1 [00:00<?, ?it/s]\u001b[A\u001b[A\n",
      "\n",
      "100%|██████████| 1/1 [00:02<00:00,  2.43s/it]\u001b[A\u001b[A\n",
      "\n",
      "  3%|▎         | 266/10000 [2:24:10<72:52:07, 26.95s/it]\u001b[A\n",
      "\n",
      "  0%|          | 0/1 [00:00<?, ?it/s]\u001b[A\u001b[A\n",
      "\n",
      "100%|██████████| 1/1 [00:04<00:00,  4.54s/it]\u001b[A\u001b[A\n"
     ]
    },
    {
     "name": "stdout",
     "output_type": "stream",
     "text": [
      "\n",
      "Epoch: 267, Loss: 0.3842, Val: 0.7083, Test: 0.7096\n"
     ]
    },
    {
     "name": "stderr",
     "output_type": "stream",
     "text": [
      "\n",
      "  3%|▎         | 267/10000 [2:24:53<86:05:20, 31.84s/it]\u001b[A\n",
      "\n",
      "  0%|          | 0/1 [00:00<?, ?it/s]\u001b[A\u001b[A\n",
      "\n",
      "100%|██████████| 1/1 [00:03<00:00,  3.47s/it]\u001b[A\u001b[A\n"
     ]
    },
    {
     "name": "stdout",
     "output_type": "stream",
     "text": [
      "\n",
      "Epoch: 268, Loss: 0.3844, Val: 0.7085, Test: 0.7097\n"
     ]
    },
    {
     "name": "stderr",
     "output_type": "stream",
     "text": [
      "\n",
      "  3%|▎         | 268/10000 [2:25:34<93:27:09, 34.57s/it]\u001b[A\n",
      "\n",
      "  0%|          | 0/1 [00:00<?, ?it/s]\u001b[A\u001b[A\n",
      "\n",
      "100%|██████████| 1/1 [00:06<00:00,  6.32s/it]\u001b[A\u001b[A\n",
      "\n",
      "  3%|▎         | 269/10000 [2:26:00<86:18:15, 31.93s/it]\u001b[A\n",
      "\n",
      "  0%|          | 0/1 [00:00<?, ?it/s]\u001b[A\u001b[A\n",
      "\n",
      "100%|██████████| 1/1 [00:06<00:00,  6.81s/it]\u001b[A\u001b[A\n"
     ]
    },
    {
     "name": "stdout",
     "output_type": "stream",
     "text": [
      "\n",
      "Epoch: 270, Loss: 0.3841, Val: 0.7085, Test: 0.7100\n"
     ]
    },
    {
     "name": "stderr",
     "output_type": "stream",
     "text": [
      "\n",
      "  3%|▎         | 270/10000 [2:26:40<93:05:24, 34.44s/it]\u001b[A\n",
      "\n",
      "  0%|          | 0/1 [00:00<?, ?it/s]\u001b[A\u001b[A\n",
      "\n",
      "100%|██████████| 1/1 [00:02<00:00,  2.95s/it]\u001b[A\u001b[A\n",
      "\n",
      "  3%|▎         | 271/10000 [2:26:58<79:09:36, 29.29s/it]\u001b[A\n",
      "\n",
      "  0%|          | 0/1 [00:00<?, ?it/s]\u001b[A\u001b[A\n",
      "\n",
      "100%|██████████| 1/1 [00:03<00:00,  3.18s/it]\u001b[A\u001b[A\n"
     ]
    },
    {
     "name": "stdout",
     "output_type": "stream",
     "text": [
      "\n",
      "Epoch: 272, Loss: 0.3839, Val: 0.7086, Test: 0.7101\n"
     ]
    },
    {
     "name": "stderr",
     "output_type": "stream",
     "text": [
      "\n",
      "  3%|▎         | 272/10000 [2:27:35<85:47:07, 31.75s/it]\u001b[A\n",
      "\n",
      "  0%|          | 0/1 [00:00<?, ?it/s]\u001b[A\u001b[A\n",
      "\n",
      "100%|██████████| 1/1 [00:03<00:00,  3.15s/it]\u001b[A\u001b[A\n",
      "\n",
      "  3%|▎         | 273/10000 [2:27:52<73:58:17, 27.38s/it]\u001b[A\n",
      "\n",
      "  0%|          | 0/1 [00:00<?, ?it/s]\u001b[A\u001b[A\n",
      "\n",
      "100%|██████████| 1/1 [00:04<00:00,  4.66s/it]\u001b[A\u001b[A\n"
     ]
    },
    {
     "name": "stdout",
     "output_type": "stream",
     "text": [
      "\n",
      "Epoch: 274, Loss: 0.3843, Val: 0.7087, Test: 0.7102\n"
     ]
    },
    {
     "name": "stderr",
     "output_type": "stream",
     "text": [
      "\n",
      "  3%|▎         | 274/10000 [2:28:37<88:05:18, 32.61s/it]\u001b[A\n",
      "\n",
      "  0%|          | 0/1 [00:00<?, ?it/s]\u001b[A\u001b[A\n",
      "\n",
      "100%|██████████| 1/1 [00:07<00:00,  7.06s/it]\u001b[A\u001b[A\n"
     ]
    },
    {
     "name": "stdout",
     "output_type": "stream",
     "text": [
      "\n",
      "Epoch: 275, Loss: 0.3841, Val: 0.7088, Test: 0.7104\n"
     ]
    },
    {
     "name": "stderr",
     "output_type": "stream",
     "text": [
      "\n",
      "  3%|▎         | 275/10000 [2:29:19<95:44:44, 35.44s/it]\u001b[A\n",
      "\n",
      "  0%|          | 0/1 [00:00<?, ?it/s]\u001b[A\u001b[A\n",
      "\n",
      "100%|██████████| 1/1 [00:03<00:00,  3.78s/it]\u001b[A\u001b[A\n"
     ]
    },
    {
     "name": "stdout",
     "output_type": "stream",
     "text": [
      "\n",
      "Epoch: 276, Loss: 0.3842, Val: 0.7089, Test: 0.7104\n"
     ]
    },
    {
     "name": "stderr",
     "output_type": "stream",
     "text": [
      "\n",
      "  3%|▎         | 276/10000 [2:30:05<103:44:58, 38.41s/it]\u001b[A\n",
      "\n",
      "  0%|          | 0/1 [00:00<?, ?it/s]\u001b[A\u001b[A\n",
      "\n",
      "100%|██████████| 1/1 [00:11<00:00, 11.44s/it]\u001b[A\u001b[A\n"
     ]
    },
    {
     "name": "stdout",
     "output_type": "stream",
     "text": [
      "\n",
      "Epoch: 277, Loss: 0.3840, Val: 0.7090, Test: 0.7106\n"
     ]
    },
    {
     "name": "stderr",
     "output_type": "stream",
     "text": [
      "\n",
      "  3%|▎         | 277/10000 [2:30:51<109:49:12, 40.66s/it]\u001b[A\n",
      "\n",
      "  0%|          | 0/1 [00:00<?, ?it/s]\u001b[A\u001b[A\n",
      "\n",
      "100%|██████████| 1/1 [00:03<00:00,  3.84s/it]\u001b[A\u001b[A\n"
     ]
    },
    {
     "name": "stdout",
     "output_type": "stream",
     "text": [
      "\n",
      "Epoch: 278, Loss: 0.3841, Val: 0.7091, Test: 0.7107\n"
     ]
    },
    {
     "name": "stderr",
     "output_type": "stream",
     "text": [
      "\n",
      "  3%|▎         | 278/10000 [2:31:26<105:29:37, 39.06s/it]\u001b[A\n",
      "\n",
      "  0%|          | 0/1 [00:00<?, ?it/s]\u001b[A\u001b[A\n",
      "\n",
      "100%|██████████| 1/1 [00:04<00:00,  4.21s/it]\u001b[A\u001b[A\n"
     ]
    },
    {
     "name": "stdout",
     "output_type": "stream",
     "text": [
      "\n",
      "Epoch: 279, Loss: 0.3836, Val: 0.7091, Test: 0.7108\n"
     ]
    },
    {
     "name": "stderr",
     "output_type": "stream",
     "text": [
      "\n",
      "  3%|▎         | 279/10000 [2:32:04<104:59:53, 38.88s/it]\u001b[A\n",
      "\n",
      "  0%|          | 0/1 [00:00<?, ?it/s]\u001b[A\u001b[A\n",
      "\n",
      "100%|██████████| 1/1 [00:08<00:00,  8.57s/it]\u001b[A\u001b[A\n"
     ]
    },
    {
     "name": "stdout",
     "output_type": "stream",
     "text": [
      "\n",
      "Epoch: 280, Loss: 0.3840, Val: 0.7093, Test: 0.7108\n"
     ]
    },
    {
     "name": "stderr",
     "output_type": "stream",
     "text": [
      "\n",
      "  3%|▎         | 280/10000 [2:32:57<116:13:51, 43.05s/it]\u001b[A\n",
      "\n",
      "  0%|          | 0/1 [00:00<?, ?it/s]\u001b[A\u001b[A\n",
      "\n",
      "100%|██████████| 1/1 [00:06<00:00,  6.11s/it]\u001b[A\u001b[A\n"
     ]
    },
    {
     "name": "stdout",
     "output_type": "stream",
     "text": [
      "\n",
      "Epoch: 281, Loss: 0.3840, Val: 0.7094, Test: 0.7107\n"
     ]
    },
    {
     "name": "stderr",
     "output_type": "stream",
     "text": [
      "\n",
      "  3%|▎         | 281/10000 [2:33:38<114:17:07, 42.33s/it]\u001b[A\n",
      "\n",
      "  0%|          | 0/1 [00:00<?, ?it/s]\u001b[A\u001b[A\n",
      "\n",
      "100%|██████████| 1/1 [00:05<00:00,  5.67s/it]\u001b[A\u001b[A\n"
     ]
    },
    {
     "name": "stdout",
     "output_type": "stream",
     "text": [
      "\n",
      "Epoch: 282, Loss: 0.3844, Val: 0.7096, Test: 0.7108\n"
     ]
    },
    {
     "name": "stderr",
     "output_type": "stream",
     "text": [
      "\n",
      "  3%|▎         | 282/10000 [2:34:28<120:48:19, 44.75s/it]\u001b[A\n",
      "\n",
      "  0%|          | 0/1 [00:00<?, ?it/s]\u001b[A\u001b[A\n",
      "\n",
      "100%|██████████| 1/1 [00:08<00:00,  8.90s/it]\u001b[A\u001b[A\n",
      "\n",
      "  3%|▎         | 283/10000 [2:34:51<103:14:59, 38.25s/it]\u001b[A\n",
      "\n",
      "  0%|          | 0/1 [00:00<?, ?it/s]\u001b[A\u001b[A\n",
      "\n",
      "100%|██████████| 1/1 [00:03<00:00,  3.24s/it]\u001b[A\u001b[A\n"
     ]
    },
    {
     "name": "stdout",
     "output_type": "stream",
     "text": [
      "\n",
      "Epoch: 284, Loss: 0.3837, Val: 0.7097, Test: 0.7108\n"
     ]
    },
    {
     "name": "stderr",
     "output_type": "stream",
     "text": [
      "\n",
      "  3%|▎         | 284/10000 [2:35:24<98:59:54, 36.68s/it] \u001b[A\n",
      "\n",
      "  0%|          | 0/1 [00:00<?, ?it/s]\u001b[A\u001b[A\n",
      "\n",
      "100%|██████████| 1/1 [00:03<00:00,  3.78s/it]\u001b[A\u001b[A\n"
     ]
    },
    {
     "name": "stdout",
     "output_type": "stream",
     "text": [
      "\n",
      "Epoch: 285, Loss: 0.3838, Val: 0.7098, Test: 0.7109\n"
     ]
    },
    {
     "name": "stderr",
     "output_type": "stream",
     "text": [
      "\n",
      "  3%|▎         | 285/10000 [2:35:59<97:35:43, 36.17s/it]\u001b[A\n",
      "\n",
      "  0%|          | 0/1 [00:00<?, ?it/s]\u001b[A\u001b[A\n",
      "\n",
      "100%|██████████| 1/1 [00:03<00:00,  3.37s/it]\u001b[A\u001b[A\n",
      "\n",
      "  3%|▎         | 286/10000 [2:36:22<87:06:59, 32.29s/it]\u001b[A\n",
      "\n",
      "  0%|          | 0/1 [00:00<?, ?it/s]\u001b[A\u001b[A\n",
      "\n",
      "100%|██████████| 1/1 [00:04<00:00,  4.76s/it]\u001b[A\u001b[A\n",
      "\n",
      "  3%|▎         | 287/10000 [2:36:47<80:40:59, 29.90s/it]\u001b[A\n",
      "\n",
      "  0%|          | 0/1 [00:00<?, ?it/s]\u001b[A\u001b[A\n",
      "\n",
      "100%|██████████| 1/1 [00:04<00:00,  4.77s/it]\u001b[A\u001b[A\n",
      "\n",
      "  3%|▎         | 288/10000 [2:37:06<72:25:49, 26.85s/it]\u001b[A\n",
      "\n",
      "  0%|          | 0/1 [00:00<?, ?it/s]\u001b[A\u001b[A\n",
      "\n",
      "100%|██████████| 1/1 [00:03<00:00,  3.13s/it]\u001b[A\u001b[A\n",
      "\n",
      "  3%|▎         | 289/10000 [2:37:25<65:47:10, 24.39s/it]\u001b[A\n",
      "\n",
      "  0%|          | 0/1 [00:00<?, ?it/s]\u001b[A\u001b[A\n",
      "\n",
      "100%|██████████| 1/1 [00:04<00:00,  4.18s/it]\u001b[A\u001b[A\n"
     ]
    },
    {
     "name": "stdout",
     "output_type": "stream",
     "text": [
      "\n",
      "Epoch: 290, Loss: 0.3835, Val: 0.7099, Test: 0.7110\n"
     ]
    },
    {
     "name": "stderr",
     "output_type": "stream",
     "text": [
      "\n",
      "  3%|▎         | 290/10000 [2:38:04<77:47:15, 28.84s/it]\u001b[A\n",
      "\n",
      "  0%|          | 0/1 [00:00<?, ?it/s]\u001b[A\u001b[A\n",
      "\n",
      "100%|██████████| 1/1 [00:04<00:00,  4.07s/it]\u001b[A\u001b[A\n"
     ]
    },
    {
     "name": "stdout",
     "output_type": "stream",
     "text": [
      "\n",
      "Epoch: 291, Loss: 0.3833, Val: 0.7101, Test: 0.7111\n"
     ]
    },
    {
     "name": "stderr",
     "output_type": "stream",
     "text": [
      "\n",
      "  3%|▎         | 291/10000 [2:38:45<87:34:12, 32.47s/it]\u001b[A\n",
      "\n",
      "  0%|          | 0/1 [00:00<?, ?it/s]\u001b[A\u001b[A\n",
      "\n",
      "100%|██████████| 1/1 [00:07<00:00,  7.64s/it]\u001b[A\u001b[A\n"
     ]
    },
    {
     "name": "stdout",
     "output_type": "stream",
     "text": [
      "\n",
      "Epoch: 292, Loss: 0.3834, Val: 0.7102, Test: 0.7113\n"
     ]
    },
    {
     "name": "stderr",
     "output_type": "stream",
     "text": [
      "\n",
      "  3%|▎         | 292/10000 [2:39:30<97:32:39, 36.17s/it]\u001b[A\n",
      "\n",
      "  0%|          | 0/1 [00:00<?, ?it/s]\u001b[A\u001b[A\n",
      "\n",
      "100%|██████████| 1/1 [00:03<00:00,  3.01s/it]\u001b[A\u001b[A\n"
     ]
    },
    {
     "name": "stdout",
     "output_type": "stream",
     "text": [
      "\n",
      "Epoch: 293, Loss: 0.3841, Val: 0.7103, Test: 0.7113\n"
     ]
    },
    {
     "name": "stderr",
     "output_type": "stream",
     "text": [
      "\n",
      "  3%|▎         | 293/10000 [2:40:08<98:34:04, 36.56s/it]\u001b[A\n",
      "\n",
      "  0%|          | 0/1 [00:00<?, ?it/s]\u001b[A\u001b[A\n",
      "\n",
      "100%|██████████| 1/1 [00:05<00:00,  5.05s/it]\u001b[A\u001b[A\n",
      "\n",
      "  3%|▎         | 294/10000 [2:40:32<88:39:26, 32.88s/it]\u001b[A\n",
      "\n",
      "  0%|          | 0/1 [00:00<?, ?it/s]\u001b[A\u001b[A\n",
      "\n",
      "100%|██████████| 1/1 [00:03<00:00,  3.71s/it]\u001b[A\u001b[A\n"
     ]
    },
    {
     "name": "stdout",
     "output_type": "stream",
     "text": [
      "\n",
      "Epoch: 295, Loss: 0.3836, Val: 0.7104, Test: 0.7112\n"
     ]
    },
    {
     "name": "stderr",
     "output_type": "stream",
     "text": [
      "\n",
      "  3%|▎         | 295/10000 [2:41:09<92:16:39, 34.23s/it]\u001b[A\n",
      "\n",
      "  0%|          | 0/1 [00:00<?, ?it/s]\u001b[A\u001b[A\n",
      "\n",
      "100%|██████████| 1/1 [00:04<00:00,  4.05s/it]\u001b[A\u001b[A\n",
      "\n",
      "  3%|▎         | 296/10000 [2:41:29<80:49:53, 29.99s/it]\u001b[A\n",
      "\n",
      "  0%|          | 0/1 [00:00<?, ?it/s]\u001b[A\u001b[A\n",
      "\n",
      "100%|██████████| 1/1 [00:04<00:00,  4.07s/it]\u001b[A\u001b[A\n"
     ]
    },
    {
     "name": "stdout",
     "output_type": "stream",
     "text": [
      "\n",
      "Epoch: 297, Loss: 0.3837, Val: 0.7104, Test: 0.7113\n"
     ]
    },
    {
     "name": "stderr",
     "output_type": "stream",
     "text": [
      "\n",
      "  3%|▎         | 297/10000 [2:42:05<85:40:24, 31.79s/it]\u001b[A\n",
      "\n",
      "  0%|          | 0/1 [00:00<?, ?it/s]\u001b[A\u001b[A\n",
      "\n",
      "100%|██████████| 1/1 [00:03<00:00,  3.31s/it]\u001b[A\u001b[A\n"
     ]
    },
    {
     "name": "stdout",
     "output_type": "stream",
     "text": [
      "\n",
      "Epoch: 298, Loss: 0.3835, Val: 0.7105, Test: 0.7114\n"
     ]
    },
    {
     "name": "stderr",
     "output_type": "stream",
     "text": [
      "\n",
      "  3%|▎         | 298/10000 [2:42:45<92:15:09, 34.23s/it]\u001b[A\n",
      "\n",
      "  0%|          | 0/1 [00:00<?, ?it/s]\u001b[A\u001b[A\n",
      "\n",
      "100%|██████████| 1/1 [00:10<00:00, 10.62s/it]\u001b[A\u001b[A\n"
     ]
    },
    {
     "name": "stdout",
     "output_type": "stream",
     "text": [
      "\n",
      "Epoch: 299, Loss: 0.3840, Val: 0.7105, Test: 0.7115\n"
     ]
    },
    {
     "name": "stderr",
     "output_type": "stream",
     "text": [
      "\n",
      "  3%|▎         | 299/10000 [2:43:32<102:11:58, 37.93s/it]\u001b[A\n",
      "\n",
      "  0%|          | 0/1 [00:00<?, ?it/s]\u001b[A\u001b[A\n",
      "\n",
      "100%|██████████| 1/1 [00:03<00:00,  3.39s/it]\u001b[A\u001b[A\n"
     ]
    },
    {
     "name": "stdout",
     "output_type": "stream",
     "text": [
      "\n",
      "Epoch: 300, Loss: 0.3830, Val: 0.7107, Test: 0.7114\n"
     ]
    },
    {
     "name": "stderr",
     "output_type": "stream",
     "text": [
      "\n",
      "  3%|▎         | 300/10000 [2:44:11<103:24:54, 38.38s/it]\u001b[A\n",
      "\n",
      "  0%|          | 0/1 [00:00<?, ?it/s]\u001b[A\u001b[A\n",
      "\n",
      "100%|██████████| 1/1 [00:04<00:00,  4.52s/it]\u001b[A\u001b[A\n"
     ]
    },
    {
     "name": "stdout",
     "output_type": "stream",
     "text": [
      "\n",
      "Epoch: 301, Loss: 0.3836, Val: 0.7107, Test: 0.7116\n"
     ]
    },
    {
     "name": "stderr",
     "output_type": "stream",
     "text": [
      "\n",
      "  3%|▎         | 301/10000 [2:44:51<104:46:08, 38.89s/it]\u001b[A\n",
      "\n",
      "  0%|          | 0/1 [00:00<?, ?it/s]\u001b[A\u001b[A\n",
      "\n",
      "100%|██████████| 1/1 [00:04<00:00,  4.85s/it]\u001b[A\u001b[A\n"
     ]
    },
    {
     "name": "stdout",
     "output_type": "stream",
     "text": [
      "\n",
      "Epoch: 302, Loss: 0.3837, Val: 0.7108, Test: 0.7117\n"
     ]
    },
    {
     "name": "stderr",
     "output_type": "stream",
     "text": [
      "\n",
      "  3%|▎         | 302/10000 [2:45:30<104:14:44, 38.70s/it]\u001b[A\n",
      "\n",
      "  0%|          | 0/1 [00:00<?, ?it/s]\u001b[A\u001b[A\n",
      "\n",
      "100%|██████████| 1/1 [00:05<00:00,  5.32s/it]\u001b[A\u001b[A\n",
      "\n",
      "  3%|▎         | 303/10000 [2:45:54<93:05:20, 34.56s/it] \u001b[A\n",
      "\n",
      "  0%|          | 0/1 [00:00<?, ?it/s]\u001b[A\u001b[A\n",
      "\n",
      "100%|██████████| 1/1 [00:04<00:00,  4.72s/it]\u001b[A\u001b[A\n",
      "\n",
      "  3%|▎         | 304/10000 [2:46:16<82:08:01, 30.50s/it]\u001b[A\n",
      "\n",
      "  0%|          | 0/1 [00:00<?, ?it/s]\u001b[A\u001b[A\n",
      "\n",
      "100%|██████████| 1/1 [00:03<00:00,  3.69s/it]\u001b[A\u001b[A\n"
     ]
    },
    {
     "name": "stdout",
     "output_type": "stream",
     "text": [
      "\n",
      "Epoch: 305, Loss: 0.3832, Val: 0.7109, Test: 0.7117\n"
     ]
    },
    {
     "name": "stderr",
     "output_type": "stream",
     "text": [
      "\n",
      "  3%|▎         | 305/10000 [2:46:53<88:11:30, 32.75s/it]\u001b[A\n",
      "\n",
      "  0%|          | 0/1 [00:00<?, ?it/s]\u001b[A\u001b[A\n",
      "\n",
      "100%|██████████| 1/1 [00:05<00:00,  5.09s/it]\u001b[A\u001b[A\n",
      "\n",
      "  3%|▎         | 306/10000 [2:47:17<81:04:37, 30.11s/it]\u001b[A\n",
      "\n",
      "  0%|          | 0/1 [00:00<?, ?it/s]\u001b[A\u001b[A\n",
      "\n",
      "100%|██████████| 1/1 [00:04<00:00,  4.43s/it]\u001b[A\u001b[A\n"
     ]
    },
    {
     "name": "stdout",
     "output_type": "stream",
     "text": [
      "\n",
      "Epoch: 307, Loss: 0.3836, Val: 0.7111, Test: 0.7122\n"
     ]
    },
    {
     "name": "stderr",
     "output_type": "stream",
     "text": [
      "\n",
      "  3%|▎         | 307/10000 [2:47:59<90:08:44, 33.48s/it]\u001b[A\n",
      "\n",
      "  0%|          | 0/1 [00:00<?, ?it/s]\u001b[A\u001b[A\n",
      "\n",
      "100%|██████████| 1/1 [00:02<00:00,  2.60s/it]\u001b[A\u001b[A\n"
     ]
    },
    {
     "name": "stdout",
     "output_type": "stream",
     "text": [
      "\n",
      "Epoch: 308, Loss: 0.3834, Val: 0.7114, Test: 0.7123\n"
     ]
    },
    {
     "name": "stderr",
     "output_type": "stream",
     "text": [
      "\n",
      "  3%|▎         | 308/10000 [2:48:35<92:00:33, 34.18s/it]\u001b[A\n",
      "\n",
      "  0%|          | 0/1 [00:00<?, ?it/s]\u001b[A\u001b[A\n",
      "\n",
      "100%|██████████| 1/1 [00:04<00:00,  4.39s/it]\u001b[A\u001b[A\n"
     ]
    },
    {
     "name": "stdout",
     "output_type": "stream",
     "text": [
      "\n",
      "Epoch: 309, Loss: 0.3838, Val: 0.7114, Test: 0.7124\n"
     ]
    },
    {
     "name": "stderr",
     "output_type": "stream",
     "text": [
      "\n",
      "  3%|▎         | 309/10000 [2:49:14<96:27:38, 35.83s/it]\u001b[A\n",
      "\n",
      "  0%|          | 0/1 [00:00<?, ?it/s]\u001b[A\u001b[A\n",
      "\n",
      "100%|██████████| 1/1 [00:04<00:00,  4.03s/it]\u001b[A\u001b[A\n",
      "\n",
      "  3%|▎         | 310/10000 [2:49:33<82:54:01, 30.80s/it]\u001b[A\n",
      "\n",
      "  0%|          | 0/1 [00:00<?, ?it/s]\u001b[A\u001b[A\n",
      "\n",
      "100%|██████████| 1/1 [00:02<00:00,  2.73s/it]\u001b[A\u001b[A\n",
      "\n",
      "  3%|▎         | 311/10000 [2:49:50<71:44:17, 26.65s/it]\u001b[A\n",
      "\n",
      "  0%|          | 0/1 [00:00<?, ?it/s]\u001b[A\u001b[A\n",
      "\n",
      "100%|██████████| 1/1 [00:03<00:00,  3.26s/it]\u001b[A\u001b[A\n",
      "\n",
      "  3%|▎         | 312/10000 [2:50:17<71:59:01, 26.75s/it]\u001b[A\n",
      "\n",
      "  0%|          | 0/1 [00:00<?, ?it/s]\u001b[A\u001b[A\n",
      "\n",
      "100%|██████████| 1/1 [00:04<00:00,  4.24s/it]\u001b[A\u001b[A\n",
      "\n",
      "  3%|▎         | 313/10000 [2:50:38<67:07:46, 24.95s/it]\u001b[A\n",
      "\n",
      "  0%|          | 0/1 [00:00<?, ?it/s]\u001b[A\u001b[A\n",
      "\n",
      "100%|██████████| 1/1 [00:04<00:00,  4.03s/it]\u001b[A\u001b[A\n",
      "\n",
      "  3%|▎         | 314/10000 [2:50:58<63:18:03, 23.53s/it]\u001b[A\n",
      "\n",
      "  0%|          | 0/1 [00:00<?, ?it/s]\u001b[A\u001b[A\n",
      "\n",
      "100%|██████████| 1/1 [00:03<00:00,  3.81s/it]\u001b[A\u001b[A\n",
      "\n",
      "  3%|▎         | 315/10000 [2:51:19<61:09:15, 22.73s/it]\u001b[A\n",
      "\n",
      "  0%|          | 0/1 [00:00<?, ?it/s]\u001b[A\u001b[A\n",
      "\n",
      "100%|██████████| 1/1 [00:04<00:00,  4.71s/it]\u001b[A\u001b[A\n",
      "\n",
      "  3%|▎         | 316/10000 [2:51:43<62:14:30, 23.14s/it]\u001b[A\n",
      "\n",
      "  0%|          | 0/1 [00:00<?, ?it/s]\u001b[A\u001b[A\n",
      "\n",
      "100%|██████████| 1/1 [00:04<00:00,  4.48s/it]\u001b[A\u001b[A\n",
      "\n",
      "  3%|▎         | 317/10000 [2:52:08<63:44:21, 23.70s/it]\u001b[A\n",
      "\n",
      "  0%|          | 0/1 [00:00<?, ?it/s]\u001b[A\u001b[A\n",
      "\n",
      "100%|██████████| 1/1 [00:04<00:00,  4.01s/it]\u001b[A\u001b[A\n",
      "\n",
      "  3%|▎         | 318/10000 [2:52:27<59:26:16, 22.10s/it]\u001b[A\n",
      "\n",
      "  0%|          | 0/1 [00:00<?, ?it/s]\u001b[A\u001b[A\n",
      "\n",
      "100%|██████████| 1/1 [00:02<00:00,  2.86s/it]\u001b[A\u001b[A\n",
      "\n",
      "  3%|▎         | 319/10000 [2:52:46<56:59:27, 21.19s/it]\u001b[A\n",
      "\n",
      "  0%|          | 0/1 [00:00<?, ?it/s]\u001b[A\u001b[A\n",
      "\n",
      "100%|██████████| 1/1 [00:03<00:00,  3.17s/it]\u001b[A\u001b[A\n"
     ]
    },
    {
     "name": "stdout",
     "output_type": "stream",
     "text": [
      "\n",
      "Epoch: 320, Loss: 0.3830, Val: 0.7114, Test: 0.7125\n"
     ]
    },
    {
     "name": "stderr",
     "output_type": "stream",
     "text": [
      "\n",
      "  3%|▎         | 320/10000 [2:53:28<74:24:06, 27.67s/it]\u001b[A\n",
      "\n",
      "  0%|          | 0/1 [00:00<?, ?it/s]\u001b[A\u001b[A\n",
      "\n",
      "100%|██████████| 1/1 [00:04<00:00,  4.65s/it]\u001b[A\u001b[A\n",
      "\n",
      "  3%|▎         | 321/10000 [2:53:52<71:10:11, 26.47s/it]\u001b[A\n",
      "\n",
      "  0%|          | 0/1 [00:00<?, ?it/s]\u001b[A\u001b[A\n",
      "\n",
      "100%|██████████| 1/1 [00:04<00:00,  4.52s/it]\u001b[A\u001b[A\n"
     ]
    },
    {
     "name": "stdout",
     "output_type": "stream",
     "text": [
      "\n",
      "Epoch: 322, Loss: 0.3830, Val: 0.7114, Test: 0.7127\n"
     ]
    },
    {
     "name": "stderr",
     "output_type": "stream",
     "text": [
      "\n",
      "  3%|▎         | 322/10000 [2:54:29<79:49:15, 29.69s/it]\u001b[A\n",
      "\n",
      "  0%|          | 0/1 [00:00<?, ?it/s]\u001b[A\u001b[A\n",
      "\n",
      "100%|██████████| 1/1 [00:04<00:00,  4.88s/it]\u001b[A\u001b[A\n"
     ]
    },
    {
     "name": "stdout",
     "output_type": "stream",
     "text": [
      "\n",
      "Epoch: 323, Loss: 0.3833, Val: 0.7117, Test: 0.7126\n"
     ]
    },
    {
     "name": "stderr",
     "output_type": "stream",
     "text": [
      "\n",
      "  3%|▎         | 323/10000 [2:55:10<88:58:05, 33.10s/it]\u001b[A\n",
      "\n",
      "  0%|          | 0/1 [00:00<?, ?it/s]\u001b[A\u001b[A\n",
      "\n",
      "100%|██████████| 1/1 [00:04<00:00,  4.53s/it]\u001b[A\u001b[A\n",
      "\n",
      "  3%|▎         | 324/10000 [2:55:32<79:44:54, 29.67s/it]\u001b[A\n",
      "\n",
      "  0%|          | 0/1 [00:00<?, ?it/s]\u001b[A\u001b[A\n",
      "\n",
      "100%|██████████| 1/1 [00:06<00:00,  6.06s/it]\u001b[A\u001b[A\n",
      "\n",
      "  3%|▎         | 325/10000 [2:55:56<74:58:48, 27.90s/it]\u001b[A\n",
      "\n",
      "  0%|          | 0/1 [00:00<?, ?it/s]\u001b[A\u001b[A\n",
      "\n",
      "100%|██████████| 1/1 [00:03<00:00,  3.30s/it]\u001b[A\u001b[A\n",
      "\n",
      "  3%|▎         | 326/10000 [2:56:19<71:25:41, 26.58s/it]\u001b[A\n",
      "\n",
      "  0%|          | 0/1 [00:00<?, ?it/s]\u001b[A\u001b[A\n",
      "\n",
      "100%|██████████| 1/1 [00:04<00:00,  4.66s/it]\u001b[A\u001b[A\n",
      "\n",
      "  3%|▎         | 327/10000 [2:56:41<67:07:58, 24.98s/it]\u001b[A\n",
      "\n",
      "  0%|          | 0/1 [00:00<?, ?it/s]\u001b[A\u001b[A\n",
      "\n",
      "100%|██████████| 1/1 [00:03<00:00,  3.79s/it]\u001b[A\u001b[A\n",
      "\n",
      "  3%|▎         | 328/10000 [2:56:59<61:31:11, 22.90s/it]\u001b[A\n",
      "\n",
      "  0%|          | 0/1 [00:00<?, ?it/s]\u001b[A\u001b[A\n",
      "\n",
      "100%|██████████| 1/1 [00:03<00:00,  3.31s/it]\u001b[A\u001b[A\n",
      "\n",
      "  3%|▎         | 329/10000 [2:57:19<59:08:15, 22.01s/it]\u001b[A\n",
      "\n",
      "  0%|          | 0/1 [00:00<?, ?it/s]\u001b[A\u001b[A\n",
      "\n",
      "100%|██████████| 1/1 [00:05<00:00,  5.35s/it]\u001b[A\u001b[A\n",
      "\n",
      "  3%|▎         | 330/10000 [2:57:43<61:17:32, 22.82s/it]\u001b[A\n",
      "\n",
      "  0%|          | 0/1 [00:00<?, ?it/s]\u001b[A\u001b[A\n",
      "\n",
      "100%|██████████| 1/1 [00:03<00:00,  3.63s/it]\u001b[A\u001b[A\n"
     ]
    },
    {
     "name": "stdout",
     "output_type": "stream",
     "text": [
      "\n",
      "Epoch: 331, Loss: 0.3829, Val: 0.7117, Test: 0.7129\n"
     ]
    },
    {
     "name": "stderr",
     "output_type": "stream",
     "text": [
      "\n",
      "  3%|▎         | 331/10000 [2:58:19<71:47:32, 26.73s/it]\u001b[A\n",
      "\n",
      "  0%|          | 0/1 [00:00<?, ?it/s]\u001b[A\u001b[A\n",
      "\n",
      "100%|██████████| 1/1 [00:03<00:00,  3.88s/it]\u001b[A\u001b[A\n",
      "\n",
      "  3%|▎         | 332/10000 [2:58:37<64:49:46, 24.14s/it]\u001b[A\n",
      "\n",
      "  0%|          | 0/1 [00:00<?, ?it/s]\u001b[A\u001b[A\n",
      "\n",
      "100%|██████████| 1/1 [00:05<00:00,  5.23s/it]\u001b[A\u001b[A\n",
      "\n",
      "  3%|▎         | 333/10000 [2:59:02<65:14:33, 24.30s/it]\u001b[A\n",
      "\n",
      "  0%|          | 0/1 [00:00<?, ?it/s]\u001b[A\u001b[A\n",
      "\n",
      "100%|██████████| 1/1 [00:04<00:00,  4.65s/it]\u001b[A\u001b[A\n",
      "\n",
      "  3%|▎         | 334/10000 [2:59:31<69:03:13, 25.72s/it]\u001b[A\n",
      "\n",
      "  0%|          | 0/1 [00:00<?, ?it/s]\u001b[A\u001b[A\n",
      "\n",
      "100%|██████████| 1/1 [00:03<00:00,  3.06s/it]\u001b[A\u001b[A\n",
      "\n",
      "  3%|▎         | 335/10000 [2:59:50<63:33:41, 23.68s/it]\u001b[A\n",
      "\n",
      "  0%|          | 0/1 [00:00<?, ?it/s]\u001b[A\u001b[A\n",
      "\n",
      "100%|██████████| 1/1 [00:04<00:00,  4.12s/it]\u001b[A\u001b[A\n"
     ]
    },
    {
     "name": "stdout",
     "output_type": "stream",
     "text": [
      "\n",
      "Epoch: 336, Loss: 0.3833, Val: 0.7118, Test: 0.7131\n"
     ]
    },
    {
     "name": "stderr",
     "output_type": "stream",
     "text": [
      "\n",
      "  3%|▎         | 336/10000 [3:00:31<77:48:33, 28.99s/it]\u001b[A\n",
      "\n",
      "  0%|          | 0/1 [00:00<?, ?it/s]\u001b[A\u001b[A\n",
      "\n",
      "100%|██████████| 1/1 [00:03<00:00,  3.89s/it]\u001b[A\u001b[A\n"
     ]
    },
    {
     "name": "stdout",
     "output_type": "stream",
     "text": [
      "\n",
      "Epoch: 337, Loss: 0.3829, Val: 0.7119, Test: 0.7133\n"
     ]
    },
    {
     "name": "stderr",
     "output_type": "stream",
     "text": [
      "\n",
      "  3%|▎         | 337/10000 [3:01:13<87:48:12, 32.71s/it]\u001b[A\n",
      "\n",
      "  0%|          | 0/1 [00:00<?, ?it/s]\u001b[A\u001b[A\n",
      "\n",
      "100%|██████████| 1/1 [00:02<00:00,  2.94s/it]\u001b[A\u001b[A\n",
      "\n",
      "  3%|▎         | 338/10000 [3:01:29<74:58:13, 27.93s/it]\u001b[A\n",
      "\n",
      "  0%|          | 0/1 [00:00<?, ?it/s]\u001b[A\u001b[A\n",
      "\n",
      "100%|██████████| 1/1 [00:03<00:00,  3.32s/it]\u001b[A\u001b[A\n"
     ]
    },
    {
     "name": "stdout",
     "output_type": "stream",
     "text": [
      "\n",
      "Epoch: 339, Loss: 0.3830, Val: 0.7122, Test: 0.7135\n"
     ]
    },
    {
     "name": "stderr",
     "output_type": "stream",
     "text": [
      "\n",
      "  3%|▎         | 339/10000 [3:02:08<83:16:11, 31.03s/it]\u001b[A\n",
      "\n",
      "  0%|          | 0/1 [00:00<?, ?it/s]\u001b[A\u001b[A\n",
      "\n",
      "100%|██████████| 1/1 [00:04<00:00,  4.03s/it]\u001b[A\u001b[A\n",
      "\n",
      "  3%|▎         | 340/10000 [3:02:29<75:34:17, 28.16s/it]\u001b[A\n",
      "\n",
      "  0%|          | 0/1 [00:00<?, ?it/s]\u001b[A\u001b[A\n",
      "\n",
      "100%|██████████| 1/1 [00:04<00:00,  4.23s/it]\u001b[A\u001b[A\n"
     ]
    },
    {
     "name": "stdout",
     "output_type": "stream",
     "text": [
      "\n",
      "Epoch: 341, Loss: 0.3829, Val: 0.7122, Test: 0.7134\n"
     ]
    },
    {
     "name": "stderr",
     "output_type": "stream",
     "text": [
      "\n",
      "  3%|▎         | 341/10000 [3:03:07<83:20:26, 31.06s/it]\u001b[A\n",
      "\n",
      "  0%|          | 0/1 [00:00<?, ?it/s]\u001b[A\u001b[A\n",
      "\n",
      "100%|██████████| 1/1 [00:03<00:00,  3.69s/it]\u001b[A\u001b[A\n",
      "\n",
      "  3%|▎         | 342/10000 [3:03:30<76:31:40, 28.53s/it]\u001b[A\n",
      "\n",
      "  0%|          | 0/1 [00:00<?, ?it/s]\u001b[A\u001b[A\n",
      "\n",
      "100%|██████████| 1/1 [00:05<00:00,  5.10s/it]\u001b[A\u001b[A\n",
      "\n",
      "  3%|▎         | 343/10000 [3:03:54<73:02:04, 27.23s/it]\u001b[A\n",
      "\n",
      "  0%|          | 0/1 [00:00<?, ?it/s]\u001b[A\u001b[A\n",
      "\n",
      "100%|██████████| 1/1 [00:07<00:00,  7.13s/it]\u001b[A\u001b[A\n"
     ]
    },
    {
     "name": "stdout",
     "output_type": "stream",
     "text": [
      "\n",
      "Epoch: 344, Loss: 0.3832, Val: 0.7122, Test: 0.7132\n"
     ]
    },
    {
     "name": "stderr",
     "output_type": "stream",
     "text": [
      "\n",
      "  3%|▎         | 344/10000 [3:04:36<85:28:18, 31.87s/it]\u001b[A\n",
      "\n",
      "  0%|          | 0/1 [00:00<?, ?it/s]\u001b[A\u001b[A\n",
      "\n",
      "100%|██████████| 1/1 [00:03<00:00,  3.74s/it]\u001b[A\u001b[A\n",
      "\n",
      "  3%|▎         | 345/10000 [3:04:56<75:22:49, 28.11s/it]\u001b[A\n",
      "\n",
      "  0%|          | 0/1 [00:00<?, ?it/s]\u001b[A\u001b[A\n",
      "\n",
      "100%|██████████| 1/1 [00:04<00:00,  4.75s/it]\u001b[A\u001b[A\n"
     ]
    },
    {
     "name": "stdout",
     "output_type": "stream",
     "text": [
      "\n",
      "Epoch: 346, Loss: 0.3830, Val: 0.7124, Test: 0.7135\n"
     ]
    },
    {
     "name": "stderr",
     "output_type": "stream",
     "text": [
      "\n",
      "  3%|▎         | 346/10000 [3:05:38<86:34:27, 32.28s/it]\u001b[A\n",
      "\n",
      "  0%|          | 0/1 [00:00<?, ?it/s]\u001b[A\u001b[A\n",
      "\n",
      "100%|██████████| 1/1 [00:02<00:00,  2.99s/it]\u001b[A\u001b[A\n",
      "\n",
      "  3%|▎         | 347/10000 [3:05:55<74:06:35, 27.64s/it]\u001b[A\n",
      "\n",
      "  0%|          | 0/1 [00:00<?, ?it/s]\u001b[A\u001b[A\n",
      "\n",
      "100%|██████████| 1/1 [00:03<00:00,  3.08s/it]\u001b[A\u001b[A\n"
     ]
    },
    {
     "name": "stdout",
     "output_type": "stream",
     "text": [
      "\n",
      "Epoch: 348, Loss: 0.3828, Val: 0.7124, Test: 0.7132\n"
     ]
    },
    {
     "name": "stderr",
     "output_type": "stream",
     "text": [
      "\n",
      "  3%|▎         | 348/10000 [3:06:35<84:34:54, 31.55s/it]\u001b[A\n",
      "\n",
      "  0%|          | 0/1 [00:00<?, ?it/s]\u001b[A\u001b[A\n",
      "\n",
      "100%|██████████| 1/1 [00:04<00:00,  4.05s/it]\u001b[A\u001b[A\n",
      "\n",
      "  3%|▎         | 349/10000 [3:06:58<77:18:04, 28.83s/it]\u001b[A\n",
      "\n",
      "  0%|          | 0/1 [00:00<?, ?it/s]\u001b[A\u001b[A\n",
      "\n",
      "100%|██████████| 1/1 [00:03<00:00,  3.33s/it]\u001b[A\u001b[A\n",
      "\n",
      "  4%|▎         | 350/10000 [3:07:15<68:04:55, 25.40s/it]\u001b[A\n",
      "\n",
      "  0%|          | 0/1 [00:00<?, ?it/s]\u001b[A\u001b[A\n",
      "\n",
      "100%|██████████| 1/1 [00:04<00:00,  4.26s/it]\u001b[A\u001b[A\n",
      "\n",
      "  4%|▎         | 351/10000 [3:07:34<63:02:02, 23.52s/it]\u001b[A\n",
      "\n",
      "  0%|          | 0/1 [00:00<?, ?it/s]\u001b[A\u001b[A\n",
      "\n",
      "100%|██████████| 1/1 [00:03<00:00,  3.72s/it]\u001b[A\u001b[A\n"
     ]
    },
    {
     "name": "stdout",
     "output_type": "stream",
     "text": [
      "\n",
      "Epoch: 352, Loss: 0.3826, Val: 0.7126, Test: 0.7134\n"
     ]
    },
    {
     "name": "stderr",
     "output_type": "stream",
     "text": [
      "\n",
      "  4%|▎         | 352/10000 [3:08:21<81:33:22, 30.43s/it]\u001b[A\n",
      "\n",
      "  0%|          | 0/1 [00:00<?, ?it/s]\u001b[A\u001b[A\n",
      "\n",
      "100%|██████████| 1/1 [00:04<00:00,  4.37s/it]\u001b[A\u001b[A\n"
     ]
    },
    {
     "name": "stdout",
     "output_type": "stream",
     "text": [
      "\n",
      "Epoch: 353, Loss: 0.3822, Val: 0.7126, Test: 0.7134\n"
     ]
    },
    {
     "name": "stderr",
     "output_type": "stream",
     "text": [
      "\n",
      "  4%|▎         | 353/10000 [3:08:57<86:07:55, 32.14s/it]\u001b[A\n",
      "\n",
      "  0%|          | 0/1 [00:00<?, ?it/s]\u001b[A\u001b[A\n",
      "\n",
      "100%|██████████| 1/1 [00:03<00:00,  3.24s/it]\u001b[A\u001b[A\n"
     ]
    },
    {
     "name": "stdout",
     "output_type": "stream",
     "text": [
      "\n",
      "Epoch: 354, Loss: 0.3831, Val: 0.7127, Test: 0.7136\n"
     ]
    },
    {
     "name": "stderr",
     "output_type": "stream",
     "text": [
      "\n",
      "  4%|▎         | 354/10000 [3:09:37<92:29:55, 34.52s/it]\u001b[A\n",
      "\n",
      "  0%|          | 0/1 [00:00<?, ?it/s]\u001b[A\u001b[A\n",
      "\n",
      "100%|██████████| 1/1 [00:04<00:00,  4.58s/it]\u001b[A\u001b[A\n",
      "\n",
      "  4%|▎         | 355/10000 [3:09:57<80:56:48, 30.21s/it]\u001b[A\n",
      "\n",
      "  0%|          | 0/1 [00:00<?, ?it/s]\u001b[A\u001b[A\n",
      "\n",
      "100%|██████████| 1/1 [00:07<00:00,  7.39s/it]\u001b[A\u001b[A\n",
      "\n",
      "  4%|▎         | 356/10000 [3:10:21<75:28:48, 28.18s/it]\u001b[A\n",
      "\n",
      "  0%|          | 0/1 [00:00<?, ?it/s]\u001b[A\u001b[A\n",
      "\n",
      "100%|██████████| 1/1 [00:04<00:00,  4.15s/it]\u001b[A\u001b[A\n",
      "\n",
      "  4%|▎         | 357/10000 [3:10:41<69:14:39, 25.85s/it]\u001b[A\n",
      "\n",
      "  0%|          | 0/1 [00:00<?, ?it/s]\u001b[A\u001b[A\n",
      "\n",
      "100%|██████████| 1/1 [00:04<00:00,  4.20s/it]\u001b[A\u001b[A\n",
      "\n",
      "  4%|▎         | 358/10000 [3:11:04<66:35:16, 24.86s/it]\u001b[A\n",
      "\n",
      "  0%|          | 0/1 [00:00<?, ?it/s]\u001b[A\u001b[A\n",
      "\n",
      "100%|██████████| 1/1 [00:03<00:00,  3.61s/it]\u001b[A\u001b[A\n",
      "\n",
      "  4%|▎         | 359/10000 [3:11:25<63:29:16, 23.71s/it]\u001b[A\n",
      "\n",
      "  0%|          | 0/1 [00:00<?, ?it/s]\u001b[A\u001b[A\n",
      "\n",
      "100%|██████████| 1/1 [00:03<00:00,  3.45s/it]\u001b[A\u001b[A\n",
      "\n",
      "  4%|▎         | 360/10000 [3:11:43<59:13:43, 22.12s/it]\u001b[A\n",
      "\n",
      "  0%|          | 0/1 [00:00<?, ?it/s]\u001b[A\u001b[A\n",
      "\n",
      "100%|██████████| 1/1 [00:03<00:00,  3.15s/it]\u001b[A\u001b[A\n",
      "\n",
      "  4%|▎         | 361/10000 [3:12:03<57:08:35, 21.34s/it]\u001b[A\n",
      "\n",
      "  0%|          | 0/1 [00:00<?, ?it/s]\u001b[A\u001b[A\n",
      "\n",
      "100%|██████████| 1/1 [00:04<00:00,  4.42s/it]\u001b[A\u001b[A\n",
      "\n",
      "  4%|▎         | 362/10000 [3:12:25<58:16:55, 21.77s/it]\u001b[A\n",
      "\n",
      "  0%|          | 0/1 [00:00<?, ?it/s]\u001b[A\u001b[A\n",
      "\n",
      "100%|██████████| 1/1 [00:04<00:00,  4.77s/it]\u001b[A\u001b[A\n",
      "\n",
      "  4%|▎         | 363/10000 [3:12:49<59:34:48, 22.26s/it]\u001b[A\n",
      "\n",
      "  0%|          | 0/1 [00:00<?, ?it/s]\u001b[A\u001b[A\n",
      "\n",
      "100%|██████████| 1/1 [00:03<00:00,  3.30s/it]\u001b[A\u001b[A\n",
      "\n",
      "  4%|▎         | 364/10000 [3:13:07<56:10:23, 20.99s/it]\u001b[A\n",
      "\n",
      "  0%|          | 0/1 [00:00<?, ?it/s]\u001b[A\u001b[A\n",
      "\n",
      "100%|██████████| 1/1 [00:03<00:00,  3.32s/it]\u001b[A\u001b[A\n",
      "\n",
      "  4%|▎         | 365/10000 [3:13:25<54:04:30, 20.20s/it]\u001b[A\n",
      "\n",
      "  0%|          | 0/1 [00:00<?, ?it/s]\u001b[A\u001b[A\n",
      "\n",
      "100%|██████████| 1/1 [00:03<00:00,  3.36s/it]\u001b[A\u001b[A\n",
      "\n",
      "  4%|▎         | 366/10000 [3:13:46<54:20:19, 20.31s/it]\u001b[A\n",
      "\n",
      "  0%|          | 0/1 [00:00<?, ?it/s]\u001b[A\u001b[A\n",
      "\n",
      "100%|██████████| 1/1 [00:04<00:00,  4.75s/it]\u001b[A\u001b[A\n",
      "\n",
      "  4%|▎         | 367/10000 [3:14:10<57:50:00, 21.61s/it]\u001b[A\n",
      "\n",
      "  0%|          | 0/1 [00:00<?, ?it/s]\u001b[A\u001b[A\n",
      "\n",
      "100%|██████████| 1/1 [00:04<00:00,  4.54s/it]\u001b[A\u001b[A\n",
      "\n",
      "  4%|▎         | 368/10000 [3:14:30<56:18:02, 21.04s/it]\u001b[A\n",
      "\n",
      "  0%|          | 0/1 [00:00<?, ?it/s]\u001b[A\u001b[A\n",
      "\n",
      "100%|██████████| 1/1 [00:02<00:00,  2.57s/it]\u001b[A\u001b[A\n",
      "\n",
      "  4%|▎         | 369/10000 [3:14:48<53:33:23, 20.02s/it]\u001b[A\n",
      "\n",
      "  0%|          | 0/1 [00:00<?, ?it/s]\u001b[A\u001b[A\n",
      "\n",
      "100%|██████████| 1/1 [00:03<00:00,  3.28s/it]\u001b[A\u001b[A\n",
      "\n",
      "  4%|▎         | 370/10000 [3:15:08<54:10:27, 20.25s/it]\u001b[A\n",
      "\n",
      "  0%|          | 0/1 [00:00<?, ?it/s]\u001b[A\u001b[A\n",
      "\n",
      "100%|██████████| 1/1 [00:04<00:00,  4.66s/it]\u001b[A\u001b[A\n",
      "\n",
      "  4%|▎         | 371/10000 [3:15:33<57:16:21, 21.41s/it]\u001b[A\n",
      "\n",
      "  0%|          | 0/1 [00:00<?, ?it/s]\u001b[A\u001b[A\n",
      "\n",
      "100%|██████████| 1/1 [00:05<00:00,  5.20s/it]\u001b[A\u001b[A\n",
      "\n",
      "  4%|▎         | 372/10000 [3:15:54<57:33:24, 21.52s/it]\u001b[A\n",
      "\n",
      "  0%|          | 0/1 [00:00<?, ?it/s]\u001b[A\u001b[A\n",
      "\n",
      "100%|██████████| 1/1 [00:03<00:00,  3.33s/it]\u001b[A\u001b[A\n",
      "\n",
      "  4%|▎         | 373/10000 [3:16:13<55:00:48, 20.57s/it]\u001b[A\n",
      "\n",
      "  0%|          | 0/1 [00:00<?, ?it/s]\u001b[A\u001b[A\n",
      "\n",
      "100%|██████████| 1/1 [00:02<00:00,  2.70s/it]\u001b[A\u001b[A\n",
      "\n",
      "  4%|▎         | 374/10000 [3:16:31<53:16:29, 19.92s/it]\u001b[A\n",
      "\n",
      "  0%|          | 0/1 [00:00<?, ?it/s]\u001b[A\u001b[A\n",
      "\n",
      "100%|██████████| 1/1 [00:04<00:00,  4.63s/it]\u001b[A\u001b[A\n",
      "\n",
      "  4%|▍         | 375/10000 [3:16:55<56:03:03, 20.96s/it]\u001b[A\n",
      "\n",
      "  0%|          | 0/1 [00:00<?, ?it/s]\u001b[A\u001b[A\n",
      "\n",
      "100%|██████████| 1/1 [00:04<00:00,  4.10s/it]\u001b[A\u001b[A\n",
      "\n",
      "  4%|▍         | 376/10000 [3:17:17<57:19:35, 21.44s/it]\u001b[A\n",
      "\n",
      "  0%|          | 0/1 [00:00<?, ?it/s]\u001b[A\u001b[A\n",
      "\n",
      "100%|██████████| 1/1 [00:03<00:00,  3.60s/it]\u001b[A\u001b[A\n",
      "\n",
      "  4%|▍         | 377/10000 [3:17:38<56:30:07, 21.14s/it]\u001b[A\n",
      "\n",
      "  0%|          | 0/1 [00:00<?, ?it/s]\u001b[A\u001b[A\n",
      "\n",
      "100%|██████████| 1/1 [00:03<00:00,  3.64s/it]\u001b[A\u001b[A\n",
      "\n",
      "  4%|▍         | 378/10000 [3:17:55<53:44:19, 20.11s/it]\u001b[A\n",
      "\n",
      "  0%|          | 0/1 [00:00<?, ?it/s]\u001b[A\u001b[A\n",
      "\n",
      "100%|██████████| 1/1 [00:03<00:00,  3.67s/it]\u001b[A\u001b[A\n",
      "\n",
      "  4%|▍         | 379/10000 [3:18:16<54:17:39, 20.32s/it]\u001b[A\n",
      "\n",
      "  0%|          | 0/1 [00:00<?, ?it/s]\u001b[A\u001b[A\n",
      "\n",
      "100%|██████████| 1/1 [00:04<00:00,  4.60s/it]\u001b[A\u001b[A\n",
      "\n",
      "  4%|▍         | 380/10000 [3:18:40<57:03:26, 21.35s/it]\u001b[A\n",
      "\n",
      "  0%|          | 0/1 [00:00<?, ?it/s]\u001b[A\u001b[A\n",
      "\n",
      "100%|██████████| 1/1 [00:03<00:00,  3.38s/it]\u001b[A\u001b[A\n",
      "\n",
      "  4%|▍         | 381/10000 [3:18:59<55:20:54, 20.71s/it]\u001b[A\n",
      "\n",
      "  0%|          | 0/1 [00:00<?, ?it/s]\u001b[A\u001b[A\n",
      "\n",
      "100%|██████████| 1/1 [00:04<00:00,  4.39s/it]\u001b[A\u001b[A\n",
      "\n",
      "  4%|▍         | 382/10000 [3:19:20<55:12:13, 20.66s/it]\u001b[A\n",
      "\n",
      "  0%|          | 0/1 [00:00<?, ?it/s]\u001b[A\u001b[A\n",
      "\n",
      "100%|██████████| 1/1 [00:03<00:00,  3.88s/it]\u001b[A\u001b[A\n",
      "\n",
      "  4%|▍         | 383/10000 [3:19:43<57:33:06, 21.54s/it]\u001b[A\n",
      "\n",
      "  0%|          | 0/1 [00:00<?, ?it/s]\u001b[A\u001b[A\n",
      "\n",
      "100%|██████████| 1/1 [00:04<00:00,  4.60s/it]\u001b[A\u001b[A\n",
      "\n",
      "  4%|▍         | 384/10000 [3:20:06<58:21:41, 21.85s/it]\u001b[A\n",
      "\n",
      "  0%|          | 0/1 [00:00<?, ?it/s]\u001b[A\u001b[A\n",
      "\n",
      "100%|██████████| 1/1 [00:03<00:00,  3.69s/it]\u001b[A\u001b[A\n",
      "\n",
      "  4%|▍         | 385/10000 [3:20:26<57:27:26, 21.51s/it]\u001b[A\n",
      "\n",
      "  0%|          | 0/1 [00:00<?, ?it/s]\u001b[A\u001b[A\n",
      "\n",
      "100%|██████████| 1/1 [00:08<00:00,  8.50s/it]\u001b[A\u001b[A\n",
      "\n",
      "  4%|▍         | 386/10000 [3:20:51<59:50:05, 22.41s/it]\u001b[A\n",
      "\n",
      "  0%|          | 0/1 [00:00<?, ?it/s]\u001b[A\u001b[A\n",
      "\n",
      "100%|██████████| 1/1 [00:02<00:00,  2.85s/it]\u001b[A\u001b[A\n"
     ]
    },
    {
     "name": "stdout",
     "output_type": "stream",
     "text": [
      "\n",
      "Epoch: 387, Loss: 0.3825, Val: 0.7128, Test: 0.7135\n"
     ]
    },
    {
     "name": "stderr",
     "output_type": "stream",
     "text": [
      "\n",
      "  4%|▍         | 387/10000 [3:21:31<74:10:10, 27.78s/it]\u001b[A\n",
      "\n",
      "  0%|          | 0/1 [00:00<?, ?it/s]\u001b[A\u001b[A\n",
      "\n",
      "100%|██████████| 1/1 [00:04<00:00,  4.46s/it]\u001b[A\u001b[A\n"
     ]
    },
    {
     "name": "stdout",
     "output_type": "stream",
     "text": [
      "\n",
      "Epoch: 388, Loss: 0.3824, Val: 0.7129, Test: 0.7137\n"
     ]
    },
    {
     "name": "stderr",
     "output_type": "stream",
     "text": [
      "\n",
      "  4%|▍         | 388/10000 [3:22:09<81:47:37, 30.63s/it]\u001b[A\n",
      "\n",
      "  0%|          | 0/1 [00:00<?, ?it/s]\u001b[A\u001b[A\n",
      "\n",
      "100%|██████████| 1/1 [00:03<00:00,  3.63s/it]\u001b[A\u001b[A\n",
      "\n",
      "  4%|▍         | 389/10000 [3:22:27<71:56:44, 26.95s/it]\u001b[A\n",
      "\n",
      "  0%|          | 0/1 [00:00<?, ?it/s]\u001b[A\u001b[A\n",
      "\n",
      "100%|██████████| 1/1 [00:04<00:00,  4.42s/it]\u001b[A\u001b[A\n",
      "\n",
      "  4%|▍         | 390/10000 [3:22:51<69:49:18, 26.16s/it]\u001b[A\n",
      "\n",
      "  0%|          | 0/1 [00:00<?, ?it/s]\u001b[A\u001b[A\n",
      "\n",
      "100%|██████████| 1/1 [00:04<00:00,  4.94s/it]\u001b[A\u001b[A\n",
      "\n",
      "  4%|▍         | 391/10000 [3:23:13<66:37:00, 24.96s/it]\u001b[A\n",
      "\n",
      "  0%|          | 0/1 [00:00<?, ?it/s]\u001b[A\u001b[A\n",
      "\n",
      "100%|██████████| 1/1 [00:03<00:00,  4.00s/it]\u001b[A\u001b[A\n",
      "\n",
      "  4%|▍         | 392/10000 [3:23:32<61:52:29, 23.18s/it]\u001b[A\n",
      "\n",
      "  0%|          | 0/1 [00:00<?, ?it/s]\u001b[A\u001b[A\n",
      "\n",
      "100%|██████████| 1/1 [00:03<00:00,  3.46s/it]\u001b[A\u001b[A\n",
      "\n",
      "  4%|▍         | 393/10000 [3:23:53<59:28:50, 22.29s/it]\u001b[A\n",
      "\n",
      "  0%|          | 0/1 [00:00<?, ?it/s]\u001b[A\u001b[A\n",
      "\n",
      "100%|██████████| 1/1 [00:04<00:00,  4.56s/it]\u001b[A\u001b[A\n",
      "\n",
      "  4%|▍         | 394/10000 [3:24:15<59:47:54, 22.41s/it]\u001b[A\n",
      "\n",
      "  0%|          | 0/1 [00:00<?, ?it/s]\u001b[A\u001b[A\n",
      "\n",
      "100%|██████████| 1/1 [00:03<00:00,  3.83s/it]\u001b[A\u001b[A\n",
      "\n",
      "  4%|▍         | 395/10000 [3:24:38<60:08:15, 22.54s/it]\u001b[A\n",
      "\n",
      "  0%|          | 0/1 [00:00<?, ?it/s]\u001b[A\u001b[A\n",
      "\n",
      "100%|██████████| 1/1 [00:07<00:00,  7.61s/it]\u001b[A\u001b[A\n",
      "\n",
      "  4%|▍         | 396/10000 [3:25:02<60:47:57, 22.79s/it]\u001b[A\n",
      "\n",
      "  0%|          | 0/1 [00:00<?, ?it/s]\u001b[A\u001b[A\n",
      "\n",
      "100%|██████████| 1/1 [00:03<00:00,  3.29s/it]\u001b[A\u001b[A\n",
      "\n",
      "  4%|▍         | 397/10000 [3:25:22<58:45:15, 22.03s/it]\u001b[A\n",
      "\n",
      "  0%|          | 0/1 [00:00<?, ?it/s]\u001b[A\u001b[A\n",
      "\n",
      "100%|██████████| 1/1 [00:03<00:00,  3.26s/it]\u001b[A\u001b[A\n",
      "\n",
      "  4%|▍         | 398/10000 [3:25:40<55:27:49, 20.79s/it]\u001b[A\n",
      "\n",
      "  0%|          | 0/1 [00:00<?, ?it/s]\u001b[A\u001b[A\n",
      "\n",
      "100%|██████████| 1/1 [00:02<00:00,  2.99s/it]\u001b[A\u001b[A\n",
      "\n",
      "  4%|▍         | 399/10000 [3:25:58<53:33:27, 20.08s/it]\u001b[A\n",
      "\n",
      "  0%|          | 0/1 [00:00<?, ?it/s]\u001b[A\u001b[A\n",
      "\n",
      "100%|██████████| 1/1 [00:03<00:00,  3.73s/it]\u001b[A\u001b[A\n",
      "\n",
      "  4%|▍         | 400/10000 [3:26:24<58:14:24, 21.84s/it]\u001b[A\n",
      "\n",
      "  0%|          | 0/1 [00:00<?, ?it/s]\u001b[A\u001b[A\n",
      "\n",
      "100%|██████████| 1/1 [00:05<00:00,  5.45s/it]\u001b[A\u001b[A\n",
      "\n",
      "  4%|▍         | 401/10000 [3:26:47<59:16:52, 22.23s/it]\u001b[A\n",
      "\n",
      "  0%|          | 0/1 [00:00<?, ?it/s]\u001b[A\u001b[A\n",
      "\n",
      "100%|██████████| 1/1 [00:04<00:00,  4.34s/it]\u001b[A\u001b[A\n",
      "\n",
      "  4%|▍         | 402/10000 [3:27:06<56:34:42, 21.22s/it]\u001b[A\n",
      "\n",
      "  0%|          | 0/1 [00:00<?, ?it/s]\u001b[A\u001b[A\n",
      "\n",
      "100%|██████████| 1/1 [00:03<00:00,  3.06s/it]\u001b[A\u001b[A\n",
      "\n",
      "  4%|▍         | 403/10000 [3:27:26<55:20:28, 20.76s/it]\u001b[A\n",
      "\n",
      "  0%|          | 0/1 [00:00<?, ?it/s]\u001b[A\u001b[A\n",
      "\n",
      "100%|██████████| 1/1 [00:03<00:00,  3.83s/it]\u001b[A\u001b[A\n",
      "\n",
      "  4%|▍         | 404/10000 [3:27:45<54:17:19, 20.37s/it]\u001b[A\n",
      "\n",
      "  0%|          | 0/1 [00:00<?, ?it/s]\u001b[A\u001b[A\n",
      "\n",
      "100%|██████████| 1/1 [00:02<00:00,  2.57s/it]\u001b[A\u001b[A\n",
      "\n",
      "  4%|▍         | 405/10000 [3:28:04<53:06:29, 19.93s/it]\u001b[A\n",
      "\n",
      "  0%|          | 0/1 [00:00<?, ?it/s]\u001b[A\u001b[A\n",
      "\n",
      "100%|██████████| 1/1 [00:03<00:00,  3.73s/it]\u001b[A\u001b[A\n",
      "\n",
      "  4%|▍         | 406/10000 [3:28:24<53:00:51, 19.89s/it]\u001b[A\n",
      "\n",
      "  0%|          | 0/1 [00:00<?, ?it/s]\u001b[A\u001b[A\n",
      "\n",
      "100%|██████████| 1/1 [00:03<00:00,  3.46s/it]\u001b[A\u001b[A\n",
      "\n",
      "  4%|▍         | 407/10000 [3:28:48<56:28:38, 21.19s/it]\u001b[A\n",
      "\n",
      "  0%|          | 0/1 [00:00<?, ?it/s]\u001b[A\u001b[A\n",
      "\n",
      "100%|██████████| 1/1 [00:04<00:00,  4.37s/it]\u001b[A\u001b[A\n",
      "\n",
      "  4%|▍         | 408/10000 [3:29:12<58:36:21, 22.00s/it]\u001b[A\n",
      "\n",
      "  0%|          | 0/1 [00:00<?, ?it/s]\u001b[A\u001b[A\n",
      "\n",
      "100%|██████████| 1/1 [00:03<00:00,  3.67s/it]\u001b[A\u001b[A\n",
      "\n",
      "  4%|▍         | 409/10000 [3:29:30<55:02:06, 20.66s/it]\u001b[A\n",
      "\n",
      "  0%|          | 0/1 [00:00<?, ?it/s]\u001b[A\u001b[A\n",
      "\n",
      "100%|██████████| 1/1 [00:02<00:00,  2.52s/it]\u001b[A\u001b[A\n",
      "\n",
      "  4%|▍         | 410/10000 [3:29:49<53:43:30, 20.17s/it]\u001b[A\n",
      "\n",
      "  0%|          | 0/1 [00:00<?, ?it/s]\u001b[A\u001b[A\n",
      "\n",
      "100%|██████████| 1/1 [00:04<00:00,  4.50s/it]\u001b[A\u001b[A\n",
      "\n",
      "  4%|▍         | 411/10000 [3:30:09<53:44:33, 20.18s/it]\u001b[A\n",
      "\n",
      "  0%|          | 0/1 [00:00<?, ?it/s]\u001b[A\u001b[A\n",
      "\n",
      "100%|██████████| 1/1 [00:03<00:00,  3.63s/it]\u001b[A\u001b[A\n",
      "\n",
      "  4%|▍         | 412/10000 [3:30:27<52:06:33, 19.57s/it]\u001b[A\n",
      "\n",
      "  0%|          | 0/1 [00:00<?, ?it/s]\u001b[A\u001b[A\n",
      "\n",
      "100%|██████████| 1/1 [00:02<00:00,  2.47s/it]\u001b[A\u001b[A\n",
      "\n",
      "  4%|▍         | 413/10000 [3:30:44<50:11:56, 18.85s/it]\u001b[A\n",
      "\n",
      "  0%|          | 0/1 [00:00<?, ?it/s]\u001b[A\u001b[A\n",
      "\n",
      "100%|██████████| 1/1 [00:04<00:00,  4.17s/it]\u001b[A\u001b[A\n",
      "\n",
      "  4%|▍         | 414/10000 [3:31:08<54:30:14, 20.47s/it]\u001b[A\n",
      "\n",
      "  0%|          | 0/1 [00:00<?, ?it/s]\u001b[A\u001b[A\n",
      "\n",
      "100%|██████████| 1/1 [00:03<00:00,  3.79s/it]\u001b[A\u001b[A\n",
      "\n",
      "  4%|▍         | 415/10000 [3:31:30<55:37:13, 20.89s/it]\u001b[A\n",
      "\n",
      "  0%|          | 0/1 [00:00<?, ?it/s]\u001b[A\u001b[A\n",
      "\n",
      "100%|██████████| 1/1 [00:04<00:00,  4.32s/it]\u001b[A\u001b[A\n",
      "\n",
      "  4%|▍         | 416/10000 [3:31:50<54:56:00, 20.63s/it]\u001b[A\n",
      "\n",
      "  0%|          | 0/1 [00:00<?, ?it/s]\u001b[A\u001b[A\n",
      "\n",
      "100%|██████████| 1/1 [00:03<00:00,  3.09s/it]\u001b[A\u001b[A\n",
      "\n",
      "  4%|▍         | 417/10000 [3:32:11<54:42:53, 20.55s/it]\u001b[A\n",
      "\n",
      "  0%|          | 0/1 [00:00<?, ?it/s]\u001b[A\u001b[A\n",
      "\n",
      "100%|██████████| 1/1 [00:03<00:00,  3.67s/it]\u001b[A\u001b[A\n",
      "\n",
      "  4%|▍         | 418/10000 [3:32:31<54:24:36, 20.44s/it]\u001b[A\n",
      "\n",
      "  0%|          | 0/1 [00:00<?, ?it/s]\u001b[A\u001b[A\n",
      "\n",
      "100%|██████████| 1/1 [00:02<00:00,  2.76s/it]\u001b[A\u001b[A\n",
      "\n",
      "  4%|▍         | 419/10000 [3:32:48<52:09:08, 19.60s/it]\u001b[A\n",
      "\n",
      "  0%|          | 0/1 [00:00<?, ?it/s]\u001b[A\u001b[A\n",
      "\n",
      "100%|██████████| 1/1 [00:03<00:00,  3.14s/it]\u001b[A\u001b[A\n",
      "\n",
      "  4%|▍         | 420/10000 [3:33:08<52:28:15, 19.72s/it]\u001b[A\n",
      "\n",
      "  0%|          | 0/1 [00:00<?, ?it/s]\u001b[A\u001b[A\n",
      "\n",
      "100%|██████████| 1/1 [00:09<00:00,  9.90s/it]\u001b[A\u001b[A\n",
      "\n",
      "  4%|▍         | 421/10000 [3:33:43<64:29:48, 24.24s/it]\u001b[A\n",
      "\n",
      "  0%|          | 0/1 [00:00<?, ?it/s]\u001b[A\u001b[A\n",
      "\n",
      "100%|██████████| 1/1 [00:04<00:00,  4.14s/it]\u001b[A\u001b[A\n",
      "\n",
      "  4%|▍         | 422/10000 [3:34:04<62:03:29, 23.33s/it]\u001b[A\n",
      "\n",
      "  0%|          | 0/1 [00:00<?, ?it/s]\u001b[A\u001b[A\n",
      "\n",
      "100%|██████████| 1/1 [00:02<00:00,  2.58s/it]\u001b[A\u001b[A\n",
      "\n",
      "  4%|▍         | 423/10000 [3:34:22<57:50:31, 21.74s/it]\u001b[A\n",
      "\n",
      "  0%|          | 0/1 [00:00<?, ?it/s]\u001b[A\u001b[A\n",
      "\n",
      "100%|██████████| 1/1 [00:04<00:00,  4.05s/it]\u001b[A\u001b[A\n",
      "\n",
      "  4%|▍         | 424/10000 [3:34:43<56:54:31, 21.39s/it]\u001b[A\n",
      "\n",
      "  0%|          | 0/1 [00:00<?, ?it/s]\u001b[A\u001b[A\n",
      "\n",
      "100%|██████████| 1/1 [00:03<00:00,  3.64s/it]\u001b[A\u001b[A\n",
      "\n",
      "  4%|▍         | 425/10000 [3:35:01<54:21:09, 20.44s/it]\u001b[A\n",
      "\n",
      "  0%|          | 0/1 [00:00<?, ?it/s]\u001b[A\u001b[A\n",
      "\n",
      "100%|██████████| 1/1 [00:02<00:00,  2.66s/it]\u001b[A\u001b[A\n",
      "\n",
      "  4%|▍         | 426/10000 [3:35:20<53:05:49, 19.97s/it]\u001b[A\n",
      "\n",
      "  0%|          | 0/1 [00:00<?, ?it/s]\u001b[A\u001b[A\n",
      "\n",
      "100%|██████████| 1/1 [00:02<00:00,  2.90s/it]\u001b[A\u001b[A\n",
      "\n",
      "  4%|▍         | 427/10000 [3:35:42<54:15:54, 20.41s/it]\u001b[A\n",
      "\n",
      "  0%|          | 0/1 [00:00<?, ?it/s]\u001b[A\u001b[A\n",
      "\n",
      "100%|██████████| 1/1 [00:04<00:00,  5.00s/it]\u001b[A\u001b[A\n",
      "\n",
      "  4%|▍         | 428/10000 [3:36:07<58:29:02, 22.00s/it]\u001b[A\n",
      "\n",
      "  0%|          | 0/1 [00:00<?, ?it/s]\u001b[A\u001b[A\n",
      "\n",
      "100%|██████████| 1/1 [00:03<00:00,  3.53s/it]\u001b[A\u001b[A\n",
      "\n",
      "  4%|▍         | 429/10000 [3:36:26<55:40:16, 20.94s/it]\u001b[A\n",
      "\n",
      "  0%|          | 0/1 [00:00<?, ?it/s]\u001b[A\u001b[A\n",
      "\n",
      "100%|██████████| 1/1 [00:02<00:00,  2.86s/it]\u001b[A\u001b[A\n",
      "\n",
      "  4%|▍         | 430/10000 [3:36:43<52:42:17, 19.83s/it]\u001b[A\n",
      "\n",
      "  0%|          | 0/1 [00:00<?, ?it/s]\u001b[A\u001b[A\n",
      "\n",
      "100%|██████████| 1/1 [00:04<00:00,  4.07s/it]\u001b[A\u001b[A\n",
      "\n",
      "  4%|▍         | 431/10000 [3:37:03<53:07:03, 19.98s/it]\u001b[A\n",
      "\n",
      "  0%|          | 0/1 [00:00<?, ?it/s]\u001b[A\u001b[A\n",
      "\n",
      "100%|██████████| 1/1 [00:05<00:00,  5.84s/it]\u001b[A\u001b[A\n",
      "\n",
      "  4%|▍         | 432/10000 [3:37:25<54:47:32, 20.62s/it]\u001b[A\n",
      "\n",
      "  0%|          | 0/1 [00:00<?, ?it/s]\u001b[A\u001b[A\n",
      "\n",
      "100%|██████████| 1/1 [00:08<00:00,  8.61s/it]\u001b[A\u001b[A\n",
      "\n",
      "  4%|▍         | 433/10000 [3:37:49<57:34:39, 21.67s/it]\u001b[A\n",
      "\n",
      "  0%|          | 0/1 [00:00<?, ?it/s]\u001b[A\u001b[A\n",
      "\n",
      "100%|██████████| 1/1 [00:03<00:00,  3.27s/it]\u001b[A\u001b[A\n",
      "\n",
      "  4%|▍         | 434/10000 [3:38:13<59:02:26, 22.22s/it]\u001b[A\n",
      "\n",
      "  0%|          | 0/1 [00:00<?, ?it/s]\u001b[A\u001b[A\n",
      "\n",
      "100%|██████████| 1/1 [00:04<00:00,  4.22s/it]\u001b[A\u001b[A\n",
      "\n",
      "  4%|▍         | 435/10000 [3:38:37<60:46:44, 22.88s/it]\u001b[A\n",
      "\n",
      "  0%|          | 0/1 [00:00<?, ?it/s]\u001b[A\u001b[A\n",
      "\n",
      "100%|██████████| 1/1 [00:02<00:00,  2.90s/it]\u001b[A\u001b[A\n",
      "\n",
      "  4%|▍         | 436/10000 [3:38:56<57:08:32, 21.51s/it]\u001b[A\n",
      "\n",
      "  0%|          | 0/1 [00:00<?, ?it/s]\u001b[A\u001b[A\n",
      "\n",
      "100%|██████████| 1/1 [00:03<00:00,  3.87s/it]\u001b[A\u001b[A\n",
      "\n",
      "  4%|▍         | 437/10000 [3:39:16<56:07:16, 21.13s/it]\u001b[A\n",
      "\n",
      "  0%|          | 0/1 [00:00<?, ?it/s]\u001b[A\u001b[A\n",
      "\n",
      "100%|██████████| 1/1 [00:03<00:00,  3.33s/it]\u001b[A\u001b[A\n",
      "\n",
      "  4%|▍         | 438/10000 [3:39:35<54:33:23, 20.54s/it]\u001b[A\n",
      "\n",
      "  0%|          | 0/1 [00:00<?, ?it/s]\u001b[A\u001b[A\n",
      "\n",
      "100%|██████████| 1/1 [00:02<00:00,  2.75s/it]\u001b[A\u001b[A\n",
      "\n",
      "  4%|▍         | 439/10000 [3:39:53<52:02:39, 19.60s/it]\u001b[A\n",
      "\n",
      "  0%|          | 0/1 [00:00<?, ?it/s]\u001b[A\u001b[A\n",
      "\n",
      "100%|██████████| 1/1 [00:02<00:00,  2.91s/it]\u001b[A\u001b[A\n",
      "\n",
      "  4%|▍         | 440/10000 [3:40:11<51:23:04, 19.35s/it]\u001b[A\n",
      "\n",
      "  0%|          | 0/1 [00:00<?, ?it/s]\u001b[A\u001b[A\n",
      "\n",
      "100%|██████████| 1/1 [00:04<00:00,  4.62s/it]\u001b[A\u001b[A\n"
     ]
    },
    {
     "name": "stdout",
     "output_type": "stream",
     "text": [
      "\n",
      "Epoch: 441, Loss: 0.3819, Val: 0.7129, Test: 0.7138\n"
     ]
    },
    {
     "name": "stderr",
     "output_type": "stream",
     "text": [
      "\n",
      "  4%|▍         | 441/10000 [3:41:01<75:17:42, 28.36s/it]\u001b[A\n",
      "\n",
      "  0%|          | 0/1 [00:00<?, ?it/s]\u001b[A\u001b[A\n",
      "\n",
      "100%|██████████| 1/1 [00:03<00:00,  3.41s/it]\u001b[A\u001b[A\n"
     ]
    },
    {
     "name": "stdout",
     "output_type": "stream",
     "text": [
      "\n",
      "Epoch: 442, Loss: 0.3804, Val: 0.7130, Test: 0.7138\n"
     ]
    },
    {
     "name": "stderr",
     "output_type": "stream",
     "text": [
      "\n",
      "  4%|▍         | 442/10000 [3:41:41<84:55:32, 31.99s/it]\u001b[A\n",
      "\n",
      "  0%|          | 0/1 [00:00<?, ?it/s]\u001b[A\u001b[A\n",
      "\n",
      "100%|██████████| 1/1 [00:07<00:00,  7.24s/it]\u001b[A\u001b[A\n",
      "\n",
      "  4%|▍         | 443/10000 [3:42:04<77:48:33, 29.31s/it]\u001b[A\n",
      "\n",
      "  0%|          | 0/1 [00:00<?, ?it/s]\u001b[A\u001b[A\n",
      "\n",
      "100%|██████████| 1/1 [00:02<00:00,  2.70s/it]\u001b[A\u001b[A\n"
     ]
    },
    {
     "name": "stdout",
     "output_type": "stream",
     "text": [
      "\n",
      "Epoch: 444, Loss: 0.3808, Val: 0.7131, Test: 0.7137\n"
     ]
    },
    {
     "name": "stderr",
     "output_type": "stream",
     "text": [
      "\n",
      "  4%|▍         | 444/10000 [3:42:40<83:14:35, 31.36s/it]\u001b[A\n",
      "\n",
      "  0%|          | 0/1 [00:00<?, ?it/s]\u001b[A\u001b[A\n",
      "\n",
      "100%|██████████| 1/1 [00:05<00:00,  5.29s/it]\u001b[A\u001b[A\n"
     ]
    },
    {
     "name": "stdout",
     "output_type": "stream",
     "text": [
      "\n",
      "Epoch: 445, Loss: 0.3812, Val: 0.7132, Test: 0.7137\n"
     ]
    },
    {
     "name": "stderr",
     "output_type": "stream",
     "text": [
      "\n",
      "  4%|▍         | 445/10000 [3:43:26<94:16:50, 35.52s/it]\u001b[A\n",
      "\n",
      "  0%|          | 0/1 [00:00<?, ?it/s]\u001b[A\u001b[A\n",
      "\n",
      "100%|██████████| 1/1 [00:02<00:00,  2.67s/it]\u001b[A\u001b[A\n",
      "\n",
      "  4%|▍         | 446/10000 [3:43:43<79:56:30, 30.12s/it]\u001b[A\n",
      "\n",
      "  0%|          | 0/1 [00:00<?, ?it/s]\u001b[A\u001b[A\n",
      "\n",
      "100%|██████████| 1/1 [00:02<00:00,  2.98s/it]\u001b[A\u001b[A\n",
      "\n",
      "  4%|▍         | 447/10000 [3:44:02<71:11:36, 26.83s/it]\u001b[A\n",
      "\n",
      "  0%|          | 0/1 [00:00<?, ?it/s]\u001b[A\u001b[A\n",
      "\n",
      "100%|██████████| 1/1 [00:04<00:00,  4.44s/it]\u001b[A\u001b[A\n",
      "\n",
      "  4%|▍         | 448/10000 [3:44:25<68:18:37, 25.75s/it]\u001b[A\n",
      "\n",
      "  0%|          | 0/1 [00:00<?, ?it/s]\u001b[A\u001b[A\n",
      "\n",
      "100%|██████████| 1/1 [00:02<00:00,  2.82s/it]\u001b[A\u001b[A\n",
      "\n",
      "  4%|▍         | 449/10000 [3:44:42<61:18:44, 23.11s/it]\u001b[A\n",
      "\n",
      "  0%|          | 0/1 [00:00<?, ?it/s]\u001b[A\u001b[A\n",
      "\n",
      "100%|██████████| 1/1 [00:02<00:00,  2.66s/it]\u001b[A\u001b[A\n",
      "\n",
      "  4%|▍         | 450/10000 [3:45:00<57:15:48, 21.59s/it]\u001b[A\n",
      "\n",
      "  0%|          | 0/1 [00:00<?, ?it/s]\u001b[A\u001b[A\n",
      "\n",
      "100%|██████████| 1/1 [00:05<00:00,  5.80s/it]\u001b[A\u001b[A\n",
      "\n",
      "  5%|▍         | 451/10000 [3:45:27<61:04:36, 23.03s/it]\u001b[A\n",
      "\n",
      "  0%|          | 0/1 [00:00<?, ?it/s]\u001b[A\u001b[A\n",
      "\n",
      "100%|██████████| 1/1 [00:04<00:00,  4.42s/it]\u001b[A\u001b[A\n",
      "\n",
      "  5%|▍         | 452/10000 [3:45:50<61:13:22, 23.08s/it]\u001b[A\n",
      "\n",
      "  0%|          | 0/1 [00:00<?, ?it/s]\u001b[A\u001b[A\n",
      "\n",
      "100%|██████████| 1/1 [00:06<00:00,  6.74s/it]\u001b[A\u001b[A\n",
      "\n",
      "  5%|▍         | 453/10000 [3:46:15<62:41:14, 23.64s/it]\u001b[A\n",
      "\n",
      "  0%|          | 0/1 [00:00<?, ?it/s]\u001b[A\u001b[A\n",
      "\n",
      "100%|██████████| 1/1 [00:03<00:00,  3.75s/it]\u001b[A\u001b[A\n",
      "\n",
      "  5%|▍         | 454/10000 [3:46:36<60:17:33, 22.74s/it]\u001b[A\n",
      "\n",
      "  0%|          | 0/1 [00:00<?, ?it/s]\u001b[A\u001b[A\n",
      "\n",
      "100%|██████████| 1/1 [00:03<00:00,  3.25s/it]\u001b[A\u001b[A\n",
      "\n",
      "  5%|▍         | 455/10000 [3:46:54<56:44:45, 21.40s/it]\u001b[A\n",
      "\n",
      "  0%|          | 0/1 [00:00<?, ?it/s]\u001b[A\u001b[A\n",
      "\n",
      "100%|██████████| 1/1 [00:03<00:00,  3.06s/it]\u001b[A\u001b[A\n",
      "\n",
      "  5%|▍         | 456/10000 [3:47:12<54:12:16, 20.45s/it]\u001b[A\n",
      "\n",
      "  0%|          | 0/1 [00:00<?, ?it/s]\u001b[A\u001b[A\n",
      "\n",
      "100%|██████████| 1/1 [00:02<00:00,  2.95s/it]\u001b[A\u001b[A\n",
      "\n",
      "  5%|▍         | 457/10000 [3:47:33<54:25:34, 20.53s/it]\u001b[A\n",
      "\n",
      "  0%|          | 0/1 [00:00<?, ?it/s]\u001b[A\u001b[A\n",
      "\n",
      "100%|██████████| 1/1 [00:05<00:00,  5.23s/it]\u001b[A\u001b[A\n",
      "\n",
      "  5%|▍         | 458/10000 [3:48:02<60:54:26, 22.98s/it]\u001b[A\n",
      "\n",
      "  0%|          | 0/1 [00:00<?, ?it/s]\u001b[A\u001b[A\n",
      "\n",
      "100%|██████████| 1/1 [00:04<00:00,  4.30s/it]\u001b[A\u001b[A\n",
      "\n",
      "  5%|▍         | 459/10000 [3:48:20<57:33:03, 21.72s/it]\u001b[A\n",
      "\n",
      "  0%|          | 0/1 [00:00<?, ?it/s]\u001b[A\u001b[A\n",
      "\n",
      "100%|██████████| 1/1 [00:02<00:00,  2.61s/it]\u001b[A\u001b[A\n",
      "\n",
      "  5%|▍         | 460/10000 [3:48:38<54:31:47, 20.58s/it]\u001b[A\n",
      "\n",
      "  0%|          | 0/1 [00:00<?, ?it/s]\u001b[A\u001b[A\n",
      "\n",
      "100%|██████████| 1/1 [00:03<00:00,  3.97s/it]\u001b[A\u001b[A\n",
      "\n",
      "  5%|▍         | 461/10000 [3:48:58<53:50:29, 20.32s/it]\u001b[A\n",
      "\n",
      "  0%|          | 0/1 [00:00<?, ?it/s]\u001b[A\u001b[A\n",
      "\n",
      "100%|██████████| 1/1 [00:03<00:00,  3.26s/it]\u001b[A\u001b[A\n",
      "\n",
      "  5%|▍         | 462/10000 [3:49:16<52:19:14, 19.75s/it]\u001b[A\n",
      "\n",
      "  0%|          | 0/1 [00:00<?, ?it/s]\u001b[A\u001b[A\n",
      "\n",
      "100%|██████████| 1/1 [00:02<00:00,  2.47s/it]\u001b[A\u001b[A\n",
      "\n",
      "  5%|▍         | 463/10000 [3:49:34<50:57:22, 19.23s/it]\u001b[A\n",
      "\n",
      "  0%|          | 0/1 [00:00<?, ?it/s]\u001b[A\u001b[A\n",
      "\n",
      "100%|██████████| 1/1 [00:06<00:00,  6.21s/it]\u001b[A\u001b[A\n",
      "\n",
      "  5%|▍         | 464/10000 [3:50:02<57:42:59, 21.79s/it]\u001b[A\n",
      "\n",
      "  0%|          | 0/1 [00:00<?, ?it/s]\u001b[A\u001b[A\n",
      "\n",
      "100%|██████████| 1/1 [00:10<00:00, 10.40s/it]\u001b[A\u001b[A\n",
      "\n",
      "  5%|▍         | 465/10000 [3:50:30<62:46:20, 23.70s/it]\u001b[A\n",
      "\n",
      "  0%|          | 0/1 [00:00<?, ?it/s]\u001b[A\u001b[A\n",
      "\n",
      "100%|██████████| 1/1 [00:03<00:00,  3.51s/it]\u001b[A\u001b[A\n",
      "\n",
      "  5%|▍         | 466/10000 [3:50:47<57:19:48, 21.65s/it]\u001b[A\n",
      "\n",
      "  0%|          | 0/1 [00:00<?, ?it/s]\u001b[A\u001b[A\n",
      "\n",
      "100%|██████████| 1/1 [00:02<00:00,  2.66s/it]\u001b[A\u001b[A\n",
      "\n",
      "  5%|▍         | 467/10000 [3:51:05<54:25:49, 20.55s/it]\u001b[A\n",
      "\n",
      "  0%|          | 0/1 [00:00<?, ?it/s]\u001b[A\u001b[A\n",
      "\n",
      "100%|██████████| 1/1 [00:03<00:00,  3.80s/it]\u001b[A\u001b[A\n",
      "\n",
      "  5%|▍         | 468/10000 [3:51:25<53:32:11, 20.22s/it]\u001b[A\n",
      "\n",
      "  0%|          | 0/1 [00:00<?, ?it/s]\u001b[A\u001b[A\n",
      "\n",
      "100%|██████████| 1/1 [00:06<00:00,  6.45s/it]\u001b[A\u001b[A\n",
      "\n",
      "  5%|▍         | 469/10000 [3:51:46<54:45:08, 20.68s/it]\u001b[A\n",
      "\n",
      "  0%|          | 0/1 [00:00<?, ?it/s]\u001b[A\u001b[A\n",
      "\n",
      "100%|██████████| 1/1 [00:02<00:00,  2.92s/it]\u001b[A\u001b[A\n",
      "\n",
      "  5%|▍         | 470/10000 [3:52:04<52:07:45, 19.69s/it]\u001b[A\n",
      "\n",
      "  0%|          | 0/1 [00:00<?, ?it/s]\u001b[A\u001b[A\n",
      "\n",
      "100%|██████████| 1/1 [00:03<00:00,  3.63s/it]\u001b[A\u001b[A\n",
      "\n",
      "  5%|▍         | 471/10000 [3:52:27<55:11:49, 20.85s/it]\u001b[A\n",
      "\n",
      "  0%|          | 0/1 [00:00<?, ?it/s]\u001b[A\u001b[A\n",
      "\n",
      "100%|██████████| 1/1 [00:04<00:00,  4.71s/it]\u001b[A\u001b[A\n",
      "\n",
      "  5%|▍         | 472/10000 [3:52:52<57:55:22, 21.89s/it]\u001b[A\n",
      "\n",
      "  0%|          | 0/1 [00:00<?, ?it/s]\u001b[A\u001b[A\n",
      "\n",
      "100%|██████████| 1/1 [00:03<00:00,  3.16s/it]\u001b[A\u001b[A\n",
      "\n",
      "  5%|▍         | 473/10000 [3:53:09<54:32:38, 20.61s/it]\u001b[A\n",
      "\n",
      "  0%|          | 0/1 [00:00<?, ?it/s]\u001b[A\u001b[A\n",
      "\n",
      "100%|██████████| 1/1 [00:05<00:00,  5.27s/it]\u001b[A\u001b[A\n",
      "\n",
      "  5%|▍         | 474/10000 [3:53:33<57:18:20, 21.66s/it]\u001b[A\n",
      "\n",
      "  0%|          | 0/1 [00:00<?, ?it/s]\u001b[A\u001b[A\n",
      "\n",
      "100%|██████████| 1/1 [00:03<00:00,  3.97s/it]\u001b[A\u001b[A\n",
      "\n",
      "  5%|▍         | 475/10000 [3:53:53<55:36:38, 21.02s/it]\u001b[A\n",
      "\n",
      "  0%|          | 0/1 [00:00<?, ?it/s]\u001b[A\u001b[A\n",
      "\n",
      "100%|██████████| 1/1 [00:03<00:00,  3.30s/it]\u001b[A\u001b[A\n",
      "\n",
      "  5%|▍         | 476/10000 [3:54:12<53:46:40, 20.33s/it]\u001b[A\n",
      "\n",
      "  0%|          | 0/1 [00:00<?, ?it/s]\u001b[A\u001b[A\n",
      "\n",
      "100%|██████████| 1/1 [00:11<00:00, 11.86s/it]\u001b[A\u001b[A\n",
      "\n",
      "  5%|▍         | 477/10000 [3:54:43<62:36:59, 23.67s/it]\u001b[A\n",
      "\n",
      "  0%|          | 0/1 [00:00<?, ?it/s]\u001b[A\u001b[A\n",
      "\n",
      "100%|██████████| 1/1 [00:04<00:00,  4.72s/it]\u001b[A\u001b[A\n",
      "\n",
      "  5%|▍         | 478/10000 [3:55:09<64:04:44, 24.23s/it]\u001b[A\n",
      "\n",
      "  0%|          | 0/1 [00:00<?, ?it/s]\u001b[A\u001b[A\n",
      "\n",
      "100%|██████████| 1/1 [00:04<00:00,  4.66s/it]\u001b[A\u001b[A\n",
      "\n",
      "  5%|▍         | 479/10000 [3:55:29<61:10:45, 23.13s/it]\u001b[A\n",
      "\n",
      "  0%|          | 0/1 [00:00<?, ?it/s]\u001b[A\u001b[A\n",
      "\n",
      "100%|██████████| 1/1 [00:03<00:00,  3.26s/it]\u001b[A\u001b[A\n",
      "\n",
      "  5%|▍         | 480/10000 [3:55:47<57:21:42, 21.69s/it]\u001b[A\n",
      "\n",
      "  0%|          | 0/1 [00:00<?, ?it/s]\u001b[A\u001b[A\n",
      "\n",
      "100%|██████████| 1/1 [00:03<00:00,  3.64s/it]\u001b[A\u001b[A\n",
      "\n",
      "  5%|▍         | 481/10000 [3:56:08<56:11:03, 21.25s/it]\u001b[A\n",
      "\n",
      "  0%|          | 0/1 [00:00<?, ?it/s]\u001b[A\u001b[A\n",
      "\n",
      "100%|██████████| 1/1 [00:03<00:00,  3.57s/it]\u001b[A\u001b[A\n",
      "\n",
      "  5%|▍         | 482/10000 [3:56:26<53:31:58, 20.25s/it]\u001b[A\n",
      "\n",
      "  0%|          | 0/1 [00:00<?, ?it/s]\u001b[A\u001b[A\n",
      "\n",
      "100%|██████████| 1/1 [00:03<00:00,  3.17s/it]\u001b[A\u001b[A\n",
      "\n",
      "  5%|▍         | 483/10000 [3:56:43<51:02:49, 19.31s/it]\u001b[A\n",
      "\n",
      "  0%|          | 0/1 [00:00<?, ?it/s]\u001b[A\u001b[A\n",
      "\n",
      "100%|██████████| 1/1 [00:06<00:00,  6.04s/it]\u001b[A\u001b[A\n",
      "\n",
      "  5%|▍         | 484/10000 [3:57:12<58:50:21, 22.26s/it]\u001b[A\n",
      "\n",
      "  0%|          | 0/1 [00:00<?, ?it/s]\u001b[A\u001b[A\n",
      "\n",
      "100%|██████████| 1/1 [00:05<00:00,  5.04s/it]\u001b[A\u001b[A\n",
      "\n",
      "  5%|▍         | 485/10000 [3:57:36<60:28:24, 22.88s/it]\u001b[A\n",
      "\n",
      "  0%|          | 0/1 [00:00<?, ?it/s]\u001b[A\u001b[A\n",
      "\n",
      "100%|██████████| 1/1 [00:03<00:00,  3.17s/it]\u001b[A\u001b[A\n",
      "\n",
      "  5%|▍         | 486/10000 [3:57:54<56:14:31, 21.28s/it]\u001b[A\n",
      "\n",
      "  0%|          | 0/1 [00:00<?, ?it/s]\u001b[A\u001b[A\n",
      "\n",
      "100%|██████████| 1/1 [00:03<00:00,  3.10s/it]\u001b[A\u001b[A\n",
      "\n",
      "  5%|▍         | 487/10000 [3:58:13<54:29:01, 20.62s/it]\u001b[A\n",
      "\n",
      "  0%|          | 0/1 [00:00<?, ?it/s]\u001b[A\u001b[A\n",
      "\n",
      "100%|██████████| 1/1 [00:03<00:00,  3.48s/it]\u001b[A\u001b[A\n",
      "\n",
      "  5%|▍         | 488/10000 [3:58:34<54:36:37, 20.67s/it]\u001b[A\n",
      "\n",
      "  0%|          | 0/1 [00:00<?, ?it/s]\u001b[A\u001b[A\n",
      "\n",
      "100%|██████████| 1/1 [00:05<00:00,  5.18s/it]\u001b[A\u001b[A\n",
      "\n",
      "  5%|▍         | 489/10000 [3:58:54<54:37:23, 20.68s/it]\u001b[A\n",
      "\n",
      "  0%|          | 0/1 [00:00<?, ?it/s]\u001b[A\u001b[A\n",
      "\n",
      "100%|██████████| 1/1 [00:02<00:00,  2.15s/it]\u001b[A\u001b[A\n",
      "\n",
      "  5%|▍         | 490/10000 [3:59:12<52:00:07, 19.69s/it]\u001b[A\n",
      "\n",
      "  0%|          | 0/1 [00:00<?, ?it/s]\u001b[A\u001b[A\n",
      "\n",
      "100%|██████████| 1/1 [00:04<00:00,  4.62s/it]\u001b[A\u001b[A\n",
      "\n",
      "  5%|▍         | 491/10000 [3:59:38<57:01:07, 21.59s/it]\u001b[A\n",
      "\n",
      "  0%|          | 0/1 [00:00<?, ?it/s]\u001b[A\u001b[A\n",
      "\n",
      "100%|██████████| 1/1 [00:04<00:00,  4.56s/it]\u001b[A\u001b[A\n",
      "\n",
      "  5%|▍         | 492/10000 [3:59:58<55:59:45, 21.20s/it]\u001b[A\n",
      "\n",
      "  0%|          | 0/1 [00:00<?, ?it/s]\u001b[A\u001b[A\n",
      "\n",
      "100%|██████████| 1/1 [00:02<00:00,  2.92s/it]\u001b[A\u001b[A\n",
      "\n",
      "  5%|▍         | 493/10000 [4:00:15<52:44:12, 19.97s/it]\u001b[A\n",
      "\n",
      "  0%|          | 0/1 [00:00<?, ?it/s]\u001b[A\u001b[A\n",
      "\n",
      "100%|██████████| 1/1 [00:03<00:00,  3.19s/it]\u001b[A\u001b[A\n",
      "\n",
      "  5%|▍         | 494/10000 [4:00:37<54:07:42, 20.50s/it]\u001b[A\n",
      "\n",
      "  0%|          | 0/1 [00:00<?, ?it/s]\u001b[A\u001b[A\n",
      "\n",
      "100%|██████████| 1/1 [00:03<00:00,  3.99s/it]\u001b[A\u001b[A\n",
      "\n",
      "  5%|▍         | 495/10000 [4:00:56<52:57:08, 20.06s/it]\u001b[A\n",
      "\n",
      "  0%|          | 0/1 [00:00<?, ?it/s]\u001b[A\u001b[A\n",
      "\n",
      "100%|██████████| 1/1 [00:03<00:00,  3.23s/it]\u001b[A\u001b[A\n",
      "\n",
      "  5%|▍         | 496/10000 [4:01:14<51:35:26, 19.54s/it]\u001b[A\n",
      "\n",
      "  0%|          | 0/1 [00:00<?, ?it/s]\u001b[A\u001b[A\n",
      "\n",
      "100%|██████████| 1/1 [00:03<00:00,  3.65s/it]\u001b[A\u001b[A\n",
      "\n",
      "  5%|▍         | 497/10000 [4:01:36<53:17:32, 20.19s/it]\u001b[A\n",
      "\n",
      "  0%|          | 0/1 [00:00<?, ?it/s]\u001b[A\u001b[A\n",
      "\n",
      "100%|██████████| 1/1 [00:05<00:00,  5.57s/it]\u001b[A\u001b[A\n",
      "\n",
      "  5%|▍         | 498/10000 [4:01:59<55:58:45, 21.21s/it]\u001b[A\n",
      "\n",
      "  0%|          | 0/1 [00:00<?, ?it/s]\u001b[A\u001b[A\n",
      "\n",
      "100%|██████████| 1/1 [00:04<00:00,  4.46s/it]\u001b[A\u001b[A\n",
      "\n",
      "  5%|▍         | 499/10000 [4:02:22<56:58:31, 21.59s/it]\u001b[A\n",
      "\n",
      "  0%|          | 0/1 [00:00<?, ?it/s]\u001b[A\u001b[A\n",
      "\n",
      "100%|██████████| 1/1 [00:03<00:00,  3.27s/it]\u001b[A\u001b[A\n",
      "\n",
      "  5%|▌         | 500/10000 [4:02:41<54:40:34, 20.72s/it]\u001b[A\n",
      "\n",
      "  0%|          | 0/1 [00:00<?, ?it/s]\u001b[A\u001b[A\n",
      "\n",
      "100%|██████████| 1/1 [00:05<00:00,  5.01s/it]\u001b[A\u001b[A\n",
      "\n",
      "  5%|▌         | 501/10000 [4:03:01<54:44:29, 20.75s/it]\u001b[A\n",
      "\n",
      "  0%|          | 0/1 [00:00<?, ?it/s]\u001b[A\u001b[A\n",
      "\n",
      "100%|██████████| 1/1 [00:03<00:00,  3.18s/it]\u001b[A\u001b[A\n",
      "\n",
      "  5%|▌         | 502/10000 [4:03:21<53:57:01, 20.45s/it]\u001b[A\n",
      "\n",
      "  0%|          | 0/1 [00:00<?, ?it/s]\u001b[A\u001b[A\n",
      "\n",
      "100%|██████████| 1/1 [00:03<00:00,  3.49s/it]\u001b[A\u001b[A\n",
      "\n",
      "  5%|▌         | 503/10000 [4:03:38<51:21:17, 19.47s/it]\u001b[A\n",
      "\n",
      "  0%|          | 0/1 [00:00<?, ?it/s]\u001b[A\u001b[A\n",
      "\n",
      "100%|██████████| 1/1 [00:03<00:00,  3.37s/it]\u001b[A\u001b[A\n",
      "\n",
      "  5%|▌         | 504/10000 [4:04:03<55:01:10, 20.86s/it]\u001b[A\n",
      "\n",
      "  0%|          | 0/1 [00:00<?, ?it/s]\u001b[A\u001b[A\n",
      "\n",
      "100%|██████████| 1/1 [00:05<00:00,  5.02s/it]\u001b[A\u001b[A\n",
      "\n",
      "  5%|▌         | 505/10000 [4:04:30<59:57:58, 22.74s/it]\u001b[A\n",
      "\n",
      "  0%|          | 0/1 [00:00<?, ?it/s]\u001b[A\u001b[A\n",
      "\n",
      "100%|██████████| 1/1 [00:03<00:00,  3.93s/it]\u001b[A\u001b[A\n",
      "\n",
      "  5%|▌         | 506/10000 [4:04:48<56:50:51, 21.56s/it]\u001b[A\n",
      "\n",
      "  0%|          | 0/1 [00:00<?, ?it/s]\u001b[A\u001b[A\n",
      "\n",
      "100%|██████████| 1/1 [00:03<00:00,  3.19s/it]\u001b[A\u001b[A\n",
      "\n",
      "  5%|▌         | 507/10000 [4:05:07<54:41:22, 20.74s/it]\u001b[A\n",
      "\n",
      "  0%|          | 0/1 [00:00<?, ?it/s]\u001b[A\u001b[A\n",
      "\n",
      "100%|██████████| 1/1 [00:03<00:00,  3.90s/it]\u001b[A\u001b[A\n",
      "\n",
      "  5%|▌         | 508/10000 [4:05:28<54:24:43, 20.64s/it]\u001b[A\n",
      "\n",
      "  0%|          | 0/1 [00:00<?, ?it/s]\u001b[A\u001b[A\n",
      "\n",
      "100%|██████████| 1/1 [00:04<00:00,  4.51s/it]\u001b[A\u001b[A\n",
      "\n",
      "  5%|▌         | 509/10000 [4:05:51<56:40:01, 21.49s/it]\u001b[A\n",
      "\n",
      "  0%|          | 0/1 [00:00<?, ?it/s]\u001b[A\u001b[A\n",
      "\n",
      "100%|██████████| 1/1 [00:03<00:00,  3.46s/it]\u001b[A\u001b[A\n",
      "\n",
      "  5%|▌         | 510/10000 [4:06:11<55:26:54, 21.03s/it]\u001b[A\n",
      "\n",
      "  0%|          | 0/1 [00:00<?, ?it/s]\u001b[A\u001b[A\n",
      "\n",
      "100%|██████████| 1/1 [00:05<00:00,  5.15s/it]\u001b[A\u001b[A\n",
      "\n",
      "  5%|▌         | 511/10000 [4:06:36<58:18:35, 22.12s/it]\u001b[A\n",
      "\n",
      "  0%|          | 0/1 [00:00<?, ?it/s]\u001b[A\u001b[A\n",
      "\n",
      "100%|██████████| 1/1 [00:04<00:00,  4.87s/it]\u001b[A\u001b[A\n",
      "\n",
      "  5%|▌         | 512/10000 [4:07:01<60:34:42, 22.99s/it]\u001b[A\n",
      "\n",
      "  0%|          | 0/1 [00:00<?, ?it/s]\u001b[A\u001b[A\n",
      "\n",
      "100%|██████████| 1/1 [00:03<00:00,  3.49s/it]\u001b[A\u001b[A\n",
      "\n",
      "  5%|▌         | 513/10000 [4:07:19<56:57:53, 21.62s/it]\u001b[A\n",
      "\n",
      "  0%|          | 0/1 [00:00<?, ?it/s]\u001b[A\u001b[A\n",
      "\n",
      "100%|██████████| 1/1 [00:02<00:00,  2.44s/it]\u001b[A\u001b[A\n",
      "\n",
      "  5%|▌         | 514/10000 [4:07:39<55:29:48, 21.06s/it]\u001b[A\n",
      "\n",
      "  0%|          | 0/1 [00:00<?, ?it/s]\u001b[A\u001b[A\n",
      "\n",
      "100%|██████████| 1/1 [00:03<00:00,  3.53s/it]\u001b[A\u001b[A\n",
      "\n",
      "  5%|▌         | 515/10000 [4:07:58<54:07:54, 20.55s/it]\u001b[A\n",
      "\n",
      "  0%|          | 0/1 [00:00<?, ?it/s]\u001b[A\u001b[A\n",
      "\n",
      "100%|██████████| 1/1 [00:03<00:00,  3.38s/it]\u001b[A\u001b[A\n",
      "\n",
      "  5%|▌         | 516/10000 [4:08:17<52:52:26, 20.07s/it]\u001b[A\n",
      "\n",
      "  0%|          | 0/1 [00:00<?, ?it/s]\u001b[A\u001b[A\n",
      "\n",
      "100%|██████████| 1/1 [00:03<00:00,  3.00s/it]\u001b[A\u001b[A\n",
      "\n",
      "  5%|▌         | 517/10000 [4:08:37<52:17:03, 19.85s/it]\u001b[A\n",
      "\n",
      "  0%|          | 0/1 [00:00<?, ?it/s]\u001b[A\u001b[A\n",
      "\n",
      "100%|██████████| 1/1 [00:05<00:00,  5.54s/it]\u001b[A\u001b[A\n",
      "\n",
      "  5%|▌         | 518/10000 [4:09:03<57:33:45, 21.85s/it]\u001b[A\n",
      "\n",
      "  0%|          | 0/1 [00:00<?, ?it/s]\u001b[A\u001b[A\n",
      "\n",
      "100%|██████████| 1/1 [00:06<00:00,  6.09s/it]\u001b[A\u001b[A\n",
      "\n",
      "  5%|▌         | 519/10000 [4:09:27<59:14:30, 22.49s/it]\u001b[A\n",
      "\n",
      "  0%|          | 0/1 [00:00<?, ?it/s]\u001b[A\u001b[A\n",
      "\n",
      "100%|██████████| 1/1 [00:03<00:00,  3.28s/it]\u001b[A\u001b[A\n",
      "\n",
      "  5%|▌         | 520/10000 [4:09:45<55:21:08, 21.02s/it]\u001b[A\n",
      "\n",
      "  0%|          | 0/1 [00:00<?, ?it/s]\u001b[A\u001b[A\n",
      "\n",
      "100%|██████████| 1/1 [00:02<00:00,  2.89s/it]\u001b[A\u001b[A\n",
      "\n",
      "  5%|▌         | 521/10000 [4:10:04<53:49:14, 20.44s/it]\u001b[A\n",
      "\n",
      "  0%|          | 0/1 [00:00<?, ?it/s]\u001b[A\u001b[A\n",
      "\n",
      "100%|██████████| 1/1 [00:03<00:00,  3.67s/it]\u001b[A\u001b[A\n",
      "\n",
      "  5%|▌         | 522/10000 [4:10:23<52:59:27, 20.13s/it]\u001b[A\n",
      "\n",
      "  0%|          | 0/1 [00:00<?, ?it/s]\u001b[A\u001b[A\n",
      "\n",
      "100%|██████████| 1/1 [00:02<00:00,  2.85s/it]\u001b[A\u001b[A\n",
      "\n",
      "  5%|▌         | 523/10000 [4:10:41<51:14:20, 19.46s/it]\u001b[A\n",
      "\n",
      "  0%|          | 0/1 [00:00<?, ?it/s]\u001b[A\u001b[A\n",
      "\n",
      "100%|██████████| 1/1 [00:02<00:00,  2.90s/it]\u001b[A\u001b[A\n",
      "\n",
      "  5%|▌         | 524/10000 [4:11:02<52:28:31, 19.94s/it]\u001b[A\n",
      "\n",
      "  0%|          | 0/1 [00:00<?, ?it/s]\u001b[A\u001b[A\n",
      "\n",
      "100%|██████████| 1/1 [00:07<00:00,  7.39s/it]\u001b[A\u001b[A\n",
      "\n",
      "  5%|▌         | 525/10000 [4:11:30<58:31:13, 22.23s/it]\u001b[A\n",
      "\n",
      "  0%|          | 0/1 [00:00<?, ?it/s]\u001b[A\u001b[A\n",
      "\n",
      "100%|██████████| 1/1 [00:04<00:00,  4.01s/it]\u001b[A\u001b[A\n",
      "\n",
      "  5%|▌         | 526/10000 [4:11:49<56:22:59, 21.42s/it]\u001b[A\n",
      "\n",
      "  0%|          | 0/1 [00:00<?, ?it/s]\u001b[A\u001b[A\n",
      "\n",
      "100%|██████████| 1/1 [00:02<00:00,  2.46s/it]\u001b[A\u001b[A\n",
      "\n",
      "  5%|▌         | 527/10000 [4:12:07<53:10:41, 20.21s/it]\u001b[A\n",
      "\n",
      "  0%|          | 0/1 [00:00<?, ?it/s]\u001b[A\u001b[A\n",
      "\n",
      "100%|██████████| 1/1 [00:02<00:00,  2.98s/it]\u001b[A\u001b[A\n",
      "\n",
      "  5%|▌         | 528/10000 [4:12:26<52:11:41, 19.84s/it]\u001b[A\n",
      "\n",
      "  0%|          | 0/1 [00:00<?, ?it/s]\u001b[A\u001b[A\n",
      "\n",
      "100%|██████████| 1/1 [00:03<00:00,  3.82s/it]\u001b[A\u001b[A\n",
      "\n",
      "  5%|▌         | 529/10000 [4:12:46<52:44:04, 20.04s/it]\u001b[A\n",
      "\n",
      "  0%|          | 0/1 [00:00<?, ?it/s]\u001b[A\u001b[A\n",
      "\n",
      "100%|██████████| 1/1 [00:03<00:00,  3.77s/it]\u001b[A\u001b[A\n",
      "\n",
      "  5%|▌         | 530/10000 [4:13:04<51:01:05, 19.39s/it]\u001b[A\n",
      "\n",
      "  0%|          | 0/1 [00:00<?, ?it/s]\u001b[A\u001b[A\n",
      "\n",
      "100%|██████████| 1/1 [00:03<00:00,  3.73s/it]\u001b[A\u001b[A\n",
      "\n",
      "  5%|▌         | 531/10000 [4:13:26<52:44:44, 20.05s/it]\u001b[A\n",
      "\n",
      "  0%|          | 0/1 [00:00<?, ?it/s]\u001b[A\u001b[A\n",
      "\n",
      "100%|██████████| 1/1 [00:04<00:00,  4.46s/it]\u001b[A\u001b[A\n",
      "\n",
      "  5%|▌         | 532/10000 [4:13:48<54:26:51, 20.70s/it]\u001b[A\n",
      "\n",
      "  0%|          | 0/1 [00:00<?, ?it/s]\u001b[A\u001b[A\n",
      "\n",
      "100%|██████████| 1/1 [00:03<00:00,  3.15s/it]\u001b[A\u001b[A\n",
      "\n",
      "  5%|▌         | 533/10000 [4:14:06<52:07:06, 19.82s/it]\u001b[A\n",
      "\n",
      "  0%|          | 0/1 [00:00<?, ?it/s]\u001b[A\u001b[A\n",
      "\n",
      "100%|██████████| 1/1 [00:03<00:00,  3.48s/it]\u001b[A\u001b[A\n",
      "\n",
      "  5%|▌         | 534/10000 [4:14:25<51:44:55, 19.68s/it]\u001b[A\n",
      "\n",
      "  0%|          | 0/1 [00:00<?, ?it/s]\u001b[A\u001b[A\n",
      "\n",
      "100%|██████████| 1/1 [00:03<00:00,  3.64s/it]\u001b[A\u001b[A\n",
      "\n",
      "  5%|▌         | 535/10000 [4:14:47<53:46:26, 20.45s/it]\u001b[A\n",
      "\n",
      "  0%|          | 0/1 [00:00<?, ?it/s]\u001b[A\u001b[A\n",
      "\n",
      "100%|██████████| 1/1 [00:02<00:00,  2.94s/it]\u001b[A\u001b[A\n",
      "\n",
      "  5%|▌         | 536/10000 [4:15:05<51:23:04, 19.55s/it]\u001b[A\n",
      "\n",
      "  0%|          | 0/1 [00:00<?, ?it/s]\u001b[A\u001b[A\n",
      "\n",
      "100%|██████████| 1/1 [00:02<00:00,  2.51s/it]\u001b[A\u001b[A\n",
      "\n",
      "  5%|▌         | 537/10000 [4:15:23<50:30:08, 19.21s/it]\u001b[A\n",
      "\n",
      "  0%|          | 0/1 [00:00<?, ?it/s]\u001b[A\u001b[A\n",
      "\n",
      "100%|██████████| 1/1 [00:06<00:00,  6.67s/it]\u001b[A\u001b[A\n",
      "\n",
      "  5%|▌         | 538/10000 [4:15:49<56:02:50, 21.32s/it]\u001b[A\n",
      "\n",
      "  0%|          | 0/1 [00:00<?, ?it/s]\u001b[A\u001b[A\n",
      "\n",
      "100%|██████████| 1/1 [00:04<00:00,  4.06s/it]\u001b[A\u001b[A\n",
      "\n",
      "  5%|▌         | 539/10000 [4:16:12<57:01:07, 21.70s/it]\u001b[A\n",
      "\n",
      "  0%|          | 0/1 [00:00<?, ?it/s]\u001b[A\u001b[A\n",
      "\n",
      "100%|██████████| 1/1 [00:02<00:00,  2.94s/it]\u001b[A\u001b[A\n",
      "\n",
      "  5%|▌         | 540/10000 [4:16:31<54:40:42, 20.81s/it]\u001b[A\n",
      "\n",
      "  0%|          | 0/1 [00:00<?, ?it/s]\u001b[A\u001b[A\n",
      "\n",
      "100%|██████████| 1/1 [00:02<00:00,  2.91s/it]\u001b[A\u001b[A\n",
      "\n",
      "  5%|▌         | 541/10000 [4:16:49<52:56:49, 20.15s/it]\u001b[A\n",
      "\n",
      "  0%|          | 0/1 [00:00<?, ?it/s]\u001b[A\u001b[A\n",
      "\n",
      "100%|██████████| 1/1 [00:03<00:00,  3.36s/it]\u001b[A\u001b[A\n",
      "\n",
      "  5%|▌         | 542/10000 [4:17:09<52:42:07, 20.06s/it]\u001b[A\n",
      "\n",
      "  0%|          | 0/1 [00:00<?, ?it/s]\u001b[A\u001b[A\n",
      "\n",
      "100%|██████████| 1/1 [00:02<00:00,  2.81s/it]\u001b[A\u001b[A\n",
      "\n",
      "  5%|▌         | 543/10000 [4:17:27<50:43:03, 19.31s/it]\u001b[A\n",
      "\n",
      "  0%|          | 0/1 [00:00<?, ?it/s]\u001b[A\u001b[A\n",
      "\n",
      "100%|██████████| 1/1 [00:03<00:00,  3.52s/it]\u001b[A\u001b[A\n",
      "\n",
      "  5%|▌         | 544/10000 [4:17:49<53:08:22, 20.23s/it]\u001b[A\n",
      "\n",
      "  0%|          | 0/1 [00:00<?, ?it/s]\u001b[A\u001b[A\n",
      "\n",
      "100%|██████████| 1/1 [00:04<00:00,  4.82s/it]\u001b[A\u001b[A\n",
      "\n",
      "  5%|▌         | 545/10000 [4:18:15<57:17:06, 21.81s/it]\u001b[A\n",
      "\n",
      "  0%|          | 0/1 [00:00<?, ?it/s]\u001b[A\u001b[A\n",
      "\n",
      "100%|██████████| 1/1 [00:04<00:00,  4.10s/it]\u001b[A\u001b[A\n",
      "\n",
      "  5%|▌         | 546/10000 [4:18:34<55:10:47, 21.01s/it]\u001b[A\n",
      "\n",
      "  0%|          | 0/1 [00:00<?, ?it/s]\u001b[A\u001b[A\n",
      "\n",
      "100%|██████████| 1/1 [00:04<00:00,  4.16s/it]\u001b[A\u001b[A\n",
      "\n",
      "  5%|▌         | 547/10000 [4:18:54<54:24:51, 20.72s/it]\u001b[A\n",
      "\n",
      "  0%|          | 0/1 [00:00<?, ?it/s]\u001b[A\u001b[A\n",
      "\n",
      "100%|██████████| 1/1 [00:03<00:00,  3.54s/it]\u001b[A\u001b[A\n",
      "\n",
      "  5%|▌         | 548/10000 [4:19:13<53:04:35, 20.22s/it]\u001b[A\n",
      "\n",
      "  0%|          | 0/1 [00:00<?, ?it/s]\u001b[A\u001b[A\n",
      "\n",
      "100%|██████████| 1/1 [00:03<00:00,  3.21s/it]\u001b[A\u001b[A\n",
      "\n",
      "  5%|▌         | 549/10000 [4:19:31<51:20:48, 19.56s/it]\u001b[A\n",
      "\n",
      "  0%|          | 0/1 [00:00<?, ?it/s]\u001b[A\u001b[A\n",
      "\n",
      "100%|██████████| 1/1 [00:06<00:00,  6.40s/it]\u001b[A\u001b[A\n",
      "\n",
      "  6%|▌         | 550/10000 [4:19:55<54:53:52, 20.91s/it]\u001b[A\n",
      "\n",
      "  0%|          | 0/1 [00:00<?, ?it/s]\u001b[A\u001b[A\n",
      "\n",
      "100%|██████████| 1/1 [00:04<00:00,  4.76s/it]\u001b[A\u001b[A\n",
      "\n",
      "  6%|▌         | 551/10000 [4:20:19<57:41:01, 21.98s/it]\u001b[A\n",
      "\n",
      "  0%|          | 0/1 [00:00<?, ?it/s]\u001b[A\u001b[A\n",
      "\n",
      "100%|██████████| 1/1 [00:03<00:00,  3.42s/it]\u001b[A\u001b[A\n",
      "\n",
      "  6%|▌         | 552/10000 [4:20:37<54:41:31, 20.84s/it]\u001b[A\n",
      "\n",
      "  0%|          | 0/1 [00:00<?, ?it/s]\u001b[A\u001b[A\n",
      "\n",
      "100%|██████████| 1/1 [00:02<00:00,  2.84s/it]\u001b[A\u001b[A\n",
      "\n",
      "  6%|▌         | 553/10000 [4:20:56<52:36:14, 20.05s/it]\u001b[A\n",
      "\n",
      "  0%|          | 0/1 [00:00<?, ?it/s]\u001b[A\u001b[A\n",
      "\n",
      "100%|██████████| 1/1 [00:03<00:00,  3.35s/it]\u001b[A\u001b[A\n",
      "\n",
      "  6%|▌         | 554/10000 [4:21:14<50:51:47, 19.38s/it]\u001b[A\n",
      "\n",
      "  0%|          | 0/1 [00:00<?, ?it/s]\u001b[A\u001b[A\n",
      "\n",
      "100%|██████████| 1/1 [00:02<00:00,  2.78s/it]\u001b[A\u001b[A\n",
      "\n",
      "  6%|▌         | 555/10000 [4:21:33<50:44:58, 19.34s/it]\u001b[A\n",
      "\n",
      "  0%|          | 0/1 [00:00<?, ?it/s]\u001b[A\u001b[A\n",
      "\n",
      "100%|██████████| 1/1 [00:03<00:00,  3.60s/it]\u001b[A\u001b[A\n",
      "\n",
      "  6%|▌         | 556/10000 [4:21:51<50:04:26, 19.09s/it]\u001b[A\n",
      "\n",
      "  0%|          | 0/1 [00:00<?, ?it/s]\u001b[A\u001b[A\n",
      "\n",
      "100%|██████████| 1/1 [00:03<00:00,  3.37s/it]\u001b[A\u001b[A\n",
      "\n",
      "  6%|▌         | 557/10000 [4:22:11<50:23:02, 19.21s/it]\u001b[A\n",
      "\n",
      "  0%|          | 0/1 [00:00<?, ?it/s]\u001b[A\u001b[A\n",
      "\n",
      "100%|██████████| 1/1 [00:04<00:00,  4.02s/it]\u001b[A\u001b[A\n",
      "\n",
      "  6%|▌         | 558/10000 [4:22:35<54:11:25, 20.66s/it]\u001b[A\n",
      "\n",
      "  0%|          | 0/1 [00:00<?, ?it/s]\u001b[A\u001b[A\n",
      "\n",
      "100%|██████████| 1/1 [00:04<00:00,  4.69s/it]\u001b[A\u001b[A\n",
      "\n",
      "  6%|▌         | 559/10000 [4:22:55<54:08:04, 20.64s/it]\u001b[A\n",
      "\n",
      "  0%|          | 0/1 [00:00<?, ?it/s]\u001b[A\u001b[A\n",
      "\n",
      "100%|██████████| 1/1 [00:02<00:00,  2.99s/it]\u001b[A\u001b[A\n",
      "\n",
      "  6%|▌         | 560/10000 [4:23:15<53:16:44, 20.32s/it]\u001b[A\n",
      "\n",
      "  0%|          | 0/1 [00:00<?, ?it/s]\u001b[A\u001b[A\n",
      "\n",
      "100%|██████████| 1/1 [00:04<00:00,  4.11s/it]\u001b[A\u001b[A\n",
      "\n",
      "  6%|▌         | 561/10000 [4:23:35<52:37:12, 20.07s/it]\u001b[A\n",
      "\n",
      "  0%|          | 0/1 [00:00<?, ?it/s]\u001b[A\u001b[A\n",
      "\n",
      "100%|██████████| 1/1 [00:10<00:00, 10.23s/it]\u001b[A\u001b[A\n",
      "\n",
      "  6%|▌         | 562/10000 [4:24:00<56:36:11, 21.59s/it]\u001b[A\n",
      "\n",
      "  0%|          | 0/1 [00:00<?, ?it/s]\u001b[A\u001b[A\n",
      "\n",
      "100%|██████████| 1/1 [00:02<00:00,  2.74s/it]\u001b[A\u001b[A\n",
      "\n",
      "  6%|▌         | 563/10000 [4:24:17<53:04:18, 20.25s/it]\u001b[A\n",
      "\n",
      "  0%|          | 0/1 [00:00<?, ?it/s]\u001b[A\u001b[A\n",
      "\n",
      "100%|██████████| 1/1 [00:04<00:00,  4.36s/it]\u001b[A\u001b[A\n",
      "\n",
      "  6%|▌         | 564/10000 [4:24:42<56:42:45, 21.64s/it]\u001b[A\n",
      "\n",
      "  0%|          | 0/1 [00:00<?, ?it/s]\u001b[A\u001b[A\n",
      "\n",
      "100%|██████████| 1/1 [00:04<00:00,  4.50s/it]\u001b[A\u001b[A\n",
      "\n",
      "  6%|▌         | 565/10000 [4:25:06<58:40:28, 22.39s/it]\u001b[A\n",
      "\n",
      "  0%|          | 0/1 [00:00<?, ?it/s]\u001b[A\u001b[A\n",
      "\n",
      "100%|██████████| 1/1 [00:02<00:00,  2.82s/it]\u001b[A\u001b[A\n",
      "\n",
      "  6%|▌         | 566/10000 [4:25:24<55:39:16, 21.24s/it]\u001b[A\n",
      "\n",
      "  0%|          | 0/1 [00:00<?, ?it/s]\u001b[A\u001b[A\n",
      "\n",
      "100%|██████████| 1/1 [00:03<00:00,  3.80s/it]\u001b[A\u001b[A\n",
      "\n",
      "  6%|▌         | 567/10000 [4:25:44<54:14:26, 20.70s/it]\u001b[A\n",
      "\n",
      "  0%|          | 0/1 [00:00<?, ?it/s]\u001b[A\u001b[A\n",
      "\n",
      "100%|██████████| 1/1 [00:03<00:00,  3.08s/it]\u001b[A\u001b[A\n",
      "\n",
      "  6%|▌         | 568/10000 [4:26:01<51:38:37, 19.71s/it]\u001b[A\n",
      "\n",
      "  0%|          | 0/1 [00:00<?, ?it/s]\u001b[A\u001b[A\n",
      "\n",
      "100%|██████████| 1/1 [00:03<00:00,  3.54s/it]\u001b[A\u001b[A\n",
      "\n",
      "  6%|▌         | 569/10000 [4:26:21<51:27:49, 19.64s/it]\u001b[A\n",
      "\n",
      "  0%|          | 0/1 [00:00<?, ?it/s]\u001b[A\u001b[A\n",
      "\n",
      "100%|██████████| 1/1 [00:04<00:00,  4.32s/it]\u001b[A\u001b[A\n",
      "\n",
      "  6%|▌         | 570/10000 [4:26:45<55:00:54, 21.00s/it]\u001b[A\n",
      "\n",
      "  0%|          | 0/1 [00:00<?, ?it/s]\u001b[A\u001b[A\n",
      "\n",
      "100%|██████████| 1/1 [00:05<00:00,  5.33s/it]\u001b[A\u001b[A\n",
      "\n",
      "  6%|▌         | 571/10000 [4:27:12<59:35:42, 22.75s/it]\u001b[A\n",
      "\n",
      "  0%|          | 0/1 [00:00<?, ?it/s]\u001b[A\u001b[A\n",
      "\n",
      "100%|██████████| 1/1 [00:05<00:00,  5.33s/it]\u001b[A\u001b[A\n",
      "\n",
      "  6%|▌         | 572/10000 [4:27:33<58:49:46, 22.46s/it]\u001b[A\n",
      "\n",
      "  0%|          | 0/1 [00:00<?, ?it/s]\u001b[A\u001b[A\n",
      "\n",
      "100%|██████████| 1/1 [00:04<00:00,  4.45s/it]\u001b[A\u001b[A\n",
      "\n",
      "  6%|▌         | 573/10000 [4:27:54<57:32:10, 21.97s/it]\u001b[A\n",
      "\n",
      "  0%|          | 0/1 [00:00<?, ?it/s]\u001b[A\u001b[A\n",
      "\n",
      "100%|██████████| 1/1 [00:03<00:00,  3.35s/it]\u001b[A\u001b[A\n",
      "\n",
      "  6%|▌         | 574/10000 [4:28:13<54:40:15, 20.88s/it]\u001b[A\n",
      "\n",
      "  0%|          | 0/1 [00:00<?, ?it/s]\u001b[A\u001b[A\n",
      "\n",
      "100%|██████████| 1/1 [00:03<00:00,  3.48s/it]\u001b[A\u001b[A\n",
      "\n",
      "  6%|▌         | 575/10000 [4:28:35<55:45:09, 21.30s/it]\u001b[A\n",
      "\n",
      "  0%|          | 0/1 [00:00<?, ?it/s]\u001b[A\u001b[A\n",
      "\n",
      "100%|██████████| 1/1 [00:03<00:00,  3.55s/it]\u001b[A\u001b[A\n",
      "\n",
      "  6%|▌         | 576/10000 [4:28:52<52:46:03, 20.16s/it]\u001b[A\n",
      "\n",
      "  0%|          | 0/1 [00:00<?, ?it/s]\u001b[A\u001b[A\n",
      "\n",
      "100%|██████████| 1/1 [00:03<00:00,  3.77s/it]\u001b[A\u001b[A\n",
      "\n",
      "  6%|▌         | 577/10000 [4:29:16<55:34:40, 21.23s/it]\u001b[A\n",
      "\n",
      "  0%|          | 0/1 [00:00<?, ?it/s]\u001b[A\u001b[A\n",
      "\n",
      "100%|██████████| 1/1 [00:05<00:00,  5.16s/it]\u001b[A\u001b[A\n",
      "\n",
      "  6%|▌         | 578/10000 [4:29:40<57:58:59, 22.15s/it]\u001b[A\n",
      "\n",
      "  0%|          | 0/1 [00:00<?, ?it/s]\u001b[A\u001b[A\n",
      "\n",
      "100%|██████████| 1/1 [00:03<00:00,  3.07s/it]\u001b[A\u001b[A\n",
      "\n",
      "  6%|▌         | 579/10000 [4:29:58<54:27:27, 20.81s/it]\u001b[A\n",
      "\n",
      "  0%|          | 0/1 [00:00<?, ?it/s]\u001b[A\u001b[A\n",
      "\n",
      "100%|██████████| 1/1 [00:03<00:00,  3.49s/it]\u001b[A\u001b[A\n",
      "\n",
      "  6%|▌         | 580/10000 [4:30:18<53:46:54, 20.55s/it]\u001b[A\n",
      "\n",
      "  0%|          | 0/1 [00:00<?, ?it/s]\u001b[A\u001b[A\n",
      "\n",
      "100%|██████████| 1/1 [00:04<00:00,  4.28s/it]\u001b[A\u001b[A\n",
      "\n",
      "  6%|▌         | 581/10000 [4:30:39<54:02:40, 20.66s/it]\u001b[A\n",
      "\n",
      "  0%|          | 0/1 [00:00<?, ?it/s]\u001b[A\u001b[A\n",
      "\n",
      "100%|██████████| 1/1 [00:02<00:00,  2.57s/it]\u001b[A\u001b[A\n",
      "\n",
      "  6%|▌         | 582/10000 [4:30:58<52:34:58, 20.10s/it]\u001b[A\n",
      "\n",
      "  0%|          | 0/1 [00:00<?, ?it/s]\u001b[A\u001b[A\n",
      "\n",
      "100%|██████████| 1/1 [00:03<00:00,  3.34s/it]\u001b[A\u001b[A\n",
      "\n",
      "  6%|▌         | 583/10000 [4:31:18<52:28:27, 20.06s/it]\u001b[A\n",
      "\n",
      "  0%|          | 0/1 [00:00<?, ?it/s]\u001b[A\u001b[A\n",
      "\n",
      "100%|██████████| 1/1 [00:04<00:00,  4.13s/it]\u001b[A\u001b[A\n",
      "\n",
      "  6%|▌         | 584/10000 [4:31:40<54:01:51, 20.66s/it]\u001b[A\n",
      "\n",
      "  0%|          | 0/1 [00:00<?, ?it/s]\u001b[A\u001b[A\n",
      "\n",
      "100%|██████████| 1/1 [00:05<00:00,  5.90s/it]\u001b[A\u001b[A\n",
      "\n",
      "  6%|▌         | 585/10000 [4:32:04<56:52:30, 21.75s/it]\u001b[A\n",
      "\n",
      "  0%|          | 0/1 [00:00<?, ?it/s]\u001b[A\u001b[A\n",
      "\n",
      "100%|██████████| 1/1 [00:09<00:00,  9.88s/it]\u001b[A\u001b[A\n",
      "\n",
      "  6%|▌         | 586/10000 [4:32:30<60:17:36, 23.06s/it]\u001b[A\n",
      "\n",
      "  0%|          | 0/1 [00:00<?, ?it/s]\u001b[A\u001b[A\n",
      "\n",
      "100%|██████████| 1/1 [00:02<00:00,  2.64s/it]\u001b[A\u001b[A\n",
      "\n",
      "  6%|▌         | 587/10000 [4:32:47<55:19:06, 21.16s/it]\u001b[A\n",
      "\n",
      "  0%|          | 0/1 [00:00<?, ?it/s]\u001b[A\u001b[A\n",
      "\n",
      "100%|██████████| 1/1 [00:03<00:00,  3.11s/it]\u001b[A\u001b[A\n",
      "\n",
      "  6%|▌         | 588/10000 [4:33:05<52:56:15, 20.25s/it]\u001b[A\n",
      "\n",
      "  0%|          | 0/1 [00:00<?, ?it/s]\u001b[A\u001b[A\n",
      "\n",
      "100%|██████████| 1/1 [00:04<00:00,  4.57s/it]\u001b[A\u001b[A\n",
      "\n",
      "  6%|▌         | 589/10000 [4:33:24<52:14:29, 19.98s/it]\u001b[A\n",
      "\n",
      "  0%|          | 0/1 [00:00<?, ?it/s]\u001b[A\u001b[A\n",
      "\n",
      "100%|██████████| 1/1 [00:02<00:00,  2.77s/it]\u001b[A\u001b[A\n",
      "\n",
      "  6%|▌         | 590/10000 [4:33:45<52:58:34, 20.27s/it]\u001b[A\n",
      "\n",
      "  0%|          | 0/1 [00:00<?, ?it/s]\u001b[A\u001b[A\n",
      "\n",
      "100%|██████████| 1/1 [00:04<00:00,  4.51s/it]\u001b[A\u001b[A\n",
      "\n",
      "  6%|▌         | 591/10000 [4:34:12<58:25:04, 22.35s/it]\u001b[A\n",
      "\n",
      "  0%|          | 0/1 [00:00<?, ?it/s]\u001b[A\u001b[A\n",
      "\n",
      "100%|██████████| 1/1 [00:03<00:00,  3.99s/it]\u001b[A\u001b[A\n",
      "\n",
      "  6%|▌         | 592/10000 [4:34:32<56:05:07, 21.46s/it]\u001b[A\n",
      "\n",
      "  0%|          | 0/1 [00:00<?, ?it/s]\u001b[A\u001b[A\n",
      "\n",
      "100%|██████████| 1/1 [00:03<00:00,  3.42s/it]\u001b[A\u001b[A\n",
      "\n",
      "  6%|▌         | 593/10000 [4:34:50<53:08:10, 20.33s/it]\u001b[A\n",
      "\n",
      "  0%|          | 0/1 [00:00<?, ?it/s]\u001b[A\u001b[A\n",
      "\n",
      "100%|██████████| 1/1 [00:04<00:00,  4.29s/it]\u001b[A\u001b[A\n",
      "\n",
      "  6%|▌         | 594/10000 [4:35:11<53:46:10, 20.58s/it]\u001b[A\n",
      "\n",
      "  0%|          | 0/1 [00:00<?, ?it/s]\u001b[A\u001b[A\n",
      "\n",
      "100%|██████████| 1/1 [00:04<00:00,  4.46s/it]\u001b[A\u001b[A\n",
      "\n",
      "  6%|▌         | 595/10000 [4:35:31<53:22:25, 20.43s/it]\u001b[A\n",
      "\n",
      "  0%|          | 0/1 [00:00<?, ?it/s]\u001b[A\u001b[A\n",
      "\n",
      "100%|██████████| 1/1 [00:02<00:00,  2.66s/it]\u001b[A\u001b[A\n",
      "\n",
      "  6%|▌         | 596/10000 [4:35:49<51:39:17, 19.77s/it]\u001b[A\n",
      "\n",
      "  0%|          | 0/1 [00:00<?, ?it/s]\u001b[A\u001b[A\n",
      "\n",
      "100%|██████████| 1/1 [00:05<00:00,  5.48s/it]\u001b[A\u001b[A\n",
      "\n",
      "  6%|▌         | 597/10000 [4:36:14<55:50:07, 21.38s/it]\u001b[A\n",
      "\n",
      "  0%|          | 0/1 [00:00<?, ?it/s]\u001b[A\u001b[A\n",
      "\n",
      "100%|██████████| 1/1 [00:09<00:00,  9.80s/it]\u001b[A\u001b[A\n",
      "\n",
      "  6%|▌         | 598/10000 [4:36:43<61:37:10, 23.59s/it]\u001b[A\n",
      "\n",
      "  0%|          | 0/1 [00:00<?, ?it/s]\u001b[A\u001b[A\n",
      "\n",
      "100%|██████████| 1/1 [00:04<00:00,  4.28s/it]\u001b[A\u001b[A\n",
      "\n",
      "  6%|▌         | 599/10000 [4:37:02<57:41:37, 22.09s/it]\u001b[A\n",
      "\n",
      "  0%|          | 0/1 [00:00<?, ?it/s]\u001b[A\u001b[A\n",
      "\n",
      "100%|██████████| 1/1 [00:02<00:00,  2.50s/it]\u001b[A\u001b[A\n",
      "\n",
      "  6%|▌         | 600/10000 [4:37:19<53:50:16, 20.62s/it]\u001b[A\n",
      "\n",
      "  0%|          | 0/1 [00:00<?, ?it/s]\u001b[A\u001b[A\n",
      "\n",
      "100%|██████████| 1/1 [00:03<00:00,  3.90s/it]\u001b[A\u001b[A\n",
      "\n",
      "  6%|▌         | 601/10000 [4:37:42<55:38:37, 21.31s/it]\u001b[A\n",
      "\n",
      "  0%|          | 0/1 [00:00<?, ?it/s]\u001b[A\u001b[A\n",
      "\n",
      "100%|██████████| 1/1 [00:03<00:00,  3.66s/it]\u001b[A\u001b[A\n",
      "\n",
      "  6%|▌         | 602/10000 [4:38:01<53:56:43, 20.66s/it]\u001b[A\n",
      "\n",
      "  0%|          | 0/1 [00:00<?, ?it/s]\u001b[A\u001b[A\n",
      "\n",
      "100%|██████████| 1/1 [00:02<00:00,  2.79s/it]\u001b[A\u001b[A\n",
      "\n",
      "  6%|▌         | 603/10000 [4:38:20<53:01:47, 20.32s/it]\u001b[A\n",
      "\n",
      "  0%|          | 0/1 [00:00<?, ?it/s]\u001b[A\u001b[A\n",
      "\n",
      "100%|██████████| 1/1 [00:03<00:00,  3.33s/it]\u001b[A\u001b[A\n",
      "\n",
      "  6%|▌         | 604/10000 [4:38:45<56:11:58, 21.53s/it]\u001b[A\n",
      "\n",
      "  0%|          | 0/1 [00:00<?, ?it/s]\u001b[A\u001b[A\n",
      "\n",
      "100%|██████████| 1/1 [00:04<00:00,  4.18s/it]\u001b[A\u001b[A\n",
      "\n",
      "  6%|▌         | 605/10000 [4:39:05<55:05:28, 21.11s/it]\u001b[A\n",
      "\n",
      "  0%|          | 0/1 [00:00<?, ?it/s]\u001b[A\u001b[A\n",
      "\n",
      "100%|██████████| 1/1 [00:03<00:00,  3.24s/it]\u001b[A\u001b[A\n",
      "\n",
      "  6%|▌         | 606/10000 [4:39:25<54:17:47, 20.81s/it]\u001b[A\n",
      "\n",
      "  0%|          | 0/1 [00:00<?, ?it/s]\u001b[A\u001b[A\n",
      "\n",
      "100%|██████████| 1/1 [00:05<00:00,  5.05s/it]\u001b[A\u001b[A\n",
      "\n",
      "  6%|▌         | 607/10000 [4:39:47<55:23:26, 21.23s/it]\u001b[A\n",
      "\n",
      "  0%|          | 0/1 [00:00<?, ?it/s]\u001b[A\u001b[A\n",
      "\n",
      "100%|██████████| 1/1 [00:03<00:00,  3.54s/it]\u001b[A\u001b[A\n",
      "\n",
      "  6%|▌         | 608/10000 [4:40:05<53:00:08, 20.32s/it]\u001b[A\n",
      "\n",
      "  0%|          | 0/1 [00:00<?, ?it/s]\u001b[A\u001b[A\n",
      "\n",
      "100%|██████████| 1/1 [00:03<00:00,  3.10s/it]\u001b[A\u001b[A\n",
      "\n",
      "  6%|▌         | 609/10000 [4:40:23<50:38:26, 19.41s/it]\u001b[A\n",
      "\n",
      "  0%|          | 0/1 [00:00<?, ?it/s]\u001b[A\u001b[A\n",
      "\n",
      "100%|██████████| 1/1 [00:08<00:00,  8.57s/it]\u001b[A\u001b[A\n",
      "\n",
      "  6%|▌         | 610/10000 [4:40:54<60:13:14, 23.09s/it]\u001b[A\n",
      "\n",
      "  0%|          | 0/1 [00:00<?, ?it/s]\u001b[A\u001b[A\n",
      "\n",
      "100%|██████████| 1/1 [00:03<00:00,  3.96s/it]\u001b[A\u001b[A\n",
      "\n",
      "  6%|▌         | 611/10000 [4:41:21<62:48:45, 24.08s/it]\u001b[A\n",
      "\n",
      "  0%|          | 0/1 [00:00<?, ?it/s]\u001b[A\u001b[A\n",
      "\n",
      "100%|██████████| 1/1 [00:04<00:00,  4.65s/it]\u001b[A\u001b[A\n",
      "\n",
      "  6%|▌         | 612/10000 [4:41:41<59:33:47, 22.84s/it]\u001b[A\n",
      "\n",
      "  0%|          | 0/1 [00:00<?, ?it/s]\u001b[A\u001b[A\n",
      "\n",
      "100%|██████████| 1/1 [00:03<00:00,  3.09s/it]\u001b[A\u001b[A\n",
      "\n",
      "  6%|▌         | 613/10000 [4:41:58<55:31:42, 21.30s/it]\u001b[A\n",
      "\n",
      "  0%|          | 0/1 [00:00<?, ?it/s]\u001b[A\u001b[A\n",
      "\n",
      "100%|██████████| 1/1 [00:03<00:00,  3.79s/it]\u001b[A\u001b[A\n",
      "\n",
      "  6%|▌         | 614/10000 [4:42:19<54:43:19, 20.99s/it]\u001b[A\n",
      "\n",
      "  0%|          | 0/1 [00:00<?, ?it/s]\u001b[A\u001b[A\n",
      "\n",
      "100%|██████████| 1/1 [00:03<00:00,  3.73s/it]\u001b[A\u001b[A\n",
      "\n",
      "  6%|▌         | 615/10000 [4:42:37<53:01:42, 20.34s/it]\u001b[A\n",
      "\n",
      "  0%|          | 0/1 [00:00<?, ?it/s]\u001b[A\u001b[A\n",
      "\n",
      "100%|██████████| 1/1 [00:02<00:00,  2.96s/it]\u001b[A\u001b[A\n",
      "\n",
      "  6%|▌         | 616/10000 [4:42:57<52:16:18, 20.05s/it]\u001b[A\n",
      "\n",
      "  0%|          | 0/1 [00:00<?, ?it/s]\u001b[A\u001b[A\n",
      "\n",
      "100%|██████████| 1/1 [00:05<00:00,  5.61s/it]\u001b[A\u001b[A\n",
      "\n",
      "  6%|▌         | 617/10000 [4:43:23<57:07:36, 21.92s/it]\u001b[A\n",
      "\n",
      "  0%|          | 0/1 [00:00<?, ?it/s]\u001b[A\u001b[A\n",
      "\n",
      "100%|██████████| 1/1 [00:04<00:00,  4.78s/it]\u001b[A\u001b[A\n",
      "\n",
      "  6%|▌         | 618/10000 [4:43:47<58:26:49, 22.43s/it]\u001b[A\n",
      "\n",
      "  0%|          | 0/1 [00:00<?, ?it/s]\u001b[A\u001b[A\n",
      "\n",
      "100%|██████████| 1/1 [00:03<00:00,  3.01s/it]\u001b[A\u001b[A\n",
      "\n",
      "  6%|▌         | 619/10000 [4:44:05<54:52:00, 21.06s/it]\u001b[A\n",
      "\n",
      "  0%|          | 0/1 [00:00<?, ?it/s]\u001b[A\u001b[A\n",
      "\n",
      "100%|██████████| 1/1 [00:03<00:00,  3.13s/it]\u001b[A\u001b[A\n",
      "\n",
      "  6%|▌         | 620/10000 [4:44:23<52:55:40, 20.31s/it]\u001b[A\n",
      "\n",
      "  0%|          | 0/1 [00:00<?, ?it/s]\u001b[A\u001b[A\n",
      "\n",
      "100%|██████████| 1/1 [00:03<00:00,  3.52s/it]\u001b[A\u001b[A\n",
      "\n",
      "  6%|▌         | 621/10000 [4:44:43<52:33:24, 20.17s/it]\u001b[A\n",
      "\n",
      "  0%|          | 0/1 [00:00<?, ?it/s]\u001b[A\u001b[A\n",
      "\n",
      "100%|██████████| 1/1 [00:06<00:00,  6.09s/it]\u001b[A\u001b[A\n",
      "\n",
      "  6%|▌         | 622/10000 [4:45:04<53:15:37, 20.45s/it]\u001b[A\n",
      "\n",
      "  0%|          | 0/1 [00:00<?, ?it/s]\u001b[A\u001b[A\n",
      "\n",
      "100%|██████████| 1/1 [00:03<00:00,  3.29s/it]\u001b[A\u001b[A\n",
      "\n",
      "  6%|▌         | 623/10000 [4:45:26<54:39:28, 20.98s/it]\u001b[A\n",
      "\n",
      "  0%|          | 0/1 [00:00<?, ?it/s]\u001b[A\u001b[A\n",
      "\n",
      "100%|██████████| 1/1 [00:03<00:00,  3.85s/it]\u001b[A\u001b[A\n",
      "\n",
      "  6%|▌         | 624/10000 [4:45:49<55:38:59, 21.37s/it]\u001b[A\n",
      "\n",
      "  0%|          | 0/1 [00:00<?, ?it/s]\u001b[A\u001b[A\n",
      "\n",
      "100%|██████████| 1/1 [00:03<00:00,  3.38s/it]\u001b[A\u001b[A\n",
      "\n",
      "  6%|▋         | 625/10000 [4:46:05<52:12:18, 20.05s/it]\u001b[A\n",
      "\n",
      "  0%|          | 0/1 [00:00<?, ?it/s]\u001b[A\u001b[A\n",
      "\n",
      "100%|██████████| 1/1 [00:02<00:00,  2.81s/it]\u001b[A\u001b[A\n",
      "\n",
      "  6%|▋         | 626/10000 [4:46:24<51:17:27, 19.70s/it]\u001b[A\n",
      "\n",
      "  0%|          | 0/1 [00:00<?, ?it/s]\u001b[A\u001b[A\n",
      "\n",
      "100%|██████████| 1/1 [00:03<00:00,  3.37s/it]\u001b[A\u001b[A\n",
      "\n",
      "  6%|▋         | 627/10000 [4:46:47<53:19:53, 20.48s/it]\u001b[A\n",
      "\n",
      "  0%|          | 0/1 [00:00<?, ?it/s]\u001b[A\u001b[A\n",
      "\n",
      "100%|██████████| 1/1 [00:03<00:00,  3.22s/it]\u001b[A\u001b[A\n",
      "\n",
      "  6%|▋         | 628/10000 [4:47:04<51:09:31, 19.65s/it]\u001b[A\n",
      "\n",
      "  0%|          | 0/1 [00:00<?, ?it/s]\u001b[A\u001b[A\n",
      "\n",
      "100%|██████████| 1/1 [00:03<00:00,  3.05s/it]\u001b[A\u001b[A\n",
      "\n",
      "  6%|▋         | 629/10000 [4:47:22<49:27:47, 19.00s/it]\u001b[A\n",
      "\n",
      "  0%|          | 0/1 [00:00<?, ?it/s]\u001b[A\u001b[A\n",
      "\n",
      "100%|██████████| 1/1 [00:05<00:00,  5.20s/it]\u001b[A\u001b[A\n",
      "\n",
      "  6%|▋         | 630/10000 [4:47:48<54:46:44, 21.05s/it]\u001b[A\n",
      "\n",
      "  0%|          | 0/1 [00:00<?, ?it/s]\u001b[A\u001b[A\n",
      "\n",
      "100%|██████████| 1/1 [00:04<00:00,  4.91s/it]\u001b[A\u001b[A\n",
      "\n",
      "  6%|▋         | 631/10000 [4:48:09<54:59:54, 21.13s/it]\u001b[A\n",
      "\n",
      "  0%|          | 0/1 [00:00<?, ?it/s]\u001b[A\u001b[A\n",
      "\n",
      "100%|██████████| 1/1 [00:02<00:00,  2.94s/it]\u001b[A\u001b[A\n",
      "\n",
      "  6%|▋         | 632/10000 [4:48:29<54:12:31, 20.83s/it]\u001b[A\n",
      "\n",
      "  0%|          | 0/1 [00:00<?, ?it/s]\u001b[A\u001b[A\n",
      "\n",
      "100%|██████████| 1/1 [00:03<00:00,  3.97s/it]\u001b[A\u001b[A\n",
      "\n",
      "  6%|▋         | 633/10000 [4:48:49<53:15:51, 20.47s/it]\u001b[A\n",
      "\n",
      "  0%|          | 0/1 [00:00<?, ?it/s]\u001b[A\u001b[A\n",
      "\n",
      "100%|██████████| 1/1 [00:07<00:00,  7.50s/it]\u001b[A\u001b[A\n",
      "\n",
      "  6%|▋         | 634/10000 [4:49:12<55:41:35, 21.41s/it]\u001b[A\n",
      "\n",
      "  0%|          | 0/1 [00:00<?, ?it/s]\u001b[A\u001b[A\n",
      "\n",
      "100%|██████████| 1/1 [00:02<00:00,  2.48s/it]\u001b[A\u001b[A\n",
      "\n",
      "  6%|▋         | 635/10000 [4:49:28<51:30:59, 19.80s/it]\u001b[A\n",
      "\n",
      "  0%|          | 0/1 [00:00<?, ?it/s]\u001b[A\u001b[A\n",
      "\n",
      "100%|██████████| 1/1 [00:02<00:00,  2.20s/it]\u001b[A\u001b[A\n",
      "\n",
      "  6%|▋         | 636/10000 [4:49:48<51:16:18, 19.71s/it]\u001b[A\n",
      "\n",
      "  0%|          | 0/1 [00:00<?, ?it/s]\u001b[A\u001b[A\n",
      "\n",
      "100%|██████████| 1/1 [00:04<00:00,  4.94s/it]\u001b[A\u001b[A\n",
      "\n",
      "  6%|▋         | 637/10000 [4:50:11<54:00:38, 20.77s/it]\u001b[A\n",
      "\n",
      "  0%|          | 0/1 [00:00<?, ?it/s]\u001b[A\u001b[A\n",
      "\n",
      "100%|██████████| 1/1 [00:04<00:00,  4.29s/it]\u001b[A\u001b[A\n",
      "\n",
      "  6%|▋         | 638/10000 [4:50:32<54:11:37, 20.84s/it]\u001b[A\n",
      "\n",
      "  0%|          | 0/1 [00:00<?, ?it/s]\u001b[A\u001b[A\n",
      "\n",
      "100%|██████████| 1/1 [00:02<00:00,  2.86s/it]\u001b[A\u001b[A\n",
      "\n",
      "  6%|▋         | 639/10000 [4:50:49<51:20:21, 19.74s/it]\u001b[A\n",
      "\n",
      "  0%|          | 0/1 [00:00<?, ?it/s]\u001b[A\u001b[A\n",
      "\n",
      "100%|██████████| 1/1 [00:02<00:00,  2.97s/it]\u001b[A\u001b[A\n",
      "\n",
      "  6%|▋         | 640/10000 [4:51:09<51:20:07, 19.74s/it]\u001b[A\n",
      "\n",
      "  0%|          | 0/1 [00:00<?, ?it/s]\u001b[A\u001b[A\n",
      "\n",
      "100%|██████████| 1/1 [00:03<00:00,  3.44s/it]\u001b[A\u001b[A\n",
      "\n",
      "  6%|▋         | 641/10000 [4:51:28<50:43:08, 19.51s/it]\u001b[A\n",
      "\n",
      "  0%|          | 0/1 [00:00<?, ?it/s]\u001b[A\u001b[A\n",
      "\n",
      "100%|██████████| 1/1 [00:03<00:00,  3.19s/it]\u001b[A\u001b[A\n",
      "\n",
      "  6%|▋         | 642/10000 [4:51:47<50:13:20, 19.32s/it]\u001b[A\n",
      "\n",
      "  0%|          | 0/1 [00:00<?, ?it/s]\u001b[A\u001b[A\n",
      "\n",
      "100%|██████████| 1/1 [00:04<00:00,  4.07s/it]\u001b[A\u001b[A\n",
      "\n",
      "  6%|▋         | 643/10000 [4:52:10<53:10:32, 20.46s/it]\u001b[A\n",
      "\n",
      "  0%|          | 0/1 [00:00<?, ?it/s]\u001b[A\u001b[A\n",
      "\n",
      "100%|██████████| 1/1 [00:04<00:00,  4.76s/it]\u001b[A\u001b[A\n",
      "\n",
      "  6%|▋         | 644/10000 [4:52:34<55:36:44, 21.40s/it]\u001b[A\n",
      "\n",
      "  0%|          | 0/1 [00:00<?, ?it/s]\u001b[A\u001b[A\n",
      "\n",
      "100%|██████████| 1/1 [00:03<00:00,  3.63s/it]\u001b[A\u001b[A\n",
      "\n",
      "  6%|▋         | 645/10000 [4:52:52<52:53:58, 20.36s/it]\u001b[A\n",
      "\n",
      "  0%|          | 0/1 [00:00<?, ?it/s]\u001b[A\u001b[A\n",
      "\n",
      "100%|██████████| 1/1 [00:08<00:00,  8.90s/it]\u001b[A\u001b[A\n",
      "\n",
      "  6%|▋         | 646/10000 [4:53:15<55:23:04, 21.32s/it]\u001b[A\n",
      "\n",
      "  0%|          | 0/1 [00:00<?, ?it/s]\u001b[A\u001b[A\n",
      "\n",
      "100%|██████████| 1/1 [00:03<00:00,  3.56s/it]\u001b[A\u001b[A\n",
      "\n",
      "  6%|▋         | 647/10000 [4:53:36<55:03:11, 21.19s/it]\u001b[A\n",
      "\n",
      "  0%|          | 0/1 [00:00<?, ?it/s]\u001b[A\u001b[A\n",
      "\n",
      "100%|██████████| 1/1 [00:03<00:00,  3.97s/it]\u001b[A\u001b[A\n",
      "\n",
      "  6%|▋         | 648/10000 [4:53:54<52:49:39, 20.34s/it]\u001b[A\n",
      "\n",
      "  0%|          | 0/1 [00:00<?, ?it/s]\u001b[A\u001b[A\n",
      "\n",
      "100%|██████████| 1/1 [00:02<00:00,  2.78s/it]\u001b[A\u001b[A\n",
      "\n",
      "  6%|▋         | 649/10000 [4:54:12<50:22:59, 19.40s/it]\u001b[A\n",
      "\n",
      "  0%|          | 0/1 [00:00<?, ?it/s]\u001b[A\u001b[A\n",
      "\n",
      "100%|██████████| 1/1 [00:04<00:00,  4.64s/it]\u001b[A\u001b[A\n",
      "\n",
      "  6%|▋         | 650/10000 [4:54:36<54:37:50, 21.03s/it]\u001b[A\n",
      "\n",
      "  0%|          | 0/1 [00:00<?, ?it/s]\u001b[A\u001b[A\n",
      "\n",
      "100%|██████████| 1/1 [00:04<00:00,  4.65s/it]\u001b[A\u001b[A\n",
      "\n",
      "  7%|▋         | 651/10000 [4:54:58<55:21:06, 21.31s/it]\u001b[A\n",
      "\n",
      "  0%|          | 0/1 [00:00<?, ?it/s]\u001b[A\u001b[A\n",
      "\n",
      "100%|██████████| 1/1 [00:03<00:00,  3.29s/it]\u001b[A\u001b[A\n",
      "\n",
      "  7%|▋         | 652/10000 [4:55:17<52:59:25, 20.41s/it]\u001b[A\n",
      "\n",
      "  0%|          | 0/1 [00:00<?, ?it/s]\u001b[A\u001b[A\n",
      "\n",
      "100%|██████████| 1/1 [00:04<00:00,  4.69s/it]\u001b[A\u001b[A\n",
      "\n",
      "  7%|▋         | 653/10000 [4:55:38<53:44:35, 20.70s/it]\u001b[A\n",
      "\n",
      "  0%|          | 0/1 [00:00<?, ?it/s]\u001b[A\u001b[A\n",
      "\n",
      "100%|██████████| 1/1 [00:04<00:00,  4.01s/it]\u001b[A\u001b[A\n",
      "\n",
      "  7%|▋         | 654/10000 [4:55:59<53:37:09, 20.65s/it]\u001b[A\n",
      "\n",
      "  0%|          | 0/1 [00:00<?, ?it/s]\u001b[A\u001b[A\n",
      "\n",
      "100%|██████████| 1/1 [00:03<00:00,  3.50s/it]\u001b[A\u001b[A\n",
      "\n",
      "  7%|▋         | 655/10000 [4:56:17<51:46:02, 19.94s/it]\u001b[A\n",
      "\n",
      "  0%|          | 0/1 [00:00<?, ?it/s]\u001b[A\u001b[A\n",
      "\n",
      "100%|██████████| 1/1 [00:02<00:00,  2.75s/it]\u001b[A\u001b[A\n",
      "\n",
      "  7%|▋         | 656/10000 [4:56:38<52:35:55, 20.26s/it]\u001b[A\n",
      "\n",
      "  0%|          | 0/1 [00:00<?, ?it/s]\u001b[A\u001b[A\n",
      "\n",
      "100%|██████████| 1/1 [00:05<00:00,  5.40s/it]\u001b[A\u001b[A\n",
      "\n",
      "  7%|▋         | 657/10000 [4:57:03<56:34:08, 21.80s/it]\u001b[A\n",
      "\n",
      "  0%|          | 0/1 [00:00<?, ?it/s]\u001b[A\u001b[A\n",
      "\n",
      "100%|██████████| 1/1 [00:06<00:00,  6.85s/it]\u001b[A\u001b[A\n",
      "\n",
      "  7%|▋         | 658/10000 [4:57:28<59:02:09, 22.75s/it]\u001b[A\n",
      "\n",
      "  0%|          | 0/1 [00:00<?, ?it/s]\u001b[A\u001b[A\n",
      "\n",
      "100%|██████████| 1/1 [00:02<00:00,  2.88s/it]\u001b[A\u001b[A\n",
      "\n",
      "  7%|▋         | 659/10000 [4:57:45<54:38:53, 21.06s/it]\u001b[A\n",
      "\n",
      "  0%|          | 0/1 [00:00<?, ?it/s]\u001b[A\u001b[A\n",
      "\n",
      "100%|██████████| 1/1 [00:03<00:00,  3.08s/it]\u001b[A\u001b[A\n",
      "\n",
      "  7%|▋         | 660/10000 [4:58:04<52:27:12, 20.22s/it]\u001b[A\n",
      "\n",
      "  0%|          | 0/1 [00:00<?, ?it/s]\u001b[A\u001b[A\n",
      "\n",
      "100%|██████████| 1/1 [00:03<00:00,  3.37s/it]\u001b[A\u001b[A\n",
      "\n",
      "  7%|▋         | 661/10000 [4:58:24<52:33:39, 20.26s/it]\u001b[A\n",
      "\n",
      "  0%|          | 0/1 [00:00<?, ?it/s]\u001b[A\u001b[A\n",
      "\n",
      "100%|██████████| 1/1 [00:02<00:00,  2.87s/it]\u001b[A\u001b[A\n",
      "\n",
      "  7%|▋         | 662/10000 [4:58:40<49:31:02, 19.09s/it]\u001b[A\n",
      "\n",
      "  0%|          | 0/1 [00:00<?, ?it/s]\u001b[A\u001b[A\n",
      "\n",
      "100%|██████████| 1/1 [00:03<00:00,  3.38s/it]\u001b[A\u001b[A\n",
      "\n",
      "  7%|▋         | 663/10000 [4:59:04<53:07:44, 20.48s/it]\u001b[A\n",
      "\n",
      "  0%|          | 0/1 [00:00<?, ?it/s]\u001b[A\u001b[A\n",
      "\n",
      "100%|██████████| 1/1 [00:05<00:00,  5.64s/it]\u001b[A\u001b[A\n",
      "\n",
      "  7%|▋         | 664/10000 [4:59:30<56:57:37, 21.96s/it]\u001b[A\n",
      "\n",
      "  0%|          | 0/1 [00:00<?, ?it/s]\u001b[A\u001b[A\n",
      "\n",
      "100%|██████████| 1/1 [00:03<00:00,  3.88s/it]\u001b[A\u001b[A\n",
      "\n",
      "  7%|▋         | 665/10000 [4:59:48<54:34:26, 21.05s/it]\u001b[A\n",
      "\n",
      "  0%|          | 0/1 [00:00<?, ?it/s]\u001b[A\u001b[A\n",
      "\n",
      "100%|██████████| 1/1 [00:02<00:00,  2.85s/it]\u001b[A\u001b[A\n",
      "\n",
      "  7%|▋         | 666/10000 [5:00:07<52:25:30, 20.22s/it]\u001b[A\n",
      "\n",
      "  0%|          | 0/1 [00:00<?, ?it/s]\u001b[A\u001b[A\n",
      "\n",
      "100%|██████████| 1/1 [00:04<00:00,  4.09s/it]\u001b[A\u001b[A\n",
      "\n",
      "  7%|▋         | 667/10000 [5:00:27<52:25:43, 20.22s/it]\u001b[A\n",
      "\n",
      "  0%|          | 0/1 [00:00<?, ?it/s]\u001b[A\u001b[A\n",
      "\n",
      "100%|██████████| 1/1 [00:03<00:00,  3.66s/it]\u001b[A\u001b[A\n",
      "\n",
      "  7%|▋         | 668/10000 [5:00:46<51:51:45, 20.01s/it]\u001b[A\n",
      "\n",
      "  0%|          | 0/1 [00:00<?, ?it/s]\u001b[A\u001b[A\n",
      "\n",
      "100%|██████████| 1/1 [00:04<00:00,  4.66s/it]\u001b[A\u001b[A\n",
      "\n",
      "  7%|▋         | 669/10000 [5:01:07<52:02:41, 20.08s/it]\u001b[A\n",
      "\n",
      "  0%|          | 0/1 [00:00<?, ?it/s]\u001b[A\u001b[A\n",
      "\n",
      "100%|██████████| 1/1 [00:04<00:00,  4.71s/it]\u001b[A\u001b[A\n",
      "\n",
      "  7%|▋         | 670/10000 [5:01:31<55:41:29, 21.49s/it]\u001b[A\n",
      "\n",
      "  0%|          | 0/1 [00:00<?, ?it/s]\u001b[A\u001b[A\n",
      "\n",
      "100%|██████████| 1/1 [00:04<00:00,  4.98s/it]\u001b[A\u001b[A\n",
      "\n",
      "  7%|▋         | 671/10000 [5:01:54<56:52:01, 21.94s/it]\u001b[A\n",
      "\n",
      "  0%|          | 0/1 [00:00<?, ?it/s]\u001b[A\u001b[A\n",
      "\n",
      "100%|██████████| 1/1 [00:02<00:00,  2.68s/it]\u001b[A\u001b[A\n",
      "\n",
      "  7%|▋         | 672/10000 [5:02:11<52:31:32, 20.27s/it]\u001b[A\n",
      "\n",
      "  0%|          | 0/1 [00:00<?, ?it/s]\u001b[A\u001b[A\n",
      "\n",
      "100%|██████████| 1/1 [00:02<00:00,  2.29s/it]\u001b[A\u001b[A\n",
      "\n",
      "  7%|▋         | 673/10000 [5:02:28<49:55:48, 19.27s/it]\u001b[A\n",
      "\n",
      "  0%|          | 0/1 [00:00<?, ?it/s]\u001b[A\u001b[A\n",
      "\n",
      "100%|██████████| 1/1 [00:05<00:00,  5.29s/it]\u001b[A\u001b[A\n",
      "\n",
      "  7%|▋         | 674/10000 [5:02:49<51:43:51, 19.97s/it]\u001b[A\n",
      "\n",
      "  0%|          | 0/1 [00:00<?, ?it/s]\u001b[A\u001b[A\n",
      "\n",
      "100%|██████████| 1/1 [00:03<00:00,  3.33s/it]\u001b[A\u001b[A\n",
      "\n",
      "  7%|▋         | 675/10000 [5:03:08<50:55:48, 19.66s/it]\u001b[A\n",
      "\n",
      "  0%|          | 0/1 [00:00<?, ?it/s]\u001b[A\u001b[A\n",
      "\n",
      "100%|██████████| 1/1 [00:02<00:00,  2.88s/it]\u001b[A\u001b[A\n",
      "\n",
      "  7%|▋         | 676/10000 [5:03:28<51:00:50, 19.70s/it]\u001b[A\n",
      "\n",
      "  0%|          | 0/1 [00:00<?, ?it/s]\u001b[A\u001b[A\n",
      "\n",
      "100%|██████████| 1/1 [00:05<00:00,  5.10s/it]\u001b[A\u001b[A\n",
      "\n",
      "  7%|▋         | 677/10000 [5:03:54<56:11:52, 21.70s/it]\u001b[A\n",
      "\n",
      "  0%|          | 0/1 [00:00<?, ?it/s]\u001b[A\u001b[A\n",
      "\n",
      "100%|██████████| 1/1 [00:04<00:00,  4.22s/it]\u001b[A\u001b[A\n",
      "\n",
      "  7%|▋         | 678/10000 [5:04:14<54:40:14, 21.11s/it]\u001b[A\n",
      "\n",
      "  0%|          | 0/1 [00:00<?, ?it/s]\u001b[A\u001b[A\n",
      "\n",
      "100%|██████████| 1/1 [00:05<00:00,  5.53s/it]\u001b[A\u001b[A\n",
      "\n",
      "  7%|▋         | 679/10000 [5:04:35<54:27:11, 21.03s/it]\u001b[A\n",
      "\n",
      "  0%|          | 0/1 [00:00<?, ?it/s]\u001b[A\u001b[A\n",
      "\n",
      "100%|██████████| 1/1 [00:03<00:00,  3.05s/it]\u001b[A\u001b[A\n",
      "\n",
      "  7%|▋         | 680/10000 [5:04:56<54:38:47, 21.11s/it]\u001b[A\n",
      "\n",
      "  0%|          | 0/1 [00:00<?, ?it/s]\u001b[A\u001b[A\n",
      "\n",
      "100%|██████████| 1/1 [00:04<00:00,  5.00s/it]\u001b[A\u001b[A\n",
      "\n",
      "  7%|▋         | 681/10000 [5:05:22<58:00:38, 22.41s/it]\u001b[A\n",
      "\n",
      "  0%|          | 0/1 [00:00<?, ?it/s]\u001b[A\u001b[A\n",
      "\n",
      "100%|██████████| 1/1 [00:04<00:00,  4.56s/it]\u001b[A\u001b[A\n",
      "\n",
      "  7%|▋         | 682/10000 [5:05:41<55:27:48, 21.43s/it]\u001b[A\n",
      "\n",
      "  0%|          | 0/1 [00:00<?, ?it/s]\u001b[A\u001b[A\n",
      "\n",
      "100%|██████████| 1/1 [00:02<00:00,  2.75s/it]\u001b[A\u001b[A\n",
      "\n",
      "  7%|▋         | 683/10000 [5:05:59<53:03:19, 20.50s/it]\u001b[A\n",
      "\n",
      "  0%|          | 0/1 [00:00<?, ?it/s]\u001b[A\u001b[A\n",
      "\n",
      "100%|██████████| 1/1 [00:04<00:00,  4.55s/it]\u001b[A\u001b[A\n",
      "\n",
      "  7%|▋         | 684/10000 [5:06:21<54:18:20, 20.99s/it]\u001b[A\n",
      "\n",
      "  0%|          | 0/1 [00:00<?, ?it/s]\u001b[A\u001b[A\n",
      "\n",
      "100%|██████████| 1/1 [00:02<00:00,  2.90s/it]\u001b[A\u001b[A\n",
      "\n",
      "  7%|▋         | 685/10000 [5:06:40<52:25:55, 20.26s/it]\u001b[A\n",
      "\n",
      "  0%|          | 0/1 [00:00<?, ?it/s]\u001b[A\u001b[A\n",
      "\n",
      "100%|██████████| 1/1 [00:02<00:00,  2.90s/it]\u001b[A\u001b[A\n",
      "\n",
      "  7%|▋         | 686/10000 [5:06:58<50:26:05, 19.49s/it]\u001b[A\n",
      "\n",
      "  0%|          | 0/1 [00:00<?, ?it/s]\u001b[A\u001b[A\n",
      "\n",
      "100%|██████████| 1/1 [00:03<00:00,  3.60s/it]\u001b[A\u001b[A\n",
      "\n",
      "  7%|▋         | 687/10000 [5:07:21<53:32:59, 20.70s/it]\u001b[A\n",
      "\n",
      "  0%|          | 0/1 [00:00<?, ?it/s]\u001b[A\u001b[A\n",
      "\n",
      "100%|██████████| 1/1 [00:04<00:00,  4.01s/it]\u001b[A\u001b[A\n",
      "\n",
      "  7%|▋         | 688/10000 [5:07:43<54:44:10, 21.16s/it]\u001b[A\n",
      "\n",
      "  0%|          | 0/1 [00:00<?, ?it/s]\u001b[A\u001b[A\n",
      "\n",
      "100%|██████████| 1/1 [00:02<00:00,  2.75s/it]\u001b[A\u001b[A\n",
      "\n",
      "  7%|▋         | 689/10000 [5:08:03<53:37:35, 20.73s/it]\u001b[A\n",
      "\n",
      "  0%|          | 0/1 [00:00<?, ?it/s]\u001b[A\u001b[A\n",
      "\n",
      "100%|██████████| 1/1 [00:03<00:00,  3.62s/it]\u001b[A\u001b[A\n",
      "\n",
      "  7%|▋         | 690/10000 [5:08:21<51:41:13, 19.99s/it]\u001b[A\n",
      "\n",
      "  0%|          | 0/1 [00:00<?, ?it/s]\u001b[A\u001b[A\n",
      "\n",
      "100%|██████████| 1/1 [00:04<00:00,  4.20s/it]\u001b[A\u001b[A\n",
      "\n",
      "  7%|▋         | 691/10000 [5:08:42<51:52:02, 20.06s/it]\u001b[A\n",
      "\n",
      "  0%|          | 0/1 [00:00<?, ?it/s]\u001b[A\u001b[A\n",
      "\n",
      "100%|██████████| 1/1 [00:03<00:00,  3.92s/it]\u001b[A\u001b[A\n",
      "\n",
      "  7%|▋         | 692/10000 [5:09:00<50:42:54, 19.61s/it]\u001b[A\n",
      "\n",
      "  0%|          | 0/1 [00:00<?, ?it/s]\u001b[A\u001b[A\n",
      "\n",
      "100%|██████████| 1/1 [00:02<00:00,  2.44s/it]\u001b[A\u001b[A\n",
      "\n",
      "  7%|▋         | 693/10000 [5:09:20<51:02:32, 19.74s/it]\u001b[A\n",
      "\n",
      "  0%|          | 0/1 [00:00<?, ?it/s]\u001b[A\u001b[A\n",
      "\n",
      "100%|██████████| 1/1 [00:05<00:00,  5.17s/it]\u001b[A\u001b[A\n",
      "\n",
      "  7%|▋         | 694/10000 [5:09:47<56:34:28, 21.89s/it]\u001b[A\n",
      "\n",
      "  0%|          | 0/1 [00:00<?, ?it/s]\u001b[A\u001b[A\n",
      "\n",
      "100%|██████████| 1/1 [00:09<00:00,  9.40s/it]\u001b[A\u001b[A\n",
      "\n",
      "  7%|▋         | 695/10000 [5:10:13<59:50:07, 23.15s/it]\u001b[A\n",
      "\n",
      "  0%|          | 0/1 [00:00<?, ?it/s]\u001b[A\u001b[A\n",
      "\n",
      "100%|██████████| 1/1 [00:02<00:00,  2.85s/it]\u001b[A\u001b[A\n",
      "\n",
      "  7%|▋         | 696/10000 [5:10:31<55:20:47, 21.42s/it]\u001b[A\n",
      "\n",
      "  0%|          | 0/1 [00:00<?, ?it/s]\u001b[A\u001b[A\n",
      "\n",
      "100%|██████████| 1/1 [00:03<00:00,  3.01s/it]\u001b[A\u001b[A\n",
      "\n",
      "  7%|▋         | 697/10000 [5:10:49<53:21:42, 20.65s/it]\u001b[A\n",
      "\n",
      "  0%|          | 0/1 [00:00<?, ?it/s]\u001b[A\u001b[A\n",
      "\n",
      "100%|██████████| 1/1 [00:04<00:00,  4.18s/it]\u001b[A\u001b[A\n",
      "\n",
      "  7%|▋         | 698/10000 [5:11:09<52:38:25, 20.37s/it]\u001b[A\n",
      "\n",
      "  0%|          | 0/1 [00:00<?, ?it/s]\u001b[A\u001b[A\n",
      "\n",
      "100%|██████████| 1/1 [00:03<00:00,  3.71s/it]\u001b[A\u001b[A\n",
      "\n",
      "  7%|▋         | 699/10000 [5:11:27<50:55:39, 19.71s/it]\u001b[A\n",
      "\n",
      "  0%|          | 0/1 [00:00<?, ?it/s]\u001b[A\u001b[A\n",
      "\n",
      "100%|██████████| 1/1 [00:03<00:00,  3.52s/it]\u001b[A\u001b[A\n",
      "\n",
      "  7%|▋         | 700/10000 [5:11:49<52:44:00, 20.41s/it]\u001b[A\n",
      "\n",
      "  0%|          | 0/1 [00:00<?, ?it/s]\u001b[A\u001b[A\n",
      "\n",
      "100%|██████████| 1/1 [00:05<00:00,  5.31s/it]\u001b[A\u001b[A\n",
      "\n",
      "  7%|▋         | 701/10000 [5:12:15<56:58:26, 22.06s/it]\u001b[A\n",
      "\n",
      "  0%|          | 0/1 [00:00<?, ?it/s]\u001b[A\u001b[A\n",
      "\n",
      "100%|██████████| 1/1 [00:03<00:00,  3.75s/it]\u001b[A\u001b[A\n",
      "\n",
      "  7%|▋         | 702/10000 [5:12:34<54:11:31, 20.98s/it]\u001b[A\n",
      "\n",
      "  0%|          | 0/1 [00:00<?, ?it/s]\u001b[A\u001b[A\n",
      "\n",
      "100%|██████████| 1/1 [00:02<00:00,  2.77s/it]\u001b[A\u001b[A\n",
      "\n",
      "  7%|▋         | 703/10000 [5:12:51<51:07:05, 19.79s/it]\u001b[A\n",
      "\n",
      "  0%|          | 0/1 [00:00<?, ?it/s]\u001b[A\u001b[A\n",
      "\n",
      "100%|██████████| 1/1 [00:03<00:00,  3.52s/it]\u001b[A\u001b[A\n",
      "\n",
      "  7%|▋         | 704/10000 [5:13:10<51:01:34, 19.76s/it]\u001b[A\n",
      "\n",
      "  0%|          | 0/1 [00:00<?, ?it/s]\u001b[A\u001b[A\n",
      "\n",
      "100%|██████████| 1/1 [00:06<00:00,  6.02s/it]\u001b[A\u001b[A\n",
      "\n",
      "  7%|▋         | 705/10000 [5:13:34<53:34:49, 20.75s/it]\u001b[A\n",
      "\n",
      "  0%|          | 0/1 [00:00<?, ?it/s]\u001b[A\u001b[A\n",
      "\n",
      "100%|██████████| 1/1 [00:02<00:00,  3.00s/it]\u001b[A\u001b[A\n",
      "\n",
      "  7%|▋         | 706/10000 [5:13:51<50:55:16, 19.72s/it]\u001b[A\n",
      "\n",
      "  0%|          | 0/1 [00:00<?, ?it/s]\u001b[A\u001b[A\n",
      "\n",
      "100%|██████████| 1/1 [00:08<00:00,  8.53s/it]\u001b[A\u001b[A\n",
      "\n",
      "  7%|▋         | 707/10000 [5:14:19<57:37:24, 22.32s/it]\u001b[A\n",
      "\n",
      "  0%|          | 0/1 [00:00<?, ?it/s]\u001b[A\u001b[A\n",
      "\n",
      "100%|██████████| 1/1 [00:04<00:00,  4.34s/it]\u001b[A\u001b[A\n",
      "\n",
      "  7%|▋         | 708/10000 [5:14:43<58:46:58, 22.77s/it]\u001b[A\n",
      "\n",
      "  0%|          | 0/1 [00:00<?, ?it/s]\u001b[A\u001b[A\n",
      "\n",
      "100%|██████████| 1/1 [00:04<00:00,  4.11s/it]\u001b[A\u001b[A\n",
      "\n",
      "  7%|▋         | 709/10000 [5:15:02<55:51:51, 21.65s/it]\u001b[A\n",
      "\n",
      "  0%|          | 0/1 [00:00<?, ?it/s]\u001b[A\u001b[A\n",
      "\n",
      "100%|██████████| 1/1 [00:02<00:00,  2.81s/it]\u001b[A\u001b[A\n",
      "\n",
      "  7%|▋         | 710/10000 [5:15:20<52:54:55, 20.51s/it]\u001b[A\n",
      "\n",
      "  0%|          | 0/1 [00:00<?, ?it/s]\u001b[A\u001b[A\n",
      "\n",
      "100%|██████████| 1/1 [00:03<00:00,  3.30s/it]\u001b[A\u001b[A\n",
      "\n",
      "  7%|▋         | 711/10000 [5:15:39<51:53:04, 20.11s/it]\u001b[A\n",
      "\n",
      "  0%|          | 0/1 [00:00<?, ?it/s]\u001b[A\u001b[A\n",
      "\n",
      "100%|██████████| 1/1 [00:03<00:00,  3.11s/it]\u001b[A\u001b[A\n",
      "\n",
      "  7%|▋         | 712/10000 [5:15:58<50:50:13, 19.70s/it]\u001b[A\n",
      "\n",
      "  0%|          | 0/1 [00:00<?, ?it/s]\u001b[A\u001b[A\n",
      "\n",
      "100%|██████████| 1/1 [00:02<00:00,  2.63s/it]\u001b[A\u001b[A\n",
      "\n",
      "  7%|▋         | 713/10000 [5:16:15<48:36:49, 18.84s/it]\u001b[A\n",
      "\n",
      "  0%|          | 0/1 [00:00<?, ?it/s]\u001b[A\u001b[A\n",
      "\n",
      "100%|██████████| 1/1 [00:03<00:00,  3.40s/it]\u001b[A\u001b[A\n",
      "\n",
      "  7%|▋         | 714/10000 [5:16:40<53:53:59, 20.90s/it]\u001b[A\n",
      "\n",
      "  0%|          | 0/1 [00:00<?, ?it/s]\u001b[A\u001b[A\n",
      "\n",
      "100%|██████████| 1/1 [00:05<00:00,  5.47s/it]\u001b[A\u001b[A\n",
      "\n",
      "  7%|▋         | 715/10000 [5:17:07<58:17:15, 22.60s/it]\u001b[A\n",
      "\n",
      "  0%|          | 0/1 [00:00<?, ?it/s]\u001b[A\u001b[A\n",
      "\n",
      "100%|██████████| 1/1 [00:03<00:00,  3.24s/it]\u001b[A\u001b[A\n",
      "\n",
      "  7%|▋         | 716/10000 [5:17:26<55:09:14, 21.39s/it]\u001b[A\n",
      "\n",
      "  0%|          | 0/1 [00:00<?, ?it/s]\u001b[A\u001b[A\n",
      "\n",
      "100%|██████████| 1/1 [00:02<00:00,  2.97s/it]\u001b[A\u001b[A\n",
      "\n",
      "  7%|▋         | 717/10000 [5:17:45<53:41:02, 20.82s/it]\u001b[A\n",
      "\n",
      "  0%|          | 0/1 [00:00<?, ?it/s]\u001b[A\u001b[A\n",
      "\n",
      "100%|██████████| 1/1 [00:04<00:00,  4.16s/it]\u001b[A\u001b[A\n",
      "\n",
      "  7%|▋         | 718/10000 [5:18:05<52:50:05, 20.49s/it]\u001b[A\n",
      "\n",
      "  0%|          | 0/1 [00:00<?, ?it/s]\u001b[A\u001b[A\n",
      "\n",
      "100%|██████████| 1/1 [00:11<00:00, 11.41s/it]\u001b[A\u001b[A\n",
      "\n",
      "  7%|▋         | 719/10000 [5:18:31<56:58:04, 22.10s/it]\u001b[A\n",
      "\n",
      "  0%|          | 0/1 [00:00<?, ?it/s]\u001b[A\u001b[A\n",
      "\n",
      "100%|██████████| 1/1 [00:03<00:00,  3.73s/it]\u001b[A\u001b[A\n",
      "\n",
      "  7%|▋         | 720/10000 [5:18:53<57:33:06, 22.33s/it]\u001b[A\n",
      "\n",
      "  0%|          | 0/1 [00:00<?, ?it/s]\u001b[A\u001b[A\n",
      "\n",
      "100%|██████████| 1/1 [00:05<00:00,  5.58s/it]\u001b[A\u001b[A\n",
      "\n",
      "  7%|▋         | 721/10000 [5:19:20<60:34:51, 23.50s/it]\u001b[A\n",
      "\n",
      "  0%|          | 0/1 [00:00<?, ?it/s]\u001b[A\u001b[A\n",
      "\n",
      "100%|██████████| 1/1 [00:05<00:00,  5.78s/it]\u001b[A\u001b[A\n",
      "\n",
      "  7%|▋         | 722/10000 [5:19:42<59:31:20, 23.10s/it]\u001b[A\n",
      "\n",
      "  0%|          | 0/1 [00:00<?, ?it/s]\u001b[A\u001b[A\n",
      "\n",
      "100%|██████████| 1/1 [00:02<00:00,  2.83s/it]\u001b[A\u001b[A\n",
      "\n",
      "  7%|▋         | 723/10000 [5:19:59<55:00:51, 21.35s/it]\u001b[A\n",
      "\n",
      "  0%|          | 0/1 [00:00<?, ?it/s]\u001b[A\u001b[A\n",
      "\n",
      "100%|██████████| 1/1 [00:02<00:00,  2.60s/it]\u001b[A\u001b[A\n",
      "\n",
      "  7%|▋         | 724/10000 [5:20:18<52:43:34, 20.46s/it]\u001b[A\n",
      "\n",
      "  0%|          | 0/1 [00:00<?, ?it/s]\u001b[A\u001b[A\n",
      "\n",
      "100%|██████████| 1/1 [00:03<00:00,  3.60s/it]\u001b[A\u001b[A\n",
      "\n",
      "  7%|▋         | 725/10000 [5:20:39<53:44:56, 20.86s/it]\u001b[A\n",
      "\n",
      "  0%|          | 0/1 [00:00<?, ?it/s]\u001b[A\u001b[A\n",
      "\n",
      "100%|██████████| 1/1 [00:03<00:00,  3.80s/it]\u001b[A\u001b[A\n",
      "\n",
      "  7%|▋         | 726/10000 [5:20:57<51:25:20, 19.96s/it]\u001b[A\n",
      "\n",
      "  0%|          | 0/1 [00:00<?, ?it/s]\u001b[A\u001b[A\n",
      "\n",
      "100%|██████████| 1/1 [00:02<00:00,  2.97s/it]\u001b[A\u001b[A\n",
      "\n",
      "  7%|▋         | 727/10000 [5:21:18<52:08:09, 20.24s/it]\u001b[A\n",
      "\n",
      "  0%|          | 0/1 [00:00<?, ?it/s]\u001b[A\u001b[A\n",
      "\n",
      "100%|██████████| 1/1 [00:05<00:00,  5.74s/it]\u001b[A\u001b[A\n",
      "\n",
      "  7%|▋         | 728/10000 [5:21:45<57:24:59, 22.29s/it]\u001b[A\n",
      "\n",
      "  0%|          | 0/1 [00:00<?, ?it/s]\u001b[A\u001b[A\n",
      "\n",
      "100%|██████████| 1/1 [00:05<00:00,  5.61s/it]\u001b[A\u001b[A\n",
      "\n",
      "  7%|▋         | 729/10000 [5:22:07<56:52:05, 22.08s/it]\u001b[A\n",
      "\n",
      "  0%|          | 0/1 [00:00<?, ?it/s]\u001b[A\u001b[A\n",
      "\n",
      "100%|██████████| 1/1 [00:03<00:00,  3.97s/it]\u001b[A\u001b[A\n",
      "\n",
      "  7%|▋         | 730/10000 [5:22:27<55:11:50, 21.44s/it]\u001b[A\n",
      "\n",
      "  0%|          | 0/1 [00:00<?, ?it/s]\u001b[A\u001b[A\n",
      "\n",
      "100%|██████████| 1/1 [00:07<00:00,  7.31s/it]\u001b[A\u001b[A\n",
      "\n",
      "  7%|▋         | 731/10000 [5:22:52<58:01:39, 22.54s/it]\u001b[A\n",
      "\n",
      "  0%|          | 0/1 [00:00<?, ?it/s]\u001b[A\u001b[A\n",
      "\n",
      "100%|██████████| 1/1 [00:03<00:00,  3.34s/it]\u001b[A\u001b[A\n",
      "\n",
      "  7%|▋         | 732/10000 [5:23:10<55:03:36, 21.39s/it]\u001b[A\n",
      "\n",
      "  0%|          | 0/1 [00:00<?, ?it/s]\u001b[A\u001b[A\n",
      "\n",
      "100%|██████████| 1/1 [00:03<00:00,  3.33s/it]\u001b[A\u001b[A\n",
      "\n",
      "  7%|▋         | 733/10000 [5:23:30<53:16:22, 20.70s/it]\u001b[A\n",
      "\n",
      "  0%|          | 0/1 [00:00<?, ?it/s]\u001b[A\u001b[A\n",
      "\n",
      "100%|██████████| 1/1 [00:04<00:00,  4.14s/it]\u001b[A\u001b[A\n",
      "\n",
      "  7%|▋         | 734/10000 [5:23:53<55:34:38, 21.59s/it]\u001b[A\n",
      "\n",
      "  0%|          | 0/1 [00:00<?, ?it/s]\u001b[A\u001b[A\n",
      "\n",
      "100%|██████████| 1/1 [00:04<00:00,  4.65s/it]\u001b[A\u001b[A\n",
      "\n",
      "  7%|▋         | 735/10000 [5:24:14<54:41:12, 21.25s/it]\u001b[A\n",
      "\n",
      "  0%|          | 0/1 [00:00<?, ?it/s]\u001b[A\u001b[A\n",
      "\n",
      "100%|██████████| 1/1 [00:03<00:00,  3.88s/it]\u001b[A\u001b[A\n",
      "\n",
      "  7%|▋         | 736/10000 [5:24:35<54:23:30, 21.14s/it]\u001b[A\n",
      "\n",
      "  0%|          | 0/1 [00:00<?, ?it/s]\u001b[A\u001b[A\n",
      "\n",
      "100%|██████████| 1/1 [00:02<00:00,  2.78s/it]\u001b[A\u001b[A\n",
      "\n",
      "  7%|▋         | 737/10000 [5:24:52<51:12:55, 19.90s/it]\u001b[A\n",
      "\n",
      "  0%|          | 0/1 [00:00<?, ?it/s]\u001b[A\u001b[A\n",
      "\n",
      "100%|██████████| 1/1 [00:03<00:00,  3.44s/it]\u001b[A\u001b[A\n",
      "\n",
      "  7%|▋         | 738/10000 [5:25:10<50:22:38, 19.58s/it]\u001b[A\n",
      "\n",
      "  0%|          | 0/1 [00:00<?, ?it/s]\u001b[A\u001b[A\n",
      "\n",
      "100%|██████████| 1/1 [00:04<00:00,  4.30s/it]\u001b[A\u001b[A\n",
      "\n",
      "  7%|▋         | 739/10000 [5:25:30<50:09:58, 19.50s/it]\u001b[A\n",
      "\n",
      "  0%|          | 0/1 [00:00<?, ?it/s]\u001b[A\u001b[A\n",
      "\n",
      "100%|██████████| 1/1 [00:03<00:00,  3.81s/it]\u001b[A\u001b[A\n",
      "\n",
      "  7%|▋         | 740/10000 [5:25:51<51:14:51, 19.92s/it]\u001b[A\n",
      "\n",
      "  0%|          | 0/1 [00:00<?, ?it/s]\u001b[A\u001b[A\n",
      "\n",
      "100%|██████████| 1/1 [00:04<00:00,  4.48s/it]\u001b[A\u001b[A\n",
      "\n",
      "  7%|▋         | 741/10000 [5:26:18<57:10:27, 22.23s/it]\u001b[A\n",
      "\n",
      "  0%|          | 0/1 [00:00<?, ?it/s]\u001b[A\u001b[A\n",
      "\n",
      "100%|██████████| 1/1 [00:05<00:00,  5.60s/it]\u001b[A\u001b[A\n",
      "\n",
      "  7%|▋         | 742/10000 [5:26:40<56:29:08, 21.96s/it]\u001b[A\n",
      "\n",
      "  0%|          | 0/1 [00:00<?, ?it/s]\u001b[A\u001b[A\n",
      "\n",
      "100%|██████████| 1/1 [00:05<00:00,  5.83s/it]\u001b[A\u001b[A\n",
      "\n",
      "  7%|▋         | 743/10000 [5:26:59<54:37:10, 21.24s/it]\u001b[A\n",
      "\n",
      "  0%|          | 0/1 [00:00<?, ?it/s]\u001b[A\u001b[A\n",
      "\n",
      "100%|██████████| 1/1 [00:02<00:00,  2.62s/it]\u001b[A\u001b[A\n",
      "\n",
      "  7%|▋         | 744/10000 [5:27:16<51:20:26, 19.97s/it]\u001b[A\n",
      "\n",
      "  0%|          | 0/1 [00:00<?, ?it/s]\u001b[A\u001b[A\n",
      "\n",
      "100%|██████████| 1/1 [00:03<00:00,  3.38s/it]\u001b[A\u001b[A\n",
      "\n",
      "  7%|▋         | 745/10000 [5:27:36<51:01:06, 19.85s/it]\u001b[A\n",
      "\n",
      "  0%|          | 0/1 [00:00<?, ?it/s]\u001b[A\u001b[A\n",
      "\n",
      "100%|██████████| 1/1 [00:04<00:00,  4.00s/it]\u001b[A\u001b[A\n",
      "\n",
      "  7%|▋         | 746/10000 [5:27:59<53:32:39, 20.83s/it]\u001b[A\n",
      "\n",
      "  0%|          | 0/1 [00:00<?, ?it/s]\u001b[A\u001b[A\n",
      "\n",
      "100%|██████████| 1/1 [00:03<00:00,  3.82s/it]\u001b[A\u001b[A\n",
      "\n",
      "  7%|▋         | 747/10000 [5:28:20<53:53:56, 20.97s/it]\u001b[A\n",
      "\n",
      "  0%|          | 0/1 [00:00<?, ?it/s]\u001b[A\u001b[A\n",
      "\n",
      "100%|██████████| 1/1 [00:05<00:00,  5.17s/it]\u001b[A\u001b[A\n",
      "\n",
      "  7%|▋         | 748/10000 [5:28:42<54:26:52, 21.19s/it]\u001b[A\n",
      "\n",
      "  0%|          | 0/1 [00:00<?, ?it/s]\u001b[A\u001b[A\n",
      "\n",
      "100%|██████████| 1/1 [00:03<00:00,  3.92s/it]\u001b[A\u001b[A\n",
      "\n",
      "  7%|▋         | 749/10000 [5:29:00<51:53:57, 20.20s/it]\u001b[A\n",
      "\n",
      "  0%|          | 0/1 [00:00<?, ?it/s]\u001b[A\u001b[A\n",
      "\n",
      "100%|██████████| 1/1 [00:02<00:00,  2.89s/it]\u001b[A\u001b[A\n",
      "\n",
      "  8%|▊         | 750/10000 [5:29:17<49:30:09, 19.27s/it]\u001b[A\n",
      "\n",
      "  0%|          | 0/1 [00:00<?, ?it/s]\u001b[A\u001b[A\n",
      "\n",
      "100%|██████████| 1/1 [00:04<00:00,  4.21s/it]\u001b[A\u001b[A\n",
      "\n",
      "  8%|▊         | 751/10000 [5:29:41<53:08:33, 20.68s/it]\u001b[A\n",
      "\n",
      "  0%|          | 0/1 [00:00<?, ?it/s]\u001b[A\u001b[A\n",
      "\n",
      "100%|██████████| 1/1 [00:04<00:00,  4.38s/it]\u001b[A\u001b[A\n",
      "\n",
      "  8%|▊         | 752/10000 [5:30:01<52:30:29, 20.44s/it]\u001b[A\n",
      "\n",
      "  0%|          | 0/1 [00:00<?, ?it/s]\u001b[A\u001b[A\n",
      "\n",
      "100%|██████████| 1/1 [00:02<00:00,  2.73s/it]\u001b[A\u001b[A\n",
      "\n",
      "  8%|▊         | 753/10000 [5:30:20<51:35:05, 20.08s/it]\u001b[A\n",
      "\n",
      "  0%|          | 0/1 [00:00<?, ?it/s]\u001b[A\u001b[A\n",
      "\n",
      "100%|██████████| 1/1 [00:04<00:00,  4.35s/it]\u001b[A\u001b[A\n",
      "\n",
      "  8%|▊         | 754/10000 [5:30:45<55:11:53, 21.49s/it]\u001b[A\n",
      "\n",
      "  0%|          | 0/1 [00:00<?, ?it/s]\u001b[A\u001b[A\n",
      "\n",
      "100%|██████████| 1/1 [00:08<00:00,  8.62s/it]\u001b[A\u001b[A\n",
      "\n",
      "  8%|▊         | 755/10000 [5:31:10<57:45:50, 22.49s/it]\u001b[A\n",
      "\n",
      "  0%|          | 0/1 [00:00<?, ?it/s]\u001b[A\u001b[A\n",
      "\n",
      "100%|██████████| 1/1 [00:02<00:00,  2.98s/it]\u001b[A\u001b[A\n",
      "\n",
      "  8%|▊         | 756/10000 [5:31:29<55:39:54, 21.68s/it]\u001b[A\n",
      "\n",
      "  0%|          | 0/1 [00:00<?, ?it/s]\u001b[A\u001b[A\n",
      "\n",
      "100%|██████████| 1/1 [00:02<00:00,  2.83s/it]\u001b[A\u001b[A\n",
      "\n",
      "  8%|▊         | 757/10000 [5:31:48<53:28:21, 20.83s/it]\u001b[A\n",
      "\n",
      "  0%|          | 0/1 [00:00<?, ?it/s]\u001b[A\u001b[A\n",
      "\n",
      "100%|██████████| 1/1 [00:04<00:00,  4.46s/it]\u001b[A\u001b[A\n",
      "\n",
      "  8%|▊         | 758/10000 [5:32:08<52:52:26, 20.60s/it]\u001b[A\n",
      "\n",
      "  0%|          | 0/1 [00:00<?, ?it/s]\u001b[A\u001b[A\n",
      "\n",
      "100%|██████████| 1/1 [00:03<00:00,  3.72s/it]\u001b[A\u001b[A\n",
      "\n",
      "  8%|▊         | 759/10000 [5:32:26<50:54:12, 19.83s/it]\u001b[A\n",
      "\n",
      "  0%|          | 0/1 [00:00<?, ?it/s]\u001b[A\u001b[A\n",
      "\n",
      "100%|██████████| 1/1 [00:03<00:00,  3.26s/it]\u001b[A\u001b[A\n",
      "\n",
      "  8%|▊         | 760/10000 [5:32:46<51:12:36, 19.95s/it]\u001b[A\n",
      "\n",
      "  0%|          | 0/1 [00:00<?, ?it/s]\u001b[A\u001b[A\n",
      "\n",
      "100%|██████████| 1/1 [00:05<00:00,  5.33s/it]\u001b[A\u001b[A\n",
      "\n",
      "  8%|▊         | 761/10000 [5:33:16<58:25:27, 22.77s/it]\u001b[A\n",
      "\n",
      "  0%|          | 0/1 [00:00<?, ?it/s]\u001b[A\u001b[A\n",
      "\n",
      "100%|██████████| 1/1 [00:03<00:00,  3.69s/it]\u001b[A\u001b[A\n",
      "\n",
      "  8%|▊         | 762/10000 [5:33:35<55:44:24, 21.72s/it]\u001b[A\n",
      "\n",
      "  0%|          | 0/1 [00:00<?, ?it/s]\u001b[A\u001b[A\n",
      "\n",
      "100%|██████████| 1/1 [00:03<00:00,  3.94s/it]\u001b[A\u001b[A\n",
      "\n",
      "  8%|▊         | 763/10000 [5:33:53<52:37:52, 20.51s/it]\u001b[A\n",
      "\n",
      "  0%|          | 0/1 [00:00<?, ?it/s]\u001b[A\u001b[A\n",
      "\n",
      "100%|██████████| 1/1 [00:03<00:00,  3.89s/it]\u001b[A\u001b[A\n",
      "\n",
      "  8%|▊         | 769/10000 [5:36:03<55:27:23, 21.63s/it]\u001b[A\n",
      "\n",
      "  0%|          | 0/1 [00:00<?, ?it/s]\u001b[A\u001b[A\n",
      "\n",
      "100%|██████████| 1/1 [00:03<00:00,  3.17s/it]\u001b[A\u001b[A\n",
      "\n",
      "  8%|▊         | 770/10000 [5:36:21<52:24:23, 20.44s/it]\u001b[A\n",
      "\n",
      "  0%|          | 0/1 [00:00<?, ?it/s]\u001b[A\u001b[A\n",
      "\n",
      "100%|██████████| 1/1 [00:03<00:00,  3.33s/it]\u001b[A\u001b[A\n",
      "\n",
      "  8%|▊         | 771/10000 [5:36:44<54:07:07, 21.11s/it]\u001b[A\n",
      "\n",
      "  0%|          | 0/1 [00:00<?, ?it/s]\u001b[A\u001b[A\n",
      "\n",
      "100%|██████████| 1/1 [00:03<00:00,  3.96s/it]\u001b[A\u001b[A\n",
      "\n",
      "  8%|▊         | 772/10000 [5:37:03<52:44:38, 20.58s/it]\u001b[A\n",
      "\n",
      "  0%|          | 0/1 [00:00<?, ?it/s]\u001b[A\u001b[A\n",
      "\n",
      "100%|██████████| 1/1 [00:02<00:00,  2.89s/it]\u001b[A\u001b[A\n",
      "\n",
      "  8%|▊         | 773/10000 [5:37:20<50:08:24, 19.56s/it]\u001b[A\n",
      "\n",
      "  0%|          | 0/1 [00:00<?, ?it/s]\u001b[A\u001b[A\n",
      "\n",
      "100%|██████████| 1/1 [00:03<00:00,  3.78s/it]\u001b[A\u001b[A\n",
      "\n",
      "  8%|▊         | 774/10000 [5:37:45<53:45:02, 20.97s/it]\u001b[A\n",
      "\n",
      "  0%|          | 0/1 [00:00<?, ?it/s]\u001b[A\u001b[A\n",
      "\n",
      "100%|██████████| 1/1 [00:04<00:00,  4.59s/it]\u001b[A\u001b[A\n",
      "\n",
      "  8%|▊         | 775/10000 [5:38:09<56:16:19, 21.96s/it]\u001b[A\n",
      "\n",
      "  0%|          | 0/1 [00:00<?, ?it/s]\u001b[A\u001b[A\n",
      "\n",
      "100%|██████████| 1/1 [00:02<00:00,  2.94s/it]\u001b[A\u001b[A\n",
      "\n",
      "  8%|▊         | 776/10000 [5:38:28<53:59:29, 21.07s/it]\u001b[A\n",
      "\n",
      "  0%|          | 0/1 [00:00<?, ?it/s]\u001b[A\u001b[A\n",
      "\n",
      "100%|██████████| 1/1 [00:04<00:00,  4.25s/it]\u001b[A\u001b[A\n",
      "\n",
      "  8%|▊         | 777/10000 [5:38:48<53:26:50, 20.86s/it]\u001b[A\n",
      "\n",
      "  0%|          | 0/1 [00:00<?, ?it/s]\u001b[A\u001b[A\n",
      "\n",
      "100%|██████████| 1/1 [00:04<00:00,  4.75s/it]\u001b[A\u001b[A\n",
      "\n",
      "  8%|▊         | 778/10000 [5:39:09<53:30:42, 20.89s/it]\u001b[A\n",
      "\n",
      "  0%|          | 0/1 [00:00<?, ?it/s]\u001b[A\u001b[A\n",
      "\n",
      "100%|██████████| 1/1 [00:03<00:00,  3.60s/it]\u001b[A\u001b[A\n",
      "\n",
      "  8%|▊         | 779/10000 [5:39:27<51:13:01, 20.00s/it]\u001b[A\n",
      "\n",
      "  0%|          | 0/1 [00:00<?, ?it/s]\u001b[A\u001b[A\n",
      "\n",
      "100%|██████████| 1/1 [00:02<00:00,  2.12s/it]\u001b[A\u001b[A\n",
      "\n",
      "  8%|▊         | 780/10000 [5:39:45<49:23:16, 19.28s/it]\u001b[A\n",
      "\n",
      "  0%|          | 0/1 [00:00<?, ?it/s]\u001b[A\u001b[A\n",
      "\n",
      "100%|██████████| 1/1 [00:03<00:00,  3.87s/it]\u001b[A\u001b[A\n",
      "\n",
      "  8%|▊         | 781/10000 [5:40:11<55:02:04, 21.49s/it]\u001b[A\n",
      "\n",
      "  0%|          | 0/1 [00:00<?, ?it/s]\u001b[A\u001b[A\n",
      "\n",
      "100%|██████████| 1/1 [00:05<00:00,  5.04s/it]\u001b[A\u001b[A\n",
      "\n",
      "  8%|▊         | 782/10000 [5:40:32<54:24:24, 21.25s/it]\u001b[A\n",
      "\n",
      "  0%|          | 0/1 [00:00<?, ?it/s]\u001b[A\u001b[A\n",
      "\n",
      "100%|██████████| 1/1 [00:03<00:00,  3.78s/it]\u001b[A\u001b[A\n",
      "\n",
      "  8%|▊         | 783/10000 [5:40:51<52:33:01, 20.53s/it]\u001b[A\n",
      "\n",
      "  0%|          | 0/1 [00:00<?, ?it/s]\u001b[A\u001b[A\n",
      "\n",
      "100%|██████████| 1/1 [00:03<00:00,  3.11s/it]\u001b[A\u001b[A\n",
      "\n",
      "  8%|▊         | 784/10000 [5:41:10<51:51:11, 20.26s/it]\u001b[A\n",
      "\n",
      "  0%|          | 0/1 [00:00<?, ?it/s]\u001b[A\u001b[A\n",
      "\n",
      "100%|██████████| 1/1 [00:04<00:00,  4.39s/it]\u001b[A\u001b[A\n",
      "\n",
      "  8%|▊         | 785/10000 [5:41:31<51:46:06, 20.22s/it]\u001b[A\n",
      "\n",
      "  0%|          | 0/1 [00:00<?, ?it/s]\u001b[A\u001b[A\n",
      "\n",
      "100%|██████████| 1/1 [00:03<00:00,  3.61s/it]\u001b[A\u001b[A\n",
      "\n",
      "  8%|▊         | 786/10000 [5:41:50<50:50:43, 19.87s/it]\u001b[A\n",
      "\n",
      "  0%|          | 0/1 [00:00<?, ?it/s]\u001b[A\u001b[A\n",
      "\n",
      "100%|██████████| 1/1 [00:07<00:00,  7.65s/it]\u001b[A\u001b[A\n",
      "\n",
      "  8%|▊         | 787/10000 [5:42:18<57:05:35, 22.31s/it]\u001b[A\n",
      "\n",
      "  0%|          | 0/1 [00:00<?, ?it/s]\u001b[A\u001b[A\n",
      "\n",
      "100%|██████████| 1/1 [00:05<00:00,  5.78s/it]\u001b[A\u001b[A\n",
      "\n",
      "  8%|▊         | 788/10000 [5:42:43<59:05:08, 23.09s/it]\u001b[A\n",
      "\n",
      "  0%|          | 0/1 [00:00<?, ?it/s]\u001b[A\u001b[A\n",
      "\n",
      "100%|██████████| 1/1 [00:04<00:00,  4.03s/it]\u001b[A\u001b[A\n",
      "\n",
      "  8%|▊         | 789/10000 [5:43:02<56:37:21, 22.13s/it]\u001b[A\n",
      "\n",
      "  0%|          | 0/1 [00:00<?, ?it/s]\u001b[A\u001b[A\n",
      "\n",
      "100%|██████████| 1/1 [00:04<00:00,  4.00s/it]\u001b[A\u001b[A\n",
      "\n",
      "  8%|▊         | 790/10000 [5:43:21<54:12:44, 21.19s/it]\u001b[A\n",
      "\n",
      "  0%|          | 0/1 [00:00<?, ?it/s]\u001b[A\u001b[A\n",
      "\n",
      "100%|██████████| 1/1 [00:04<00:00,  4.17s/it]\u001b[A\u001b[A\n",
      "\n",
      "  8%|▊         | 791/10000 [5:43:42<54:00:24, 21.11s/it]\u001b[A\n",
      "\n",
      "  0%|          | 0/1 [00:00<?, ?it/s]\u001b[A\u001b[A\n",
      "\n",
      "100%|██████████| 1/1 [00:05<00:00,  5.27s/it]\u001b[A\u001b[A\n",
      "\n",
      "  8%|▊         | 792/10000 [5:44:05<54:50:25, 21.44s/it]\u001b[A\n",
      "\n",
      "  0%|          | 0/1 [00:00<?, ?it/s]\u001b[A\u001b[A\n",
      "\n",
      "100%|██████████| 1/1 [00:04<00:00,  4.01s/it]\u001b[A\u001b[A\n",
      "\n",
      "  8%|▊         | 793/10000 [5:44:26<54:53:01, 21.46s/it]\u001b[A\n",
      "\n",
      "  0%|          | 0/1 [00:00<?, ?it/s]\u001b[A\u001b[A\n",
      "\n",
      "100%|██████████| 1/1 [00:03<00:00,  3.89s/it]\u001b[A\u001b[A\n",
      "\n",
      "  8%|▊         | 794/10000 [5:44:47<54:43:05, 21.40s/it]\u001b[A\n",
      "\n",
      "  0%|          | 0/1 [00:00<?, ?it/s]\u001b[A\u001b[A\n",
      "\n",
      "100%|██████████| 1/1 [00:04<00:00,  4.16s/it]\u001b[A\u001b[A\n",
      "\n",
      "  8%|▊         | 795/10000 [5:45:06<52:59:14, 20.72s/it]\u001b[A\n",
      "\n",
      "  0%|          | 0/1 [00:00<?, ?it/s]\u001b[A\u001b[A\n",
      "\n",
      "100%|██████████| 1/1 [00:03<00:00,  3.29s/it]\u001b[A\u001b[A\n",
      "\n",
      "  8%|▊         | 796/10000 [5:45:25<51:06:56, 19.99s/it]\u001b[A\n",
      "\n",
      "  0%|          | 0/1 [00:00<?, ?it/s]\u001b[A\u001b[A\n",
      "\n",
      "100%|██████████| 1/1 [00:03<00:00,  3.84s/it]\u001b[A\u001b[A\n",
      "\n",
      "  8%|▊         | 797/10000 [5:45:44<50:24:43, 19.72s/it]\u001b[A\n",
      "\n",
      "  0%|          | 0/1 [00:00<?, ?it/s]\u001b[A\u001b[A\n",
      "\n",
      "100%|██████████| 1/1 [00:03<00:00,  3.18s/it]\u001b[A\u001b[A\n",
      "\n",
      "  8%|▊         | 798/10000 [5:46:04<50:29:28, 19.75s/it]\u001b[A\n",
      "\n",
      "  0%|          | 0/1 [00:00<?, ?it/s]\u001b[A\u001b[A\n",
      "\n",
      "100%|██████████| 1/1 [00:03<00:00,  3.66s/it]\u001b[A\u001b[A\n",
      "\n",
      "  8%|▊         | 799/10000 [5:46:23<49:47:57, 19.48s/it]\u001b[A\n",
      "\n",
      "  0%|          | 0/1 [00:00<?, ?it/s]\u001b[A\u001b[A\n",
      "\n",
      "100%|██████████| 1/1 [00:03<00:00,  3.88s/it]\u001b[A\u001b[A\n",
      "\n",
      "  8%|▊         | 800/10000 [5:46:44<51:02:29, 19.97s/it]\u001b[A\n",
      "\n",
      "  0%|          | 0/1 [00:00<?, ?it/s]\u001b[A\u001b[A\n",
      "\n",
      "100%|██████████| 1/1 [00:04<00:00,  4.21s/it]\u001b[A\u001b[A\n",
      "\n",
      "  8%|▊         | 801/10000 [5:47:08<54:06:43, 21.18s/it]\u001b[A\n",
      "\n",
      "  0%|          | 0/1 [00:00<?, ?it/s]\u001b[A\u001b[A\n",
      "\n",
      "100%|██████████| 1/1 [00:05<00:00,  5.95s/it]\u001b[A\u001b[A\n",
      "\n",
      "  8%|▊         | 802/10000 [5:47:33<56:56:12, 22.28s/it]\u001b[A\n",
      "\n",
      "  0%|          | 0/1 [00:00<?, ?it/s]\u001b[A\u001b[A\n",
      "\n",
      "100%|██████████| 1/1 [00:05<00:00,  5.67s/it]\u001b[A\u001b[A\n",
      "\n",
      "  8%|▊         | 803/10000 [5:47:53<55:45:58, 21.83s/it]\u001b[A\n",
      "\n",
      "  0%|          | 0/1 [00:00<?, ?it/s]\u001b[A\u001b[A\n",
      "\n",
      "100%|██████████| 1/1 [00:02<00:00,  2.76s/it]\u001b[A\u001b[A\n",
      "\n",
      "  8%|▊         | 804/10000 [5:48:13<54:02:15, 21.15s/it]\u001b[A\n",
      "\n",
      "  0%|          | 0/1 [00:00<?, ?it/s]\u001b[A\u001b[A\n",
      "\n",
      "100%|██████████| 1/1 [00:03<00:00,  3.83s/it]\u001b[A\u001b[A\n",
      "\n",
      "  8%|▊         | 805/10000 [5:48:31<51:52:52, 20.31s/it]\u001b[A\n",
      "\n",
      "  0%|          | 0/1 [00:00<?, ?it/s]\u001b[A\u001b[A\n",
      "\n",
      "100%|██████████| 1/1 [00:03<00:00,  3.24s/it]\u001b[A\u001b[A\n",
      "\n",
      "  8%|▊         | 806/10000 [5:48:50<50:42:51, 19.86s/it]\u001b[A\n",
      "\n",
      "  0%|          | 0/1 [00:00<?, ?it/s]\u001b[A\u001b[A\n",
      "\n",
      "100%|██████████| 1/1 [00:04<00:00,  4.98s/it]\u001b[A\u001b[A\n",
      "\n",
      "  8%|▊         | 807/10000 [5:49:16<55:28:16, 21.72s/it]\u001b[A\n",
      "\n",
      "  0%|          | 0/1 [00:00<?, ?it/s]\u001b[A\u001b[A\n",
      "\n",
      "100%|██████████| 1/1 [00:04<00:00,  4.77s/it]\u001b[A\u001b[A\n",
      "\n",
      "  8%|▊         | 808/10000 [5:49:36<54:12:33, 21.23s/it]\u001b[A\n",
      "\n",
      "  0%|          | 0/1 [00:00<?, ?it/s]\u001b[A\u001b[A\n",
      "\n",
      "100%|██████████| 1/1 [00:03<00:00,  3.63s/it]\u001b[A\u001b[A\n",
      "\n",
      "  8%|▊         | 809/10000 [5:49:56<52:51:35, 20.70s/it]\u001b[A\n",
      "\n",
      "  0%|          | 0/1 [00:00<?, ?it/s]\u001b[A\u001b[A\n",
      "\n",
      "100%|██████████| 1/1 [00:02<00:00,  2.96s/it]\u001b[A\u001b[A\n",
      "\n",
      "  8%|▊         | 810/10000 [5:50:13<50:30:21, 19.78s/it]\u001b[A\n",
      "\n",
      "  0%|          | 0/1 [00:00<?, ?it/s]\u001b[A\u001b[A\n",
      "\n",
      "100%|██████████| 1/1 [00:03<00:00,  3.06s/it]\u001b[A\u001b[A\n",
      "\n",
      "  8%|▊         | 811/10000 [5:50:33<50:40:54, 19.86s/it]\u001b[A\n",
      "\n",
      "  0%|          | 0/1 [00:00<?, ?it/s]\u001b[A\u001b[A\n",
      "\n",
      "100%|██████████| 1/1 [00:05<00:00,  5.31s/it]\u001b[A\u001b[A\n",
      "\n",
      "  8%|▊         | 812/10000 [5:50:58<54:18:20, 21.28s/it]\u001b[A\n",
      "\n",
      "  0%|          | 0/1 [00:00<?, ?it/s]\u001b[A\u001b[A\n",
      "\n",
      "100%|██████████| 1/1 [00:04<00:00,  4.76s/it]\u001b[A\u001b[A\n",
      "\n",
      "  8%|▊         | 813/10000 [5:51:21<55:26:03, 21.72s/it]\u001b[A\n",
      "\n",
      "  0%|          | 0/1 [00:00<?, ?it/s]\u001b[A\u001b[A\n",
      "\n",
      "100%|██████████| 1/1 [00:03<00:00,  3.43s/it]\u001b[A\u001b[A\n",
      "\n",
      "  8%|▊         | 814/10000 [5:51:42<55:03:49, 21.58s/it]\u001b[A\n",
      "\n",
      "  0%|          | 0/1 [00:00<?, ?it/s]\u001b[A\u001b[A\n",
      "\n",
      "100%|██████████| 1/1 [00:05<00:00,  5.35s/it]\u001b[A\u001b[A\n",
      "\n",
      "  8%|▊         | 815/10000 [5:52:04<55:11:25, 21.63s/it]\u001b[A\n",
      "\n",
      "  0%|          | 0/1 [00:00<?, ?it/s]\u001b[A\u001b[A\n",
      "\n",
      "100%|██████████| 1/1 [00:03<00:00,  3.34s/it]\u001b[A\u001b[A\n",
      "\n",
      "  8%|▊         | 816/10000 [5:52:22<52:31:56, 20.59s/it]\u001b[A\n",
      "\n",
      "  0%|          | 0/1 [00:00<?, ?it/s]\u001b[A\u001b[A\n",
      "\n",
      "100%|██████████| 1/1 [00:04<00:00,  4.41s/it]\u001b[A\u001b[A\n",
      "\n",
      "  8%|▊         | 817/10000 [5:52:42<52:06:45, 20.43s/it]\u001b[A\n",
      "\n",
      "  0%|          | 0/1 [00:00<?, ?it/s]\u001b[A\u001b[A\n",
      "\n",
      "100%|██████████| 1/1 [00:03<00:00,  3.17s/it]\u001b[A\u001b[A\n",
      "\n",
      "  8%|▊         | 818/10000 [5:53:02<51:45:42, 20.29s/it]\u001b[A\n",
      "\n",
      "  0%|          | 0/1 [00:00<?, ?it/s]\u001b[A\u001b[A\n",
      "\n",
      "100%|██████████| 1/1 [00:04<00:00,  4.07s/it]\u001b[A\u001b[A\n",
      "\n",
      "  8%|▊         | 819/10000 [5:53:23<52:21:18, 20.53s/it]\u001b[A\n",
      "\n",
      "  0%|          | 0/1 [00:00<?, ?it/s]\u001b[A\u001b[A\n",
      "\n",
      "100%|██████████| 1/1 [00:03<00:00,  3.62s/it]\u001b[A\u001b[A\n",
      "\n",
      "  8%|▊         | 820/10000 [5:53:41<50:44:06, 19.90s/it]\u001b[A\n",
      "\n",
      "  0%|          | 0/1 [00:00<?, ?it/s]\u001b[A\u001b[A\n",
      "\n",
      "100%|██████████| 1/1 [00:03<00:00,  3.62s/it]\u001b[A\u001b[A\n",
      "\n",
      "  8%|▊         | 821/10000 [5:54:02<50:59:33, 20.00s/it]\u001b[A\n",
      "\n",
      "  0%|          | 0/1 [00:00<?, ?it/s]\u001b[A\u001b[A\n",
      "\n",
      "100%|██████████| 1/1 [00:03<00:00,  3.85s/it]\u001b[A\u001b[A\n",
      "\n",
      "  8%|▊         | 822/10000 [5:54:24<53:12:06, 20.87s/it]\u001b[A\n",
      "\n",
      "  0%|          | 0/1 [00:00<?, ?it/s]\u001b[A\u001b[A\n",
      "\n",
      "100%|██████████| 1/1 [00:03<00:00,  3.59s/it]\u001b[A\u001b[A\n",
      "\n",
      "  8%|▊         | 823/10000 [5:54:44<52:08:40, 20.46s/it]\u001b[A\n",
      "\n",
      "  0%|          | 0/1 [00:00<?, ?it/s]\u001b[A\u001b[A\n",
      "\n",
      "100%|██████████| 1/1 [00:03<00:00,  3.76s/it]\u001b[A\u001b[A\n",
      "\n",
      "  8%|▊         | 824/10000 [5:55:03<50:59:48, 20.01s/it]\u001b[A\n",
      "\n",
      "  0%|          | 0/1 [00:00<?, ?it/s]\u001b[A\u001b[A\n",
      "\n",
      "100%|██████████| 1/1 [00:03<00:00,  3.98s/it]\u001b[A\u001b[A\n",
      "\n",
      "  8%|▊         | 825/10000 [5:55:24<51:46:05, 20.31s/it]\u001b[A\n",
      "\n",
      "  0%|          | 0/1 [00:00<?, ?it/s]\u001b[A\u001b[A\n",
      "\n",
      "100%|██████████| 1/1 [00:03<00:00,  3.63s/it]\u001b[A\u001b[A\n",
      "\n",
      "  8%|▊         | 826/10000 [5:55:44<51:23:42, 20.17s/it]\u001b[A\n",
      "\n",
      "  0%|          | 0/1 [00:00<?, ?it/s]\u001b[A\u001b[A\n",
      "\n",
      "100%|██████████| 1/1 [00:04<00:00,  4.79s/it]\u001b[A\u001b[A\n",
      "\n",
      "  8%|▊         | 827/10000 [5:56:07<53:54:05, 21.15s/it]\u001b[A\n",
      "\n",
      "  0%|          | 0/1 [00:00<?, ?it/s]\u001b[A\u001b[A\n",
      "\n",
      "100%|██████████| 1/1 [00:04<00:00,  4.55s/it]\u001b[A\u001b[A\n",
      "\n",
      "  8%|▊         | 828/10000 [5:56:31<55:51:18, 21.92s/it]\u001b[A\n",
      "\n",
      "  0%|          | 0/1 [00:00<?, ?it/s]\u001b[A\u001b[A\n",
      "\n",
      "100%|██████████| 1/1 [00:03<00:00,  3.80s/it]\u001b[A\u001b[A\n",
      "\n",
      "  8%|▊         | 829/10000 [5:56:50<54:00:56, 21.20s/it]\u001b[A\n",
      "\n",
      "  0%|          | 0/1 [00:00<?, ?it/s]\u001b[A\u001b[A\n",
      "\n",
      "100%|██████████| 1/1 [00:03<00:00,  3.50s/it]\u001b[A\u001b[A\n",
      "\n",
      "  8%|▊         | 830/10000 [5:57:08<51:33:38, 20.24s/it]\u001b[A\n",
      "\n",
      "  0%|          | 0/1 [00:00<?, ?it/s]\u001b[A\u001b[A\n",
      "\n",
      "100%|██████████| 1/1 [00:02<00:00,  2.95s/it]\u001b[A\u001b[A\n",
      "\n",
      "  8%|▊         | 831/10000 [5:57:26<49:30:24, 19.44s/it]\u001b[A\n",
      "\n",
      "  0%|          | 0/1 [00:00<?, ?it/s]\u001b[A\u001b[A\n",
      "\n",
      "100%|██████████| 1/1 [00:04<00:00,  4.47s/it]\u001b[A\u001b[A\n",
      "\n",
      "  8%|▊         | 832/10000 [5:57:48<51:24:48, 20.19s/it]\u001b[A\n",
      "\n",
      "  0%|          | 0/1 [00:00<?, ?it/s]\u001b[A\u001b[A\n",
      "\n",
      "100%|██████████| 1/1 [00:04<00:00,  4.78s/it]\u001b[A\u001b[A\n",
      "\n",
      "  8%|▊         | 833/10000 [5:58:11<53:20:19, 20.95s/it]\u001b[A\n",
      "\n",
      "  0%|          | 0/1 [00:00<?, ?it/s]\u001b[A\u001b[A\n",
      "\n",
      "100%|██████████| 1/1 [00:03<00:00,  3.96s/it]\u001b[A\u001b[A\n",
      "\n",
      "  8%|▊         | 834/10000 [5:58:32<53:25:00, 20.98s/it]\u001b[A\n",
      "\n",
      "  0%|          | 0/1 [00:00<?, ?it/s]\u001b[A\u001b[A\n",
      "\n"
     ]
    }
   ],
   "source": [
    "output_dict, model = perform_cross_validation(data, parameters, save_embeddings=True, save_subgraph=True, final_fit=True)"
   ]
  },
  {
   "cell_type": "code",
   "execution_count": 17,
   "metadata": {},
   "outputs": [
    {
     "name": "stdout",
     "output_type": "stream",
     "text": [
      "Train AUC : 0.8087550075840401\n",
      "Train Balanced Accuracy: 0.7272622524642082\n",
      "Val AUC: 0.7882300871795502\n",
      "Val Balanced Accuracy: 0.7131937153262855\n",
      "Test AUC: 0.7906536387077951\n",
      "Test Balanced Accuracy: 0.7137092872298707\n"
     ]
    }
   ],
   "source": [
    "output_dict.keys()\n",
    "print('Train AUC :', output_dict['AUC_0_train'])\n",
    "print('Train Balanced Accuracy:', output_dict['Balanced Accuracy_0_train'])\n",
    "print('Val AUC:', output_dict['AUC_0_val'])\n",
    "print('Val Balanced Accuracy:', output_dict['Balanced Accuracy_0_val'])\n",
    "print('Test AUC:', output_dict['AUC_0_test'])\n",
    "print('Test Balanced Accuracy:', output_dict['Balanced Accuracy_0_test'])"
   ]
  },
  {
   "cell_type": "code",
   "execution_count": 19,
   "metadata": {},
   "outputs": [
    {
     "data": {
      "text/plain": [
       "0.6373014836159574"
      ]
     },
     "execution_count": 19,
     "metadata": {},
     "output_type": "execute_result"
    }
   ],
   "source": [
    "output_dict['Balanced Accuracy Bernoulli_0_test']"
   ]
  },
  {
   "cell_type": "code",
   "execution_count": null,
   "metadata": {},
   "outputs": [],
   "source": [
    "unique_scales = df_item['scale'].unique()\n",
    "unique_domains = df_item['domain'].unique()\n",
    "unique_matdiff = df_item['matdiff'].sort_values().unique()\n",
    "#scale_colors = dict([(c, plt.cm.tab10(i)) for i, c in enumerate(unique_scales)])\n",
    "#domain_colors = dict([(c, plt.cm.tab10(i)) for i, c in enumerate(unique_domains)])"
   ]
  },
  {
   "cell_type": "code",
   "execution_count": null,
   "metadata": {},
   "outputs": [],
   "source": [
    "train_losses = output_dict['losses_0']\n",
    "train_edge_indices, val_edge_indices, test_edge_indices = output_dict['indices_0']\n",
    "\n",
    "train_data = output_dict['train_subgraph_data'] \n",
    "val_data = output_dict['val_subgraph_data'] \n",
    "test_data = output_dict['test_subgraph_data']\n",
    "\n",
    "aux_data = (df, df_student, df_item, df_edge, \n",
    "    #clustering_indices, \n",
    "    train_losses, #test_losses, test_aucs, \n",
    "    train_edge_indices, val_edge_indices, test_edge_indices, \n",
    "    data.cpu(), train_data.cpu(), val_data.cpu(), test_data.cpu(),\n",
    "    unique_scales, unique_domains, unique_matdiff, \n",
    "    DATA_FILE)\n",
    "\n",
    "with open(f'./results/{OUTNAME}_{DATASET}_aux_data.pkl', 'wb') as handle:\n",
    "    pickle.dump(aux_data, handle, protocol=pickle.HIGHEST_PROTOCOL)"
   ]
  },
  {
   "cell_type": "code",
   "execution_count": null,
   "metadata": {},
   "outputs": [],
   "source": [
    "# SAVE EVERYTHING\n",
    "torch.save(model, f'./results/{OUTNAME}_{DATASET}.pth.tar')"
   ]
  },
  {
   "cell_type": "code",
   "execution_count": null,
   "metadata": {
    "scrolled": true
   },
   "outputs": [],
   "source": [
    "train_indices = np.arange(len(train_losses))\n",
    "fig = plt.figure()\n",
    "plt.plot(train_indices, train_losses, c='blue')\n",
    "plt.ylabel('Loss')\n",
    "plt.xlabel('Epoch')\n",
    "\n",
    "fig.tight_layout()"
   ]
  },
  {
   "cell_type": "code",
   "execution_count": null,
   "metadata": {},
   "outputs": [],
   "source": [
    "# save IRT parameters to matrix\n",
    "if ('IRT' in OUTNAME) and IRT_DIMS == 1:    \n",
    "    #z_dict = model.get_embeddings(train_data.to(device))\n",
    "    z_dict = output_dict['embedding_0']\n",
    "    df_item['IRT1_difficulty'] = -z_dict['offset']\n",
    "    df_item['IRT1_discrimination'] = z_dict['discrimination']\n",
    "    df_item['IRT1_discrimination_transf'] = z_dict['item']\n",
    "    ability = z_dict['ability']\n",
    "    df_edge['IRT1_ability'] = ability.ravel()\n",
    "    \n",
    "    aux_data = (df, df_student, df_item, df_edge, \n",
    "    train_losses, \n",
    "    train_edge_indices, val_edge_indices, test_edge_indices,\n",
    "    data.cpu(), train_data.cpu(), val_data.cpu().cpu(), test_data.cpu(),\n",
    "    unique_scales, unique_domains, unique_matdiff, \n",
    "    DATA_FILE)\n",
    "\n",
    "    with open(f'./results/{OUTNAME}_{DATASET}_aux_data_IRT1.pkl', 'wb') as handle:\n",
    "        pickle.dump(aux_data, handle, protocol=pickle.HIGHEST_PROTOCOL)\n",
    "        \n",
    "    df_item_clean = df_item.dropna(subset=['IRT_difficulty', 'IRT1_difficulty'])    \n",
    "    \n",
    "    fig = plt.figure()\n",
    "    sns.scatterplot(x='IRT_difficulty', y='IRT1_difficulty', data=df_item, hue='scale')\n",
    "    plt.title('Difficulty')\n",
    "    print('Difficulty:', pearsonr(df_item_clean['IRT1_difficulty'], df_item_clean['IRT_difficulty']))\n",
    "    \n",
    "    edge_feat = train_data['student', 'responds', 'item'].edge_attr.detach().cpu().numpy()\n",
    "    df_edge_clean = df_edge.dropna(subset=['IRT1_ability', 'ability', 'age'])\n",
    "    fig = plt.figure()\n",
    "    sns.scatterplot(x='age', y='IRT1_ability', data=df_edge_clean, hue='grade')\n",
    "    plt.title('Age-Ability')\n",
    "    \n",
    "    fig = plt.figure()\n",
    "    sns.scatterplot(x='grade', y='IRT1_ability', data=df_edge_clean, hue='age')\n",
    "    plt.title('Grade-Ability')\n",
    "    print('Age-Ability:', pearsonr(df_edge_clean['age'], df_edge_clean['IRT1_ability']))\n",
    "\n",
    "    fig = plt.figure()\n",
    "    sns.scatterplot(x='ability', y='IRT1_ability', data=df_edge_clean, hue='grade')\n",
    "    plt.title('Ability')\n",
    "    print('Ability:', pearsonr(df_edge_clean['ability'], df_edge_clean['IRT1_ability']))\n",
    "    "
   ]
  }
 ],
 "metadata": {
  "celltoolbar": "Tags",
  "kernelspec": {
   "display_name": "Python 3 (ipykernel)",
   "language": "python",
   "name": "python3"
  },
  "language_info": {
   "codemirror_mode": {
    "name": "ipython",
    "version": 3
   },
   "file_extension": ".py",
   "mimetype": "text/x-python",
   "name": "python",
   "nbconvert_exporter": "python",
   "pygments_lexer": "ipython3",
   "version": "3.8.19"
  },
  "vscode": {
   "interpreter": {
    "hash": "88516cc94b965045253aac22be7e673e07faa374a8dfeab45aefc65ddf94d8b2"
   }
  }
 },
 "nbformat": 4,
 "nbformat_minor": 4
}
