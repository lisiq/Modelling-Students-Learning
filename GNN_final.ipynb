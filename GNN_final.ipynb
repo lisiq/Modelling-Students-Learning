{
 "cells": [
  {
   "cell_type": "code",
   "execution_count": 17,
   "metadata": {
    "tags": [
     "parameters"
    ]
   },
   "outputs": [],
   "source": [
    "IRT_DIMS = 0\n",
    "DATASET = 'matrix'    \n",
    "ITEM_FEATURES = 'False'\n",
    "ITEM_FEATURES = False if ITEM_FEATURES == 'False' else True"
   ]
  },
  {
   "cell_type": "code",
   "execution_count": 18,
   "metadata": {},
   "outputs": [],
   "source": [
    "import sys, os, shutil\n",
    "import pickle\n",
    "import time\n",
    "import numpy as np\n",
    "from utils import (mymode, load_data_heterogeneous, create_data_object_heterogeneous)\n",
    "import seaborn as sns\n",
    "\n",
    "from IRT import MIRT_2PL\n",
    "from Heterogeneous_embedder import EmbedderHeterogeneous, train_embedder_heterogeneous, test_embedder_heterogeneous\n",
    "from manage_experiments import perform_cross_validation\n",
    "\n",
    "import torch\n",
    "import numpy as np\n",
    "import matplotlib.pyplot as plt\n",
    "\n",
    "from scipy.stats import pearsonr"
   ]
  },
  {
   "cell_type": "code",
   "execution_count": 19,
   "metadata": {},
   "outputs": [
    {
     "name": "stdout",
     "output_type": "stream",
     "text": [
      "cpu\n"
     ]
    }
   ],
   "source": [
    "torch.cuda.empty_cache()\n",
    "device = torch.device('cuda' if torch.cuda.is_available() else 'cpu')\n",
    "print(device)"
   ]
  },
  {
   "cell_type": "code",
   "execution_count": 20,
   "metadata": {},
   "outputs": [
    {
     "name": "stdout",
     "output_type": "stream",
     "text": [
      "{'df_name': None, 'epochs': 10000, 'learning_rate': 0.005, 'weight_decay': 0, 'early_stopping': 200, 'n_splits': 10, 'device': 'cuda:0', 'batch_size': 16384, 'neighbours': [50, 50], 'model_type': 'GNN', 'hidden_dims': [16, 8]}\n",
      "matrix\n"
     ]
    }
   ],
   "source": [
    "# Initialise\n",
    "parameters = {\n",
    "    'df_name': None,\n",
    "    'epochs': 10000,\n",
    "    'learning_rate': 0.005,\n",
    "    'weight_decay': 0,\n",
    "    'early_stopping': 200,\n",
    "    'n_splits': 10,\n",
    "    'device': 'cuda:0',\n",
    "    'batch_size': 2**14,\n",
    "    'neighbours': [50, 50]\n",
    "    }\n",
    "\n",
    "if IRT_DIMS > 0:\n",
    "    parameters['model_type'] = 'IRT'\n",
    "    parameters['hidden_dims'] = IRT_DIMS\n",
    "    parameters['lambda1'] = 0\n",
    "    parameters['lambda2'] = 0\n",
    "    OUTNAME = 'IRT'\n",
    "else:\n",
    "    parameters['model_type'] = 'GNN'\n",
    "    parameters['hidden_dims'] = [16,8]\n",
    "    OUTNAME = 'SAGE' \n",
    "\n",
    "if ITEM_FEATURES:\n",
    "    OUTNAME = OUTNAME + '_scales'\n",
    "    \n",
    "print(parameters)\n",
    "print(DATASET)"
   ]
  },
  {
   "cell_type": "code",
   "execution_count": 21,
   "metadata": {},
   "outputs": [],
   "source": [
    "DATA_FILE = 'data/mindsteps_set_' + DATASET\n",
    "df = load_data_heterogeneous(DATA_FILE)\n",
    "data, df_student, df_item, df_edge = create_data_object_heterogeneous(df, return_aux_data=True, item_features=ITEM_FEATURES)"
   ]
  },
  {
   "cell_type": "code",
   "execution_count": 22,
   "metadata": {},
   "outputs": [
    {
     "name": "stdout",
     "output_type": "stream",
     "text": [
      "HeteroData(\n",
      "  student={\n",
      "    node_id=[51534],\n",
      "    x=[51534, 2],\n",
      "  },\n",
      "  item={ node_id=[17885] },\n",
      "  (student, responds, item)={\n",
      "    edge_index=[2, 5614949],\n",
      "    edge_attr=[5614949, 2],\n",
      "    y=[5614949],\n",
      "  },\n",
      "  (item, rev_responds, student)={ edge_index=[2, 5614949] }\n",
      ")\n"
     ]
    }
   ],
   "source": [
    "print(data)"
   ]
  },
  {
   "cell_type": "code",
   "execution_count": 6,
   "metadata": {},
   "outputs": [
    {
     "data": {
      "text/plain": [
       "Index(['studentId', 'code', 'motherTongue', 'Gender', 'scale', 'matrix',\n",
       "       'IRT_difficulty', 'topic', 'responseformat', 'textlength', 'score',\n",
       "       'age', 'grade', 'viewingTime', 'timestamp', 'useCase', 'assessmentId',\n",
       "       'school_location', 'school_postcode', 'canton', 'school_code',\n",
       "       'ability', 'frequency', 'previous_sessions', 'years_from_start',\n",
       "       'matdiff', 'matcode', 'domain'],\n",
       "      dtype='object')"
      ]
     },
     "execution_count": 6,
     "metadata": {},
     "output_type": "execute_result"
    }
   ],
   "source": [
    "df.columns"
   ]
  },
  {
   "cell_type": "code",
   "execution_count": 7,
   "metadata": {},
   "outputs": [
    {
     "data": {
      "text/html": [
       "<div>\n",
       "<style scoped>\n",
       "    .dataframe tbody tr th:only-of-type {\n",
       "        vertical-align: middle;\n",
       "    }\n",
       "\n",
       "    .dataframe tbody tr th {\n",
       "        vertical-align: top;\n",
       "    }\n",
       "\n",
       "    .dataframe thead th {\n",
       "        text-align: right;\n",
       "    }\n",
       "</style>\n",
       "<table border=\"1\" class=\"dataframe\">\n",
       "  <thead>\n",
       "    <tr style=\"text-align: right;\">\n",
       "      <th></th>\n",
       "      <th>studentId</th>\n",
       "      <th>code</th>\n",
       "      <th>motherTongue</th>\n",
       "      <th>Gender</th>\n",
       "      <th>scale</th>\n",
       "      <th>matrix</th>\n",
       "      <th>IRT_difficulty</th>\n",
       "      <th>topic</th>\n",
       "      <th>responseformat</th>\n",
       "      <th>textlength</th>\n",
       "      <th>...</th>\n",
       "      <th>school_postcode</th>\n",
       "      <th>canton</th>\n",
       "      <th>school_code</th>\n",
       "      <th>ability</th>\n",
       "      <th>frequency</th>\n",
       "      <th>previous_sessions</th>\n",
       "      <th>years_from_start</th>\n",
       "      <th>matdiff</th>\n",
       "      <th>matcode</th>\n",
       "      <th>domain</th>\n",
       "    </tr>\n",
       "  </thead>\n",
       "  <tbody>\n",
       "    <tr>\n",
       "      <th>0</th>\n",
       "      <td>0</td>\n",
       "      <td>0</td>\n",
       "      <td>1.0</td>\n",
       "      <td>0.0</td>\n",
       "      <td>fhoe</td>\n",
       "      <td>F.1.A.1.c.1</td>\n",
       "      <td>-0.370330</td>\n",
       "      <td>Monologe und Dialoge</td>\n",
       "      <td>NaN</td>\n",
       "      <td>NaN</td>\n",
       "      <td>...</td>\n",
       "      <td>4057</td>\n",
       "      <td>Basel-Stadt</td>\n",
       "      <td>04-052</td>\n",
       "      <td>1.083005</td>\n",
       "      <td>1.851849</td>\n",
       "      <td>2</td>\n",
       "      <td>1.08</td>\n",
       "      <td></td>\n",
       "      <td></td>\n",
       "      <td>f</td>\n",
       "    </tr>\n",
       "    <tr>\n",
       "      <th>1</th>\n",
       "      <td>0</td>\n",
       "      <td>1</td>\n",
       "      <td>1.0</td>\n",
       "      <td>0.0</td>\n",
       "      <td>fles</td>\n",
       "      <td>F.2.A.1.b.3</td>\n",
       "      <td>-0.494880</td>\n",
       "      <td>Berichte</td>\n",
       "      <td>NaN</td>\n",
       "      <td>NaN</td>\n",
       "      <td>...</td>\n",
       "      <td>4057</td>\n",
       "      <td>Basel-Stadt</td>\n",
       "      <td>04-052</td>\n",
       "      <td>0.657010</td>\n",
       "      <td>2.727266</td>\n",
       "      <td>3</td>\n",
       "      <td>1.10</td>\n",
       "      <td></td>\n",
       "      <td></td>\n",
       "      <td>f</td>\n",
       "    </tr>\n",
       "    <tr>\n",
       "      <th>2</th>\n",
       "      <td>0</td>\n",
       "      <td>2</td>\n",
       "      <td>1.0</td>\n",
       "      <td>0.0</td>\n",
       "      <td>mzuv</td>\n",
       "      <td>MA.1.A.3.f</td>\n",
       "      <td>0.368830</td>\n",
       "      <td>Gemischte Grundoperationen</td>\n",
       "      <td>single choice</td>\n",
       "      <td>NaN</td>\n",
       "      <td>...</td>\n",
       "      <td>4057</td>\n",
       "      <td>Basel-Stadt</td>\n",
       "      <td>04-052</td>\n",
       "      <td>0.751265</td>\n",
       "      <td>1000000.000000</td>\n",
       "      <td>0</td>\n",
       "      <td>0.00</td>\n",
       "      <td></td>\n",
       "      <td></td>\n",
       "      <td>m</td>\n",
       "    </tr>\n",
       "    <tr>\n",
       "      <th>3</th>\n",
       "      <td>0</td>\n",
       "      <td>3</td>\n",
       "      <td>1.0</td>\n",
       "      <td>0.0</td>\n",
       "      <td>fhoe</td>\n",
       "      <td>F.1.A.1.d.1</td>\n",
       "      <td>0.367442</td>\n",
       "      <td>Aus TV und Radio</td>\n",
       "      <td>NaN</td>\n",
       "      <td>NaN</td>\n",
       "      <td>...</td>\n",
       "      <td>4057</td>\n",
       "      <td>Basel-Stadt</td>\n",
       "      <td>04-052</td>\n",
       "      <td>1.083005</td>\n",
       "      <td>1.851849</td>\n",
       "      <td>2</td>\n",
       "      <td>1.08</td>\n",
       "      <td></td>\n",
       "      <td></td>\n",
       "      <td>f</td>\n",
       "    </tr>\n",
       "    <tr>\n",
       "      <th>4</th>\n",
       "      <td>0</td>\n",
       "      <td>4</td>\n",
       "      <td>1.0</td>\n",
       "      <td>0.0</td>\n",
       "      <td>fles</td>\n",
       "      <td>F.2.A.1.d.1</td>\n",
       "      <td>1.160150</td>\n",
       "      <td>Berichte</td>\n",
       "      <td>NaN</td>\n",
       "      <td>212.0</td>\n",
       "      <td>...</td>\n",
       "      <td>4057</td>\n",
       "      <td>Basel-Stadt</td>\n",
       "      <td>04-052</td>\n",
       "      <td>0.657010</td>\n",
       "      <td>2.727266</td>\n",
       "      <td>3</td>\n",
       "      <td>1.10</td>\n",
       "      <td></td>\n",
       "      <td></td>\n",
       "      <td>f</td>\n",
       "    </tr>\n",
       "  </tbody>\n",
       "</table>\n",
       "<p>5 rows × 28 columns</p>\n",
       "</div>"
      ],
      "text/plain": [
       "   studentId  code  motherTongue  Gender scale       matrix  IRT_difficulty  \\\n",
       "0          0     0           1.0     0.0  fhoe  F.1.A.1.c.1       -0.370330   \n",
       "1          0     1           1.0     0.0  fles  F.2.A.1.b.3       -0.494880   \n",
       "2          0     2           1.0     0.0  mzuv   MA.1.A.3.f        0.368830   \n",
       "3          0     3           1.0     0.0  fhoe  F.1.A.1.d.1        0.367442   \n",
       "4          0     4           1.0     0.0  fles  F.2.A.1.d.1        1.160150   \n",
       "\n",
       "                        topic responseformat  textlength  ...  \\\n",
       "0        Monologe und Dialoge            NaN         NaN  ...   \n",
       "1                    Berichte            NaN         NaN  ...   \n",
       "2  Gemischte Grundoperationen  single choice         NaN  ...   \n",
       "3            Aus TV und Radio            NaN         NaN  ...   \n",
       "4                    Berichte            NaN       212.0  ...   \n",
       "\n",
       "   school_postcode       canton  school_code   ability       frequency  \\\n",
       "0             4057  Basel-Stadt       04-052  1.083005        1.851849   \n",
       "1             4057  Basel-Stadt       04-052  0.657010        2.727266   \n",
       "2             4057  Basel-Stadt       04-052  0.751265  1000000.000000   \n",
       "3             4057  Basel-Stadt       04-052  1.083005        1.851849   \n",
       "4             4057  Basel-Stadt       04-052  0.657010        2.727266   \n",
       "\n",
       "  previous_sessions years_from_start matdiff matcode domain  \n",
       "0                 2             1.08                      f  \n",
       "1                 3             1.10                      f  \n",
       "2                 0             0.00                      m  \n",
       "3                 2             1.08                      f  \n",
       "4                 3             1.10                      f  \n",
       "\n",
       "[5 rows x 28 columns]"
      ]
     },
     "execution_count": 7,
     "metadata": {},
     "output_type": "execute_result"
    }
   ],
   "source": [
    "df.head()"
   ]
  },
  {
   "cell_type": "markdown",
   "metadata": {},
   "source": [
    "edge_dim = data['student', 'responds', 'item'].edge_attr.shape[1]\n",
    "if IRT_DIMS > 0:\n",
    "    model = MIRT_2PL(IRT_DIMS, edge_dim, data)\n",
    "else:\n",
    "    model = EmbedderHeterogeneous( \n",
    "        n_students =  data['student'].x.size(0),\n",
    "        n_items = data['item'].x.size(0),\n",
    "        student_inchannel = data['student'].x.size(1),\n",
    "        item_inchannel = data['item'].x.size(1),\n",
    "        hidden_channels=parameters['hidden_dims'],\n",
    "        edge_channel=edge_dim,\n",
    "        metadata=data.metadata()\n",
    "        ).to(device)\n",
    "    \n",
    "model = model.to(device)"
   ]
  },
  {
   "cell_type": "code",
   "execution_count": null,
   "metadata": {},
   "outputs": [
    {
     "name": "stdout",
     "output_type": "stream",
     "text": [
      "WARNING: running with a fixed random state\n"
     ]
    },
    {
     "name": "stderr",
     "output_type": "stream",
     "text": [
      "0it [00:00, ?it/s]\n",
      "  0%|          | 0/10000 [00:00<?, ?it/s]\u001b[A\n",
      "\n",
      "  0%|          | 0/4 [00:00<?, ?it/s]\u001b[A\u001b[A\n",
      "\n",
      " 25%|██▌       | 1/4 [00:01<00:03,  1.15s/it]\u001b[A\u001b[A\n",
      "\n",
      " 50%|█████     | 2/4 [00:02<00:01,  1.00it/s]\u001b[A\u001b[A\n",
      "\n",
      " 75%|███████▌  | 3/4 [00:02<00:00,  1.11it/s]\u001b[A\u001b[A\n",
      "\n",
      "100%|██████████| 4/4 [00:03<00:00,  1.13it/s]\u001b[A\u001b[A\n"
     ]
    },
    {
     "name": "stdout",
     "output_type": "stream",
     "text": [
      "\n",
      "Epoch: 001, Loss: 0.6789, Val: 0.4999, Test: 0.4984\n"
     ]
    },
    {
     "name": "stderr",
     "output_type": "stream",
     "text": [
      "\n",
      "  0%|          | 1/10000 [00:05<14:59:48,  5.40s/it]\u001b[A\n",
      "\n",
      "  0%|          | 0/4 [00:00<?, ?it/s]\u001b[A\u001b[A\n",
      "\n",
      " 25%|██▌       | 1/4 [00:01<00:03,  1.14s/it]\u001b[A\u001b[A\n",
      "\n",
      " 50%|█████     | 2/4 [00:02<00:01,  1.01it/s]\u001b[A\u001b[A\n",
      "\n",
      " 75%|███████▌  | 3/4 [00:02<00:00,  1.09it/s]\u001b[A\u001b[A\n",
      "\n",
      "100%|██████████| 4/4 [00:03<00:00,  1.10it/s]\u001b[A\u001b[A\n"
     ]
    },
    {
     "name": "stdout",
     "output_type": "stream",
     "text": [
      "\n",
      "Epoch: 002, Loss: 0.6690, Val: 0.5029, Test: 0.5012\n"
     ]
    },
    {
     "name": "stderr",
     "output_type": "stream",
     "text": [
      "\n",
      "  0%|          | 2/10000 [00:10<15:08:37,  5.45s/it]\u001b[A\n",
      "\n",
      "  0%|          | 0/4 [00:00<?, ?it/s]\u001b[A\u001b[A\n",
      "\n",
      " 25%|██▌       | 1/4 [00:01<00:03,  1.20s/it]\u001b[A\u001b[A\n",
      "\n",
      " 50%|█████     | 2/4 [00:02<00:02,  1.01s/it]\u001b[A\u001b[A\n",
      "\n",
      " 75%|███████▌  | 3/4 [00:02<00:00,  1.06it/s]\u001b[A\u001b[A\n",
      "\n",
      "100%|██████████| 4/4 [00:03<00:00,  1.07it/s]\u001b[A\u001b[A\n"
     ]
    },
    {
     "name": "stdout",
     "output_type": "stream",
     "text": [
      "\n",
      "Epoch: 003, Loss: 0.6613, Val: 0.5055, Test: 0.5040\n"
     ]
    },
    {
     "name": "stderr",
     "output_type": "stream",
     "text": [
      "\n",
      "  0%|          | 3/10000 [00:16<14:58:40,  5.39s/it]\u001b[A\n",
      "\n",
      "  0%|          | 0/4 [00:00<?, ?it/s]\u001b[A\u001b[A\n",
      "\n",
      " 25%|██▌       | 1/4 [00:01<00:03,  1.13s/it]\u001b[A\u001b[A\n",
      "\n",
      " 50%|█████     | 2/4 [00:01<00:01,  1.05it/s]\u001b[A\u001b[A\n",
      "\n",
      " 75%|███████▌  | 3/4 [00:02<00:00,  1.10it/s]\u001b[A\u001b[A\n",
      "\n",
      "100%|██████████| 4/4 [00:03<00:00,  1.12it/s]\u001b[A\u001b[A\n"
     ]
    },
    {
     "name": "stdout",
     "output_type": "stream",
     "text": [
      "\n",
      "Epoch: 004, Loss: 0.6528, Val: 0.5080, Test: 0.5064\n"
     ]
    },
    {
     "name": "stderr",
     "output_type": "stream",
     "text": [
      "\n",
      "  0%|          | 4/10000 [00:21<14:39:00,  5.28s/it]\u001b[A\n",
      "\n",
      "  0%|          | 0/4 [00:00<?, ?it/s]\u001b[A\u001b[A\n",
      "\n",
      " 25%|██▌       | 1/4 [00:01<00:03,  1.18s/it]\u001b[A\u001b[A\n",
      "\n",
      " 50%|█████     | 2/4 [00:01<00:01,  1.04it/s]\u001b[A\u001b[A\n",
      "\n",
      " 75%|███████▌  | 3/4 [00:02<00:00,  1.10it/s]\u001b[A\u001b[A\n",
      "\n",
      "100%|██████████| 4/4 [00:03<00:00,  1.13it/s]\u001b[A\u001b[A\n"
     ]
    },
    {
     "name": "stdout",
     "output_type": "stream",
     "text": [
      "\n",
      "Epoch: 005, Loss: 0.6444, Val: 0.5101, Test: 0.5091\n"
     ]
    },
    {
     "name": "stderr",
     "output_type": "stream",
     "text": [
      "\n",
      "  0%|          | 5/10000 [00:26<14:22:51,  5.18s/it]\u001b[A\n",
      "\n",
      "  0%|          | 0/4 [00:00<?, ?it/s]\u001b[A\u001b[A\n",
      "\n",
      " 25%|██▌       | 1/4 [00:01<00:03,  1.06s/it]\u001b[A\u001b[A\n",
      "\n",
      " 50%|█████     | 2/4 [00:01<00:01,  1.08it/s]\u001b[A\u001b[A\n",
      "\n",
      " 75%|███████▌  | 3/4 [00:02<00:00,  1.09it/s]\u001b[A\u001b[A\n",
      "\n",
      "100%|██████████| 4/4 [00:03<00:00,  1.10it/s]\u001b[A\u001b[A\n"
     ]
    },
    {
     "name": "stdout",
     "output_type": "stream",
     "text": [
      "\n",
      "Epoch: 006, Loss: 0.6373, Val: 0.5125, Test: 0.5115\n"
     ]
    },
    {
     "name": "stderr",
     "output_type": "stream",
     "text": [
      "\n",
      "  0%|          | 6/10000 [00:31<14:21:51,  5.17s/it]\u001b[A\n",
      "\n",
      "  0%|          | 0/4 [00:00<?, ?it/s]\u001b[A\u001b[A\n",
      "\n",
      " 25%|██▌       | 1/4 [00:01<00:03,  1.05s/it]\u001b[A\u001b[A\n",
      "\n",
      " 50%|█████     | 2/4 [00:01<00:01,  1.05it/s]\u001b[A\u001b[A\n",
      "\n",
      " 75%|███████▌  | 3/4 [00:02<00:00,  1.12it/s]\u001b[A\u001b[A\n",
      "\n",
      "100%|██████████| 4/4 [00:03<00:00,  1.12it/s]\u001b[A\u001b[A\n"
     ]
    },
    {
     "name": "stdout",
     "output_type": "stream",
     "text": [
      "\n",
      "Epoch: 007, Loss: 0.6311, Val: 0.5148, Test: 0.5142\n"
     ]
    },
    {
     "name": "stderr",
     "output_type": "stream",
     "text": [
      "\n",
      "  0%|          | 7/10000 [00:36<14:11:56,  5.12s/it]\u001b[A\n",
      "\n",
      "  0%|          | 0/4 [00:00<?, ?it/s]\u001b[A\u001b[A\n",
      "\n",
      " 25%|██▌       | 1/4 [00:01<00:03,  1.01s/it]\u001b[A\u001b[A\n",
      "\n",
      " 50%|█████     | 2/4 [00:01<00:01,  1.15it/s]\u001b[A\u001b[A\n",
      "\n",
      " 75%|███████▌  | 3/4 [00:02<00:00,  1.18it/s]\u001b[A\u001b[A\n",
      "\n",
      "100%|██████████| 4/4 [00:03<00:00,  1.17it/s]\u001b[A\u001b[A\n"
     ]
    },
    {
     "name": "stdout",
     "output_type": "stream",
     "text": [
      "\n",
      "Epoch: 008, Loss: 0.6247, Val: 0.5170, Test: 0.5166\n"
     ]
    },
    {
     "name": "stderr",
     "output_type": "stream",
     "text": [
      "\n",
      "  0%|          | 8/10000 [00:41<13:58:12,  5.03s/it]\u001b[A\n",
      "\n",
      "  0%|          | 0/4 [00:00<?, ?it/s]\u001b[A\u001b[A\n",
      "\n",
      " 25%|██▌       | 1/4 [00:01<00:03,  1.01s/it]\u001b[A\u001b[A\n",
      "\n",
      " 50%|█████     | 2/4 [00:01<00:01,  1.03it/s]\u001b[A\u001b[A\n",
      "\n",
      " 75%|███████▌  | 3/4 [00:02<00:00,  1.12it/s]\u001b[A\u001b[A\n",
      "\n",
      "100%|██████████| 4/4 [00:03<00:00,  1.11it/s]\u001b[A\u001b[A\n"
     ]
    },
    {
     "name": "stdout",
     "output_type": "stream",
     "text": [
      "\n",
      "Epoch: 009, Loss: 0.6182, Val: 0.5194, Test: 0.5192\n"
     ]
    },
    {
     "name": "stderr",
     "output_type": "stream",
     "text": [
      "\n",
      "  0%|          | 9/10000 [00:46<13:59:26,  5.04s/it]\u001b[A\n",
      "\n",
      "  0%|          | 0/4 [00:00<?, ?it/s]\u001b[A\u001b[A\n",
      "\n",
      " 25%|██▌       | 1/4 [00:01<00:03,  1.13s/it]\u001b[A\u001b[A\n",
      "\n",
      " 50%|█████     | 2/4 [00:02<00:01,  1.02it/s]\u001b[A\u001b[A\n",
      "\n",
      " 75%|███████▌  | 3/4 [00:02<00:00,  1.10it/s]\u001b[A\u001b[A\n",
      "\n",
      "100%|██████████| 4/4 [00:03<00:00,  1.10it/s]\u001b[A\u001b[A\n"
     ]
    },
    {
     "name": "stdout",
     "output_type": "stream",
     "text": [
      "\n",
      "Epoch: 010, Loss: 0.6138, Val: 0.5217, Test: 0.5221\n"
     ]
    },
    {
     "name": "stderr",
     "output_type": "stream",
     "text": [
      "\n",
      "  0%|          | 10/10000 [00:51<14:10:09,  5.11s/it]\u001b[A\n",
      "\n",
      "  0%|          | 0/4 [00:00<?, ?it/s]\u001b[A\u001b[A\n",
      "\n",
      " 25%|██▌       | 1/4 [00:01<00:03,  1.09s/it]\u001b[A\u001b[A\n",
      "\n",
      " 50%|█████     | 2/4 [00:01<00:01,  1.03it/s]\u001b[A\u001b[A\n",
      "\n",
      " 75%|███████▌  | 3/4 [00:02<00:00,  1.06it/s]\u001b[A\u001b[A\n",
      "\n",
      "100%|██████████| 4/4 [00:03<00:00,  1.10it/s]\u001b[A\u001b[A\n"
     ]
    },
    {
     "name": "stdout",
     "output_type": "stream",
     "text": [
      "\n",
      "Epoch: 011, Loss: 0.6059, Val: 0.5244, Test: 0.5245\n"
     ]
    },
    {
     "name": "stderr",
     "output_type": "stream",
     "text": [
      "\n",
      "  0%|          | 11/10000 [00:56<14:09:04,  5.10s/it]\u001b[A\n",
      "\n",
      "  0%|          | 0/4 [00:00<?, ?it/s]\u001b[A\u001b[A\n",
      "\n",
      " 25%|██▌       | 1/4 [00:01<00:03,  1.02s/it]\u001b[A\u001b[A\n",
      "\n",
      " 50%|█████     | 2/4 [00:01<00:01,  1.11it/s]\u001b[A\u001b[A\n",
      "\n",
      " 75%|███████▌  | 3/4 [00:02<00:00,  1.16it/s]\u001b[A\u001b[A\n",
      "\n",
      "100%|██████████| 4/4 [00:03<00:00,  1.17it/s]\u001b[A\u001b[A\n"
     ]
    },
    {
     "name": "stdout",
     "output_type": "stream",
     "text": [
      "\n",
      "Epoch: 012, Loss: 0.6013, Val: 0.5270, Test: 0.5269\n"
     ]
    },
    {
     "name": "stderr",
     "output_type": "stream",
     "text": [
      "\n",
      "  0%|          | 12/10000 [01:01<13:55:01,  5.02s/it]\u001b[A\n",
      "\n",
      "  0%|          | 0/4 [00:00<?, ?it/s]\u001b[A\u001b[A\n",
      "\n",
      " 25%|██▌       | 1/4 [00:00<00:02,  1.08it/s]\u001b[A\u001b[A\n",
      "\n",
      " 50%|█████     | 2/4 [00:01<00:01,  1.10it/s]\u001b[A\u001b[A\n",
      "\n",
      " 75%|███████▌  | 3/4 [00:02<00:00,  1.16it/s]\u001b[A\u001b[A\n",
      "\n",
      "100%|██████████| 4/4 [00:03<00:00,  1.17it/s]\u001b[A\u001b[A\n"
     ]
    },
    {
     "name": "stdout",
     "output_type": "stream",
     "text": [
      "\n",
      "Epoch: 013, Loss: 0.5955, Val: 0.5295, Test: 0.5298\n"
     ]
    },
    {
     "name": "stderr",
     "output_type": "stream",
     "text": [
      "\n",
      "  0%|          | 13/10000 [01:06<13:43:48,  4.95s/it]\u001b[A\n",
      "\n",
      "  0%|          | 0/4 [00:00<?, ?it/s]\u001b[A\u001b[A\n",
      "\n",
      " 25%|██▌       | 1/4 [00:00<00:02,  1.02it/s]\u001b[A\u001b[A\n",
      "\n",
      " 50%|█████     | 2/4 [00:01<00:01,  1.12it/s]\u001b[A\u001b[A\n",
      "\n",
      " 75%|███████▌  | 3/4 [00:02<00:00,  1.15it/s]\u001b[A\u001b[A\n",
      "\n",
      "100%|██████████| 4/4 [00:03<00:00,  1.19it/s]\u001b[A\u001b[A\n"
     ]
    },
    {
     "name": "stdout",
     "output_type": "stream",
     "text": [
      "\n",
      "Epoch: 014, Loss: 0.5920, Val: 0.5320, Test: 0.5320\n"
     ]
    },
    {
     "name": "stderr",
     "output_type": "stream",
     "text": [
      "\n",
      "  0%|          | 14/10000 [01:11<13:36:36,  4.91s/it]\u001b[A\n",
      "\n",
      "  0%|          | 0/4 [00:00<?, ?it/s]\u001b[A\u001b[A\n",
      "\n",
      " 25%|██▌       | 1/4 [00:00<00:02,  1.01it/s]\u001b[A\u001b[A\n",
      "\n",
      " 50%|█████     | 2/4 [00:01<00:01,  1.10it/s]\u001b[A\u001b[A\n",
      "\n",
      " 75%|███████▌  | 3/4 [00:02<00:00,  1.16it/s]\u001b[A\u001b[A\n",
      "\n",
      "100%|██████████| 4/4 [00:03<00:00,  1.18it/s]\u001b[A\u001b[A\n"
     ]
    },
    {
     "name": "stdout",
     "output_type": "stream",
     "text": [
      "\n",
      "Epoch: 015, Loss: 0.5866, Val: 0.5344, Test: 0.5347\n"
     ]
    },
    {
     "name": "stderr",
     "output_type": "stream",
     "text": [
      "\n",
      "  0%|          | 15/10000 [01:15<13:30:13,  4.87s/it]\u001b[A\n",
      "\n",
      "  0%|          | 0/4 [00:00<?, ?it/s]\u001b[A\u001b[A\n",
      "\n",
      " 25%|██▌       | 1/4 [00:00<00:02,  1.01it/s]\u001b[A\u001b[A\n",
      "\n",
      " 50%|█████     | 2/4 [00:01<00:01,  1.21it/s]\u001b[A\u001b[A\n",
      "\n",
      " 75%|███████▌  | 3/4 [00:02<00:00,  1.21it/s]\u001b[A\u001b[A\n",
      "\n",
      "100%|██████████| 4/4 [00:03<00:00,  1.21it/s]\u001b[A\u001b[A\n"
     ]
    },
    {
     "name": "stdout",
     "output_type": "stream",
     "text": [
      "\n",
      "Epoch: 016, Loss: 0.5806, Val: 0.5367, Test: 0.5373\n"
     ]
    },
    {
     "name": "stderr",
     "output_type": "stream",
     "text": [
      "\n",
      "  0%|          | 16/10000 [01:20<13:22:48,  4.82s/it]\u001b[A\n",
      "\n",
      "  0%|          | 0/4 [00:00<?, ?it/s]\u001b[A\u001b[A\n",
      "\n",
      " 25%|██▌       | 1/4 [00:00<00:02,  1.09it/s]\u001b[A\u001b[A\n",
      "\n",
      " 50%|█████     | 2/4 [00:01<00:01,  1.15it/s]\u001b[A\u001b[A\n",
      "\n",
      " 75%|███████▌  | 3/4 [00:02<00:00,  1.15it/s]\u001b[A\u001b[A\n",
      "\n",
      "100%|██████████| 4/4 [00:03<00:00,  1.18it/s]\u001b[A\u001b[A\n"
     ]
    },
    {
     "name": "stdout",
     "output_type": "stream",
     "text": [
      "\n",
      "Epoch: 017, Loss: 0.5768, Val: 0.5391, Test: 0.5399\n"
     ]
    },
    {
     "name": "stderr",
     "output_type": "stream",
     "text": [
      "\n",
      "  0%|          | 17/10000 [01:25<13:21:17,  4.82s/it]\u001b[A\n",
      "\n",
      "  0%|          | 0/4 [00:00<?, ?it/s]\u001b[A\u001b[A\n",
      "\n",
      " 25%|██▌       | 1/4 [00:00<00:02,  1.05it/s]\u001b[A\u001b[A\n",
      "\n",
      " 50%|█████     | 2/4 [00:01<00:01,  1.10it/s]\u001b[A\u001b[A\n",
      "\n",
      " 75%|███████▌  | 3/4 [00:02<00:00,  1.16it/s]\u001b[A\u001b[A\n",
      "\n",
      "100%|██████████| 4/4 [00:03<00:00,  1.19it/s]\u001b[A\u001b[A\n"
     ]
    },
    {
     "name": "stdout",
     "output_type": "stream",
     "text": [
      "\n",
      "Epoch: 018, Loss: 0.5733, Val: 0.5416, Test: 0.5422\n"
     ]
    },
    {
     "name": "stderr",
     "output_type": "stream",
     "text": [
      "\n",
      "  0%|          | 18/10000 [01:30<13:19:07,  4.80s/it]\u001b[A\n",
      "\n",
      "  0%|          | 0/4 [00:00<?, ?it/s]\u001b[A\u001b[A\n",
      "\n",
      " 25%|██▌       | 1/4 [00:00<00:02,  1.09it/s]\u001b[A\u001b[A\n",
      "\n",
      " 50%|█████     | 2/4 [00:01<00:01,  1.17it/s]\u001b[A\u001b[A\n",
      "\n",
      " 75%|███████▌  | 3/4 [00:02<00:00,  1.21it/s]\u001b[A\u001b[A\n",
      "\n",
      "100%|██████████| 4/4 [00:03<00:00,  1.25it/s]\u001b[A\u001b[A\n"
     ]
    },
    {
     "name": "stdout",
     "output_type": "stream",
     "text": [
      "\n",
      "Epoch: 019, Loss: 0.5691, Val: 0.5442, Test: 0.5443\n"
     ]
    },
    {
     "name": "stderr",
     "output_type": "stream",
     "text": [
      "\n",
      "  0%|          | 19/10000 [01:34<12:59:28,  4.69s/it]\u001b[A\n",
      "\n",
      "  0%|          | 0/4 [00:00<?, ?it/s]\u001b[A\u001b[A\n",
      "\n",
      " 25%|██▌       | 1/4 [00:01<00:03,  1.05s/it]\u001b[A\u001b[A\n",
      "\n",
      " 50%|█████     | 2/4 [00:01<00:01,  1.13it/s]\u001b[A\u001b[A\n",
      "\n",
      " 75%|███████▌  | 3/4 [00:02<00:00,  1.15it/s]\u001b[A\u001b[A\n",
      "\n",
      "100%|██████████| 4/4 [00:03<00:00,  1.19it/s]\u001b[A\u001b[A\n"
     ]
    },
    {
     "name": "stdout",
     "output_type": "stream",
     "text": [
      "\n",
      "Epoch: 020, Loss: 0.5651, Val: 0.5468, Test: 0.5466\n"
     ]
    },
    {
     "name": "stderr",
     "output_type": "stream",
     "text": [
      "\n",
      "  0%|          | 20/10000 [01:39<13:03:57,  4.71s/it]\u001b[A\n",
      "\n",
      "  0%|          | 0/4 [00:00<?, ?it/s]\u001b[A\u001b[A\n",
      "\n",
      " 25%|██▌       | 1/4 [00:01<00:03,  1.01s/it]\u001b[A\u001b[A\n",
      "\n",
      " 50%|█████     | 2/4 [00:01<00:01,  1.14it/s]\u001b[A\u001b[A\n",
      "\n",
      " 75%|███████▌  | 3/4 [00:02<00:00,  1.16it/s]\u001b[A\u001b[A\n",
      "\n",
      "100%|██████████| 4/4 [00:03<00:00,  1.20it/s]\u001b[A\u001b[A\n"
     ]
    },
    {
     "name": "stdout",
     "output_type": "stream",
     "text": [
      "\n",
      "Epoch: 021, Loss: 0.5613, Val: 0.5491, Test: 0.5489\n"
     ]
    },
    {
     "name": "stderr",
     "output_type": "stream",
     "text": [
      "\n",
      "  0%|          | 21/10000 [01:44<13:08:30,  4.74s/it]\u001b[A\n",
      "\n",
      "  0%|          | 0/4 [00:00<?, ?it/s]\u001b[A\u001b[A\n",
      "\n",
      " 25%|██▌       | 1/4 [00:00<00:02,  1.02it/s]\u001b[A\u001b[A\n",
      "\n",
      " 50%|█████     | 2/4 [00:01<00:01,  1.18it/s]\u001b[A\u001b[A\n",
      "\n",
      " 75%|███████▌  | 3/4 [00:02<00:00,  1.22it/s]\u001b[A\u001b[A\n",
      "\n",
      "100%|██████████| 4/4 [00:03<00:00,  1.23it/s]\u001b[A\u001b[A\n"
     ]
    },
    {
     "name": "stdout",
     "output_type": "stream",
     "text": [
      "\n",
      "Epoch: 022, Loss: 0.5566, Val: 0.5516, Test: 0.5515\n"
     ]
    },
    {
     "name": "stderr",
     "output_type": "stream",
     "text": [
      "\n",
      "  0%|          | 22/10000 [01:48<13:03:12,  4.71s/it]\u001b[A\n",
      "\n",
      "  0%|          | 0/4 [00:00<?, ?it/s]\u001b[A\u001b[A\n",
      "\n",
      " 25%|██▌       | 1/4 [00:00<00:02,  1.06it/s]\u001b[A\u001b[A\n",
      "\n",
      " 50%|█████     | 2/4 [00:01<00:01,  1.12it/s]\u001b[A\u001b[A\n",
      "\n",
      " 75%|███████▌  | 3/4 [00:02<00:00,  1.14it/s]\u001b[A\u001b[A\n",
      "\n",
      "100%|██████████| 4/4 [00:03<00:00,  1.16it/s]\u001b[A\u001b[A\n"
     ]
    },
    {
     "name": "stdout",
     "output_type": "stream",
     "text": [
      "\n",
      "Epoch: 023, Loss: 0.5538, Val: 0.5539, Test: 0.5538\n"
     ]
    },
    {
     "name": "stderr",
     "output_type": "stream",
     "text": [
      "\n",
      "  0%|          | 23/10000 [01:53<13:14:13,  4.78s/it]\u001b[A\n",
      "\n",
      "  0%|          | 0/4 [00:00<?, ?it/s]\u001b[A\u001b[A\n",
      "\n",
      " 25%|██▌       | 1/4 [00:00<00:02,  1.00it/s]\u001b[A\u001b[A\n",
      "\n",
      " 50%|█████     | 2/4 [00:01<00:01,  1.11it/s]\u001b[A\u001b[A\n",
      "\n",
      " 75%|███████▌  | 3/4 [00:02<00:00,  1.18it/s]\u001b[A\u001b[A\n",
      "\n",
      "100%|██████████| 4/4 [00:03<00:00,  1.18it/s]\u001b[A\u001b[A\n"
     ]
    },
    {
     "name": "stdout",
     "output_type": "stream",
     "text": [
      "\n",
      "Epoch: 024, Loss: 0.5511, Val: 0.5561, Test: 0.5561\n"
     ]
    },
    {
     "name": "stderr",
     "output_type": "stream",
     "text": [
      "\n",
      "  0%|          | 24/10000 [01:58<13:17:44,  4.80s/it]\u001b[A\n",
      "\n",
      "  0%|          | 0/4 [00:00<?, ?it/s]\u001b[A\u001b[A\n",
      "\n",
      " 25%|██▌       | 1/4 [00:01<00:03,  1.08s/it]\u001b[A\u001b[A\n",
      "\n",
      " 50%|█████     | 2/4 [00:02<00:02,  1.00s/it]\u001b[A\u001b[A\n",
      "\n",
      " 75%|███████▌  | 3/4 [00:02<00:00,  1.07it/s]\u001b[A\u001b[A\n",
      "\n",
      "100%|██████████| 4/4 [00:03<00:00,  1.17it/s]\u001b[A\u001b[A\n"
     ]
    },
    {
     "name": "stdout",
     "output_type": "stream",
     "text": [
      "\n",
      "Epoch: 025, Loss: 0.5468, Val: 0.5584, Test: 0.5586\n"
     ]
    },
    {
     "name": "stderr",
     "output_type": "stream",
     "text": [
      "\n",
      "  0%|          | 25/10000 [02:03<13:08:33,  4.74s/it]\u001b[A\n",
      "\n",
      "  0%|          | 0/4 [00:00<?, ?it/s]\u001b[A\u001b[A\n",
      "\n",
      " 25%|██▌       | 1/4 [00:00<00:02,  1.44it/s]\u001b[A\u001b[A\n",
      "\n",
      " 50%|█████     | 2/4 [00:01<00:01,  1.77it/s]\u001b[A\u001b[A\n",
      "\n",
      " 75%|███████▌  | 3/4 [00:01<00:00,  2.43it/s]\u001b[A\u001b[A\n",
      "\n",
      "100%|██████████| 4/4 [00:01<00:00,  2.57it/s]\u001b[A\u001b[A\n"
     ]
    },
    {
     "name": "stdout",
     "output_type": "stream",
     "text": [
      "\n",
      "Epoch: 026, Loss: 0.5424, Val: 0.5606, Test: 0.5611\n"
     ]
    },
    {
     "name": "stderr",
     "output_type": "stream",
     "text": [
      "\n",
      "  0%|          | 26/10000 [02:05<11:21:52,  4.10s/it]\u001b[A\n",
      "\n",
      "  0%|          | 0/4 [00:00<?, ?it/s]\u001b[A\u001b[A\n",
      "\n",
      " 25%|██▌       | 1/4 [00:00<00:01,  1.81it/s]\u001b[A\u001b[A\n",
      "\n",
      " 50%|█████     | 2/4 [00:00<00:00,  2.55it/s]\u001b[A\u001b[A\n",
      "\n",
      " 75%|███████▌  | 3/4 [00:01<00:00,  2.10it/s]\u001b[A\u001b[A\n",
      "\n",
      "100%|██████████| 4/4 [00:01<00:00,  2.11it/s]\u001b[A\u001b[A\n"
     ]
    },
    {
     "name": "stdout",
     "output_type": "stream",
     "text": [
      "\n",
      "Epoch: 027, Loss: 0.5402, Val: 0.5630, Test: 0.5636\n"
     ]
    },
    {
     "name": "stderr",
     "output_type": "stream",
     "text": [
      "\n",
      "  0%|          | 27/10000 [02:08<10:30:36,  3.79s/it]\u001b[A\n",
      "\n",
      "  0%|          | 0/4 [00:00<?, ?it/s]\u001b[A\u001b[A\n",
      "\n",
      " 25%|██▌       | 1/4 [00:00<00:02,  1.28it/s]\u001b[A\u001b[A\n",
      "\n",
      " 50%|█████     | 2/4 [00:01<00:01,  1.59it/s]\u001b[A\u001b[A\n",
      "\n",
      " 75%|███████▌  | 3/4 [00:01<00:00,  1.68it/s]\u001b[A\u001b[A\n",
      "\n",
      "100%|██████████| 4/4 [00:01<00:00,  2.01it/s]\u001b[A\u001b[A\n"
     ]
    },
    {
     "name": "stdout",
     "output_type": "stream",
     "text": [
      "\n",
      "Epoch: 028, Loss: 0.5370, Val: 0.5653, Test: 0.5662\n"
     ]
    },
    {
     "name": "stderr",
     "output_type": "stream",
     "text": [
      "\n",
      "  0%|          | 28/10000 [02:12<9:54:07,  3.57s/it] \u001b[A\n",
      "\n",
      "  0%|          | 0/4 [00:00<?, ?it/s]\u001b[A\u001b[A\n",
      "\n",
      " 25%|██▌       | 1/4 [00:00<00:02,  1.48it/s]\u001b[A\u001b[A\n",
      "\n",
      " 50%|█████     | 2/4 [00:01<00:01,  1.43it/s]\u001b[A\u001b[A\n",
      "\n",
      " 75%|███████▌  | 3/4 [00:01<00:00,  1.60it/s]\u001b[A\u001b[A\n",
      "\n",
      "100%|██████████| 4/4 [00:02<00:00,  1.65it/s]\u001b[A\u001b[A\n"
     ]
    },
    {
     "name": "stdout",
     "output_type": "stream",
     "text": [
      "\n",
      "Epoch: 029, Loss: 0.5337, Val: 0.5676, Test: 0.5685\n"
     ]
    },
    {
     "name": "stderr",
     "output_type": "stream",
     "text": [
      "\n",
      "  0%|          | 29/10000 [02:15<9:52:33,  3.57s/it]\u001b[A\n",
      "\n",
      "  0%|          | 0/4 [00:00<?, ?it/s]\u001b[A\u001b[A\n",
      "\n",
      " 25%|██▌       | 1/4 [00:00<00:01,  1.68it/s]\u001b[A\u001b[A\n",
      "\n",
      " 50%|█████     | 2/4 [00:01<00:01,  1.78it/s]\u001b[A\u001b[A\n",
      "\n",
      " 75%|███████▌  | 3/4 [00:01<00:00,  1.82it/s]\u001b[A\u001b[A\n",
      "\n",
      "100%|██████████| 4/4 [00:02<00:00,  1.91it/s]\u001b[A\u001b[A\n"
     ]
    },
    {
     "name": "stdout",
     "output_type": "stream",
     "text": [
      "\n",
      "Epoch: 030, Loss: 0.5312, Val: 0.5697, Test: 0.5706\n"
     ]
    },
    {
     "name": "stderr",
     "output_type": "stream",
     "text": [
      "\n",
      "  0%|          | 30/10000 [02:18<9:32:57,  3.45s/it]\u001b[A\n",
      "\n",
      "  0%|          | 0/4 [00:00<?, ?it/s]\u001b[A\u001b[A\n",
      "\n",
      " 25%|██▌       | 1/4 [00:00<00:01,  2.16it/s]\u001b[A\u001b[A\n",
      "\n",
      " 50%|█████     | 2/4 [00:00<00:00,  2.18it/s]\u001b[A\u001b[A\n",
      "\n",
      " 75%|███████▌  | 3/4 [00:01<00:00,  2.14it/s]\u001b[A\u001b[A\n",
      "\n",
      "100%|██████████| 4/4 [00:01<00:00,  2.23it/s]\u001b[A\u001b[A\n"
     ]
    },
    {
     "name": "stdout",
     "output_type": "stream",
     "text": [
      "\n",
      "Epoch: 031, Loss: 0.5288, Val: 0.5719, Test: 0.5730\n"
     ]
    },
    {
     "name": "stderr",
     "output_type": "stream",
     "text": [
      "\n",
      "  0%|          | 31/10000 [02:21<8:59:32,  3.25s/it]\u001b[A\n",
      "\n",
      "  0%|          | 0/4 [00:00<?, ?it/s]\u001b[A\u001b[A\n",
      "\n",
      " 25%|██▌       | 1/4 [00:00<00:01,  1.79it/s]\u001b[A\u001b[A\n",
      "\n",
      " 50%|█████     | 2/4 [00:01<00:01,  1.93it/s]\u001b[A\u001b[A\n",
      "\n",
      " 75%|███████▌  | 3/4 [00:01<00:00,  1.98it/s]\u001b[A\u001b[A\n",
      "\n",
      "100%|██████████| 4/4 [00:01<00:00,  2.21it/s]\u001b[A\u001b[A\n"
     ]
    },
    {
     "name": "stdout",
     "output_type": "stream",
     "text": [
      "\n",
      "Epoch: 032, Loss: 0.5254, Val: 0.5742, Test: 0.5752\n"
     ]
    },
    {
     "name": "stderr",
     "output_type": "stream",
     "text": [
      "\n",
      "  0%|          | 32/10000 [02:24<8:41:57,  3.14s/it]\u001b[A\n",
      "\n",
      "  0%|          | 0/4 [00:00<?, ?it/s]\u001b[A\u001b[A\n",
      "\n",
      " 25%|██▌       | 1/4 [00:00<00:00,  3.09it/s]\u001b[A\u001b[A\n",
      "\n",
      " 50%|█████     | 2/4 [00:00<00:00,  4.01it/s]\u001b[A\u001b[A\n",
      "\n",
      " 75%|███████▌  | 3/4 [00:00<00:00,  2.92it/s]\u001b[A\u001b[A\n",
      "\n",
      "100%|██████████| 4/4 [00:01<00:00,  3.39it/s]\u001b[A\u001b[A\n"
     ]
    },
    {
     "name": "stdout",
     "output_type": "stream",
     "text": [
      "\n",
      "Epoch: 033, Loss: 0.5228, Val: 0.5764, Test: 0.5775\n"
     ]
    },
    {
     "name": "stderr",
     "output_type": "stream",
     "text": [
      "\n",
      "  0%|          | 33/10000 [02:26<7:44:40,  2.80s/it]\u001b[A\n",
      "\n",
      "  0%|          | 0/4 [00:00<?, ?it/s]\u001b[A\u001b[A\n",
      "\n",
      " 25%|██▌       | 1/4 [00:00<00:01,  2.19it/s]\u001b[A\u001b[A\n",
      "\n",
      " 50%|█████     | 2/4 [00:00<00:00,  3.30it/s]\u001b[A\u001b[A\n",
      "\n",
      " 75%|███████▌  | 3/4 [00:01<00:00,  2.39it/s]\u001b[A\u001b[A\n",
      "\n",
      "100%|██████████| 4/4 [00:01<00:00,  2.88it/s]\u001b[A\u001b[A\n"
     ]
    },
    {
     "name": "stdout",
     "output_type": "stream",
     "text": [
      "\n",
      "Epoch: 034, Loss: 0.5202, Val: 0.5787, Test: 0.5797\n"
     ]
    },
    {
     "name": "stderr",
     "output_type": "stream",
     "text": [
      "\n",
      "  0%|          | 34/10000 [02:28<7:20:00,  2.65s/it]\u001b[A\n",
      "\n",
      "  0%|          | 0/4 [00:00<?, ?it/s]\u001b[A\u001b[A\n",
      "\n",
      " 25%|██▌       | 1/4 [00:00<00:01,  1.63it/s]\u001b[A\u001b[A\n",
      "\n",
      " 50%|█████     | 2/4 [00:01<00:01,  1.89it/s]\u001b[A\u001b[A\n",
      "\n",
      " 75%|███████▌  | 3/4 [00:01<00:00,  2.66it/s]\u001b[A\u001b[A\n",
      "\n",
      "100%|██████████| 4/4 [00:01<00:00,  2.55it/s]\u001b[A\u001b[A\n"
     ]
    },
    {
     "name": "stdout",
     "output_type": "stream",
     "text": [
      "\n",
      "Epoch: 035, Loss: 0.5178, Val: 0.5810, Test: 0.5819\n"
     ]
    },
    {
     "name": "stderr",
     "output_type": "stream",
     "text": [
      "\n",
      "  0%|          | 35/10000 [02:31<7:16:53,  2.63s/it]\u001b[A\n",
      "\n",
      "  0%|          | 0/4 [00:00<?, ?it/s]\u001b[A\u001b[A\n",
      "\n",
      " 25%|██▌       | 1/4 [00:00<00:01,  1.87it/s]\u001b[A\u001b[A\n",
      "\n",
      " 50%|█████     | 2/4 [00:00<00:00,  2.75it/s]\u001b[A\u001b[A\n",
      "\n",
      " 75%|███████▌  | 3/4 [00:01<00:00,  2.64it/s]\u001b[A\u001b[A\n",
      "\n",
      "100%|██████████| 4/4 [00:01<00:00,  3.07it/s]\u001b[A\u001b[A\n"
     ]
    },
    {
     "name": "stdout",
     "output_type": "stream",
     "text": [
      "\n",
      "Epoch: 036, Loss: 0.5154, Val: 0.5833, Test: 0.5843\n"
     ]
    },
    {
     "name": "stderr",
     "output_type": "stream",
     "text": [
      "\n",
      "  0%|          | 36/10000 [02:33<6:53:40,  2.49s/it]\u001b[A\n",
      "\n",
      "  0%|          | 0/4 [00:00<?, ?it/s]\u001b[A\u001b[A\n",
      "\n",
      " 25%|██▌       | 1/4 [00:00<00:01,  2.88it/s]\u001b[A\u001b[A\n",
      "\n",
      " 50%|█████     | 2/4 [00:00<00:00,  2.78it/s]\u001b[A\u001b[A\n",
      "\n",
      " 75%|███████▌  | 3/4 [00:01<00:00,  2.66it/s]\u001b[A\u001b[A\n",
      "\n",
      "100%|██████████| 4/4 [00:01<00:00,  3.23it/s]\u001b[A\u001b[A\n"
     ]
    },
    {
     "name": "stdout",
     "output_type": "stream",
     "text": [
      "\n",
      "Epoch: 037, Loss: 0.5121, Val: 0.5853, Test: 0.5863\n"
     ]
    },
    {
     "name": "stderr",
     "output_type": "stream",
     "text": [
      "\n",
      "  0%|          | 37/10000 [02:35<6:32:48,  2.37s/it]\u001b[A\n",
      "\n",
      "  0%|          | 0/4 [00:00<?, ?it/s]\u001b[A\u001b[A\n",
      "\n",
      " 25%|██▌       | 1/4 [00:00<00:01,  1.62it/s]\u001b[A\u001b[A\n",
      "\n",
      " 50%|█████     | 2/4 [00:01<00:01,  1.73it/s]\u001b[A\u001b[A\n",
      "\n",
      " 75%|███████▌  | 3/4 [00:01<00:00,  1.79it/s]\u001b[A\u001b[A\n",
      "\n",
      "100%|██████████| 4/4 [00:02<00:00,  1.82it/s]\u001b[A\u001b[A\n"
     ]
    },
    {
     "name": "stdout",
     "output_type": "stream",
     "text": [
      "\n",
      "Epoch: 038, Loss: 0.5097, Val: 0.5876, Test: 0.5885\n"
     ]
    },
    {
     "name": "stderr",
     "output_type": "stream",
     "text": [
      "\n",
      "  0%|          | 38/10000 [02:38<7:17:50,  2.64s/it]\u001b[A\n",
      "\n",
      "  0%|          | 0/4 [00:00<?, ?it/s]\u001b[A\u001b[A\n",
      "\n",
      " 25%|██▌       | 1/4 [00:00<00:00,  5.20it/s]\u001b[A\u001b[A\n",
      "\n",
      " 50%|█████     | 2/4 [00:00<00:00,  2.91it/s]\u001b[A\u001b[A\n",
      "\n",
      " 75%|███████▌  | 3/4 [00:00<00:00,  3.56it/s]\u001b[A\u001b[A\n",
      "\n",
      "100%|██████████| 4/4 [00:00<00:00,  4.08it/s]\u001b[A\u001b[A\n"
     ]
    },
    {
     "name": "stdout",
     "output_type": "stream",
     "text": [
      "\n",
      "Epoch: 039, Loss: 0.5083, Val: 0.5898, Test: 0.5905\n"
     ]
    },
    {
     "name": "stderr",
     "output_type": "stream",
     "text": [
      "\n",
      "  0%|          | 39/10000 [02:40<6:50:12,  2.47s/it]\u001b[A\n",
      "\n",
      "  0%|          | 0/4 [00:00<?, ?it/s]\u001b[A\u001b[A\n",
      "\n",
      " 25%|██▌       | 1/4 [00:00<00:01,  1.75it/s]\u001b[A\u001b[A\n",
      "\n",
      " 50%|█████     | 2/4 [00:01<00:01,  1.74it/s]\u001b[A\u001b[A\n",
      "\n",
      " 75%|███████▌  | 3/4 [00:01<00:00,  1.74it/s]\u001b[A\u001b[A\n",
      "\n",
      "100%|██████████| 4/4 [00:02<00:00,  1.81it/s]\u001b[A\u001b[A\n"
     ]
    },
    {
     "name": "stdout",
     "output_type": "stream",
     "text": [
      "\n",
      "Epoch: 040, Loss: 0.5058, Val: 0.5918, Test: 0.5925\n"
     ]
    },
    {
     "name": "stderr",
     "output_type": "stream",
     "text": [
      "\n",
      "  0%|          | 40/10000 [02:44<7:30:43,  2.72s/it]\u001b[A\n",
      "\n",
      "  0%|          | 0/4 [00:00<?, ?it/s]\u001b[A\u001b[A\n",
      "\n",
      " 25%|██▌       | 1/4 [00:00<00:01,  2.07it/s]\u001b[A\u001b[A\n",
      "\n",
      " 50%|█████     | 2/4 [00:01<00:01,  1.89it/s]\u001b[A\u001b[A\n",
      "\n",
      " 75%|███████▌  | 3/4 [00:01<00:00,  1.94it/s]\u001b[A\u001b[A\n",
      "\n",
      "100%|██████████| 4/4 [00:01<00:00,  2.02it/s]\u001b[A\u001b[A\n"
     ]
    },
    {
     "name": "stdout",
     "output_type": "stream",
     "text": [
      "\n",
      "Epoch: 041, Loss: 0.5028, Val: 0.5941, Test: 0.5947\n"
     ]
    },
    {
     "name": "stderr",
     "output_type": "stream",
     "text": [
      "\n",
      "  0%|          | 41/10000 [02:47<7:47:42,  2.82s/it]\u001b[A\n",
      "\n",
      "  0%|          | 0/4 [00:00<?, ?it/s]\u001b[A\u001b[A\n",
      "\n",
      " 25%|██▌       | 1/4 [00:00<00:00,  3.00it/s]\u001b[A\u001b[A\n",
      "\n",
      " 50%|█████     | 2/4 [00:00<00:00,  3.64it/s]\u001b[A\u001b[A\n",
      "\n",
      " 75%|███████▌  | 3/4 [00:01<00:00,  2.68it/s]\u001b[A\u001b[A\n",
      "\n",
      "100%|██████████| 4/4 [00:01<00:00,  2.76it/s]\u001b[A\u001b[A\n"
     ]
    },
    {
     "name": "stdout",
     "output_type": "stream",
     "text": [
      "\n",
      "Epoch: 042, Loss: 0.5010, Val: 0.5963, Test: 0.5969\n"
     ]
    },
    {
     "name": "stderr",
     "output_type": "stream",
     "text": [
      "\n",
      "  0%|          | 42/10000 [02:49<7:28:12,  2.70s/it]\u001b[A\n",
      "\n",
      "  0%|          | 0/4 [00:00<?, ?it/s]\u001b[A\u001b[A\n",
      "\n",
      " 25%|██▌       | 1/4 [00:00<00:01,  1.63it/s]\u001b[A\u001b[A\n",
      "\n",
      " 50%|█████     | 2/4 [00:01<00:01,  1.91it/s]\u001b[A\u001b[A\n",
      "\n",
      " 75%|███████▌  | 3/4 [00:01<00:00,  1.91it/s]\u001b[A\u001b[A\n",
      "\n",
      "100%|██████████| 4/4 [00:02<00:00,  1.99it/s]\u001b[A\u001b[A\n"
     ]
    },
    {
     "name": "stdout",
     "output_type": "stream",
     "text": [
      "\n",
      "Epoch: 043, Loss: 0.4989, Val: 0.5984, Test: 0.5990\n"
     ]
    },
    {
     "name": "stderr",
     "output_type": "stream",
     "text": [
      "\n",
      "  0%|          | 43/10000 [02:52<7:48:02,  2.82s/it]\u001b[A\n",
      "\n",
      "  0%|          | 0/4 [00:00<?, ?it/s]\u001b[A\u001b[A\n",
      "\n",
      " 25%|██▌       | 1/4 [00:00<00:01,  1.57it/s]\u001b[A\u001b[A\n",
      "\n",
      " 50%|█████     | 2/4 [00:01<00:01,  1.68it/s]\u001b[A\u001b[A\n",
      "\n",
      " 75%|███████▌  | 3/4 [00:01<00:00,  1.75it/s]\u001b[A\u001b[A\n",
      "\n",
      "100%|██████████| 4/4 [00:02<00:00,  1.79it/s]\u001b[A\u001b[A\n"
     ]
    },
    {
     "name": "stdout",
     "output_type": "stream",
     "text": [
      "\n",
      "Epoch: 044, Loss: 0.4968, Val: 0.6006, Test: 0.6011\n"
     ]
    },
    {
     "name": "stderr",
     "output_type": "stream",
     "text": [
      "\n",
      "  0%|          | 44/10000 [02:56<8:12:52,  2.97s/it]\u001b[A\n",
      "\n",
      "  0%|          | 0/4 [00:00<?, ?it/s]\u001b[A\u001b[A\n",
      "\n",
      " 25%|██▌       | 1/4 [00:00<00:01,  1.60it/s]\u001b[A\u001b[A\n",
      "\n",
      " 50%|█████     | 2/4 [00:01<00:01,  1.71it/s]\u001b[A\u001b[A\n",
      "\n",
      " 75%|███████▌  | 3/4 [00:01<00:00,  1.73it/s]\u001b[A\u001b[A\n",
      "\n",
      "100%|██████████| 4/4 [00:02<00:00,  1.87it/s]\u001b[A\u001b[A\n"
     ]
    },
    {
     "name": "stdout",
     "output_type": "stream",
     "text": [
      "\n",
      "Epoch: 045, Loss: 0.4953, Val: 0.6026, Test: 0.6033\n"
     ]
    },
    {
     "name": "stderr",
     "output_type": "stream",
     "text": [
      "\n",
      "  0%|          | 45/10000 [02:59<8:21:13,  3.02s/it]\u001b[A\n",
      "\n",
      "  0%|          | 0/4 [00:00<?, ?it/s]\u001b[A\u001b[A\n",
      "\n",
      " 25%|██▌       | 1/4 [00:00<00:01,  1.79it/s]\u001b[A\u001b[A\n",
      "\n",
      " 50%|█████     | 2/4 [00:01<00:01,  2.00it/s]\u001b[A\u001b[A\n",
      "\n",
      " 75%|███████▌  | 3/4 [00:01<00:00,  2.05it/s]\u001b[A\u001b[A\n",
      "\n",
      "100%|██████████| 4/4 [00:01<00:00,  2.13it/s]\u001b[A\u001b[A\n"
     ]
    },
    {
     "name": "stdout",
     "output_type": "stream",
     "text": [
      "\n",
      "Epoch: 046, Loss: 0.4926, Val: 0.6045, Test: 0.6053\n"
     ]
    },
    {
     "name": "stderr",
     "output_type": "stream",
     "text": [
      "\n",
      "  0%|          | 46/10000 [03:02<8:13:39,  2.98s/it]\u001b[A\n",
      "\n",
      "  0%|          | 0/4 [00:00<?, ?it/s]\u001b[A\u001b[A\n",
      "\n",
      " 25%|██▌       | 1/4 [00:00<00:01,  1.78it/s]\u001b[A\u001b[A\n",
      "\n",
      " 50%|█████     | 2/4 [00:01<00:00,  2.00it/s]\u001b[A\u001b[A\n",
      "\n",
      " 75%|███████▌  | 3/4 [00:01<00:00,  2.09it/s]\u001b[A\u001b[A\n",
      "\n",
      "100%|██████████| 4/4 [00:01<00:00,  2.15it/s]\u001b[A\u001b[A\n"
     ]
    },
    {
     "name": "stdout",
     "output_type": "stream",
     "text": [
      "\n",
      "Epoch: 047, Loss: 0.4908, Val: 0.6064, Test: 0.6073\n"
     ]
    },
    {
     "name": "stderr",
     "output_type": "stream",
     "text": [
      "\n",
      "  0%|          | 47/10000 [03:04<8:08:23,  2.94s/it]\u001b[A\n",
      "\n",
      "  0%|          | 0/4 [00:00<?, ?it/s]\u001b[A\u001b[A\n",
      "\n",
      " 25%|██▌       | 1/4 [00:00<00:01,  1.94it/s]\u001b[A\u001b[A\n",
      "\n",
      " 50%|█████     | 2/4 [00:01<00:00,  2.01it/s]\u001b[A\u001b[A\n",
      "\n",
      " 75%|███████▌  | 3/4 [00:01<00:00,  1.99it/s]\u001b[A\u001b[A\n",
      "\n",
      "100%|██████████| 4/4 [00:01<00:00,  2.09it/s]\u001b[A\u001b[A\n"
     ]
    },
    {
     "name": "stdout",
     "output_type": "stream",
     "text": [
      "\n",
      "Epoch: 048, Loss: 0.4890, Val: 0.6083, Test: 0.6095\n"
     ]
    },
    {
     "name": "stderr",
     "output_type": "stream",
     "text": [
      "\n",
      "  0%|          | 48/10000 [03:07<8:05:23,  2.93s/it]\u001b[A\n",
      "\n",
      "  0%|          | 0/4 [00:00<?, ?it/s]\u001b[A\u001b[A\n",
      "\n",
      " 25%|██▌       | 1/4 [00:00<00:01,  1.89it/s]\u001b[A\u001b[A\n",
      "\n",
      " 50%|█████     | 2/4 [00:01<00:01,  2.00it/s]\u001b[A\u001b[A\n",
      "\n",
      " 75%|███████▌  | 3/4 [00:01<00:00,  2.09it/s]\u001b[A\u001b[A\n",
      "\n",
      "100%|██████████| 4/4 [00:01<00:00,  2.16it/s]\u001b[A\u001b[A\n"
     ]
    },
    {
     "name": "stdout",
     "output_type": "stream",
     "text": [
      "\n",
      "Epoch: 049, Loss: 0.4865, Val: 0.6100, Test: 0.6115\n"
     ]
    },
    {
     "name": "stderr",
     "output_type": "stream",
     "text": [
      "\n",
      "  0%|          | 49/10000 [03:10<8:05:02,  2.92s/it]\u001b[A\n",
      "\n",
      "  0%|          | 0/4 [00:00<?, ?it/s]\u001b[A\u001b[A\n",
      "\n",
      " 25%|██▌       | 1/4 [00:00<00:01,  1.63it/s]\u001b[A\u001b[A\n",
      "\n",
      " 50%|█████     | 2/4 [00:01<00:01,  1.59it/s]\u001b[A\u001b[A\n",
      "\n",
      " 75%|███████▌  | 3/4 [00:01<00:00,  1.67it/s]\u001b[A\u001b[A\n",
      "\n",
      "100%|██████████| 4/4 [00:02<00:00,  1.74it/s]\u001b[A\u001b[A\n"
     ]
    },
    {
     "name": "stdout",
     "output_type": "stream",
     "text": [
      "\n",
      "Epoch: 050, Loss: 0.4847, Val: 0.6119, Test: 0.6135\n"
     ]
    },
    {
     "name": "stderr",
     "output_type": "stream",
     "text": [
      "\n",
      "  0%|          | 50/10000 [03:14<8:29:44,  3.07s/it]\u001b[A\n",
      "\n",
      "  0%|          | 0/4 [00:00<?, ?it/s]\u001b[A\u001b[A\n",
      "\n",
      " 25%|██▌       | 1/4 [00:00<00:01,  1.66it/s]\u001b[A\u001b[A\n",
      "\n",
      " 50%|█████     | 2/4 [00:00<00:00,  2.18it/s]\u001b[A\u001b[A\n",
      "\n",
      " 75%|███████▌  | 3/4 [00:01<00:00,  2.02it/s]\u001b[A\u001b[A\n",
      "\n",
      "100%|██████████| 4/4 [00:01<00:00,  2.11it/s]\u001b[A\u001b[A\n"
     ]
    },
    {
     "name": "stdout",
     "output_type": "stream",
     "text": [
      "\n",
      "Epoch: 051, Loss: 0.4841, Val: 0.6136, Test: 0.6152\n"
     ]
    },
    {
     "name": "stderr",
     "output_type": "stream",
     "text": [
      "\n",
      "  1%|          | 51/10000 [03:17<8:23:16,  3.04s/it]\u001b[A\n",
      "\n",
      "  0%|          | 0/4 [00:00<?, ?it/s]\u001b[A\u001b[A\n",
      "\n",
      " 25%|██▌       | 1/4 [00:00<00:01,  2.41it/s]\u001b[A\u001b[A\n",
      "\n",
      " 50%|█████     | 2/4 [00:00<00:00,  2.26it/s]\u001b[A\u001b[A\n",
      "\n",
      " 75%|███████▌  | 3/4 [00:01<00:00,  2.05it/s]\u001b[A\u001b[A\n",
      "\n",
      "100%|██████████| 4/4 [00:01<00:00,  2.13it/s]\u001b[A\u001b[A\n"
     ]
    },
    {
     "name": "stdout",
     "output_type": "stream",
     "text": [
      "\n",
      "Epoch: 052, Loss: 0.4817, Val: 0.6155, Test: 0.6171\n"
     ]
    },
    {
     "name": "stderr",
     "output_type": "stream",
     "text": [
      "\n",
      "  1%|          | 52/10000 [03:20<8:20:36,  3.02s/it]\u001b[A\n",
      "\n",
      "  0%|          | 0/4 [00:00<?, ?it/s]\u001b[A\u001b[A\n",
      "\n",
      " 25%|██▌       | 1/4 [00:00<00:01,  1.59it/s]\u001b[A\u001b[A\n",
      "\n",
      " 50%|█████     | 2/4 [00:01<00:01,  1.69it/s]\u001b[A\u001b[A\n",
      "\n",
      " 75%|███████▌  | 3/4 [00:01<00:00,  1.73it/s]\u001b[A\u001b[A\n",
      "\n",
      "100%|██████████| 4/4 [00:02<00:00,  1.84it/s]\u001b[A\u001b[A\n"
     ]
    },
    {
     "name": "stdout",
     "output_type": "stream",
     "text": [
      "\n",
      "Epoch: 053, Loss: 0.4808, Val: 0.6173, Test: 0.6190\n"
     ]
    },
    {
     "name": "stderr",
     "output_type": "stream",
     "text": [
      "\n",
      "  1%|          | 53/10000 [03:23<8:31:20,  3.08s/it]\u001b[A\n",
      "\n",
      "  0%|          | 0/4 [00:00<?, ?it/s]\u001b[A\u001b[A\n",
      "\n",
      " 25%|██▌       | 1/4 [00:00<00:01,  1.74it/s]\u001b[A\u001b[A\n",
      "\n",
      " 50%|█████     | 2/4 [00:01<00:01,  1.93it/s]\u001b[A\u001b[A\n",
      "\n",
      " 75%|███████▌  | 3/4 [00:01<00:00,  1.93it/s]\u001b[A\u001b[A\n",
      "\n",
      "100%|██████████| 4/4 [00:02<00:00,  1.95it/s]\u001b[A\u001b[A\n"
     ]
    },
    {
     "name": "stdout",
     "output_type": "stream",
     "text": [
      "\n",
      "Epoch: 054, Loss: 0.4777, Val: 0.6191, Test: 0.6207\n"
     ]
    },
    {
     "name": "stderr",
     "output_type": "stream",
     "text": [
      "\n",
      "  1%|          | 54/10000 [03:26<8:50:28,  3.20s/it]\u001b[A\n",
      "\n",
      "  0%|          | 0/4 [00:00<?, ?it/s]\u001b[A\u001b[A\n",
      "\n",
      " 25%|██▌       | 1/4 [00:00<00:02,  1.08it/s]\u001b[A\u001b[A\n",
      "\n",
      " 50%|█████     | 2/4 [00:01<00:01,  1.13it/s]\u001b[A\u001b[A\n",
      "\n",
      " 75%|███████▌  | 3/4 [00:02<00:00,  1.11it/s]\u001b[A\u001b[A\n",
      "\n",
      "100%|██████████| 4/4 [00:03<00:00,  1.13it/s]\u001b[A\u001b[A\n"
     ]
    },
    {
     "name": "stdout",
     "output_type": "stream",
     "text": [
      "\n",
      "Epoch: 055, Loss: 0.4759, Val: 0.6206, Test: 0.6223\n"
     ]
    },
    {
     "name": "stderr",
     "output_type": "stream",
     "text": [
      "\n",
      "  1%|          | 55/10000 [03:31<10:18:18,  3.73s/it]\u001b[A\n",
      "\n",
      "  0%|          | 0/4 [00:00<?, ?it/s]\u001b[A\u001b[A\n",
      "\n",
      " 25%|██▌       | 1/4 [00:01<00:03,  1.02s/it]\u001b[A\u001b[A\n",
      "\n",
      " 50%|█████     | 2/4 [00:01<00:01,  1.06it/s]\u001b[A\u001b[A\n",
      "\n",
      " 75%|███████▌  | 3/4 [00:02<00:00,  1.10it/s]\u001b[A\u001b[A\n",
      "\n",
      "100%|██████████| 4/4 [00:03<00:00,  1.12it/s]\u001b[A\u001b[A\n"
     ]
    },
    {
     "name": "stdout",
     "output_type": "stream",
     "text": [
      "\n",
      "Epoch: 056, Loss: 0.4746, Val: 0.6223, Test: 0.6240\n"
     ]
    },
    {
     "name": "stderr",
     "output_type": "stream",
     "text": [
      "\n",
      "  1%|          | 56/10000 [03:36<11:22:36,  4.12s/it]\u001b[A\n",
      "\n",
      "  0%|          | 0/4 [00:00<?, ?it/s]\u001b[A\u001b[A\n",
      "\n",
      " 25%|██▌       | 1/4 [00:01<00:03,  1.01s/it]\u001b[A\u001b[A\n",
      "\n",
      " 50%|█████     | 2/4 [00:01<00:01,  1.05it/s]\u001b[A\u001b[A\n",
      "\n",
      " 75%|███████▌  | 3/4 [00:02<00:00,  1.11it/s]\u001b[A\u001b[A\n",
      "\n",
      "100%|██████████| 4/4 [00:03<00:00,  1.12it/s]\u001b[A\u001b[A\n"
     ]
    },
    {
     "name": "stdout",
     "output_type": "stream",
     "text": [
      "\n",
      "Epoch: 057, Loss: 0.4727, Val: 0.6240, Test: 0.6256\n"
     ]
    },
    {
     "name": "stderr",
     "output_type": "stream",
     "text": [
      "\n",
      "  1%|          | 57/10000 [03:41<12:06:55,  4.39s/it]\u001b[A\n",
      "\n",
      "  0%|          | 0/4 [00:00<?, ?it/s]\u001b[A\u001b[A\n",
      "\n",
      " 25%|██▌       | 1/4 [00:01<00:03,  1.01s/it]\u001b[A\u001b[A\n",
      "\n",
      " 50%|█████     | 2/4 [00:01<00:01,  1.05it/s]\u001b[A\u001b[A\n",
      "\n",
      " 75%|███████▌  | 3/4 [00:02<00:00,  1.13it/s]\u001b[A\u001b[A\n",
      "\n",
      "100%|██████████| 4/4 [00:03<00:00,  1.15it/s]\u001b[A\u001b[A\n"
     ]
    },
    {
     "name": "stdout",
     "output_type": "stream",
     "text": [
      "\n",
      "Epoch: 058, Loss: 0.4722, Val: 0.6257, Test: 0.6274\n"
     ]
    },
    {
     "name": "stderr",
     "output_type": "stream",
     "text": [
      "\n",
      "  1%|          | 58/10000 [03:46<12:33:30,  4.55s/it]\u001b[A\n",
      "\n",
      "  0%|          | 0/4 [00:00<?, ?it/s]\u001b[A\u001b[A\n",
      "\n",
      " 25%|██▌       | 1/4 [00:00<00:02,  1.04it/s]\u001b[A\u001b[A\n",
      "\n",
      " 50%|█████     | 2/4 [00:01<00:01,  1.16it/s]\u001b[A\u001b[A\n",
      "\n",
      " 75%|███████▌  | 3/4 [00:02<00:00,  1.18it/s]\u001b[A\u001b[A\n",
      "\n",
      "100%|██████████| 4/4 [00:03<00:00,  1.21it/s]\u001b[A\u001b[A\n"
     ]
    },
    {
     "name": "stdout",
     "output_type": "stream",
     "text": [
      "\n",
      "Epoch: 059, Loss: 0.4706, Val: 0.6273, Test: 0.6290\n"
     ]
    },
    {
     "name": "stderr",
     "output_type": "stream",
     "text": [
      "\n",
      "  1%|          | 59/10000 [03:51<12:42:01,  4.60s/it]\u001b[A\n",
      "\n",
      "  0%|          | 0/4 [00:00<?, ?it/s]\u001b[A\u001b[A\n",
      "\n",
      " 25%|██▌       | 1/4 [00:00<00:02,  1.02it/s]\u001b[A\u001b[A\n",
      "\n",
      " 50%|█████     | 2/4 [00:01<00:01,  1.12it/s]\u001b[A\u001b[A\n",
      "\n",
      " 75%|███████▌  | 3/4 [00:02<00:00,  1.10it/s]\u001b[A\u001b[A\n",
      "\n",
      "100%|██████████| 4/4 [00:03<00:00,  1.14it/s]\u001b[A\u001b[A\n"
     ]
    },
    {
     "name": "stdout",
     "output_type": "stream",
     "text": [
      "\n",
      "Epoch: 060, Loss: 0.4694, Val: 0.6289, Test: 0.6306\n"
     ]
    },
    {
     "name": "stderr",
     "output_type": "stream",
     "text": [
      "\n",
      "  1%|          | 60/10000 [03:56<12:59:15,  4.70s/it]\u001b[A\n",
      "\n",
      "  0%|          | 0/4 [00:00<?, ?it/s]\u001b[A\u001b[A\n",
      "\n",
      " 25%|██▌       | 1/4 [00:00<00:02,  1.03it/s]\u001b[A\u001b[A\n",
      "\n",
      " 50%|█████     | 2/4 [00:01<00:01,  1.09it/s]\u001b[A\u001b[A\n",
      "\n",
      " 75%|███████▌  | 3/4 [00:02<00:00,  1.11it/s]\u001b[A\u001b[A\n",
      "\n",
      "100%|██████████| 4/4 [00:03<00:00,  1.14it/s]\u001b[A\u001b[A\n"
     ]
    },
    {
     "name": "stdout",
     "output_type": "stream",
     "text": [
      "\n",
      "Epoch: 061, Loss: 0.4673, Val: 0.6305, Test: 0.6322\n"
     ]
    },
    {
     "name": "stderr",
     "output_type": "stream",
     "text": [
      "\n",
      "  1%|          | 61/10000 [04:01<13:07:24,  4.75s/it]\u001b[A\n",
      "\n",
      "  0%|          | 0/4 [00:00<?, ?it/s]\u001b[A\u001b[A\n",
      "\n",
      " 25%|██▌       | 1/4 [00:00<00:02,  1.05it/s]\u001b[A\u001b[A\n",
      "\n",
      " 50%|█████     | 2/4 [00:01<00:01,  1.05it/s]\u001b[A\u001b[A\n",
      "\n",
      " 75%|███████▌  | 3/4 [00:02<00:00,  1.14it/s]\u001b[A\u001b[A\n",
      "\n",
      "100%|██████████| 4/4 [00:03<00:00,  1.13it/s]\u001b[A\u001b[A\n"
     ]
    },
    {
     "name": "stdout",
     "output_type": "stream",
     "text": [
      "\n",
      "Epoch: 062, Loss: 0.4663, Val: 0.6322, Test: 0.6337\n"
     ]
    },
    {
     "name": "stderr",
     "output_type": "stream",
     "text": [
      "\n",
      "  1%|          | 62/10000 [04:06<13:23:55,  4.85s/it]\u001b[A\n",
      "\n",
      "  0%|          | 0/4 [00:00<?, ?it/s]\u001b[A\u001b[A\n",
      "\n",
      " 25%|██▌       | 1/4 [00:00<00:02,  1.36it/s]\u001b[A\u001b[A\n",
      "\n",
      " 50%|█████     | 2/4 [00:01<00:01,  1.30it/s]\u001b[A\u001b[A\n",
      "\n",
      " 75%|███████▌  | 3/4 [00:02<00:00,  1.32it/s]\u001b[A\u001b[A\n",
      "\n",
      "100%|██████████| 4/4 [00:02<00:00,  1.36it/s]\u001b[A\u001b[A\n"
     ]
    },
    {
     "name": "stdout",
     "output_type": "stream",
     "text": [
      "\n",
      "Epoch: 063, Loss: 0.4642, Val: 0.6339, Test: 0.6351\n"
     ]
    },
    {
     "name": "stderr",
     "output_type": "stream",
     "text": [
      "\n",
      "  1%|          | 63/10000 [04:10<12:57:51,  4.70s/it]\u001b[A\n",
      "\n",
      "  0%|          | 0/4 [00:00<?, ?it/s]\u001b[A\u001b[A\n",
      "\n",
      " 25%|██▌       | 1/4 [00:00<00:02,  1.10it/s]\u001b[A\u001b[A\n",
      "\n",
      " 50%|█████     | 2/4 [00:01<00:01,  1.14it/s]\u001b[A\u001b[A\n",
      "\n",
      " 75%|███████▌  | 3/4 [00:02<00:00,  1.17it/s]\u001b[A\u001b[A\n",
      "\n",
      "100%|██████████| 4/4 [00:03<00:00,  1.19it/s]\u001b[A\u001b[A\n"
     ]
    },
    {
     "name": "stdout",
     "output_type": "stream",
     "text": [
      "\n",
      "Epoch: 064, Loss: 0.4635, Val: 0.6354, Test: 0.6368\n"
     ]
    },
    {
     "name": "stderr",
     "output_type": "stream",
     "text": [
      "\n",
      "  1%|          | 64/10000 [04:15<13:06:54,  4.75s/it]\u001b[A\n",
      "\n",
      "  0%|          | 0/4 [00:00<?, ?it/s]\u001b[A\u001b[A\n",
      "\n",
      " 25%|██▌       | 1/4 [00:00<00:02,  1.20it/s]\u001b[A\u001b[A\n",
      "\n",
      " 50%|█████     | 2/4 [00:01<00:01,  1.19it/s]\u001b[A\u001b[A\n",
      "\n",
      " 75%|███████▌  | 3/4 [00:02<00:00,  1.23it/s]\u001b[A\u001b[A\n",
      "\n",
      "100%|██████████| 4/4 [00:03<00:00,  1.26it/s]\u001b[A\u001b[A\n"
     ]
    },
    {
     "name": "stdout",
     "output_type": "stream",
     "text": [
      "\n",
      "Epoch: 065, Loss: 0.4619, Val: 0.6367, Test: 0.6382\n"
     ]
    },
    {
     "name": "stderr",
     "output_type": "stream",
     "text": [
      "\n",
      "  1%|          | 65/10000 [04:20<12:55:41,  4.68s/it]\u001b[A\n",
      "\n",
      "  0%|          | 0/4 [00:00<?, ?it/s]\u001b[A\u001b[A\n",
      "\n",
      " 25%|██▌       | 1/4 [00:00<00:02,  1.19it/s]\u001b[A\u001b[A\n",
      "\n",
      " 50%|█████     | 2/4 [00:01<00:01,  1.16it/s]\u001b[A\u001b[A\n",
      "\n",
      " 75%|███████▌  | 3/4 [00:02<00:00,  1.16it/s]\u001b[A\u001b[A\n",
      "\n",
      "100%|██████████| 4/4 [00:03<00:00,  1.21it/s]\u001b[A\u001b[A\n"
     ]
    },
    {
     "name": "stdout",
     "output_type": "stream",
     "text": [
      "\n",
      "Epoch: 066, Loss: 0.4602, Val: 0.6382, Test: 0.6395\n"
     ]
    },
    {
     "name": "stderr",
     "output_type": "stream",
     "text": [
      "\n",
      "  1%|          | 66/10000 [04:24<13:00:50,  4.72s/it]\u001b[A\n",
      "\n",
      "  0%|          | 0/4 [00:00<?, ?it/s]\u001b[A\u001b[A\n",
      "\n",
      " 25%|██▌       | 1/4 [00:00<00:02,  1.44it/s]\u001b[A\u001b[A\n",
      "\n",
      " 50%|█████     | 2/4 [00:01<00:01,  1.28it/s]\u001b[A\u001b[A\n",
      "\n",
      " 75%|███████▌  | 3/4 [00:02<00:00,  1.30it/s]\u001b[A\u001b[A\n",
      "\n",
      "100%|██████████| 4/4 [00:02<00:00,  1.33it/s]\u001b[A\u001b[A\n"
     ]
    },
    {
     "name": "stdout",
     "output_type": "stream",
     "text": [
      "\n",
      "Epoch: 067, Loss: 0.4593, Val: 0.6397, Test: 0.6409\n"
     ]
    },
    {
     "name": "stderr",
     "output_type": "stream",
     "text": [
      "\n",
      "  1%|          | 67/10000 [04:29<12:47:01,  4.63s/it]\u001b[A\n",
      "\n",
      "  0%|          | 0/4 [00:00<?, ?it/s]\u001b[A\u001b[A\n",
      "\n",
      " 25%|██▌       | 1/4 [00:00<00:02,  1.25it/s]\u001b[A\u001b[A\n",
      "\n",
      " 50%|█████     | 2/4 [00:01<00:01,  1.27it/s]\u001b[A\u001b[A\n",
      "\n",
      " 75%|███████▌  | 3/4 [00:02<00:00,  1.26it/s]\u001b[A\u001b[A\n",
      "\n",
      "100%|██████████| 4/4 [00:03<00:00,  1.29it/s]\u001b[A\u001b[A\n"
     ]
    },
    {
     "name": "stdout",
     "output_type": "stream",
     "text": [
      "\n",
      "Epoch: 068, Loss: 0.4576, Val: 0.6410, Test: 0.6423\n"
     ]
    },
    {
     "name": "stderr",
     "output_type": "stream",
     "text": [
      "\n",
      "  1%|          | 68/10000 [04:33<12:43:45,  4.61s/it]\u001b[A\n",
      "\n",
      "  0%|          | 0/4 [00:00<?, ?it/s]\u001b[A\u001b[A\n",
      "\n",
      " 25%|██▌       | 1/4 [00:00<00:02,  1.26it/s]\u001b[A\u001b[A\n",
      "\n",
      " 50%|█████     | 2/4 [00:01<00:01,  1.23it/s]\u001b[A\u001b[A\n",
      "\n",
      " 75%|███████▌  | 3/4 [00:02<00:00,  1.25it/s]\u001b[A\u001b[A\n",
      "\n",
      "100%|██████████| 4/4 [00:03<00:00,  1.30it/s]\u001b[A\u001b[A\n"
     ]
    },
    {
     "name": "stdout",
     "output_type": "stream",
     "text": [
      "\n",
      "Epoch: 069, Loss: 0.4563, Val: 0.6422, Test: 0.6438\n"
     ]
    },
    {
     "name": "stderr",
     "output_type": "stream",
     "text": [
      "\n",
      "  1%|          | 69/10000 [04:38<12:35:12,  4.56s/it]\u001b[A\n",
      "\n",
      "  0%|          | 0/4 [00:00<?, ?it/s]\u001b[A\u001b[A\n",
      "\n",
      " 25%|██▌       | 1/4 [00:00<00:02,  1.18it/s]\u001b[A\u001b[A\n",
      "\n",
      " 50%|█████     | 2/4 [00:01<00:01,  1.15it/s]\u001b[A\u001b[A\n",
      "\n",
      " 75%|███████▌  | 3/4 [00:02<00:00,  1.15it/s]\u001b[A\u001b[A\n",
      "\n",
      "100%|██████████| 4/4 [00:03<00:00,  1.19it/s]\u001b[A\u001b[A\n"
     ]
    },
    {
     "name": "stdout",
     "output_type": "stream",
     "text": [
      "\n",
      "Epoch: 070, Loss: 0.4558, Val: 0.6437, Test: 0.6451\n"
     ]
    },
    {
     "name": "stderr",
     "output_type": "stream",
     "text": [
      "\n",
      "  1%|          | 70/10000 [04:43<12:55:06,  4.68s/it]\u001b[A\n",
      "\n",
      "  0%|          | 0/4 [00:00<?, ?it/s]\u001b[A\u001b[A\n",
      "\n",
      " 25%|██▌       | 1/4 [00:01<00:04,  1.45s/it]\u001b[A\u001b[A\n",
      "\n",
      " 50%|█████     | 2/4 [00:02<00:02,  1.16s/it]\u001b[A\u001b[A\n",
      "\n",
      " 75%|███████▌  | 3/4 [00:03<00:00,  1.03it/s]\u001b[A\u001b[A\n",
      "\n",
      "100%|██████████| 4/4 [00:03<00:00,  1.00it/s]\u001b[A\u001b[A\n"
     ]
    },
    {
     "name": "stdout",
     "output_type": "stream",
     "text": [
      "\n",
      "Epoch: 071, Loss: 0.4551, Val: 0.6448, Test: 0.6465\n"
     ]
    },
    {
     "name": "stderr",
     "output_type": "stream",
     "text": [
      "\n",
      "  1%|          | 71/10000 [04:48<13:33:05,  4.91s/it]\u001b[A\n",
      "\n",
      "  0%|          | 0/4 [00:00<?, ?it/s]\u001b[A\u001b[A\n",
      "\n",
      " 25%|██▌       | 1/4 [00:00<00:02,  1.17it/s]\u001b[A\u001b[A\n",
      "\n",
      " 50%|█████     | 2/4 [00:01<00:01,  1.21it/s]\u001b[A\u001b[A\n",
      "\n",
      " 75%|███████▌  | 3/4 [00:02<00:00,  1.20it/s]\u001b[A\u001b[A\n",
      "\n",
      "100%|██████████| 4/4 [00:03<00:00,  1.22it/s]\u001b[A\u001b[A\n"
     ]
    },
    {
     "name": "stdout",
     "output_type": "stream",
     "text": [
      "\n",
      "Epoch: 072, Loss: 0.4533, Val: 0.6462, Test: 0.6480\n"
     ]
    },
    {
     "name": "stderr",
     "output_type": "stream",
     "text": [
      "\n",
      "  1%|          | 72/10000 [04:53<13:24:34,  4.86s/it]\u001b[A\n",
      "\n",
      "  0%|          | 0/4 [00:00<?, ?it/s]\u001b[A\u001b[A\n",
      "\n",
      " 25%|██▌       | 1/4 [00:00<00:02,  1.06it/s]\u001b[A\u001b[A\n",
      "\n",
      " 50%|█████     | 2/4 [00:01<00:01,  1.18it/s]\u001b[A\u001b[A\n",
      "\n",
      " 75%|███████▌  | 3/4 [00:02<00:00,  1.18it/s]\u001b[A\u001b[A\n",
      "\n",
      "100%|██████████| 4/4 [00:03<00:00,  1.19it/s]\u001b[A\u001b[A\n"
     ]
    },
    {
     "name": "stdout",
     "output_type": "stream",
     "text": [
      "\n",
      "Epoch: 073, Loss: 0.4517, Val: 0.6474, Test: 0.6493\n"
     ]
    },
    {
     "name": "stderr",
     "output_type": "stream",
     "text": [
      "\n",
      "  1%|          | 73/10000 [04:58<13:17:58,  4.82s/it]\u001b[A\n",
      "\n",
      "  0%|          | 0/4 [00:00<?, ?it/s]\u001b[A\u001b[A\n",
      "\n",
      " 25%|██▌       | 1/4 [00:00<00:02,  1.20it/s]\u001b[A\u001b[A\n",
      "\n",
      " 50%|█████     | 2/4 [00:01<00:01,  1.23it/s]\u001b[A\u001b[A\n",
      "\n",
      " 75%|███████▌  | 3/4 [00:02<00:00,  1.25it/s]\u001b[A\u001b[A\n",
      "\n",
      "100%|██████████| 4/4 [00:03<00:00,  1.27it/s]\u001b[A\u001b[A\n"
     ]
    },
    {
     "name": "stdout",
     "output_type": "stream",
     "text": [
      "\n",
      "Epoch: 074, Loss: 0.4505, Val: 0.6485, Test: 0.6509\n"
     ]
    },
    {
     "name": "stderr",
     "output_type": "stream",
     "text": [
      "\n",
      "  1%|          | 74/10000 [05:02<12:59:40,  4.71s/it]\u001b[A\n",
      "\n",
      "  0%|          | 0/4 [00:00<?, ?it/s]\u001b[A\u001b[A\n",
      "\n",
      " 25%|██▌       | 1/4 [00:00<00:02,  1.21it/s]\u001b[A\u001b[A\n",
      "\n",
      " 50%|█████     | 2/4 [00:01<00:01,  1.20it/s]\u001b[A\u001b[A\n",
      "\n",
      " 75%|███████▌  | 3/4 [00:02<00:00,  1.16it/s]\u001b[A\u001b[A\n",
      "\n",
      "100%|██████████| 4/4 [00:03<00:00,  1.21it/s]\u001b[A\u001b[A\n"
     ]
    },
    {
     "name": "stdout",
     "output_type": "stream",
     "text": [
      "\n",
      "Epoch: 075, Loss: 0.4497, Val: 0.6498, Test: 0.6523\n"
     ]
    },
    {
     "name": "stderr",
     "output_type": "stream",
     "text": [
      "\n",
      "  1%|          | 75/10000 [05:07<13:05:55,  4.75s/it]\u001b[A\n",
      "\n",
      "  0%|          | 0/4 [00:00<?, ?it/s]\u001b[A\u001b[A\n",
      "\n",
      " 25%|██▌       | 1/4 [00:00<00:02,  1.13it/s]\u001b[A\u001b[A\n",
      "\n",
      " 50%|█████     | 2/4 [00:01<00:01,  1.25it/s]\u001b[A\u001b[A\n",
      "\n",
      " 75%|███████▌  | 3/4 [00:02<00:00,  1.22it/s]\u001b[A\u001b[A\n",
      "\n",
      "100%|██████████| 4/4 [00:03<00:00,  1.23it/s]\u001b[A\u001b[A\n"
     ]
    },
    {
     "name": "stdout",
     "output_type": "stream",
     "text": [
      "\n",
      "Epoch: 076, Loss: 0.4488, Val: 0.6511, Test: 0.6537\n"
     ]
    },
    {
     "name": "stderr",
     "output_type": "stream",
     "text": [
      "\n",
      "  1%|          | 76/10000 [05:12<12:58:56,  4.71s/it]\u001b[A\n",
      "\n",
      "  0%|          | 0/4 [00:00<?, ?it/s]\u001b[A\u001b[A\n",
      "\n",
      " 25%|██▌       | 1/4 [00:00<00:02,  1.15it/s]\u001b[A\u001b[A\n",
      "\n",
      " 50%|█████     | 2/4 [00:01<00:01,  1.19it/s]\u001b[A\u001b[A\n",
      "\n",
      " 75%|███████▌  | 3/4 [00:02<00:00,  1.18it/s]\u001b[A\u001b[A\n",
      "\n",
      "100%|██████████| 4/4 [00:03<00:00,  1.21it/s]\u001b[A\u001b[A\n"
     ]
    },
    {
     "name": "stdout",
     "output_type": "stream",
     "text": [
      "\n",
      "Epoch: 077, Loss: 0.4479, Val: 0.6525, Test: 0.6550\n"
     ]
    },
    {
     "name": "stderr",
     "output_type": "stream",
     "text": [
      "\n",
      "  1%|          | 77/10000 [05:16<12:57:00,  4.70s/it]\u001b[A\n",
      "\n",
      "  0%|          | 0/4 [00:00<?, ?it/s]\u001b[A\u001b[A\n",
      "\n",
      " 25%|██▌       | 1/4 [00:00<00:02,  1.20it/s]\u001b[A\u001b[A\n",
      "\n",
      " 50%|█████     | 2/4 [00:01<00:01,  1.21it/s]\u001b[A\u001b[A\n",
      "\n",
      " 75%|███████▌  | 3/4 [00:02<00:00,  1.18it/s]\u001b[A\u001b[A\n",
      "\n",
      "100%|██████████| 4/4 [00:03<00:00,  1.21it/s]\u001b[A\u001b[A\n"
     ]
    },
    {
     "name": "stdout",
     "output_type": "stream",
     "text": [
      "\n",
      "Epoch: 078, Loss: 0.4464, Val: 0.6539, Test: 0.6562\n"
     ]
    },
    {
     "name": "stderr",
     "output_type": "stream",
     "text": [
      "\n",
      "  1%|          | 78/10000 [05:21<12:51:44,  4.67s/it]\u001b[A\n",
      "\n",
      "  0%|          | 0/4 [00:00<?, ?it/s]\u001b[A\u001b[A\n",
      "\n",
      " 25%|██▌       | 1/4 [00:00<00:02,  1.22it/s]\u001b[A\u001b[A\n",
      "\n",
      " 50%|█████     | 2/4 [00:01<00:01,  1.22it/s]\u001b[A\u001b[A\n",
      "\n",
      " 75%|███████▌  | 3/4 [00:02<00:00,  1.24it/s]\u001b[A\u001b[A\n",
      "\n",
      "100%|██████████| 4/4 [00:03<00:00,  1.27it/s]\u001b[A\u001b[A\n"
     ]
    },
    {
     "name": "stdout",
     "output_type": "stream",
     "text": [
      "\n",
      "Epoch: 079, Loss: 0.4454, Val: 0.6550, Test: 0.6573\n"
     ]
    },
    {
     "name": "stderr",
     "output_type": "stream",
     "text": [
      "\n",
      "  1%|          | 79/10000 [05:25<12:43:42,  4.62s/it]\u001b[A\n",
      "\n",
      "  0%|          | 0/4 [00:00<?, ?it/s]\u001b[A\u001b[A\n",
      "\n",
      " 25%|██▌       | 1/4 [00:00<00:02,  1.05it/s]\u001b[A\u001b[A\n",
      "\n",
      " 50%|█████     | 2/4 [00:01<00:01,  1.16it/s]\u001b[A\u001b[A\n",
      "\n",
      " 75%|███████▌  | 3/4 [00:02<00:00,  1.21it/s]\u001b[A\u001b[A\n",
      "\n",
      "100%|██████████| 4/4 [00:03<00:00,  1.23it/s]\u001b[A\u001b[A\n"
     ]
    },
    {
     "name": "stdout",
     "output_type": "stream",
     "text": [
      "\n",
      "Epoch: 080, Loss: 0.4444, Val: 0.6564, Test: 0.6584\n"
     ]
    },
    {
     "name": "stderr",
     "output_type": "stream",
     "text": [
      "\n",
      "  1%|          | 80/10000 [05:30<12:39:53,  4.60s/it]\u001b[A\n",
      "\n",
      "  0%|          | 0/4 [00:00<?, ?it/s]\u001b[A\u001b[A\n",
      "\n",
      " 25%|██▌       | 1/4 [00:00<00:02,  1.23it/s]\u001b[A\u001b[A\n",
      "\n",
      " 50%|█████     | 2/4 [00:01<00:01,  1.20it/s]\u001b[A\u001b[A\n",
      "\n",
      " 75%|███████▌  | 3/4 [00:02<00:00,  1.21it/s]\u001b[A\u001b[A\n",
      "\n",
      "100%|██████████| 4/4 [00:03<00:00,  1.25it/s]\u001b[A\u001b[A\n"
     ]
    },
    {
     "name": "stdout",
     "output_type": "stream",
     "text": [
      "\n",
      "Epoch: 081, Loss: 0.4429, Val: 0.6577, Test: 0.6596\n"
     ]
    },
    {
     "name": "stderr",
     "output_type": "stream",
     "text": [
      "\n",
      "  1%|          | 81/10000 [05:34<12:34:05,  4.56s/it]\u001b[A\n",
      "\n",
      "  0%|          | 0/4 [00:00<?, ?it/s]\u001b[A\u001b[A\n",
      "\n",
      " 25%|██▌       | 1/4 [00:00<00:02,  1.28it/s]\u001b[A\u001b[A\n",
      "\n",
      " 50%|█████     | 2/4 [00:01<00:01,  1.24it/s]\u001b[A\u001b[A\n",
      "\n",
      " 75%|███████▌  | 3/4 [00:02<00:00,  1.24it/s]\u001b[A\u001b[A\n",
      "\n",
      "100%|██████████| 4/4 [00:03<00:00,  1.30it/s]\u001b[A\u001b[A\n"
     ]
    },
    {
     "name": "stdout",
     "output_type": "stream",
     "text": [
      "\n",
      "Epoch: 082, Loss: 0.4422, Val: 0.6587, Test: 0.6604\n"
     ]
    },
    {
     "name": "stderr",
     "output_type": "stream",
     "text": [
      "\n",
      "  1%|          | 82/10000 [05:39<12:26:41,  4.52s/it]\u001b[A\n",
      "\n",
      "  0%|          | 0/4 [00:00<?, ?it/s]\u001b[A\u001b[A\n",
      "\n",
      " 25%|██▌       | 1/4 [00:00<00:02,  1.20it/s]\u001b[A\u001b[A\n",
      "\n",
      " 50%|█████     | 2/4 [00:01<00:01,  1.23it/s]\u001b[A\u001b[A\n",
      "\n",
      " 75%|███████▌  | 3/4 [00:02<00:00,  1.24it/s]\u001b[A\u001b[A\n",
      "\n",
      "100%|██████████| 4/4 [00:02<00:00,  1.38it/s]\u001b[A\u001b[A\n"
     ]
    },
    {
     "name": "stdout",
     "output_type": "stream",
     "text": [
      "\n",
      "Epoch: 083, Loss: 0.4412, Val: 0.6599, Test: 0.6614\n"
     ]
    },
    {
     "name": "stderr",
     "output_type": "stream",
     "text": [
      "\n",
      "  1%|          | 83/10000 [05:43<12:10:45,  4.42s/it]\u001b[A\n",
      "\n",
      "  0%|          | 0/4 [00:00<?, ?it/s]\u001b[A\u001b[A\n",
      "\n",
      " 25%|██▌       | 1/4 [00:00<00:02,  1.36it/s]\u001b[A\u001b[A\n",
      "\n",
      " 50%|█████     | 2/4 [00:01<00:01,  1.35it/s]\u001b[A\u001b[A\n",
      "\n",
      " 75%|███████▌  | 3/4 [00:02<00:00,  1.38it/s]\u001b[A\u001b[A\n",
      "\n",
      "100%|██████████| 4/4 [00:02<00:00,  1.39it/s]\u001b[A\u001b[A\n"
     ]
    },
    {
     "name": "stdout",
     "output_type": "stream",
     "text": [
      "\n",
      "Epoch: 084, Loss: 0.4409, Val: 0.6612, Test: 0.6625\n"
     ]
    },
    {
     "name": "stderr",
     "output_type": "stream",
     "text": [
      "\n",
      "  1%|          | 84/10000 [05:47<11:56:13,  4.33s/it]\u001b[A\n",
      "\n",
      "  0%|          | 0/4 [00:00<?, ?it/s]\u001b[A\u001b[A\n",
      "\n",
      " 25%|██▌       | 1/4 [00:00<00:02,  1.30it/s]\u001b[A\u001b[A\n",
      "\n",
      " 50%|█████     | 2/4 [00:01<00:01,  1.29it/s]\u001b[A\u001b[A\n",
      "\n",
      " 75%|███████▌  | 3/4 [00:02<00:00,  1.25it/s]\u001b[A\u001b[A\n",
      "\n",
      "100%|██████████| 4/4 [00:03<00:00,  1.33it/s]\u001b[A\u001b[A\n"
     ]
    },
    {
     "name": "stdout",
     "output_type": "stream",
     "text": [
      "\n",
      "Epoch: 085, Loss: 0.4396, Val: 0.6623, Test: 0.6635\n"
     ]
    },
    {
     "name": "stderr",
     "output_type": "stream",
     "text": [
      "\n",
      "  1%|          | 85/10000 [05:52<12:00:45,  4.36s/it]\u001b[A\n",
      "\n",
      "  0%|          | 0/4 [00:00<?, ?it/s]\u001b[A\u001b[A\n",
      "\n",
      " 25%|██▌       | 1/4 [00:00<00:02,  1.29it/s]\u001b[A\u001b[A\n",
      "\n",
      " 50%|█████     | 2/4 [00:01<00:01,  1.29it/s]\u001b[A\u001b[A\n",
      "\n",
      " 75%|███████▌  | 3/4 [00:02<00:00,  1.30it/s]\u001b[A\u001b[A\n",
      "\n",
      "100%|██████████| 4/4 [00:03<00:00,  1.30it/s]\u001b[A\u001b[A\n"
     ]
    },
    {
     "name": "stdout",
     "output_type": "stream",
     "text": [
      "\n",
      "Epoch: 086, Loss: 0.4387, Val: 0.6634, Test: 0.6645\n"
     ]
    },
    {
     "name": "stderr",
     "output_type": "stream",
     "text": [
      "\n",
      "  1%|          | 86/10000 [05:56<12:04:09,  4.38s/it]\u001b[A\n",
      "\n",
      "  0%|          | 0/4 [00:00<?, ?it/s]\u001b[A\u001b[A\n",
      "\n",
      " 25%|██▌       | 1/4 [00:00<00:02,  1.23it/s]\u001b[A\u001b[A\n",
      "\n",
      " 50%|█████     | 2/4 [00:01<00:01,  1.12it/s]\u001b[A\u001b[A\n",
      "\n",
      " 75%|███████▌  | 3/4 [00:02<00:00,  1.21it/s]\u001b[A\u001b[A\n",
      "\n",
      "100%|██████████| 4/4 [00:03<00:00,  1.24it/s]\u001b[A\u001b[A\n"
     ]
    },
    {
     "name": "stdout",
     "output_type": "stream",
     "text": [
      "\n",
      "Epoch: 087, Loss: 0.4371, Val: 0.6642, Test: 0.6656\n"
     ]
    },
    {
     "name": "stderr",
     "output_type": "stream",
     "text": [
      "\n",
      "  1%|          | 87/10000 [06:01<12:11:57,  4.43s/it]\u001b[A\n",
      "\n",
      "  0%|          | 0/4 [00:00<?, ?it/s]\u001b[A\u001b[A\n",
      "\n",
      " 25%|██▌       | 1/4 [00:00<00:02,  1.23it/s]\u001b[A\u001b[A\n",
      "\n",
      " 50%|█████     | 2/4 [00:01<00:01,  1.29it/s]\u001b[A\u001b[A\n",
      "\n",
      " 75%|███████▌  | 3/4 [00:02<00:00,  1.28it/s]\u001b[A\u001b[A\n",
      "\n",
      "100%|██████████| 4/4 [00:03<00:00,  1.32it/s]\u001b[A\u001b[A\n"
     ]
    },
    {
     "name": "stdout",
     "output_type": "stream",
     "text": [
      "\n",
      "Epoch: 088, Loss: 0.4365, Val: 0.6651, Test: 0.6665\n"
     ]
    },
    {
     "name": "stderr",
     "output_type": "stream",
     "text": [
      "\n",
      "  1%|          | 88/10000 [06:05<12:04:22,  4.38s/it]\u001b[A\n",
      "\n",
      "  0%|          | 0/4 [00:00<?, ?it/s]\u001b[A\u001b[A\n",
      "\n",
      " 25%|██▌       | 1/4 [00:00<00:01,  2.05it/s]\u001b[A\u001b[A\n",
      "\n",
      " 50%|█████     | 2/4 [00:01<00:01,  1.43it/s]\u001b[A\u001b[A\n",
      "\n",
      " 75%|███████▌  | 3/4 [00:02<00:00,  1.36it/s]\u001b[A\u001b[A\n",
      "\n",
      "100%|██████████| 4/4 [00:02<00:00,  1.39it/s]\u001b[A\u001b[A\n"
     ]
    },
    {
     "name": "stdout",
     "output_type": "stream",
     "text": [
      "\n",
      "Epoch: 089, Loss: 0.4359, Val: 0.6660, Test: 0.6674\n"
     ]
    },
    {
     "name": "stderr",
     "output_type": "stream",
     "text": [
      "\n",
      "  1%|          | 89/10000 [06:09<11:57:30,  4.34s/it]\u001b[A\n",
      "\n",
      "  0%|          | 0/4 [00:00<?, ?it/s]\u001b[A\u001b[A\n",
      "\n",
      " 25%|██▌       | 1/4 [00:00<00:02,  1.34it/s]\u001b[A\u001b[A\n",
      "\n",
      " 50%|█████     | 2/4 [00:01<00:01,  1.32it/s]\u001b[A\u001b[A\n",
      "\n",
      " 75%|███████▌  | 3/4 [00:02<00:00,  1.29it/s]\u001b[A\u001b[A\n",
      "\n",
      "100%|██████████| 4/4 [00:03<00:00,  1.33it/s]\u001b[A\u001b[A\n"
     ]
    },
    {
     "name": "stdout",
     "output_type": "stream",
     "text": [
      "\n",
      "Epoch: 090, Loss: 0.4351, Val: 0.6670, Test: 0.6681\n"
     ]
    },
    {
     "name": "stderr",
     "output_type": "stream",
     "text": [
      "\n",
      "  1%|          | 90/10000 [06:13<11:54:29,  4.33s/it]\u001b[A\n",
      "\n",
      "  0%|          | 0/4 [00:00<?, ?it/s]\u001b[A\u001b[A\n",
      "\n",
      " 25%|██▌       | 1/4 [00:00<00:02,  1.32it/s]\u001b[A\u001b[A\n",
      "\n",
      " 50%|█████     | 2/4 [00:01<00:01,  1.28it/s]\u001b[A\u001b[A\n",
      "\n",
      " 75%|███████▌  | 3/4 [00:02<00:00,  1.30it/s]\u001b[A\u001b[A\n",
      "\n",
      "100%|██████████| 4/4 [00:02<00:00,  1.35it/s]\u001b[A\u001b[A\n"
     ]
    },
    {
     "name": "stdout",
     "output_type": "stream",
     "text": [
      "\n",
      "Epoch: 091, Loss: 0.4343, Val: 0.6679, Test: 0.6693\n"
     ]
    },
    {
     "name": "stderr",
     "output_type": "stream",
     "text": [
      "\n",
      "  1%|          | 91/10000 [06:18<11:51:36,  4.31s/it]\u001b[A\n",
      "\n",
      "  0%|          | 0/4 [00:00<?, ?it/s]\u001b[A\u001b[A\n",
      "\n",
      " 25%|██▌       | 1/4 [00:00<00:02,  1.25it/s]\u001b[A\u001b[A\n",
      "\n",
      " 50%|█████     | 2/4 [00:01<00:01,  1.26it/s]\u001b[A\u001b[A\n",
      "\n",
      " 75%|███████▌  | 3/4 [00:02<00:00,  1.27it/s]\u001b[A\u001b[A\n",
      "\n",
      "100%|██████████| 4/4 [00:03<00:00,  1.30it/s]\u001b[A\u001b[A\n"
     ]
    },
    {
     "name": "stdout",
     "output_type": "stream",
     "text": [
      "\n",
      "Epoch: 092, Loss: 0.4333, Val: 0.6689, Test: 0.6702\n"
     ]
    },
    {
     "name": "stderr",
     "output_type": "stream",
     "text": [
      "\n",
      "  1%|          | 92/10000 [06:22<11:57:03,  4.34s/it]\u001b[A\n",
      "\n",
      "  0%|          | 0/4 [00:00<?, ?it/s]\u001b[A\u001b[A\n",
      "\n",
      " 25%|██▌       | 1/4 [00:00<00:02,  1.22it/s]\u001b[A\u001b[A\n",
      "\n",
      " 50%|█████     | 2/4 [00:01<00:01,  1.22it/s]\u001b[A\u001b[A\n",
      "\n",
      " 75%|███████▌  | 3/4 [00:02<00:00,  1.26it/s]\u001b[A\u001b[A\n",
      "\n",
      "100%|██████████| 4/4 [00:03<00:00,  1.28it/s]\u001b[A\u001b[A\n"
     ]
    },
    {
     "name": "stdout",
     "output_type": "stream",
     "text": [
      "\n",
      "Epoch: 093, Loss: 0.4326, Val: 0.6698, Test: 0.6711\n"
     ]
    },
    {
     "name": "stderr",
     "output_type": "stream",
     "text": [
      "\n",
      "  1%|          | 93/10000 [06:26<12:00:43,  4.36s/it]\u001b[A\n",
      "\n",
      "  0%|          | 0/4 [00:00<?, ?it/s]\u001b[A\u001b[A\n",
      "\n",
      " 25%|██▌       | 1/4 [00:00<00:02,  1.35it/s]\u001b[A\u001b[A\n",
      "\n",
      " 50%|█████     | 2/4 [00:01<00:01,  1.45it/s]\u001b[A\u001b[A\n",
      "\n",
      " 75%|███████▌  | 3/4 [00:02<00:00,  1.48it/s]\u001b[A\u001b[A\n",
      "\n",
      "100%|██████████| 4/4 [00:02<00:00,  1.47it/s]\u001b[A\u001b[A\n"
     ]
    },
    {
     "name": "stdout",
     "output_type": "stream",
     "text": [
      "\n",
      "Epoch: 094, Loss: 0.4320, Val: 0.6707, Test: 0.6720\n"
     ]
    },
    {
     "name": "stderr",
     "output_type": "stream",
     "text": [
      "\n",
      "  1%|          | 94/10000 [06:31<11:46:46,  4.28s/it]\u001b[A\n",
      "\n",
      "  0%|          | 0/4 [00:00<?, ?it/s]\u001b[A\u001b[A\n",
      "\n",
      " 25%|██▌       | 1/4 [00:00<00:02,  1.15it/s]\u001b[A\u001b[A\n",
      "\n",
      " 50%|█████     | 2/4 [00:01<00:01,  1.36it/s]\u001b[A\u001b[A\n",
      "\n",
      " 75%|███████▌  | 3/4 [00:02<00:00,  1.26it/s]\u001b[A\u001b[A\n",
      "\n",
      "100%|██████████| 4/4 [00:03<00:00,  1.29it/s]\u001b[A\u001b[A\n"
     ]
    },
    {
     "name": "stdout",
     "output_type": "stream",
     "text": [
      "\n",
      "Epoch: 095, Loss: 0.4309, Val: 0.6717, Test: 0.6728\n"
     ]
    },
    {
     "name": "stderr",
     "output_type": "stream",
     "text": [
      "\n",
      "  1%|          | 95/10000 [06:35<11:57:25,  4.35s/it]\u001b[A\n",
      "\n",
      "  0%|          | 0/4 [00:00<?, ?it/s]\u001b[A\u001b[A\n",
      "\n",
      " 25%|██▌       | 1/4 [00:00<00:02,  1.26it/s]\u001b[A\u001b[A\n",
      "\n",
      " 50%|█████     | 2/4 [00:01<00:01,  1.27it/s]\u001b[A\u001b[A\n",
      "\n",
      " 75%|███████▌  | 3/4 [00:02<00:00,  1.26it/s]\u001b[A\u001b[A\n",
      "\n",
      "100%|██████████| 4/4 [00:03<00:00,  1.29it/s]\u001b[A\u001b[A\n"
     ]
    },
    {
     "name": "stdout",
     "output_type": "stream",
     "text": [
      "\n",
      "Epoch: 096, Loss: 0.4305, Val: 0.6728, Test: 0.6739\n"
     ]
    },
    {
     "name": "stderr",
     "output_type": "stream",
     "text": [
      "\n",
      "  1%|          | 96/10000 [06:39<12:00:41,  4.37s/it]\u001b[A\n",
      "\n",
      "  0%|          | 0/4 [00:00<?, ?it/s]\u001b[A\u001b[A\n",
      "\n",
      " 25%|██▌       | 1/4 [00:00<00:02,  1.27it/s]\u001b[A\u001b[A\n",
      "\n",
      " 50%|█████     | 2/4 [00:01<00:01,  1.27it/s]\u001b[A\u001b[A\n",
      "\n",
      " 75%|███████▌  | 3/4 [00:02<00:00,  1.28it/s]\u001b[A\u001b[A\n",
      "\n",
      "100%|██████████| 4/4 [00:03<00:00,  1.32it/s]\u001b[A\u001b[A\n"
     ]
    },
    {
     "name": "stdout",
     "output_type": "stream",
     "text": [
      "\n",
      "Epoch: 097, Loss: 0.4287, Val: 0.6738, Test: 0.6747\n"
     ]
    },
    {
     "name": "stderr",
     "output_type": "stream",
     "text": [
      "\n",
      "  1%|          | 97/10000 [06:44<12:02:43,  4.38s/it]\u001b[A\n",
      "\n",
      "  0%|          | 0/4 [00:00<?, ?it/s]\u001b[A\u001b[A\n",
      "\n",
      " 25%|██▌       | 1/4 [00:00<00:02,  1.18it/s]\u001b[A\u001b[A\n",
      "\n",
      " 50%|█████     | 2/4 [00:01<00:01,  1.17it/s]\u001b[A\u001b[A\n",
      "\n",
      " 75%|███████▌  | 3/4 [00:02<00:00,  1.22it/s]\u001b[A\u001b[A\n",
      "\n",
      "100%|██████████| 4/4 [00:03<00:00,  1.23it/s]\u001b[A\u001b[A\n"
     ]
    },
    {
     "name": "stdout",
     "output_type": "stream",
     "text": [
      "\n",
      "Epoch: 098, Loss: 0.4285, Val: 0.6747, Test: 0.6754\n"
     ]
    },
    {
     "name": "stderr",
     "output_type": "stream",
     "text": [
      "\n",
      "  1%|          | 98/10000 [06:49<12:17:46,  4.47s/it]\u001b[A\n",
      "\n",
      "  0%|          | 0/4 [00:00<?, ?it/s]\u001b[A\u001b[A\n",
      "\n",
      " 25%|██▌       | 1/4 [00:00<00:02,  1.36it/s]\u001b[A\u001b[A\n",
      "\n",
      " 50%|█████     | 2/4 [00:01<00:01,  1.50it/s]\u001b[A\u001b[A\n",
      "\n",
      " 75%|███████▌  | 3/4 [00:02<00:00,  1.38it/s]\u001b[A\u001b[A\n",
      "\n",
      "100%|██████████| 4/4 [00:02<00:00,  1.53it/s]\u001b[A\u001b[A\n"
     ]
    },
    {
     "name": "stdout",
     "output_type": "stream",
     "text": [
      "\n",
      "Epoch: 099, Loss: 0.4262, Val: 0.6756, Test: 0.6764\n"
     ]
    },
    {
     "name": "stderr",
     "output_type": "stream",
     "text": [
      "\n",
      "  1%|          | 99/10000 [06:53<11:54:35,  4.33s/it]\u001b[A\n",
      "\n",
      "  0%|          | 0/4 [00:00<?, ?it/s]\u001b[A\u001b[A\n",
      "\n",
      " 25%|██▌       | 1/4 [00:00<00:02,  1.13it/s]\u001b[A\u001b[A\n",
      "\n",
      " 50%|█████     | 2/4 [00:01<00:01,  1.21it/s]\u001b[A\u001b[A\n",
      "\n",
      " 75%|███████▌  | 3/4 [00:02<00:00,  1.21it/s]\u001b[A\u001b[A\n",
      "\n",
      "100%|██████████| 4/4 [00:03<00:00,  1.26it/s]\u001b[A\u001b[A\n"
     ]
    },
    {
     "name": "stdout",
     "output_type": "stream",
     "text": [
      "\n",
      "Epoch: 100, Loss: 0.4273, Val: 0.6767, Test: 0.6773\n"
     ]
    },
    {
     "name": "stderr",
     "output_type": "stream",
     "text": [
      "\n",
      "  1%|          | 100/10000 [06:57<12:01:55,  4.38s/it]\u001b[A\n",
      "\n",
      "  0%|          | 0/4 [00:00<?, ?it/s]\u001b[A\u001b[A\n",
      "\n",
      " 25%|██▌       | 1/4 [00:00<00:02,  1.41it/s]\u001b[A\u001b[A\n",
      "\n",
      " 50%|█████     | 2/4 [00:01<00:01,  1.66it/s]\u001b[A\u001b[A\n",
      "\n",
      " 75%|███████▌  | 3/4 [00:02<00:00,  1.38it/s]\u001b[A\u001b[A\n",
      "\n",
      "100%|██████████| 4/4 [00:02<00:00,  1.41it/s]\u001b[A\u001b[A\n"
     ]
    },
    {
     "name": "stdout",
     "output_type": "stream",
     "text": [
      "\n",
      "Epoch: 101, Loss: 0.4259, Val: 0.6775, Test: 0.6781\n"
     ]
    },
    {
     "name": "stderr",
     "output_type": "stream",
     "text": [
      "\n",
      "  1%|          | 101/10000 [07:01<11:51:11,  4.31s/it]\u001b[A\n",
      "\n",
      "  0%|          | 0/4 [00:00<?, ?it/s]\u001b[A\u001b[A\n",
      "\n",
      " 25%|██▌       | 1/4 [00:00<00:02,  1.21it/s]\u001b[A\u001b[A\n",
      "\n",
      " 50%|█████     | 2/4 [00:01<00:01,  1.25it/s]\u001b[A\u001b[A\n",
      "\n",
      " 75%|███████▌  | 3/4 [00:02<00:00,  1.26it/s]\u001b[A\u001b[A\n",
      "\n",
      "100%|██████████| 4/4 [00:02<00:00,  1.36it/s]\u001b[A\u001b[A\n"
     ]
    },
    {
     "name": "stdout",
     "output_type": "stream",
     "text": [
      "\n",
      "Epoch: 102, Loss: 0.4259, Val: 0.6784, Test: 0.6791\n"
     ]
    },
    {
     "name": "stderr",
     "output_type": "stream",
     "text": [
      "\n",
      "  1%|          | 102/10000 [07:05<11:48:48,  4.30s/it]\u001b[A\n",
      "\n",
      "  0%|          | 0/4 [00:00<?, ?it/s]\u001b[A\u001b[A\n",
      "\n",
      " 25%|██▌       | 1/4 [00:00<00:02,  1.35it/s]\u001b[A\u001b[A\n",
      "\n",
      " 50%|█████     | 2/4 [00:01<00:01,  1.33it/s]\u001b[A\u001b[A\n",
      "\n",
      " 75%|███████▌  | 3/4 [00:02<00:00,  1.29it/s]\u001b[A\u001b[A\n",
      "\n",
      "100%|██████████| 4/4 [00:02<00:00,  1.34it/s]\u001b[A\u001b[A\n"
     ]
    },
    {
     "name": "stdout",
     "output_type": "stream",
     "text": [
      "\n",
      "Epoch: 103, Loss: 0.4249, Val: 0.6793, Test: 0.6799\n"
     ]
    },
    {
     "name": "stderr",
     "output_type": "stream",
     "text": [
      "\n",
      "  1%|          | 103/10000 [07:10<11:53:36,  4.33s/it]\u001b[A\n",
      "\n",
      "  0%|          | 0/4 [00:00<?, ?it/s]\u001b[A\u001b[A\n",
      "\n",
      " 25%|██▌       | 1/4 [00:00<00:01,  1.54it/s]\u001b[A\u001b[A\n",
      "\n",
      " 50%|█████     | 2/4 [00:01<00:01,  1.43it/s]\u001b[A\u001b[A\n",
      "\n",
      " 75%|███████▌  | 3/4 [00:02<00:00,  1.35it/s]\u001b[A\u001b[A\n",
      "\n",
      "100%|██████████| 4/4 [00:02<00:00,  1.40it/s]\u001b[A\u001b[A\n"
     ]
    },
    {
     "name": "stdout",
     "output_type": "stream",
     "text": [
      "\n",
      "Epoch: 104, Loss: 0.4241, Val: 0.6801, Test: 0.6806\n"
     ]
    },
    {
     "name": "stderr",
     "output_type": "stream",
     "text": [
      "\n",
      "  1%|          | 104/10000 [07:14<11:52:00,  4.32s/it]\u001b[A\n",
      "\n",
      "  0%|          | 0/4 [00:00<?, ?it/s]\u001b[A\u001b[A\n",
      "\n",
      " 25%|██▌       | 1/4 [00:00<00:02,  1.26it/s]\u001b[A\u001b[A\n",
      "\n",
      " 50%|█████     | 2/4 [00:01<00:01,  1.25it/s]\u001b[A\u001b[A\n",
      "\n",
      " 75%|███████▌  | 3/4 [00:02<00:00,  1.27it/s]\u001b[A\u001b[A\n",
      "\n",
      "100%|██████████| 4/4 [00:03<00:00,  1.31it/s]\u001b[A\u001b[A\n"
     ]
    },
    {
     "name": "stdout",
     "output_type": "stream",
     "text": [
      "\n",
      "Epoch: 105, Loss: 0.4232, Val: 0.6811, Test: 0.6814\n"
     ]
    },
    {
     "name": "stderr",
     "output_type": "stream",
     "text": [
      "\n",
      "  1%|          | 105/10000 [07:19<11:55:30,  4.34s/it]\u001b[A\n",
      "\n",
      "  0%|          | 0/4 [00:00<?, ?it/s]\u001b[A\u001b[A\n",
      "\n",
      " 25%|██▌       | 1/4 [00:00<00:02,  1.15it/s]\u001b[A\u001b[A\n",
      "\n",
      " 50%|█████     | 2/4 [00:01<00:01,  1.20it/s]\u001b[A\u001b[A\n",
      "\n",
      " 75%|███████▌  | 3/4 [00:02<00:00,  1.23it/s]\u001b[A\u001b[A\n",
      "\n",
      "100%|██████████| 4/4 [00:03<00:00,  1.28it/s]\u001b[A\u001b[A\n"
     ]
    },
    {
     "name": "stdout",
     "output_type": "stream",
     "text": [
      "\n",
      "Epoch: 106, Loss: 0.4223, Val: 0.6817, Test: 0.6824\n"
     ]
    },
    {
     "name": "stderr",
     "output_type": "stream",
     "text": [
      "\n",
      "  1%|          | 106/10000 [07:23<12:01:36,  4.38s/it]\u001b[A\n",
      "\n",
      "  0%|          | 0/4 [00:00<?, ?it/s]\u001b[A\u001b[A\n",
      "\n",
      " 25%|██▌       | 1/4 [00:00<00:02,  1.29it/s]\u001b[A\u001b[A\n",
      "\n",
      " 50%|█████     | 2/4 [00:01<00:01,  1.27it/s]\u001b[A\u001b[A\n",
      "\n",
      " 75%|███████▌  | 3/4 [00:02<00:00,  1.28it/s]\u001b[A\u001b[A\n",
      "\n",
      "100%|██████████| 4/4 [00:03<00:00,  1.33it/s]\u001b[A\u001b[A\n"
     ]
    },
    {
     "name": "stdout",
     "output_type": "stream",
     "text": [
      "\n",
      "Epoch: 107, Loss: 0.4216, Val: 0.6823, Test: 0.6832\n"
     ]
    },
    {
     "name": "stderr",
     "output_type": "stream",
     "text": [
      "\n",
      "  1%|          | 107/10000 [07:27<11:56:14,  4.34s/it]\u001b[A\n",
      "\n",
      "  0%|          | 0/4 [00:00<?, ?it/s]\u001b[A\u001b[A\n",
      "\n",
      " 25%|██▌       | 1/4 [00:00<00:02,  1.27it/s]\u001b[A\u001b[A\n",
      "\n",
      " 50%|█████     | 2/4 [00:01<00:01,  1.25it/s]\u001b[A\u001b[A\n",
      "\n",
      " 75%|███████▌  | 3/4 [00:02<00:00,  1.41it/s]\u001b[A\u001b[A\n",
      "\n",
      "100%|██████████| 4/4 [00:02<00:00,  1.36it/s]\u001b[A\u001b[A\n"
     ]
    },
    {
     "name": "stdout",
     "output_type": "stream",
     "text": [
      "\n",
      "Epoch: 108, Loss: 0.4212, Val: 0.6830, Test: 0.6840\n"
     ]
    },
    {
     "name": "stderr",
     "output_type": "stream",
     "text": [
      "\n",
      "  1%|          | 108/10000 [07:32<11:52:09,  4.32s/it]\u001b[A\n",
      "\n",
      "  0%|          | 0/4 [00:00<?, ?it/s]\u001b[A\u001b[A\n",
      "\n",
      " 25%|██▌       | 1/4 [00:00<00:02,  1.23it/s]\u001b[A\u001b[A\n",
      "\n",
      " 50%|█████     | 2/4 [00:01<00:01,  1.28it/s]\u001b[A\u001b[A\n",
      "\n",
      " 75%|███████▌  | 3/4 [00:02<00:00,  1.30it/s]\u001b[A\u001b[A\n",
      "\n",
      "100%|██████████| 4/4 [00:03<00:00,  1.33it/s]\u001b[A\u001b[A\n"
     ]
    },
    {
     "name": "stdout",
     "output_type": "stream",
     "text": [
      "\n",
      "Epoch: 109, Loss: 0.4209, Val: 0.6838, Test: 0.6848\n"
     ]
    },
    {
     "name": "stderr",
     "output_type": "stream",
     "text": [
      "\n",
      "  1%|          | 109/10000 [07:36<11:52:31,  4.32s/it]\u001b[A\n",
      "\n",
      "  0%|          | 0/4 [00:00<?, ?it/s]\u001b[A\u001b[A\n",
      "\n",
      " 25%|██▌       | 1/4 [00:00<00:02,  1.31it/s]\u001b[A\u001b[A\n",
      "\n",
      " 50%|█████     | 2/4 [00:01<00:01,  1.49it/s]\u001b[A\u001b[A\n",
      "\n",
      " 75%|███████▌  | 3/4 [00:02<00:00,  1.41it/s]\u001b[A\u001b[A\n",
      "\n",
      "100%|██████████| 4/4 [00:02<00:00,  1.39it/s]\u001b[A\u001b[A\n"
     ]
    },
    {
     "name": "stdout",
     "output_type": "stream",
     "text": [
      "\n",
      "Epoch: 110, Loss: 0.4197, Val: 0.6846, Test: 0.6854\n"
     ]
    },
    {
     "name": "stderr",
     "output_type": "stream",
     "text": [
      "\n",
      "  1%|          | 110/10000 [07:40<11:47:30,  4.29s/it]\u001b[A\n",
      "\n",
      "  0%|          | 0/4 [00:00<?, ?it/s]\u001b[A\u001b[A\n",
      "\n",
      " 25%|██▌       | 1/4 [00:00<00:02,  1.27it/s]\u001b[A\u001b[A\n",
      "\n",
      " 50%|█████     | 2/4 [00:01<00:01,  1.26it/s]\u001b[A\u001b[A\n",
      "\n",
      " 75%|███████▌  | 3/4 [00:02<00:00,  1.26it/s]\u001b[A\u001b[A\n",
      "\n",
      "100%|██████████| 4/4 [00:03<00:00,  1.30it/s]\u001b[A\u001b[A\n"
     ]
    },
    {
     "name": "stdout",
     "output_type": "stream",
     "text": [
      "\n",
      "Epoch: 111, Loss: 0.4186, Val: 0.6854, Test: 0.6860\n"
     ]
    },
    {
     "name": "stderr",
     "output_type": "stream",
     "text": [
      "\n",
      "  1%|          | 111/10000 [07:45<11:57:08,  4.35s/it]\u001b[A\n",
      "\n",
      "  0%|          | 0/4 [00:00<?, ?it/s]\u001b[A\u001b[A\n",
      "\n",
      " 25%|██▌       | 1/4 [00:00<00:02,  1.28it/s]\u001b[A\u001b[A\n",
      "\n",
      " 50%|█████     | 2/4 [00:01<00:01,  1.25it/s]\u001b[A\u001b[A\n",
      "\n",
      " 75%|███████▌  | 3/4 [00:02<00:00,  1.26it/s]\u001b[A\u001b[A\n",
      "\n",
      "100%|██████████| 4/4 [00:02<00:00,  1.44it/s]\u001b[A\u001b[A\n"
     ]
    },
    {
     "name": "stdout",
     "output_type": "stream",
     "text": [
      "\n",
      "Epoch: 112, Loss: 0.4186, Val: 0.6860, Test: 0.6865\n"
     ]
    },
    {
     "name": "stderr",
     "output_type": "stream",
     "text": [
      "\n",
      "  1%|          | 112/10000 [07:49<11:44:11,  4.27s/it]\u001b[A\n",
      "\n",
      "  0%|          | 0/4 [00:00<?, ?it/s]\u001b[A\u001b[A\n",
      "\n",
      " 25%|██▌       | 1/4 [00:00<00:02,  1.24it/s]\u001b[A\u001b[A\n",
      "\n",
      " 50%|█████     | 2/4 [00:01<00:01,  1.29it/s]\u001b[A\u001b[A\n",
      "\n",
      " 75%|███████▌  | 3/4 [00:02<00:00,  1.25it/s]\u001b[A\u001b[A\n",
      "\n",
      "100%|██████████| 4/4 [00:03<00:00,  1.30it/s]\u001b[A\u001b[A\n"
     ]
    },
    {
     "name": "stdout",
     "output_type": "stream",
     "text": [
      "\n",
      "Epoch: 113, Loss: 0.4173, Val: 0.6866, Test: 0.6870\n"
     ]
    },
    {
     "name": "stderr",
     "output_type": "stream",
     "text": [
      "\n",
      "  1%|          | 113/10000 [07:53<11:47:22,  4.29s/it]\u001b[A\n",
      "\n",
      "  0%|          | 0/4 [00:00<?, ?it/s]\u001b[A\u001b[A\n",
      "\n",
      " 25%|██▌       | 1/4 [00:00<00:02,  1.28it/s]\u001b[A\u001b[A\n",
      "\n",
      " 50%|█████     | 2/4 [00:01<00:01,  1.27it/s]\u001b[A\u001b[A\n",
      "\n",
      " 75%|███████▌  | 3/4 [00:02<00:00,  1.29it/s]\u001b[A\u001b[A\n",
      "\n",
      "100%|██████████| 4/4 [00:03<00:00,  1.32it/s]\u001b[A\u001b[A\n"
     ]
    },
    {
     "name": "stdout",
     "output_type": "stream",
     "text": [
      "\n",
      "Epoch: 114, Loss: 0.4170, Val: 0.6873, Test: 0.6876\n"
     ]
    },
    {
     "name": "stderr",
     "output_type": "stream",
     "text": [
      "\n",
      "  1%|          | 114/10000 [07:57<11:49:15,  4.30s/it]\u001b[A\n",
      "\n",
      "  0%|          | 0/4 [00:00<?, ?it/s]\u001b[A\u001b[A\n",
      "\n",
      " 25%|██▌       | 1/4 [00:00<00:02,  1.21it/s]\u001b[A\u001b[A\n",
      "\n",
      " 50%|█████     | 2/4 [00:01<00:01,  1.23it/s]\u001b[A\u001b[A\n",
      "\n",
      " 75%|███████▌  | 3/4 [00:02<00:00,  1.22it/s]\u001b[A\u001b[A\n",
      "\n",
      "100%|██████████| 4/4 [00:03<00:00,  1.29it/s]\u001b[A\u001b[A\n"
     ]
    },
    {
     "name": "stdout",
     "output_type": "stream",
     "text": [
      "\n",
      "Epoch: 115, Loss: 0.4167, Val: 0.6879, Test: 0.6884\n"
     ]
    },
    {
     "name": "stderr",
     "output_type": "stream",
     "text": [
      "\n",
      "  1%|          | 115/10000 [08:02<11:52:01,  4.32s/it]\u001b[A\n",
      "\n",
      "  0%|          | 0/4 [00:00<?, ?it/s]\u001b[A\u001b[A\n",
      "\n",
      " 25%|██▌       | 1/4 [00:00<00:01,  1.70it/s]\u001b[A\u001b[A\n",
      "\n",
      " 50%|█████     | 2/4 [00:01<00:01,  1.39it/s]\u001b[A\u001b[A\n",
      "\n",
      " 75%|███████▌  | 3/4 [00:01<00:00,  1.58it/s]\u001b[A\u001b[A\n",
      "\n",
      "100%|██████████| 4/4 [00:02<00:00,  1.52it/s]\u001b[A\u001b[A\n"
     ]
    },
    {
     "name": "stdout",
     "output_type": "stream",
     "text": [
      "\n",
      "Epoch: 116, Loss: 0.4153, Val: 0.6884, Test: 0.6888\n"
     ]
    },
    {
     "name": "stderr",
     "output_type": "stream",
     "text": [
      "\n",
      "  1%|          | 116/10000 [08:06<11:35:05,  4.22s/it]\u001b[A\n",
      "\n",
      "  0%|          | 0/4 [00:00<?, ?it/s]\u001b[A\u001b[A\n",
      "\n",
      " 25%|██▌       | 1/4 [00:00<00:02,  1.28it/s]\u001b[A\u001b[A\n",
      "\n",
      " 50%|█████     | 2/4 [00:01<00:01,  1.28it/s]\u001b[A\u001b[A\n",
      "\n",
      " 75%|███████▌  | 3/4 [00:02<00:00,  1.23it/s]\u001b[A\u001b[A\n",
      "\n",
      "100%|██████████| 4/4 [00:03<00:00,  1.25it/s]\u001b[A\u001b[A\n"
     ]
    },
    {
     "name": "stdout",
     "output_type": "stream",
     "text": [
      "\n",
      "Epoch: 117, Loss: 0.4156, Val: 0.6892, Test: 0.6892\n"
     ]
    },
    {
     "name": "stderr",
     "output_type": "stream",
     "text": [
      "\n",
      "  1%|          | 117/10000 [08:10<11:55:26,  4.34s/it]\u001b[A\n",
      "\n",
      "  0%|          | 0/4 [00:00<?, ?it/s]\u001b[A\u001b[A\n",
      "\n",
      " 25%|██▌       | 1/4 [00:00<00:02,  1.20it/s]\u001b[A\u001b[A\n",
      "\n",
      " 50%|█████     | 2/4 [00:01<00:01,  1.24it/s]\u001b[A\u001b[A\n",
      "\n",
      " 75%|███████▌  | 3/4 [00:02<00:00,  1.31it/s]\u001b[A\u001b[A\n",
      "\n",
      "100%|██████████| 4/4 [00:03<00:00,  1.29it/s]\u001b[A\u001b[A\n"
     ]
    },
    {
     "name": "stdout",
     "output_type": "stream",
     "text": [
      "\n",
      "Epoch: 118, Loss: 0.4151, Val: 0.6897, Test: 0.6898\n"
     ]
    },
    {
     "name": "stderr",
     "output_type": "stream",
     "text": [
      "\n",
      "  1%|          | 118/10000 [08:15<12:09:29,  4.43s/it]\u001b[A\n",
      "\n",
      "  0%|          | 0/4 [00:00<?, ?it/s]\u001b[A\u001b[A\n",
      "\n",
      " 25%|██▌       | 1/4 [00:00<00:02,  1.18it/s]\u001b[A\u001b[A\n",
      "\n",
      " 50%|█████     | 2/4 [00:01<00:01,  1.18it/s]\u001b[A\u001b[A\n",
      "\n",
      " 75%|███████▌  | 3/4 [00:02<00:00,  1.18it/s]\u001b[A\u001b[A\n",
      "\n",
      "100%|██████████| 4/4 [00:03<00:00,  1.22it/s]\u001b[A\u001b[A\n"
     ]
    },
    {
     "name": "stdout",
     "output_type": "stream",
     "text": [
      "\n",
      "Epoch: 119, Loss: 0.4142, Val: 0.6902, Test: 0.6905\n"
     ]
    },
    {
     "name": "stderr",
     "output_type": "stream",
     "text": [
      "\n",
      "  1%|          | 119/10000 [08:20<12:15:17,  4.46s/it]\u001b[A\n",
      "\n",
      "  0%|          | 0/4 [00:00<?, ?it/s]\u001b[A\u001b[A\n",
      "\n",
      " 25%|██▌       | 1/4 [00:00<00:02,  1.36it/s]\u001b[A\u001b[A\n",
      "\n",
      " 50%|█████     | 2/4 [00:01<00:01,  1.37it/s]\u001b[A\u001b[A\n",
      "\n",
      " 75%|███████▌  | 3/4 [00:02<00:00,  1.30it/s]\u001b[A\u001b[A\n",
      "\n",
      "100%|██████████| 4/4 [00:02<00:00,  1.36it/s]\u001b[A\u001b[A\n"
     ]
    },
    {
     "name": "stdout",
     "output_type": "stream",
     "text": [
      "\n",
      "Epoch: 120, Loss: 0.4133, Val: 0.6908, Test: 0.6911\n"
     ]
    },
    {
     "name": "stderr",
     "output_type": "stream",
     "text": [
      "\n",
      "  1%|          | 120/10000 [08:24<12:05:17,  4.40s/it]\u001b[A\n",
      "\n",
      "  0%|          | 0/4 [00:00<?, ?it/s]\u001b[A\u001b[A\n",
      "\n",
      " 25%|██▌       | 1/4 [00:00<00:02,  1.19it/s]\u001b[A\u001b[A\n",
      "\n",
      " 50%|█████     | 2/4 [00:01<00:01,  1.27it/s]\u001b[A\u001b[A\n",
      "\n",
      " 75%|███████▌  | 3/4 [00:02<00:00,  1.52it/s]\u001b[A\u001b[A\n",
      "\n",
      "100%|██████████| 4/4 [00:02<00:00,  1.43it/s]\u001b[A\u001b[A\n"
     ]
    },
    {
     "name": "stdout",
     "output_type": "stream",
     "text": [
      "\n",
      "Epoch: 121, Loss: 0.4122, Val: 0.6914, Test: 0.6917\n"
     ]
    },
    {
     "name": "stderr",
     "output_type": "stream",
     "text": [
      "\n",
      "  1%|          | 121/10000 [08:28<11:57:51,  4.36s/it]\u001b[A\n",
      "\n",
      "  0%|          | 0/4 [00:00<?, ?it/s]\u001b[A\u001b[A\n",
      "\n",
      " 25%|██▌       | 1/4 [00:00<00:02,  1.07it/s]\u001b[A\u001b[A\n",
      "\n",
      " 50%|█████     | 2/4 [00:01<00:01,  1.13it/s]\u001b[A\u001b[A\n",
      "\n",
      " 75%|███████▌  | 3/4 [00:02<00:00,  1.22it/s]\u001b[A\u001b[A\n",
      "\n",
      "100%|██████████| 4/4 [00:03<00:00,  1.24it/s]\u001b[A\u001b[A\n"
     ]
    },
    {
     "name": "stdout",
     "output_type": "stream",
     "text": [
      "\n",
      "Epoch: 122, Loss: 0.4116, Val: 0.6918, Test: 0.6923\n"
     ]
    },
    {
     "name": "stderr",
     "output_type": "stream",
     "text": [
      "\n",
      "  1%|          | 122/10000 [08:33<12:11:01,  4.44s/it]\u001b[A\n",
      "\n",
      "  0%|          | 0/4 [00:00<?, ?it/s]\u001b[A\u001b[A\n",
      "\n",
      " 25%|██▌       | 1/4 [00:00<00:02,  1.28it/s]\u001b[A\u001b[A\n",
      "\n",
      " 50%|█████     | 2/4 [00:01<00:01,  1.22it/s]\u001b[A\u001b[A\n",
      "\n",
      " 75%|███████▌  | 3/4 [00:02<00:00,  1.21it/s]\u001b[A\u001b[A\n",
      "\n",
      "100%|██████████| 4/4 [00:03<00:00,  1.26it/s]\u001b[A\u001b[A\n"
     ]
    },
    {
     "name": "stdout",
     "output_type": "stream",
     "text": [
      "\n",
      "Epoch: 123, Loss: 0.4121, Val: 0.6923, Test: 0.6928\n"
     ]
    },
    {
     "name": "stderr",
     "output_type": "stream",
     "text": [
      "\n",
      "  1%|          | 123/10000 [08:37<12:23:34,  4.52s/it]\u001b[A\n",
      "\n",
      "  0%|          | 0/4 [00:00<?, ?it/s]\u001b[A\u001b[A\n",
      "\n",
      " 25%|██▌       | 1/4 [00:00<00:02,  1.10it/s]\u001b[A\u001b[A\n",
      "\n",
      " 50%|█████     | 2/4 [00:01<00:01,  1.10it/s]\u001b[A\u001b[A\n",
      "\n",
      " 75%|███████▌  | 3/4 [00:02<00:00,  1.17it/s]\u001b[A\u001b[A\n",
      "\n",
      "100%|██████████| 4/4 [00:03<00:00,  1.20it/s]\u001b[A\u001b[A\n"
     ]
    },
    {
     "name": "stdout",
     "output_type": "stream",
     "text": [
      "\n",
      "Epoch: 124, Loss: 0.4105, Val: 0.6927, Test: 0.6934\n"
     ]
    },
    {
     "name": "stderr",
     "output_type": "stream",
     "text": [
      "\n",
      "  1%|          | 124/10000 [08:42<12:36:24,  4.60s/it]\u001b[A\n",
      "\n",
      "  0%|          | 0/4 [00:00<?, ?it/s]\u001b[A\u001b[A\n",
      "\n",
      " 25%|██▌       | 1/4 [00:00<00:02,  1.22it/s]\u001b[A\u001b[A\n",
      "\n",
      " 50%|█████     | 2/4 [00:01<00:01,  1.36it/s]\u001b[A\u001b[A\n",
      "\n",
      " 75%|███████▌  | 3/4 [00:02<00:00,  1.27it/s]\u001b[A\u001b[A\n",
      "\n",
      "100%|██████████| 4/4 [00:03<00:00,  1.31it/s]\u001b[A\u001b[A\n"
     ]
    },
    {
     "name": "stdout",
     "output_type": "stream",
     "text": [
      "\n",
      "Epoch: 125, Loss: 0.4106, Val: 0.6931, Test: 0.6938\n"
     ]
    },
    {
     "name": "stderr",
     "output_type": "stream",
     "text": [
      "\n",
      "  1%|▏         | 125/10000 [08:47<12:30:44,  4.56s/it]\u001b[A\n",
      "\n",
      "  0%|          | 0/4 [00:00<?, ?it/s]\u001b[A\u001b[A\n",
      "\n",
      " 25%|██▌       | 1/4 [00:00<00:02,  1.13it/s]\u001b[A\u001b[A\n",
      "\n",
      " 50%|█████     | 2/4 [00:01<00:01,  1.12it/s]\u001b[A\u001b[A\n",
      "\n",
      " 75%|███████▌  | 3/4 [00:02<00:00,  1.05it/s]\u001b[A\u001b[A\n",
      "\n",
      "100%|██████████| 4/4 [00:03<00:00,  1.13it/s]\u001b[A\u001b[A\n"
     ]
    },
    {
     "name": "stdout",
     "output_type": "stream",
     "text": [
      "\n",
      "Epoch: 126, Loss: 0.4104, Val: 0.6935, Test: 0.6944\n"
     ]
    },
    {
     "name": "stderr",
     "output_type": "stream",
     "text": [
      "\n",
      "  1%|▏         | 126/10000 [08:52<12:52:01,  4.69s/it]\u001b[A\n",
      "\n",
      "  0%|          | 0/4 [00:00<?, ?it/s]\u001b[A\u001b[A\n",
      "\n",
      " 25%|██▌       | 1/4 [00:01<00:04,  1.64s/it]\u001b[A\u001b[A\n",
      "\n",
      " 50%|█████     | 2/4 [00:02<00:02,  1.20s/it]\u001b[A\u001b[A\n",
      "\n",
      " 75%|███████▌  | 3/4 [00:03<00:01,  1.06s/it]\u001b[A\u001b[A\n",
      "\n",
      "100%|██████████| 4/4 [00:04<00:00,  1.05s/it]\u001b[A\u001b[A\n"
     ]
    },
    {
     "name": "stdout",
     "output_type": "stream",
     "text": [
      "\n",
      "Epoch: 127, Loss: 0.4101, Val: 0.6940, Test: 0.6949\n"
     ]
    },
    {
     "name": "stderr",
     "output_type": "stream",
     "text": [
      "\n",
      "  1%|▏         | 127/10000 [08:57<13:41:16,  4.99s/it]\u001b[A\n",
      "\n",
      "  0%|          | 0/4 [00:00<?, ?it/s]\u001b[A\u001b[A\n",
      "\n",
      " 25%|██▌       | 1/4 [00:00<00:02,  1.03it/s]\u001b[A\u001b[A\n",
      "\n",
      " 50%|█████     | 2/4 [00:01<00:01,  1.16it/s]\u001b[A\u001b[A\n",
      "\n",
      " 75%|███████▌  | 3/4 [00:02<00:00,  1.17it/s]\u001b[A\u001b[A\n",
      "\n",
      "100%|██████████| 4/4 [00:03<00:00,  1.21it/s]\u001b[A\u001b[A\n"
     ]
    },
    {
     "name": "stdout",
     "output_type": "stream",
     "text": [
      "\n",
      "Epoch: 128, Loss: 0.4085, Val: 0.6946, Test: 0.6954\n"
     ]
    },
    {
     "name": "stderr",
     "output_type": "stream",
     "text": [
      "\n",
      "  1%|▏         | 128/10000 [09:02<13:26:43,  4.90s/it]\u001b[A\n",
      "\n",
      "  0%|          | 0/4 [00:00<?, ?it/s]\u001b[A\u001b[A\n",
      "\n",
      " 25%|██▌       | 1/4 [00:00<00:02,  1.07it/s]\u001b[A\u001b[A\n",
      "\n",
      " 50%|█████     | 2/4 [00:01<00:01,  1.15it/s]\u001b[A\u001b[A\n",
      "\n",
      " 75%|███████▌  | 3/4 [00:02<00:00,  1.18it/s]\u001b[A\u001b[A\n",
      "\n",
      "100%|██████████| 4/4 [00:03<00:00,  1.21it/s]\u001b[A\u001b[A\n"
     ]
    },
    {
     "name": "stdout",
     "output_type": "stream",
     "text": [
      "\n",
      "Epoch: 129, Loss: 0.4082, Val: 0.6951, Test: 0.6960\n"
     ]
    },
    {
     "name": "stderr",
     "output_type": "stream",
     "text": [
      "\n",
      "  1%|▏         | 129/10000 [09:07<13:17:49,  4.85s/it]\u001b[A\n",
      "\n",
      "  0%|          | 0/4 [00:00<?, ?it/s]\u001b[A\u001b[A\n",
      "\n",
      " 25%|██▌       | 1/4 [00:00<00:02,  1.20it/s]\u001b[A\u001b[A\n",
      "\n",
      " 50%|█████     | 2/4 [00:01<00:01,  1.25it/s]\u001b[A\u001b[A\n",
      "\n",
      " 75%|███████▌  | 3/4 [00:02<00:00,  1.16it/s]\u001b[A\u001b[A\n",
      "\n",
      "100%|██████████| 4/4 [00:03<00:00,  1.20it/s]\u001b[A\u001b[A\n"
     ]
    },
    {
     "name": "stdout",
     "output_type": "stream",
     "text": [
      "\n",
      "Epoch: 130, Loss: 0.4076, Val: 0.6957, Test: 0.6964\n"
     ]
    },
    {
     "name": "stderr",
     "output_type": "stream",
     "text": [
      "\n",
      "  1%|▏         | 130/10000 [09:11<13:04:40,  4.77s/it]\u001b[A\n",
      "\n",
      "  0%|          | 0/4 [00:00<?, ?it/s]\u001b[A\u001b[A\n",
      "\n",
      " 25%|██▌       | 1/4 [00:00<00:02,  1.19it/s]\u001b[A\u001b[A\n",
      "\n",
      " 50%|█████     | 2/4 [00:01<00:01,  1.17it/s]\u001b[A\u001b[A\n",
      "\n",
      " 75%|███████▌  | 3/4 [00:02<00:00,  1.19it/s]\u001b[A\u001b[A\n",
      "\n",
      "100%|██████████| 4/4 [00:03<00:00,  1.22it/s]\u001b[A\u001b[A\n"
     ]
    },
    {
     "name": "stdout",
     "output_type": "stream",
     "text": [
      "\n",
      "Epoch: 131, Loss: 0.4075, Val: 0.6962, Test: 0.6967\n"
     ]
    },
    {
     "name": "stderr",
     "output_type": "stream",
     "text": [
      "\n",
      "  1%|▏         | 131/10000 [09:16<13:00:51,  4.75s/it]\u001b[A\n",
      "\n",
      "  0%|          | 0/4 [00:00<?, ?it/s]\u001b[A\u001b[A\n",
      "\n",
      " 25%|██▌       | 1/4 [00:00<00:02,  1.18it/s]\u001b[A\u001b[A\n",
      "\n",
      " 50%|█████     | 2/4 [00:01<00:01,  1.20it/s]\u001b[A\u001b[A\n",
      "\n",
      " 75%|███████▌  | 3/4 [00:02<00:00,  1.15it/s]\u001b[A\u001b[A\n",
      "\n",
      "100%|██████████| 4/4 [00:03<00:00,  1.19it/s]\u001b[A\u001b[A\n"
     ]
    },
    {
     "name": "stdout",
     "output_type": "stream",
     "text": [
      "\n",
      "Epoch: 132, Loss: 0.4069, Val: 0.6966, Test: 0.6972\n"
     ]
    },
    {
     "name": "stderr",
     "output_type": "stream",
     "text": [
      "\n",
      "  1%|▏         | 132/10000 [09:21<13:03:09,  4.76s/it]\u001b[A\n",
      "\n",
      "  0%|          | 0/4 [00:00<?, ?it/s]\u001b[A\u001b[A\n",
      "\n",
      " 25%|██▌       | 1/4 [00:00<00:02,  1.23it/s]\u001b[A\u001b[A\n",
      "\n",
      " 50%|█████     | 2/4 [00:01<00:01,  1.19it/s]\u001b[A\u001b[A\n",
      "\n",
      " 75%|███████▌  | 3/4 [00:02<00:00,  1.20it/s]\u001b[A\u001b[A\n",
      "\n",
      "100%|██████████| 4/4 [00:03<00:00,  1.24it/s]\u001b[A\u001b[A\n"
     ]
    },
    {
     "name": "stdout",
     "output_type": "stream",
     "text": [
      "\n",
      "Epoch: 133, Loss: 0.4063, Val: 0.6971, Test: 0.6976\n"
     ]
    },
    {
     "name": "stderr",
     "output_type": "stream",
     "text": [
      "\n",
      "  1%|▏         | 133/10000 [09:25<12:56:03,  4.72s/it]\u001b[A\n",
      "\n",
      "  0%|          | 0/4 [00:00<?, ?it/s]\u001b[A\u001b[A\n",
      "\n",
      " 25%|██▌       | 1/4 [00:00<00:02,  1.15it/s]\u001b[A\u001b[A\n",
      "\n",
      " 50%|█████     | 2/4 [00:01<00:01,  1.20it/s]\u001b[A\u001b[A\n",
      "\n",
      " 75%|███████▌  | 3/4 [00:02<00:00,  1.21it/s]\u001b[A\u001b[A\n",
      "\n",
      "100%|██████████| 4/4 [00:03<00:00,  1.24it/s]\u001b[A\u001b[A\n"
     ]
    },
    {
     "name": "stdout",
     "output_type": "stream",
     "text": [
      "\n",
      "Epoch: 134, Loss: 0.4057, Val: 0.6975, Test: 0.6980\n"
     ]
    },
    {
     "name": "stderr",
     "output_type": "stream",
     "text": [
      "\n",
      "  1%|▏         | 134/10000 [09:30<12:51:42,  4.69s/it]\u001b[A\n",
      "\n",
      "  0%|          | 0/4 [00:00<?, ?it/s]\u001b[A\u001b[A\n",
      "\n",
      " 25%|██▌       | 1/4 [00:00<00:02,  1.19it/s]\u001b[A\u001b[A\n",
      "\n",
      " 50%|█████     | 2/4 [00:01<00:01,  1.20it/s]\u001b[A\u001b[A\n",
      "\n",
      " 75%|███████▌  | 3/4 [00:02<00:00,  1.22it/s]\u001b[A\u001b[A\n",
      "\n",
      "100%|██████████| 4/4 [00:03<00:00,  1.23it/s]\u001b[A\u001b[A\n"
     ]
    },
    {
     "name": "stdout",
     "output_type": "stream",
     "text": [
      "\n",
      "Epoch: 135, Loss: 0.4052, Val: 0.6978, Test: 0.6985\n"
     ]
    },
    {
     "name": "stderr",
     "output_type": "stream",
     "text": [
      "\n",
      "  1%|▏         | 135/10000 [09:35<12:49:45,  4.68s/it]\u001b[A\n",
      "\n",
      "  0%|          | 0/4 [00:00<?, ?it/s]\u001b[A\u001b[A\n",
      "\n",
      " 25%|██▌       | 1/4 [00:00<00:02,  1.18it/s]\u001b[A\u001b[A\n",
      "\n",
      " 50%|█████     | 2/4 [00:01<00:01,  1.12it/s]\u001b[A\u001b[A\n",
      "\n",
      " 75%|███████▌  | 3/4 [00:02<00:00,  1.14it/s]\u001b[A\u001b[A\n",
      "\n",
      "100%|██████████| 4/4 [00:03<00:00,  1.17it/s]\u001b[A\u001b[A\n"
     ]
    },
    {
     "name": "stdout",
     "output_type": "stream",
     "text": [
      "\n",
      "Epoch: 136, Loss: 0.4046, Val: 0.6981, Test: 0.6989\n"
     ]
    },
    {
     "name": "stderr",
     "output_type": "stream",
     "text": [
      "\n",
      "  1%|▏         | 136/10000 [09:39<12:51:30,  4.69s/it]\u001b[A\n",
      "\n",
      "  0%|          | 0/4 [00:00<?, ?it/s]\u001b[A\u001b[A\n",
      "\n",
      " 25%|██▌       | 1/4 [00:00<00:02,  1.10it/s]\u001b[A\u001b[A\n",
      "\n",
      " 50%|█████     | 2/4 [00:01<00:01,  1.11it/s]\u001b[A\u001b[A\n",
      "\n",
      " 75%|███████▌  | 3/4 [00:02<00:00,  1.17it/s]\u001b[A\u001b[A\n",
      "\n",
      "100%|██████████| 4/4 [00:03<00:00,  1.16it/s]\u001b[A\u001b[A\n"
     ]
    },
    {
     "name": "stdout",
     "output_type": "stream",
     "text": [
      "\n",
      "Epoch: 137, Loss: 0.4046, Val: 0.6984, Test: 0.6994\n"
     ]
    },
    {
     "name": "stderr",
     "output_type": "stream",
     "text": [
      "\n",
      "  1%|▏         | 137/10000 [09:44<12:54:01,  4.71s/it]\u001b[A\n",
      "\n",
      "  0%|          | 0/4 [00:00<?, ?it/s]\u001b[A\u001b[A\n",
      "\n",
      " 25%|██▌       | 1/4 [00:00<00:02,  1.17it/s]\u001b[A\u001b[A\n",
      "\n",
      " 50%|█████     | 2/4 [00:01<00:01,  1.17it/s]\u001b[A\u001b[A\n",
      "\n",
      " 75%|███████▌  | 3/4 [00:02<00:00,  1.21it/s]\u001b[A\u001b[A\n",
      "\n",
      "100%|██████████| 4/4 [00:03<00:00,  1.22it/s]\u001b[A\u001b[A\n"
     ]
    },
    {
     "name": "stdout",
     "output_type": "stream",
     "text": [
      "\n",
      "Epoch: 138, Loss: 0.4041, Val: 0.6986, Test: 0.6997\n"
     ]
    },
    {
     "name": "stderr",
     "output_type": "stream",
     "text": [
      "\n",
      "  1%|▏         | 138/10000 [09:49<12:50:56,  4.69s/it]\u001b[A\n",
      "\n",
      "  0%|          | 0/4 [00:00<?, ?it/s]\u001b[A\u001b[A\n",
      "\n",
      " 25%|██▌       | 1/4 [00:00<00:02,  1.26it/s]\u001b[A\u001b[A\n",
      "\n",
      " 50%|█████     | 2/4 [00:01<00:01,  1.25it/s]\u001b[A\u001b[A\n",
      "\n",
      " 75%|███████▌  | 3/4 [00:02<00:00,  1.23it/s]\u001b[A\u001b[A\n",
      "\n",
      "100%|██████████| 4/4 [00:03<00:00,  1.28it/s]\u001b[A\u001b[A\n"
     ]
    },
    {
     "name": "stdout",
     "output_type": "stream",
     "text": [
      "\n",
      "Epoch: 139, Loss: 0.4037, Val: 0.6990, Test: 0.7001\n"
     ]
    },
    {
     "name": "stderr",
     "output_type": "stream",
     "text": [
      "\n",
      "  1%|▏         | 139/10000 [09:53<12:32:36,  4.58s/it]\u001b[A\n",
      "\n",
      "  0%|          | 0/4 [00:00<?, ?it/s]\u001b[A\u001b[A\n",
      "\n",
      " 25%|██▌       | 1/4 [00:00<00:02,  1.26it/s]\u001b[A\u001b[A\n",
      "\n",
      " 50%|█████     | 2/4 [00:01<00:01,  1.22it/s]\u001b[A\u001b[A\n",
      "\n",
      " 75%|███████▌  | 3/4 [00:02<00:00,  1.25it/s]\u001b[A\u001b[A\n",
      "\n",
      "100%|██████████| 4/4 [00:03<00:00,  1.28it/s]\u001b[A\u001b[A\n"
     ]
    },
    {
     "name": "stdout",
     "output_type": "stream",
     "text": [
      "\n",
      "Epoch: 140, Loss: 0.4042, Val: 0.6994, Test: 0.7003\n"
     ]
    },
    {
     "name": "stderr",
     "output_type": "stream",
     "text": [
      "\n",
      "  1%|▏         | 140/10000 [09:58<12:28:13,  4.55s/it]\u001b[A\n",
      "\n",
      "  0%|          | 0/4 [00:00<?, ?it/s]\u001b[A\u001b[A\n",
      "\n",
      " 25%|██▌       | 1/4 [00:00<00:02,  1.11it/s]\u001b[A\u001b[A\n",
      "\n",
      " 50%|█████     | 2/4 [00:01<00:01,  1.13it/s]\u001b[A\u001b[A\n",
      "\n",
      " 75%|███████▌  | 3/4 [00:02<00:00,  1.16it/s]\u001b[A\u001b[A\n",
      "\n",
      "100%|██████████| 4/4 [00:03<00:00,  1.19it/s]\u001b[A\u001b[A\n"
     ]
    },
    {
     "name": "stdout",
     "output_type": "stream",
     "text": [
      "\n",
      "Epoch: 141, Loss: 0.4026, Val: 0.6998, Test: 0.7008\n"
     ]
    },
    {
     "name": "stderr",
     "output_type": "stream",
     "text": [
      "\n",
      "  1%|▏         | 141/10000 [10:02<12:36:58,  4.61s/it]\u001b[A\n",
      "\n",
      "  0%|          | 0/4 [00:00<?, ?it/s]\u001b[A\u001b[A\n",
      "\n",
      " 25%|██▌       | 1/4 [00:00<00:02,  1.21it/s]\u001b[A\u001b[A\n",
      "\n",
      " 50%|█████     | 2/4 [00:01<00:01,  1.21it/s]\u001b[A\u001b[A\n",
      "\n",
      " 75%|███████▌  | 3/4 [00:02<00:00,  1.19it/s]\u001b[A\u001b[A\n",
      "\n",
      "100%|██████████| 4/4 [00:03<00:00,  1.21it/s]\u001b[A\u001b[A\n"
     ]
    },
    {
     "name": "stdout",
     "output_type": "stream",
     "text": [
      "\n",
      "Epoch: 142, Loss: 0.4030, Val: 0.7001, Test: 0.7011\n"
     ]
    },
    {
     "name": "stderr",
     "output_type": "stream",
     "text": [
      "\n",
      "  1%|▏         | 142/10000 [10:07<12:42:48,  4.64s/it]\u001b[A\n",
      "\n",
      "  0%|          | 0/4 [00:00<?, ?it/s]\u001b[A\u001b[A\n",
      "\n",
      " 25%|██▌       | 1/4 [00:00<00:02,  1.11it/s]\u001b[A\u001b[A\n",
      "\n",
      " 50%|█████     | 2/4 [00:01<00:01,  1.18it/s]\u001b[A\u001b[A\n",
      "\n",
      " 75%|███████▌  | 3/4 [00:02<00:00,  1.21it/s]\u001b[A\u001b[A\n",
      "\n",
      "100%|██████████| 4/4 [00:03<00:00,  1.26it/s]\u001b[A\u001b[A\n"
     ]
    },
    {
     "name": "stdout",
     "output_type": "stream",
     "text": [
      "\n",
      "Epoch: 143, Loss: 0.4023, Val: 0.7005, Test: 0.7014\n"
     ]
    },
    {
     "name": "stderr",
     "output_type": "stream",
     "text": [
      "\n",
      "  1%|▏         | 143/10000 [10:12<12:31:33,  4.57s/it]\u001b[A\n",
      "\n",
      "  0%|          | 0/4 [00:00<?, ?it/s]\u001b[A\u001b[A\n",
      "\n",
      " 25%|██▌       | 1/4 [00:00<00:02,  1.24it/s]\u001b[A\u001b[A\n",
      "\n",
      " 50%|█████     | 2/4 [00:01<00:01,  1.22it/s]\u001b[A\u001b[A\n",
      "\n",
      " 75%|███████▌  | 3/4 [00:02<00:00,  1.24it/s]\u001b[A\u001b[A\n",
      "\n",
      "100%|██████████| 4/4 [00:03<00:00,  1.26it/s]\u001b[A\u001b[A\n"
     ]
    },
    {
     "name": "stdout",
     "output_type": "stream",
     "text": [
      "\n",
      "Epoch: 144, Loss: 0.4013, Val: 0.7008, Test: 0.7017\n"
     ]
    },
    {
     "name": "stderr",
     "output_type": "stream",
     "text": [
      "\n",
      "  1%|▏         | 144/10000 [10:16<12:31:11,  4.57s/it]\u001b[A\n",
      "\n",
      "  0%|          | 0/4 [00:00<?, ?it/s]\u001b[A\u001b[A\n",
      "\n",
      " 25%|██▌       | 1/4 [00:00<00:02,  1.29it/s]\u001b[A\u001b[A\n",
      "\n",
      " 50%|█████     | 2/4 [00:01<00:01,  1.30it/s]\u001b[A\u001b[A\n",
      "\n",
      " 75%|███████▌  | 3/4 [00:02<00:00,  1.29it/s]\u001b[A\u001b[A\n",
      "\n",
      "100%|██████████| 4/4 [00:02<00:00,  1.37it/s]\u001b[A\u001b[A\n"
     ]
    },
    {
     "name": "stdout",
     "output_type": "stream",
     "text": [
      "\n",
      "Epoch: 145, Loss: 0.4013, Val: 0.7011, Test: 0.7022\n"
     ]
    },
    {
     "name": "stderr",
     "output_type": "stream",
     "text": [
      "\n",
      "  1%|▏         | 145/10000 [10:20<12:16:57,  4.49s/it]\u001b[A\n",
      "\n",
      "  0%|          | 0/4 [00:00<?, ?it/s]\u001b[A\u001b[A\n",
      "\n",
      " 25%|██▌       | 1/4 [00:00<00:02,  1.12it/s]\u001b[A\u001b[A\n",
      "\n",
      " 50%|█████     | 2/4 [00:01<00:01,  1.12it/s]\u001b[A\u001b[A\n",
      "\n",
      " 75%|███████▌  | 3/4 [00:02<00:00,  1.11it/s]\u001b[A\u001b[A\n",
      "\n",
      "100%|██████████| 4/4 [00:03<00:00,  1.17it/s]\u001b[A\u001b[A\n"
     ]
    },
    {
     "name": "stdout",
     "output_type": "stream",
     "text": [
      "\n",
      "Epoch: 146, Loss: 0.4000, Val: 0.7014, Test: 0.7024\n"
     ]
    },
    {
     "name": "stderr",
     "output_type": "stream",
     "text": [
      "\n",
      "  1%|▏         | 146/10000 [10:25<12:33:01,  4.59s/it]\u001b[A\n",
      "\n",
      "  0%|          | 0/4 [00:00<?, ?it/s]\u001b[A\u001b[A\n",
      "\n",
      " 25%|██▌       | 1/4 [00:00<00:02,  1.15it/s]\u001b[A\u001b[A\n",
      "\n",
      " 50%|█████     | 2/4 [00:01<00:01,  1.19it/s]\u001b[A\u001b[A\n",
      "\n",
      " 75%|███████▌  | 3/4 [00:02<00:00,  1.17it/s]\u001b[A\u001b[A\n",
      "\n",
      "100%|██████████| 4/4 [00:03<00:00,  1.23it/s]\u001b[A\u001b[A\n"
     ]
    },
    {
     "name": "stdout",
     "output_type": "stream",
     "text": [
      "\n",
      "Epoch: 147, Loss: 0.4006, Val: 0.7018, Test: 0.7026\n"
     ]
    },
    {
     "name": "stderr",
     "output_type": "stream",
     "text": [
      "\n",
      "  1%|▏         | 147/10000 [10:30<12:27:21,  4.55s/it]\u001b[A\n",
      "\n",
      "  0%|          | 0/4 [00:00<?, ?it/s]\u001b[A\u001b[A\n",
      "\n",
      " 25%|██▌       | 1/4 [00:00<00:02,  1.18it/s]\u001b[A\u001b[A\n",
      "\n",
      " 50%|█████     | 2/4 [00:01<00:01,  1.18it/s]\u001b[A\u001b[A\n",
      "\n",
      " 75%|███████▌  | 3/4 [00:02<00:00,  1.17it/s]\u001b[A\u001b[A\n",
      "\n",
      "100%|██████████| 4/4 [00:03<00:00,  1.16it/s]\u001b[A\u001b[A\n"
     ]
    },
    {
     "name": "stdout",
     "output_type": "stream",
     "text": [
      "\n",
      "Epoch: 148, Loss: 0.3998, Val: 0.7021, Test: 0.7029\n"
     ]
    },
    {
     "name": "stderr",
     "output_type": "stream",
     "text": [
      "\n",
      "  1%|▏         | 148/10000 [10:35<12:43:42,  4.65s/it]\u001b[A\n",
      "\n",
      "  0%|          | 0/4 [00:00<?, ?it/s]\u001b[A\u001b[A\n",
      "\n",
      " 25%|██▌       | 1/4 [00:00<00:02,  1.06it/s]\u001b[A\u001b[A\n",
      "\n",
      " 50%|█████     | 2/4 [00:01<00:01,  1.09it/s]\u001b[A\u001b[A\n",
      "\n",
      " 75%|███████▌  | 3/4 [00:02<00:00,  1.14it/s]\u001b[A\u001b[A\n",
      "\n",
      "100%|██████████| 4/4 [00:03<00:00,  1.16it/s]\u001b[A\u001b[A\n"
     ]
    },
    {
     "name": "stdout",
     "output_type": "stream",
     "text": [
      "\n",
      "Epoch: 149, Loss: 0.4003, Val: 0.7025, Test: 0.7032\n"
     ]
    },
    {
     "name": "stderr",
     "output_type": "stream",
     "text": [
      "\n",
      "  1%|▏         | 149/10000 [10:39<12:57:05,  4.73s/it]\u001b[A\n",
      "\n",
      "  0%|          | 0/4 [00:00<?, ?it/s]\u001b[A\u001b[A\n",
      "\n",
      " 25%|██▌       | 1/4 [00:00<00:02,  1.07it/s]\u001b[A\u001b[A\n",
      "\n",
      " 50%|█████     | 2/4 [00:01<00:01,  1.11it/s]\u001b[A\u001b[A\n",
      "\n",
      " 75%|███████▌  | 3/4 [00:02<00:00,  1.13it/s]\u001b[A\u001b[A\n",
      "\n",
      "100%|██████████| 4/4 [00:03<00:00,  1.19it/s]\u001b[A\u001b[A\n"
     ]
    },
    {
     "name": "stdout",
     "output_type": "stream",
     "text": [
      "\n",
      "Epoch: 150, Loss: 0.3994, Val: 0.7026, Test: 0.7034\n"
     ]
    },
    {
     "name": "stderr",
     "output_type": "stream",
     "text": [
      "\n",
      "  2%|▏         | 150/10000 [10:44<13:01:03,  4.76s/it]\u001b[A\n",
      "\n",
      "  0%|          | 0/4 [00:00<?, ?it/s]\u001b[A\u001b[A\n",
      "\n",
      " 25%|██▌       | 1/4 [00:00<00:02,  1.09it/s]\u001b[A\u001b[A\n",
      "\n",
      " 50%|█████     | 2/4 [00:01<00:01,  1.11it/s]\u001b[A\u001b[A\n",
      "\n",
      " 75%|███████▌  | 3/4 [00:02<00:00,  1.16it/s]\u001b[A\u001b[A\n",
      "\n",
      "100%|██████████| 4/4 [00:03<00:00,  1.18it/s]\u001b[A\u001b[A\n"
     ]
    },
    {
     "name": "stdout",
     "output_type": "stream",
     "text": [
      "\n",
      "Epoch: 151, Loss: 0.3989, Val: 0.7029, Test: 0.7038\n"
     ]
    },
    {
     "name": "stderr",
     "output_type": "stream",
     "text": [
      "\n",
      "  2%|▏         | 151/10000 [10:49<12:59:30,  4.75s/it]\u001b[A\n",
      "\n",
      "  0%|          | 0/4 [00:00<?, ?it/s]\u001b[A\u001b[A\n",
      "\n",
      " 25%|██▌       | 1/4 [00:00<00:02,  1.34it/s]\u001b[A\u001b[A\n",
      "\n",
      " 50%|█████     | 2/4 [00:01<00:01,  1.27it/s]\u001b[A\u001b[A\n",
      "\n",
      " 75%|███████▌  | 3/4 [00:02<00:00,  1.22it/s]\u001b[A\u001b[A\n",
      "\n",
      "100%|██████████| 4/4 [00:03<00:00,  1.27it/s]\u001b[A\u001b[A\n"
     ]
    },
    {
     "name": "stdout",
     "output_type": "stream",
     "text": [
      "\n",
      "Epoch: 152, Loss: 0.3983, Val: 0.7032, Test: 0.7042\n"
     ]
    },
    {
     "name": "stderr",
     "output_type": "stream",
     "text": [
      "\n",
      "  2%|▏         | 152/10000 [10:54<12:49:10,  4.69s/it]\u001b[A\n",
      "\n",
      "  0%|          | 0/4 [00:00<?, ?it/s]\u001b[A\u001b[A\n",
      "\n",
      " 25%|██▌       | 1/4 [00:00<00:02,  1.23it/s]\u001b[A\u001b[A\n",
      "\n",
      " 50%|█████     | 2/4 [00:01<00:01,  1.22it/s]\u001b[A\u001b[A\n",
      "\n",
      " 75%|███████▌  | 3/4 [00:02<00:00,  1.21it/s]\u001b[A\u001b[A\n",
      "\n",
      "100%|██████████| 4/4 [00:03<00:00,  1.22it/s]\u001b[A\u001b[A\n"
     ]
    },
    {
     "name": "stdout",
     "output_type": "stream",
     "text": [
      "\n",
      "Epoch: 153, Loss: 0.3978, Val: 0.7035, Test: 0.7045\n"
     ]
    },
    {
     "name": "stderr",
     "output_type": "stream",
     "text": [
      "\n",
      "  2%|▏         | 153/10000 [10:58<12:48:20,  4.68s/it]\u001b[A\n",
      "\n",
      "  0%|          | 0/4 [00:00<?, ?it/s]\u001b[A\u001b[A\n",
      "\n",
      " 25%|██▌       | 1/4 [00:00<00:02,  1.12it/s]\u001b[A\u001b[A\n",
      "\n",
      " 50%|█████     | 2/4 [00:01<00:01,  1.19it/s]\u001b[A\u001b[A\n",
      "\n",
      " 75%|███████▌  | 3/4 [00:02<00:00,  1.21it/s]\u001b[A\u001b[A\n",
      "\n",
      "100%|██████████| 4/4 [00:03<00:00,  1.21it/s]\u001b[A\u001b[A\n"
     ]
    },
    {
     "name": "stdout",
     "output_type": "stream",
     "text": [
      "\n",
      "Epoch: 154, Loss: 0.3978, Val: 0.7038, Test: 0.7047\n"
     ]
    },
    {
     "name": "stderr",
     "output_type": "stream",
     "text": [
      "\n",
      "  2%|▏         | 154/10000 [11:03<12:45:22,  4.66s/it]\u001b[A\n",
      "\n",
      "  0%|          | 0/4 [00:00<?, ?it/s]\u001b[A\u001b[A\n",
      "\n",
      " 25%|██▌       | 1/4 [00:00<00:02,  1.24it/s]\u001b[A\u001b[A\n",
      "\n",
      " 50%|█████     | 2/4 [00:01<00:01,  1.21it/s]\u001b[A\u001b[A\n",
      "\n",
      " 75%|███████▌  | 3/4 [00:02<00:00,  1.23it/s]\u001b[A\u001b[A\n",
      "\n",
      "100%|██████████| 4/4 [00:03<00:00,  1.25it/s]\u001b[A\u001b[A\n"
     ]
    },
    {
     "name": "stdout",
     "output_type": "stream",
     "text": [
      "\n",
      "Epoch: 155, Loss: 0.3976, Val: 0.7042, Test: 0.7051\n"
     ]
    },
    {
     "name": "stderr",
     "output_type": "stream",
     "text": [
      "\n",
      "  2%|▏         | 155/10000 [11:07<12:26:42,  4.55s/it]\u001b[A\n",
      "\n",
      "  0%|          | 0/4 [00:00<?, ?it/s]\u001b[A\u001b[A\n",
      "\n",
      " 25%|██▌       | 1/4 [00:00<00:02,  1.31it/s]\u001b[A\u001b[A\n",
      "\n",
      " 50%|█████     | 2/4 [00:01<00:01,  1.29it/s]\u001b[A\u001b[A\n",
      "\n",
      " 75%|███████▌  | 3/4 [00:02<00:00,  1.28it/s]\u001b[A\u001b[A\n",
      "\n",
      "100%|██████████| 4/4 [00:03<00:00,  1.30it/s]\u001b[A\u001b[A\n"
     ]
    },
    {
     "name": "stdout",
     "output_type": "stream",
     "text": [
      "\n",
      "Epoch: 156, Loss: 0.3974, Val: 0.7046, Test: 0.7053\n"
     ]
    },
    {
     "name": "stderr",
     "output_type": "stream",
     "text": [
      "\n",
      "  2%|▏         | 156/10000 [11:12<12:22:57,  4.53s/it]\u001b[A\n",
      "\n",
      "  0%|          | 0/4 [00:00<?, ?it/s]\u001b[A\u001b[A\n",
      "\n",
      " 25%|██▌       | 1/4 [00:00<00:02,  1.22it/s]\u001b[A\u001b[A\n",
      "\n",
      " 50%|█████     | 2/4 [00:01<00:01,  1.25it/s]\u001b[A\u001b[A\n",
      "\n",
      " 75%|███████▌  | 3/4 [00:02<00:00,  1.20it/s]\u001b[A\u001b[A\n",
      "\n",
      "100%|██████████| 4/4 [00:03<00:00,  1.25it/s]\u001b[A\u001b[A\n"
     ]
    },
    {
     "name": "stdout",
     "output_type": "stream",
     "text": [
      "\n",
      "Epoch: 157, Loss: 0.3968, Val: 0.7048, Test: 0.7057\n"
     ]
    },
    {
     "name": "stderr",
     "output_type": "stream",
     "text": [
      "\n",
      "  2%|▏         | 157/10000 [11:16<12:21:21,  4.52s/it]\u001b[A\n",
      "\n",
      "  0%|          | 0/4 [00:00<?, ?it/s]\u001b[A\u001b[A\n",
      "\n",
      " 25%|██▌       | 1/4 [00:00<00:02,  1.16it/s]\u001b[A\u001b[A\n",
      "\n",
      " 50%|█████     | 2/4 [00:01<00:01,  1.22it/s]\u001b[A\u001b[A\n",
      "\n",
      " 75%|███████▌  | 3/4 [00:02<00:00,  1.20it/s]\u001b[A\u001b[A\n",
      "\n",
      "100%|██████████| 4/4 [00:03<00:00,  1.23it/s]\u001b[A\u001b[A\n"
     ]
    },
    {
     "name": "stdout",
     "output_type": "stream",
     "text": [
      "\n",
      "Epoch: 158, Loss: 0.3955, Val: 0.7053, Test: 0.7059\n"
     ]
    },
    {
     "name": "stderr",
     "output_type": "stream",
     "text": [
      "\n",
      "  2%|▏         | 158/10000 [11:21<12:28:21,  4.56s/it]\u001b[A\n",
      "\n",
      "  0%|          | 0/4 [00:00<?, ?it/s]\u001b[A\u001b[A\n",
      "\n",
      " 25%|██▌       | 1/4 [00:00<00:02,  1.16it/s]\u001b[A\u001b[A\n",
      "\n",
      " 50%|█████     | 2/4 [00:01<00:01,  1.13it/s]\u001b[A\u001b[A\n",
      "\n",
      " 75%|███████▌  | 3/4 [00:02<00:00,  1.16it/s]\u001b[A\u001b[A\n",
      "\n",
      "100%|██████████| 4/4 [00:03<00:00,  1.20it/s]\u001b[A\u001b[A\n"
     ]
    },
    {
     "name": "stdout",
     "output_type": "stream",
     "text": [
      "\n",
      "Epoch: 159, Loss: 0.3966, Val: 0.7056, Test: 0.7062\n"
     ]
    },
    {
     "name": "stderr",
     "output_type": "stream",
     "text": [
      "\n",
      "  2%|▏         | 159/10000 [11:25<12:32:19,  4.59s/it]\u001b[A\n",
      "\n",
      "  0%|          | 0/4 [00:00<?, ?it/s]\u001b[A\u001b[A\n",
      "\n",
      " 25%|██▌       | 1/4 [00:00<00:02,  1.19it/s]\u001b[A\u001b[A\n",
      "\n",
      " 50%|█████     | 2/4 [00:01<00:01,  1.24it/s]\u001b[A\u001b[A\n",
      "\n",
      " 75%|███████▌  | 3/4 [00:02<00:00,  1.23it/s]\u001b[A\u001b[A\n",
      "\n",
      "100%|██████████| 4/4 [00:03<00:00,  1.23it/s]\u001b[A\u001b[A\n"
     ]
    },
    {
     "name": "stdout",
     "output_type": "stream",
     "text": [
      "\n",
      "Epoch: 160, Loss: 0.3959, Val: 0.7058, Test: 0.7062\n"
     ]
    },
    {
     "name": "stderr",
     "output_type": "stream",
     "text": [
      "\n",
      "  2%|▏         | 160/10000 [11:30<12:35:22,  4.61s/it]\u001b[A\n",
      "\n",
      "  0%|          | 0/4 [00:00<?, ?it/s]\u001b[A\u001b[A\n",
      "\n",
      " 25%|██▌       | 1/4 [00:00<00:02,  1.17it/s]\u001b[A\u001b[A\n",
      "\n",
      " 50%|█████     | 2/4 [00:01<00:01,  1.18it/s]\u001b[A\u001b[A\n",
      "\n",
      " 75%|███████▌  | 3/4 [00:02<00:00,  1.18it/s]\u001b[A\u001b[A\n",
      "\n",
      "100%|██████████| 4/4 [00:03<00:00,  1.22it/s]\u001b[A\u001b[A\n"
     ]
    },
    {
     "name": "stdout",
     "output_type": "stream",
     "text": [
      "\n",
      "Epoch: 161, Loss: 0.3952, Val: 0.7060, Test: 0.7066\n"
     ]
    },
    {
     "name": "stderr",
     "output_type": "stream",
     "text": [
      "\n",
      "  2%|▏         | 161/10000 [11:35<12:35:17,  4.61s/it]\u001b[A\n",
      "\n",
      "  0%|          | 0/4 [00:00<?, ?it/s]\u001b[A\u001b[A\n",
      "\n",
      " 25%|██▌       | 1/4 [00:00<00:02,  1.25it/s]\u001b[A\u001b[A\n",
      "\n",
      " 50%|█████     | 2/4 [00:01<00:01,  1.26it/s]\u001b[A\u001b[A\n",
      "\n",
      " 75%|███████▌  | 3/4 [00:02<00:00,  1.22it/s]\u001b[A\u001b[A\n",
      "\n",
      "100%|██████████| 4/4 [00:03<00:00,  1.25it/s]\u001b[A\u001b[A\n"
     ]
    },
    {
     "name": "stdout",
     "output_type": "stream",
     "text": [
      "\n",
      "Epoch: 162, Loss: 0.3958, Val: 0.7062, Test: 0.7068\n"
     ]
    },
    {
     "name": "stderr",
     "output_type": "stream",
     "text": [
      "\n",
      "  2%|▏         | 162/10000 [11:39<12:32:14,  4.59s/it]\u001b[A\n",
      "\n",
      "  0%|          | 0/4 [00:00<?, ?it/s]\u001b[A\u001b[A\n",
      "\n",
      " 25%|██▌       | 1/4 [00:00<00:02,  1.20it/s]\u001b[A\u001b[A\n",
      "\n",
      " 50%|█████     | 2/4 [00:01<00:01,  1.15it/s]\u001b[A\u001b[A\n",
      "\n",
      " 75%|███████▌  | 3/4 [00:02<00:00,  1.22it/s]\u001b[A\u001b[A\n",
      "\n",
      "100%|██████████| 4/4 [00:03<00:00,  1.25it/s]\u001b[A\u001b[A\n"
     ]
    },
    {
     "name": "stdout",
     "output_type": "stream",
     "text": [
      "\n",
      "Epoch: 163, Loss: 0.3950, Val: 0.7064, Test: 0.7069\n"
     ]
    },
    {
     "name": "stderr",
     "output_type": "stream",
     "text": [
      "\n",
      "  2%|▏         | 163/10000 [11:44<12:32:42,  4.59s/it]\u001b[A\n",
      "\n",
      "  0%|          | 0/4 [00:00<?, ?it/s]\u001b[A\u001b[A\n",
      "\n",
      " 25%|██▌       | 1/4 [00:00<00:02,  1.15it/s]\u001b[A\u001b[A\n",
      "\n",
      " 50%|█████     | 2/4 [00:01<00:01,  1.18it/s]\u001b[A\u001b[A\n",
      "\n",
      " 75%|███████▌  | 3/4 [00:02<00:00,  1.23it/s]\u001b[A\u001b[A\n",
      "\n",
      "100%|██████████| 4/4 [00:03<00:00,  1.26it/s]\u001b[A\u001b[A\n"
     ]
    },
    {
     "name": "stdout",
     "output_type": "stream",
     "text": [
      "\n",
      "Epoch: 164, Loss: 0.3946, Val: 0.7067, Test: 0.7073\n"
     ]
    },
    {
     "name": "stderr",
     "output_type": "stream",
     "text": [
      "\n",
      "  2%|▏         | 164/10000 [11:48<12:28:06,  4.56s/it]\u001b[A\n",
      "\n",
      "  0%|          | 0/4 [00:00<?, ?it/s]\u001b[A\u001b[A\n",
      "\n",
      " 25%|██▌       | 1/4 [00:00<00:02,  1.26it/s]\u001b[A\u001b[A\n",
      "\n",
      " 50%|█████     | 2/4 [00:01<00:01,  1.24it/s]\u001b[A\u001b[A\n",
      "\n",
      " 75%|███████▌  | 3/4 [00:02<00:00,  1.23it/s]\u001b[A\u001b[A\n",
      "\n",
      "100%|██████████| 4/4 [00:03<00:00,  1.25it/s]\u001b[A\u001b[A\n"
     ]
    },
    {
     "name": "stdout",
     "output_type": "stream",
     "text": [
      "\n",
      "Epoch: 165, Loss: 0.3946, Val: 0.7068, Test: 0.7075\n"
     ]
    },
    {
     "name": "stderr",
     "output_type": "stream",
     "text": [
      "\n",
      "  2%|▏         | 165/10000 [11:53<12:19:53,  4.51s/it]\u001b[A\n",
      "\n",
      "  0%|          | 0/4 [00:00<?, ?it/s]\u001b[A\u001b[A\n",
      "\n",
      " 25%|██▌       | 1/4 [00:00<00:02,  1.22it/s]\u001b[A\u001b[A\n",
      "\n",
      " 50%|█████     | 2/4 [00:01<00:01,  1.22it/s]\u001b[A\u001b[A\n",
      "\n",
      " 75%|███████▌  | 3/4 [00:02<00:00,  1.24it/s]\u001b[A\u001b[A\n",
      "\n",
      "100%|██████████| 4/4 [00:03<00:00,  1.26it/s]\u001b[A\u001b[A\n"
     ]
    },
    {
     "name": "stdout",
     "output_type": "stream",
     "text": [
      "\n",
      "Epoch: 166, Loss: 0.3939, Val: 0.7070, Test: 0.7076\n"
     ]
    },
    {
     "name": "stderr",
     "output_type": "stream",
     "text": [
      "\n",
      "  2%|▏         | 166/10000 [11:57<12:20:04,  4.52s/it]\u001b[A\n",
      "\n",
      "  0%|          | 0/4 [00:00<?, ?it/s]\u001b[A\u001b[A\n",
      "\n",
      " 25%|██▌       | 1/4 [00:00<00:02,  1.19it/s]\u001b[A\u001b[A\n",
      "\n",
      " 50%|█████     | 2/4 [00:01<00:01,  1.24it/s]\u001b[A\u001b[A\n",
      "\n",
      " 75%|███████▌  | 3/4 [00:02<00:00,  1.27it/s]\u001b[A\u001b[A\n",
      "\n",
      "100%|██████████| 4/4 [00:03<00:00,  1.30it/s]\u001b[A\u001b[A\n"
     ]
    },
    {
     "name": "stdout",
     "output_type": "stream",
     "text": [
      "\n",
      "Epoch: 167, Loss: 0.3938, Val: 0.7072, Test: 0.7079\n"
     ]
    },
    {
     "name": "stderr",
     "output_type": "stream",
     "text": [
      "\n",
      "  2%|▏         | 167/10000 [12:02<12:19:19,  4.51s/it]\u001b[A\n",
      "\n",
      "  0%|          | 0/4 [00:00<?, ?it/s]\u001b[A\u001b[A\n",
      "\n",
      " 25%|██▌       | 1/4 [00:00<00:02,  1.17it/s]\u001b[A\u001b[A\n",
      "\n",
      " 50%|█████     | 2/4 [00:01<00:01,  1.26it/s]\u001b[A\u001b[A\n",
      "\n",
      " 75%|███████▌  | 3/4 [00:02<00:00,  1.21it/s]\u001b[A\u001b[A\n",
      "\n",
      "100%|██████████| 4/4 [00:03<00:00,  1.25it/s]\u001b[A\u001b[A\n"
     ]
    },
    {
     "name": "stdout",
     "output_type": "stream",
     "text": [
      "\n",
      "Epoch: 168, Loss: 0.3926, Val: 0.7075, Test: 0.7082\n"
     ]
    },
    {
     "name": "stderr",
     "output_type": "stream",
     "text": [
      "\n",
      "  2%|▏         | 168/10000 [12:06<12:24:33,  4.54s/it]\u001b[A\n",
      "\n",
      "  0%|          | 0/4 [00:00<?, ?it/s]\u001b[A\u001b[A\n",
      "\n",
      " 25%|██▌       | 1/4 [00:00<00:02,  1.12it/s]\u001b[A\u001b[A\n",
      "\n",
      " 50%|█████     | 2/4 [00:01<00:01,  1.13it/s]\u001b[A\u001b[A\n",
      "\n",
      " 75%|███████▌  | 3/4 [00:02<00:00,  1.14it/s]\u001b[A\u001b[A\n",
      "\n",
      "100%|██████████| 4/4 [00:03<00:00,  1.19it/s]\u001b[A\u001b[A\n"
     ]
    },
    {
     "name": "stdout",
     "output_type": "stream",
     "text": [
      "\n",
      "Epoch: 169, Loss: 0.3924, Val: 0.7076, Test: 0.7085\n"
     ]
    },
    {
     "name": "stderr",
     "output_type": "stream",
     "text": [
      "\n",
      "  2%|▏         | 169/10000 [12:11<12:38:42,  4.63s/it]\u001b[A\n",
      "\n",
      "  0%|          | 0/4 [00:00<?, ?it/s]\u001b[A\u001b[A\n",
      "\n",
      " 25%|██▌       | 1/4 [00:00<00:02,  1.12it/s]\u001b[A\u001b[A\n",
      "\n",
      " 50%|█████     | 2/4 [00:01<00:01,  1.16it/s]\u001b[A\u001b[A\n",
      "\n",
      " 75%|███████▌  | 3/4 [00:02<00:00,  1.20it/s]\u001b[A\u001b[A\n",
      "\n",
      "100%|██████████| 4/4 [00:03<00:00,  1.21it/s]\u001b[A\u001b[A\n"
     ]
    },
    {
     "name": "stdout",
     "output_type": "stream",
     "text": [
      "\n",
      "Epoch: 170, Loss: 0.3929, Val: 0.7079, Test: 0.7087\n"
     ]
    },
    {
     "name": "stderr",
     "output_type": "stream",
     "text": [
      "\n",
      "  2%|▏         | 170/10000 [12:16<12:46:29,  4.68s/it]\u001b[A\n",
      "\n",
      "  0%|          | 0/4 [00:00<?, ?it/s]\u001b[A\u001b[A\n",
      "\n",
      " 25%|██▌       | 1/4 [00:00<00:02,  1.08it/s]\u001b[A\u001b[A\n",
      "\n",
      " 50%|█████     | 2/4 [00:01<00:01,  1.14it/s]\u001b[A\u001b[A\n",
      "\n",
      " 75%|███████▌  | 3/4 [00:02<00:00,  1.08it/s]\u001b[A\u001b[A\n",
      "\n",
      "100%|██████████| 4/4 [00:03<00:00,  1.14it/s]\u001b[A\u001b[A\n"
     ]
    },
    {
     "name": "stdout",
     "output_type": "stream",
     "text": [
      "\n",
      "Epoch: 171, Loss: 0.3922, Val: 0.7079, Test: 0.7088\n"
     ]
    },
    {
     "name": "stderr",
     "output_type": "stream",
     "text": [
      "\n",
      "  2%|▏         | 171/10000 [12:21<12:58:54,  4.75s/it]\u001b[A\n",
      "\n",
      "  0%|          | 0/4 [00:00<?, ?it/s]\u001b[A\u001b[A\n",
      "\n",
      " 25%|██▌       | 1/4 [00:00<00:02,  1.17it/s]\u001b[A\u001b[A\n",
      "\n",
      " 50%|█████     | 2/4 [00:01<00:01,  1.17it/s]\u001b[A\u001b[A\n",
      "\n",
      " 75%|███████▌  | 3/4 [00:02<00:00,  1.18it/s]\u001b[A\u001b[A\n",
      "\n",
      "100%|██████████| 4/4 [00:03<00:00,  1.28it/s]\u001b[A\u001b[A\n"
     ]
    },
    {
     "name": "stdout",
     "output_type": "stream",
     "text": [
      "\n",
      "Epoch: 172, Loss: 0.3922, Val: 0.7081, Test: 0.7089\n"
     ]
    },
    {
     "name": "stderr",
     "output_type": "stream",
     "text": [
      "\n",
      "  2%|▏         | 172/10000 [12:26<12:52:24,  4.72s/it]\u001b[A\n",
      "\n",
      "  0%|          | 0/4 [00:00<?, ?it/s]\u001b[A\u001b[A\n",
      "\n",
      " 25%|██▌       | 1/4 [00:00<00:02,  1.13it/s]\u001b[A\u001b[A\n",
      "\n",
      " 50%|█████     | 2/4 [00:01<00:01,  1.19it/s]\u001b[A\u001b[A\n",
      "\n",
      " 75%|███████▌  | 3/4 [00:02<00:00,  1.16it/s]\u001b[A\u001b[A\n",
      "\n",
      "100%|██████████| 4/4 [00:03<00:00,  1.21it/s]\u001b[A\u001b[A\n"
     ]
    },
    {
     "name": "stdout",
     "output_type": "stream",
     "text": [
      "\n",
      "Epoch: 173, Loss: 0.3921, Val: 0.7083, Test: 0.7090\n"
     ]
    },
    {
     "name": "stderr",
     "output_type": "stream",
     "text": [
      "\n",
      "  2%|▏         | 173/10000 [12:30<12:53:53,  4.73s/it]\u001b[A\n",
      "\n",
      "  0%|          | 0/4 [00:00<?, ?it/s]\u001b[A\u001b[A\n",
      "\n",
      " 25%|██▌       | 1/4 [00:00<00:02,  1.09it/s]\u001b[A\u001b[A\n",
      "\n",
      " 50%|█████     | 2/4 [00:01<00:01,  1.11it/s]\u001b[A\u001b[A\n",
      "\n",
      " 75%|███████▌  | 3/4 [00:02<00:00,  1.14it/s]\u001b[A\u001b[A\n",
      "\n",
      "100%|██████████| 4/4 [00:03<00:00,  1.18it/s]\u001b[A\u001b[A\n"
     ]
    },
    {
     "name": "stdout",
     "output_type": "stream",
     "text": [
      "\n",
      "Epoch: 174, Loss: 0.3920, Val: 0.7083, Test: 0.7092\n"
     ]
    },
    {
     "name": "stderr",
     "output_type": "stream",
     "text": [
      "\n",
      "  2%|▏         | 174/10000 [12:35<12:56:09,  4.74s/it]\u001b[A\n",
      "\n",
      "  0%|          | 0/4 [00:00<?, ?it/s]\u001b[A\u001b[A\n",
      "\n",
      " 25%|██▌       | 1/4 [00:00<00:02,  1.21it/s]\u001b[A\u001b[A\n",
      "\n",
      " 50%|█████     | 2/4 [00:01<00:01,  1.18it/s]\u001b[A\u001b[A\n",
      "\n",
      " 75%|███████▌  | 3/4 [00:02<00:00,  1.21it/s]\u001b[A\u001b[A\n",
      "\n",
      "100%|██████████| 4/4 [00:03<00:00,  1.21it/s]\u001b[A\u001b[A\n"
     ]
    },
    {
     "name": "stdout",
     "output_type": "stream",
     "text": [
      "\n",
      "Epoch: 175, Loss: 0.3916, Val: 0.7085, Test: 0.7092\n"
     ]
    },
    {
     "name": "stderr",
     "output_type": "stream",
     "text": [
      "\n",
      "  2%|▏         | 175/10000 [12:40<13:00:20,  4.77s/it]\u001b[A\n",
      "\n",
      "  0%|          | 0/4 [00:00<?, ?it/s]\u001b[A\u001b[A\n",
      "\n",
      " 25%|██▌       | 1/4 [00:00<00:02,  1.01it/s]\u001b[A\u001b[A\n",
      "\n",
      " 50%|█████     | 2/4 [00:01<00:01,  1.05it/s]\u001b[A\u001b[A\n",
      "\n",
      " 75%|███████▌  | 3/4 [00:02<00:00,  1.08it/s]\u001b[A\u001b[A\n",
      "\n",
      "100%|██████████| 4/4 [00:03<00:00,  1.12it/s]\u001b[A\u001b[A\n"
     ]
    },
    {
     "name": "stdout",
     "output_type": "stream",
     "text": [
      "\n",
      "Epoch: 176, Loss: 0.3906, Val: 0.7086, Test: 0.7093\n"
     ]
    },
    {
     "name": "stderr",
     "output_type": "stream",
     "text": [
      "\n",
      "  2%|▏         | 176/10000 [12:45<13:14:35,  4.85s/it]\u001b[A\n",
      "\n",
      "  0%|          | 0/4 [00:00<?, ?it/s]\u001b[A\u001b[A\n",
      "\n",
      " 25%|██▌       | 1/4 [00:00<00:02,  1.21it/s]\u001b[A\u001b[A\n",
      "\n",
      " 50%|█████     | 2/4 [00:01<00:01,  1.20it/s]\u001b[A\u001b[A\n",
      "\n",
      " 75%|███████▌  | 3/4 [00:02<00:00,  1.22it/s]\u001b[A\u001b[A\n",
      "\n",
      "100%|██████████| 4/4 [00:03<00:00,  1.23it/s]\u001b[A\u001b[A\n"
     ]
    },
    {
     "name": "stdout",
     "output_type": "stream",
     "text": [
      "\n",
      "Epoch: 177, Loss: 0.3914, Val: 0.7087, Test: 0.7095\n"
     ]
    },
    {
     "name": "stderr",
     "output_type": "stream",
     "text": [
      "\n",
      "  2%|▏         | 177/10000 [12:50<13:10:23,  4.83s/it]\u001b[A\n",
      "\n",
      "  0%|          | 0/4 [00:00<?, ?it/s]\u001b[A\u001b[A\n",
      "\n",
      " 25%|██▌       | 1/4 [00:00<00:02,  1.22it/s]\u001b[A\u001b[A\n",
      "\n",
      " 50%|█████     | 2/4 [00:01<00:01,  1.21it/s]\u001b[A\u001b[A\n",
      "\n",
      " 75%|███████▌  | 3/4 [00:02<00:00,  1.18it/s]\u001b[A\u001b[A\n",
      "\n",
      "100%|██████████| 4/4 [00:03<00:00,  1.25it/s]\u001b[A\u001b[A\n"
     ]
    },
    {
     "name": "stdout",
     "output_type": "stream",
     "text": [
      "\n",
      "Epoch: 178, Loss: 0.3907, Val: 0.7090, Test: 0.7098\n"
     ]
    },
    {
     "name": "stderr",
     "output_type": "stream",
     "text": [
      "\n",
      "  2%|▏         | 178/10000 [12:54<13:02:50,  4.78s/it]\u001b[A\n",
      "\n",
      "  0%|          | 0/4 [00:00<?, ?it/s]\u001b[A\u001b[A\n",
      "\n",
      " 25%|██▌       | 1/4 [00:00<00:02,  1.09it/s]\u001b[A\u001b[A\n",
      "\n",
      " 50%|█████     | 2/4 [00:01<00:01,  1.08it/s]\u001b[A\u001b[A\n",
      "\n",
      " 75%|███████▌  | 3/4 [00:02<00:00,  1.17it/s]\u001b[A\u001b[A\n",
      "\n",
      "100%|██████████| 4/4 [00:03<00:00,  1.20it/s]\u001b[A\u001b[A\n"
     ]
    },
    {
     "name": "stdout",
     "output_type": "stream",
     "text": [
      "\n",
      "Epoch: 179, Loss: 0.3905, Val: 0.7092, Test: 0.7100\n"
     ]
    },
    {
     "name": "stderr",
     "output_type": "stream",
     "text": [
      "\n",
      "  2%|▏         | 179/10000 [12:59<13:02:37,  4.78s/it]\u001b[A\n",
      "\n",
      "  0%|          | 0/4 [00:00<?, ?it/s]\u001b[A\u001b[A\n",
      "\n",
      " 25%|██▌       | 1/4 [00:00<00:02,  1.17it/s]\u001b[A\u001b[A\n",
      "\n",
      " 50%|█████     | 2/4 [00:01<00:01,  1.09it/s]\u001b[A\u001b[A\n",
      "\n",
      " 75%|███████▌  | 3/4 [00:02<00:00,  1.09it/s]\u001b[A\u001b[A\n",
      "\n",
      "100%|██████████| 4/4 [00:03<00:00,  1.14it/s]\u001b[A\u001b[A\n"
     ]
    },
    {
     "name": "stdout",
     "output_type": "stream",
     "text": [
      "\n",
      "Epoch: 180, Loss: 0.3908, Val: 0.7093, Test: 0.7101\n"
     ]
    },
    {
     "name": "stderr",
     "output_type": "stream",
     "text": [
      "\n",
      "  2%|▏         | 180/10000 [13:05<13:32:42,  4.97s/it]\u001b[A\n",
      "\n",
      "  0%|          | 0/4 [00:00<?, ?it/s]\u001b[A\u001b[A\n",
      "\n",
      " 25%|██▌       | 1/4 [00:01<00:03,  1.28s/it]\u001b[A\u001b[A\n",
      "\n",
      " 50%|█████     | 2/4 [00:02<00:02,  1.04s/it]\u001b[A\u001b[A\n",
      "\n",
      " 75%|███████▌  | 3/4 [00:03<00:00,  1.04it/s]\u001b[A\u001b[A\n",
      "\n",
      "100%|██████████| 4/4 [00:03<00:00,  1.05it/s]\u001b[A\u001b[A\n"
     ]
    },
    {
     "name": "stdout",
     "output_type": "stream",
     "text": [
      "\n",
      "Epoch: 181, Loss: 0.3901, Val: 0.7093, Test: 0.7103\n"
     ]
    },
    {
     "name": "stderr",
     "output_type": "stream",
     "text": [
      "\n",
      "  2%|▏         | 181/10000 [13:10<13:45:13,  5.04s/it]\u001b[A\n",
      "\n",
      "  0%|          | 0/4 [00:00<?, ?it/s]\u001b[A\u001b[A\n",
      "\n",
      " 25%|██▌       | 1/4 [00:00<00:02,  1.28it/s]\u001b[A\u001b[A\n",
      "\n",
      " 50%|█████     | 2/4 [00:01<00:01,  1.24it/s]\u001b[A\u001b[A\n",
      "\n",
      " 75%|███████▌  | 3/4 [00:02<00:00,  1.23it/s]\u001b[A\u001b[A\n",
      "\n",
      "100%|██████████| 4/4 [00:03<00:00,  1.28it/s]\u001b[A\u001b[A\n"
     ]
    },
    {
     "name": "stdout",
     "output_type": "stream",
     "text": [
      "\n",
      "Epoch: 182, Loss: 0.3904, Val: 0.7094, Test: 0.7103\n"
     ]
    },
    {
     "name": "stderr",
     "output_type": "stream",
     "text": [
      "\n",
      "  2%|▏         | 182/10000 [13:14<13:15:22,  4.86s/it]\u001b[A\n",
      "\n",
      "  0%|          | 0/4 [00:00<?, ?it/s]\u001b[A\u001b[A\n",
      "\n",
      " 25%|██▌       | 1/4 [00:00<00:02,  1.14it/s]\u001b[A\u001b[A\n",
      "\n",
      " 50%|█████     | 2/4 [00:01<00:01,  1.09it/s]\u001b[A\u001b[A\n",
      "\n",
      " 75%|███████▌  | 3/4 [00:02<00:00,  1.12it/s]\u001b[A\u001b[A\n",
      "\n",
      "100%|██████████| 4/4 [00:03<00:00,  1.15it/s]\u001b[A\u001b[A\n"
     ]
    },
    {
     "name": "stdout",
     "output_type": "stream",
     "text": [
      "\n",
      "Epoch: 183, Loss: 0.3905, Val: 0.7094, Test: 0.7103\n"
     ]
    },
    {
     "name": "stderr",
     "output_type": "stream",
     "text": [
      "\n",
      "  2%|▏         | 183/10000 [13:19<13:09:05,  4.82s/it]\u001b[A\n",
      "\n",
      "  0%|          | 0/4 [00:00<?, ?it/s]\u001b[A\u001b[A\n",
      "\n",
      " 25%|██▌       | 1/4 [00:00<00:01,  2.78it/s]\u001b[A\u001b[A\n",
      "\n",
      " 50%|█████     | 2/4 [00:01<00:01,  1.56it/s]\u001b[A\u001b[A\n",
      "\n",
      " 75%|███████▌  | 3/4 [00:02<00:00,  1.34it/s]\u001b[A\u001b[A\n",
      "\n",
      "100%|██████████| 4/4 [00:02<00:00,  1.43it/s]\u001b[A\u001b[A\n"
     ]
    },
    {
     "name": "stdout",
     "output_type": "stream",
     "text": [
      "\n",
      "Epoch: 184, Loss: 0.3901, Val: 0.7095, Test: 0.7103\n"
     ]
    },
    {
     "name": "stderr",
     "output_type": "stream",
     "text": [
      "\n",
      "  2%|▏         | 184/10000 [13:23<12:39:42,  4.64s/it]\u001b[A\n",
      "\n",
      "  0%|          | 0/4 [00:00<?, ?it/s]\u001b[A\u001b[A\n",
      "\n",
      " 25%|██▌       | 1/4 [00:00<00:02,  1.16it/s]\u001b[A\u001b[A\n",
      "\n",
      " 50%|█████     | 2/4 [00:01<00:01,  1.17it/s]\u001b[A\u001b[A\n",
      "\n",
      " 75%|███████▌  | 3/4 [00:02<00:00,  1.17it/s]\u001b[A\u001b[A\n",
      "\n",
      "100%|██████████| 4/4 [00:03<00:00,  1.19it/s]\u001b[A\u001b[A\n"
     ]
    },
    {
     "name": "stdout",
     "output_type": "stream",
     "text": [
      "\n",
      "Epoch: 185, Loss: 0.3892, Val: 0.7096, Test: 0.7105\n"
     ]
    },
    {
     "name": "stderr",
     "output_type": "stream",
     "text": [
      "\n",
      "  2%|▏         | 185/10000 [13:28<12:45:10,  4.68s/it]\u001b[A\n",
      "\n",
      "  0%|          | 0/4 [00:00<?, ?it/s]\u001b[A\u001b[A\n",
      "\n",
      " 25%|██▌       | 1/4 [00:00<00:02,  1.20it/s]\u001b[A\u001b[A\n",
      "\n",
      " 50%|█████     | 2/4 [00:01<00:01,  1.22it/s]\u001b[A\u001b[A\n",
      "\n",
      " 75%|███████▌  | 3/4 [00:02<00:00,  1.18it/s]\u001b[A\u001b[A\n",
      "\n",
      "100%|██████████| 4/4 [00:03<00:00,  1.21it/s]\u001b[A\u001b[A\n"
     ]
    },
    {
     "name": "stdout",
     "output_type": "stream",
     "text": [
      "\n",
      "Epoch: 186, Loss: 0.3884, Val: 0.7099, Test: 0.7106\n"
     ]
    },
    {
     "name": "stderr",
     "output_type": "stream",
     "text": [
      "\n",
      "  2%|▏         | 186/10000 [13:33<12:44:03,  4.67s/it]\u001b[A\n",
      "\n",
      "  0%|          | 0/4 [00:00<?, ?it/s]\u001b[A\u001b[A\n",
      "\n",
      " 25%|██▌       | 1/4 [00:00<00:02,  1.27it/s]\u001b[A\u001b[A\n",
      "\n",
      " 50%|█████     | 2/4 [00:01<00:01,  1.25it/s]\u001b[A\u001b[A\n",
      "\n",
      " 75%|███████▌  | 3/4 [00:02<00:00,  1.24it/s]\u001b[A\u001b[A\n",
      "\n",
      "100%|██████████| 4/4 [00:03<00:00,  1.29it/s]\u001b[A\u001b[A\n"
     ]
    },
    {
     "name": "stdout",
     "output_type": "stream",
     "text": [
      "\n",
      "Epoch: 187, Loss: 0.3889, Val: 0.7100, Test: 0.7107\n"
     ]
    },
    {
     "name": "stderr",
     "output_type": "stream",
     "text": [
      "\n",
      "  2%|▏         | 187/10000 [13:37<12:33:04,  4.60s/it]\u001b[A\n",
      "\n",
      "  0%|          | 0/4 [00:00<?, ?it/s]\u001b[A\u001b[A\n",
      "\n",
      " 25%|██▌       | 1/4 [00:00<00:02,  1.09it/s]\u001b[A\u001b[A\n",
      "\n",
      " 50%|█████     | 2/4 [00:01<00:01,  1.14it/s]\u001b[A\u001b[A\n",
      "\n",
      " 75%|███████▌  | 3/4 [00:02<00:00,  1.18it/s]\u001b[A\u001b[A\n",
      "\n",
      "100%|██████████| 4/4 [00:03<00:00,  1.22it/s]\u001b[A\u001b[A\n"
     ]
    },
    {
     "name": "stdout",
     "output_type": "stream",
     "text": [
      "\n",
      "Epoch: 188, Loss: 0.3882, Val: 0.7100, Test: 0.7108\n"
     ]
    },
    {
     "name": "stderr",
     "output_type": "stream",
     "text": [
      "\n",
      "  2%|▏         | 188/10000 [13:42<12:35:06,  4.62s/it]\u001b[A\n",
      "\n",
      "  0%|          | 0/4 [00:00<?, ?it/s]\u001b[A\u001b[A\n",
      "\n",
      " 25%|██▌       | 1/4 [00:00<00:02,  1.18it/s]\u001b[A\u001b[A\n",
      "\n",
      " 50%|█████     | 2/4 [00:01<00:01,  1.21it/s]\u001b[A\u001b[A\n",
      "\n",
      " 75%|███████▌  | 3/4 [00:02<00:00,  1.20it/s]\u001b[A\u001b[A\n",
      "\n",
      "100%|██████████| 4/4 [00:03<00:00,  1.24it/s]\u001b[A\u001b[A\n"
     ]
    },
    {
     "name": "stdout",
     "output_type": "stream",
     "text": [
      "\n",
      "Epoch: 189, Loss: 0.3884, Val: 0.7102, Test: 0.7109\n"
     ]
    },
    {
     "name": "stderr",
     "output_type": "stream",
     "text": [
      "\n",
      "  2%|▏         | 189/10000 [13:46<12:32:47,  4.60s/it]\u001b[A\n",
      "\n",
      "  0%|          | 0/4 [00:00<?, ?it/s]\u001b[A\u001b[A\n",
      "\n",
      " 25%|██▌       | 1/4 [00:00<00:02,  1.22it/s]\u001b[A\u001b[A\n",
      "\n",
      " 50%|█████     | 2/4 [00:01<00:01,  1.18it/s]\u001b[A\u001b[A\n",
      "\n",
      " 75%|███████▌  | 3/4 [00:02<00:00,  1.22it/s]\u001b[A\u001b[A\n",
      "\n",
      "100%|██████████| 4/4 [00:03<00:00,  1.25it/s]\u001b[A\u001b[A\n"
     ]
    },
    {
     "name": "stdout",
     "output_type": "stream",
     "text": [
      "\n",
      "Epoch: 190, Loss: 0.3886, Val: 0.7103, Test: 0.7110\n"
     ]
    },
    {
     "name": "stderr",
     "output_type": "stream",
     "text": [
      "\n",
      "  2%|▏         | 190/10000 [13:51<12:29:08,  4.58s/it]\u001b[A\n",
      "\n",
      "  0%|          | 0/4 [00:00<?, ?it/s]\u001b[A\u001b[A\n",
      "\n",
      " 25%|██▌       | 1/4 [00:00<00:02,  1.17it/s]\u001b[A\u001b[A\n",
      "\n",
      " 50%|█████     | 2/4 [00:01<00:01,  1.19it/s]\u001b[A\u001b[A\n",
      "\n",
      " 75%|███████▌  | 3/4 [00:02<00:00,  1.21it/s]\u001b[A\u001b[A\n",
      "\n",
      "100%|██████████| 4/4 [00:03<00:00,  1.24it/s]\u001b[A\u001b[A\n"
     ]
    },
    {
     "name": "stdout",
     "output_type": "stream",
     "text": [
      "\n",
      "Epoch: 191, Loss: 0.3881, Val: 0.7104, Test: 0.7112\n"
     ]
    },
    {
     "name": "stderr",
     "output_type": "stream",
     "text": [
      "\n",
      "  2%|▏         | 191/10000 [13:55<12:28:47,  4.58s/it]\u001b[A\n",
      "\n",
      "  0%|          | 0/4 [00:00<?, ?it/s]\u001b[A\u001b[A\n",
      "\n",
      " 25%|██▌       | 1/4 [00:00<00:02,  1.12it/s]\u001b[A\u001b[A\n",
      "\n",
      " 50%|█████     | 2/4 [00:01<00:01,  1.15it/s]\u001b[A\u001b[A\n",
      "\n",
      " 75%|███████▌  | 3/4 [00:02<00:00,  1.18it/s]\u001b[A\u001b[A\n",
      "\n",
      "100%|██████████| 4/4 [00:03<00:00,  1.24it/s]\u001b[A\u001b[A\n"
     ]
    },
    {
     "name": "stdout",
     "output_type": "stream",
     "text": [
      "\n",
      "Epoch: 192, Loss: 0.3875, Val: 0.7106, Test: 0.7113\n"
     ]
    },
    {
     "name": "stderr",
     "output_type": "stream",
     "text": [
      "\n",
      "  2%|▏         | 192/10000 [14:00<12:27:22,  4.57s/it]\u001b[A\n",
      "\n",
      "  0%|          | 0/4 [00:00<?, ?it/s]\u001b[A\u001b[A\n",
      "\n",
      " 25%|██▌       | 1/4 [00:00<00:02,  1.26it/s]\u001b[A\u001b[A\n",
      "\n",
      " 50%|█████     | 2/4 [00:01<00:01,  1.25it/s]\u001b[A\u001b[A\n",
      "\n",
      " 75%|███████▌  | 3/4 [00:02<00:00,  1.28it/s]\u001b[A\u001b[A\n",
      "\n",
      "100%|██████████| 4/4 [00:03<00:00,  1.30it/s]\u001b[A\u001b[A\n"
     ]
    },
    {
     "name": "stdout",
     "output_type": "stream",
     "text": [
      "\n",
      "Epoch: 193, Loss: 0.3879, Val: 0.7106, Test: 0.7115\n"
     ]
    },
    {
     "name": "stderr",
     "output_type": "stream",
     "text": [
      "\n",
      "  2%|▏         | 193/10000 [14:04<12:17:31,  4.51s/it]\u001b[A\n",
      "\n",
      "  0%|          | 0/4 [00:00<?, ?it/s]\u001b[A\u001b[A\n",
      "\n",
      " 25%|██▌       | 1/4 [00:00<00:02,  1.28it/s]\u001b[A\u001b[A\n",
      "\n",
      " 50%|█████     | 2/4 [00:01<00:01,  1.30it/s]\u001b[A\u001b[A\n",
      "\n",
      " 75%|███████▌  | 3/4 [00:02<00:00,  1.23it/s]\u001b[A\u001b[A\n",
      "\n",
      "100%|██████████| 4/4 [00:03<00:00,  1.29it/s]\u001b[A\u001b[A\n"
     ]
    },
    {
     "name": "stdout",
     "output_type": "stream",
     "text": [
      "\n",
      "Epoch: 194, Loss: 0.3878, Val: 0.7108, Test: 0.7115\n"
     ]
    },
    {
     "name": "stderr",
     "output_type": "stream",
     "text": [
      "\n",
      "  2%|▏         | 194/10000 [14:09<12:13:36,  4.49s/it]\u001b[A\n",
      "\n",
      "  0%|          | 0/4 [00:00<?, ?it/s]\u001b[A\u001b[A\n",
      "\n",
      " 25%|██▌       | 1/4 [00:00<00:02,  1.24it/s]\u001b[A\u001b[A\n",
      "\n",
      " 50%|█████     | 2/4 [00:01<00:01,  1.26it/s]\u001b[A\u001b[A\n",
      "\n",
      " 75%|███████▌  | 3/4 [00:02<00:00,  1.28it/s]\u001b[A\u001b[A\n",
      "\n",
      "100%|██████████| 4/4 [00:03<00:00,  1.28it/s]\u001b[A\u001b[A\n"
     ]
    },
    {
     "name": "stdout",
     "output_type": "stream",
     "text": [
      "\n",
      "Epoch: 195, Loss: 0.3875, Val: 0.7108, Test: 0.7116\n"
     ]
    },
    {
     "name": "stderr",
     "output_type": "stream",
     "text": [
      "\n",
      "  2%|▏         | 195/10000 [14:13<12:14:53,  4.50s/it]\u001b[A\n",
      "\n",
      "  0%|          | 0/4 [00:00<?, ?it/s]\u001b[A\u001b[A\n",
      "\n",
      " 25%|██▌       | 1/4 [00:00<00:02,  1.33it/s]\u001b[A\u001b[A\n",
      "\n",
      " 50%|█████     | 2/4 [00:01<00:01,  1.26it/s]\u001b[A\u001b[A\n",
      "\n",
      " 75%|███████▌  | 3/4 [00:02<00:00,  1.22it/s]\u001b[A\u001b[A\n",
      "\n",
      "100%|██████████| 4/4 [00:03<00:00,  1.28it/s]\u001b[A\u001b[A\n"
     ]
    },
    {
     "name": "stdout",
     "output_type": "stream",
     "text": [
      "\n",
      "Epoch: 196, Loss: 0.3869, Val: 0.7109, Test: 0.7117\n"
     ]
    },
    {
     "name": "stderr",
     "output_type": "stream",
     "text": [
      "\n",
      "  2%|▏         | 196/10000 [14:18<12:13:28,  4.49s/it]\u001b[A\n",
      "\n",
      "  0%|          | 0/4 [00:00<?, ?it/s]\u001b[A\u001b[A\n",
      "\n",
      " 25%|██▌       | 1/4 [00:00<00:02,  1.21it/s]\u001b[A\u001b[A\n",
      "\n",
      " 50%|█████     | 2/4 [00:01<00:01,  1.48it/s]\u001b[A\u001b[A\n",
      "\n",
      " 75%|███████▌  | 3/4 [00:02<00:00,  1.39it/s]\u001b[A\u001b[A\n",
      "\n",
      "100%|██████████| 4/4 [00:02<00:00,  1.38it/s]\u001b[A\u001b[A\n"
     ]
    },
    {
     "name": "stdout",
     "output_type": "stream",
     "text": [
      "\n",
      "Epoch: 197, Loss: 0.3870, Val: 0.7110, Test: 0.7117\n"
     ]
    },
    {
     "name": "stderr",
     "output_type": "stream",
     "text": [
      "\n",
      "  2%|▏         | 197/10000 [14:22<12:02:37,  4.42s/it]\u001b[A\n",
      "\n",
      "  0%|          | 0/4 [00:00<?, ?it/s]\u001b[A\u001b[A\n",
      "\n",
      " 25%|██▌       | 1/4 [00:00<00:02,  1.19it/s]\u001b[A\u001b[A\n",
      "\n",
      " 50%|█████     | 2/4 [00:01<00:01,  1.21it/s]\u001b[A\u001b[A\n",
      "\n",
      " 75%|███████▌  | 3/4 [00:02<00:00,  1.25it/s]\u001b[A\u001b[A\n",
      "\n",
      "100%|██████████| 4/4 [00:03<00:00,  1.28it/s]\u001b[A\u001b[A\n"
     ]
    },
    {
     "name": "stdout",
     "output_type": "stream",
     "text": [
      "\n",
      "Epoch: 198, Loss: 0.3867, Val: 0.7111, Test: 0.7118\n"
     ]
    },
    {
     "name": "stderr",
     "output_type": "stream",
     "text": [
      "\n",
      "  2%|▏         | 198/10000 [14:26<12:04:43,  4.44s/it]\u001b[A\n",
      "\n",
      "  0%|          | 0/4 [00:00<?, ?it/s]\u001b[A\u001b[A\n",
      "\n",
      " 25%|██▌       | 1/4 [00:00<00:02,  1.23it/s]\u001b[A\u001b[A\n",
      "\n",
      " 50%|█████     | 2/4 [00:01<00:01,  1.28it/s]\u001b[A\u001b[A\n",
      "\n",
      " 75%|███████▌  | 3/4 [00:02<00:00,  1.28it/s]\u001b[A\u001b[A\n",
      "\n",
      "100%|██████████| 4/4 [00:03<00:00,  1.31it/s]\u001b[A\u001b[A\n"
     ]
    },
    {
     "name": "stdout",
     "output_type": "stream",
     "text": [
      "\n",
      "Epoch: 199, Loss: 0.3874, Val: 0.7111, Test: 0.7118\n"
     ]
    },
    {
     "name": "stderr",
     "output_type": "stream",
     "text": [
      "\n",
      "  2%|▏         | 199/10000 [14:31<12:02:32,  4.42s/it]\u001b[A\n",
      "\n",
      "  0%|          | 0/4 [00:00<?, ?it/s]\u001b[A\u001b[A\n",
      "\n",
      " 25%|██▌       | 1/4 [00:00<00:02,  1.33it/s]\u001b[A\u001b[A\n",
      "\n",
      " 50%|█████     | 2/4 [00:01<00:01,  1.27it/s]\u001b[A\u001b[A\n",
      "\n",
      " 75%|███████▌  | 3/4 [00:02<00:00,  1.27it/s]\u001b[A\u001b[A\n",
      "\n",
      "100%|██████████| 4/4 [00:03<00:00,  1.33it/s]\u001b[A\u001b[A\n",
      "\n",
      "  2%|▏         | 200/10000 [14:34<11:23:58,  4.19s/it]\u001b[A\n",
      "\n",
      "  0%|          | 0/4 [00:00<?, ?it/s]\u001b[A\u001b[A\n",
      "\n",
      " 25%|██▌       | 1/4 [00:00<00:02,  1.31it/s]\u001b[A\u001b[A\n",
      "\n",
      " 50%|█████     | 2/4 [00:01<00:01,  1.30it/s]\u001b[A\u001b[A\n",
      "\n",
      " 75%|███████▌  | 3/4 [00:02<00:00,  1.28it/s]\u001b[A\u001b[A\n",
      "\n",
      "100%|██████████| 4/4 [00:03<00:00,  1.32it/s]\u001b[A\u001b[A\n",
      "\n",
      "  2%|▏         | 201/10000 [14:38<10:56:08,  4.02s/it]\u001b[A\n",
      "\n",
      "  0%|          | 0/4 [00:00<?, ?it/s]\u001b[A\u001b[A\n",
      "\n",
      " 25%|██▌       | 1/4 [00:00<00:02,  1.32it/s]\u001b[A\u001b[A\n",
      "\n",
      " 50%|█████     | 2/4 [00:01<00:01,  1.30it/s]\u001b[A\u001b[A\n",
      "\n",
      " 75%|███████▌  | 3/4 [00:02<00:00,  1.30it/s]\u001b[A\u001b[A\n",
      "\n",
      "100%|██████████| 4/4 [00:03<00:00,  1.33it/s]\u001b[A\u001b[A\n"
     ]
    },
    {
     "name": "stdout",
     "output_type": "stream",
     "text": [
      "\n",
      "Epoch: 202, Loss: 0.3864, Val: 0.7112, Test: 0.7119\n"
     ]
    },
    {
     "name": "stderr",
     "output_type": "stream",
     "text": [
      "\n",
      "  2%|▏         | 202/10000 [14:42<11:11:32,  4.11s/it]\u001b[A\n",
      "\n",
      "  0%|          | 0/4 [00:00<?, ?it/s]\u001b[A\u001b[A\n",
      "\n",
      " 25%|██▌       | 1/4 [00:00<00:02,  1.27it/s]\u001b[A\u001b[A\n",
      "\n",
      " 50%|█████     | 2/4 [00:01<00:01,  1.33it/s]\u001b[A\u001b[A\n",
      "\n",
      " 75%|███████▌  | 3/4 [00:02<00:00,  1.32it/s]\u001b[A\u001b[A\n",
      "\n",
      "100%|██████████| 4/4 [00:02<00:00,  1.34it/s]\u001b[A\u001b[A\n"
     ]
    },
    {
     "name": "stdout",
     "output_type": "stream",
     "text": [
      "\n",
      "Epoch: 203, Loss: 0.3863, Val: 0.7113, Test: 0.7121\n"
     ]
    },
    {
     "name": "stderr",
     "output_type": "stream",
     "text": [
      "\n",
      "  2%|▏         | 203/10000 [14:47<11:11:37,  4.11s/it]\u001b[A\n",
      "\n",
      "  0%|          | 0/4 [00:00<?, ?it/s]\u001b[A\u001b[A\n",
      "\n",
      " 25%|██▌       | 1/4 [00:00<00:02,  1.27it/s]\u001b[A\u001b[A\n",
      "\n",
      " 50%|█████     | 2/4 [00:01<00:01,  1.24it/s]\u001b[A\u001b[A\n",
      "\n",
      " 75%|███████▌  | 3/4 [00:02<00:00,  1.25it/s]\u001b[A\u001b[A\n",
      "\n",
      "100%|██████████| 4/4 [00:03<00:00,  1.28it/s]\u001b[A\u001b[A\n"
     ]
    },
    {
     "name": "stdout",
     "output_type": "stream",
     "text": [
      "\n",
      "Epoch: 204, Loss: 0.3860, Val: 0.7114, Test: 0.7121\n"
     ]
    },
    {
     "name": "stderr",
     "output_type": "stream",
     "text": [
      "\n",
      "  2%|▏         | 204/10000 [14:51<11:28:03,  4.21s/it]\u001b[A\n",
      "\n",
      "  0%|          | 0/4 [00:00<?, ?it/s]\u001b[A\u001b[A\n",
      "\n",
      " 25%|██▌       | 1/4 [00:00<00:02,  1.18it/s]\u001b[A\u001b[A\n",
      "\n",
      " 50%|█████     | 2/4 [00:01<00:01,  1.19it/s]\u001b[A\u001b[A\n",
      "\n",
      " 75%|███████▌  | 3/4 [00:02<00:00,  1.23it/s]\u001b[A\u001b[A\n",
      "\n",
      "100%|██████████| 4/4 [00:02<00:00,  1.41it/s]\u001b[A\u001b[A\n"
     ]
    },
    {
     "name": "stdout",
     "output_type": "stream",
     "text": [
      "\n",
      "Epoch: 205, Loss: 0.3853, Val: 0.7115, Test: 0.7123\n"
     ]
    },
    {
     "name": "stderr",
     "output_type": "stream",
     "text": [
      "\n",
      "  2%|▏         | 205/10000 [14:55<11:25:28,  4.20s/it]\u001b[A\n",
      "\n",
      "  0%|          | 0/4 [00:00<?, ?it/s]\u001b[A\u001b[A\n",
      "\n",
      " 25%|██▌       | 1/4 [00:00<00:02,  1.27it/s]\u001b[A\u001b[A\n",
      "\n",
      " 50%|█████     | 2/4 [00:01<00:01,  1.30it/s]\u001b[A\u001b[A\n",
      "\n",
      " 75%|███████▌  | 3/4 [00:02<00:00,  1.28it/s]\u001b[A\u001b[A\n",
      "\n",
      "100%|██████████| 4/4 [00:03<00:00,  1.32it/s]\u001b[A\u001b[A\n",
      "\n",
      "  2%|▏         | 206/10000 [14:59<10:56:57,  4.02s/it]\u001b[A\n",
      "\n",
      "  0%|          | 0/4 [00:00<?, ?it/s]\u001b[A\u001b[A\n",
      "\n",
      " 25%|██▌       | 1/4 [00:00<00:02,  1.29it/s]\u001b[A\u001b[A\n",
      "\n",
      " 50%|█████     | 2/4 [00:01<00:01,  1.34it/s]\u001b[A\u001b[A\n",
      "\n",
      " 75%|███████▌  | 3/4 [00:02<00:00,  1.34it/s]\u001b[A\u001b[A\n",
      "\n",
      "100%|██████████| 4/4 [00:02<00:00,  1.37it/s]\u001b[A\u001b[A\n",
      "\n",
      "  2%|▏         | 207/10000 [15:02<10:32:49,  3.88s/it]\u001b[A\n",
      "\n",
      "  0%|          | 0/4 [00:00<?, ?it/s]\u001b[A\u001b[A\n",
      "\n",
      " 25%|██▌       | 1/4 [00:00<00:02,  1.29it/s]\u001b[A\u001b[A\n",
      "\n",
      " 50%|█████     | 2/4 [00:01<00:01,  1.29it/s]\u001b[A\u001b[A\n",
      "\n",
      " 75%|███████▌  | 3/4 [00:02<00:00,  1.28it/s]\u001b[A\u001b[A\n",
      "\n",
      "100%|██████████| 4/4 [00:03<00:00,  1.32it/s]\u001b[A\u001b[A\n"
     ]
    },
    {
     "name": "stdout",
     "output_type": "stream",
     "text": [
      "\n",
      "Epoch: 208, Loss: 0.3847, Val: 0.7116, Test: 0.7124\n"
     ]
    },
    {
     "name": "stderr",
     "output_type": "stream",
     "text": [
      "\n",
      "  2%|▏         | 208/10000 [15:07<10:55:11,  4.01s/it]\u001b[A\n",
      "\n",
      "  0%|          | 0/4 [00:00<?, ?it/s]\u001b[A\u001b[A\n",
      "\n",
      " 25%|██▌       | 1/4 [00:00<00:02,  1.18it/s]\u001b[A\u001b[A\n",
      "\n",
      " 50%|█████     | 2/4 [00:01<00:01,  1.22it/s]\u001b[A\u001b[A\n",
      "\n",
      " 75%|███████▌  | 3/4 [00:02<00:00,  1.20it/s]\u001b[A\u001b[A\n",
      "\n",
      "100%|██████████| 4/4 [00:03<00:00,  1.24it/s]\u001b[A\u001b[A\n"
     ]
    },
    {
     "name": "stdout",
     "output_type": "stream",
     "text": [
      "\n",
      "Epoch: 209, Loss: 0.3853, Val: 0.7116, Test: 0.7124\n"
     ]
    },
    {
     "name": "stderr",
     "output_type": "stream",
     "text": [
      "\n",
      "  2%|▏         | 209/10000 [15:11<11:20:52,  4.17s/it]\u001b[A\n",
      "\n",
      "  0%|          | 0/4 [00:00<?, ?it/s]\u001b[A\u001b[A\n",
      "\n",
      " 25%|██▌       | 1/4 [00:00<00:02,  1.24it/s]\u001b[A\u001b[A\n",
      "\n",
      " 50%|█████     | 2/4 [00:01<00:01,  1.27it/s]\u001b[A\u001b[A\n",
      "\n",
      " 75%|███████▌  | 3/4 [00:02<00:00,  1.30it/s]\u001b[A\u001b[A\n",
      "\n",
      "100%|██████████| 4/4 [00:03<00:00,  1.31it/s]\u001b[A\u001b[A\n"
     ]
    },
    {
     "name": "stdout",
     "output_type": "stream",
     "text": [
      "\n",
      "Epoch: 210, Loss: 0.3848, Val: 0.7119, Test: 0.7123\n"
     ]
    },
    {
     "name": "stderr",
     "output_type": "stream",
     "text": [
      "\n",
      "  2%|▏         | 210/10000 [15:16<11:30:03,  4.23s/it]\u001b[A\n",
      "\n",
      "  0%|          | 0/4 [00:00<?, ?it/s]\u001b[A\u001b[A\n",
      "\n",
      " 25%|██▌       | 1/4 [00:00<00:02,  1.38it/s]\u001b[A\u001b[A\n",
      "\n",
      " 50%|█████     | 2/4 [00:01<00:01,  1.66it/s]\u001b[A\u001b[A\n",
      "\n",
      " 75%|███████▌  | 3/4 [00:02<00:00,  1.48it/s]\u001b[A\u001b[A\n",
      "\n",
      "100%|██████████| 4/4 [00:02<00:00,  1.48it/s]\u001b[A\u001b[A\n"
     ]
    },
    {
     "name": "stdout",
     "output_type": "stream",
     "text": [
      "\n",
      "Epoch: 211, Loss: 0.3846, Val: 0.7120, Test: 0.7123\n"
     ]
    },
    {
     "name": "stderr",
     "output_type": "stream",
     "text": [
      "\n",
      "  2%|▏         | 211/10000 [15:20<11:20:14,  4.17s/it]\u001b[A\n",
      "\n",
      "  0%|          | 0/4 [00:00<?, ?it/s]\u001b[A\u001b[A\n",
      "\n",
      " 25%|██▌       | 1/4 [00:00<00:02,  1.28it/s]\u001b[A\u001b[A\n",
      "\n",
      " 50%|█████     | 2/4 [00:01<00:01,  1.25it/s]\u001b[A\u001b[A\n",
      "\n",
      " 75%|███████▌  | 3/4 [00:02<00:00,  1.25it/s]\u001b[A\u001b[A\n",
      "\n",
      "100%|██████████| 4/4 [00:03<00:00,  1.29it/s]\u001b[A\u001b[A\n",
      "\n",
      "  2%|▏         | 212/10000 [15:23<11:01:42,  4.06s/it]\u001b[A\n",
      "\n",
      "  0%|          | 0/4 [00:00<?, ?it/s]\u001b[A\u001b[A\n",
      "\n",
      " 25%|██▌       | 1/4 [00:00<00:02,  1.21it/s]\u001b[A\u001b[A\n",
      "\n",
      " 50%|█████     | 2/4 [00:01<00:01,  1.18it/s]\u001b[A\u001b[A\n",
      "\n",
      " 75%|███████▌  | 3/4 [00:02<00:00,  1.20it/s]\u001b[A\u001b[A\n",
      "\n",
      "100%|██████████| 4/4 [00:03<00:00,  1.25it/s]\u001b[A\u001b[A\n"
     ]
    },
    {
     "name": "stdout",
     "output_type": "stream",
     "text": [
      "\n",
      "Epoch: 213, Loss: 0.3850, Val: 0.7121, Test: 0.7125\n"
     ]
    },
    {
     "name": "stderr",
     "output_type": "stream",
     "text": [
      "\n",
      "  2%|▏         | 213/10000 [15:28<11:23:57,  4.19s/it]\u001b[A\n",
      "\n",
      "  0%|          | 0/4 [00:00<?, ?it/s]\u001b[A\u001b[A\n",
      "\n",
      " 25%|██▌       | 1/4 [00:00<00:02,  1.26it/s]\u001b[A\u001b[A\n",
      "\n",
      " 50%|█████     | 2/4 [00:01<00:01,  1.30it/s]\u001b[A\u001b[A\n",
      "\n",
      " 75%|███████▌  | 3/4 [00:02<00:00,  1.29it/s]\u001b[A\u001b[A\n",
      "\n",
      "100%|██████████| 4/4 [00:03<00:00,  1.31it/s]\u001b[A\u001b[A\n"
     ]
    },
    {
     "name": "stdout",
     "output_type": "stream",
     "text": [
      "\n",
      "Epoch: 214, Loss: 0.3847, Val: 0.7121, Test: 0.7125\n"
     ]
    },
    {
     "name": "stderr",
     "output_type": "stream",
     "text": [
      "\n",
      "  2%|▏         | 214/10000 [15:32<11:32:49,  4.25s/it]\u001b[A\n",
      "\n",
      "  0%|          | 0/4 [00:00<?, ?it/s]\u001b[A\u001b[A\n",
      "\n",
      " 25%|██▌       | 1/4 [00:00<00:02,  1.24it/s]\u001b[A\u001b[A\n",
      "\n",
      " 50%|█████     | 2/4 [00:01<00:01,  1.23it/s]\u001b[A\u001b[A\n",
      "\n",
      " 75%|███████▌  | 3/4 [00:02<00:00,  1.26it/s]\u001b[A\u001b[A\n",
      "\n",
      "100%|██████████| 4/4 [00:03<00:00,  1.27it/s]\u001b[A\u001b[A\n"
     ]
    },
    {
     "name": "stdout",
     "output_type": "stream",
     "text": [
      "\n",
      "Epoch: 215, Loss: 0.3849, Val: 0.7121, Test: 0.7126\n"
     ]
    },
    {
     "name": "stderr",
     "output_type": "stream",
     "text": [
      "\n",
      "  2%|▏         | 215/10000 [15:37<11:38:33,  4.28s/it]\u001b[A\n",
      "\n",
      "  0%|          | 0/4 [00:00<?, ?it/s]\u001b[A\u001b[A\n",
      "\n",
      " 25%|██▌       | 1/4 [00:00<00:02,  1.24it/s]\u001b[A\u001b[A\n",
      "\n",
      " 50%|█████     | 2/4 [00:01<00:01,  1.20it/s]\u001b[A\u001b[A\n",
      "\n",
      " 75%|███████▌  | 3/4 [00:02<00:00,  1.23it/s]\u001b[A\u001b[A\n",
      "\n",
      "100%|██████████| 4/4 [00:03<00:00,  1.27it/s]\u001b[A\u001b[A\n"
     ]
    },
    {
     "name": "stdout",
     "output_type": "stream",
     "text": [
      "\n",
      "Epoch: 216, Loss: 0.3845, Val: 0.7123, Test: 0.7127\n"
     ]
    },
    {
     "name": "stderr",
     "output_type": "stream",
     "text": [
      "\n",
      "  2%|▏         | 216/10000 [15:41<11:52:01,  4.37s/it]\u001b[A\n",
      "\n",
      "  0%|          | 0/4 [00:00<?, ?it/s]\u001b[A\u001b[A\n",
      "\n",
      " 25%|██▌       | 1/4 [00:00<00:02,  1.21it/s]\u001b[A\u001b[A\n",
      "\n",
      " 50%|█████     | 2/4 [00:01<00:01,  1.23it/s]\u001b[A\u001b[A\n",
      "\n",
      " 75%|███████▌  | 3/4 [00:02<00:00,  1.25it/s]\u001b[A\u001b[A\n",
      "\n",
      "100%|██████████| 4/4 [00:03<00:00,  1.27it/s]\u001b[A\u001b[A\n"
     ]
    },
    {
     "name": "stdout",
     "output_type": "stream",
     "text": [
      "\n",
      "Epoch: 217, Loss: 0.3848, Val: 0.7123, Test: 0.7128\n"
     ]
    },
    {
     "name": "stderr",
     "output_type": "stream",
     "text": [
      "\n",
      "  2%|▏         | 217/10000 [15:46<11:53:18,  4.37s/it]\u001b[A\n",
      "\n",
      "  0%|          | 0/4 [00:00<?, ?it/s]\u001b[A\u001b[A\n",
      "\n",
      " 25%|██▌       | 1/4 [00:00<00:02,  1.29it/s]\u001b[A\u001b[A\n",
      "\n",
      " 50%|█████     | 2/4 [00:01<00:01,  1.31it/s]\u001b[A\u001b[A\n",
      "\n",
      " 75%|███████▌  | 3/4 [00:02<00:00,  1.38it/s]\u001b[A\u001b[A\n",
      "\n",
      "100%|██████████| 4/4 [00:02<00:00,  1.36it/s]\u001b[A\u001b[A\n"
     ]
    },
    {
     "name": "stdout",
     "output_type": "stream",
     "text": [
      "\n",
      "Epoch: 218, Loss: 0.3850, Val: 0.7124, Test: 0.7129\n"
     ]
    },
    {
     "name": "stderr",
     "output_type": "stream",
     "text": [
      "\n",
      "  2%|▏         | 218/10000 [15:50<11:49:44,  4.35s/it]\u001b[A\n",
      "\n",
      "  0%|          | 0/4 [00:00<?, ?it/s]\u001b[A\u001b[A\n",
      "\n",
      " 25%|██▌       | 1/4 [00:00<00:02,  1.23it/s]\u001b[A\u001b[A\n",
      "\n",
      " 50%|█████     | 2/4 [00:01<00:01,  1.20it/s]\u001b[A\u001b[A\n",
      "\n",
      " 75%|███████▌  | 3/4 [00:02<00:00,  1.23it/s]\u001b[A\u001b[A\n",
      "\n",
      "100%|██████████| 4/4 [00:03<00:00,  1.27it/s]\u001b[A\u001b[A\n",
      "\n",
      "  2%|▏         | 219/10000 [15:54<11:21:17,  4.18s/it]\u001b[A\n",
      "\n",
      "  0%|          | 0/4 [00:00<?, ?it/s]\u001b[A\u001b[A\n",
      "\n",
      " 25%|██▌       | 1/4 [00:00<00:02,  1.38it/s]\u001b[A\u001b[A\n",
      "\n",
      " 50%|█████     | 2/4 [00:01<00:01,  1.29it/s]\u001b[A\u001b[A\n",
      "\n",
      " 75%|███████▌  | 3/4 [00:02<00:00,  1.34it/s]\u001b[A\u001b[A\n",
      "\n",
      "100%|██████████| 4/4 [00:02<00:00,  1.35it/s]\u001b[A\u001b[A\n"
     ]
    },
    {
     "name": "stdout",
     "output_type": "stream",
     "text": [
      "\n",
      "Epoch: 220, Loss: 0.3848, Val: 0.7124, Test: 0.7131\n"
     ]
    },
    {
     "name": "stderr",
     "output_type": "stream",
     "text": [
      "\n",
      "  2%|▏         | 220/10000 [15:58<11:34:50,  4.26s/it]\u001b[A\n",
      "\n",
      "  0%|          | 0/4 [00:00<?, ?it/s]\u001b[A\u001b[A\n",
      "\n",
      " 25%|██▌       | 1/4 [00:00<00:02,  1.21it/s]\u001b[A\u001b[A\n",
      "\n",
      " 50%|█████     | 2/4 [00:01<00:01,  1.23it/s]\u001b[A\u001b[A\n",
      "\n",
      " 75%|███████▌  | 3/4 [00:02<00:00,  1.25it/s]\u001b[A\u001b[A\n",
      "\n",
      "100%|██████████| 4/4 [00:03<00:00,  1.29it/s]\u001b[A\u001b[A\n"
     ]
    },
    {
     "name": "stdout",
     "output_type": "stream",
     "text": [
      "\n",
      "Epoch: 221, Loss: 0.3836, Val: 0.7125, Test: 0.7129\n"
     ]
    },
    {
     "name": "stderr",
     "output_type": "stream",
     "text": [
      "\n",
      "  2%|▏         | 221/10000 [16:03<11:45:41,  4.33s/it]\u001b[A\n",
      "\n",
      "  0%|          | 0/4 [00:00<?, ?it/s]\u001b[A\u001b[A\n",
      "\n",
      " 25%|██▌       | 1/4 [00:00<00:02,  1.26it/s]\u001b[A\u001b[A\n",
      "\n",
      " 50%|█████     | 2/4 [00:01<00:01,  1.29it/s]\u001b[A\u001b[A\n",
      "\n",
      " 75%|███████▌  | 3/4 [00:02<00:00,  1.26it/s]\u001b[A\u001b[A\n",
      "\n",
      "100%|██████████| 4/4 [00:03<00:00,  1.31it/s]\u001b[A\u001b[A\n"
     ]
    },
    {
     "name": "stdout",
     "output_type": "stream",
     "text": [
      "\n",
      "Epoch: 222, Loss: 0.3837, Val: 0.7125, Test: 0.7130\n"
     ]
    },
    {
     "name": "stderr",
     "output_type": "stream",
     "text": [
      "\n",
      "  2%|▏         | 222/10000 [16:07<11:49:25,  4.35s/it]\u001b[A\n",
      "\n",
      "  0%|          | 0/4 [00:00<?, ?it/s]\u001b[A\u001b[A\n",
      "\n",
      " 25%|██▌       | 1/4 [00:00<00:02,  1.20it/s]\u001b[A\u001b[A\n",
      "\n",
      " 50%|█████     | 2/4 [00:01<00:01,  1.21it/s]\u001b[A\u001b[A\n",
      "\n",
      " 75%|███████▌  | 3/4 [00:02<00:00,  1.21it/s]\u001b[A\u001b[A\n",
      "\n",
      "100%|██████████| 4/4 [00:03<00:00,  1.27it/s]\u001b[A\u001b[A\n",
      "\n",
      "  2%|▏         | 223/10000 [16:11<11:19:09,  4.17s/it]\u001b[A\n",
      "\n",
      "  0%|          | 0/4 [00:00<?, ?it/s]\u001b[A\u001b[A\n",
      "\n",
      " 25%|██▌       | 1/4 [00:00<00:02,  1.26it/s]\u001b[A\u001b[A\n",
      "\n",
      " 50%|█████     | 2/4 [00:01<00:01,  1.26it/s]\u001b[A\u001b[A\n",
      "\n",
      " 75%|███████▌  | 3/4 [00:02<00:00,  1.25it/s]\u001b[A\u001b[A\n",
      "\n",
      "100%|██████████| 4/4 [00:03<00:00,  1.25it/s]\u001b[A\u001b[A\n",
      "\n",
      "  2%|▏         | 224/10000 [16:15<11:01:55,  4.06s/it]\u001b[A\n",
      "\n",
      "  0%|          | 0/4 [00:00<?, ?it/s]\u001b[A\u001b[A\n",
      "\n",
      " 25%|██▌       | 1/4 [00:00<00:02,  1.23it/s]\u001b[A\u001b[A\n",
      "\n",
      " 50%|█████     | 2/4 [00:01<00:01,  1.20it/s]\u001b[A\u001b[A\n",
      "\n",
      " 75%|███████▌  | 3/4 [00:02<00:00,  1.27it/s]\u001b[A\u001b[A\n",
      "\n",
      "100%|██████████| 4/4 [00:03<00:00,  1.29it/s]\u001b[A\u001b[A\n"
     ]
    },
    {
     "name": "stdout",
     "output_type": "stream",
     "text": [
      "\n",
      "Epoch: 225, Loss: 0.3838, Val: 0.7127, Test: 0.7130\n"
     ]
    },
    {
     "name": "stderr",
     "output_type": "stream",
     "text": [
      "\n",
      "  2%|▏         | 225/10000 [16:19<11:23:35,  4.20s/it]\u001b[A\n",
      "\n",
      "  0%|          | 0/4 [00:00<?, ?it/s]\u001b[A\u001b[A\n",
      "\n",
      " 25%|██▌       | 1/4 [00:00<00:02,  1.27it/s]\u001b[A\u001b[A\n",
      "\n",
      " 50%|█████     | 2/4 [00:01<00:01,  1.19it/s]\u001b[A\u001b[A\n",
      "\n",
      " 75%|███████▌  | 3/4 [00:02<00:00,  1.14it/s]\u001b[A\u001b[A\n",
      "\n",
      "100%|██████████| 4/4 [00:03<00:00,  1.20it/s]\u001b[A\u001b[A\n"
     ]
    },
    {
     "name": "stdout",
     "output_type": "stream",
     "text": [
      "\n",
      "Epoch: 226, Loss: 0.3834, Val: 0.7127, Test: 0.7131\n"
     ]
    },
    {
     "name": "stderr",
     "output_type": "stream",
     "text": [
      "\n",
      "  2%|▏         | 226/10000 [16:24<11:49:59,  4.36s/it]\u001b[A\n",
      "\n",
      "  0%|          | 0/4 [00:00<?, ?it/s]\u001b[A\u001b[A\n",
      "\n",
      " 25%|██▌       | 1/4 [00:00<00:02,  1.16it/s]\u001b[A\u001b[A\n",
      "\n",
      " 50%|█████     | 2/4 [00:01<00:01,  1.22it/s]\u001b[A\u001b[A\n",
      "\n",
      " 75%|███████▌  | 3/4 [00:02<00:00,  1.21it/s]\u001b[A\u001b[A\n",
      "\n",
      "100%|██████████| 4/4 [00:03<00:00,  1.27it/s]\u001b[A\u001b[A\n"
     ]
    },
    {
     "name": "stdout",
     "output_type": "stream",
     "text": [
      "\n",
      "Epoch: 227, Loss: 0.3835, Val: 0.7128, Test: 0.7132\n"
     ]
    },
    {
     "name": "stderr",
     "output_type": "stream",
     "text": [
      "\n",
      "  2%|▏         | 227/10000 [16:28<12:02:25,  4.44s/it]\u001b[A\n",
      "\n",
      "  0%|          | 0/4 [00:00<?, ?it/s]\u001b[A\u001b[A\n",
      "\n",
      " 25%|██▌       | 1/4 [00:00<00:02,  1.21it/s]\u001b[A\u001b[A\n",
      "\n",
      " 50%|█████     | 2/4 [00:01<00:01,  1.20it/s]\u001b[A\u001b[A\n",
      "\n",
      " 75%|███████▌  | 3/4 [00:02<00:00,  1.17it/s]\u001b[A\u001b[A\n",
      "\n",
      "100%|██████████| 4/4 [00:03<00:00,  1.23it/s]\u001b[A\u001b[A\n",
      "\n",
      "  2%|▏         | 228/10000 [16:32<11:35:13,  4.27s/it]\u001b[A\n",
      "\n",
      "  0%|          | 0/4 [00:00<?, ?it/s]\u001b[A\u001b[A\n",
      "\n",
      " 25%|██▌       | 1/4 [00:00<00:02,  1.21it/s]\u001b[A\u001b[A\n",
      "\n",
      " 50%|█████     | 2/4 [00:01<00:01,  1.18it/s]\u001b[A\u001b[A\n",
      "\n",
      " 75%|███████▌  | 3/4 [00:02<00:00,  1.17it/s]\u001b[A\u001b[A\n",
      "\n",
      "100%|██████████| 4/4 [00:03<00:00,  1.23it/s]\u001b[A\u001b[A\n",
      "\n",
      "  2%|▏         | 229/10000 [16:36<11:16:27,  4.15s/it]\u001b[A\n",
      "\n",
      "  0%|          | 0/4 [00:00<?, ?it/s]\u001b[A\u001b[A\n",
      "\n",
      " 25%|██▌       | 1/4 [00:00<00:02,  1.16it/s]\u001b[A\u001b[A\n",
      "\n",
      " 50%|█████     | 2/4 [00:01<00:01,  1.19it/s]\u001b[A\u001b[A\n",
      "\n",
      " 75%|███████▌  | 3/4 [00:02<00:00,  1.23it/s]\u001b[A\u001b[A\n",
      "\n",
      "100%|██████████| 4/4 [00:02<00:00,  1.38it/s]\u001b[A\u001b[A\n",
      "\n",
      "  2%|▏         | 230/10000 [16:40<10:44:02,  3.96s/it]\u001b[A\n",
      "\n",
      "  0%|          | 0/4 [00:00<?, ?it/s]\u001b[A\u001b[A\n",
      "\n",
      " 25%|██▌       | 1/4 [00:00<00:02,  1.30it/s]\u001b[A\u001b[A\n",
      "\n",
      " 50%|█████     | 2/4 [00:01<00:01,  1.28it/s]\u001b[A\u001b[A\n",
      "\n",
      " 75%|███████▌  | 3/4 [00:02<00:00,  1.26it/s]\u001b[A\u001b[A\n",
      "\n",
      "100%|██████████| 4/4 [00:03<00:00,  1.28it/s]\u001b[A\u001b[A\n",
      "\n",
      "  2%|▏         | 231/10000 [16:43<10:37:24,  3.91s/it]\u001b[A\n",
      "\n",
      "  0%|          | 0/4 [00:00<?, ?it/s]\u001b[A\u001b[A\n",
      "\n",
      " 25%|██▌       | 1/4 [00:00<00:02,  1.15it/s]\u001b[A\u001b[A\n",
      "\n",
      " 50%|█████     | 2/4 [00:01<00:01,  1.19it/s]\u001b[A\u001b[A\n",
      "\n",
      " 75%|███████▌  | 3/4 [00:02<00:00,  1.21it/s]\u001b[A\u001b[A\n",
      "\n",
      "100%|██████████| 4/4 [00:03<00:00,  1.24it/s]\u001b[A\u001b[A\n",
      "\n",
      "  2%|▏         | 232/10000 [16:47<10:35:55,  3.91s/it]\u001b[A\n",
      "\n",
      "  0%|          | 0/4 [00:00<?, ?it/s]\u001b[A\u001b[A\n",
      "\n",
      " 25%|██▌       | 1/4 [00:00<00:02,  1.30it/s]\u001b[A\u001b[A\n",
      "\n",
      " 50%|█████     | 2/4 [00:01<00:01,  1.27it/s]\u001b[A\u001b[A\n",
      "\n",
      " 75%|███████▌  | 3/4 [00:02<00:00,  1.28it/s]\u001b[A\u001b[A\n",
      "\n",
      "100%|██████████| 4/4 [00:03<00:00,  1.29it/s]\u001b[A\u001b[A\n"
     ]
    },
    {
     "name": "stdout",
     "output_type": "stream",
     "text": [
      "\n",
      "Epoch: 233, Loss: 0.3828, Val: 0.7128, Test: 0.7130\n"
     ]
    },
    {
     "name": "stderr",
     "output_type": "stream",
     "text": [
      "\n",
      "  2%|▏         | 233/10000 [16:52<11:11:19,  4.12s/it]\u001b[A\n",
      "\n",
      "  0%|          | 0/4 [00:00<?, ?it/s]\u001b[A\u001b[A\n",
      "\n",
      " 25%|██▌       | 1/4 [00:00<00:02,  1.22it/s]\u001b[A\u001b[A\n",
      "\n",
      " 50%|█████     | 2/4 [00:01<00:01,  1.20it/s]\u001b[A\u001b[A\n",
      "\n",
      " 75%|███████▌  | 3/4 [00:02<00:00,  1.19it/s]\u001b[A\u001b[A\n",
      "\n",
      "100%|██████████| 4/4 [00:03<00:00,  1.23it/s]\u001b[A\u001b[A\n"
     ]
    },
    {
     "name": "stdout",
     "output_type": "stream",
     "text": [
      "\n",
      "Epoch: 234, Loss: 0.3829, Val: 0.7130, Test: 0.7131\n"
     ]
    },
    {
     "name": "stderr",
     "output_type": "stream",
     "text": [
      "\n",
      "  2%|▏         | 234/10000 [16:57<11:37:10,  4.28s/it]\u001b[A\n",
      "\n",
      "  0%|          | 0/4 [00:00<?, ?it/s]\u001b[A\u001b[A\n",
      "\n",
      " 25%|██▌       | 1/4 [00:00<00:02,  1.33it/s]\u001b[A\u001b[A\n",
      "\n",
      " 50%|█████     | 2/4 [00:01<00:01,  1.24it/s]\u001b[A\u001b[A\n",
      "\n",
      " 75%|███████▌  | 3/4 [00:02<00:00,  1.23it/s]\u001b[A\u001b[A\n",
      "\n",
      "100%|██████████| 4/4 [00:03<00:00,  1.27it/s]\u001b[A\u001b[A\n"
     ]
    },
    {
     "name": "stdout",
     "output_type": "stream",
     "text": [
      "\n",
      "Epoch: 235, Loss: 0.3831, Val: 0.7130, Test: 0.7132\n"
     ]
    },
    {
     "name": "stderr",
     "output_type": "stream",
     "text": [
      "\n",
      "  2%|▏         | 235/10000 [17:01<11:50:21,  4.36s/it]\u001b[A\n",
      "\n",
      "  0%|          | 0/4 [00:00<?, ?it/s]\u001b[A\u001b[A\n",
      "\n",
      " 25%|██▌       | 1/4 [00:00<00:02,  1.19it/s]\u001b[A\u001b[A\n",
      "\n",
      " 50%|█████     | 2/4 [00:01<00:01,  1.18it/s]\u001b[A\u001b[A\n",
      "\n",
      " 75%|███████▌  | 3/4 [00:02<00:00,  1.21it/s]\u001b[A\u001b[A\n",
      "\n",
      "100%|██████████| 4/4 [00:03<00:00,  1.25it/s]\u001b[A\u001b[A\n"
     ]
    },
    {
     "name": "stdout",
     "output_type": "stream",
     "text": [
      "\n",
      "Epoch: 236, Loss: 0.3834, Val: 0.7131, Test: 0.7133\n"
     ]
    },
    {
     "name": "stderr",
     "output_type": "stream",
     "text": [
      "\n",
      "  2%|▏         | 236/10000 [17:06<12:03:13,  4.44s/it]\u001b[A\n",
      "\n",
      "  0%|          | 0/4 [00:00<?, ?it/s]\u001b[A\u001b[A\n",
      "\n",
      " 25%|██▌       | 1/4 [00:00<00:02,  1.26it/s]\u001b[A\u001b[A\n",
      "\n",
      " 50%|█████     | 2/4 [00:01<00:01,  1.22it/s]\u001b[A\u001b[A\n",
      "\n",
      " 75%|███████▌  | 3/4 [00:02<00:00,  1.18it/s]\u001b[A\u001b[A\n",
      "\n",
      "100%|██████████| 4/4 [00:03<00:00,  1.24it/s]\u001b[A\u001b[A\n"
     ]
    },
    {
     "name": "stdout",
     "output_type": "stream",
     "text": [
      "\n",
      "Epoch: 237, Loss: 0.3823, Val: 0.7132, Test: 0.7132\n"
     ]
    },
    {
     "name": "stderr",
     "output_type": "stream",
     "text": [
      "\n",
      "  2%|▏         | 237/10000 [17:10<12:12:50,  4.50s/it]\u001b[A\n",
      "\n",
      "  0%|          | 0/4 [00:00<?, ?it/s]\u001b[A\u001b[A\n",
      "\n",
      " 25%|██▌       | 1/4 [00:00<00:02,  1.35it/s]\u001b[A\u001b[A\n",
      "\n",
      " 50%|█████     | 2/4 [00:01<00:01,  1.29it/s]\u001b[A\u001b[A\n",
      "\n",
      " 75%|███████▌  | 3/4 [00:02<00:00,  1.15it/s]\u001b[A\u001b[A\n",
      "\n",
      "100%|██████████| 4/4 [00:03<00:00,  1.20it/s]\u001b[A\u001b[A\n"
     ]
    },
    {
     "name": "stdout",
     "output_type": "stream",
     "text": [
      "\n",
      "Epoch: 238, Loss: 0.3824, Val: 0.7133, Test: 0.7132\n"
     ]
    },
    {
     "name": "stderr",
     "output_type": "stream",
     "text": [
      "\n",
      "  2%|▏         | 238/10000 [17:15<12:28:38,  4.60s/it]\u001b[A\n",
      "\n",
      "  0%|          | 0/4 [00:00<?, ?it/s]\u001b[A\u001b[A\n",
      "\n",
      " 25%|██▌       | 1/4 [00:01<00:03,  1.07s/it]\u001b[A\u001b[A\n",
      "\n",
      " 50%|█████     | 2/4 [00:02<00:02,  1.07s/it]\u001b[A\u001b[A\n",
      "\n",
      " 75%|███████▌  | 3/4 [00:03<00:00,  1.01it/s]\u001b[A\u001b[A\n",
      "\n",
      "100%|██████████| 4/4 [00:03<00:00,  1.06it/s]\u001b[A\u001b[A\n"
     ]
    },
    {
     "name": "stdout",
     "output_type": "stream",
     "text": [
      "\n",
      "Epoch: 239, Loss: 0.3825, Val: 0.7133, Test: 0.7133\n"
     ]
    },
    {
     "name": "stderr",
     "output_type": "stream",
     "text": [
      "\n",
      "  2%|▏         | 239/10000 [17:21<13:00:41,  4.80s/it]\u001b[A\n",
      "\n",
      "  0%|          | 0/4 [00:00<?, ?it/s]\u001b[A\u001b[A\n",
      "\n",
      " 25%|██▌       | 1/4 [00:01<00:03,  1.09s/it]\u001b[A\u001b[A\n",
      "\n",
      " 50%|█████     | 2/4 [00:01<00:01,  1.05it/s]\u001b[A\u001b[A\n",
      "\n",
      " 75%|███████▌  | 3/4 [00:02<00:00,  1.12it/s]\u001b[A\u001b[A\n",
      "\n",
      "100%|██████████| 4/4 [00:03<00:00,  1.13it/s]\u001b[A\u001b[A\n"
     ]
    },
    {
     "name": "stdout",
     "output_type": "stream",
     "text": [
      "\n",
      "Epoch: 240, Loss: 0.3816, Val: 0.7133, Test: 0.7133\n"
     ]
    },
    {
     "name": "stderr",
     "output_type": "stream",
     "text": [
      "\n",
      "  2%|▏         | 240/10000 [17:26<13:08:32,  4.85s/it]\u001b[A\n",
      "\n",
      "  0%|          | 0/4 [00:00<?, ?it/s]\u001b[A\u001b[A\n",
      "\n",
      " 25%|██▌       | 1/4 [00:00<00:02,  1.18it/s]\u001b[A\u001b[A\n",
      "\n",
      " 50%|█████     | 2/4 [00:01<00:01,  1.22it/s]\u001b[A\u001b[A\n",
      "\n",
      " 75%|███████▌  | 3/4 [00:02<00:00,  1.25it/s]\u001b[A\u001b[A\n",
      "\n",
      "100%|██████████| 4/4 [00:03<00:00,  1.27it/s]\u001b[A\u001b[A\n"
     ]
    },
    {
     "name": "stdout",
     "output_type": "stream",
     "text": [
      "\n",
      "Epoch: 241, Loss: 0.3826, Val: 0.7134, Test: 0.7132\n"
     ]
    },
    {
     "name": "stderr",
     "output_type": "stream",
     "text": [
      "\n",
      "  2%|▏         | 241/10000 [17:30<12:52:29,  4.75s/it]\u001b[A\n",
      "\n",
      "  0%|          | 0/4 [00:00<?, ?it/s]\u001b[A\u001b[A\n",
      "\n",
      " 25%|██▌       | 1/4 [00:00<00:02,  1.31it/s]\u001b[A\u001b[A\n",
      "\n",
      " 50%|█████     | 2/4 [00:01<00:01,  1.24it/s]\u001b[A\u001b[A\n",
      "\n",
      " 75%|███████▌  | 3/4 [00:02<00:00,  1.26it/s]\u001b[A\u001b[A\n",
      "\n",
      "100%|██████████| 4/4 [00:03<00:00,  1.30it/s]\u001b[A\u001b[A\n",
      "\n",
      "  2%|▏         | 242/10000 [17:34<11:59:37,  4.42s/it]\u001b[A\n",
      "\n",
      "  0%|          | 0/4 [00:00<?, ?it/s]\u001b[A\u001b[A\n",
      "\n",
      " 25%|██▌       | 1/4 [00:00<00:02,  1.34it/s]\u001b[A\u001b[A\n",
      "\n",
      " 50%|█████     | 2/4 [00:01<00:01,  1.34it/s]\u001b[A\u001b[A\n",
      "\n",
      " 75%|███████▌  | 3/4 [00:02<00:00,  1.34it/s]\u001b[A\u001b[A\n",
      "\n",
      "100%|██████████| 4/4 [00:02<00:00,  1.35it/s]\u001b[A\u001b[A\n",
      "\n",
      "  2%|▏         | 243/10000 [17:37<11:12:17,  4.13s/it]\u001b[A\n",
      "\n",
      "  0%|          | 0/4 [00:00<?, ?it/s]\u001b[A\u001b[A\n",
      "\n",
      " 25%|██▌       | 1/4 [00:00<00:01,  2.71it/s]\u001b[A\u001b[A\n",
      "\n",
      " 50%|█████     | 2/4 [00:01<00:01,  1.50it/s]\u001b[A\u001b[A\n",
      "\n",
      " 75%|███████▌  | 3/4 [00:02<00:00,  1.39it/s]\u001b[A\u001b[A\n",
      "\n",
      "100%|██████████| 4/4 [00:02<00:00,  1.45it/s]\u001b[A\u001b[A\n",
      "\n",
      "  2%|▏         | 244/10000 [17:40<10:29:52,  3.87s/it]\u001b[A\n",
      "\n",
      "  0%|          | 0/4 [00:00<?, ?it/s]\u001b[A\u001b[A\n",
      "\n",
      " 25%|██▌       | 1/4 [00:00<00:00,  3.88it/s]\u001b[A\u001b[A\n",
      "\n",
      " 50%|█████     | 2/4 [00:01<00:01,  1.81it/s]\u001b[A\u001b[A\n",
      "\n",
      " 75%|███████▌  | 3/4 [00:01<00:00,  1.50it/s]\u001b[A\u001b[A\n",
      "\n",
      "100%|██████████| 4/4 [00:02<00:00,  1.51it/s]\u001b[A\u001b[A\n",
      "\n",
      "  2%|▏         | 245/10000 [17:44<10:00:14,  3.69s/it]\u001b[A\n",
      "\n",
      "  0%|          | 0/4 [00:00<?, ?it/s]\u001b[A\u001b[A\n",
      "\n",
      " 25%|██▌       | 1/4 [00:00<00:02,  1.18it/s]\u001b[A\u001b[A\n",
      "\n",
      " 50%|█████     | 2/4 [00:01<00:01,  1.22it/s]\u001b[A\u001b[A\n",
      "\n",
      " 75%|███████▌  | 3/4 [00:02<00:00,  1.43it/s]\u001b[A\u001b[A\n",
      "\n",
      "100%|██████████| 4/4 [00:02<00:00,  1.37it/s]\u001b[A\u001b[A\n",
      "\n",
      "  2%|▏         | 246/10000 [17:47<9:53:04,  3.65s/it] \u001b[A\n",
      "\n",
      "  0%|          | 0/4 [00:00<?, ?it/s]\u001b[A\u001b[A\n",
      "\n",
      " 25%|██▌       | 1/4 [00:00<00:02,  1.28it/s]\u001b[A\u001b[A\n",
      "\n",
      " 50%|█████     | 2/4 [00:01<00:01,  1.19it/s]\u001b[A\u001b[A\n",
      "\n",
      " 75%|███████▌  | 3/4 [00:02<00:00,  1.20it/s]\u001b[A\u001b[A\n",
      "\n",
      "100%|██████████| 4/4 [00:03<00:00,  1.23it/s]\u001b[A\u001b[A\n",
      "\n",
      "  2%|▏         | 247/10000 [17:51<10:05:06,  3.72s/it]\u001b[A\n",
      "\n",
      "  0%|          | 0/4 [00:00<?, ?it/s]\u001b[A\u001b[A\n",
      "\n",
      " 25%|██▌       | 1/4 [00:00<00:02,  1.18it/s]\u001b[A\u001b[A\n",
      "\n",
      " 50%|█████     | 2/4 [00:01<00:01,  1.14it/s]\u001b[A\u001b[A\n",
      "\n",
      " 75%|███████▌  | 3/4 [00:02<00:00,  1.17it/s]\u001b[A\u001b[A\n",
      "\n",
      "100%|██████████| 4/4 [00:03<00:00,  1.19it/s]\u001b[A\u001b[A\n",
      "\n",
      "  2%|▏         | 248/10000 [17:55<10:19:10,  3.81s/it]\u001b[A\n",
      "\n",
      "  0%|          | 0/4 [00:00<?, ?it/s]\u001b[A\u001b[A\n",
      "\n",
      " 25%|██▌       | 1/4 [00:00<00:02,  1.12it/s]\u001b[A\u001b[A\n",
      "\n",
      " 50%|█████     | 2/4 [00:01<00:01,  1.16it/s]\u001b[A\u001b[A\n",
      "\n",
      " 75%|███████▌  | 3/4 [00:02<00:00,  1.16it/s]\u001b[A\u001b[A\n",
      "\n",
      "100%|██████████| 4/4 [00:03<00:00,  1.20it/s]\u001b[A\u001b[A\n",
      "\n",
      "  2%|▏         | 249/10000 [17:59<10:25:17,  3.85s/it]\u001b[A\n",
      "\n",
      "  0%|          | 0/4 [00:00<?, ?it/s]\u001b[A\u001b[A\n",
      "\n",
      " 25%|██▌       | 1/4 [00:00<00:02,  1.20it/s]\u001b[A\u001b[A\n",
      "\n",
      " 50%|█████     | 2/4 [00:01<00:01,  1.17it/s]\u001b[A\u001b[A\n",
      "\n",
      " 75%|███████▌  | 3/4 [00:02<00:00,  1.16it/s]\u001b[A\u001b[A\n",
      "\n",
      "100%|██████████| 4/4 [00:03<00:00,  1.21it/s]\u001b[A\u001b[A\n",
      "\n",
      "  2%|▎         | 250/10000 [18:03<10:27:49,  3.86s/it]\u001b[A\n",
      "\n",
      "  0%|          | 0/4 [00:00<?, ?it/s]\u001b[A\u001b[A\n",
      "\n",
      " 25%|██▌       | 1/4 [00:00<00:02,  1.30it/s]\u001b[A\u001b[A\n",
      "\n",
      " 50%|█████     | 2/4 [00:01<00:01,  1.28it/s]\u001b[A\u001b[A\n",
      "\n",
      " 75%|███████▌  | 3/4 [00:02<00:00,  1.29it/s]\u001b[A\u001b[A\n",
      "\n",
      "100%|██████████| 4/4 [00:03<00:00,  1.30it/s]\u001b[A\u001b[A\n",
      "\n",
      "  3%|▎         | 251/10000 [18:07<10:18:57,  3.81s/it]\u001b[A\n",
      "\n",
      "  0%|          | 0/4 [00:00<?, ?it/s]\u001b[A\u001b[A\n",
      "\n",
      " 25%|██▌       | 1/4 [00:00<00:02,  1.07it/s]\u001b[A\u001b[A\n",
      "\n",
      " 50%|█████     | 2/4 [00:01<00:01,  1.10it/s]\u001b[A\u001b[A\n",
      "\n",
      " 75%|███████▌  | 3/4 [00:02<00:00,  1.15it/s]\u001b[A\u001b[A\n",
      "\n",
      "100%|██████████| 4/4 [00:03<00:00,  1.17it/s]\u001b[A\u001b[A\n"
     ]
    },
    {
     "name": "stdout",
     "output_type": "stream",
     "text": [
      "\n",
      "Epoch: 252, Loss: 0.3811, Val: 0.7135, Test: 0.7134\n"
     ]
    },
    {
     "name": "stderr",
     "output_type": "stream",
     "text": [
      "\n",
      "  3%|▎         | 252/10000 [18:12<11:12:17,  4.14s/it]\u001b[A\n",
      "\n",
      "  0%|          | 0/4 [00:00<?, ?it/s]\u001b[A\u001b[A\n",
      "\n",
      " 25%|██▌       | 1/4 [00:00<00:02,  1.03it/s]\u001b[A\u001b[A\n",
      "\n",
      " 50%|█████     | 2/4 [00:01<00:01,  1.09it/s]\u001b[A\u001b[A\n",
      "\n",
      " 75%|███████▌  | 3/4 [00:02<00:00,  1.10it/s]\u001b[A\u001b[A\n",
      "\n",
      "100%|██████████| 4/4 [00:03<00:00,  1.14it/s]\u001b[A\u001b[A\n",
      "\n",
      "  3%|▎         | 253/10000 [18:16<11:10:17,  4.13s/it]\u001b[A\n",
      "\n",
      "  0%|          | 0/4 [00:00<?, ?it/s]\u001b[A\u001b[A\n",
      "\n",
      " 25%|██▌       | 1/4 [00:00<00:02,  1.26it/s]\u001b[A\u001b[A\n",
      "\n",
      " 50%|█████     | 2/4 [00:01<00:01,  1.20it/s]\u001b[A\u001b[A\n",
      "\n",
      " 75%|███████▌  | 3/4 [00:02<00:00,  1.23it/s]\u001b[A\u001b[A\n",
      "\n",
      "100%|██████████| 4/4 [00:03<00:00,  1.23it/s]\u001b[A\u001b[A\n"
     ]
    },
    {
     "name": "stdout",
     "output_type": "stream",
     "text": [
      "\n",
      "Epoch: 254, Loss: 0.3814, Val: 0.7136, Test: 0.7135\n"
     ]
    },
    {
     "name": "stderr",
     "output_type": "stream",
     "text": [
      "\n",
      "  3%|▎         | 254/10000 [18:20<11:34:32,  4.28s/it]\u001b[A\n",
      "\n",
      "  0%|          | 0/4 [00:00<?, ?it/s]\u001b[A\u001b[A\n",
      "\n",
      " 25%|██▌       | 1/4 [00:00<00:02,  1.11it/s]\u001b[A\u001b[A\n",
      "\n",
      " 50%|█████     | 2/4 [00:01<00:01,  1.18it/s]\u001b[A\u001b[A\n",
      "\n",
      " 75%|███████▌  | 3/4 [00:02<00:00,  1.17it/s]\u001b[A\u001b[A\n",
      "\n",
      "100%|██████████| 4/4 [00:03<00:00,  1.20it/s]\u001b[A\u001b[A\n"
     ]
    },
    {
     "name": "stdout",
     "output_type": "stream",
     "text": [
      "\n",
      "Epoch: 255, Loss: 0.3809, Val: 0.7136, Test: 0.7134\n"
     ]
    },
    {
     "name": "stderr",
     "output_type": "stream",
     "text": [
      "\n",
      "  3%|▎         | 255/10000 [18:25<11:59:45,  4.43s/it]\u001b[A\n",
      "\n",
      "  0%|          | 0/4 [00:00<?, ?it/s]\u001b[A\u001b[A\n",
      "\n",
      " 25%|██▌       | 1/4 [00:00<00:02,  1.12it/s]\u001b[A\u001b[A\n",
      "\n",
      " 50%|█████     | 2/4 [00:01<00:01,  1.17it/s]\u001b[A\u001b[A\n",
      "\n",
      " 75%|███████▌  | 3/4 [00:02<00:00,  1.16it/s]\u001b[A\u001b[A\n",
      "\n",
      "100%|██████████| 4/4 [00:03<00:00,  1.21it/s]\u001b[A\u001b[A\n",
      "\n",
      "  3%|▎         | 256/10000 [18:29<11:34:31,  4.28s/it]\u001b[A\n",
      "\n",
      "  0%|          | 0/4 [00:00<?, ?it/s]\u001b[A\u001b[A\n",
      "\n",
      " 25%|██▌       | 1/4 [00:00<00:02,  1.14it/s]\u001b[A\u001b[A\n",
      "\n",
      " 50%|█████     | 2/4 [00:01<00:01,  1.16it/s]\u001b[A\u001b[A\n",
      "\n",
      " 75%|███████▌  | 3/4 [00:02<00:00,  1.21it/s]\u001b[A\u001b[A\n",
      "\n",
      "100%|██████████| 4/4 [00:03<00:00,  1.24it/s]\u001b[A\u001b[A\n"
     ]
    },
    {
     "name": "stdout",
     "output_type": "stream",
     "text": [
      "\n",
      "Epoch: 257, Loss: 0.3817, Val: 0.7138, Test: 0.7136\n"
     ]
    },
    {
     "name": "stderr",
     "output_type": "stream",
     "text": [
      "\n",
      "  3%|▎         | 257/10000 [18:34<11:53:43,  4.40s/it]\u001b[A\n",
      "\n",
      "  0%|          | 0/4 [00:00<?, ?it/s]\u001b[A\u001b[A\n",
      "\n",
      " 25%|██▌       | 1/4 [00:00<00:02,  1.18it/s]\u001b[A\u001b[A\n",
      "\n",
      " 50%|█████     | 2/4 [00:01<00:01,  1.16it/s]\u001b[A\u001b[A\n",
      "\n",
      " 75%|███████▌  | 3/4 [00:02<00:00,  1.21it/s]\u001b[A\u001b[A\n",
      "\n",
      "100%|██████████| 4/4 [00:03<00:00,  1.22it/s]\u001b[A\u001b[A\n",
      "\n",
      "  3%|▎         | 258/10000 [18:38<11:31:15,  4.26s/it]\u001b[A\n",
      "\n",
      "  0%|          | 0/4 [00:00<?, ?it/s]\u001b[A\u001b[A\n",
      "\n",
      " 25%|██▌       | 1/4 [00:00<00:02,  1.19it/s]\u001b[A\u001b[A\n",
      "\n",
      " 50%|█████     | 2/4 [00:01<00:01,  1.27it/s]\u001b[A\u001b[A\n",
      "\n",
      " 75%|███████▌  | 3/4 [00:02<00:00,  1.20it/s]\u001b[A\u001b[A\n",
      "\n",
      "100%|██████████| 4/4 [00:03<00:00,  1.22it/s]\u001b[A\u001b[A\n",
      "\n",
      "  3%|▎         | 259/10000 [18:42<11:13:14,  4.15s/it]\u001b[A\n",
      "\n",
      "  0%|          | 0/4 [00:00<?, ?it/s]\u001b[A\u001b[A\n",
      "\n",
      " 25%|██▌       | 1/4 [00:00<00:02,  1.23it/s]\u001b[A\u001b[A\n",
      "\n",
      " 50%|█████     | 2/4 [00:01<00:01,  1.18it/s]\u001b[A\u001b[A\n",
      "\n",
      " 75%|███████▌  | 3/4 [00:02<00:00,  1.16it/s]\u001b[A\u001b[A\n",
      "\n",
      "100%|██████████| 4/4 [00:03<00:00,  1.19it/s]\u001b[A\u001b[A\n",
      "\n",
      "  3%|▎         | 260/10000 [18:45<11:04:06,  4.09s/it]\u001b[A\n",
      "\n",
      "  0%|          | 0/4 [00:00<?, ?it/s]\u001b[A\u001b[A\n",
      "\n",
      " 25%|██▌       | 1/4 [00:00<00:02,  1.21it/s]\u001b[A\u001b[A\n",
      "\n",
      " 50%|█████     | 2/4 [00:01<00:01,  1.28it/s]\u001b[A\u001b[A\n",
      "\n",
      " 75%|███████▌  | 3/4 [00:02<00:00,  1.24it/s]\u001b[A\u001b[A\n",
      "\n",
      "100%|██████████| 4/4 [00:03<00:00,  1.26it/s]\u001b[A\u001b[A\n"
     ]
    },
    {
     "name": "stdout",
     "output_type": "stream",
     "text": [
      "\n",
      "Epoch: 261, Loss: 0.3811, Val: 0.7138, Test: 0.7140\n"
     ]
    },
    {
     "name": "stderr",
     "output_type": "stream",
     "text": [
      "\n",
      "  3%|▎         | 261/10000 [18:50<11:28:12,  4.24s/it]\u001b[A\n",
      "\n",
      "  0%|          | 0/4 [00:00<?, ?it/s]\u001b[A\u001b[A\n",
      "\n",
      " 25%|██▌       | 1/4 [00:00<00:02,  1.20it/s]\u001b[A\u001b[A\n",
      "\n",
      " 50%|█████     | 2/4 [00:01<00:01,  1.23it/s]\u001b[A\u001b[A\n",
      "\n",
      " 75%|███████▌  | 3/4 [00:02<00:00,  1.24it/s]\u001b[A\u001b[A\n",
      "\n",
      "100%|██████████| 4/4 [00:03<00:00,  1.26it/s]\u001b[A\u001b[A\n"
     ]
    },
    {
     "name": "stdout",
     "output_type": "stream",
     "text": [
      "\n",
      "Epoch: 262, Loss: 0.3808, Val: 0.7139, Test: 0.7140\n"
     ]
    },
    {
     "name": "stderr",
     "output_type": "stream",
     "text": [
      "\n",
      "  3%|▎         | 262/10000 [18:55<11:45:02,  4.34s/it]\u001b[A\n",
      "\n",
      "  0%|          | 0/4 [00:00<?, ?it/s]\u001b[A\u001b[A\n",
      "\n",
      " 25%|██▌       | 1/4 [00:00<00:02,  1.17it/s]\u001b[A\u001b[A\n",
      "\n",
      " 50%|█████     | 2/4 [00:01<00:01,  1.17it/s]\u001b[A\u001b[A\n",
      "\n",
      " 75%|███████▌  | 3/4 [00:02<00:00,  1.18it/s]\u001b[A\u001b[A\n",
      "\n",
      "100%|██████████| 4/4 [00:03<00:00,  1.23it/s]\u001b[A\u001b[A\n",
      "\n",
      "  3%|▎         | 263/10000 [18:59<11:22:56,  4.21s/it]\u001b[A\n",
      "\n",
      "  0%|          | 0/4 [00:00<?, ?it/s]\u001b[A\u001b[A\n",
      "\n",
      " 25%|██▌       | 1/4 [00:00<00:02,  1.39it/s]\u001b[A\u001b[A\n",
      "\n",
      " 50%|█████     | 2/4 [00:01<00:01,  1.29it/s]\u001b[A\u001b[A\n",
      "\n",
      " 75%|███████▌  | 3/4 [00:02<00:00,  1.28it/s]\u001b[A\u001b[A\n",
      "\n",
      "100%|██████████| 4/4 [00:03<00:00,  1.32it/s]\u001b[A\u001b[A\n",
      "\n",
      "  3%|▎         | 264/10000 [19:02<10:54:42,  4.03s/it]\u001b[A\n",
      "\n",
      "  0%|          | 0/4 [00:00<?, ?it/s]\u001b[A\u001b[A\n",
      "\n",
      " 25%|██▌       | 1/4 [00:00<00:02,  1.27it/s]\u001b[A\u001b[A\n",
      "\n",
      " 50%|█████     | 2/4 [00:01<00:01,  1.19it/s]\u001b[A\u001b[A\n",
      "\n",
      " 75%|███████▌  | 3/4 [00:02<00:00,  1.16it/s]\u001b[A\u001b[A\n",
      "\n",
      "100%|██████████| 4/4 [00:03<00:00,  1.20it/s]\u001b[A\u001b[A\n",
      "\n",
      "  3%|▎         | 265/10000 [19:06<10:52:27,  4.02s/it]\u001b[A\n",
      "\n",
      "  0%|          | 0/4 [00:00<?, ?it/s]\u001b[A\u001b[A\n",
      "\n",
      " 25%|██▌       | 1/4 [00:00<00:02,  1.38it/s]\u001b[A\u001b[A\n",
      "\n",
      " 50%|█████     | 2/4 [00:01<00:01,  1.29it/s]\u001b[A\u001b[A\n",
      "\n",
      " 75%|███████▌  | 3/4 [00:02<00:00,  1.34it/s]\u001b[A\u001b[A\n",
      "\n",
      "100%|██████████| 4/4 [00:03<00:00,  1.33it/s]\u001b[A\u001b[A\n",
      "\n",
      "  3%|▎         | 266/10000 [19:10<10:34:18,  3.91s/it]\u001b[A\n",
      "\n",
      "  0%|          | 0/4 [00:00<?, ?it/s]\u001b[A\u001b[A\n",
      "\n",
      " 25%|██▌       | 1/4 [00:00<00:02,  1.22it/s]\u001b[A\u001b[A\n",
      "\n",
      " 50%|█████     | 2/4 [00:01<00:01,  1.22it/s]\u001b[A\u001b[A\n",
      "\n",
      " 75%|███████▌  | 3/4 [00:02<00:00,  1.24it/s]\u001b[A\u001b[A\n",
      "\n",
      "100%|██████████| 4/4 [00:03<00:00,  1.30it/s]\u001b[A\u001b[A\n",
      "\n",
      "  3%|▎         | 267/10000 [19:14<10:25:20,  3.86s/it]\u001b[A\n",
      "\n",
      "  0%|          | 0/4 [00:00<?, ?it/s]\u001b[A\u001b[A\n",
      "\n",
      " 25%|██▌       | 1/4 [00:00<00:02,  1.20it/s]\u001b[A\u001b[A\n",
      "\n",
      " 50%|█████     | 2/4 [00:01<00:01,  1.24it/s]\u001b[A\u001b[A\n",
      "\n",
      " 75%|███████▌  | 3/4 [00:02<00:00,  1.24it/s]\u001b[A\u001b[A\n",
      "\n",
      "100%|██████████| 4/4 [00:03<00:00,  1.26it/s]\u001b[A\u001b[A\n"
     ]
    },
    {
     "name": "stdout",
     "output_type": "stream",
     "text": [
      "\n",
      "Epoch: 268, Loss: 0.3801, Val: 0.7140, Test: 0.7139\n"
     ]
    },
    {
     "name": "stderr",
     "output_type": "stream",
     "text": [
      "\n",
      "  3%|▎         | 268/10000 [19:18<11:00:57,  4.07s/it]\u001b[A\n",
      "\n",
      "  0%|          | 0/4 [00:00<?, ?it/s]\u001b[A\u001b[A\n",
      "\n",
      " 25%|██▌       | 1/4 [00:00<00:02,  1.19it/s]\u001b[A\u001b[A\n",
      "\n",
      " 50%|█████     | 2/4 [00:01<00:01,  1.20it/s]\u001b[A\u001b[A\n",
      "\n",
      " 75%|███████▌  | 3/4 [00:02<00:00,  1.22it/s]\u001b[A\u001b[A\n",
      "\n",
      "100%|██████████| 4/4 [00:03<00:00,  1.26it/s]\u001b[A\u001b[A\n",
      "\n",
      "  3%|▎         | 269/10000 [19:22<10:49:03,  4.00s/it]\u001b[A\n",
      "\n",
      "  0%|          | 0/4 [00:00<?, ?it/s]\u001b[A\u001b[A\n",
      "\n",
      " 25%|██▌       | 1/4 [00:00<00:02,  1.25it/s]\u001b[A\u001b[A\n",
      "\n",
      " 50%|█████     | 2/4 [00:01<00:01,  1.27it/s]\u001b[A\u001b[A\n",
      "\n",
      " 75%|███████▌  | 3/4 [00:02<00:00,  1.26it/s]\u001b[A\u001b[A\n",
      "\n",
      "100%|██████████| 4/4 [00:03<00:00,  1.30it/s]\u001b[A\u001b[A\n",
      "\n",
      "  3%|▎         | 270/10000 [19:26<10:32:52,  3.90s/it]\u001b[A\n",
      "\n",
      "  0%|          | 0/4 [00:00<?, ?it/s]\u001b[A\u001b[A\n",
      "\n",
      " 25%|██▌       | 1/4 [00:00<00:02,  1.33it/s]\u001b[A\u001b[A\n",
      "\n",
      " 50%|█████     | 2/4 [00:01<00:01,  1.28it/s]\u001b[A\u001b[A\n",
      "\n",
      " 75%|███████▌  | 3/4 [00:02<00:00,  1.28it/s]\u001b[A\u001b[A\n",
      "\n",
      "100%|██████████| 4/4 [00:03<00:00,  1.32it/s]\u001b[A\u001b[A\n",
      "\n",
      "  3%|▎         | 271/10000 [19:29<10:20:53,  3.83s/it]\u001b[A\n",
      "\n",
      "  0%|          | 0/4 [00:00<?, ?it/s]\u001b[A\u001b[A\n",
      "\n",
      " 25%|██▌       | 1/4 [00:00<00:02,  1.28it/s]\u001b[A\u001b[A\n",
      "\n",
      " 50%|█████     | 2/4 [00:01<00:01,  1.31it/s]\u001b[A\u001b[A\n",
      "\n",
      " 75%|███████▌  | 3/4 [00:02<00:00,  1.27it/s]\u001b[A\u001b[A\n",
      "\n",
      "100%|██████████| 4/4 [00:03<00:00,  1.32it/s]\u001b[A\u001b[A\n",
      "\n",
      "  3%|▎         | 272/10000 [19:33<10:13:59,  3.79s/it]\u001b[A\n",
      "\n",
      "  0%|          | 0/4 [00:00<?, ?it/s]\u001b[A\u001b[A\n",
      "\n",
      " 25%|██▌       | 1/4 [00:00<00:02,  1.32it/s]\u001b[A\u001b[A\n",
      "\n",
      " 50%|█████     | 2/4 [00:01<00:01,  1.32it/s]\u001b[A\u001b[A\n",
      "\n",
      " 75%|███████▌  | 3/4 [00:02<00:00,  1.32it/s]\u001b[A\u001b[A\n",
      "\n",
      "100%|██████████| 4/4 [00:02<00:00,  1.37it/s]\u001b[A\u001b[A\n",
      "\n",
      "  3%|▎         | 273/10000 [19:36<10:00:48,  3.71s/it]\u001b[A\n",
      "\n",
      "  0%|          | 0/4 [00:00<?, ?it/s]\u001b[A\u001b[A\n",
      "\n",
      " 25%|██▌       | 1/4 [00:00<00:02,  1.30it/s]\u001b[A\u001b[A\n",
      "\n",
      " 50%|█████     | 2/4 [00:01<00:01,  1.26it/s]\u001b[A\u001b[A\n",
      "\n",
      " 75%|███████▌  | 3/4 [00:02<00:00,  1.26it/s]\u001b[A\u001b[A\n",
      "\n",
      "100%|██████████| 4/4 [00:03<00:00,  1.31it/s]\u001b[A\u001b[A\n",
      "\n",
      "  3%|▎         | 274/10000 [19:40<9:57:48,  3.69s/it] \u001b[A\n",
      "\n",
      "  0%|          | 0/4 [00:00<?, ?it/s]\u001b[A\u001b[A\n",
      "\n",
      " 25%|██▌       | 1/4 [00:00<00:02,  1.32it/s]\u001b[A\u001b[A\n",
      "\n",
      " 50%|█████     | 2/4 [00:01<00:01,  1.51it/s]\u001b[A\u001b[A\n",
      "\n",
      " 75%|███████▌  | 3/4 [00:02<00:00,  1.40it/s]\u001b[A\u001b[A\n",
      "\n",
      "100%|██████████| 4/4 [00:02<00:00,  1.43it/s]\u001b[A\u001b[A\n",
      "\n",
      "  3%|▎         | 275/10000 [19:44<9:43:32,  3.60s/it]\u001b[A\n",
      "\n",
      "  0%|          | 0/4 [00:00<?, ?it/s]\u001b[A\u001b[A\n",
      "\n",
      " 25%|██▌       | 1/4 [00:00<00:02,  1.31it/s]\u001b[A\u001b[A\n",
      "\n",
      " 50%|█████     | 2/4 [00:01<00:01,  1.23it/s]\u001b[A\u001b[A\n",
      "\n",
      " 75%|███████▌  | 3/4 [00:02<00:00,  1.24it/s]\u001b[A\u001b[A\n",
      "\n",
      "100%|██████████| 4/4 [00:03<00:00,  1.27it/s]\u001b[A\u001b[A\n",
      "\n",
      "  3%|▎         | 276/10000 [19:47<9:51:34,  3.65s/it]\u001b[A\n",
      "\n",
      "  0%|          | 0/4 [00:00<?, ?it/s]\u001b[A\u001b[A\n",
      "\n",
      " 25%|██▌       | 1/4 [00:00<00:02,  1.25it/s]\u001b[A\u001b[A\n",
      "\n",
      " 50%|█████     | 2/4 [00:01<00:01,  1.20it/s]\u001b[A\u001b[A\n",
      "\n",
      " 75%|███████▌  | 3/4 [00:02<00:00,  1.20it/s]\u001b[A\u001b[A\n",
      "\n",
      "100%|██████████| 4/4 [00:03<00:00,  1.25it/s]\u001b[A\u001b[A\n",
      "\n",
      "  3%|▎         | 277/10000 [19:51<9:58:45,  3.69s/it]\u001b[A\n",
      "\n",
      "  0%|          | 0/4 [00:00<?, ?it/s]\u001b[A\u001b[A\n",
      "\n",
      " 25%|██▌       | 1/4 [00:00<00:02,  1.21it/s]\u001b[A\u001b[A\n",
      "\n",
      " 50%|█████     | 2/4 [00:01<00:01,  1.28it/s]\u001b[A\u001b[A\n",
      "\n",
      " 75%|███████▌  | 3/4 [00:02<00:00,  1.23it/s]\u001b[A\u001b[A\n",
      "\n",
      "100%|██████████| 4/4 [00:03<00:00,  1.28it/s]\u001b[A\u001b[A\n",
      "\n",
      "  3%|▎         | 278/10000 [19:55<10:02:10,  3.72s/it]\u001b[A\n",
      "\n",
      "  0%|          | 0/4 [00:00<?, ?it/s]\u001b[A\u001b[A\n",
      "\n",
      " 25%|██▌       | 1/4 [00:00<00:02,  1.28it/s]\u001b[A\u001b[A\n",
      "\n",
      " 50%|█████     | 2/4 [00:01<00:01,  1.26it/s]\u001b[A\u001b[A\n",
      "\n",
      " 75%|███████▌  | 3/4 [00:02<00:00,  1.25it/s]\u001b[A\u001b[A\n",
      "\n",
      "100%|██████████| 4/4 [00:03<00:00,  1.25it/s]\u001b[A\u001b[A\n"
     ]
    },
    {
     "name": "stdout",
     "output_type": "stream",
     "text": [
      "\n",
      "Epoch: 279, Loss: 0.3798, Val: 0.7140, Test: 0.7138\n"
     ]
    },
    {
     "name": "stderr",
     "output_type": "stream",
     "text": [
      "\n",
      "  3%|▎         | 279/10000 [20:00<10:51:19,  4.02s/it]\u001b[A\n",
      "\n",
      "  0%|          | 0/4 [00:00<?, ?it/s]\u001b[A\u001b[A\n",
      "\n",
      " 25%|██▌       | 1/4 [00:00<00:02,  1.18it/s]\u001b[A\u001b[A\n",
      "\n",
      " 50%|█████     | 2/4 [00:01<00:01,  1.21it/s]\u001b[A\u001b[A\n",
      "\n",
      " 75%|███████▌  | 3/4 [00:02<00:00,  1.21it/s]\u001b[A\u001b[A\n",
      "\n",
      "100%|██████████| 4/4 [00:03<00:00,  1.26it/s]\u001b[A\u001b[A\n",
      "\n",
      "  3%|▎         | 280/10000 [20:03<10:38:26,  3.94s/it]\u001b[A\n",
      "\n",
      "  0%|          | 0/4 [00:00<?, ?it/s]\u001b[A\u001b[A\n",
      "\n",
      " 25%|██▌       | 1/4 [00:00<00:02,  1.23it/s]\u001b[A\u001b[A\n",
      "\n",
      " 50%|█████     | 2/4 [00:01<00:01,  1.21it/s]\u001b[A\u001b[A\n",
      "\n",
      " 75%|███████▌  | 3/4 [00:02<00:00,  1.21it/s]\u001b[A\u001b[A\n",
      "\n",
      "100%|██████████| 4/4 [00:03<00:00,  1.25it/s]\u001b[A\u001b[A\n"
     ]
    },
    {
     "name": "stdout",
     "output_type": "stream",
     "text": [
      "\n",
      "Epoch: 281, Loss: 0.3791, Val: 0.7141, Test: 0.7138\n"
     ]
    },
    {
     "name": "stderr",
     "output_type": "stream",
     "text": [
      "\n",
      "  3%|▎         | 281/10000 [20:08<11:14:40,  4.17s/it]\u001b[A\n",
      "\n",
      "  0%|          | 0/4 [00:00<?, ?it/s]\u001b[A\u001b[A\n",
      "\n",
      " 25%|██▌       | 1/4 [00:00<00:02,  1.14it/s]\u001b[A\u001b[A\n",
      "\n",
      " 50%|█████     | 2/4 [00:01<00:01,  1.16it/s]\u001b[A\u001b[A\n",
      "\n",
      " 75%|███████▌  | 3/4 [00:02<00:00,  1.21it/s]\u001b[A\u001b[A\n",
      "\n",
      "100%|██████████| 4/4 [00:03<00:00,  1.24it/s]\u001b[A\u001b[A\n",
      "\n",
      "  3%|▎         | 282/10000 [20:12<11:02:13,  4.09s/it]\u001b[A\n",
      "\n",
      "  0%|          | 0/4 [00:00<?, ?it/s]\u001b[A\u001b[A\n",
      "\n",
      " 25%|██▌       | 1/4 [00:00<00:02,  1.25it/s]\u001b[A\u001b[A\n",
      "\n",
      " 50%|█████     | 2/4 [00:01<00:01,  1.27it/s]\u001b[A\u001b[A\n",
      "\n",
      " 75%|███████▌  | 3/4 [00:02<00:00,  1.27it/s]\u001b[A\u001b[A\n",
      "\n",
      "100%|██████████| 4/4 [00:03<00:00,  1.29it/s]\u001b[A\u001b[A\n",
      "\n",
      "  3%|▎         | 283/10000 [20:16<10:41:59,  3.96s/it]\u001b[A\n",
      "\n",
      "  0%|          | 0/4 [00:00<?, ?it/s]\u001b[A\u001b[A\n",
      "\n",
      " 25%|██▌       | 1/4 [00:00<00:02,  1.30it/s]\u001b[A\u001b[A\n",
      "\n",
      " 50%|█████     | 2/4 [00:01<00:01,  1.23it/s]\u001b[A\u001b[A\n",
      "\n",
      " 75%|███████▌  | 3/4 [00:02<00:00,  1.20it/s]\u001b[A\u001b[A\n",
      "\n",
      "100%|██████████| 4/4 [00:03<00:00,  1.24it/s]\u001b[A\u001b[A\n",
      "\n",
      "  3%|▎         | 284/10000 [20:19<10:36:11,  3.93s/it]\u001b[A\n",
      "\n",
      "  0%|          | 0/4 [00:00<?, ?it/s]\u001b[A\u001b[A\n",
      "\n",
      " 25%|██▌       | 1/4 [00:00<00:02,  1.37it/s]\u001b[A\u001b[A\n",
      "\n",
      " 50%|█████     | 2/4 [00:01<00:01,  1.27it/s]\u001b[A\u001b[A\n",
      "\n",
      " 75%|███████▌  | 3/4 [00:02<00:00,  1.24it/s]\u001b[A\u001b[A\n",
      "\n",
      "100%|██████████| 4/4 [00:03<00:00,  1.26it/s]\u001b[A\u001b[A\n",
      "\n",
      "  3%|▎         | 285/10000 [20:23<10:30:47,  3.90s/it]\u001b[A\n",
      "\n",
      "  0%|          | 0/4 [00:00<?, ?it/s]\u001b[A\u001b[A\n",
      "\n",
      " 25%|██▌       | 1/4 [00:00<00:02,  1.19it/s]\u001b[A\u001b[A\n",
      "\n",
      " 50%|█████     | 2/4 [00:01<00:01,  1.17it/s]\u001b[A\u001b[A\n",
      "\n",
      " 75%|███████▌  | 3/4 [00:02<00:00,  1.20it/s]\u001b[A\u001b[A\n",
      "\n",
      "100%|██████████| 4/4 [00:03<00:00,  1.24it/s]\u001b[A\u001b[A\n",
      "\n",
      "  3%|▎         | 286/10000 [20:27<10:26:04,  3.87s/it]\u001b[A\n",
      "\n",
      "  0%|          | 0/4 [00:00<?, ?it/s]\u001b[A\u001b[A\n",
      "\n",
      " 25%|██▌       | 1/4 [00:00<00:02,  1.19it/s]\u001b[A\u001b[A\n",
      "\n",
      " 50%|█████     | 2/4 [00:01<00:01,  1.17it/s]\u001b[A\u001b[A\n",
      "\n",
      " 75%|███████▌  | 3/4 [00:02<00:00,  1.19it/s]\u001b[A\u001b[A\n",
      "\n",
      "100%|██████████| 4/4 [00:03<00:00,  1.24it/s]\u001b[A\u001b[A\n",
      "\n",
      "  3%|▎         | 287/10000 [20:31<10:26:16,  3.87s/it]\u001b[A\n",
      "\n",
      "  0%|          | 0/4 [00:00<?, ?it/s]\u001b[A\u001b[A\n",
      "\n",
      " 25%|██▌       | 1/4 [00:00<00:02,  1.23it/s]\u001b[A\u001b[A\n",
      "\n",
      " 50%|█████     | 2/4 [00:01<00:01,  1.27it/s]\u001b[A\u001b[A\n",
      "\n",
      " 75%|███████▌  | 3/4 [00:02<00:00,  1.25it/s]\u001b[A\u001b[A\n",
      "\n",
      "100%|██████████| 4/4 [00:03<00:00,  1.29it/s]\u001b[A\u001b[A\n",
      "\n",
      "  3%|▎         | 288/10000 [20:35<10:18:54,  3.82s/it]\u001b[A\n",
      "\n",
      "  0%|          | 0/4 [00:00<?, ?it/s]\u001b[A\u001b[A\n",
      "\n",
      " 25%|██▌       | 1/4 [00:00<00:02,  1.28it/s]\u001b[A\u001b[A\n",
      "\n",
      " 50%|█████     | 2/4 [00:01<00:01,  1.33it/s]\u001b[A\u001b[A\n",
      "\n",
      " 75%|███████▌  | 3/4 [00:02<00:00,  1.26it/s]\u001b[A\u001b[A\n",
      "\n",
      "100%|██████████| 4/4 [00:03<00:00,  1.31it/s]\u001b[A\u001b[A\n",
      "\n",
      "  3%|▎         | 289/10000 [20:38<10:15:26,  3.80s/it]\u001b[A\n",
      "\n",
      "  0%|          | 0/4 [00:00<?, ?it/s]\u001b[A\u001b[A\n",
      "\n",
      " 25%|██▌       | 1/4 [00:00<00:02,  1.10it/s]\u001b[A\u001b[A\n",
      "\n",
      " 50%|█████     | 2/4 [00:01<00:01,  1.05it/s]\u001b[A\u001b[A\n",
      "\n",
      " 75%|███████▌  | 3/4 [00:02<00:00,  1.08it/s]\u001b[A\u001b[A\n",
      "\n",
      "100%|██████████| 4/4 [00:03<00:00,  1.12it/s]\u001b[A\u001b[A\n",
      "\n",
      "  3%|▎         | 290/10000 [20:43<10:36:02,  3.93s/it]\u001b[A\n",
      "\n",
      "  0%|          | 0/4 [00:00<?, ?it/s]\u001b[A\u001b[A\n",
      "\n",
      " 25%|██▌       | 1/4 [00:00<00:02,  1.20it/s]\u001b[A\u001b[A\n",
      "\n",
      " 50%|█████     | 2/4 [00:01<00:01,  1.23it/s]\u001b[A\u001b[A\n",
      "\n",
      " 75%|███████▌  | 3/4 [00:02<00:00,  1.24it/s]\u001b[A\u001b[A\n",
      "\n",
      "100%|██████████| 4/4 [00:03<00:00,  1.27it/s]\u001b[A\u001b[A\n",
      "\n",
      "  3%|▎         | 291/10000 [20:46<10:29:00,  3.89s/it]\u001b[A\n",
      "\n",
      "  0%|          | 0/4 [00:00<?, ?it/s]\u001b[A\u001b[A\n",
      "\n",
      " 25%|██▌       | 1/4 [00:00<00:02,  1.30it/s]\u001b[A\u001b[A\n",
      "\n",
      " 50%|█████     | 2/4 [00:01<00:01,  1.27it/s]\u001b[A\u001b[A\n",
      "\n",
      " 75%|███████▌  | 3/4 [00:02<00:00,  1.28it/s]\u001b[A\u001b[A\n",
      "\n",
      "100%|██████████| 4/4 [00:03<00:00,  1.30it/s]\u001b[A\u001b[A\n",
      "\n",
      "  3%|▎         | 292/10000 [20:50<10:19:20,  3.83s/it]\u001b[A\n",
      "\n",
      "  0%|          | 0/4 [00:00<?, ?it/s]\u001b[A\u001b[A\n",
      "\n",
      " 25%|██▌       | 1/4 [00:00<00:02,  1.41it/s]\u001b[A\u001b[A\n",
      "\n",
      " 50%|█████     | 2/4 [00:01<00:01,  1.30it/s]\u001b[A\u001b[A\n",
      "\n",
      " 75%|███████▌  | 3/4 [00:02<00:00,  1.29it/s]\u001b[A\u001b[A\n",
      "\n",
      "100%|██████████| 4/4 [00:03<00:00,  1.33it/s]\u001b[A\u001b[A\n",
      "\n",
      "  3%|▎         | 293/10000 [20:54<10:09:37,  3.77s/it]\u001b[A\n",
      "\n",
      "  0%|          | 0/4 [00:00<?, ?it/s]\u001b[A\u001b[A\n",
      "\n",
      " 25%|██▌       | 1/4 [00:00<00:02,  1.24it/s]\u001b[A\u001b[A\n",
      "\n",
      " 50%|█████     | 2/4 [00:01<00:01,  1.29it/s]\u001b[A\u001b[A\n",
      "\n",
      " 75%|███████▌  | 3/4 [00:02<00:00,  1.31it/s]\u001b[A\u001b[A\n",
      "\n",
      "100%|██████████| 4/4 [00:03<00:00,  1.33it/s]\u001b[A\u001b[A\n",
      "\n",
      "  3%|▎         | 294/10000 [20:57<9:55:59,  3.68s/it] \u001b[A\n",
      "\n",
      "  0%|          | 0/4 [00:00<?, ?it/s]\u001b[A\u001b[A\n",
      "\n",
      " 25%|██▌       | 1/4 [00:00<00:02,  1.30it/s]\u001b[A\u001b[A\n",
      "\n",
      " 50%|█████     | 2/4 [00:01<00:01,  1.13it/s]\u001b[A\u001b[A\n",
      "\n",
      " 75%|███████▌  | 3/4 [00:02<00:00,  1.18it/s]\u001b[A\u001b[A\n",
      "\n",
      "100%|██████████| 4/4 [00:03<00:00,  1.24it/s]\u001b[A\u001b[A\n",
      "\n",
      "  3%|▎         | 295/10000 [21:01<10:02:56,  3.73s/it]\u001b[A\n",
      "\n",
      "  0%|          | 0/4 [00:00<?, ?it/s]\u001b[A\u001b[A\n",
      "\n",
      " 25%|██▌       | 1/4 [00:00<00:02,  1.31it/s]\u001b[A\u001b[A\n",
      "\n",
      " 50%|█████     | 2/4 [00:01<00:01,  1.34it/s]\u001b[A\u001b[A\n",
      "\n",
      " 75%|███████▌  | 3/4 [00:02<00:00,  1.32it/s]\u001b[A\u001b[A\n",
      "\n",
      "100%|██████████| 4/4 [00:02<00:00,  1.38it/s]\u001b[A\u001b[A\n",
      "\n",
      "  3%|▎         | 296/10000 [21:05<9:52:05,  3.66s/it] \u001b[A\n",
      "\n",
      "  0%|          | 0/4 [00:00<?, ?it/s]\u001b[A\u001b[A\n",
      "\n",
      " 25%|██▌       | 1/4 [00:00<00:02,  1.40it/s]\u001b[A\u001b[A\n",
      "\n",
      " 50%|█████     | 2/4 [00:01<00:01,  1.35it/s]\u001b[A\u001b[A\n",
      "\n",
      " 75%|███████▌  | 3/4 [00:02<00:00,  1.32it/s]\u001b[A\u001b[A\n",
      "\n",
      "100%|██████████| 4/4 [00:02<00:00,  1.37it/s]\u001b[A\u001b[A\n",
      "\n",
      "  3%|▎         | 297/10000 [21:08<9:45:18,  3.62s/it]\u001b[A\n",
      "\n",
      "  0%|          | 0/4 [00:00<?, ?it/s]\u001b[A\u001b[A\n",
      "\n",
      " 25%|██▌       | 1/4 [00:00<00:02,  1.20it/s]\u001b[A\u001b[A\n",
      "\n",
      " 50%|█████     | 2/4 [00:01<00:01,  1.23it/s]\u001b[A\u001b[A\n",
      "\n",
      " 75%|███████▌  | 3/4 [00:02<00:00,  1.23it/s]\u001b[A\u001b[A\n",
      "\n",
      "100%|██████████| 4/4 [00:03<00:00,  1.26it/s]\u001b[A\u001b[A\n",
      "\n",
      "  3%|▎         | 298/10000 [21:12<9:53:36,  3.67s/it]\u001b[A\n",
      "\n",
      "  0%|          | 0/4 [00:00<?, ?it/s]\u001b[A\u001b[A\n",
      "\n",
      " 25%|██▌       | 1/4 [00:00<00:02,  1.35it/s]\u001b[A\u001b[A\n",
      "\n",
      " 50%|█████     | 2/4 [00:01<00:01,  1.26it/s]\u001b[A\u001b[A\n",
      "\n",
      " 75%|███████▌  | 3/4 [00:02<00:00,  1.24it/s]\u001b[A\u001b[A\n",
      "\n",
      "100%|██████████| 4/4 [00:03<00:00,  1.27it/s]\u001b[A\u001b[A\n",
      "\n",
      "  3%|▎         | 299/10000 [21:16<9:59:45,  3.71s/it]\u001b[A\n",
      "\n",
      "  0%|          | 0/4 [00:00<?, ?it/s]\u001b[A\u001b[A\n",
      "\n",
      " 25%|██▌       | 1/4 [00:00<00:02,  1.26it/s]\u001b[A\u001b[A\n",
      "\n",
      " 50%|█████     | 2/4 [00:01<00:01,  1.27it/s]\u001b[A\u001b[A\n",
      "\n",
      " 75%|███████▌  | 3/4 [00:02<00:00,  1.28it/s]\u001b[A\u001b[A\n",
      "\n",
      "100%|██████████| 4/4 [00:03<00:00,  1.29it/s]\u001b[A\u001b[A\n",
      "\n",
      "  3%|▎         | 300/10000 [21:19<10:00:47,  3.72s/it]\u001b[A\n",
      "\n",
      "  0%|          | 0/4 [00:00<?, ?it/s]\u001b[A\u001b[A\n",
      "\n",
      " 25%|██▌       | 1/4 [00:00<00:02,  1.29it/s]\u001b[A\u001b[A\n",
      "\n",
      " 50%|█████     | 2/4 [00:01<00:01,  1.22it/s]\u001b[A\u001b[A\n",
      "\n",
      " 75%|███████▌  | 3/4 [00:02<00:00,  1.14it/s]\u001b[A\u001b[A\n",
      "\n",
      "100%|██████████| 4/4 [00:03<00:00,  1.20it/s]\u001b[A\u001b[A\n",
      "\n",
      "  3%|▎         | 301/10000 [21:23<10:14:00,  3.80s/it]\u001b[A\n",
      "\n",
      "  0%|          | 0/4 [00:00<?, ?it/s]\u001b[A\u001b[A\n",
      "\n",
      " 25%|██▌       | 1/4 [00:00<00:02,  1.20it/s]\u001b[A\u001b[A\n",
      "\n",
      " 50%|█████     | 2/4 [00:01<00:01,  1.16it/s]\u001b[A\u001b[A\n",
      "\n",
      " 75%|███████▌  | 3/4 [00:02<00:01,  1.05s/it]\u001b[A\u001b[A\n",
      "\n",
      "100%|██████████| 4/4 [00:03<00:00,  1.06it/s]\u001b[A\u001b[A\n",
      "\n",
      "  3%|▎         | 302/10000 [21:28<10:42:44,  3.98s/it]\u001b[A\n",
      "\n",
      "  0%|          | 0/4 [00:00<?, ?it/s]\u001b[A\u001b[A\n",
      "\n",
      " 25%|██▌       | 1/4 [00:00<00:02,  1.22it/s]\u001b[A\u001b[A\n",
      "\n",
      " 50%|█████     | 2/4 [00:01<00:01,  1.17it/s]\u001b[A\u001b[A\n",
      "\n",
      " 75%|███████▌  | 3/4 [00:02<00:00,  1.17it/s]\u001b[A\u001b[A\n",
      "\n",
      "100%|██████████| 4/4 [00:03<00:00,  1.23it/s]\u001b[A\u001b[A\n",
      "\n",
      "  3%|▎         | 303/10000 [21:32<10:38:46,  3.95s/it]\u001b[A\n",
      "\n",
      "  0%|          | 0/4 [00:00<?, ?it/s]\u001b[A\u001b[A\n",
      "\n",
      " 25%|██▌       | 1/4 [00:00<00:02,  1.27it/s]\u001b[A\u001b[A\n",
      "\n",
      " 50%|█████     | 2/4 [00:01<00:01,  1.22it/s]\u001b[A\u001b[A\n",
      "\n",
      " 75%|███████▌  | 3/4 [00:02<00:00,  1.25it/s]\u001b[A\u001b[A\n",
      "\n",
      "100%|██████████| 4/4 [00:03<00:00,  1.25it/s]\u001b[A\u001b[A\n",
      "\n",
      "  3%|▎         | 304/10000 [21:36<10:32:35,  3.91s/it]\u001b[A\n",
      "\n",
      "  0%|          | 0/4 [00:00<?, ?it/s]\u001b[A\u001b[A\n",
      "\n",
      " 25%|██▌       | 1/4 [00:00<00:02,  1.20it/s]\u001b[A\u001b[A\n",
      "\n",
      " 50%|█████     | 2/4 [00:01<00:01,  1.16it/s]\u001b[A\u001b[A\n",
      "\n",
      " 75%|███████▌  | 3/4 [00:02<00:00,  1.17it/s]\u001b[A\u001b[A\n",
      "\n",
      "100%|██████████| 4/4 [00:03<00:00,  1.21it/s]\u001b[A\u001b[A\n",
      "\n",
      "  3%|▎         | 305/10000 [21:39<10:32:39,  3.92s/it]\u001b[A\n",
      "\n",
      "  0%|          | 0/4 [00:00<?, ?it/s]\u001b[A\u001b[A\n",
      "\n",
      " 25%|██▌       | 1/4 [00:00<00:02,  1.23it/s]\u001b[A\u001b[A\n",
      "\n",
      " 50%|█████     | 2/4 [00:01<00:01,  1.23it/s]\u001b[A\u001b[A\n",
      "\n",
      " 75%|███████▌  | 3/4 [00:02<00:00,  1.17it/s]\u001b[A\u001b[A\n",
      "\n",
      "100%|██████████| 4/4 [00:03<00:00,  1.21it/s]\u001b[A\u001b[A\n",
      "\n",
      "  3%|▎         | 306/10000 [21:43<10:31:15,  3.91s/it]\u001b[A\n",
      "\n",
      "  0%|          | 0/4 [00:00<?, ?it/s]\u001b[A\u001b[A\n",
      "\n",
      " 25%|██▌       | 1/4 [00:00<00:02,  1.28it/s]\u001b[A\u001b[A\n",
      "\n",
      " 50%|█████     | 2/4 [00:01<00:01,  1.27it/s]\u001b[A\u001b[A\n",
      "\n",
      " 75%|███████▌  | 3/4 [00:02<00:00,  1.26it/s]\u001b[A\u001b[A\n",
      "\n",
      "100%|██████████| 4/4 [00:03<00:00,  1.28it/s]\u001b[A\u001b[A\n",
      "\n",
      "  3%|▎         | 307/10000 [21:47<10:26:13,  3.88s/it]\u001b[A\n",
      "\n",
      "  0%|          | 0/4 [00:00<?, ?it/s]\u001b[A\u001b[A\n",
      "\n",
      " 25%|██▌       | 1/4 [00:00<00:02,  1.04it/s]\u001b[A\u001b[A\n",
      "\n",
      " 50%|█████     | 2/4 [00:01<00:01,  1.04it/s]\u001b[A\u001b[A\n",
      "\n",
      " 75%|███████▌  | 3/4 [00:02<00:00,  1.05it/s]\u001b[A\u001b[A\n",
      "\n",
      "100%|██████████| 4/4 [00:03<00:00,  1.11it/s]\u001b[A\u001b[A\n",
      "\n",
      "  3%|▎         | 308/10000 [21:51<10:43:19,  3.98s/it]\u001b[A\n",
      "\n",
      "  0%|          | 0/4 [00:00<?, ?it/s]\u001b[A\u001b[A\n",
      "\n",
      " 25%|██▌       | 1/4 [00:00<00:02,  1.19it/s]\u001b[A\u001b[A\n",
      "\n",
      " 50%|█████     | 2/4 [00:01<00:01,  1.24it/s]\u001b[A\u001b[A\n",
      "\n",
      " 75%|███████▌  | 3/4 [00:02<00:00,  1.27it/s]\u001b[A\u001b[A\n",
      "\n",
      "100%|██████████| 4/4 [00:03<00:00,  1.29it/s]\u001b[A\u001b[A\n",
      "\n",
      "  3%|▎         | 309/10000 [21:55<10:31:58,  3.91s/it]\u001b[A\n",
      "\n",
      "  0%|          | 0/4 [00:00<?, ?it/s]\u001b[A\u001b[A\n",
      "\n",
      " 25%|██▌       | 1/4 [00:00<00:02,  1.23it/s]\u001b[A\u001b[A\n",
      "\n",
      " 50%|█████     | 2/4 [00:01<00:01,  1.20it/s]\u001b[A\u001b[A\n",
      "\n",
      " 75%|███████▌  | 3/4 [00:02<00:00,  1.19it/s]\u001b[A\u001b[A\n",
      "\n",
      "100%|██████████| 4/4 [00:03<00:00,  1.21it/s]\u001b[A\u001b[A\n",
      "\n",
      "  3%|▎         | 310/10000 [21:59<10:35:00,  3.93s/it]\u001b[A\n",
      "\n",
      "  0%|          | 0/4 [00:00<?, ?it/s]\u001b[A\u001b[A\n",
      "\n",
      " 25%|██▌       | 1/4 [00:00<00:02,  1.16it/s]\u001b[A\u001b[A\n",
      "\n",
      " 50%|█████     | 2/4 [00:01<00:01,  1.17it/s]\u001b[A\u001b[A\n",
      "\n",
      " 75%|███████▌  | 3/4 [00:02<00:00,  1.20it/s]\u001b[A\u001b[A\n",
      "\n",
      "100%|██████████| 4/4 [00:03<00:00,  1.22it/s]\u001b[A\u001b[A\n",
      "\n",
      "  3%|▎         | 311/10000 [22:03<10:30:15,  3.90s/it]\u001b[A\n",
      "\n",
      "  0%|          | 0/4 [00:00<?, ?it/s]\u001b[A\u001b[A\n",
      "\n",
      " 25%|██▌       | 1/4 [00:00<00:02,  1.16it/s]\u001b[A\u001b[A\n",
      "\n",
      " 50%|█████     | 2/4 [00:01<00:01,  1.17it/s]\u001b[A\u001b[A\n",
      "\n",
      " 75%|███████▌  | 3/4 [00:02<00:00,  1.22it/s]\u001b[A\u001b[A\n",
      "\n",
      "100%|██████████| 4/4 [00:03<00:00,  1.25it/s]\u001b[A\u001b[A\n",
      "\n",
      "  3%|▎         | 312/10000 [22:07<10:27:22,  3.89s/it]\u001b[A\n",
      "\n",
      "  0%|          | 0/4 [00:00<?, ?it/s]\u001b[A\u001b[A\n",
      "\n",
      " 25%|██▌       | 1/4 [00:00<00:02,  1.17it/s]\u001b[A\u001b[A\n",
      "\n",
      " 50%|█████     | 2/4 [00:01<00:01,  1.15it/s]\u001b[A\u001b[A\n",
      "\n",
      " 75%|███████▌  | 3/4 [00:02<00:00,  1.19it/s]\u001b[A\u001b[A\n",
      "\n",
      "100%|██████████| 4/4 [00:03<00:00,  1.21it/s]\u001b[A\u001b[A\n",
      "\n",
      "  3%|▎         | 313/10000 [22:11<10:30:17,  3.90s/it]\u001b[A\n",
      "\n",
      "  0%|          | 0/4 [00:00<?, ?it/s]\u001b[A\u001b[A\n",
      "\n",
      " 25%|██▌       | 1/4 [00:00<00:02,  1.13it/s]\u001b[A\u001b[A\n",
      "\n",
      " 50%|█████     | 2/4 [00:01<00:01,  1.18it/s]\u001b[A\u001b[A\n",
      "\n",
      " 75%|███████▌  | 3/4 [00:02<00:00,  1.18it/s]\u001b[A\u001b[A\n",
      "\n",
      "100%|██████████| 4/4 [00:03<00:00,  1.22it/s]\u001b[A\u001b[A\n",
      "\n",
      "  3%|▎         | 314/10000 [22:15<10:31:11,  3.91s/it]\u001b[A\n",
      "\n",
      "  0%|          | 0/4 [00:00<?, ?it/s]\u001b[A\u001b[A\n",
      "\n",
      " 25%|██▌       | 1/4 [00:00<00:01,  1.65it/s]\u001b[A\u001b[A\n",
      "\n",
      " 50%|█████     | 2/4 [00:01<00:01,  1.44it/s]\u001b[A\u001b[A\n",
      "\n",
      " 75%|███████▌  | 3/4 [00:02<00:00,  1.36it/s]\u001b[A\u001b[A\n",
      "\n",
      "100%|██████████| 4/4 [00:02<00:00,  1.38it/s]\u001b[A\u001b[A\n",
      "\n",
      "  3%|▎         | 315/10000 [22:18<10:14:20,  3.81s/it]\u001b[A\n",
      "\n",
      "  0%|          | 0/4 [00:00<?, ?it/s]\u001b[A\u001b[A\n",
      "\n",
      " 25%|██▌       | 1/4 [00:00<00:02,  1.24it/s]\u001b[A\u001b[A\n",
      "\n",
      " 50%|█████     | 2/4 [00:01<00:01,  1.23it/s]\u001b[A\u001b[A\n",
      "\n",
      " 75%|███████▌  | 3/4 [00:02<00:00,  1.25it/s]\u001b[A\u001b[A\n",
      "\n",
      "100%|██████████| 4/4 [00:03<00:00,  1.28it/s]\u001b[A\u001b[A\n",
      "\n",
      "  3%|▎         | 316/10000 [22:22<10:13:29,  3.80s/it]\u001b[A\n",
      "\n",
      "  0%|          | 0/4 [00:00<?, ?it/s]\u001b[A\u001b[A\n",
      "\n",
      " 25%|██▌       | 1/4 [00:00<00:02,  1.23it/s]\u001b[A\u001b[A\n",
      "\n",
      " 50%|█████     | 2/4 [00:01<00:01,  1.17it/s]\u001b[A\u001b[A\n",
      "\n",
      " 75%|███████▌  | 3/4 [00:02<00:00,  1.19it/s]\u001b[A\u001b[A\n",
      "\n",
      "100%|██████████| 4/4 [00:03<00:00,  1.24it/s]\u001b[A\u001b[A\n",
      "\n",
      "  3%|▎         | 317/10000 [22:26<10:15:47,  3.82s/it]\u001b[A\n",
      "\n",
      "  0%|          | 0/4 [00:00<?, ?it/s]\u001b[A\u001b[A\n",
      "\n",
      " 25%|██▌       | 1/4 [00:00<00:02,  1.33it/s]\u001b[A\u001b[A\n",
      "\n",
      " 50%|█████     | 2/4 [00:01<00:01,  1.23it/s]\u001b[A\u001b[A\n",
      "\n",
      " 75%|███████▌  | 3/4 [00:02<00:00,  1.25it/s]\u001b[A\u001b[A\n",
      "\n",
      "100%|██████████| 4/4 [00:03<00:00,  1.30it/s]\u001b[A\u001b[A\n",
      "\n",
      "  3%|▎         | 318/10000 [22:30<10:09:46,  3.78s/it]\u001b[A\n",
      "\n",
      "  0%|          | 0/4 [00:00<?, ?it/s]\u001b[A\u001b[A\n",
      "\n",
      " 25%|██▌       | 1/4 [00:00<00:02,  1.28it/s]\u001b[A\u001b[A\n",
      "\n",
      " 50%|█████     | 2/4 [00:01<00:01,  1.29it/s]\u001b[A\u001b[A\n",
      "\n",
      " 75%|███████▌  | 3/4 [00:02<00:00,  1.24it/s]\u001b[A\u001b[A\n",
      "\n",
      "100%|██████████| 4/4 [00:03<00:00,  1.29it/s]\u001b[A\u001b[A\n",
      "\n",
      "  3%|▎         | 319/10000 [22:33<10:09:31,  3.78s/it]\u001b[A\n",
      "\n",
      "  0%|          | 0/4 [00:00<?, ?it/s]\u001b[A\u001b[A\n",
      "\n",
      " 25%|██▌       | 1/4 [00:00<00:01,  2.06it/s]\u001b[A\u001b[A\n",
      "\n",
      " 50%|█████     | 2/4 [00:01<00:01,  1.51it/s]\u001b[A\u001b[A\n",
      "\n",
      " 75%|███████▌  | 3/4 [00:02<00:00,  1.33it/s]\u001b[A\u001b[A\n",
      "\n",
      "100%|██████████| 4/4 [00:02<00:00,  1.37it/s]\u001b[A\u001b[A\n",
      "\n",
      "  3%|▎         | 320/10000 [22:37<10:01:44,  3.73s/it]\u001b[A\n",
      "\n",
      "  0%|          | 0/4 [00:00<?, ?it/s]\u001b[A\u001b[A\n",
      "\n",
      " 25%|██▌       | 1/4 [00:00<00:02,  1.19it/s]\u001b[A\u001b[A\n",
      "\n",
      " 50%|█████     | 2/4 [00:01<00:01,  1.19it/s]\u001b[A\u001b[A\n",
      "\n",
      " 75%|███████▌  | 3/4 [00:02<00:00,  1.23it/s]\u001b[A\u001b[A\n",
      "\n",
      "100%|██████████| 4/4 [00:03<00:00,  1.26it/s]\u001b[A\u001b[A\n",
      "\n",
      "  3%|▎         | 321/10000 [22:41<10:07:36,  3.77s/it]\u001b[A\n",
      "\n",
      "  0%|          | 0/4 [00:00<?, ?it/s]\u001b[A\u001b[A\n",
      "\n",
      " 25%|██▌       | 1/4 [00:00<00:02,  1.27it/s]\u001b[A\u001b[A\n",
      "\n",
      " 50%|█████     | 2/4 [00:01<00:01,  1.24it/s]\u001b[A\u001b[A\n",
      "\n",
      " 75%|███████▌  | 3/4 [00:02<00:00,  1.20it/s]\u001b[A\u001b[A\n",
      "\n",
      "100%|██████████| 4/4 [00:03<00:00,  1.23it/s]\u001b[A\u001b[A\n",
      "\n",
      "  3%|▎         | 322/10000 [22:45<10:13:03,  3.80s/it]\u001b[A\n",
      "\n",
      "  0%|          | 0/4 [00:00<?, ?it/s]\u001b[A\u001b[A\n",
      "\n",
      " 25%|██▌       | 1/4 [00:00<00:02,  1.19it/s]\u001b[A\u001b[A\n",
      "\n",
      " 50%|█████     | 2/4 [00:01<00:01,  1.17it/s]\u001b[A\u001b[A\n",
      "\n",
      " 75%|███████▌  | 3/4 [00:02<00:00,  1.20it/s]\u001b[A\u001b[A\n",
      "\n",
      "100%|██████████| 4/4 [00:03<00:00,  1.24it/s]\u001b[A\u001b[A\n",
      "\n",
      "  3%|▎         | 323/10000 [22:49<10:14:42,  3.81s/it]\u001b[A\n",
      "\n",
      "  0%|          | 0/4 [00:00<?, ?it/s]\u001b[A\u001b[A\n",
      "\n",
      " 25%|██▌       | 1/4 [00:00<00:02,  1.20it/s]\u001b[A\u001b[A\n",
      "\n",
      " 50%|█████     | 2/4 [00:01<00:01,  1.15it/s]\u001b[A\u001b[A\n",
      "\n",
      " 75%|███████▌  | 3/4 [00:02<00:00,  1.16it/s]\u001b[A\u001b[A\n",
      "\n",
      "100%|██████████| 4/4 [00:03<00:00,  1.19it/s]\u001b[A\u001b[A\n",
      "\n",
      "  3%|▎         | 324/10000 [22:52<10:18:38,  3.84s/it]\u001b[A\n",
      "\n",
      "  0%|          | 0/4 [00:00<?, ?it/s]\u001b[A\u001b[A\n",
      "\n",
      " 25%|██▌       | 1/4 [00:00<00:02,  1.08it/s]\u001b[A\u001b[A\n",
      "\n",
      " 50%|█████     | 2/4 [00:01<00:01,  1.09it/s]\u001b[A\u001b[A\n",
      "\n",
      " 75%|███████▌  | 3/4 [00:02<00:00,  1.12it/s]\u001b[A\u001b[A\n",
      "\n",
      "100%|██████████| 4/4 [00:03<00:00,  1.18it/s]\u001b[A\u001b[A\n",
      "\n",
      "  3%|▎         | 325/10000 [22:56<10:28:01,  3.89s/it]\u001b[A\n",
      "\n",
      "  0%|          | 0/4 [00:00<?, ?it/s]\u001b[A\u001b[A\n",
      "\n",
      " 25%|██▌       | 1/4 [00:00<00:02,  1.17it/s]\u001b[A\u001b[A\n",
      "\n",
      " 50%|█████     | 2/4 [00:01<00:01,  1.19it/s]\u001b[A\u001b[A\n",
      "\n",
      " 75%|███████▌  | 3/4 [00:02<00:00,  1.17it/s]\u001b[A\u001b[A\n",
      "\n",
      "100%|██████████| 4/4 [00:03<00:00,  1.19it/s]\u001b[A\u001b[A\n",
      "\n",
      "  3%|▎         | 326/10000 [23:00<10:31:03,  3.91s/it]\u001b[A\n",
      "\n",
      "  0%|          | 0/4 [00:00<?, ?it/s]\u001b[A\u001b[A\n",
      "\n",
      " 25%|██▌       | 1/4 [00:00<00:02,  1.21it/s]\u001b[A\u001b[A\n",
      "\n",
      " 50%|█████     | 2/4 [00:01<00:01,  1.18it/s]\u001b[A\u001b[A\n",
      "\n",
      " 75%|███████▌  | 3/4 [00:02<00:00,  1.16it/s]\u001b[A\u001b[A\n",
      "\n",
      "100%|██████████| 4/4 [00:03<00:00,  1.22it/s]\u001b[A\u001b[A\n",
      "\n",
      "  3%|▎         | 327/10000 [23:04<10:31:07,  3.91s/it]\u001b[A\n",
      "\n",
      "  0%|          | 0/4 [00:00<?, ?it/s]\u001b[A\u001b[A\n",
      "\n",
      " 25%|██▌       | 1/4 [00:00<00:02,  1.27it/s]\u001b[A\u001b[A\n",
      "\n",
      " 50%|█████     | 2/4 [00:01<00:01,  1.27it/s]\u001b[A\u001b[A\n",
      "\n",
      " 75%|███████▌  | 3/4 [00:02<00:00,  1.22it/s]\u001b[A\u001b[A\n",
      "\n",
      "100%|██████████| 4/4 [00:03<00:00,  1.28it/s]\u001b[A\u001b[A\n",
      "\n",
      "  3%|▎         | 328/10000 [23:08<10:22:13,  3.86s/it]\u001b[A\n",
      "\n",
      "  0%|          | 0/4 [00:00<?, ?it/s]\u001b[A\u001b[A\n",
      "\n",
      " 25%|██▌       | 1/4 [00:00<00:02,  1.33it/s]\u001b[A\u001b[A\n",
      "\n",
      " 50%|█████     | 2/4 [00:01<00:01,  1.23it/s]\u001b[A\u001b[A\n",
      "\n",
      " 75%|███████▌  | 3/4 [00:02<00:00,  1.25it/s]\u001b[A\u001b[A\n",
      "\n",
      "100%|██████████| 4/4 [00:03<00:00,  1.28it/s]\u001b[A\u001b[A\n",
      "\n",
      "  3%|▎         | 329/10000 [23:12<10:17:10,  3.83s/it]\u001b[A\n",
      "\n",
      "  0%|          | 0/4 [00:00<?, ?it/s]\u001b[A\u001b[A\n",
      "\n",
      " 25%|██▌       | 1/4 [00:00<00:02,  1.19it/s]\u001b[A\u001b[A\n",
      "\n",
      " 50%|█████     | 2/4 [00:01<00:01,  1.18it/s]\u001b[A\u001b[A\n",
      "\n",
      " 75%|███████▌  | 3/4 [00:02<00:00,  1.17it/s]\u001b[A\u001b[A\n",
      "\n",
      "100%|██████████| 4/4 [00:03<00:00,  1.23it/s]\u001b[A\u001b[A\n",
      "\n",
      "  3%|▎         | 330/10000 [23:16<10:25:00,  3.88s/it]\u001b[A\n",
      "\n",
      "  0%|          | 0/4 [00:00<?, ?it/s]\u001b[A\u001b[A\n",
      "\n",
      " 25%|██▌       | 1/4 [00:00<00:02,  1.23it/s]\u001b[A\u001b[A\n",
      "\n",
      " 50%|█████     | 2/4 [00:01<00:01,  1.19it/s]\u001b[A\u001b[A\n",
      "\n",
      " 75%|███████▌  | 3/4 [00:02<00:00,  1.19it/s]\u001b[A\u001b[A\n",
      "\n",
      "100%|██████████| 4/4 [00:03<00:00,  1.25it/s]\u001b[A\u001b[A\n",
      "\n",
      "  3%|▎         | 331/10000 [23:20<10:22:57,  3.87s/it]\u001b[A\n",
      "\n",
      "  0%|          | 0/4 [00:00<?, ?it/s]\u001b[A\u001b[A\n",
      "\n",
      " 25%|██▌       | 1/4 [00:00<00:02,  1.22it/s]\u001b[A\u001b[A\n",
      "\n",
      " 50%|█████     | 2/4 [00:01<00:01,  1.19it/s]\u001b[A\u001b[A\n",
      "\n",
      " 75%|███████▌  | 3/4 [00:02<00:00,  1.23it/s]\u001b[A\u001b[A\n",
      "\n",
      "100%|██████████| 4/4 [00:03<00:00,  1.26it/s]\u001b[A\u001b[A\n",
      "\n",
      "  3%|▎         | 332/10000 [23:23<10:15:55,  3.82s/it]\u001b[A\n",
      "\n",
      "  0%|          | 0/4 [00:00<?, ?it/s]\u001b[A\u001b[A\n",
      "\n",
      " 25%|██▌       | 1/4 [00:00<00:01,  2.74it/s]\u001b[A\u001b[A\n",
      "\n",
      " 50%|█████     | 2/4 [00:01<00:01,  1.50it/s]\u001b[A\u001b[A\n",
      "\n",
      " 75%|███████▌  | 3/4 [00:02<00:00,  1.35it/s]\u001b[A\u001b[A\n",
      "\n",
      "100%|██████████| 4/4 [00:02<00:00,  1.43it/s]\u001b[A\u001b[A\n",
      "\n",
      "  3%|▎         | 333/10000 [23:27<10:00:09,  3.72s/it]\u001b[A\n",
      "\n",
      "  0%|          | 0/4 [00:00<?, ?it/s]\u001b[A\u001b[A\n",
      "\n",
      " 25%|██▌       | 1/4 [00:00<00:02,  1.20it/s]\u001b[A\u001b[A\n",
      "\n",
      " 50%|█████     | 2/4 [00:01<00:01,  1.21it/s]\u001b[A\u001b[A\n",
      "\n",
      " 75%|███████▌  | 3/4 [00:02<00:00,  1.23it/s]\u001b[A\u001b[A\n",
      "\n",
      "100%|██████████| 4/4 [00:03<00:00,  1.28it/s]\u001b[A\u001b[A\n",
      "\n",
      "  3%|▎         | 334/10000 [23:31<10:01:44,  3.74s/it]\u001b[A\n",
      "\n",
      "  0%|          | 0/4 [00:00<?, ?it/s]\u001b[A\u001b[A\n",
      "\n",
      " 25%|██▌       | 1/4 [00:00<00:02,  1.22it/s]\u001b[A\u001b[A\n",
      "\n",
      " 50%|█████     | 2/4 [00:01<00:01,  1.26it/s]\u001b[A\u001b[A\n",
      "\n",
      " 75%|███████▌  | 3/4 [00:02<00:00,  1.28it/s]\u001b[A\u001b[A\n",
      "\n",
      "100%|██████████| 4/4 [00:03<00:00,  1.26it/s]\u001b[A\u001b[A\n",
      "\n",
      "  3%|▎         | 335/10000 [23:34<10:05:55,  3.76s/it]\u001b[A\n",
      "\n",
      "  0%|          | 0/4 [00:00<?, ?it/s]\u001b[A\u001b[A\n",
      "\n",
      " 25%|██▌       | 1/4 [00:00<00:02,  1.26it/s]\u001b[A\u001b[A\n",
      "\n",
      " 50%|█████     | 2/4 [00:01<00:01,  1.23it/s]\u001b[A\u001b[A\n",
      "\n",
      " 75%|███████▌  | 3/4 [00:02<00:00,  1.23it/s]\u001b[A\u001b[A\n",
      "\n",
      "100%|██████████| 4/4 [00:03<00:00,  1.27it/s]\u001b[A\u001b[A\n",
      "\n",
      "  3%|▎         | 336/10000 [23:38<10:07:00,  3.77s/it]\u001b[A\n",
      "\n",
      "  0%|          | 0/4 [00:00<?, ?it/s]\u001b[A\u001b[A\n",
      "\n",
      " 25%|██▌       | 1/4 [00:00<00:02,  1.24it/s]\u001b[A\u001b[A\n",
      "\n",
      " 50%|█████     | 2/4 [00:01<00:01,  1.22it/s]\u001b[A\u001b[A\n",
      "\n",
      " 75%|███████▌  | 3/4 [00:02<00:00,  1.23it/s]\u001b[A\u001b[A\n",
      "\n",
      "100%|██████████| 4/4 [00:03<00:00,  1.28it/s]\u001b[A\u001b[A\n",
      "\n",
      "  3%|▎         | 337/10000 [23:42<10:04:18,  3.75s/it]\u001b[A\n",
      "\n",
      "  0%|          | 0/4 [00:00<?, ?it/s]\u001b[A\u001b[A\n",
      "\n",
      " 25%|██▌       | 1/4 [00:00<00:02,  1.28it/s]\u001b[A\u001b[A\n",
      "\n",
      " 50%|█████     | 2/4 [00:01<00:01,  1.28it/s]\u001b[A\u001b[A\n",
      "\n",
      " 75%|███████▌  | 3/4 [00:02<00:00,  1.26it/s]\u001b[A\u001b[A\n",
      "\n",
      "100%|██████████| 4/4 [00:03<00:00,  1.28it/s]\u001b[A\u001b[A\n",
      "\n",
      "  3%|▎         | 338/10000 [23:46<10:03:06,  3.75s/it]\u001b[A\n",
      "\n",
      "  0%|          | 0/4 [00:00<?, ?it/s]\u001b[A\u001b[A\n",
      "\n",
      " 25%|██▌       | 1/4 [00:00<00:02,  1.25it/s]\u001b[A\u001b[A\n",
      "\n",
      " 50%|█████     | 2/4 [00:01<00:01,  1.26it/s]\u001b[A\u001b[A\n",
      "\n",
      " 75%|███████▌  | 3/4 [00:02<00:00,  1.24it/s]\u001b[A\u001b[A\n",
      "\n",
      "100%|██████████| 4/4 [00:03<00:00,  1.26it/s]\u001b[A\u001b[A\n",
      "\n",
      "  3%|▎         | 339/10000 [23:49<10:06:33,  3.77s/it]\u001b[A\n",
      "\n",
      "  0%|          | 0/4 [00:00<?, ?it/s]\u001b[A\u001b[A\n",
      "\n",
      " 25%|██▌       | 1/4 [00:00<00:02,  1.28it/s]\u001b[A\u001b[A\n",
      "\n",
      " 50%|█████     | 2/4 [00:01<00:01,  1.26it/s]\u001b[A\u001b[A\n",
      "\n",
      " 75%|███████▌  | 3/4 [00:02<00:00,  1.26it/s]\u001b[A\u001b[A\n",
      "\n",
      "100%|██████████| 4/4 [00:03<00:00,  1.30it/s]\u001b[A\u001b[A\n",
      "\n",
      "  3%|▎         | 340/10000 [23:53<10:04:40,  3.76s/it]\u001b[A\n",
      "\n",
      "  0%|          | 0/4 [00:00<?, ?it/s]\u001b[A\u001b[A\n",
      "\n",
      " 25%|██▌       | 1/4 [00:00<00:02,  1.26it/s]\u001b[A\u001b[A\n",
      "\n",
      " 50%|█████     | 2/4 [00:01<00:01,  1.20it/s]\u001b[A\u001b[A\n",
      "\n",
      " 75%|███████▌  | 3/4 [00:02<00:00,  1.20it/s]\u001b[A\u001b[A\n",
      "\n",
      "100%|██████████| 4/4 [00:03<00:00,  1.24it/s]\u001b[A\u001b[A\n",
      "\n",
      "  3%|▎         | 341/10000 [23:57<10:11:07,  3.80s/it]\u001b[A\n",
      "\n",
      "  0%|          | 0/4 [00:00<?, ?it/s]\u001b[A\u001b[A\n",
      "\n",
      " 25%|██▌       | 1/4 [00:00<00:02,  1.20it/s]\u001b[A\u001b[A\n",
      "\n",
      " 50%|█████     | 2/4 [00:01<00:01,  1.21it/s]\u001b[A\u001b[A\n",
      "\n",
      " 75%|███████▌  | 3/4 [00:02<00:00,  1.21it/s]\u001b[A\u001b[A\n",
      "\n",
      "100%|██████████| 4/4 [00:03<00:00,  1.24it/s]\u001b[A\u001b[A\n",
      "\n",
      "  3%|▎         | 342/10000 [24:01<10:15:31,  3.82s/it]\u001b[A\n",
      "\n",
      "  0%|          | 0/4 [00:00<?, ?it/s]\u001b[A\u001b[A\n",
      "\n",
      " 25%|██▌       | 1/4 [00:00<00:02,  1.22it/s]\u001b[A\u001b[A\n",
      "\n",
      " 50%|█████     | 2/4 [00:01<00:01,  1.24it/s]\u001b[A\u001b[A\n",
      "\n",
      " 75%|███████▌  | 3/4 [00:02<00:00,  1.24it/s]\u001b[A\u001b[A\n",
      "\n",
      "100%|██████████| 4/4 [00:03<00:00,  1.28it/s]\u001b[A\u001b[A\n",
      "\n",
      "  3%|▎         | 343/10000 [24:05<10:13:30,  3.81s/it]\u001b[A\n",
      "\n",
      "  0%|          | 0/4 [00:00<?, ?it/s]\u001b[A\u001b[A\n",
      "\n",
      " 25%|██▌       | 1/4 [00:00<00:02,  1.17it/s]\u001b[A\u001b[A\n",
      "\n",
      " 50%|█████     | 2/4 [00:01<00:01,  1.17it/s]\u001b[A\u001b[A\n",
      "\n",
      " 75%|███████▌  | 3/4 [00:02<00:00,  1.19it/s]\u001b[A\u001b[A\n",
      "\n",
      "100%|██████████| 4/4 [00:03<00:00,  1.24it/s]\u001b[A\u001b[A\n",
      "\n",
      "  3%|▎         | 344/10000 [24:09<10:14:23,  3.82s/it]\u001b[A\n",
      "\n",
      "  0%|          | 0/4 [00:00<?, ?it/s]\u001b[A\u001b[A\n",
      "\n",
      " 25%|██▌       | 1/4 [00:00<00:02,  1.17it/s]\u001b[A\u001b[A\n",
      "\n",
      " 50%|█████     | 2/4 [00:01<00:01,  1.19it/s]\u001b[A\u001b[A\n",
      "\n",
      " 75%|███████▌  | 3/4 [00:02<00:00,  1.24it/s]\u001b[A\u001b[A\n",
      "\n",
      "100%|██████████| 4/4 [00:03<00:00,  1.25it/s]\u001b[A\u001b[A\n",
      "\n",
      "  3%|▎         | 345/10000 [24:12<10:17:45,  3.84s/it]\u001b[A\n",
      "\n",
      "  0%|          | 0/4 [00:00<?, ?it/s]\u001b[A\u001b[A\n",
      "\n",
      " 25%|██▌       | 1/4 [00:00<00:02,  1.13it/s]\u001b[A\u001b[A\n",
      "  4%|▍         | 421/10000 [29:12<10:31:38,  3.96s/it]\u001b[A\n",
      "\n",
      "  0%|          | 0/4 [00:00<?, ?it/s]\u001b[A\u001b[A\n",
      "\n",
      " 25%|██▌       | 1/4 [00:00<00:02,  1.16it/s]\u001b[A\u001b[A\n",
      "\n",
      " 50%|█████     | 2/4 [00:01<00:01,  1.14it/s]\u001b[A\u001b[A\n",
      "\n",
      " 75%|███████▌  | 3/4 [00:02<00:00,  1.14it/s]\u001b[A\u001b[A\n",
      "\n",
      "100%|██████████| 4/4 [00:03<00:00,  1.18it/s]\u001b[A\u001b[A\n",
      "\n",
      "  4%|▍         | 422/10000 [29:16<10:34:08,  3.97s/it]\u001b[A\n",
      "\n",
      "  0%|          | 0/4 [00:00<?, ?it/s]\u001b[A\u001b[A\n",
      "\n",
      " 25%|██▌       | 1/4 [00:00<00:02,  1.08it/s]\u001b[A\u001b[A\n",
      "\n",
      " 50%|█████     | 2/4 [00:01<00:01,  1.12it/s]\u001b[A\u001b[A\n",
      "\n",
      " 75%|███████▌  | 3/4 [00:02<00:00,  1.13it/s]\u001b[A\u001b[A\n",
      "\n",
      "100%|██████████| 4/4 [00:03<00:00,  1.17it/s]\u001b[A\u001b[A\n",
      "\n",
      "  4%|▍         | 423/10000 [29:20<10:37:16,  3.99s/it]\u001b[A\n",
      "\n",
      "  0%|          | 0/4 [00:00<?, ?it/s]\u001b[A\u001b[A\n",
      "\n",
      " 25%|██▌       | 1/4 [00:00<00:02,  1.26it/s]\u001b[A\u001b[A\n",
      "\n",
      " 50%|█████     | 2/4 [00:01<00:01,  1.20it/s]\u001b[A\u001b[A\n",
      "\n",
      " 75%|███████▌  | 3/4 [00:02<00:00,  1.15it/s]\u001b[A\u001b[A\n",
      "\n",
      "100%|██████████| 4/4 [00:03<00:00,  1.21it/s]\u001b[A\u001b[A\n",
      "\n",
      "  4%|▍         | 424/10000 [29:24<10:35:48,  3.98s/it]\u001b[A\n",
      "\n",
      "  0%|          | 0/4 [00:00<?, ?it/s]\u001b[A\u001b[A\n",
      "\n",
      " 25%|██▌       | 1/4 [00:00<00:02,  1.22it/s]\u001b[A\u001b[A\n",
      "\n",
      " 50%|█████     | 2/4 [00:01<00:01,  1.18it/s]\u001b[A\u001b[A\n",
      "\n",
      " 75%|███████▌  | 3/4 [00:02<00:00,  1.20it/s]\u001b[A\u001b[A\n",
      "\n",
      "100%|██████████| 4/4 [00:03<00:00,  1.25it/s]\u001b[A\u001b[A\n",
      "\n",
      "  4%|▍         | 425/10000 [29:28<10:30:35,  3.95s/it]\u001b[A\n",
      "\n",
      "  0%|          | 0/4 [00:00<?, ?it/s]\u001b[A\u001b[A"
     ]
    }
   ],
   "source": [
    "output_dict, model = perform_cross_validation(data, parameters, save_embeddings=True, save_subgraph=True, final_fit=True)"
   ]
  },
  {
   "cell_type": "code",
   "execution_count": 15,
   "metadata": {},
   "outputs": [
    {
     "name": "stdout",
     "output_type": "stream",
     "text": [
      "AUC: 0.7899070881929522\n",
      "Balanced Accuracy: 0.7139247676778068\n"
     ]
    }
   ],
   "source": [
    "output_dict.keys()\n",
    "print('AUC:', output_dict['AUC_0_test'])\n",
    "print('Balanced Accuracy:', output_dict['Balanced Accuracy_0_test'])"
   ]
  },
  {
   "cell_type": "code",
   "execution_count": 16,
   "metadata": {},
   "outputs": [],
   "source": [
    "unique_scales = df_item['scale'].unique()\n",
    "unique_domains = df_item['domain'].unique()\n",
    "unique_matdiff = df_item['matdiff'].sort_values().unique()\n",
    "#scale_colors = dict([(c, plt.cm.tab10(i)) for i, c in enumerate(unique_scales)])\n",
    "#domain_colors = dict([(c, plt.cm.tab10(i)) for i, c in enumerate(unique_domains)])"
   ]
  },
  {
   "cell_type": "code",
   "execution_count": null,
   "metadata": {},
   "outputs": [],
   "source": [
    "train_losses = output_dict['losses_0']\n",
    "train_edge_indices, val_edge_indices, test_edge_indices = output_dict['indices_0']\n",
    "\n",
    "train_data = output_dict['train_subgraph_data'] \n",
    "val_data = output_dict['val_subgraph_data'] \n",
    "test_data = output_dict['test_subgraph_data']\n",
    "\n",
    "aux_data = (df, df_student, df_item, df_edge, \n",
    "    #clustering_indices, \n",
    "    train_losses, #test_losses, test_aucs, \n",
    "    train_edge_indices, val_edge_indices, test_edge_indices, \n",
    "    data.cpu(), train_data.cpu(), val_data.cpu(), test_data.cpu(),\n",
    "    unique_scales, unique_domains, unique_matdiff, \n",
    "    DATA_FILE)\n",
    "\n",
    "with open(f'./results/{OUTNAME}_{DATASET}_aux_data.pkl', 'wb') as handle:\n",
    "    pickle.dump(aux_data, handle, protocol=pickle.HIGHEST_PROTOCOL)"
   ]
  },
  {
   "cell_type": "code",
   "execution_count": null,
   "metadata": {},
   "outputs": [],
   "source": [
    "# SAVE EVERYTHING\n",
    "torch.save(model, f'./results/{OUTNAME}_{DATASET}.pth.tar')"
   ]
  },
  {
   "cell_type": "code",
   "execution_count": null,
   "metadata": {},
   "outputs": [],
   "source": [
    "train_indices = np.arange(len(train_losses))\n",
    "fig = plt.figure()\n",
    "plt.plot(train_indices, train_losses, c='blue')\n",
    "plt.ylabel('Loss')\n",
    "plt.xlabel('Epoch')\n",
    "\n",
    "fig.tight_layout()"
   ]
  },
  {
   "cell_type": "code",
   "execution_count": null,
   "metadata": {},
   "outputs": [],
   "source": [
    "# save IRT parameters to matrix\n",
    "if OUTNAME == 'IRT' and IRT_DIMS == 1:    \n",
    "    #z_dict = model.get_embeddings(train_data.to(device))\n",
    "    z_dict = output_dict['embedding_0']\n",
    "    df_item['IRT1_difficulty'] = -z_dict['offset']\n",
    "    df_item['IRT1_discrimination'] = z_dict['discrimination']\n",
    "    df_item['IRT1_discrimination_transf'] = z_dict['item']\n",
    "    ability = z_dict['ability']\n",
    "    df_edge['IRT1_ability'] = ability.ravel()\n",
    "    \n",
    "    aux_data = (df, df_student, df_item, df_edge, \n",
    "    train_losses, \n",
    "    train_edge_indices, val_edge_indices, test_edge_indices,\n",
    "    data.cpu(), train_data.cpu(), val_data.cpu().cpu(), test_data.cpu(),\n",
    "    unique_scales, unique_domains, unique_matdiff, \n",
    "    DATA_FILE)\n",
    "\n",
    "    with open(f'./results/{OUTNAME}_{DATASET}_aux_data_IRT1.pkl', 'wb') as handle:\n",
    "        pickle.dump(aux_data, handle, protocol=pickle.HIGHEST_PROTOCOL)\n",
    "        \n",
    "    df_item_clean = df_item.dropna(subset=['IRT_difficulty', 'IRT1_difficulty'])    \n",
    "    \n",
    "    fig = plt.figure()\n",
    "    sns.scatterplot(x='IRT_difficulty', y='IRT1_difficulty', data=df_item, hue='scale')\n",
    "    plt.title('Difficulty')\n",
    "    print('Difficulty:', pearsonr(df_item_clean['IRT1_difficulty'], df_item_clean['IRT_difficulty']))\n",
    "    \n",
    "    edge_feat = train_data['student', 'responds', 'item'].edge_attr.detach().cpu().numpy()\n",
    "    df_edge_clean = df_edge.dropna(subset=['IRT1_ability', 'ability', 'age'])\n",
    "    fig = plt.figure()\n",
    "    sns.scatterplot(x='age', y='IRT1_ability', data=df_edge_clean, hue='grade')\n",
    "    plt.title('Age-Ability')\n",
    "    \n",
    "    fig = plt.figure()\n",
    "    sns.scatterplot(x='grade', y='IRT1_ability', data=df_edge_clean, hue='age')\n",
    "    plt.title('Grade-Ability')\n",
    "    print('Age-Ability:', pearsonr(df_edge_clean['age'], df_edge_clean['IRT1_ability']))\n",
    "\n",
    "    fig = plt.figure()\n",
    "    sns.scatterplot(x='ability', y='IRT1_ability', data=df_edge_clean, hue='grade')\n",
    "    plt.title('Ability')\n",
    "    print('Ability:', pearsonr(df_edge_clean['ability'], df_edge_clean['IRT1_ability']))\n",
    "    "
   ]
  }
 ],
 "metadata": {
  "celltoolbar": "Tags",
  "kernelspec": {
   "display_name": "Python 3 (ipykernel)",
   "language": "python",
   "name": "python3"
  },
  "language_info": {
   "codemirror_mode": {
    "name": "ipython",
    "version": 3
   },
   "file_extension": ".py",
   "mimetype": "text/x-python",
   "name": "python",
   "nbconvert_exporter": "python",
   "pygments_lexer": "ipython3",
   "version": "3.8.19"
  },
  "vscode": {
   "interpreter": {
    "hash": "88516cc94b965045253aac22be7e673e07faa374a8dfeab45aefc65ddf94d8b2"
   }
  }
 },
 "nbformat": 4,
 "nbformat_minor": 4
}
