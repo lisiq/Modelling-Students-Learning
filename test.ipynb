{
 "cells": [
  {
   "cell_type": "markdown",
   "metadata": {},
   "source": [
    "https://en.wikipedia.org/wiki/N-sphere#Spherical_coordinates"
   ]
  },
  {
   "cell_type": "code",
   "execution_count": 1,
   "metadata": {},
   "outputs": [
    {
     "name": "stdout",
     "output_type": "stream",
     "text": [
      "[5.18009163 5.83399049 5.41977889 1.37695042 0.46098187]\n",
      "Generated angles in radians: [5.18009163 5.83399049 5.41977889 1.37695042 0.46098187]\n",
      "Converted Cartesian coordinates with radius 1: [ 0.45083685 -0.80405717  0.25188642 -0.05675077 -0.25891019 -0.12859351]\n"
     ]
    }
   ],
   "source": [
    "import numpy as np\n",
    "\n",
    "def polar_to_cartesian(radius, angles):\n",
    "    n = len(angles)+1\n",
    "    cartesian_coordinates = np.ones(n) * radius\n",
    "    for i in range(n-1):\n",
    "        # print(i)\n",
    "        for j in range(i):\n",
    "            # print('sin ',j+1)\n",
    "            cartesian_coordinates[i] *= np.sin(angles[j])\n",
    "        # print('cos ',i+1)\n",
    "        cartesian_coordinates[i] *= np.cos(angles[i])\n",
    "    # print('sin ',n-1)\n",
    "    cartesian_coordinates[n-1] *= np.prod([np.sin(angles[i]) for i in range(n-1)])\n",
    "    return cartesian_coordinates\n",
    "\n",
    "# Number of dimensions\n",
    "n = 5\n",
    "\n",
    "# Fixed radius\n",
    "radius = 1\n",
    "\n",
    "# Generate random angles in radians\n",
    "theta = np.random.uniform(0, 2*np.pi, n)\n",
    "print(theta)\n",
    "\n",
    "# Convert to Cartesian coordinates with the given radius\n",
    "cartesian_coordinates = polar_to_cartesian(radius, theta)\n",
    "\n",
    "# Display the results\n",
    "print(\"Generated angles in radians:\", theta)\n",
    "print(f\"Converted Cartesian coordinates with radius {radius}:\", cartesian_coordinates)"
   ]
  },
  {
   "cell_type": "code",
   "execution_count": 2,
   "metadata": {},
   "outputs": [],
   "source": [
    "import torch"
   ]
  },
  {
   "cell_type": "code",
   "execution_count": 3,
   "metadata": {},
   "outputs": [
    {
     "name": "stdout",
     "output_type": "stream",
     "text": [
      "[tensor([1., 1.]), tensor([-1., -1.])]\n"
     ]
    }
   ],
   "source": [
    "radius = np.sqrt(2)\n",
    "list_theta = []\n",
    "# sampling random angles for the gaussian means\n",
    "for i in range(2):\n",
    "    list_theta.append(np.random.uniform(0, 2*np.pi, 2-1)) # -1 cause one dimension is fixed by the radius\n",
    "list_theta = [np.array(theta) for theta in [[np.pi/4],[(3/2)*np.pi - np.pi/4]]]\n",
    "gaussian_means = [torch.from_numpy(polar_to_cartesian(radius, theta)).float() for theta in list_theta]\n",
    "print(gaussian_means)"
   ]
  },
  {
   "cell_type": "code",
   "execution_count": 4,
   "metadata": {},
   "outputs": [],
   "source": [
    "def get_difficulty_boundaries(radius, target_probability):\n",
    "    return np.log((1-target_probability)/target_probability) + radius**2"
   ]
  },
  {
   "cell_type": "code",
   "execution_count": 7,
   "metadata": {},
   "outputs": [
    {
     "data": {
      "text/plain": [
       "-0.19722457733621912"
      ]
     },
     "execution_count": 7,
     "metadata": {},
     "output_type": "execute_result"
    }
   ],
   "source": [
    "get_difficulty_boundaries(radius, .9)"
   ]
  },
  {
   "cell_type": "code",
   "execution_count": 22,
   "metadata": {},
   "outputs": [],
   "source": [
    "import random"
   ]
  },
  {
   "cell_type": "code",
   "execution_count": 38,
   "metadata": {},
   "outputs": [
    {
     "data": {
      "text/plain": [
       "[-0.9444389791664389,\n",
       " -0.9444389791664389,\n",
       " 0.3194733006847754,\n",
       " -0.9444389791664389,\n",
       " 2.8472978603872043,\n",
       " 2.8472978603872043,\n",
       " 1.5833855805359898,\n",
       " 0.3194733006847754,\n",
       " 2.8472978603872043,\n",
       " 0.3194733006847754]"
      ]
     },
     "execution_count": 38,
     "metadata": {},
     "output_type": "execute_result"
    }
   ],
   "source": [
    "n_difficulty_levels = 4\n",
    "n_items = 10\n",
    "difficulty_levels = np.linspace(\n",
    "    get_difficulty_boundaries(radius, .95), # lower difficulty boundary\n",
    "    get_difficulty_boundaries(radius, .3), # higher difficulty boundary\n",
    "    n_difficulty_levels)  # number of difficulty levels\n",
    "random.choices(\n",
    "    population=list(difficulty_levels), \n",
    "    weights=None, # weights are all equal. However, we could use a different distribution\n",
    "    k=n_items)"
   ]
  },
  {
   "cell_type": "code",
   "execution_count": 36,
   "metadata": {},
   "outputs": [
    {
     "data": {
      "text/plain": [
       "array([-0.94443898,  0.3194733 ,  1.58338558,  2.84729786])"
      ]
     },
     "execution_count": 36,
     "metadata": {},
     "output_type": "execute_result"
    }
   ],
   "source": [
    "difficulty_levels"
   ]
  },
  {
   "cell_type": "code",
   "execution_count": null,
   "metadata": {},
   "outputs": [],
   "source": [
    "get_difficulty_boundaries(radius, .3) for k in range(100)"
   ]
  },
  {
   "cell_type": "code",
   "execution_count": 2,
   "metadata": {},
   "outputs": [
    {
     "data": {
      "text/plain": [
       "[[2, 0, 0], [0, 0, 1], [1, 0, 2]]"
      ]
     },
     "execution_count": 2,
     "metadata": {},
     "output_type": "execute_result"
    }
   ],
   "source": [
    "from sklearn.metrics import confusion_matrix\n",
    "\n",
    "y_true = [2, 0, 2, 2, 0, 1]\n",
    "y_pred = [0, 0, 2, 2, 0, 2]\n",
    "\n",
    "confusion_matrix(y_true, y_pred).tolist()"
   ]
  },
  {
   "cell_type": "code",
   "execution_count": null,
   "metadata": {},
   "outputs": [],
   "source": []
  },
  {
   "cell_type": "code",
   "execution_count": null,
   "metadata": {},
   "outputs": [],
   "source": []
  }
 ],
 "metadata": {
  "kernelspec": {
   "display_name": "pyg",
   "language": "python",
   "name": "python3"
  },
  "language_info": {
   "codemirror_mode": {
    "name": "ipython",
    "version": 3
   },
   "file_extension": ".py",
   "mimetype": "text/x-python",
   "name": "python",
   "nbconvert_exporter": "python",
   "pygments_lexer": "ipython3",
   "version": "3.10.13"
  }
 },
 "nbformat": 4,
 "nbformat_minor": 2
}
