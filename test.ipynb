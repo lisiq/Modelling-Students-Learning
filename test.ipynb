{
 "cells": [
  {
   "cell_type": "code",
   "execution_count": 1,
   "metadata": {},
   "outputs": [],
   "source": [
    "import torch_geometric\n",
    "import torch"
   ]
  },
  {
   "cell_type": "code",
   "execution_count": 2,
   "metadata": {},
   "outputs": [],
   "source": [
    "edge_index = torch.tensor([\n",
    "    list(range(10)),\n",
    "    list(range(10, 20))\n",
    "])"
   ]
  },
  {
   "cell_type": "code",
   "execution_count": 3,
   "metadata": {},
   "outputs": [],
   "source": [
    "edge_index_list = []\n",
    "for i in range(10):\n",
    "    for j in range(10,20):\n",
    "        edge_index_list.append([i,j])\n",
    "edge_index = torch.as_tensor(edge_index_list)"
   ]
  },
  {
   "cell_type": "code",
   "execution_count": 4,
   "metadata": {},
   "outputs": [],
   "source": [
    "data = torch_geometric.data.Data(edge_index=edge_index.T.contiguous())"
   ]
  },
  {
   "cell_type": "code",
   "execution_count": 5,
   "metadata": {},
   "outputs": [
    {
     "data": {
      "text/plain": [
       "tensor([[ 0,  0,  0,  0,  0,  0,  0,  0,  0,  0,  1,  1,  1,  1,  1,  1,  1,  1,\n",
       "          1,  1,  2,  2,  2,  2,  2,  2,  2,  2,  2,  2,  3,  3,  3,  3,  3,  3,\n",
       "          3,  3,  3,  3,  4,  4,  4,  4,  4,  4,  4,  4,  4,  4,  5,  5,  5,  5,\n",
       "          5,  5,  5,  5,  5,  5,  6,  6,  6,  6,  6,  6,  6,  6,  6,  6,  7,  7,\n",
       "          7,  7,  7,  7,  7,  7,  7,  7,  8,  8,  8,  8,  8,  8,  8,  8,  8,  8,\n",
       "          9,  9,  9,  9,  9,  9,  9,  9,  9,  9],\n",
       "        [10, 11, 12, 13, 14, 15, 16, 17, 18, 19, 10, 11, 12, 13, 14, 15, 16, 17,\n",
       "         18, 19, 10, 11, 12, 13, 14, 15, 16, 17, 18, 19, 10, 11, 12, 13, 14, 15,\n",
       "         16, 17, 18, 19, 10, 11, 12, 13, 14, 15, 16, 17, 18, 19, 10, 11, 12, 13,\n",
       "         14, 15, 16, 17, 18, 19, 10, 11, 12, 13, 14, 15, 16, 17, 18, 19, 10, 11,\n",
       "         12, 13, 14, 15, 16, 17, 18, 19, 10, 11, 12, 13, 14, 15, 16, 17, 18, 19,\n",
       "         10, 11, 12, 13, 14, 15, 16, 17, 18, 19]])"
      ]
     },
     "execution_count": 5,
     "metadata": {},
     "output_type": "execute_result"
    }
   ],
   "source": [
    "data.edge_index.contiguous()"
   ]
  },
  {
   "cell_type": "code",
   "execution_count": 6,
   "metadata": {},
   "outputs": [],
   "source": [
    "from torch_geometric.loader import NeighborLoader"
   ]
  },
  {
   "cell_type": "code",
   "execution_count": 7,
   "metadata": {},
   "outputs": [
    {
     "name": "stderr",
     "output_type": "stream",
     "text": [
      "c:\\Users\\liq02qc\\AppData\\Local\\anaconda3\\envs\\stud_net\\lib\\site-packages\\torch_geometric\\data\\storage.py:303: UserWarning: Unable to accurately infer 'num_nodes' from the attribute set '{'edge_index'}'. Please explicitly set 'num_nodes' as an attribute of 'data' to suppress this warning\n",
      "  warnings.warn(\n"
     ]
    }
   ],
   "source": [
    "train_loader = NeighborLoader(data, \n",
    "                            num_neighbors = [2,2], \n",
    "                            input_nodes=range(20),\n",
    "                            directed=True,\n",
    "                            replace=False,\n",
    "                            batch_size=5)"
   ]
  },
  {
   "cell_type": "code",
   "execution_count": 8,
   "metadata": {},
   "outputs": [],
   "source": [
    "d = next(iter(train_loader))"
   ]
  },
  {
   "cell_type": "code",
   "execution_count": 9,
   "metadata": {},
   "outputs": [
    {
     "data": {
      "text/plain": [
       "Data(edge_index=[2, 0], n_id=[5], e_id=[0], input_id=[5], batch_size=5)"
      ]
     },
     "execution_count": 9,
     "metadata": {},
     "output_type": "execute_result"
    }
   ],
   "source": [
    "d"
   ]
  },
  {
   "cell_type": "code",
   "execution_count": 10,
   "metadata": {},
   "outputs": [
    {
     "data": {
      "text/plain": [
       "tensor([], size=(2, 0), dtype=torch.int64)"
      ]
     },
     "execution_count": 10,
     "metadata": {},
     "output_type": "execute_result"
    }
   ],
   "source": [
    "d.edge_index"
   ]
  },
  {
   "cell_type": "markdown",
   "metadata": {},
   "source": [
    "# Hetero"
   ]
  },
  {
   "cell_type": "markdown",
   "metadata": {},
   "source": [
    "We have heterogenous graph where connnection encode\"students\" performing \"tasks\". We predict link labels (students outcomes on the taks) using GraphSAGE. \n",
    "\n",
    "We get an unexpected behavior from the NeighborLoader: we want to sample neighors with \"students\" as starting nodes; however, although we set input_nodes=('student', [0]  ) in the init of NeighborLoader, the neighborhood are sampled from the \"tasks\".  "
   ]
  },
  {
   "cell_type": "code",
   "execution_count": 65,
   "metadata": {},
   "outputs": [
    {
     "data": {
      "text/plain": [
       "HeteroData(\n",
       "  \u001b[1mstudent\u001b[0m={\n",
       "    node_id=[1],\n",
       "    n_id=[1],\n",
       "    input_id=[1],\n",
       "    batch_size=1\n",
       "  },\n",
       "  \u001b[1mtask\u001b[0m={\n",
       "    node_id=[5],\n",
       "    n_id=[5]\n",
       "  },\n",
       "  \u001b[1m(student, takes, task)\u001b[0m={\n",
       "    edge_index=[2, 0],\n",
       "    e_id=[0]\n",
       "  },\n",
       "  \u001b[1m(task, rev_takes, student)\u001b[0m={\n",
       "    edge_index=[2, 5],\n",
       "    e_id=[5]\n",
       "  }\n",
       ")"
      ]
     },
     "execution_count": 65,
     "metadata": {},
     "output_type": "execute_result"
    }
   ],
   "source": [
    "import numpy as np\n",
    "from torch_geometric.data import HeteroData\n",
    "import torch_geometric.transforms as T\n",
    "\n",
    "# creating edge indices as (student_id, task_id)\n",
    "n_students = 10\n",
    "n_tasks= 5\n",
    "edge_index_list = []\n",
    "for i in range(n_students):\n",
    "    for j in range(n_tasks):\n",
    "        edge_index_list.append([i,j])\n",
    "edge_index = torch.as_tensor(edge_index_list).T\n",
    "\n",
    "\n",
    "data  = HeteroData()\n",
    "# Save node indices\n",
    "data['student'].node_id = torch.arange(n_students)\n",
    "data['task'].node_id = torch.arange(n_tasks)\n",
    "\n",
    "\n",
    "# Add the edge indices\n",
    "# Here we expect to pass direct connections from students to tasks \n",
    "data['student', \"takes\", \"task\"].edge_index = edge_index.contiguous()\n",
    "\n",
    "\n",
    "# We use T.ToUndirected() to add the reverse edges from subject to students \n",
    "# in order to let GNN pass messages in both ways\n",
    "data = T.ToUndirected()(data)\n",
    "del data['task', 'rev_takes', 'student'].edge_attr  # Remove \"reverse\" label.\n",
    "\n",
    "train_loader = NeighborLoader(data, \n",
    "                    num_neighbors = {key: [10] for key in data.edge_types}, \n",
    "                    input_nodes=('student', [0]  ), #data['student'].node_id),\n",
    "                    directed=True,\n",
    "                    replace=False,\n",
    "                    batch_size=1)\n",
    "\n",
    "\n",
    "d = next(iter(train_loader))\n",
    "d"
   ]
  },
  {
   "cell_type": "code",
   "execution_count": 11,
   "metadata": {},
   "outputs": [],
   "source": [
    "import numpy as np\n",
    "from torch_geometric.data import HeteroData\n",
    "import torch_geometric.transforms as T"
   ]
  },
  {
   "cell_type": "code",
   "execution_count": 28,
   "metadata": {},
   "outputs": [],
   "source": [
    "n_students = 10\n",
    "n_tasks= 5"
   ]
  },
  {
   "cell_type": "code",
   "execution_count": 29,
   "metadata": {},
   "outputs": [],
   "source": [
    "edge_index_list = []\n",
    "for i in range(n_students):\n",
    "    for j in range(n_tasks):\n",
    "        edge_index_list.append([i,j])\n",
    "edge_index = torch.as_tensor(edge_index_list)"
   ]
  },
  {
   "cell_type": "code",
   "execution_count": 49,
   "metadata": {},
   "outputs": [],
   "source": [
    "data  = HeteroData()\n",
    "\n",
    "# Save node indices\n",
    "data['student'].node_id = torch.arange(n_students)\n",
    "data['code'].node_id = torch.arange(n_tasks)\n",
    "\n",
    "# Add the node features\n",
    "# there seems to be students with different mother tounge and gender in different occasions\n",
    "data[\"student\"].x= torch.eye(n_students)\n",
    "data[\"code\"].x = torch.eye(n_tasks)\n",
    "\n",
    "# Add the edge indices\n",
    "data['student', \"takes\", \"code\"].edge_index = edge_index.T.contiguous()\n",
    "\n",
    "# # Add the edge label\n",
    "# data['student', \"takes\", \"code\"].y = torch.from_numpy(np.array(y)).to(torch.long)\n",
    "\n",
    "# We use T.ToUndirected() to add the reverse edges from subject to students \n",
    "# in order to let GNN pass messages in both ways\n",
    "data = T.ToUndirected()(data)\n",
    "del data['code', 'rev_takes', 'student'].edge_attr  # Remove \"reverse\" label.\n",
    "# del data['code', 'rev_takes', 'student'].y  # Remove \"reverse\" label."
   ]
  },
  {
   "cell_type": "code",
   "execution_count": 50,
   "metadata": {},
   "outputs": [
    {
     "data": {
      "text/plain": [
       "tensor([[0, 0, 0, 0, 0, 1, 1, 1, 1, 1, 2, 2, 2, 2, 2, 3, 3, 3, 3, 3, 4, 4, 4, 4,\n",
       "         4, 5, 5, 5, 5, 5, 6, 6, 6, 6, 6, 7, 7, 7, 7, 7, 8, 8, 8, 8, 8, 9, 9, 9,\n",
       "         9, 9],\n",
       "        [0, 1, 2, 3, 4, 0, 1, 2, 3, 4, 0, 1, 2, 3, 4, 0, 1, 2, 3, 4, 0, 1, 2, 3,\n",
       "         4, 0, 1, 2, 3, 4, 0, 1, 2, 3, 4, 0, 1, 2, 3, 4, 0, 1, 2, 3, 4, 0, 1, 2,\n",
       "         3, 4]])"
      ]
     },
     "execution_count": 50,
     "metadata": {},
     "output_type": "execute_result"
    }
   ],
   "source": [
    "data['student', \"takes\", \"code\"].edge_index"
   ]
  },
  {
   "cell_type": "code",
   "execution_count": 62,
   "metadata": {},
   "outputs": [],
   "source": [
    "train_loader = NeighborLoader(data, \n",
    "                                    num_neighbors = {key: [10,1] for key in data.edge_types}, \n",
    "                                    input_nodes=('student', [0]  ), #data['student'].node_id),\n",
    "                                    directed=True,\n",
    "                                    replace=False,\n",
    "                                    batch_size=1)"
   ]
  },
  {
   "cell_type": "code",
   "execution_count": 59,
   "metadata": {},
   "outputs": [
    {
     "data": {
      "text/plain": [
       "HeteroData(\n",
       "  \u001b[1mstudent\u001b[0m={\n",
       "    node_id=[10],\n",
       "    x=[10, 10],\n",
       "    n_id=[10]\n",
       "  },\n",
       "  \u001b[1mcode\u001b[0m={\n",
       "    node_id=[4],\n",
       "    x=[4, 5],\n",
       "    n_id=[4],\n",
       "    input_id=[1],\n",
       "    batch_size=1\n",
       "  },\n",
       "  \u001b[1m(student, takes, code)\u001b[0m={\n",
       "    edge_index=[2, 10],\n",
       "    e_id=[10]\n",
       "  },\n",
       "  \u001b[1m(code, rev_takes, student)\u001b[0m={\n",
       "    edge_index=[2, 10],\n",
       "    e_id=[10]\n",
       "  }\n",
       ")"
      ]
     },
     "execution_count": 59,
     "metadata": {},
     "output_type": "execute_result"
    }
   ],
   "source": [
    "d = next(iter(train_loader))\n",
    "d"
   ]
  },
  {
   "cell_type": "code",
   "execution_count": 34,
   "metadata": {},
   "outputs": [
    {
     "data": {
      "text/plain": [
       "HeteroData(\n",
       "  \u001b[1mstudent\u001b[0m={\n",
       "    node_id=[1],\n",
       "    x=[1, 10],\n",
       "    n_id=[1],\n",
       "    input_id=[1],\n",
       "    batch_size=1\n",
       "  },\n",
       "  \u001b[1mcode\u001b[0m={\n",
       "    node_id=[0],\n",
       "    x=[0, 5],\n",
       "    n_id=[0]\n",
       "  },\n",
       "  \u001b[1m(student, takes, code)\u001b[0m={\n",
       "    edge_index=[2, 0],\n",
       "    e_id=[0]\n",
       "  }\n",
       ")"
      ]
     },
     "execution_count": 34,
     "metadata": {},
     "output_type": "execute_result"
    }
   ],
   "source": [
    "d"
   ]
  },
  {
   "cell_type": "code",
   "execution_count": 1,
   "metadata": {},
   "outputs": [],
   "source": [
    "import pandas as pd"
   ]
  },
  {
   "cell_type": "code",
   "execution_count": 2,
   "metadata": {},
   "outputs": [],
   "source": [
    "df = pd.read_csv('data/mindsteps_set_full.csv')"
   ]
  },
  {
   "cell_type": "code",
   "execution_count": 7,
   "metadata": {},
   "outputs": [
    {
     "data": {
      "text/plain": [
       "score\n",
       "1.0    22378592\n",
       "0.0    11388916\n",
       "Name: count, dtype: int64"
      ]
     },
     "execution_count": 7,
     "metadata": {},
     "output_type": "execute_result"
    }
   ],
   "source": [
    "df['score'].value_counts()"
   ]
  },
  {
   "cell_type": "code",
   "execution_count": null,
   "metadata": {},
   "outputs": [],
   "source": []
  }
 ],
 "metadata": {
  "kernelspec": {
   "display_name": "pyg",
   "language": "python",
   "name": "python3"
  },
  "language_info": {
   "codemirror_mode": {
    "name": "ipython",
    "version": 3
   },
   "file_extension": ".py",
   "mimetype": "text/x-python",
   "name": "python",
   "nbconvert_exporter": "python",
   "pygments_lexer": "ipython3",
   "version": "3.9.16"
  }
 },
 "nbformat": 4,
 "nbformat_minor": 2
}
