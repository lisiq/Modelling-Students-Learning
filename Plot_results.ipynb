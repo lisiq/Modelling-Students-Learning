{
 "cells": [
  {
   "cell_type": "code",
   "execution_count": 1,
   "metadata": {
    "tags": [
     "parameters"
    ]
   },
   "outputs": [],
   "source": [
    "DATASET = 'full'"
   ]
  },
  {
   "cell_type": "code",
   "execution_count": 2,
   "metadata": {},
   "outputs": [],
   "source": [
    "import sys\n",
    "import torch\n",
    "import torch.nn.functional as F\n",
    "from torch.nn import Linear\n",
    "import torch_geometric.transforms as T\n",
    "from torch_geometric.nn import to_hetero\n",
    "import pandas as pd\n",
    "import numpy as np\n",
    "import matplotlib.pyplot as plt\n",
    "from sklearn.linear_model import LogisticRegression\n",
    "from tqdm.notebook import tqdm\n",
    "import gc\n",
    "from sklearn.manifold import TSNE\n",
    "import seaborn as sns\n",
    "from cluster_utils import evaluate_items\n",
    "from vis_utils import (visualize_students, visualize_edges_age, visualize_edges, visualize_items, myresults, FIGSIZE,\n",
    "CLUSTER_LABELS, NPERMS, AGE_THR, DPI, CPU_Unpickler, plot_clustering)\n",
    "\n",
    "sns.set_theme(context='talk', style='white')\n",
    "\n",
    "OUTNAME = 'SAGE'\n",
    "FILENAME = f'{OUTNAME}_{DATASET}'\n",
    "EQUAL_AXES=False\n",
    "MINSAMPLES = 10\n",
    "RELOAD = False"
   ]
  },
  {
   "cell_type": "code",
   "execution_count": 3,
   "metadata": {},
   "outputs": [],
   "source": [
    "torch.cuda.empty_cache()\n",
    "device = torch.device('cuda' if torch.cuda.is_available() else 'cpu')\n",
    "model = torch.load(f'./results/{FILENAME}.pth.tar', map_location=torch.device('cpu'))\n",
    "#model = torch.load(f'./results/checkpoint.pth.tar')\n"
   ]
  },
  {
   "cell_type": "code",
   "execution_count": 4,
   "metadata": {},
   "outputs": [
    {
     "name": "stdout",
     "output_type": "stream",
     "text": [
      "(35087, 8)\n",
      "(35087, 10)\n"
     ]
    }
   ],
   "source": [
    "with open(f'./results/{FILENAME}_aux_data.pkl', 'rb') as handle:\n",
    "    aux_data = CPU_Unpickler(handle).load()\n",
    "    \n",
    "(df, df_student, df_item, df_edge, \n",
    "            train_losses, #test_losses, test_aucs,\n",
    "            train_edge_indices, val_edge_indices, test_edge_indices, \n",
    "            data, train_data, val_data, test_data,\n",
    "            unique_scales, unique_domains, unique_matdiff, \n",
    "            DATA_FILE) = aux_data\n",
    "print(df_item.shape)\n",
    "\n",
    "try:\n",
    "    # if IRT data exists, take item parameters\n",
    "    with open(f'./results/IRT_{DATASET}_aux_data_IRT1.pkl', 'rb') as handle:\n",
    "        aux_data = CPU_Unpickler(handle).load()\n",
    "\n",
    "    (_, _, df_item, *_) = aux_data\n",
    "except:\n",
    "    pass\n",
    "print(df_item.shape)"
   ]
  },
  {
   "cell_type": "code",
   "execution_count": 5,
   "metadata": {},
   "outputs": [
    {
     "data": {
      "text/html": [
       "<div>\n",
       "<style scoped>\n",
       "    .dataframe tbody tr th:only-of-type {\n",
       "        vertical-align: middle;\n",
       "    }\n",
       "\n",
       "    .dataframe tbody tr th {\n",
       "        vertical-align: top;\n",
       "    }\n",
       "\n",
       "    .dataframe thead th {\n",
       "        text-align: right;\n",
       "    }\n",
       "</style>\n",
       "<table border=\"1\" class=\"dataframe\">\n",
       "  <thead>\n",
       "    <tr style=\"text-align: right;\">\n",
       "      <th></th>\n",
       "      <th>scale</th>\n",
       "      <th>matrix</th>\n",
       "      <th>IRT_difficulty</th>\n",
       "      <th>matdiff</th>\n",
       "      <th>topic</th>\n",
       "      <th>responseformat</th>\n",
       "      <th>textlength</th>\n",
       "      <th>domain</th>\n",
       "      <th>IRT1_difficulty</th>\n",
       "      <th>IRT1_discrimination</th>\n",
       "    </tr>\n",
       "  </thead>\n",
       "  <tbody>\n",
       "    <tr>\n",
       "      <th>0</th>\n",
       "      <td>fhoe</td>\n",
       "      <td>F.1.A.1.c.1</td>\n",
       "      <td>-0.370330</td>\n",
       "      <td></td>\n",
       "      <td>Monologe und Dialoge</td>\n",
       "      <td>NaN</td>\n",
       "      <td>NaN</td>\n",
       "      <td>f</td>\n",
       "      <td>4.493976</td>\n",
       "      <td>1.282696</td>\n",
       "    </tr>\n",
       "    <tr>\n",
       "      <th>1</th>\n",
       "      <td>fhoe</td>\n",
       "      <td>F.1.A.1.c.1</td>\n",
       "      <td>-0.370330</td>\n",
       "      <td></td>\n",
       "      <td>Monologe und Dialoge</td>\n",
       "      <td>NaN</td>\n",
       "      <td>NaN</td>\n",
       "      <td>f</td>\n",
       "      <td>4.499678</td>\n",
       "      <td>-1.175209</td>\n",
       "    </tr>\n",
       "    <tr>\n",
       "      <th>2</th>\n",
       "      <td>fhoe</td>\n",
       "      <td>F.1.A.1.c.1</td>\n",
       "      <td>-0.370330</td>\n",
       "      <td></td>\n",
       "      <td>Monologe und Dialoge</td>\n",
       "      <td>NaN</td>\n",
       "      <td>NaN</td>\n",
       "      <td>f</td>\n",
       "      <td>4.619348</td>\n",
       "      <td>0.037622</td>\n",
       "    </tr>\n",
       "    <tr>\n",
       "      <th>3</th>\n",
       "      <td>fhoe</td>\n",
       "      <td>F.1.A.1.c.1</td>\n",
       "      <td>-0.370330</td>\n",
       "      <td></td>\n",
       "      <td>Monologe und Dialoge</td>\n",
       "      <td>NaN</td>\n",
       "      <td>NaN</td>\n",
       "      <td>f</td>\n",
       "      <td>3.899144</td>\n",
       "      <td>-0.535258</td>\n",
       "    </tr>\n",
       "    <tr>\n",
       "      <th>4</th>\n",
       "      <td>fles</td>\n",
       "      <td>F.2.A.1.b.3</td>\n",
       "      <td>-0.494880</td>\n",
       "      <td></td>\n",
       "      <td>Berichte</td>\n",
       "      <td>NaN</td>\n",
       "      <td>NaN</td>\n",
       "      <td>f</td>\n",
       "      <td>4.413169</td>\n",
       "      <td>-1.520244</td>\n",
       "    </tr>\n",
       "    <tr>\n",
       "      <th>...</th>\n",
       "      <td>...</td>\n",
       "      <td>...</td>\n",
       "      <td>...</td>\n",
       "      <td>...</td>\n",
       "      <td>...</td>\n",
       "      <td>...</td>\n",
       "      <td>...</td>\n",
       "      <td>...</td>\n",
       "      <td>...</td>\n",
       "      <td>...</td>\n",
       "    </tr>\n",
       "    <tr>\n",
       "      <th>11208104</th>\n",
       "      <td>esif</td>\n",
       "      <td>NaN</td>\n",
       "      <td>NaN</td>\n",
       "      <td></td>\n",
       "      <td>NaN</td>\n",
       "      <td>NaN</td>\n",
       "      <td>NaN</td>\n",
       "      <td>e</td>\n",
       "      <td>3.850175</td>\n",
       "      <td>5.165676</td>\n",
       "    </tr>\n",
       "    <tr>\n",
       "      <th>11208105</th>\n",
       "      <td>esif</td>\n",
       "      <td>NaN</td>\n",
       "      <td>NaN</td>\n",
       "      <td></td>\n",
       "      <td>NaN</td>\n",
       "      <td>NaN</td>\n",
       "      <td>NaN</td>\n",
       "      <td>e</td>\n",
       "      <td>4.738880</td>\n",
       "      <td>3.640941</td>\n",
       "    </tr>\n",
       "    <tr>\n",
       "      <th>11661701</th>\n",
       "      <td>mzuv</td>\n",
       "      <td>MA.1.A.2.c.1</td>\n",
       "      <td>-1.441187</td>\n",
       "      <td></td>\n",
       "      <td>Anzahlen</td>\n",
       "      <td>open</td>\n",
       "      <td>NaN</td>\n",
       "      <td>m</td>\n",
       "      <td>2.738985</td>\n",
       "      <td>1.354192</td>\n",
       "    </tr>\n",
       "    <tr>\n",
       "      <th>12448337</th>\n",
       "      <td>eles</td>\n",
       "      <td>NaN</td>\n",
       "      <td>NaN</td>\n",
       "      <td></td>\n",
       "      <td>NaN</td>\n",
       "      <td>NaN</td>\n",
       "      <td>NaN</td>\n",
       "      <td>e</td>\n",
       "      <td>3.084314</td>\n",
       "      <td>1.153537</td>\n",
       "    </tr>\n",
       "    <tr>\n",
       "      <th>13588303</th>\n",
       "      <td>mgfz</td>\n",
       "      <td>MA.3.C.3.d</td>\n",
       "      <td>-0.776495</td>\n",
       "      <td></td>\n",
       "      <td>Sachrechnen mit Anzahlen</td>\n",
       "      <td>single choice</td>\n",
       "      <td>NaN</td>\n",
       "      <td>m</td>\n",
       "      <td>1.906124</td>\n",
       "      <td>0.096968</td>\n",
       "    </tr>\n",
       "  </tbody>\n",
       "</table>\n",
       "<p>35087 rows × 10 columns</p>\n",
       "</div>"
      ],
      "text/plain": [
       "         scale        matrix  IRT_difficulty matdiff  \\\n",
       "0         fhoe   F.1.A.1.c.1       -0.370330           \n",
       "1         fhoe   F.1.A.1.c.1       -0.370330           \n",
       "2         fhoe   F.1.A.1.c.1       -0.370330           \n",
       "3         fhoe   F.1.A.1.c.1       -0.370330           \n",
       "4         fles   F.2.A.1.b.3       -0.494880           \n",
       "...        ...           ...             ...     ...   \n",
       "11208104  esif           NaN             NaN           \n",
       "11208105  esif           NaN             NaN           \n",
       "11661701  mzuv  MA.1.A.2.c.1       -1.441187           \n",
       "12448337  eles           NaN             NaN           \n",
       "13588303  mgfz    MA.3.C.3.d       -0.776495           \n",
       "\n",
       "                             topic responseformat  textlength domain  \\\n",
       "0             Monologe und Dialoge            NaN         NaN      f   \n",
       "1             Monologe und Dialoge            NaN         NaN      f   \n",
       "2             Monologe und Dialoge            NaN         NaN      f   \n",
       "3             Monologe und Dialoge            NaN         NaN      f   \n",
       "4                         Berichte            NaN         NaN      f   \n",
       "...                            ...            ...         ...    ...   \n",
       "11208104                       NaN            NaN         NaN      e   \n",
       "11208105                       NaN            NaN         NaN      e   \n",
       "11661701                  Anzahlen           open         NaN      m   \n",
       "12448337                       NaN            NaN         NaN      e   \n",
       "13588303  Sachrechnen mit Anzahlen  single choice         NaN      m   \n",
       "\n",
       "          IRT1_difficulty  IRT1_discrimination  \n",
       "0                4.493976             1.282696  \n",
       "1                4.499678            -1.175209  \n",
       "2                4.619348             0.037622  \n",
       "3                3.899144            -0.535258  \n",
       "4                4.413169            -1.520244  \n",
       "...                   ...                  ...  \n",
       "11208104         3.850175             5.165676  \n",
       "11208105         4.738880             3.640941  \n",
       "11661701         2.738985             1.354192  \n",
       "12448337         3.084314             1.153537  \n",
       "13588303         1.906124             0.096968  \n",
       "\n",
       "[35087 rows x 10 columns]"
      ]
     },
     "execution_count": 5,
     "metadata": {},
     "output_type": "execute_result"
    }
   ],
   "source": [
    "df_item"
   ]
  },
  {
   "cell_type": "code",
   "execution_count": 6,
   "metadata": {},
   "outputs": [],
   "source": [
    "if RELOAD:\n",
    "    df = load_data_heterogeneous(DATA_FILE)\n",
    "    data, df_student, df_item, df_edge = create_data_object_heterogeneous(df)"
   ]
  },
  {
   "cell_type": "code",
   "execution_count": 7,
   "metadata": {
    "scrolled": true
   },
   "outputs": [
    {
     "data": {
      "image/png": "[encoded data removed]",
      "text/plain": [
       "<Figure size 640x480 with 1 Axes>"
      ]
     },
     "metadata": {},
     "output_type": "display_data"
    },
    {
     "data": {
      "image/png": "[encoded data removed]",
      "text/plain": [
       "<Figure size 640x480 with 1 Axes>"
      ]
     },
     "metadata": {},
     "output_type": "display_data"
    }
   ],
   "source": [
    "%matplotlib inline\n",
    "age_ranges = df.groupby('studentId').age.apply(lambda x: x.max() - x.min())\n",
    "fig = plt.figure()\n",
    "age_ranges.plot.hist(bins=100)\n",
    "plt.show()\n",
    "\n",
    "fig = plt.figure()\n",
    "df.age.plot.hist(bins=100)\n",
    "age_ranges = df.groupby('studentId').age.apply(lambda x: x.max() - x.min())\n",
    "\n",
    "plt.show()"
   ]
  },
  {
   "cell_type": "code",
   "execution_count": 8,
   "metadata": {},
   "outputs": [
    {
     "data": {
      "text/plain": [
       "236.0"
      ]
     },
     "execution_count": 8,
     "metadata": {},
     "output_type": "execute_result"
    },
    {
     "data": {
      "image/png": "[encoded data removed]",
      "text/plain": [
       "<Figure size 640x480 with 1 Axes>"
      ]
     },
     "metadata": {},
     "output_type": "display_data"
    }
   ],
   "source": [
    "# different items per student\n",
    "df.groupby(['studentId']).code.nunique().hist(bins=100)\n",
    "df.groupby(['studentId']).code.nunique().median()"
   ]
  },
  {
   "cell_type": "code",
   "execution_count": 9,
   "metadata": {},
   "outputs": [
    {
     "data": {
      "text/plain": [
       "10.0"
      ]
     },
     "execution_count": 9,
     "metadata": {},
     "output_type": "execute_result"
    },
    {
     "data": {
      "image/png": "[encoded data removed]",
      "text/plain": [
       "<Figure size 640x480 with 1 Axes>"
      ]
     },
     "metadata": {},
     "output_type": "display_data"
    }
   ],
   "source": [
    "df.groupby(['assessmentId']).code.nunique().hist(bins=100)\n",
    "df.groupby(['assessmentId']).code.nunique().median()"
   ]
  },
  {
   "cell_type": "code",
   "execution_count": 10,
   "metadata": {},
   "outputs": [
    {
     "data": {
      "text/plain": [
       "1.2189035417825627"
      ]
     },
     "execution_count": 10,
     "metadata": {},
     "output_type": "execute_result"
    }
   ],
   "source": [
    "age_ranges.mean()"
   ]
  },
  {
   "cell_type": "code",
   "execution_count": 11,
   "metadata": {},
   "outputs": [
    {
     "data": {
      "image/png": "[encoded data removed]",
      "text/plain": [
       "<Figure size 640x480 with 1 Axes>"
      ]
     },
     "metadata": {},
     "output_type": "display_data"
    }
   ],
   "source": [
    "train_indices = np.arange(len(train_losses))\n",
    "fig = plt.figure()\n",
    "plt.plot(train_indices, train_losses, c='blue')\n",
    "plt.ylabel('Loss')\n",
    "plt.xlabel('Epoch')\n",
    "\n",
    "fig.tight_layout()\n",
    "plt.savefig(f'./vis/{FILENAME}_losses.png', dpi=DPI)"
   ]
  },
  {
   "cell_type": "code",
   "execution_count": 12,
   "metadata": {},
   "outputs": [
    {
     "data": {
      "text/html": [
       "<div>\n",
       "<style scoped>\n",
       "    .dataframe tbody tr th:only-of-type {\n",
       "        vertical-align: middle;\n",
       "    }\n",
       "\n",
       "    .dataframe tbody tr th {\n",
       "        vertical-align: top;\n",
       "    }\n",
       "\n",
       "    .dataframe thead th {\n",
       "        text-align: right;\n",
       "    }\n",
       "</style>\n",
       "<table border=\"1\" class=\"dataframe\">\n",
       "  <thead>\n",
       "    <tr style=\"text-align: right;\">\n",
       "      <th></th>\n",
       "      <th>studentId</th>\n",
       "      <th>code</th>\n",
       "      <th>motherTongue</th>\n",
       "      <th>Gender</th>\n",
       "      <th>scale</th>\n",
       "      <th>matrix</th>\n",
       "      <th>IRT_difficulty</th>\n",
       "      <th>topic</th>\n",
       "      <th>responseformat</th>\n",
       "      <th>textlength</th>\n",
       "      <th>...</th>\n",
       "      <th>timestamp</th>\n",
       "      <th>useCase</th>\n",
       "      <th>assessmentId</th>\n",
       "      <th>ability</th>\n",
       "      <th>frequency</th>\n",
       "      <th>previous_sessions</th>\n",
       "      <th>years_from_start</th>\n",
       "      <th>matdiff</th>\n",
       "      <th>matcode</th>\n",
       "      <th>domain</th>\n",
       "    </tr>\n",
       "  </thead>\n",
       "  <tbody>\n",
       "    <tr>\n",
       "      <th>0</th>\n",
       "      <td>0</td>\n",
       "      <td>0</td>\n",
       "      <td>1.0</td>\n",
       "      <td>0.0</td>\n",
       "      <td>fhoe</td>\n",
       "      <td>F.1.A.1.c.1</td>\n",
       "      <td>-0.37033</td>\n",
       "      <td>Monologe und Dialoge</td>\n",
       "      <td>NaN</td>\n",
       "      <td>NaN</td>\n",
       "      <td>...</td>\n",
       "      <td>7.830814e-312</td>\n",
       "      <td>ms-kber</td>\n",
       "      <td>85007E334A2C9F19ECA408647E6F97139649B1465E15EB...</td>\n",
       "      <td>1.083005</td>\n",
       "      <td>1.851849</td>\n",
       "      <td>2</td>\n",
       "      <td>1.08</td>\n",
       "      <td></td>\n",
       "      <td></td>\n",
       "      <td>f</td>\n",
       "    </tr>\n",
       "    <tr>\n",
       "      <th>1</th>\n",
       "      <td>0</td>\n",
       "      <td>1</td>\n",
       "      <td>1.0</td>\n",
       "      <td>0.0</td>\n",
       "      <td>fhoe</td>\n",
       "      <td>F.1.A.1.c.1</td>\n",
       "      <td>-0.37033</td>\n",
       "      <td>Monologe und Dialoge</td>\n",
       "      <td>NaN</td>\n",
       "      <td>NaN</td>\n",
       "      <td>...</td>\n",
       "      <td>7.830814e-312</td>\n",
       "      <td>ms-kber</td>\n",
       "      <td>85007E334A2C9F19ECA408647E6F97139649B1465E15EB...</td>\n",
       "      <td>1.083005</td>\n",
       "      <td>1.851849</td>\n",
       "      <td>2</td>\n",
       "      <td>1.08</td>\n",
       "      <td></td>\n",
       "      <td></td>\n",
       "      <td>f</td>\n",
       "    </tr>\n",
       "    <tr>\n",
       "      <th>2</th>\n",
       "      <td>0</td>\n",
       "      <td>2</td>\n",
       "      <td>1.0</td>\n",
       "      <td>0.0</td>\n",
       "      <td>fhoe</td>\n",
       "      <td>F.1.A.1.c.1</td>\n",
       "      <td>-0.37033</td>\n",
       "      <td>Monologe und Dialoge</td>\n",
       "      <td>NaN</td>\n",
       "      <td>NaN</td>\n",
       "      <td>...</td>\n",
       "      <td>7.830814e-312</td>\n",
       "      <td>ms-kber</td>\n",
       "      <td>85007E334A2C9F19ECA408647E6F97139649B1465E15EB...</td>\n",
       "      <td>1.083005</td>\n",
       "      <td>1.851849</td>\n",
       "      <td>2</td>\n",
       "      <td>1.08</td>\n",
       "      <td></td>\n",
       "      <td></td>\n",
       "      <td>f</td>\n",
       "    </tr>\n",
       "    <tr>\n",
       "      <th>3</th>\n",
       "      <td>0</td>\n",
       "      <td>3</td>\n",
       "      <td>1.0</td>\n",
       "      <td>0.0</td>\n",
       "      <td>fhoe</td>\n",
       "      <td>F.1.A.1.c.1</td>\n",
       "      <td>-0.37033</td>\n",
       "      <td>Monologe und Dialoge</td>\n",
       "      <td>NaN</td>\n",
       "      <td>NaN</td>\n",
       "      <td>...</td>\n",
       "      <td>7.830814e-312</td>\n",
       "      <td>ms-kber</td>\n",
       "      <td>85007E334A2C9F19ECA408647E6F97139649B1465E15EB...</td>\n",
       "      <td>1.083005</td>\n",
       "      <td>1.851849</td>\n",
       "      <td>2</td>\n",
       "      <td>1.08</td>\n",
       "      <td></td>\n",
       "      <td></td>\n",
       "      <td>f</td>\n",
       "    </tr>\n",
       "    <tr>\n",
       "      <th>4</th>\n",
       "      <td>0</td>\n",
       "      <td>4</td>\n",
       "      <td>1.0</td>\n",
       "      <td>0.0</td>\n",
       "      <td>fles</td>\n",
       "      <td>F.2.A.1.b.3</td>\n",
       "      <td>-0.49488</td>\n",
       "      <td>Berichte</td>\n",
       "      <td>NaN</td>\n",
       "      <td>NaN</td>\n",
       "      <td>...</td>\n",
       "      <td>7.833807e-312</td>\n",
       "      <td>ms-thema-auto</td>\n",
       "      <td>0D59C4843FFC39195EDE1DD140506CF3DF8BC6F132AAF5...</td>\n",
       "      <td>0.657010</td>\n",
       "      <td>2.727266</td>\n",
       "      <td>3</td>\n",
       "      <td>1.10</td>\n",
       "      <td></td>\n",
       "      <td></td>\n",
       "      <td>f</td>\n",
       "    </tr>\n",
       "  </tbody>\n",
       "</table>\n",
       "<p>5 rows × 24 columns</p>\n",
       "</div>"
      ],
      "text/plain": [
       "   studentId  code  motherTongue  Gender scale       matrix  IRT_difficulty  \\\n",
       "0          0     0           1.0     0.0  fhoe  F.1.A.1.c.1        -0.37033   \n",
       "1          0     1           1.0     0.0  fhoe  F.1.A.1.c.1        -0.37033   \n",
       "2          0     2           1.0     0.0  fhoe  F.1.A.1.c.1        -0.37033   \n",
       "3          0     3           1.0     0.0  fhoe  F.1.A.1.c.1        -0.37033   \n",
       "4          0     4           1.0     0.0  fles  F.2.A.1.b.3        -0.49488   \n",
       "\n",
       "                  topic responseformat  textlength  ...      timestamp  \\\n",
       "0  Monologe und Dialoge            NaN         NaN  ...  7.830814e-312   \n",
       "1  Monologe und Dialoge            NaN         NaN  ...  7.830814e-312   \n",
       "2  Monologe und Dialoge            NaN         NaN  ...  7.830814e-312   \n",
       "3  Monologe und Dialoge            NaN         NaN  ...  7.830814e-312   \n",
       "4              Berichte            NaN         NaN  ...  7.833807e-312   \n",
       "\n",
       "         useCase                                       assessmentId   ability  \\\n",
       "0        ms-kber  85007E334A2C9F19ECA408647E6F97139649B1465E15EB...  1.083005   \n",
       "1        ms-kber  85007E334A2C9F19ECA408647E6F97139649B1465E15EB...  1.083005   \n",
       "2        ms-kber  85007E334A2C9F19ECA408647E6F97139649B1465E15EB...  1.083005   \n",
       "3        ms-kber  85007E334A2C9F19ECA408647E6F97139649B1465E15EB...  1.083005   \n",
       "4  ms-thema-auto  0D59C4843FFC39195EDE1DD140506CF3DF8BC6F132AAF5...  0.657010   \n",
       "\n",
       "   frequency previous_sessions years_from_start  matdiff  matcode  domain  \n",
       "0   1.851849                 2             1.08                         f  \n",
       "1   1.851849                 2             1.08                         f  \n",
       "2   1.851849                 2             1.08                         f  \n",
       "3   1.851849                 2             1.08                         f  \n",
       "4   2.727266                 3             1.10                         f  \n",
       "\n",
       "[5 rows x 24 columns]"
      ]
     },
     "execution_count": 12,
     "metadata": {},
     "output_type": "execute_result"
    }
   ],
   "source": [
    "df.head()"
   ]
  },
  {
   "cell_type": "code",
   "execution_count": 13,
   "metadata": {},
   "outputs": [],
   "source": [
    "#np.sum(df.ability.isnull() == False)"
   ]
  },
  {
   "cell_type": "code",
   "execution_count": 14,
   "metadata": {},
   "outputs": [],
   "source": [
    "myresults.output_stats()"
   ]
  },
  {
   "cell_type": "code",
   "execution_count": 15,
   "metadata": {},
   "outputs": [],
   "source": [
    "#print(domain_train)\n",
    "#print(domain_train_rand)\n",
    "#print(domain_val)"
   ]
  },
  {
   "cell_type": "code",
   "execution_count": null,
   "metadata": {},
   "outputs": [],
   "source": [
    "scores_dict = {'CH': [], 'SH': [], 'DB':[]}\n",
    "distances_dict = {'within': [], 'between': []}\n",
    "\n",
    "for perm in range(NPERMS):\n",
    "    scores, within_domain, between_domain, mean_distances = evaluate_items(model, train_data, df_item, device, \n",
    "                                                                           shuffle=perm>0, \n",
    "                                                                           seed=0, \n",
    "                                                                           minsamples=MINSAMPLES)\n",
    "    [ scores_dict[key].append(scores[key]) for key in scores_dict]\n",
    "    distances_dict['within'].append(within_domain)\n",
    "    distances_dict['between'].append(between_domain)"
   ]
  },
  {
   "cell_type": "code",
   "execution_count": null,
   "metadata": {},
   "outputs": [],
   "source": [
    "distances_df = pd.DataFrame(distances_dict)\n",
    "distances_df['perm'] = distances_df.index\n",
    "#distances_df = pd.melt(distances_df, id_vars='perm', value_name='index', var_name='group')\n",
    "distances_df['random'] = 'Observed data'\n",
    "distances_df.loc[ distances_df['perm'] > 0, 'random'] = 'Shuffled data'\n",
    "distances_df['diff'] = distances_df['between'] - distances_df['within'] \n",
    "fig = plt.figure()\n",
    "ax = sns.barplot(data=distances_df, x='random', y='diff', errorbar='sd')\n",
    "ax.set(xlabel='', ylabel='Distance difference')\n",
    "fig.tight_layout()\n",
    "\n",
    "plt.savefig(f'./vis/{FILENAME}_bw.png', dpi=DPI)"
   ]
  },
  {
   "cell_type": "code",
   "execution_count": null,
   "metadata": {},
   "outputs": [],
   "source": [
    "#fig, axes = plt.subplots(1, 2, figsize=(16, 6))\n",
    "from matplotlib.category import UnitData\n",
    "\n",
    "for i, index in enumerate(['CH', 'DB']): #scores_dict\n",
    "    fig = plt.figure(figsize=(FIGSIZE))\n",
    "   \n",
    "    scores_df = pd.DataFrame(scores_dict[index])\n",
    "    scores_df['perm'] = scores_df.index\n",
    "    scores_df = pd.melt(scores_df, id_vars='perm', value_name='index', var_name='scale')\n",
    "    scores_df['random'] = 'Observed data'\n",
    "    scores_df.loc[ scores_df['perm'] > 0, 'random'] = 'Shuffled data'\n",
    "    #plt.figure()\n",
    "    scores_df['scale'] = pd.Categorical(scores_df['scale'], categories=np.sort(scores_df.scale.unique()))\n",
    "    axes = sns.barplot(data=scores_df, x='scale', y='index', hue='random', errorbar='sd')\n",
    "    axes.legend_.remove()\n",
    "    axes.set_xlabel('Competence Domain')\n",
    "    axes.set_ylabel('Cluster Validity Index Value')\n",
    "    axes.set_title(CLUSTER_LABELS[index])\n",
    "    axes.tick_params(axis='x', rotation=90)\n",
    "    fig.tight_layout()\n",
    "    plt.savefig(f'./vis/{FILENAME}_bw_random_{index}.png', dpi=DPI)\n",
    "    plt.close()"
   ]
  },
  {
   "cell_type": "code",
   "execution_count": null,
   "metadata": {},
   "outputs": [],
   "source": [
    "DIFFICULTY_BINS = 21\n",
    "df_item['IRT_difficulty_binned'] = pd.cut(df_item['IRT_difficulty'], DIFFICULTY_BINS).astype(str)\n",
    "df_item['scalexdifficulty'] = df_item.apply(lambda x: x.scale + ' ' + \n",
    "                                            x.IRT_difficulty_binned if x.IRT_difficulty_binned != 'nan' else pd.NA, axis=1)"
   ]
  },
  {
   "cell_type": "code",
   "execution_count": null,
   "metadata": {},
   "outputs": [],
   "source": [
    "plot_clustering('scalexdifficulty', 'topic', model, val_data, df_item, device, FILENAME, minsamples=MINSAMPLES)\n",
    "plot_clustering('scalexdifficulty', 'matrix', model, val_data, df_item, device, FILENAME, minsamples=MINSAMPLES)\n",
    "if DATASET in ['matrix', 'topic']:\n",
    "    sys.exit()"
   ]
  },
  {
   "cell_type": "code",
   "execution_count": null,
   "metadata": {
    "scrolled": true
   },
   "outputs": [],
   "source": [
    "visualize_items(model, train_data, device, df_item, FILENAME, equal_axes=EQUAL_AXES)"
   ]
  },
  {
   "cell_type": "code",
   "execution_count": null,
   "metadata": {},
   "outputs": [],
   "source": [
    "visualize_students(model, train_data, device, df_student, FILENAME, equal_axes=EQUAL_AXES)"
   ]
  },
  {
   "cell_type": "code",
   "execution_count": null,
   "metadata": {},
   "outputs": [],
   "source": [
    "#visualize_edges(model, train_data, train_edge_indices, device, df, FILENAME, \n",
    "#                equal_axes=EQUAL_AXES, with_lines=True, aggregate=True, AGE_THR=AGE_THR)"
   ]
  },
  {
   "cell_type": "code",
   "execution_count": null,
   "metadata": {},
   "outputs": [],
   "source": [
    "#visualize_edges(model, train_data, train_edge_indices, device, df, FILENAME, \n",
    "#                equal_axes=EQUAL_AXES, with_lines=False, aggregate=False, AGE_THR=AGE_THR)"
   ]
  },
  {
   "cell_type": "markdown",
   "metadata": {},
   "source": [
    "%matplotlib inline \n",
    "EQUAL_AXES = False\n",
    "ALPHA = 0.6\n",
    "FIGSIZE2 = (12, 6)\n",
    "\n",
    "visualize_edges_age(model, train_data, train_edge_indices, device, df, OUTNAME , equal_axes=EQUAL_AXES, \n",
    "                             age_window=(8, 11), aggregate=True, hue_label='motherTongue', with_lines=True, save=False)        \n",
    "\n",
    "visualize_edges_age(model, train_data, train_edge_indices, device, df, OUTNAME, equal_axes=EQUAL_AXES, \n",
    "                             age_window=(8, 13), aggregate=True, hue_label='age', with_lines=True, save=False)        \n",
    "\n",
    "visualize_edges_age(model, train_data, train_edge_indices, device, df, OUTNAME, equal_axes=EQUAL_AXES, \n",
    "                             age_window=(11, 18), aggregate=True, hue_label='age', with_lines=True, save=False)"
   ]
  }
 ],
 "metadata": {
  "celltoolbar": "Tags",
  "kernelspec": {
   "display_name": "Python 3 (ipykernel)",
   "language": "python",
   "name": "python3"
  },
  "language_info": {
   "codemirror_mode": {
    "name": "ipython",
    "version": 3
   },
   "file_extension": ".py",
   "mimetype": "text/x-python",
   "name": "python",
   "nbconvert_exporter": "python",
   "pygments_lexer": "ipython3",
   "version": "3.8.13"
  },
  "vscode": {
   "interpreter": {
    "hash": "88516cc94b965045253aac22be7e673e07faa374a8dfeab45aefc65ddf94d8b2"
   }
  }
 },
 "nbformat": 4,
 "nbformat_minor": 2
}
