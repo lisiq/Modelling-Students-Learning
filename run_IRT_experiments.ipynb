{
 "cells": [
  {
   "cell_type": "code",
   "execution_count": null,
   "id": "28b06fe4",
   "metadata": {},
   "outputs": [],
   "source": [
    "\n",
    "import os\n",
    "os.environ['OPENBLAS_NUM_THREADS'] = '1'\n",
    "\n",
    "from manage_experiments import *\n",
    "from itertools import product\n",
    "import torch\n",
    "import pandas as pd\n",
    "import numpy as np\n",
    "from tqdm import tqdm\n",
    "import glob\n",
    "CLEAN = True\n",
    "\n",
    "parameters = {\n",
    "    'df_name': None,\n",
    "    'epochs': 10000,\n",
    "    'learning_rate': 0.005,\n",
    "    'weight_decay': 0,\n",
    "    'early_stopping': 200,\n",
    "    'n_splits': 5,\n",
    "    'device': 'cuda:0',\n",
    "    'batch_size': 1024\n",
    "    }\n",
    "\n",
    "parameters['model_type'] = 'IRT'\n",
    "IRT_DIMS = [1, 3, 5]\n",
    "lambda1s = [0, 0.001, 0.005] \n",
    "lambda2s = [0, 0.001, 0.005] \n",
    "\n",
    "df_names = ['mindsteps_set_full']\n",
    "#df_names = ['mindsteps_set_test_matrix']\n",
    "\n",
    "repeat_experiment = 1\n",
    "n_parallel = 1\n",
    "fold = 'results/'\n",
    "\n",
    "if CLEAN:\n",
    "    for file_path in glob.glob(fold + '*results'):    \n",
    "        os.remove(file_path)\n",
    "    \n",
    "for df_name, dim, l1, l2 in product(df_names, IRT_DIMS, lambda1s, lambda2s):\n",
    "    parameters['df_name'] = df_name\n",
    "    parameters['hidden_dims'] = dim\n",
    "    parameters['lambda1'] = l1\n",
    "    parameters['lambda2'] = l2\n",
    "    create_tasks(\n",
    "        parameters,\n",
    "        repeat_experiment = repeat_experiment,\n",
    "        folder = fold\n",
    "    )\n",
    "\n",
    "list_unfinished = find_unfinished(fold)\n",
    "for filename in list_unfinished:\n",
    "    perform_experiment(filename)\n"
   ]
  }
 ],
 "metadata": {
  "kernelspec": {
   "display_name": "Python 3 (ipykernel)",
   "language": "python",
   "name": "python3"
  },
  "language_info": {
   "codemirror_mode": {
    "name": "ipython",
    "version": 3
   },
   "file_extension": ".py",
   "mimetype": "text/x-python",
   "name": "python",
   "nbconvert_exporter": "python",
   "pygments_lexer": "ipython3",
   "version": "3.8.13"
  }
 },
 "nbformat": 4,
 "nbformat_minor": 5
}
